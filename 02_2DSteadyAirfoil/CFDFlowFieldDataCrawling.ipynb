{
 "cells": [
  {
   "cell_type": "code",
   "execution_count": 1,
   "id": "9f3293c2",
   "metadata": {},
   "outputs": [],
   "source": [
    "import os, sys\n",
    "from os import path\n",
    "import numpy as np\n",
    "import pandas as pd\n",
    "import shutil\n",
    "from distutils.dir_util import copy_tree\n",
    "import string"
   ]
  },
  {
   "cell_type": "code",
   "execution_count": 2,
   "id": "e32aacfa",
   "metadata": {},
   "outputs": [],
   "source": [
    "os.chdir(\"C:\\\\Users\\\\cfdML\\\\Documents\")"
   ]
  },
  {
   "cell_type": "code",
   "execution_count": 3,
   "id": "6c1fa74d",
   "metadata": {},
   "outputs": [],
   "source": [
    "if not path.isdir(\"AirfoilClCdCoordinates\"):\n",
    "    os.makedirs(\"AirfoilClCdCoordinates\")"
   ]
  },
  {
   "cell_type": "code",
   "execution_count": 4,
   "id": "4a56b239",
   "metadata": {},
   "outputs": [],
   "source": [
    "origin = \"D:\\\\airfoilFluent\"\n",
    "origin_data = \"D:\\\\airfoilFluent\\\\airfoilSimulations\"\n",
    "origin_coord = \"D:\\\\airfoilFluent\\\\airfoilCoordinates\"\n",
    "copy = \"C:\\\\Users\\\\cfdML\\\\Documents\\\\AirfoilClCdCoordinates\""
   ]
  },
  {
   "cell_type": "code",
   "execution_count": 5,
   "id": "de3a4ba7",
   "metadata": {},
   "outputs": [],
   "source": [
    "folders = os.listdir(origin_data)"
   ]
  },
  {
   "cell_type": "code",
   "execution_count": 11,
   "id": "871f5d80",
   "metadata": {},
   "outputs": [
    {
     "data": {
      "text/plain": [
       "['NACA642015a',\n",
       " 'NACA64206',\n",
       " 'NACA64208',\n",
       " 'NACA64209',\n",
       " 'NACA64210',\n",
       " 'NACA642215',\n",
       " 'NACA642415',\n",
       " 'NACA643218',\n",
       " 'NACA643418',\n",
       " 'NACA643618',\n",
       " 'NACA644221',\n",
       " 'NACA644421',\n",
       " 'NACA64a010',\n",
       " 'NACA64a210',\n",
       " 'NACA64a410',\n",
       " 'NACA651212',\n",
       " 'NACA651212a06',\n",
       " 'NACA651412',\n",
       " 'NACA65206',\n",
       " 'NACA65209',\n",
       " 'NACA65210',\n",
       " 'NACA652215',\n",
       " 'NACA652415',\n",
       " 'NACA652415a5',\n",
       " 'NACA653218',\n",
       " 'NACA653618',\n",
       " 'NACA65410',\n",
       " 'NACA654421',\n",
       " 'NACA654421a05',\n",
       " 'NACA66018',\n",
       " 'NACA661212',\n",
       " 'NACA66206',\n",
       " 'NACA66210',\n",
       " 'NACA662215',\n",
       " 'NACA662415',\n",
       " 'NACA663218',\n",
       " 'NACA663418',\n",
       " 'NACA664021',\n",
       " 'NACA664221',\n",
       " 'NACA671215',\n",
       " 'NACA747a415',\n",
       " 'RAE100',\n",
       " 'RAE101',\n",
       " 'RAE102',\n",
       " 'RAE103',\n",
       " 'RAE104',\n",
       " 'RAE2822',\n",
       " 'RAE5212',\n",
       " 'RAE5214',\n",
       " 'RAE69CK',\n",
       " 'RAF19',\n",
       " 'RAF26',\n",
       " 'RAF28',\n",
       " 'RAF31',\n",
       " 'RAF32',\n",
       " 'RAF33',\n",
       " 'RAF34',\n",
       " 'RAF38',\n",
       " 'RAF48',\n",
       " 'RAF6',\n",
       " 'RAF69']"
      ]
     },
     "execution_count": 11,
     "metadata": {},
     "output_type": "execute_result"
    }
   ],
   "source": [
    "folders[72:]"
   ]
  },
  {
   "cell_type": "code",
   "execution_count": 6,
   "id": "f8d823a3",
   "metadata": {},
   "outputs": [],
   "source": [
    "airfoil_list_name = []\n",
    "airfoil_list_index = []"
   ]
  },
  {
   "cell_type": "code",
   "execution_count": 7,
   "id": "6af949be",
   "metadata": {},
   "outputs": [],
   "source": [
    "counter = 1 # Numbering of the airfoils (initial value)"
   ]
  },
  {
   "cell_type": "code",
   "execution_count": 8,
   "id": "ecdb49f0",
   "metadata": {},
   "outputs": [
    {
     "ename": "FileNotFoundError",
     "evalue": "[Errno 2] No such file or directory: 'D:\\\\airfoilFluent\\\\airfoilSimulations\\\\NACA642015a\\\\NACA642015a_files\\\\user_files\\\\NACA642015aalpha2.csv'",
     "output_type": "error",
     "traceback": [
      "\u001b[1;31m---------------------------------------------------------------------------\u001b[0m",
      "\u001b[1;31mFileNotFoundError\u001b[0m                         Traceback (most recent call last)",
      "Input \u001b[1;32mIn [8]\u001b[0m, in \u001b[0;36m<cell line: 1>\u001b[1;34m()\u001b[0m\n\u001b[0;32m     23\u001b[0m     file_out_list \u001b[38;5;241m=\u001b[39m [file \u001b[38;5;28;01mfor\u001b[39;00m file \u001b[38;5;129;01min\u001b[39;00m file_list \u001b[38;5;28;01mif\u001b[39;00m file\u001b[38;5;241m.\u001b[39mendswith(\u001b[38;5;124m'\u001b[39m\u001b[38;5;124m.csv\u001b[39m\u001b[38;5;124m'\u001b[39m)]\n\u001b[0;32m     25\u001b[0m     \u001b[38;5;28;01mif\u001b[39;00m \u001b[38;5;129;01mnot\u001b[39;00m path\u001b[38;5;241m.\u001b[39mexists(copy_folderAirfoilName\u001b[38;5;241m+\u001b[39m\u001b[38;5;124m\"\u001b[39m\u001b[38;5;130;01m\\\\\u001b[39;00m\u001b[38;5;124m\"\u001b[39m \u001b[38;5;241m+\u001b[39m \u001b[38;5;28mstr\u001b[39m(i) \u001b[38;5;241m+\u001b[39m \u001b[38;5;124m\"\u001b[39m\u001b[38;5;124malpha\u001b[39m\u001b[38;5;124m\"\u001b[39m \u001b[38;5;241m+\u001b[39m \u001b[38;5;28mstr\u001b[39m(alpha) \u001b[38;5;241m+\u001b[39m \u001b[38;5;124m\"\u001b[39m\u001b[38;5;124m.csv\u001b[39m\u001b[38;5;124m\"\u001b[39m):\n\u001b[1;32m---> 26\u001b[0m         \u001b[43mshutil\u001b[49m\u001b[38;5;241;43m.\u001b[39;49m\u001b[43mcopy2\u001b[49m\u001b[43m(\u001b[49m\u001b[43morigin_data\u001b[49m\u001b[38;5;241;43m+\u001b[39;49m\u001b[38;5;124;43m\"\u001b[39;49m\u001b[38;5;130;43;01m\\\\\u001b[39;49;00m\u001b[38;5;124;43m\"\u001b[39;49m\u001b[38;5;241;43m+\u001b[39;49m\u001b[38;5;28;43mstr\u001b[39;49m\u001b[43m(\u001b[49m\u001b[43mi\u001b[49m\u001b[43m)\u001b[49m\u001b[38;5;241;43m+\u001b[39;49m\u001b[38;5;124;43m\"\u001b[39;49m\u001b[38;5;130;43;01m\\\\\u001b[39;49;00m\u001b[38;5;124;43m\"\u001b[39;49m\u001b[38;5;241;43m+\u001b[39;49m\u001b[38;5;28;43mstr\u001b[39;49m\u001b[43m(\u001b[49m\u001b[43mi\u001b[49m\u001b[43m)\u001b[49m\u001b[38;5;241;43m+\u001b[39;49m\u001b[38;5;124;43m\"\u001b[39;49m\u001b[38;5;124;43m_files\u001b[39;49m\u001b[38;5;130;43;01m\\\\\u001b[39;49;00m\u001b[38;5;124;43muser_files\u001b[39;49m\u001b[38;5;130;43;01m\\\\\u001b[39;49;00m\u001b[38;5;124;43m\"\u001b[39;49m\u001b[43m \u001b[49m\u001b[38;5;241;43m+\u001b[39;49m\u001b[43m \u001b[49m\u001b[38;5;28;43mstr\u001b[39;49m\u001b[43m(\u001b[49m\u001b[43mi\u001b[49m\u001b[43m)\u001b[49m\u001b[43m \u001b[49m\u001b[38;5;241;43m+\u001b[39;49m\u001b[43m \u001b[49m\u001b[38;5;124;43m\"\u001b[39;49m\u001b[38;5;124;43malpha\u001b[39;49m\u001b[38;5;124;43m\"\u001b[39;49m\u001b[43m \u001b[49m\u001b[38;5;241;43m+\u001b[39;49m\u001b[43m \u001b[49m\u001b[38;5;28;43mstr\u001b[39;49m\u001b[43m(\u001b[49m\u001b[43malpha\u001b[49m\u001b[43m)\u001b[49m\u001b[43m \u001b[49m\u001b[38;5;241;43m+\u001b[39;49m\u001b[43m \u001b[49m\u001b[38;5;124;43m\"\u001b[39;49m\u001b[38;5;124;43m.csv\u001b[39;49m\u001b[38;5;124;43m\"\u001b[39;49m\u001b[43m,\u001b[49m\n\u001b[0;32m     27\u001b[0m \u001b[43m                     \u001b[49m\u001b[43mcopy_folderAirfoilName\u001b[49m\u001b[38;5;241;43m+\u001b[39;49m\u001b[38;5;124;43m\"\u001b[39;49m\u001b[38;5;130;43;01m\\\\\u001b[39;49;00m\u001b[38;5;124;43m\"\u001b[39;49m\u001b[43m \u001b[49m\u001b[38;5;241;43m+\u001b[39;49m\u001b[43m \u001b[49m\u001b[38;5;28;43mstr\u001b[39;49m\u001b[43m(\u001b[49m\u001b[43mi\u001b[49m\u001b[43m)\u001b[49m\u001b[43m \u001b[49m\u001b[38;5;241;43m+\u001b[39;49m\u001b[43m \u001b[49m\u001b[38;5;124;43m\"\u001b[39;49m\u001b[38;5;124;43malpha\u001b[39;49m\u001b[38;5;124;43m\"\u001b[39;49m\u001b[43m \u001b[49m\u001b[38;5;241;43m+\u001b[39;49m\u001b[43m \u001b[49m\u001b[38;5;28;43mstr\u001b[39;49m\u001b[43m(\u001b[49m\u001b[43malpha\u001b[49m\u001b[43m)\u001b[49m\u001b[43m \u001b[49m\u001b[38;5;241;43m+\u001b[39;49m\u001b[43m \u001b[49m\u001b[38;5;124;43m\"\u001b[39;49m\u001b[38;5;124;43m.csv\u001b[39;49m\u001b[38;5;124;43m\"\u001b[39;49m\u001b[43m)\u001b[49m\n\u001b[0;32m     29\u001b[0m \u001b[38;5;66;03m# Write in airfoil list\u001b[39;00m\n\u001b[0;32m     30\u001b[0m airfoil_list_index\u001b[38;5;241m.\u001b[39mappend(\u001b[38;5;124m\"\u001b[39m\u001b[38;5;124mairfoil\u001b[39m\u001b[38;5;124m\"\u001b[39m \u001b[38;5;241m+\u001b[39m \u001b[38;5;28mstr\u001b[39m(counter)) \u001b[38;5;66;03m# airfoil numbering\u001b[39;00m\n",
      "File \u001b[1;32m~\\anaconda3\\lib\\shutil.py:444\u001b[0m, in \u001b[0;36mcopy2\u001b[1;34m(src, dst, follow_symlinks)\u001b[0m\n\u001b[0;32m    442\u001b[0m \u001b[38;5;28;01mif\u001b[39;00m os\u001b[38;5;241m.\u001b[39mpath\u001b[38;5;241m.\u001b[39misdir(dst):\n\u001b[0;32m    443\u001b[0m     dst \u001b[38;5;241m=\u001b[39m os\u001b[38;5;241m.\u001b[39mpath\u001b[38;5;241m.\u001b[39mjoin(dst, os\u001b[38;5;241m.\u001b[39mpath\u001b[38;5;241m.\u001b[39mbasename(src))\n\u001b[1;32m--> 444\u001b[0m \u001b[43mcopyfile\u001b[49m\u001b[43m(\u001b[49m\u001b[43msrc\u001b[49m\u001b[43m,\u001b[49m\u001b[43m \u001b[49m\u001b[43mdst\u001b[49m\u001b[43m,\u001b[49m\u001b[43m \u001b[49m\u001b[43mfollow_symlinks\u001b[49m\u001b[38;5;241;43m=\u001b[39;49m\u001b[43mfollow_symlinks\u001b[49m\u001b[43m)\u001b[49m\n\u001b[0;32m    445\u001b[0m copystat(src, dst, follow_symlinks\u001b[38;5;241m=\u001b[39mfollow_symlinks)\n\u001b[0;32m    446\u001b[0m \u001b[38;5;28;01mreturn\u001b[39;00m dst\n",
      "File \u001b[1;32m~\\anaconda3\\lib\\shutil.py:264\u001b[0m, in \u001b[0;36mcopyfile\u001b[1;34m(src, dst, follow_symlinks)\u001b[0m\n\u001b[0;32m    262\u001b[0m     os\u001b[38;5;241m.\u001b[39msymlink(os\u001b[38;5;241m.\u001b[39mreadlink(src), dst)\n\u001b[0;32m    263\u001b[0m \u001b[38;5;28;01melse\u001b[39;00m:\n\u001b[1;32m--> 264\u001b[0m     \u001b[38;5;28;01mwith\u001b[39;00m \u001b[38;5;28;43mopen\u001b[39;49m\u001b[43m(\u001b[49m\u001b[43msrc\u001b[49m\u001b[43m,\u001b[49m\u001b[43m \u001b[49m\u001b[38;5;124;43m'\u001b[39;49m\u001b[38;5;124;43mrb\u001b[39;49m\u001b[38;5;124;43m'\u001b[39;49m\u001b[43m)\u001b[49m \u001b[38;5;28;01mas\u001b[39;00m fsrc:\n\u001b[0;32m    265\u001b[0m         \u001b[38;5;28;01mtry\u001b[39;00m:\n\u001b[0;32m    266\u001b[0m             \u001b[38;5;28;01mwith\u001b[39;00m \u001b[38;5;28mopen\u001b[39m(dst, \u001b[38;5;124m'\u001b[39m\u001b[38;5;124mwb\u001b[39m\u001b[38;5;124m'\u001b[39m) \u001b[38;5;28;01mas\u001b[39;00m fdst:\n\u001b[0;32m    267\u001b[0m                 \u001b[38;5;66;03m# macOS\u001b[39;00m\n",
      "\u001b[1;31mFileNotFoundError\u001b[0m: [Errno 2] No such file or directory: 'D:\\\\airfoilFluent\\\\airfoilSimulations\\\\NACA642015a\\\\NACA642015a_files\\\\user_files\\\\NACA642015aalpha2.csv'"
     ]
    }
   ],
   "source": [
    "for i in folders[72:]:\n",
    "    os.chdir(copy)\n",
    "    copy_folderAirfoilName = copy + \"\\\\airfoil\" + str(counter) # the name of the airfoil in current iteration\n",
    "    \n",
    "    if not path.isdir(copy_folderAirfoilName): # Making folder for each airfoils\n",
    "        os.makedirs(copy_folderAirfoilName)\n",
    "    \n",
    "    # Making folders for each angle of attack (total 16ea.)\n",
    "    for j in range(0, 16):\n",
    "        os.chdir(copy_folderAirfoilName)\n",
    "        if j<=10:\n",
    "            alpha = 2*j\n",
    "        else:\n",
    "            alpha = -2*j+20\n",
    "        if not path.exists(str(alpha)):\n",
    "            os.makedirs(str(alpha))\n",
    "        \n",
    "        # Copying flow field data of each airfoils\n",
    "        os.chdir(origin_data+\"\\\\\"+str(i)+\"\\\\\"+str(i)+\"_files\\\\user_files\")\n",
    "        \n",
    "        ## List of .out files in the current folder\n",
    "        file_list = os.listdir()\n",
    "        file_out_list = [file for file in file_list if file.endswith('.csv')]\n",
    "        \n",
    "        if not path.exists(copy_folderAirfoilName+\"\\\\\" + str(i) + \"alpha\" + str(alpha) + \".csv\"):\n",
    "            shutil.copy2(origin_data+\"\\\\\"+str(i)+\"\\\\\"+str(i)+\"_files\\\\user_files\\\\\" + str(i) + \"alpha\" + str(alpha) + \".csv\",\n",
    "                         copy_folderAirfoilName+\"\\\\\" + str(i) + \"alpha\" + str(alpha) + \".csv\")\n",
    "    \n",
    "    # Write in airfoil list\n",
    "    airfoil_list_index.append(\"airfoil\" + str(counter)) # airfoil numbering\n",
    "    airfoil_list_name.append(str(i)) # the name of the airfoil\n",
    "\n",
    "    counter += 1 \n",
    "\n",
    "#airfoil_index = np.array(airfoil_list_index).reshape((-1,1))\n",
    "#airfoil_name = np.array(airfoil_list_name).reshape((-1,1))\n",
    "'''airfoil_lists = pd.DataFrame()\n",
    "airfoil_lists['Index'] = airfoil_list_index\n",
    "airfoil_lists['Name'] = airfoil_list_name\n",
    "os.chdir(copy)\n",
    "airfoil_lists.to_excel(\"AirfoilIndexList.xlsx\", index=False)'''"
   ]
  }
 ],
 "metadata": {
  "kernelspec": {
   "display_name": "Python 3 (ipykernel)",
   "language": "python",
   "name": "python3"
  },
  "language_info": {
   "codemirror_mode": {
    "name": "ipython",
    "version": 3
   },
   "file_extension": ".py",
   "mimetype": "text/x-python",
   "name": "python",
   "nbconvert_exporter": "python",
   "pygments_lexer": "ipython3",
   "version": "3.9.13"
  }
 },
 "nbformat": 4,
 "nbformat_minor": 5
}
