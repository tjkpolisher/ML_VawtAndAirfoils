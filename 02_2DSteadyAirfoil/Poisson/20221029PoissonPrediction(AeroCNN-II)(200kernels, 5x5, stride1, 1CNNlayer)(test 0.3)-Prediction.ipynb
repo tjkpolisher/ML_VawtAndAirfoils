{
 "cells": [
  {
   "cell_type": "code",
   "execution_count": 1,
   "id": "5bc91fac",
   "metadata": {},
   "outputs": [],
   "source": [
    "# AeroCNN-II\n",
    "import os\n",
    "import sys\n",
    "import numpy as np\n",
    "import pandas as pd\n",
    "import tensorflow as tf\n",
    "import matplotlib.pyplot as plt\n",
    "from sklearn.model_selection import train_test_split\n",
    "from sklearn.impute import SimpleImputer\n",
    "\n",
    "import datetime\n",
    "%matplotlib inline"
   ]
  },
  {
   "cell_type": "code",
   "execution_count": 2,
   "id": "d1130c26",
   "metadata": {},
   "outputs": [],
   "source": [
    "n_kernel=100\n",
    "l2Regularizer=1e-09\n",
    "kernel_size1 = 3\n",
    "kernel_size2 = 3\n",
    "#kernel_size3 = 5\n",
    "n_grid = 100\n",
    "strides1 = 1\n",
    "strides2 = 2\n",
    "lr=5e-04\n",
    "batch_size=20"
   ]
  },
  {
   "cell_type": "code",
   "execution_count": 3,
   "id": "62d7f718",
   "metadata": {},
   "outputs": [],
   "source": [
    "alpha = np.linspace(-10,20,16).reshape((16,1))"
   ]
  },
  {
   "cell_type": "code",
   "execution_count": 4,
   "id": "73f0eda8",
   "metadata": {},
   "outputs": [],
   "source": [
    "aa = np.zeros((16*133,1))\n",
    "for i in range(0, 133):\n",
    "    aa[16*i:16*(i+1), :] = alpha[:,:]"
   ]
  },
  {
   "cell_type": "code",
   "execution_count": 5,
   "id": "e191fab9",
   "metadata": {},
   "outputs": [],
   "source": [
    "aa = aa.reshape((133, 16, 1, 1))"
   ]
  },
  {
   "cell_type": "code",
   "execution_count": 6,
   "id": "08ba4646",
   "metadata": {},
   "outputs": [],
   "source": [
    "os.chdir('D:\\\\AeroCNN2Inputs')"
   ]
  },
  {
   "cell_type": "code",
   "execution_count": 7,
   "id": "6a5737c2",
   "metadata": {},
   "outputs": [],
   "source": [
    "origin = \"D:\\\\AeroCNN2Inputs2\"\n",
    "origin_data = \"D:\\\\AirfoilClCdCoordinates_out\\\\AirfoilClCdCoordinates_out\"\n",
    "origin_poisson = \"D:\\\\CNN_poisson_files\\\\poisson\\\\bc2\""
   ]
  },
  {
   "cell_type": "code",
   "execution_count": 8,
   "id": "57a9cee3",
   "metadata": {},
   "outputs": [],
   "source": [
    "folders_orig = os.listdir(origin)\n",
    "folders = [file for file in folders_orig if file.endswith('.csv')]"
   ]
  },
  {
   "cell_type": "code",
   "execution_count": 9,
   "id": "3c16d796",
   "metadata": {},
   "outputs": [],
   "source": [
    "image_df = pd.DataFrame()\n",
    "for i in range(1, 134):\n",
    "    for j in range(0, alpha.shape[0]):\n",
    "        csv_file_name = origin + '\\\\airfoil' + str(i) + \"_alpha\"+ str(int(alpha[j])) + \".csv\"\n",
    "        data = pd.read_csv(csv_file_name, header=None)\n",
    "        image_df = pd.concat([image_df, data])"
   ]
  },
  {
   "cell_type": "code",
   "execution_count": 10,
   "id": "fa448a30",
   "metadata": {},
   "outputs": [],
   "source": [
    "image_np = image_df.iloc[:, :].values"
   ]
  },
  {
   "cell_type": "code",
   "execution_count": 11,
   "id": "ba6d479a",
   "metadata": {},
   "outputs": [],
   "source": [
    "image = image_np.reshape((133, 16, n_grid, n_grid))"
   ]
  },
  {
   "cell_type": "code",
   "execution_count": 12,
   "id": "438d1b60",
   "metadata": {},
   "outputs": [],
   "source": [
    "image = 1-image/100"
   ]
  },
  {
   "cell_type": "code",
   "execution_count": 13,
   "id": "48d6b395",
   "metadata": {},
   "outputs": [],
   "source": [
    "# Laplace/Poisson field\n",
    "field_df = pd.DataFrame()\n",
    "for i in range(1, 134):\n",
    "    for j in range(0, alpha.shape[0]):\n",
    "        csv_file_name = origin_poisson + '\\\\airfoil' + str(i) + \"_alpha\"+ str(int(alpha[j])) + \".csv\"\n",
    "        data = pd.read_csv(csv_file_name, header=None)\n",
    "        field_df = pd.concat([field_df, data], axis=0)"
   ]
  },
  {
   "cell_type": "code",
   "execution_count": 14,
   "id": "89bf6d9f",
   "metadata": {},
   "outputs": [],
   "source": [
    "field_np = field_df.iloc[:, :].values"
   ]
  },
  {
   "cell_type": "code",
   "execution_count": 15,
   "id": "f2e22184",
   "metadata": {},
   "outputs": [],
   "source": [
    "imr = SimpleImputer(missing_values=np.nan, strategy='mean')\n",
    "imr = imr.fit(field_np)\n",
    "imputed_field = imr.transform(field_np)"
   ]
  },
  {
   "cell_type": "code",
   "execution_count": 16,
   "id": "5c4dc4c6",
   "metadata": {},
   "outputs": [],
   "source": [
    "field = imputed_field.reshape((133, 16, n_grid, n_grid))"
   ]
  },
  {
   "cell_type": "code",
   "execution_count": 17,
   "id": "c362c89c",
   "metadata": {},
   "outputs": [],
   "source": [
    "field_nor = (field-np.min(field))/(np.max(field)-np.min(field))"
   ]
  },
  {
   "cell_type": "code",
   "execution_count": 18,
   "id": "fb0bd522",
   "metadata": {},
   "outputs": [],
   "source": [
    "file_name = origin_data + \"\\\\AirfoilIndexList.xlsx\"\n",
    "airfoilName_df = pd.read_excel(file_name)\n",
    "geometry_orig = airfoilName_df.iloc[:, 1].values"
   ]
  },
  {
   "cell_type": "code",
   "execution_count": 19,
   "id": "bb3458bf",
   "metadata": {},
   "outputs": [],
   "source": [
    "geometry = np.zeros((133*16,1))\n",
    "geometry = geometry.astype(np.string_)\n",
    "for i in geometry_orig:\n",
    "    index_ = np.where(geometry_orig==i)\n",
    "    for j in range(0,16):\n",
    "        geometry[16*index_[0]+j,:] = np.asarray(i)"
   ]
  },
  {
   "cell_type": "code",
   "execution_count": 20,
   "id": "8a65b459",
   "metadata": {},
   "outputs": [],
   "source": [
    "geometry = geometry.reshape((133, 16, 1))"
   ]
  },
  {
   "cell_type": "code",
   "execution_count": 21,
   "id": "ec562b02",
   "metadata": {},
   "outputs": [],
   "source": [
    "x_train, x_test, aa_train, aa_test, geo_train, geo_test, y_train, y_test = train_test_split(image, aa, geometry, field_nor, test_size=0.3, random_state=1)"
   ]
  },
  {
   "cell_type": "code",
   "execution_count": 22,
   "id": "83fbc0c9",
   "metadata": {},
   "outputs": [
    {
     "data": {
      "text/plain": [
       "1.0"
      ]
     },
     "execution_count": 22,
     "metadata": {},
     "output_type": "execute_result"
    }
   ],
   "source": [
    "np.max(field_nor)"
   ]
  },
  {
   "cell_type": "code",
   "execution_count": 23,
   "id": "4109484a",
   "metadata": {},
   "outputs": [
    {
     "data": {
      "text/plain": [
       "2.9023895095188"
      ]
     },
     "execution_count": 23,
     "metadata": {},
     "output_type": "execute_result"
    }
   ],
   "source": [
    "np.max(field)"
   ]
  },
  {
   "cell_type": "code",
   "execution_count": 24,
   "id": "58664ee2",
   "metadata": {},
   "outputs": [
    {
     "data": {
      "text/plain": [
       "-5.26392124908248"
      ]
     },
     "execution_count": 24,
     "metadata": {},
     "output_type": "execute_result"
    }
   ],
   "source": [
    "np.min(field)"
   ]
  },
  {
   "cell_type": "code",
   "execution_count": 25,
   "id": "34fa357e",
   "metadata": {},
   "outputs": [
    {
     "data": {
      "text/plain": [
       "1.0"
      ]
     },
     "execution_count": 25,
     "metadata": {},
     "output_type": "execute_result"
    }
   ],
   "source": [
    "np.max(image)"
   ]
  },
  {
   "cell_type": "code",
   "execution_count": 26,
   "id": "c0290ebb",
   "metadata": {},
   "outputs": [],
   "source": [
    "x_train = x_train.reshape((x_train.shape[0]*x_train.shape[1], x_train.shape[2], x_train.shape[3], 1))\n",
    "x_test = x_test.reshape((x_test.shape[0]*x_test.shape[1], x_test.shape[2], x_test.shape[3], 1))\n",
    "aa_train = aa_train.reshape((aa_train.shape[0]*aa_train.shape[1], aa_train.shape[2], aa_train.shape[3]))\n",
    "aa_test = aa_test.reshape((aa_test.shape[0]*aa_test.shape[1], aa_test.shape[2], aa_test.shape[3]))\n",
    "geo_train = geo_train.reshape((geo_train.shape[0]*geo_train.shape[1], geo_train.shape[2]))\n",
    "geo_test = geo_test.reshape((geo_test.shape[0]*geo_test.shape[1], geo_test.shape[2]))\n",
    "y_train = y_train.reshape((y_train.shape[0]*y_train.shape[1], y_train.shape[2], y_train.shape[3], 1))\n",
    "y_test = y_test.reshape((y_test.shape[0]*y_test.shape[1], y_test.shape[2], y_test.shape[3], 1))"
   ]
  },
  {
   "cell_type": "code",
   "execution_count": 27,
   "id": "a8e2202e",
   "metadata": {},
   "outputs": [],
   "source": [
    "tf.keras.backend.set_image_data_format('channels_last')"
   ]
  },
  {
   "cell_type": "code",
   "execution_count": 28,
   "id": "37290049",
   "metadata": {},
   "outputs": [],
   "source": [
    "model = tf.keras.models.load_model('D:\\\\TrainedModels\\\\20221030\\\\Poisson_bc2_100kernel_2by2MaxPooling_2CNNlayer_testSize0.3.h5')"
   ]
  },
  {
   "cell_type": "code",
   "execution_count": 30,
   "id": "745feda1",
   "metadata": {},
   "outputs": [
    {
     "name": "stdout",
     "output_type": "stream",
     "text": [
      "47/47 [==============================] - 1s 9ms/step - loss: 6.4941e-06 - rmse: 0.0000e+00\n"
     ]
    }
   ],
   "source": [
    "#with mirrored_strategy.scope():\n",
    "test_results = model.evaluate(x_train)"
   ]
  },
  {
   "cell_type": "code",
   "execution_count": 31,
   "id": "f240f3e2",
   "metadata": {},
   "outputs": [
    {
     "name": "stdout",
     "output_type": "stream",
     "text": [
      "47/47 [==============================] - 3s 14ms/step\n"
     ]
    }
   ],
   "source": [
    "#with mirrored_strategy.scope():\n",
    "decoded_train = model.predict(x_train)"
   ]
  },
  {
   "cell_type": "code",
   "execution_count": 32,
   "id": "7ccbbb44",
   "metadata": {},
   "outputs": [
    {
     "name": "stdout",
     "output_type": "stream",
     "text": [
      "20/20 [==============================] - 0s 11ms/step\n"
     ]
    }
   ],
   "source": [
    "#with mirrored_strategy.scope():\n",
    "decoded_test = model.predict(x_test)"
   ]
  },
  {
   "cell_type": "code",
   "execution_count": 33,
   "id": "c38a34c6",
   "metadata": {},
   "outputs": [],
   "source": [
    "error_train_abs = np.abs(decoded_train - y_train)"
   ]
  },
  {
   "cell_type": "code",
   "execution_count": 34,
   "id": "4c0dfd6f",
   "metadata": {},
   "outputs": [],
   "source": [
    "error_test_abs = np.abs(decoded_test - y_test)"
   ]
  },
  {
   "cell_type": "code",
   "execution_count": 35,
   "id": "31fb219f",
   "metadata": {},
   "outputs": [
    {
     "name": "stdout",
     "output_type": "stream",
     "text": [
      "0.0005947902515351787\n"
     ]
    }
   ],
   "source": [
    "l2_error_train = np.sqrt(np.sum((decoded_train - y_train)**2) / np.sum(y_train**2))\n",
    "print(l2_error_train)"
   ]
  },
  {
   "cell_type": "code",
   "execution_count": 36,
   "id": "3770434c",
   "metadata": {},
   "outputs": [
    {
     "name": "stdout",
     "output_type": "stream",
     "text": [
      "0.006634378937110951\n"
     ]
    }
   ],
   "source": [
    "l2_error_test = np.sqrt(np.sum((decoded_test - y_test)**2) / np.sum(y_test**2))\n",
    "print(l2_error_test)"
   ]
  },
  {
   "cell_type": "code",
   "execution_count": 37,
   "id": "d9785cd7",
   "metadata": {
    "scrolled": true
   },
   "outputs": [],
   "source": [
    "l2_error_train_list = []\n",
    "for i in range(0, len(aa_train)):\n",
    "    l2_error_train_data = np.sqrt(np.sum((decoded_train[i] - y_train[i])**2) / np.sum(y_train[i]**2))\n",
    "    l2_error_train_list.append(l2_error_train_data)\n",
    "#print(l2_error_train_list)"
   ]
  },
  {
   "cell_type": "code",
   "execution_count": 38,
   "id": "72b6a696",
   "metadata": {
    "scrolled": true
   },
   "outputs": [],
   "source": [
    "l2_error_test_list = []\n",
    "for i in range(0, len(aa_test)):\n",
    "    l2_error_test_data = np.sqrt(np.sum((decoded_test[i] - y_test[i])**2) / np.sum(y_test[i]**2))\n",
    "    l2_error_test_list.append(l2_error_test_data)\n",
    "#print(l2_error_test_list)"
   ]
  },
  {
   "cell_type": "code",
   "execution_count": 39,
   "id": "cd795141",
   "metadata": {},
   "outputs": [
    {
     "data": {
      "image/png": "[encoded data removed]",
      "text/plain": [
       "<Figure size 432x288 with 1 Axes>"
      ]
     },
     "metadata": {
      "needs_background": "light"
     },
     "output_type": "display_data"
    }
   ],
   "source": [
    "plt.plot(np.linspace(1, aa_train.shape[0], aa_train.shape[0]),\n",
    "         l2_error_train*np.ones(aa_train.shape[0],), 'k', lw=2.5)\n",
    "plt.scatter(np.linspace(1, aa_train.shape[0], aa_train.shape[0]), l2_error_train_list, c='b')\n",
    "plt.xlabel('Index', fontsize=15)\n",
    "plt.ylabel('$L_2$ error norm', fontsize=15)\n",
    "plt.title('$L_2$ error norm distribution - training\\nPoisson, boundary condition2, test size 0.3',\n",
    "          fontsize=15)\n",
    "plt.grid()\n",
    "save_variance_name = \"20221030L2ErrorDistribution_Poisson_bc2(training).jpg\"\n",
    "plt.savefig(save_variance_name, dpi=300, bbox_inches='tight', pad_inches=0.3)\n",
    "plt.show()"
   ]
  },
  {
   "cell_type": "code",
   "execution_count": 40,
   "id": "342bbd53",
   "metadata": {},
   "outputs": [
    {
     "data": {
      "image/png": "[encoded data removed]",
      "text/plain": [
       "<Figure size 432x288 with 1 Axes>"
      ]
     },
     "metadata": {
      "needs_background": "light"
     },
     "output_type": "display_data"
    }
   ],
   "source": [
    "plt.plot(np.linspace(1, aa_test.shape[0], aa_test.shape[0]),\n",
    "         l2_error_test*np.ones(aa_test.shape[0],), 'k', lw=2.5)\n",
    "plt.scatter(np.linspace(1, aa_test.shape[0], aa_test.shape[0]), l2_error_test_list, c='b')\n",
    "plt.xlabel('Index', fontsize=15)\n",
    "plt.ylabel('$L_2$ error norm', fontsize=15)\n",
    "plt.title('$L_2$ error norm distribution - test\\nPoisson, boundary condition2, test size 0.3',\n",
    "          fontsize=15)\n",
    "plt.grid()\n",
    "save_variance_name = \"20221030L2ErrorDistribution_Poisson_bc2(test).jpg\"\n",
    "plt.savefig(save_variance_name, dpi=300, bbox_inches='tight', pad_inches=0.3)\n",
    "plt.show()"
   ]
  },
  {
   "cell_type": "code",
   "execution_count": 41,
   "id": "f5b6ae41",
   "metadata": {},
   "outputs": [],
   "source": [
    "os.chdir(\"D:\\\\CNN_poisson_files\\\\images\\\\20221030\\\\testSize0.3\")"
   ]
  },
  {
   "cell_type": "code",
   "execution_count": 59,
   "id": "a557dd42",
   "metadata": {
    "scrolled": true
   },
   "outputs": [
    {
     "name": "stdout",
     "output_type": "stream",
     "text": [
      "0.9998094905292183\n",
      "0.00019050947078169678\n",
      "0.9967931238309984\n",
      "0.0032068761690016157\n"
     ]
    },
    {
     "data": {
      "image/png": "[encoded data removed]",
      "text/plain": [
       "<Figure size 432x288 with 1 Axes>"
      ]
     },
     "metadata": {
      "needs_background": "light"
     },
     "output_type": "display_data"
    },
    {
     "data": {
      "image/png": "[encoded data removed]",
      "text/plain": [
       "<Figure size 432x288 with 1 Axes>"
      ]
     },
     "metadata": {
      "needs_background": "light"
     },
     "output_type": "display_data"
    }
   ],
   "source": [
    "yTrainSum = np.zeros((y_train.shape[0],1))\n",
    "dTrainSum = np.zeros((decoded_train.shape[0], 1))\n",
    "MAPE_train_list = np.zeros((y_train.shape[0], 1))\n",
    "for i in range(0, y_train.shape[0]):\n",
    "    yTrainSum[i,:] = np.sum(y_train[i])\n",
    "    dTrainSum[i,:] = np.sum(decoded_train[i])\n",
    "    MAPE_train_list[i,:] = np.abs((dTrainSum[i,:]-yTrainSum[i,:])/yTrainSum[i,:])\n",
    "    \n",
    "MAPE_train = 1-np.sum(MAPE_train_list)/x_train.shape[0]\n",
    "print(MAPE_train)\n",
    "acc_train = 1-MAPE_train\n",
    "print(acc_train)\n",
    "acc_train_list = 1 - MAPE_train_list\n",
    "\n",
    "yTestSum = np.zeros((y_test.shape[0],1))\n",
    "dTestSum = np.zeros((decoded_test.shape[0], 1))\n",
    "MAPE_test_list = np.zeros((y_test.shape[0], 1))\n",
    "for i in range(0, y_test.shape[0]):\n",
    "    yTestSum[i,:] = np.sum(y_test[i])\n",
    "    dTestSum[i,:] = np.sum(decoded_test[i])\n",
    "    MAPE_test_list[i,:] = np.abs((dTestSum[i,:]-yTestSum[i,:])/yTestSum[i,:])\n",
    "    \n",
    "MAPE_test = 1-np.sum(MAPE_test_list)/x_test.shape[0]\n",
    "print(MAPE_test)\n",
    "acc_test = 1-MAPE_test\n",
    "print(acc_test)\n",
    "acc_test_list = 1 - MAPE_test_list\n",
    "\n",
    "plt.hist(acc_train_list)\n",
    "plt.title('Training set (accuracy)\\nTest size 0.3')\n",
    "plt.ylabel('Number of data')\n",
    "plt.xlabel('Accuracy')\n",
    "#plt.grid()\n",
    "plt.show()\n",
    "\n",
    "plt.hist(acc_test_list)\n",
    "plt.title('Test set (accuracy)\\nTest size 0.3')\n",
    "plt.ylabel('Number of data')\n",
    "plt.xlabel('Accuracy')\n",
    "plt.show()"
   ]
  },
  {
   "cell_type": "code",
   "execution_count": 52,
   "id": "418d216c",
   "metadata": {},
   "outputs": [
    {
     "data": {
      "text/plain": [
       "(1488, 100, 100, 1)"
      ]
     },
     "execution_count": 52,
     "metadata": {},
     "output_type": "execute_result"
    }
   ],
   "source": [
    "y_train.shape"
   ]
  },
  {
   "cell_type": "code",
   "execution_count": 53,
   "id": "6345e505",
   "metadata": {},
   "outputs": [
    {
     "data": {
      "text/plain": [
       "(640, 100, 100, 1)"
      ]
     },
     "execution_count": 53,
     "metadata": {},
     "output_type": "execute_result"
    }
   ],
   "source": [
    "decoded_test.shape"
   ]
  },
  {
   "cell_type": "code",
   "execution_count": 55,
   "id": "4db3c090",
   "metadata": {
    "scrolled": false
   },
   "outputs": [],
   "source": [
    "MAPE_train = (np.sum(np.abs(np.sum(y_train)-np.sum(decoded_train)/(np.sum(y_train)))))/(y_train.shape[0]/16)*100\n",
    "acc_train = 1-MAPE_train"
   ]
  },
  {
   "cell_type": "code",
   "execution_count": 57,
   "id": "532d376d",
   "metadata": {},
   "outputs": [],
   "source": [
    "MAPE_test = (np.sum(np.abs(np.sum(y_test)-np.sum(decoded_test))) / np.abs(np.sum(y_test)))/(y_test.shape[0]/16)*100\n",
    "acc_test = 1-MAPE_test"
   ]
  },
  {
   "cell_type": "code",
   "execution_count": 56,
   "id": "b335774c",
   "metadata": {},
   "outputs": [
    {
     "name": "stdout",
     "output_type": "stream",
     "text": [
      "10445013.82598526\n",
      "-10445012.82598526\n"
     ]
    }
   ],
   "source": [
    "print(MAPE_train)\n",
    "print(acc_train)"
   ]
  },
  {
   "cell_type": "code",
   "execution_count": 58,
   "id": "8897e2b0",
   "metadata": {},
   "outputs": [
    {
     "name": "stdout",
     "output_type": "stream",
     "text": [
      "0.004342056508532257\n",
      "0.9956579434914677\n"
     ]
    }
   ],
   "source": [
    "print(MAPE_test)\n",
    "print(acc_test)"
   ]
  },
  {
   "cell_type": "code",
   "execution_count": 47,
   "id": "2be313d6",
   "metadata": {},
   "outputs": [
    {
     "name": "stdout",
     "output_type": "stream",
     "text": [
      "[0.0003808807746751127, 0.0003833465833165343, 0.0003383970467492044, 0.000382397210734393, 0.00037335110121196476, 0.0003764684409601358, 0.0003662125774446568, 0.00038526301385729525, 0.00037491553802581403, 0.00038258720363146405, 0.00042149006599019536, 0.0005680628407418374, 0.00046307796309233445, 0.00048046289396067894, 0.0005243576567109684, 0.0005854265073741738, 0.0004899598746013863, 0.00033819479930768064, 0.0002964446639543465, 0.00038061058700768284, 0.0004043649224907763, 0.0003954294299062646, 0.0004063063994739478, 0.0004620726566741225, 0.0003727073596160412, 0.00039632564791490895, 0.00037661485421076185, 0.00045056558219106835, 0.0005018370889349239, 0.0005249754928939426, 0.0005133177484121, 0.0007040951572327722, 0.0003165457343280399, 0.00025120597208773946, 0.0002355714676276156, 0.0005275487678493459, 0.00029677680595653285, 0.0006139792733868052, 0.000572673570453651, 0.00045011192679181484, 0.0004250114044453281, 0.0002715693768410422, 0.00034917579084254154, 0.00036802723533699874, 0.0003244464257564975, 0.0004471920672422695, 0.0003699080990074235, 0.0005266396601362091, 0.0004123216955801816, 0.0003696479205568202, 0.0003287877443374307, 0.00035509719306332365, 0.00036357608617649634, 0.0005222409859274788, 0.0003464534824626113, 0.00032394788935365647, 0.0004483190997661352, 0.0004222733561284863, 0.0004737752159278349, 0.0003641725836347273, 0.0004239508504518835, 0.0004374663576719494, 0.000496748692584674, 0.0005266489961570504, 0.00031408928060881107, 0.00030347478810221085, 0.0004080526694771088, 0.0002757570728449429, 0.00024253801427858262, 0.0003895015133191621, 0.0003861083139685786, 0.00028447399280455215, 0.00042473896422609174, 0.0003658759476381848, 0.00037233224865045956, 0.00043703286432174727, 0.0004194189222070685, 0.00047197874190805334, 0.0005125906465615839, 0.0006332298438164972, 0.00046116125671382514, 0.0004842155991581634, 0.00026585217634579004, 0.00023778480003773137, 0.00029577997227561405, 0.0005890494223497008, 0.0003701613592052266, 0.0004809395531235798, 0.00041632754724253034, 0.00043248221031014244, 0.00036034205540199694, 0.0004033782242893291, 0.0004897715561785595, 0.00056972388041447, 0.00045134044519972897, 0.0006412137561075152, 0.000397778908479159, 0.0003465483771054452, 0.00039558765516198085, 0.00033087027266840574, 0.0004424710426182946, 0.0003901254658401826, 0.0004852355504703398, 0.0003395863323300326, 0.0004963259691806489, 0.00043663473599387883, 0.0004298951548776222, 0.0004355208423698229, 0.000577496506381952, 0.0005375880641329457, 0.0007143206581259311, 0.0005778905606188932, 0.0003496583120122157, 0.0002517249381813948, 0.00032040537741465726, 0.00029827167428086375, 0.0003694796612433228, 0.0003265126448564963, 0.00025926284348871275, 0.0002852762452321995, 0.0003041944389007091, 0.0003011650433055918, 0.00033059563485759357, 0.0003907831596018564, 0.00038990223532767284, 0.0005167573511934325, 0.0005108648641872588, 0.0005852509919876778, 0.0004666236338736805, 0.00031074399392567797, 0.0003289508088943638, 0.0003609738729429754, 0.00028327058864250417, 0.0003505902818043868, 0.0004525496238992655, 0.0004021620968695224, 0.0004070331757027462, 0.0003909287058505199, 0.0004761502502871686, 0.000427106573408474, 0.0004974816322123206, 0.0006153693730439624, 0.000596131030897686, 0.000714816666457639, 0.00046008598920875814, 0.0003295313958464713, 0.0004091881675631536, 0.00028323456907892536, 0.00023473779148607527, 0.0003020211197515339, 0.00033516351913339743, 0.0002528627605882337, 0.0003699776708123021, 0.00044522141133816794, 0.000591043969719049, 0.0006380076088056696, 0.0007057039517744612, 0.0007619003300766747, 0.0009820872980476946, 0.0012055630034572354, 0.000331757632119843, 0.00033210370448677874, 0.00036751609955971445, 0.0002659473936101439, 0.0006489319538761013, 0.0005957843385034655, 0.0003578073423517926, 0.0005142982593332043, 0.0006466028145095861, 0.00027431054962423804, 0.00035067930710515615, 0.00036467036556619276, 0.0005207983098194523, 0.0006404818521111023, 0.0006023166602551304, 0.0008527326095339788, 0.0006212027625947598, 0.00038014669688781475, 0.0006192325955784891, 0.0005240015756472308, 0.0008183267693884699, 0.0004251109111875568, 0.0002913782442768373, 0.0005598336563059867, 0.0005085000816193742, 0.0004783865096863246, 0.000407566464787454, 0.0003958009008616163, 0.00044817927573545025, 0.0005381510546454328, 0.0006186410861389772, 0.00053023288701909, 0.0006108636262299622, 0.00031416000373759467, 0.0003464395566539069, 0.0004093312475463282, 0.00022346471615887638, 0.00029820172338439205, 0.00036563794178184607, 0.00031877138258665406, 0.0002873452299111195, 0.0003366688185685643, 0.00046862770170499153, 0.00039904203942342845, 0.0004418391303712686, 0.0005138912870191191, 0.0005632196225054066, 0.0007441890822734519, 0.0006001163442144271, 0.000357257442466827, 0.00041250518154883024, 0.00045260358814588545, 0.0007840774792269438, 0.0008657756684115463, 0.00031198462833649006, 0.00028300791280134807, 0.00028606515582177736, 0.0004840505937754998, 0.00041457021601910366, 0.0005450329075544737, 0.00035877812348360526, 0.0005246212038503197, 0.0004737035809094796, 0.0006114091051678022, 0.0003819935944733177, 0.00042507856223669965, 0.00033137957626363314, 0.0003920703350441381, 0.00041102944544755404, 0.0003172770787668946, 0.0004114851959948246, 0.0003725074295527114, 0.0005099605118621534, 0.0004226857608414246, 0.0003331876561913688, 0.0004657261819799133, 0.0003871354383420448, 0.0004575322583757341, 0.00042668559088971227, 0.0005944818156974262, 0.0002615436547744721, 0.00023815823560896436, 0.00038301121281555424, 0.0001873557356244408, 0.00035397328026081244, 0.0008026727447992115, 0.0005119571934039454, 0.000479914344331849, 0.0005355408922244124, 0.0003921683120364295, 0.0003291964363551033, 0.0005229493191719291, 0.0003337557222439038, 0.0006320664098871309, 0.0004469549129413413, 0.000535111513806246, 0.0004074674820894197, 0.00036671855950303313, 0.0007702284057598046, 0.0004149903351933364, 0.00023445387045539323, 0.0007422907014236788, 0.0004994113662551489, 0.0004563925015521774, 0.0005398426405943615, 0.000574228006618067, 0.0004649676937825144, 0.0004856362985993915, 0.0005824549299970907, 0.0008527568237029345, 0.0005908624502435406, 0.0007672760951936008, 0.0004508733554675221, 0.00041810330529749054, 0.0005512096153043511, 0.0008785984668027402, 0.0007606446061437666, 0.0007537578106941518, 0.0005792929415189496, 0.0005937152323277044, 0.0005100472498019331, 0.0003147433206459495, 0.0003655340002998531, 0.0006066308406485973, 0.0005131006966203773, 0.0005171855890265636, 0.0005346662852276459, 0.0006341263307574613, 0.0005904618685617119, 0.00042869354364160147, 0.0007130527236355507, 0.0011667977971405966, 0.0007371378726741351, 0.0003090996687286788, 0.0005191156037195947, 0.00028706934203575046, 0.00030261776022654673, 0.00035848215918236507, 0.00043653561560783033, 0.0004236230831226662, 0.0005318163068662871, 0.0005363136637079568, 0.0005464259285929644, 0.000587940822716258, 0.00034364767762182447, 0.0002929381613226574, 0.0005376390423191408, 0.00033990741979588384, 0.00029787285088835844, 0.0003689083777866459, 0.00036763226385011337, 0.0003076384467445687, 0.00040103423262828354, 0.0003893037371595752, 0.00042510863604738425, 0.00046585029479695065, 0.0005106766918333987, 0.0004968661842731615, 0.0005527956726366175, 0.0007041502446282323, 0.00040998689795471014, 0.000393402154631045, 0.0003091780649168739, 0.00037164737447185296, 0.00032202845508655815, 0.00043492618068704885, 0.0003891372727881349, 0.00039315714510745886, 0.0003747416775119263, 0.0004838996885433345, 0.00054666111951904, 0.0006548143259847557, 0.0006937438511053925, 0.0006660861164203642, 0.0006482252840198254, 0.000633923052323691, 0.0006810902154471229, 0.0005536566676794002, 0.0011036631048498323, 0.00039035261864409933, 0.00041678201145379026, 0.00040212955156567593, 0.0005760335607746635, 0.0005297917381187411, 0.0004758357908059601, 0.0005787678008277552, 0.00046008077602294363, 0.0004767566332817825, 0.0005149211869701682, 0.0005112339921770307, 0.0005145677488205957, 0.0006069765351584934, 0.0004706175635898324, 0.0003664355938898561, 0.0002772101361550952, 0.00026591529625084924, 0.0002730754068123748, 0.00039138900598407236, 0.000257297146957129, 0.00030283121112462455, 0.0003698950209748903, 0.00030098353840051303, 0.00039219120773647723, 0.00036654281018131486, 0.00038860956282094083, 0.0004848741094265018, 0.0005406787518708156, 0.0005454501241639572, 0.0005105889264037172, 0.0004058737127259628, 0.0004705741876374327, 0.0003600859616520181, 0.0005114893311832379, 0.00034679017254526256, 0.00031345375611116835, 0.00037608152308694757, 0.00048558109926732663, 0.0004676506747631082, 0.0004257678669709093, 0.0005148188884307206, 0.000542141185842289, 0.0006650496975216755, 0.0008045136955901522, 0.0008736144127490504, 0.0004675774713735086, 0.0002803512295904353, 0.0003728549239444212, 0.0003226961783593836, 0.00025801854524456103, 0.0002439722650023982, 0.00034564744548473485, 0.00031788100920772063, 0.0003484264494822448, 0.00039460528469255167, 0.00042777639779513585, 0.00047187795042630075, 0.00039706030714107817, 0.0004841544293876241, 0.0006224547647057367, 0.0007900524804914219, 0.00047176293613364497, 0.0003669712517824231, 0.00034350535503766455, 0.00035013892043525216, 0.0003174366523731679, 0.00039578675588206914, 0.0003859979298572406, 0.0004004180856997444, 0.00039458798999721106, 0.00038779672182337867, 0.0004031941224881165, 0.00043881608375127227, 0.0004999944860607184, 0.0005379277813743604, 0.0006470551920481657, 0.0007774546439998411, 0.0005108931431610736, 0.0003766886643385255, 0.00047635787583829935, 0.00030745622178658135, 0.0005270427802770061, 0.0002449916128714232, 0.0004545842868378167, 0.0004414395823238856, 0.00023945519331108688, 0.000329481148822653, 0.0004081413541506512, 0.00034680862259953984, 0.00038066144953024573, 0.00037053931883716026, 0.0006424134877375518, 0.0007719124807384472, 0.00048526541374659197, 0.00044457927390141, 0.0004345613222025087, 0.00041202608627151057, 0.0005366394150643513, 0.000403713961626575, 0.0004096876920528107, 0.00045233399396277365, 0.00041547889472134735, 0.00046209502195777445, 0.0005358299180318768, 0.0005739671622583994, 0.0005566047318665395, 0.0005314054130018698, 0.0005183929142638008, 0.0007131538201304002, 0.0004119200986449324, 0.00046336763083922603, 0.0002422384425301201, 0.00024172740329917082, 0.00023357761117044566, 0.00036233608103787026, 0.0003306909899531383, 0.0007444777829937371, 0.0003417871783703334, 0.0002950918506616307, 0.00033624569575625165, 0.0003600583217628223, 0.000338617184589821, 0.00038199788874456446, 0.00042953814517700115, 0.0005810907444208572, 0.0002634165810285534, 0.0005286831263438622, 0.0002591178522103187, 0.00041282664291540357, 0.0004386418827972859, 0.00035410052404485795, 0.0003328391350080543, 0.00023270523901693302, 0.00033612891200254026, 0.00047221759283797753, 0.00038756891565996807, 0.0002962679558825597, 0.0003871608526142061, 0.000439314228353324, 0.0004558012168312862, 0.00048316238393014086, 0.0005217437780443873, 0.0004730103492941414, 0.000360945215727679, 0.00042476017626009446, 0.0003861877117763622, 0.0005832546652907418, 0.00043657156456295137, 0.0003984917676155615, 0.0005049222668601819, 0.00048553255760879166, 0.0004142237568740606, 0.00043944278598812117, 0.00047377653450275285, 0.0004952617892383427, 0.0006420811485760703, 0.0006678523341943922, 0.00046496795220381254, 0.0005278086055773812, 0.0004531112003925445, 0.0004946870758477905, 0.0006217410681632721, 0.0005198810217089133, 0.0004558632977861404, 0.0004798004073704442, 0.0005743774900461791, 0.0005589602304115986, 0.0006270356265125711, 0.0006068932095829444, 0.0006108763287845156, 0.0006436537492774139, 0.0006961749662116281, 0.000764664211086054, 0.0005612805426799657, 0.0005642275269962492, 0.0006187225547148901, 0.001022158576247685, 0.0007246531899452202, 0.000563932288146596, 0.0007722016973471018, 0.0005945884817634838, 0.0004607987187350835, 0.0004611203311385083, 0.000633522380952998, 0.0005076468890711719, 0.000575933807168611, 0.000561673528438176, 0.0007422685205067771, 0.000597458891167857, 0.0007390028555175324, 0.0005992013510606244, 0.0005077719801750436, 0.0002481146574643887, 0.0007777818813357712, 0.00041896287581378417, 0.0004096976823339819, 0.00023484256305446167, 0.0005772664912111962, 0.00037908923019249884, 0.00036105989570522565, 0.00045822326273554844, 0.0004116128415933883, 0.000450974602415074, 0.0005776104673382204, 0.0006246359261571355, 0.0004714663380520256, 0.0005019390321272181, 0.0004446398965089053, 0.0004274235526683126, 0.0005079447636174851, 0.0005239082454169403, 0.00048209160306558627, 0.0004687236919208499, 0.000482141348934274, 0.0005048243325701641, 0.0004636823214331793, 0.0004938827964574158, 0.0007879936496399809, 0.0009917170294652348, 0.001000145386741276, 0.0009354539497527572, 0.0005363895705955026, 0.0005120636070829471, 0.00042446821227114164, 0.0003963246194078293, 0.000485164447732943, 0.0005113743034225696, 0.00043921175215874973, 0.00037545032266618277, 0.00039065248108305996, 0.00045863387462708236, 0.0005739727794491846, 0.0005832740294725222, 0.0006339265864104154, 0.0007084639124277575, 0.0007901567265412877, 0.0007974772523056821, 0.0005559887427068912, 0.0002978137280554133, 0.00032728724482667434, 0.0004091050839749073, 0.0002221168247418426, 0.0002731315955233752, 0.0002892330998794795, 0.00023726617858109924, 0.0002894759373360446, 0.0003908380688615849, 0.0003835992136711098, 0.0003223852746407716, 0.0004603078784704613, 0.000441546654008354, 0.0005353375143596752, 0.0008133673625815781, 0.000873263655724212, 0.0008200862244579086, 0.0007643011103992328, 0.0005737507025849612, 0.000857872869190662, 0.0008392093862721488, 0.0007734516875987947, 0.0005047508910931534, 0.000427618700254172, 0.0004640109027237055, 0.0004560738851772445, 0.0004343091182846207, 0.0004987026199089489, 0.000629066742081054, 0.0007285104368591274, 0.0009416774155356078, 0.0006055016796039622, 0.00039970462118494806, 0.0002953134636243653, 0.0005233999070276475, 0.0005091434691722566, 0.0003325149704920022, 0.00021037345148612643, 0.0002319130853906267, 0.000269041448182916, 0.0003816881995930854, 0.0003306692887328466, 0.000450705587144539, 0.0003414113880762158, 0.0004105830401031595, 0.00045129651246811906, 0.0004372651954756296, 0.0008336846221625634, 0.0005782248777551048, 0.00043442456654916195, 0.00046470083467684253, 0.000606514249058689, 0.0005023114725764151, 0.0006137074575994291, 0.0005140476884699006, 0.0005267244235646877, 0.0005350110596162995, 0.0006571735466964007, 0.000586337891936508, 0.0007080169563139879, 0.0008598643673641734, 0.0010821020514024085, 0.0013646943658239738, 0.0004457019036946544, 0.00039443568166199096, 0.000387107146948506, 0.00036738710757188065, 0.00044559784914813174, 0.000436939622073951, 0.0003899850260203561, 0.000461090148884265, 0.00045940014739536967, 0.00048719799877834413, 0.00047381417017572407, 0.0005360324305711775, 0.0005533984964504214, 0.0006467599826071753, 0.0007102820150245454, 0.0008460845624919558, 0.000605328831305579, 0.0005573681364121481, 0.00035091234273387464, 0.0006750686311062019, 0.0004416000485573824, 0.0007245945855017205, 0.0005718660601875373, 0.0006016760988046861, 0.00045189870074092655, 0.000379398612509681, 0.0005030651264480054, 0.0005076748850803658, 0.0005340175667460983, 0.0005655843504471697, 0.0005835948160800026, 0.0008463379172753895, 0.0003377934508778154, 0.0003617943373245521, 0.0003011636624795226, 0.00031669489933312676, 0.00034195453873261386, 0.0003251461145066826, 0.0003469999711017581, 0.0003855523764115664, 0.00042131157558357316, 0.00040465272493611843, 0.0004295236382296731, 0.0005754709924805154, 0.0005347969049503206, 0.00047519485355090104, 0.00061525069167086, 0.0006617722626361105, 0.00034897180932141436, 0.00029221140834663224, 0.0004196581980563647, 0.0003142587820628083, 0.00029561991360440784, 0.00034818779716977726, 0.00028369426349158627, 0.0003511916078224361, 0.00034580494540099193, 0.00031989091162311443, 0.00042982805152754497, 0.00042897532122664555, 0.000501885302235291, 0.00047428225466522985, 0.000510986166926962, 0.00048698481011453517, 0.0005730085427178456, 0.000313900580900663, 0.0003651688073352774, 0.00050950836265918, 0.00043164370893806933, 0.0010212769166120955, 0.00038342064874826505, 0.00058609580688673, 0.00046989731826002217, 0.0005929786206109009, 0.00044289080909902794, 0.0004718138553741188, 0.00045381648548051967, 0.0006313078627632213, 0.0005995540316971028, 0.0006823245838951281, 0.0005482348590358176, 0.00044452539669824953, 0.00028439608380626094, 0.00046037655719964593, 0.0005092036737513959, 0.0003194239682399858, 0.00027663533908028225, 0.0003041107351493651, 0.00036338939389859455, 0.00036488328012318147, 0.0004826437018818004, 0.000646551551422858, 0.0006278789747354189, 0.0005521236902740906, 0.0007051626049998094, 0.000738469226607161, 0.0002651270188006094, 0.0005312510918426863, 0.000204519898069893, 0.000272088769397938, 0.00036193742668763873, 0.00023664423039359314, 0.0003941520683642969, 0.0003157637225153841, 0.0002473017779287591, 0.00034952753617073143, 0.00035892962411486533, 0.00032662540981251816, 0.00031066779416672954, 0.0003399450288303848, 0.0004081289882290565, 0.00041372528481045624, 0.0005644925626338858, 0.0003515873185633838, 0.0003346004885869195, 0.00034988619895677346, 0.0002507498788848583, 0.0004250798829777971, 0.0004793252554394093, 0.00032199499086212535, 0.0003518051922120832, 0.0004553757127406871, 0.00034960488023108783, 0.0003760461810308735, 0.0004971888824384795, 0.0005570987666226921, 0.0005718215935467513, 0.0006345822346729569, 0.0004430573589427394, 0.00031241443056804883, 0.0005906959712608159, 0.0002816222458550164, 0.0005329545293776064, 0.0005099390584609599, 0.0002863603630232881, 0.00036684887908533444, 0.00034961357944298787, 0.0004451420399535706, 0.0003389356456219207, 0.0004407979536028205, 0.0004680024620185218, 0.0005519839359919923, 0.0006451533421266571, 0.0007748603255778338, 0.000411928838726752, 0.00036914666200252045, 0.000391736497525219, 0.0005326573102812618, 0.0003746316006445954, 0.0004185311192753848, 0.0004742920661773283, 0.0006964011034259703, 0.0006178641096142508, 0.0005491886061454354, 0.0005407679103636867, 0.0005839174691561565, 0.0006386870216031089, 0.0007492067401232667, 0.0007593298878347382, 0.0007548465682214136, 0.0007045398517880564, 0.0006779595118066525, 0.0005719421815276269, 0.0006516844489529381, 0.0005444460410835866, 0.0005755088857524825, 0.0005466111182808398, 0.00045949961587394883, 0.0005166424483272758, 0.000560252423644849, 0.0005159724680210377, 0.0005787820581118152, 0.0006209960386717484, 0.0007564437078728208, 0.0010060085819648878, 0.0013445833435646061, 0.0006045286411570319, 0.00030747315953435583, 0.0005253898471195572, 0.0003988256372305117, 0.0003466926388479483, 0.00022708288474214443, 0.0004134354606614275, 0.0002409253497298775, 0.000424995267738, 0.0003418343161155613, 0.00033651396340768775, 0.0003451206160397412, 0.0003518883983544537, 0.00037091349613404515, 0.00042275021791375947, 0.000610542501673732, 0.0007497743217860887, 0.0005665742378804968, 0.0005101270826208092, 0.0004478123859630696, 0.0005663394848393626, 0.0005758062623525216, 0.0005600994508671558, 0.0005143020754862422, 0.000571715630310153, 0.0005855136103414352, 0.0005840534498039819, 0.0006464567130521407, 0.0005598426978935207, 0.0006962369143413436, 0.0006947473328465301, 0.0010112244361709319, 0.0003296758405988581, 0.0010660966385317428, 0.0008447552588121473, 0.0009512147643058001, 0.0007499501139054695, 0.0006511182363288095, 0.001309744954302597, 0.0006263117880985222, 0.0007200760099006603, 0.000567517552920392, 0.00044076756046903864, 0.0009532344401462984, 0.0005568846671120124, 0.0004890749934989161, 0.0009397032117325203, 0.0007821397290393839, 0.0006214586111272408, 0.0005496031939877267, 0.0003425075031447744, 0.00041828605440940344, 0.00025687277823023574, 0.00029902678475381584, 0.0004211440761171867, 0.0004915587689637874, 0.0003834446601309733, 0.00047102543281298806, 0.00048019720036226386, 0.0006023545645243077, 0.0005985988879672307, 0.0006356970407257717, 0.0004691970588539911, 0.0007199967583061171, 0.00039609853414887075, 0.00038197380073978125, 0.0003324357699737801, 0.00033583117140905733, 0.00034233933062841363, 0.00045968355212918613, 0.0003346688587569399, 0.0004545675725102509, 0.00041894635246476496, 0.0003807895724189615, 0.00042634335965959815, 0.0004718188902312137, 0.00046150076138708695, 0.0004947938874509601, 0.0005996076486018189, 0.0005565119655292836, 0.0003720640896892838, 0.00029912995893428764, 0.0005013269874967714, 0.00024486728760726576, 0.00030370419451988335, 0.0003306094490899554, 0.00030811443276388816, 0.00031208254152149386, 0.0003472969854047696, 0.000332065177503535, 0.0003685359963520217, 0.0004445762285394316, 0.00043542266041867936, 0.0005183970495047137, 0.0005523063430245362, 0.0005819700654045889, 0.0005779971858443868, 0.0005129635412501751, 0.0004272712130955831, 0.0003969869803608466, 0.00045968502837543036, 0.0003953740521258062, 0.0006036591795250376, 0.00042476429187480834, 0.0006260127777342349, 0.0004957668983263491, 0.0005497764929158526, 0.000711682439638232, 0.0005058429826407481, 0.0006104530659606515, 0.0006242289720234077, 0.0009840033737323944, 0.00040771308520087915, 0.0003164307475588539, 0.0004963547308190854, 0.00044194395199229986, 0.00026903019898979986, 0.000318572209212393, 0.0004238685816397305, 0.00040120609252443856, 0.00038824094646141443, 0.0004429527819883713, 0.00036309094332767703, 0.00048217893394494134, 0.00046826984813329265, 0.0005174193522975982, 0.0006364243756692094, 0.000601986456501031, 0.00029615446034638685, 0.0002382399607174494, 0.0005966547566885579, 0.00027512975385171243, 0.000583171938187346, 0.0003326395075710744, 0.0003541060477221854, 0.0003470854379466435, 0.0003083097262095124, 0.00032640461143320433, 0.00030790255045511116, 0.00043183954933208746, 0.0004870530360523957, 0.00045950096909850164, 0.0007264251387012552, 0.0008373702301260419, 0.0006916644889339547, 0.000417841090499268, 0.0004408498111646156, 0.00030120340900553213, 0.00030169713547486583, 0.0003544745784732089, 0.000306837177103163, 0.0003719649814843954, 0.0002920174403312154, 0.0003994867295292018, 0.00033855328956935803, 0.0005068927377963823, 0.00044268968124503246, 0.000538722879723696, 0.0005534867386900851, 0.0006105139375669926, 0.0005371280464070001, 0.00025090856779575637, 0.00041795060824028544, 0.0007648865283121306, 0.0004017475448325979, 0.0007511649008334297, 0.00023330081915093042, 0.0002241901603685425, 0.000511514639247821, 0.0002950003161110966, 0.0003321247288329847, 0.0003623929142000738, 0.000373101744944463, 0.00039430800797254787, 0.0004932631245961284, 0.0004787576926941168, 0.0005844039374260589, 0.0005830661341701891, 0.0006169636394592198, 0.0006004881611703522, 0.0006633650327383646, 0.0007348591725007588, 0.0005597814025565458, 0.0006759077784429947, 0.0006359902300597419, 0.0006303103362626982, 0.0006236118028427035, 0.0008180988393908764, 0.0007402377654277942, 0.0008207874776956318, 0.0007620275872716526, 0.0012001811110600245, 0.0003974743222275289, 0.0002700626315511412, 0.0002499018101846145, 0.00023868241312648863, 0.00024460692370086305, 0.0003229247702629054, 0.00019988266497487453, 0.00026108062780135914, 0.00024272016159476256, 0.000325322470634191, 0.000325192778557436, 0.00030605045372276925, 0.0004003346678337454, 0.00048299276746978826, 0.00042881423833955373, 0.00044226420138109094, 0.0003974743222275289, 0.0002700626315511412, 0.0002499018101846145, 0.00023868241312648863, 0.00024460692370086305, 0.0003229247702629054, 0.00019988266497487453, 0.00026108062780135914, 0.00024272016159476256, 0.000325322470634191, 0.000325192778557436, 0.00030605045372276925, 0.0004003346678337454, 0.00048299276746978826, 0.00042881423833955373, 0.00044226420138109094, 0.0003717687412577087, 0.0003741237320639599, 0.0003769130218819457, 0.000357510396468699, 0.00029211881787208805, 0.00036970235558589246, 0.0004954244283203455, 0.00029431271025439916, 0.00030065632052788164, 0.0003893367803912405, 0.00047448750470832656, 0.00045991347762004746, 0.0005086761608355829, 0.0005027797701887283, 0.0004970731401666271, 0.0008104820430937704, 0.0004233903273158575, 0.00039524156283332677, 0.00034366155785947036, 0.0004299328556196315, 0.0004018758924999191, 0.00043127089570081656, 0.0004031811945194565, 0.0003451078015786461, 0.0004917555644288503, 0.000439498157092166, 0.0005207684729683155, 0.00045190013300559583, 0.0005143711466628253, 0.00047004032925043905, 0.000543027922084341, 0.0005904866536566447, 0.0004017990005366976, 0.00024043281753759508, 0.0004413381911197178, 0.00024703432512124604, 0.0005398341632840324, 0.0002120267584926241, 0.00030072864562238986, 0.00031220388986311103, 0.00027135728622736745, 0.00031184958181291865, 0.00038941619160371224, 0.00034126278719075865, 0.0003836703743120661, 0.00048449561379150123, 0.00042857088869677825, 0.0005138283810894243, 0.0003131650792494645, 0.0003096855336738515, 0.0005283606271806172, 0.00026694028899226096, 0.0005399499401457592, 0.00034372246519901324, 0.000477273582471745, 0.0004918643270451995, 0.00030439599282579684, 0.0003331016440481653, 0.0003685351297161044, 0.00039419805702092044, 0.0004143135055894554, 0.0004935497718583936, 0.00043177521834620653, 0.0005750516149701834, 0.00025786811732614925, 0.0003793948810088304, 0.0003516068446515006, 0.0002257458282451485, 0.0003395395562531105, 0.00033735046687525795, 0.00038603505688495325, 0.0002623397983676124, 0.0003193271853262733, 0.00030687170220685664, 0.00038426206186225475, 0.00036740999855992764, 0.00041893226209704823, 0.0004196963663080584, 0.0005633065934070044, 0.000699842727481945, 0.0003084601591168148, 0.0004438060105014084, 0.00037509353008980995, 0.00029782729961109144, 0.0002947723201533518, 0.0003999642522221067, 0.00041958291656749806, 0.0002737434387589382, 0.0004618833823903165, 0.0004005598595059288, 0.00038777389309763534, 0.0004348657083692863, 0.0004387118637758664, 0.00042783303067067777, 0.0005345304396401184, 0.0006119940146394743, 0.000560481983638055, 0.0003579959335544342, 0.0008090272022244008, 0.000777581271659706, 0.0009065962550688497, 0.000518442343323052, 0.0010040832582508782, 0.0004994091681945559, 0.00038894540616051264, 0.00039956771498900163, 0.0003027445560290561, 0.0005452276340426535, 0.000310234796292869, 0.000389930950860957, 0.0006385747689447879, 0.00041474067738488595, 0.0002476580449674354, 0.0005234674202020107, 0.0002775213416623391, 0.00027726129832331093, 0.0002986971833089882, 0.0002913161659140141, 0.00022178457404235173, 0.0002728267800955725, 0.00037848034626139206, 0.00031933046202412896, 0.00031763817692433176, 0.0003336485014654671, 0.0003501959824521478, 0.0003473800586642803, 0.00037713855103439, 0.0004757707770986511, 0.0008118930760851016, 0.0004333663515064441, 0.00039500664075641716, 0.00033768902937751497, 0.0004679008463614349, 0.0004802428268785067, 0.00037727883838284756, 0.0003913958812464776, 0.0004727854845166799, 0.0004476850491065166, 0.00038046389514547716, 0.000514845282044808, 0.0004702891004670694, 0.0005885896543633617, 0.0006662975039525312, 0.0009043561511541011, 0.0003843134322990856, 0.0004591769795465698, 0.00042894719813499317, 0.000295825067261284, 0.0003835167582508204, 0.0003269739620423704, 0.000354941271442886, 0.00039642705598162925, 0.00036214685515190636, 0.00034655672237143527, 0.00036589455053891417, 0.00042153135766649186, 0.0005399421652269586, 0.0005876908374065679, 0.0005860738186601746, 0.0007838783779450742, 0.0003905873317840159, 0.0004834554299249539, 0.0003877782235684005, 0.00044644989612345167, 0.00033897082130603876, 0.00041805498210074855, 0.00037716079185498076, 0.0004718055379670883, 0.0005489247005411727, 0.00047176186815865576, 0.0004677576416732729, 0.0004901225309644811, 0.0005914592018208037, 0.0007683294687334567, 0.0007124882268752001, 0.0006910043934798731, 0.0004837855801000981, 0.0003834375410464448, 0.0003534527488751963, 0.0003111487655774181, 0.00029485901945344397, 0.0003838526139982327, 0.0004465538618939407, 0.0004934913993652311, 0.0004500151606652526, 0.0003835864137875231, 0.00042086548690749916, 0.0005092144682014991, 0.0004167473242918083, 0.0005436329881577787, 0.0006584335757159747, 0.0007406135690241958, 0.00031235183901897473, 0.0002857896973290621, 0.00039560031476383204, 0.00029793752383585253, 0.0002847265711613544, 0.00032196950006830634, 0.00039859191312261556, 0.0003731267933592804, 0.00034467489292615907, 0.00046066749395289806, 0.00040424043691367743, 0.000366596971917557, 0.00043794237513631543, 0.00046602720633258, 0.00046158646048543477, 0.0006742864373022949, 0.0006667184743879133, 0.0005533531712532292, 0.00029421658960639515, 0.0002863896524295441, 0.00036254382029363933, 0.0006015510463161371, 0.0007096057487913887, 0.0005026993181050713, 0.00025105822492380974, 0.0003130593692087059, 0.0003347118300004279, 0.00039500381653685706, 0.0004100725458500584, 0.0005309881785890446, 0.0005891467309486394, 0.0006508930347896551, 0.00043266646297201636, 0.0006568203441035602, 0.0002627054092432177, 0.0003540705050412402, 0.00041944076766711925, 0.00023175562405545688, 0.00041860053469383303, 0.0003359265473224606, 0.00024741645613622827, 0.0005029862383423814, 0.000675650468854509, 0.000790973599721966, 0.0006998035017494428, 0.0007768132590733107, 0.0008857746609488535, 0.0011629300034857262, 0.00047992285355237584, 0.0003588195510874852, 0.0005789670088075954, 0.0002948859897273002, 0.0002913204238790867, 0.00023252159658039253, 0.00023151143467263992, 0.00035842581511725505, 0.0003412386626794167, 0.00036749119774547387, 0.0005249807387569095, 0.0004997652960823767, 0.000517970382683054, 0.0005373034324398583, 0.0005535039927690469, 0.000691095208345748, 0.00036958855091057504, 0.00033018956009323887, 0.0005338040627038758, 0.0003432575273596038, 0.00031557472221159077, 0.00038162967489372535, 0.0003685680725527316, 0.0004227641463834626, 0.0005186956327447817, 0.00036272376417048326, 0.0004816134746466937, 0.0005342113656277381, 0.0006142321009208309, 0.0004988062823160051, 0.0005890206112376748, 0.0005392563426878856, 0.0007058995111140677, 0.0006374750000826367, 0.0004331058470127244, 0.00042273746171761175, 0.00046719016332442585, 0.0004777100472805804, 0.0005459919128203986, 0.00040313575472380846, 0.0005340076048511248, 0.0005707162246232024, 0.0005607751624437307, 0.0006667153182812544, 0.0005920123905671347, 0.0006871115816749954, 0.0007190535334189491, 0.0009111643423520748, 0.0006089191930689222, 0.0003642017224612508, 0.0006673821273678794, 0.0003328352783728802, 0.00042161528532323544, 0.0007411321065378652, 0.0002708162455177675, 0.000614265401660677, 0.00043379939271320805, 0.0003592034147540837, 0.0003988963757810396, 0.0005113647623868359, 0.00039149816383877837, 0.00041641158600093657, 0.0004174162289306131, 0.0005543849107627024, 0.0006873829425572809, 0.0006048559723158004, 0.000589773520808015, 0.0004941931283331847, 0.0004975582113238048, 0.00046371013950124225, 0.0004862624735063132, 0.000492168565247656, 0.0005213257351880315, 0.0005925921396265578, 0.0006245115931665536, 0.0006894138157616774, 0.0006711267571081217, 0.0008422236310651749, 0.0008623922308231167, 0.0012013999152353449, 0.0013981244475670816, 0.0010800895509172341, 0.0005206737319662498, 0.00034735318981367797, 0.00028756811150067895, 0.0003929965192244946, 0.00026960485113908, 0.0006543466604602789, 0.0003092868625313303, 0.0003886136837057468, 0.00047237599343392955, 0.0010198303202128198, 0.0008500121434352346, 0.0006577907599705262, 0.0006522337474357242, 0.0006866404406786449, 0.0008860467774243144, 0.0007993526482861106, 0.001432897932795106, 0.0017168578365113541, 0.001441752326261543, 0.0007943144042875267, 0.0008695072093351645, 0.0002677715403006384, 0.0004891471002178806, 0.00033869844893419447, 0.00037819384178299474, 0.000336096979952112, 0.00040204974173645657, 0.0004635015945715268, 0.000549222199285516, 0.0004901641231685477, 0.0003849217887521473, 0.00038537167575808525, 0.00033767151438524225, 0.00035732709948193176, 0.0003601242175645686, 0.00038967681794440284, 0.0004247825426294001, 0.0003949136466741218, 0.00046451509507222514, 0.000447170726502744, 0.0004462253508834534, 0.0005786400575256045, 0.0006441151586409506, 0.0006676149867652651, 0.0006306607804534562, 0.0008798774151826103, 0.0003312713098838424, 0.00024451134617467653, 0.0005024374560309088, 0.0002558896589488118, 0.00027755811869171576, 0.00042595191391974185, 0.0005907074945618265, 0.00029422478613837737, 0.0004497125120007203, 0.0003181754000008125, 0.00040510984852249886, 0.00034231521381267546, 0.0004137450555890058, 0.00046111602752658737, 0.000540694278384653, 0.0005861011335670919, 0.0006611494344942448, 0.0002818345974925596, 0.0003434905687765348, 0.0006706398669679063, 0.00045641108595229844, 0.0003887472527381891, 0.00039324202989126674, 0.0004421882494629788, 0.0004675736039507611, 0.0004441584145548219, 0.0004258293549639147, 0.00038657244125834314, 0.0004593089819637408, 0.0005351678033735978, 0.0007642423547758944, 0.000783829498912399, 0.00027908196472295504, 0.0003754379971591806, 0.00027254382232697993, 0.0003148913463338247, 0.0002843760046726376, 0.00032448503325759634, 0.00025540874555441073, 0.000315237690862046, 0.000284465743084197, 0.0002922070280806828, 0.00029089697152576957, 0.00035729975585959545, 0.00042367362715576727, 0.0004643315229644194, 0.0005126033267293286, 0.0007284021503320304, 0.00031466151381414833, 0.00030883795552669, 0.00041520131150014233, 0.0003898615011656515, 0.0002682530326456502, 0.00029035522407362175, 0.0003245044893566273, 0.0003025818877370753, 0.00028134090810855796, 0.00031071192967694803, 0.0004049140981294175, 0.0003708551095541967, 0.00046269271071545535, 0.0004821255491501346, 0.0005636722481483757, 0.0007166937492313171, 0.00040513293708013576, 0.000410938151240246, 0.0004096361079873226, 0.00039173655623779904, 0.0003898870457163951, 0.00035605784300970415, 0.00035060394038702455, 0.0003894965581383607, 0.000367935180794011, 0.0004553838124622937, 0.0004116585016983331, 0.0005334455208600012, 0.000567493250568562, 0.0005907699461679872, 0.0005413876799421189, 0.0006126677892222863]\n",
      "[0.9996191192253249, 0.9996166534166835, 0.9996616029532508, 0.9996176027892656, 0.999626648898788, 0.9996235315590398, 0.9996337874225554, 0.9996147369861427, 0.9996250844619742, 0.9996174127963685, 0.9995785099340098, 0.9994319371592582, 0.9995369220369077, 0.9995195371060394, 0.999475642343289, 0.9994145734926259, 0.9995100401253986, 0.9996618052006924, 0.9997035553360456, 0.9996193894129923, 0.9995956350775093, 0.9996045705700938, 0.9995936936005261, 0.9995379273433259, 0.999627292640384, 0.9996036743520851, 0.9996233851457892, 0.999549434417809, 0.9994981629110651, 0.999475024507106, 0.9994866822515879, 0.9992959048427672, 0.999683454265672, 0.9997487940279123, 0.9997644285323724, 0.9994724512321507, 0.9997032231940435, 0.9993860207266132, 0.9994273264295463, 0.9995498880732082, 0.9995749885955547, 0.999728430623159, 0.9996508242091574, 0.999631972764663, 0.9996755535742435, 0.9995528079327577, 0.9996300919009926, 0.9994733603398638, 0.9995876783044199, 0.9996303520794432, 0.9996712122556626, 0.9996449028069366, 0.9996364239138235, 0.9994777590140725, 0.9996535465175374, 0.9996760521106464, 0.9995516809002338, 0.9995777266438716, 0.9995262247840722, 0.9996358274163653, 0.9995760491495481, 0.999562533642328, 0.9995032513074154, 0.9994733510038429, 0.9996859107193912, 0.9996965252118978, 0.9995919473305229, 0.999724242927155, 0.9997574619857215, 0.9996104984866808, 0.9996138916860314, 0.9997155260071955, 0.9995752610357739, 0.9996341240523618, 0.9996276677513496, 0.9995629671356783, 0.9995805810777929, 0.9995280212580919, 0.9994874093534384, 0.9993667701561835, 0.9995388387432862, 0.9995157844008419, 0.9997341478236542, 0.9997622151999622, 0.9997042200277244, 0.9994109505776503, 0.9996298386407948, 0.9995190604468764, 0.9995836724527575, 0.9995675177896899, 0.999639657944598, 0.9995966217757106, 0.9995102284438214, 0.9994302761195856, 0.9995486595548003, 0.9993587862438925, 0.9996022210915209, 0.9996534516228945, 0.999604412344838, 0.9996691297273316, 0.9995575289573817, 0.9996098745341598, 0.9995147644495297, 0.99966041366767, 0.9995036740308193, 0.9995633652640061, 0.9995701048451224, 0.9995644791576301, 0.999422503493618, 0.999462411935867, 0.9992856793418741, 0.9994221094393811, 0.9996503416879878, 0.9997482750618186, 0.9996795946225854, 0.9997017283257191, 0.9996305203387567, 0.9996734873551435, 0.9997407371565112, 0.9997147237547678, 0.9996958055610993, 0.9996988349566944, 0.9996694043651424, 0.9996092168403982, 0.9996100977646724, 0.9994832426488066, 0.9994891351358127, 0.9994147490080123, 0.9995333763661263, 0.9996892560060743, 0.9996710491911056, 0.999639026127057, 0.9997167294113575, 0.9996494097181956, 0.9995474503761007, 0.9995978379031305, 0.9995929668242972, 0.9996090712941494, 0.9995238497497129, 0.9995728934265915, 0.9995025183677877, 0.999384630626956, 0.9994038689691023, 0.9992851833335423, 0.9995399140107912, 0.9996704686041535, 0.9995908118324368, 0.999716765430921, 0.9997652622085139, 0.9996979788802485, 0.9996648364808666, 0.9997471372394118, 0.9996300223291877, 0.9995547785886618, 0.9994089560302809, 0.9993619923911943, 0.9992942960482255, 0.9992380996699233, 0.9990179127019523, 0.9987944369965428, 0.9996682423678802, 0.9996678962955132, 0.9996324839004402, 0.9997340526063898, 0.999351068046124, 0.9994042156614965, 0.9996421926576482, 0.9994857017406668, 0.9993533971854904, 0.9997256894503758, 0.9996493206928948, 0.9996353296344338, 0.9994792016901806, 0.9993595181478889, 0.9993976833397449, 0.999147267390466, 0.9993787972374052, 0.9996198533031122, 0.9993807674044215, 0.9994759984243528, 0.9991816732306116, 0.9995748890888124, 0.9997086217557232, 0.999440166343694, 0.9994914999183806, 0.9995216134903137, 0.9995924335352125, 0.9996041990991383, 0.9995518207242645, 0.9994618489453546, 0.999381358913861, 0.9994697671129809, 0.99938913637377, 0.9996858399962624, 0.9996535604433461, 0.9995906687524537, 0.9997765352838411, 0.9997017982766156, 0.9996343620582182, 0.9996812286174134, 0.9997126547700889, 0.9996633311814315, 0.999531372298295, 0.9996009579605766, 0.9995581608696288, 0.9994861087129809, 0.9994367803774946, 0.9992558109177265, 0.9993998836557856, 0.9996427425575332, 0.9995874948184512, 0.9995473964118541, 0.9992159225207731, 0.9991342243315885, 0.9996880153716635, 0.9997169920871987, 0.9997139348441783, 0.9995159494062245, 0.9995854297839809, 0.9994549670924455, 0.9996412218765164, 0.9994753787961497, 0.9995262964190905, 0.9993885908948322, 0.9996180064055267, 0.9995749214377633, 0.9996686204237364, 0.9996079296649558, 0.9995889705545524, 0.9996827229212331, 0.9995885148040051, 0.9996274925704473, 0.9994900394881379, 0.9995773142391585, 0.9996668123438086, 0.9995342738180201, 0.999612864561658, 0.9995424677416243, 0.9995733144091102, 0.9994055181843026, 0.9997384563452255, 0.9997618417643911, 0.9996169887871844, 0.9998126442643755, 0.9996460267197392, 0.9991973272552008, 0.9994880428065961, 0.9995200856556682, 0.9994644591077756, 0.9996078316879635, 0.9996708035636449, 0.999477050680828, 0.9996662442777561, 0.9993679335901129, 0.9995530450870587, 0.9994648884861937, 0.9995925325179106, 0.999633281440497, 0.9992297715942402, 0.9995850096648067, 0.9997655461295446, 0.9992577092985763, 0.9995005886337448, 0.9995436074984478, 0.9994601573594056, 0.9994257719933819, 0.9995350323062174, 0.9995143637014006, 0.9994175450700029, 0.9991472431762971, 0.9994091375497565, 0.9992327239048064, 0.9995491266445324, 0.9995818966947025, 0.9994487903846957, 0.9991214015331973, 0.9992393553938562, 0.9992462421893058, 0.9994207070584811, 0.9994062847676723, 0.999489952750198, 0.999685256679354, 0.9996344659997002, 0.9993933691593514, 0.9994868993033796, 0.9994828144109734, 0.9994653337147723, 0.9993658736692426, 0.9994095381314383, 0.9995713064563584, 0.9992869472763645, 0.9988332022028594, 0.9992628621273258, 0.9996909003312713, 0.9994808843962804, 0.9997129306579643, 0.9996973822397734, 0.9996415178408177, 0.9995634643843921, 0.9995763769168773, 0.9994681836931337, 0.999463686336292, 0.999453574071407, 0.9994120591772837, 0.9996563523223781, 0.9997070618386773, 0.9994623609576808, 0.9996600925802042, 0.9997021271491117, 0.9996310916222133, 0.9996323677361499, 0.9996923615532555, 0.9995989657673717, 0.9996106962628404, 0.9995748913639526, 0.999534149705203, 0.9994893233081666, 0.9995031338157269, 0.9994472043273633, 0.9992958497553718, 0.9995900131020453, 0.999606597845369, 0.9996908219350831, 0.9996283526255282, 0.9996779715449134, 0.9995650738193129, 0.9996108627272119, 0.9996068428548925, 0.999625258322488, 0.9995161003114567, 0.9994533388804809, 0.9993451856740152, 0.9993062561488946, 0.9993339138835796, 0.9993517747159801, 0.9993660769476763, 0.9993189097845528, 0.9994463433323206, 0.9988963368951501, 0.9996096473813559, 0.9995832179885462, 0.9995978704484343, 0.9994239664392254, 0.9994702082618813, 0.999524164209194, 0.9994212321991722, 0.999539919223977, 0.9995232433667183, 0.9994850788130298, 0.999488766007823, 0.9994854322511794, 0.9993930234648415, 0.9995293824364102, 0.9996335644061102, 0.9997227898638449, 0.9997340847037491, 0.9997269245931876, 0.9996086109940159, 0.9997427028530429, 0.9996971687888754, 0.9996301049790252, 0.9996990164615995, 0.9996078087922635, 0.9996334571898187, 0.9996113904371791, 0.9995151258905735, 0.9994593212481292, 0.999454549875836, 0.9994894110735962, 0.9995941262872741, 0.9995294258123626, 0.999639914038348, 0.9994885106688167, 0.9996532098274548, 0.9996865462438889, 0.999623918476913, 0.9995144189007327, 0.9995323493252369, 0.9995742321330291, 0.9994851811115693, 0.9994578588141577, 0.9993349503024783, 0.9991954863044098, 0.999126385587251, 0.9995324225286265, 0.9997196487704095, 0.9996271450760555, 0.9996773038216407, 0.9997419814547555, 0.9997560277349976, 0.9996543525545153, 0.9996821189907923, 0.9996515735505177, 0.9996053947153074, 0.9995722236022049, 0.9995281220495738, 0.999602939692859, 0.9995158455706123, 0.9993775452352943, 0.9992099475195085, 0.9995282370638664, 0.9996330287482176, 0.9996564946449623, 0.9996498610795648, 0.9996825633476268, 0.999604213244118, 0.9996140020701427, 0.9995995819143002, 0.9996054120100027, 0.9996122032781766, 0.9995968058775119, 0.9995611839162487, 0.9995000055139392, 0.9994620722186256, 0.9993529448079518, 0.9992225453560002, 0.9994891068568389, 0.9996233113356615, 0.9995236421241617, 0.9996925437782134, 0.999472957219723, 0.9997550083871286, 0.9995454157131621, 0.9995585604176761, 0.999760544806689, 0.9996705188511773, 0.9995918586458493, 0.9996531913774005, 0.9996193385504698, 0.9996294606811629, 0.9993575865122625, 0.9992280875192615, 0.9995147345862534, 0.9995554207260986, 0.9995654386777975, 0.9995879739137284, 0.9994633605849357, 0.9995962860383735, 0.9995903123079471, 0.9995476660060372, 0.9995845211052786, 0.9995379049780422, 0.9994641700819681, 0.9994260328377416, 0.9994433952681334, 0.9994685945869981, 0.9994816070857362, 0.9992868461798696, 0.9995880799013551, 0.9995366323691608, 0.9997577615574699, 0.9997582725967008, 0.9997664223888295, 0.9996376639189621, 0.9996693090100469, 0.9992555222170063, 0.9996582128216297, 0.9997049081493383, 0.9996637543042437, 0.9996399416782372, 0.9996613828154102, 0.9996180021112554, 0.999570461854823, 0.9994189092555792, 0.9997365834189714, 0.9994713168736561, 0.9997408821477897, 0.9995871733570846, 0.9995613581172027, 0.9996458994759552, 0.999667160864992, 0.999767294760983, 0.9996638710879975, 0.999527782407162, 0.9996124310843401, 0.9997037320441174, 0.9996128391473857, 0.9995606857716467, 0.9995441987831687, 0.9995168376160699, 0.9994782562219556, 0.9995269896507059, 0.9996390547842723, 0.9995752398237399, 0.9996138122882237, 0.9994167453347093, 0.999563428435437, 0.9996015082323845, 0.9994950777331398, 0.9995144674423913, 0.999585776243126, 0.9995605572140118, 0.9995262234654972, 0.9995047382107617, 0.9993579188514239, 0.9993321476658056, 0.9995350320477961, 0.9994721913944227, 0.9995468887996074, 0.9995053129241522, 0.9993782589318367, 0.999480118978291, 0.9995441367022139, 0.9995201995926296, 0.9994256225099538, 0.9994410397695884, 0.9993729643734874, 0.999393106790417, 0.9993891236712155, 0.9993563462507226, 0.9993038250337883, 0.999235335788914, 0.99943871945732, 0.9994357724730037, 0.9993812774452852, 0.9989778414237523, 0.9992753468100548, 0.9994360677118534, 0.9992277983026528, 0.9994054115182365, 0.9995392012812649, 0.9995388796688615, 0.999366477619047, 0.9994923531109289, 0.9994240661928314, 0.9994383264715618, 0.9992577314794933, 0.9994025411088321, 0.9992609971444825, 0.9994007986489394, 0.999492228019825, 0.9997518853425356, 0.9992222181186642, 0.9995810371241862, 0.999590302317666, 0.9997651574369455, 0.9994227335087889, 0.9996209107698075, 0.9996389401042948, 0.9995417767372644, 0.9995883871584066, 0.999549025397585, 0.9994223895326618, 0.9993753640738429, 0.9995285336619479, 0.9994980609678727, 0.9995553601034911, 0.9995725764473317, 0.9994920552363825, 0.9994760917545831, 0.9995179083969344, 0.9995312763080791, 0.9995178586510657, 0.9994951756674298, 0.9995363176785668, 0.9995061172035425, 0.99921200635036, 0.9990082829705348, 0.9989998546132587, 0.9990645460502472, 0.9994636104294045, 0.999487936392917, 0.9995755317877288, 0.9996036753805921, 0.9995148355522671, 0.9994886256965775, 0.9995607882478412, 0.9996245496773338, 0.999609347518917, 0.9995413661253729, 0.9994260272205508, 0.9994167259705274, 0.9993660734135896, 0.9992915360875723, 0.9992098432734587, 0.9992025227476943, 0.9994440112572931, 0.9997021862719446, 0.9996727127551733, 0.999590894916025, 0.9997778831752582, 0.9997268684044767, 0.9997107669001205, 0.9997627338214189, 0.9997105240626639, 0.9996091619311385, 0.9996164007863289, 0.9996776147253592, 0.9995396921215295, 0.9995584533459917, 0.9994646624856404, 0.9991866326374185, 0.9991267363442757, 0.999179913775542, 0.9992356988896007, 0.9994262492974151, 0.9991421271308093, 0.9991607906137279, 0.9992265483124012, 0.9994952491089069, 0.9995723812997458, 0.9995359890972763, 0.9995439261148228, 0.9995656908817154, 0.9995012973800911, 0.9993709332579189, 0.9992714895631408, 0.9990583225844644, 0.9993944983203961, 0.999600295378815, 0.9997046865363757, 0.9994766000929723, 0.9994908565308277, 0.999667485029508, 0.9997896265485139, 0.9997680869146094, 0.999730958551817, 0.999618311800407, 0.9996693307112672, 0.9995492944128554, 0.9996585886119238, 0.9995894169598969, 0.9995487034875319, 0.9995627348045244, 0.9991663153778374, 0.999421775122245, 0.9995655754334508, 0.9995352991653231, 0.9993934857509413, 0.9994976885274236, 0.9993862925424005, 0.9994859523115301, 0.9994732755764353, 0.9994649889403837, 0.9993428264533036, 0.9994136621080635, 0.999291983043686, 0.9991401356326358, 0.9989178979485976, 0.998635305634176, 0.9995542980963054, 0.999605564318338, 0.9996128928530515, 0.9996326128924281, 0.9995544021508519, 0.9995630603779261, 0.9996100149739796, 0.9995389098511157, 0.9995405998526047, 0.9995128020012216, 0.9995261858298242, 0.9994639675694288, 0.9994466015035496, 0.9993532400173928, 0.9992897179849755, 0.9991539154375081, 0.9993946711686944, 0.9994426318635878, 0.9996490876572661, 0.9993249313688938, 0.9995583999514426, 0.9992754054144983, 0.9994281339398124, 0.9993983239011953, 0.9995481012992591, 0.9996206013874903, 0.999496934873552, 0.9994923251149196, 0.9994659824332539, 0.9994344156495528, 0.9994164051839199, 0.9991536620827246, 0.9996622065491222, 0.9996382056626755, 0.9996988363375204, 0.9996833051006668, 0.9996580454612674, 0.9996748538854933, 0.9996530000288982, 0.9996144476235884, 0.9995786884244164, 0.9995953472750638, 0.9995704763617703, 0.9994245290075194, 0.9994652030950497, 0.9995248051464491, 0.9993847493083291, 0.9993382277373639, 0.9996510281906786, 0.9997077885916533, 0.9995803418019437, 0.9996857412179372, 0.9997043800863956, 0.9996518122028302, 0.9997163057365084, 0.9996488083921775, 0.999654195054599, 0.9996801090883769, 0.9995701719484724, 0.9995710246787733, 0.9994981146977647, 0.9995257177453347, 0.9994890138330731, 0.9995130151898854, 0.9994269914572822, 0.9996860994190994, 0.9996348311926647, 0.9994904916373408, 0.9995683562910619, 0.9989787230833879, 0.9996165793512517, 0.9994139041931133, 0.99953010268174, 0.9994070213793891, 0.999557109190901, 0.9995281861446259, 0.9995461835145195, 0.9993686921372368, 0.9994004459683029, 0.9993176754161048, 0.9994517651409642, 0.9995554746033017, 0.9997156039161937, 0.9995396234428003, 0.9994907963262486, 0.99968057603176, 0.9997233646609197, 0.9996958892648506, 0.9996366106061014, 0.9996351167198768, 0.9995173562981182, 0.9993534484485771, 0.9993721210252646, 0.9994478763097259, 0.9992948373950001, 0.9992615307733929, 0.9997348729811993, 0.9994687489081573, 0.9997954801019301, 0.999727911230602, 0.9996380625733123, 0.9997633557696064, 0.9996058479316356, 0.9996842362774846, 0.9997526982220712, 0.9996504724638293, 0.9996410703758851, 0.9996733745901875, 0.9996893322058332, 0.9996600549711696, 0.9995918710117709, 0.9995862747151896, 0.9994355074373661, 0.9996484126814367, 0.9996653995114131, 0.9996501138010432, 0.9997492501211152, 0.9995749201170222, 0.9995206747445606, 0.9996780050091378, 0.9996481948077879, 0.9995446242872593, 0.9996503951197689, 0.9996239538189692, 0.9995028111175616, 0.9994429012333773, 0.9994281784064533, 0.9993654177653271, 0.9995569426410572, 0.9996875855694319, 0.9994093040287392, 0.999718377754145, 0.9994670454706224, 0.999490060941539, 0.9997136396369767, 0.9996331511209147, 0.999650386420557, 0.9995548579600464, 0.9996610643543781, 0.9995592020463971, 0.9995319975379815, 0.999448016064008, 0.9993548466578733, 0.9992251396744222, 0.9995880711612732, 0.9996308533379975, 0.9996082635024748, 0.9994673426897187, 0.9996253683993555, 0.9995814688807246, 0.9995257079338227, 0.999303598896574, 0.9993821358903857, 0.9994508113938546, 0.9994592320896363, 0.9994160825308438, 0.9993613129783969, 0.9992507932598768, 0.9992406701121652, 0.9992451534317786, 0.9992954601482119, 0.9993220404881934, 0.9994280578184723, 0.9993483155510471, 0.9994555539589164, 0.9994244911142475, 0.9994533888817192, 0.999540500384126, 0.9994833575516727, 0.9994397475763551, 0.999484027531979, 0.9994212179418882, 0.9993790039613283, 0.9992435562921271, 0.9989939914180351, 0.9986554166564354, 0.999395471358843, 0.9996925268404656, 0.9994746101528804, 0.9996011743627695, 0.9996533073611521, 0.9997729171152578, 0.9995865645393386, 0.9997590746502701, 0.999575004732262, 0.9996581656838844, 0.9996634860365923, 0.9996548793839602, 0.9996481116016456, 0.999629086503866, 0.9995772497820863, 0.9993894574983263, 0.9992502256782139, 0.9994334257621195, 0.9994898729173792, 0.999552187614037, 0.9994336605151606, 0.9994241937376475, 0.9994399005491329, 0.9994856979245138, 0.9994282843696899, 0.9994144863896586, 0.999415946550196, 0.9993535432869478, 0.9994401573021064, 0.9993037630856586, 0.9993052526671534, 0.998988775563829, 0.9996703241594012, 0.9989339033614683, 0.9991552447411879, 0.9990487852356942, 0.9992500498860946, 0.9993488817636712, 0.9986902550456974, 0.9993736882119014, 0.9992799239900994, 0.9994324824470796, 0.9995592324395309, 0.9990467655598537, 0.999443115332888, 0.9995109250065011, 0.9990602967882675, 0.9992178602709606, 0.9993785413888727, 0.9994503968060122, 0.9996574924968552, 0.9995817139455906, 0.9997431272217697, 0.9997009732152462, 0.9995788559238828, 0.9995084412310362, 0.999616555339869, 0.999528974567187, 0.9995198027996377, 0.9993976454354757, 0.9994014011120328, 0.9993643029592743, 0.999530802941146, 0.9992800032416939, 0.9996039014658511, 0.9996180261992602, 0.9996675642300262, 0.999664168828591, 0.9996576606693716, 0.9995403164478708, 0.999665331141243, 0.9995454324274897, 0.9995810536475352, 0.9996192104275811, 0.9995736566403404, 0.9995281811097688, 0.9995384992386129, 0.999505206112549, 0.9994003923513982, 0.9994434880344707, 0.9996279359103107, 0.9997008700410657, 0.9994986730125033, 0.9997551327123927, 0.9996962958054801, 0.9996693905509101, 0.9996918855672361, 0.9996879174584785, 0.9996527030145952, 0.9996679348224965, 0.999631464003648, 0.9995554237714606, 0.9995645773395814, 0.9994816029504953, 0.9994476936569755, 0.9994180299345954, 0.9994220028141556, 0.9994870364587498, 0.9995727287869044, 0.9996030130196392, 0.9995403149716245, 0.9996046259478742, 0.999396340820475, 0.9995752357081252, 0.9993739872222658, 0.9995042331016737, 0.9994502235070841, 0.9992883175603617, 0.9994941570173592, 0.9993895469340394, 0.9993757710279766, 0.9990159966262676, 0.9995922869147991, 0.9996835692524412, 0.9995036452691809, 0.9995580560480077, 0.9997309698010102, 0.9996814277907876, 0.9995761314183602, 0.9995987939074755, 0.9996117590535386, 0.9995570472180116, 0.9996369090566724, 0.999517821066055, 0.9995317301518667, 0.9994825806477025, 0.9993635756243308, 0.999398013543499, 0.9997038455396536, 0.9997617600392825, 0.9994033452433114, 0.9997248702461483, 0.9994168280618126, 0.9996673604924289, 0.9996458939522778, 0.9996529145620534, 0.9996916902737905, 0.9996735953885668, 0.9996920974495449, 0.9995681604506679, 0.9995129469639477, 0.9995404990309015, 0.9992735748612988, 0.9991626297698739, 0.999308335511066, 0.9995821589095008, 0.9995591501888353, 0.9996987965909945, 0.9996983028645251, 0.9996455254215267, 0.9996931628228969, 0.9996280350185156, 0.9997079825596688, 0.9996005132704708, 0.9996614467104307, 0.9994931072622036, 0.9995573103187549, 0.9994612771202763, 0.99944651326131, 0.999389486062433, 0.999462871953593, 0.9997490914322043, 0.9995820493917598, 0.9992351134716879, 0.9995982524551674, 0.9992488350991666, 0.999766699180849, 0.9997758098396314, 0.9994884853607522, 0.9997049996838889, 0.999667875271167, 0.9996376070858, 0.9996268982550556, 0.9996056919920274, 0.9995067368754039, 0.9995212423073059, 0.9994155960625739, 0.9994169338658299, 0.9993830363605408, 0.9993995118388297, 0.9993366349672617, 0.9992651408274993, 0.9994402185974435, 0.999324092221557, 0.9993640097699402, 0.9993696896637373, 0.9993763881971574, 0.9991819011606091, 0.9992597622345722, 0.9991792125223043, 0.9992379724127284, 0.99879981888894, 0.9996025256777725, 0.9997299373684488, 0.9997500981898154, 0.9997613175868735, 0.9997553930762991, 0.9996770752297371, 0.9998001173350252, 0.9997389193721986, 0.9997572798384052, 0.9996746775293658, 0.9996748072214425, 0.9996939495462772, 0.9995996653321663, 0.9995170072325302, 0.9995711857616605, 0.999557735798619, 0.9996025256777725, 0.9997299373684488, 0.9997500981898154, 0.9997613175868735, 0.9997553930762991, 0.9996770752297371, 0.9998001173350252, 0.9997389193721986, 0.9997572798384052, 0.9996746775293658, 0.9996748072214425, 0.9996939495462772, 0.9995996653321663, 0.9995170072325302, 0.9995711857616605, 0.999557735798619, 0.9996282312587423, 0.9996258762679361, 0.9996230869781181, 0.9996424896035313, 0.9997078811821279, 0.9996302976444141, 0.9995045755716797, 0.9997056872897456, 0.9996993436794721, 0.9996106632196088, 0.9995255124952916, 0.9995400865223799, 0.9994913238391644, 0.9994972202298112, 0.9995029268598333, 0.9991895179569062, 0.9995766096726841, 0.9996047584371667, 0.9996563384421405, 0.9995700671443803, 0.9995981241075, 0.9995687291042992, 0.9995968188054806, 0.9996548921984214, 0.9995082444355712, 0.9995605018429078, 0.9994792315270317, 0.9995480998669944, 0.9994856288533371, 0.9995299596707495, 0.9994569720779156, 0.9994095133463433, 0.9995982009994633, 0.9997595671824624, 0.9995586618088803, 0.9997529656748787, 0.9994601658367159, 0.9997879732415074, 0.9996992713543776, 0.9996877961101369, 0.9997286427137726, 0.999688150418187, 0.9996105838083963, 0.9996587372128093, 0.9996163296256879, 0.9995155043862085, 0.9995714291113033, 0.9994861716189106, 0.9996868349207505, 0.9996903144663262, 0.9994716393728194, 0.9997330597110078, 0.9994600500598543, 0.999656277534801, 0.9995227264175283, 0.9995081356729548, 0.9996956040071742, 0.9996668983559518, 0.9996314648702839, 0.9996058019429791, 0.9995856864944106, 0.9995064502281416, 0.9995682247816537, 0.9994249483850298, 0.9997421318826738, 0.9996206051189912, 0.9996483931553485, 0.9997742541717548, 0.9996604604437469, 0.9996626495331248, 0.999613964943115, 0.9997376602016323, 0.9996806728146738, 0.9996931282977931, 0.9996157379381377, 0.9996325900014401, 0.999581067737903, 0.999580303633692, 0.999436693406593, 0.9993001572725181, 0.9996915398408832, 0.9995561939894986, 0.9996249064699102, 0.9997021727003889, 0.9997052276798466, 0.9996000357477779, 0.9995804170834325, 0.999726256561241, 0.9995381166176097, 0.9995994401404941, 0.9996122261069024, 0.9995651342916307, 0.9995612881362241, 0.9995721669693293, 0.9994654695603599, 0.9993880059853605, 0.999439518016362, 0.9996420040664455, 0.9991909727977756, 0.9992224187283403, 0.9990934037449312, 0.9994815576566769, 0.9989959167417491, 0.9995005908318054, 0.9996110545938395, 0.999600432285011, 0.9996972554439709, 0.9994547723659574, 0.9996897652037071, 0.9996100690491391, 0.9993614252310552, 0.9995852593226151, 0.9997523419550326, 0.999476532579798, 0.9997224786583376, 0.9997227387016767, 0.999701302816691, 0.999708683834086, 0.9997782154259577, 0.9997271732199045, 0.9996215196537386, 0.9996806695379759, 0.9996823618230757, 0.9996663514985346, 0.9996498040175479, 0.9996526199413357, 0.9996228614489656, 0.9995242292229013, 0.9991881069239149, 0.9995666336484935, 0.9996049933592436, 0.9996623109706225, 0.9995320991536386, 0.9995197571731215, 0.9996227211616171, 0.9996086041187535, 0.9995272145154833, 0.9995523149508935, 0.9996195361048545, 0.9994851547179552, 0.9995297108995329, 0.9994114103456366, 0.9993337024960475, 0.9990956438488459, 0.999615686567701, 0.9995408230204534, 0.999571052801865, 0.9997041749327387, 0.9996164832417492, 0.9996730260379576, 0.9996450587285571, 0.9996035729440184, 0.9996378531448481, 0.9996534432776286, 0.9996341054494611, 0.9995784686423335, 0.9994600578347731, 0.9994123091625934, 0.9994139261813398, 0.999216121622055, 0.999609412668216, 0.999516544570075, 0.9996122217764316, 0.9995535501038766, 0.9996610291786939, 0.9995819450178992, 0.999622839208145, 0.9995281944620329, 0.9994510752994589, 0.9995282381318413, 0.9995322423583267, 0.9995098774690355, 0.9994085407981792, 0.9992316705312665, 0.9992875117731248, 0.9993089956065201, 0.9995162144198999, 0.9996165624589536, 0.9996465472511248, 0.9996888512344226, 0.9997051409805465, 0.9996161473860018, 0.999553446138106, 0.9995065086006347, 0.9995499848393348, 0.9996164135862124, 0.9995791345130925, 0.9994907855317985, 0.9995832526757082, 0.9994563670118423, 0.9993415664242841, 0.9992593864309758, 0.999687648160981, 0.9997142103026709, 0.9996043996852362, 0.9997020624761641, 0.9997152734288386, 0.9996780304999316, 0.9996014080868774, 0.9996268732066407, 0.9996553251070739, 0.9995393325060471, 0.9995957595630863, 0.9996334030280825, 0.9995620576248637, 0.9995339727936674, 0.9995384135395146, 0.9993257135626977, 0.9993332815256121, 0.9994466468287467, 0.9997057834103936, 0.9997136103475704, 0.9996374561797063, 0.9993984489536839, 0.9992903942512086, 0.9994973006818949, 0.9997489417750762, 0.9996869406307913, 0.9996652881699996, 0.9996049961834631, 0.99958992745415, 0.9994690118214109, 0.9994108532690513, 0.9993491069652104, 0.999567333537028, 0.9993431796558965, 0.9997372945907568, 0.9996459294949588, 0.9995805592323329, 0.9997682443759446, 0.9995813994653062, 0.9996640734526775, 0.9997525835438638, 0.9994970137616577, 0.9993243495311455, 0.9992090264002781, 0.9993001964982505, 0.9992231867409267, 0.9991142253390511, 0.9988370699965142, 0.9995200771464476, 0.9996411804489125, 0.9994210329911924, 0.9997051140102727, 0.9997086795761209, 0.9997674784034196, 0.9997684885653274, 0.9996415741848828, 0.9996587613373206, 0.9996325088022545, 0.999475019261243, 0.9995002347039176, 0.9994820296173169, 0.9994626965675601, 0.9994464960072309, 0.9993089047916542, 0.9996304114490894, 0.9996698104399068, 0.9994661959372961, 0.9996567424726404, 0.9996844252777884, 0.9996183703251063, 0.9996314319274473, 0.9995772358536166, 0.9994813043672552, 0.9996372762358295, 0.9995183865253533, 0.9994657886343723, 0.9993857678990792, 0.999501193717684, 0.9994109793887623, 0.9994607436573121, 0.9992941004888859, 0.9993625249999174, 0.9995668941529873, 0.9995772625382824, 0.9995328098366756, 0.9995222899527194, 0.9994540080871795, 0.9995968642452762, 0.9994659923951489, 0.9994292837753768, 0.9994392248375563, 0.9993332846817188, 0.9994079876094328, 0.999312888418325, 0.999280946466581, 0.999088835657648, 0.9993910808069311, 0.9996357982775388, 0.9993326178726322, 0.9996671647216271, 0.9995783847146767, 0.9992588678934622, 0.9997291837544823, 0.9993857345983393, 0.9995662006072867, 0.999640796585246, 0.999601103624219, 0.9994886352376131, 0.9996085018361612, 0.9995835884139991, 0.9995825837710693, 0.9994456150892373, 0.9993126170574427, 0.9993951440276841, 0.999410226479192, 0.9995058068716668, 0.9995024417886762, 0.9995362898604988, 0.9995137375264936, 0.9995078314347523, 0.999478674264812, 0.9994074078603734, 0.9993754884068334, 0.9993105861842383, 0.9993288732428919, 0.9991577763689349, 0.9991376077691769, 0.9987986000847646, 0.998601875552433, 0.9989199104490828, 0.9994793262680337, 0.9996526468101863, 0.9997124318884993, 0.9996070034807755, 0.999730395148861, 0.9993456533395397, 0.9996907131374687, 0.9996113863162942, 0.999527624006566, 0.9989801696797872, 0.9991499878565647, 0.9993422092400295, 0.9993477662525643, 0.9993133595593213, 0.9991139532225757, 0.9992006473517139, 0.9985671020672049, 0.9982831421634887, 0.9985582476737385, 0.9992056855957124, 0.9991304927906648, 0.9997322284596993, 0.9995108528997821, 0.9996613015510658, 0.999621806158217, 0.9996639030200479, 0.9995979502582636, 0.9995364984054285, 0.9994507778007145, 0.9995098358768314, 0.9996150782112478, 0.9996146283242419, 0.9996623284856148, 0.9996426729005181, 0.9996398757824354, 0.9996103231820556, 0.9995752174573705, 0.9996050863533259, 0.9995354849049278, 0.9995528292734972, 0.9995537746491165, 0.9994213599424744, 0.9993558848413591, 0.9993323850132347, 0.9993693392195465, 0.9991201225848174, 0.9996687286901161, 0.9997554886538254, 0.999497562543969, 0.9997441103410512, 0.9997224418813083, 0.9995740480860803, 0.9994092925054382, 0.9997057752138616, 0.9995502874879992, 0.9996818245999992, 0.9995948901514775, 0.9996576847861873, 0.999586254944411, 0.9995388839724734, 0.9994593057216153, 0.999413898866433, 0.9993388505655058, 0.9997181654025075, 0.9996565094312234, 0.9993293601330321, 0.9995435889140477, 0.9996112527472618, 0.9996067579701088, 0.999557811750537, 0.9995324263960492, 0.9995558415854452, 0.9995741706450361, 0.9996134275587416, 0.9995406910180362, 0.9994648321966264, 0.9992357576452241, 0.9992161705010876, 0.9997209180352771, 0.9996245620028408, 0.999727456177673, 0.9996851086536662, 0.9997156239953273, 0.9996755149667425, 0.9997445912544456, 0.9996847623091379, 0.9997155342569158, 0.9997077929719194, 0.9997091030284743, 0.9996427002441404, 0.9995763263728442, 0.9995356684770356, 0.9994873966732707, 0.999271597849668, 0.9996853384861859, 0.9996911620444733, 0.9995847986884998, 0.9996101384988344, 0.9997317469673543, 0.9997096447759264, 0.9996754955106434, 0.9996974181122629, 0.9997186590918914, 0.9996892880703231, 0.9995950859018706, 0.9996291448904459, 0.9995373072892846, 0.9995178744508498, 0.9994363277518516, 0.9992833062507687, 0.9995948670629199, 0.9995890618487597, 0.9995903638920127, 0.9996082634437622, 0.9996101129542836, 0.9996439421569903, 0.999649396059613, 0.9996105034418616, 0.999632064819206, 0.9995446161875378, 0.9995883414983017, 0.99946655447914, 0.9994325067494314, 0.999409230053832, 0.9994586123200578, 0.9993873322107777]\n"
     ]
    }
   ],
   "source": [
    "MAPE_train_list = []\n",
    "acc_train_list = []\n",
    "for i in range(0, len(aa_train)):\n",
    "    MAPE_train_data = (np.sum(np.abs(y_train[i]-decoded_train[i])) / np.sum(np.abs(y_train[i])))/(y_train.shape[0]/16)*100\n",
    "    MAPE_train_list.append(MAPE_train_data)\n",
    "    acc_train_data = 1 - MAPE_train_data\n",
    "    acc_train_list.append(acc_train_data)\n",
    "print(MAPE_train_list)\n",
    "print(acc_train_list)"
   ]
  },
  {
   "cell_type": "code",
   "execution_count": 48,
   "id": "c68f1fec",
   "metadata": {},
   "outputs": [
    {
     "name": "stdout",
     "output_type": "stream",
     "text": [
      "[0.0024326611299583783, 0.0011285492295869605, 0.0007507157725995309, 0.0007309613820353902, 0.0013393752878058669, 0.0012414269422274496, 0.0010279725643445523, 0.000662357145239758, 0.0009585188349649288, 0.0014636437313348158, 0.0010767442217214278, 0.0010252790107575746, 0.0014068516624156356, 0.0010450826100508895, 0.0009605531990260853, 0.0014778269365592295, 0.00926624030362182, 0.009053649203550266, 0.007004292007523379, 0.001219541427209382, 0.003941351683620494, 0.006159683813112643, 0.00945017564657353, 0.008141156712919092, 0.011903492150614547, 0.008391571496033142, 0.0029014678563788767, 0.004987434045808025, 0.0013262292679821033, 0.008626117897676562, 0.00469324239537575, 0.008891007907834881, 0.0043693658242057, 0.0031968136239829237, 0.002478065825489997, 0.00174464562312451, 0.0019863287327484846, 0.0023537312625965963, 0.0008552059485317109, 0.0017629372486147805, 0.0010003808520241179, 0.0015501337642099587, 0.001324514212232606, 0.0026033409278321934, 0.0017987968241838358, 0.0015253875646520723, 0.0048796861758038995, 0.003988551981024881, 0.0037433829141994834, 0.002962235497180469, 0.0025209891794554513, 0.0011582401555633602, 0.000606171119738623, 0.0013620898134770194, 0.0018549962047067871, 0.0027185383040720336, 0.0005914555137176823, 0.002110078714502025, 0.002885653219682484, 0.0032921857556084187, 0.0029887567161654897, 0.0012094958361943083, 0.001179152738630378, 0.001318836840101527, 0.006654505932678565, 0.006598239277080982, 0.01374974245515142, 0.004888200680821444, 0.007375820308841235, 0.00394071709886717, 0.009319053603278216, 0.008916318439737843, 0.008501970677247577, 0.012636325349392647, 0.007195499049407613, 0.002849769390184064, 0.0020306909380611053, 0.004730974953451427, 0.0067769711397024, 0.006008042472206871, 0.005652065634177184, 0.008428641513375947, 0.0024940946799170693, 0.01971977232711836, 0.008983314109991133, 0.027950074150117823, 0.014747570204100035, 0.018450847615865414, 0.00602243917446906, 0.010891375017567012, 0.006409261106435941, 0.007612389880098667, 0.004156336628052884, 0.0031022841333684715, 0.01287066749761207, 0.03265695544744133, 0.01702492713348838, 0.023079816975920073, 0.034407997666736724, 0.027881249579379028, 0.0294925433662098, 0.03017139892440993, 0.018450324538896713, 0.03283302970349972, 0.02701671425109074, 0.02855109734457143, 0.03881958384933908, 0.021624207011255763, 0.026331242456440012, 0.02864139864101189, 0.02649529805681057, 0.039379943007186, 0.006249047079974559, 0.003285299834142854, 0.0009467373871457752, 0.004183053847269178, 0.0008503561591905385, 0.005829298330836468, 0.007308316302198518, 0.0008384925740484649, 0.0015689239894528858, 0.001498531859946579, 0.00840710202211656, 0.0044782402108909545, 0.003730688562034389, 0.0015299214407028126, 0.010223453285308133, 0.016963622931970568, 0.016188340740564057, 0.02391127527758122, 0.03112382739755623, 0.025850221224837346, 0.03388250858838117, 0.024491373360871743, 0.02638625711491228, 0.020443205678330193, 0.01990432495249531, 0.015770352552417412, 0.02289372153350741, 0.02376888776787036, 0.021490085762229334, 0.018493248111508844, 0.02167813888113294, 0.019961357146271876, 0.012885492703528312, 0.016559869274220797, 0.010760125712180622, 0.02739214555669036, 0.01723570587279925, 0.029704788165759603, 0.02174510283649693, 0.01996077080011432, 0.009647663572092055, 0.007556175670345906, 0.013813736805780796, 0.01289472315678389, 0.008374100266622645, 0.004389893002113147, 0.006288273324292018, 0.0282755080938614, 0.0013010298209653575, 0.004892065772878221, 0.0015653257275364688, 0.004607924718885138, 0.004474884329555599, 0.008196799764279448, 0.01702454750004185, 0.007209117482015068, 0.004324300743083003, 0.005001641239594677, 0.001736152133535036, 0.0010354819666732857, 0.0012064407864741677, 0.00422503816025713, 0.002064383034014182, 0.004906059756356228, 0.009375149820155628, 0.008742942978382835, 0.0034409874319299275, 0.004304332392972659, 0.003320563622528641, 0.002732919920705719, 0.0049273212298515815, 0.004186444799995368, 0.004212219229525692, 0.003299259987917561, 0.0009318985399224024, 0.0010138730245622515, 0.0020711770721977335, 0.0021632196838006434, 0.004068380388714666, 0.002780223497069265, 0.003052417783217347, 0.0031164198210521465, 0.00235132882996361, 0.0045799500756877115, 0.005610533359648753, 0.0014076542549563559, 0.005558506856324603, 0.0008201655276079186, 0.006086812843119843, 0.001277280246779139, 0.005706993440057362, 0.0028954973876114776, 0.00989414937127464, 0.0035144960732798884, 0.009824373403431577, 0.002911969266860223, 0.007085241805762202, 0.001492347998951747, 0.0056474958663620956, 0.0032820519829891886, 0.01586268144232715, 0.02656446966472812, 0.02877369376261286, 0.04399729471391264, 0.037633529100593276, 0.026160475474046666, 0.028022828547284554, 0.029473547914061374, 0.025142288669430277, 0.01943201506203549, 0.01727550400634067, 0.010930777359828985, 0.001150014585246783, 0.0016146073933661668, 0.0017519214120624296, 0.0033716939773203425, 0.001443274598290291, 0.005041276824939784, 0.0007037091741712069, 0.0006837377922928202, 0.004149396952974605, 0.0022468123673872607, 0.0010925632678521896, 0.0017441303365365642, 0.0016494135197995877, 0.0011959321854797208, 0.0030868125021216455, 0.004725438111221844, 0.003697228658619511, 0.00735934362099769, 0.008481798328561546, 0.025548266472584347, 0.014230133263017399, 0.028169384705569216, 0.013265489346258192, 0.010226276897739882, 0.014852354658013368, 0.013103603815861104, 0.008794603959415268, 0.007740374319213474, 0.006499387377531312, 0.008057937117696153, 0.01359604962946575, 0.021666233186079614, 0.0005949849748895514, 0.0015230450980746127, 0.000802954169415652, 0.0014016742424548946, 0.0006580026128493059, 0.0005340849719286653, 0.0006283078371312244, 0.0007028586926657466, 0.0013513389710579629, 0.001334538024322114, 0.0007799904733441445, 0.0014317294742939226, 0.0008049146270433849, 0.0023079432893243486, 0.0024602218155485825, 0.0028203422900573475, 0.004730235950144307, 0.005854286484953687, 0.015135783764122635, 0.01989603175049713, 0.01684051380891356, 0.022244740425415847, 0.003329961677945144, 0.009165406695452192, 0.007848711144195055, 0.006626595226632729, 0.01066965100927162, 0.0016962146710942328, 0.003904223600586043, 0.012008713843036188, 0.00395226150646145, 0.006198828227885783, 0.012069301506596665, 0.015032947974005659, 0.01857099518183738, 0.023943512768167953, 0.02348686390896199, 0.03019154657885795, 0.028822480405623713, 0.026506543207608334, 0.02421786812654779, 0.029612825219551858, 0.028357262934501127, 0.028229388117031816, 0.019118859428065016, 0.018003902829274894, 0.012683952575021093, 0.02117924419805071, 0.002944120836902425, 0.0037682365417002397, 0.0019944878000930097, 0.002496841367326301, 0.003181422515977516, 0.0013114523571229155, 0.0023755037410763485, 0.0012001164622765844, 0.0010083185906823076, 0.0009175073170052322, 0.0018142629247770486, 0.0019724772826704854, 0.0026659487925416257, 0.003019086189912343, 0.0020462944897153266, 0.004067341347452804, 0.003926726533048577, 0.005071762911522451, 0.0028663935198783666, 0.002158083635682408, 0.0037830423858487747, 0.0017331756107224355, 0.0029794726801973593, 0.002065784634694095, 0.0021769632452457487, 0.0018607981200841274, 0.0012017773428379275, 0.0009208214441123664, 0.0016322102810580996, 0.0014090231451878018, 0.004815914760018551, 0.0017970632465815297, 0.007679501948235927, 0.006395756450416977, 0.002675486954859814, 0.0030044409488165233, 0.0027159049717274493, 0.0013842268785342236, 0.006497313673261467, 0.002666773522407034, 0.0018548585818850894, 0.0009018411292141201, 0.0017395415507261837, 0.0013747016710646703, 0.001366637417860251, 0.004863784245901895, 0.0012846097870569421, 0.0032080881427492725, 0.005343811666415208, 0.003008198032707759, 0.0036395985953107447, 0.0064081110381765645, 0.006168559441574888, 0.013694524744151617, 0.0040256886179623665, 0.0024327131998520476, 0.012290348444723558, 0.003565375692239204, 0.004344329454050407, 0.0011141913119011428, 0.007679866405965098, 0.009116409097877635, 0.010882395379269657, 0.013084575671738595, 0.002428192682476077, 0.0007256974767077314, 0.003436645887340713, 0.0013774459835096513, 0.0010074111359714367, 0.0031993584103416042, 0.0008308599257194614, 0.0018692131605316262, 0.0014416559929368363, 0.0027310246791767334, 0.0035238619075892495, 0.0021513770149645213, 0.0015518189771300474, 0.0015532862726883537, 0.0014166410020291283, 0.0020847143177534578, 0.07417020007158835, 0.06818465137673085, 0.03648568668415322, 0.0616208417427313, 0.03873981461986456, 0.03622424027029521, 0.021065152990080074, 0.005473438174274882, 0.019899632185347838, 0.016108886875587647, 0.026414871252309242, 0.03847176727310495, 0.06387214697019789, 0.10384701863871769, 0.08142959474706626, 0.11117603538646206, 0.0033092413068255993, 0.004329632194212235, 0.0011227794993245934, 0.0012595805774749534, 0.0011480884303106628, 0.002196102763226236, 0.0033223700652359714, 0.0010894047188885739, 0.0013698441775145025, 0.0006899277482210868, 0.0023089488039646517, 0.0013891156217373931, 0.0022918488785481487, 0.0015995238285672138, 0.003260476412753554, 0.0028486102939642073, 0.0056209863745593155, 0.004037742375357027, 0.0022735534284171873, 0.003777058767433701, 0.0007711469862100409, 0.0009671032498676742, 0.0021463786131614296, 0.0008848953720969965, 0.001053982237720654, 0.001218424991614968, 0.003176075123753171, 0.0018499729701745625, 0.002029265477417634, 0.0013137634781886435, 0.0017564806943765887, 0.0033111653249136576, 0.008876197286734215, 0.003794047145937634, 0.005262445393519981, 0.002573489222344908, 0.002456714245431691, 0.009178955915754159, 0.002252353679647055, 0.0020456079049944505, 0.007793750904148351, 0.001611219994642452, 0.012177084262132638, 0.01764906214432894, 0.01523521865384574, 0.009294213760829558, 0.013587115394788572, 0.017405992935705702, 0.002640398898971513, 0.00487402058270564, 0.007642366609779391, 0.005150938815001009, 0.006890302031260758, 0.006033630656685069, 0.006284802431719385, 0.003919569645436707, 0.001681825324262433, 0.0038835485948982684, 0.0013691140930977726, 0.0012049752880871894, 0.0022064940857362083, 0.002838334385863262, 0.002726846424191927, 0.0034728275654307026, 0.018224414049535155, 0.014775280706378638, 0.025005213803323025, 0.026613042027527806, 0.008170384640601259, 0.022232852685312138, 0.00612994540437416, 0.003350289329352988, 0.013836212346133032, 0.01117614624329629, 0.01065885754436619, 0.005445760308856017, 0.0055962533336820315, 0.004527248837568694, 0.0020333858817662884, 0.0032801193745028937, 0.011900697825918972, 0.011336267425788459, 0.004773934596423992, 0.005802844900098863, 0.0025097388253189205, 0.005038616180292111, 0.00568625885877918, 0.0053094083866703865, 0.004840814763870826, 0.00335854945817518, 0.0028290019510900668, 0.002040213945314191, 0.002481411440352387, 0.0025389858385271094, 0.003140188902168457, 0.0037025714651573467, 0.016188340740564057, 0.02391127527758122, 0.03112382739755623, 0.025850221224837346, 0.03388250858838117, 0.024491373360871743, 0.02638625711491228, 0.020443205678330193, 0.01990432495249531, 0.015770352552417412, 0.02289372153350741, 0.02376888776787036, 0.021490085762229334, 0.01849324782870208, 0.02167813888113294, 0.019961357146271876, 0.008464455240144119, 0.0008930003534447471, 0.004588845476956431, 0.006149405517995932, 0.009120602023436473, 0.0015918216406697082, 0.005292523370568387, 0.003519014874577557, 0.002388287912356, 0.005775184353470427, 0.005519257057038009, 0.0055167095646683015, 0.007190001747434798, 0.008210278226510359, 0.010634431349183106, 0.004984828830868423, 0.0016895315019807924, 0.0007066041304747081, 0.0008662908081992816, 0.0012688130940488962, 0.0009831916582373232, 0.0012595268523295086, 0.0007060836500918658, 0.0009971866370820854, 0.0012245546366744407, 0.0013009237627895417, 0.0010040706791471247, 0.0012877437053130918, 0.001182381560249435, 0.0016043145742756584, 0.0017438005235630015, 0.0014650107288602496, 0.000682931225428207, 0.0011330459981720004, 0.0006049151868044157, 0.0010097456052270064, 0.0016186524758208085, 0.0012695000651891252, 0.0006422347776644211, 0.000796273802202478, 0.0008893325592397812, 0.0009294156141880939, 0.0008915123908732912, 0.0017500596233494252, 0.0012446416288480072, 0.0013858620246941771, 0.0011220389248135028, 0.002760299868460949, 0.005468209869538962, 0.00404231717475326, 0.004544611170646051, 0.0027650277528092314, 0.002573156631999096, 0.0017767104703532981, 0.002327330888091607, 0.0019322628722051277, 0.001294917247163413, 0.0009866537360399288, 0.0029847575953728315, 0.0023700843754443928, 0.0020167942300514555, 0.001983741243063, 0.003299751005684399, 0.003225273822028139, 0.003276718132004404, 0.005487203530048826, 0.0022658010690613712, 0.0045427974432293156, 0.00105112881734983, 0.004615611102859722, 0.002761131847386974, 0.0019783710078590615, 0.0039804525127275035, 0.004800529647153881, 0.0012920621791861417, 0.004375842929233791, 0.002986211249120409, 0.002235912101779781, 0.0026373356191337484, 0.0013409611515023715, 0.0013966060650386612, 0.0018502456003092573, 0.0011355645391760165, 0.0007684005056768379, 0.0008641026750522402, 0.0004608392859441764, 0.0012515614038120428, 0.0013540138264214825, 0.0006967100119454173, 0.002254767275243736, 0.00131811193913913, 0.001229322281412612, 0.001450988249339021, 0.0008456578006469752, 0.003452357783770832, 0.002343819142913497, 0.0007847566629732531, 0.002828289613493059, 0.005014310187163891, 0.001640383691825007, 0.0007796121946267297, 0.0022136605770482396, 0.003612674313649019, 0.004433264174006272, 0.002114420633605469, 0.0007258926082075197, 0.0010099812691575613, 0.0011601061782140114, 0.0034768943106337556, 0.0013568186499314703, 0.0051153925786700406, 0.0035895118599093513, 0.005947571106023404, 0.0027559059544157967, 0.0011142811542179003, 0.003518422836257258, 0.0028584724499330703, 0.001899964365379844, 0.0011511410461330861, 0.009202518712540138, 0.01910436822665312, 0.012818690049911175, 0.00594482884162819, 0.007892319635333166, 0.005284864466618385, 0.006465709022079762, 0.005735630483624274, 0.007266681589977314]\n",
      "[0.9975673388700417, 0.9988714507704131, 0.9992492842274004, 0.9992690386179646, 0.9986606247121941, 0.9987585730577726, 0.9989720274356555, 0.9993376428547602, 0.9990414811650351, 0.9985363562686652, 0.9989232557782786, 0.9989747209892424, 0.9985931483375844, 0.9989549173899491, 0.9990394468009739, 0.9985221730634408, 0.9907337596963782, 0.9909463507964498, 0.9929957079924766, 0.9987804585727906, 0.9960586483163795, 0.9938403161868874, 0.9905498243534264, 0.991858843287081, 0.9880965078493854, 0.9916084285039669, 0.9970985321436211, 0.995012565954192, 0.9986737707320179, 0.9913738821023235, 0.9953067576046243, 0.9911089920921651, 0.9956306341757943, 0.9968031863760171, 0.99752193417451, 0.9982553543768755, 0.9980136712672515, 0.9976462687374034, 0.9991447940514683, 0.9982370627513852, 0.9989996191479759, 0.99844986623579, 0.9986754857877674, 0.9973966590721678, 0.9982012031758162, 0.998474612435348, 0.9951203138241961, 0.9960114480189751, 0.9962566170858005, 0.9970377645028196, 0.9974790108205446, 0.9988417598444367, 0.9993938288802614, 0.9986379101865229, 0.9981450037952933, 0.997281461695928, 0.9994085444862824, 0.997889921285498, 0.9971143467803175, 0.9967078142443916, 0.9970112432838345, 0.9987905041638057, 0.9988208472613697, 0.9986811631598985, 0.9933454940673214, 0.993401760722919, 0.9862502575448486, 0.9951117993191786, 0.9926241796911588, 0.9960592829011329, 0.9906809463967218, 0.9910836815602622, 0.9914980293227524, 0.9873636746506074, 0.9928045009505924, 0.9971502306098159, 0.9979693090619389, 0.9952690250465486, 0.9932230288602976, 0.9939919575277931, 0.9943479343658228, 0.991571358486624, 0.997505905320083, 0.9802802276728816, 0.9910166858900089, 0.9720499258498821, 0.9852524297959, 0.9815491523841345, 0.9939775608255309, 0.989108624982433, 0.9935907388935641, 0.9923876101199013, 0.9958436633719471, 0.9968977158666316, 0.9871293325023879, 0.9673430445525587, 0.9829750728665116, 0.9769201830240799, 0.9655920023332633, 0.972118750420621, 0.9705074566337902, 0.9698286010755901, 0.9815496754611033, 0.9671669702965002, 0.9729832857489092, 0.9714489026554286, 0.961180416150661, 0.9783757929887442, 0.97366875754356, 0.9713586013589881, 0.9735047019431894, 0.960620056992814, 0.9937509529200255, 0.9967147001658572, 0.9990532626128542, 0.9958169461527309, 0.9991496438408095, 0.9941707016691635, 0.9926916836978015, 0.9991615074259516, 0.9984310760105471, 0.9985014681400535, 0.9915928979778834, 0.9955217597891091, 0.9962693114379656, 0.9984700785592971, 0.9897765467146918, 0.9830363770680295, 0.9838116592594359, 0.9760887247224188, 0.9688761726024437, 0.9741497787751626, 0.9661174914116188, 0.9755086266391283, 0.9736137428850877, 0.9795567943216698, 0.9800956750475047, 0.9842296474475826, 0.9771062784664926, 0.9762311122321297, 0.9785099142377707, 0.9815067518884911, 0.9783218611188671, 0.9800386428537281, 0.9871145072964717, 0.9834401307257792, 0.9892398742878193, 0.9726078544433097, 0.9827642941272008, 0.9702952118342404, 0.9782548971635031, 0.9800392291998857, 0.990352336427908, 0.9924438243296541, 0.9861862631942192, 0.9871052768432161, 0.9916258997333773, 0.9956101069978869, 0.993711726675708, 0.9717244919061386, 0.9986989701790346, 0.9951079342271217, 0.9984346742724636, 0.9953920752811148, 0.9955251156704444, 0.9918032002357206, 0.9829754524999581, 0.992790882517985, 0.995675699256917, 0.9949983587604053, 0.9982638478664649, 0.9989645180333268, 0.9987935592135259, 0.9957749618397429, 0.9979356169659859, 0.9950939402436437, 0.9906248501798444, 0.9912570570216171, 0.9965590125680701, 0.9956956676070273, 0.9966794363774714, 0.9972670800792943, 0.9950726787701484, 0.9958135552000046, 0.9957877807704744, 0.9967007400120824, 0.9990681014600776, 0.9989861269754378, 0.9979288229278023, 0.9978367803161994, 0.9959316196112853, 0.9972197765029307, 0.9969475822167827, 0.9968835801789478, 0.9976486711700364, 0.9954200499243123, 0.9943894666403512, 0.9985923457450436, 0.9944414931436754, 0.9991798344723921, 0.9939131871568802, 0.9987227197532209, 0.9942930065599427, 0.9971045026123885, 0.9901058506287254, 0.9964855039267201, 0.9901756265965684, 0.9970880307331398, 0.9929147581942378, 0.9985076520010483, 0.9943525041336378, 0.9967179480170109, 0.9841373185576728, 0.9734355303352719, 0.9712263062373871, 0.9560027052860873, 0.9623664708994067, 0.9738395245259533, 0.9719771714527154, 0.9705264520859386, 0.9748577113305698, 0.9805679849379645, 0.9827244959936593, 0.989069222640171, 0.9988499854147532, 0.9983853926066338, 0.9982480785879375, 0.9966283060226797, 0.9985567254017097, 0.9949587231750602, 0.9992962908258288, 0.9993162622077072, 0.9958506030470254, 0.9977531876326128, 0.9989074367321478, 0.9982558696634635, 0.9983505864802004, 0.9988040678145202, 0.9969131874978784, 0.9952745618887782, 0.9963027713413805, 0.9926406563790023, 0.9915182016714384, 0.9744517335274157, 0.9857698667369826, 0.9718306152944308, 0.9867345106537418, 0.9897737231022601, 0.9851476453419866, 0.9868963961841389, 0.9912053960405848, 0.9922596256807865, 0.9935006126224687, 0.9919420628823038, 0.9864039503705343, 0.9783337668139204, 0.9994050150251105, 0.9984769549019253, 0.9991970458305843, 0.9985983257575451, 0.9993419973871507, 0.9994659150280714, 0.9993716921628688, 0.9992971413073343, 0.998648661028942, 0.9986654619756778, 0.9992200095266559, 0.9985682705257061, 0.9991950853729566, 0.9976920567106756, 0.9975397781844514, 0.9971796577099427, 0.9952697640498557, 0.9941457135150463, 0.9848642162358774, 0.9801039682495029, 0.9831594861910864, 0.9777552595745842, 0.9966700383220548, 0.9908345933045478, 0.992151288855805, 0.9933734047733672, 0.9893303489907284, 0.9983037853289057, 0.9960957763994139, 0.9879912861569639, 0.9960477384935386, 0.9938011717721142, 0.9879306984934033, 0.9849670520259943, 0.9814290048181626, 0.976056487231832, 0.976513136091038, 0.9698084534211421, 0.9711775195943763, 0.9734934567923916, 0.9757821318734522, 0.9703871747804481, 0.9716427370654989, 0.9717706118829682, 0.980881140571935, 0.9819960971707251, 0.9873160474249789, 0.9788207558019493, 0.9970558791630976, 0.9962317634582998, 0.998005512199907, 0.9975031586326737, 0.9968185774840225, 0.9986885476428771, 0.9976244962589237, 0.9987998835377234, 0.9989916814093177, 0.9990824926829948, 0.998185737075223, 0.9980275227173295, 0.9973340512074583, 0.9969809138100877, 0.9979537055102847, 0.9959326586525472, 0.9960732734669514, 0.9949282370884776, 0.9971336064801216, 0.9978419163643176, 0.9962169576141512, 0.9982668243892776, 0.9970205273198026, 0.9979342153653059, 0.9978230367547543, 0.9981392018799159, 0.9987982226571621, 0.9990791785558877, 0.9983677897189419, 0.9985909768548122, 0.9951840852399815, 0.9982029367534184, 0.992320498051764, 0.993604243549583, 0.9973245130451401, 0.9969955590511834, 0.9972840950282725, 0.9986157731214658, 0.9935026863267385, 0.9973332264775929, 0.998145141418115, 0.9990981588707859, 0.9982604584492738, 0.9986252983289353, 0.9986333625821397, 0.995136215754098, 0.9987153902129431, 0.9967919118572507, 0.9946561883335848, 0.9969918019672922, 0.9963604014046893, 0.9935918889618235, 0.9938314405584251, 0.9863054752558483, 0.9959743113820376, 0.997567286800148, 0.9877096515552765, 0.9964346243077608, 0.9956556705459496, 0.9988858086880988, 0.9923201335940349, 0.9908835909021224, 0.9891176046207304, 0.9869154243282614, 0.9975718073175239, 0.9992743025232923, 0.9965633541126593, 0.9986225540164904, 0.9989925888640285, 0.9968006415896584, 0.9991691400742806, 0.9981307868394683, 0.9985583440070631, 0.9972689753208233, 0.9964761380924108, 0.9978486229850355, 0.9984481810228699, 0.9984467137273116, 0.9985833589979709, 0.9979152856822465, 0.9258297999284116, 0.9318153486232692, 0.9635143133158468, 0.9383791582572687, 0.9612601853801355, 0.9637757597297048, 0.97893484700992, 0.9945265618257251, 0.9801003678146522, 0.9838911131244124, 0.9735851287476908, 0.961528232726895, 0.9361278530298021, 0.8961529813612823, 0.9185704052529338, 0.888823964613538, 0.9966907586931744, 0.9956703678057878, 0.9988772205006754, 0.998740419422525, 0.9988519115696893, 0.9978038972367738, 0.996677629934764, 0.9989105952811115, 0.9986301558224855, 0.9993100722517789, 0.9976910511960353, 0.9986108843782626, 0.9977081511214518, 0.9984004761714328, 0.9967395235872465, 0.9971513897060358, 0.9943790136254407, 0.995962257624643, 0.9977264465715828, 0.9962229412325663, 0.9992288530137899, 0.9990328967501323, 0.9978536213868385, 0.999115104627903, 0.9989460177622793, 0.998781575008385, 0.9968239248762468, 0.9981500270298255, 0.9979707345225823, 0.9986862365218113, 0.9982435193056234, 0.9966888346750863, 0.9911238027132658, 0.9962059528540623, 0.9947375546064801, 0.9974265107776551, 0.9975432857545683, 0.9908210440842459, 0.997747646320353, 0.9979543920950056, 0.9922062490958516, 0.9983887800053576, 0.9878229157378674, 0.9823509378556711, 0.9847647813461543, 0.9907057862391705, 0.9864128846052115, 0.9825940070642943, 0.9973596011010285, 0.9951259794172944, 0.9923576333902207, 0.9948490611849989, 0.9931096979687393, 0.993966369343315, 0.9937151975682806, 0.9960804303545633, 0.9983181746757376, 0.9961164514051017, 0.9986308859069022, 0.9987950247119128, 0.9977935059142637, 0.9971616656141368, 0.997273153575808, 0.9965271724345693, 0.9817755859504649, 0.9852247192936213, 0.974994786196677, 0.9733869579724722, 0.9918296153593987, 0.9777671473146878, 0.9938700545956258, 0.996649710670647, 0.9861637876538669, 0.9888238537567037, 0.9893411424556338, 0.994554239691144, 0.9944037466663179, 0.9954727511624313, 0.9979666141182337, 0.9967198806254971, 0.988099302174081, 0.9886637325742116, 0.995226065403576, 0.9941971550999011, 0.9974902611746811, 0.9949613838197079, 0.9943137411412208, 0.9946905916133296, 0.9951591852361292, 0.9966414505418248, 0.99717099804891, 0.9979597860546858, 0.9975185885596476, 0.9974610141614729, 0.9968598110978315, 0.9962974285348426, 0.9838116592594359, 0.9760887247224188, 0.9688761726024437, 0.9741497787751626, 0.9661174914116188, 0.9755086266391283, 0.9736137428850877, 0.9795567943216698, 0.9800956750475047, 0.9842296474475826, 0.9771062784664926, 0.9762311122321297, 0.9785099142377707, 0.9815067521712979, 0.9783218611188671, 0.9800386428537281, 0.9915355447598558, 0.9991069996465552, 0.9954111545230435, 0.9938505944820041, 0.9908793979765635, 0.9984081783593303, 0.9947074766294316, 0.9964809851254225, 0.997611712087644, 0.9942248156465295, 0.994480742942962, 0.9944832904353317, 0.9928099982525652, 0.9917897217734897, 0.9893655686508169, 0.9950151711691316, 0.9983104684980192, 0.9992933958695253, 0.9991337091918007, 0.9987311869059511, 0.9990168083417627, 0.9987404731476704, 0.9992939163499082, 0.999002813362918, 0.9987754453633255, 0.9986990762372104, 0.9989959293208529, 0.998712256294687, 0.9988176184397506, 0.9983956854257243, 0.998256199476437, 0.9985349892711397, 0.9993170687745718, 0.998866954001828, 0.9993950848131956, 0.998990254394773, 0.9983813475241792, 0.9987304999348109, 0.9993577652223355, 0.9992037261977975, 0.9991106674407603, 0.9990705843858119, 0.9991084876091267, 0.9982499403766506, 0.998755358371152, 0.9986141379753058, 0.9988779610751864, 0.9972397001315391, 0.994531790130461, 0.9959576828252468, 0.9954553888293539, 0.9972349722471908, 0.9974268433680009, 0.9982232895296467, 0.9976726691119084, 0.9980677371277948, 0.9987050827528365, 0.9990133462639601, 0.9970152424046271, 0.9976299156245556, 0.9979832057699486, 0.998016258756937, 0.9967002489943156, 0.9967747261779719, 0.9967232818679956, 0.9945127964699512, 0.9977341989309386, 0.9954572025567707, 0.9989488711826502, 0.9953843888971403, 0.997238868152613, 0.998021628992141, 0.9960195474872725, 0.9951994703528462, 0.9987079378208139, 0.9956241570707662, 0.9970137887508795, 0.9977640878982202, 0.9973626643808663, 0.9986590388484976, 0.9986033939349613, 0.9981497543996908, 0.9988644354608239, 0.9992315994943232, 0.9991358973249478, 0.9995391607140558, 0.998748438596188, 0.9986459861735785, 0.9993032899880546, 0.9977452327247562, 0.9986818880608609, 0.9987706777185874, 0.998549011750661, 0.9991543421993531, 0.9965476422162292, 0.9976561808570865, 0.9992152433370267, 0.997171710386507, 0.9949856898128361, 0.998359616308175, 0.9992203878053733, 0.9977863394229518, 0.996387325686351, 0.9955667358259938, 0.9978855793663945, 0.9992741073917925, 0.9989900187308425, 0.998839893821786, 0.9965231056893662, 0.9986431813500686, 0.99488460742133, 0.9964104881400907, 0.9940524288939766, 0.9972440940455842, 0.9988857188457821, 0.9964815771637427, 0.9971415275500669, 0.9981000356346201, 0.9988488589538669, 0.9907974812874598, 0.9808956317733469, 0.9871813099500888, 0.9940551711583718, 0.9921076803646668, 0.9947151355333816, 0.9935342909779202, 0.9942643695163758, 0.9927333184100227]\n"
     ]
    }
   ],
   "source": [
    "MAPE_test_list = []\n",
    "acc_test_list = []\n",
    "for i in range(0, len(aa_test)):\n",
    "    MAPE_test_data = (np.sum(np.abs(y_test[i]-decoded_test[i])) / np.sum(np.abs(y_test[i])))/(y_test.shape[0]/16)*100\n",
    "    MAPE_test_list.append(MAPE_test_data)\n",
    "    acc_test_data = 1 - MAPE_test_data\n",
    "    acc_test_list.append(acc_test_data)\n",
    "print(MAPE_test_list)\n",
    "print(acc_test_list)"
   ]
  },
  {
   "cell_type": "code",
   "execution_count": 49,
   "id": "a9bb19b3",
   "metadata": {},
   "outputs": [
    {
     "data": {
      "image/png": "[encoded data removed]",
      "text/plain": [
       "<Figure size 432x288 with 1 Axes>"
      ]
     },
     "metadata": {
      "needs_background": "light"
     },
     "output_type": "display_data"
    }
   ],
   "source": [
    "plt.hist(acc_train_list)\n",
    "plt.title('Training set (accuracy)\\nTest size 0.3')\n",
    "plt.ylabel('Number of data')\n",
    "plt.xlabel('Accuracy')\n",
    "#plt.grid()\n",
    "save_acc_name = \"20221030Accuracy_Poisson_bc2(training).jpg\"\n",
    "plt.savefig(save_acc_name, dpi=300, bbox_inches='tight', pad_inches=0.3)\n",
    "plt.show()"
   ]
  },
  {
   "cell_type": "code",
   "execution_count": 50,
   "id": "749aab61",
   "metadata": {},
   "outputs": [
    {
     "data": {
      "image/png": "[encoded data removed]",
      "text/plain": [
       "<Figure size 432x288 with 1 Axes>"
      ]
     },
     "metadata": {
      "needs_background": "light"
     },
     "output_type": "display_data"
    }
   ],
   "source": [
    "plt.hist(acc_test_list)\n",
    "plt.title('Test set (accuracy)\\nTest size 0.3')\n",
    "plt.ylabel('Number of data')\n",
    "plt.xlabel('Accuracy')\n",
    "save_acc_name = \"20221030Accuracy_Poisson_bc2(test).jpg\"\n",
    "plt.savefig(save_acc_name, dpi=300, bbox_inches='tight', pad_inches=0.3)\n",
    "plt.show()"
   ]
  },
  {
   "cell_type": "code",
   "execution_count": 51,
   "id": "d87d5a19",
   "metadata": {},
   "outputs": [
    {
     "ename": "NameError",
     "evalue": "name 'xmesh' is not defined",
     "output_type": "error",
     "traceback": [
      "\u001b[1;31m---------------------------------------------------------------------------\u001b[0m",
      "\u001b[1;31mNameError\u001b[0m                                 Traceback (most recent call last)",
      "Input \u001b[1;32mIn [51]\u001b[0m, in \u001b[0;36m<cell line: 5>\u001b[1;34m()\u001b[0m\n\u001b[0;32m      3\u001b[0m fig5 \u001b[38;5;241m=\u001b[39m plt\u001b[38;5;241m.\u001b[39mfigure(figsize \u001b[38;5;241m=\u001b[39m (\u001b[38;5;241m8\u001b[39m, \u001b[38;5;241m8\u001b[39m))\n\u001b[0;32m      4\u001b[0m ax5 \u001b[38;5;241m=\u001b[39m fig5\u001b[38;5;241m.\u001b[39madd_subplot(\u001b[38;5;241m111\u001b[39m)\n\u001b[1;32m----> 5\u001b[0m mappable \u001b[38;5;241m=\u001b[39m ax5\u001b[38;5;241m.\u001b[39mcontourf(\u001b[43mxmesh\u001b[49m, ymesh, error_test_abs2_rotate, levels\u001b[38;5;241m=\u001b[39m\u001b[38;5;241m128\u001b[39m, cmap\u001b[38;5;241m=\u001b[39m\u001b[38;5;124m'\u001b[39m\u001b[38;5;124mseismic\u001b[39m\u001b[38;5;124m'\u001b[39m)\n\u001b[0;32m      6\u001b[0m ax5\u001b[38;5;241m.\u001b[39mset_title(\u001b[38;5;124mr\u001b[39m\u001b[38;5;124m'\u001b[39m\u001b[38;5;124mAbsolute error (\u001b[39m\u001b[38;5;132;01m%s\u001b[39;00m\u001b[38;5;124m, $\u001b[39m\u001b[38;5;124m\\\u001b[39m\u001b[38;5;124malpha$ = \u001b[39m\u001b[38;5;132;01m%d\u001b[39;00m\u001b[38;5;124m, $\u001b[39m\u001b[38;5;124m\\\u001b[39m\u001b[38;5;124mepsilon$ = \u001b[39m\u001b[38;5;132;01m%.4f\u001b[39;00m\u001b[38;5;124m)\u001b[39m\u001b[38;5;124m'\u001b[39m \u001b[38;5;241m%\u001b[39m(np\u001b[38;5;241m.\u001b[39marray2string(geo_test[\u001b[38;5;241m-\u001b[39m\u001b[38;5;241m1\u001b[39m])[\u001b[38;5;241m3\u001b[39m:\u001b[38;5;241m-\u001b[39m\u001b[38;5;241m2\u001b[39m],\n\u001b[0;32m      7\u001b[0m                                                                    aa_test[\u001b[38;5;241m-\u001b[39m\u001b[38;5;241m1\u001b[39m], l2_error_test_list[\u001b[38;5;241m-\u001b[39m\u001b[38;5;241m1\u001b[39m]), fontsize\u001b[38;5;241m=\u001b[39m\u001b[38;5;241m16\u001b[39m)\n\u001b[0;32m      8\u001b[0m ax5\u001b[38;5;241m.\u001b[39mset_xlabel(\u001b[38;5;124m'\u001b[39m\u001b[38;5;124m$y$\u001b[39m\u001b[38;5;124m'\u001b[39m, fontsize\u001b[38;5;241m=\u001b[39m\u001b[38;5;241m15\u001b[39m)\n",
      "\u001b[1;31mNameError\u001b[0m: name 'xmesh' is not defined"
     ]
    },
    {
     "data": {
      "image/png": "[encoded data removed]",
      "text/plain": [
       "<Figure size 576x576 with 1 Axes>"
      ]
     },
     "metadata": {
      "needs_background": "light"
     },
     "output_type": "display_data"
    }
   ],
   "source": [
    "error_test_abs2_rotate = error_test_abs[-1].reshape(n_grid,n_grid).T\n",
    "\n",
    "fig5 = plt.figure(figsize = (8, 8))\n",
    "ax5 = fig5.add_subplot(111)\n",
    "mappable = ax5.contourf(xmesh, ymesh, error_test_abs2_rotate, levels=128, cmap='seismic')\n",
    "ax5.set_title(r'Absolute error (%s, $\\alpha$ = %d, $\\epsilon$ = %.4f)' %(np.array2string(geo_test[-1])[3:-2],\n",
    "                                                                   aa_test[-1], l2_error_test_list[-1]), fontsize=16)\n",
    "ax5.set_xlabel('$y$', fontsize=15)\n",
    "ax5.set_ylabel('$z$', fontsize=15)\n",
    "\n",
    "cax = plt.axes([0.12, 0.005, 0.78, 0.05])\n",
    "cbar = plt.colorbar(mappable, cax=cax, orientation=\"horizontal\")\n",
    "cbar.set_label('Error', fontsize=15)\n",
    "\n",
    "save_fig_name = \"20221030PredictionError_Poisson_bc2(test)\"+str(np.array2string(geo_test[-1])[3:-2])+str(aa_test[-1])+\".jpg\"\n",
    "plt.savefig(save_fig_name, dpi=300, bbox_inches='tight', pad_inches=0.3)\n",
    "plt.show()"
   ]
  },
  {
   "cell_type": "code",
   "execution_count": null,
   "id": "20d858aa",
   "metadata": {},
   "outputs": [],
   "source": [
    "error_test_abs2_rotate = error_test_abs[-2].reshape(n_grid,n_grid).T\n",
    "\n",
    "fig5 = plt.figure(figsize = (8, 8))\n",
    "ax5 = fig5.add_subplot(111)\n",
    "mappable = ax5.contourf(xmesh, ymesh, error_test_abs2_rotate, levels=128, cmap='seismic')\n",
    "ax5.set_title(r'Absolute error (%s, $\\alpha$ = %d, $\\epsilon$ = %.4f)' %(np.array2string(geo_test[-2])[3:-2],\n",
    "                                                                   aa_test[-2], l2_error_test_list[-2]), fontsize=16)\n",
    "ax5.set_xlabel('$y$', fontsize=15)\n",
    "ax5.set_ylabel('$z$', fontsize=15)\n",
    "\n",
    "cax = plt.axes([0.12, 0.005, 0.78, 0.05])\n",
    "cbar = plt.colorbar(mappable, cax=cax, orientation=\"horizontal\")\n",
    "cbar.set_label('Error', fontsize=15)\n",
    "\n",
    "save_fig_name = \"20221030PredictionError_Poisson_bc2(test)\"+str(np.array2string(geo_test[-2])[3:-2])+str(aa_test[-2])+\".jpg\"\n",
    "plt.savefig(save_fig_name, dpi=300, bbox_inches='tight', pad_inches=0.3)\n",
    "plt.show()"
   ]
  },
  {
   "cell_type": "code",
   "execution_count": null,
   "id": "39c2cfcd",
   "metadata": {},
   "outputs": [],
   "source": [
    "c=-1\n",
    "plt.figure(figsize=(16, 8))\n",
    "y_test0_rotate = y_test[c].reshape(n_grid,n_grid).T\n",
    "decoded_rotate = decoded_test[c].reshape(n_grid,n_grid).T\n",
    "\n",
    "xrange = np.linspace(-2, 2, n_grid)\n",
    "yrange = np.linspace(-2, 2, n_grid)\n",
    "xmesh, ymesh = np.meshgrid(xrange, yrange)\n",
    "\n",
    "ax = plt.subplot(1, 2, 1)\n",
    "a1 = plt.contourf(xmesh, ymesh, y_test0_rotate, vmin=np.min(y_test0_rotate),\n",
    "                  vmax=np.max(y_test0_rotate), levels=128, cmap='seismic')\n",
    "ax.set_xlabel('$x$', fontsize=15)\n",
    "ax.set_ylabel('$y$', fontsize=15)\n",
    "ax.set_title('Original test image', fontsize=15)\n",
    "\n",
    "# Display reconstruction\n",
    "ax = plt.subplot(1, 2, 2)\n",
    "a2 = plt.contourf(xmesh, ymesh, decoded_rotate, vmin=np.min(y_test0_rotate),\n",
    "                  vmax=np.max(y_test0_rotate), levels=128, cmap='seismic')\n",
    "ax.set_xlabel('$x$', fontsize=15)\n",
    "ax.set_ylabel('$y$', fontsize=15)\n",
    "ax.set_title('Reconstructed image', fontsize=15)\n",
    "cax = plt.axes([0.12, 0.005, 0.78, 0.05])\n",
    "cbar = plt.colorbar(a1, cax=cax, orientation=\"horizontal\")\n",
    "cbar.set_label('Poisson field', fontsize=15)\n",
    "#cbar.set_ticks([-0.5, -0.4, -0.3, -0.2, -0.1, 0, 0.1, 0.2, 0.3, 0.4, 0.5, 0.6, 0.7, 0.8, 0.9])\n",
    "\n",
    "plt.suptitle(r'Test dataset (%s, $\\alpha$ = %d)' %(np.array2string(geo_test[c])[3:-2], aa_test[c]),fontsize=20)\n",
    "save_fig_name = \"20221030Prediction_Poisson_bc2(test)\"+str(np.array2string(geo_test[c])[3:-2])+str(aa_test[c])+\".jpg\"\n",
    "plt.savefig(save_fig_name, dpi=300, bbox_inches='tight', pad_inches=0.3)\n",
    "plt.show()"
   ]
  },
  {
   "cell_type": "code",
   "execution_count": null,
   "id": "226fecda",
   "metadata": {},
   "outputs": [],
   "source": [
    "c=-2\n",
    "plt.figure(figsize=(16, 8))\n",
    "y_test0_rotate = y_test[c].reshape(n_grid,n_grid).T\n",
    "decoded_rotate = decoded_test[c].reshape(n_grid,n_grid).T\n",
    "\n",
    "xrange = np.linspace(-2, 2, n_grid)\n",
    "yrange = np.linspace(-2, 2, n_grid)\n",
    "xmesh, ymesh = np.meshgrid(xrange, yrange)\n",
    "\n",
    "ax = plt.subplot(1, 2, 1)\n",
    "a1 = plt.contourf(xmesh, ymesh, y_test0_rotate, vmin=np.min(y_test0_rotate),\n",
    "                  vmax=np.max(y_test0_rotate), levels=128, cmap='seismic')\n",
    "ax.set_xlabel('$x$', fontsize=15)\n",
    "ax.set_ylabel('$y$', fontsize=15)\n",
    "ax.set_title('Original test image', fontsize=15)\n",
    "\n",
    "# Display reconstruction\n",
    "ax = plt.subplot(1, 2, 2)\n",
    "a2 = plt.contourf(xmesh, ymesh, decoded_rotate, vmin=np.min(y_test0_rotate),\n",
    "                  vmax=np.max(y_test0_rotate), levels=128, cmap='seismic')\n",
    "ax.set_xlabel('$x$', fontsize=15)\n",
    "ax.set_ylabel('$y$', fontsize=15)\n",
    "ax.set_title('Reconstructed image', fontsize=15)\n",
    "cax = plt.axes([0.12, 0.005, 0.78, 0.05])\n",
    "cbar = plt.colorbar(a1, cax=cax, orientation=\"horizontal\")\n",
    "cbar.set_label('Poisson field', fontsize=15)\n",
    "#cbar.set_ticks([-0.5, -0.4, -0.3, -0.2, -0.1, 0, 0.1, 0.2, 0.3, 0.4, 0.5, 0.6, 0.7, 0.8, 0.9])\n",
    "\n",
    "plt.suptitle(r'Test dataset (%s, $\\alpha$ = %d)' %(np.array2string(geo_test[c])[3:-2], aa_test[c]),fontsize=20)\n",
    "save_fig_name = \"20221030Prediction_Poisson_bc2(test)\"+str(np.array2string(geo_test[c])[3:-2])+str(aa_test[c])+\".jpg\"\n",
    "plt.savefig(save_fig_name, dpi=300, bbox_inches='tight', pad_inches=0.3)\n",
    "plt.show()"
   ]
  },
  {
   "cell_type": "code",
   "execution_count": null,
   "id": "c4dbf2bd",
   "metadata": {},
   "outputs": [],
   "source": [
    "c=-16\n",
    "plt.figure(figsize=(16, 8))\n",
    "y_test0_rotate = y_test[c].reshape(n_grid,n_grid).T\n",
    "decoded_rotate = decoded_test[c].reshape(n_grid,n_grid).T\n",
    "\n",
    "xrange = np.linspace(-2, 2, n_grid)\n",
    "yrange = np.linspace(-2, 2, n_grid)\n",
    "xmesh, ymesh = np.meshgrid(xrange, yrange)\n",
    "\n",
    "ax = plt.subplot(1, 2, 1)\n",
    "a1 = plt.contourf(xmesh, ymesh, y_test0_rotate, vmin=np.min(y_test0_rotate),\n",
    "                  vmax=np.max(y_test0_rotate), levels=128, cmap='seismic')\n",
    "ax.set_xlabel('$x$', fontsize=15)\n",
    "ax.set_ylabel('$y$', fontsize=15)\n",
    "ax.set_title('Original test image', fontsize=15)\n",
    "\n",
    "# Display reconstruction\n",
    "ax = plt.subplot(1, 2, 2)\n",
    "a2 = plt.contourf(xmesh, ymesh, decoded_rotate, vmin=np.min(y_test0_rotate),\n",
    "                  vmax=np.max(y_test0_rotate), levels=128, cmap='seismic')\n",
    "ax.set_xlabel('$x$', fontsize=15)\n",
    "ax.set_ylabel('$y$', fontsize=15)\n",
    "ax.set_title('Reconstructed image', fontsize=15)\n",
    "cax = plt.axes([0.12, 0.005, 0.78, 0.05])\n",
    "cbar = plt.colorbar(a1, cax=cax, orientation=\"horizontal\")\n",
    "cbar.set_label('Poisson field', fontsize=15)\n",
    "#cbar.set_ticks([-0.5, -0.4, -0.3, -0.2, -0.1, 0, 0.1, 0.2, 0.3, 0.4, 0.5, 0.6, 0.7, 0.8, 0.9])\n",
    "\n",
    "plt.suptitle(r'Test dataset (%s, $\\alpha$ = %d)' %(np.array2string(geo_test[c])[3:-2], aa_test[c]),fontsize=20)\n",
    "save_fig_name = \"20221030Prediction_Poisson_bc2(test)\"+str(np.array2string(geo_test[c])[3:-2])+str(aa_test[c])+\".jpg\"\n",
    "plt.savefig(save_fig_name, dpi=300, bbox_inches='tight', pad_inches=0.3)\n",
    "plt.show()"
   ]
  },
  {
   "cell_type": "code",
   "execution_count": null,
   "id": "ff6b5e5a",
   "metadata": {},
   "outputs": [],
   "source": [
    "error_test_abs2_rotate = error_test_abs[-15].reshape(n_grid,n_grid).T\n",
    "\n",
    "fig5 = plt.figure(figsize = (8, 8))\n",
    "ax5 = fig5.add_subplot(111)\n",
    "mappable = ax5.contourf(xmesh, ymesh, error_test_abs2_rotate, levels=128, cmap='seismic')\n",
    "ax5.set_title(r'Absolute error (%s, $\\alpha$ = %d, $\\epsilon$ = %.4f)' %(np.array2string(geo_test[-15])[3:-2],\n",
    "                                                                   aa_test[-15], l2_error_test_list[-15]), fontsize=16)\n",
    "ax5.set_xlabel('$y$', fontsize=15)\n",
    "ax5.set_ylabel('$z$', fontsize=15)\n",
    "\n",
    "cax = plt.axes([0.12, 0.005, 0.78, 0.05])\n",
    "cbar = plt.colorbar(mappable, cax=cax, orientation=\"horizontal\")\n",
    "cbar.set_label('Error', fontsize=15)\n",
    "\n",
    "save_fig_name = \"20221030PredictionError_Poisson_bc2(test)\"+str(np.array2string(geo_test[-15])[3:-2])+str(aa_test[-15])+\".jpg\"\n",
    "plt.savefig(save_fig_name, dpi=300, bbox_inches='tight', pad_inches=0.3)\n",
    "plt.show()"
   ]
  },
  {
   "cell_type": "code",
   "execution_count": null,
   "id": "0b4cc755",
   "metadata": {},
   "outputs": [],
   "source": [
    "for c in range(96,112):\n",
    "    plt.figure(figsize=(16, 8))\n",
    "    y_test0_rotate = y_test[c].reshape(n_grid,n_grid).T\n",
    "    decoded_rotate = decoded_test[c].reshape(n_grid,n_grid).T\n",
    "\n",
    "    xrange = np.linspace(-2, 2, n_grid)\n",
    "    yrange = np.linspace(-2, 2, n_grid)\n",
    "    xmesh, ymesh = np.meshgrid(xrange, yrange)\n",
    "\n",
    "    ax = plt.subplot(1, 2, 1)\n",
    "    a1 = plt.contourf(xmesh, ymesh, y_test0_rotate, vmin=np.min(y_test0_rotate),\n",
    "                      vmax = np.max(y_test0_rotate),levels=128, cmap='seismic')\n",
    "    ax.set_xlabel('$x$', fontsize=15)\n",
    "    ax.set_ylabel('$y$', fontsize=15)\n",
    "    ax.set_title('Original test image', fontsize=15)\n",
    "\n",
    "    # Display reconstruction\n",
    "    ax = plt.subplot(1, 2, 2)\n",
    "    a2 = plt.contourf(xmesh, ymesh, decoded_rotate, vmin=np.min(y_test0_rotate),\n",
    "                      vmax = np.max(y_test0_rotate),levels=128, cmap='seismic')\n",
    "    ax.set_xlabel('$x$', fontsize=15)\n",
    "    ax.set_ylabel('$y$', fontsize=15)\n",
    "    ax.set_title('Reconstructed image', fontsize=15)\n",
    "    cax = plt.axes([0.12, 0.005, 0.78, 0.05])\n",
    "    cbar = plt.colorbar(a1, cax=cax, orientation=\"horizontal\")\n",
    "    cbar.set_label('Poisson field', fontsize=15)\n",
    "    #cbar.set_ticks([-0.5, -0.4, -0.3, -0.2, -0.1, 0, 0.1, 0.2, 0.3, 0.4, 0.5, 0.6, 0.7, 0.8, 0.9])\n",
    "\n",
    "    plt.suptitle(r'Test dataset (%s, $\\alpha$ = %d)' %(np.array2string(geo_test[c])[3:-2], aa_test[c]),fontsize=20)\n",
    "    save_fig_name = \"20221030Prediction_Poisson_bc2(test)\"+str(np.array2string(geo_test[c])[3:-2])+str(aa_test[c])+\".jpg\"\n",
    "    plt.savefig(save_fig_name, dpi=300, bbox_inches='tight', pad_inches=0.3)\n",
    "    plt.show()"
   ]
  },
  {
   "cell_type": "code",
   "execution_count": null,
   "id": "75377092",
   "metadata": {},
   "outputs": [],
   "source": [
    "for c in range(96,112):\n",
    "    error_test_abs2_rotate = error_test_abs[c].reshape(n_grid,n_grid).T\n",
    "\n",
    "    fig5 = plt.figure(figsize = (8, 8))\n",
    "    ax5 = fig5.add_subplot(111)\n",
    "    mappable = ax5.contourf(xmesh, ymesh, error_test_abs2_rotate, levels=128, cmap='seismic')\n",
    "    ax5.set_title(r'Absolute error (%s, $\\alpha$ = %d, $\\epsilon$ = %.4f)' %(np.array2string(geo_test[c])[3:-2],\n",
    "                                                                       aa_test[c], l2_error_test_list[c]), fontsize=16)\n",
    "    ax5.set_xlabel('$x$', fontsize=15)\n",
    "    ax5.set_ylabel('$y$', fontsize=15)\n",
    "\n",
    "    cax = plt.axes([0.12, 0.005, 0.78, 0.05])\n",
    "    cbar = plt.colorbar(mappable, cax=cax, orientation=\"horizontal\")\n",
    "    cbar.set_label('Error', fontsize=15)\n",
    "\n",
    "    save_fig_name = \"20221030PredictionError_Poisson_bc2(test)\"+str(np.array2string(geo_test[c])[3:-2])+str(aa_test[c])+\".jpg\"\n",
    "    plt.savefig(save_fig_name, dpi=300, bbox_inches='tight', pad_inches=0.3)\n",
    "    plt.show()"
   ]
  },
  {
   "cell_type": "code",
   "execution_count": null,
   "id": "03fff87e",
   "metadata": {},
   "outputs": [],
   "source": []
  }
 ],
 "metadata": {
  "kernelspec": {
   "display_name": "Python 3 (ipykernel)",
   "language": "python",
   "name": "python3"
  },
  "language_info": {
   "codemirror_mode": {
    "name": "ipython",
    "version": 3
   },
   "file_extension": ".py",
   "mimetype": "text/x-python",
   "name": "python",
   "nbconvert_exporter": "python",
   "pygments_lexer": "ipython3",
   "version": "3.9.13"
  }
 },
 "nbformat": 4,
 "nbformat_minor": 5
}
