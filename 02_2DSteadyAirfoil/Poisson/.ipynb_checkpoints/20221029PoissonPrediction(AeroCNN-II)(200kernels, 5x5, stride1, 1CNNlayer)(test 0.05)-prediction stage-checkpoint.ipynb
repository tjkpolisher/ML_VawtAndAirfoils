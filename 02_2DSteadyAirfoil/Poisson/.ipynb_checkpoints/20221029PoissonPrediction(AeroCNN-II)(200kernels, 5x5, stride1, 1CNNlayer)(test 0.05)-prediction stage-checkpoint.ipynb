{
 "cells": [
  {
   "cell_type": "code",
   "execution_count": 1,
   "id": "5bc91fac",
   "metadata": {},
   "outputs": [],
   "source": [
    "# AeroCNN-II\n",
    "import os\n",
    "import sys\n",
    "import numpy as np\n",
    "import pandas as pd\n",
    "import tensorflow as tf\n",
    "import matplotlib.pyplot as plt\n",
    "from sklearn.model_selection import train_test_split\n",
    "from sklearn.impute import SimpleImputer\n",
    "\n",
    "import datetime\n",
    "%matplotlib inline"
   ]
  },
  {
   "cell_type": "code",
   "execution_count": 2,
   "id": "d1130c26",
   "metadata": {},
   "outputs": [],
   "source": [
    "n_kernel=100\n",
    "l2Regularizer=1e-09\n",
    "kernel_size1 = 3\n",
    "kernel_size2 = 3\n",
    "#kernel_size3 = 5\n",
    "n_grid = 100\n",
    "strides1 = 1\n",
    "strides2 = 2\n",
    "lr=5e-04\n",
    "batch_size=20"
   ]
  },
  {
   "cell_type": "code",
   "execution_count": 3,
   "id": "62d7f718",
   "metadata": {},
   "outputs": [],
   "source": [
    "alpha = np.linspace(-10,20,16).reshape((16,1))"
   ]
  },
  {
   "cell_type": "code",
   "execution_count": 4,
   "id": "73f0eda8",
   "metadata": {},
   "outputs": [],
   "source": [
    "aa = np.zeros((16*133,1))\n",
    "for i in range(0, 133):\n",
    "    aa[16*i:16*(i+1), :] = alpha[:,:]"
   ]
  },
  {
   "cell_type": "code",
   "execution_count": 5,
   "id": "e191fab9",
   "metadata": {},
   "outputs": [],
   "source": [
    "aa = aa.reshape((133, 16, 1, 1))"
   ]
  },
  {
   "cell_type": "code",
   "execution_count": 6,
   "id": "08ba4646",
   "metadata": {},
   "outputs": [],
   "source": [
    "os.chdir('D:\\\\AeroCNN2Inputs')"
   ]
  },
  {
   "cell_type": "code",
   "execution_count": 7,
   "id": "6a5737c2",
   "metadata": {},
   "outputs": [],
   "source": [
    "origin = \"D:\\\\AeroCNN2Inputs2\"\n",
    "origin_data = \"D:\\\\AirfoilClCdCoordinates_out\\\\AirfoilClCdCoordinates_out\"\n",
    "origin_poisson = \"D:\\\\CNN_poisson_files\\\\poisson\\\\bc2\""
   ]
  },
  {
   "cell_type": "code",
   "execution_count": 8,
   "id": "57a9cee3",
   "metadata": {},
   "outputs": [],
   "source": [
    "folders_orig = os.listdir(origin)\n",
    "folders = [file for file in folders_orig if file.endswith('.csv')]"
   ]
  },
  {
   "cell_type": "code",
   "execution_count": 9,
   "id": "3c16d796",
   "metadata": {},
   "outputs": [],
   "source": [
    "image_df = pd.DataFrame()\n",
    "for i in range(1, 134):\n",
    "    for j in range(0, alpha.shape[0]):\n",
    "        csv_file_name = origin + '\\\\airfoil' + str(i) + \"_alpha\"+ str(int(alpha[j])) + \".csv\"\n",
    "        data = pd.read_csv(csv_file_name, header=None)\n",
    "        image_df = pd.concat([image_df, data])"
   ]
  },
  {
   "cell_type": "code",
   "execution_count": 10,
   "id": "fa448a30",
   "metadata": {},
   "outputs": [],
   "source": [
    "image_np = image_df.iloc[:, :].values"
   ]
  },
  {
   "cell_type": "code",
   "execution_count": 11,
   "id": "ba6d479a",
   "metadata": {},
   "outputs": [],
   "source": [
    "image = image_np.reshape((133, 16, n_grid, n_grid))"
   ]
  },
  {
   "cell_type": "code",
   "execution_count": 12,
   "id": "438d1b60",
   "metadata": {},
   "outputs": [],
   "source": [
    "image = 1-image/100"
   ]
  },
  {
   "cell_type": "code",
   "execution_count": 13,
   "id": "48d6b395",
   "metadata": {},
   "outputs": [],
   "source": [
    "# Laplace/Poisson field\n",
    "field_df = pd.DataFrame()\n",
    "for i in range(1, 134):\n",
    "    for j in range(0, alpha.shape[0]):\n",
    "        csv_file_name = origin_poisson + '\\\\airfoil' + str(i) + \"_alpha\"+ str(int(alpha[j])) + \".csv\"\n",
    "        data = pd.read_csv(csv_file_name, header=None)\n",
    "        field_df = pd.concat([field_df, data], axis=0)"
   ]
  },
  {
   "cell_type": "code",
   "execution_count": 14,
   "id": "89bf6d9f",
   "metadata": {},
   "outputs": [],
   "source": [
    "field_np = field_df.iloc[:, :].values"
   ]
  },
  {
   "cell_type": "code",
   "execution_count": 15,
   "id": "f2e22184",
   "metadata": {},
   "outputs": [],
   "source": [
    "imr = SimpleImputer(missing_values=np.nan, strategy='mean')\n",
    "imr = imr.fit(field_np)\n",
    "imputed_field = imr.transform(field_np)"
   ]
  },
  {
   "cell_type": "code",
   "execution_count": 16,
   "id": "5c4dc4c6",
   "metadata": {},
   "outputs": [],
   "source": [
    "field = imputed_field.reshape((133, 16, n_grid, n_grid))"
   ]
  },
  {
   "cell_type": "code",
   "execution_count": 17,
   "id": "c362c89c",
   "metadata": {},
   "outputs": [],
   "source": [
    "field_nor = (field-np.min(field))/(np.max(field)-np.min(field))"
   ]
  },
  {
   "cell_type": "code",
   "execution_count": 18,
   "id": "fb0bd522",
   "metadata": {},
   "outputs": [],
   "source": [
    "file_name = origin_data + \"\\\\AirfoilIndexList.xlsx\"\n",
    "airfoilName_df = pd.read_excel(file_name)\n",
    "geometry_orig = airfoilName_df.iloc[:, 1].values"
   ]
  },
  {
   "cell_type": "code",
   "execution_count": 19,
   "id": "bb3458bf",
   "metadata": {},
   "outputs": [],
   "source": [
    "geometry = np.zeros((133*16,1))\n",
    "geometry = geometry.astype(np.string_)\n",
    "for i in geometry_orig:\n",
    "    index_ = np.where(geometry_orig==i)\n",
    "    for j in range(0,16):\n",
    "        geometry[16*index_[0]+j,:] = np.asarray(i)"
   ]
  },
  {
   "cell_type": "code",
   "execution_count": 20,
   "id": "8a65b459",
   "metadata": {},
   "outputs": [],
   "source": [
    "geometry = geometry.reshape((133, 16, 1))"
   ]
  },
  {
   "cell_type": "code",
   "execution_count": 21,
   "id": "ec562b02",
   "metadata": {},
   "outputs": [],
   "source": [
    "x_train, x_test, aa_train, aa_test, geo_train, geo_test, y_train, y_test = train_test_split(image, aa, geometry, field_nor, test_size=0.05, random_state=1)"
   ]
  },
  {
   "cell_type": "code",
   "execution_count": 22,
   "id": "c0290ebb",
   "metadata": {},
   "outputs": [],
   "source": [
    "x_train = x_train.reshape((x_train.shape[0]*x_train.shape[1], x_train.shape[2], x_train.shape[3], 1))\n",
    "x_test = x_test.reshape((x_test.shape[0]*x_test.shape[1], x_test.shape[2], x_test.shape[3], 1))\n",
    "aa_train = aa_train.reshape((aa_train.shape[0]*aa_train.shape[1], aa_train.shape[2], aa_train.shape[3]))\n",
    "aa_test = aa_test.reshape((aa_test.shape[0]*aa_test.shape[1], aa_test.shape[2], aa_test.shape[3]))\n",
    "geo_train = geo_train.reshape((geo_train.shape[0]*geo_train.shape[1], geo_train.shape[2]))\n",
    "geo_test = geo_test.reshape((geo_test.shape[0]*geo_test.shape[1], geo_test.shape[2]))\n",
    "y_train = y_train.reshape((y_train.shape[0]*y_train.shape[1], y_train.shape[2], y_train.shape[3], 1))\n",
    "y_test = y_test.reshape((y_test.shape[0]*y_test.shape[1], y_test.shape[2], y_test.shape[3], 1))"
   ]
  },
  {
   "cell_type": "code",
   "execution_count": 23,
   "id": "a8e2202e",
   "metadata": {},
   "outputs": [],
   "source": [
    "tf.keras.backend.set_image_data_format('channels_last')"
   ]
  },
  {
   "cell_type": "code",
   "execution_count": 24,
   "id": "fe2c06ac",
   "metadata": {},
   "outputs": [],
   "source": [
    "model = tf.keras.models.load_model('D:\\\\TrainedModels\\\\20221030\\\\Poisson_bc2_100kernel_2by2MaxPooling_2CNNlayer_testSize0.05.h5')"
   ]
  },
  {
   "cell_type": "code",
   "execution_count": 25,
   "id": "745feda1",
   "metadata": {},
   "outputs": [
    {
     "name": "stdout",
     "output_type": "stream",
     "text": [
      "63/63 [==============================] - 1s 7ms/step - loss: 4.1247e-07 - rmse: 0.0000e+00\n"
     ]
    }
   ],
   "source": [
    "#with mirrored_strategy.scope():\n",
    "test_results = model.evaluate(x_train)"
   ]
  },
  {
   "cell_type": "code",
   "execution_count": 26,
   "id": "f240f3e2",
   "metadata": {},
   "outputs": [
    {
     "name": "stdout",
     "output_type": "stream",
     "text": [
      "63/63 [==============================] - 4s 10ms/step\n"
     ]
    }
   ],
   "source": [
    "#with mirrored_strategy.scope():\n",
    "decoded_train = model.predict(x_train)"
   ]
  },
  {
   "cell_type": "code",
   "execution_count": 27,
   "id": "7ccbbb44",
   "metadata": {},
   "outputs": [
    {
     "name": "stdout",
     "output_type": "stream",
     "text": [
      "4/4 [==============================] - 0s 35ms/step\n"
     ]
    }
   ],
   "source": [
    "#with mirrored_strategy.scope():\n",
    "decoded_test = model.predict(x_test)"
   ]
  },
  {
   "cell_type": "code",
   "execution_count": 28,
   "id": "c38a34c6",
   "metadata": {},
   "outputs": [],
   "source": [
    "error_train_abs = np.abs(decoded_train - y_train)"
   ]
  },
  {
   "cell_type": "code",
   "execution_count": 29,
   "id": "4c0dfd6f",
   "metadata": {},
   "outputs": [],
   "source": [
    "error_test_abs = np.abs(decoded_test - y_test)"
   ]
  },
  {
   "cell_type": "code",
   "execution_count": 30,
   "id": "31fb219f",
   "metadata": {},
   "outputs": [
    {
     "name": "stdout",
     "output_type": "stream",
     "text": [
      "0.00033542474046541356\n"
     ]
    }
   ],
   "source": [
    "l2_error_train = np.sqrt(np.sum((decoded_train - y_train)**2) / np.sum(y_train**2))\n",
    "print(l2_error_train)"
   ]
  },
  {
   "cell_type": "code",
   "execution_count": 31,
   "id": "3770434c",
   "metadata": {},
   "outputs": [
    {
     "name": "stdout",
     "output_type": "stream",
     "text": [
      "0.004686273933429739\n"
     ]
    }
   ],
   "source": [
    "l2_error_test = np.sqrt(np.sum((decoded_test - y_test)**2) / np.sum(y_test**2))\n",
    "print(l2_error_test)"
   ]
  },
  {
   "cell_type": "code",
   "execution_count": 32,
   "id": "d9785cd7",
   "metadata": {
    "scrolled": true
   },
   "outputs": [],
   "source": [
    "l2_error_train_list = []\n",
    "for i in range(0, len(aa_train)):\n",
    "    l2_error_train_data = np.sqrt(np.sum((decoded_train[i] - y_train[i])**2) / np.sum(y_train[i]**2))\n",
    "    l2_error_train_list.append(l2_error_train_data)\n",
    "#print(l2_error_train_list)"
   ]
  },
  {
   "cell_type": "code",
   "execution_count": 33,
   "id": "72b6a696",
   "metadata": {
    "scrolled": true
   },
   "outputs": [],
   "source": [
    "l2_error_test_list = []\n",
    "for i in range(0, len(aa_test)):\n",
    "    l2_error_test_data = np.sqrt(np.sum((decoded_test[i] - y_test[i])**2) / np.sum(y_test[i]**2))\n",
    "    l2_error_test_list.append(l2_error_test_data)\n",
    "#print(l2_error_test_list)"
   ]
  },
  {
   "cell_type": "code",
   "execution_count": 34,
   "id": "cd795141",
   "metadata": {},
   "outputs": [
    {
     "data": {
      "image/png": "[encoded data removed]",
      "text/plain": [
       "<Figure size 432x288 with 1 Axes>"
      ]
     },
     "metadata": {
      "needs_background": "light"
     },
     "output_type": "display_data"
    }
   ],
   "source": [
    "plt.plot(np.linspace(1, aa_train.shape[0], aa_train.shape[0]),\n",
    "         l2_error_train*np.ones(aa_train.shape[0],), 'k', lw=2.5)\n",
    "plt.scatter(np.linspace(1, aa_train.shape[0], aa_train.shape[0]), l2_error_train_list, c='b')\n",
    "plt.xlabel('Index', fontsize=15)\n",
    "plt.ylabel('$L_2$ error norm', fontsize=15)\n",
    "plt.title('$L_2$ error norm distribution - training\\nPoisson, boundary condition2, test size 0.05',\n",
    "          fontsize=15)\n",
    "plt.grid()\n",
    "save_variance_name = \"20221030L2ErrorDistribution_Poisson_bc2(training).jpg\"\n",
    "plt.savefig(save_variance_name, dpi=300, bbox_inches='tight', pad_inches=0.3)\n",
    "plt.show()"
   ]
  },
  {
   "cell_type": "code",
   "execution_count": 35,
   "id": "342bbd53",
   "metadata": {},
   "outputs": [
    {
     "data": {
      "image/png": "[encoded data removed]",
      "text/plain": [
       "<Figure size 432x288 with 1 Axes>"
      ]
     },
     "metadata": {
      "needs_background": "light"
     },
     "output_type": "display_data"
    }
   ],
   "source": [
    "plt.plot(np.linspace(1, aa_test.shape[0], aa_test.shape[0]),\n",
    "         l2_error_test*np.ones(aa_test.shape[0],), 'k', lw=2.5)\n",
    "plt.scatter(np.linspace(1, aa_test.shape[0], aa_test.shape[0]), l2_error_test_list, c='b')\n",
    "plt.xlabel('Index', fontsize=15)\n",
    "plt.ylabel('$L_2$ error norm', fontsize=15)\n",
    "plt.title('$L_2$ error norm distribution - test\\nPoisson, boundary condition2, test size 0.05',\n",
    "          fontsize=15)\n",
    "plt.grid()\n",
    "save_variance_name = \"20221030L2ErrorDistribution_Poisson_bc2(test).jpg\"\n",
    "plt.savefig(save_variance_name, dpi=300, bbox_inches='tight', pad_inches=0.3)\n",
    "plt.show()"
   ]
  },
  {
   "cell_type": "code",
   "execution_count": 36,
   "id": "f5b6ae41",
   "metadata": {},
   "outputs": [],
   "source": [
    "os.chdir(\"D:\\\\CNN_poisson_files\\\\images\\\\20221030\\\\testSize0.05\")"
   ]
  },
  {
   "cell_type": "code",
   "execution_count": 39,
   "id": "4db3c090",
   "metadata": {
    "scrolled": false
   },
   "outputs": [
    {
     "name": "stdout",
     "output_type": "stream",
     "text": [
      "0.024832016269258652\n",
      "0.9751679837307413\n",
      "0.2164882713136333\n",
      "0.7835117286863666\n"
     ]
    },
    {
     "data": {
      "image/png": "[encoded data removed]",
      "text/plain": [
       "<Figure size 432x288 with 1 Axes>"
      ]
     },
     "metadata": {
      "needs_background": "light"
     },
     "output_type": "display_data"
    },
    {
     "data": {
      "image/png": "[encoded data removed]",
      "text/plain": [
       "<Figure size 432x288 with 1 Axes>"
      ]
     },
     "metadata": {
      "needs_background": "light"
     },
     "output_type": "display_data"
    }
   ],
   "source": [
    "yTrainSum = np.zeros((y_train.shape[0],1))\n",
    "dTrainSum = np.zeros((decoded_train.shape[0], 1))\n",
    "MAPE_train_list = np.zeros((y_train.shape[0], 1))\n",
    "for i in range(0, y_train.shape[0]):\n",
    "    yTrainSum[i,:] = np.sum(y_train[i])\n",
    "    dTrainSum[i,:] = np.sum(decoded_train[i])\n",
    "    MAPE_train_list[i,:] = np.abs((dTrainSum[i,:]-yTrainSum[i,:])/yTrainSum[i,:])\n",
    "    \n",
    "MAPE_train = 1-np.sum(MAPE_train_list)/x_train.shape[0]\n",
    "print(MAPE_train)\n",
    "acc_train = 1-MAPE_train\n",
    "print(acc_train)\n",
    "acc_train_list = 1 - MAPE_train_list\n",
    "\n",
    "yTestSum = np.zeros((y_test.shape[0],1))\n",
    "dTestSum = np.zeros((decoded_test.shape[0], 1))\n",
    "MAPE_test_list = np.zeros((y_test.shape[0], 1))\n",
    "for i in range(0, y_test.shape[0]):\n",
    "    yTestSum[i,:] = np.sum(y_test[i])\n",
    "    dTestSum[i,:] = np.sum(decoded_test[i])\n",
    "    MAPE_test_list[i,:] = np.abs((dTestSum[i,:]-yTestSum[i,:])/yTestSum[i,:])\n",
    "    \n",
    "MAPE_test = 1-np.sum(MAPE_test_list)/x_test.shape[0]\n",
    "print(MAPE_test)\n",
    "acc_test = 1-MAPE_test\n",
    "print(acc_test)\n",
    "acc_test_list = 1 - MAPE_test_list\n",
    "\n",
    "plt.hist(acc_train_list)\n",
    "plt.title('Training set (accuracy)\\nTest size 0.05')\n",
    "plt.ylabel('Number of data')\n",
    "plt.xlabel('Accuracy')\n",
    "#plt.grid()\n",
    "plt.show()\n",
    "\n",
    "plt.hist(acc_test_list)\n",
    "plt.title('Test set (accuracy)\\nTest size 0.05')\n",
    "plt.ylabel('Number of data')\n",
    "plt.xlabel('Accuracy')\n",
    "plt.show()"
   ]
  },
  {
   "cell_type": "code",
   "execution_count": 44,
   "id": "a803b706",
   "metadata": {},
   "outputs": [
    {
     "data": {
      "text/plain": [
       "0.00023166550066015741"
      ]
     },
     "execution_count": 44,
     "metadata": {},
     "output_type": "execute_result"
    }
   ],
   "source": [
    "sum(MAPE_train_list)/x_train.shape[0]"
   ]
  },
  {
   "cell_type": "code",
   "execution_count": 45,
   "id": "69778168",
   "metadata": {},
   "outputs": [
    {
     "data": {
      "text/plain": [
       "0.9997683344993399"
      ]
     },
     "execution_count": 45,
     "metadata": {},
     "output_type": "execute_result"
    }
   ],
   "source": [
    "1-sum(MAPE_train_list)/x_train.shape[0]"
   ]
  },
  {
   "cell_type": "code",
   "execution_count": 47,
   "id": "c3062096",
   "metadata": {},
   "outputs": [
    {
     "data": {
      "text/plain": [
       "0.9978351172868637"
      ]
     },
     "execution_count": 47,
     "metadata": {},
     "output_type": "execute_result"
    }
   ],
   "source": [
    "1-np.sum(MAPE_test_list)/x_test.shape[0]"
   ]
  },
  {
   "cell_type": "code",
   "execution_count": 40,
   "id": "532d376d",
   "metadata": {},
   "outputs": [],
   "source": [
    "MAPE_test = (np.sum(np.abs(np.sum(y_test)-np.sum(decoded_test))) / np.abs(np.sum(y_test)))/(y_test.shape[0]/16)*100\n",
    "acc_test = 1-MAPE_test"
   ]
  },
  {
   "cell_type": "code",
   "execution_count": 41,
   "id": "b335774c",
   "metadata": {},
   "outputs": [
    {
     "name": "stdout",
     "output_type": "stream",
     "text": [
      "0.024832016269258652\n",
      "0.9751679837307413\n"
     ]
    }
   ],
   "source": [
    "print(MAPE_train)\n",
    "print(acc_train)"
   ]
  },
  {
   "cell_type": "code",
   "execution_count": 42,
   "id": "8897e2b0",
   "metadata": {},
   "outputs": [
    {
     "name": "stdout",
     "output_type": "stream",
     "text": [
      "0.02569726494761635\n",
      "0.9743027350523836\n"
     ]
    }
   ],
   "source": [
    "print(MAPE_test)\n",
    "print(acc_test)"
   ]
  },
  {
   "cell_type": "code",
   "execution_count": 43,
   "id": "2be313d6",
   "metadata": {
    "scrolled": true
   },
   "outputs": [
    {
     "name": "stdout",
     "output_type": "stream",
     "text": [
      "[0.0001756188703904, 0.0001500970589693958, 0.00011723759111315741, 0.00013218765170130322, 0.00015896079885139073, 0.0001614091975190682, 0.0002656599992406641, 0.00018149921913968462, 0.00023159659906774253, 0.00024073195822366355, 0.0002877917970866104, 0.00015186853480855613, 0.000163746188584868, 0.0001878499834720836, 0.0002789049727730382, 0.0003579289216472206, 0.00025109783208172577, 0.00020104537130099544, 0.00020765804494916385, 0.00013508806995014618, 0.0001649296243402267, 0.00023447191498095595, 0.00017653593325167585, 0.00014209990387918645, 0.0001835339863713392, 0.00021436346765874001, 0.00022670806193189467, 0.0002167575179888882, 0.00015615196118417323, 0.0002013253695679841, 0.0001990635563212601, 0.00030565583895559624, 0.0002786932646130838, 0.00020306970926027448, 0.00020815239817636484, 0.00022827320297811137, 0.00023542230009154715, 0.00024830476233356696, 0.00016080381537062264, 0.0001769180729293327, 0.00023681842659107583, 0.0002281600440896298, 0.00015548279604120824, 0.00022433662603025812, 0.00023212213386436333, 0.0002602840495372366, 0.00031965735066560993, 0.00029686007255443775, 0.0001027019637377709, 0.0001570598626318906, 0.00012541645058130924, 0.00012382840979040325, 0.00012666694467558051, 0.0001401321351388379, 0.00034589046795625503, 0.0001679669564429312, 0.0002356091973627317, 0.00030293062789705073, 0.00022063034010937922, 0.0001627723311706679, 0.00017705970903934295, 0.0002566572314020709, 0.0003179908543293464, 0.0003137165699525347, 0.0002030787808064474, 0.00015364682380502527, 0.00013957881580437185, 0.00014043979647445888, 0.00021225512340832737, 0.0002274078819585204, 0.0001779351884611107, 0.0002950260788771586, 0.0002273412759014553, 0.00021167305332403313, 0.00022354045513242086, 0.00016551664726249324, 0.00021825630474431304, 0.00023988945515016958, 0.00022043504100220733, 0.0003493394501766726, 0.00023032052905024304, 0.00026317209853926837, 0.0002148302796034514, 0.00024285489722889765, 0.0002655453980764766, 0.00027962989590502724, 0.0002951966316149291, 0.0002512760891779225, 0.00023505557248921645, 0.0002478888624116063, 0.00031912919632203494, 0.00022574403213197953, 0.00024952168194481366, 0.00031099786832628975, 0.00043391770537735887, 0.0002928823578858878, 0.00012460378303939142, 0.0001597265993480731, 0.00021395786886346764, 0.00018370680493294113, 0.00018244008593877416, 0.00017734439771991496, 0.00018505615959257406, 0.00021297673094219962, 0.00019178515411000133, 0.00020441122244083338, 0.00016055286695431642, 0.00022196804121735254, 0.0002450043732620657, 0.0002524000966062298, 0.00041419465337115145, 0.00028484972538307066, 0.00023139100306261853, 0.0002058626396293136, 0.0002678437292211446, 0.0002696337994166033, 0.0002481144067016747, 0.0002856545728910267, 0.00024731685269356764, 0.00026921465887654126, 0.00027583527192700494, 0.0002925395006203294, 0.000273564064381255, 0.0002706228104354952, 0.00017609359269616986, 0.00024961819368190396, 0.000268398315118459, 0.0003566717922981989, 0.00016678216073174457, 0.00015301168692433847, 0.00020502037000524916, 0.00011574546693232185, 0.00024175439510444095, 0.00018933275365025652, 0.00012925541468505628, 0.00021261830825478105, 0.00025103852616230093, 0.00016612110507647744, 0.0002537088058905819, 0.00022127584609249581, 0.0002056460998687725, 0.00020426010008889035, 0.0003006794293242976, 0.0002674057426912474, 0.00028704112566202774, 0.00022661050077869854, 0.0002041314681271608, 0.00019237790928386465, 0.0002108333413899421, 0.00036694179252503087, 0.00021631575948177846, 0.00029471455412659147, 0.0003100029317165956, 0.0002776830050237582, 0.0001761342961505214, 0.00021304965404543946, 0.00018811094834198262, 0.00020380647987128323, 0.00021813612493563165, 0.0003018546119482103, 0.00014691363207731142, 0.0002483922680554026, 0.0003150122242310731, 0.00019130219901720768, 0.000276857155440657, 0.00023654483659167486, 0.0002697440574078244, 0.00023372450655169977, 0.00023595347553245132, 0.0002387064071261171, 0.00023044957046326615, 0.000249750245149993, 0.00028070939015760796, 0.00025160908996874103, 0.0002685664522287332, 0.0002398850684543142, 0.000254232587349159, 0.00023737403927387264, 0.0002204114988905642, 0.00023685701703314696, 0.0002256468971619558, 0.00020731673128737365, 0.0001763836368169741, 0.00026297058138454626, 0.00023877553261164147, 0.00025585154543130323, 0.0002742207634394757, 0.0002462654517640998, 0.0002307081775799059, 0.00023183323936531641, 0.000189686064048249, 0.000245808342575187, 0.0003510211675947851, 0.00025775522023328574, 0.00016533797798528726, 0.00020653080826985373, 0.0002499657331481826, 0.00037534012785611447, 0.00024463954229179887, 0.0002819522913362536, 0.00018680146914455976, 0.00018069823014771504, 0.0002025234367765909, 0.00029500996910213523, 0.0003856523171862414, 0.00047773114968965115, 0.0004305998898958155, 0.0006603509461306831, 0.00018697720393039526, 0.0001785818232862134, 0.00014854924283868803, 0.00014467230539487932, 0.00017636246089690222, 0.00022317584677004692, 0.0002670419721101606, 0.00030667954614423267, 0.00027430584075701807, 0.0003624291747931037, 0.0003284773352274635, 0.0003572257684743128, 0.0002533030201802028, 0.0003555195442961018, 0.0004523706642022973, 0.0003388737985752935, 0.00011862518322257854, 0.00012189105156564747, 0.0001622947112707667, 0.0001333586337470839, 0.00019119574281131757, 0.0001896837456297203, 0.00026489193132263875, 0.00014770673283520755, 0.00016348175616892613, 0.0001925381138433099, 0.00023049507591595307, 0.00014497443203917822, 0.0001697812610203778, 0.0002475645789077122, 0.00027084822925119476, 0.0002569557181423238, 0.00018690629106487503, 0.0001889506019303914, 0.00022481193064213605, 0.00020182131584489885, 0.00026881395274586204, 0.0001859800542628901, 0.00019397505911146723, 0.00015828815948273968, 0.00024478447438507425, 0.00021646472448781908, 0.00021588262119692534, 0.00020104286024296, 0.00018201665715130116, 0.00022197511697278821, 0.00018809108823727018, 0.0003021341442635851, 0.00016461793763445902, 0.00014942813704023786, 0.00014746646502116167, 0.00015754623613578917, 0.00015423265837917867, 0.0002406757572091888, 0.00023689284872061814, 0.0002732027553339332, 0.0002094241785107431, 0.0003063782241282558, 0.0003109947309206885, 0.0002552629038378985, 0.0002119209693408324, 0.0001910784672955994, 0.00021537287600562708, 0.0002711284736755894, 0.0001321889602710893, 0.0001604392807924863, 0.0001235425657299812, 0.00018279025650455466, 0.0001229968272572414, 0.00017562642266831649, 0.0001489179366568707, 0.00017836440548930923, 0.00020597881056680774, 0.00015986953202527465, 0.00018821037269928673, 0.00023772707403226634, 0.00025443575527625025, 0.00031005170275329435, 0.00037570932246734477, 0.0003575924781360197, 0.00022010447466669944, 0.00024649455731653845, 0.00020214447882249302, 0.00018081026717076316, 0.0002256815357019881, 0.00023052708892351006, 0.0001987040770589014, 0.00025311814095362425, 0.00020860201790580147, 0.0002982687239776552, 0.00025111479385118377, 0.00023517710450777487, 0.00015713326063051422, 0.00017701549070984758, 0.00014903483961114318, 0.00023838889687903046, 0.0001485719129843858, 0.00012837785469485173, 0.00012840043022057743, 0.00014337925228113287, 0.0001492736957455557, 0.00024039171239545066, 0.0002663610109838076, 0.0001937697640714862, 0.0001920133392916199, 0.0002632770685715567, 0.0002625423798475961, 0.00018172505903822666, 0.00016750554331607825, 0.000218390426752304, 0.0001951921875013009, 0.00036286506107656067, 0.00018611244317821951, 0.00016031226571111733, 0.00014895719256043986, 0.0001183407690608765, 0.00017091997521011002, 0.00017390672595435532, 0.0001399585786269119, 0.00020716876661811947, 0.0001709036434189626, 0.00022313079044718347, 0.00020000121050632014, 0.00017962503388166984, 0.00022505884608968883, 0.0002190327833721508, 0.0003017593615292125, 0.00022811158815077255, 0.0002614919792003161, 0.0002729086106523771, 0.0002708185944263796, 0.00025606213998146093, 0.000237351324871439, 0.0002277502923819573, 0.00023246181153315258, 0.00020534871928848717, 0.00022673120000084708, 0.00022188478041521183, 0.00022994147136038228, 0.00022996264929232176, 0.0001855141334753835, 0.00019884707246023143, 0.00021315584066968456, 0.0002401354935259301, 0.0001235280298530624, 0.00019612857033134333, 0.00027259207345287767, 0.00010396823095648165, 0.0003211366669095749, 0.0001827168029556153, 0.00020692731847795948, 0.00015425886242973535, 0.00015010879642490138, 0.00017750642230162235, 0.00017452954082387276, 0.00030512680467064714, 0.00021852126979127204, 0.00024620910430180564, 0.00036751068282428966, 0.0003251687320279784, 0.00020236842994011264, 0.00020020529877008952, 0.00015280346144540852, 0.00014572505365600144, 0.0001060068922861709, 0.0002683990138405127, 0.00021399366360816226, 0.0002602343517390124, 0.0002449384085231955, 0.0002087453589741206, 0.00030179820770810585, 0.00013878011697383735, 0.00012089672963301877, 0.0002264391618045216, 0.00028712986717547423, 0.00021250017013802543, 0.00025109783208172577, 0.00020104537130099544, 0.00020765804494916385, 0.00013508806995014618, 0.0001649296243402267, 0.00023447191498095595, 0.00017653593325167585, 0.00014209990387918645, 0.00018353400109884097, 0.00021436346765874001, 0.00022670807792113878, 0.00021675748873483324, 0.00015614912541929852, 0.0002013262742733838, 0.0001990635769525636, 0.0003056558132689657, 0.00018968357059298996, 0.00019456406244359493, 0.00019256846108556754, 0.00017462814697641798, 0.000230717395255312, 0.0002338570453347111, 0.0001946434384386963, 0.00022392420106552991, 0.0002745004614388017, 0.00024046312233119412, 0.00017697914862710052, 0.00022946661252352555, 0.000146750906583195, 0.00021061044072140356, 0.000209782558934135, 0.00018994190839091325, 0.00015649940088322572, 0.00014496127891082278, 0.0001828957857243611, 0.00012373430031978306, 0.00016935181381955798, 0.00014174727346463465, 0.0001911461461044338, 0.00018423869937931394, 0.00014016851479229522, 0.00021839200171799514, 0.00014025534460209265, 0.0001357264025051341, 0.00016468307720477398, 0.0002122530853740178, 0.00030612582424283645, 0.0005580100053267166, 0.00027638260024378316, 0.00027413066901683036, 0.0001780004633752806, 0.0003428317026317342, 0.00027145128338638665, 0.00035372316839311154, 0.00026045278146561644, 0.0002651398014977313, 0.00029225118161242816, 0.00029278301178937966, 0.00027181967294551563, 0.00026182837506074307, 0.0002668303070198766, 0.00022642814780268741, 0.00025374967602881116, 0.0004320838914400603, 0.00014601526949957236, 0.00018105940510666446, 0.00012052194013771444, 0.00014001160441007074, 0.00015634080385858596, 0.0002527140432890259, 0.00021084678303793185, 0.00030816532566684224, 0.00027074591377363003, 0.0002873139959818956, 0.0002570038149193296, 0.00023965928958263787, 0.00017454270868799465, 0.0001801046945956268, 0.0001883278354370593, 0.0002865794468120898, 0.00017153997068996692, 0.00021521361397761762, 0.00023482859227825874, 0.0002432392065216568, 0.00023161502497142213, 0.00024737194775000014, 0.00025816208142313233, 0.0002091663949005634, 0.00024854829344268044, 0.00024344090424008557, 0.00024621113338109315, 0.0002315631256801894, 0.00020476908191857372, 0.0002325848846322534, 0.00023894392083584158, 0.0002659288662412478, 0.000167385242666678, 0.00017812999436001123, 0.00016806019269550575, 0.00014412556788127393, 0.00020299967527064765, 0.0002445924852027223, 0.0002993030494948024, 0.0002595557312388845, 0.00030061218489398745, 0.00027679966505246497, 0.00028706452796316756, 0.00026259503120101813, 0.00015394033588530764, 0.0002496391333137505, 0.00043148150440216565, 0.0003485072712444999, 0.0002373921603609224, 0.0002875325605691342, 0.00027682175555359306, 0.00020738461903277417, 0.0002925714434612826, 0.0002447151804121642, 0.00029743640676554924, 0.0003160050151964218, 0.0002893842420245378, 0.00027482848999989213, 0.0002290388104701369, 0.00027704861672631363, 0.00018626820832783216, 0.0003098063487250615, 0.000289292224960501, 0.00045996903264759623, 0.0002018893589331842, 0.0002305613713844051, 0.00025345146368671047, 0.00020341305095730971, 0.00023502970241367637, 0.0002426646097215429, 0.0001995912146539962, 0.0001779413139256295, 0.00019809445508087997, 0.00016240727662950502, 0.00019871492261892026, 0.00024266866917576553, 0.00019727673507597185, 0.0002620530312408234, 0.0002847262788965704, 0.00029968643367305853, 0.0001575079542636375, 0.00015839757074636787, 0.00024772805026978216, 0.00020799166220302617, 0.00028090488872887967, 0.00028134355680569593, 0.000280787628634612, 0.0001604774591164064, 0.00021998602656083768, 0.0002782886187124188, 0.0001947571467845635, 0.00019829787113478597, 0.00023007963949377941, 0.0002728398108369718, 0.00022621601295479788, 0.00023403400715034175, 0.0001843602735504566, 0.0002335782482449321, 0.00018884449705615158, 0.00018360839878047997, 0.00022564440592657363, 0.00020123004417475294, 0.0002264460265069753, 0.0001987351201178652, 0.00022299860573624713, 0.00026202430330829197, 0.00021291592999937074, 0.00018895767876772862, 0.00018593309465619458, 0.00023724258337847062, 0.00020833009121360842, 0.0003822056589663664, 0.00014250658979698486, 0.0002070617239990473, 0.00012765282406730204, 0.00015454914640626615, 0.00011871104133789198, 0.00017312288035249669, 0.0001779614426164319, 0.00018267842790130803, 0.000201576743430629, 0.00018904189836761346, 0.00019762344567167127, 0.0001734330452596565, 0.0001591656147084106, 0.0001818271620470766, 0.00029738176487566106, 0.00019257979219686582, 0.00017228861625989266, 0.0001805691442445629, 0.00023059536357542427, 0.0001500663862045175, 0.0001971545120576382, 0.0002011193829256312, 0.00015312400574284598, 0.0001794302276429013, 0.0002429323250032369, 0.000263782056980614, 0.00018208540767151058, 0.0002007193548185473, 0.00020198583749064474, 0.00019982556939056494, 0.000179816854538086, 0.00028500780370282146, 0.0002032362083863283, 0.00024439974795611866, 0.000259961422335142, 0.00015154530071229342, 0.0002542974985606769, 0.0002406578504549791, 0.00024298763799409525, 0.000228062117314604, 0.0002707327367947716, 0.0002694067259397112, 0.0002639645537110979, 0.00026985146713257295, 0.00014736268124269428, 0.00030851587208679415, 0.00021647830582469614, 0.00033261095838678096, 0.00018567099109512527, 0.00019941139398221326, 0.0002956632863595304, 0.00018013555963381243, 0.00025320684972481917, 0.00020674639108847907, 0.0002394227438822308, 0.000249344308144541, 0.0002679240623201347, 0.0002730835114290198, 0.0002223259090255702, 0.00027211870747812286, 0.00021317218114245967, 0.0001609163703683248, 0.0002526998820729331, 0.00036453711182519235, 0.00025445583224766185, 0.00021451836215195583, 0.0002608782988408636, 0.0001561101877554764, 0.0002572573366851727, 0.00018740766954238652, 0.0002530962924373263, 0.00016880513494336248, 0.00022598913809696242, 0.00022604360138461357, 0.0002658001556851083, 0.00026034121049594585, 0.00025435686238700677, 0.0002843033336072022, 0.0003598047494336959, 0.00024524881496165593, 0.0002275573945029694, 0.0002375962936348991, 0.0001739058171664668, 0.00025322746329118647, 0.0002833958009846695, 0.0003131029250562316, 0.0002355177554252134, 0.0003170406200122984, 0.00027639327129326546, 0.00023004129713578253, 0.0003223012351156644, 0.0002645376940381077, 0.00020853668438140997, 0.00020567472333182026, 0.0001927153710592905, 0.0002689893770874374, 0.0003140587531331241, 0.00023092431143688979, 0.0001915278988846055, 0.00022600886929660755, 0.00021033804636206527, 0.00022158251532102837, 0.00023924975811748746, 0.0003057619010348085, 0.0002564341406220626, 0.0003533525653371966, 0.0002946395105522842, 0.0002491081455853483, 0.00016452070181214348, 0.00017464909435319415, 0.0002372777664379033, 0.0002640618525922436, 0.00023630592319592817, 0.00023961749181390548, 0.00024752661301230127, 0.00017328676209093675, 0.00016208647386544857, 0.00018164201282140868, 0.00011350147758974357, 0.0003291441399583452, 0.00034807270358889087, 0.0004568811272537547, 0.0004894681604445539, 0.0005411823892634091, 0.0006937215187435269, 0.0007958900686744479, 0.0007584881587304076, 0.0010752300220288388, 0.00028136871434272055, 0.00020410913504858118, 0.00018598411171157238, 0.00018994166769543036, 0.00019469543514553266, 0.00018892277049457787, 0.0002153004734641519, 0.0003040046227667469, 0.00023385774008928325, 0.00034461298295905877, 0.00036871158733315843, 0.00037248587626216307, 0.0003129998541063351, 0.00037029302676253766, 0.0003831243083282697, 0.000493899179440821, 0.0001806878342355935, 0.00018651593914123022, 0.00018771453144414557, 0.00013654561701361147, 0.00015275352971152577, 0.00011398474011190388, 0.00022402419320039085, 0.0002050434541725603, 0.00017975916353328445, 0.00015589153361018833, 0.0001549354082054896, 0.00014190522272524849, 0.00014403507541735743, 0.0002332128671657406, 0.0002883633088922948, 0.00030943018602714553, 0.00022339776596024552, 0.00026141753500996554, 0.00020144368475662636, 0.00027334924127127926, 0.00025491108058375714, 0.00033160929628691505, 0.00025238466133854055, 0.00023572135114565283, 0.00026879142493716087, 0.00031169434595637466, 0.00027272297254612456, 0.0003058525573673281, 0.00022170209137610872, 0.00019702278399177586, 0.00026977394401992983, 0.0003330354673883088, 0.0001476735169740634, 0.00010970977342578712, 0.00015273224733692033, 0.00014721119802880674, 0.00011556605840883881, 0.00021464692860860243, 0.00026249861106785306, 0.00019521223384969766, 0.00028326471061499835, 0.0002765626799237295, 0.00024958366381036415, 0.0001291343662574025, 0.00017302925365301553, 0.0002178162661314382, 0.00022240579238284316, 0.0002653539631981658, 0.0001488011190203421, 0.00010826512602754733, 0.00013168968630994328, 0.00013115177748092784, 0.00016718887150920958, 0.00014193435046659205, 0.000226647106369626, 0.00017734667064591027, 0.0001352800208360524, 0.00023073183591379817, 0.00016308601054147292, 0.0001687683448208032, 0.0001621858931655149, 0.00020766265401754965, 0.00025377890308124484, 0.00024061895802308893, 0.00022562688702126073, 0.00018196917668797716, 0.0001339416683079123, 0.00022831070763247113, 0.000311345849019283, 0.00026585881313797547, 0.0002716705272235505, 0.0003278725096266928, 0.00031827837806236057, 0.00029732709147066395, 0.0003205088158128362, 0.0002423947318499351, 0.00021470712440210666, 0.00026810481795851615, 0.00022324701046537584, 0.00028125799864155685, 0.0001654584058686738, 0.00017636481001670078, 0.00019395461735728376, 0.0002619944774094906, 0.00018090574165624507, 0.00023585543118542334, 0.0002572610581428873, 0.00029319418682525724, 0.00034646857010295974, 0.0002947554307506141, 0.0002991674751630812, 0.00031471838869140737, 0.00015478796845367455, 0.00030938586617404294, 0.00023046918597403377, 0.0003158771035618926, 0.00018794899859070943, 0.0001513912045410129, 0.00020767614112001239, 0.00022245034576545271, 0.00023458926202215522, 0.0002194655999128575, 0.0002155085234224507, 0.00023351256020153299, 0.00024072660526816903, 0.0002612649491224684, 0.00025937873025201543, 0.00021033928095639132, 0.00014426436088099323, 0.00022484865331849385, 0.00020608147277059448, 0.00028614402129884453, 0.00015892461636614306, 0.00020965385219222805, 0.00019507619687698688, 0.00018944320473596483, 0.00016984359879247115, 0.0002646927550941187, 0.00015314201169875966, 0.00024753816838061056, 0.00026777164917430213, 0.0002904501988952522, 0.00028707836492691417, 0.0002164168088544431, 0.0002116228886379471, 0.0002743781353205874, 0.00030996117692862657, 0.0002764578614612948, 0.00018595835087935182, 0.0002063024309957109, 0.0002378147750233947, 0.00020806915093145284, 0.0002783227408363394, 0.0002661756314183459, 0.00027835515540802216, 0.00016492647148138174, 0.0002994028663843733, 0.00022788885296171432, 0.00026054304207468024, 0.00024072818014908185, 0.00014848231308645427, 0.00023285601525347815, 0.00021315643224808538, 0.0002138085240074187, 0.0001792094465991471, 0.0002404417314871652, 0.00023933275802021317, 0.0002478603615454571, 0.00024350466740776053, 0.0002518634716091014, 0.00016494150625621403, 0.00018749537856441179, 0.0002335963448360781, 0.00022501313135949862, 0.00017678978015815095, 0.0001813465337103243, 0.00020904012203565599, 0.0002575000613216268, 0.00023255656143817072, 0.00027069768403575374, 0.00021359540528127042, 0.00018071222310808284, 0.00012672859733799178, 0.0002283520021464055, 0.00018418733230385058, 0.00017703086998002262, 0.00026528072738902034, 0.00014871917480785679, 0.00014968301388388217, 0.00020017545822365943, 0.0002143496771830418, 0.00022048769167027455, 0.0001536556570633445, 0.00018149143134277092, 0.0002591679387129224, 0.00027153073208642357, 0.00013319668901474392, 0.0001853646583163416, 0.0002547077086759571, 0.00016443308927629484, 0.00022550379627592286, 0.00021940738004251116, 0.00022800078885611857, 0.00015730750496968345, 0.00023779580968178043, 0.00026486548106732696, 0.00020417236579331634, 0.00023027452771934406, 0.00018037301669135408, 0.00018252463792446693, 0.0003243450660516981, 0.00024226631495081607, 0.0002797787844445229, 0.00027531229112441233, 0.00019854650141588946, 0.00018637034382941816, 0.00025196464133963307, 0.00023359168606797742, 0.00023448493323017502, 0.0002249330771963619, 0.0002526078303682554, 0.00024669808873066615, 0.0002551323961277421, 0.0002163747416733892, 0.00016754773592397192, 0.0002359619119172223, 0.0003567710314199483, 0.0003967649924673031, 0.00025985276874678295, 0.0003032876639492864, 0.00025334169315775827, 0.00024090551451648294, 0.0002608631429163586, 0.00029785089068198374, 0.00026416489048018736, 0.0002600781511253255, 0.0002519987648302226, 0.000294693935855365, 0.0003113787987094954, 0.00022647947975870344, 0.00011159823474971049, 0.0002195455073835809, 0.00019164578965472548, 0.00022169009556486456, 0.0002289085531636159, 0.00020543460187790342, 0.00025062586354126674, 0.00020634841980383188, 0.00023688937906546126, 0.0002732099350271464, 0.00024575864136327, 0.00026010841982407394, 0.0002654864495715917, 0.000262249380224847, 0.00026320068826920693, 0.0002397623334348059, 0.0002069546817684668, 0.0001845584885563073, 0.00025132681798621014, 0.00026570797132141795, 0.0002668605035921355, 0.0002262465525455785, 0.00020004246814325002, 0.00016351766416074418, 0.0002141069720343997, 0.00017551235868831666, 0.0002683316547882352, 0.00023825479343073265, 0.00024025531472123503, 0.0002536638059938088, 0.00019316685060573116, 0.0001900707122223682, 0.0001229866517102203, 0.0001600231377535912, 0.0001468565268003019, 0.0001800798907242504, 0.00018562805699337358, 0.00021230071009170352, 0.00025778138799188233, 0.00018323949352935817, 0.00023835065302980148, 0.00022153939839152784, 0.0002550657977896826, 0.00019534094171778308, 0.0002447088594700507, 0.0002034837705240614, 0.0002991296804146751, 0.00021909058556752396, 0.0001610266375500726, 0.0002522090270106499, 0.0001861533753095931, 0.0001974955353639683, 0.00019383164658838285, 0.00026180261717975413, 0.00021537717808594507, 0.00023665490432336734, 0.0002362988087193288, 0.0002571016153629487, 0.0003085884076839222, 0.0002851482730125618, 0.00025178180364226295, 0.00023660182436209285, 0.0002680054915078314, 0.00025800642456720146, 0.0002452484653526045, 0.00020268230128764588, 0.0002374986069900529, 0.0003250324862022651, 0.00016402324106529748, 0.00019356170880893017, 0.00024836628334715875, 0.00024505107061903247, 0.000260014814383703, 0.0002757428509904678, 0.00020130385720889968, 0.00025780887901257475, 0.0002715168655478244, 0.000256589426293879, 0.00023028014037649542, 0.00026263138208875136, 0.00016046553728110542, 0.0001970062497367035, 0.00023406274206254766, 0.0003442104297955572, 0.00017942917222924009, 0.00014686167419495825, 0.00015813857516420426, 0.0001457248459427859, 0.0001278093369805258, 0.00015918506739875582, 0.00016810149459961003, 0.0001777073843541979, 0.00022518815096224642, 0.00015878337594825724, 0.0001824828513442171, 0.00014326351576692122, 0.00020371172583103918, 0.00024397037215223496, 0.00023911600109483106, 0.00026987954844121475, 0.00016315614629822432, 0.00023007554489625127, 0.00025194261347035883, 0.0002626994093185646, 0.00023545270528163147, 0.0002553616051363475, 0.00019401140408466954, 0.00014020477495908838, 0.00014329879015324978, 0.00011237117485793464, 0.0002368782925697427, 0.000320481122013114, 0.0002680656573147225, 0.00029992393600572807, 0.00043152186841919504, 0.0003916607872926004, 0.00026458381855656605, 0.0002533552882018512, 0.00025211699324135644, 0.0003172606014960138, 0.00028995122173315434, 0.0002986884469189991, 0.0003438487060843114, 0.0002677786441280461, 0.00026757535939080757, 0.0002653082503311863, 0.00026626743436010137, 0.00022704296577724892, 0.0002399358524075517, 0.0002573834113936923, 0.0002815667526246167, 0.00035803335528093976, 0.00024288256163746135, 0.00016657202382789225, 0.00013612212102484224, 0.00018574508498450768, 0.0002227785759489358, 0.000246535098057327, 0.0002643945701877076, 0.00024413561566624328, 0.0002548712906132584, 0.0002995639184867372, 0.00025237222228274256, 0.00022586610613727602, 0.00019812461870558648, 0.0002632115376742115, 0.0003832125540182609, 0.000296902563344242, 0.00031014952846073347, 0.00029487876288563595, 0.0002863499050946673, 0.00023300201237309666, 0.00025911313711097757, 0.00024267649534364007, 0.00022575454828136263, 0.000301685989818622, 0.00031627029813007315, 0.00030805411841908854, 0.00030074959991869404, 0.00026267618206008087, 0.00022968805234482864, 0.00022267980623033747, 0.00021544944778524323, 0.00022417544411397787, 0.00019437911856064235, 0.00022380492131872736, 0.0002610102747170498, 0.00017083761932556, 0.0002493521108081802, 0.00019092619122720755, 0.00019921652056994858, 0.0002065889335444928, 0.0002697560068937163, 0.0002517164030288486, 0.00025975899493683904, 0.00023198711930666813, 0.0002799756931566667, 0.0002082526837026758, 0.0003255044996573946, 0.00022964459751497862, 0.00028270900951127525, 0.00022946575551524253, 0.00021862515000608122, 0.0002491306882394447, 0.000295293770330405, 0.0002655782744533985, 0.0002430526805942353, 0.0002508059203740605, 0.00025286339030548507, 0.00024932733899246385, 0.0002738673818437273, 0.00025505217859745006, 0.0001943684731615062, 0.00018779345148301095, 0.00032949088253356537, 0.0003772080460639065, 0.00030091731092010953, 0.0002298931462238603, 0.00025292557390154096, 0.00029416210369451456, 0.00028215369547457484, 0.0003396308750447219, 0.0002871188131120726, 0.0002672659941451856, 0.0003398801403719585, 0.00030404725343385143, 0.0002754219899234585, 0.00028841048037140234, 0.00016623589745198814, 0.00019642274087242222, 0.00016989312975965423, 0.0003308452893616179, 0.00021566921817125286, 0.00012645695712807257, 0.0001535073932704834, 0.00012348656185097833, 0.00021217451212013062, 0.0001812885593258613, 0.0002379220293163157, 0.00018115816542391475, 0.00015340200214036663, 0.00023067483597803278, 0.0001596080473872899, 0.00017973240575163123, 0.00015216989740406074, 0.00018140978344531673, 0.00019859232422926031, 0.0002619610177424715, 0.00022670445277590286, 0.00024393232054380426, 0.00028102874627773374, 0.00024110352490277692, 0.0002715270566981327, 0.00024767923634429147, 0.0001620784113794921, 0.0001918186875050483, 0.00021174445953571814, 0.0001971917225564098, 0.00019370805217678027, 0.0002621689297829291, 0.00019662032546117922, 0.00017598295128982058, 0.0002753276824421755, 0.00036396434633199166, 0.00025139947148886317, 0.00023896501377491665, 0.00029643707227779533, 0.00025878854205940136, 0.0002491918055574553, 0.00025109413465408854, 0.0002637928879262653, 0.0002651272191104894, 0.00029283521674638253, 0.00026706708272388515, 0.0002961743697599915, 0.0002640559010994111, 0.0002144437836252426, 0.0002492265220163337, 0.00024473962588486, 0.0002632372774000729, 0.00020356750543014526, 0.0002103510469148081, 0.0002169843116775616, 0.0002054649427213857, 0.0002616933044952522, 0.00024858201604008296, 0.00024367141712568227, 0.00024802443997157535, 0.0002842977231753308, 0.00019518747260102964, 0.00016433375961972683, 0.0001948263593417558, 0.0001710685424166373, 0.0001513226334981373, 0.00018105523103298596, 0.0002911981799182181, 0.00015110205697818917, 0.00024581240231950723, 0.00017984655399955798, 0.00020956504323938477, 0.0002303583102631695, 0.00023359054994770873, 0.0002743316740563594, 0.00018481724739635377, 0.00021887126504505376, 0.0002375690620688154, 0.0002499547742470947, 0.00022025471104608022, 0.00020798450894327588, 0.0003013117858595862, 0.00020369871193683358, 0.0002350418708121139, 0.00016381447611209585, 0.0001835419181958635, 0.00024907793518895443, 0.000157958864406882, 0.00022732050876957127, 0.00018233781169503638, 0.00023827856931092249, 0.00017577190127100658, 0.0002299778534510629, 0.0002127201848151602, 0.0002622911727965474, 0.00017152587357255913, 0.00021388914224182567, 0.00017964106461370157, 0.0002257826408137364, 0.0001610549117961694, 0.0001658742233813467, 0.00015558846099586032, 0.00018085788048696107, 0.00016995309666799374, 0.0001338028855648051, 0.00012300346121379215, 0.00019868964104690972, 0.00012880438347035567, 0.00015155165904019767, 0.00014353136742532266, 0.00016287795126303847, 0.00020415161904543684, 0.000186946200937071, 0.00012846088969648727, 0.00019112513379091893, 0.00028843542528214595, 0.000262895773839153, 0.00023607695550844002, 0.0002446870965784541, 0.00022493735908607986, 0.0002318967056091392, 0.00023631726812094306, 0.00023133891524490752, 0.00021412346890651728, 0.0002833357350147053, 0.0003031143364205851, 0.0003450051818580372, 0.00027136687042355717, 0.00031675287720200147, 0.00030825033335379225, 0.0003657981825139397, 0.00044567227334195913, 0.00019512539073466791, 0.00013661147467467475, 0.00021322563678937182, 0.00012359821005260662, 0.0002176304007038065, 0.00021195316496286557, 0.00024063134663766252, 0.00024051387999419725, 0.00017924826920477492, 0.0003006399106721199, 0.00021107263408475787, 0.00019466815160212053, 0.00021485870930969172, 0.00020001884332670393, 0.0001852734051688817, 0.0002602266430394831, 0.00015206089649277195, 0.00014167065123134483, 0.00013540051886183347, 0.00014066856266997787, 0.00011279438427954466, 0.00023291880437037346, 0.0003053195984565851, 0.00026362051549972575, 0.00025480691465302525, 0.0002575976924930864, 0.00025927808800693344, 0.00017413260862982218, 0.0002053241875820846, 0.0002001535588269331, 0.00023243337794177937, 0.0002784282006684826, 0.00027294522084887193, 0.00026671571517726756, 0.00015581573559008893, 0.00023978790252707398, 0.00025057197763234216, 0.0002367270303404131, 0.00023053027517412844, 0.0003360150778947721, 0.00023462499617765508, 0.00027275219832449384, 0.00021416838678502882, 0.00015350831350514587, 0.00021908492152543664, 0.00018867306760424955, 0.000349444926942354, 0.00035387491159287097, 0.00023291240523890547, 0.000280847772594763, 0.0002649545988936481, 0.0002286266893383638, 0.00023364905045451668, 0.0002801991783492333, 0.00020121559817341402, 0.0002474277709005751, 0.0003007927550161044, 0.0002913041900419898, 0.00024245383909337183, 0.00024798468127380444, 0.0002346899957308495, 0.00027614348635961986, 0.0003114294403929288, 0.00030662579682736097, 0.0002905437652339305, 0.0003374370387858289, 0.0003540167201398806, 0.00022484603285442728, 0.00032850836485800365, 0.00025895221379520366, 0.0002897917243171272, 0.00019661938757930958, 0.00023737746688703697, 0.0002322835063814618, 0.00020056671480094392, 0.0002276812206050822, 0.0002600461475929065, 0.00018334974146581027, 0.00034478587192054934, 0.00038962331854319, 0.0002552082963345852, 0.0001885096902870994, 0.0001672372918307182, 0.0001713922500087298, 0.00022027672330506728, 0.00025913168670153175, 0.00023896249329066345, 0.00021374558301569946, 0.00032642101445708784, 0.00026930273856216365, 0.0002587001398040029, 0.000254675819407516, 0.00016343803201554057, 0.000215656382677723, 0.00028657684437866543, 0.0002736505465362581, 0.00028821824860907606, 0.0003295115067891942, 0.00012523780625999542, 0.00022804266943820745, 0.0002183985371220107, 0.00026493851196494146, 0.00027722823102668023, 0.00021329493444080682, 0.0002604359870672894, 0.00022597961729647694, 0.0002430394107450445, 0.00020823503568289658, 0.0002496167942658425, 0.0002637339173099533, 0.00034813482339612786, 0.00022437945933752472, 0.0001713337210551318, 0.0002849002154967663, 0.00018749605657658635, 0.00026691921836957964, 0.00022688745236886196, 0.0002882390294447321, 0.0002939349089090948, 0.00029245442593259604, 0.000309833326925162, 0.000307672119022343, 0.00023258410596115674, 0.0003364883997327733, 0.00021892803237126036, 0.00034268694447893525, 0.0003751928340623359, 0.0003665985020479565, 0.0001770705156482912, 0.00021122104919435027, 0.00021985806014265092, 0.0002445111464909501, 0.00023956118004471452, 0.0002600018165934672, 0.0003052195794557742, 0.0002848853450683594, 0.00033966684087312175, 0.0002861148739448696, 0.0003089638214310847, 0.0002698166976252736, 0.00024315025001451552, 0.00030015310825806966, 0.00028204981219404166, 0.0004137886912984336, 0.0001633616545172007, 0.00012976433568577924, 0.00019097047312702806, 0.00016440253351876702, 0.0002486501721092985, 0.0002425990817627941, 0.0002533968417965055, 0.00015111957967911272, 0.00019581513923157785, 0.00029318677582958544, 0.0002605273910250282, 0.00022272015659351944, 0.00023576788200228195, 0.00020936122773096292, 0.0002949675530802808, 0.0002723128761032886, 0.00016083548029380328, 0.00018978937610071591, 0.00027516776118741577, 0.0001206703915317761, 0.0001867235567962073, 0.00016715101496709355, 0.00023175304079212154, 0.0002081419103094705, 0.00018762929112710872, 0.00023998113106872215, 0.000251309111653072, 0.00021111363904285864, 0.0001813320491335146, 0.00021376052313851744, 0.00024196204676430843, 0.00020091269483865819, 0.00012568683467066894, 0.00018908917091923813, 0.0001241661500255698, 9.667071619257297e-05, 0.00013250400486444744, 0.00011744397111023607, 0.0002024403586888948, 0.00016735129320702457, 0.0001820616456607209, 0.0001596540285448288, 0.00024765329428075213, 0.0001827537228015045, 0.00016482237869927925, 0.00013783473402157492, 0.0002463385310611954, 0.00024781549627402716, 0.00021570743000381732, 0.00019423943110794187, 0.00015129279919696525, 0.00014340677151027882, 0.000178093458206949, 0.00023040122047213727, 0.00027965011356110826, 0.00023319862610685676, 0.0003051701634542013, 0.00026914606010495525, 0.00031423463963057365, 0.0002155505825589053, 0.00026437463343936905, 0.0002682885992983616, 0.0003338781828598167, 0.00038902316774650777, 0.0002511017291990893, 0.00020219372416619582, 0.000258161152425222, 0.00023947602009447285, 0.00024834270495723693, 0.00020954866170301036, 0.00021650286671097099, 0.00019414500461841216, 0.0002898892544775667, 0.0002194466533252494, 0.00025314690929451056, 0.00032045109919191247, 0.00014641624120064525, 0.0001953455433872958, 0.00034544739386501534, 0.0003181668296518242, 0.0002371427917517248, 0.0002892112217115172, 0.00023010620322796464, 0.00021248705685004708, 0.00022256411954441307, 0.0003414240993990214, 0.00029670566040921746, 0.00025648962858392546, 0.0002825430190366158, 0.0002642200196275588, 0.000315878745004292, 0.00023562933728619168, 0.00020844447401253185, 0.00015835628999821447, 0.0002791147015661883, 0.0002742012958684077, 0.00017471822755076767, 0.000219416061635289, 0.0001884815868292089, 0.0001373566611529285, 0.00019919147830583042, 0.00024564126946770905, 0.00023645848357187782, 0.00025019347587135177, 0.00030721650469279447, 0.00032923595871001224, 0.0002896452381401402, 0.00021079836227701372, 0.00021553742220369298, 0.00021992708908250537, 0.00020566656551382462, 0.00022456758745648353, 0.00016676487189467873, 0.00010943924455869513, 0.00018787408070773974, 0.0002049318234059383, 0.0001334640921334288, 0.00018774930949344354, 0.0001699294358614995, 0.00012762142825960783, 0.00017099061306884907, 0.00015355351690504975, 0.0001749300784233829, 0.00021837817362727776, 0.00027145953791713563, 0.00018343916671291976, 0.00033197988458633364, 0.000412087653701099, 0.00025336501197606405, 0.00021557770849905557, 0.0001856254651828681, 0.00023345006667341842, 0.00020160322060432313, 0.0003244070880182361, 0.0002595600794306322, 0.00027652581642099804, 0.00023906516434052491, 0.00024848077907309, 0.0002180766220299162, 0.00024067056370523192, 0.0002530810018145407, 0.0003084550517152632, 0.00034768740485100413, 0.0002874311470017699, 0.00025336501197606405, 0.00021557770849905557, 0.0001856254651828681, 0.00023345006667341842, 0.00020160322060432313, 0.0003244070880182361, 0.0002595600794306322, 0.00027652581642099804, 0.00023906516434052491, 0.00024848077907309, 0.0002180766220299162, 0.00024067057626634425, 0.0002530809864465873, 0.0003084549478189744, 0.0003476874036331372, 0.0002874311856857205, 0.00021955174115227062, 0.00022592767526103842, 0.00023573726101242182, 0.00024312050560398323, 0.00018966631315091073, 0.00023843366851017948, 0.0001785198952485674, 0.0002542036331161944, 0.0002738924072677015, 0.0002522450885105205, 0.0002734701408739519, 0.0002387792649661338, 0.00014495628016584307, 0.00019197528086039618, 0.0001826817863197636, 0.00019417726926695066, 0.0001585139088119424, 0.0001649251121461748, 0.0002044769539528961, 0.0001455435731256111, 0.00028246644781560615, 0.00015627716194434408, 0.00018101394175795796, 0.0001955951928215572, 0.00022478747824149263, 0.0002490434505880369, 0.00017827346638571976, 0.00021773287081522299, 0.00021482375236740584, 0.0002716281003506899, 0.00019468049801451068, 0.00029783049750116864, 0.0002182164282365604, 0.0001912200112181463, 0.00021462275725982863, 0.00023830458111923487, 0.0002194459867346077, 0.0002305897058064587, 0.00023509601612312233, 0.00024804763062742446, 0.00020495928007472676, 0.00023929427961309134, 0.00026841143830273073, 0.0002367109449899541, 0.00016737734288175028, 0.00015812349120308624, 0.0002389783378632237, 0.00023613889959685295, 0.00018761725998478446, 0.00017683069230253957, 0.0002564931227219859, 0.00016007290496069466, 0.00022130962032370526, 0.00023816878440457499, 0.0002439717057520027, 0.0002001696566504095, 0.00022104342095322196, 0.0002654184371202076, 0.00019671414864036723, 0.0002366355975698136, 0.0001444309698694836, 0.00023040708210572073, 0.00022490135586265538, 0.00017134365820449074, 0.00020078898160887099, 0.0002647205359580075, 0.0002517564306941754, 0.00021081350710463347, 0.00023863193509082958, 0.0002731404182898443, 0.000253078380951478, 0.0002197148267723146, 0.00028386279500005305, 0.0002943674217790881, 0.0002218620344937709, 0.0003066869917971005, 0.0002012683841980043, 0.0001527032490604758, 0.0002001726101295292, 0.0002631985883763163, 0.00020924902754097512, 0.00023119219255999358, 0.00019935045205534213, 0.000221562324475632, 0.0002754939675517643, 0.0002807009002606676, 0.00027337127316630756, 0.0002052824720942375, 0.00018243333403953653, 0.0002521827094841125, 0.0002549318248112046, 0.00026856841715466336, 0.0002238770042334317, 0.00016882899094511925, 0.00028285047837262755, 0.00026240583318191935, 0.00017624679084062768, 0.00012890152596783166, 0.0001227376542973924, 0.000137770390248121, 0.00015263630407962475, 0.00021310723744989715, 0.00018012487702080143, 0.00019263453716090336, 0.0002624337399480788, 0.0002547799193890502, 0.00016810299813740741, 0.00015102232803269, 0.00013778782539989996, 0.00012419861075550976, 0.00016189645865809772, 0.00014906984302543954, 0.00017017189126903912, 0.00015148594750446766, 0.00014218347976633898, 0.00013613236273861867, 0.00014935831339268506, 0.00020006556857736618, 0.00026380900068640015, 0.0001811525119778178, 0.00024965332737317606, 0.00023367626045750538, 0.00022208752737872694, 0.00014493672047928723, 0.00016228060962764733, 0.00020579100847761583, 0.00019698557513383465, 0.0002474207568120288, 0.0002826538889959568, 0.0002656769946946124, 0.00022310087922757877, 0.0002046119347174939, 0.0001806822619273763, 0.00015384357827867562, 0.00021781332564043925, 0.00016712505892004095, 0.0002142231038088932, 0.0001553957568124118, 0.00021876423054414956, 0.00023418298550138987, 0.00024332159650654588, 0.0002495460940487985, 0.0003164139672488153, 0.0004156167271841394, 0.00022491397923620293, 0.0003022997743483861, 0.00027256586725713205, 0.000283030365929236, 0.00023146922281973878, 0.0002647480605160183, 0.00017371532579676038, 0.00025693543443829065, 0.0002457058142670157, 0.0002729368588461385, 0.0002816061587089629, 0.0002549532616306972, 0.00016556263562029718, 0.00022647753071216095, 0.00018235147766829639, 0.0003382140276115546, 0.00021366555882729085, 0.00029045525251103737, 0.0002577325867306771, 0.00022203475156100424, 0.00023211872600913756, 0.000291941756924758, 0.00026119058319438846, 0.00024248987374185215, 0.00025268397524833925, 0.00025269658275936936, 0.0002571652698878315, 0.00021788602942646767, 0.0002069903393587225, 0.0001933928013935604, 0.0002489907193205808, 0.0002661096169905516, 0.00022923954487655965, 0.0002899169615397234, 0.00018899531274883368, 0.00022890547789096528, 0.0002524600219661425, 0.00027982800794438954, 0.00020732341150471472, 0.0002180720509651963, 0.00021910641234711546, 0.0002480286420938509, 0.0002536058678780884, 0.00027224486092753916, 0.0001494940038014724, 0.00021379172870107684, 0.0002229500054827568, 0.00026260931091384135, 0.00019437293173860408, 0.00018422509456914716, 0.00022998647288067765, 0.00017931971914543664, 0.00025179625678463174, 0.00021375258693898642, 0.0002997330211940506, 0.00019702204975207368, 0.000233268943219255, 0.00024244973578078875, 0.00023646429379194165, 0.00021367494133487817, 0.00021102288168597225, 0.0001712985376293744, 0.00022387319965819804, 0.0002474139730970844, 0.00020905782718780584, 0.00024085715714876237, 0.00021117957539390093, 0.00012227275763873515, 0.00016846464715705075, 0.00027631412191411227, 0.0002759936644824564, 0.00033852424992860254, 0.0002824710232421296, 0.000307252245077583, 0.000263245248252777, 0.00031530238419471033, 0.00020281436028884685, 0.00026217446026278394, 0.00021415118597472885, 0.0003439804324626964, 0.0003569489211826974, 0.00024108991270896033, 0.0001833770350205671, 0.00020813423521598814, 0.00024041263626215496, 0.0002727898604293909, 0.0003409813967985055, 0.0002577155777851321, 0.00026409587048364735, 0.00016249269838005038, 0.0001912655820968419, 0.00023865363869466402, 0.0002705614491354266, 0.00036063965512105956, 0.0004087016694947969, 0.00048235863630591427, 0.00020885909373532198, 0.0001927869401160742, 0.00016142280765274412, 0.00017613856906632043, 0.0001926001456108781, 0.00019652149781994346, 0.0002522364444967742, 0.00018774795011895296, 0.00024040858256452337, 0.00026141263016114243, 0.00023490534258523228, 0.00017740778678966847, 0.00015594417414842234, 0.000180406745289348, 0.0002032794753452779, 0.00023231468203591888, 0.0001935522370679389, 0.00029630360305455983, 0.00020379722447275514, 0.00022605380716042317, 0.00029416636974820547, 0.00030932322450046414, 0.00024994097904842386, 0.00024390505919107762, 0.00026618832821364094, 0.0002640823829364604, 0.00026240073649167877, 0.00029892090613876487, 0.00017119364701632833, 0.0002391274682573266, 0.0002657347498399175, 0.00025623082081301275, 0.00015942274704625802, 0.00024130361369856734, 0.00013422860739245934, 0.00014415191398123496, 0.00017127432853045042, 0.00016391332699256935, 0.00019411564380841386, 0.00026080171089823835, 0.00031189712942173, 0.0002626555162362032, 0.0002484379856937387, 0.0001933930360688007, 0.0001776936297555755, 0.00019560674892510216, 0.00016634475203710012, 0.00034020423847567723, 0.00013939667095734813, 0.00012299527094014994, 0.00013713518396856917, 0.00014961925971767028, 0.00015145393290688574, 0.00015657035197489414, 0.00019103713482257638, 0.00018265839272762926, 0.00020560536474922516, 0.00023043794547467295, 0.0001868935266677658, 0.00015729949128042274, 0.00017714305860894, 0.00020597616197136706, 0.00027857290799508953, 0.0003591267948544548, 0.0002425307355215907, 0.00020684844465064173, 0.00032720498988104507, 0.00030238654645723133, 0.0002749250586943332, 0.00027967083288258374, 0.0002446108900783557, 0.0002880671198435351, 0.00023323560291001918, 0.0002473797432179934, 0.0003289442705621287, 0.00016818525408790534, 0.00021235836654160284, 0.00019877234148021444, 0.00025939264341089065, 0.0002566522375467526, 0.0002546184561499428, 0.00027195031488952697, 0.00016254776740165806, 0.00014735602560452148, 0.00014551556596931658, 0.0002973320354256913, 0.0002554352961761141, 0.0002920156361238739, 0.0002279673724066666, 0.00023143235389825058, 0.00018251854709781847, 0.00016122528586913785, 0.0001481754999086437, 0.00023435004002129601, 0.0002850463426491349, 0.0002608878113251306, 0.0002595306296388646, 0.00014865017281379865, 0.00020971350911530413, 0.00017526418952246284, 0.00022687540797322833, 0.0002077129393150742, 0.0002049945095937324, 0.0002325084117914667, 0.00021169456694945321, 0.00013914265651062562, 0.00015672348360331969, 0.0002044691583601668, 0.0002630813441544578, 0.00023998790505633794, 0.0003415513924804593, 0.00025042604930944714, 0.00020794876967966937, 0.0002643494933556565, 0.00019950189957712366, 0.00022918158633777536, 0.00023702078113589054, 0.00025266319623804364, 0.00025521216464495224, 0.00030320188182003855, 0.00027015225149490613, 0.00023041566533858892, 0.00031487584683422595, 0.0002299327663100948, 0.00024412513747840703, 0.00025844193996865493, 0.0002313455704794845, 0.0003974327731943628, 0.00021633002663218646, 0.00019122143815621294, 0.00018473881742041756, 0.0001787660999458528, 0.00019203216899138753, 0.00025611916731122197, 0.00018734923863182574, 0.0002579130050837543, 0.00023840411849911572, 0.00024707197332245006, 0.00025646414124651224, 0.0001726181088839898, 0.00015750310951822617, 0.00020081300137126594, 0.0001739390610109821, 0.00019758872591097996, 0.00025472449818800117, 0.0002649680960981378, 0.0002664955593641964, 0.0002707534099454109, 0.00029147413005803157, 0.0003162359455055548, 0.0002580514519682714, 0.0002313046390583936, 0.00018844830567948395, 0.0002391696208765518, 0.00020527686685726344, 0.0002852890491749711, 0.00019330179541476213, 0.00017185203592153875, 0.00018049009161473338, 0.00026512769201693506, 0.00021281536038187846, 0.00023328897191538984, 0.0002114669491127121, 0.00026218784054993693, 0.00025780184763734323, 0.00022098161005272394, 0.00022384895440118099, 0.0002586823580383275, 0.00022028517594048386, 0.0002399758577770123, 0.0002065645585392718, 0.0002437136254304659, 0.00020199436151114965, 0.00020683064701096, 0.0002204210887180547, 0.00027112418281396305, 0.00024314145486467178, 0.00023465085072170606, 0.0001788209688489303, 0.000262041693769008, 0.00023129536103081778, 0.0002401261309959016, 0.00021994082426637606, 0.00026213690578828796, 0.0002595796856817021, 0.000306423965924841, 0.0002977379140934405, 0.00024231241715433593, 0.00016114998251190454, 0.0002639667463693628, 0.00023540597621160206, 0.00033395906064894, 0.00018302197813437857, 0.00028091936182207303, 0.00022590846024771912, 0.00018126256752599182, 0.0001976151625101991, 0.0002122953809666658, 0.00018335745633904428, 0.00016134026796339854, 0.00018892788428268912, 0.0002184041596902281, 0.0002287363598999834, 0.00017371927972402822, 0.0002282914894822477, 0.00020840621619032065, 0.00023949469881357407, 0.0002555195132181003]\n",
      "[0.9998243811296096, 0.9998499029410306, 0.9998827624088868, 0.9998678123482987, 0.9998410392011486, 0.9998385908024809, 0.9997343400007593, 0.9998185007808603, 0.9997684034009322, 0.9997592680417763, 0.9997122082029134, 0.9998481314651915, 0.9998362538114152, 0.9998121500165279, 0.999721095027227, 0.9996420710783528, 0.9997489021679182, 0.999798954628699, 0.9997923419550508, 0.9998649119300499, 0.9998350703756598, 0.9997655280850191, 0.9998234640667483, 0.9998579000961209, 0.9998164660136286, 0.9997856365323413, 0.9997732919380681, 0.9997832424820111, 0.9998438480388159, 0.999798674630432, 0.9998009364436787, 0.9996943441610444, 0.999721306735387, 0.9997969302907397, 0.9997918476018236, 0.9997717267970219, 0.9997645776999085, 0.9997516952376664, 0.9998391961846294, 0.9998230819270707, 0.9997631815734089, 0.9997718399559103, 0.9998445172039588, 0.9997756633739697, 0.9997678778661356, 0.9997397159504627, 0.9996803426493344, 0.9997031399274455, 0.9998972980362623, 0.9998429401373681, 0.9998745835494187, 0.9998761715902096, 0.9998733330553244, 0.9998598678648611, 0.9996541095320437, 0.9998320330435571, 0.9997643908026372, 0.9996970693721029, 0.9997793696598907, 0.9998372276688293, 0.9998229402909606, 0.9997433427685979, 0.9996820091456706, 0.9996862834300475, 0.9997969212191935, 0.999846353176195, 0.9998604211841956, 0.9998595602035255, 0.9997877448765917, 0.9997725921180415, 0.9998220648115389, 0.9997049739211228, 0.9997726587240986, 0.999788326946676, 0.9997764595448676, 0.9998344833527375, 0.9997817436952557, 0.9997601105448498, 0.9997795649589978, 0.9996506605498233, 0.9997696794709497, 0.9997368279014607, 0.9997851697203965, 0.9997571451027711, 0.9997344546019236, 0.999720370104095, 0.9997048033683851, 0.999748723910822, 0.9997649444275107, 0.9997521111375884, 0.999680870803678, 0.9997742559678681, 0.9997504783180552, 0.9996890021316737, 0.9995660822946226, 0.9997071176421141, 0.9998753962169606, 0.999840273400652, 0.9997860421311365, 0.999816293195067, 0.9998175599140612, 0.9998226556022801, 0.9998149438404075, 0.9997870232690578, 0.99980821484589, 0.9997955887775591, 0.9998394471330457, 0.9997780319587827, 0.999754995626738, 0.9997475999033938, 0.9995858053466289, 0.9997151502746169, 0.9997686089969374, 0.9997941373603707, 0.9997321562707788, 0.9997303662005834, 0.9997518855932983, 0.999714345427109, 0.9997526831473065, 0.9997307853411235, 0.999724164728073, 0.9997074604993796, 0.9997264359356187, 0.9997293771895644, 0.9998239064073038, 0.9997503818063181, 0.9997316016848815, 0.9996433282077019, 0.9998332178392683, 0.9998469883130756, 0.9997949796299948, 0.9998842545330677, 0.9997582456048956, 0.9998106672463497, 0.999870744585315, 0.9997873816917452, 0.9997489614738377, 0.9998338788949235, 0.9997462911941094, 0.9997787241539074, 0.9997943539001313, 0.9997957398999111, 0.9996993205706757, 0.9997325942573088, 0.999712958874338, 0.9997733894992213, 0.9997958685318729, 0.9998076220907162, 0.9997891666586101, 0.999633058207475, 0.9997836842405182, 0.9997052854458734, 0.9996899970682834, 0.9997223169949763, 0.9998238657038495, 0.9997869503459546, 0.999811889051658, 0.9997961935201287, 0.9997818638750644, 0.9996981453880518, 0.9998530863679227, 0.9997516077319446, 0.999684987775769, 0.9998086978009828, 0.9997231428445593, 0.9997634551634084, 0.9997302559425921, 0.9997662754934483, 0.9997640465244676, 0.9997612935928739, 0.9997695504295367, 0.99975024975485, 0.9997192906098424, 0.9997483909100312, 0.9997314335477713, 0.9997601149315457, 0.9997457674126509, 0.9997626259607262, 0.9997795885011095, 0.9997631429829669, 0.999774353102838, 0.9997926832687126, 0.9998236163631831, 0.9997370294186154, 0.9997612244673884, 0.9997441484545687, 0.9997257792365605, 0.9997537345482359, 0.9997692918224201, 0.9997681667606347, 0.9998103139359518, 0.9997541916574249, 0.9996489788324052, 0.9997422447797667, 0.9998346620220148, 0.9997934691917302, 0.9997500342668518, 0.9996246598721439, 0.9997553604577082, 0.9997180477086638, 0.9998131985308555, 0.9998193017698522, 0.9997974765632234, 0.9997049900308979, 0.9996143476828138, 0.9995222688503104, 0.9995694001101042, 0.9993396490538693, 0.9998130227960697, 0.9998214181767138, 0.9998514507571613, 0.9998553276946052, 0.9998236375391031, 0.99977682415323, 0.9997329580278899, 0.9996933204538557, 0.999725694159243, 0.9996375708252069, 0.9996715226647725, 0.9996427742315257, 0.9997466969798198, 0.9996444804557039, 0.9995476293357977, 0.9996611262014247, 0.9998813748167774, 0.9998781089484343, 0.9998377052887293, 0.9998666413662529, 0.9998088042571887, 0.9998103162543703, 0.9997351080686774, 0.9998522932671647, 0.9998365182438311, 0.9998074618861567, 0.999769504924084, 0.9998550255679608, 0.9998302187389796, 0.9997524354210923, 0.9997291517707488, 0.9997430442818577, 0.9998130937089351, 0.9998110493980696, 0.9997751880693578, 0.9997981786841551, 0.9997311860472541, 0.9998140199457372, 0.9998060249408885, 0.9998417118405173, 0.999755215525615, 0.9997835352755122, 0.9997841173788031, 0.9997989571397571, 0.9998179833428487, 0.9997780248830272, 0.9998119089117627, 0.9996978658557364, 0.9998353820623656, 0.9998505718629598, 0.9998525335349788, 0.9998424537638642, 0.9998457673416208, 0.9997593242427908, 0.9997631071512794, 0.9997267972446661, 0.9997905758214892, 0.9996936217758717, 0.9996890052690793, 0.9997447370961621, 0.9997880790306591, 0.9998089215327044, 0.9997846271239944, 0.9997288715263244, 0.9998678110397289, 0.9998395607192075, 0.99987645743427, 0.9998172097434954, 0.9998770031727428, 0.9998243735773317, 0.9998510820633432, 0.9998216355945106, 0.9997940211894332, 0.9998401304679747, 0.9998117896273007, 0.9997622729259678, 0.9997455642447237, 0.9996899482972467, 0.9996242906775327, 0.999642407521864, 0.9997798955253333, 0.9997535054426835, 0.9997978555211775, 0.9998191897328292, 0.999774318464298, 0.9997694729110765, 0.9998012959229411, 0.9997468818590464, 0.9997913979820942, 0.9997017312760224, 0.9997488852061488, 0.9997648228954922, 0.9998428667393695, 0.9998229845092902, 0.9998509651603888, 0.999761611103121, 0.9998514280870157, 0.9998716221453051, 0.9998715995697794, 0.9998566207477189, 0.9998507263042544, 0.9997596082876046, 0.9997336389890162, 0.9998062302359285, 0.9998079866607084, 0.9997367229314285, 0.9997374576201524, 0.9998182749409618, 0.9998324944566839, 0.9997816095732477, 0.9998048078124987, 0.9996371349389235, 0.9998138875568218, 0.9998396877342889, 0.9998510428074395, 0.9998816592309391, 0.9998290800247899, 0.9998260932740456, 0.9998600414213731, 0.9997928312333819, 0.999829096356581, 0.9997768692095528, 0.9997999987894937, 0.9998203749661183, 0.9997749411539103, 0.9997809672166279, 0.9996982406384708, 0.9997718884118493, 0.9997385080207997, 0.9997270913893477, 0.9997291814055737, 0.9997439378600186, 0.9997626486751285, 0.999772249707618, 0.9997675381884669, 0.9997946512807115, 0.9997732687999992, 0.9997781152195848, 0.9997700585286396, 0.9997700373507077, 0.9998144858665247, 0.9998011529275398, 0.9997868441593303, 0.999759864506474, 0.999876471970147, 0.9998038714296686, 0.9997274079265471, 0.9998960317690435, 0.9996788633330904, 0.9998172831970444, 0.9997930726815221, 0.9998457411375703, 0.9998498912035751, 0.9998224935776984, 0.9998254704591761, 0.9996948731953293, 0.9997814787302087, 0.9997537908956982, 0.9996324893171757, 0.9996748312679721, 0.9997976315700599, 0.9997997947012299, 0.9998471965385546, 0.999854274946344, 0.9998939931077139, 0.9997316009861595, 0.9997860063363918, 0.999739765648261, 0.9997550615914768, 0.9997912546410259, 0.9996982017922919, 0.9998612198830261, 0.999879103270367, 0.9997735608381955, 0.9997128701328245, 0.9997874998298619, 0.9997489021679182, 0.999798954628699, 0.9997923419550508, 0.9998649119300499, 0.9998350703756598, 0.9997655280850191, 0.9998234640667483, 0.9998579000961209, 0.9998164659989012, 0.9997856365323413, 0.9997732919220789, 0.9997832425112652, 0.9998438508745807, 0.9997986737257266, 0.9998009364230475, 0.9996943441867311, 0.999810316429407, 0.9998054359375564, 0.9998074315389144, 0.9998253718530236, 0.9997692826047447, 0.9997661429546653, 0.9998053565615613, 0.9997760757989345, 0.9997254995385612, 0.9997595368776688, 0.9998230208513729, 0.9997705333874765, 0.9998532490934168, 0.9997893895592787, 0.9997902174410659, 0.999810058091609, 0.9998435005991168, 0.9998550387210892, 0.9998171042142756, 0.9998762656996802, 0.9998306481861804, 0.9998582527265354, 0.9998088538538956, 0.9998157613006207, 0.9998598314852077, 0.999781607998282, 0.999859744655398, 0.9998642735974949, 0.9998353169227953, 0.999787746914626, 0.9996938741757572, 0.9994419899946733, 0.9997236173997562, 0.9997258693309832, 0.9998219995366248, 0.9996571682973683, 0.9997285487166137, 0.9996462768316069, 0.9997395472185344, 0.9997348601985022, 0.9997077488183875, 0.9997072169882106, 0.9997281803270545, 0.9997381716249393, 0.9997331696929801, 0.9997735718521973, 0.9997462503239712, 0.99956791610856, 0.9998539847305005, 0.9998189405948933, 0.9998794780598623, 0.99985998839559, 0.9998436591961414, 0.999747285956711, 0.999789153216962, 0.9996918346743332, 0.9997292540862264, 0.9997126860040181, 0.9997429961850807, 0.9997603407104174, 0.999825457291312, 0.9998198953054044, 0.9998116721645629, 0.9997134205531879, 0.99982846002931, 0.9997847863860224, 0.9997651714077217, 0.9997567607934783, 0.9997683849750286, 0.99975262805225, 0.9997418379185768, 0.9997908336050995, 0.9997514517065573, 0.9997565590957599, 0.9997537888666189, 0.9997684368743198, 0.9997952309180814, 0.9997674151153677, 0.9997610560791642, 0.9997340711337588, 0.9998326147573333, 0.9998218700056399, 0.9998319398073044, 0.9998558744321188, 0.9997970003247294, 0.9997554075147973, 0.9997006969505052, 0.9997404442687611, 0.999699387815106, 0.9997232003349475, 0.9997129354720369, 0.999737404968799, 0.9998460596641147, 0.9997503608666862, 0.9995685184955978, 0.9996514927287555, 0.9997626078396391, 0.9997124674394309, 0.9997231782444465, 0.9997926153809672, 0.9997074285565387, 0.9997552848195879, 0.9997025635932345, 0.9996839949848035, 0.9997106157579755, 0.9997251715100001, 0.9997709611895299, 0.9997229513832737, 0.9998137317916722, 0.999690193651275, 0.9997107077750395, 0.9995400309673524, 0.9997981106410668, 0.9997694386286156, 0.9997465485363133, 0.9997965869490427, 0.9997649702975864, 0.9997573353902784, 0.999800408785346, 0.9998220586860743, 0.9998019055449191, 0.9998375927233705, 0.9998012850773811, 0.9997573313308242, 0.999802723264924, 0.9997379469687592, 0.9997152737211035, 0.9997003135663269, 0.9998424920457364, 0.9998416024292537, 0.9997522719497303, 0.999792008337797, 0.9997190951112711, 0.9997186564431944, 0.9997192123713654, 0.9998395225408836, 0.9997800139734392, 0.9997217113812876, 0.9998052428532155, 0.9998017021288652, 0.9997699203605063, 0.9997271601891631, 0.9997737839870452, 0.9997659659928496, 0.9998156397264495, 0.9997664217517551, 0.9998111555029439, 0.9998163916012195, 0.9997743555940735, 0.9997987699558253, 0.999773553973493, 0.9998012648798822, 0.9997770013942637, 0.9997379756966918, 0.9997870840700006, 0.9998110423212323, 0.9998140669053438, 0.9997627574166216, 0.9997916699087864, 0.9996177943410336, 0.999857493410203, 0.9997929382760009, 0.9998723471759327, 0.9998454508535938, 0.9998812889586621, 0.9998268771196475, 0.9998220385573836, 0.9998173215720987, 0.9997984232565694, 0.9998109581016323, 0.9998023765543284, 0.9998265669547404, 0.9998408343852916, 0.9998181728379529, 0.9997026182351243, 0.9998074202078031, 0.9998277113837402, 0.9998194308557554, 0.9997694046364246, 0.9998499336137955, 0.9998028454879424, 0.9997988806170743, 0.9998468759942571, 0.9998205697723571, 0.9997570676749967, 0.9997362179430194, 0.9998179145923285, 0.9997992806451814, 0.9997980141625094, 0.9998001744306094, 0.999820183145462, 0.9997149921962972, 0.9997967637916136, 0.9997556002520439, 0.9997400385776649, 0.9998484546992877, 0.9997457025014393, 0.999759342149545, 0.9997570123620059, 0.9997719378826854, 0.9997292672632052, 0.9997305932740603, 0.9997360354462889, 0.9997301485328675, 0.9998526373187573, 0.9996914841279132, 0.9997835216941753, 0.9996673890416132, 0.9998143290089049, 0.9998005886060178, 0.9997043367136405, 0.9998198644403662, 0.9997467931502751, 0.9997932536089115, 0.9997605772561178, 0.9997506556918555, 0.9997320759376799, 0.9997269164885709, 0.9997776740909744, 0.9997278812925219, 0.9997868278188575, 0.9998390836296317, 0.9997473001179271, 0.9996354628881748, 0.9997455441677523, 0.9997854816378481, 0.9997391217011591, 0.9998438898122445, 0.9997427426633149, 0.9998125923304576, 0.9997469037075627, 0.9998311948650567, 0.999774010861903, 0.9997739563986154, 0.9997341998443149, 0.9997396587895041, 0.9997456431376129, 0.9997156966663928, 0.9996401952505664, 0.9997547511850383, 0.999772442605497, 0.9997624037063652, 0.9998260941828335, 0.9997467725367088, 0.9997166041990153, 0.9996868970749437, 0.9997644822445748, 0.9996829593799877, 0.9997236067287067, 0.9997699587028642, 0.9996776987648843, 0.9997354623059619, 0.9997914633156186, 0.9997943252766682, 0.9998072846289408, 0.9997310106229126, 0.9996859412468668, 0.9997690756885631, 0.9998084721011153, 0.9997739911307034, 0.9997896619536379, 0.999778417484679, 0.9997607502418825, 0.9996942380989652, 0.999743565859378, 0.9996466474346628, 0.9997053604894477, 0.9997508918544147, 0.9998354792981878, 0.9998253509056468, 0.9997627222335621, 0.9997359381474078, 0.9997636940768041, 0.9997603825081861, 0.9997524733869877, 0.9998267132379091, 0.9998379135261346, 0.9998183579871786, 0.9998864985224103, 0.9996708558600417, 0.9996519272964111, 0.9995431188727463, 0.9995105318395554, 0.9994588176107366, 0.9993062784812565, 0.9992041099313256, 0.9992415118412696, 0.9989247699779712, 0.9997186312856573, 0.9997958908649515, 0.9998140158882884, 0.9998100583323045, 0.9998053045648545, 0.9998110772295055, 0.9997846995265358, 0.9996959953772333, 0.9997661422599107, 0.9996553870170409, 0.9996312884126668, 0.9996275141237378, 0.9996870001458936, 0.9996297069732375, 0.9996168756916717, 0.9995061008205591, 0.9998193121657644, 0.9998134840608588, 0.9998122854685558, 0.9998634543829864, 0.9998472464702884, 0.9998860152598881, 0.9997759758067996, 0.9997949565458274, 0.9998202408364667, 0.9998441084663898, 0.9998450645917946, 0.9998580947772747, 0.9998559649245826, 0.9997667871328343, 0.9997116366911077, 0.9996905698139729, 0.9997766022340397, 0.99973858246499, 0.9997985563152434, 0.9997266507587287, 0.9997450889194163, 0.999668390703713, 0.9997476153386614, 0.9997642786488543, 0.9997312085750628, 0.9996883056540437, 0.9997272770274539, 0.9996941474426326, 0.9997782979086239, 0.9998029772160082, 0.99973022605598, 0.9996669645326117, 0.9998523264830259, 0.9998902902265742, 0.9998472677526631, 0.9998527888019711, 0.9998844339415912, 0.9997853530713914, 0.9997375013889321, 0.9998047877661503, 0.999716735289385, 0.9997234373200763, 0.9997504163361897, 0.9998708656337426, 0.999826970746347, 0.9997821837338685, 0.9997775942076171, 0.9997346460368018, 0.9998511988809796, 0.9998917348739724, 0.9998683103136901, 0.9998688482225191, 0.9998328111284908, 0.9998580656495334, 0.9997733528936303, 0.999822653329354, 0.9998647199791639, 0.9997692681640862, 0.9998369139894585, 0.9998312316551792, 0.9998378141068345, 0.9997923373459825, 0.9997462210969188, 0.9997593810419769, 0.9997743731129788, 0.999818030823312, 0.9998660583316921, 0.9997716892923675, 0.9996886541509807, 0.999734141186862, 0.9997283294727765, 0.9996721274903733, 0.9996817216219377, 0.9997026729085293, 0.9996794911841872, 0.99975760526815, 0.9997852928755979, 0.9997318951820415, 0.9997767529895346, 0.9997187420013585, 0.9998345415941313, 0.9998236351899833, 0.9998060453826427, 0.9997380055225905, 0.9998190942583438, 0.9997641445688146, 0.9997427389418572, 0.9997068058131747, 0.999653531429897, 0.9997052445692494, 0.9997008325248369, 0.9996852816113085, 0.9998452120315463, 0.999690614133826, 0.999769530814026, 0.9996841228964382, 0.9998120510014092, 0.999848608795459, 0.99979232385888, 0.9997775496542346, 0.9997654107379779, 0.9997805344000872, 0.9997844914765776, 0.9997664874397985, 0.9997592733947318, 0.9997387350508775, 0.9997406212697479, 0.9997896607190436, 0.999855735639119, 0.9997751513466815, 0.9997939185272294, 0.9997138559787011, 0.9998410753836339, 0.9997903461478078, 0.999804923803123, 0.999810556795264, 0.9998301564012075, 0.9997353072449059, 0.9998468579883012, 0.9997524618316194, 0.9997322283508256, 0.9997095498011047, 0.9997129216350731, 0.9997835831911456, 0.999788377111362, 0.9997256218646794, 0.9996900388230714, 0.9997235421385388, 0.9998140416491207, 0.9997936975690043, 0.9997621852249766, 0.9997919308490686, 0.9997216772591636, 0.9997338243685816, 0.999721644844592, 0.9998350735285186, 0.9997005971336156, 0.9997721111470382, 0.9997394569579253, 0.9997592718198509, 0.9998515176869135, 0.9997671439847465, 0.9997868435677519, 0.9997861914759926, 0.9998207905534009, 0.9997595582685128, 0.9997606672419798, 0.9997521396384546, 0.9997564953325923, 0.9997481365283909, 0.9998350584937438, 0.9998125046214356, 0.9997664036551639, 0.9997749868686405, 0.9998232102198419, 0.9998186534662897, 0.9997909598779643, 0.9997424999386784, 0.9997674434385618, 0.9997293023159642, 0.9997864045947187, 0.9998192877768919, 0.999873271402662, 0.9997716479978536, 0.9998158126676961, 0.99982296913002, 0.9997347192726109, 0.9998512808251921, 0.9998503169861161, 0.9997998245417763, 0.999785650322817, 0.9997795123083297, 0.9998463443429366, 0.9998185085686573, 0.999740832061287, 0.9997284692679136, 0.9998668033109852, 0.9998146353416837, 0.999745292291324, 0.9998355669107237, 0.999774496203724, 0.9997805926199574, 0.9997719992111439, 0.9998426924950303, 0.9997622041903182, 0.9997351345189327, 0.9997958276342067, 0.9997697254722806, 0.9998196269833086, 0.9998174753620755, 0.9996756549339483, 0.9997577336850492, 0.9997202212155555, 0.9997246877088756, 0.9998014534985841, 0.9998136296561706, 0.9997480353586604, 0.999766408313932, 0.9997655150667698, 0.9997750669228036, 0.9997473921696317, 0.9997533019112693, 0.9997448676038723, 0.9997836252583266, 0.999832452264076, 0.9997640380880828, 0.99964322896858, 0.9996032350075327, 0.9997401472312533, 0.9996967123360507, 0.9997466583068423, 0.9997590944854835, 0.9997391368570836, 0.999702149109318, 0.9997358351095198, 0.9997399218488747, 0.9997480012351698, 0.9997053060641446, 0.9996886212012905, 0.9997735205202413, 0.9998884017652503, 0.9997804544926164, 0.9998083542103453, 0.9997783099044352, 0.9997710914468364, 0.9997945653981221, 0.9997493741364587, 0.9997936515801962, 0.9997631106209346, 0.9997267900649729, 0.9997542413586368, 0.999739891580176, 0.9997345135504284, 0.9997377506197751, 0.9997367993117308, 0.9997602376665652, 0.9997930453182315, 0.9998154415114437, 0.9997486731820138, 0.9997342920286786, 0.9997331394964079, 0.9997737534474544, 0.9997999575318568, 0.9998364823358392, 0.9997858930279656, 0.9998244876413117, 0.9997316683452118, 0.9997617452065692, 0.9997597446852787, 0.9997463361940062, 0.9998068331493942, 0.9998099292877777, 0.9998770133482898, 0.9998399768622465, 0.9998531434731996, 0.9998199201092758, 0.9998143719430066, 0.9997876992899083, 0.9997422186120081, 0.9998167605064706, 0.9997616493469702, 0.9997784606016085, 0.9997449342022103, 0.9998046590582822, 0.99975529114053, 0.999796516229476, 0.9997008703195853, 0.9997809094144324, 0.99983897336245, 0.9997477909729894, 0.9998138466246904, 0.999802504464636, 0.9998061683534116, 0.9997381973828202, 0.999784622821914, 0.9997633450956767, 0.9997637011912807, 0.999742898384637, 0.9996914115923161, 0.9997148517269875, 0.9997482181963577, 0.9997633981756379, 0.9997319945084921, 0.9997419935754328, 0.9997547515346474, 0.9997973176987124, 0.9997625013930099, 0.9996749675137977, 0.9998359767589347, 0.9998064382911911, 0.9997516337166529, 0.999754948929381, 0.9997399851856162, 0.9997242571490096, 0.9997986961427912, 0.9997421911209874, 0.9997284831344522, 0.9997434105737061, 0.9997697198596235, 0.9997373686179113, 0.9998395344627189, 0.9998029937502633, 0.9997659372579375, 0.9996557895702044, 0.9998205708277708, 0.999853138325805, 0.9998418614248358, 0.9998542751540572, 0.9998721906630195, 0.9998408149326012, 0.9998318985054004, 0.9998222926156458, 0.9997748118490377, 0.9998412166240518, 0.9998175171486557, 0.9998567364842331, 0.999796288274169, 0.9997560296278478, 0.9997608839989052, 0.9997301204515587, 0.9998368438537018, 0.9997699244551037, 0.9997480573865296, 0.9997373005906814, 0.9997645472947184, 0.9997446383948636, 0.9998059885959153, 0.9998597952250409, 0.9998567012098467, 0.999887628825142, 0.9997631217074302, 0.9996795188779869, 0.9997319343426853, 0.9997000760639942, 0.9995684781315808, 0.9996083392127074, 0.9997354161814435, 0.9997466447117982, 0.9997478830067587, 0.9996827393985039, 0.9997100487782669, 0.999701311553081, 0.9996561512939157, 0.9997322213558719, 0.9997324246406092, 0.9997346917496688, 0.9997337325656399, 0.9997729570342228, 0.9997600641475924, 0.9997426165886063, 0.9997184332473754, 0.999641966644719, 0.9997571174383625, 0.9998334279761721, 0.9998638778789751, 0.9998142549150155, 0.999777221424051, 0.9997534649019427, 0.9997356054298123, 0.9997558643843337, 0.9997451287093867, 0.9997004360815133, 0.9997476277777173, 0.9997741338938627, 0.9998018753812944, 0.9997367884623258, 0.9996167874459817, 0.9997030974366558, 0.9996898504715392, 0.9997051212371144, 0.9997136500949053, 0.9997669979876269, 0.999740886862889, 0.9997573235046564, 0.9997742454517187, 0.9996983140101814, 0.9996837297018699, 0.999691945881581, 0.9996992504000813, 0.9997373238179399, 0.9997703119476552, 0.9997773201937696, 0.9997845505522147, 0.999775824555886, 0.9998056208814393, 0.9997761950786813, 0.999738989725283, 0.9998291623806744, 0.9997506478891918, 0.9998090738087728, 0.99980078347943, 0.9997934110664555, 0.9997302439931063, 0.9997482835969711, 0.9997402410050632, 0.9997680128806933, 0.9997200243068434, 0.9997917473162973, 0.9996744955003426, 0.999770355402485, 0.9997172909904887, 0.9997705342444848, 0.999781374849994, 0.9997508693117606, 0.9997047062296696, 0.9997344217255466, 0.9997569473194058, 0.9997491940796259, 0.9997471366096945, 0.9997506726610076, 0.9997261326181562, 0.9997449478214026, 0.9998056315268385, 0.999812206548517, 0.9996705091174665, 0.9996227919539361, 0.9996990826890799, 0.9997701068537761, 0.9997470744260984, 0.9997058378963055, 0.9997178463045254, 0.9996603691249553, 0.999712881186888, 0.9997327340058548, 0.999660119859628, 0.9996959527465662, 0.9997245780100765, 0.9997115895196286, 0.999833764102548, 0.9998035772591276, 0.9998301068702403, 0.9996691547106383, 0.9997843307818287, 0.9998735430428719, 0.9998464926067295, 0.999876513438149, 0.9997878254878799, 0.9998187114406741, 0.9997620779706837, 0.999818841834576, 0.9998465979978597, 0.999769325164022, 0.9998403919526128, 0.9998202675942484, 0.9998478301025959, 0.9998185902165547, 0.9998014076757707, 0.9997380389822575, 0.999773295547224, 0.9997560676794562, 0.9997189712537222, 0.9997588964750972, 0.9997284729433019, 0.9997523207636557, 0.9998379215886205, 0.9998081813124949, 0.9997882555404642, 0.9998028082774436, 0.9998062919478232, 0.9997378310702171, 0.9998033796745388, 0.9998240170487102, 0.9997246723175578, 0.999636035653668, 0.9997486005285111, 0.999761034986225, 0.9997035629277222, 0.9997412114579406, 0.9997508081944425, 0.9997489058653459, 0.9997362071120738, 0.9997348727808895, 0.9997071647832536, 0.9997329329172762, 0.99970382563024, 0.9997359440989005, 0.9997855562163748, 0.9997507734779837, 0.9997552603741151, 0.9997367627225999, 0.9997964324945698, 0.9997896489530852, 0.9997830156883224, 0.9997945350572787, 0.9997383066955048, 0.99975141798396, 0.9997563285828743, 0.9997519755600284, 0.9997157022768247, 0.999804812527399, 0.9998356662403802, 0.9998051736406582, 0.9998289314575833, 0.9998486773665018, 0.999818944768967, 0.9997088018200818, 0.9998488979430218, 0.9997541875976805, 0.9998201534460004, 0.9997904349567606, 0.9997696416897368, 0.9997664094500522, 0.9997256683259437, 0.9998151827526036, 0.999781128734955, 0.9997624309379312, 0.999750045225753, 0.999779745288954, 0.9997920154910567, 0.9996986882141404, 0.9997963012880632, 0.9997649581291879, 0.9998361855238879, 0.9998164580818041, 0.9997509220648111, 0.9998420411355932, 0.9997726794912304, 0.9998176621883049, 0.9997617214306891, 0.999824228098729, 0.999770022146549, 0.9997872798151849, 0.9997377088272035, 0.9998284741264274, 0.9997861108577581, 0.9998203589353863, 0.9997742173591863, 0.9998389450882038, 0.9998341257766187, 0.9998444115390042, 0.9998191421195131, 0.999830046903332, 0.9998661971144351, 0.9998769965387863, 0.9998013103589531, 0.9998711956165296, 0.9998484483409598, 0.9998564686325747, 0.999837122048737, 0.9997958483809546, 0.9998130537990629, 0.9998715391103035, 0.9998088748662091, 0.9997115645747179, 0.9997371042261608, 0.9997639230444916, 0.9997553129034216, 0.9997750626409139, 0.9997681032943908, 0.9997636827318791, 0.999768661084755, 0.9997858765310935, 0.9997166642649853, 0.9996968856635794, 0.999654994818142, 0.9997286331295765, 0.999683247122798, 0.9996917496666462, 0.9996342018174861, 0.9995543277266581, 0.9998048746092654, 0.9998633885253253, 0.9997867743632106, 0.9998764017899474, 0.9997823695992962, 0.9997880468350371, 0.9997593686533623, 0.9997594861200058, 0.9998207517307952, 0.9996993600893279, 0.9997889273659153, 0.9998053318483979, 0.9997851412906903, 0.9997999811566733, 0.9998147265948312, 0.9997397733569605, 0.9998479391035072, 0.9998583293487686, 0.9998645994811381, 0.99985933143733, 0.9998872056157204, 0.9997670811956296, 0.9996946804015434, 0.9997363794845002, 0.9997451930853469, 0.9997424023075069, 0.999740721911993, 0.9998258673913701, 0.9997946758124179, 0.999799846441173, 0.9997675666220582, 0.9997215717993315, 0.9997270547791511, 0.9997332842848228, 0.9998441842644099, 0.9997602120974729, 0.9997494280223677, 0.9997632729696596, 0.9997694697248258, 0.9996639849221052, 0.9997653750038223, 0.9997272478016755, 0.999785831613215, 0.9998464916864949, 0.9997809150784746, 0.9998113269323957, 0.9996505550730577, 0.9996461250884071, 0.9997670875947611, 0.9997191522274053, 0.9997350454011064, 0.9997713733106617, 0.9997663509495455, 0.9997198008216508, 0.9997987844018266, 0.9997525722290994, 0.9996992072449838, 0.999708695809958, 0.9997575461609066, 0.9997520153187262, 0.9997653100042692, 0.9997238565136404, 0.999688570559607, 0.9996933742031726, 0.999709456234766, 0.9996625629612141, 0.9996459832798601, 0.9997751539671456, 0.999671491635142, 0.9997410477862048, 0.9997102082756829, 0.9998033806124207, 0.999762622533113, 0.9997677164936185, 0.999799433285199, 0.9997723187793949, 0.9997399538524071, 0.9998166502585342, 0.9996552141280795, 0.9996103766814568, 0.9997447917036654, 0.999811490309713, 0.9998327627081692, 0.9998286077499913, 0.999779723276695, 0.9997408683132984, 0.9997610375067093, 0.9997862544169843, 0.9996735789855429, 0.9997306972614378, 0.999741299860196, 0.9997453241805925, 0.9998365619679844, 0.9997843436173223, 0.9997134231556213, 0.9997263494534637, 0.999711781751391, 0.9996704884932108, 0.99987476219374, 0.9997719573305618, 0.999781601462878, 0.999735061488035, 0.9997227717689733, 0.9997867050655592, 0.9997395640129327, 0.9997740203827036, 0.999756960589255, 0.9997917649643171, 0.9997503832057342, 0.9997362660826901, 0.9996518651766039, 0.9997756205406625, 0.9998286662789448, 0.9997150997845032, 0.9998125039434234, 0.9997330807816304, 0.9997731125476311, 0.9997117609705553, 0.999706065091091, 0.9997075455740674, 0.9996901666730749, 0.9996923278809776, 0.9997674158940388, 0.9996635116002672, 0.9997810719676288, 0.9996573130555211, 0.9996248071659377, 0.999633401497952, 0.9998229294843517, 0.9997887789508056, 0.9997801419398573, 0.9997554888535091, 0.9997604388199552, 0.9997399981834065, 0.9996947804205443, 0.9997151146549317, 0.9996603331591268, 0.9997138851260551, 0.9996910361785689, 0.9997301833023747, 0.9997568497499855, 0.999699846891742, 0.999717950187806, 0.9995862113087015, 0.9998366383454828, 0.9998702356643142, 0.999809029526873, 0.9998355974664812, 0.9997513498278907, 0.9997574009182372, 0.9997466031582035, 0.9998488804203209, 0.9998041848607684, 0.9997068132241704, 0.999739472608975, 0.9997772798434065, 0.9997642321179977, 0.999790638772269, 0.9997050324469198, 0.9997276871238967, 0.9998391645197062, 0.9998102106238993, 0.9997248322388126, 0.9998793296084683, 0.9998132764432038, 0.9998328489850329, 0.9997682469592079, 0.9997918580896905, 0.9998123707088729, 0.9997600188689313, 0.999748690888347, 0.9997888863609572, 0.9998186679508665, 0.9997862394768615, 0.9997580379532357, 0.9997990873051613, 0.9998743131653294, 0.9998109108290808, 0.9998758338499745, 0.9999033292838074, 0.9998674959951356, 0.9998825560288898, 0.9997975596413111, 0.999832648706793, 0.9998179383543393, 0.9998403459714552, 0.9997523467057192, 0.9998172462771985, 0.9998351776213007, 0.9998621652659784, 0.9997536614689388, 0.9997521845037259, 0.9997842925699962, 0.999805760568892, 0.999848707200803, 0.9998565932284897, 0.999821906541793, 0.9997695987795279, 0.9997203498864389, 0.9997668013738932, 0.9996948298365458, 0.999730853939895, 0.9996857653603695, 0.999784449417441, 0.9997356253665606, 0.9997317114007016, 0.9996661218171402, 0.9996109768322535, 0.9997488982708009, 0.9997978062758338, 0.9997418388475747, 0.9997605239799056, 0.9997516572950428, 0.999790451338297, 0.9997834971332891, 0.9998058549953815, 0.9997101107455224, 0.9997805533466747, 0.9997468530907054, 0.9996795489008081, 0.9998535837587994, 0.9998046544566127, 0.999654552606135, 0.9996818331703482, 0.9997628572082483, 0.9997107887782885, 0.9997698937967721, 0.9997875129431499, 0.9997774358804555, 0.999658575900601, 0.9997032943395908, 0.9997435103714161, 0.9997174569809634, 0.9997357799803724, 0.9996841212549957, 0.9997643706627138, 0.9997915555259874, 0.9998416437100018, 0.9997208852984338, 0.9997257987041316, 0.9998252817724492, 0.9997805839383647, 0.9998115184131708, 0.9998626433388471, 0.9998008085216942, 0.9997543587305323, 0.9997635415164281, 0.9997498065241287, 0.9996927834953072, 0.99967076404129, 0.9997103547618599, 0.999789201637723, 0.9997844625777963, 0.9997800729109175, 0.9997943334344862, 0.9997754324125435, 0.9998332351281053, 0.9998905607554414, 0.9998121259192922, 0.999795068176594, 0.9998665359078666, 0.9998122506905066, 0.9998300705641385, 0.9998723785717404, 0.9998290093869312, 0.999846446483095, 0.9998250699215766, 0.9997816218263728, 0.9997285404620828, 0.9998165608332871, 0.9996680201154137, 0.9995879123462988, 0.999746634988024, 0.999784422291501, 0.9998143745348171, 0.9997665499333266, 0.9997983967793956, 0.9996755929119817, 0.9997404399205694, 0.999723474183579, 0.9997609348356594, 0.9997515192209269, 0.9997819233779701, 0.9997593294362948, 0.9997469189981855, 0.9996915449482847, 0.999652312595149, 0.9997125688529982, 0.999746634988024, 0.999784422291501, 0.9998143745348171, 0.9997665499333266, 0.9997983967793956, 0.9996755929119817, 0.9997404399205694, 0.999723474183579, 0.9997609348356594, 0.9997515192209269, 0.9997819233779701, 0.9997593294237337, 0.9997469190135534, 0.999691545052181, 0.9996523125963669, 0.9997125688143143, 0.9997804482588477, 0.9997740723247389, 0.9997642627389876, 0.9997568794943961, 0.9998103336868491, 0.9997615663314898, 0.9998214801047515, 0.9997457963668838, 0.9997261075927323, 0.9997477549114895, 0.999726529859126, 0.9997612207350338, 0.9998550437198341, 0.9998080247191397, 0.9998173182136803, 0.999805822730733, 0.9998414860911881, 0.9998350748878538, 0.9997955230460471, 0.9998544564268744, 0.9997175335521844, 0.9998437228380557, 0.999818986058242, 0.9998044048071785, 0.9997752125217585, 0.9997509565494119, 0.9998217265336142, 0.9997822671291848, 0.9997851762476326, 0.9997283718996494, 0.9998053195019855, 0.9997021695024988, 0.9997817835717634, 0.9998087799887818, 0.9997853772427402, 0.9997616954188807, 0.9997805540132654, 0.9997694102941935, 0.9997649039838769, 0.9997519523693725, 0.9997950407199253, 0.9997607057203869, 0.9997315885616973, 0.99976328905501, 0.9998326226571183, 0.999841876508797, 0.9997610216621368, 0.9997638611004032, 0.9998123827400153, 0.9998231693076974, 0.999743506877278, 0.9998399270950393, 0.9997786903796763, 0.9997618312155955, 0.999756028294248, 0.9997998303433496, 0.9997789565790468, 0.9997345815628798, 0.9998032858513596, 0.9997633644024302, 0.9998555690301305, 0.9997695929178942, 0.9997750986441374, 0.9998286563417955, 0.9997992110183911, 0.999735279464042, 0.9997482435693058, 0.9997891864928954, 0.9997613680649091, 0.9997268595817101, 0.9997469216190485, 0.9997802851732277, 0.999716137205, 0.9997056325782209, 0.9997781379655062, 0.9996933130082029, 0.999798731615802, 0.9998472967509395, 0.9997998273898705, 0.9997368014116237, 0.9997907509724591, 0.99976880780744, 0.9998006495479447, 0.9997784376755243, 0.9997245060324482, 0.9997192990997393, 0.9997266287268337, 0.9997947175279057, 0.9998175666659604, 0.9997478172905159, 0.9997450681751888, 0.9997314315828454, 0.9997761229957666, 0.9998311710090548, 0.9997171495216274, 0.9997375941668181, 0.9998237532091594, 0.9998710984740322, 0.9998772623457026, 0.9998622296097519, 0.9998473636959204, 0.9997868927625501, 0.9998198751229792, 0.9998073654628391, 0.999737566260052, 0.999745220080611, 0.9998318970018626, 0.9998489776719673, 0.9998622121746001, 0.9998758013892445, 0.999838103541342, 0.9998509301569746, 0.999829828108731, 0.9998485140524955, 0.9998578165202336, 0.9998638676372614, 0.9998506416866073, 0.9997999344314227, 0.9997361909993135, 0.9998188474880222, 0.9997503466726269, 0.9997663237395424, 0.9997779124726213, 0.9998550632795207, 0.9998377193903724, 0.9997942089915224, 0.9998030144248662, 0.9997525792431879, 0.999717346111004, 0.9997343230053054, 0.9997768991207724, 0.9997953880652825, 0.9998193177380726, 0.9998461564217214, 0.9997821866743596, 0.99983287494108, 0.9997857768961911, 0.9998446042431876, 0.9997812357694559, 0.9997658170144986, 0.9997566784034935, 0.9997504539059512, 0.9996835860327512, 0.9995843832728158, 0.9997750860207638, 0.9996977002256516, 0.9997274341327429, 0.9997169696340708, 0.9997685307771803, 0.999735251939484, 0.9998262846742032, 0.9997430645655617, 0.999754294185733, 0.9997270631411539, 0.999718393841291, 0.9997450467383693, 0.9998344373643797, 0.9997735224692879, 0.9998176485223317, 0.9996617859723884, 0.9997863344411727, 0.999709544747489, 0.9997422674132693, 0.999777965248439, 0.9997678812739909, 0.9997080582430753, 0.9997388094168056, 0.9997575101262581, 0.9997473160247516, 0.9997473034172406, 0.9997428347301122, 0.9997821139705735, 0.9997930096606413, 0.9998066071986065, 0.9997510092806794, 0.9997338903830094, 0.9997707604551235, 0.9997100830384603, 0.9998110046872511, 0.999771094522109, 0.9997475399780339, 0.9997201719920557, 0.9997926765884952, 0.9997819279490348, 0.9997808935876529, 0.9997519713579062, 0.999746394132122, 0.9997277551390724, 0.9998505059961985, 0.9997862082712989, 0.9997770499945172, 0.9997373906890862, 0.9998056270682614, 0.9998157749054308, 0.9997700135271194, 0.9998206802808546, 0.9997482037432154, 0.999786247413061, 0.999700266978806, 0.999802977950248, 0.9997667310567807, 0.9997575502642192, 0.999763535706208, 0.9997863250586652, 0.999788977118314, 0.9998287014623706, 0.9997761268003418, 0.9997525860269029, 0.9997909421728122, 0.9997591428428513, 0.9997888204246062, 0.9998777272423612, 0.999831535352843, 0.9997236858780859, 0.9997240063355175, 0.9996614757500714, 0.9997175289767579, 0.9996927477549225, 0.9997367547517472, 0.9996846976158053, 0.9997971856397112, 0.9997378255397372, 0.9997858488140253, 0.9996560195675374, 0.9996430510788173, 0.999758910087291, 0.9998166229649794, 0.999791865764784, 0.9997595873637378, 0.9997272101395706, 0.9996590186032015, 0.9997422844222149, 0.9997359041295164, 0.9998375073016199, 0.9998087344179032, 0.9997613463613053, 0.9997294385508646, 0.999639360344879, 0.9995912983305052, 0.999517641363694, 0.9997911409062646, 0.999807213059884, 0.9998385771923473, 0.9998238614309337, 0.9998073998543892, 0.9998034785021801, 0.9997477635555032, 0.999812252049881, 0.9997595914174354, 0.9997385873698389, 0.9997650946574148, 0.9998225922132103, 0.9998440558258516, 0.9998195932547107, 0.9997967205246547, 0.9997676853179641, 0.999806447762932, 0.9997036963969455, 0.9997962027755273, 0.9997739461928395, 0.9997058336302518, 0.9996906767754995, 0.9997500590209516, 0.999756094940809, 0.9997338116717863, 0.9997359176170635, 0.9997375992635084, 0.9997010790938612, 0.9998288063529837, 0.9997608725317427, 0.9997342652501601, 0.999743769179187, 0.9998405772529537, 0.9997586963863014, 0.9998657713926076, 0.9998558480860188, 0.9998287256714695, 0.9998360866730074, 0.9998058843561916, 0.9997391982891017, 0.9996881028705783, 0.9997373444837638, 0.9997515620143063, 0.9998066069639312, 0.9998223063702444, 0.999804393251075, 0.9998336552479629, 0.9996597957615243, 0.9998606033290427, 0.9998770047290598, 0.9998628648160315, 0.9998503807402823, 0.9998485460670932, 0.9998434296480251, 0.9998089628651774, 0.9998173416072724, 0.9997943946352508, 0.9997695620545253, 0.9998131064733322, 0.9998427005087196, 0.9998228569413911, 0.9997940238380286, 0.999721427092005, 0.9996408732051455, 0.9997574692644784, 0.9997931515553493, 0.999672795010119, 0.9996976134535428, 0.9997250749413057, 0.9997203291671174, 0.9997553891099217, 0.9997119328801565, 0.99976676439709, 0.999752620256782, 0.9996710557294378, 0.9998318147459121, 0.9997876416334583, 0.9998012276585198, 0.9997406073565891, 0.9997433477624532, 0.9997453815438501, 0.9997280496851104, 0.9998374522325983, 0.9998526439743954, 0.9998544844340307, 0.9997026679645743, 0.9997445647038239, 0.9997079843638761, 0.9997720326275933, 0.9997685676461018, 0.9998174814529022, 0.9998387747141309, 0.9998518245000914, 0.9997656499599787, 0.9997149536573509, 0.9997391121886748, 0.9997404693703611, 0.9998513498271862, 0.9997902864908847, 0.9998247358104775, 0.9997731245920267, 0.9997922870606849, 0.9997950054904062, 0.9997674915882085, 0.9997883054330505, 0.9998608573434894, 0.9998432765163967, 0.9997955308416399, 0.9997369186558456, 0.9997600120949437, 0.9996584486075195, 0.9997495739506905, 0.9997920512303203, 0.9997356505066444, 0.9998004981004229, 0.9997708184136622, 0.9997629792188641, 0.9997473368037619, 0.999744787835355, 0.9996967981181799, 0.999729847748505, 0.9997695843346615, 0.9996851241531658, 0.9997700672336899, 0.9997558748625216, 0.9997415580600314, 0.9997686544295206, 0.9996025672268056, 0.9997836699733678, 0.9998087785618438, 0.9998152611825796, 0.9998212339000542, 0.9998079678310086, 0.9997438808326887, 0.9998126507613682, 0.9997420869949163, 0.9997615958815009, 0.9997529280266776, 0.9997435358587535, 0.999827381891116, 0.9998424968904818, 0.9997991869986287, 0.9998260609389891, 0.999802411274089, 0.999745275501812, 0.9997350319039019, 0.9997335044406358, 0.9997292465900546, 0.999708525869942, 0.9996837640544944, 0.9997419485480318, 0.9997686953609416, 0.9998115516943206, 0.9997608303791234, 0.9997947231331428, 0.999714710950825, 0.9998066982045852, 0.9998281479640785, 0.9998195099083853, 0.9997348723079831, 0.9997871846396181, 0.9997667110280846, 0.9997885330508873, 0.99973781215945, 0.9997421981523626, 0.9997790183899473, 0.9997761510455988, 0.9997413176419617, 0.9997797148240595, 0.999760024142223, 0.9997934354414607, 0.9997562863745695, 0.9997980056384889, 0.999793169352989, 0.999779578911282, 0.9997288758171861, 0.9997568585451353, 0.9997653491492783, 0.9998211790311511, 0.999737958306231, 0.9997687046389692, 0.9997598738690041, 0.9997800591757336, 0.9997378630942118, 0.9997404203143183, 0.9996935760340752, 0.9997022620859065, 0.9997576875828457, 0.9998388500174881, 0.9997360332536306, 0.9997645940237884, 0.9996660409393511, 0.9998169780218656, 0.9997190806381779, 0.9997740915397523, 0.999818737432474, 0.9998023848374898, 0.9997877046190333, 0.999816642543661, 0.9998386597320366, 0.9998110721157173, 0.9997815958403098, 0.9997712636401, 0.999826280720276, 0.9997717085105178, 0.9997915937838097, 0.9997605053011864, 0.9997444804867819]\n"
     ]
    }
   ],
   "source": [
    "MAPE_train_list = []\n",
    "acc_train_list = []\n",
    "for i in range(0, len(aa_train)):\n",
    "    MAPE_train_data = (np.sum(np.abs(y_train[i]-decoded_train[i])) / np.sum(np.abs(y_train[i])))/(y_train.shape[0]/16)*100\n",
    "    MAPE_train_list.append(MAPE_train_data)\n",
    "    acc_train_data = 1 - MAPE_train_data\n",
    "    acc_train_list.append(acc_train_data)\n",
    "print(MAPE_train_list)\n",
    "print(acc_train_list)"
   ]
  },
  {
   "cell_type": "code",
   "execution_count": null,
   "id": "c68f1fec",
   "metadata": {},
   "outputs": [],
   "source": [
    "MAPE_test_list = []\n",
    "acc_test_list = []\n",
    "for i in range(0, len(aa_test)):\n",
    "    MAPE_test_data = (np.sum(np.abs(y_test[i]-decoded_test[i])) / np.sum(np.abs(y_test[i])))/(y_test.shape[0]/16)*100\n",
    "    MAPE_test_list.append(MAPE_test_data)\n",
    "    acc_test_data = 1 - MAPE_test_data\n",
    "    acc_test_list.append(acc_test_data)\n",
    "print(MAPE_test_list)\n",
    "print(acc_test_list)"
   ]
  },
  {
   "cell_type": "code",
   "execution_count": null,
   "id": "a9bb19b3",
   "metadata": {},
   "outputs": [],
   "source": [
    "plt.hist(acc_train_list)\n",
    "plt.title('Training set (accuracy)\\nTest size 0.05')\n",
    "plt.ylabel('Number of data')\n",
    "plt.xlabel('Accuracy')\n",
    "#plt.grid()\n",
    "save_acc_name = \"20221030Accuracy_Poisson_bc2(training).jpg\"\n",
    "plt.savefig(save_acc_name, dpi=300, bbox_inches='tight', pad_inches=0.3)\n",
    "plt.show()"
   ]
  },
  {
   "cell_type": "code",
   "execution_count": null,
   "id": "749aab61",
   "metadata": {},
   "outputs": [],
   "source": [
    "plt.hist(acc_test_list)\n",
    "plt.title('Test set (accuracy)\\nTest size 0.05')\n",
    "plt.ylabel('Number of data')\n",
    "plt.xlabel('Accuracy')\n",
    "save_acc_name = \"20221030Accuracy_Poisson_bc2(test).jpg\"\n",
    "plt.savefig(save_acc_name, dpi=300, bbox_inches='tight', pad_inches=0.3)\n",
    "plt.show()"
   ]
  },
  {
   "cell_type": "code",
   "execution_count": null,
   "id": "d87d5a19",
   "metadata": {},
   "outputs": [],
   "source": [
    "error_test_abs2_rotate = error_test_abs[-1].reshape(n_grid,n_grid).T\n",
    "\n",
    "fig5 = plt.figure(figsize = (8, 8))\n",
    "ax5 = fig5.add_subplot(111)\n",
    "mappable = ax5.contourf(xmesh, ymesh, error_test_abs2_rotate, levels=128, cmap='seismic')\n",
    "ax5.set_title(r'Absolute error (%s, $\\alpha$ = %d, $\\epsilon$ = %.4f)' %(np.array2string(geo_test[-1])[3:-2],\n",
    "                                                                   aa_test[-1], l2_error_test_list[-1]), fontsize=16)\n",
    "ax5.set_xlabel('$y$', fontsize=15)\n",
    "ax5.set_ylabel('$z$', fontsize=15)\n",
    "\n",
    "cax = plt.axes([0.12, 0.005, 0.78, 0.05])\n",
    "cbar = plt.colorbar(mappable, cax=cax, orientation=\"horizontal\")\n",
    "cbar.set_label('Error', fontsize=15)\n",
    "\n",
    "save_fig_name = \"20221030PredictionError_Poisson_bc2(test)\"+str(np.array2string(geo_test[-1])[3:-2])+str(aa_test[-1])+\".jpg\"\n",
    "plt.savefig(save_fig_name, dpi=300, bbox_inches='tight', pad_inches=0.3)\n",
    "plt.show()"
   ]
  },
  {
   "cell_type": "code",
   "execution_count": null,
   "id": "20d858aa",
   "metadata": {},
   "outputs": [],
   "source": [
    "error_test_abs2_rotate = error_test_abs[-2].reshape(n_grid,n_grid).T\n",
    "\n",
    "fig5 = plt.figure(figsize = (8, 8))\n",
    "ax5 = fig5.add_subplot(111)\n",
    "mappable = ax5.contourf(xmesh, ymesh, error_test_abs2_rotate, levels=128, cmap='seismic')\n",
    "ax5.set_title(r'Absolute error (%s, $\\alpha$ = %d, $\\epsilon$ = %.4f)' %(np.array2string(geo_test[-2])[3:-2],\n",
    "                                                                   aa_test[-2], l2_error_test_list[-2]), fontsize=16)\n",
    "ax5.set_xlabel('$y$', fontsize=15)\n",
    "ax5.set_ylabel('$z$', fontsize=15)\n",
    "\n",
    "cax = plt.axes([0.12, 0.005, 0.78, 0.05])\n",
    "cbar = plt.colorbar(mappable, cax=cax, orientation=\"horizontal\")\n",
    "cbar.set_label('Error', fontsize=15)\n",
    "\n",
    "save_fig_name = \"20221030PredictionError_Poisson_bc2(test)\"+str(np.array2string(geo_test[-2])[3:-2])+str(aa_test[-2])+\".jpg\"\n",
    "plt.savefig(save_fig_name, dpi=300, bbox_inches='tight', pad_inches=0.3)\n",
    "plt.show()"
   ]
  },
  {
   "cell_type": "code",
   "execution_count": null,
   "id": "39c2cfcd",
   "metadata": {},
   "outputs": [],
   "source": [
    "c=-1\n",
    "plt.figure(figsize=(16, 8))\n",
    "y_test0_rotate = y_test[c].reshape(n_grid,n_grid).T\n",
    "decoded_rotate = decoded_test[c].reshape(n_grid,n_grid).T\n",
    "\n",
    "xrange = np.linspace(-2, 2, n_grid)\n",
    "yrange = np.linspace(-2, 2, n_grid)\n",
    "xmesh, ymesh = np.meshgrid(xrange, yrange)\n",
    "\n",
    "ax = plt.subplot(1, 2, 1)\n",
    "a1 = plt.contourf(xmesh, ymesh, y_test0_rotate, vmin=np.min(y_test0_rotate),\n",
    "                  vmax=np.max(y_test0_rotate), levels=128, cmap='seismic')\n",
    "ax.set_xlabel('$x$', fontsize=15)\n",
    "ax.set_ylabel('$y$', fontsize=15)\n",
    "ax.set_title('Original test image', fontsize=15)\n",
    "\n",
    "# Display reconstruction\n",
    "ax = plt.subplot(1, 2, 2)\n",
    "a2 = plt.contourf(xmesh, ymesh, decoded_rotate, vmin=np.min(y_test0_rotate),\n",
    "                  vmax=np.max(y_test0_rotate), levels=128, cmap='seismic')\n",
    "ax.set_xlabel('$x$', fontsize=15)\n",
    "ax.set_ylabel('$y$', fontsize=15)\n",
    "ax.set_title('Reconstructed image', fontsize=15)\n",
    "cax = plt.axes([0.12, 0.005, 0.78, 0.05])\n",
    "cbar = plt.colorbar(a1, cax=cax, orientation=\"horizontal\")\n",
    "cbar.set_label('Poisson field', fontsize=15)\n",
    "#cbar.set_ticks([-0.5, -0.4, -0.3, -0.2, -0.1, 0, 0.1, 0.2, 0.3, 0.4, 0.5, 0.6, 0.7, 0.8, 0.9])\n",
    "\n",
    "plt.suptitle(r'Test dataset (%s, $\\alpha$ = %d)' %(np.array2string(geo_test[c])[3:-2], aa_test[c]),fontsize=20)\n",
    "save_fig_name = \"20221030Prediction_Poisson_bc2(test)\"+str(np.array2string(geo_test[c])[3:-2])+str(aa_test[c])+\".jpg\"\n",
    "plt.savefig(save_fig_name, dpi=300, bbox_inches='tight', pad_inches=0.3)\n",
    "plt.show()"
   ]
  },
  {
   "cell_type": "code",
   "execution_count": null,
   "id": "226fecda",
   "metadata": {},
   "outputs": [],
   "source": [
    "c=-2\n",
    "plt.figure(figsize=(16, 8))\n",
    "y_test0_rotate = y_test[c].reshape(n_grid,n_grid).T\n",
    "decoded_rotate = decoded_test[c].reshape(n_grid,n_grid).T\n",
    "\n",
    "xrange = np.linspace(-2, 2, n_grid)\n",
    "yrange = np.linspace(-2, 2, n_grid)\n",
    "xmesh, ymesh = np.meshgrid(xrange, yrange)\n",
    "\n",
    "ax = plt.subplot(1, 2, 1)\n",
    "a1 = plt.contourf(xmesh, ymesh, y_test0_rotate, vmin=np.min(y_test0_rotate),\n",
    "                  vmax=np.max(y_test0_rotate), levels=128, cmap='seismic')\n",
    "ax.set_xlabel('$x$', fontsize=15)\n",
    "ax.set_ylabel('$y$', fontsize=15)\n",
    "ax.set_title('Original test image', fontsize=15)\n",
    "\n",
    "# Display reconstruction\n",
    "ax = plt.subplot(1, 2, 2)\n",
    "a2 = plt.contourf(xmesh, ymesh, decoded_rotate, vmin=np.min(y_test0_rotate),\n",
    "                  vmax=np.max(y_test0_rotate), levels=128, cmap='seismic')\n",
    "ax.set_xlabel('$x$', fontsize=15)\n",
    "ax.set_ylabel('$y$', fontsize=15)\n",
    "ax.set_title('Reconstructed image', fontsize=15)\n",
    "cax = plt.axes([0.12, 0.005, 0.78, 0.05])\n",
    "cbar = plt.colorbar(a1, cax=cax, orientation=\"horizontal\")\n",
    "cbar.set_label('Poisson field', fontsize=15)\n",
    "#cbar.set_ticks([-0.5, -0.4, -0.3, -0.2, -0.1, 0, 0.1, 0.2, 0.3, 0.4, 0.5, 0.6, 0.7, 0.8, 0.9])\n",
    "\n",
    "plt.suptitle(r'Test dataset (%s, $\\alpha$ = %d)' %(np.array2string(geo_test[c])[3:-2], aa_test[c]),fontsize=20)\n",
    "save_fig_name = \"20221030Prediction_Poisson_bc2(test)\"+str(np.array2string(geo_test[c])[3:-2])+str(aa_test[c])+\".jpg\"\n",
    "plt.savefig(save_fig_name, dpi=300, bbox_inches='tight', pad_inches=0.3)\n",
    "plt.show()"
   ]
  },
  {
   "cell_type": "code",
   "execution_count": null,
   "id": "c4dbf2bd",
   "metadata": {},
   "outputs": [],
   "source": [
    "c=-16\n",
    "plt.figure(figsize=(16, 8))\n",
    "y_test0_rotate = y_test[c].reshape(n_grid,n_grid).T\n",
    "decoded_rotate = decoded_test[c].reshape(n_grid,n_grid).T\n",
    "\n",
    "xrange = np.linspace(-2, 2, n_grid)\n",
    "yrange = np.linspace(-2, 2, n_grid)\n",
    "xmesh, ymesh = np.meshgrid(xrange, yrange)\n",
    "\n",
    "ax = plt.subplot(1, 2, 1)\n",
    "a1 = plt.contourf(xmesh, ymesh, y_test0_rotate, vmin=np.min(y_test0_rotate),\n",
    "                  vmax=np.max(y_test0_rotate), levels=128, cmap='seismic')\n",
    "ax.set_xlabel('$x$', fontsize=15)\n",
    "ax.set_ylabel('$y$', fontsize=15)\n",
    "ax.set_title('Original test image', fontsize=15)\n",
    "\n",
    "# Display reconstruction\n",
    "ax = plt.subplot(1, 2, 2)\n",
    "a2 = plt.contourf(xmesh, ymesh, decoded_rotate, vmin=np.min(y_test0_rotate),\n",
    "                  vmax=np.max(y_test0_rotate), levels=128, cmap='seismic')\n",
    "ax.set_xlabel('$x$', fontsize=15)\n",
    "ax.set_ylabel('$y$', fontsize=15)\n",
    "ax.set_title('Reconstructed image', fontsize=15)\n",
    "cax = plt.axes([0.12, 0.005, 0.78, 0.05])\n",
    "cbar = plt.colorbar(a1, cax=cax, orientation=\"horizontal\")\n",
    "cbar.set_label('Poisson field', fontsize=15)\n",
    "#cbar.set_ticks([-0.5, -0.4, -0.3, -0.2, -0.1, 0, 0.1, 0.2, 0.3, 0.4, 0.5, 0.6, 0.7, 0.8, 0.9])\n",
    "\n",
    "plt.suptitle(r'Test dataset (%s, $\\alpha$ = %d)' %(np.array2string(geo_test[c])[3:-2], aa_test[c]),fontsize=20)\n",
    "save_fig_name = \"20221030Prediction_Poisson_bc2(test)\"+str(np.array2string(geo_test[c])[3:-2])+str(aa_test[c])+\".jpg\"\n",
    "plt.savefig(save_fig_name, dpi=300, bbox_inches='tight', pad_inches=0.3)\n",
    "plt.show()"
   ]
  },
  {
   "cell_type": "code",
   "execution_count": null,
   "id": "ff6b5e5a",
   "metadata": {},
   "outputs": [],
   "source": [
    "error_test_abs2_rotate = error_test_abs[-15].reshape(n_grid,n_grid).T\n",
    "\n",
    "fig5 = plt.figure(figsize = (8, 8))\n",
    "ax5 = fig5.add_subplot(111)\n",
    "mappable = ax5.contourf(xmesh, ymesh, error_test_abs2_rotate, levels=128, cmap='seismic')\n",
    "ax5.set_title(r'Absolute error (%s, $\\alpha$ = %d, $\\epsilon$ = %.4f)' %(np.array2string(geo_test[-15])[3:-2],\n",
    "                                                                   aa_test[-15], l2_error_test_list[-15]), fontsize=16)\n",
    "ax5.set_xlabel('$y$', fontsize=15)\n",
    "ax5.set_ylabel('$z$', fontsize=15)\n",
    "\n",
    "cax = plt.axes([0.12, 0.005, 0.78, 0.05])\n",
    "cbar = plt.colorbar(mappable, cax=cax, orientation=\"horizontal\")\n",
    "cbar.set_label('Error', fontsize=15)\n",
    "\n",
    "save_fig_name = \"20221030PredictionError_Poisson_bc2(test)\"+str(np.array2string(geo_test[-15])[3:-2])+str(aa_test[-15])+\".jpg\"\n",
    "plt.savefig(save_fig_name, dpi=300, bbox_inches='tight', pad_inches=0.3)\n",
    "plt.show()"
   ]
  },
  {
   "cell_type": "code",
   "execution_count": null,
   "id": "0b4cc755",
   "metadata": {},
   "outputs": [],
   "source": [
    "for c in range(96,112):\n",
    "    plt.figure(figsize=(16, 8))\n",
    "    y_test0_rotate = y_test[c].reshape(n_grid,n_grid).T\n",
    "    decoded_rotate = decoded_test[c].reshape(n_grid,n_grid).T\n",
    "\n",
    "    xrange = np.linspace(-2, 2, n_grid)\n",
    "    yrange = np.linspace(-2, 2, n_grid)\n",
    "    xmesh, ymesh = np.meshgrid(xrange, yrange)\n",
    "\n",
    "    ax = plt.subplot(1, 2, 1)\n",
    "    a1 = plt.contourf(xmesh, ymesh, y_test0_rotate, vmin=np.min(y_test0_rotate),\n",
    "                      vmax = np.max(y_test0_rotate),levels=128, cmap='seismic')\n",
    "    ax.set_xlabel('$x$', fontsize=15)\n",
    "    ax.set_ylabel('$y$', fontsize=15)\n",
    "    ax.set_title('Original test image', fontsize=15)\n",
    "\n",
    "    # Display reconstruction\n",
    "    ax = plt.subplot(1, 2, 2)\n",
    "    a2 = plt.contourf(xmesh, ymesh, decoded_rotate, vmin=np.min(y_test0_rotate),\n",
    "                      vmax = np.max(y_test0_rotate),levels=128, cmap='seismic')\n",
    "    ax.set_xlabel('$x$', fontsize=15)\n",
    "    ax.set_ylabel('$y$', fontsize=15)\n",
    "    ax.set_title('Reconstructed image', fontsize=15)\n",
    "    cax = plt.axes([0.12, 0.005, 0.78, 0.05])\n",
    "    cbar = plt.colorbar(a1, cax=cax, orientation=\"horizontal\")\n",
    "    cbar.set_label('Poisson field', fontsize=15)\n",
    "    #cbar.set_ticks([-0.5, -0.4, -0.3, -0.2, -0.1, 0, 0.1, 0.2, 0.3, 0.4, 0.5, 0.6, 0.7, 0.8, 0.9])\n",
    "\n",
    "    plt.suptitle(r'Test dataset (%s, $\\alpha$ = %d)' %(np.array2string(geo_test[c])[3:-2], aa_test[c]),fontsize=20)\n",
    "    save_fig_name = \"20221030Prediction_Poisson_bc2(test)\"+str(np.array2string(geo_test[c])[3:-2])+str(aa_test[c])+\".jpg\"\n",
    "    plt.savefig(save_fig_name, dpi=300, bbox_inches='tight', pad_inches=0.3)\n",
    "    plt.show()"
   ]
  },
  {
   "cell_type": "code",
   "execution_count": null,
   "id": "75377092",
   "metadata": {},
   "outputs": [],
   "source": [
    "for c in range(96,112):\n",
    "    error_test_abs2_rotate = error_test_abs[c].reshape(n_grid,n_grid).T\n",
    "\n",
    "    fig5 = plt.figure(figsize = (8, 8))\n",
    "    ax5 = fig5.add_subplot(111)\n",
    "    mappable = ax5.contourf(xmesh, ymesh, error_test_abs2_rotate, levels=128, cmap='seismic')\n",
    "    ax5.set_title(r'Absolute error (%s, $\\alpha$ = %d, $\\epsilon$ = %.4f)' %(np.array2string(geo_test[c])[3:-2],\n",
    "                                                                       aa_test[c], l2_error_test_list[c]), fontsize=16)\n",
    "    ax5.set_xlabel('$x$', fontsize=15)\n",
    "    ax5.set_ylabel('$y$', fontsize=15)\n",
    "\n",
    "    cax = plt.axes([0.12, 0.005, 0.78, 0.05])\n",
    "    cbar = plt.colorbar(mappable, cax=cax, orientation=\"horizontal\")\n",
    "    cbar.set_label('Error', fontsize=15)\n",
    "\n",
    "    save_fig_name = \"20221030PredictionError_Poisson_bc2(test)\"+str(np.array2string(geo_test[c])[3:-2])+str(aa_test[c])+\".jpg\"\n",
    "    plt.savefig(save_fig_name, dpi=300, bbox_inches='tight', pad_inches=0.3)\n",
    "    plt.show()"
   ]
  },
  {
   "cell_type": "code",
   "execution_count": null,
   "id": "03fff87e",
   "metadata": {},
   "outputs": [],
   "source": []
  }
 ],
 "metadata": {
  "kernelspec": {
   "display_name": "Python 3 (ipykernel)",
   "language": "python",
   "name": "python3"
  },
  "language_info": {
   "codemirror_mode": {
    "name": "ipython",
    "version": 3
   },
   "file_extension": ".py",
   "mimetype": "text/x-python",
   "name": "python",
   "nbconvert_exporter": "python",
   "pygments_lexer": "ipython3",
   "version": "3.9.13"
  }
 },
 "nbformat": 4,
 "nbformat_minor": 5
}
