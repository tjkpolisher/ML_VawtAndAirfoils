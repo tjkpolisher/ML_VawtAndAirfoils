{
 "cells": [
  {
   "cell_type": "code",
   "execution_count": 1,
   "id": "5bc91fac",
   "metadata": {},
   "outputs": [],
   "source": [
    "# AeroCNN-II with U-Net\n",
    "import os\n",
    "import sys\n",
    "import numpy as np\n",
    "import pandas as pd\n",
    "import tensorflow as tf\n",
    "import matplotlib.pyplot as plt\n",
    "from sklearn.model_selection import train_test_split\n",
    "from tensorflow.python.client import device_lib\n",
    "\n",
    "import datetime\n",
    "%matplotlib inline"
   ]
  },
  {
   "cell_type": "code",
   "execution_count": null,
   "id": "aee905da",
   "metadata": {
    "scrolled": true
   },
   "outputs": [],
   "source": [
    "device_lib.list_local_devices()"
   ]
  },
  {
   "cell_type": "code",
   "execution_count": null,
   "id": "0d33fe3e",
   "metadata": {},
   "outputs": [],
   "source": [
    "mirrored_strategy = tf.distribute.MirroredStrategy([\"/GPU:0\",\"/GPU:1\",\"/GPU:2\"], cross_device_ops = tf.distribute.HierarchicalCopyAllReduce())"
   ]
  },
  {
   "cell_type": "code",
   "execution_count": null,
   "id": "d1130c26",
   "metadata": {},
   "outputs": [],
   "source": [
    "n_kernel=50\n",
    "l2Regularizer=1e-09\n",
    "kernel_size1 = 5\n",
    "kernel_size2 = 5\n",
    "#kernel_size3 = 5\n",
    "n_grid = 101\n",
    "strides = 1\n",
    "input_size = 100"
   ]
  },
  {
   "cell_type": "code",
   "execution_count": null,
   "id": "62d7f718",
   "metadata": {},
   "outputs": [],
   "source": [
    "alpha = np.linspace(-10,20,16).reshape((16,1))"
   ]
  },
  {
   "cell_type": "code",
   "execution_count": null,
   "id": "73f0eda8",
   "metadata": {},
   "outputs": [],
   "source": [
    "aa = np.zeros((16*133,1))\n",
    "for i in range(0, 133):\n",
    "    aa[16*i:16*(i+1), :] = alpha[:,:]"
   ]
  },
  {
   "cell_type": "code",
   "execution_count": null,
   "id": "e191fab9",
   "metadata": {},
   "outputs": [],
   "source": [
    "aa = aa.reshape((133, 16, 1, 1))"
   ]
  },
  {
   "cell_type": "code",
   "execution_count": null,
   "id": "08ba4646",
   "metadata": {},
   "outputs": [],
   "source": [
    "os.chdir('D:\\\\AeroCNN2Inputs')"
   ]
  },
  {
   "cell_type": "code",
   "execution_count": null,
   "id": "6a5737c2",
   "metadata": {},
   "outputs": [],
   "source": [
    "origin = \"D:\\\\AeroCNN2Inputs\"\n",
    "origin_data = \"D:\\\\AirfoilClCdCoordinates_out\\\\AirfoilClCdCoordinates_out\"\n",
    "origin_coord = \"D:\\\\AirfoilClCdCoordinates_out\\\\AirfoilClCdCoordinates_out\""
   ]
  },
  {
   "cell_type": "code",
   "execution_count": null,
   "id": "57a9cee3",
   "metadata": {},
   "outputs": [],
   "source": [
    "folders_orig = os.listdir(origin)\n",
    "folders = [file for file in folders_orig if file.endswith('.csv')]"
   ]
  },
  {
   "cell_type": "code",
   "execution_count": null,
   "id": "3c16d796",
   "metadata": {},
   "outputs": [],
   "source": [
    "image_df = pd.DataFrame()\n",
    "for i in range(1, 134):\n",
    "    for j in range(0, alpha.shape[0]):\n",
    "        csv_file_name = origin + '\\\\airfoil' + str(i) + \"_alpha\"+ str(int(alpha[j])) + \".csv\"\n",
    "        data = pd.read_csv(csv_file_name, header=None)\n",
    "        image_df = pd.concat([image_df, data], axis=0)"
   ]
  },
  {
   "cell_type": "code",
   "execution_count": null,
   "id": "fa448a30",
   "metadata": {},
   "outputs": [],
   "source": [
    "image_np = image_df.iloc[:, :].values"
   ]
  },
  {
   "cell_type": "code",
   "execution_count": null,
   "id": "ba6d479a",
   "metadata": {},
   "outputs": [],
   "source": [
    "image = image_np.reshape((133, 16, 100, 100))"
   ]
  },
  {
   "cell_type": "code",
   "execution_count": null,
   "id": "438d1b60",
   "metadata": {},
   "outputs": [],
   "source": [
    "image = 1-image/100"
   ]
  },
  {
   "cell_type": "code",
   "execution_count": null,
   "id": "48d6b395",
   "metadata": {},
   "outputs": [],
   "source": [
    "path = 'D:\\\\airfoilFlowField'\n",
    "file_list = os.listdir(path)\n",
    "file_list_py = [file for file in file_list if file.endswith('.csv')]"
   ]
  },
  {
   "cell_type": "code",
   "execution_count": null,
   "id": "fb0bd522",
   "metadata": {},
   "outputs": [],
   "source": [
    "file_name = origin_data + \"\\\\AirfoilIndexList.xlsx\"\n",
    "airfoilName_df = pd.read_excel(file_name)\n",
    "geometry_orig = airfoilName_df.iloc[:, 0].values"
   ]
  },
  {
   "cell_type": "code",
   "execution_count": null,
   "id": "c9b3225e",
   "metadata": {},
   "outputs": [],
   "source": [
    "data_name = path + '\\\\' + str(geometry_orig[0]) + \"alpha\"+ str(int(alpha[1])) + \"_interpolated.csv\"\n",
    "print(data_name)"
   ]
  },
  {
   "cell_type": "code",
   "execution_count": null,
   "id": "aa87b0a7",
   "metadata": {},
   "outputs": [],
   "source": [
    "Vmag_df = pd.DataFrame()\n",
    "for i in range(1, 134):\n",
    "    for j in range(0, alpha.shape[0]):\n",
    "        data_name = path + '\\\\' + str(geometry_orig[i-1]) + \"alpha\"+ str(int(alpha[j])) + \"_interpolated.csv\"\n",
    "        data = pd.read_csv(data_name, header=None)\n",
    "        Vmag_df = pd.concat([Vmag_df, data], axis=0)"
   ]
  },
  {
   "cell_type": "code",
   "execution_count": null,
   "id": "3f891495",
   "metadata": {},
   "outputs": [],
   "source": [
    "geometry_orig = airfoilName_df.iloc[:, 1].values"
   ]
  },
  {
   "cell_type": "code",
   "execution_count": null,
   "id": "997d7bcc",
   "metadata": {},
   "outputs": [],
   "source": [
    "y_imp = Vmag_df.iloc[:, :].values"
   ]
  },
  {
   "cell_type": "code",
   "execution_count": null,
   "id": "31449c7d",
   "metadata": {},
   "outputs": [],
   "source": [
    "y = y_imp.reshape((133, 16, n_grid, n_grid))"
   ]
  },
  {
   "cell_type": "code",
   "execution_count": null,
   "id": "bb3458bf",
   "metadata": {},
   "outputs": [],
   "source": [
    "geometry = np.zeros((133*16,1))\n",
    "geometry = geometry.astype(np.string_)\n",
    "for i in geometry_orig:\n",
    "    index_ = np.where(geometry_orig==i)\n",
    "    for j in range(0,16):\n",
    "        geometry[16*index_[0]+j,:] = np.asarray(i)"
   ]
  },
  {
   "cell_type": "code",
   "execution_count": null,
   "id": "4e31070d",
   "metadata": {},
   "outputs": [],
   "source": [
    "geometry.shape"
   ]
  },
  {
   "cell_type": "code",
   "execution_count": null,
   "id": "8a65b459",
   "metadata": {},
   "outputs": [],
   "source": [
    "geometry = geometry.reshape((133, 16, 1))"
   ]
  },
  {
   "cell_type": "code",
   "execution_count": null,
   "id": "ec562b02",
   "metadata": {},
   "outputs": [],
   "source": [
    "x_train, x_test, aa_train, aa_test, geo_train, geo_test, y_train, y_test = train_test_split(image, aa, geometry, y, test_size=0.05, random_state=1)"
   ]
  },
  {
   "cell_type": "code",
   "execution_count": null,
   "id": "c0290ebb",
   "metadata": {},
   "outputs": [],
   "source": [
    "x_train = x_train.reshape((x_train.shape[0]*x_train.shape[1], x_train.shape[2], x_train.shape[3], 1))\n",
    "x_test = x_test.reshape((x_test.shape[0]*x_test.shape[1], x_test.shape[2], x_test.shape[3], 1))\n",
    "aa_train = aa_train.reshape((aa_train.shape[0]*aa_train.shape[1], aa_train.shape[2], aa_train.shape[3]))\n",
    "aa_test = aa_test.reshape((aa_test.shape[0]*aa_test.shape[1], aa_test.shape[2], aa_test.shape[3]))\n",
    "geo_train = geo_train.reshape((geo_train.shape[0]*geo_train.shape[1], geo_train.shape[2]))\n",
    "geo_test = geo_test.reshape((geo_test.shape[0]*geo_test.shape[1], geo_test.shape[2]))\n",
    "y_train = y_train.reshape((y_train.shape[0]*y_train.shape[1], y_train.shape[2], y_train.shape[3]))\n",
    "y_test = y_test.reshape((y_test.shape[0]*y_test.shape[1], y_test.shape[2], y_test.shape[3]))"
   ]
  },
  {
   "cell_type": "code",
   "execution_count": null,
   "id": "37290049",
   "metadata": {},
   "outputs": [],
   "source": [
    "with mirrored_strategy.scope():\n",
    "    input_image = tf.keras.Input(shape=(input_size, input_size, 1))\n",
    "\n",
    "    x_conv_E1_1 = tf.keras.layers.Conv2D(n_kernel, (kernel_size1, kernel_size1), strides=(strides, strides),\n",
    "                                         activation='relu', padding='same',\n",
    "                                      kernel_regularizer=tf.keras.regularizers.l2(l2Regularizer),\n",
    "                                      name='Conv2DLayer1-1')(input_image)\n",
    "    x_conv_E1_2 = tf.keras.layers.Conv2D(n_kernel, (kernel_size1, kernel_size1), strides=(strides, strides),\n",
    "                                         activation='relu', padding='same',\n",
    "                                         kernel_regularizer=tf.keras.regularizers.l2(l2Regularizer),\n",
    "                                         name='Conv2DLayer1-2')(x_conv_E1_1)\n",
    "    x_pool_E1 = tf.keras.layers.MaxPooling2D((2,2))(x_conv_E1_2)\n",
    "    x_conv_E2_1 = tf.keras.layers.Conv2D(n_kernel, (kernel_size1, kernel_size1), strides=(strides, strides),\n",
    "                                         activation='relu', padding='same',\n",
    "                                         kernel_regularizer=tf.keras.regularizers.l2(l2Regularizer),\n",
    "                                         name='Conv2DLayer2-1')(x_pool_E1)\n",
    "    x_conv_E2_2 = tf.keras.layers.Conv2D(n_kernel, (kernel_size1, kernel_size1), strides=(strides, strides),\n",
    "                                         activation='relu', padding='same',\n",
    "                                         kernel_regularizer=tf.keras.regularizers.l2(l2Regularizer),\n",
    "                                         name='Conv2DLayer2-2')(x_conv_E2_1)\n",
    "    x_pool_E2 = tf.keras.layers.MaxPooling2D((2,2))(x_conv_E2_2)\n",
    "\n",
    "    x_conv_D1_1 = tf.keras.layers.Conv2DTranspose(n_kernel, (kernel_size1, kernel_size1), strides = (2, 2),\n",
    "                                                  padding='same', activation='relu',\n",
    "                                                  name='DeConv2DLayer1-1')(x_pool_E2)\n",
    "    x_conv_D1_2 = tf.keras.layers.Conv2D(n_kernel, (kernel_size1, kernel_size1), strides=(strides, strides),\n",
    "                                         activation='relu', padding='same',\n",
    "                                         kernel_regularizer=tf.keras.regularizers.l2(l2Regularizer),\n",
    "                                         name='DeConv2DLayer1-2')(x_conv_D1_1)\n",
    "    x_concat1 = tf.concat([x_conv_D1_2, x_conv_E2_2], axis=-1)\n",
    "    x_conv_D2_1 = tf.keras.layers.Conv2D(n_kernel, (kernel_size1, kernel_size1), strides=(2, 2),\n",
    "                                         activation='relu', padding='same',\n",
    "                                         kernel_regularizer=tf.keras.regularizers.l2(l2Regularizer),\n",
    "                                         name='DeConv2DLayer2-1')(x_concat1)\n",
    "    x_conv_D2_2 = tf.keras.layers.Conv2D(n_kernel, (kernel_size1, kernel_size1), strides=(strides, strides),\n",
    "                                         activation='relu', padding='same',\n",
    "                                         kernel_regularizer=tf.keras.regularizers.l2(l2Regularizer),\n",
    "                                         name='DeConv2DLayer2-2')(x_conv_D2_1)\n",
    "    x_concat2 = tf.concat([x_conv_D2_2, x_conv_E1_2], axis=-1)\n",
    "    x_conv_Final = tf.keras.layers.Conv2D(1, (kernel_size1, kernel_size1), strides=(strides, strides),\n",
    "                                         activation='relu', padding='same',\n",
    "                                         kernel_regularizer=tf.keras.regularizers.l2(l2Regularizer),\n",
    "                                         name='FinalConvLayer')(x_concat2)\n",
    "    reshape1 = tf.keras.layers.Flatten()(x_conv_Final)\n",
    "    x_ = tf.keras.layers.Dense(units=n_grid*n_grid, activation=None, name='outputLayer',\n",
    "                               kernel_regularizer=tf.keras.regularizers.l2(l2Regularizer))(reshape1)\n",
    "\n",
    "    output_image = tf.keras.layers.Reshape((n_grid, n_grid, 1))(x_)\n",
    "    # AeroCNN-II based\n",
    "    model = tf.keras.Model(input_image, output_image)"
   ]
  },
  {
   "cell_type": "code",
   "execution_count": null,
   "id": "e3c482f9",
   "metadata": {},
   "outputs": [],
   "source": [
    "with mirrored_strategy.scope():\n",
    "    model.summary()"
   ]
  },
  {
   "cell_type": "code",
   "execution_count": null,
   "id": "30f3abdd",
   "metadata": {},
   "outputs": [],
   "source": [
    "with mirrored_strategy.scope():\n",
    "    model.compile(optimizer=tf.keras.optimizers.Adam(learning_rate=0.001),\n",
    "                  loss = tf.keras.losses.MeanSquaredError(),\n",
    "                  metrics=[tf.keras.metrics.RootMeanSquaredError(name=\"rmse\")])"
   ]
  },
  {
   "cell_type": "code",
   "execution_count": null,
   "id": "17d6b26e",
   "metadata": {
    "scrolled": true
   },
   "outputs": [],
   "source": [
    "with mirrored_strategy.scope():\n",
    "    start = datetime.datetime.now()\n",
    "    history = model.fit(x_train, y_train, epochs=5000, shuffle=True,callbacks=tf.keras.callbacks.EarlyStopping(monitor='loss', patience=30))\n",
    "    end = datetime.datetime.now()"
   ]
  },
  {
   "cell_type": "code",
   "execution_count": null,
   "id": "79204ff0",
   "metadata": {},
   "outputs": [],
   "source": [
    "time = end - start\n",
    "print(\"Training time:\", time)"
   ]
  },
  {
   "cell_type": "code",
   "execution_count": null,
   "id": "0d37a2f4",
   "metadata": {},
   "outputs": [],
   "source": [
    "os.chdir(\"D:\\\\AeroCNNII_Images\")"
   ]
  },
  {
   "cell_type": "code",
   "execution_count": null,
   "id": "77cc60d1",
   "metadata": {},
   "outputs": [],
   "source": [
    "hist = history.history\n",
    "plt.plot(hist['loss'], lw=2)\n",
    "plt.title('Training loss (mean squared error)\\nAeroCNN-II with U-net', size=15)\n",
    "plt.xlabel('Epoch', size=15)\n",
    "plt.yscale('log')\n",
    "#plt.ylim([5e-5, 1e-1])\n",
    "plt.tick_params(axis='both', which='major', labelsize=15)\n",
    "plt.grid()\n",
    "plt.savefig(\"20221012AeroCNNIIwithUnet(2blocks_2CNNlayer)(Trainingloss).jpg\", dpi=300)\n",
    "plt.show()"
   ]
  },
  {
   "cell_type": "code",
   "execution_count": null,
   "id": "2e42b6c2",
   "metadata": {},
   "outputs": [],
   "source": [
    "plt.plot(hist['rmse'], lw=2)\n",
    "plt.title('Root Mean Squared Error', size=15)\n",
    "plt.xlabel('Epoch', size=15)\n",
    "plt.tick_params(axis='both', which='major', labelsize=15)\n",
    "plt.show()"
   ]
  },
  {
   "cell_type": "code",
   "execution_count": null,
   "id": "983b76cb",
   "metadata": {},
   "outputs": [],
   "source": [
    "plt.plot(hist['rmse'], lw=2)\n",
    "plt.title('Root Mean Squared Error', size=15)\n",
    "plt.xlabel('Epoch', size=15)\n",
    "plt.yscale('log')\n",
    "plt.tick_params(axis='both', which='major', labelsize=15)\n",
    "plt.grid()\n",
    "plt.savefig(\"20221012AeroCNNIIwithUnet(2blocks_2CNNlayer)(RMSE).jpg\", dpi=300)\n",
    "plt.show()"
   ]
  },
  {
   "cell_type": "code",
   "execution_count": null,
   "id": "745feda1",
   "metadata": {},
   "outputs": [],
   "source": [
    "with mirrored_strategy.scope():\n",
    "    test_results = model.evaluate(x_train)\n",
    "    decoded_train = model.predict(x_train)\n",
    "    decoded_test = model.predict(x_test)"
   ]
  },
  {
   "cell_type": "code",
   "execution_count": null,
   "id": "111bb181",
   "metadata": {},
   "outputs": [],
   "source": [
    "test_results2 = model.evaluate(x_test)"
   ]
  },
  {
   "cell_type": "code",
   "execution_count": null,
   "id": "7881d2cc",
   "metadata": {},
   "outputs": [],
   "source": [
    "decoded_train = decoded_train.reshape((int(y_train.shape[0]),int(n_grid),int(n_grid)))\n",
    "decoded_test = decoded_test.reshape((int(y_test.shape[0]),int(n_grid),int(n_grid)))"
   ]
  },
  {
   "cell_type": "code",
   "execution_count": null,
   "id": "c38a34c6",
   "metadata": {},
   "outputs": [],
   "source": [
    "error_train_abs = np.abs(decoded_train - y_train)"
   ]
  },
  {
   "cell_type": "code",
   "execution_count": null,
   "id": "4c0dfd6f",
   "metadata": {},
   "outputs": [],
   "source": [
    "error_test_abs = np.abs(decoded_test - y_test)"
   ]
  },
  {
   "cell_type": "code",
   "execution_count": null,
   "id": "ec80e338",
   "metadata": {},
   "outputs": [],
   "source": [
    "error_train_Cl_abs = np.abs(decoded_train[:,0,:] - y_train[:,0,:])"
   ]
  },
  {
   "cell_type": "code",
   "execution_count": null,
   "id": "028d78c9",
   "metadata": {},
   "outputs": [],
   "source": [
    "error_train_Cd_abs = np.abs(decoded_train[:,1,:] - y_train[:,1,:])"
   ]
  },
  {
   "cell_type": "code",
   "execution_count": null,
   "id": "83cd596a",
   "metadata": {},
   "outputs": [],
   "source": [
    "error_test_Cl_abs = np.abs(decoded_test[:,0,:] - y_test[:,0,:])"
   ]
  },
  {
   "cell_type": "code",
   "execution_count": null,
   "id": "5148e3fe",
   "metadata": {},
   "outputs": [],
   "source": [
    "error_test_Cd_abs = np.abs(decoded_test[:,1,:] - y_test[:,1,:])"
   ]
  },
  {
   "cell_type": "code",
   "execution_count": null,
   "id": "d6c9ecfe",
   "metadata": {},
   "outputs": [],
   "source": [
    "os.chdir(\"D:\\\\TrainedModels\")"
   ]
  },
  {
   "cell_type": "code",
   "execution_count": null,
   "id": "b6df80af",
   "metadata": {},
   "outputs": [],
   "source": [
    "os.chdir(\"D:\\\\TrainedModels\\\\20221012\")\n",
    "model.save('AeroCNN-II_with_U-net_FlowFieldPrediction_50kernel_2by2MaxPooling_2CNNlayer_2blocks_testSize0.05.h5',\n",
    "           overwrite=True, include_optimizer=True, save_format='h5')"
   ]
  },
  {
   "cell_type": "code",
   "execution_count": null,
   "id": "31fb219f",
   "metadata": {},
   "outputs": [],
   "source": [
    "l2_error_train = np.sqrt(np.sum((decoded_train - y_train)**2) / np.sum(y_train**2))\n",
    "print(l2_error_train)"
   ]
  },
  {
   "cell_type": "code",
   "execution_count": null,
   "id": "3770434c",
   "metadata": {},
   "outputs": [],
   "source": [
    "l2_error_test = np.sqrt(np.sum((decoded_test - y_test)**2) / np.sum(y_test**2))\n",
    "print(l2_error_test)"
   ]
  },
  {
   "cell_type": "code",
   "execution_count": null,
   "id": "d9785cd7",
   "metadata": {
    "scrolled": true
   },
   "outputs": [],
   "source": [
    "l2_error_train_list = []\n",
    "for i in range(0, len(aa_train)):\n",
    "    l2_error_train_data = np.sqrt(np.sum((decoded_train[i] - y_train[i])**2) / np.sum(y_train[i]**2))\n",
    "    l2_error_train_list.append(l2_error_train_data)\n",
    "#print(l2_error_train_list)"
   ]
  },
  {
   "cell_type": "code",
   "execution_count": null,
   "id": "72b6a696",
   "metadata": {
    "scrolled": true
   },
   "outputs": [],
   "source": [
    "l2_error_test_list = []\n",
    "for i in range(0, len(aa_test)):\n",
    "    l2_error_test_data = np.sqrt(np.sum((decoded_test[i] - y_test[i])**2) / np.sum(y_test[i]**2))\n",
    "    l2_error_test_list.append(l2_error_test_data)\n",
    "#print(l2_error_test_list)"
   ]
  },
  {
   "cell_type": "code",
   "execution_count": null,
   "id": "cd795141",
   "metadata": {},
   "outputs": [],
   "source": [
    "plt.plot(np.linspace(1, aa_train.shape[0], aa_train.shape[0]),\n",
    "         l2_error_train*np.ones(aa_train.shape[0],), 'k', lw=2.5)\n",
    "plt.scatter(np.linspace(1, aa_train.shape[0], aa_train.shape[0]), l2_error_train_list, c='b')\n",
    "plt.xlabel('Index', fontsize=15)\n",
    "plt.ylabel('$L_2$ error norm', fontsize=15)\n",
    "plt.yscale('log')\n",
    "plt.title('$L_2$ error norm variance - AeroCNN-II with U-Net, training\\nFlow field prediction, 2 blocks, 2 CNN layer, 50 kernels', fontsize=15)\n",
    "plt.grid()\n",
    "plt.tight_layout()\n",
    "plt.savefig(\"D:\\\\AeroCNNII_Images\\\\20221012AeroCNNIIwithUnet(2blocks_2CNNlayer)(trainingeErrorDistribution).png\")\n",
    "plt.show()"
   ]
  },
  {
   "cell_type": "code",
   "execution_count": null,
   "id": "342bbd53",
   "metadata": {},
   "outputs": [],
   "source": [
    "plt.plot(np.linspace(1, aa_test.shape[0], aa_test.shape[0]),\n",
    "         l2_error_test*np.ones(aa_test.shape[0],), 'k', lw=2.5)\n",
    "plt.scatter(np.linspace(1, aa_test.shape[0], aa_test.shape[0]), l2_error_test_list, c='b')\n",
    "plt.xlabel('Index', fontsize=15)\n",
    "plt.ylabel('$L_2$ error norm', fontsize=15)\n",
    "plt.yscale('log')\n",
    "plt.title('$L_2$ error norm variance - AeroCNN-II with U-Net, test\\nFlow field prediction, 2 blocks, 2 CNN layer, 50 kernels', fontsize=15)\n",
    "plt.grid()\n",
    "plt.tight_layout()\n",
    "plt.savefig(\"20221012AeroCNNIIwithUnet(2blocks_2CNNlayer)(testErrorDistribution)\")\n",
    "plt.show()"
   ]
  },
  {
   "cell_type": "code",
   "execution_count": null,
   "id": "a5ddbea0",
   "metadata": {
    "scrolled": true
   },
   "outputs": [],
   "source": [
    "for c in range(0,16):\n",
    "    plt.figure(figsize=(16, 8))\n",
    "    y_test2_rotate = y_test[2*16+c].reshape(n_grid,n_grid)\n",
    "    decoded_rotate = decoded_test[2*16+c].reshape(n_grid,n_grid)\n",
    "\n",
    "    xrange = np.linspace(-2, 2, n_grid)\n",
    "    yrange = np.linspace(-2, 2, n_grid)\n",
    "    xmesh, ymesh = np.meshgrid(xrange, yrange)\n",
    "\n",
    "    ax = plt.subplot(1, 2, 1)\n",
    "    a1 = plt.contourf(xmesh, ymesh, y_test2_rotate, vmin=0, vmax=11, levels=128, cmap='seismic')\n",
    "    ax.set_xlabel('$x$', fontsize=15)\n",
    "    ax.set_ylabel('$y$', fontsize=15)\n",
    "    ax.set_title('Original test image', fontsize=15)\n",
    "\n",
    "    # Display reconstruction\n",
    "    ax = plt.subplot(1, 2, 2)\n",
    "    a2 = plt.contourf(xmesh, ymesh, decoded_rotate, vmin=0, vmax=11, levels=128, cmap='seismic')\n",
    "    ax.set_xlabel('$x$', fontsize=15)\n",
    "    ax.set_ylabel('$y$', fontsize=15)\n",
    "    ax.set_title('Reconstructed image', fontsize=15)\n",
    "    cax = plt.axes([0.12, 0.005, 0.78, 0.05])\n",
    "    cbar = plt.colorbar(a1, cax=cax, orientation=\"horizontal\")\n",
    "    cbar.set_label('Velocity Magnitude', fontsize=15)\n",
    "    #cbar.set_ticks([-0.5, -0.4, -0.3, -0.2, -0.1, 0, 0.1, 0.2, 0.3, 0.4, 0.5, 0.6, 0.7, 0.8, 0.9])\n",
    "\n",
    "    plt.suptitle(r'Test dataset (%s, $\\alpha$ = %d)' %(np.array2string(geo_test[2*16+c])[3:-2], aa_test[2*16+c]),fontsize=20)\n",
    "    save_fig_name = \"20221012AeroCNNIIwithUnet(2blocks_2CNNlayer)\" + str(np.array2string(geo_test[2*16+c])[3:-2])+str(aa_test[2*16+c])+\".jpg\"\n",
    "    plt.savefig(save_fig_name)\n",
    "    plt.show()"
   ]
  },
  {
   "cell_type": "code",
   "execution_count": null,
   "id": "8369c4c3",
   "metadata": {
    "scrolled": true
   },
   "outputs": [],
   "source": [
    "for c in range(0,16):\n",
    "    plt.figure(figsize=(16, 8))\n",
    "    y_test0_rotate = y_test[c].reshape(n_grid,n_grid)\n",
    "    decoded_rotate = decoded_test[c].reshape(n_grid,n_grid)\n",
    "\n",
    "    xrange = np.linspace(-2, 2, n_grid)\n",
    "    yrange = np.linspace(-2, 2, n_grid)\n",
    "    xmesh, ymesh = np.meshgrid(xrange, yrange)\n",
    "\n",
    "    ax = plt.subplot(1, 2, 1)\n",
    "    a1 = plt.contourf(xmesh, ymesh, y_test0_rotate, vmin=0, vmax=11, levels=128, cmap='seismic')\n",
    "    ax.set_xlabel('$x$', fontsize=15)\n",
    "    ax.set_ylabel('$y$', fontsize=15)\n",
    "    ax.set_title('Original test image', fontsize=15)\n",
    "\n",
    "    # Display reconstruction\n",
    "    ax = plt.subplot(1, 2, 2)\n",
    "    a2 = plt.contourf(xmesh, ymesh, decoded_rotate, vmin=0, vmax=11, levels=128, cmap='seismic')\n",
    "    ax.set_xlabel('$x$', fontsize=15)\n",
    "    ax.set_ylabel('$y$', fontsize=15)\n",
    "    ax.set_title('Reconstructed image', fontsize=15)\n",
    "    cax = plt.axes([0.12, 0.005, 0.78, 0.05])\n",
    "    cbar = plt.colorbar(a1, cax=cax, orientation=\"horizontal\")\n",
    "    cbar.set_label('Velocity Magnitude', fontsize=15)\n",
    "    #cbar.set_ticks([-0.5, -0.4, -0.3, -0.2, -0.1, 0, 0.1, 0.2, 0.3, 0.4, 0.5, 0.6, 0.7, 0.8, 0.9])\n",
    "\n",
    "    plt.suptitle(r'Test dataset (%s, $\\alpha$ = %d)' %(np.array2string(geo_test[c])[3:-2], aa_test[c]),fontsize=20)\n",
    "    plt.show()"
   ]
  },
  {
   "cell_type": "code",
   "execution_count": null,
   "id": "99e49554",
   "metadata": {
    "scrolled": true
   },
   "outputs": [],
   "source": [
    "for c in range(0,16):\n",
    "    plt.figure(figsize=(16, 8))\n",
    "    y_train0_rotate = y_train[c].reshape(n_grid,n_grid)\n",
    "    decoded_rotate = decoded_train[c].reshape(n_grid,n_grid)\n",
    "\n",
    "    xrange = np.linspace(-2, 2, n_grid)\n",
    "    yrange = np.linspace(-2, 2, n_grid)\n",
    "    xmesh, ymesh = np.meshgrid(xrange, yrange)\n",
    "\n",
    "    ax = plt.subplot(1, 2, 1)\n",
    "    a1 = plt.contourf(xmesh, ymesh, y_train0_rotate, vmin=0, vmax=11, levels=128, cmap='seismic')\n",
    "    ax.set_xlabel('$x$', fontsize=15)\n",
    "    ax.set_ylabel('$y$', fontsize=15)\n",
    "    ax.set_title('Original test image', fontsize=15)\n",
    "\n",
    "    # Display reconstruction\n",
    "    ax = plt.subplot(1, 2, 2)\n",
    "    a2 = plt.contourf(xmesh, ymesh, decoded_rotate, vmin=0, vmax=11, levels=128, cmap='seismic')\n",
    "    ax.set_xlabel('$x$', fontsize=15)\n",
    "    ax.set_ylabel('$y$', fontsize=15)\n",
    "    ax.set_title('Reconstructed image', fontsize=15)\n",
    "    cax = plt.axes([0.12, 0.005, 0.78, 0.05])\n",
    "    cbar = plt.colorbar(a1, cax=cax, orientation=\"horizontal\")\n",
    "    cbar.set_label('Velocity Magnitude', fontsize=15)\n",
    "    #cbar.set_ticks([-0.5, -0.4, -0.3, -0.2, -0.1, 0, 0.1, 0.2, 0.3, 0.4, 0.5, 0.6, 0.7, 0.8, 0.9])\n",
    "\n",
    "    plt.suptitle(r'Training dataset (%s, $\\alpha$ = %d)' %(np.array2string(geo_train[c])[3:-2], aa_train[c]),fontsize=20)\n",
    "    plt.show()"
   ]
  },
  {
   "cell_type": "code",
   "execution_count": null,
   "id": "6fbd7cef",
   "metadata": {
    "scrolled": true
   },
   "outputs": [],
   "source": [
    "for c in range(0,16):\n",
    "    plt.figure(figsize=(16, 8))\n",
    "    y_train20_rotate = y_train[20*16+c].reshape(n_grid,n_grid)\n",
    "    decoded_rotate = decoded_train[20*16+c].reshape(n_grid,n_grid)\n",
    "\n",
    "    xrange = np.linspace(-2, 2, n_grid)\n",
    "    yrange = np.linspace(-2, 2, n_grid)\n",
    "    xmesh, ymesh = np.meshgrid(xrange, yrange)\n",
    "\n",
    "    ax = plt.subplot(1, 2, 1)\n",
    "    a1 = plt.contourf(xmesh, ymesh, y_train20_rotate, vmin=0, vmax=11, levels=128, cmap='seismic')\n",
    "    ax.set_xlabel('$x$', fontsize=15)\n",
    "    ax.set_ylabel('$y$', fontsize=15)\n",
    "    ax.set_title('Original test image', fontsize=15)\n",
    "\n",
    "    # Display reconstruction\n",
    "    ax = plt.subplot(1, 2, 2)\n",
    "    a2 = plt.contourf(xmesh, ymesh, decoded_rotate, vmin=0, vmax=11, levels=128, cmap='seismic')\n",
    "    ax.set_xlabel('$x$', fontsize=15)\n",
    "    ax.set_ylabel('$y$', fontsize=15)\n",
    "    ax.set_title('Reconstructed image', fontsize=15)\n",
    "    cax = plt.axes([0.12, 0.005, 0.78, 0.05])\n",
    "    cbar = plt.colorbar(a1, cax=cax, orientation=\"horizontal\")\n",
    "    cbar.set_label('Velocity Magnitude', fontsize=15)\n",
    "    #cbar.set_ticks([-0.5, -0.4, -0.3, -0.2, -0.1, 0, 0.1, 0.2, 0.3, 0.4, 0.5, 0.6, 0.7, 0.8, 0.9])\n",
    "\n",
    "    plt.suptitle(r'Training dataset (%s, $\\alpha$ = %d)' %(np.array2string(geo_train[20*16+c])[3:-2], aa_train[20*16+c]),fontsize=20)\n",
    "    plt.show()"
   ]
  },
  {
   "cell_type": "code",
   "execution_count": null,
   "id": "4ca1203a",
   "metadata": {},
   "outputs": [],
   "source": [
    "for c in range(0,16):\n",
    "    error_test_abs2_rotate = error_test_abs[2*16+c].reshape(n_grid,n_grid)\n",
    "\n",
    "    fig5 = plt.figure(figsize = (8, 8))\n",
    "    ax5 = fig5.add_subplot(111)\n",
    "    mappable = ax5.contourf(xmesh, ymesh, error_test_abs2_rotate, levels=128, cmap='seismic')\n",
    "    ax5.set_title(r'Absolute error (%s, $\\alpha$ = %d, $\\epsilon$ = %.4f)' %(np.array2string(geo_test[2*16+c])[3:-2],\n",
    "                                                                       aa_test[2*16+c], l2_error_test_list[2*16+c]), fontsize=16)\n",
    "    ax5.set_xlabel('$y$', fontsize=15)\n",
    "    ax5.set_ylabel('$z$', fontsize=15)\n",
    "\n",
    "    cax = plt.axes([0.12, 0.005, 0.78, 0.05])\n",
    "    cbar = plt.colorbar(mappable, cax=cax, orientation=\"horizontal\")\n",
    "    cbar.set_label('Error', fontsize=15)\n",
    "\n",
    "    plt.show()"
   ]
  },
  {
   "cell_type": "code",
   "execution_count": null,
   "id": "44c85b8f",
   "metadata": {},
   "outputs": [],
   "source": [
    "for c in range(0,16):\n",
    "    error_test_abs2_rotate = error_test_abs[c].reshape(n_grid,n_grid)\n",
    "\n",
    "    fig5 = plt.figure(figsize = (8, 8))\n",
    "    ax5 = fig5.add_subplot(111)\n",
    "    mappable = ax5.contourf(xmesh, ymesh, error_test_abs2_rotate, levels=128, cmap='seismic')\n",
    "    ax5.set_title(r'Absolute error (%s, $\\alpha$ = %d, $\\epsilon$ = %.4f)' %(np.array2string(geo_test[c])[3:-2],\n",
    "                                                                       aa_test[c], l2_error_test_list[c]), fontsize=16)\n",
    "    ax5.set_xlabel('$y$', fontsize=15)\n",
    "    ax5.set_ylabel('$z$', fontsize=15)\n",
    "\n",
    "    cax = plt.axes([0.12, 0.005, 0.78, 0.05])\n",
    "    cbar = plt.colorbar(mappable, cax=cax, orientation=\"horizontal\")\n",
    "    cbar.set_label('Error', fontsize=15)\n",
    "\n",
    "    plt.show()"
   ]
  },
  {
   "cell_type": "code",
   "execution_count": null,
   "id": "e276e7e9",
   "metadata": {},
   "outputs": [],
   "source": [
    "for c in range(0,16):\n",
    "    error_train_abs2_rotate = error_train_abs[c].reshape(n_grid,n_grid)\n",
    "\n",
    "    fig5 = plt.figure(figsize = (8, 8))\n",
    "    ax5 = fig5.add_subplot(111)\n",
    "    mappable = ax5.contourf(xmesh, ymesh, error_train_abs2_rotate, levels=128, cmap='seismic')\n",
    "    ax5.set_title(r'Absolute error (%s, $\\alpha$ = %d, $\\epsilon$ = %.4f)' %(np.array2string(geo_train[c])[3:-2],\n",
    "                                                                             aa_train[c], l2_error_train_list[c]), fontsize=16)\n",
    "    ax5.set_xlabel('$y$', fontsize=15)\n",
    "    ax5.set_ylabel('$z$', fontsize=15)\n",
    "\n",
    "    cax = plt.axes([0.12, 0.005, 0.78, 0.05])\n",
    "    cbar = plt.colorbar(mappable, cax=cax, orientation=\"horizontal\")\n",
    "    cbar.set_label('Error', fontsize=15)\n",
    "\n",
    "    plt.show()"
   ]
  },
  {
   "cell_type": "code",
   "execution_count": null,
   "id": "6e12e73b",
   "metadata": {},
   "outputs": [],
   "source": [
    "for c in range(0,16):\n",
    "    error_train_abs2_rotate = error_train_abs[16*20+c].reshape(n_grid,n_grid)\n",
    "\n",
    "    fig5 = plt.figure(figsize = (8, 8))\n",
    "    ax5 = fig5.add_subplot(111)\n",
    "    mappable = ax5.contourf(xmesh, ymesh, error_train_abs2_rotate, levels=128, cmap='seismic')\n",
    "    ax5.set_title(r'Absolute error (%s, $\\alpha$ = %d, $\\epsilon$ = %.4f)' %(np.array2string(geo_train[16*20+c])[3:-2],\n",
    "                                                                             aa_train[16*20+c], l2_error_train_list[16*20+c]),fontsize=16)\n",
    "    ax5.set_xlabel('$y$', fontsize=15)\n",
    "    ax5.set_ylabel('$z$', fontsize=15)\n",
    "\n",
    "    cax = plt.axes([0.12, 0.005, 0.78, 0.05])\n",
    "    cbar = plt.colorbar(mappable, cax=cax, orientation=\"horizontal\")\n",
    "    cbar.set_label('Error', fontsize=15)\n",
    "\n",
    "    plt.show()"
   ]
  },
  {
   "cell_type": "code",
   "execution_count": null,
   "id": "39ede101",
   "metadata": {},
   "outputs": [],
   "source": [
    "file_name = origin_data + \"\\\\AirfoilIndexList.xlsx\"\n",
    "airfoilName_df = pd.read_excel(file_name)\n",
    "geometry_orig2 = airfoilName_df.iloc[:, 1].values"
   ]
  },
  {
   "cell_type": "code",
   "execution_count": null,
   "id": "f278c993",
   "metadata": {},
   "outputs": [],
   "source": [
    "geometry = geometry.reshape((133, 16, 1))\n",
    "geometry2 = np.zeros((133*16,1))\n",
    "geometry2 = geometry2.astype(np.string_)\n",
    "for i in geometry_orig2:\n",
    "    index_ = np.where(geometry_orig2==i)\n",
    "    for j in range(0,16):\n",
    "        geometry2[16*index_[0]+j,:] = np.asarray(i)"
   ]
  },
  {
   "cell_type": "code",
   "execution_count": null,
   "id": "27b84a34",
   "metadata": {},
   "outputs": [],
   "source": [
    "geometry2 = geometry2.reshape((133, 16, 1))"
   ]
  },
  {
   "cell_type": "code",
   "execution_count": null,
   "id": "19e2b6e1",
   "metadata": {},
   "outputs": [],
   "source": [
    "x_train, x_test, geo_train, geo_test, geo_train2, geo_test2 = train_test_split(1-image_np.reshape((133, 16, 100, 100))/1000, geometry, geometry2, test_size=0.05, random_state=1)"
   ]
  },
  {
   "cell_type": "code",
   "execution_count": null,
   "id": "db403559",
   "metadata": {},
   "outputs": [],
   "source": [
    "geo_train2 = geo_train2.reshape((geo_train.shape[0]*geo_train.shape[1], geo_train.shape[2]))\n",
    "geo_test2 = geo_test2.reshape((geo_test.shape[0]*geo_test.shape[1], geo_test.shape[2]))"
   ]
  },
  {
   "cell_type": "code",
   "execution_count": null,
   "id": "0c7472bf",
   "metadata": {},
   "outputs": [],
   "source": []
  }
 ],
 "metadata": {
  "kernelspec": {
   "display_name": "Python 3 (ipykernel)",
   "language": "python",
   "name": "python3"
  },
  "language_info": {
   "codemirror_mode": {
    "name": "ipython",
    "version": 3
   },
   "file_extension": ".py",
   "mimetype": "text/x-python",
   "name": "python",
   "nbconvert_exporter": "python",
   "pygments_lexer": "ipython3",
   "version": "3.9.13"
  }
 },
 "nbformat": 4,
 "nbformat_minor": 5
}
