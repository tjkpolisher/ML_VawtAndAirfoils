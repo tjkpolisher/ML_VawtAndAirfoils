{
 "cells": [
  {
   "cell_type": "code",
   "execution_count": 1,
   "id": "5bc91fac",
   "metadata": {},
   "outputs": [],
   "source": [
    "# AeroCNN-II\n",
    "import os\n",
    "import sys\n",
    "import numpy as np\n",
    "import pandas as pd\n",
    "import tensorflow as tf\n",
    "import matplotlib.pyplot as plt\n",
    "from sklearn.model_selection import train_test_split\n",
    "from sklearn.preprocessing import MinMaxScaler\n",
    "\n",
    "import datetime\n",
    "%matplotlib inline"
   ]
  },
  {
   "cell_type": "code",
   "execution_count": 2,
   "id": "445ec134",
   "metadata": {},
   "outputs": [],
   "source": [
    "#from tensorflow.python.client import device_lib\n",
    "#device_lib.list_local_devices()"
   ]
  },
  {
   "cell_type": "code",
   "execution_count": 3,
   "id": "91bb435c",
   "metadata": {},
   "outputs": [],
   "source": [
    "#mirrored_strategy = tf.distribute.MirroredStrategy([\"/GPU:0\",\"/GPU:1\", \"/GPU:2\"], cross_device_ops = tf.distribute.HierarchicalCopyAllReduce())"
   ]
  },
  {
   "cell_type": "code",
   "execution_count": 4,
   "id": "d1130c26",
   "metadata": {},
   "outputs": [],
   "source": [
    "n_kernel=100\n",
    "l2Regularizer=1e-09\n",
    "kernel_size1 = 5\n",
    "kernel_size2 = 5\n",
    "#kernel_size3 = 5\n",
    "n_grid = 128\n",
    "strides = 1\n",
    "input_size = 100\n",
    "lr=0.001"
   ]
  },
  {
   "cell_type": "code",
   "execution_count": 5,
   "id": "62d7f718",
   "metadata": {},
   "outputs": [],
   "source": [
    "alpha = np.linspace(-10,20,16).reshape((16,1))"
   ]
  },
  {
   "cell_type": "code",
   "execution_count": 6,
   "id": "73f0eda8",
   "metadata": {},
   "outputs": [],
   "source": [
    "aa = np.zeros((16*133,1))\n",
    "for i in range(0, 133):\n",
    "    aa[16*i:16*(i+1), :] = alpha[:,:]"
   ]
  },
  {
   "cell_type": "code",
   "execution_count": 7,
   "id": "e191fab9",
   "metadata": {},
   "outputs": [],
   "source": [
    "aa = aa.reshape((133, 16, 1, 1))"
   ]
  },
  {
   "cell_type": "code",
   "execution_count": 8,
   "id": "08ba4646",
   "metadata": {},
   "outputs": [],
   "source": [
    "os.chdir('D:\\\\AeroCNN2Inputs')"
   ]
  },
  {
   "cell_type": "code",
   "execution_count": 9,
   "id": "6a5737c2",
   "metadata": {},
   "outputs": [],
   "source": [
    "origin = \"D:\\\\rotatedInterpolation_pow2\\\\n_grid128\\\\velocityMagnitudeField\"\n",
    "origin_data = \"D:\\\\AirfoilClCdCoordinates_out\\\\AirfoilClCdCoordinates_out\"\n",
    "origin_coord = \"D:\\\\AirfoilClCdCoordinates_out\\\\AirfoilClCdCoordinates_out\""
   ]
  },
  {
   "cell_type": "code",
   "execution_count": 10,
   "id": "57a9cee3",
   "metadata": {},
   "outputs": [],
   "source": [
    "folders_orig = os.listdir(origin)\n",
    "folders = [file for file in folders_orig if file.endswith('.csv')]"
   ]
  },
  {
   "cell_type": "code",
   "execution_count": 11,
   "id": "3c16d796",
   "metadata": {},
   "outputs": [],
   "source": [
    "image_df = pd.DataFrame()\n",
    "for i in range(1, 134):\n",
    "    for j in range(0, alpha.shape[0]):\n",
    "        csv_file_name = origin + '\\\\airfoil' + str(i) + \"alpha\"+ str(int(alpha[j])) + \"_velocityMagnitudeInterpolated.csv\"\n",
    "        data = pd.read_csv(csv_file_name, header=None)\n",
    "        image_df = pd.concat([image_df, data], axis=0)"
   ]
  },
  {
   "cell_type": "code",
   "execution_count": 12,
   "id": "fa448a30",
   "metadata": {},
   "outputs": [],
   "source": [
    "image_np = image_df.iloc[:, :].values"
   ]
  },
  {
   "cell_type": "code",
   "execution_count": 13,
   "id": "ba6d479a",
   "metadata": {},
   "outputs": [],
   "source": [
    "image = image_np.reshape((133, 16, n_grid+1, n_grid+1))"
   ]
  },
  {
   "cell_type": "code",
   "execution_count": 14,
   "id": "438d1b60",
   "metadata": {},
   "outputs": [],
   "source": [
    "image = 1-image/100"
   ]
  },
  {
   "cell_type": "code",
   "execution_count": 15,
   "id": "48d6b395",
   "metadata": {},
   "outputs": [],
   "source": [
    "cl_df = pd.DataFrame()\n",
    "for i in range(1, 134):\n",
    "    for alpha_ in alpha:\n",
    "        cl_name = origin_coord + \"\\\\airfoil\" + str(i) + \"\\\\\"+ str(int(alpha_)) + \"\\\\Cl_\" + str(i) + \"_\"+ str(int(alpha_)) +\".txt\"\n",
    "        data = pd.read_csv(cl_name, sep = \",\", header=None)\n",
    "        cl_df = pd.concat([cl_df, data], axis=0)"
   ]
  },
  {
   "cell_type": "code",
   "execution_count": 16,
   "id": "aa87b0a7",
   "metadata": {},
   "outputs": [],
   "source": [
    "cd_df = pd.DataFrame()\n",
    "for i in range(1, 134):\n",
    "    for alpha_ in alpha:\n",
    "        cd_name = origin_coord + \"\\\\airfoil\" + str(i) + \"\\\\\"+ str(int(alpha_)) + \"\\\\Cd_\" + str(i) + \"_\"+ str(int(alpha_)) +\".txt\"\n",
    "        data = pd.read_csv(cd_name, sep = \",\", header=None)\n",
    "        cd_df = pd.concat([cd_df, data], axis=0)"
   ]
  },
  {
   "cell_type": "code",
   "execution_count": 17,
   "id": "5c4dc4c6",
   "metadata": {},
   "outputs": [],
   "source": [
    "cl = cl_df.iloc[:, :].values.reshape((-1,1))\n",
    "cd = cd_df.iloc[:, :].values.reshape((-1,1))\n",
    "y = np.hstack((cl, cd))"
   ]
  },
  {
   "cell_type": "code",
   "execution_count": 18,
   "id": "31449c7d",
   "metadata": {},
   "outputs": [],
   "source": [
    "y = y.reshape((133, 16, 2, 1))"
   ]
  },
  {
   "cell_type": "code",
   "execution_count": 19,
   "id": "fb0bd522",
   "metadata": {},
   "outputs": [],
   "source": [
    "file_name = origin_data + \"\\\\AirfoilIndexList.xlsx\"\n",
    "airfoilName_df = pd.read_excel(file_name)\n",
    "geometry_orig = airfoilName_df.iloc[:, 1].values"
   ]
  },
  {
   "cell_type": "code",
   "execution_count": 20,
   "id": "bb3458bf",
   "metadata": {},
   "outputs": [],
   "source": [
    "geometry = np.zeros((133*16,1))\n",
    "geometry = geometry.astype(np.string_)\n",
    "for i in geometry_orig:\n",
    "    index_ = np.where(geometry_orig==i)\n",
    "    for j in range(0,16):\n",
    "        geometry[16*index_[0]+j,:] = np.asarray(i)"
   ]
  },
  {
   "cell_type": "code",
   "execution_count": 21,
   "id": "4e31070d",
   "metadata": {},
   "outputs": [
    {
     "data": {
      "text/plain": [
       "(2128, 1)"
      ]
     },
     "execution_count": 21,
     "metadata": {},
     "output_type": "execute_result"
    }
   ],
   "source": [
    "geometry.shape"
   ]
  },
  {
   "cell_type": "code",
   "execution_count": 22,
   "id": "8a65b459",
   "metadata": {},
   "outputs": [],
   "source": [
    "geometry = geometry.reshape((133, 16, 1))"
   ]
  },
  {
   "cell_type": "code",
   "execution_count": 23,
   "id": "ec562b02",
   "metadata": {},
   "outputs": [],
   "source": [
    "x_train, x_test, aa_train, aa_test, geo_train, geo_test, y_train, y_test = train_test_split(image, aa, geometry, y, test_size=0.05, random_state=1)"
   ]
  },
  {
   "cell_type": "code",
   "execution_count": 24,
   "id": "c0290ebb",
   "metadata": {},
   "outputs": [],
   "source": [
    "#x_train = x_train.reshape((x_train.shape[0]*x_train.shape[1], x_train.shape[2], x_train.shape[3], 1))\n",
    "#x_test = x_test.reshape((x_test.shape[0]*x_test.shape[1], x_test.shape[2], x_test.shape[3], 1))\n",
    "#aa_train = aa_train.reshape((aa_train.shape[0]*aa_train.shape[1], aa_train.shape[2], aa_train.shape[3]))\n",
    "#aa_test = aa_test.reshape((aa_test.shape[0]*aa_test.shape[1], aa_test.shape[2], aa_test.shape[3]))\n",
    "#geo_train = geo_train.reshape((geo_train.shape[0]*geo_train.shape[1], geo_train.shape[2]))\n",
    "#geo_test = geo_test.reshape((geo_test.shape[0]*geo_test.shape[1], geo_test.shape[2]))\n",
    "#y_train = y_train.reshape((y_train.shape[0]*y_train.shape[1], y_train.shape[2], y_train.shape[3]))\n",
    "#y_test = y_test.reshape((y_test.shape[0]*y_test.shape[1], y_test.shape[2], y_test.shape[3]))"
   ]
  },
  {
   "cell_type": "code",
   "execution_count": 25,
   "id": "6714e6ce",
   "metadata": {},
   "outputs": [
    {
     "data": {
      "text/plain": [
       "(126, 16, 129, 129)"
      ]
     },
     "execution_count": 25,
     "metadata": {},
     "output_type": "execute_result"
    }
   ],
   "source": [
    "x_train.shape"
   ]
  },
  {
   "cell_type": "code",
   "execution_count": 26,
   "id": "14dc71cc",
   "metadata": {},
   "outputs": [
    {
     "data": {
      "text/plain": [
       "(126, 16, 2, 1)"
      ]
     },
     "execution_count": 26,
     "metadata": {},
     "output_type": "execute_result"
    }
   ],
   "source": [
    "y_train.shape"
   ]
  },
  {
   "cell_type": "code",
   "execution_count": 27,
   "id": "a8e2202e",
   "metadata": {},
   "outputs": [],
   "source": [
    "tf.keras.backend.set_image_data_format('channels_first')"
   ]
  },
  {
   "cell_type": "code",
   "execution_count": 29,
   "id": "37290049",
   "metadata": {},
   "outputs": [],
   "source": [
    "#with mirrored_strategy.scope():\n",
    "input_image = tf.keras.Input(shape=(alpha.shape[0], n_grid+1, n_grid+1))\n",
    "#reshape0 = tf.keras.layers.Reshape(())\n",
    "\n",
    "x_conv = tf.keras.layers.Conv2D(n_kernel, (kernel_size1, kernel_size1), strides=(strides, strides),\n",
    "                                activation='relu', padding='same',\n",
    "                                kernel_regularizer=tf.keras.regularizers.l2(l2Regularizer),\n",
    "                                name='Conv2DLayer1')(input_image)\n",
    "x_ = tf.keras.layers.MaxPooling2D((2,2))(x_conv)\n",
    "\n",
    "reshape1 = tf.keras.layers.Flatten()(x_)\n",
    "\n",
    "x_ = tf.keras.layers.Dense(units=200, activation='relu', name='firstHiddenLayer',\n",
    "                           kernel_regularizer=tf.keras.regularizers.l2(l2Regularizer))(reshape1)\n",
    "x_ = tf.keras.layers.Dense(units=100, activation='relu', name='secondHiddenLayer',\n",
    "                           kernel_regularizer=tf.keras.regularizers.l2(l2Regularizer))(x_)\n",
    "\n",
    "output_data = tf.keras.layers.Dense(units=32, activation='linear', name='outputLayer')(x_)\n",
    "output_image = tf.keras.layers.Reshape((16, 2, 1))(output_data)\n",
    "# AeroCNN-II\n",
    "model = tf.keras.Model(input_image, output_image)"
   ]
  },
  {
   "cell_type": "code",
   "execution_count": 30,
   "id": "e3c482f9",
   "metadata": {},
   "outputs": [
    {
     "name": "stdout",
     "output_type": "stream",
     "text": [
      "Model: \"model\"\n",
      "_________________________________________________________________\n",
      " Layer (type)                Output Shape              Param #   \n",
      "=================================================================\n",
      " input_2 (InputLayer)        [(None, 16, 129, 129)]    0         \n",
      "                                                                 \n",
      " Conv2DLayer1 (Conv2D)       (None, 200, 129, 129)     80200     \n",
      "                                                                 \n",
      " max_pooling2d_1 (MaxPooling  (None, 200, 64, 64)      0         \n",
      " 2D)                                                             \n",
      "                                                                 \n",
      " flatten (Flatten)           (None, 819200)            0         \n",
      "                                                                 \n",
      " firstHiddenLayer (Dense)    (None, 200)               163840200 \n",
      "                                                                 \n",
      " secondHiddenLayer (Dense)   (None, 100)               20100     \n",
      "                                                                 \n",
      " outputLayer (Dense)         (None, 32)                3232      \n",
      "                                                                 \n",
      " reshape (Reshape)           (None, 16, 2, 1)          0         \n",
      "                                                                 \n",
      "=================================================================\n",
      "Total params: 163,943,732\n",
      "Trainable params: 163,943,732\n",
      "Non-trainable params: 0\n",
      "_________________________________________________________________\n"
     ]
    }
   ],
   "source": [
    "#with mirrored_strategy.scope():\n",
    "model.summary()"
   ]
  },
  {
   "cell_type": "code",
   "execution_count": 31,
   "id": "30f3abdd",
   "metadata": {},
   "outputs": [],
   "source": [
    "#with mirrored_strategy.scope():\n",
    "model.compile(optimizer=tf.keras.optimizers.Adam(learning_rate=lr),\n",
    "              loss = tf.keras.losses.MeanSquaredError(),\n",
    "              metrics=[tf.keras.metrics.RootMeanSquaredError(name=\"rmse\")])"
   ]
  },
  {
   "cell_type": "code",
   "execution_count": 32,
   "id": "17d6b26e",
   "metadata": {
    "scrolled": true
   },
   "outputs": [
    {
     "name": "stdout",
     "output_type": "stream",
     "text": [
      "Epoch 1/5000\n",
      "4/4 [==============================] - 5s 106ms/step - loss: 348.8527 - rmse: 18.6776\n",
      "Epoch 2/5000\n",
      "4/4 [==============================] - 0s 44ms/step - loss: 0.4300 - rmse: 0.6557\n",
      "Epoch 3/5000\n",
      "4/4 [==============================] - 0s 43ms/step - loss: 0.1886 - rmse: 0.4343\n",
      "Epoch 4/5000\n",
      "4/4 [==============================] - 0s 44ms/step - loss: 0.1447 - rmse: 0.3804\n",
      "Epoch 5/5000\n",
      "4/4 [==============================] - 0s 44ms/step - loss: 0.1338 - rmse: 0.3658\n",
      "Epoch 6/5000\n",
      "4/4 [==============================] - 0s 43ms/step - loss: 0.0922 - rmse: 0.3036\n",
      "Epoch 7/5000\n",
      "4/4 [==============================] - 0s 43ms/step - loss: 0.0749 - rmse: 0.2736\n",
      "Epoch 8/5000\n",
      "4/4 [==============================] - 0s 43ms/step - loss: 0.0563 - rmse: 0.2373\n",
      "Epoch 9/5000\n",
      "4/4 [==============================] - 0s 44ms/step - loss: 0.0482 - rmse: 0.2196\n",
      "Epoch 10/5000\n",
      "4/4 [==============================] - 0s 43ms/step - loss: 0.0346 - rmse: 0.1861\n",
      "Epoch 11/5000\n",
      "4/4 [==============================] - 0s 43ms/step - loss: 0.0281 - rmse: 0.1676\n",
      "Epoch 12/5000\n",
      "4/4 [==============================] - 0s 43ms/step - loss: 0.0235 - rmse: 0.1534\n",
      "Epoch 13/5000\n",
      "4/4 [==============================] - 0s 43ms/step - loss: 0.0215 - rmse: 0.1467\n",
      "Epoch 14/5000\n",
      "4/4 [==============================] - 0s 43ms/step - loss: 0.0203 - rmse: 0.1425\n",
      "Epoch 15/5000\n",
      "4/4 [==============================] - 0s 43ms/step - loss: 0.0197 - rmse: 0.1405\n",
      "Epoch 16/5000\n",
      "4/4 [==============================] - 0s 44ms/step - loss: 0.0206 - rmse: 0.1435\n",
      "Epoch 17/5000\n",
      "4/4 [==============================] - 0s 43ms/step - loss: 0.0201 - rmse: 0.1419\n",
      "Epoch 18/5000\n",
      "4/4 [==============================] - 0s 44ms/step - loss: 0.0205 - rmse: 0.1433\n",
      "Epoch 19/5000\n",
      "4/4 [==============================] - 0s 44ms/step - loss: 0.0205 - rmse: 0.1432\n",
      "Epoch 20/5000\n",
      "4/4 [==============================] - 0s 44ms/step - loss: 0.0214 - rmse: 0.1462\n",
      "Epoch 21/5000\n",
      "4/4 [==============================] - 0s 43ms/step - loss: 0.0212 - rmse: 0.1455\n",
      "Epoch 22/5000\n",
      "4/4 [==============================] - 0s 43ms/step - loss: 0.0198 - rmse: 0.1409\n",
      "Epoch 23/5000\n",
      "4/4 [==============================] - 0s 44ms/step - loss: 0.0189 - rmse: 0.1375\n",
      "Epoch 24/5000\n",
      "4/4 [==============================] - 0s 43ms/step - loss: 0.0189 - rmse: 0.1374\n",
      "Epoch 25/5000\n",
      "4/4 [==============================] - 0s 44ms/step - loss: 0.0206 - rmse: 0.1435\n",
      "Epoch 26/5000\n",
      "4/4 [==============================] - 0s 43ms/step - loss: 0.0195 - rmse: 0.1395\n",
      "Epoch 27/5000\n",
      "4/4 [==============================] - 0s 44ms/step - loss: 0.0192 - rmse: 0.1384\n",
      "Epoch 28/5000\n",
      "4/4 [==============================] - 0s 43ms/step - loss: 0.0195 - rmse: 0.1397\n",
      "Epoch 29/5000\n",
      "4/4 [==============================] - 0s 43ms/step - loss: 0.0195 - rmse: 0.1396\n",
      "Epoch 30/5000\n",
      "4/4 [==============================] - 0s 43ms/step - loss: 0.0207 - rmse: 0.1438\n",
      "Epoch 31/5000\n",
      "4/4 [==============================] - 0s 43ms/step - loss: 0.0245 - rmse: 0.1565\n",
      "Epoch 32/5000\n",
      "4/4 [==============================] - 0s 43ms/step - loss: 0.0224 - rmse: 0.1498\n",
      "Epoch 33/5000\n",
      "4/4 [==============================] - 0s 44ms/step - loss: 0.0206 - rmse: 0.1435\n",
      "Epoch 34/5000\n",
      "4/4 [==============================] - 0s 44ms/step - loss: 0.0222 - rmse: 0.1492\n",
      "Epoch 35/5000\n",
      "4/4 [==============================] - 0s 43ms/step - loss: 0.0234 - rmse: 0.1531\n",
      "Epoch 36/5000\n",
      "4/4 [==============================] - 0s 43ms/step - loss: 0.0213 - rmse: 0.1459\n",
      "Epoch 37/5000\n",
      "4/4 [==============================] - 0s 43ms/step - loss: 0.0196 - rmse: 0.1399\n",
      "Epoch 38/5000\n",
      "4/4 [==============================] - 0s 44ms/step - loss: 0.0205 - rmse: 0.1433\n",
      "Epoch 39/5000\n",
      "4/4 [==============================] - 0s 43ms/step - loss: 0.0204 - rmse: 0.1427\n",
      "Epoch 40/5000\n",
      "4/4 [==============================] - 0s 43ms/step - loss: 0.0211 - rmse: 0.1451\n",
      "Epoch 41/5000\n",
      "4/4 [==============================] - 0s 43ms/step - loss: 0.0208 - rmse: 0.1441\n",
      "Epoch 42/5000\n",
      "4/4 [==============================] - 0s 43ms/step - loss: 0.0206 - rmse: 0.1434\n",
      "Epoch 43/5000\n",
      "4/4 [==============================] - 0s 43ms/step - loss: 0.0215 - rmse: 0.1466\n",
      "Epoch 44/5000\n",
      "4/4 [==============================] - 0s 43ms/step - loss: 0.0215 - rmse: 0.1467\n",
      "Epoch 45/5000\n",
      "4/4 [==============================] - 0s 43ms/step - loss: 0.0207 - rmse: 0.1438\n",
      "Epoch 46/5000\n",
      "4/4 [==============================] - 0s 43ms/step - loss: 0.0244 - rmse: 0.1562\n",
      "Epoch 47/5000\n",
      "4/4 [==============================] - 0s 43ms/step - loss: 0.0213 - rmse: 0.1460\n",
      "Epoch 48/5000\n",
      "4/4 [==============================] - 0s 43ms/step - loss: 0.0200 - rmse: 0.1415\n",
      "Epoch 49/5000\n",
      "4/4 [==============================] - 0s 44ms/step - loss: 0.0197 - rmse: 0.1404\n",
      "Epoch 50/5000\n",
      "4/4 [==============================] - 0s 43ms/step - loss: 0.0204 - rmse: 0.1430\n",
      "Epoch 51/5000\n",
      "4/4 [==============================] - 0s 43ms/step - loss: 0.0199 - rmse: 0.1412\n",
      "Epoch 52/5000\n",
      "4/4 [==============================] - 0s 43ms/step - loss: 0.0200 - rmse: 0.1414\n",
      "Epoch 53/5000\n",
      "4/4 [==============================] - 0s 43ms/step - loss: 0.0196 - rmse: 0.1399\n",
      "Epoch 54/5000\n",
      "4/4 [==============================] - 0s 44ms/step - loss: 0.0197 - rmse: 0.1402\n",
      "Epoch 55/5000\n",
      "4/4 [==============================] - 0s 43ms/step - loss: 0.0205 - rmse: 0.1432\n",
      "Epoch 56/5000\n",
      "4/4 [==============================] - 0s 43ms/step - loss: 0.0210 - rmse: 0.1449\n",
      "Epoch 57/5000\n",
      "4/4 [==============================] - 0s 43ms/step - loss: 0.0204 - rmse: 0.1430\n",
      "Epoch 58/5000\n",
      "4/4 [==============================] - 0s 43ms/step - loss: 0.0200 - rmse: 0.1415\n",
      "Epoch 59/5000\n",
      "4/4 [==============================] - 0s 43ms/step - loss: 0.0211 - rmse: 0.1453\n",
      "Epoch 60/5000\n",
      "4/4 [==============================] - 0s 43ms/step - loss: 0.0203 - rmse: 0.1424\n",
      "Epoch 61/5000\n",
      "4/4 [==============================] - 0s 43ms/step - loss: 0.0205 - rmse: 0.1432\n",
      "Epoch 62/5000\n",
      "4/4 [==============================] - 0s 43ms/step - loss: 0.0209 - rmse: 0.1444\n",
      "Epoch 63/5000\n",
      "4/4 [==============================] - 0s 43ms/step - loss: 0.0197 - rmse: 0.1402\n",
      "Epoch 64/5000\n",
      "4/4 [==============================] - 0s 43ms/step - loss: 0.0196 - rmse: 0.1399\n",
      "Epoch 65/5000\n",
      "4/4 [==============================] - 0s 43ms/step - loss: 0.0196 - rmse: 0.1402\n",
      "Epoch 66/5000\n",
      "4/4 [==============================] - 0s 44ms/step - loss: 0.0207 - rmse: 0.1437\n",
      "Epoch 67/5000\n",
      "4/4 [==============================] - 0s 44ms/step - loss: 0.0198 - rmse: 0.1408\n",
      "Epoch 68/5000\n",
      "4/4 [==============================] - 0s 43ms/step - loss: 0.0198 - rmse: 0.1409\n",
      "Epoch 69/5000\n",
      "4/4 [==============================] - 0s 43ms/step - loss: 0.0199 - rmse: 0.1410\n",
      "Epoch 70/5000\n",
      "4/4 [==============================] - 0s 44ms/step - loss: 0.0199 - rmse: 0.1412\n",
      "Epoch 71/5000\n",
      "4/4 [==============================] - 0s 43ms/step - loss: 0.0199 - rmse: 0.1410\n",
      "Epoch 72/5000\n",
      "4/4 [==============================] - 0s 43ms/step - loss: 0.0197 - rmse: 0.1403\n",
      "Epoch 73/5000\n",
      "4/4 [==============================] - 0s 44ms/step - loss: 0.0192 - rmse: 0.1384\n",
      "Epoch 74/5000\n",
      "4/4 [==============================] - 0s 43ms/step - loss: 0.0192 - rmse: 0.1385\n",
      "Epoch 75/5000\n",
      "4/4 [==============================] - 0s 43ms/step - loss: 0.0192 - rmse: 0.1387\n",
      "Epoch 76/5000\n",
      "4/4 [==============================] - 0s 43ms/step - loss: 0.0197 - rmse: 0.1404\n",
      "Epoch 77/5000\n",
      "4/4 [==============================] - 0s 43ms/step - loss: 0.0197 - rmse: 0.1404\n",
      "Epoch 78/5000\n",
      "4/4 [==============================] - 0s 43ms/step - loss: 0.0197 - rmse: 0.1403\n",
      "Epoch 79/5000\n",
      "4/4 [==============================] - 0s 44ms/step - loss: 0.0194 - rmse: 0.1392\n",
      "Epoch 80/5000\n",
      "4/4 [==============================] - 0s 43ms/step - loss: 0.0206 - rmse: 0.1435\n",
      "Epoch 81/5000\n",
      "4/4 [==============================] - 0s 44ms/step - loss: 0.0205 - rmse: 0.1433\n",
      "Epoch 82/5000\n",
      "4/4 [==============================] - 0s 43ms/step - loss: 0.0232 - rmse: 0.1523\n",
      "Epoch 83/5000\n",
      "4/4 [==============================] - 0s 43ms/step - loss: 0.0276 - rmse: 0.1661\n",
      "Epoch 84/5000\n",
      "4/4 [==============================] - 0s 43ms/step - loss: 0.0284 - rmse: 0.1685\n",
      "Epoch 85/5000\n",
      "4/4 [==============================] - 0s 43ms/step - loss: 0.0273 - rmse: 0.1653\n",
      "Epoch 86/5000\n"
     ]
    },
    {
     "name": "stdout",
     "output_type": "stream",
     "text": [
      "4/4 [==============================] - 0s 43ms/step - loss: 0.0262 - rmse: 0.1618\n",
      "Epoch 87/5000\n",
      "4/4 [==============================] - 0s 43ms/step - loss: 0.0231 - rmse: 0.1521\n",
      "Epoch 88/5000\n",
      "4/4 [==============================] - 0s 43ms/step - loss: 0.0235 - rmse: 0.1533\n",
      "Epoch 89/5000\n",
      "4/4 [==============================] - 0s 43ms/step - loss: 0.0216 - rmse: 0.1468\n",
      "Epoch 90/5000\n",
      "4/4 [==============================] - 0s 44ms/step - loss: 0.0202 - rmse: 0.1421\n",
      "Epoch 91/5000\n",
      "4/4 [==============================] - 0s 43ms/step - loss: 0.0203 - rmse: 0.1425\n",
      "Epoch 92/5000\n",
      "4/4 [==============================] - 0s 43ms/step - loss: 0.0204 - rmse: 0.1430\n",
      "Epoch 93/5000\n",
      "4/4 [==============================] - 0s 43ms/step - loss: 0.0201 - rmse: 0.1417\n",
      "Epoch 94/5000\n",
      "4/4 [==============================] - 0s 43ms/step - loss: 0.0198 - rmse: 0.1407\n",
      "Epoch 95/5000\n",
      "4/4 [==============================] - 0s 43ms/step - loss: 0.0202 - rmse: 0.1419\n",
      "Epoch 96/5000\n",
      "4/4 [==============================] - 0s 44ms/step - loss: 0.0208 - rmse: 0.1441\n",
      "Epoch 97/5000\n",
      "4/4 [==============================] - 0s 43ms/step - loss: 0.0197 - rmse: 0.1404\n",
      "Epoch 98/5000\n",
      "4/4 [==============================] - 0s 43ms/step - loss: 0.0199 - rmse: 0.1409\n",
      "Epoch 99/5000\n",
      "4/4 [==============================] - 0s 43ms/step - loss: 0.0202 - rmse: 0.1420\n",
      "Epoch 100/5000\n",
      "4/4 [==============================] - 0s 43ms/step - loss: 0.0218 - rmse: 0.1476\n",
      "Epoch 101/5000\n",
      "4/4 [==============================] - 0s 43ms/step - loss: 0.0217 - rmse: 0.1472\n",
      "Epoch 102/5000\n",
      "4/4 [==============================] - 0s 43ms/step - loss: 0.0208 - rmse: 0.1441\n",
      "Epoch 103/5000\n",
      "4/4 [==============================] - 0s 43ms/step - loss: 0.0219 - rmse: 0.1479\n",
      "Epoch 104/5000\n",
      "4/4 [==============================] - 0s 43ms/step - loss: 0.0238 - rmse: 0.1541\n",
      "Epoch 105/5000\n",
      "4/4 [==============================] - 0s 43ms/step - loss: 0.0228 - rmse: 0.1511\n",
      "Epoch 106/5000\n",
      "4/4 [==============================] - 0s 43ms/step - loss: 0.0256 - rmse: 0.1601\n",
      "Epoch 107/5000\n",
      "4/4 [==============================] - 0s 43ms/step - loss: 0.0243 - rmse: 0.1560\n",
      "Epoch 108/5000\n",
      "4/4 [==============================] - 0s 43ms/step - loss: 0.0228 - rmse: 0.1511\n",
      "Epoch 109/5000\n",
      "4/4 [==============================] - 0s 43ms/step - loss: 0.0208 - rmse: 0.1444\n",
      "Epoch 110/5000\n",
      "4/4 [==============================] - 0s 43ms/step - loss: 0.0211 - rmse: 0.1454\n",
      "Epoch 111/5000\n",
      "4/4 [==============================] - 0s 43ms/step - loss: 0.0211 - rmse: 0.1452\n",
      "Epoch 112/5000\n",
      "4/4 [==============================] - 0s 44ms/step - loss: 0.0248 - rmse: 0.1576\n",
      "Epoch 113/5000\n",
      "4/4 [==============================] - 0s 43ms/step - loss: 0.0233 - rmse: 0.1526\n",
      "Epoch 114/5000\n",
      "4/4 [==============================] - 0s 43ms/step - loss: 0.0215 - rmse: 0.1465\n",
      "Epoch 115/5000\n",
      "4/4 [==============================] - 0s 43ms/step - loss: 0.0210 - rmse: 0.1448\n",
      "Epoch 116/5000\n",
      "4/4 [==============================] - 0s 43ms/step - loss: 0.0202 - rmse: 0.1422\n",
      "Epoch 117/5000\n",
      "4/4 [==============================] - 0s 44ms/step - loss: 0.0209 - rmse: 0.1445\n",
      "Epoch 118/5000\n",
      "4/4 [==============================] - 0s 43ms/step - loss: 0.0196 - rmse: 0.1401\n",
      "Epoch 119/5000\n",
      "4/4 [==============================] - 0s 43ms/step - loss: 0.0207 - rmse: 0.1439\n",
      "Epoch 120/5000\n",
      "4/4 [==============================] - 0s 44ms/step - loss: 0.0190 - rmse: 0.1377\n",
      "Epoch 121/5000\n",
      "4/4 [==============================] - 0s 43ms/step - loss: 0.0203 - rmse: 0.1425\n",
      "Epoch 122/5000\n",
      "4/4 [==============================] - 0s 43ms/step - loss: 0.0214 - rmse: 0.1461\n",
      "Epoch 123/5000\n",
      "4/4 [==============================] - 0s 44ms/step - loss: 0.0203 - rmse: 0.1425\n",
      "Epoch 124/5000\n",
      "4/4 [==============================] - 0s 43ms/step - loss: 0.0211 - rmse: 0.1452\n"
     ]
    }
   ],
   "source": [
    "#with mirrored_strategy.scope():\n",
    "start = datetime.datetime.now()\n",
    "history = model.fit(x_train, y_train, epochs=5000, shuffle=True,\n",
    "                    callbacks=[tf.keras.callbacks.EarlyStopping(monitor='loss', patience=100)])\n",
    "end = datetime.datetime.now()"
   ]
  },
  {
   "cell_type": "code",
   "execution_count": 33,
   "id": "79204ff0",
   "metadata": {},
   "outputs": [
    {
     "name": "stdout",
     "output_type": "stream",
     "text": [
      "Training time: 0:00:26.577451\n"
     ]
    }
   ],
   "source": [
    "time = end - start\n",
    "print(\"Training time:\", time)"
   ]
  },
  {
   "cell_type": "code",
   "execution_count": 34,
   "id": "77cc60d1",
   "metadata": {},
   "outputs": [
    {
     "data": {
      "image/png": "[encoded data removed]",
      "text/plain": [
       "<Figure size 432x288 with 1 Axes>"
      ]
     },
     "metadata": {
      "needs_background": "light"
     },
     "output_type": "display_data"
    }
   ],
   "source": [
    "hist = history.history\n",
    "plt.plot(hist['loss'], lw=2)\n",
    "plt.title('Training loss (mean squared error)\\nAeroCNN-II', size=15)\n",
    "plt.xlabel('Epoch', size=15)\n",
    "plt.yscale('log')\n",
    "#plt.ylim([5e-5, 1e-1])\n",
    "plt.tick_params(axis='both', which='major', labelsize=15)\n",
    "plt.grid()\n",
    "plt.show()"
   ]
  },
  {
   "cell_type": "code",
   "execution_count": 35,
   "id": "2e42b6c2",
   "metadata": {},
   "outputs": [
    {
     "data": {
      "image/png": "[encoded data removed]",
      "text/plain": [
       "<Figure size 432x288 with 1 Axes>"
      ]
     },
     "metadata": {
      "needs_background": "light"
     },
     "output_type": "display_data"
    }
   ],
   "source": [
    "plt.plot(hist['rmse'], lw=2)\n",
    "plt.title('Root Mean Squared Error', size=15)\n",
    "plt.xlabel('Epoch', size=15)\n",
    "plt.tick_params(axis='both', which='major', labelsize=15)\n",
    "plt.show()"
   ]
  },
  {
   "cell_type": "code",
   "execution_count": 36,
   "id": "983b76cb",
   "metadata": {},
   "outputs": [
    {
     "data": {
      "image/png": "[encoded data removed]",
      "text/plain": [
       "<Figure size 432x288 with 1 Axes>"
      ]
     },
     "metadata": {
      "needs_background": "light"
     },
     "output_type": "display_data"
    }
   ],
   "source": [
    "plt.plot(hist['rmse'], lw=2)\n",
    "plt.title('Root Mean Squared Error', size=15)\n",
    "plt.xlabel('Epoch', size=15)\n",
    "plt.yscale('log')\n",
    "plt.tick_params(axis='both', which='major', labelsize=15)\n",
    "plt.grid()\n",
    "plt.show()"
   ]
  },
  {
   "cell_type": "code",
   "execution_count": 37,
   "id": "745feda1",
   "metadata": {},
   "outputs": [
    {
     "name": "stdout",
     "output_type": "stream",
     "text": [
      "4/4 [==============================] - 0s 4ms/step - loss: 2.3556e-06 - rmse: 0.0000e+00\n"
     ]
    }
   ],
   "source": [
    "#with mirrored_strategy.scope():\n",
    "test_results = model.evaluate(x_train)"
   ]
  },
  {
   "cell_type": "code",
   "execution_count": 38,
   "id": "f240f3e2",
   "metadata": {},
   "outputs": [
    {
     "name": "stdout",
     "output_type": "stream",
     "text": [
      "4/4 [==============================] - 0s 12ms/step\n"
     ]
    }
   ],
   "source": [
    "#with mirrored_strategy.scope():\n",
    "decoded_train = model.predict(x_train)"
   ]
  },
  {
   "cell_type": "code",
   "execution_count": 39,
   "id": "7ccbbb44",
   "metadata": {},
   "outputs": [
    {
     "name": "stdout",
     "output_type": "stream",
     "text": [
      "1/1 [==============================] - 0s 58ms/step\n"
     ]
    }
   ],
   "source": [
    "#with mirrored_strategy.scope():\n",
    "decoded_test = model.predict(x_test)"
   ]
  },
  {
   "cell_type": "code",
   "execution_count": 40,
   "id": "c38a34c6",
   "metadata": {},
   "outputs": [],
   "source": [
    "error_train_abs = np.abs(decoded_train - y_train)"
   ]
  },
  {
   "cell_type": "code",
   "execution_count": 41,
   "id": "4c0dfd6f",
   "metadata": {},
   "outputs": [],
   "source": [
    "error_test_abs = np.abs(decoded_test - y_test)"
   ]
  },
  {
   "cell_type": "code",
   "execution_count": 42,
   "id": "ec80e338",
   "metadata": {},
   "outputs": [],
   "source": [
    "error_train_Cl_abs = np.abs(decoded_train[:,0,:] - y_train[:,0,:])"
   ]
  },
  {
   "cell_type": "code",
   "execution_count": 43,
   "id": "028d78c9",
   "metadata": {},
   "outputs": [],
   "source": [
    "error_train_Cd_abs = np.abs(decoded_train[:,1,:] - y_train[:,1,:])"
   ]
  },
  {
   "cell_type": "code",
   "execution_count": 44,
   "id": "83cd596a",
   "metadata": {},
   "outputs": [],
   "source": [
    "error_test_Cl_abs = np.abs(decoded_test[:,0,:] - y_test[:,0,:])"
   ]
  },
  {
   "cell_type": "code",
   "execution_count": 45,
   "id": "5148e3fe",
   "metadata": {},
   "outputs": [],
   "source": [
    "error_test_Cd_abs = np.abs(decoded_test[:,1,:] - y_test[:,1,:])"
   ]
  },
  {
   "cell_type": "code",
   "execution_count": 46,
   "id": "b6df80af",
   "metadata": {},
   "outputs": [],
   "source": [
    "os.chdir(\"D:\\\\TrainedModels\\\\20221024\")\n",
    "model.save('AeroCNN-II_ClCd_nGrid128_200kernel_2by2MaxPooling_1CNNlayer_testSize0.05.h5',\n",
    "           overwrite=True, include_optimizer=True, save_format='h5')"
   ]
  },
  {
   "cell_type": "code",
   "execution_count": 47,
   "id": "31fb219f",
   "metadata": {},
   "outputs": [
    {
     "name": "stdout",
     "output_type": "stream",
     "text": [
      "0.2622289919858315\n"
     ]
    }
   ],
   "source": [
    "l2_error_train = np.sqrt(np.sum((decoded_train - y_train)**2) / np.sum(y_train**2))\n",
    "print(l2_error_train)"
   ]
  },
  {
   "cell_type": "code",
   "execution_count": 48,
   "id": "3770434c",
   "metadata": {},
   "outputs": [
    {
     "name": "stdout",
     "output_type": "stream",
     "text": [
      "0.2529759625444212\n"
     ]
    }
   ],
   "source": [
    "l2_error_test = np.sqrt(np.sum((decoded_test - y_test)**2) / np.sum(y_test**2))\n",
    "print(l2_error_test)"
   ]
  },
  {
   "cell_type": "code",
   "execution_count": 49,
   "id": "7d893bc2",
   "metadata": {},
   "outputs": [
    {
     "name": "stdout",
     "output_type": "stream",
     "text": [
      "0.3271538108290437\n"
     ]
    }
   ],
   "source": [
    "l2_error_Cl_train = np.sqrt(np.sum((decoded_train[:,0,:] - y_train[:,0,:])**2) / np.sum(y_train[:,0,:]**2))\n",
    "print(l2_error_Cl_train)"
   ]
  },
  {
   "cell_type": "code",
   "execution_count": 50,
   "id": "14eb3f94",
   "metadata": {},
   "outputs": [
    {
     "name": "stdout",
     "output_type": "stream",
     "text": [
      "0.2670530920317993\n"
     ]
    }
   ],
   "source": [
    "l2_error_Cd_train = np.sqrt(np.sum((decoded_train[:,1,:] - y_train[:,1,:])**2) / np.sum(y_train[:,1,:]**2))\n",
    "print(l2_error_Cd_train)"
   ]
  },
  {
   "cell_type": "code",
   "execution_count": 51,
   "id": "58600c6e",
   "metadata": {},
   "outputs": [
    {
     "name": "stdout",
     "output_type": "stream",
     "text": [
      "0.22921974766933334\n"
     ]
    }
   ],
   "source": [
    "l2_error_Cl_test = np.sqrt(np.sum((decoded_test[:,0,:] - y_test[:,0,:])**2) / np.sum(y_test[:,0,:]**2))\n",
    "print(l2_error_Cl_test)"
   ]
  },
  {
   "cell_type": "code",
   "execution_count": 52,
   "id": "61df13c8",
   "metadata": {},
   "outputs": [
    {
     "name": "stdout",
     "output_type": "stream",
     "text": [
      "0.13938705305191776\n"
     ]
    }
   ],
   "source": [
    "l2_error_Cd_test = np.sqrt(np.sum((decoded_test[:,1,:] - y_test[:,1,:])**2) / np.sum(y_test[:,1,:]**2))\n",
    "print(l2_error_Cd_test)"
   ]
  },
  {
   "cell_type": "code",
   "execution_count": 53,
   "id": "d9785cd7",
   "metadata": {
    "scrolled": true
   },
   "outputs": [
    {
     "name": "stdout",
     "output_type": "stream",
     "text": [
      "[0.3007173985098225, 0.2558200230740699, 0.18686051322561606, 0.2592188717589809, 0.28024493870918404, 0.17980155809019094, 0.42844095470143967, 0.20979509116999856, 0.2264990988483088, 0.2896437184617227, 0.2783665891293934, 0.22139035982625271, 0.40597307831372503, 0.29216139986886536, 0.2412373054735502, 0.22685689288546784, 0.3466890116738136, 0.5125746697265318, 0.2019001618009896, 0.3853340669392191, 0.1993858459086073, 0.14908935133728218, 0.2770139567616965, 0.22520363825817685, 0.32378807872604587, 0.21197950844099905, 0.20408182942000008, 0.18574685866095828, 0.32926379607659295, 0.1289037635630946, 0.23906788725964193, 0.16356408556399188, 0.2384569894430827, 0.2713112972419268, 0.13588568223392675, 0.27459558856464666, 0.22061643659977853, 0.20865855435372907, 0.1630380107928571, 0.16022577207157865, 0.18510486641105112, 0.2794450245969429, 0.4258793239242763, 0.3227768842931269, 0.18497891525810678, 0.16615105846480138, 0.28630889173079205, 0.24902889926859326, 0.3084254656208312, 0.23429688130849108, 0.1723849977173284, 0.4206675266675356, 0.22563867844911187, 0.15946972343230847, 0.17005607306545115, 0.21709583786324904, 0.11522908797591287, 0.19686895537802657, 0.46934476843795264, 0.2846426055906562, 0.23781676643157756, 0.13609779855591675, 0.16512792017007208, 0.1959231885993388, 0.3728998623285563, 0.21455757097598405, 0.2782975975518669, 0.20152536855724076, 0.21563638484248507, 0.16608800970090415, 0.19373532050690825, 0.22040006585747787, 0.20497888635666336, 0.4428231990040583, 0.1716986332666497, 0.2201090583739389, 0.1591928185848, 0.2072656483064975, 0.4192615287585773, 0.17785890263051357, 0.2997430071190173, 0.17022128744060797, 0.21173860072614178, 0.3513579085218426, 0.12919529143953562, 0.220879916182428, 0.2988261061857401, 0.5278861934939624, 0.27095781683965653, 0.14667107284844144, 0.3599842546371054, 0.2662627534767575, 0.1427496867013819, 0.44848957228424796, 0.20327875586494978, 0.3974221962413973, 0.37936184637727705, 0.3972729337191711, 0.2965302197570747, 0.24442092282050107, 0.14616928164449947, 0.15677952305076662, 0.1561786060022993, 0.179692305602885, 0.19677429570653246, 0.17991621328993304, 0.23686388725553725, 0.28926955526391795, 0.12803983744348701, 0.18235770619714253, 0.18474403370670264, 0.3780863260012768, 0.40971415363543456, 0.19343885332020325, 0.30834179391719924, 0.37127008965822544, 0.26529840538392807, 0.45895727087079, 0.5616803005478131, 0.1922428787167743, 0.28089187966921536, 0.22577219173990812, 0.16931311716983113, 0.1638934012474682, 0.24350379931590577, 0.143998192267368]\n"
     ]
    }
   ],
   "source": [
    "l2_error_train_list = []\n",
    "for i in range(0, len(aa_train)):\n",
    "    l2_error_train_data = np.sqrt(np.sum((decoded_train[i] - y_train[i])**2) / np.sum(y_train[i]**2))\n",
    "    l2_error_train_list.append(l2_error_train_data)\n",
    "print(l2_error_train_list)"
   ]
  },
  {
   "cell_type": "code",
   "execution_count": 54,
   "id": "72b6a696",
   "metadata": {
    "scrolled": true
   },
   "outputs": [
    {
     "name": "stdout",
     "output_type": "stream",
     "text": [
      "[0.3424009466102531, 0.21045182345225624, 0.24961558323311595, 0.37603664618984745, 0.16285755451029787, 0.1647986001815666, 0.2822371586871335]\n"
     ]
    }
   ],
   "source": [
    "l2_error_test_list = []\n",
    "for i in range(0, len(aa_test)):\n",
    "    l2_error_test_data = np.sqrt(np.sum((decoded_test[i] - y_test[i])**2) / np.sum(y_test[i]**2))\n",
    "    l2_error_test_list.append(l2_error_test_data)\n",
    "print(l2_error_test_list)"
   ]
  },
  {
   "cell_type": "code",
   "execution_count": 55,
   "id": "4f2fd76e",
   "metadata": {},
   "outputs": [
    {
     "name": "stdout",
     "output_type": "stream",
     "text": [
      "[0.2347756347261572, 0.10976096442815021, 0.3117918377148785, 0.18085045471535954, 0.392379026482778, 0.14843332826944083, 4.411016959492075, 0.17249488338984914, 0.6972846639198996, 0.2775731379801167, 0.0765184051692414, 0.1664662379620051, 0.07512265340886008, 0.1657031246270497, 0.191371788231148, 0.6967548463612232, 0.3338844229704999, 5.411121114966798, 0.19145321673446453, 0.08621369786737025, 0.38745739493919973, 0.23127824635449315, 0.10463071366169487, 0.34569487575061963, 0.11385666611655888, 0.35049571365093635, 0.2833070243884877, 0.3087634743029712, 0.11464369143768305, 0.09508364076529466, 0.3240866426856688, 0.15749220754216098, 0.14058413674466075, 0.09867692988499586, 0.1517321868831806, 0.3153636364545557, 0.5548030588608178, 0.1551942301941237, 0.17422483044832576, 0.17889686889382683, 0.33189211316712103, 0.3360434049603676, 0.12849383510136567, 0.11974520304681645, 0.2770869841794727, 0.5668059819156857, 0.3067170521450924, 0.2718818289516728, 0.06245115896314257, 0.37785703813838495, 0.8065065250906066, 0.5192094599215185, 0.1298930154805039, 0.07202340780454702, 0.30446112738089537, 0.10713807727754769, 0.15123796716414042, 0.2816021472190105, 0.13514079947885307, 0.3191863115023569, 0.40591684557738084, 0.18539138265525443, 0.26270408002544904, 0.2875810289667423, 4.637022795193716, 0.41049937227458555, 0.3372482665948964, 0.26063198937765825, 0.08604532266158763, 0.2782742629538174, 0.446770238953694, 0.36154631078235044, 0.279488389680329, 0.07631684999930934, 0.854777685679404, 0.09583058082947228, 0.0655683767636774, 0.276361019217603, 0.21032437599677256, 0.22509797491377465, 0.47721813082101616, 0.4484170696522989, 0.0701631179783851, 2.8260999835278855, 0.7836816963718539, 0.9291487644108303, 0.3437764481256102, 0.16567485818831554, 0.08055722966836827, 0.13386651887613124, 0.08308377268693871, 0.0852255954507845, 0.24796911295365365, 0.2934144702071738, 0.32592029519190446, 2.7402372186317185, 0.10996886105559418, 0.04726505321145948, 0.35872262203338234, 0.656225248171593, 0.22094207802590282, 0.1801150677766973, 0.0351383296455517, 0.09524033425150524, 0.19614745773726905, 0.2810244539595052, 0.1871343242968838, 0.32223449594546355, 0.14994219079499793, 0.2547148725874902, 2.072225728650682, 0.15721628376243857, 0.07567335821051784, 0.27273537415839755, 0.20058807688135466, 0.12550339532104085, 0.2787476365136177, 0.13803035084993126, 0.36416286443547, 0.5576694135957001, 0.07793698617546072, 0.33308333169033694, 0.10050693274735191, 0.29630674257450534, 0.3181419069637722, 0.10565624408806466]\n"
     ]
    }
   ],
   "source": [
    "l2_error_Cl_train_list = []\n",
    "for i in range(0, len(aa_train)):\n",
    "    l2_error_Cl_train_data = np.sqrt(np.sum((decoded_train[:,0,:][i] - y_train[:,0,:][i])**2) / np.sum(y_train[:,0,:][i]**2))\n",
    "    l2_error_Cl_train_list.append(l2_error_Cl_train_data)\n",
    "print(l2_error_Cl_train_list)"
   ]
  },
  {
   "cell_type": "code",
   "execution_count": 56,
   "id": "75dba7c0",
   "metadata": {},
   "outputs": [
    {
     "name": "stdout",
     "output_type": "stream",
     "text": [
      "[0.16367449898006037, 0.11627311414560162, 0.08742165697481842, 0.07652539412528814, 0.2317857953554633, 0.07288263537579556, 6.127330661756013, 0.04503209653874276, 0.8660445434736702, 0.24566938025771226, 0.3077315259517474, 0.052273671684433094, 0.12861419958495987, 0.19536304635265808, 0.0504696344827415, 0.4713980946128867, 0.29661790475085364, 4.748624100683829, 0.05914764940122307, 0.10031197200919104, 0.3251182135705444, 0.16124914155279402, 0.3313060472005696, 0.28235048567207743, 0.11517923528282129, 0.12182555985922235, 0.2549789940448782, 0.22639054782877152, 0.03938287113299233, 0.07633601686629832, 0.15689554478734202, 0.04567926641752301, 0.40890576009249424, 0.31901958603516245, 0.07449888284302619, 0.21825654978064504, 0.49874870578354347, 0.044610479172203614, 0.04515896236251409, 0.051815994363631136, 0.2500241901223724, 0.2874827848817458, 0.11717554829523417, 0.06681695452373938, 0.24536215861263028, 0.0630672505980361, 0.18185835603100092, 0.18624088056778387, 0.20639043801144794, 0.29812320676984566, 0.07103821955260395, 0.05709585558110512, 0.3156180471154651, 0.2075707540103077, 0.196782055927077, 0.0701224293040186, 0.04420063113829583, 0.16069481904852206, 0.038673124196499584, 0.13430372526977882, 0.2442771618719415, 0.11766868433934038, 0.16185320941039139, 0.2547069617274076, 0.8872269772500477, 0.2442738458828159, 0.22988392340542357, 0.15909930248348458, 0.33000303335674047, 0.17313916722307301, 0.145232868500159, 0.13456327775915733, 0.5037086175227787, 0.13633043861579627, 0.04379086728603644, 0.2708478812832043, 0.16679644555676942, 0.24544728578740724, 0.0997118815819041, 0.05240703833558759, 0.2783996909018444, 0.13093866549822372, 0.1861160473522421, 3.342352216421435, 0.12137552148390679, 0.9490084554466119, 0.14032950917061085, 0.15156244984930237, 0.21331251072441879, 0.0404151135097761, 0.10038202871587705, 0.04146825335045372, 0.15601476335976103, 0.09454326378868157, 0.20563383198720064, 3.3198984699722596, 0.21516466278788837, 0.19866015995747396, 0.2749995456318191, 0.6310385403838537, 0.12863791638638625, 0.06088463272797547, 0.08450803648553476, 0.09760031639937465, 0.06561901191508822, 0.04931766255589693, 0.15459176862768123, 0.23548262866329245, 0.04905484261140774, 0.1265347256687754, 0.20584109901889353, 0.0068414352901717546, 0.21406670825564728, 0.20523807483007644, 0.10021856780595606, 0.07436678117863202, 0.18904185944327823, 0.3710529652395654, 0.2226368256506114, 0.48185322737804415, 0.11756484358111252, 0.2713984932265898, 0.07139882595884606, 0.19950069292813494, 0.2390031740122104, 0.11232405861359668]\n"
     ]
    }
   ],
   "source": [
    "l2_error_Cd_train_list = []\n",
    "for i in range(0, len(aa_train)):\n",
    "    l2_error_Cd_train_data = np.sqrt(np.sum((decoded_train[:,1,:][i] - y_train[:,1,:][i])**2) / np.sum(y_train[:,1,:][i]**2))\n",
    "    l2_error_Cd_train_list.append(l2_error_Cd_train_data)\n",
    "print(l2_error_Cd_train_list)"
   ]
  },
  {
   "cell_type": "code",
   "execution_count": 57,
   "id": "89b092e4",
   "metadata": {},
   "outputs": [
    {
     "data": {
      "text/plain": [
       "0.49874870578354347"
      ]
     },
     "execution_count": 57,
     "metadata": {},
     "output_type": "execute_result"
    }
   ],
   "source": [
    "np.sqrt(np.sum((decoded_train[:,1,:][36] - y_train[:,1,:][36])**2) / np.sum(y_train[:,1,:][36]**2))"
   ]
  },
  {
   "cell_type": "code",
   "execution_count": 58,
   "id": "2e795fa0",
   "metadata": {
    "scrolled": true
   },
   "outputs": [
    {
     "name": "stdout",
     "output_type": "stream",
     "text": [
      "[0.2585879746892039, 0.17631446705074094, 0.3124866691317586, 0.24058722260030488, 0.20555555716704524, 0.3881785734896769, 0.06941081903575863]\n"
     ]
    }
   ],
   "source": [
    "l2_error_Cl_test_list = []\n",
    "for i in range(0, len(aa_test)):\n",
    "    l2_error_Cl_test_data = np.sqrt(np.sum((decoded_test[:,0,:][i] - y_test[:,0,:][i])**2) / np.sum(y_test[:,0,:][i]**2))\n",
    "    l2_error_Cl_test_list.append(l2_error_Cl_test_data)\n",
    "print(l2_error_Cl_test_list)"
   ]
  },
  {
   "cell_type": "code",
   "execution_count": 59,
   "id": "806455b7",
   "metadata": {
    "scrolled": true
   },
   "outputs": [
    {
     "name": "stdout",
     "output_type": "stream",
     "text": [
      "[0.21176897428976107, 0.04333548911912874, 0.10173820853651558, 0.01669730047051368, 0.05592116302374306, 0.22089593239013233, 0.23666504644790942]\n"
     ]
    }
   ],
   "source": [
    "l2_error_Cd_test_list = []\n",
    "for i in range(0, len(aa_test)):\n",
    "    l2_error_Cd_test_data = np.sqrt(np.sum((decoded_test[:,1,:][i] - y_test[:,1,:][i])**2) / np.sum(y_test[:,1,:][i]**2))\n",
    "    l2_error_Cd_test_list.append(l2_error_Cd_test_data)\n",
    "print(l2_error_Cd_test_list)"
   ]
  },
  {
   "cell_type": "code",
   "execution_count": 60,
   "id": "cd795141",
   "metadata": {},
   "outputs": [
    {
     "data": {
      "image/png": "[encoded data removed]",
      "text/plain": [
       "<Figure size 432x288 with 1 Axes>"
      ]
     },
     "metadata": {
      "needs_background": "light"
     },
     "output_type": "display_data"
    }
   ],
   "source": [
    "plt.plot(np.linspace(1, aa_train.shape[0], aa_train.shape[0]),\n",
    "         l2_error_train*np.ones(aa_train.shape[0],), 'k', lw=2.5)\n",
    "plt.scatter(np.linspace(1, aa_train.shape[0], aa_train.shape[0]), l2_error_train_list, c='b')\n",
    "plt.xlabel('Index', fontsize=15)\n",
    "plt.ylabel('$L_2$ error norm', fontsize=15)\n",
    "plt.title('$L_2$ error norm variance - AeroCNN-II, training\\n100 kernels', fontsize=15)\n",
    "plt.grid()\n",
    "plt.tight_layout()\n",
    "plt.show()"
   ]
  },
  {
   "cell_type": "code",
   "execution_count": 61,
   "id": "342bbd53",
   "metadata": {},
   "outputs": [
    {
     "data": {
      "image/png": "[encoded data removed]",
      "text/plain": [
       "<Figure size 432x288 with 1 Axes>"
      ]
     },
     "metadata": {
      "needs_background": "light"
     },
     "output_type": "display_data"
    }
   ],
   "source": [
    "plt.plot(np.linspace(1, aa_test.shape[0], aa_test.shape[0]),\n",
    "         l2_error_test*np.ones(aa_test.shape[0],), 'k', lw=2.5)\n",
    "plt.scatter(np.linspace(1, aa_test.shape[0], aa_test.shape[0]), l2_error_test_list, c='b')\n",
    "plt.xlabel('Index', fontsize=15)\n",
    "plt.ylabel('$L_2$ error norm', fontsize=15)\n",
    "plt.title('$L_2$ error norm variance - AeroCNN-II, test\\n100 kernels', fontsize=15)\n",
    "plt.grid()\n",
    "plt.tight_layout()\n",
    "plt.show()"
   ]
  },
  {
   "cell_type": "code",
   "execution_count": 62,
   "id": "ad363604",
   "metadata": {
    "scrolled": true
   },
   "outputs": [
    {
     "data": {
      "image/png": "[encoded data removed]",
      "text/plain": [
       "<Figure size 432x288 with 1 Axes>"
      ]
     },
     "metadata": {
      "needs_background": "light"
     },
     "output_type": "display_data"
    }
   ],
   "source": [
    "plt.plot(np.linspace(1, aa_test.shape[0], aa_test.shape[0]),\n",
    "         l2_error_test*np.ones(aa_test.shape[0],), 'k', lw=2.5)\n",
    "plt.scatter(np.linspace(1, aa_test.shape[0], aa_test.shape[0]), l2_error_test_list, c='b')\n",
    "plt.xlabel('Index', fontsize=15)\n",
    "plt.ylabel('$L_2$ error norm', fontsize=15)\n",
    "plt.yscale('log')\n",
    "plt.title('$L_2$ error norm variance - AeroCNN-II, test (log scale)\\n100 kernels', fontsize=15)\n",
    "plt.grid()\n",
    "plt.tight_layout()\n",
    "plt.show()"
   ]
  },
  {
   "cell_type": "code",
   "execution_count": 63,
   "id": "e703ca6f",
   "metadata": {},
   "outputs": [
    {
     "data": {
      "image/png": "[encoded data removed]",
      "text/plain": [
       "<Figure size 432x288 with 1 Axes>"
      ]
     },
     "metadata": {
      "needs_background": "light"
     },
     "output_type": "display_data"
    }
   ],
   "source": [
    "plt.plot(np.linspace(1, aa_train.shape[0], aa_train.shape[0]),\n",
    "         l2_error_Cl_train*np.ones(aa_train.shape[0],), 'k', lw=2.5)\n",
    "plt.scatter(np.linspace(1, aa_train.shape[0], aa_train.shape[0]), l2_error_Cl_train_list, c='b')\n",
    "plt.xlabel('Index', fontsize=15)\n",
    "plt.ylabel('$L_2$ error norm', fontsize=15)\n",
    "plt.title('$L_2$ error norm variance - AeroCNN-II, $C_l$ prediction, train\\n100 kernels', fontsize=15)\n",
    "plt.grid()\n",
    "plt.tight_layout()\n",
    "plt.show()"
   ]
  },
  {
   "cell_type": "code",
   "execution_count": 64,
   "id": "a38fd291",
   "metadata": {},
   "outputs": [
    {
     "data": {
      "image/png": "[encoded data removed]",
      "text/plain": [
       "<Figure size 432x288 with 1 Axes>"
      ]
     },
     "metadata": {
      "needs_background": "light"
     },
     "output_type": "display_data"
    }
   ],
   "source": [
    "plt.plot(np.linspace(1, aa_test.shape[0], aa_test.shape[0]),\n",
    "         l2_error_Cl_test*np.ones(aa_test.shape[0],), 'k', lw=2.5)\n",
    "plt.scatter(np.linspace(1, aa_test.shape[0], aa_test.shape[0]), l2_error_Cl_test_list, c='b')\n",
    "plt.xlabel('Index', fontsize=15)\n",
    "plt.ylabel('$L_2$ error norm', fontsize=15)\n",
    "plt.title('$L_2$ error norm variance - AeroCNN-II, $C_l$ prediction, test\\n1 CNN layers, 100 kernels', fontsize=15)\n",
    "plt.grid()\n",
    "plt.tight_layout()\n",
    "plt.show()"
   ]
  },
  {
   "cell_type": "code",
   "execution_count": 65,
   "id": "42d28db0",
   "metadata": {},
   "outputs": [
    {
     "data": {
      "image/png": "[encoded data removed]",
      "text/plain": [
       "<Figure size 432x288 with 1 Axes>"
      ]
     },
     "metadata": {
      "needs_background": "light"
     },
     "output_type": "display_data"
    }
   ],
   "source": [
    "plt.plot(np.linspace(1, aa_train.shape[0], aa_train.shape[0]),\n",
    "         l2_error_Cl_train*np.ones(aa_train.shape[0],), 'k', lw=2.5)\n",
    "plt.scatter(np.linspace(1, aa_train.shape[0], aa_train.shape[0]), l2_error_Cl_train_list, c='b')\n",
    "plt.xlabel('Index', fontsize=15)\n",
    "plt.ylabel('$L_2$ error norm', fontsize=15)\n",
    "plt.yscale('log')\n",
    "plt.title('$L_2$ error norm variance - AeroCNN-II, $C_l$ prediction, train (log scale)\\n1 CNN layers, 100 kernels', fontsize=15)\n",
    "plt.grid()\n",
    "plt.tight_layout()\n",
    "plt.show()"
   ]
  },
  {
   "cell_type": "code",
   "execution_count": 66,
   "id": "5f270230",
   "metadata": {},
   "outputs": [
    {
     "data": {
      "image/png": "[encoded data removed]",
      "text/plain": [
       "<Figure size 432x288 with 1 Axes>"
      ]
     },
     "metadata": {
      "needs_background": "light"
     },
     "output_type": "display_data"
    }
   ],
   "source": [
    "plt.plot(np.linspace(1, aa_test.shape[0], aa_test.shape[0]),\n",
    "         l2_error_Cl_test*np.ones(aa_test.shape[0],), 'k', lw=2.5)\n",
    "plt.scatter(np.linspace(1, aa_test.shape[0], aa_test.shape[0]), l2_error_Cl_test_list, c='b')\n",
    "plt.xlabel('Index', fontsize=15)\n",
    "plt.ylabel('$L_2$ error norm', fontsize=15)\n",
    "plt.yscale('log')\n",
    "plt.title('$L_2$ error norm variance - AeroCNN-II, $C_l$ prediction, test (log scale)\\n1 CNN layers, 100 kernels', fontsize=15)\n",
    "plt.grid()\n",
    "plt.tight_layout()\n",
    "plt.show()"
   ]
  },
  {
   "cell_type": "code",
   "execution_count": 67,
   "id": "2daa0783",
   "metadata": {},
   "outputs": [
    {
     "data": {
      "image/png": "[encoded data removed]",
      "text/plain": [
       "<Figure size 432x288 with 1 Axes>"
      ]
     },
     "metadata": {
      "needs_background": "light"
     },
     "output_type": "display_data"
    }
   ],
   "source": [
    "plt.plot(np.linspace(1, aa_train.shape[0], aa_train.shape[0]),\n",
    "         l2_error_Cd_train*np.ones(aa_train.shape[0],), 'k', lw=2.5)\n",
    "plt.scatter(np.linspace(1, aa_train.shape[0], aa_train.shape[0]), l2_error_Cd_train_list, c='b')\n",
    "plt.xlabel('Index', fontsize=15)\n",
    "plt.ylabel('$L_2$ error norm', fontsize=15)\n",
    "plt.title('$L_2$ error norm variance - AeroCNN-II, $C_d$ prediction, train\\n1 CNN layers, 100 kernels', fontsize=15)\n",
    "plt.grid()\n",
    "plt.tight_layout()\n",
    "plt.show()"
   ]
  },
  {
   "cell_type": "code",
   "execution_count": 68,
   "id": "96f55012",
   "metadata": {
    "scrolled": false
   },
   "outputs": [
    {
     "data": {
      "image/png": "[encoded data removed]",
      "text/plain": [
       "<Figure size 432x288 with 1 Axes>"
      ]
     },
     "metadata": {
      "needs_background": "light"
     },
     "output_type": "display_data"
    }
   ],
   "source": [
    "plt.plot(np.linspace(1, aa_test.shape[0], aa_test.shape[0]),\n",
    "         l2_error_Cd_test*np.ones(aa_test.shape[0],), 'k', lw=2.5)\n",
    "plt.scatter(np.linspace(1, aa_test.shape[0], aa_test.shape[0]), l2_error_Cd_test_list, c='b')\n",
    "plt.xlabel('Index', fontsize=15)\n",
    "plt.ylabel('$L_2$ error norm', fontsize=15)\n",
    "plt.title('$L_2$ error norm variance - AeroCNN-II, $C_d$ prediction, test\\n1 CNN layers, 100 kernels', fontsize=15)\n",
    "plt.grid()\n",
    "plt.tight_layout()\n",
    "plt.show()"
   ]
  },
  {
   "cell_type": "code",
   "execution_count": 69,
   "id": "d55d801a",
   "metadata": {},
   "outputs": [
    {
     "ename": "ValueError",
     "evalue": "x and y can be no greater than 2D, but have shapes (126,) and (126, 2, 1)",
     "output_type": "error",
     "traceback": [
      "\u001b[1;31m---------------------------------------------------------------------------\u001b[0m",
      "\u001b[1;31mValueError\u001b[0m                                Traceback (most recent call last)",
      "Input \u001b[1;32mIn [69]\u001b[0m, in \u001b[0;36m<cell line: 1>\u001b[1;34m()\u001b[0m\n\u001b[1;32m----> 1\u001b[0m \u001b[43mplt\u001b[49m\u001b[38;5;241;43m.\u001b[39;49m\u001b[43mplot\u001b[49m\u001b[43m(\u001b[49m\u001b[43mnp\u001b[49m\u001b[38;5;241;43m.\u001b[39;49m\u001b[43mlinspace\u001b[49m\u001b[43m(\u001b[49m\u001b[38;5;241;43m1\u001b[39;49m\u001b[43m,\u001b[49m\u001b[43m \u001b[49m\u001b[43mdecoded_train\u001b[49m\u001b[38;5;241;43m.\u001b[39;49m\u001b[43mshape\u001b[49m\u001b[43m[\u001b[49m\u001b[38;5;241;43m0\u001b[39;49m\u001b[43m]\u001b[49m\u001b[43m,\u001b[49m\u001b[43m \u001b[49m\u001b[43mdecoded_train\u001b[49m\u001b[38;5;241;43m.\u001b[39;49m\u001b[43mshape\u001b[49m\u001b[43m[\u001b[49m\u001b[38;5;241;43m0\u001b[39;49m\u001b[43m]\u001b[49m\u001b[43m)\u001b[49m\u001b[43m,\u001b[49m\u001b[43m \u001b[49m\u001b[43my_train\u001b[49m\u001b[43m[\u001b[49m\u001b[43m:\u001b[49m\u001b[43m,\u001b[49m\u001b[38;5;241;43m0\u001b[39;49m\u001b[43m,\u001b[49m\u001b[43m:\u001b[49m\u001b[43m]\u001b[49m\u001b[43m,\u001b[49m\u001b[43m \u001b[49m\u001b[38;5;124;43m'\u001b[39;49m\u001b[38;5;124;43mk\u001b[39;49m\u001b[38;5;124;43m'\u001b[39;49m\u001b[43m,\u001b[49m\u001b[43mlw\u001b[49m\u001b[38;5;241;43m=\u001b[39;49m\u001b[38;5;241;43m0.5\u001b[39;49m\u001b[43m)\u001b[49m\n\u001b[0;32m      2\u001b[0m plt\u001b[38;5;241m.\u001b[39mscatter(np\u001b[38;5;241m.\u001b[39mlinspace(\u001b[38;5;241m1\u001b[39m, decoded_train\u001b[38;5;241m.\u001b[39mshape[\u001b[38;5;241m0\u001b[39m], decoded_train\u001b[38;5;241m.\u001b[39mshape[\u001b[38;5;241m0\u001b[39m]), decoded_train[:,\u001b[38;5;241m0\u001b[39m,:], c\u001b[38;5;241m=\u001b[39m\u001b[38;5;124m'\u001b[39m\u001b[38;5;124mb\u001b[39m\u001b[38;5;124m'\u001b[39m, s\u001b[38;5;241m=\u001b[39m\u001b[38;5;241m15\u001b[39m)\n\u001b[0;32m      3\u001b[0m plt\u001b[38;5;241m.\u001b[39mxlabel(\u001b[38;5;124m'\u001b[39m\u001b[38;5;124mIndex\u001b[39m\u001b[38;5;124m'\u001b[39m, fontsize\u001b[38;5;241m=\u001b[39m\u001b[38;5;241m15\u001b[39m)\n",
      "File \u001b[1;32m~\\anaconda3\\lib\\site-packages\\matplotlib\\pyplot.py:2757\u001b[0m, in \u001b[0;36mplot\u001b[1;34m(scalex, scaley, data, *args, **kwargs)\u001b[0m\n\u001b[0;32m   2755\u001b[0m \u001b[38;5;129m@_copy_docstring_and_deprecators\u001b[39m(Axes\u001b[38;5;241m.\u001b[39mplot)\n\u001b[0;32m   2756\u001b[0m \u001b[38;5;28;01mdef\u001b[39;00m \u001b[38;5;21mplot\u001b[39m(\u001b[38;5;241m*\u001b[39margs, scalex\u001b[38;5;241m=\u001b[39m\u001b[38;5;28;01mTrue\u001b[39;00m, scaley\u001b[38;5;241m=\u001b[39m\u001b[38;5;28;01mTrue\u001b[39;00m, data\u001b[38;5;241m=\u001b[39m\u001b[38;5;28;01mNone\u001b[39;00m, \u001b[38;5;241m*\u001b[39m\u001b[38;5;241m*\u001b[39mkwargs):\n\u001b[1;32m-> 2757\u001b[0m     \u001b[38;5;28;01mreturn\u001b[39;00m gca()\u001b[38;5;241m.\u001b[39mplot(\n\u001b[0;32m   2758\u001b[0m         \u001b[38;5;241m*\u001b[39margs, scalex\u001b[38;5;241m=\u001b[39mscalex, scaley\u001b[38;5;241m=\u001b[39mscaley,\n\u001b[0;32m   2759\u001b[0m         \u001b[38;5;241m*\u001b[39m\u001b[38;5;241m*\u001b[39m({\u001b[38;5;124m\"\u001b[39m\u001b[38;5;124mdata\u001b[39m\u001b[38;5;124m\"\u001b[39m: data} \u001b[38;5;28;01mif\u001b[39;00m data \u001b[38;5;129;01mis\u001b[39;00m \u001b[38;5;129;01mnot\u001b[39;00m \u001b[38;5;28;01mNone\u001b[39;00m \u001b[38;5;28;01melse\u001b[39;00m {}), \u001b[38;5;241m*\u001b[39m\u001b[38;5;241m*\u001b[39mkwargs)\n",
      "File \u001b[1;32m~\\anaconda3\\lib\\site-packages\\matplotlib\\axes\\_axes.py:1632\u001b[0m, in \u001b[0;36mAxes.plot\u001b[1;34m(self, scalex, scaley, data, *args, **kwargs)\u001b[0m\n\u001b[0;32m   1390\u001b[0m \u001b[38;5;124;03m\"\"\"\u001b[39;00m\n\u001b[0;32m   1391\u001b[0m \u001b[38;5;124;03mPlot y versus x as lines and/or markers.\u001b[39;00m\n\u001b[0;32m   1392\u001b[0m \n\u001b[1;32m   (...)\u001b[0m\n\u001b[0;32m   1629\u001b[0m \u001b[38;5;124;03m(``'green'``) or hex strings (``'#008000'``).\u001b[39;00m\n\u001b[0;32m   1630\u001b[0m \u001b[38;5;124;03m\"\"\"\u001b[39;00m\n\u001b[0;32m   1631\u001b[0m kwargs \u001b[38;5;241m=\u001b[39m cbook\u001b[38;5;241m.\u001b[39mnormalize_kwargs(kwargs, mlines\u001b[38;5;241m.\u001b[39mLine2D)\n\u001b[1;32m-> 1632\u001b[0m lines \u001b[38;5;241m=\u001b[39m [\u001b[38;5;241m*\u001b[39m\u001b[38;5;28mself\u001b[39m\u001b[38;5;241m.\u001b[39m_get_lines(\u001b[38;5;241m*\u001b[39margs, data\u001b[38;5;241m=\u001b[39mdata, \u001b[38;5;241m*\u001b[39m\u001b[38;5;241m*\u001b[39mkwargs)]\n\u001b[0;32m   1633\u001b[0m \u001b[38;5;28;01mfor\u001b[39;00m line \u001b[38;5;129;01min\u001b[39;00m lines:\n\u001b[0;32m   1634\u001b[0m     \u001b[38;5;28mself\u001b[39m\u001b[38;5;241m.\u001b[39madd_line(line)\n",
      "File \u001b[1;32m~\\anaconda3\\lib\\site-packages\\matplotlib\\axes\\_base.py:312\u001b[0m, in \u001b[0;36m_process_plot_var_args.__call__\u001b[1;34m(self, data, *args, **kwargs)\u001b[0m\n\u001b[0;32m    310\u001b[0m     this \u001b[38;5;241m+\u001b[39m\u001b[38;5;241m=\u001b[39m args[\u001b[38;5;241m0\u001b[39m],\n\u001b[0;32m    311\u001b[0m     args \u001b[38;5;241m=\u001b[39m args[\u001b[38;5;241m1\u001b[39m:]\n\u001b[1;32m--> 312\u001b[0m \u001b[38;5;28;01myield from\u001b[39;00m \u001b[38;5;28;43mself\u001b[39;49m\u001b[38;5;241;43m.\u001b[39;49m\u001b[43m_plot_args\u001b[49m\u001b[43m(\u001b[49m\u001b[43mthis\u001b[49m\u001b[43m,\u001b[49m\u001b[43m \u001b[49m\u001b[43mkwargs\u001b[49m\u001b[43m)\u001b[49m\n",
      "File \u001b[1;32m~\\anaconda3\\lib\\site-packages\\matplotlib\\axes\\_base.py:501\u001b[0m, in \u001b[0;36m_process_plot_var_args._plot_args\u001b[1;34m(self, tup, kwargs, return_kwargs)\u001b[0m\n\u001b[0;32m    498\u001b[0m     \u001b[38;5;28;01mraise\u001b[39;00m \u001b[38;5;167;01mValueError\u001b[39;00m(\u001b[38;5;124mf\u001b[39m\u001b[38;5;124m\"\u001b[39m\u001b[38;5;124mx and y must have same first dimension, but \u001b[39m\u001b[38;5;124m\"\u001b[39m\n\u001b[0;32m    499\u001b[0m                      \u001b[38;5;124mf\u001b[39m\u001b[38;5;124m\"\u001b[39m\u001b[38;5;124mhave shapes \u001b[39m\u001b[38;5;132;01m{\u001b[39;00mx\u001b[38;5;241m.\u001b[39mshape\u001b[38;5;132;01m}\u001b[39;00m\u001b[38;5;124m and \u001b[39m\u001b[38;5;132;01m{\u001b[39;00my\u001b[38;5;241m.\u001b[39mshape\u001b[38;5;132;01m}\u001b[39;00m\u001b[38;5;124m\"\u001b[39m)\n\u001b[0;32m    500\u001b[0m \u001b[38;5;28;01mif\u001b[39;00m x\u001b[38;5;241m.\u001b[39mndim \u001b[38;5;241m>\u001b[39m \u001b[38;5;241m2\u001b[39m \u001b[38;5;129;01mor\u001b[39;00m y\u001b[38;5;241m.\u001b[39mndim \u001b[38;5;241m>\u001b[39m \u001b[38;5;241m2\u001b[39m:\n\u001b[1;32m--> 501\u001b[0m     \u001b[38;5;28;01mraise\u001b[39;00m \u001b[38;5;167;01mValueError\u001b[39;00m(\u001b[38;5;124mf\u001b[39m\u001b[38;5;124m\"\u001b[39m\u001b[38;5;124mx and y can be no greater than 2D, but have \u001b[39m\u001b[38;5;124m\"\u001b[39m\n\u001b[0;32m    502\u001b[0m                      \u001b[38;5;124mf\u001b[39m\u001b[38;5;124m\"\u001b[39m\u001b[38;5;124mshapes \u001b[39m\u001b[38;5;132;01m{\u001b[39;00mx\u001b[38;5;241m.\u001b[39mshape\u001b[38;5;132;01m}\u001b[39;00m\u001b[38;5;124m and \u001b[39m\u001b[38;5;132;01m{\u001b[39;00my\u001b[38;5;241m.\u001b[39mshape\u001b[38;5;132;01m}\u001b[39;00m\u001b[38;5;124m\"\u001b[39m)\n\u001b[0;32m    503\u001b[0m \u001b[38;5;28;01mif\u001b[39;00m x\u001b[38;5;241m.\u001b[39mndim \u001b[38;5;241m==\u001b[39m \u001b[38;5;241m1\u001b[39m:\n\u001b[0;32m    504\u001b[0m     x \u001b[38;5;241m=\u001b[39m x[:, np\u001b[38;5;241m.\u001b[39mnewaxis]\n",
      "\u001b[1;31mValueError\u001b[0m: x and y can be no greater than 2D, but have shapes (126,) and (126, 2, 1)"
     ]
    },
    {
     "data": {
      "image/png": "[encoded data removed]",
      "text/plain": [
       "<Figure size 432x288 with 1 Axes>"
      ]
     },
     "metadata": {
      "needs_background": "light"
     },
     "output_type": "display_data"
    }
   ],
   "source": [
    "plt.plot(np.linspace(1, decoded_train.shape[0], decoded_train.shape[0]), y_train[:,0,:], 'k',lw=0.5)\n",
    "plt.scatter(np.linspace(1, decoded_train.shape[0], decoded_train.shape[0]), decoded_train[:,0,:], c='b', s=15)\n",
    "plt.xlabel('Index', fontsize=15)\n",
    "plt.ylabel('$C_l$', fontsize=15)\n",
    "plt.title('$C_l$ prediction, train\\n1 CNN layers, 100 kernels', fontsize=15)\n",
    "plt.grid()\n",
    "plt.tight_layout()\n",
    "plt.show()"
   ]
  },
  {
   "cell_type": "code",
   "execution_count": null,
   "id": "0569a19e",
   "metadata": {},
   "outputs": [],
   "source": [
    "plt.plot(np.linspace(1, decoded_test.shape[0], decoded_test.shape[0]), y_test[:,0,:], 'k',lw=1)\n",
    "plt.scatter(np.linspace(1, decoded_test.shape[0], decoded_test.shape[0]), decoded_test[:,0,:], c='b', s=15)\n",
    "plt.xlabel('Index', fontsize=15)\n",
    "plt.ylabel('$C_l$', fontsize=15)\n",
    "plt.title('$C_l$ prediction, test\\n1 CNN layers, 100 kernels', fontsize=15)\n",
    "plt.grid()\n",
    "plt.tight_layout()\n",
    "plt.show()"
   ]
  },
  {
   "cell_type": "code",
   "execution_count": null,
   "id": "4d671fb5",
   "metadata": {},
   "outputs": [],
   "source": [
    "plt.plot(np.linspace(1, decoded_train.shape[0], decoded_train.shape[0]), y_train[:,1,:], 'k',lw=0.5)\n",
    "plt.scatter(np.linspace(1, decoded_train.shape[0], decoded_train.shape[0]), decoded_train[:,1,:], c='b', s=15)\n",
    "plt.xlabel('Index', fontsize=15)\n",
    "plt.ylabel('$C_d$', fontsize=15)\n",
    "plt.title('$C_d$ prediction, train\\n1 CNN layers, 100 kernels', fontsize=15)\n",
    "plt.grid()\n",
    "plt.tight_layout()\n",
    "plt.show()"
   ]
  },
  {
   "cell_type": "code",
   "execution_count": null,
   "id": "2860304c",
   "metadata": {
    "scrolled": true
   },
   "outputs": [],
   "source": [
    "plt.plot(np.linspace(1, decoded_test.shape[0], decoded_test.shape[0]), y_test[:,1,:], 'k',lw=1)\n",
    "plt.scatter(np.linspace(1, decoded_test.shape[0], decoded_test.shape[0]), decoded_test[:,1,:], c='b', s=15)\n",
    "plt.xlabel('Index', fontsize=15)\n",
    "plt.ylabel('$C_d$', fontsize=15)\n",
    "plt.title('$C_d$ prediction, test\\n1 CNN layers, 100 kernels', fontsize=15)\n",
    "plt.grid()\n",
    "plt.tight_layout()\n",
    "plt.show()"
   ]
  },
  {
   "cell_type": "code",
   "execution_count": null,
   "id": "dd6ef917",
   "metadata": {
    "scrolled": true
   },
   "outputs": [],
   "source": [
    "airfoiltest1_predict = decoded_test[16*0:16*1]\n",
    "\n",
    "airfoiltest1_cl=y_test[16*0:16*1,0,:]\n",
    "airfoiltest1_cd=y_test[16*0:16*1,1,:]\n",
    "\n",
    "epsilonCl = np.sqrt(np.sum((airfoiltest1_predict[:,0,:] - airfoiltest1_cl)**2) / np.sum(airfoiltest1_cl**2))\n",
    "epsilonCd = np.sqrt(np.sum((airfoiltest1_predict[:,1,:] - airfoiltest1_cd)**2) / np.sum(airfoiltest1_cd**2))\n",
    "\n",
    "plt.plot(alpha, airfoiltest1_cl.reshape(16,), 'r', marker='o', lw=1)\n",
    "plt.plot(alpha, airfoiltest1_predict[:,0,:].reshape(16,), c='b', marker='s')\n",
    "plt.xlabel(r'Angle of attack ($\\alpha$, degree)', fontsize=15)\n",
    "plt.ylabel('$C_l$', fontsize=15)\n",
    "plt.xticks(alpha, label=alpha)\n",
    "plt.title(r'$C_l$ prediction - Airfoil 1 (%s) (test set) $\\epsilon$=%.4f' % (str(geo_test[0*16][0])[2:-1], epsilonCl), fontsize=15)\n",
    "plt.legend(['True value', 'Predicted value'])\n",
    "plt.grid()\n",
    "plt.tight_layout()\n",
    "plt.show()\n",
    "\n",
    "plt.plot(alpha, airfoiltest1_cd.reshape(16,), 'r', marker='o', lw=1)\n",
    "plt.plot(alpha, airfoiltest1_predict[:,1,:].reshape(16,), c='b', marker='s')\n",
    "plt.xlabel(r'Angle of attack ($\\alpha$, degree)', fontsize=15)\n",
    "plt.ylabel('$C_d$', fontsize=15)\n",
    "plt.xticks(alpha, label=alpha)\n",
    "plt.title(r'$C_d$ prediction - Airfoil 1 (%s) (test set) $\\epsilon$=%.4f' % (str(geo_test[0*16][0])[2:-1], epsilonCd), fontsize=15)\n",
    "plt.legend(['True value', 'Predicted value'])\n",
    "plt.grid()\n",
    "plt.tight_layout()\n",
    "plt.show()"
   ]
  },
  {
   "cell_type": "code",
   "execution_count": null,
   "id": "086a893e",
   "metadata": {},
   "outputs": [],
   "source": [
    "airfoiltest37_predict = decoded_test[16*1:16*2]\n",
    "\n",
    "airfoiltest37_cl=y_test[16*1:16*2,0,:]\n",
    "airfoiltest37_cd=y_test[16*1:16*2,1,:]\n",
    "\n",
    "epsilonCl = np.sqrt(np.sum((airfoiltest37_predict[:,0,:] - airfoiltest37_cl)**2) / np.sum(airfoiltest37_cl**2))\n",
    "epsilonCd = np.sqrt(np.sum((airfoiltest37_predict[:,1,:] - airfoiltest37_cd)**2) / np.sum(airfoiltest37_cd**2))\n",
    "\n",
    "plt.plot(alpha, airfoiltest37_cl.reshape(16,), 'r', marker='o',lw=1)\n",
    "plt.plot(alpha, airfoiltest37_predict[:,0,:].reshape(16,), c='b', marker='s')\n",
    "plt.xlabel(r'Angle of attack ($\\alpha$, degree)', fontsize=15)\n",
    "plt.ylabel('$C_l$', fontsize=15)\n",
    "plt.xticks(alpha, label=alpha)\n",
    "plt.title(r'$C_l$ prediction - Airfoil 2 (%s) (test set) $\\epsilon$=%.4f' % (str(geo_test[1*16][0])[2:-1], epsilonCl), fontsize=15)\n",
    "plt.legend(['True value', 'Predicted value'])\n",
    "plt.grid()\n",
    "plt.tight_layout()\n",
    "plt.show()\n",
    "\n",
    "plt.plot(alpha, airfoiltest37_cd.reshape(16,), 'r', marker='o', lw=1)\n",
    "plt.plot(alpha, airfoiltest37_predict[:,1,:].reshape(16,), c='b', marker='s')\n",
    "plt.xlabel(r'Angle of attack ($\\alpha$, degree)', fontsize=15)\n",
    "plt.ylabel('$C_d$', fontsize=15)\n",
    "plt.xticks(alpha, label=alpha)\n",
    "plt.title(r'$C_d$ prediction - Airfoil 2 (%s) (test set) $\\epsilon$=%.4f' % (str(geo_test[1*16][0])[2:-1], epsilonCd), fontsize=15)\n",
    "plt.legend(['True value', 'Predicted value'])\n",
    "plt.grid()\n",
    "plt.tight_layout()\n",
    "plt.show()"
   ]
  },
  {
   "cell_type": "code",
   "execution_count": null,
   "id": "4db3c090",
   "metadata": {
    "scrolled": false
   },
   "outputs": [],
   "source": [
    "airfoiltrain37_predict = decoded_train[16*36:16*37]\n",
    "\n",
    "airfoiltrain37_cl=y_train[16*36:16*37,0,:]\n",
    "airfoiltrain37_cd=y_train[16*36:16*37,1,:]\n",
    "\n",
    "epsilonCl = np.sqrt(np.sum((airfoiltrain37_predict[:,0,:] - airfoiltrain37_cl)**2) / np.sum(airfoiltrain37_cl**2))\n",
    "epsilonCd = np.sqrt(np.sum((airfoiltrain37_predict[:,1,:] - airfoiltrain37_cd)**2) / np.sum(airfoiltrain37_cd**2))\n",
    "\n",
    "plt.plot(alpha, airfoiltrain37_cl.reshape(16,), 'r', marker='o', lw=1)\n",
    "plt.plot(alpha, airfoiltrain37_predict[:,0,:].reshape(16,), c='b', marker='s')\n",
    "plt.xlabel(r'Angle of attack ($\\alpha$, degree)', fontsize=15)\n",
    "plt.ylabel('$C_l$', fontsize=15)\n",
    "plt.xticks(alpha, label=alpha)\n",
    "plt.title('$C_l$ prediction - Airfoil 37 (%s) (training set) $\\epsilon$=%.4f' % (str(geo_train[36*16][0])[2:-1], epsilonCl), fontsize=15)\n",
    "plt.legend(['True value', 'Predicted value'])\n",
    "plt.grid()\n",
    "plt.tight_layout()\n",
    "plt.show()\n",
    "\n",
    "plt.plot(alpha, airfoiltrain37_cd.reshape(16,), 'r', marker='o', lw=1)\n",
    "plt.plot(alpha, airfoiltrain37_predict[:,1,:].reshape(16,), c='b', marker='s')\n",
    "plt.xlabel(r'Angle of attack ($\\alpha$, degree)', fontsize=15)\n",
    "plt.ylabel('$C_d$', fontsize=15)\n",
    "plt.xticks(alpha, label=alpha)\n",
    "plt.title('$C_d$ prediction - Airfoil 37 (%s) (training set) $\\epsilon$=%.4f' % (str(geo_train[36*16][0])[2:-1], epsilonCd), fontsize=15)\n",
    "plt.legend(['True value', 'Predicted value'])\n",
    "plt.grid()\n",
    "plt.tight_layout()\n",
    "plt.show()"
   ]
  },
  {
   "cell_type": "code",
   "execution_count": null,
   "id": "4514d729",
   "metadata": {},
   "outputs": [],
   "source": [
    "airfoiltrain45_predict = decoded_train[16*44:16*45]\n",
    "\n",
    "airfoiltrain45_cl=y_train[16*44:16*45,0,:]\n",
    "airfoiltrain45_cd=y_train[16*44:16*45,1,:]\n",
    "\n",
    "epsilonCl = np.sqrt(np.sum((airfoiltrain45_predict[:,0,:] - airfoiltrain45_cl)**2) / np.sum(airfoiltrain45_cl**2))\n",
    "epsilonCd = np.sqrt(np.sum((airfoiltrain45_predict[:,1,:] - airfoiltrain45_cd)**2) / np.sum(airfoiltrain45_cd**2))\n",
    "\n",
    "plt.plot(alpha, airfoiltrain45_cl.reshape(16,), 'r', marker='o', lw=1)\n",
    "plt.plot(alpha, airfoiltrain45_predict[:,0,:].reshape(16,), c='b', marker='s')\n",
    "plt.xlabel(r'Angle of attack ($\\alpha$, degree)', fontsize=15)\n",
    "plt.ylabel('$C_l$', fontsize=15)\n",
    "plt.xticks(alpha, label=alpha)\n",
    "plt.title(r'$C_l$ prediction - Airfoil 45 (%s) (training set) $\\epsilon$=%.4f' % (str(geo_train[44*16][0])[2:-1], epsilonCl),\n",
    "          fontsize=15)\n",
    "plt.legend(['True value', 'Predicted value'])\n",
    "plt.grid()\n",
    "plt.tight_layout()\n",
    "plt.show()\n",
    "\n",
    "plt.plot(alpha, airfoiltrain45_cd.reshape(16,), 'r', marker='o', lw=1)\n",
    "plt.plot(alpha, airfoiltrain45_predict[:,1,:].reshape(16,), c='b', marker='s')\n",
    "plt.xlabel(r'Angle of attack ($\\alpha$, degree)', fontsize=15)\n",
    "plt.ylabel('$C_d$', fontsize=15)\n",
    "plt.xticks(alpha, label=alpha)\n",
    "plt.title(r'$C_d$ prediction - Airfoil 45 (%s) (training set) $\\epsilon$=%.4f' % (str(geo_train[44*16][0])[2:-1], epsilonCd),\n",
    "          fontsize=15)\n",
    "plt.legend(['True value', 'Predicted value'])\n",
    "plt.grid()\n",
    "plt.tight_layout()\n",
    "plt.show()"
   ]
  },
  {
   "cell_type": "code",
   "execution_count": null,
   "id": "bf2c8512",
   "metadata": {},
   "outputs": [],
   "source": [
    "plt.scatter(y_train[:,0,:], decoded_train[:,0,:], c='r', s=20)\n",
    "plt.scatter(y_test[:,0,:], decoded_test[:,0,:], c='g', s=15)\n",
    "plt.xlabel('Original $C_l$', fontsize=15)\n",
    "plt.ylabel('Predicted $C_l$', fontsize=15)\n",
    "plt.title('Overall training accuracy ($C_l$)\\n1 CNN layer, 100 kernels', fontsize=15)\n",
    "\n",
    "plt.grid()\n",
    "plt.legend(['training', 'test'])\n",
    "plt.tight_layout()\n",
    "plt.show()"
   ]
  },
  {
   "cell_type": "code",
   "execution_count": null,
   "id": "382174c5",
   "metadata": {},
   "outputs": [],
   "source": [
    "plt.scatter(y_train[:,1,:], decoded_train[:,1,:], c='r', s=20)\n",
    "plt.scatter(y_test[:,1,:], decoded_test[:,1,:], c='g', s=15)\n",
    "plt.xlabel('Original $C_d$', fontsize=15)\n",
    "plt.ylabel('Predicted $C_d$', fontsize=15)\n",
    "plt.title('Overall training accuracy ($C_d$)\\n1 CNN layer, 100 kernels', fontsize=15)\n",
    "plt.grid()\n",
    "plt.legend(['training', 'test'])\n",
    "plt.tight_layout()\n",
    "plt.show()"
   ]
  },
  {
   "cell_type": "code",
   "execution_count": null,
   "id": "65431d06",
   "metadata": {},
   "outputs": [],
   "source": [
    "airfoiltest3_predict = decoded_test[16*2:16*3]\n",
    "\n",
    "airfoiltest3_cl=y_test[16*2:16*3,0,:]\n",
    "airfoiltest3_cd=y_test[16*2:16*3,1,:]\n",
    "\n",
    "epsilonCl = np.sqrt(np.sum((airfoiltest3_predict[:,0,:] - airfoiltest3_cl)**2) / np.sum(airfoiltest3_cl**2))\n",
    "epsilonCd = np.sqrt(np.sum((airfoiltest3_predict[:,1,:] - airfoiltest3_cd)**2) / np.sum(airfoiltest3_cd**2))\n",
    "\n",
    "plt.plot(alpha, airfoiltest3_cl.reshape(16,), 'r', marker='o', lw=1)\n",
    "plt.plot(alpha, airfoiltest3_predict[:,0,:].reshape(16,), marker='s', c='b')\n",
    "plt.xlabel(r'Angle of attack ($\\alpha$, degree)', fontsize=15)\n",
    "plt.ylabel('$C_l$', fontsize=15)\n",
    "plt.xticks(alpha, label=alpha)\n",
    "plt.title(r'$C_l$ prediction - Airfoil 3 (%s) (test set) $\\epsilon$=%.4f' % (str(geo_test[2*16][0])[2:-1], epsilonCl), fontsize=15)\n",
    "plt.legend(['True value', 'Predicted value'])\n",
    "plt.grid()\n",
    "plt.tight_layout()\n",
    "plt.show()\n",
    "\n",
    "plt.plot(alpha, airfoiltest3_cd.reshape(16,), 'r', marker='o', lw=1)\n",
    "plt.plot(alpha, airfoiltest3_predict[:,1,:].reshape(16,), marker='s',c='b')\n",
    "plt.xlabel(r'Angle of attack ($\\alpha$, degree)', fontsize=15)\n",
    "plt.ylabel('$C_d$', fontsize=15)\n",
    "plt.xticks(alpha, label=alpha)\n",
    "plt.title(r'$C_d$ prediction - Airfoil 3 (%s) (test set) $\\epsilon$=%.4f' % (str(geo_test[2*16][0])[2:-1], epsilonCd), fontsize=15)\n",
    "plt.legend(['True value', 'Predicted value'])\n",
    "plt.grid()\n",
    "plt.tight_layout()\n",
    "plt.show()"
   ]
  },
  {
   "cell_type": "code",
   "execution_count": null,
   "id": "ca9af217",
   "metadata": {},
   "outputs": [],
   "source": [
    "airfoiltest11_predict = decoded_test[16*5:16*6]\n",
    "\n",
    "airfoiltest11_cl=y_test[16*5:16*6,0,:]\n",
    "airfoiltest11_cd=y_test[16*5:16*6,1,:]\n",
    "\n",
    "epsilonCl = np.sqrt(np.sum((airfoiltest11_predict[:,0,:] - airfoiltest11_cl)**2) / np.sum(airfoiltest11_cl**2))\n",
    "epsilonCd = np.sqrt(np.sum((airfoiltest11_predict[:,1,:] - airfoiltest11_cd)**2) / np.sum(airfoiltest11_cd**2))\n",
    "\n",
    "plt.plot(alpha, airfoiltest11_cl.reshape(16,), c='r', marker='o', lw=1)\n",
    "plt.plot(alpha, airfoiltest11_predict[:,0,:].reshape(16,), c='b', marker='s')\n",
    "plt.xlabel(r'Angle of attack ($\\alpha$, degree)', fontsize=15)\n",
    "plt.ylabel('$C_l$', fontsize=15)\n",
    "plt.xticks(alpha, label=alpha)\n",
    "plt.title(r'$C_l$ prediction - Airfoil 6 (%s) (test set) $\\epsilon$=%.4f' % (str(geo_test[5*16][0])[2:-1], epsilonCl), fontsize=15)\n",
    "plt.legend(['True value', 'Predicted value'])\n",
    "plt.grid()\n",
    "plt.tight_layout()\n",
    "plt.show()\n",
    "\n",
    "plt.plot(alpha, airfoiltest11_cd.reshape(16,), c='r', marker='o', lw=1)\n",
    "plt.plot(alpha, airfoiltest11_predict[:,1,:].reshape(16,), c='b', marker='s')\n",
    "plt.xlabel(r'Angle of attack ($\\alpha$, degree)', fontsize=15)\n",
    "plt.ylabel('$C_d$', fontsize=15)\n",
    "plt.xticks(alpha, label=alpha)\n",
    "plt.title(r'$C_d$ prediction - Airfoil 6 (%s) (test set) $\\epsilon$=%.4f' % (str(geo_test[5*16][0])[2:-1], epsilonCd), fontsize=15)\n",
    "plt.legend(['True value', 'Predicted value'])\n",
    "plt.grid()\n",
    "plt.tight_layout()\n",
    "plt.show()"
   ]
  },
  {
   "cell_type": "code",
   "execution_count": null,
   "id": "532d376d",
   "metadata": {},
   "outputs": [],
   "source": []
  }
 ],
 "metadata": {
  "kernelspec": {
   "display_name": "Python 3 (ipykernel)",
   "language": "python",
   "name": "python3"
  },
  "language_info": {
   "codemirror_mode": {
    "name": "ipython",
    "version": 3
   },
   "file_extension": ".py",
   "mimetype": "text/x-python",
   "name": "python",
   "nbconvert_exporter": "python",
   "pygments_lexer": "ipython3",
   "version": "3.9.13"
  }
 },
 "nbformat": 4,
 "nbformat_minor": 5
}
