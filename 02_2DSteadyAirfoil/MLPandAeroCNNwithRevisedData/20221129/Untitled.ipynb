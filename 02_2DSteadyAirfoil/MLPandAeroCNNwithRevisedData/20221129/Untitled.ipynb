{
 "cells": [
  {
   "cell_type": "code",
   "execution_count": 1,
   "id": "21954c30",
   "metadata": {},
   "outputs": [],
   "source": [
    "import os\n",
    "import sys\n",
    "import numpy as np\n",
    "import pandas as pd\n",
    "import matplotlib.pyplot as plt\n",
    "import re\n",
    "import datetime\n",
    "%matplotlib inline"
   ]
  },
  {
   "cell_type": "code",
   "execution_count": 2,
   "id": "1d347cda",
   "metadata": {},
   "outputs": [],
   "source": [
    "main_directory = 'D:\\\\VAWT_data'\n",
    "cm_dir = main_directory + \"\\\\blade_1_cm_data\"\n",
    "cm_list = os.listdir(cm_dir)\n",
    "os.chdir(cm_dir)"
   ]
  },
  {
   "cell_type": "code",
   "execution_count": 18,
   "id": "5c875f64",
   "metadata": {},
   "outputs": [],
   "source": [
    "cm_target = [file for file in cm_list if file.endswith('.csv')]\n",
    "cm_target = sorted(cm_target, key=lambda s: int(re.search(r'\\d+',s).group()))\n",
    "cm_target = [cm_target[-4],] + cm_target[:-4] + cm_target[-3:]"
   ]
  },
  {
   "cell_type": "code",
   "execution_count": 6,
   "id": "81fa99e6",
   "metadata": {},
   "outputs": [],
   "source": [
    "cm_df = pd.DataFrame()\n",
    "for i, file in enumerate(cm_target):\n",
    "    data = pd.read_csv(file, header=None)\n",
    "    cm_df = pd.concat([cm_df, data], axis=0)"
   ]
  },
  {
   "cell_type": "code",
   "execution_count": 54,
   "id": "2a82b0c8",
   "metadata": {},
   "outputs": [],
   "source": [
    "df = pd.read_csv('case15cm_blade1.csv', header=None)"
   ]
  },
  {
   "cell_type": "code",
   "execution_count": 55,
   "id": "7f375f36",
   "metadata": {},
   "outputs": [],
   "source": [
    "time = df.iloc[:,0].values\n",
    "cm = df.iloc[:,1].values"
   ]
  },
  {
   "cell_type": "code",
   "execution_count": 59,
   "id": "2f9ac92a",
   "metadata": {},
   "outputs": [
    {
     "data": {
      "text/plain": [
       "(24941,)"
      ]
     },
     "execution_count": 59,
     "metadata": {},
     "output_type": "execute_result"
    }
   ],
   "source": [
    "time.shape"
   ]
  },
  {
   "cell_type": "code",
   "execution_count": 56,
   "id": "4f5a009b",
   "metadata": {},
   "outputs": [
    {
     "data": {
      "image/png": "[encoded data removed]",
      "text/plain": [
       "<Figure size 432x288 with 1 Axes>"
      ]
     },
     "metadata": {
      "needs_background": "light"
     },
     "output_type": "display_data"
    }
   ],
   "source": [
    "plt.plot(time,cm)\n",
    "plt.ylim([-0.3,0.3])\n",
    "plt.grid()"
   ]
  },
  {
   "cell_type": "code",
   "execution_count": 76,
   "id": "dcaa6100",
   "metadata": {},
   "outputs": [],
   "source": [
    "time_beUsed = time[np.where(np.logical_and(time>=10, time<15))]"
   ]
  },
  {
   "cell_type": "code",
   "execution_count": 77,
   "id": "583869ea",
   "metadata": {},
   "outputs": [],
   "source": [
    "cm_beUsed = cm[np.where(np.logical_and(time>=10, time<15))]"
   ]
  },
  {
   "cell_type": "code",
   "execution_count": 71,
   "id": "a7ded5ce",
   "metadata": {},
   "outputs": [],
   "source": [
    " time_u = np.unique(time_beUsed)"
   ]
  },
  {
   "cell_type": "code",
   "execution_count": 61,
   "id": "ae3b64b9",
   "metadata": {},
   "outputs": [
    {
     "data": {
      "text/plain": [
       "(4986,)"
      ]
     },
     "execution_count": 61,
     "metadata": {},
     "output_type": "execute_result"
    }
   ],
   "source": [
    "time_beUsed.shape"
   ]
  },
  {
   "cell_type": "code",
   "execution_count": 62,
   "id": "384e0b5f",
   "metadata": {},
   "outputs": [
    {
     "data": {
      "text/plain": [
       "10.001"
      ]
     },
     "execution_count": 62,
     "metadata": {},
     "output_type": "execute_result"
    }
   ],
   "source": [
    "time_beUsed[0]"
   ]
  },
  {
   "cell_type": "code",
   "execution_count": 63,
   "id": "3f1f80ce",
   "metadata": {},
   "outputs": [
    {
     "data": {
      "text/plain": [
       "14.999"
      ]
     },
     "execution_count": 63,
     "metadata": {},
     "output_type": "execute_result"
    }
   ],
   "source": [
    "time_beUsed[-1]"
   ]
  },
  {
   "cell_type": "code",
   "execution_count": 65,
   "id": "b33693cb",
   "metadata": {},
   "outputs": [
    {
     "data": {
      "text/plain": [
       "(array([14934], dtype=int64),)"
      ]
     },
     "execution_count": 65,
     "metadata": {},
     "output_type": "execute_result"
    }
   ],
   "source": [
    "np.where(time==time_beUsed[-1])"
   ]
  },
  {
   "cell_type": "code",
   "execution_count": 66,
   "id": "127e807b",
   "metadata": {},
   "outputs": [
    {
     "data": {
      "text/plain": [
       "15.0"
      ]
     },
     "execution_count": 66,
     "metadata": {},
     "output_type": "execute_result"
    }
   ],
   "source": [
    "time[14935]"
   ]
  },
  {
   "cell_type": "code",
   "execution_count": 67,
   "id": "e76c769b",
   "metadata": {},
   "outputs": [],
   "source": [
    "from scipy import interpolate"
   ]
  },
  {
   "cell_type": "code",
   "execution_count": 112,
   "id": "486d1e3e",
   "metadata": {},
   "outputs": [],
   "source": [
    "linear_func = interpolate.interp1d(time_beUsed,cm_beUsed, bounds_error=False,kind='quadratic', fill_value='extrapolate')"
   ]
  },
  {
   "cell_type": "code",
   "execution_count": 99,
   "id": "267bbad1",
   "metadata": {},
   "outputs": [],
   "source": [
    "# dup_index = []\n",
    "for i in range(len(time_beUsed)):\n",
    "    if time_beUsed[i]==time_beUsed[i-1]:\n",
    "        time_beUsed[i] += 0.0005"
   ]
  },
  {
   "cell_type": "code",
   "execution_count": 114,
   "id": "fa86c408",
   "metadata": {
    "scrolled": true
   },
   "outputs": [],
   "source": [
    "interval = np.arange(10, 15, 0.001)\n",
    "a=linear_func(interval)"
   ]
  },
  {
   "cell_type": "code",
   "execution_count": 116,
   "id": "ebb551ac",
   "metadata": {},
   "outputs": [
    {
     "data": {
      "text/plain": [
       "(5000,)"
      ]
     },
     "execution_count": 116,
     "metadata": {},
     "output_type": "execute_result"
    }
   ],
   "source": [
    "a.shape"
   ]
  },
  {
   "cell_type": "code",
   "execution_count": 117,
   "id": "d980185a",
   "metadata": {},
   "outputs": [
    {
     "data": {
      "text/plain": [
       "(5000,)"
      ]
     },
     "execution_count": 117,
     "metadata": {},
     "output_type": "execute_result"
    }
   ],
   "source": [
    "interval.shape"
   ]
  },
  {
   "cell_type": "code",
   "execution_count": 111,
   "id": "3af81fa9",
   "metadata": {},
   "outputs": [
    {
     "data": {
      "text/plain": [
       "0.005180600000002038"
      ]
     },
     "execution_count": 111,
     "metadata": {},
     "output_type": "execute_result"
    }
   ],
   "source": [
    "a[2]"
   ]
  },
  {
   "cell_type": "code",
   "execution_count": 108,
   "id": "31a4217f",
   "metadata": {},
   "outputs": [],
   "source": [
    "from collections import Counter"
   ]
  },
  {
   "cell_type": "code",
   "execution_count": 121,
   "id": "76269167",
   "metadata": {},
   "outputs": [
    {
     "data": {
      "image/png": "[encoded data removed]",
      "text/plain": [
       "<Figure size 576x432 with 1 Axes>"
      ]
     },
     "metadata": {
      "needs_background": "light"
     },
     "output_type": "display_data"
    }
   ],
   "source": [
    "plt.figure(figsize=(8,6))\n",
    "plt.plot(interval, a)\n",
    "plt.grid()"
   ]
  },
  {
   "cell_type": "code",
   "execution_count": null,
   "id": "2a6840da",
   "metadata": {},
   "outputs": [],
   "source": []
  }
 ],
 "metadata": {
  "kernelspec": {
   "display_name": "Python 3 (ipykernel)",
   "language": "python",
   "name": "python3"
  },
  "language_info": {
   "codemirror_mode": {
    "name": "ipython",
    "version": 3
   },
   "file_extension": ".py",
   "mimetype": "text/x-python",
   "name": "python",
   "nbconvert_exporter": "python",
   "pygments_lexer": "ipython3",
   "version": "3.9.13"
  }
 },
 "nbformat": 4,
 "nbformat_minor": 5
}
