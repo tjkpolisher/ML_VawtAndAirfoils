{
 "cells": [
  {
   "cell_type": "code",
   "execution_count": 1,
   "id": "5bc91fac",
   "metadata": {},
   "outputs": [],
   "source": [
    "# Validation of the steady-state simulation - Case 1: MLP\n",
    "import os\n",
    "import sys\n",
    "import numpy as np\n",
    "import pandas as pd\n",
    "import tensorflow as tf\n",
    "import matplotlib.pyplot as plt\n",
    "from sklearn.model_selection import train_test_split\n",
    "\n",
    "import datetime\n",
    "%matplotlib inline"
   ]
  },
  {
   "cell_type": "code",
   "execution_count": 2,
   "id": "d1130c26",
   "metadata": {},
   "outputs": [],
   "source": [
    "### Defining parameters and hyperparameters of the model\n",
    "\n",
    "n_units=128 # Number of units in the hidden layer of the MLP network\n",
    "input_size = 100 + 3 # Size of input for the network (100 coefficients and 3 other parameters, AoA, h, beta)\n",
    "lr = 1e-03 # Learning rate of the network\n",
    "test_rate=0.1 # Defines the ratio of training dataset and test dataset\n",
    "val_rate=0.2\n",
    "n_data = 16 # Number of txt files from which the aerodynamic coefficients are extracted\n",
    "batch_size = 20 # Mini-batch size"
   ]
  },
  {
   "cell_type": "code",
   "execution_count": 3,
   "id": "e6d84b05",
   "metadata": {},
   "outputs": [],
   "source": [
    "# Changing working directory\n",
    "\n",
    "main_directory = 'D:\\\\VAWT_data\\\\flap_steady\\\\flap_steady'\n",
    "os.chdir(main_directory)"
   ]
  },
  {
   "cell_type": "code",
   "execution_count": 4,
   "id": "3eb294db",
   "metadata": {},
   "outputs": [],
   "source": [
    "## Basic parameters\n",
    "\n",
    "c = 1 # Chord length\n",
    "h = np.array([0.01, 0.02, 0.03]) * c # Height of the Gurney flaps\n",
    "t = 0.02 * h # Thickness of the Gurney flaps\n",
    "alpha = np.linspace(0, 16, 9).reshape((9,1)) # Angles of attack\n",
    "beta = np.linspace(30, 90, 5).reshape((5,1))"
   ]
  },
  {
   "cell_type": "code",
   "execution_count": 5,
   "id": "18aaa915",
   "metadata": {},
   "outputs": [],
   "source": [
    "h = h.reshape((-1,1))\n",
    "t = t.reshape((-1,1))"
   ]
  },
  {
   "cell_type": "code",
   "execution_count": 6,
   "id": "d9745480",
   "metadata": {},
   "outputs": [],
   "source": [
    "n_alpha = alpha.shape[0] # Number of the angles of attack\n",
    "n_beta = beta.shape[0] # Number of the Gurney flap inclination\n",
    "n_h = h.shape[0] # Number of the height of the Gurney flaps\n",
    "n_cases = n_data * n_alpha # Total number of cases(Number of geometries * Number of angles of attack)"
   ]
  },
  {
   "cell_type": "code",
   "execution_count": 7,
   "id": "62d7f718",
   "metadata": {},
   "outputs": [],
   "source": [
    "## Creating Input dataset\n",
    "# Defining the angles of attack\n",
    "\n",
    "aa = np.zeros((n_cases,1))\n",
    "for i in range(0, n_data):\n",
    "    aa[n_alpha*i:n_alpha*(i+1),:] = alpha[:,:]"
   ]
  },
  {
   "cell_type": "code",
   "execution_count": 8,
   "id": "c5014fe8",
   "metadata": {},
   "outputs": [],
   "source": [
    "aa = aa / np.max(alpha)"
   ]
  },
  {
   "cell_type": "code",
   "execution_count": 9,
   "id": "2aa96208",
   "metadata": {},
   "outputs": [
    {
     "data": {
      "text/plain": [
       "(144, 1)"
      ]
     },
     "execution_count": 9,
     "metadata": {},
     "output_type": "execute_result"
    }
   ],
   "source": [
    "aa.shape"
   ]
  },
  {
   "cell_type": "code",
   "execution_count": 10,
   "id": "937cc8a8",
   "metadata": {},
   "outputs": [
    {
     "name": "stdout",
     "output_type": "stream",
     "text": [
      "(144, 1)\n"
     ]
    }
   ],
   "source": [
    "# Defining beta, the Gurney flap inclination\n",
    "# In case of mere NACA0018, the bb in those indexes are considered as zero.\n",
    "beta_0 = np.zeros((n_alpha,1)) # Values for sheer NACA0018\n",
    "b_ = np.ones((n_alpha,1)) # Template for the inclination for a single h and single beta\n",
    "bb_imp = np.zeros((n_alpha*n_beta,1))\n",
    "\n",
    "for j in range(n_beta):\n",
    "    b_imp = b_ * beta[j]\n",
    "    bb_imp[n_alpha*j:n_alpha*(j+1),:] = b_imp[:,:]\n",
    "    \n",
    "bb_imp = bb_imp.reshape((-1,1))\n",
    "\n",
    "bb = np.vstack((beta_0, bb_imp, bb_imp, bb_imp))\n",
    "bb = bb / np.max(beta)\n",
    "    \n",
    "print(bb.shape)"
   ]
  },
  {
   "cell_type": "code",
   "execution_count": 11,
   "id": "6302058e",
   "metadata": {},
   "outputs": [],
   "source": [
    "# Defining the Gurney flap height\n",
    "# In case of mere NACA0018, the hh in those indexes are considered as zero.\n",
    "\n",
    "hh = np.concatenate((np.zeros(n_alpha), h[0]*np.ones(n_beta*n_alpha), h[1]*np.ones(n_beta*n_alpha), h[2]*np.ones(n_beta*n_alpha)))\n",
    "hh = hh.reshape((-1,1))"
   ]
  },
  {
   "cell_type": "code",
   "execution_count": 12,
   "id": "174336d4",
   "metadata": {},
   "outputs": [],
   "source": [
    "hh = hh / np.max(h)"
   ]
  },
  {
   "cell_type": "code",
   "execution_count": 13,
   "id": "6a5737c2",
   "metadata": {},
   "outputs": [],
   "source": [
    "# Importing the coordinates of NACA0018 (airfoil15)\n",
    "origin_coord = \"D:\\\\AirfoilClCdCoordinates_out\\\\AirfoilClCdCoordinates_out\\\\airfoil15\"\n",
    "\n",
    "csv_file_name = origin_coord + '\\\\airfoilOut15.txt'\n",
    "data = pd.read_csv(csv_file_name, header=None)"
   ]
  },
  {
   "cell_type": "code",
   "execution_count": 14,
   "id": "41daf0e7",
   "metadata": {},
   "outputs": [],
   "source": [
    "baseline_coord = data.iloc[:,:].values"
   ]
  },
  {
   "cell_type": "code",
   "execution_count": 15,
   "id": "1cd4c984",
   "metadata": {},
   "outputs": [],
   "source": [
    "standard_coord = baseline_coord.reshape((1, -1))"
   ]
  },
  {
   "cell_type": "code",
   "execution_count": 16,
   "id": "6ba48669",
   "metadata": {},
   "outputs": [
    {
     "name": "stdout",
     "output_type": "stream",
     "text": [
      "(144, 100)\n"
     ]
    }
   ],
   "source": [
    "airfoil_coord = np.repeat(standard_coord, n_cases, axis=0)\n",
    "print(airfoil_coord.shape)"
   ]
  },
  {
   "cell_type": "code",
   "execution_count": 17,
   "id": "492ab857",
   "metadata": {},
   "outputs": [],
   "source": [
    "# The rows mean the number of points at the Gurney flap\n",
    "# and the columns mean the number of the cases\n",
    "flap_left = np.zeros((15,5))\n",
    "flap_right = np.zeros((15,5))\n",
    "\n",
    "for i in range(n_h):\n",
    "    # Defining coordinates of the flaps with respect to beta=90 degree.\n",
    "    yLeft = np.linspace(-h[i]/5, -h[i], 5).reshape((-1,1))\n",
    "    yRight = np.linspace(-h[i]/5, -h[i], 5).reshape((-1,1))\n",
    "    xLeft = 0.5*np.ones((5,1)) - 0.02*h[i]\n",
    "    xRight = 0.5*np.ones((5,1))\n",
    "    \n",
    "    for j in range(n_beta):\n",
    "        betaValue = beta[j]\n",
    "        \n",
    "        # Rotating transformation\n",
    "        rotateTransf = np.array([[np.cos(90-betaValue), -np.sin(90-betaValue)],\n",
    "                                 [np.sin(90-betaValue), np.cos(90-betaValue)]])\n",
    "        rotateTransf = rotateTransf.reshape((2,2))\n",
    "        \n",
    "        LeftImp = np.hstack((xLeft-0.5, yLeft))\n",
    "        RightImp = np.hstack((xRight-0.5, yRight))\n",
    "        \n",
    "        rotatedFlapLeft = rotateTransf @ LeftImp.T # shape: 2*5 (x-coordinates on first row, y-coordinates on second row)\n",
    "        rotatedFlapRight = rotateTransf @ RightImp.T\n",
    "        \n",
    "        # All we need is the y-coordinates of the flaps\n",
    "        flap_left[5*i+j,:] = rotatedFlapLeft[1,:]\n",
    "        flap_right[5*i+j,:] = rotatedFlapRight[1,:]"
   ]
  },
  {
   "cell_type": "code",
   "execution_count": 18,
   "id": "790fb777",
   "metadata": {},
   "outputs": [
    {
     "name": "stdout",
     "output_type": "stream",
     "text": [
      "(15, 10)\n"
     ]
    }
   ],
   "source": [
    "# Combining y-coordinates from the left and the right side of the flaps\n",
    "flap_coords = np.hstack((flap_left, np.flip(flap_right, axis=1)))\n",
    "print(flap_coords.shape)"
   ]
  },
  {
   "cell_type": "code",
   "execution_count": 19,
   "id": "66f6855a",
   "metadata": {},
   "outputs": [
    {
     "name": "stdout",
     "output_type": "stream",
     "text": [
      "(144, 10)\n"
     ]
    }
   ],
   "source": [
    "# Placing the flap_coords into total coordinate variable\n",
    "# Total coordinate = Airfoil coordinates + flap coordinates\n",
    "flap_coords2 = np.zeros((n_cases, 10))\n",
    "for i in range(n_alpha, n_cases):\n",
    "    flap_coords2[i,:] = flap_coords[i%15,:]\n",
    "    \n",
    "print(flap_coords2.shape)"
   ]
  },
  {
   "cell_type": "code",
   "execution_count": 20,
   "id": "8323888f",
   "metadata": {},
   "outputs": [
    {
     "name": "stdout",
     "output_type": "stream",
     "text": [
      "(144, 110)\n"
     ]
    }
   ],
   "source": [
    "total_coords = np.hstack((airfoil_coord, flap_coords2))\n",
    "print(total_coords.shape)"
   ]
  },
  {
   "cell_type": "code",
   "execution_count": 21,
   "id": "9d72e8a1",
   "metadata": {},
   "outputs": [],
   "source": [
    "x = np.hstack((aa, hh, bb, total_coords))"
   ]
  },
  {
   "cell_type": "code",
   "execution_count": 22,
   "id": "5b41130d",
   "metadata": {},
   "outputs": [],
   "source": [
    "## Creating output dataset - Cl and Cd\n",
    "files_orig = os.listdir(main_directory)\n",
    "files_target = [file for file in files_orig if file.endswith('.txt')]"
   ]
  },
  {
   "cell_type": "code",
   "execution_count": 23,
   "id": "f4c62765",
   "metadata": {},
   "outputs": [],
   "source": [
    "target_df = pd.DataFrame()\n",
    "for file in files_target:\n",
    "    data = pd.read_table(file, header=None)\n",
    "    target_df = pd.concat([target_df, data], axis=0)"
   ]
  },
  {
   "cell_type": "code",
   "execution_count": 24,
   "id": "ac849035",
   "metadata": {},
   "outputs": [],
   "source": [
    "target_c3 = target_df.iloc[:,3].values # Cd values\n",
    "target_c4 = target_df.iloc[:,4].values# Cl values"
   ]
  },
  {
   "cell_type": "code",
   "execution_count": 25,
   "id": "93bba2d8",
   "metadata": {},
   "outputs": [],
   "source": [
    "y = np.hstack((target_c3.reshape((-1,1)), target_c4.reshape((-1,1))))"
   ]
  },
  {
   "cell_type": "code",
   "execution_count": 26,
   "id": "7444ef68",
   "metadata": {},
   "outputs": [
    {
     "data": {
      "text/plain": [
       "(144, 2)"
      ]
     },
     "execution_count": 26,
     "metadata": {},
     "output_type": "execute_result"
    }
   ],
   "source": [
    "y.shape"
   ]
  },
  {
   "cell_type": "code",
   "execution_count": 27,
   "id": "37e418b7",
   "metadata": {},
   "outputs": [],
   "source": [
    "x_train, x_test, y_train, y_test = train_test_split(x, y, test_size=test_rate, random_state=1)"
   ]
  },
  {
   "cell_type": "code",
   "execution_count": 28,
   "id": "ec562b02",
   "metadata": {},
   "outputs": [],
   "source": [
    "x_train, x_val, y_train, y_val = train_test_split(x_train, y_train, test_size=val_rate/(1-test_rate), random_state=1)"
   ]
  },
  {
   "cell_type": "code",
   "execution_count": 29,
   "id": "1bbc2f4f",
   "metadata": {},
   "outputs": [
    {
     "data": {
      "text/plain": [
       "(100, 113)"
      ]
     },
     "execution_count": 29,
     "metadata": {},
     "output_type": "execute_result"
    }
   ],
   "source": [
    "x_train.shape"
   ]
  },
  {
   "cell_type": "code",
   "execution_count": 30,
   "id": "e00d21f9",
   "metadata": {},
   "outputs": [
    {
     "data": {
      "text/plain": [
       "(100, 2)"
      ]
     },
     "execution_count": 30,
     "metadata": {},
     "output_type": "execute_result"
    }
   ],
   "source": [
    "y_train.shape"
   ]
  },
  {
   "cell_type": "code",
   "execution_count": 31,
   "id": "82d60c5e",
   "metadata": {},
   "outputs": [],
   "source": [
    "tf.keras.backend.set_image_data_format('channels_last')"
   ]
  },
  {
   "cell_type": "code",
   "execution_count": 32,
   "id": "37290049",
   "metadata": {},
   "outputs": [],
   "source": [
    "input_data = tf.keras.Input(shape=(3+total_coords.shape[1]))\n",
    "\n",
    "x_fc1 = tf.keras.layers.Dense(units=n_units, activation='relu', name='fc1')(input_data)\n",
    "x_fc2 = tf.keras.layers.Dense(units=n_units, activation='relu', name='fc2')(x_fc1)\n",
    "x_fc3 = tf.keras.layers.Dense(units=n_units, activation='relu', name='fc3')(x_fc2)\n",
    "x_fc4 = tf.keras.layers.Dense(units=n_units, activation='relu', name='fc4')(x_fc3)\n",
    "x_fc5 = tf.keras.layers.Dense(units=16, activation='relu', name='fc5')(x_fc4)\n",
    "\n",
    "output_data = tf.keras.layers.Dense(units=2, activation='linear', name='outputLayer')(x_fc5)\n",
    "# MLP(FC layer)-based\n",
    "model = tf.keras.Model(input_data, output_data)"
   ]
  },
  {
   "cell_type": "code",
   "execution_count": 33,
   "id": "e3c482f9",
   "metadata": {},
   "outputs": [
    {
     "name": "stdout",
     "output_type": "stream",
     "text": [
      "Model: \"model\"\n",
      "_________________________________________________________________\n",
      " Layer (type)                Output Shape              Param #   \n",
      "=================================================================\n",
      " input_1 (InputLayer)        [(None, 113)]             0         \n",
      "                                                                 \n",
      " fc1 (Dense)                 (None, 128)               14592     \n",
      "                                                                 \n",
      " fc2 (Dense)                 (None, 128)               16512     \n",
      "                                                                 \n",
      " fc3 (Dense)                 (None, 128)               16512     \n",
      "                                                                 \n",
      " fc4 (Dense)                 (None, 128)               16512     \n",
      "                                                                 \n",
      " fc5 (Dense)                 (None, 16)                2064      \n",
      "                                                                 \n",
      " outputLayer (Dense)         (None, 2)                 34        \n",
      "                                                                 \n",
      "=================================================================\n",
      "Total params: 66,226\n",
      "Trainable params: 66,226\n",
      "Non-trainable params: 0\n",
      "_________________________________________________________________\n"
     ]
    }
   ],
   "source": [
    "model.summary()"
   ]
  },
  {
   "cell_type": "code",
   "execution_count": 34,
   "id": "30f3abdd",
   "metadata": {},
   "outputs": [],
   "source": [
    "model.compile(optimizer=tf.keras.optimizers.Adam(learning_rate=lr),\n",
    "              loss = tf.keras.losses.MeanSquaredError(),\n",
    "              metrics=[tf.keras.metrics.RootMeanSquaredError(name=\"rmse\")])"
   ]
  },
  {
   "cell_type": "code",
   "execution_count": 35,
   "id": "cf477620",
   "metadata": {},
   "outputs": [],
   "source": [
    "es = tf.keras.callbacks.EarlyStopping(monitor='loss', patience=100, min_delta=6e-7,\n",
    "                                      restore_best_weights=True, verbose=1)\n",
    "rp = tf.keras.callbacks.ReduceLROnPlateau(monitor='loss', patience=70, factor=0.5,\n",
    "                                          min_delta = 1e-07, min_lr=1e-06,\n",
    "                                          verbose=1)"
   ]
  },
  {
   "cell_type": "code",
   "execution_count": 36,
   "id": "e4cc904c",
   "metadata": {},
   "outputs": [],
   "source": [
    "STEP_SIZE_TRAIN = len(x_train)//batch_size"
   ]
  },
  {
   "cell_type": "code",
   "execution_count": 37,
   "id": "17d6b26e",
   "metadata": {
    "scrolled": true
   },
   "outputs": [
    {
     "name": "stdout",
     "output_type": "stream",
     "text": [
      "Epoch 1/5000\n",
      "5/5 [==============================] - 1s 76ms/step - loss: 0.6145 - rmse: 0.7839 - val_loss: 0.4880 - val_rmse: 0.6986 - lr: 0.0010\n",
      "Epoch 2/5000\n",
      "5/5 [==============================] - 0s 10ms/step - loss: 0.3045 - rmse: 0.5518 - val_loss: 0.1291 - val_rmse: 0.3593 - lr: 0.0010\n",
      "Epoch 3/5000\n",
      "5/5 [==============================] - 0s 11ms/step - loss: 0.1347 - rmse: 0.3670 - val_loss: 0.1372 - val_rmse: 0.3704 - lr: 0.0010\n",
      "Epoch 4/5000\n",
      "5/5 [==============================] - 0s 10ms/step - loss: 0.1191 - rmse: 0.3451 - val_loss: 0.0790 - val_rmse: 0.2811 - lr: 0.0010\n",
      "Epoch 5/5000\n",
      "5/5 [==============================] - 0s 10ms/step - loss: 0.0850 - rmse: 0.2915 - val_loss: 0.0918 - val_rmse: 0.3030 - lr: 0.0010\n",
      "Epoch 6/5000\n",
      "5/5 [==============================] - 0s 10ms/step - loss: 0.0680 - rmse: 0.2608 - val_loss: 0.0460 - val_rmse: 0.2145 - lr: 0.0010\n",
      "Epoch 7/5000\n",
      "5/5 [==============================] - 0s 10ms/step - loss: 0.0452 - rmse: 0.2126 - val_loss: 0.0392 - val_rmse: 0.1979 - lr: 0.0010\n",
      "Epoch 8/5000\n",
      "5/5 [==============================] - 0s 10ms/step - loss: 0.0336 - rmse: 0.1833 - val_loss: 0.0347 - val_rmse: 0.1863 - lr: 0.0010\n",
      "Epoch 9/5000\n",
      "5/5 [==============================] - 0s 11ms/step - loss: 0.0280 - rmse: 0.1674 - val_loss: 0.0228 - val_rmse: 0.1511 - lr: 0.0010\n",
      "Epoch 10/5000\n",
      "5/5 [==============================] - 0s 10ms/step - loss: 0.0212 - rmse: 0.1456 - val_loss: 0.0197 - val_rmse: 0.1404 - lr: 0.0010\n",
      "Epoch 11/5000\n",
      "5/5 [==============================] - 0s 10ms/step - loss: 0.0201 - rmse: 0.1418 - val_loss: 0.0188 - val_rmse: 0.1372 - lr: 0.0010\n",
      "Epoch 12/5000\n",
      "5/5 [==============================] - 0s 11ms/step - loss: 0.0186 - rmse: 0.1366 - val_loss: 0.0152 - val_rmse: 0.1231 - lr: 0.0010\n",
      "Epoch 13/5000\n",
      "5/5 [==============================] - 0s 11ms/step - loss: 0.0174 - rmse: 0.1321 - val_loss: 0.0140 - val_rmse: 0.1185 - lr: 0.0010\n",
      "Epoch 14/5000\n",
      "5/5 [==============================] - 0s 11ms/step - loss: 0.0164 - rmse: 0.1279 - val_loss: 0.0157 - val_rmse: 0.1253 - lr: 0.0010\n",
      "Epoch 15/5000\n",
      "5/5 [==============================] - 0s 11ms/step - loss: 0.0167 - rmse: 0.1292 - val_loss: 0.0130 - val_rmse: 0.1141 - lr: 0.0010\n",
      "Epoch 16/5000\n",
      "5/5 [==============================] - 0s 11ms/step - loss: 0.0161 - rmse: 0.1268 - val_loss: 0.0158 - val_rmse: 0.1257 - lr: 0.0010\n",
      "Epoch 17/5000\n",
      "5/5 [==============================] - 0s 10ms/step - loss: 0.0171 - rmse: 0.1310 - val_loss: 0.0125 - val_rmse: 0.1118 - lr: 0.0010\n",
      "Epoch 18/5000\n",
      "5/5 [==============================] - 0s 11ms/step - loss: 0.0156 - rmse: 0.1247 - val_loss: 0.0162 - val_rmse: 0.1274 - lr: 0.0010\n",
      "Epoch 19/5000\n",
      "5/5 [==============================] - 0s 10ms/step - loss: 0.0164 - rmse: 0.1279 - val_loss: 0.0122 - val_rmse: 0.1105 - lr: 0.0010\n",
      "Epoch 20/5000\n",
      "5/5 [==============================] - 0s 11ms/step - loss: 0.0155 - rmse: 0.1243 - val_loss: 0.0151 - val_rmse: 0.1230 - lr: 0.0010\n",
      "Epoch 21/5000\n",
      "5/5 [==============================] - 0s 11ms/step - loss: 0.0142 - rmse: 0.1191 - val_loss: 0.0118 - val_rmse: 0.1087 - lr: 0.0010\n",
      "Epoch 22/5000\n",
      "5/5 [==============================] - 0s 11ms/step - loss: 0.0141 - rmse: 0.1187 - val_loss: 0.0134 - val_rmse: 0.1158 - lr: 0.0010\n",
      "Epoch 23/5000\n",
      "5/5 [==============================] - 0s 11ms/step - loss: 0.0142 - rmse: 0.1190 - val_loss: 0.0114 - val_rmse: 0.1069 - lr: 0.0010\n",
      "Epoch 24/5000\n",
      "5/5 [==============================] - 0s 11ms/step - loss: 0.0144 - rmse: 0.1201 - val_loss: 0.0118 - val_rmse: 0.1088 - lr: 0.0010\n",
      "Epoch 25/5000\n",
      "5/5 [==============================] - 0s 12ms/step - loss: 0.0138 - rmse: 0.1173 - val_loss: 0.0117 - val_rmse: 0.1082 - lr: 0.0010\n",
      "Epoch 26/5000\n",
      "5/5 [==============================] - 0s 11ms/step - loss: 0.0139 - rmse: 0.1179 - val_loss: 0.0115 - val_rmse: 0.1070 - lr: 0.0010\n",
      "Epoch 27/5000\n",
      "5/5 [==============================] - 0s 11ms/step - loss: 0.0140 - rmse: 0.1181 - val_loss: 0.0117 - val_rmse: 0.1081 - lr: 0.0010\n",
      "Epoch 28/5000\n",
      "5/5 [==============================] - 0s 11ms/step - loss: 0.0134 - rmse: 0.1156 - val_loss: 0.0107 - val_rmse: 0.1033 - lr: 0.0010\n",
      "Epoch 29/5000\n",
      "5/5 [==============================] - 0s 11ms/step - loss: 0.0149 - rmse: 0.1222 - val_loss: 0.0105 - val_rmse: 0.1025 - lr: 0.0010\n",
      "Epoch 30/5000\n",
      "5/5 [==============================] - 0s 11ms/step - loss: 0.0138 - rmse: 0.1174 - val_loss: 0.0116 - val_rmse: 0.1078 - lr: 0.0010\n",
      "Epoch 31/5000\n",
      "5/5 [==============================] - 0s 12ms/step - loss: 0.0134 - rmse: 0.1157 - val_loss: 0.0101 - val_rmse: 0.1007 - lr: 0.0010\n",
      "Epoch 32/5000\n",
      "5/5 [==============================] - 0s 13ms/step - loss: 0.0128 - rmse: 0.1133 - val_loss: 0.0112 - val_rmse: 0.1058 - lr: 0.0010\n",
      "Epoch 33/5000\n",
      "5/5 [==============================] - 0s 14ms/step - loss: 0.0126 - rmse: 0.1121 - val_loss: 0.0099 - val_rmse: 0.0994 - lr: 0.0010\n",
      "Epoch 34/5000\n",
      "5/5 [==============================] - 0s 12ms/step - loss: 0.0132 - rmse: 0.1147 - val_loss: 0.0117 - val_rmse: 0.1080 - lr: 0.0010\n",
      "Epoch 35/5000\n",
      "5/5 [==============================] - 0s 12ms/step - loss: 0.0117 - rmse: 0.1082 - val_loss: 0.0099 - val_rmse: 0.0994 - lr: 0.0010\n",
      "Epoch 36/5000\n",
      "5/5 [==============================] - 0s 12ms/step - loss: 0.0116 - rmse: 0.1076 - val_loss: 0.0097 - val_rmse: 0.0987 - lr: 0.0010\n",
      "Epoch 37/5000\n",
      "5/5 [==============================] - 0s 12ms/step - loss: 0.0115 - rmse: 0.1072 - val_loss: 0.0118 - val_rmse: 0.1087 - lr: 0.0010\n",
      "Epoch 38/5000\n",
      "5/5 [==============================] - 0s 11ms/step - loss: 0.0117 - rmse: 0.1084 - val_loss: 0.0093 - val_rmse: 0.0962 - lr: 0.0010\n",
      "Epoch 39/5000\n",
      "5/5 [==============================] - 0s 12ms/step - loss: 0.0122 - rmse: 0.1104 - val_loss: 0.0091 - val_rmse: 0.0953 - lr: 0.0010\n",
      "Epoch 40/5000\n",
      "5/5 [==============================] - 0s 11ms/step - loss: 0.0116 - rmse: 0.1077 - val_loss: 0.0123 - val_rmse: 0.1107 - lr: 0.0010\n",
      "Epoch 41/5000\n",
      "5/5 [==============================] - 0s 13ms/step - loss: 0.0117 - rmse: 0.1084 - val_loss: 0.0094 - val_rmse: 0.0967 - lr: 0.0010\n",
      "Epoch 42/5000\n",
      "5/5 [==============================] - 0s 13ms/step - loss: 0.0124 - rmse: 0.1113 - val_loss: 0.0111 - val_rmse: 0.1055 - lr: 0.0010\n",
      "Epoch 43/5000\n",
      "5/5 [==============================] - 0s 14ms/step - loss: 0.0103 - rmse: 0.1013 - val_loss: 0.0088 - val_rmse: 0.0939 - lr: 0.0010\n",
      "Epoch 44/5000\n",
      "5/5 [==============================] - 0s 12ms/step - loss: 0.0110 - rmse: 0.1047 - val_loss: 0.0101 - val_rmse: 0.1003 - lr: 0.0010\n",
      "Epoch 45/5000\n",
      "5/5 [==============================] - 0s 14ms/step - loss: 0.0100 - rmse: 0.1000 - val_loss: 0.0088 - val_rmse: 0.0936 - lr: 0.0010\n",
      "Epoch 46/5000\n",
      "5/5 [==============================] - 0s 13ms/step - loss: 0.0099 - rmse: 0.0994 - val_loss: 0.0103 - val_rmse: 0.1013 - lr: 0.0010\n",
      "Epoch 47/5000\n",
      "5/5 [==============================] - 0s 13ms/step - loss: 0.0098 - rmse: 0.0989 - val_loss: 0.0087 - val_rmse: 0.0932 - lr: 0.0010\n",
      "Epoch 48/5000\n",
      "5/5 [==============================] - 0s 12ms/step - loss: 0.0115 - rmse: 0.1074 - val_loss: 0.0145 - val_rmse: 0.1206 - lr: 0.0010\n",
      "Epoch 49/5000\n",
      "5/5 [==============================] - 0s 13ms/step - loss: 0.0102 - rmse: 0.1008 - val_loss: 0.0095 - val_rmse: 0.0972 - lr: 0.0010\n",
      "Epoch 50/5000\n",
      "5/5 [==============================] - 0s 12ms/step - loss: 0.0112 - rmse: 0.1060 - val_loss: 0.0157 - val_rmse: 0.1254 - lr: 0.0010\n",
      "Epoch 51/5000\n",
      "5/5 [==============================] - 0s 13ms/step - loss: 0.0122 - rmse: 0.1105 - val_loss: 0.0093 - val_rmse: 0.0965 - lr: 0.0010\n",
      "Epoch 52/5000\n",
      "5/5 [==============================] - 0s 13ms/step - loss: 0.0108 - rmse: 0.1039 - val_loss: 0.0109 - val_rmse: 0.1044 - lr: 0.0010\n",
      "Epoch 53/5000\n",
      "5/5 [==============================] - 0s 13ms/step - loss: 0.0105 - rmse: 0.1025 - val_loss: 0.0081 - val_rmse: 0.0900 - lr: 0.0010\n",
      "Epoch 54/5000\n",
      "5/5 [==============================] - 0s 13ms/step - loss: 0.0094 - rmse: 0.0970 - val_loss: 0.0085 - val_rmse: 0.0923 - lr: 0.0010\n",
      "Epoch 55/5000\n",
      "5/5 [==============================] - 0s 12ms/step - loss: 0.0093 - rmse: 0.0965 - val_loss: 0.0089 - val_rmse: 0.0945 - lr: 0.0010\n",
      "Epoch 56/5000\n",
      "5/5 [==============================] - 0s 13ms/step - loss: 0.0087 - rmse: 0.0932 - val_loss: 0.0079 - val_rmse: 0.0887 - lr: 0.0010\n"
     ]
    },
    {
     "name": "stdout",
     "output_type": "stream",
     "text": [
      "Epoch 57/5000\n",
      "5/5 [==============================] - 0s 13ms/step - loss: 0.0091 - rmse: 0.0954 - val_loss: 0.0107 - val_rmse: 0.1033 - lr: 0.0010\n",
      "Epoch 58/5000\n",
      "5/5 [==============================] - 0s 13ms/step - loss: 0.0092 - rmse: 0.0958 - val_loss: 0.0070 - val_rmse: 0.0836 - lr: 0.0010\n",
      "Epoch 59/5000\n",
      "5/5 [==============================] - 0s 13ms/step - loss: 0.0084 - rmse: 0.0917 - val_loss: 0.0076 - val_rmse: 0.0873 - lr: 0.0010\n",
      "Epoch 60/5000\n",
      "5/5 [==============================] - 0s 13ms/step - loss: 0.0095 - rmse: 0.0976 - val_loss: 0.0105 - val_rmse: 0.1025 - lr: 0.0010\n",
      "Epoch 61/5000\n",
      "5/5 [==============================] - 0s 13ms/step - loss: 0.0091 - rmse: 0.0955 - val_loss: 0.0078 - val_rmse: 0.0884 - lr: 0.0010\n",
      "Epoch 62/5000\n",
      "5/5 [==============================] - 0s 14ms/step - loss: 0.0084 - rmse: 0.0915 - val_loss: 0.0127 - val_rmse: 0.1125 - lr: 0.0010\n",
      "Epoch 63/5000\n",
      "5/5 [==============================] - 0s 12ms/step - loss: 0.0094 - rmse: 0.0970 - val_loss: 0.0080 - val_rmse: 0.0896 - lr: 0.0010\n",
      "Epoch 64/5000\n",
      "5/5 [==============================] - 0s 12ms/step - loss: 0.0095 - rmse: 0.0976 - val_loss: 0.0098 - val_rmse: 0.0991 - lr: 0.0010\n",
      "Epoch 65/5000\n",
      "5/5 [==============================] - 0s 13ms/step - loss: 0.0092 - rmse: 0.0958 - val_loss: 0.0067 - val_rmse: 0.0817 - lr: 0.0010\n",
      "Epoch 66/5000\n",
      "5/5 [==============================] - 0s 13ms/step - loss: 0.0088 - rmse: 0.0936 - val_loss: 0.0070 - val_rmse: 0.0838 - lr: 0.0010\n",
      "Epoch 67/5000\n",
      "5/5 [==============================] - 0s 12ms/step - loss: 0.0089 - rmse: 0.0943 - val_loss: 0.0133 - val_rmse: 0.1153 - lr: 0.0010\n",
      "Epoch 68/5000\n",
      "5/5 [==============================] - 0s 13ms/step - loss: 0.0087 - rmse: 0.0932 - val_loss: 0.0076 - val_rmse: 0.0873 - lr: 0.0010\n",
      "Epoch 69/5000\n",
      "5/5 [==============================] - 0s 12ms/step - loss: 0.0088 - rmse: 0.0939 - val_loss: 0.0136 - val_rmse: 0.1165 - lr: 0.0010\n",
      "Epoch 70/5000\n",
      "5/5 [==============================] - 0s 12ms/step - loss: 0.0086 - rmse: 0.0928 - val_loss: 0.0068 - val_rmse: 0.0824 - lr: 0.0010\n",
      "Epoch 71/5000\n",
      "5/5 [==============================] - 0s 13ms/step - loss: 0.0083 - rmse: 0.0912 - val_loss: 0.0074 - val_rmse: 0.0858 - lr: 0.0010\n",
      "Epoch 72/5000\n",
      "5/5 [==============================] - 0s 13ms/step - loss: 0.0068 - rmse: 0.0825 - val_loss: 0.0062 - val_rmse: 0.0789 - lr: 0.0010\n",
      "Epoch 73/5000\n",
      "5/5 [==============================] - 0s 14ms/step - loss: 0.0067 - rmse: 0.0818 - val_loss: 0.0059 - val_rmse: 0.0768 - lr: 0.0010\n",
      "Epoch 74/5000\n",
      "5/5 [==============================] - 0s 13ms/step - loss: 0.0076 - rmse: 0.0869 - val_loss: 0.0103 - val_rmse: 0.1017 - lr: 0.0010\n",
      "Epoch 75/5000\n",
      "5/5 [==============================] - 0s 13ms/step - loss: 0.0067 - rmse: 0.0818 - val_loss: 0.0055 - val_rmse: 0.0741 - lr: 0.0010\n",
      "Epoch 76/5000\n",
      "5/5 [==============================] - 0s 14ms/step - loss: 0.0062 - rmse: 0.0785 - val_loss: 0.0059 - val_rmse: 0.0770 - lr: 0.0010\n",
      "Epoch 77/5000\n",
      "5/5 [==============================] - 0s 13ms/step - loss: 0.0055 - rmse: 0.0742 - val_loss: 0.0058 - val_rmse: 0.0763 - lr: 0.0010\n",
      "Epoch 78/5000\n",
      "5/5 [==============================] - 0s 13ms/step - loss: 0.0056 - rmse: 0.0748 - val_loss: 0.0046 - val_rmse: 0.0678 - lr: 0.0010\n",
      "Epoch 79/5000\n",
      "5/5 [==============================] - 0s 13ms/step - loss: 0.0049 - rmse: 0.0699 - val_loss: 0.0047 - val_rmse: 0.0688 - lr: 0.0010\n",
      "Epoch 80/5000\n",
      "5/5 [==============================] - 0s 13ms/step - loss: 0.0046 - rmse: 0.0678 - val_loss: 0.0047 - val_rmse: 0.0688 - lr: 0.0010\n",
      "Epoch 81/5000\n",
      "5/5 [==============================] - 0s 13ms/step - loss: 0.0051 - rmse: 0.0711 - val_loss: 0.0047 - val_rmse: 0.0688 - lr: 0.0010\n",
      "Epoch 82/5000\n",
      "5/5 [==============================] - 0s 13ms/step - loss: 0.0048 - rmse: 0.0689 - val_loss: 0.0041 - val_rmse: 0.0639 - lr: 0.0010\n",
      "Epoch 83/5000\n",
      "5/5 [==============================] - 0s 13ms/step - loss: 0.0042 - rmse: 0.0650 - val_loss: 0.0058 - val_rmse: 0.0762 - lr: 0.0010\n",
      "Epoch 84/5000\n",
      "5/5 [==============================] - 0s 13ms/step - loss: 0.0046 - rmse: 0.0682 - val_loss: 0.0040 - val_rmse: 0.0633 - lr: 0.0010\n",
      "Epoch 85/5000\n",
      "5/5 [==============================] - 0s 13ms/step - loss: 0.0039 - rmse: 0.0624 - val_loss: 0.0039 - val_rmse: 0.0625 - lr: 0.0010\n",
      "Epoch 86/5000\n",
      "5/5 [==============================] - 0s 13ms/step - loss: 0.0040 - rmse: 0.0632 - val_loss: 0.0061 - val_rmse: 0.0779 - lr: 0.0010\n",
      "Epoch 87/5000\n",
      "5/5 [==============================] - 0s 13ms/step - loss: 0.0037 - rmse: 0.0605 - val_loss: 0.0038 - val_rmse: 0.0614 - lr: 0.0010\n",
      "Epoch 88/5000\n",
      "5/5 [==============================] - 0s 14ms/step - loss: 0.0035 - rmse: 0.0591 - val_loss: 0.0030 - val_rmse: 0.0548 - lr: 0.0010\n",
      "Epoch 89/5000\n",
      "5/5 [==============================] - 0s 12ms/step - loss: 0.0039 - rmse: 0.0626 - val_loss: 0.0056 - val_rmse: 0.0750 - lr: 0.0010\n",
      "Epoch 90/5000\n",
      "5/5 [==============================] - 0s 13ms/step - loss: 0.0035 - rmse: 0.0593 - val_loss: 0.0036 - val_rmse: 0.0599 - lr: 0.0010\n",
      "Epoch 91/5000\n",
      "5/5 [==============================] - 0s 13ms/step - loss: 0.0029 - rmse: 0.0536 - val_loss: 0.0031 - val_rmse: 0.0557 - lr: 0.0010\n",
      "Epoch 92/5000\n",
      "5/5 [==============================] - 0s 13ms/step - loss: 0.0027 - rmse: 0.0515 - val_loss: 0.0034 - val_rmse: 0.0586 - lr: 0.0010\n",
      "Epoch 93/5000\n",
      "5/5 [==============================] - 0s 13ms/step - loss: 0.0028 - rmse: 0.0527 - val_loss: 0.0035 - val_rmse: 0.0588 - lr: 0.0010\n",
      "Epoch 94/5000\n",
      "5/5 [==============================] - 0s 12ms/step - loss: 0.0030 - rmse: 0.0550 - val_loss: 0.0026 - val_rmse: 0.0513 - lr: 0.0010\n",
      "Epoch 95/5000\n",
      "5/5 [==============================] - 0s 13ms/step - loss: 0.0036 - rmse: 0.0603 - val_loss: 0.0026 - val_rmse: 0.0507 - lr: 0.0010\n",
      "Epoch 96/5000\n",
      "5/5 [==============================] - 0s 13ms/step - loss: 0.0031 - rmse: 0.0554 - val_loss: 0.0043 - val_rmse: 0.0654 - lr: 0.0010\n",
      "Epoch 97/5000\n",
      "5/5 [==============================] - 0s 13ms/step - loss: 0.0044 - rmse: 0.0664 - val_loss: 0.0038 - val_rmse: 0.0612 - lr: 0.0010\n",
      "Epoch 98/5000\n",
      "5/5 [==============================] - 0s 13ms/step - loss: 0.0025 - rmse: 0.0498 - val_loss: 0.0060 - val_rmse: 0.0774 - lr: 0.0010\n",
      "Epoch 99/5000\n",
      "5/5 [==============================] - 0s 12ms/step - loss: 0.0040 - rmse: 0.0634 - val_loss: 0.0030 - val_rmse: 0.0546 - lr: 0.0010\n",
      "Epoch 100/5000\n",
      "5/5 [==============================] - 0s 13ms/step - loss: 0.0027 - rmse: 0.0517 - val_loss: 0.0030 - val_rmse: 0.0551 - lr: 0.0010\n",
      "Epoch 101/5000\n",
      "5/5 [==============================] - 0s 13ms/step - loss: 0.0022 - rmse: 0.0472 - val_loss: 0.0025 - val_rmse: 0.0497 - lr: 0.0010\n",
      "Epoch 102/5000\n",
      "5/5 [==============================] - 0s 14ms/step - loss: 0.0015 - rmse: 0.0383 - val_loss: 0.0026 - val_rmse: 0.0505 - lr: 0.0010\n",
      "Epoch 103/5000\n",
      "5/5 [==============================] - 0s 13ms/step - loss: 0.0012 - rmse: 0.0353 - val_loss: 0.0020 - val_rmse: 0.0453 - lr: 0.0010\n",
      "Epoch 104/5000\n",
      "5/5 [==============================] - 0s 12ms/step - loss: 0.0016 - rmse: 0.0400 - val_loss: 0.0021 - val_rmse: 0.0462 - lr: 0.0010\n",
      "Epoch 105/5000\n",
      "5/5 [==============================] - 0s 13ms/step - loss: 0.0019 - rmse: 0.0439 - val_loss: 0.0022 - val_rmse: 0.0471 - lr: 0.0010\n",
      "Epoch 106/5000\n",
      "5/5 [==============================] - 0s 13ms/step - loss: 0.0018 - rmse: 0.0425 - val_loss: 0.0042 - val_rmse: 0.0646 - lr: 0.0010\n",
      "Epoch 107/5000\n",
      "5/5 [==============================] - 0s 13ms/step - loss: 0.0028 - rmse: 0.0528 - val_loss: 0.0024 - val_rmse: 0.0488 - lr: 0.0010\n",
      "Epoch 108/5000\n",
      "5/5 [==============================] - 0s 13ms/step - loss: 0.0029 - rmse: 0.0534 - val_loss: 0.0046 - val_rmse: 0.0680 - lr: 0.0010\n",
      "Epoch 109/5000\n",
      "5/5 [==============================] - 0s 12ms/step - loss: 0.0033 - rmse: 0.0579 - val_loss: 0.0019 - val_rmse: 0.0438 - lr: 0.0010\n",
      "Epoch 110/5000\n",
      "5/5 [==============================] - 0s 13ms/step - loss: 0.0027 - rmse: 0.0524 - val_loss: 0.0051 - val_rmse: 0.0713 - lr: 0.0010\n",
      "Epoch 111/5000\n",
      "5/5 [==============================] - 0s 13ms/step - loss: 0.0022 - rmse: 0.0465 - val_loss: 0.0017 - val_rmse: 0.0414 - lr: 0.0010\n",
      "Epoch 112/5000\n",
      "5/5 [==============================] - 0s 13ms/step - loss: 0.0013 - rmse: 0.0361 - val_loss: 0.0012 - val_rmse: 0.0350 - lr: 0.0010\n"
     ]
    },
    {
     "name": "stdout",
     "output_type": "stream",
     "text": [
      "Epoch 113/5000\n",
      "5/5 [==============================] - 0s 13ms/step - loss: 8.2090e-04 - rmse: 0.0287 - val_loss: 0.0013 - val_rmse: 0.0356 - lr: 0.0010\n",
      "Epoch 114/5000\n",
      "5/5 [==============================] - 0s 13ms/step - loss: 7.1385e-04 - rmse: 0.0267 - val_loss: 0.0018 - val_rmse: 0.0425 - lr: 0.0010\n",
      "Epoch 115/5000\n",
      "5/5 [==============================] - 0s 13ms/step - loss: 6.8573e-04 - rmse: 0.0262 - val_loss: 9.5913e-04 - val_rmse: 0.0310 - lr: 0.0010\n",
      "Epoch 116/5000\n",
      "5/5 [==============================] - 0s 13ms/step - loss: 5.0584e-04 - rmse: 0.0225 - val_loss: 0.0011 - val_rmse: 0.0338 - lr: 0.0010\n",
      "Epoch 117/5000\n",
      "5/5 [==============================] - 0s 12ms/step - loss: 7.0797e-04 - rmse: 0.0266 - val_loss: 0.0012 - val_rmse: 0.0340 - lr: 0.0010\n",
      "Epoch 118/5000\n",
      "5/5 [==============================] - 0s 13ms/step - loss: 6.8570e-04 - rmse: 0.0262 - val_loss: 0.0020 - val_rmse: 0.0447 - lr: 0.0010\n",
      "Epoch 119/5000\n",
      "5/5 [==============================] - 0s 12ms/step - loss: 7.4741e-04 - rmse: 0.0273 - val_loss: 0.0012 - val_rmse: 0.0339 - lr: 0.0010\n",
      "Epoch 120/5000\n",
      "5/5 [==============================] - 0s 13ms/step - loss: 9.5457e-04 - rmse: 0.0309 - val_loss: 0.0013 - val_rmse: 0.0362 - lr: 0.0010\n",
      "Epoch 121/5000\n",
      "5/5 [==============================] - 0s 13ms/step - loss: 6.2898e-04 - rmse: 0.0251 - val_loss: 0.0014 - val_rmse: 0.0371 - lr: 0.0010\n",
      "Epoch 122/5000\n",
      "5/5 [==============================] - 0s 12ms/step - loss: 6.6192e-04 - rmse: 0.0257 - val_loss: 0.0012 - val_rmse: 0.0352 - lr: 0.0010\n",
      "Epoch 123/5000\n",
      "5/5 [==============================] - 0s 13ms/step - loss: 9.9222e-04 - rmse: 0.0315 - val_loss: 0.0032 - val_rmse: 0.0567 - lr: 0.0010\n",
      "Epoch 124/5000\n",
      "5/5 [==============================] - 0s 13ms/step - loss: 0.0015 - rmse: 0.0390 - val_loss: 0.0019 - val_rmse: 0.0435 - lr: 0.0010\n",
      "Epoch 125/5000\n",
      "5/5 [==============================] - 0s 13ms/step - loss: 0.0016 - rmse: 0.0399 - val_loss: 0.0019 - val_rmse: 0.0433 - lr: 0.0010\n",
      "Epoch 126/5000\n",
      "5/5 [==============================] - 0s 13ms/step - loss: 0.0012 - rmse: 0.0342 - val_loss: 0.0016 - val_rmse: 0.0400 - lr: 0.0010\n",
      "Epoch 127/5000\n",
      "5/5 [==============================] - 0s 13ms/step - loss: 7.1702e-04 - rmse: 0.0268 - val_loss: 0.0013 - val_rmse: 0.0366 - lr: 0.0010\n",
      "Epoch 128/5000\n",
      "5/5 [==============================] - 0s 12ms/step - loss: 7.2489e-04 - rmse: 0.0269 - val_loss: 0.0024 - val_rmse: 0.0492 - lr: 0.0010\n",
      "Epoch 129/5000\n",
      "5/5 [==============================] - 0s 12ms/step - loss: 0.0015 - rmse: 0.0387 - val_loss: 0.0025 - val_rmse: 0.0503 - lr: 0.0010\n",
      "Epoch 130/5000\n",
      "5/5 [==============================] - 0s 13ms/step - loss: 0.0013 - rmse: 0.0357 - val_loss: 9.1675e-04 - val_rmse: 0.0303 - lr: 0.0010\n",
      "Epoch 131/5000\n",
      "5/5 [==============================] - 0s 13ms/step - loss: 0.0012 - rmse: 0.0339 - val_loss: 0.0019 - val_rmse: 0.0431 - lr: 0.0010\n",
      "Epoch 132/5000\n",
      "5/5 [==============================] - 0s 13ms/step - loss: 0.0015 - rmse: 0.0394 - val_loss: 0.0017 - val_rmse: 0.0407 - lr: 0.0010\n",
      "Epoch 133/5000\n",
      "5/5 [==============================] - 0s 13ms/step - loss: 9.1304e-04 - rmse: 0.0302 - val_loss: 0.0027 - val_rmse: 0.0522 - lr: 0.0010\n",
      "Epoch 134/5000\n",
      "5/5 [==============================] - 0s 13ms/step - loss: 0.0023 - rmse: 0.0475 - val_loss: 0.0034 - val_rmse: 0.0584 - lr: 0.0010\n",
      "Epoch 135/5000\n",
      "5/5 [==============================] - 0s 13ms/step - loss: 0.0025 - rmse: 0.0500 - val_loss: 0.0028 - val_rmse: 0.0525 - lr: 0.0010\n",
      "Epoch 136/5000\n",
      "5/5 [==============================] - 0s 13ms/step - loss: 0.0014 - rmse: 0.0381 - val_loss: 0.0021 - val_rmse: 0.0460 - lr: 0.0010\n",
      "Epoch 137/5000\n",
      "5/5 [==============================] - 0s 13ms/step - loss: 0.0015 - rmse: 0.0387 - val_loss: 0.0018 - val_rmse: 0.0419 - lr: 0.0010\n",
      "Epoch 138/5000\n",
      "5/5 [==============================] - 0s 13ms/step - loss: 0.0018 - rmse: 0.0429 - val_loss: 9.0675e-04 - val_rmse: 0.0301 - lr: 0.0010\n",
      "Epoch 139/5000\n",
      "5/5 [==============================] - 0s 12ms/step - loss: 0.0012 - rmse: 0.0345 - val_loss: 0.0020 - val_rmse: 0.0442 - lr: 0.0010\n",
      "Epoch 140/5000\n",
      "5/5 [==============================] - 0s 12ms/step - loss: 0.0020 - rmse: 0.0444 - val_loss: 0.0012 - val_rmse: 0.0346 - lr: 0.0010\n",
      "Epoch 141/5000\n",
      "5/5 [==============================] - 0s 12ms/step - loss: 0.0013 - rmse: 0.0360 - val_loss: 0.0015 - val_rmse: 0.0392 - lr: 0.0010\n",
      "Epoch 142/5000\n",
      "5/5 [==============================] - 0s 13ms/step - loss: 8.6736e-04 - rmse: 0.0295 - val_loss: 0.0017 - val_rmse: 0.0409 - lr: 0.0010\n",
      "Epoch 143/5000\n",
      "5/5 [==============================] - 0s 13ms/step - loss: 6.5510e-04 - rmse: 0.0256 - val_loss: 0.0010 - val_rmse: 0.0320 - lr: 0.0010\n",
      "Epoch 144/5000\n",
      "5/5 [==============================] - 0s 13ms/step - loss: 4.8360e-04 - rmse: 0.0220 - val_loss: 0.0010 - val_rmse: 0.0323 - lr: 0.0010\n",
      "Epoch 145/5000\n",
      "5/5 [==============================] - 0s 13ms/step - loss: 9.5342e-04 - rmse: 0.0309 - val_loss: 6.3980e-04 - val_rmse: 0.0253 - lr: 0.0010\n",
      "Epoch 146/5000\n",
      "5/5 [==============================] - 0s 12ms/step - loss: 7.1358e-04 - rmse: 0.0267 - val_loss: 0.0023 - val_rmse: 0.0477 - lr: 0.0010\n",
      "Epoch 147/5000\n",
      "5/5 [==============================] - 0s 13ms/step - loss: 8.1407e-04 - rmse: 0.0285 - val_loss: 6.6643e-04 - val_rmse: 0.0258 - lr: 0.0010\n",
      "Epoch 148/5000\n",
      "5/5 [==============================] - 0s 13ms/step - loss: 6.6670e-04 - rmse: 0.0258 - val_loss: 7.0582e-04 - val_rmse: 0.0266 - lr: 0.0010\n",
      "Epoch 149/5000\n",
      "5/5 [==============================] - 0s 14ms/step - loss: 5.2168e-04 - rmse: 0.0228 - val_loss: 7.4856e-04 - val_rmse: 0.0274 - lr: 0.0010\n",
      "Epoch 150/5000\n",
      "5/5 [==============================] - 0s 13ms/step - loss: 3.2292e-04 - rmse: 0.0180 - val_loss: 0.0010 - val_rmse: 0.0317 - lr: 0.0010\n",
      "Epoch 151/5000\n",
      "5/5 [==============================] - 0s 12ms/step - loss: 3.8752e-04 - rmse: 0.0197 - val_loss: 5.9096e-04 - val_rmse: 0.0243 - lr: 0.0010\n",
      "Epoch 152/5000\n",
      "5/5 [==============================] - 0s 13ms/step - loss: 3.1088e-04 - rmse: 0.0176 - val_loss: 7.2185e-04 - val_rmse: 0.0269 - lr: 0.0010\n",
      "Epoch 153/5000\n",
      "5/5 [==============================] - 0s 14ms/step - loss: 2.5510e-04 - rmse: 0.0160 - val_loss: 7.1475e-04 - val_rmse: 0.0267 - lr: 0.0010\n",
      "Epoch 154/5000\n",
      "5/5 [==============================] - 0s 12ms/step - loss: 3.0364e-04 - rmse: 0.0174 - val_loss: 6.4752e-04 - val_rmse: 0.0254 - lr: 0.0010\n",
      "Epoch 155/5000\n",
      "5/5 [==============================] - 0s 13ms/step - loss: 2.7376e-04 - rmse: 0.0165 - val_loss: 6.9464e-04 - val_rmse: 0.0264 - lr: 0.0010\n",
      "Epoch 156/5000\n",
      "5/5 [==============================] - 0s 13ms/step - loss: 2.3437e-04 - rmse: 0.0153 - val_loss: 8.0984e-04 - val_rmse: 0.0285 - lr: 0.0010\n",
      "Epoch 157/5000\n",
      "5/5 [==============================] - 0s 13ms/step - loss: 2.7447e-04 - rmse: 0.0166 - val_loss: 5.4152e-04 - val_rmse: 0.0233 - lr: 0.0010\n",
      "Epoch 158/5000\n",
      "5/5 [==============================] - 0s 13ms/step - loss: 2.1707e-04 - rmse: 0.0147 - val_loss: 4.5880e-04 - val_rmse: 0.0214 - lr: 0.0010\n",
      "Epoch 159/5000\n",
      "5/5 [==============================] - 0s 13ms/step - loss: 1.4489e-04 - rmse: 0.0120 - val_loss: 5.1216e-04 - val_rmse: 0.0226 - lr: 0.0010\n",
      "Epoch 160/5000\n",
      "5/5 [==============================] - 0s 13ms/step - loss: 2.0514e-04 - rmse: 0.0143 - val_loss: 3.8541e-04 - val_rmse: 0.0196 - lr: 0.0010\n",
      "Epoch 161/5000\n",
      "5/5 [==============================] - 0s 14ms/step - loss: 1.3226e-04 - rmse: 0.0115 - val_loss: 4.3969e-04 - val_rmse: 0.0210 - lr: 0.0010\n",
      "Epoch 162/5000\n",
      "5/5 [==============================] - 0s 13ms/step - loss: 1.5204e-04 - rmse: 0.0123 - val_loss: 5.1742e-04 - val_rmse: 0.0227 - lr: 0.0010\n",
      "Epoch 163/5000\n",
      "5/5 [==============================] - 0s 13ms/step - loss: 1.2346e-04 - rmse: 0.0111 - val_loss: 5.0675e-04 - val_rmse: 0.0225 - lr: 0.0010\n",
      "Epoch 164/5000\n",
      "5/5 [==============================] - 0s 12ms/step - loss: 1.3010e-04 - rmse: 0.0114 - val_loss: 4.6014e-04 - val_rmse: 0.0215 - lr: 0.0010\n",
      "Epoch 165/5000\n",
      "5/5 [==============================] - 0s 13ms/step - loss: 1.1721e-04 - rmse: 0.0108 - val_loss: 5.0660e-04 - val_rmse: 0.0225 - lr: 0.0010\n",
      "Epoch 166/5000\n",
      "5/5 [==============================] - 0s 13ms/step - loss: 1.4146e-04 - rmse: 0.0119 - val_loss: 5.5718e-04 - val_rmse: 0.0236 - lr: 0.0010\n"
     ]
    },
    {
     "name": "stdout",
     "output_type": "stream",
     "text": [
      "Epoch 167/5000\n",
      "5/5 [==============================] - 0s 14ms/step - loss: 1.3771e-04 - rmse: 0.0117 - val_loss: 5.2841e-04 - val_rmse: 0.0230 - lr: 0.0010\n",
      "Epoch 168/5000\n",
      "5/5 [==============================] - 0s 14ms/step - loss: 1.0901e-04 - rmse: 0.0104 - val_loss: 3.7026e-04 - val_rmse: 0.0192 - lr: 0.0010\n",
      "Epoch 169/5000\n",
      "5/5 [==============================] - 0s 12ms/step - loss: 1.1901e-04 - rmse: 0.0109 - val_loss: 4.2178e-04 - val_rmse: 0.0205 - lr: 0.0010\n",
      "Epoch 170/5000\n",
      "5/5 [==============================] - 0s 13ms/step - loss: 1.2612e-04 - rmse: 0.0112 - val_loss: 6.2721e-04 - val_rmse: 0.0250 - lr: 0.0010\n",
      "Epoch 171/5000\n",
      "5/5 [==============================] - 0s 13ms/step - loss: 1.2938e-04 - rmse: 0.0114 - val_loss: 4.8259e-04 - val_rmse: 0.0220 - lr: 0.0010\n",
      "Epoch 172/5000\n",
      "5/5 [==============================] - 0s 13ms/step - loss: 1.2126e-04 - rmse: 0.0110 - val_loss: 4.3060e-04 - val_rmse: 0.0208 - lr: 0.0010\n",
      "Epoch 173/5000\n",
      "5/5 [==============================] - 0s 14ms/step - loss: 9.4974e-05 - rmse: 0.0097 - val_loss: 3.6948e-04 - val_rmse: 0.0192 - lr: 0.0010\n",
      "Epoch 174/5000\n",
      "5/5 [==============================] - 0s 13ms/step - loss: 1.1571e-04 - rmse: 0.0108 - val_loss: 4.4973e-04 - val_rmse: 0.0212 - lr: 0.0010\n",
      "Epoch 175/5000\n",
      "5/5 [==============================] - 0s 12ms/step - loss: 1.0801e-04 - rmse: 0.0104 - val_loss: 4.8026e-04 - val_rmse: 0.0219 - lr: 0.0010\n",
      "Epoch 176/5000\n",
      "5/5 [==============================] - 0s 13ms/step - loss: 9.9318e-05 - rmse: 0.0100 - val_loss: 4.7517e-04 - val_rmse: 0.0218 - lr: 0.0010\n",
      "Epoch 177/5000\n",
      "5/5 [==============================] - 0s 13ms/step - loss: 1.0239e-04 - rmse: 0.0101 - val_loss: 4.7431e-04 - val_rmse: 0.0218 - lr: 0.0010\n",
      "Epoch 178/5000\n",
      "5/5 [==============================] - 0s 13ms/step - loss: 1.1800e-04 - rmse: 0.0109 - val_loss: 4.6103e-04 - val_rmse: 0.0215 - lr: 0.0010\n",
      "Epoch 179/5000\n",
      "5/5 [==============================] - 0s 13ms/step - loss: 1.0109e-04 - rmse: 0.0101 - val_loss: 4.2452e-04 - val_rmse: 0.0206 - lr: 0.0010\n",
      "Epoch 180/5000\n",
      "5/5 [==============================] - 0s 13ms/step - loss: 1.0469e-04 - rmse: 0.0102 - val_loss: 4.0504e-04 - val_rmse: 0.0201 - lr: 0.0010\n",
      "Epoch 181/5000\n",
      "5/5 [==============================] - 0s 13ms/step - loss: 9.7246e-05 - rmse: 0.0099 - val_loss: 4.1851e-04 - val_rmse: 0.0205 - lr: 0.0010\n",
      "Epoch 182/5000\n",
      "5/5 [==============================] - 0s 13ms/step - loss: 1.3573e-04 - rmse: 0.0117 - val_loss: 4.6757e-04 - val_rmse: 0.0216 - lr: 0.0010\n",
      "Epoch 183/5000\n",
      "5/5 [==============================] - 0s 13ms/step - loss: 2.7865e-04 - rmse: 0.0167 - val_loss: 5.7188e-04 - val_rmse: 0.0239 - lr: 0.0010\n",
      "Epoch 184/5000\n",
      "5/5 [==============================] - 0s 12ms/step - loss: 3.0098e-04 - rmse: 0.0173 - val_loss: 9.2163e-04 - val_rmse: 0.0304 - lr: 0.0010\n",
      "Epoch 185/5000\n",
      "5/5 [==============================] - 0s 13ms/step - loss: 2.6621e-04 - rmse: 0.0163 - val_loss: 8.4170e-04 - val_rmse: 0.0290 - lr: 0.0010\n",
      "Epoch 186/5000\n",
      "5/5 [==============================] - 0s 13ms/step - loss: 3.3688e-04 - rmse: 0.0184 - val_loss: 4.5957e-04 - val_rmse: 0.0214 - lr: 0.0010\n",
      "Epoch 187/5000\n",
      "5/5 [==============================] - 0s 13ms/step - loss: 4.9090e-04 - rmse: 0.0222 - val_loss: 7.7204e-04 - val_rmse: 0.0278 - lr: 0.0010\n",
      "Epoch 188/5000\n",
      "5/5 [==============================] - 0s 13ms/step - loss: 6.3958e-04 - rmse: 0.0253 - val_loss: 8.1165e-04 - val_rmse: 0.0285 - lr: 0.0010\n",
      "Epoch 189/5000\n",
      "5/5 [==============================] - 0s 13ms/step - loss: 6.1277e-04 - rmse: 0.0248 - val_loss: 4.1303e-04 - val_rmse: 0.0203 - lr: 0.0010\n",
      "Epoch 190/5000\n",
      "5/5 [==============================] - 0s 12ms/step - loss: 4.1061e-04 - rmse: 0.0203 - val_loss: 8.1010e-04 - val_rmse: 0.0285 - lr: 0.0010\n",
      "Epoch 191/5000\n",
      "5/5 [==============================] - 0s 13ms/step - loss: 3.8247e-04 - rmse: 0.0196 - val_loss: 8.7038e-04 - val_rmse: 0.0295 - lr: 0.0010\n",
      "Epoch 192/5000\n",
      "5/5 [==============================] - 0s 13ms/step - loss: 3.8676e-04 - rmse: 0.0197 - val_loss: 8.3995e-04 - val_rmse: 0.0290 - lr: 0.0010\n",
      "Epoch 193/5000\n",
      "5/5 [==============================] - 0s 13ms/step - loss: 3.5113e-04 - rmse: 0.0187 - val_loss: 4.3198e-04 - val_rmse: 0.0208 - lr: 0.0010\n",
      "Epoch 194/5000\n",
      "5/5 [==============================] - 0s 12ms/step - loss: 3.7757e-04 - rmse: 0.0194 - val_loss: 4.3290e-04 - val_rmse: 0.0208 - lr: 0.0010\n",
      "Epoch 195/5000\n",
      "5/5 [==============================] - 0s 12ms/step - loss: 3.9304e-04 - rmse: 0.0198 - val_loss: 4.2794e-04 - val_rmse: 0.0207 - lr: 0.0010\n",
      "Epoch 196/5000\n",
      "5/5 [==============================] - 0s 13ms/step - loss: 3.8813e-04 - rmse: 0.0197 - val_loss: 4.5092e-04 - val_rmse: 0.0212 - lr: 0.0010\n",
      "Epoch 197/5000\n",
      "5/5 [==============================] - 0s 13ms/step - loss: 2.2186e-04 - rmse: 0.0149 - val_loss: 3.6740e-04 - val_rmse: 0.0192 - lr: 0.0010\n",
      "Epoch 198/5000\n",
      "5/5 [==============================] - 0s 13ms/step - loss: 1.4918e-04 - rmse: 0.0122 - val_loss: 3.6041e-04 - val_rmse: 0.0190 - lr: 0.0010\n",
      "Epoch 199/5000\n",
      "5/5 [==============================] - 0s 13ms/step - loss: 2.0986e-04 - rmse: 0.0145 - val_loss: 4.2045e-04 - val_rmse: 0.0205 - lr: 0.0010\n",
      "Epoch 200/5000\n",
      "5/5 [==============================] - 0s 13ms/step - loss: 1.9531e-04 - rmse: 0.0140 - val_loss: 2.9639e-04 - val_rmse: 0.0172 - lr: 0.0010\n",
      "Epoch 201/5000\n",
      "5/5 [==============================] - 0s 13ms/step - loss: 1.2713e-04 - rmse: 0.0113 - val_loss: 6.6786e-04 - val_rmse: 0.0258 - lr: 0.0010\n",
      "Epoch 202/5000\n",
      "5/5 [==============================] - 0s 12ms/step - loss: 2.0997e-04 - rmse: 0.0145 - val_loss: 6.7736e-04 - val_rmse: 0.0260 - lr: 0.0010\n",
      "Epoch 203/5000\n",
      "5/5 [==============================] - 0s 12ms/step - loss: 1.9821e-04 - rmse: 0.0141 - val_loss: 6.0595e-04 - val_rmse: 0.0246 - lr: 0.0010\n",
      "Epoch 204/5000\n",
      "5/5 [==============================] - 0s 12ms/step - loss: 1.8715e-04 - rmse: 0.0137 - val_loss: 3.3354e-04 - val_rmse: 0.0183 - lr: 0.0010\n",
      "Epoch 205/5000\n",
      "5/5 [==============================] - 0s 12ms/step - loss: 1.4360e-04 - rmse: 0.0120 - val_loss: 3.3964e-04 - val_rmse: 0.0184 - lr: 0.0010\n",
      "Epoch 206/5000\n",
      "5/5 [==============================] - 0s 12ms/step - loss: 1.7077e-04 - rmse: 0.0131 - val_loss: 2.6835e-04 - val_rmse: 0.0164 - lr: 0.0010\n",
      "Epoch 207/5000\n",
      "5/5 [==============================] - 0s 12ms/step - loss: 1.0713e-04 - rmse: 0.0104 - val_loss: 2.7577e-04 - val_rmse: 0.0166 - lr: 0.0010\n",
      "Epoch 208/5000\n",
      "5/5 [==============================] - 0s 13ms/step - loss: 1.2601e-04 - rmse: 0.0112 - val_loss: 3.1166e-04 - val_rmse: 0.0177 - lr: 0.0010\n",
      "Epoch 209/5000\n",
      "5/5 [==============================] - 0s 13ms/step - loss: 1.1291e-04 - rmse: 0.0106 - val_loss: 2.7495e-04 - val_rmse: 0.0166 - lr: 0.0010\n",
      "Epoch 210/5000\n",
      "5/5 [==============================] - 0s 13ms/step - loss: 9.1288e-05 - rmse: 0.0096 - val_loss: 3.6693e-04 - val_rmse: 0.0192 - lr: 0.0010\n",
      "Epoch 211/5000\n",
      "5/5 [==============================] - 0s 13ms/step - loss: 1.0431e-04 - rmse: 0.0102 - val_loss: 3.6631e-04 - val_rmse: 0.0191 - lr: 0.0010\n",
      "Epoch 212/5000\n",
      "5/5 [==============================] - 0s 12ms/step - loss: 1.0173e-04 - rmse: 0.0101 - val_loss: 4.3492e-04 - val_rmse: 0.0209 - lr: 0.0010\n",
      "Epoch 213/5000\n",
      "5/5 [==============================] - 0s 13ms/step - loss: 9.2647e-05 - rmse: 0.0096 - val_loss: 3.3362e-04 - val_rmse: 0.0183 - lr: 0.0010\n",
      "Epoch 214/5000\n",
      "5/5 [==============================] - 0s 14ms/step - loss: 7.6565e-05 - rmse: 0.0088 - val_loss: 3.6545e-04 - val_rmse: 0.0191 - lr: 0.0010\n",
      "Epoch 215/5000\n",
      "5/5 [==============================] - 0s 13ms/step - loss: 6.8751e-05 - rmse: 0.0083 - val_loss: 2.7972e-04 - val_rmse: 0.0167 - lr: 0.0010\n",
      "Epoch 216/5000\n",
      "5/5 [==============================] - 0s 13ms/step - loss: 6.2249e-05 - rmse: 0.0079 - val_loss: 3.1627e-04 - val_rmse: 0.0178 - lr: 0.0010\n",
      "Epoch 217/5000\n",
      "5/5 [==============================] - 0s 13ms/step - loss: 5.5555e-05 - rmse: 0.0075 - val_loss: 2.9091e-04 - val_rmse: 0.0171 - lr: 0.0010\n",
      "Epoch 218/5000\n",
      "5/5 [==============================] - 0s 13ms/step - loss: 5.0305e-05 - rmse: 0.0071 - val_loss: 3.7835e-04 - val_rmse: 0.0195 - lr: 0.0010\n",
      "Epoch 219/5000\n"
     ]
    },
    {
     "name": "stdout",
     "output_type": "stream",
     "text": [
      "5/5 [==============================] - 0s 12ms/step - loss: 6.9550e-05 - rmse: 0.0083 - val_loss: 3.1631e-04 - val_rmse: 0.0178 - lr: 0.0010\n",
      "Epoch 220/5000\n",
      "5/5 [==============================] - 0s 13ms/step - loss: 7.2580e-05 - rmse: 0.0085 - val_loss: 3.0319e-04 - val_rmse: 0.0174 - lr: 0.0010\n",
      "Epoch 221/5000\n",
      "5/5 [==============================] - 0s 13ms/step - loss: 6.4688e-05 - rmse: 0.0080 - val_loss: 2.9216e-04 - val_rmse: 0.0171 - lr: 0.0010\n",
      "Epoch 222/5000\n",
      "5/5 [==============================] - 0s 12ms/step - loss: 5.2933e-05 - rmse: 0.0073 - val_loss: 2.8052e-04 - val_rmse: 0.0167 - lr: 0.0010\n",
      "Epoch 223/5000\n",
      "5/5 [==============================] - 0s 13ms/step - loss: 5.8711e-05 - rmse: 0.0077 - val_loss: 2.9048e-04 - val_rmse: 0.0170 - lr: 0.0010\n",
      "Epoch 224/5000\n",
      "5/5 [==============================] - 0s 13ms/step - loss: 5.9309e-05 - rmse: 0.0077 - val_loss: 2.6079e-04 - val_rmse: 0.0161 - lr: 0.0010\n",
      "Epoch 225/5000\n",
      "5/5 [==============================] - 0s 12ms/step - loss: 8.1233e-05 - rmse: 0.0090 - val_loss: 3.6786e-04 - val_rmse: 0.0192 - lr: 0.0010\n",
      "Epoch 226/5000\n",
      "5/5 [==============================] - 0s 13ms/step - loss: 9.6792e-05 - rmse: 0.0098 - val_loss: 3.1399e-04 - val_rmse: 0.0177 - lr: 0.0010\n",
      "Epoch 227/5000\n",
      "5/5 [==============================] - 0s 13ms/step - loss: 7.7589e-05 - rmse: 0.0088 - val_loss: 3.1279e-04 - val_rmse: 0.0177 - lr: 0.0010\n",
      "Epoch 228/5000\n",
      "5/5 [==============================] - 0s 12ms/step - loss: 6.9761e-05 - rmse: 0.0084 - val_loss: 2.9965e-04 - val_rmse: 0.0173 - lr: 0.0010\n",
      "Epoch 229/5000\n",
      "5/5 [==============================] - 0s 13ms/step - loss: 4.8301e-05 - rmse: 0.0069 - val_loss: 2.8040e-04 - val_rmse: 0.0167 - lr: 0.0010\n",
      "Epoch 230/5000\n",
      "5/5 [==============================] - 0s 12ms/step - loss: 4.9549e-05 - rmse: 0.0070 - val_loss: 2.8903e-04 - val_rmse: 0.0170 - lr: 0.0010\n",
      "Epoch 231/5000\n",
      "5/5 [==============================] - 0s 13ms/step - loss: 4.6591e-05 - rmse: 0.0068 - val_loss: 3.2239e-04 - val_rmse: 0.0180 - lr: 0.0010\n",
      "Epoch 232/5000\n",
      "5/5 [==============================] - 0s 13ms/step - loss: 4.4413e-05 - rmse: 0.0067 - val_loss: 3.0946e-04 - val_rmse: 0.0176 - lr: 0.0010\n",
      "Epoch 233/5000\n",
      "5/5 [==============================] - 0s 13ms/step - loss: 4.3363e-05 - rmse: 0.0066 - val_loss: 3.0965e-04 - val_rmse: 0.0176 - lr: 0.0010\n",
      "Epoch 234/5000\n",
      "5/5 [==============================] - 0s 13ms/step - loss: 4.1367e-05 - rmse: 0.0064 - val_loss: 2.7852e-04 - val_rmse: 0.0167 - lr: 0.0010\n",
      "Epoch 235/5000\n",
      "5/5 [==============================] - 0s 12ms/step - loss: 4.9685e-05 - rmse: 0.0070 - val_loss: 2.8923e-04 - val_rmse: 0.0170 - lr: 0.0010\n",
      "Epoch 236/5000\n",
      "5/5 [==============================] - 0s 13ms/step - loss: 5.1359e-05 - rmse: 0.0072 - val_loss: 3.7668e-04 - val_rmse: 0.0194 - lr: 0.0010\n",
      "Epoch 237/5000\n",
      "5/5 [==============================] - 0s 13ms/step - loss: 6.2938e-05 - rmse: 0.0079 - val_loss: 2.5345e-04 - val_rmse: 0.0159 - lr: 0.0010\n",
      "Epoch 238/5000\n",
      "5/5 [==============================] - 0s 12ms/step - loss: 5.8825e-05 - rmse: 0.0077 - val_loss: 3.6107e-04 - val_rmse: 0.0190 - lr: 0.0010\n",
      "Epoch 239/5000\n",
      "5/5 [==============================] - 0s 12ms/step - loss: 5.8129e-05 - rmse: 0.0076 - val_loss: 2.4012e-04 - val_rmse: 0.0155 - lr: 0.0010\n",
      "Epoch 240/5000\n",
      "5/5 [==============================] - 0s 12ms/step - loss: 6.1437e-05 - rmse: 0.0078 - val_loss: 3.2614e-04 - val_rmse: 0.0181 - lr: 0.0010\n",
      "Epoch 241/5000\n",
      "5/5 [==============================] - 0s 12ms/step - loss: 5.6133e-05 - rmse: 0.0075 - val_loss: 3.4741e-04 - val_rmse: 0.0186 - lr: 0.0010\n",
      "Epoch 242/5000\n",
      "5/5 [==============================] - 0s 12ms/step - loss: 6.3621e-05 - rmse: 0.0080 - val_loss: 3.4034e-04 - val_rmse: 0.0184 - lr: 0.0010\n",
      "Epoch 243/5000\n",
      "5/5 [==============================] - 0s 12ms/step - loss: 6.5228e-05 - rmse: 0.0081 - val_loss: 3.9036e-04 - val_rmse: 0.0198 - lr: 0.0010\n",
      "Epoch 244/5000\n",
      "5/5 [==============================] - 0s 12ms/step - loss: 6.1880e-05 - rmse: 0.0079 - val_loss: 3.2934e-04 - val_rmse: 0.0181 - lr: 0.0010\n",
      "Epoch 245/5000\n",
      "5/5 [==============================] - 0s 13ms/step - loss: 6.1261e-05 - rmse: 0.0078 - val_loss: 2.8710e-04 - val_rmse: 0.0169 - lr: 0.0010\n",
      "Epoch 246/5000\n",
      "5/5 [==============================] - 0s 13ms/step - loss: 5.8973e-05 - rmse: 0.0077 - val_loss: 3.0087e-04 - val_rmse: 0.0173 - lr: 0.0010\n",
      "Epoch 247/5000\n",
      "5/5 [==============================] - 0s 12ms/step - loss: 4.1441e-05 - rmse: 0.0064 - val_loss: 3.0234e-04 - val_rmse: 0.0174 - lr: 0.0010\n",
      "Epoch 248/5000\n",
      "5/5 [==============================] - 0s 13ms/step - loss: 5.5677e-05 - rmse: 0.0075 - val_loss: 2.9642e-04 - val_rmse: 0.0172 - lr: 0.0010\n",
      "Epoch 249/5000\n",
      "5/5 [==============================] - 0s 13ms/step - loss: 6.3368e-05 - rmse: 0.0080 - val_loss: 3.0809e-04 - val_rmse: 0.0176 - lr: 0.0010\n",
      "Epoch 250/5000\n",
      "5/5 [==============================] - 0s 13ms/step - loss: 5.5663e-05 - rmse: 0.0075 - val_loss: 2.8150e-04 - val_rmse: 0.0168 - lr: 0.0010\n",
      "Epoch 251/5000\n",
      "5/5 [==============================] - 0s 12ms/step - loss: 5.2594e-05 - rmse: 0.0073 - val_loss: 4.8114e-04 - val_rmse: 0.0219 - lr: 0.0010\n",
      "Epoch 252/5000\n",
      "5/5 [==============================] - 0s 13ms/step - loss: 8.3825e-05 - rmse: 0.0092 - val_loss: 4.1719e-04 - val_rmse: 0.0204 - lr: 0.0010\n",
      "Epoch 253/5000\n",
      "5/5 [==============================] - 0s 13ms/step - loss: 9.2106e-05 - rmse: 0.0096 - val_loss: 3.4062e-04 - val_rmse: 0.0185 - lr: 0.0010\n",
      "Epoch 254/5000\n",
      "5/5 [==============================] - 0s 13ms/step - loss: 5.6786e-05 - rmse: 0.0075 - val_loss: 4.0646e-04 - val_rmse: 0.0202 - lr: 0.0010\n",
      "Epoch 255/5000\n",
      "5/5 [==============================] - 0s 13ms/step - loss: 8.4113e-05 - rmse: 0.0092 - val_loss: 4.5801e-04 - val_rmse: 0.0214 - lr: 0.0010\n",
      "Epoch 256/5000\n",
      "5/5 [==============================] - 0s 13ms/step - loss: 7.0387e-05 - rmse: 0.0084 - val_loss: 2.9544e-04 - val_rmse: 0.0172 - lr: 0.0010\n",
      "Epoch 257/5000\n",
      "5/5 [==============================] - 0s 12ms/step - loss: 4.2437e-05 - rmse: 0.0065 - val_loss: 2.9156e-04 - val_rmse: 0.0171 - lr: 0.0010\n",
      "Epoch 258/5000\n",
      "5/5 [==============================] - 0s 13ms/step - loss: 5.0585e-05 - rmse: 0.0071 - val_loss: 2.8775e-04 - val_rmse: 0.0170 - lr: 0.0010\n",
      "Epoch 259/5000\n",
      "5/5 [==============================] - 0s 13ms/step - loss: 6.5399e-05 - rmse: 0.0081 - val_loss: 2.6317e-04 - val_rmse: 0.0162 - lr: 0.0010\n",
      "Epoch 260/5000\n",
      "5/5 [==============================] - 0s 12ms/step - loss: 4.4127e-05 - rmse: 0.0066 - val_loss: 3.4832e-04 - val_rmse: 0.0187 - lr: 0.0010\n",
      "Epoch 261/5000\n",
      "5/5 [==============================] - 0s 13ms/step - loss: 4.4746e-05 - rmse: 0.0067 - val_loss: 2.7331e-04 - val_rmse: 0.0165 - lr: 0.0010\n",
      "Epoch 262/5000\n",
      "5/5 [==============================] - 0s 13ms/step - loss: 3.7965e-05 - rmse: 0.0062 - val_loss: 3.2961e-04 - val_rmse: 0.0182 - lr: 0.0010\n",
      "Epoch 263/5000\n",
      "5/5 [==============================] - 0s 13ms/step - loss: 3.5205e-05 - rmse: 0.0059 - val_loss: 2.3415e-04 - val_rmse: 0.0153 - lr: 0.0010\n",
      "Epoch 264/5000\n",
      "5/5 [==============================] - 0s 13ms/step - loss: 3.7670e-05 - rmse: 0.0061 - val_loss: 3.5606e-04 - val_rmse: 0.0189 - lr: 0.0010\n",
      "Epoch 265/5000\n",
      "5/5 [==============================] - 0s 12ms/step - loss: 4.8416e-05 - rmse: 0.0070 - val_loss: 2.8249e-04 - val_rmse: 0.0168 - lr: 0.0010\n",
      "Epoch 266/5000\n",
      "5/5 [==============================] - 0s 13ms/step - loss: 5.1875e-05 - rmse: 0.0072 - val_loss: 3.0466e-04 - val_rmse: 0.0175 - lr: 0.0010\n",
      "Epoch 267/5000\n",
      "5/5 [==============================] - 0s 12ms/step - loss: 4.3235e-05 - rmse: 0.0066 - val_loss: 2.5339e-04 - val_rmse: 0.0159 - lr: 0.0010\n",
      "Epoch 268/5000\n",
      "5/5 [==============================] - 0s 13ms/step - loss: 3.2946e-05 - rmse: 0.0057 - val_loss: 2.8098e-04 - val_rmse: 0.0168 - lr: 0.0010\n",
      "Epoch 269/5000\n",
      "5/5 [==============================] - 0s 12ms/step - loss: 3.5828e-05 - rmse: 0.0060 - val_loss: 3.4263e-04 - val_rmse: 0.0185 - lr: 0.0010\n",
      "Epoch 270/5000\n",
      "5/5 [==============================] - 0s 13ms/step - loss: 4.2172e-05 - rmse: 0.0065 - val_loss: 3.3580e-04 - val_rmse: 0.0183 - lr: 0.0010\n",
      "Epoch 271/5000\n",
      "5/5 [==============================] - 0s 12ms/step - loss: 7.1029e-05 - rmse: 0.0084 - val_loss: 3.9052e-04 - val_rmse: 0.0198 - lr: 0.0010\n"
     ]
    },
    {
     "name": "stdout",
     "output_type": "stream",
     "text": [
      "Epoch 272/5000\n",
      "5/5 [==============================] - 0s 12ms/step - loss: 7.7670e-05 - rmse: 0.0088 - val_loss: 3.3430e-04 - val_rmse: 0.0183 - lr: 0.0010\n",
      "Epoch 273/5000\n",
      "5/5 [==============================] - 0s 13ms/step - loss: 8.6767e-05 - rmse: 0.0093 - val_loss: 2.4486e-04 - val_rmse: 0.0156 - lr: 0.0010\n",
      "Epoch 274/5000\n",
      "5/5 [==============================] - 0s 13ms/step - loss: 6.2442e-05 - rmse: 0.0079 - val_loss: 3.0065e-04 - val_rmse: 0.0173 - lr: 0.0010\n",
      "Epoch 275/5000\n",
      "5/5 [==============================] - 0s 13ms/step - loss: 4.0306e-05 - rmse: 0.0063 - val_loss: 2.3890e-04 - val_rmse: 0.0155 - lr: 0.0010\n",
      "Epoch 276/5000\n",
      "5/5 [==============================] - 0s 13ms/step - loss: 4.2781e-05 - rmse: 0.0065 - val_loss: 3.2073e-04 - val_rmse: 0.0179 - lr: 0.0010\n",
      "Epoch 277/5000\n",
      "5/5 [==============================] - 0s 12ms/step - loss: 4.3017e-05 - rmse: 0.0066 - val_loss: 2.5227e-04 - val_rmse: 0.0159 - lr: 0.0010\n",
      "Epoch 278/5000\n",
      "5/5 [==============================] - 0s 13ms/step - loss: 4.9889e-05 - rmse: 0.0071 - val_loss: 2.6127e-04 - val_rmse: 0.0162 - lr: 0.0010\n",
      "Epoch 279/5000\n",
      "5/5 [==============================] - 0s 13ms/step - loss: 5.2164e-05 - rmse: 0.0072 - val_loss: 2.6215e-04 - val_rmse: 0.0162 - lr: 0.0010\n",
      "Epoch 280/5000\n",
      "5/5 [==============================] - 0s 13ms/step - loss: 4.2366e-05 - rmse: 0.0065 - val_loss: 2.6746e-04 - val_rmse: 0.0164 - lr: 0.0010\n",
      "Epoch 281/5000\n",
      "5/5 [==============================] - 0s 13ms/step - loss: 4.4353e-05 - rmse: 0.0067 - val_loss: 2.5612e-04 - val_rmse: 0.0160 - lr: 0.0010\n",
      "Epoch 282/5000\n",
      "5/5 [==============================] - 0s 12ms/step - loss: 4.4000e-05 - rmse: 0.0066 - val_loss: 4.0685e-04 - val_rmse: 0.0202 - lr: 0.0010\n",
      "Epoch 283/5000\n",
      "5/5 [==============================] - 0s 13ms/step - loss: 8.5078e-05 - rmse: 0.0092 - val_loss: 3.4584e-04 - val_rmse: 0.0186 - lr: 0.0010\n",
      "Epoch 284/5000\n",
      "5/5 [==============================] - 0s 14ms/step - loss: 9.2135e-05 - rmse: 0.0096 - val_loss: 5.3439e-04 - val_rmse: 0.0231 - lr: 0.0010\n",
      "Epoch 285/5000\n",
      "5/5 [==============================] - 0s 13ms/step - loss: 1.5759e-04 - rmse: 0.0126 - val_loss: 3.1583e-04 - val_rmse: 0.0178 - lr: 0.0010\n",
      "Epoch 286/5000\n",
      "5/5 [==============================] - 0s 13ms/step - loss: 2.2196e-04 - rmse: 0.0149 - val_loss: 3.1952e-04 - val_rmse: 0.0179 - lr: 0.0010\n",
      "Epoch 287/5000\n",
      "5/5 [==============================] - 0s 12ms/step - loss: 1.2699e-04 - rmse: 0.0113 - val_loss: 2.8814e-04 - val_rmse: 0.0170 - lr: 0.0010\n",
      "Epoch 288/5000\n",
      "5/5 [==============================] - 0s 13ms/step - loss: 9.5184e-05 - rmse: 0.0098 - val_loss: 3.6922e-04 - val_rmse: 0.0192 - lr: 0.0010\n",
      "Epoch 289/5000\n",
      "5/5 [==============================] - 0s 13ms/step - loss: 5.6682e-05 - rmse: 0.0075 - val_loss: 2.9945e-04 - val_rmse: 0.0173 - lr: 0.0010\n",
      "Epoch 290/5000\n",
      "5/5 [==============================] - 0s 13ms/step - loss: 6.3243e-05 - rmse: 0.0080 - val_loss: 3.2070e-04 - val_rmse: 0.0179 - lr: 0.0010\n",
      "Epoch 291/5000\n",
      "5/5 [==============================] - 0s 13ms/step - loss: 7.0799e-05 - rmse: 0.0084 - val_loss: 2.0806e-04 - val_rmse: 0.0144 - lr: 0.0010\n",
      "Epoch 292/5000\n",
      "5/5 [==============================] - 0s 12ms/step - loss: 9.2893e-05 - rmse: 0.0096 - val_loss: 5.1168e-04 - val_rmse: 0.0226 - lr: 0.0010\n",
      "Epoch 293/5000\n",
      "5/5 [==============================] - 0s 13ms/step - loss: 7.1557e-05 - rmse: 0.0085 - val_loss: 2.0678e-04 - val_rmse: 0.0144 - lr: 0.0010\n",
      "Epoch 294/5000\n",
      "5/5 [==============================] - 0s 13ms/step - loss: 7.3373e-05 - rmse: 0.0086 - val_loss: 4.3954e-04 - val_rmse: 0.0210 - lr: 0.0010\n",
      "Epoch 295/5000\n",
      "5/5 [==============================] - 0s 15ms/step - loss: 4.5923e-05 - rmse: 0.0068 - val_loss: 2.4642e-04 - val_rmse: 0.0157 - lr: 0.0010\n",
      "Epoch 296/5000\n",
      "5/5 [==============================] - 0s 13ms/step - loss: 5.2128e-05 - rmse: 0.0072 - val_loss: 4.7067e-04 - val_rmse: 0.0217 - lr: 0.0010\n",
      "Epoch 297/5000\n",
      "5/5 [==============================] - 0s 12ms/step - loss: 9.8904e-05 - rmse: 0.0099 - val_loss: 2.9579e-04 - val_rmse: 0.0172 - lr: 0.0010\n",
      "Epoch 298/5000\n",
      "5/5 [==============================] - 0s 13ms/step - loss: 7.9042e-05 - rmse: 0.0089 - val_loss: 2.9418e-04 - val_rmse: 0.0172 - lr: 0.0010\n",
      "Epoch 299/5000\n",
      "5/5 [==============================] - 0s 12ms/step - loss: 9.2301e-05 - rmse: 0.0096 - val_loss: 3.8015e-04 - val_rmse: 0.0195 - lr: 0.0010\n",
      "Epoch 300/5000\n",
      "5/5 [==============================] - 0s 12ms/step - loss: 1.1873e-04 - rmse: 0.0109 - val_loss: 3.3421e-04 - val_rmse: 0.0183 - lr: 0.0010\n",
      "Epoch 301/5000\n",
      "5/5 [==============================] - 0s 13ms/step - loss: 7.4734e-05 - rmse: 0.0086 - val_loss: 3.4028e-04 - val_rmse: 0.0184 - lr: 0.0010\n",
      "Epoch 302/5000\n",
      "5/5 [==============================] - 0s 12ms/step - loss: 8.5877e-05 - rmse: 0.0093 - val_loss: 2.8537e-04 - val_rmse: 0.0169 - lr: 0.0010\n",
      "Epoch 303/5000\n",
      "5/5 [==============================] - 0s 13ms/step - loss: 5.7262e-05 - rmse: 0.0076 - val_loss: 2.9435e-04 - val_rmse: 0.0172 - lr: 0.0010\n",
      "Epoch 304/5000\n",
      "5/5 [==============================] - 0s 13ms/step - loss: 5.2327e-05 - rmse: 0.0072 - val_loss: 2.8766e-04 - val_rmse: 0.0170 - lr: 0.0010\n",
      "Epoch 305/5000\n",
      "5/5 [==============================] - 0s 13ms/step - loss: 6.3458e-05 - rmse: 0.0080 - val_loss: 3.8346e-04 - val_rmse: 0.0196 - lr: 0.0010\n",
      "Epoch 306/5000\n",
      "5/5 [==============================] - 0s 13ms/step - loss: 7.7185e-05 - rmse: 0.0088 - val_loss: 3.9238e-04 - val_rmse: 0.0198 - lr: 0.0010\n",
      "Epoch 307/5000\n",
      "5/5 [==============================] - 0s 13ms/step - loss: 7.9350e-05 - rmse: 0.0089 - val_loss: 5.3625e-04 - val_rmse: 0.0232 - lr: 0.0010\n",
      "Epoch 308/5000\n",
      "5/5 [==============================] - 0s 13ms/step - loss: 1.0029e-04 - rmse: 0.0100 - val_loss: 3.1423e-04 - val_rmse: 0.0177 - lr: 0.0010\n",
      "Epoch 309/5000\n",
      "5/5 [==============================] - 0s 13ms/step - loss: 1.1246e-04 - rmse: 0.0106 - val_loss: 4.5220e-04 - val_rmse: 0.0213 - lr: 0.0010\n",
      "Epoch 310/5000\n",
      "5/5 [==============================] - 0s 13ms/step - loss: 1.8242e-04 - rmse: 0.0135 - val_loss: 3.2550e-04 - val_rmse: 0.0180 - lr: 0.0010\n",
      "Epoch 311/5000\n",
      "5/5 [==============================] - 0s 13ms/step - loss: 2.3693e-04 - rmse: 0.0154 - val_loss: 8.1992e-04 - val_rmse: 0.0286 - lr: 0.0010\n",
      "Epoch 312/5000\n",
      "5/5 [==============================] - 0s 13ms/step - loss: 2.3482e-04 - rmse: 0.0153 - val_loss: 3.8233e-04 - val_rmse: 0.0196 - lr: 0.0010\n",
      "Epoch 313/5000\n",
      "5/5 [==============================] - 0s 13ms/step - loss: 4.9658e-04 - rmse: 0.0223 - val_loss: 9.9391e-04 - val_rmse: 0.0315 - lr: 0.0010\n",
      "Epoch 314/5000\n",
      "5/5 [==============================] - 0s 13ms/step - loss: 5.4774e-04 - rmse: 0.0234 - val_loss: 6.1143e-04 - val_rmse: 0.0247 - lr: 0.0010\n",
      "Epoch 315/5000\n",
      "5/5 [==============================] - 0s 13ms/step - loss: 0.0010 - rmse: 0.0319 - val_loss: 0.0021 - val_rmse: 0.0460 - lr: 0.0010\n",
      "Epoch 316/5000\n",
      "5/5 [==============================] - 0s 13ms/step - loss: 0.0018 - rmse: 0.0422 - val_loss: 0.0020 - val_rmse: 0.0444 - lr: 0.0010\n",
      "Epoch 317/5000\n",
      "5/5 [==============================] - 0s 12ms/step - loss: 0.0011 - rmse: 0.0330 - val_loss: 0.0016 - val_rmse: 0.0400 - lr: 0.0010\n",
      "Epoch 318/5000\n",
      "5/5 [==============================] - 0s 13ms/step - loss: 6.7577e-04 - rmse: 0.0260 - val_loss: 0.0015 - val_rmse: 0.0387 - lr: 0.0010\n",
      "Epoch 319/5000\n",
      "5/5 [==============================] - 0s 13ms/step - loss: 0.0012 - rmse: 0.0353 - val_loss: 0.0010 - val_rmse: 0.0320 - lr: 0.0010\n",
      "Epoch 320/5000\n",
      "5/5 [==============================] - 0s 13ms/step - loss: 0.0011 - rmse: 0.0336 - val_loss: 0.0012 - val_rmse: 0.0352 - lr: 0.0010\n",
      "Epoch 321/5000\n",
      "5/5 [==============================] - 0s 13ms/step - loss: 7.6408e-04 - rmse: 0.0276 - val_loss: 6.4377e-04 - val_rmse: 0.0254 - lr: 0.0010\n",
      "Epoch 322/5000\n",
      "5/5 [==============================] - 0s 12ms/step - loss: 5.2863e-04 - rmse: 0.0230 - val_loss: 6.5462e-04 - val_rmse: 0.0256 - lr: 0.0010\n",
      "Epoch 323/5000\n",
      "5/5 [==============================] - 0s 13ms/step - loss: 6.3464e-04 - rmse: 0.0252 - val_loss: 8.1607e-04 - val_rmse: 0.0286 - lr: 0.0010\n",
      "Epoch 324/5000\n",
      "5/5 [==============================] - 0s 13ms/step - loss: 3.9304e-04 - rmse: 0.0198 - val_loss: 0.0013 - val_rmse: 0.0363 - lr: 0.0010\n"
     ]
    },
    {
     "name": "stdout",
     "output_type": "stream",
     "text": [
      "Epoch 325/5000\n",
      "5/5 [==============================] - 0s 13ms/step - loss: 7.4087e-04 - rmse: 0.0272 - val_loss: 0.0013 - val_rmse: 0.0363 - lr: 0.0010\n",
      "Epoch 326/5000\n",
      "5/5 [==============================] - 0s 13ms/step - loss: 7.3807e-04 - rmse: 0.0272 - val_loss: 0.0012 - val_rmse: 0.0344 - lr: 0.0010\n",
      "Epoch 327/5000\n",
      "5/5 [==============================] - 0s 12ms/step - loss: 9.6919e-04 - rmse: 0.0311 - val_loss: 0.0012 - val_rmse: 0.0351 - lr: 0.0010\n",
      "Epoch 328/5000\n",
      "5/5 [==============================] - 0s 13ms/step - loss: 8.5089e-04 - rmse: 0.0292 - val_loss: 0.0021 - val_rmse: 0.0463 - lr: 0.0010\n",
      "Epoch 329/5000\n",
      "5/5 [==============================] - 0s 12ms/step - loss: 8.0706e-04 - rmse: 0.0284 - val_loss: 5.0315e-04 - val_rmse: 0.0224 - lr: 0.0010\n",
      "Epoch 330/5000\n",
      "5/5 [==============================] - 0s 13ms/step - loss: 5.4198e-04 - rmse: 0.0233 - val_loss: 5.5479e-04 - val_rmse: 0.0236 - lr: 0.0010\n",
      "Epoch 331/5000\n",
      "5/5 [==============================] - 0s 13ms/step - loss: 4.5290e-04 - rmse: 0.0213 - val_loss: 3.8329e-04 - val_rmse: 0.0196 - lr: 0.0010\n",
      "Epoch 332/5000\n",
      "5/5 [==============================] - 0s 12ms/step - loss: 1.2982e-04 - rmse: 0.0114 - val_loss: 3.0964e-04 - val_rmse: 0.0176 - lr: 0.0010\n",
      "Epoch 333/5000\n",
      "5/5 [==============================] - 0s 13ms/step - loss: 1.1840e-04 - rmse: 0.0109 - val_loss: 2.2606e-04 - val_rmse: 0.0150 - lr: 0.0010\n",
      "Epoch 334/5000\n",
      "5/5 [==============================] - 0s 13ms/step - loss: 9.0992e-05 - rmse: 0.0095 - val_loss: 2.8999e-04 - val_rmse: 0.0170 - lr: 0.0010\n",
      "Epoch 335/5000\n",
      "5/5 [==============================] - 0s 13ms/step - loss: 1.0245e-04 - rmse: 0.0101 - val_loss: 3.8096e-04 - val_rmse: 0.0195 - lr: 0.0010\n",
      "Epoch 336/5000\n",
      "5/5 [==============================] - 0s 13ms/step - loss: 9.9119e-05 - rmse: 0.0100 - val_loss: 3.1657e-04 - val_rmse: 0.0178 - lr: 0.0010\n",
      "Epoch 337/5000\n",
      "5/5 [==============================] - 0s 12ms/step - loss: 4.1918e-05 - rmse: 0.0065 - val_loss: 2.2820e-04 - val_rmse: 0.0151 - lr: 0.0010\n",
      "Epoch 338/5000\n",
      "1/5 [=====>........................] - ETA: 0s - loss: 1.0932e-04 - rmse: 0.0105\n",
      "Epoch 338: ReduceLROnPlateau reducing learning rate to 0.0005000000237487257.\n",
      "5/5 [==============================] - 0s 13ms/step - loss: 5.3744e-05 - rmse: 0.0073 - val_loss: 3.2147e-04 - val_rmse: 0.0179 - lr: 0.0010\n",
      "Epoch 339/5000\n",
      "5/5 [==============================] - 0s 13ms/step - loss: 5.8964e-05 - rmse: 0.0077 - val_loss: 2.4466e-04 - val_rmse: 0.0156 - lr: 5.0000e-04\n",
      "Epoch 340/5000\n",
      "5/5 [==============================] - 0s 13ms/step - loss: 3.8727e-05 - rmse: 0.0062 - val_loss: 2.5012e-04 - val_rmse: 0.0158 - lr: 5.0000e-04\n",
      "Epoch 341/5000\n",
      "5/5 [==============================] - 0s 13ms/step - loss: 3.6709e-05 - rmse: 0.0061 - val_loss: 3.1275e-04 - val_rmse: 0.0177 - lr: 5.0000e-04\n",
      "Epoch 342/5000\n",
      "5/5 [==============================] - 0s 14ms/step - loss: 3.2875e-05 - rmse: 0.0057 - val_loss: 2.3951e-04 - val_rmse: 0.0155 - lr: 5.0000e-04\n",
      "Epoch 343/5000\n",
      "5/5 [==============================] - 0s 13ms/step - loss: 3.1039e-05 - rmse: 0.0056 - val_loss: 2.4593e-04 - val_rmse: 0.0157 - lr: 5.0000e-04\n",
      "Epoch 344/5000\n",
      "5/5 [==============================] - 0s 13ms/step - loss: 3.4996e-05 - rmse: 0.0059 - val_loss: 3.5054e-04 - val_rmse: 0.0187 - lr: 5.0000e-04\n",
      "Epoch 345/5000\n",
      "5/5 [==============================] - 0s 13ms/step - loss: 3.0569e-05 - rmse: 0.0055 - val_loss: 2.5196e-04 - val_rmse: 0.0159 - lr: 5.0000e-04\n",
      "Epoch 346/5000\n",
      "5/5 [==============================] - 0s 13ms/step - loss: 2.6863e-05 - rmse: 0.0052 - val_loss: 2.4821e-04 - val_rmse: 0.0158 - lr: 5.0000e-04\n",
      "Epoch 347/5000\n",
      "5/5 [==============================] - 0s 13ms/step - loss: 2.4061e-05 - rmse: 0.0049 - val_loss: 2.9111e-04 - val_rmse: 0.0171 - lr: 5.0000e-04\n",
      "Epoch 348/5000\n",
      "5/5 [==============================] - 0s 14ms/step - loss: 2.4091e-05 - rmse: 0.0049 - val_loss: 2.4862e-04 - val_rmse: 0.0158 - lr: 5.0000e-04\n",
      "Epoch 349/5000\n",
      "5/5 [==============================] - 0s 13ms/step - loss: 3.0392e-05 - rmse: 0.0055 - val_loss: 2.7647e-04 - val_rmse: 0.0166 - lr: 5.0000e-04\n",
      "Epoch 350/5000\n",
      "5/5 [==============================] - 0s 12ms/step - loss: 2.3480e-05 - rmse: 0.0048 - val_loss: 2.8881e-04 - val_rmse: 0.0170 - lr: 5.0000e-04\n",
      "Epoch 351/5000\n",
      "5/5 [==============================] - 0s 13ms/step - loss: 2.0607e-05 - rmse: 0.0045 - val_loss: 2.4619e-04 - val_rmse: 0.0157 - lr: 5.0000e-04\n",
      "Epoch 352/5000\n",
      "5/5 [==============================] - 0s 12ms/step - loss: 2.2066e-05 - rmse: 0.0047 - val_loss: 2.6429e-04 - val_rmse: 0.0163 - lr: 5.0000e-04\n",
      "Epoch 353/5000\n",
      "5/5 [==============================] - 0s 14ms/step - loss: 1.9548e-05 - rmse: 0.0044 - val_loss: 2.5911e-04 - val_rmse: 0.0161 - lr: 5.0000e-04\n",
      "Epoch 354/5000\n",
      "5/5 [==============================] - 0s 13ms/step - loss: 2.1253e-05 - rmse: 0.0046 - val_loss: 2.6730e-04 - val_rmse: 0.0163 - lr: 5.0000e-04\n",
      "Epoch 355/5000\n",
      "5/5 [==============================] - 0s 13ms/step - loss: 2.1045e-05 - rmse: 0.0046 - val_loss: 2.9798e-04 - val_rmse: 0.0173 - lr: 5.0000e-04\n",
      "Epoch 356/5000\n",
      "5/5 [==============================] - 0s 13ms/step - loss: 2.3219e-05 - rmse: 0.0048 - val_loss: 2.8292e-04 - val_rmse: 0.0168 - lr: 5.0000e-04\n",
      "Epoch 357/5000\n",
      "5/5 [==============================] - 0s 13ms/step - loss: 1.9093e-05 - rmse: 0.0044 - val_loss: 2.5949e-04 - val_rmse: 0.0161 - lr: 5.0000e-04\n",
      "Epoch 358/5000\n",
      "5/5 [==============================] - 0s 12ms/step - loss: 1.9617e-05 - rmse: 0.0044 - val_loss: 3.0002e-04 - val_rmse: 0.0173 - lr: 5.0000e-04\n",
      "Epoch 359/5000\n",
      "5/5 [==============================] - 0s 13ms/step - loss: 1.7495e-05 - rmse: 0.0042 - val_loss: 2.6470e-04 - val_rmse: 0.0163 - lr: 5.0000e-04\n",
      "Epoch 360/5000\n",
      "5/5 [==============================] - 0s 13ms/step - loss: 1.9554e-05 - rmse: 0.0044 - val_loss: 2.6424e-04 - val_rmse: 0.0163 - lr: 5.0000e-04\n",
      "Epoch 361/5000\n",
      "5/5 [==============================] - 0s 13ms/step - loss: 1.9537e-05 - rmse: 0.0044 - val_loss: 2.8638e-04 - val_rmse: 0.0169 - lr: 5.0000e-04\n",
      "Epoch 362/5000\n",
      "5/5 [==============================] - 0s 12ms/step - loss: 1.9004e-05 - rmse: 0.0044 - val_loss: 2.5693e-04 - val_rmse: 0.0160 - lr: 5.0000e-04\n",
      "Epoch 363/5000\n",
      "5/5 [==============================] - 0s 13ms/step - loss: 1.8899e-05 - rmse: 0.0043 - val_loss: 2.8372e-04 - val_rmse: 0.0168 - lr: 5.0000e-04\n",
      "Epoch 364/5000\n",
      "5/5 [==============================] - 0s 13ms/step - loss: 1.7757e-05 - rmse: 0.0042 - val_loss: 2.8206e-04 - val_rmse: 0.0168 - lr: 5.0000e-04\n",
      "Epoch 365/5000\n",
      "5/5 [==============================] - 0s 13ms/step - loss: 1.8148e-05 - rmse: 0.0043 - val_loss: 2.7012e-04 - val_rmse: 0.0164 - lr: 5.0000e-04\n",
      "Epoch 366/5000\n",
      "5/5 [==============================] - 0s 13ms/step - loss: 1.6687e-05 - rmse: 0.0041 - val_loss: 3.0318e-04 - val_rmse: 0.0174 - lr: 5.0000e-04\n",
      "Epoch 367/5000\n",
      "5/5 [==============================] - 0s 13ms/step - loss: 1.9604e-05 - rmse: 0.0044 - val_loss: 3.2471e-04 - val_rmse: 0.0180 - lr: 5.0000e-04\n",
      "Epoch 368/5000\n",
      "5/5 [==============================] - 0s 13ms/step - loss: 2.1153e-05 - rmse: 0.0046 - val_loss: 2.7021e-04 - val_rmse: 0.0164 - lr: 5.0000e-04\n",
      "Epoch 369/5000\n",
      "5/5 [==============================] - 0s 13ms/step - loss: 1.5802e-05 - rmse: 0.0040 - val_loss: 2.9333e-04 - val_rmse: 0.0171 - lr: 5.0000e-04\n",
      "Epoch 370/5000\n",
      "5/5 [==============================] - 0s 13ms/step - loss: 1.8879e-05 - rmse: 0.0043 - val_loss: 3.1372e-04 - val_rmse: 0.0177 - lr: 5.0000e-04\n",
      "Epoch 371/5000\n",
      "5/5 [==============================] - 0s 12ms/step - loss: 1.9531e-05 - rmse: 0.0044 - val_loss: 2.6185e-04 - val_rmse: 0.0162 - lr: 5.0000e-04\n",
      "Epoch 372/5000\n",
      "5/5 [==============================] - 0s 13ms/step - loss: 2.3414e-05 - rmse: 0.0048 - val_loss: 2.7155e-04 - val_rmse: 0.0165 - lr: 5.0000e-04\n",
      "Epoch 373/5000\n",
      "5/5 [==============================] - 0s 13ms/step - loss: 2.4302e-05 - rmse: 0.0049 - val_loss: 2.9714e-04 - val_rmse: 0.0172 - lr: 5.0000e-04\n",
      "Epoch 374/5000\n",
      "5/5 [==============================] - 0s 13ms/step - loss: 2.0793e-05 - rmse: 0.0046 - val_loss: 3.1823e-04 - val_rmse: 0.0178 - lr: 5.0000e-04\n",
      "Epoch 375/5000\n",
      "5/5 [==============================] - 0s 13ms/step - loss: 1.8226e-05 - rmse: 0.0043 - val_loss: 2.6520e-04 - val_rmse: 0.0163 - lr: 5.0000e-04\n"
     ]
    },
    {
     "name": "stdout",
     "output_type": "stream",
     "text": [
      "Epoch 376/5000\n",
      "5/5 [==============================] - 0s 13ms/step - loss: 2.0213e-05 - rmse: 0.0045 - val_loss: 2.9490e-04 - val_rmse: 0.0172 - lr: 5.0000e-04\n",
      "Epoch 377/5000\n",
      "5/5 [==============================] - 0s 13ms/step - loss: 1.9446e-05 - rmse: 0.0044 - val_loss: 3.1928e-04 - val_rmse: 0.0179 - lr: 5.0000e-04\n",
      "Epoch 378/5000\n",
      "5/5 [==============================] - 0s 13ms/step - loss: 1.8548e-05 - rmse: 0.0043 - val_loss: 2.5836e-04 - val_rmse: 0.0161 - lr: 5.0000e-04\n",
      "Epoch 379/5000\n",
      "5/5 [==============================] - 0s 13ms/step - loss: 1.9776e-05 - rmse: 0.0044 - val_loss: 2.9009e-04 - val_rmse: 0.0170 - lr: 5.0000e-04\n",
      "Epoch 380/5000\n",
      "5/5 [==============================] - 0s 13ms/step - loss: 1.6810e-05 - rmse: 0.0041 - val_loss: 2.7774e-04 - val_rmse: 0.0167 - lr: 5.0000e-04\n",
      "Epoch 381/5000\n",
      "5/5 [==============================] - 0s 14ms/step - loss: 1.4221e-05 - rmse: 0.0038 - val_loss: 2.6821e-04 - val_rmse: 0.0164 - lr: 5.0000e-04\n",
      "Epoch 382/5000\n",
      "5/5 [==============================] - 0s 12ms/step - loss: 1.4686e-05 - rmse: 0.0038 - val_loss: 2.7234e-04 - val_rmse: 0.0165 - lr: 5.0000e-04\n",
      "Epoch 383/5000\n",
      "5/5 [==============================] - 0s 13ms/step - loss: 1.3917e-05 - rmse: 0.0037 - val_loss: 2.6432e-04 - val_rmse: 0.0163 - lr: 5.0000e-04\n",
      "Epoch 384/5000\n",
      "5/5 [==============================] - 0s 13ms/step - loss: 1.3270e-05 - rmse: 0.0036 - val_loss: 2.9640e-04 - val_rmse: 0.0172 - lr: 5.0000e-04\n",
      "Epoch 385/5000\n",
      "5/5 [==============================] - 0s 12ms/step - loss: 1.6419e-05 - rmse: 0.0041 - val_loss: 2.9129e-04 - val_rmse: 0.0171 - lr: 5.0000e-04\n",
      "Epoch 386/5000\n",
      "5/5 [==============================] - 0s 13ms/step - loss: 1.4484e-05 - rmse: 0.0038 - val_loss: 2.6180e-04 - val_rmse: 0.0162 - lr: 5.0000e-04\n",
      "Epoch 387/5000\n",
      "5/5 [==============================] - 0s 13ms/step - loss: 1.3694e-05 - rmse: 0.0037 - val_loss: 2.6371e-04 - val_rmse: 0.0162 - lr: 5.0000e-04\n",
      "Epoch 388/5000\n",
      "5/5 [==============================] - 0s 13ms/step - loss: 1.2869e-05 - rmse: 0.0036 - val_loss: 2.8422e-04 - val_rmse: 0.0169 - lr: 5.0000e-04\n",
      "Epoch 389/5000\n",
      "5/5 [==============================] - 0s 13ms/step - loss: 1.3974e-05 - rmse: 0.0037 - val_loss: 2.7217e-04 - val_rmse: 0.0165 - lr: 5.0000e-04\n",
      "Epoch 390/5000\n",
      "5/5 [==============================] - 0s 13ms/step - loss: 1.6162e-05 - rmse: 0.0040 - val_loss: 2.6236e-04 - val_rmse: 0.0162 - lr: 5.0000e-04\n",
      "Epoch 391/5000\n",
      "5/5 [==============================] - 0s 12ms/step - loss: 1.7541e-05 - rmse: 0.0042 - val_loss: 2.5755e-04 - val_rmse: 0.0160 - lr: 5.0000e-04\n",
      "Epoch 392/5000\n",
      "5/5 [==============================] - 0s 12ms/step - loss: 2.1695e-05 - rmse: 0.0047 - val_loss: 3.3909e-04 - val_rmse: 0.0184 - lr: 5.0000e-04\n",
      "Epoch 393/5000\n",
      "5/5 [==============================] - 0s 13ms/step - loss: 2.6457e-05 - rmse: 0.0051 - val_loss: 3.1841e-04 - val_rmse: 0.0178 - lr: 5.0000e-04\n",
      "Epoch 394/5000\n",
      "5/5 [==============================] - 0s 12ms/step - loss: 3.0476e-05 - rmse: 0.0055 - val_loss: 2.6250e-04 - val_rmse: 0.0162 - lr: 5.0000e-04\n",
      "Epoch 395/5000\n",
      "5/5 [==============================] - 0s 12ms/step - loss: 1.8212e-05 - rmse: 0.0043 - val_loss: 2.7658e-04 - val_rmse: 0.0166 - lr: 5.0000e-04\n",
      "Epoch 396/5000\n",
      "5/5 [==============================] - 0s 12ms/step - loss: 1.8472e-05 - rmse: 0.0043 - val_loss: 2.6240e-04 - val_rmse: 0.0162 - lr: 5.0000e-04\n",
      "Epoch 397/5000\n",
      "5/5 [==============================] - 0s 13ms/step - loss: 1.8024e-05 - rmse: 0.0042 - val_loss: 3.1271e-04 - val_rmse: 0.0177 - lr: 5.0000e-04\n",
      "Epoch 398/5000\n",
      "5/5 [==============================] - 0s 13ms/step - loss: 1.6256e-05 - rmse: 0.0040 - val_loss: 3.0934e-04 - val_rmse: 0.0176 - lr: 5.0000e-04\n",
      "Epoch 399/5000\n",
      "5/5 [==============================] - 0s 12ms/step - loss: 1.6109e-05 - rmse: 0.0040 - val_loss: 2.5131e-04 - val_rmse: 0.0159 - lr: 5.0000e-04\n",
      "Epoch 400/5000\n",
      "5/5 [==============================] - 0s 13ms/step - loss: 1.3807e-05 - rmse: 0.0037 - val_loss: 2.9639e-04 - val_rmse: 0.0172 - lr: 5.0000e-04\n",
      "Epoch 401/5000\n",
      "5/5 [==============================] - 0s 12ms/step - loss: 1.7687e-05 - rmse: 0.0042 - val_loss: 2.5451e-04 - val_rmse: 0.0160 - lr: 5.0000e-04\n",
      "Epoch 402/5000\n",
      "5/5 [==============================] - 0s 12ms/step - loss: 1.8096e-05 - rmse: 0.0043 - val_loss: 2.4970e-04 - val_rmse: 0.0158 - lr: 5.0000e-04\n",
      "Epoch 403/5000\n",
      "5/5 [==============================] - 0s 13ms/step - loss: 2.4622e-05 - rmse: 0.0050 - val_loss: 3.0160e-04 - val_rmse: 0.0174 - lr: 5.0000e-04\n",
      "Epoch 404/5000\n",
      "5/5 [==============================] - 0s 13ms/step - loss: 1.8587e-05 - rmse: 0.0043 - val_loss: 2.4791e-04 - val_rmse: 0.0157 - lr: 5.0000e-04\n",
      "Epoch 405/5000\n",
      "5/5 [==============================] - 0s 13ms/step - loss: 1.1828e-05 - rmse: 0.0034 - val_loss: 3.2380e-04 - val_rmse: 0.0180 - lr: 5.0000e-04\n",
      "Epoch 406/5000\n",
      "5/5 [==============================] - 0s 13ms/step - loss: 1.8409e-05 - rmse: 0.0043 - val_loss: 2.5564e-04 - val_rmse: 0.0160 - lr: 5.0000e-04\n",
      "Epoch 407/5000\n",
      "5/5 [==============================] - 0s 12ms/step - loss: 2.1896e-05 - rmse: 0.0047 - val_loss: 2.4739e-04 - val_rmse: 0.0157 - lr: 5.0000e-04\n",
      "Epoch 408/5000\n",
      "5/5 [==============================] - 0s 13ms/step - loss: 3.5829e-05 - rmse: 0.0060 - val_loss: 2.9551e-04 - val_rmse: 0.0172 - lr: 5.0000e-04\n",
      "Epoch 409/5000\n",
      "5/5 [==============================] - 0s 13ms/step - loss: 1.9977e-05 - rmse: 0.0045 - val_loss: 2.6294e-04 - val_rmse: 0.0162 - lr: 5.0000e-04\n",
      "Epoch 410/5000\n",
      "5/5 [==============================] - 0s 13ms/step - loss: 1.6409e-05 - rmse: 0.0041 - val_loss: 2.4973e-04 - val_rmse: 0.0158 - lr: 5.0000e-04\n",
      "Epoch 411/5000\n",
      "5/5 [==============================] - 0s 13ms/step - loss: 1.7798e-05 - rmse: 0.0042 - val_loss: 2.5451e-04 - val_rmse: 0.0160 - lr: 5.0000e-04\n",
      "Epoch 412/5000\n",
      "5/5 [==============================] - 0s 12ms/step - loss: 1.7298e-05 - rmse: 0.0042 - val_loss: 2.7432e-04 - val_rmse: 0.0166 - lr: 5.0000e-04\n",
      "Epoch 413/5000\n",
      "5/5 [==============================] - 0s 13ms/step - loss: 1.7026e-05 - rmse: 0.0041 - val_loss: 3.2314e-04 - val_rmse: 0.0180 - lr: 5.0000e-04\n",
      "Epoch 414/5000\n",
      "5/5 [==============================] - 0s 13ms/step - loss: 2.3282e-05 - rmse: 0.0048 - val_loss: 2.7656e-04 - val_rmse: 0.0166 - lr: 5.0000e-04\n",
      "Epoch 415/5000\n",
      "5/5 [==============================] - 0s 13ms/step - loss: 1.9833e-05 - rmse: 0.0045 - val_loss: 2.5665e-04 - val_rmse: 0.0160 - lr: 5.0000e-04\n",
      "Epoch 416/5000\n",
      "5/5 [==============================] - 0s 13ms/step - loss: 1.4131e-05 - rmse: 0.0038 - val_loss: 2.5942e-04 - val_rmse: 0.0161 - lr: 5.0000e-04\n",
      "Epoch 417/5000\n",
      "5/5 [==============================] - 0s 13ms/step - loss: 1.2522e-05 - rmse: 0.0035 - val_loss: 2.9729e-04 - val_rmse: 0.0172 - lr: 5.0000e-04\n",
      "Epoch 418/5000\n",
      "5/5 [==============================] - 0s 13ms/step - loss: 1.2412e-05 - rmse: 0.0035 - val_loss: 2.9202e-04 - val_rmse: 0.0171 - lr: 5.0000e-04\n",
      "Epoch 419/5000\n",
      "5/5 [==============================] - 0s 13ms/step - loss: 1.1819e-05 - rmse: 0.0034 - val_loss: 2.6408e-04 - val_rmse: 0.0163 - lr: 5.0000e-04\n",
      "Epoch 420/5000\n",
      "5/5 [==============================] - 0s 13ms/step - loss: 1.1734e-05 - rmse: 0.0034 - val_loss: 2.7193e-04 - val_rmse: 0.0165 - lr: 5.0000e-04\n",
      "Epoch 421/5000\n",
      "5/5 [==============================] - 0s 13ms/step - loss: 1.0081e-05 - rmse: 0.0032 - val_loss: 2.7167e-04 - val_rmse: 0.0165 - lr: 5.0000e-04\n",
      "Epoch 422/5000\n",
      "5/5 [==============================] - 0s 12ms/step - loss: 9.6509e-06 - rmse: 0.0031 - val_loss: 2.6157e-04 - val_rmse: 0.0162 - lr: 5.0000e-04\n",
      "Epoch 423/5000\n",
      "5/5 [==============================] - 0s 13ms/step - loss: 1.0805e-05 - rmse: 0.0033 - val_loss: 2.8175e-04 - val_rmse: 0.0168 - lr: 5.0000e-04\n",
      "Epoch 424/5000\n",
      "5/5 [==============================] - 0s 13ms/step - loss: 1.2138e-05 - rmse: 0.0035 - val_loss: 2.8083e-04 - val_rmse: 0.0168 - lr: 5.0000e-04\n",
      "Epoch 425/5000\n",
      "5/5 [==============================] - 0s 13ms/step - loss: 1.2656e-05 - rmse: 0.0036 - val_loss: 2.9398e-04 - val_rmse: 0.0171 - lr: 5.0000e-04\n",
      "Epoch 426/5000\n",
      "5/5 [==============================] - 0s 13ms/step - loss: 1.2378e-05 - rmse: 0.0035 - val_loss: 2.8790e-04 - val_rmse: 0.0170 - lr: 5.0000e-04\n",
      "Epoch 427/5000\n"
     ]
    },
    {
     "name": "stdout",
     "output_type": "stream",
     "text": [
      "5/5 [==============================] - 0s 12ms/step - loss: 1.0544e-05 - rmse: 0.0032 - val_loss: 2.5191e-04 - val_rmse: 0.0159 - lr: 5.0000e-04\n",
      "Epoch 428/5000\n",
      "5/5 [==============================] - 0s 13ms/step - loss: 1.0436e-05 - rmse: 0.0032 - val_loss: 2.5360e-04 - val_rmse: 0.0159 - lr: 5.0000e-04\n",
      "Epoch 429/5000\n",
      "5/5 [==============================] - 0s 12ms/step - loss: 9.5317e-06 - rmse: 0.0031 - val_loss: 2.8081e-04 - val_rmse: 0.0168 - lr: 5.0000e-04\n",
      "Epoch 430/5000\n",
      "5/5 [==============================] - 0s 13ms/step - loss: 1.0170e-05 - rmse: 0.0032 - val_loss: 2.6780e-04 - val_rmse: 0.0164 - lr: 5.0000e-04\n",
      "Epoch 431/5000\n",
      "5/5 [==============================] - 0s 12ms/step - loss: 9.4950e-06 - rmse: 0.0031 - val_loss: 2.7262e-04 - val_rmse: 0.0165 - lr: 5.0000e-04\n",
      "Epoch 432/5000\n",
      "5/5 [==============================] - 0s 13ms/step - loss: 9.2568e-06 - rmse: 0.0030 - val_loss: 2.8664e-04 - val_rmse: 0.0169 - lr: 5.0000e-04\n",
      "Epoch 433/5000\n",
      "5/5 [==============================] - 0s 13ms/step - loss: 1.0962e-05 - rmse: 0.0033 - val_loss: 2.7762e-04 - val_rmse: 0.0167 - lr: 5.0000e-04\n",
      "Epoch 434/5000\n",
      "5/5 [==============================] - 0s 13ms/step - loss: 9.6026e-06 - rmse: 0.0031 - val_loss: 2.6495e-04 - val_rmse: 0.0163 - lr: 5.0000e-04\n",
      "Epoch 435/5000\n",
      "5/5 [==============================] - 0s 12ms/step - loss: 9.4612e-06 - rmse: 0.0031 - val_loss: 2.6252e-04 - val_rmse: 0.0162 - lr: 5.0000e-04\n",
      "Epoch 436/5000\n",
      "5/5 [==============================] - 0s 13ms/step - loss: 9.9493e-06 - rmse: 0.0032 - val_loss: 2.4811e-04 - val_rmse: 0.0158 - lr: 5.0000e-04\n",
      "Epoch 437/5000\n",
      "5/5 [==============================] - 0s 13ms/step - loss: 9.6354e-06 - rmse: 0.0031 - val_loss: 2.7409e-04 - val_rmse: 0.0166 - lr: 5.0000e-04\n",
      "Epoch 438/5000\n",
      "5/5 [==============================] - 0s 13ms/step - loss: 1.2089e-05 - rmse: 0.0035 - val_loss: 2.5917e-04 - val_rmse: 0.0161 - lr: 5.0000e-04\n",
      "Epoch 439/5000\n",
      "5/5 [==============================] - 0s 13ms/step - loss: 1.2216e-05 - rmse: 0.0035 - val_loss: 2.8059e-04 - val_rmse: 0.0168 - lr: 5.0000e-04\n",
      "Epoch 440/5000\n",
      "5/5 [==============================] - 0s 13ms/step - loss: 1.1540e-05 - rmse: 0.0034 - val_loss: 2.8079e-04 - val_rmse: 0.0168 - lr: 5.0000e-04\n",
      "Epoch 441/5000\n",
      "5/5 [==============================] - 0s 13ms/step - loss: 9.0482e-06 - rmse: 0.0030 - val_loss: 2.5080e-04 - val_rmse: 0.0158 - lr: 5.0000e-04\n",
      "Epoch 442/5000\n",
      "5/5 [==============================] - 0s 12ms/step - loss: 8.9160e-06 - rmse: 0.0030 - val_loss: 2.6340e-04 - val_rmse: 0.0162 - lr: 5.0000e-04\n",
      "Epoch 443/5000\n",
      "5/5 [==============================] - 0s 13ms/step - loss: 9.7084e-06 - rmse: 0.0031 - val_loss: 2.6094e-04 - val_rmse: 0.0162 - lr: 5.0000e-04\n",
      "Epoch 444/5000\n",
      "5/5 [==============================] - 0s 13ms/step - loss: 8.3478e-06 - rmse: 0.0029 - val_loss: 2.6393e-04 - val_rmse: 0.0162 - lr: 5.0000e-04\n",
      "Epoch 445/5000\n",
      "5/5 [==============================] - 0s 13ms/step - loss: 8.5365e-06 - rmse: 0.0029 - val_loss: 2.6196e-04 - val_rmse: 0.0162 - lr: 5.0000e-04\n",
      "Epoch 446/5000\n",
      "5/5 [==============================] - 0s 13ms/step - loss: 8.5452e-06 - rmse: 0.0029 - val_loss: 2.6023e-04 - val_rmse: 0.0161 - lr: 5.0000e-04\n",
      "Epoch 447/5000\n",
      "5/5 [==============================] - 0s 12ms/step - loss: 8.3291e-06 - rmse: 0.0029 - val_loss: 2.6722e-04 - val_rmse: 0.0163 - lr: 5.0000e-04\n",
      "Epoch 448/5000\n",
      "5/5 [==============================] - 0s 13ms/step - loss: 8.8618e-06 - rmse: 0.0030 - val_loss: 2.6180e-04 - val_rmse: 0.0162 - lr: 5.0000e-04\n",
      "Epoch 449/5000\n",
      "5/5 [==============================] - 0s 13ms/step - loss: 8.7808e-06 - rmse: 0.0030 - val_loss: 2.6967e-04 - val_rmse: 0.0164 - lr: 5.0000e-04\n",
      "Epoch 450/5000\n",
      "5/5 [==============================] - 0s 13ms/step - loss: 1.0205e-05 - rmse: 0.0032 - val_loss: 2.4579e-04 - val_rmse: 0.0157 - lr: 5.0000e-04\n",
      "Epoch 451/5000\n",
      "5/5 [==============================] - 0s 13ms/step - loss: 9.3898e-06 - rmse: 0.0031 - val_loss: 2.5976e-04 - val_rmse: 0.0161 - lr: 5.0000e-04\n",
      "Epoch 452/5000\n",
      "5/5 [==============================] - 0s 13ms/step - loss: 1.0616e-05 - rmse: 0.0033 - val_loss: 2.4480e-04 - val_rmse: 0.0156 - lr: 5.0000e-04\n",
      "Epoch 453/5000\n",
      "5/5 [==============================] - 0s 12ms/step - loss: 8.3956e-06 - rmse: 0.0029 - val_loss: 2.5372e-04 - val_rmse: 0.0159 - lr: 5.0000e-04\n",
      "Epoch 454/5000\n",
      "5/5 [==============================] - 0s 12ms/step - loss: 9.4941e-06 - rmse: 0.0031 - val_loss: 2.8998e-04 - val_rmse: 0.0170 - lr: 5.0000e-04\n",
      "Epoch 455/5000\n",
      "5/5 [==============================] - 0s 12ms/step - loss: 1.0873e-05 - rmse: 0.0033 - val_loss: 2.6752e-04 - val_rmse: 0.0164 - lr: 5.0000e-04\n",
      "Epoch 456/5000\n",
      "5/5 [==============================] - 0s 13ms/step - loss: 7.7065e-06 - rmse: 0.0028 - val_loss: 2.4175e-04 - val_rmse: 0.0155 - lr: 5.0000e-04\n",
      "Epoch 457/5000\n",
      "5/5 [==============================] - 0s 13ms/step - loss: 1.1535e-05 - rmse: 0.0034 - val_loss: 2.4757e-04 - val_rmse: 0.0157 - lr: 5.0000e-04\n",
      "Epoch 458/5000\n",
      "5/5 [==============================] - 0s 13ms/step - loss: 1.1658e-05 - rmse: 0.0034 - val_loss: 2.4486e-04 - val_rmse: 0.0156 - lr: 5.0000e-04\n",
      "Epoch 459/5000\n",
      "5/5 [==============================] - 0s 12ms/step - loss: 8.2354e-06 - rmse: 0.0029 - val_loss: 2.6551e-04 - val_rmse: 0.0163 - lr: 5.0000e-04\n",
      "Epoch 460/5000\n",
      "5/5 [==============================] - 0s 13ms/step - loss: 8.6497e-06 - rmse: 0.0029 - val_loss: 2.6578e-04 - val_rmse: 0.0163 - lr: 5.0000e-04\n",
      "Epoch 461/5000\n",
      "5/5 [==============================] - 0s 13ms/step - loss: 1.1350e-05 - rmse: 0.0034 - val_loss: 2.7437e-04 - val_rmse: 0.0166 - lr: 5.0000e-04\n",
      "Epoch 462/5000\n",
      "5/5 [==============================] - 0s 13ms/step - loss: 1.4638e-05 - rmse: 0.0038 - val_loss: 2.6620e-04 - val_rmse: 0.0163 - lr: 5.0000e-04\n",
      "Epoch 463/5000\n",
      "5/5 [==============================] - 0s 13ms/step - loss: 2.0731e-05 - rmse: 0.0046 - val_loss: 2.3939e-04 - val_rmse: 0.0155 - lr: 5.0000e-04\n",
      "Epoch 464/5000\n",
      "5/5 [==============================] - 0s 13ms/step - loss: 1.9034e-05 - rmse: 0.0044 - val_loss: 2.6167e-04 - val_rmse: 0.0162 - lr: 5.0000e-04\n",
      "Epoch 465/5000\n",
      "5/5 [==============================] - 0s 13ms/step - loss: 2.5621e-05 - rmse: 0.0051 - val_loss: 2.1836e-04 - val_rmse: 0.0148 - lr: 5.0000e-04\n",
      "Epoch 466/5000\n",
      "5/5 [==============================] - 0s 13ms/step - loss: 1.6424e-05 - rmse: 0.0041 - val_loss: 2.5377e-04 - val_rmse: 0.0159 - lr: 5.0000e-04\n",
      "Epoch 467/5000\n",
      "5/5 [==============================] - 0s 12ms/step - loss: 1.0183e-05 - rmse: 0.0032 - val_loss: 2.6112e-04 - val_rmse: 0.0162 - lr: 5.0000e-04\n",
      "Epoch 468/5000\n",
      "5/5 [==============================] - 0s 12ms/step - loss: 9.8487e-06 - rmse: 0.0031 - val_loss: 2.4796e-04 - val_rmse: 0.0157 - lr: 5.0000e-04\n",
      "Epoch 469/5000\n",
      "5/5 [==============================] - 0s 12ms/step - loss: 8.4325e-06 - rmse: 0.0029 - val_loss: 3.0560e-04 - val_rmse: 0.0175 - lr: 5.0000e-04\n",
      "Epoch 470/5000\n",
      "5/5 [==============================] - 0s 12ms/step - loss: 8.3525e-06 - rmse: 0.0029 - val_loss: 2.4738e-04 - val_rmse: 0.0157 - lr: 5.0000e-04\n",
      "Epoch 471/5000\n",
      "5/5 [==============================] - 0s 12ms/step - loss: 1.0365e-05 - rmse: 0.0032 - val_loss: 2.4938e-04 - val_rmse: 0.0158 - lr: 5.0000e-04\n",
      "Epoch 472/5000\n",
      "5/5 [==============================] - 0s 12ms/step - loss: 7.5680e-06 - rmse: 0.0028 - val_loss: 2.5679e-04 - val_rmse: 0.0160 - lr: 5.0000e-04\n",
      "Epoch 473/5000\n",
      "5/5 [==============================] - 0s 12ms/step - loss: 9.4363e-06 - rmse: 0.0031 - val_loss: 2.5741e-04 - val_rmse: 0.0160 - lr: 5.0000e-04\n",
      "Epoch 474/5000\n",
      "5/5 [==============================] - 0s 13ms/step - loss: 7.4209e-06 - rmse: 0.0027 - val_loss: 2.7013e-04 - val_rmse: 0.0164 - lr: 5.0000e-04\n",
      "Epoch 475/5000\n",
      "5/5 [==============================] - 0s 12ms/step - loss: 8.2628e-06 - rmse: 0.0029 - val_loss: 2.6753e-04 - val_rmse: 0.0164 - lr: 5.0000e-04\n",
      "Epoch 476/5000\n",
      "5/5 [==============================] - 0s 13ms/step - loss: 6.9779e-06 - rmse: 0.0026 - val_loss: 2.4377e-04 - val_rmse: 0.0156 - lr: 5.0000e-04\n",
      "Epoch 477/5000\n",
      "5/5 [==============================] - 0s 13ms/step - loss: 9.3504e-06 - rmse: 0.0031 - val_loss: 2.6493e-04 - val_rmse: 0.0163 - lr: 5.0000e-04\n",
      "Epoch 478/5000\n"
     ]
    },
    {
     "name": "stdout",
     "output_type": "stream",
     "text": [
      "5/5 [==============================] - 0s 13ms/step - loss: 9.7647e-06 - rmse: 0.0031 - val_loss: 2.6991e-04 - val_rmse: 0.0164 - lr: 5.0000e-04\n",
      "Epoch 479/5000\n",
      "5/5 [==============================] - 0s 12ms/step - loss: 1.0730e-05 - rmse: 0.0033 - val_loss: 2.4281e-04 - val_rmse: 0.0156 - lr: 5.0000e-04\n",
      "Epoch 480/5000\n",
      "5/5 [==============================] - 0s 13ms/step - loss: 7.4951e-06 - rmse: 0.0027 - val_loss: 2.8286e-04 - val_rmse: 0.0168 - lr: 5.0000e-04\n",
      "Epoch 481/5000\n",
      "5/5 [==============================] - 0s 13ms/step - loss: 8.4542e-06 - rmse: 0.0029 - val_loss: 2.5093e-04 - val_rmse: 0.0158 - lr: 5.0000e-04\n",
      "Epoch 482/5000\n",
      "5/5 [==============================] - 0s 13ms/step - loss: 8.8182e-06 - rmse: 0.0030 - val_loss: 2.6965e-04 - val_rmse: 0.0164 - lr: 5.0000e-04\n",
      "Epoch 483/5000\n",
      "5/5 [==============================] - 0s 13ms/step - loss: 7.7011e-06 - rmse: 0.0028 - val_loss: 2.6927e-04 - val_rmse: 0.0164 - lr: 5.0000e-04\n",
      "Epoch 484/5000\n",
      "5/5 [==============================] - 0s 12ms/step - loss: 7.3291e-06 - rmse: 0.0027 - val_loss: 2.6444e-04 - val_rmse: 0.0163 - lr: 5.0000e-04\n",
      "Epoch 485/5000\n",
      "5/5 [==============================] - 0s 13ms/step - loss: 7.0459e-06 - rmse: 0.0027 - val_loss: 2.8297e-04 - val_rmse: 0.0168 - lr: 5.0000e-04\n",
      "Epoch 486/5000\n",
      "5/5 [==============================] - 0s 12ms/step - loss: 7.8751e-06 - rmse: 0.0028 - val_loss: 2.4495e-04 - val_rmse: 0.0157 - lr: 5.0000e-04\n",
      "Epoch 487/5000\n",
      "5/5 [==============================] - 0s 12ms/step - loss: 6.9650e-06 - rmse: 0.0026 - val_loss: 2.7288e-04 - val_rmse: 0.0165 - lr: 5.0000e-04\n",
      "Epoch 488/5000\n",
      "5/5 [==============================] - 0s 12ms/step - loss: 7.3219e-06 - rmse: 0.0027 - val_loss: 2.4272e-04 - val_rmse: 0.0156 - lr: 5.0000e-04\n",
      "Epoch 489/5000\n",
      "5/5 [==============================] - 0s 12ms/step - loss: 6.6425e-06 - rmse: 0.0026 - val_loss: 2.6156e-04 - val_rmse: 0.0162 - lr: 5.0000e-04\n",
      "Epoch 490/5000\n",
      "5/5 [==============================] - 0s 12ms/step - loss: 6.8329e-06 - rmse: 0.0026 - val_loss: 2.6060e-04 - val_rmse: 0.0161 - lr: 5.0000e-04\n",
      "Epoch 491/5000\n",
      "5/5 [==============================] - 0s 13ms/step - loss: 6.7290e-06 - rmse: 0.0026 - val_loss: 2.6258e-04 - val_rmse: 0.0162 - lr: 5.0000e-04\n",
      "Epoch 492/5000\n",
      "5/5 [==============================] - 0s 13ms/step - loss: 7.3791e-06 - rmse: 0.0027 - val_loss: 2.5682e-04 - val_rmse: 0.0160 - lr: 5.0000e-04\n",
      "Epoch 493/5000\n",
      "5/5 [==============================] - 0s 13ms/step - loss: 6.8115e-06 - rmse: 0.0026 - val_loss: 2.8320e-04 - val_rmse: 0.0168 - lr: 5.0000e-04\n",
      "Epoch 494/5000\n",
      "5/5 [==============================] - 0s 12ms/step - loss: 1.0625e-05 - rmse: 0.0033 - val_loss: 2.7905e-04 - val_rmse: 0.0167 - lr: 5.0000e-04\n",
      "Epoch 495/5000\n",
      "5/5 [==============================] - 0s 12ms/step - loss: 1.5116e-05 - rmse: 0.0039 - val_loss: 2.6562e-04 - val_rmse: 0.0163 - lr: 5.0000e-04\n",
      "Epoch 496/5000\n",
      "5/5 [==============================] - 0s 12ms/step - loss: 1.1430e-05 - rmse: 0.0034 - val_loss: 2.4959e-04 - val_rmse: 0.0158 - lr: 5.0000e-04\n",
      "Epoch 497/5000\n",
      "5/5 [==============================] - 0s 12ms/step - loss: 1.4394e-05 - rmse: 0.0038 - val_loss: 2.6921e-04 - val_rmse: 0.0164 - lr: 5.0000e-04\n",
      "Epoch 498/5000\n",
      "5/5 [==============================] - 0s 13ms/step - loss: 2.1333e-05 - rmse: 0.0046 - val_loss: 2.2661e-04 - val_rmse: 0.0151 - lr: 5.0000e-04\n",
      "Epoch 499/5000\n",
      "5/5 [==============================] - 0s 12ms/step - loss: 2.0927e-05 - rmse: 0.0046 - val_loss: 3.1926e-04 - val_rmse: 0.0179 - lr: 5.0000e-04\n",
      "Epoch 500/5000\n",
      "5/5 [==============================] - 0s 12ms/step - loss: 1.9090e-05 - rmse: 0.0044 - val_loss: 2.0841e-04 - val_rmse: 0.0144 - lr: 5.0000e-04\n",
      "Epoch 501/5000\n",
      "5/5 [==============================] - 0s 12ms/step - loss: 1.5490e-05 - rmse: 0.0039 - val_loss: 2.5355e-04 - val_rmse: 0.0159 - lr: 5.0000e-04\n",
      "Epoch 502/5000\n",
      "5/5 [==============================] - 0s 13ms/step - loss: 1.4994e-05 - rmse: 0.0039 - val_loss: 2.6723e-04 - val_rmse: 0.0163 - lr: 5.0000e-04\n",
      "Epoch 503/5000\n",
      "5/5 [==============================] - 0s 12ms/step - loss: 1.0864e-05 - rmse: 0.0033 - val_loss: 2.2739e-04 - val_rmse: 0.0151 - lr: 5.0000e-04\n",
      "Epoch 504/5000\n",
      "5/5 [==============================] - 0s 13ms/step - loss: 9.3145e-06 - rmse: 0.0031 - val_loss: 2.7484e-04 - val_rmse: 0.0166 - lr: 5.0000e-04\n",
      "Epoch 505/5000\n",
      "5/5 [==============================] - 0s 12ms/step - loss: 7.7630e-06 - rmse: 0.0028 - val_loss: 2.4523e-04 - val_rmse: 0.0157 - lr: 5.0000e-04\n",
      "Epoch 506/5000\n",
      "5/5 [==============================] - 0s 12ms/step - loss: 7.8992e-06 - rmse: 0.0028 - val_loss: 2.7365e-04 - val_rmse: 0.0165 - lr: 5.0000e-04\n",
      "Epoch 507/5000\n",
      "5/5 [==============================] - 0s 12ms/step - loss: 8.9787e-06 - rmse: 0.0030 - val_loss: 2.3736e-04 - val_rmse: 0.0154 - lr: 5.0000e-04\n",
      "Epoch 508/5000\n",
      "5/5 [==============================] - 0s 12ms/step - loss: 1.1432e-05 - rmse: 0.0034 - val_loss: 2.8110e-04 - val_rmse: 0.0168 - lr: 5.0000e-04\n",
      "Epoch 509/5000\n",
      "5/5 [==============================] - 0s 13ms/step - loss: 1.1698e-05 - rmse: 0.0034 - val_loss: 2.4173e-04 - val_rmse: 0.0155 - lr: 5.0000e-04\n",
      "Epoch 510/5000\n",
      "5/5 [==============================] - 0s 12ms/step - loss: 7.5853e-06 - rmse: 0.0028 - val_loss: 2.6395e-04 - val_rmse: 0.0162 - lr: 5.0000e-04\n",
      "Epoch 511/5000\n",
      "5/5 [==============================] - 0s 13ms/step - loss: 6.6579e-06 - rmse: 0.0026 - val_loss: 2.5805e-04 - val_rmse: 0.0161 - lr: 5.0000e-04\n",
      "Epoch 512/5000\n",
      "5/5 [==============================] - 0s 12ms/step - loss: 5.6922e-06 - rmse: 0.0024 - val_loss: 2.4753e-04 - val_rmse: 0.0157 - lr: 5.0000e-04\n",
      "Epoch 513/5000\n",
      "5/5 [==============================] - 0s 12ms/step - loss: 6.5242e-06 - rmse: 0.0026 - val_loss: 2.5973e-04 - val_rmse: 0.0161 - lr: 5.0000e-04\n",
      "Epoch 514/5000\n",
      "5/5 [==============================] - 0s 12ms/step - loss: 6.8023e-06 - rmse: 0.0026 - val_loss: 2.3824e-04 - val_rmse: 0.0154 - lr: 5.0000e-04\n",
      "Epoch 515/5000\n",
      "5/5 [==============================] - 0s 13ms/step - loss: 9.3895e-06 - rmse: 0.0031 - val_loss: 2.5063e-04 - val_rmse: 0.0158 - lr: 5.0000e-04\n",
      "Epoch 516/5000\n",
      "5/5 [==============================] - 0s 13ms/step - loss: 1.0183e-05 - rmse: 0.0032 - val_loss: 2.4902e-04 - val_rmse: 0.0158 - lr: 5.0000e-04\n",
      "Epoch 517/5000\n",
      "5/5 [==============================] - 0s 13ms/step - loss: 7.8585e-06 - rmse: 0.0028 - val_loss: 2.6044e-04 - val_rmse: 0.0161 - lr: 5.0000e-04\n",
      "Epoch 518/5000\n",
      "5/5 [==============================] - 0s 13ms/step - loss: 5.8773e-06 - rmse: 0.0024 - val_loss: 2.6465e-04 - val_rmse: 0.0163 - lr: 5.0000e-04\n",
      "Epoch 519/5000\n",
      "5/5 [==============================] - 0s 12ms/step - loss: 5.8270e-06 - rmse: 0.0024 - val_loss: 2.5749e-04 - val_rmse: 0.0160 - lr: 5.0000e-04\n",
      "Epoch 520/5000\n",
      "5/5 [==============================] - 0s 13ms/step - loss: 5.8142e-06 - rmse: 0.0024 - val_loss: 2.5584e-04 - val_rmse: 0.0160 - lr: 5.0000e-04\n",
      "Epoch 521/5000\n",
      "5/5 [==============================] - 0s 12ms/step - loss: 6.0521e-06 - rmse: 0.0025 - val_loss: 2.7391e-04 - val_rmse: 0.0166 - lr: 5.0000e-04\n",
      "Epoch 522/5000\n",
      "5/5 [==============================] - 0s 12ms/step - loss: 5.9491e-06 - rmse: 0.0024 - val_loss: 2.4308e-04 - val_rmse: 0.0156 - lr: 5.0000e-04\n",
      "Epoch 523/5000\n",
      "5/5 [==============================] - 0s 13ms/step - loss: 7.4229e-06 - rmse: 0.0027 - val_loss: 2.7113e-04 - val_rmse: 0.0165 - lr: 5.0000e-04\n",
      "Epoch 524/5000\n",
      "5/5 [==============================] - 0s 13ms/step - loss: 7.8824e-06 - rmse: 0.0028 - val_loss: 2.3308e-04 - val_rmse: 0.0153 - lr: 5.0000e-04\n",
      "Epoch 525/5000\n",
      "5/5 [==============================] - 0s 13ms/step - loss: 9.2010e-06 - rmse: 0.0030 - val_loss: 2.6317e-04 - val_rmse: 0.0162 - lr: 5.0000e-04\n",
      "Epoch 526/5000\n",
      "5/5 [==============================] - 0s 13ms/step - loss: 8.8599e-06 - rmse: 0.0030 - val_loss: 2.5904e-04 - val_rmse: 0.0161 - lr: 5.0000e-04\n",
      "Epoch 527/5000\n",
      "5/5 [==============================] - 0s 13ms/step - loss: 8.8797e-06 - rmse: 0.0030 - val_loss: 2.4654e-04 - val_rmse: 0.0157 - lr: 5.0000e-04\n",
      "Epoch 528/5000\n",
      "5/5 [==============================] - 0s 13ms/step - loss: 8.3604e-06 - rmse: 0.0029 - val_loss: 2.6718e-04 - val_rmse: 0.0163 - lr: 5.0000e-04\n",
      "Epoch 529/5000\n"
     ]
    },
    {
     "name": "stdout",
     "output_type": "stream",
     "text": [
      "5/5 [==============================] - 0s 12ms/step - loss: 9.3079e-06 - rmse: 0.0031 - val_loss: 2.5110e-04 - val_rmse: 0.0158 - lr: 5.0000e-04\n",
      "Epoch 530/5000\n",
      "5/5 [==============================] - 0s 13ms/step - loss: 6.6229e-06 - rmse: 0.0026 - val_loss: 2.5034e-04 - val_rmse: 0.0158 - lr: 5.0000e-04\n",
      "Epoch 531/5000\n",
      "5/5 [==============================] - 0s 12ms/step - loss: 6.3264e-06 - rmse: 0.0025 - val_loss: 2.5355e-04 - val_rmse: 0.0159 - lr: 5.0000e-04\n",
      "Epoch 532/5000\n",
      "5/5 [==============================] - 0s 12ms/step - loss: 5.9252e-06 - rmse: 0.0024 - val_loss: 2.5579e-04 - val_rmse: 0.0160 - lr: 5.0000e-04\n",
      "Epoch 533/5000\n",
      "5/5 [==============================] - 0s 13ms/step - loss: 5.8588e-06 - rmse: 0.0024 - val_loss: 2.4484e-04 - val_rmse: 0.0156 - lr: 5.0000e-04\n",
      "Epoch 534/5000\n",
      "5/5 [==============================] - 0s 12ms/step - loss: 6.3414e-06 - rmse: 0.0025 - val_loss: 2.5474e-04 - val_rmse: 0.0160 - lr: 5.0000e-04\n",
      "Epoch 535/5000\n",
      "5/5 [==============================] - 0s 12ms/step - loss: 8.6541e-06 - rmse: 0.0029 - val_loss: 2.4157e-04 - val_rmse: 0.0155 - lr: 5.0000e-04\n",
      "Epoch 536/5000\n",
      "5/5 [==============================] - 0s 12ms/step - loss: 8.6457e-06 - rmse: 0.0029 - val_loss: 2.6951e-04 - val_rmse: 0.0164 - lr: 5.0000e-04\n",
      "Epoch 537/5000\n",
      "5/5 [==============================] - 0s 13ms/step - loss: 6.6009e-06 - rmse: 0.0026 - val_loss: 2.5644e-04 - val_rmse: 0.0160 - lr: 5.0000e-04\n",
      "Epoch 538/5000\n",
      "5/5 [==============================] - 0s 12ms/step - loss: 6.2766e-06 - rmse: 0.0025 - val_loss: 2.5327e-04 - val_rmse: 0.0159 - lr: 5.0000e-04\n",
      "Epoch 539/5000\n",
      "5/5 [==============================] - 0s 13ms/step - loss: 6.8779e-06 - rmse: 0.0026 - val_loss: 2.4831e-04 - val_rmse: 0.0158 - lr: 5.0000e-04\n",
      "Epoch 540/5000\n",
      "5/5 [==============================] - 0s 12ms/step - loss: 5.7637e-06 - rmse: 0.0024 - val_loss: 2.6023e-04 - val_rmse: 0.0161 - lr: 5.0000e-04\n",
      "Epoch 541/5000\n",
      "5/5 [==============================] - 0s 12ms/step - loss: 6.2110e-06 - rmse: 0.0025 - val_loss: 2.4217e-04 - val_rmse: 0.0156 - lr: 5.0000e-04\n",
      "Epoch 542/5000\n",
      "5/5 [==============================] - 0s 13ms/step - loss: 7.3938e-06 - rmse: 0.0027 - val_loss: 2.5987e-04 - val_rmse: 0.0161 - lr: 5.0000e-04\n",
      "Epoch 543/5000\n",
      "5/5 [==============================] - 0s 13ms/step - loss: 9.1733e-06 - rmse: 0.0030 - val_loss: 2.4508e-04 - val_rmse: 0.0157 - lr: 5.0000e-04\n",
      "Epoch 544/5000\n",
      "5/5 [==============================] - 0s 13ms/step - loss: 1.1315e-05 - rmse: 0.0034 - val_loss: 2.6695e-04 - val_rmse: 0.0163 - lr: 5.0000e-04\n",
      "Epoch 545/5000\n",
      "5/5 [==============================] - 0s 12ms/step - loss: 1.0094e-05 - rmse: 0.0032 - val_loss: 2.3103e-04 - val_rmse: 0.0152 - lr: 5.0000e-04\n",
      "Epoch 546/5000\n",
      "5/5 [==============================] - 0s 13ms/step - loss: 1.0847e-05 - rmse: 0.0033 - val_loss: 2.5184e-04 - val_rmse: 0.0159 - lr: 5.0000e-04\n",
      "Epoch 547/5000\n",
      "5/5 [==============================] - 0s 13ms/step - loss: 1.1278e-05 - rmse: 0.0034 - val_loss: 2.3177e-04 - val_rmse: 0.0152 - lr: 5.0000e-04\n",
      "Epoch 548/5000\n",
      "5/5 [==============================] - 0s 13ms/step - loss: 7.4574e-06 - rmse: 0.0027 - val_loss: 2.4354e-04 - val_rmse: 0.0156 - lr: 5.0000e-04\n",
      "Epoch 549/5000\n",
      "5/5 [==============================] - 0s 13ms/step - loss: 7.4325e-06 - rmse: 0.0027 - val_loss: 2.4240e-04 - val_rmse: 0.0156 - lr: 5.0000e-04\n",
      "Epoch 550/5000\n",
      "5/5 [==============================] - 0s 13ms/step - loss: 7.6394e-06 - rmse: 0.0028 - val_loss: 2.4419e-04 - val_rmse: 0.0156 - lr: 5.0000e-04\n",
      "Epoch 551/5000\n",
      "5/5 [==============================] - 0s 13ms/step - loss: 7.5783e-06 - rmse: 0.0028 - val_loss: 2.4084e-04 - val_rmse: 0.0155 - lr: 5.0000e-04\n",
      "Epoch 552/5000\n",
      "5/5 [==============================] - 0s 13ms/step - loss: 7.8633e-06 - rmse: 0.0028 - val_loss: 2.3134e-04 - val_rmse: 0.0152 - lr: 5.0000e-04\n",
      "Epoch 553/5000\n",
      "5/5 [==============================] - 0s 13ms/step - loss: 7.2616e-06 - rmse: 0.0027 - val_loss: 2.3646e-04 - val_rmse: 0.0154 - lr: 5.0000e-04\n",
      "Epoch 554/5000\n",
      "5/5 [==============================] - 0s 13ms/step - loss: 1.0649e-05 - rmse: 0.0033 - val_loss: 2.3549e-04 - val_rmse: 0.0153 - lr: 5.0000e-04\n",
      "Epoch 555/5000\n",
      "5/5 [==============================] - 0s 13ms/step - loss: 7.2825e-06 - rmse: 0.0027 - val_loss: 2.4523e-04 - val_rmse: 0.0157 - lr: 5.0000e-04\n",
      "Epoch 556/5000\n",
      "5/5 [==============================] - 0s 12ms/step - loss: 7.4013e-06 - rmse: 0.0027 - val_loss: 2.3734e-04 - val_rmse: 0.0154 - lr: 5.0000e-04\n",
      "Epoch 557/5000\n",
      "5/5 [==============================] - 0s 13ms/step - loss: 6.0852e-06 - rmse: 0.0025 - val_loss: 2.4512e-04 - val_rmse: 0.0157 - lr: 5.0000e-04\n",
      "Epoch 558/5000\n",
      "5/5 [==============================] - 0s 13ms/step - loss: 7.2695e-06 - rmse: 0.0027 - val_loss: 2.4876e-04 - val_rmse: 0.0158 - lr: 5.0000e-04\n",
      "Epoch 559/5000\n",
      "5/5 [==============================] - 0s 13ms/step - loss: 5.2246e-06 - rmse: 0.0023 - val_loss: 2.3111e-04 - val_rmse: 0.0152 - lr: 5.0000e-04\n",
      "Epoch 560/5000\n",
      "5/5 [==============================] - 0s 13ms/step - loss: 6.6980e-06 - rmse: 0.0026 - val_loss: 2.4078e-04 - val_rmse: 0.0155 - lr: 5.0000e-04\n",
      "Epoch 561/5000\n",
      "5/5 [==============================] - 0s 12ms/step - loss: 7.4301e-06 - rmse: 0.0027 - val_loss: 2.3566e-04 - val_rmse: 0.0154 - lr: 5.0000e-04\n",
      "Epoch 562/5000\n",
      "5/5 [==============================] - 0s 12ms/step - loss: 5.4186e-06 - rmse: 0.0023 - val_loss: 2.3936e-04 - val_rmse: 0.0155 - lr: 5.0000e-04\n",
      "Epoch 563/5000\n",
      "5/5 [==============================] - 0s 12ms/step - loss: 6.7008e-06 - rmse: 0.0026 - val_loss: 2.3439e-04 - val_rmse: 0.0153 - lr: 5.0000e-04\n",
      "Epoch 564/5000\n",
      "5/5 [==============================] - 0s 12ms/step - loss: 7.4075e-06 - rmse: 0.0027 - val_loss: 2.6866e-04 - val_rmse: 0.0164 - lr: 5.0000e-04\n",
      "Epoch 565/5000\n",
      "5/5 [==============================] - 0s 13ms/step - loss: 1.0479e-05 - rmse: 0.0032 - val_loss: 2.3499e-04 - val_rmse: 0.0153 - lr: 5.0000e-04\n",
      "Epoch 566/5000\n",
      "5/5 [==============================] - 0s 12ms/step - loss: 1.7905e-05 - rmse: 0.0042 - val_loss: 2.7186e-04 - val_rmse: 0.0165 - lr: 5.0000e-04\n",
      "Epoch 567/5000\n",
      "5/5 [==============================] - 0s 13ms/step - loss: 1.4073e-05 - rmse: 0.0038 - val_loss: 2.2605e-04 - val_rmse: 0.0150 - lr: 5.0000e-04\n",
      "Epoch 568/5000\n",
      "5/5 [==============================] - 0s 13ms/step - loss: 8.6251e-06 - rmse: 0.0029 - val_loss: 2.5234e-04 - val_rmse: 0.0159 - lr: 5.0000e-04\n",
      "Epoch 569/5000\n",
      "5/5 [==============================] - 0s 13ms/step - loss: 6.0645e-06 - rmse: 0.0025 - val_loss: 2.2741e-04 - val_rmse: 0.0151 - lr: 5.0000e-04\n",
      "Epoch 570/5000\n",
      "5/5 [==============================] - 0s 13ms/step - loss: 6.6668e-06 - rmse: 0.0026 - val_loss: 2.6103e-04 - val_rmse: 0.0162 - lr: 5.0000e-04\n",
      "Epoch 571/5000\n",
      "5/5 [==============================] - 0s 13ms/step - loss: 9.0369e-06 - rmse: 0.0030 - val_loss: 2.3387e-04 - val_rmse: 0.0153 - lr: 5.0000e-04\n",
      "Epoch 572/5000\n",
      "5/5 [==============================] - 0s 13ms/step - loss: 8.3353e-06 - rmse: 0.0029 - val_loss: 2.4926e-04 - val_rmse: 0.0158 - lr: 5.0000e-04\n",
      "Epoch 573/5000\n",
      "5/5 [==============================] - 0s 13ms/step - loss: 5.7415e-06 - rmse: 0.0024 - val_loss: 2.4422e-04 - val_rmse: 0.0156 - lr: 5.0000e-04\n",
      "Epoch 574/5000\n",
      "5/5 [==============================] - 0s 13ms/step - loss: 5.0358e-06 - rmse: 0.0022 - val_loss: 2.4582e-04 - val_rmse: 0.0157 - lr: 5.0000e-04\n",
      "Epoch 575/5000\n",
      "5/5 [==============================] - 0s 13ms/step - loss: 4.8971e-06 - rmse: 0.0022 - val_loss: 2.4291e-04 - val_rmse: 0.0156 - lr: 5.0000e-04\n",
      "Epoch 576/5000\n",
      "5/5 [==============================] - 0s 13ms/step - loss: 4.3665e-06 - rmse: 0.0021 - val_loss: 2.3772e-04 - val_rmse: 0.0154 - lr: 5.0000e-04\n",
      "Epoch 577/5000\n",
      "5/5 [==============================] - 0s 14ms/step - loss: 5.4835e-06 - rmse: 0.0023 - val_loss: 2.4798e-04 - val_rmse: 0.0157 - lr: 5.0000e-04\n",
      "Epoch 578/5000\n",
      "5/5 [==============================] - 0s 13ms/step - loss: 5.0838e-06 - rmse: 0.0023 - val_loss: 2.4655e-04 - val_rmse: 0.0157 - lr: 5.0000e-04\n",
      "Epoch 579/5000\n",
      "5/5 [==============================] - 0s 13ms/step - loss: 5.2475e-06 - rmse: 0.0023 - val_loss: 2.5295e-04 - val_rmse: 0.0159 - lr: 5.0000e-04\n",
      "Epoch 580/5000\n"
     ]
    },
    {
     "name": "stdout",
     "output_type": "stream",
     "text": [
      "5/5 [==============================] - 0s 13ms/step - loss: 4.9019e-06 - rmse: 0.0022 - val_loss: 2.2985e-04 - val_rmse: 0.0152 - lr: 5.0000e-04\n",
      "Epoch 581/5000\n",
      "5/5 [==============================] - 0s 13ms/step - loss: 8.6749e-06 - rmse: 0.0029 - val_loss: 2.5608e-04 - val_rmse: 0.0160 - lr: 5.0000e-04\n",
      "Epoch 582/5000\n",
      "5/5 [==============================] - 0s 13ms/step - loss: 1.2149e-05 - rmse: 0.0035 - val_loss: 2.0884e-04 - val_rmse: 0.0145 - lr: 5.0000e-04\n",
      "Epoch 583/5000\n",
      "5/5 [==============================] - 0s 13ms/step - loss: 2.2762e-05 - rmse: 0.0048 - val_loss: 3.0370e-04 - val_rmse: 0.0174 - lr: 5.0000e-04\n",
      "Epoch 584/5000\n",
      "5/5 [==============================] - 0s 12ms/step - loss: 2.4455e-05 - rmse: 0.0049 - val_loss: 1.9318e-04 - val_rmse: 0.0139 - lr: 5.0000e-04\n",
      "Epoch 585/5000\n",
      "5/5 [==============================] - 0s 12ms/step - loss: 2.1687e-05 - rmse: 0.0047 - val_loss: 2.8056e-04 - val_rmse: 0.0167 - lr: 5.0000e-04\n",
      "Epoch 586/5000\n",
      "5/5 [==============================] - 0s 12ms/step - loss: 1.6916e-05 - rmse: 0.0041 - val_loss: 2.0078e-04 - val_rmse: 0.0142 - lr: 5.0000e-04\n",
      "Epoch 587/5000\n",
      "5/5 [==============================] - 0s 12ms/step - loss: 1.4827e-05 - rmse: 0.0039 - val_loss: 2.6877e-04 - val_rmse: 0.0164 - lr: 5.0000e-04\n",
      "Epoch 588/5000\n",
      "5/5 [==============================] - 0s 13ms/step - loss: 1.6796e-05 - rmse: 0.0041 - val_loss: 2.6428e-04 - val_rmse: 0.0163 - lr: 5.0000e-04\n",
      "Epoch 589/5000\n",
      "5/5 [==============================] - 0s 13ms/step - loss: 8.9633e-06 - rmse: 0.0030 - val_loss: 2.6011e-04 - val_rmse: 0.0161 - lr: 5.0000e-04\n",
      "Epoch 590/5000\n",
      "5/5 [==============================] - 0s 13ms/step - loss: 1.0266e-05 - rmse: 0.0032 - val_loss: 2.7277e-04 - val_rmse: 0.0165 - lr: 5.0000e-04\n",
      "Epoch 591/5000\n",
      "5/5 [==============================] - 0s 13ms/step - loss: 9.6830e-06 - rmse: 0.0031 - val_loss: 2.5542e-04 - val_rmse: 0.0160 - lr: 5.0000e-04\n",
      "Epoch 592/5000\n",
      "5/5 [==============================] - 0s 13ms/step - loss: 6.7891e-06 - rmse: 0.0026 - val_loss: 2.4640e-04 - val_rmse: 0.0157 - lr: 5.0000e-04\n",
      "Epoch 593/5000\n",
      "5/5 [==============================] - 0s 13ms/step - loss: 6.1616e-06 - rmse: 0.0025 - val_loss: 2.2566e-04 - val_rmse: 0.0150 - lr: 5.0000e-04\n",
      "Epoch 594/5000\n",
      "5/5 [==============================] - 0s 13ms/step - loss: 6.5463e-06 - rmse: 0.0026 - val_loss: 2.3554e-04 - val_rmse: 0.0153 - lr: 5.0000e-04\n",
      "Epoch 595/5000\n",
      "5/5 [==============================] - 0s 13ms/step - loss: 6.3489e-06 - rmse: 0.0025 - val_loss: 2.2953e-04 - val_rmse: 0.0152 - lr: 5.0000e-04\n",
      "Epoch 596/5000\n",
      "5/5 [==============================] - 0s 13ms/step - loss: 5.9049e-06 - rmse: 0.0024 - val_loss: 2.3599e-04 - val_rmse: 0.0154 - lr: 5.0000e-04\n",
      "Epoch 597/5000\n",
      "5/5 [==============================] - 0s 13ms/step - loss: 4.5301e-06 - rmse: 0.0021 - val_loss: 2.3159e-04 - val_rmse: 0.0152 - lr: 5.0000e-04\n",
      "Epoch 598/5000\n",
      "5/5 [==============================] - 0s 13ms/step - loss: 4.5849e-06 - rmse: 0.0021 - val_loss: 2.3012e-04 - val_rmse: 0.0152 - lr: 5.0000e-04\n",
      "Epoch 599/5000\n",
      "5/5 [==============================] - 0s 13ms/step - loss: 6.1250e-06 - rmse: 0.0025 - val_loss: 2.4122e-04 - val_rmse: 0.0155 - lr: 5.0000e-04\n",
      "Epoch 600/5000\n",
      "5/5 [==============================] - 0s 13ms/step - loss: 5.0305e-06 - rmse: 0.0022 - val_loss: 2.3033e-04 - val_rmse: 0.0152 - lr: 5.0000e-04\n",
      "Epoch 601/5000\n",
      "5/5 [==============================] - 0s 13ms/step - loss: 6.7233e-06 - rmse: 0.0026 - val_loss: 2.3998e-04 - val_rmse: 0.0155 - lr: 5.0000e-04\n",
      "Epoch 602/5000\n",
      "5/5 [==============================] - 0s 13ms/step - loss: 7.3174e-06 - rmse: 0.0027 - val_loss: 2.6118e-04 - val_rmse: 0.0162 - lr: 5.0000e-04\n",
      "Epoch 603/5000\n",
      "5/5 [==============================] - 0s 13ms/step - loss: 8.2977e-06 - rmse: 0.0029 - val_loss: 2.4902e-04 - val_rmse: 0.0158 - lr: 5.0000e-04\n",
      "Epoch 604/5000\n",
      "5/5 [==============================] - 0s 13ms/step - loss: 7.5665e-06 - rmse: 0.0028 - val_loss: 2.8203e-04 - val_rmse: 0.0168 - lr: 5.0000e-04\n",
      "Epoch 605/5000\n",
      "5/5 [==============================] - 0s 13ms/step - loss: 7.6872e-06 - rmse: 0.0028 - val_loss: 2.3151e-04 - val_rmse: 0.0152 - lr: 5.0000e-04\n",
      "Epoch 606/5000\n",
      "5/5 [==============================] - 0s 13ms/step - loss: 5.3312e-06 - rmse: 0.0023 - val_loss: 2.5191e-04 - val_rmse: 0.0159 - lr: 5.0000e-04\n",
      "Epoch 607/5000\n",
      "5/5 [==============================] - 0s 13ms/step - loss: 4.5664e-06 - rmse: 0.0021 - val_loss: 2.3160e-04 - val_rmse: 0.0152 - lr: 5.0000e-04\n",
      "Epoch 608/5000\n",
      "5/5 [==============================] - 0s 13ms/step - loss: 4.5596e-06 - rmse: 0.0021 - val_loss: 2.4876e-04 - val_rmse: 0.0158 - lr: 5.0000e-04\n",
      "Epoch 609/5000\n",
      "5/5 [==============================] - 0s 13ms/step - loss: 4.5969e-06 - rmse: 0.0021 - val_loss: 2.2820e-04 - val_rmse: 0.0151 - lr: 5.0000e-04\n",
      "Epoch 610/5000\n",
      "5/5 [==============================] - 0s 13ms/step - loss: 4.9990e-06 - rmse: 0.0022 - val_loss: 2.6891e-04 - val_rmse: 0.0164 - lr: 5.0000e-04\n",
      "Epoch 611/5000\n",
      "5/5 [==============================] - 0s 13ms/step - loss: 5.1347e-06 - rmse: 0.0023 - val_loss: 2.2847e-04 - val_rmse: 0.0151 - lr: 5.0000e-04\n",
      "Epoch 612/5000\n",
      "5/5 [==============================] - 0s 13ms/step - loss: 4.1428e-06 - rmse: 0.0020 - val_loss: 2.5128e-04 - val_rmse: 0.0159 - lr: 5.0000e-04\n",
      "Epoch 613/5000\n",
      "5/5 [==============================] - 0s 12ms/step - loss: 4.1978e-06 - rmse: 0.0020 - val_loss: 2.2848e-04 - val_rmse: 0.0151 - lr: 5.0000e-04\n",
      "Epoch 614/5000\n",
      "5/5 [==============================] - 0s 13ms/step - loss: 4.6270e-06 - rmse: 0.0022 - val_loss: 2.3502e-04 - val_rmse: 0.0153 - lr: 5.0000e-04\n",
      "Epoch 615/5000\n",
      "5/5 [==============================] - 0s 13ms/step - loss: 4.4845e-06 - rmse: 0.0021 - val_loss: 2.3053e-04 - val_rmse: 0.0152 - lr: 5.0000e-04\n",
      "Epoch 616/5000\n",
      "5/5 [==============================] - 0s 13ms/step - loss: 4.3332e-06 - rmse: 0.0021 - val_loss: 2.4125e-04 - val_rmse: 0.0155 - lr: 5.0000e-04\n",
      "Epoch 617/5000\n",
      "5/5 [==============================] - 0s 13ms/step - loss: 4.4098e-06 - rmse: 0.0021 - val_loss: 2.4594e-04 - val_rmse: 0.0157 - lr: 5.0000e-04\n",
      "Epoch 618/5000\n",
      "5/5 [==============================] - 0s 12ms/step - loss: 5.6640e-06 - rmse: 0.0024 - val_loss: 2.2635e-04 - val_rmse: 0.0150 - lr: 5.0000e-04\n",
      "Epoch 619/5000\n",
      "5/5 [==============================] - 0s 13ms/step - loss: 3.9075e-06 - rmse: 0.0020 - val_loss: 2.4677e-04 - val_rmse: 0.0157 - lr: 5.0000e-04\n",
      "Epoch 620/5000\n",
      "5/5 [==============================] - 0s 12ms/step - loss: 4.8137e-06 - rmse: 0.0022 - val_loss: 2.4506e-04 - val_rmse: 0.0157 - lr: 5.0000e-04\n",
      "Epoch 621/5000\n",
      "5/5 [==============================] - 0s 13ms/step - loss: 5.1561e-06 - rmse: 0.0023 - val_loss: 2.4269e-04 - val_rmse: 0.0156 - lr: 5.0000e-04\n",
      "Epoch 622/5000\n",
      "5/5 [==============================] - 0s 13ms/step - loss: 3.4894e-06 - rmse: 0.0019 - val_loss: 2.3510e-04 - val_rmse: 0.0153 - lr: 5.0000e-04\n",
      "Epoch 623/5000\n",
      "5/5 [==============================] - 0s 13ms/step - loss: 4.1519e-06 - rmse: 0.0020 - val_loss: 2.4509e-04 - val_rmse: 0.0157 - lr: 5.0000e-04\n",
      "Epoch 624/5000\n",
      "5/5 [==============================] - 0s 13ms/step - loss: 4.4249e-06 - rmse: 0.0021 - val_loss: 2.4029e-04 - val_rmse: 0.0155 - lr: 5.0000e-04\n",
      "Epoch 625/5000\n",
      "5/5 [==============================] - 0s 13ms/step - loss: 5.7450e-06 - rmse: 0.0024 - val_loss: 2.2228e-04 - val_rmse: 0.0149 - lr: 5.0000e-04\n",
      "Epoch 626/5000\n",
      "5/5 [==============================] - 0s 13ms/step - loss: 7.1128e-06 - rmse: 0.0027 - val_loss: 2.4718e-04 - val_rmse: 0.0157 - lr: 5.0000e-04\n",
      "Epoch 627/5000\n",
      "5/5 [==============================] - 0s 13ms/step - loss: 7.4390e-06 - rmse: 0.0027 - val_loss: 2.3621e-04 - val_rmse: 0.0154 - lr: 5.0000e-04\n",
      "Epoch 628/5000\n",
      "5/5 [==============================] - 0s 13ms/step - loss: 7.1064e-06 - rmse: 0.0027 - val_loss: 2.3732e-04 - val_rmse: 0.0154 - lr: 5.0000e-04\n",
      "Epoch 629/5000\n",
      "5/5 [==============================] - 0s 12ms/step - loss: 6.1730e-06 - rmse: 0.0025 - val_loss: 2.3260e-04 - val_rmse: 0.0153 - lr: 5.0000e-04\n",
      "Epoch 630/5000\n",
      "5/5 [==============================] - 0s 13ms/step - loss: 5.0382e-06 - rmse: 0.0022 - val_loss: 2.2914e-04 - val_rmse: 0.0151 - lr: 5.0000e-04\n",
      "Epoch 631/5000\n"
     ]
    },
    {
     "name": "stdout",
     "output_type": "stream",
     "text": [
      "5/5 [==============================] - 0s 13ms/step - loss: 5.3945e-06 - rmse: 0.0023 - val_loss: 2.3843e-04 - val_rmse: 0.0154 - lr: 5.0000e-04\n",
      "Epoch 632/5000\n",
      "5/5 [==============================] - 0s 12ms/step - loss: 4.8277e-06 - rmse: 0.0022 - val_loss: 2.3268e-04 - val_rmse: 0.0153 - lr: 5.0000e-04\n",
      "Epoch 633/5000\n",
      "5/5 [==============================] - 0s 13ms/step - loss: 5.4387e-06 - rmse: 0.0023 - val_loss: 2.5681e-04 - val_rmse: 0.0160 - lr: 5.0000e-04\n",
      "Epoch 634/5000\n",
      "5/5 [==============================] - 0s 13ms/step - loss: 5.4023e-06 - rmse: 0.0023 - val_loss: 2.5225e-04 - val_rmse: 0.0159 - lr: 5.0000e-04\n",
      "Epoch 635/5000\n",
      "5/5 [==============================] - 0s 13ms/step - loss: 6.7808e-06 - rmse: 0.0026 - val_loss: 2.3680e-04 - val_rmse: 0.0154 - lr: 5.0000e-04\n",
      "Epoch 636/5000\n",
      "5/5 [==============================] - 0s 13ms/step - loss: 4.9661e-06 - rmse: 0.0022 - val_loss: 2.5273e-04 - val_rmse: 0.0159 - lr: 5.0000e-04\n",
      "Epoch 637/5000\n",
      "5/5 [==============================] - 0s 13ms/step - loss: 4.0483e-06 - rmse: 0.0020 - val_loss: 2.2812e-04 - val_rmse: 0.0151 - lr: 5.0000e-04\n",
      "Epoch 638/5000\n",
      "5/5 [==============================] - 0s 13ms/step - loss: 4.7613e-06 - rmse: 0.0022 - val_loss: 2.5334e-04 - val_rmse: 0.0159 - lr: 5.0000e-04\n",
      "Epoch 639/5000\n",
      "5/5 [==============================] - 0s 12ms/step - loss: 5.3010e-06 - rmse: 0.0023 - val_loss: 2.2857e-04 - val_rmse: 0.0151 - lr: 5.0000e-04\n",
      "Epoch 640/5000\n",
      "5/5 [==============================] - 0s 13ms/step - loss: 4.7100e-06 - rmse: 0.0022 - val_loss: 2.7393e-04 - val_rmse: 0.0166 - lr: 5.0000e-04\n",
      "Epoch 641/5000\n",
      "5/5 [==============================] - 0s 13ms/step - loss: 5.8439e-06 - rmse: 0.0024 - val_loss: 2.2911e-04 - val_rmse: 0.0151 - lr: 5.0000e-04\n",
      "Epoch 642/5000\n",
      "5/5 [==============================] - 0s 13ms/step - loss: 5.5339e-06 - rmse: 0.0024 - val_loss: 2.4473e-04 - val_rmse: 0.0156 - lr: 5.0000e-04\n",
      "Epoch 643/5000\n",
      "5/5 [==============================] - 0s 13ms/step - loss: 5.8018e-06 - rmse: 0.0024 - val_loss: 2.3688e-04 - val_rmse: 0.0154 - lr: 5.0000e-04\n",
      "Epoch 644/5000\n",
      "5/5 [==============================] - 0s 13ms/step - loss: 5.0290e-06 - rmse: 0.0022 - val_loss: 2.5197e-04 - val_rmse: 0.0159 - lr: 5.0000e-04\n",
      "Epoch 645/5000\n",
      "5/5 [==============================] - 0s 13ms/step - loss: 3.9897e-06 - rmse: 0.0020 - val_loss: 2.4492e-04 - val_rmse: 0.0156 - lr: 5.0000e-04\n",
      "Epoch 646/5000\n",
      "5/5 [==============================] - 0s 12ms/step - loss: 3.4653e-06 - rmse: 0.0019 - val_loss: 2.3249e-04 - val_rmse: 0.0152 - lr: 5.0000e-04\n",
      "Epoch 647/5000\n",
      "5/5 [==============================] - 0s 13ms/step - loss: 3.8210e-06 - rmse: 0.0020 - val_loss: 2.3574e-04 - val_rmse: 0.0154 - lr: 5.0000e-04\n",
      "Epoch 648/5000\n",
      "5/5 [==============================] - 0s 13ms/step - loss: 4.2780e-06 - rmse: 0.0021 - val_loss: 2.3843e-04 - val_rmse: 0.0154 - lr: 5.0000e-04\n",
      "Epoch 649/5000\n",
      "5/5 [==============================] - 0s 13ms/step - loss: 4.3887e-06 - rmse: 0.0021 - val_loss: 2.5193e-04 - val_rmse: 0.0159 - lr: 5.0000e-04\n",
      "Epoch 650/5000\n",
      "5/5 [==============================] - 0s 13ms/step - loss: 3.7448e-06 - rmse: 0.0019 - val_loss: 2.3017e-04 - val_rmse: 0.0152 - lr: 5.0000e-04\n",
      "Epoch 651/5000\n",
      "5/5 [==============================] - 0s 12ms/step - loss: 3.6983e-06 - rmse: 0.0019 - val_loss: 2.4144e-04 - val_rmse: 0.0155 - lr: 5.0000e-04\n",
      "Epoch 652/5000\n",
      "5/5 [==============================] - 0s 13ms/step - loss: 4.5658e-06 - rmse: 0.0021 - val_loss: 2.3302e-04 - val_rmse: 0.0153 - lr: 5.0000e-04\n",
      "Epoch 653/5000\n",
      "5/5 [==============================] - 0s 13ms/step - loss: 3.7752e-06 - rmse: 0.0019 - val_loss: 2.3645e-04 - val_rmse: 0.0154 - lr: 5.0000e-04\n",
      "Epoch 654/5000\n",
      "5/5 [==============================] - 0s 13ms/step - loss: 4.2815e-06 - rmse: 0.0021 - val_loss: 2.4743e-04 - val_rmse: 0.0157 - lr: 5.0000e-04\n",
      "Epoch 655/5000\n",
      "5/5 [==============================] - 0s 13ms/step - loss: 3.9431e-06 - rmse: 0.0020 - val_loss: 2.2616e-04 - val_rmse: 0.0150 - lr: 5.0000e-04\n",
      "Epoch 656/5000\n",
      "5/5 [==============================] - 0s 12ms/step - loss: 3.5460e-06 - rmse: 0.0019 - val_loss: 2.4295e-04 - val_rmse: 0.0156 - lr: 5.0000e-04\n",
      "Epoch 657/5000\n",
      "5/5 [==============================] - 0s 13ms/step - loss: 4.1119e-06 - rmse: 0.0020 - val_loss: 2.1932e-04 - val_rmse: 0.0148 - lr: 5.0000e-04\n",
      "Epoch 658/5000\n",
      "5/5 [==============================] - 0s 13ms/step - loss: 3.7914e-06 - rmse: 0.0019 - val_loss: 2.3444e-04 - val_rmse: 0.0153 - lr: 5.0000e-04\n",
      "Epoch 659/5000\n",
      "5/5 [==============================] - 0s 13ms/step - loss: 4.3389e-06 - rmse: 0.0021 - val_loss: 2.4413e-04 - val_rmse: 0.0156 - lr: 5.0000e-04\n",
      "Epoch 660/5000\n",
      "5/5 [==============================] - 0s 13ms/step - loss: 7.2897e-06 - rmse: 0.0027 - val_loss: 2.3997e-04 - val_rmse: 0.0155 - lr: 5.0000e-04\n",
      "Epoch 661/5000\n",
      "5/5 [==============================] - 0s 13ms/step - loss: 4.8389e-06 - rmse: 0.0022 - val_loss: 2.4255e-04 - val_rmse: 0.0156 - lr: 5.0000e-04\n",
      "Epoch 662/5000\n",
      "5/5 [==============================] - 0s 13ms/step - loss: 5.3037e-06 - rmse: 0.0023 - val_loss: 2.2754e-04 - val_rmse: 0.0151 - lr: 5.0000e-04\n",
      "Epoch 663/5000\n",
      "5/5 [==============================] - 0s 13ms/step - loss: 7.0395e-06 - rmse: 0.0027 - val_loss: 2.4946e-04 - val_rmse: 0.0158 - lr: 5.0000e-04\n",
      "Epoch 664/5000\n",
      "5/5 [==============================] - 0s 13ms/step - loss: 1.1536e-05 - rmse: 0.0034 - val_loss: 2.2328e-04 - val_rmse: 0.0149 - lr: 5.0000e-04\n",
      "Epoch 665/5000\n",
      "5/5 [==============================] - 0s 13ms/step - loss: 1.1738e-05 - rmse: 0.0034 - val_loss: 2.3198e-04 - val_rmse: 0.0152 - lr: 5.0000e-04\n",
      "Epoch 666/5000\n",
      "5/5 [==============================] - 0s 13ms/step - loss: 1.0542e-05 - rmse: 0.0032 - val_loss: 2.4288e-04 - val_rmse: 0.0156 - lr: 5.0000e-04\n",
      "Epoch 667/5000\n",
      "5/5 [==============================] - 0s 13ms/step - loss: 1.0758e-05 - rmse: 0.0033 - val_loss: 2.5686e-04 - val_rmse: 0.0160 - lr: 5.0000e-04\n",
      "Epoch 668/5000\n",
      "5/5 [==============================] - 0s 13ms/step - loss: 1.2394e-05 - rmse: 0.0035 - val_loss: 2.4875e-04 - val_rmse: 0.0158 - lr: 5.0000e-04\n",
      "Epoch 669/5000\n",
      "5/5 [==============================] - 0s 13ms/step - loss: 1.7703e-05 - rmse: 0.0042 - val_loss: 2.6316e-04 - val_rmse: 0.0162 - lr: 5.0000e-04\n",
      "Epoch 670/5000\n",
      "5/5 [==============================] - 0s 13ms/step - loss: 1.9080e-05 - rmse: 0.0044 - val_loss: 2.3157e-04 - val_rmse: 0.0152 - lr: 5.0000e-04\n",
      "Epoch 671/5000\n",
      "5/5 [==============================] - 0s 13ms/step - loss: 9.0365e-06 - rmse: 0.0030 - val_loss: 2.6219e-04 - val_rmse: 0.0162 - lr: 5.0000e-04\n",
      "Epoch 672/5000\n",
      "5/5 [==============================] - 0s 13ms/step - loss: 9.5891e-06 - rmse: 0.0031 - val_loss: 2.2156e-04 - val_rmse: 0.0149 - lr: 5.0000e-04\n",
      "Epoch 673/5000\n",
      "5/5 [==============================] - 0s 13ms/step - loss: 5.5177e-06 - rmse: 0.0023 - val_loss: 2.5551e-04 - val_rmse: 0.0160 - lr: 5.0000e-04\n",
      "Epoch 674/5000\n",
      "5/5 [==============================] - 0s 13ms/step - loss: 5.3661e-06 - rmse: 0.0023 - val_loss: 2.2987e-04 - val_rmse: 0.0152 - lr: 5.0000e-04\n",
      "Epoch 675/5000\n",
      "5/5 [==============================] - 0s 13ms/step - loss: 5.7326e-06 - rmse: 0.0024 - val_loss: 2.4230e-04 - val_rmse: 0.0156 - lr: 5.0000e-04\n",
      "Epoch 676/5000\n",
      "5/5 [==============================] - 0s 13ms/step - loss: 7.1660e-06 - rmse: 0.0027 - val_loss: 2.0635e-04 - val_rmse: 0.0144 - lr: 5.0000e-04\n",
      "Epoch 677/5000\n",
      "5/5 [==============================] - 0s 13ms/step - loss: 7.4119e-06 - rmse: 0.0027 - val_loss: 2.5509e-04 - val_rmse: 0.0160 - lr: 5.0000e-04\n",
      "Epoch 678/5000\n",
      "5/5 [==============================] - 0s 13ms/step - loss: 8.5700e-06 - rmse: 0.0029 - val_loss: 2.3074e-04 - val_rmse: 0.0152 - lr: 5.0000e-04\n",
      "Epoch 679/5000\n",
      "5/5 [==============================] - 0s 13ms/step - loss: 8.1501e-06 - rmse: 0.0029 - val_loss: 2.4932e-04 - val_rmse: 0.0158 - lr: 5.0000e-04\n",
      "Epoch 680/5000\n",
      "5/5 [==============================] - 0s 13ms/step - loss: 6.1175e-06 - rmse: 0.0025 - val_loss: 2.1543e-04 - val_rmse: 0.0147 - lr: 5.0000e-04\n",
      "Epoch 681/5000\n",
      "5/5 [==============================] - 0s 12ms/step - loss: 9.5322e-06 - rmse: 0.0031 - val_loss: 2.1916e-04 - val_rmse: 0.0148 - lr: 5.0000e-04\n",
      "Epoch 682/5000\n"
     ]
    },
    {
     "name": "stdout",
     "output_type": "stream",
     "text": [
      "5/5 [==============================] - 0s 13ms/step - loss: 7.7287e-06 - rmse: 0.0028 - val_loss: 2.6154e-04 - val_rmse: 0.0162 - lr: 5.0000e-04\n",
      "Epoch 683/5000\n",
      "5/5 [==============================] - 0s 14ms/step - loss: 8.2487e-06 - rmse: 0.0029 - val_loss: 2.4656e-04 - val_rmse: 0.0157 - lr: 5.0000e-04\n",
      "Epoch 684/5000\n",
      "5/5 [==============================] - 0s 13ms/step - loss: 9.8650e-06 - rmse: 0.0031 - val_loss: 2.3841e-04 - val_rmse: 0.0154 - lr: 5.0000e-04\n",
      "Epoch 685/5000\n",
      "5/5 [==============================] - 0s 13ms/step - loss: 9.2783e-06 - rmse: 0.0030 - val_loss: 2.1295e-04 - val_rmse: 0.0146 - lr: 5.0000e-04\n",
      "Epoch 686/5000\n",
      "5/5 [==============================] - 0s 13ms/step - loss: 8.0920e-06 - rmse: 0.0028 - val_loss: 2.4912e-04 - val_rmse: 0.0158 - lr: 5.0000e-04\n",
      "Epoch 687/5000\n",
      "5/5 [==============================] - 0s 13ms/step - loss: 5.9964e-06 - rmse: 0.0024 - val_loss: 2.1205e-04 - val_rmse: 0.0146 - lr: 5.0000e-04\n",
      "Epoch 688/5000\n",
      "5/5 [==============================] - 0s 13ms/step - loss: 6.9391e-06 - rmse: 0.0026 - val_loss: 2.3807e-04 - val_rmse: 0.0154 - lr: 5.0000e-04\n",
      "Epoch 689/5000\n",
      "5/5 [==============================] - 0s 13ms/step - loss: 6.1589e-06 - rmse: 0.0025 - val_loss: 2.4202e-04 - val_rmse: 0.0156 - lr: 5.0000e-04\n",
      "Epoch 690/5000\n",
      "5/5 [==============================] - 0s 13ms/step - loss: 8.5629e-06 - rmse: 0.0029 - val_loss: 2.0185e-04 - val_rmse: 0.0142 - lr: 5.0000e-04\n",
      "Epoch 691/5000\n",
      "5/5 [==============================] - 0s 13ms/step - loss: 6.7833e-06 - rmse: 0.0026 - val_loss: 2.5746e-04 - val_rmse: 0.0160 - lr: 5.0000e-04\n",
      "Epoch 692/5000\n",
      "1/5 [=====>........................] - ETA: 0s - loss: 1.4437e-05 - rmse: 0.0038\n",
      "Epoch 692: ReduceLROnPlateau reducing learning rate to 0.0002500000118743628.\n",
      "5/5 [==============================] - 0s 13ms/step - loss: 1.0305e-05 - rmse: 0.0032 - val_loss: 1.9483e-04 - val_rmse: 0.0140 - lr: 5.0000e-04\n",
      "Epoch 693/5000\n",
      "5/5 [==============================] - 0s 13ms/step - loss: 1.2325e-05 - rmse: 0.0035 - val_loss: 2.4210e-04 - val_rmse: 0.0156 - lr: 2.5000e-04\n",
      "Epoch 694/5000\n",
      "5/5 [==============================] - 0s 13ms/step - loss: 7.9143e-06 - rmse: 0.0028 - val_loss: 2.1290e-04 - val_rmse: 0.0146 - lr: 2.5000e-04\n",
      "Epoch 695/5000\n",
      "5/5 [==============================] - 0s 13ms/step - loss: 8.3963e-06 - rmse: 0.0029 - val_loss: 1.9484e-04 - val_rmse: 0.0140 - lr: 2.5000e-04\n",
      "Epoch 696/5000\n",
      "5/5 [==============================] - 0s 13ms/step - loss: 8.2968e-06 - rmse: 0.0029 - val_loss: 2.6893e-04 - val_rmse: 0.0164 - lr: 2.5000e-04\n",
      "Epoch 697/5000\n",
      "5/5 [==============================] - 0s 13ms/step - loss: 9.3087e-06 - rmse: 0.0031 - val_loss: 2.3249e-04 - val_rmse: 0.0152 - lr: 2.5000e-04\n",
      "Epoch 698/5000\n",
      "5/5 [==============================] - 0s 12ms/step - loss: 8.7977e-06 - rmse: 0.0030 - val_loss: 2.2621e-04 - val_rmse: 0.0150 - lr: 2.5000e-04\n",
      "Epoch 699/5000\n",
      "5/5 [==============================] - 0s 12ms/step - loss: 5.4151e-06 - rmse: 0.0023 - val_loss: 2.2700e-04 - val_rmse: 0.0151 - lr: 2.5000e-04\n",
      "Epoch 700/5000\n",
      "5/5 [==============================] - 0s 13ms/step - loss: 3.6014e-06 - rmse: 0.0019 - val_loss: 2.0499e-04 - val_rmse: 0.0143 - lr: 2.5000e-04\n",
      "Epoch 701/5000\n",
      "5/5 [==============================] - 0s 13ms/step - loss: 3.8879e-06 - rmse: 0.0020 - val_loss: 2.2903e-04 - val_rmse: 0.0151 - lr: 2.5000e-04\n",
      "Epoch 702/5000\n",
      "5/5 [==============================] - 0s 13ms/step - loss: 3.4035e-06 - rmse: 0.0018 - val_loss: 2.2208e-04 - val_rmse: 0.0149 - lr: 2.5000e-04\n",
      "Epoch 703/5000\n",
      "5/5 [==============================] - 0s 13ms/step - loss: 3.5798e-06 - rmse: 0.0019 - val_loss: 2.3294e-04 - val_rmse: 0.0153 - lr: 2.5000e-04\n",
      "Epoch 704/5000\n",
      "5/5 [==============================] - 0s 13ms/step - loss: 3.1376e-06 - rmse: 0.0018 - val_loss: 2.3723e-04 - val_rmse: 0.0154 - lr: 2.5000e-04\n",
      "Epoch 705/5000\n",
      "5/5 [==============================] - 0s 13ms/step - loss: 3.8539e-06 - rmse: 0.0020 - val_loss: 2.1744e-04 - val_rmse: 0.0147 - lr: 2.5000e-04\n",
      "Epoch 706/5000\n",
      "5/5 [==============================] - 0s 13ms/step - loss: 3.5929e-06 - rmse: 0.0019 - val_loss: 2.2476e-04 - val_rmse: 0.0150 - lr: 2.5000e-04\n",
      "Epoch 707/5000\n",
      "5/5 [==============================] - 0s 13ms/step - loss: 2.5039e-06 - rmse: 0.0016 - val_loss: 2.1987e-04 - val_rmse: 0.0148 - lr: 2.5000e-04\n",
      "Epoch 708/5000\n",
      "5/5 [==============================] - 0s 13ms/step - loss: 2.7062e-06 - rmse: 0.0016 - val_loss: 2.2417e-04 - val_rmse: 0.0150 - lr: 2.5000e-04\n",
      "Epoch 709/5000\n",
      "5/5 [==============================] - 0s 13ms/step - loss: 2.5556e-06 - rmse: 0.0016 - val_loss: 2.2317e-04 - val_rmse: 0.0149 - lr: 2.5000e-04\n",
      "Epoch 710/5000\n",
      "5/5 [==============================] - 0s 13ms/step - loss: 2.5029e-06 - rmse: 0.0016 - val_loss: 2.2592e-04 - val_rmse: 0.0150 - lr: 2.5000e-04\n",
      "Epoch 711/5000\n",
      "5/5 [==============================] - 0s 13ms/step - loss: 3.1217e-06 - rmse: 0.0018 - val_loss: 2.2524e-04 - val_rmse: 0.0150 - lr: 2.5000e-04\n",
      "Epoch 712/5000\n",
      "5/5 [==============================] - 0s 13ms/step - loss: 3.6831e-06 - rmse: 0.0019 - val_loss: 2.1999e-04 - val_rmse: 0.0148 - lr: 2.5000e-04\n",
      "Epoch 713/5000\n",
      "5/5 [==============================] - 0s 13ms/step - loss: 3.2029e-06 - rmse: 0.0018 - val_loss: 2.2287e-04 - val_rmse: 0.0149 - lr: 2.5000e-04\n",
      "Epoch 714/5000\n",
      "5/5 [==============================] - 0s 13ms/step - loss: 3.6487e-06 - rmse: 0.0019 - val_loss: 2.1392e-04 - val_rmse: 0.0146 - lr: 2.5000e-04\n",
      "Epoch 715/5000\n",
      "5/5 [==============================] - 0s 12ms/step - loss: 2.5994e-06 - rmse: 0.0016 - val_loss: 2.2197e-04 - val_rmse: 0.0149 - lr: 2.5000e-04\n",
      "Epoch 716/5000\n",
      "5/5 [==============================] - 0s 13ms/step - loss: 2.4360e-06 - rmse: 0.0016 - val_loss: 2.1884e-04 - val_rmse: 0.0148 - lr: 2.5000e-04\n",
      "Epoch 717/5000\n",
      "5/5 [==============================] - 0s 13ms/step - loss: 2.5324e-06 - rmse: 0.0016 - val_loss: 2.2877e-04 - val_rmse: 0.0151 - lr: 2.5000e-04\n",
      "Epoch 718/5000\n",
      "5/5 [==============================] - 0s 13ms/step - loss: 2.4785e-06 - rmse: 0.0016 - val_loss: 2.2212e-04 - val_rmse: 0.0149 - lr: 2.5000e-04\n",
      "Epoch 719/5000\n",
      "5/5 [==============================] - 0s 13ms/step - loss: 2.6986e-06 - rmse: 0.0016 - val_loss: 2.2546e-04 - val_rmse: 0.0150 - lr: 2.5000e-04\n",
      "Epoch 720/5000\n",
      "5/5 [==============================] - 0s 13ms/step - loss: 2.6279e-06 - rmse: 0.0016 - val_loss: 2.2396e-04 - val_rmse: 0.0150 - lr: 2.5000e-04\n",
      "Epoch 721/5000\n",
      "5/5 [==============================] - 0s 14ms/step - loss: 2.7725e-06 - rmse: 0.0017 - val_loss: 2.2873e-04 - val_rmse: 0.0151 - lr: 2.5000e-04\n",
      "Epoch 722/5000\n",
      "5/5 [==============================] - 0s 13ms/step - loss: 2.5636e-06 - rmse: 0.0016 - val_loss: 2.2213e-04 - val_rmse: 0.0149 - lr: 2.5000e-04\n",
      "Epoch 723/5000\n",
      "5/5 [==============================] - 0s 13ms/step - loss: 2.5099e-06 - rmse: 0.0016 - val_loss: 2.3073e-04 - val_rmse: 0.0152 - lr: 2.5000e-04\n",
      "Epoch 724/5000\n",
      "5/5 [==============================] - 0s 13ms/step - loss: 2.7170e-06 - rmse: 0.0016 - val_loss: 2.1862e-04 - val_rmse: 0.0148 - lr: 2.5000e-04\n",
      "Epoch 725/5000\n",
      "5/5 [==============================] - 0s 13ms/step - loss: 2.8178e-06 - rmse: 0.0017 - val_loss: 2.2554e-04 - val_rmse: 0.0150 - lr: 2.5000e-04\n",
      "Epoch 726/5000\n",
      "5/5 [==============================] - 0s 13ms/step - loss: 2.4617e-06 - rmse: 0.0016 - val_loss: 2.2566e-04 - val_rmse: 0.0150 - lr: 2.5000e-04\n",
      "Epoch 727/5000\n",
      "5/5 [==============================] - 0s 13ms/step - loss: 2.7195e-06 - rmse: 0.0016 - val_loss: 2.3099e-04 - val_rmse: 0.0152 - lr: 2.5000e-04\n",
      "Epoch 728/5000\n",
      "5/5 [==============================] - 0s 12ms/step - loss: 2.9718e-06 - rmse: 0.0017 - val_loss: 2.3454e-04 - val_rmse: 0.0153 - lr: 2.5000e-04\n",
      "Epoch 729/5000\n",
      "5/5 [==============================] - 0s 12ms/step - loss: 3.7261e-06 - rmse: 0.0019 - val_loss: 2.3020e-04 - val_rmse: 0.0152 - lr: 2.5000e-04\n",
      "Epoch 730/5000\n",
      "5/5 [==============================] - 0s 13ms/step - loss: 2.5932e-06 - rmse: 0.0016 - val_loss: 2.2559e-04 - val_rmse: 0.0150 - lr: 2.5000e-04\n",
      "Epoch 731/5000\n",
      "5/5 [==============================] - 0s 13ms/step - loss: 2.2824e-06 - rmse: 0.0015 - val_loss: 2.2411e-04 - val_rmse: 0.0150 - lr: 2.5000e-04\n",
      "Epoch 732/5000\n"
     ]
    },
    {
     "name": "stdout",
     "output_type": "stream",
     "text": [
      "5/5 [==============================] - 0s 13ms/step - loss: 2.4430e-06 - rmse: 0.0016 - val_loss: 2.2702e-04 - val_rmse: 0.0151 - lr: 2.5000e-04\n",
      "Epoch 733/5000\n",
      "5/5 [==============================] - 0s 13ms/step - loss: 2.4654e-06 - rmse: 0.0016 - val_loss: 2.2565e-04 - val_rmse: 0.0150 - lr: 2.5000e-04\n",
      "Epoch 734/5000\n",
      "5/5 [==============================] - 0s 12ms/step - loss: 2.4048e-06 - rmse: 0.0016 - val_loss: 2.2450e-04 - val_rmse: 0.0150 - lr: 2.5000e-04\n",
      "Epoch 735/5000\n",
      "5/5 [==============================] - 0s 12ms/step - loss: 2.5622e-06 - rmse: 0.0016 - val_loss: 2.2326e-04 - val_rmse: 0.0149 - lr: 2.5000e-04\n",
      "Epoch 736/5000\n",
      "5/5 [==============================] - 0s 13ms/step - loss: 2.5045e-06 - rmse: 0.0016 - val_loss: 2.2369e-04 - val_rmse: 0.0150 - lr: 2.5000e-04\n",
      "Epoch 737/5000\n",
      "5/5 [==============================] - 0s 13ms/step - loss: 2.3260e-06 - rmse: 0.0015 - val_loss: 2.2337e-04 - val_rmse: 0.0149 - lr: 2.5000e-04\n",
      "Epoch 738/5000\n",
      "5/5 [==============================] - 0s 13ms/step - loss: 2.3558e-06 - rmse: 0.0015 - val_loss: 2.2906e-04 - val_rmse: 0.0151 - lr: 2.5000e-04\n",
      "Epoch 739/5000\n",
      "5/5 [==============================] - 0s 13ms/step - loss: 2.4171e-06 - rmse: 0.0016 - val_loss: 2.2225e-04 - val_rmse: 0.0149 - lr: 2.5000e-04\n",
      "Epoch 740/5000\n",
      "5/5 [==============================] - 0s 13ms/step - loss: 2.4716e-06 - rmse: 0.0016 - val_loss: 2.2614e-04 - val_rmse: 0.0150 - lr: 2.5000e-04\n",
      "Epoch 741/5000\n",
      "5/5 [==============================] - 0s 13ms/step - loss: 2.5447e-06 - rmse: 0.0016 - val_loss: 2.2789e-04 - val_rmse: 0.0151 - lr: 2.5000e-04\n",
      "Epoch 742/5000\n",
      "5/5 [==============================] - 0s 13ms/step - loss: 2.3949e-06 - rmse: 0.0015 - val_loss: 2.2247e-04 - val_rmse: 0.0149 - lr: 2.5000e-04\n",
      "Epoch 743/5000\n",
      "5/5 [==============================] - 0s 13ms/step - loss: 2.5990e-06 - rmse: 0.0016 - val_loss: 2.2843e-04 - val_rmse: 0.0151 - lr: 2.5000e-04\n",
      "Epoch 744/5000\n",
      "5/5 [==============================] - 0s 13ms/step - loss: 2.6894e-06 - rmse: 0.0016 - val_loss: 2.1827e-04 - val_rmse: 0.0148 - lr: 2.5000e-04\n",
      "Epoch 745/5000\n",
      "5/5 [==============================] - 0s 12ms/step - loss: 2.4995e-06 - rmse: 0.0016 - val_loss: 2.3124e-04 - val_rmse: 0.0152 - lr: 2.5000e-04\n",
      "Epoch 746/5000\n",
      "5/5 [==============================] - 0s 12ms/step - loss: 2.4932e-06 - rmse: 0.0016 - val_loss: 2.1893e-04 - val_rmse: 0.0148 - lr: 2.5000e-04\n",
      "Epoch 747/5000\n",
      "5/5 [==============================] - 0s 13ms/step - loss: 2.6220e-06 - rmse: 0.0016 - val_loss: 2.3118e-04 - val_rmse: 0.0152 - lr: 2.5000e-04\n",
      "Epoch 748/5000\n",
      "5/5 [==============================] - 0s 12ms/step - loss: 2.4136e-06 - rmse: 0.0016 - val_loss: 2.1827e-04 - val_rmse: 0.0148 - lr: 2.5000e-04\n",
      "Epoch 749/5000\n",
      "5/5 [==============================] - 0s 13ms/step - loss: 2.2914e-06 - rmse: 0.0015 - val_loss: 2.2344e-04 - val_rmse: 0.0149 - lr: 2.5000e-04\n",
      "Epoch 750/5000\n",
      "5/5 [==============================] - 0s 13ms/step - loss: 2.7912e-06 - rmse: 0.0017 - val_loss: 2.2706e-04 - val_rmse: 0.0151 - lr: 2.5000e-04\n",
      "Epoch 751/5000\n",
      "5/5 [==============================] - 0s 12ms/step - loss: 3.0003e-06 - rmse: 0.0017 - val_loss: 2.2706e-04 - val_rmse: 0.0151 - lr: 2.5000e-04\n",
      "Epoch 752/5000\n",
      "5/5 [==============================] - 0s 13ms/step - loss: 3.3305e-06 - rmse: 0.0018 - val_loss: 2.2116e-04 - val_rmse: 0.0149 - lr: 2.5000e-04\n",
      "Epoch 753/5000\n",
      "5/5 [==============================] - 0s 13ms/step - loss: 3.1418e-06 - rmse: 0.0018 - val_loss: 2.1499e-04 - val_rmse: 0.0147 - lr: 2.5000e-04\n",
      "Epoch 754/5000\n",
      "5/5 [==============================] - 0s 13ms/step - loss: 3.1697e-06 - rmse: 0.0018 - val_loss: 2.2435e-04 - val_rmse: 0.0150 - lr: 2.5000e-04\n",
      "Epoch 755/5000\n",
      "5/5 [==============================] - 0s 13ms/step - loss: 3.1006e-06 - rmse: 0.0018 - val_loss: 2.2057e-04 - val_rmse: 0.0149 - lr: 2.5000e-04\n",
      "Epoch 756/5000\n",
      "5/5 [==============================] - 0s 13ms/step - loss: 3.0201e-06 - rmse: 0.0017 - val_loss: 2.2278e-04 - val_rmse: 0.0149 - lr: 2.5000e-04\n",
      "Epoch 757/5000\n",
      "5/5 [==============================] - 0s 12ms/step - loss: 2.6036e-06 - rmse: 0.0016 - val_loss: 2.2778e-04 - val_rmse: 0.0151 - lr: 2.5000e-04\n",
      "Epoch 758/5000\n",
      "5/5 [==============================] - 0s 13ms/step - loss: 2.4080e-06 - rmse: 0.0016 - val_loss: 2.2542e-04 - val_rmse: 0.0150 - lr: 2.5000e-04\n",
      "Epoch 759/5000\n",
      "5/5 [==============================] - 0s 13ms/step - loss: 3.1490e-06 - rmse: 0.0018 - val_loss: 2.2256e-04 - val_rmse: 0.0149 - lr: 2.5000e-04\n",
      "Epoch 760/5000\n",
      "5/5 [==============================] - 0s 13ms/step - loss: 2.6034e-06 - rmse: 0.0016 - val_loss: 2.2448e-04 - val_rmse: 0.0150 - lr: 2.5000e-04\n",
      "Epoch 761/5000\n",
      "5/5 [==============================] - 0s 13ms/step - loss: 2.3461e-06 - rmse: 0.0015 - val_loss: 2.1901e-04 - val_rmse: 0.0148 - lr: 2.5000e-04\n",
      "Epoch 762/5000\n",
      "5/5 [==============================] - 0s 13ms/step - loss: 2.2290e-06 - rmse: 0.0015 - val_loss: 2.2309e-04 - val_rmse: 0.0149 - lr: 2.5000e-04\n",
      "Epoch 763/5000\n",
      "5/5 [==============================] - 0s 12ms/step - loss: 2.2518e-06 - rmse: 0.0015 - val_loss: 2.2346e-04 - val_rmse: 0.0149 - lr: 2.5000e-04\n",
      "Epoch 764/5000\n",
      "5/5 [==============================] - 0s 12ms/step - loss: 2.3077e-06 - rmse: 0.0015 - val_loss: 2.2544e-04 - val_rmse: 0.0150 - lr: 2.5000e-04\n",
      "Epoch 765/5000\n",
      "5/5 [==============================] - 0s 13ms/step - loss: 2.5768e-06 - rmse: 0.0016 - val_loss: 2.2248e-04 - val_rmse: 0.0149 - lr: 2.5000e-04\n",
      "Epoch 766/5000\n",
      "5/5 [==============================] - 0s 12ms/step - loss: 2.4669e-06 - rmse: 0.0016 - val_loss: 2.1896e-04 - val_rmse: 0.0148 - lr: 2.5000e-04\n",
      "Epoch 767/5000\n",
      "5/5 [==============================] - 0s 13ms/step - loss: 2.1595e-06 - rmse: 0.0015 - val_loss: 2.2319e-04 - val_rmse: 0.0149 - lr: 2.5000e-04\n",
      "Epoch 768/5000\n",
      "5/5 [==============================] - 0s 13ms/step - loss: 2.4068e-06 - rmse: 0.0016 - val_loss: 2.2419e-04 - val_rmse: 0.0150 - lr: 2.5000e-04\n",
      "Epoch 769/5000\n",
      "5/5 [==============================] - 0s 13ms/step - loss: 2.7702e-06 - rmse: 0.0017 - val_loss: 2.2174e-04 - val_rmse: 0.0149 - lr: 2.5000e-04\n",
      "Epoch 770/5000\n",
      "5/5 [==============================] - 0s 13ms/step - loss: 2.3208e-06 - rmse: 0.0015 - val_loss: 2.3159e-04 - val_rmse: 0.0152 - lr: 2.5000e-04\n",
      "Epoch 771/5000\n",
      "5/5 [==============================] - 0s 12ms/step - loss: 2.6094e-06 - rmse: 0.0016 - val_loss: 2.3035e-04 - val_rmse: 0.0152 - lr: 2.5000e-04\n",
      "Epoch 772/5000\n",
      "5/5 [==============================] - 0s 13ms/step - loss: 2.3965e-06 - rmse: 0.0015 - val_loss: 2.2196e-04 - val_rmse: 0.0149 - lr: 2.5000e-04\n",
      "Epoch 773/5000\n",
      "5/5 [==============================] - 0s 13ms/step - loss: 2.9640e-06 - rmse: 0.0017 - val_loss: 2.3004e-04 - val_rmse: 0.0152 - lr: 2.5000e-04\n",
      "Epoch 774/5000\n",
      "5/5 [==============================] - 0s 13ms/step - loss: 2.7223e-06 - rmse: 0.0016 - val_loss: 2.1692e-04 - val_rmse: 0.0147 - lr: 2.5000e-04\n",
      "Epoch 775/5000\n",
      "5/5 [==============================] - 0s 13ms/step - loss: 2.5963e-06 - rmse: 0.0016 - val_loss: 2.2519e-04 - val_rmse: 0.0150 - lr: 2.5000e-04\n",
      "Epoch 776/5000\n",
      "5/5 [==============================] - 0s 13ms/step - loss: 2.3410e-06 - rmse: 0.0015 - val_loss: 2.2862e-04 - val_rmse: 0.0151 - lr: 2.5000e-04\n",
      "Epoch 777/5000\n",
      "5/5 [==============================] - 0s 12ms/step - loss: 3.3681e-06 - rmse: 0.0018 - val_loss: 2.3145e-04 - val_rmse: 0.0152 - lr: 2.5000e-04\n",
      "Epoch 778/5000\n",
      "5/5 [==============================] - 0s 13ms/step - loss: 2.5988e-06 - rmse: 0.0016 - val_loss: 2.2591e-04 - val_rmse: 0.0150 - lr: 2.5000e-04\n",
      "Epoch 779/5000\n",
      "5/5 [==============================] - 0s 13ms/step - loss: 2.4692e-06 - rmse: 0.0016 - val_loss: 2.2255e-04 - val_rmse: 0.0149 - lr: 2.5000e-04\n",
      "Epoch 780/5000\n",
      "5/5 [==============================] - 0s 13ms/step - loss: 2.4748e-06 - rmse: 0.0016 - val_loss: 2.2712e-04 - val_rmse: 0.0151 - lr: 2.5000e-04\n",
      "Epoch 781/5000\n",
      "5/5 [==============================] - 0s 12ms/step - loss: 2.5599e-06 - rmse: 0.0016 - val_loss: 2.1947e-04 - val_rmse: 0.0148 - lr: 2.5000e-04\n",
      "Epoch 782/5000\n",
      "5/5 [==============================] - 0s 13ms/step - loss: 2.5242e-06 - rmse: 0.0016 - val_loss: 2.2957e-04 - val_rmse: 0.0152 - lr: 2.5000e-04\n",
      "Epoch 783/5000\n"
     ]
    },
    {
     "name": "stdout",
     "output_type": "stream",
     "text": [
      "5/5 [==============================] - 0s 13ms/step - loss: 2.4530e-06 - rmse: 0.0016 - val_loss: 2.2344e-04 - val_rmse: 0.0149 - lr: 2.5000e-04\n",
      "Epoch 784/5000\n",
      "5/5 [==============================] - 0s 12ms/step - loss: 2.2915e-06 - rmse: 0.0015 - val_loss: 2.2129e-04 - val_rmse: 0.0149 - lr: 2.5000e-04\n",
      "Epoch 785/5000\n",
      "5/5 [==============================] - 0s 13ms/step - loss: 2.5214e-06 - rmse: 0.0016 - val_loss: 2.1840e-04 - val_rmse: 0.0148 - lr: 2.5000e-04\n",
      "Epoch 786/5000\n",
      "5/5 [==============================] - 0s 13ms/step - loss: 2.3365e-06 - rmse: 0.0015 - val_loss: 2.2199e-04 - val_rmse: 0.0149 - lr: 2.5000e-04\n",
      "Epoch 787/5000\n",
      "5/5 [==============================] - 0s 12ms/step - loss: 2.1288e-06 - rmse: 0.0015 - val_loss: 2.1745e-04 - val_rmse: 0.0147 - lr: 2.5000e-04\n",
      "Epoch 788/5000\n",
      "5/5 [==============================] - 0s 13ms/step - loss: 2.0174e-06 - rmse: 0.0014 - val_loss: 2.1969e-04 - val_rmse: 0.0148 - lr: 2.5000e-04\n",
      "Epoch 789/5000\n",
      "5/5 [==============================] - 0s 12ms/step - loss: 2.2518e-06 - rmse: 0.0015 - val_loss: 2.2366e-04 - val_rmse: 0.0150 - lr: 2.5000e-04\n",
      "Epoch 790/5000\n",
      "5/5 [==============================] - 0s 12ms/step - loss: 2.0959e-06 - rmse: 0.0014 - val_loss: 2.1664e-04 - val_rmse: 0.0147 - lr: 2.5000e-04\n",
      "Epoch 791/5000\n",
      "5/5 [==============================] - 0s 13ms/step - loss: 2.1024e-06 - rmse: 0.0014 - val_loss: 2.2593e-04 - val_rmse: 0.0150 - lr: 2.5000e-04\n",
      "Epoch 792/5000\n",
      "5/5 [==============================] - 0s 13ms/step - loss: 2.2495e-06 - rmse: 0.0015 - val_loss: 2.1795e-04 - val_rmse: 0.0148 - lr: 2.5000e-04\n",
      "Epoch 793/5000\n",
      "5/5 [==============================] - 0s 13ms/step - loss: 2.3851e-06 - rmse: 0.0015 - val_loss: 2.2341e-04 - val_rmse: 0.0149 - lr: 2.5000e-04\n",
      "Epoch 794/5000\n",
      "5/5 [==============================] - 0s 13ms/step - loss: 2.5131e-06 - rmse: 0.0016 - val_loss: 2.1861e-04 - val_rmse: 0.0148 - lr: 2.5000e-04\n",
      "Epoch 795/5000\n",
      "5/5 [==============================] - 0s 13ms/step - loss: 2.2631e-06 - rmse: 0.0015 - val_loss: 2.2423e-04 - val_rmse: 0.0150 - lr: 2.5000e-04\n",
      "Epoch 796/5000\n",
      "5/5 [==============================] - 0s 12ms/step - loss: 2.3329e-06 - rmse: 0.0015 - val_loss: 2.1727e-04 - val_rmse: 0.0147 - lr: 2.5000e-04\n",
      "Epoch 797/5000\n",
      "5/5 [==============================] - 0s 13ms/step - loss: 2.1123e-06 - rmse: 0.0015 - val_loss: 2.2854e-04 - val_rmse: 0.0151 - lr: 2.5000e-04\n",
      "Epoch 798/5000\n",
      "5/5 [==============================] - 0s 13ms/step - loss: 2.7015e-06 - rmse: 0.0016 - val_loss: 2.2280e-04 - val_rmse: 0.0149 - lr: 2.5000e-04\n",
      "Epoch 799/5000\n",
      "5/5 [==============================] - 0s 13ms/step - loss: 2.4625e-06 - rmse: 0.0016 - val_loss: 2.2720e-04 - val_rmse: 0.0151 - lr: 2.5000e-04\n",
      "Epoch 800/5000\n",
      "5/5 [==============================] - 0s 12ms/step - loss: 2.8058e-06 - rmse: 0.0017 - val_loss: 2.3549e-04 - val_rmse: 0.0153 - lr: 2.5000e-04\n",
      "Epoch 801/5000\n",
      "5/5 [==============================] - 0s 13ms/step - loss: 3.2926e-06 - rmse: 0.0018 - val_loss: 2.1531e-04 - val_rmse: 0.0147 - lr: 2.5000e-04\n",
      "Epoch 802/5000\n",
      "5/5 [==============================] - 0s 13ms/step - loss: 2.5494e-06 - rmse: 0.0016 - val_loss: 2.3114e-04 - val_rmse: 0.0152 - lr: 2.5000e-04\n",
      "Epoch 803/5000\n",
      "5/5 [==============================] - 0s 13ms/step - loss: 2.2884e-06 - rmse: 0.0015 - val_loss: 2.1563e-04 - val_rmse: 0.0147 - lr: 2.5000e-04\n",
      "Epoch 804/5000\n",
      "5/5 [==============================] - 0s 12ms/step - loss: 2.5659e-06 - rmse: 0.0016 - val_loss: 2.2892e-04 - val_rmse: 0.0151 - lr: 2.5000e-04\n",
      "Epoch 805/5000\n",
      "5/5 [==============================] - 0s 12ms/step - loss: 2.4497e-06 - rmse: 0.0016 - val_loss: 2.1496e-04 - val_rmse: 0.0147 - lr: 2.5000e-04\n",
      "Epoch 806/5000\n",
      "5/5 [==============================] - 0s 13ms/step - loss: 2.5989e-06 - rmse: 0.0016 - val_loss: 2.2564e-04 - val_rmse: 0.0150 - lr: 2.5000e-04\n",
      "Epoch 807/5000\n",
      "1/5 [=====>........................] - ETA: 0s - loss: 1.7987e-06 - rmse: 0.0013Restoring model weights from the end of the best epoch: 707.\n",
      "5/5 [==============================] - 0s 14ms/step - loss: 2.8323e-06 - rmse: 0.0017 - val_loss: 2.1761e-04 - val_rmse: 0.0148 - lr: 2.5000e-04\n",
      "Epoch 807: early stopping\n"
     ]
    }
   ],
   "source": [
    "start = datetime.datetime.now()\n",
    "history = model.fit(x_train, y_train, validation_data=[x_val, y_val], batch_size=batch_size,\n",
    "                    steps_per_epoch = STEP_SIZE_TRAIN,\n",
    "                    epochs=5000, shuffle=True, callbacks=[es, rp])\n",
    "end = datetime.datetime.now()"
   ]
  },
  {
   "cell_type": "code",
   "execution_count": 38,
   "id": "79204ff0",
   "metadata": {},
   "outputs": [
    {
     "name": "stdout",
     "output_type": "stream",
     "text": [
      "Training time: 0:00:49.399966\n"
     ]
    }
   ],
   "source": [
    "time = end - start\n",
    "print(\"Training time:\", time)"
   ]
  },
  {
   "cell_type": "code",
   "execution_count": 39,
   "id": "3fbce220",
   "metadata": {},
   "outputs": [],
   "source": [
    "storage_dir = \"D:\\\\VAWT_data\\\\flap_steady\\\\flap_steady\\\\result\\\\\"+\"20221120MLP_revised\\\\val_\"+str(val_rate)+'_'+str(test_rate)\n",
    "if not os.path.exists(storage_dir):\n",
    "    os.makedirs(storage_dir)\n",
    "os.chdir(storage_dir)"
   ]
  },
  {
   "cell_type": "code",
   "execution_count": 40,
   "id": "77cc60d1",
   "metadata": {},
   "outputs": [
    {
     "data": {
      "image/png": "[encoded data removed]",
      "text/plain": [
       "<Figure size 432x288 with 1 Axes>"
      ]
     },
     "metadata": {
      "needs_background": "light"
     },
     "output_type": "display_data"
    }
   ],
   "source": [
    "hist = history.history\n",
    "plt.plot(hist['loss'], lw=2)\n",
    "plt.plot(hist['val_loss'], lw=2)\n",
    "plt.title('Training loss (mean squared error)\\nMLP, validation rate={0}, test rate={1}'.format(val_rate, test_rate), size=15)\n",
    "plt.xlabel('Epoch', size=15)\n",
    "plt.yscale('log')\n",
    "#plt.ylim([5e-5, 1e-1])\n",
    "plt.tick_params(axis='both', which='major', labelsize=15)\n",
    "plt.grid()\n",
    "plt.legend(['Training loss','Validation loss'])\n",
    "saveName = \"TrainingLoss_test\"+str(test_rate) + \".jpg\"\n",
    "plt.savefig(saveName, dpi=300, bbox_inches='tight', pad_inches=0.3)\n",
    "plt.show()"
   ]
  },
  {
   "cell_type": "code",
   "execution_count": 41,
   "id": "2e42b6c2",
   "metadata": {},
   "outputs": [
    {
     "data": {
      "image/png": "[encoded data removed]",
      "text/plain": [
       "<Figure size 432x288 with 1 Axes>"
      ]
     },
     "metadata": {
      "needs_background": "light"
     },
     "output_type": "display_data"
    }
   ],
   "source": [
    "plt.plot(hist['rmse'], lw=2)\n",
    "plt.title('Root Mean Squared Error\\nMLP, validation rate={0}, test rate={1}'.format(val_rate, test_rate), size=15)\n",
    "plt.xlabel('Epoch', size=15)\n",
    "plt.tick_params(axis='both', which='major', labelsize=15)\n",
    "plt.show()"
   ]
  },
  {
   "cell_type": "code",
   "execution_count": 42,
   "id": "983b76cb",
   "metadata": {},
   "outputs": [
    {
     "data": {
      "image/png": "[encoded data removed]",
      "text/plain": [
       "<Figure size 432x288 with 1 Axes>"
      ]
     },
     "metadata": {
      "needs_background": "light"
     },
     "output_type": "display_data"
    }
   ],
   "source": [
    "plt.plot(hist['rmse'], lw=2)\n",
    "plt.plot(hist['val_rmse'], lw=2)\n",
    "plt.title('Root Mean Squared Error\\nMLP, validation rate={0}, test rate={1}'.format(val_rate, test_rate), size=15)\n",
    "plt.xlabel('Epoch', size=15)\n",
    "plt.yscale('log')\n",
    "plt.tick_params(axis='both', which='major', labelsize=15)\n",
    "plt.grid()\n",
    "plt.legend(['Training loss','Validation loss'])\n",
    "saveName = \"RMSE_test\"+str(test_rate) + \".jpg\"\n",
    "plt.savefig(saveName, dpi=300, bbox_inches='tight', pad_inches=0.3)\n",
    "plt.show()"
   ]
  },
  {
   "cell_type": "code",
   "execution_count": 43,
   "id": "bcbd9e68",
   "metadata": {},
   "outputs": [
    {
     "name": "stdout",
     "output_type": "stream",
     "text": [
      "4/4 [==============================] - 0s 4ms/step - loss: 2.5279e-06 - rmse: 0.0016\n"
     ]
    }
   ],
   "source": [
    "train_results = model.evaluate(x_train, y_train)"
   ]
  },
  {
   "cell_type": "code",
   "execution_count": 44,
   "id": "abc70d8b",
   "metadata": {},
   "outputs": [
    {
     "name": "stdout",
     "output_type": "stream",
     "text": [
      "1/1 [==============================] - 0s 21ms/step - loss: 4.2053e-05 - rmse: 0.0065\n"
     ]
    }
   ],
   "source": [
    "test_results = model.evaluate(x_test, y_test)"
   ]
  },
  {
   "cell_type": "code",
   "execution_count": 45,
   "id": "745feda1",
   "metadata": {},
   "outputs": [
    {
     "name": "stdout",
     "output_type": "stream",
     "text": [
      "4/4 [==============================] - 0s 2ms/step\n",
      "1/1 [==============================] - 0s 15ms/step\n",
      "1/1 [==============================] - 0s 14ms/step\n"
     ]
    }
   ],
   "source": [
    "decoded_train = model.predict(x_train)\n",
    "decoded_val = model.predict(x_val)\n",
    "decoded_test = model.predict(x_test)"
   ]
  },
  {
   "cell_type": "code",
   "execution_count": 46,
   "id": "55d01da2",
   "metadata": {},
   "outputs": [],
   "source": [
    "model_directory = \"D:\\\\TrainedModels\\\\20221119\"\n",
    "if not os.path.exists(model_directory):\n",
    "    os.makedirs(model_directory)\n",
    "os.chdir(model_directory)\n",
    "model_name = \"20221119steadyValidation_MLP_val\"+str(val_rate)+\"_test\"+str(test_rate)+ \"_\" + str(n_units) +\"units_normalized.h5\"\n",
    "model.save(model_name, overwrite=True, include_optimizer=True, save_format='h5')"
   ]
  },
  {
   "cell_type": "code",
   "execution_count": 47,
   "id": "c38a34c6",
   "metadata": {},
   "outputs": [],
   "source": [
    "error_train_abs = np.abs(decoded_train - y_train)"
   ]
  },
  {
   "cell_type": "code",
   "execution_count": 48,
   "id": "0ec2b5ff",
   "metadata": {},
   "outputs": [],
   "source": [
    "error_val_abs = np.abs(decoded_val - y_val)"
   ]
  },
  {
   "cell_type": "code",
   "execution_count": 49,
   "id": "4c0dfd6f",
   "metadata": {},
   "outputs": [],
   "source": [
    "error_test_abs = np.abs(decoded_test - y_test)"
   ]
  },
  {
   "cell_type": "code",
   "execution_count": 50,
   "id": "8e21d002",
   "metadata": {},
   "outputs": [],
   "source": [
    "os.chdir(storage_dir)"
   ]
  },
  {
   "cell_type": "code",
   "execution_count": 51,
   "id": "31fb219f",
   "metadata": {},
   "outputs": [
    {
     "name": "stdout",
     "output_type": "stream",
     "text": [
      "0.0018767330791247094\n"
     ]
    }
   ],
   "source": [
    "l2_error_train = np.sqrt(np.sum((decoded_train - y_train)**2) / np.sum(y_train**2))\n",
    "print(l2_error_train)"
   ]
  },
  {
   "cell_type": "code",
   "execution_count": 52,
   "id": "4ad1f099",
   "metadata": {},
   "outputs": [
    {
     "name": "stdout",
     "output_type": "stream",
     "text": [
      "0.016864271226699593\n"
     ]
    }
   ],
   "source": [
    "l2_error_val = np.sqrt(np.sum((decoded_val - y_val)**2) / np.sum(y_val**2))\n",
    "print(l2_error_val)"
   ]
  },
  {
   "cell_type": "code",
   "execution_count": 53,
   "id": "3770434c",
   "metadata": {},
   "outputs": [
    {
     "name": "stdout",
     "output_type": "stream",
     "text": [
      "0.007494902957133176\n"
     ]
    }
   ],
   "source": [
    "l2_error_test = np.sqrt(np.sum((decoded_test - y_test)**2) / np.sum(y_test**2))\n",
    "print(l2_error_test)"
   ]
  },
  {
   "cell_type": "code",
   "execution_count": 54,
   "id": "874ba423",
   "metadata": {},
   "outputs": [
    {
     "name": "stdout",
     "output_type": "stream",
     "text": [
      "0.03452247354928732\n"
     ]
    }
   ],
   "source": [
    "l2_error_Cd_train = np.sqrt(np.sum((decoded_train[:,0] - y_train[:,0])**2) / np.sum(y_train[:,0]**2))\n",
    "print(l2_error_Cd_train)"
   ]
  },
  {
   "cell_type": "code",
   "execution_count": 55,
   "id": "c114a5ff",
   "metadata": {},
   "outputs": [
    {
     "name": "stdout",
     "output_type": "stream",
     "text": [
      "0.0013565938838489104\n"
     ]
    }
   ],
   "source": [
    "l2_error_Cl_train = np.sqrt(np.sum((decoded_train[:,1] - y_train[:,1])**2) / np.sum(y_train[:,1]**2))\n",
    "print(l2_error_Cl_train)"
   ]
  },
  {
   "cell_type": "code",
   "execution_count": 56,
   "id": "1a86b908",
   "metadata": {},
   "outputs": [
    {
     "name": "stdout",
     "output_type": "stream",
     "text": [
      "0.048715905449111786\n"
     ]
    }
   ],
   "source": [
    "l2_error_Cd_val = np.sqrt(np.sum((decoded_val[:,0] - y_val[:,0])**2) / np.sum(y_val[:,0]**2))\n",
    "print(l2_error_Cd_val)"
   ]
  },
  {
   "cell_type": "code",
   "execution_count": 57,
   "id": "da483c57",
   "metadata": {},
   "outputs": [
    {
     "name": "stdout",
     "output_type": "stream",
     "text": [
      "0.01679010857281086\n"
     ]
    }
   ],
   "source": [
    "l2_error_Cl_val = np.sqrt(np.sum((decoded_val[:,1] - y_val[:,1])**2) / np.sum(y_val[:,1]**2))\n",
    "print(l2_error_Cl_val)"
   ]
  },
  {
   "cell_type": "code",
   "execution_count": 58,
   "id": "79a27012",
   "metadata": {},
   "outputs": [
    {
     "name": "stdout",
     "output_type": "stream",
     "text": [
      "0.046577233925570026\n"
     ]
    }
   ],
   "source": [
    "l2_error_Cd_test = np.sqrt(np.sum((decoded_test[:,0] - y_test[:,0])**2) / np.sum(y_test[:,0]**2))\n",
    "print(l2_error_Cd_test)"
   ]
  },
  {
   "cell_type": "code",
   "execution_count": 59,
   "id": "5f134968",
   "metadata": {},
   "outputs": [
    {
     "name": "stdout",
     "output_type": "stream",
     "text": [
      "0.007351314114108274\n"
     ]
    }
   ],
   "source": [
    "l2_error_Cl_test = np.sqrt(np.sum((decoded_test[:,1] - y_test[:,1])**2) / np.sum(y_test[:,1]**2))\n",
    "print(l2_error_Cl_test)"
   ]
  },
  {
   "cell_type": "code",
   "execution_count": 60,
   "id": "d9785cd7",
   "metadata": {
    "scrolled": true
   },
   "outputs": [],
   "source": [
    "l2_error_train_list = []\n",
    "for i in range(0, len(x_train)):\n",
    "    l2_error_train_data = np.sqrt(np.sum((decoded_train[i] - y_train[i])**2) / np.sum(y_train[i]**2))\n",
    "    l2_error_train_list.append(l2_error_train_data)"
   ]
  },
  {
   "cell_type": "code",
   "execution_count": 61,
   "id": "e866653d",
   "metadata": {},
   "outputs": [],
   "source": [
    "l2_error_val_list = []\n",
    "for i in range(0, len(x_val)):\n",
    "    l2_error_val_data = np.sqrt(np.sum((decoded_val[i] - y_val[i])**2) / np.sum(y_val[i]**2))\n",
    "    l2_error_val_list.append(l2_error_val_data)"
   ]
  },
  {
   "cell_type": "code",
   "execution_count": 62,
   "id": "72b6a696",
   "metadata": {
    "scrolled": true
   },
   "outputs": [],
   "source": [
    "l2_error_test_list = []\n",
    "for i in range(0, len(x_test)):\n",
    "    l2_error_test_data = np.sqrt(np.sum((decoded_test[i] - y_test[i])**2) / np.sum(y_test[i]**2))\n",
    "    l2_error_test_list.append(l2_error_test_data)"
   ]
  },
  {
   "cell_type": "code",
   "execution_count": 63,
   "id": "eeff7b3b",
   "metadata": {},
   "outputs": [],
   "source": [
    "l2_error_train_Cd_list = []\n",
    "for i in range(0, len(x_train)):\n",
    "    l2_error_train_Cd_data = np.sqrt(np.sum((decoded_train[i][0] - y_train[i][0])**2) / np.sum(y_train[i][0]**2))\n",
    "    l2_error_train_Cd_list.append(l2_error_train_Cd_data)"
   ]
  },
  {
   "cell_type": "code",
   "execution_count": 64,
   "id": "73ffd0dc",
   "metadata": {},
   "outputs": [],
   "source": [
    "l2_error_train_Cl_list = []\n",
    "for i in range(0, len(x_train)):\n",
    "    l2_error_train_Cl_data = np.sqrt(np.sum((decoded_train[i][1] - y_train[i][1])**2) / np.sum(y_train[i][1]**2))\n",
    "    l2_error_train_Cl_list.append(l2_error_train_Cl_data)"
   ]
  },
  {
   "cell_type": "code",
   "execution_count": 65,
   "id": "3f870d6b",
   "metadata": {},
   "outputs": [],
   "source": [
    "l2_error_val_Cd_list = []\n",
    "for i in range(0, len(x_val)):\n",
    "    l2_error_val_Cd_data = np.sqrt(np.sum((decoded_val[i][0] - y_val[i][0])**2) / np.sum(y_val[i][0]**2))\n",
    "    l2_error_val_Cd_list.append(l2_error_val_Cd_data)"
   ]
  },
  {
   "cell_type": "code",
   "execution_count": 66,
   "id": "c7e16aed",
   "metadata": {},
   "outputs": [],
   "source": [
    "l2_error_val_Cl_list = []\n",
    "for i in range(0, len(x_val)):\n",
    "    l2_error_val_Cl_data = np.sqrt(np.sum((decoded_val[i][1] - y_val[i][1])**2) / np.sum(y_val[i][1]**2))\n",
    "    l2_error_val_Cl_list.append(l2_error_val_Cl_data)"
   ]
  },
  {
   "cell_type": "code",
   "execution_count": 67,
   "id": "2fed79ac",
   "metadata": {},
   "outputs": [],
   "source": [
    "l2_error_test_Cd_list = []\n",
    "for i in range(0, len(x_test)):\n",
    "    l2_error_test_Cd_data = np.sqrt(np.sum((decoded_test[i][0] - y_test[i][0])**2) / np.sum(y_test[i][0]**2))\n",
    "    l2_error_test_Cd_list.append(l2_error_test_Cd_data)"
   ]
  },
  {
   "cell_type": "code",
   "execution_count": 68,
   "id": "b3b81baa",
   "metadata": {},
   "outputs": [],
   "source": [
    "l2_error_test_Cl_list = []\n",
    "for i in range(0, len(x_test)):\n",
    "    l2_error_test_Cl_data = np.sqrt(np.sum((decoded_test[i][1] - y_test[i][1])**2) / np.sum(y_test[i][1]**2))\n",
    "    l2_error_test_Cl_list.append(l2_error_test_Cl_data)"
   ]
  },
  {
   "cell_type": "code",
   "execution_count": 69,
   "id": "cd795141",
   "metadata": {},
   "outputs": [
    {
     "data": {
      "image/png": "[encoded data removed]",
      "text/plain": [
       "<Figure size 432x288 with 1 Axes>"
      ]
     },
     "metadata": {
      "needs_background": "light"
     },
     "output_type": "display_data"
    }
   ],
   "source": [
    "plt.plot(np.linspace(1,x_train.shape[0],x_train.shape[0]),\n",
    "         l2_error_train*np.ones(x_train.shape[0],), 'k', lw=2.5)\n",
    "plt.scatter(np.linspace(1, x_train.shape[0], x_train.shape[0]), l2_error_train_list, c='b')\n",
    "plt.xlabel('Index', fontsize=15)\n",
    "plt.ylabel('$L_2$ error norm', fontsize=15)\n",
    "plt.yscale('log')\n",
    "plt.title('$L_2$ error norm distribution - MLP, training\\nTest rate {0}, validation rate {1}, $\\epsilon$ = {2:0.4f}'.format(test_rate,\n",
    "                                                                                                                            val_rate,\n",
    "                                                                                                                            l2_error_train), fontsize=15)\n",
    "plt.grid()\n",
    "saveName = \"trainingErrorDistribution.jpg\"\n",
    "plt.savefig(saveName, dpi=300, bbox_inches='tight', pad_inches=0.3)\n",
    "plt.show()"
   ]
  },
  {
   "cell_type": "code",
   "execution_count": 70,
   "id": "139711b2",
   "metadata": {},
   "outputs": [
    {
     "data": {
      "image/png": "[encoded data removed]",
      "text/plain": [
       "<Figure size 432x288 with 1 Axes>"
      ]
     },
     "metadata": {
      "needs_background": "light"
     },
     "output_type": "display_data"
    }
   ],
   "source": [
    "plt.plot(np.linspace(1,x_val.shape[0],x_val.shape[0]),\n",
    "         l2_error_val*np.ones(x_val.shape[0],), 'k', lw=2.5)\n",
    "plt.scatter(np.linspace(1, x_val.shape[0], x_val.shape[0]), l2_error_val_list, c='b')\n",
    "plt.xlabel('Index', fontsize=15)\n",
    "plt.ylabel('$L_2$ error norm', fontsize=15)\n",
    "plt.yscale('log')\n",
    "plt.title('$L_2$ error norm distribution - MLP, validation\\nTest rate {0}, validation rate {1}, $\\epsilon$ = {2:0.4f}'.format(test_rate,\n",
    "                                                                                                                              val_rate,\n",
    "                                                                                                                              l2_error_val), fontsize=15)\n",
    "plt.grid()\n",
    "saveName = \"validationErrorDistribution.jpg\"\n",
    "plt.savefig(saveName, dpi=300, bbox_inches='tight', pad_inches=0.3)\n",
    "plt.show()"
   ]
  },
  {
   "cell_type": "code",
   "execution_count": 71,
   "id": "342bbd53",
   "metadata": {},
   "outputs": [
    {
     "data": {
      "image/png": "[encoded data removed]",
      "text/plain": [
       "<Figure size 432x288 with 1 Axes>"
      ]
     },
     "metadata": {
      "needs_background": "light"
     },
     "output_type": "display_data"
    }
   ],
   "source": [
    "plt.plot(np.linspace(1,x_test.shape[0],x_test.shape[0]),\n",
    "         l2_error_test*np.ones(x_test.shape[0],), 'k', lw=2.5)\n",
    "plt.scatter(np.linspace(1, x_test.shape[0], x_test.shape[0]), l2_error_test_list, c='b')\n",
    "plt.xlabel('Index', fontsize=15)\n",
    "plt.ylabel('$L_2$ error norm', fontsize=15)\n",
    "plt.yscale('log')\n",
    "plt.title('$L_2$ error norm distribution - MLP, test\\nTest rate {0}, validation rate {1}, $\\epsilon$ = {2:0.4f}'.format(test_rate,\n",
    "                                                                                                                        val_rate,\n",
    "                                                                                                                        l2_error_test), fontsize=15)\n",
    "plt.grid()\n",
    "saveName = \"testErrorDistribution.jpg\"\n",
    "plt.savefig(saveName, dpi=300, bbox_inches='tight', pad_inches=0.3)\n",
    "plt.show()"
   ]
  },
  {
   "cell_type": "code",
   "execution_count": 72,
   "id": "fbf40346",
   "metadata": {},
   "outputs": [
    {
     "data": {
      "image/png": "[encoded data removed]",
      "text/plain": [
       "<Figure size 432x288 with 1 Axes>"
      ]
     },
     "metadata": {
      "needs_background": "light"
     },
     "output_type": "display_data"
    }
   ],
   "source": [
    "plt.plot(np.linspace(1,x_train.shape[0],x_train.shape[0]),\n",
    "         l2_error_Cd_train*np.ones(x_train.shape[0],), 'k', lw=2.5)\n",
    "plt.scatter(np.linspace(1, x_train.shape[0], x_train.shape[0]), l2_error_train_Cd_list, c='b')\n",
    "plt.xlabel('Index', fontsize=15)\n",
    "plt.ylabel('$L_2$ error norm', fontsize=15)\n",
    "plt.yscale('log')\n",
    "plt.title('$L_2$ error norm distribution - MLP, training\\n$C_d$, test rate {0}, validation rate {1}, $\\epsilon$ = {2:0.4f}'.format(test_rate,\n",
    "                                                                                                                                   val_rate,\n",
    "                                                                                                                                   l2_error_Cd_train), fontsize=15)\n",
    "plt.grid()\n",
    "saveName = \"CdtrainingErrorDistribution.jpg\"\n",
    "plt.savefig(saveName, dpi=300, bbox_inches='tight', pad_inches=0.3)\n",
    "plt.show()"
   ]
  },
  {
   "cell_type": "code",
   "execution_count": 73,
   "id": "01c02929",
   "metadata": {},
   "outputs": [
    {
     "data": {
      "image/png": "[encoded data removed]",
      "text/plain": [
       "<Figure size 432x288 with 1 Axes>"
      ]
     },
     "metadata": {
      "needs_background": "light"
     },
     "output_type": "display_data"
    }
   ],
   "source": [
    "plt.plot(np.linspace(1,x_train.shape[0],x_train.shape[0]),\n",
    "         l2_error_Cl_train*np.ones(x_train.shape[0],), 'k', lw=2.5)\n",
    "plt.scatter(np.linspace(1, x_train.shape[0], x_train.shape[0]), l2_error_train_Cl_list, c='b')\n",
    "plt.xlabel('Index', fontsize=15)\n",
    "plt.ylabel('$L_2$ error norm', fontsize=15)\n",
    "plt.yscale('log')\n",
    "plt.title('$L_2$ error norm distribution - MLP, training\\n$C_l$, test rate {0}, validation rate {1}, $\\epsilon$ = {2:0.4f}'.format(test_rate, \n",
    "                                                                                                                                   val_rate,\n",
    "                                                                                                                                   l2_error_Cl_train), fontsize=15)\n",
    "plt.grid()\n",
    "saveName = \"CltrainingErrorDistribution.jpg\"\n",
    "plt.savefig(saveName, dpi=300, bbox_inches='tight', pad_inches=0.3)\n",
    "plt.show()"
   ]
  },
  {
   "cell_type": "code",
   "execution_count": 74,
   "id": "87cd339c",
   "metadata": {},
   "outputs": [
    {
     "data": {
      "image/png": "[encoded data removed]",
      "text/plain": [
       "<Figure size 432x288 with 1 Axes>"
      ]
     },
     "metadata": {
      "needs_background": "light"
     },
     "output_type": "display_data"
    }
   ],
   "source": [
    "plt.plot(np.linspace(1,x_val.shape[0],x_val.shape[0]),\n",
    "         l2_error_Cd_val*np.ones(x_val.shape[0],), 'k', lw=2.5)\n",
    "plt.scatter(np.linspace(1, x_val.shape[0], x_val.shape[0]), l2_error_val_Cd_list, c='b')\n",
    "plt.xlabel('Index', fontsize=15)\n",
    "plt.ylabel('$L_2$ error norm', fontsize=15)\n",
    "plt.yscale('log')\n",
    "plt.title('$L_2$ error norm distribution - MLP, validation\\n$C_d$, test rate {0}, validation rate {1}, $\\epsilon$ = {2:0.4f}'.format(test_rate,\n",
    "                                                                                                                                     val_rate,\n",
    "                                                                                                                                     l2_error_Cd_val), fontsize=15)\n",
    "plt.grid()\n",
    "saveName = \"CdvalidationErrorDistribution.jpg\"\n",
    "plt.savefig(saveName, dpi=300, bbox_inches='tight', pad_inches=0.3)\n",
    "plt.show()"
   ]
  },
  {
   "cell_type": "code",
   "execution_count": 75,
   "id": "a7bbd0e8",
   "metadata": {},
   "outputs": [
    {
     "data": {
      "image/png": "[encoded data removed]",
      "text/plain": [
       "<Figure size 432x288 with 1 Axes>"
      ]
     },
     "metadata": {
      "needs_background": "light"
     },
     "output_type": "display_data"
    }
   ],
   "source": [
    "plt.plot(np.linspace(1,x_val.shape[0],x_val.shape[0]),\n",
    "         l2_error_Cl_val*np.ones(x_val.shape[0],), 'k', lw=2.5)\n",
    "plt.scatter(np.linspace(1, x_val.shape[0], x_val.shape[0]), l2_error_val_Cl_list, c='b')\n",
    "plt.xlabel('Index', fontsize=15)\n",
    "plt.ylabel('$L_2$ error norm', fontsize=15)\n",
    "plt.yscale('log')\n",
    "plt.title('$L_2$ error norm distribution - MLP, validation\\n$C_l$, test rate {0}, validation rate {1}, $\\epsilon$ = {2:0.4f}'.format(test_rate, \n",
    "                                                                                                                                   val_rate,\n",
    "                                                                                                                                   l2_error_Cl_val), fontsize=15)\n",
    "plt.grid()\n",
    "saveName = \"ClvalidationErrorDistribution.jpg\"\n",
    "plt.savefig(saveName, dpi=300, bbox_inches='tight', pad_inches=0.3)\n",
    "plt.show()"
   ]
  },
  {
   "cell_type": "code",
   "execution_count": 76,
   "id": "9cde0219",
   "metadata": {},
   "outputs": [
    {
     "data": {
      "image/png": "[encoded data removed]",
      "text/plain": [
       "<Figure size 432x288 with 1 Axes>"
      ]
     },
     "metadata": {
      "needs_background": "light"
     },
     "output_type": "display_data"
    }
   ],
   "source": [
    "plt.plot(np.linspace(1,x_test.shape[0],x_test.shape[0]),\n",
    "         l2_error_Cd_test*np.ones(x_test.shape[0],), 'k', lw=2.5)\n",
    "plt.scatter(np.linspace(1, x_test.shape[0], x_test.shape[0]), l2_error_test_Cd_list, c='b')\n",
    "plt.xlabel('Index', fontsize=15)\n",
    "plt.ylabel('$L_2$ error norm', fontsize=15)\n",
    "plt.yscale('log')\n",
    "plt.title('$L_2$ error norm distribution - MLP, test\\n$C_d$, test rate {0}, validation rate {1}, $\\epsilon$ = {2:0.4f}'.format(test_rate,\n",
    "                                                                                                                               val_rate,\n",
    "                                                                                                                               l2_error_Cd_test), fontsize=15)\n",
    "plt.grid()\n",
    "saveName = \"CdtestErrorDistribution.jpg\"\n",
    "plt.savefig(saveName, dpi=300, bbox_inches='tight', pad_inches=0.3)\n",
    "plt.show()"
   ]
  },
  {
   "cell_type": "code",
   "execution_count": 77,
   "id": "9bd064b8",
   "metadata": {},
   "outputs": [
    {
     "data": {
      "image/png": "[encoded data removed]",
      "text/plain": [
       "<Figure size 432x288 with 1 Axes>"
      ]
     },
     "metadata": {
      "needs_background": "light"
     },
     "output_type": "display_data"
    }
   ],
   "source": [
    "plt.plot(np.linspace(1,x_test.shape[0],x_test.shape[0]),\n",
    "         l2_error_Cl_test*np.ones(x_test.shape[0],), 'k', lw=2.5)\n",
    "plt.scatter(np.linspace(1, x_test.shape[0], x_test.shape[0]), l2_error_test_Cl_list, c='b')\n",
    "plt.xlabel('Index', fontsize=15)\n",
    "plt.ylabel('$L_2$ error norm', fontsize=15)\n",
    "plt.yscale('log')\n",
    "plt.title('$L_2$ error norm distribution - MLP, test\\n$C_l$, test rate {0}, validation rate {1}, $\\epsilon$ = {2:0.4f}'.format(test_rate,\n",
    "                                                                                                                               val_rate,\n",
    "                                                                                                                               l2_error_Cl_test), fontsize=15)\n",
    "plt.grid()\n",
    "saveName = \"CltestErrorDistribution.jpg\"\n",
    "plt.savefig(saveName, dpi=300, bbox_inches='tight', pad_inches=0.3)\n",
    "plt.show()"
   ]
  },
  {
   "cell_type": "code",
   "execution_count": null,
   "id": "e8978795",
   "metadata": {},
   "outputs": [],
   "source": []
  }
 ],
 "metadata": {
  "kernelspec": {
   "display_name": "Python 3 (ipykernel)",
   "language": "python",
   "name": "python3"
  },
  "language_info": {
   "codemirror_mode": {
    "name": "ipython",
    "version": 3
   },
   "file_extension": ".py",
   "mimetype": "text/x-python",
   "name": "python",
   "nbconvert_exporter": "python",
   "pygments_lexer": "ipython3",
   "version": "3.9.13"
  }
 },
 "nbformat": 4,
 "nbformat_minor": 5
}
