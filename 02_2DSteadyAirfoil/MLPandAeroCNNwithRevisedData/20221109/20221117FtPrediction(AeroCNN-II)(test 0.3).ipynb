{
 "cells": [
  {
   "cell_type": "code",
   "execution_count": 1,
   "id": "5bc91fac",
   "metadata": {},
   "outputs": [],
   "source": [
    "# AeroCNN-II\n",
    "import os\n",
    "import sys\n",
    "import numpy as np\n",
    "import pandas as pd\n",
    "import tensorflow as tf\n",
    "import matplotlib.pyplot as plt\n",
    "from sklearn.model_selection import train_test_split\n",
    "from sklearn.preprocessing import MinMaxScaler\n",
    "\n",
    "import datetime\n",
    "%matplotlib inline"
   ]
  },
  {
   "cell_type": "code",
   "execution_count": 2,
   "id": "d1130c26",
   "metadata": {},
   "outputs": [],
   "source": [
    "n_units=128 # Number of units in the hidden layer of the MLP network\n",
    "kernel_size1=3 # The size of kernels(filters) in convolutional layer\n",
    "input_size = 101 # Size of input for the network (100 coefficients and 3 other parameters, AoA, h, beta)\n",
    "lr = 1e-03 # Learning rate of the network\n",
    "test_rate=0.1 # Defines the ratio of training dataset and test dataset\n",
    "n_data = 16 # Number of txt files from which the aerodynamic coefficients are extracted\n",
    "batch_size = 20 # Mini-batch size\n",
    "n_kernels = 100 # Number of kernels in convolutional layer"
   ]
  },
  {
   "cell_type": "code",
   "execution_count": 3,
   "id": "70cbf421",
   "metadata": {},
   "outputs": [],
   "source": [
    "main_directory = 'D:\\\\VAWT_data\\\\ft\\\\ft'\n",
    "os.chdir(main_directory)"
   ]
  },
  {
   "cell_type": "code",
   "execution_count": 4,
   "id": "2a23abcc",
   "metadata": {},
   "outputs": [],
   "source": [
    "## Basic parameters\n",
    "\n",
    "c = 1 # Chord length\n",
    "h = np.array([0.01, 0.02, 0.03]) * c # Height of the Gurney flaps\n",
    "t = 0.02 * h # Thickness of the Gurney flaps\n",
    "alpha = np.linspace(0, 16, 9).reshape((9,1)) # Angles of attack\n",
    "beta = np.linspace(30, 90, 5).reshape((5,1))"
   ]
  },
  {
   "cell_type": "code",
   "execution_count": 6,
   "id": "ee2f2687",
   "metadata": {},
   "outputs": [],
   "source": [
    "## Importing the coordinates of NACA0018 (airfoil15)\n",
    "\n",
    "\n",
    "files_orig = os.listdir(origin_coord)\n",
    "files_target = [file for file in files_orig if file.endswith('.csv')]"
   ]
  },
  {
   "cell_type": "code",
   "execution_count": 9,
   "id": "cffd7478",
   "metadata": {},
   "outputs": [],
   "source": [
    "target_df = pd.DataFrame()\n",
    "for file in files_target:\n",
    "    data = pd.read_table(file, header=None)\n",
    "    target_df = pd.concat([target_df, data], axis=0)"
   ]
  },
  {
   "cell_type": "code",
   "execution_count": 10,
   "id": "d01e3999",
   "metadata": {},
   "outputs": [],
   "source": [
    "total_coords = target_df.iloc[:,:].values"
   ]
  },
  {
   "cell_type": "code",
   "execution_count": 11,
   "id": "1b586fee",
   "metadata": {},
   "outputs": [
    {
     "ename": "ValueError",
     "evalue": "cannot reshape array of size 1500 into shape (15,100,100,1)",
     "output_type": "error",
     "traceback": [
      "\u001b[1;31m---------------------------------------------------------------------------\u001b[0m",
      "\u001b[1;31mValueError\u001b[0m                                Traceback (most recent call last)",
      "Input \u001b[1;32mIn [11]\u001b[0m, in \u001b[0;36m<cell line: 2>\u001b[1;34m()\u001b[0m\n\u001b[0;32m      1\u001b[0m \u001b[38;5;66;03m# Reshape the coordinates, in order to apply convolutional operation\u001b[39;00m\n\u001b[1;32m----> 2\u001b[0m x \u001b[38;5;241m=\u001b[39m \u001b[43mtotal_coords\u001b[49m\u001b[38;5;241;43m.\u001b[39;49m\u001b[43mreshape\u001b[49m\u001b[43m(\u001b[49m\u001b[43m(\u001b[49m\u001b[38;5;241;43m15\u001b[39;49m\u001b[43m,\u001b[49m\u001b[43m \u001b[49m\u001b[38;5;241;43m100\u001b[39;49m\u001b[43m,\u001b[49m\u001b[38;5;241;43m100\u001b[39;49m\u001b[43m,\u001b[49m\u001b[43m \u001b[49m\u001b[38;5;241;43m1\u001b[39;49m\u001b[43m)\u001b[49m\u001b[43m)\u001b[49m\n",
      "\u001b[1;31mValueError\u001b[0m: cannot reshape array of size 1500 into shape (15,100,100,1)"
     ]
    }
   ],
   "source": [
    "# Reshape the coordinates, in order to apply convolutional operation\n",
    "x = total_coords.reshape((15, 100,100, 1))"
   ]
  },
  {
   "cell_type": "code",
   "execution_count": null,
   "id": "14c4287b",
   "metadata": {},
   "outputs": [],
   "source": [
    "# Input of parameters\n",
    "# These variables are put into the network after convolution and flattening\n",
    "x_para = np.hstack((aa, hh, bb))"
   ]
  },
  {
   "cell_type": "code",
   "execution_count": null,
   "id": "398f1500",
   "metadata": {},
   "outputs": [],
   "source": [
    "## Creating output dataset - Cl and Cd\n",
    "files_orig = os.listdir(main_directory)\n",
    "files_target = [file for file in files_orig if file.endswith('.txt')]"
   ]
  },
  {
   "cell_type": "code",
   "execution_count": null,
   "id": "160428ba",
   "metadata": {},
   "outputs": [],
   "source": [
    "target_df = pd.DataFrame()\n",
    "for file in files_target:\n",
    "    data = pd.read_table(file, header=None)\n",
    "    target_df = pd.concat([target_df, data], axis=0)"
   ]
  },
  {
   "cell_type": "code",
   "execution_count": null,
   "id": "77c6a7af",
   "metadata": {},
   "outputs": [],
   "source": [
    "target_c3 = target_df.iloc[:,3].values # Cd values\n",
    "target_c4 = target_df.iloc[:,4].values# Cl values"
   ]
  },
  {
   "cell_type": "code",
   "execution_count": null,
   "id": "4963dead",
   "metadata": {},
   "outputs": [],
   "source": [
    "y = np.hstack((target_c3.reshape((-1,1)), target_c4.reshape((-1,1))))"
   ]
  },
  {
   "cell_type": "code",
   "execution_count": null,
   "id": "77a70a8e",
   "metadata": {},
   "outputs": [],
   "source": [
    "x_train, x_test, y_train, y_test = train_test_split(x, y, test_size=test_rate, random_state=1)"
   ]
  },
  {
   "cell_type": "code",
   "execution_count": null,
   "id": "3e13da9a",
   "metadata": {},
   "outputs": [],
   "source": [
    "tf.keras.backend.set_image_data_format('channels_last')"
   ]
  },
  {
   "cell_type": "code",
   "execution_count": null,
   "id": "37290049",
   "metadata": {},
   "outputs": [],
   "source": [
    "input_image = tf.keras.Input(shape=(input_size, input_size, 1))\n",
    "\n",
    "x_conv = tf.keras.layers.Conv2D(n_kernel, (kernel_size1, kernel_size1), strides=(strides, strides),\n",
    "                                activation='relu', padding='same'\n",
    "                                )(input_image)\n",
    "x_ = tf.keras.layers.MaxPooling2D((2,2))(x_conv)\n",
    "x_conv = tf.keras.layers.Conv2D(n_kernel, (kernel_size1, kernel_size1), strides=(strides, strides),\n",
    "                                activation='relu', padding='same'\n",
    "                                )(input_image)\n",
    "x_ = tf.keras.layers.MaxPooling2D((2,2))(x_conv)\n",
    "x_conv = tf.keras.layers.Conv2D(n_kernel, (kernel_size1, kernel_size1), strides=(strides, strides),\n",
    "                                activation='relu', padding='same'\n",
    "                                )(input_image)\n",
    "x_ = tf.keras.layers.MaxPooling2D((2,2))(x_conv)\n",
    "\n",
    "x_ = tf.keras.layers.Dense(units=2, activation=None, name='outputLayer',\n",
    "                           kernel_regularizer=tf.keras.regularizers.l2(l2Regularizer))(reshape1)\n",
    "# AeroCNN-II based\n",
    "model = tf.keras.Model(input_image, output_image)"
   ]
  },
  {
   "cell_type": "code",
   "execution_count": null,
   "id": "e3c482f9",
   "metadata": {},
   "outputs": [],
   "source": [
    "model.summary()"
   ]
  },
  {
   "cell_type": "code",
   "execution_count": null,
   "id": "30f3abdd",
   "metadata": {},
   "outputs": [],
   "source": [
    "model.compile(optimizer=tf.keras.optimizers.Adam(learning_rate=0.001),\n",
    "              loss = tf.keras.losses.MeanSquaredError(),\n",
    "              metrics=[tf.keras.metrics.RootMeanSquaredError(name=\"rmse\")])"
   ]
  },
  {
   "cell_type": "code",
   "execution_count": null,
   "id": "17d6b26e",
   "metadata": {
    "scrolled": true
   },
   "outputs": [],
   "source": [
    "start = datetime.datetime.now()\n",
    "history = model.fit(x_train, y_train, epochs=5000, shuffle=True,\n",
    "                    callbacks=tf.keras.callbacks.EarlyStopping(monitor='loss', patience=30))\n",
    "end = datetime.datetime.now()"
   ]
  },
  {
   "cell_type": "code",
   "execution_count": null,
   "id": "79204ff0",
   "metadata": {},
   "outputs": [],
   "source": [
    "time = end - start\n",
    "print(\"Training time:\", time)"
   ]
  },
  {
   "cell_type": "code",
   "execution_count": null,
   "id": "77cc60d1",
   "metadata": {},
   "outputs": [],
   "source": [
    "hist = history.history\n",
    "plt.plot(hist['loss'], lw=2)\n",
    "plt.title('Training loss (mean squared error)\\nAeroCNN-II', size=15)\n",
    "plt.xlabel('Epoch', size=15)\n",
    "plt.yscale('log')\n",
    "#plt.ylim([5e-5, 1e-1])\n",
    "plt.tick_params(axis='both', which='major', labelsize=15)\n",
    "plt.grid()\n",
    "plt.show()"
   ]
  },
  {
   "cell_type": "code",
   "execution_count": null,
   "id": "2e42b6c2",
   "metadata": {},
   "outputs": [],
   "source": [
    "plt.plot(hist['rmse'], lw=2)\n",
    "plt.title('Root Mean Squared Error', size=15)\n",
    "plt.xlabel('Epoch', size=15)\n",
    "plt.tick_params(axis='both', which='major', labelsize=15)\n",
    "plt.show()"
   ]
  },
  {
   "cell_type": "code",
   "execution_count": null,
   "id": "983b76cb",
   "metadata": {},
   "outputs": [],
   "source": [
    "plt.plot(hist['rmse'], lw=2)\n",
    "plt.title('Root Mean Squared Error', size=15)\n",
    "plt.xlabel('Epoch', size=15)\n",
    "plt.yscale('log')\n",
    "plt.tick_params(axis='both', which='major', labelsize=15)\n",
    "plt.grid()\n",
    "plt.show()"
   ]
  },
  {
   "cell_type": "code",
   "execution_count": null,
   "id": "745feda1",
   "metadata": {},
   "outputs": [],
   "source": [
    "test_results = model.evaluate(x_train)\n",
    "decoded_train = model.predict(x_train)\n",
    "decoded_test = model.predict(x_test)"
   ]
  },
  {
   "cell_type": "code",
   "execution_count": null,
   "id": "111bb181",
   "metadata": {},
   "outputs": [],
   "source": [
    "test_results2 = model.evaluate(x_test)"
   ]
  },
  {
   "cell_type": "code",
   "execution_count": null,
   "id": "c38a34c6",
   "metadata": {},
   "outputs": [],
   "source": [
    "error_train_abs = np.abs(decoded_train - y_train)"
   ]
  },
  {
   "cell_type": "code",
   "execution_count": null,
   "id": "4c0dfd6f",
   "metadata": {},
   "outputs": [],
   "source": [
    "error_test_abs = np.abs(decoded_test - y_test)"
   ]
  },
  {
   "cell_type": "code",
   "execution_count": null,
   "id": "ec80e338",
   "metadata": {},
   "outputs": [],
   "source": [
    "error_train_Cl_abs = np.abs(decoded_train[1] - y_train[1])"
   ]
  },
  {
   "cell_type": "code",
   "execution_count": null,
   "id": "028d78c9",
   "metadata": {},
   "outputs": [],
   "source": [
    "error_train_Cd_abs = np.abs(decoded_train[:,1,:] - y_train[:,1,:])"
   ]
  },
  {
   "cell_type": "code",
   "execution_count": null,
   "id": "83cd596a",
   "metadata": {},
   "outputs": [],
   "source": [
    "error_test_Cl_abs = np.abs(decoded_test[:,0,:] - y_test[:,0,:])"
   ]
  },
  {
   "cell_type": "code",
   "execution_count": null,
   "id": "5148e3fe",
   "metadata": {},
   "outputs": [],
   "source": [
    "error_test_Cd_abs = np.abs(decoded_test[:,1,:] - y_test[:,1,:])"
   ]
  },
  {
   "cell_type": "code",
   "execution_count": null,
   "id": "75bc4529",
   "metadata": {},
   "outputs": [],
   "source": [
    "decoded_train.shape"
   ]
  },
  {
   "cell_type": "code",
   "execution_count": null,
   "id": "d6c9ecfe",
   "metadata": {},
   "outputs": [],
   "source": [
    "os.chdir(\"D:\\\\TrainedModels\")"
   ]
  },
  {
   "cell_type": "code",
   "execution_count": null,
   "id": "b6df80af",
   "metadata": {},
   "outputs": [],
   "source": [
    "os.chdir(\"D:\\\\TrainedModels\\\\20221007\")\n",
    "model.save('AeroCNN-II_FlowFieldPrediction_50kernel_2by2MaxPooling_1CNNlayer_testSize0.3.h5',\n",
    "           overwrite=True, include_optimizer=True, save_format='h5')"
   ]
  },
  {
   "cell_type": "code",
   "execution_count": null,
   "id": "31fb219f",
   "metadata": {},
   "outputs": [],
   "source": [
    "l2_error_train = np.sqrt(np.sum((decoded_train - y_train)**2) / np.sum(y_train**2))\n",
    "print(l2_error_train)"
   ]
  },
  {
   "cell_type": "code",
   "execution_count": null,
   "id": "3770434c",
   "metadata": {},
   "outputs": [],
   "source": [
    "l2_error_test = np.sqrt(np.sum((decoded_test - y_test)**2) / np.sum(y_test**2))\n",
    "print(l2_error_test)"
   ]
  },
  {
   "cell_type": "code",
   "execution_count": null,
   "id": "d9785cd7",
   "metadata": {
    "scrolled": true
   },
   "outputs": [],
   "source": [
    "l2_error_train_list = []\n",
    "for i in range(0, len(aa_train)):\n",
    "    l2_error_train_data = np.sqrt(np.sum((decoded_train[i] - y_train[i])**2) / np.sum(y_train[i]**2))\n",
    "    l2_error_train_list.append(l2_error_train_data)\n",
    "print(l2_error_train_list)"
   ]
  },
  {
   "cell_type": "code",
   "execution_count": null,
   "id": "72b6a696",
   "metadata": {
    "scrolled": true
   },
   "outputs": [],
   "source": [
    "l2_error_test_list = []\n",
    "for i in range(0, len(aa_test)):\n",
    "    l2_error_test_data = np.sqrt(np.sum((decoded_test[i] - y_test[i])**2) / np.sum(y_test[i]**2))\n",
    "    l2_error_test_list.append(l2_error_test_data)\n",
    "print(l2_error_test_list)"
   ]
  },
  {
   "cell_type": "code",
   "execution_count": null,
   "id": "cd795141",
   "metadata": {},
   "outputs": [],
   "source": [
    "plt.plot(np.linspace(1, aa_train.shape[0], aa_train.shape[0]),\n",
    "         l2_error_train*np.ones(aa_train.shape[0],), 'k', lw=2.5)\n",
    "plt.scatter(np.linspace(1, aa_train.shape[0], aa_train.shape[0]), l2_error_train_list, c='b')\n",
    "plt.xlabel('Index', fontsize=15)\n",
    "plt.ylabel('$L_2$ error norm', fontsize=15)\n",
    "plt.yscale('log')\n",
    "plt.title('$L_2$ error norm variance - AeroCNN-II, training\\nFlow field prediction, 1 CNN layer, 50 kernels\\ntest size=0.3', fontsize=15)\n",
    "plt.grid()\n",
    "plt.tight_layout()\n",
    "plt.show()"
   ]
  },
  {
   "cell_type": "code",
   "execution_count": null,
   "id": "342bbd53",
   "metadata": {},
   "outputs": [],
   "source": [
    "plt.plot(np.linspace(1, aa_test.shape[0], aa_test.shape[0]),\n",
    "         l2_error_test*np.ones(aa_test.shape[0],), 'k', lw=2.5)\n",
    "plt.scatter(np.linspace(1, aa_test.shape[0], aa_test.shape[0]), l2_error_test_list, c='b')\n",
    "plt.xlabel('Index', fontsize=15)\n",
    "plt.ylabel('$L_2$ error norm', fontsize=15)\n",
    "plt.yscale('log')\n",
    "plt.title('$L_2$ error norm variance - AeroCNN-II, test\\nFlow field prediction, 1 CNN layer, 50 kernels\\ntest size=0.3', fontsize=15)\n",
    "plt.grid()\n",
    "plt.tight_layout()\n",
    "plt.show()"
   ]
  },
  {
   "cell_type": "code",
   "execution_count": null,
   "id": "a5ddbea0",
   "metadata": {
    "scrolled": true
   },
   "outputs": [],
   "source": [
    "for c in range(0,16):\n",
    "    plt.figure(figsize=(16, 8))\n",
    "    y_test2_rotate = y_test[2*16+c].reshape(n_grid,n_grid)\n",
    "    decoded_rotate = decoded_test[2*16+c].reshape(n_grid,n_grid)\n",
    "\n",
    "    xrange = np.linspace(-2, 2, n_grid)\n",
    "    yrange = np.linspace(-2, 2, n_grid)\n",
    "    xmesh, ymesh = np.meshgrid(xrange, yrange)\n",
    "\n",
    "    ax = plt.subplot(1, 2, 1)\n",
    "    a1 = plt.contourf(xmesh, ymesh, y_test2_rotate, vmin=0, vmax=11, levels=128, cmap='seismic')\n",
    "    ax.set_xlabel('$x$', fontsize=15)\n",
    "    ax.set_ylabel('$y$', fontsize=15)\n",
    "    ax.set_title('Original test image', fontsize=15)\n",
    "\n",
    "    # Display reconstruction\n",
    "    ax = plt.subplot(1, 2, 2)\n",
    "    a2 = plt.contourf(xmesh, ymesh, decoded_rotate, vmin=0, vmax=11, levels=128, cmap='seismic')\n",
    "    ax.set_xlabel('$x$', fontsize=15)\n",
    "    ax.set_ylabel('$y$', fontsize=15)\n",
    "    ax.set_title('Reconstructed image', fontsize=15)\n",
    "    cax = plt.axes([0.12, 0.005, 0.78, 0.05])\n",
    "    cbar = plt.colorbar(a1, cax=cax, orientation=\"horizontal\")\n",
    "    cbar.set_label('Velocity Magnitude', fontsize=15)\n",
    "    #cbar.set_ticks([-0.5, -0.4, -0.3, -0.2, -0.1, 0, 0.1, 0.2, 0.3, 0.4, 0.5, 0.6, 0.7, 0.8, 0.9])\n",
    "\n",
    "    plt.suptitle(r'Test dataset (%s, $\\alpha$ = %d)' %(np.array2string(geo_test2[2*16+c])[3:-2], aa_test[2*16+c]),fontsize=20)\n",
    "    plt.show()"
   ]
  },
  {
   "cell_type": "code",
   "execution_count": null,
   "id": "8369c4c3",
   "metadata": {
    "scrolled": true
   },
   "outputs": [],
   "source": [
    "for c in range(0,16):\n",
    "    plt.figure(figsize=(16, 8))\n",
    "    y_test0_rotate = y_test[c].reshape(n_grid,n_grid)\n",
    "    decoded_rotate = decoded_test[c].reshape(n_grid,n_grid)\n",
    "\n",
    "    xrange = np.linspace(-2, 2, n_grid)\n",
    "    yrange = np.linspace(-2, 2, n_grid)\n",
    "    xmesh, ymesh = np.meshgrid(xrange, yrange)\n",
    "\n",
    "    ax = plt.subplot(1, 2, 1)\n",
    "    a1 = plt.contourf(xmesh, ymesh, y_test0_rotate, vmin=0, vmax=11, levels=128, cmap='seismic')\n",
    "    ax.set_xlabel('$x$', fontsize=15)\n",
    "    ax.set_ylabel('$y$', fontsize=15)\n",
    "    ax.set_title('Original test image', fontsize=15)\n",
    "\n",
    "    # Display reconstruction\n",
    "    ax = plt.subplot(1, 2, 2)\n",
    "    a2 = plt.contourf(xmesh, ymesh, decoded_rotate, vmin=0, vmax=11, levels=128, cmap='seismic')\n",
    "    ax.set_xlabel('$x$', fontsize=15)\n",
    "    ax.set_ylabel('$y$', fontsize=15)\n",
    "    ax.set_title('Reconstructed image', fontsize=15)\n",
    "    cax = plt.axes([0.12, 0.005, 0.78, 0.05])\n",
    "    cbar = plt.colorbar(a1, cax=cax, orientation=\"horizontal\")\n",
    "    cbar.set_label('Velocity Magnitude', fontsize=15)\n",
    "    #cbar.set_ticks([-0.5, -0.4, -0.3, -0.2, -0.1, 0, 0.1, 0.2, 0.3, 0.4, 0.5, 0.6, 0.7, 0.8, 0.9])\n",
    "\n",
    "    plt.suptitle(r'Test dataset (%s, $\\alpha$ = %d)' %(np.array2string(geo_test2[c])[3:-2], aa_test[c]),fontsize=20)\n",
    "    plt.show()"
   ]
  },
  {
   "cell_type": "code",
   "execution_count": null,
   "id": "99e49554",
   "metadata": {
    "scrolled": true
   },
   "outputs": [],
   "source": [
    "for c in range(0,16):\n",
    "    plt.figure(figsize=(16, 8))\n",
    "    y_train0_rotate = y_train[c].reshape(n_grid,n_grid)\n",
    "    decoded_rotate = decoded_train[c].reshape(n_grid,n_grid)\n",
    "\n",
    "    xrange = np.linspace(-2, 2, n_grid)\n",
    "    yrange = np.linspace(-2, 2, n_grid)\n",
    "    xmesh, ymesh = np.meshgrid(xrange, yrange)\n",
    "\n",
    "    ax = plt.subplot(1, 2, 1)\n",
    "    a1 = plt.contourf(xmesh, ymesh, y_train0_rotate, vmin=0, vmax=11, levels=128, cmap='seismic')\n",
    "    ax.set_xlabel('$x$', fontsize=15)\n",
    "    ax.set_ylabel('$y$', fontsize=15)\n",
    "    ax.set_title('Original test image', fontsize=15)\n",
    "\n",
    "    # Display reconstruction\n",
    "    ax = plt.subplot(1, 2, 2)\n",
    "    a2 = plt.contourf(xmesh, ymesh, decoded_rotate, vmin=0, vmax=11, levels=128, cmap='seismic')\n",
    "    ax.set_xlabel('$x$', fontsize=15)\n",
    "    ax.set_ylabel('$y$', fontsize=15)\n",
    "    ax.set_title('Reconstructed image', fontsize=15)\n",
    "    cax = plt.axes([0.12, 0.005, 0.78, 0.05])\n",
    "    cbar = plt.colorbar(a1, cax=cax, orientation=\"horizontal\")\n",
    "    cbar.set_label('Velocity Magnitude', fontsize=15)\n",
    "    #cbar.set_ticks([-0.5, -0.4, -0.3, -0.2, -0.1, 0, 0.1, 0.2, 0.3, 0.4, 0.5, 0.6, 0.7, 0.8, 0.9])\n",
    "\n",
    "    plt.suptitle(r'Training dataset (%s, $\\alpha$ = %d)' %(np.array2string(geo_train2[c])[3:-2], aa_train[c]),fontsize=20)\n",
    "    plt.show()"
   ]
  },
  {
   "cell_type": "code",
   "execution_count": null,
   "id": "6fbd7cef",
   "metadata": {
    "scrolled": true
   },
   "outputs": [],
   "source": [
    "for c in range(0,16):\n",
    "    plt.figure(figsize=(16, 8))\n",
    "    y_train20_rotate = y_train[20*16+c].reshape(n_grid,n_grid)\n",
    "    decoded_rotate = decoded_train[20*16+c].reshape(n_grid,n_grid)\n",
    "\n",
    "    xrange = np.linspace(-2, 2, n_grid)\n",
    "    yrange = np.linspace(-2, 2, n_grid)\n",
    "    xmesh, ymesh = np.meshgrid(xrange, yrange)\n",
    "\n",
    "    ax = plt.subplot(1, 2, 1)\n",
    "    a1 = plt.contourf(xmesh, ymesh, y_train20_rotate, vmin=0, vmax=11, levels=128, cmap='seismic')\n",
    "    ax.set_xlabel('$x$', fontsize=15)\n",
    "    ax.set_ylabel('$y$', fontsize=15)\n",
    "    ax.set_title('Original test image', fontsize=15)\n",
    "\n",
    "    # Display reconstruction\n",
    "    ax = plt.subplot(1, 2, 2)\n",
    "    a2 = plt.contourf(xmesh, ymesh, decoded_rotate, vmin=0, vmax=11, levels=128, cmap='seismic')\n",
    "    ax.set_xlabel('$x$', fontsize=15)\n",
    "    ax.set_ylabel('$y$', fontsize=15)\n",
    "    ax.set_title('Reconstructed image', fontsize=15)\n",
    "    cax = plt.axes([0.12, 0.005, 0.78, 0.05])\n",
    "    cbar = plt.colorbar(a1, cax=cax, orientation=\"horizontal\")\n",
    "    cbar.set_label('Velocity Magnitude', fontsize=15)\n",
    "    #cbar.set_ticks([-0.5, -0.4, -0.3, -0.2, -0.1, 0, 0.1, 0.2, 0.3, 0.4, 0.5, 0.6, 0.7, 0.8, 0.9])\n",
    "\n",
    "    plt.suptitle(r'Training dataset (%s, $\\alpha$ = %d)' %(np.array2string(geo_train2[20*16+c])[3:-2], aa_train[20*16+c]),fontsize=20)\n",
    "    plt.show()"
   ]
  },
  {
   "cell_type": "code",
   "execution_count": null,
   "id": "4ca1203a",
   "metadata": {},
   "outputs": [],
   "source": [
    "for c in range(0,16):\n",
    "    error_test_abs2_rotate = error_test_abs[2*16+c].reshape(n_grid,n_grid)\n",
    "\n",
    "    fig5 = plt.figure(figsize = (8, 8))\n",
    "    ax5 = fig5.add_subplot(111)\n",
    "    mappable = ax5.contourf(xmesh, ymesh, error_test_abs2_rotate, levels=128, cmap='seismic')\n",
    "    ax5.set_title(r'Absolute error (%s, $\\alpha$ = %d, $\\epsilon$ = %.4f)' %(np.array2string(geo_test2[2*16+c])[3:-2],\n",
    "                                                                       aa_test[2*16+c], l2_error_test_list[2*16+c]), fontsize=16)\n",
    "    ax5.set_xlabel('$y$', fontsize=15)\n",
    "    ax5.set_ylabel('$z$', fontsize=15)\n",
    "\n",
    "    cax = plt.axes([0.12, 0.005, 0.78, 0.05])\n",
    "    cbar = plt.colorbar(mappable, cax=cax, orientation=\"horizontal\")\n",
    "    cbar.set_label('Error', fontsize=15)\n",
    "\n",
    "    plt.show()"
   ]
  },
  {
   "cell_type": "code",
   "execution_count": null,
   "id": "44c85b8f",
   "metadata": {},
   "outputs": [],
   "source": [
    "for c in range(0,16):\n",
    "    error_test_abs2_rotate = error_test_abs[c].reshape(n_grid,n_grid)\n",
    "\n",
    "    fig5 = plt.figure(figsize = (8, 8))\n",
    "    ax5 = fig5.add_subplot(111)\n",
    "    mappable = ax5.contourf(xmesh, ymesh, error_test_abs2_rotate, levels=128, cmap='seismic')\n",
    "    ax5.set_title(r'Absolute error (%s, $\\alpha$ = %d, $\\epsilon$ = %.4f)' %(np.array2string(geo_test2[c])[3:-2],\n",
    "                                                                       aa_test[c], l2_error_test_list[c]), fontsize=16)\n",
    "    ax5.set_xlabel('$y$', fontsize=15)\n",
    "    ax5.set_ylabel('$z$', fontsize=15)\n",
    "\n",
    "    cax = plt.axes([0.12, 0.005, 0.78, 0.05])\n",
    "    cbar = plt.colorbar(mappable, cax=cax, orientation=\"horizontal\")\n",
    "    cbar.set_label('Error', fontsize=15)\n",
    "\n",
    "    plt.show()"
   ]
  },
  {
   "cell_type": "code",
   "execution_count": null,
   "id": "e276e7e9",
   "metadata": {},
   "outputs": [],
   "source": [
    "for c in range(0,16):\n",
    "    error_train_abs2_rotate = error_train_abs[c].reshape(n_grid,n_grid)\n",
    "\n",
    "    fig5 = plt.figure(figsize = (8, 8))\n",
    "    ax5 = fig5.add_subplot(111)\n",
    "    mappable = ax5.contourf(xmesh, ymesh, error_train_abs2_rotate, levels=128, cmap='seismic')\n",
    "    ax5.set_title(r'Absolute error (%s, $\\alpha$ = %d, $\\epsilon$ = %.4f)' %(np.array2string(geo_train2[c])[3:-2],\n",
    "                                                                       aa_train[c], l2_error_train_list[c]), fontsize=16)\n",
    "    ax5.set_xlabel('$y$', fontsize=15)\n",
    "    ax5.set_ylabel('$z$', fontsize=15)\n",
    "\n",
    "    cax = plt.axes([0.12, 0.005, 0.78, 0.05])\n",
    "    cbar = plt.colorbar(mappable, cax=cax, orientation=\"horizontal\")\n",
    "    cbar.set_label('Error', fontsize=15)\n",
    "\n",
    "    plt.show()"
   ]
  },
  {
   "cell_type": "code",
   "execution_count": null,
   "id": "6e12e73b",
   "metadata": {},
   "outputs": [],
   "source": [
    "for c in range(0,16):\n",
    "    error_train_abs2_rotate = error_train_abs[16*20+c].reshape(n_grid,n_grid)\n",
    "\n",
    "    fig5 = plt.figure(figsize = (8, 8))\n",
    "    ax5 = fig5.add_subplot(111)\n",
    "    mappable = ax5.contourf(xmesh, ymesh, error_train_abs2_rotate, levels=128, cmap='seismic')\n",
    "    ax5.set_title(r'Absolute error (%s, $\\alpha$ = %d, $\\epsilon$ = %.4f)' %(np.array2string(geo_train2[16*20+c])[3:-2],\n",
    "                                                                       aa_train[16*20+c], l2_error_train_list[16*20+c]), fontsize=16)\n",
    "    ax5.set_xlabel('$y$', fontsize=15)\n",
    "    ax5.set_ylabel('$z$', fontsize=15)\n",
    "\n",
    "    cax = plt.axes([0.12, 0.005, 0.78, 0.05])\n",
    "    cbar = plt.colorbar(mappable, cax=cax, orientation=\"horizontal\")\n",
    "    cbar.set_label('Error', fontsize=15)\n",
    "\n",
    "    plt.show()"
   ]
  },
  {
   "cell_type": "code",
   "execution_count": null,
   "id": "0c7472bf",
   "metadata": {},
   "outputs": [],
   "source": []
  }
 ],
 "metadata": {
  "kernelspec": {
   "display_name": "Python 3 (ipykernel)",
   "language": "python",
   "name": "python3"
  },
  "language_info": {
   "codemirror_mode": {
    "name": "ipython",
    "version": 3
   },
   "file_extension": ".py",
   "mimetype": "text/x-python",
   "name": "python",
   "nbconvert_exporter": "python",
   "pygments_lexer": "ipython3",
   "version": "3.9.13"
  }
 },
 "nbformat": 4,
 "nbformat_minor": 5
}
