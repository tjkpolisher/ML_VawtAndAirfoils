{
 "cells": [
  {
   "cell_type": "code",
   "execution_count": 1,
   "id": "5bc91fac",
   "metadata": {},
   "outputs": [],
   "source": [
    "# Validation of the steady-state simulation - Case 1: MLP\n",
    "import os\n",
    "import sys\n",
    "import numpy as np\n",
    "import pandas as pd\n",
    "import tensorflow as tf\n",
    "import matplotlib.pyplot as plt\n",
    "from sklearn.model_selection import train_test_split\n",
    "\n",
    "import datetime\n",
    "%matplotlib inline"
   ]
  },
  {
   "cell_type": "code",
   "execution_count": 2,
   "id": "d1130c26",
   "metadata": {},
   "outputs": [],
   "source": [
    "### Defining parameters and hyperparameters of the model\n",
    "\n",
    "n_units=128 # Number of units in the hidden layer of the MLP network\n",
    "input_size = 100 + 3 # Size of input for the network (100 coefficients and 3 other parameters, AoA, h, beta)\n",
    "lr = 1e-03 # Learning rate of the network\n",
    "test_rate=0.1 # Defines the ratio of training dataset and test dataset\n",
    "val_rate=0.1\n",
    "n_data = 16 # Number of txt files from which the aerodynamic coefficients are extracted\n",
    "batch_size = 20 # Mini-batch size"
   ]
  },
  {
   "cell_type": "code",
   "execution_count": 3,
   "id": "e6d84b05",
   "metadata": {},
   "outputs": [],
   "source": [
    "# Changing working directory\n",
    "\n",
    "main_directory = 'D:\\\\VAWT_data\\\\flap_steady\\\\flap_steady'\n",
    "os.chdir(main_directory)"
   ]
  },
  {
   "cell_type": "code",
   "execution_count": 4,
   "id": "3eb294db",
   "metadata": {},
   "outputs": [],
   "source": [
    "## Basic parameters\n",
    "\n",
    "c = 1 # Chord length\n",
    "h = np.array([0.01, 0.02, 0.03]) * c # Height of the Gurney flaps\n",
    "t = 0.02 * h # Thickness of the Gurney flaps\n",
    "alpha = np.linspace(0, 16, 9).reshape((9,1)) # Angles of attack\n",
    "beta = np.linspace(30, 90, 5).reshape((5,1))"
   ]
  },
  {
   "cell_type": "code",
   "execution_count": 5,
   "id": "18aaa915",
   "metadata": {},
   "outputs": [],
   "source": [
    "h = h.reshape((-1,1))\n",
    "t = t.reshape((-1,1))"
   ]
  },
  {
   "cell_type": "code",
   "execution_count": 6,
   "id": "d9745480",
   "metadata": {},
   "outputs": [],
   "source": [
    "n_alpha = alpha.shape[0] # Number of the angles of attack\n",
    "n_beta = beta.shape[0] # Number of the Gurney flap inclination\n",
    "n_h = h.shape[0] # Number of the height of the Gurney flaps\n",
    "n_cases = n_data * n_alpha # Total number of cases(Number of geometries * Number of angles of attack)"
   ]
  },
  {
   "cell_type": "code",
   "execution_count": 7,
   "id": "62d7f718",
   "metadata": {},
   "outputs": [],
   "source": [
    "## Creating Input dataset\n",
    "# Defining the angles of attack\n",
    "\n",
    "aa = np.zeros((n_cases,1))\n",
    "for i in range(0, n_data):\n",
    "    aa[n_alpha*i:n_alpha*(i+1),:] = alpha[:,:]"
   ]
  },
  {
   "cell_type": "code",
   "execution_count": 8,
   "id": "c5014fe8",
   "metadata": {},
   "outputs": [],
   "source": [
    "aa = aa / np.max(alpha)"
   ]
  },
  {
   "cell_type": "code",
   "execution_count": 9,
   "id": "2aa96208",
   "metadata": {},
   "outputs": [
    {
     "data": {
      "text/plain": [
       "(144, 1)"
      ]
     },
     "execution_count": 9,
     "metadata": {},
     "output_type": "execute_result"
    }
   ],
   "source": [
    "aa.shape"
   ]
  },
  {
   "cell_type": "code",
   "execution_count": 10,
   "id": "937cc8a8",
   "metadata": {},
   "outputs": [
    {
     "name": "stdout",
     "output_type": "stream",
     "text": [
      "(144, 1)\n"
     ]
    }
   ],
   "source": [
    "# Defining beta, the Gurney flap inclination\n",
    "# In case of mere NACA0018, the bb in those indexes are considered as zero.\n",
    "beta_0 = np.zeros((n_alpha,1)) # Values for sheer NACA0018\n",
    "b_ = np.ones((n_alpha,1)) # Template for the inclination for a single h and single beta\n",
    "bb_imp = np.zeros((n_alpha*n_beta,1))\n",
    "\n",
    "for j in range(n_beta):\n",
    "    b_imp = b_ * beta[j]\n",
    "    bb_imp[n_alpha*j:n_alpha*(j+1),:] = b_imp[:,:]\n",
    "    \n",
    "bb_imp = bb_imp.reshape((-1,1))\n",
    "\n",
    "bb = np.vstack((beta_0, bb_imp, bb_imp, bb_imp))\n",
    "bb = bb / np.max(beta)\n",
    "    \n",
    "print(bb.shape)"
   ]
  },
  {
   "cell_type": "code",
   "execution_count": 11,
   "id": "6302058e",
   "metadata": {},
   "outputs": [],
   "source": [
    "# Defining the Gurney flap height\n",
    "# In case of mere NACA0018, the hh in those indexes are considered as zero.\n",
    "\n",
    "hh = np.concatenate((np.zeros(n_alpha), h[0]*np.ones(n_beta*n_alpha), h[1]*np.ones(n_beta*n_alpha), h[2]*np.ones(n_beta*n_alpha)))\n",
    "hh = hh.reshape((-1,1))"
   ]
  },
  {
   "cell_type": "code",
   "execution_count": 12,
   "id": "174336d4",
   "metadata": {},
   "outputs": [],
   "source": [
    "hh = hh / np.max(h)"
   ]
  },
  {
   "cell_type": "code",
   "execution_count": 13,
   "id": "6a5737c2",
   "metadata": {},
   "outputs": [],
   "source": [
    "# Importing the coordinates of NACA0018 (airfoil15)\n",
    "origin_coord = \"D:\\\\AirfoilClCdCoordinates_out\\\\AirfoilClCdCoordinates_out\\\\airfoil15\"\n",
    "\n",
    "csv_file_name = origin_coord + '\\\\airfoilOut15.txt'\n",
    "data = pd.read_csv(csv_file_name, header=None)"
   ]
  },
  {
   "cell_type": "code",
   "execution_count": 14,
   "id": "41daf0e7",
   "metadata": {},
   "outputs": [],
   "source": [
    "baseline_coord = data.iloc[:,:].values"
   ]
  },
  {
   "cell_type": "code",
   "execution_count": 15,
   "id": "1cd4c984",
   "metadata": {},
   "outputs": [],
   "source": [
    "standard_coord = baseline_coord.reshape((1, -1))"
   ]
  },
  {
   "cell_type": "code",
   "execution_count": 16,
   "id": "6ba48669",
   "metadata": {},
   "outputs": [
    {
     "name": "stdout",
     "output_type": "stream",
     "text": [
      "(144, 100)\n"
     ]
    }
   ],
   "source": [
    "airfoil_coord = np.repeat(standard_coord, n_cases, axis=0)\n",
    "print(airfoil_coord.shape)"
   ]
  },
  {
   "cell_type": "code",
   "execution_count": 17,
   "id": "492ab857",
   "metadata": {},
   "outputs": [],
   "source": [
    "# The rows mean the number of points at the Gurney flap\n",
    "# and the columns mean the number of the cases\n",
    "flap_left = np.zeros((15,5))\n",
    "flap_right = np.zeros((15,5))\n",
    "\n",
    "for i in range(n_h):\n",
    "    # Defining coordinates of the flaps with respect to beta=90 degree.\n",
    "    yLeft = np.linspace(-h[i]/5, -h[i], 5).reshape((-1,1))\n",
    "    yRight = np.linspace(-h[i]/5, -h[i], 5).reshape((-1,1))\n",
    "    xLeft = 0.5*np.ones((5,1)) - 0.02*h[i]\n",
    "    xRight = 0.5*np.ones((5,1))\n",
    "    \n",
    "    for j in range(n_beta):\n",
    "        betaValue = beta[j]\n",
    "        \n",
    "        # Rotating transformation\n",
    "        rotateTransf = np.array([[np.cos(90-betaValue), -np.sin(90-betaValue)],\n",
    "                                 [np.sin(90-betaValue), np.cos(90-betaValue)]])\n",
    "        rotateTransf = rotateTransf.reshape((2,2))\n",
    "        \n",
    "        LeftImp = np.hstack((xLeft-0.5, yLeft))\n",
    "        RightImp = np.hstack((xRight-0.5, yRight))\n",
    "        \n",
    "        rotatedFlapLeft = rotateTransf @ LeftImp.T # shape: 2*5 (x-coordinates on first row, y-coordinates on second row)\n",
    "        rotatedFlapRight = rotateTransf @ RightImp.T\n",
    "        \n",
    "        # All we need is the y-coordinates of the flaps\n",
    "        flap_left[5*i+j,:] = rotatedFlapLeft[1,:]\n",
    "        flap_right[5*i+j,:] = rotatedFlapRight[1,:]"
   ]
  },
  {
   "cell_type": "code",
   "execution_count": 18,
   "id": "790fb777",
   "metadata": {},
   "outputs": [
    {
     "name": "stdout",
     "output_type": "stream",
     "text": [
      "(15, 10)\n"
     ]
    }
   ],
   "source": [
    "# Combining y-coordinates from the left and the right side of the flaps\n",
    "flap_coords = np.hstack((flap_left, np.flip(flap_right, axis=1)))\n",
    "print(flap_coords.shape)"
   ]
  },
  {
   "cell_type": "code",
   "execution_count": 19,
   "id": "66f6855a",
   "metadata": {},
   "outputs": [
    {
     "name": "stdout",
     "output_type": "stream",
     "text": [
      "(144, 10)\n"
     ]
    }
   ],
   "source": [
    "# Placing the flap_coords into total coordinate variable\n",
    "# Total coordinate = Airfoil coordinates + flap coordinates\n",
    "flap_coords2 = np.zeros((n_cases, 10))\n",
    "for i in range(n_alpha, n_cases):\n",
    "    flap_coords2[i,:] = flap_coords[i%15,:]\n",
    "    \n",
    "print(flap_coords2.shape)"
   ]
  },
  {
   "cell_type": "code",
   "execution_count": 20,
   "id": "8323888f",
   "metadata": {},
   "outputs": [
    {
     "name": "stdout",
     "output_type": "stream",
     "text": [
      "(144, 110)\n"
     ]
    }
   ],
   "source": [
    "total_coords = np.hstack((airfoil_coord, flap_coords2))\n",
    "print(total_coords.shape)"
   ]
  },
  {
   "cell_type": "code",
   "execution_count": 21,
   "id": "9d72e8a1",
   "metadata": {},
   "outputs": [],
   "source": [
    "x = np.hstack((aa, hh, bb, total_coords))"
   ]
  },
  {
   "cell_type": "code",
   "execution_count": 22,
   "id": "5b41130d",
   "metadata": {},
   "outputs": [],
   "source": [
    "## Creating output dataset - Cl and Cd\n",
    "files_orig = os.listdir(main_directory)\n",
    "files_target = [file for file in files_orig if file.endswith('.txt')]"
   ]
  },
  {
   "cell_type": "code",
   "execution_count": 23,
   "id": "f4c62765",
   "metadata": {},
   "outputs": [],
   "source": [
    "target_df = pd.DataFrame()\n",
    "for file in files_target:\n",
    "    data = pd.read_table(file, header=None)\n",
    "    target_df = pd.concat([target_df, data], axis=0)"
   ]
  },
  {
   "cell_type": "code",
   "execution_count": 24,
   "id": "ac849035",
   "metadata": {},
   "outputs": [],
   "source": [
    "target_c3 = target_df.iloc[:,3].values # Cd values\n",
    "target_c4 = target_df.iloc[:,4].values# Cl values"
   ]
  },
  {
   "cell_type": "code",
   "execution_count": 25,
   "id": "93bba2d8",
   "metadata": {},
   "outputs": [],
   "source": [
    "y = np.hstack((target_c3.reshape((-1,1)), target_c4.reshape((-1,1))))"
   ]
  },
  {
   "cell_type": "code",
   "execution_count": 26,
   "id": "7444ef68",
   "metadata": {},
   "outputs": [
    {
     "data": {
      "text/plain": [
       "(144, 2)"
      ]
     },
     "execution_count": 26,
     "metadata": {},
     "output_type": "execute_result"
    }
   ],
   "source": [
    "y.shape"
   ]
  },
  {
   "cell_type": "code",
   "execution_count": 27,
   "id": "37e418b7",
   "metadata": {},
   "outputs": [],
   "source": [
    "x_train, x_test, y_train, y_test = train_test_split(x, y, test_size=test_rate, random_state=1)"
   ]
  },
  {
   "cell_type": "code",
   "execution_count": 28,
   "id": "ec562b02",
   "metadata": {},
   "outputs": [],
   "source": [
    "x_train, x_val, y_train, y_val = train_test_split(x_train, y_train, test_size=val_rate/(1-test_rate), random_state=1)"
   ]
  },
  {
   "cell_type": "code",
   "execution_count": 29,
   "id": "1bbc2f4f",
   "metadata": {},
   "outputs": [
    {
     "data": {
      "text/plain": [
       "(114, 113)"
      ]
     },
     "execution_count": 29,
     "metadata": {},
     "output_type": "execute_result"
    }
   ],
   "source": [
    "x_train.shape"
   ]
  },
  {
   "cell_type": "code",
   "execution_count": 30,
   "id": "e00d21f9",
   "metadata": {},
   "outputs": [
    {
     "data": {
      "text/plain": [
       "(114, 2)"
      ]
     },
     "execution_count": 30,
     "metadata": {},
     "output_type": "execute_result"
    }
   ],
   "source": [
    "y_train.shape"
   ]
  },
  {
   "cell_type": "code",
   "execution_count": 31,
   "id": "82d60c5e",
   "metadata": {},
   "outputs": [],
   "source": [
    "tf.keras.backend.set_image_data_format('channels_last')"
   ]
  },
  {
   "cell_type": "code",
   "execution_count": 32,
   "id": "37290049",
   "metadata": {},
   "outputs": [],
   "source": [
    "input_data = tf.keras.Input(shape=(3+total_coords.shape[1]))\n",
    "\n",
    "x_fc1 = tf.keras.layers.Dense(units=n_units, activation='relu', name='fc1')(input_data)\n",
    "x_fc2 = tf.keras.layers.Dense(units=n_units, activation='relu', name='fc2')(x_fc1)\n",
    "x_fc3 = tf.keras.layers.Dense(units=n_units, activation='relu', name='fc3')(x_fc2)\n",
    "x_fc4 = tf.keras.layers.Dense(units=n_units, activation='relu', name='fc4')(x_fc3)\n",
    "x_fc5 = tf.keras.layers.Dense(units=16, activation='relu', name='fc5')(x_fc4)\n",
    "\n",
    "output_data = tf.keras.layers.Dense(units=2, activation='linear', name='outputLayer')(x_fc5)\n",
    "# MLP(FC layer)-based\n",
    "model = tf.keras.Model(input_data, output_data)"
   ]
  },
  {
   "cell_type": "code",
   "execution_count": 33,
   "id": "e3c482f9",
   "metadata": {},
   "outputs": [
    {
     "name": "stdout",
     "output_type": "stream",
     "text": [
      "Model: \"model\"\n",
      "_________________________________________________________________\n",
      " Layer (type)                Output Shape              Param #   \n",
      "=================================================================\n",
      " input_1 (InputLayer)        [(None, 113)]             0         \n",
      "                                                                 \n",
      " fc1 (Dense)                 (None, 128)               14592     \n",
      "                                                                 \n",
      " fc2 (Dense)                 (None, 128)               16512     \n",
      "                                                                 \n",
      " fc3 (Dense)                 (None, 128)               16512     \n",
      "                                                                 \n",
      " fc4 (Dense)                 (None, 128)               16512     \n",
      "                                                                 \n",
      " fc5 (Dense)                 (None, 16)                2064      \n",
      "                                                                 \n",
      " outputLayer (Dense)         (None, 2)                 34        \n",
      "                                                                 \n",
      "=================================================================\n",
      "Total params: 66,226\n",
      "Trainable params: 66,226\n",
      "Non-trainable params: 0\n",
      "_________________________________________________________________\n"
     ]
    }
   ],
   "source": [
    "model.summary()"
   ]
  },
  {
   "cell_type": "code",
   "execution_count": 34,
   "id": "30f3abdd",
   "metadata": {},
   "outputs": [],
   "source": [
    "model.compile(optimizer=tf.keras.optimizers.Adam(learning_rate=lr),\n",
    "              loss = tf.keras.losses.MeanSquaredError(),\n",
    "              metrics=[tf.keras.metrics.RootMeanSquaredError(name=\"rmse\")])"
   ]
  },
  {
   "cell_type": "code",
   "execution_count": 35,
   "id": "cf477620",
   "metadata": {},
   "outputs": [],
   "source": [
    "es = tf.keras.callbacks.EarlyStopping(monitor='loss', patience=100, min_delta=6e-7,\n",
    "                                      restore_best_weights=True, verbose=1)\n",
    "rp = tf.keras.callbacks.ReduceLROnPlateau(monitor='loss', patience=70, factor=0.5,\n",
    "                                          min_delta = 1e-07, min_lr=1e-06,\n",
    "                                          verbose=1)"
   ]
  },
  {
   "cell_type": "code",
   "execution_count": 36,
   "id": "e4cc904c",
   "metadata": {},
   "outputs": [],
   "source": [
    "STEP_SIZE_TRAIN = len(x_train)//batch_size"
   ]
  },
  {
   "cell_type": "code",
   "execution_count": 37,
   "id": "17d6b26e",
   "metadata": {
    "scrolled": true
   },
   "outputs": [
    {
     "name": "stdout",
     "output_type": "stream",
     "text": [
      "Epoch 1/5000\n",
      "5/5 [==============================] - 2s 78ms/step - loss: 0.7172 - rmse: 0.8469 - val_loss: 0.6309 - val_rmse: 0.7943 - lr: 0.0010\n",
      "Epoch 2/5000\n",
      "5/5 [==============================] - 0s 11ms/step - loss: 0.4949 - rmse: 0.7035 - val_loss: 0.3768 - val_rmse: 0.6139 - lr: 0.0010\n",
      "Epoch 3/5000\n",
      "5/5 [==============================] - 0s 10ms/step - loss: 0.2262 - rmse: 0.4756 - val_loss: 0.0924 - val_rmse: 0.3039 - lr: 0.0010\n",
      "Epoch 4/5000\n",
      "5/5 [==============================] - 0s 10ms/step - loss: 0.1191 - rmse: 0.3451 - val_loss: 0.1160 - val_rmse: 0.3406 - lr: 0.0010\n",
      "Epoch 5/5000\n",
      "5/5 [==============================] - 0s 10ms/step - loss: 0.1260 - rmse: 0.3549 - val_loss: 0.0565 - val_rmse: 0.2377 - lr: 0.0010\n",
      "Epoch 6/5000\n",
      "5/5 [==============================] - 0s 10ms/step - loss: 0.0851 - rmse: 0.2917 - val_loss: 0.0860 - val_rmse: 0.2932 - lr: 0.0010\n",
      "Epoch 7/5000\n",
      "5/5 [==============================] - 0s 11ms/step - loss: 0.0775 - rmse: 0.2784 - val_loss: 0.0584 - val_rmse: 0.2416 - lr: 0.0010\n",
      "Epoch 8/5000\n",
      "5/5 [==============================] - 0s 11ms/step - loss: 0.0461 - rmse: 0.2146 - val_loss: 0.0348 - val_rmse: 0.1865 - lr: 0.0010\n",
      "Epoch 9/5000\n",
      "5/5 [==============================] - 0s 11ms/step - loss: 0.0360 - rmse: 0.1897 - val_loss: 0.0282 - val_rmse: 0.1679 - lr: 0.0010\n",
      "Epoch 10/5000\n",
      "5/5 [==============================] - 0s 11ms/step - loss: 0.0345 - rmse: 0.1857 - val_loss: 0.0342 - val_rmse: 0.1850 - lr: 0.0010\n",
      "Epoch 11/5000\n",
      "5/5 [==============================] - 0s 10ms/step - loss: 0.0272 - rmse: 0.1649 - val_loss: 0.0215 - val_rmse: 0.1466 - lr: 0.0010\n",
      "Epoch 12/5000\n",
      "5/5 [==============================] - 0s 10ms/step - loss: 0.0175 - rmse: 0.1323 - val_loss: 0.0184 - val_rmse: 0.1357 - lr: 0.0010\n",
      "Epoch 13/5000\n",
      "5/5 [==============================] - 0s 10ms/step - loss: 0.0194 - rmse: 0.1394 - val_loss: 0.0177 - val_rmse: 0.1331 - lr: 0.0010\n",
      "Epoch 14/5000\n",
      "5/5 [==============================] - 0s 10ms/step - loss: 0.0194 - rmse: 0.1392 - val_loss: 0.0169 - val_rmse: 0.1300 - lr: 0.0010\n",
      "Epoch 15/5000\n",
      "5/5 [==============================] - 0s 10ms/step - loss: 0.0166 - rmse: 0.1288 - val_loss: 0.0127 - val_rmse: 0.1126 - lr: 0.0010\n",
      "Epoch 16/5000\n",
      "5/5 [==============================] - 0s 10ms/step - loss: 0.0199 - rmse: 0.1411 - val_loss: 0.0139 - val_rmse: 0.1181 - lr: 0.0010\n",
      "Epoch 17/5000\n",
      "5/5 [==============================] - 0s 10ms/step - loss: 0.0113 - rmse: 0.1063 - val_loss: 0.0117 - val_rmse: 0.1080 - lr: 0.0010\n",
      "Epoch 18/5000\n",
      "5/5 [==============================] - 0s 9ms/step - loss: 0.0174 - rmse: 0.1319 - val_loss: 0.0143 - val_rmse: 0.1196 - lr: 0.0010\n",
      "Epoch 19/5000\n",
      "5/5 [==============================] - 0s 9ms/step - loss: 0.0179 - rmse: 0.1337 - val_loss: 0.0119 - val_rmse: 0.1093 - lr: 0.0010\n",
      "Epoch 20/5000\n",
      "5/5 [==============================] - 0s 9ms/step - loss: 0.0152 - rmse: 0.1233 - val_loss: 0.0114 - val_rmse: 0.1067 - lr: 0.0010\n",
      "Epoch 21/5000\n",
      "5/5 [==============================] - 0s 9ms/step - loss: 0.0157 - rmse: 0.1254 - val_loss: 0.0122 - val_rmse: 0.1106 - lr: 0.0010\n",
      "Epoch 22/5000\n",
      "5/5 [==============================] - 0s 9ms/step - loss: 0.0166 - rmse: 0.1288 - val_loss: 0.0116 - val_rmse: 0.1077 - lr: 0.0010\n",
      "Epoch 23/5000\n",
      "5/5 [==============================] - 0s 10ms/step - loss: 0.0125 - rmse: 0.1119 - val_loss: 0.0095 - val_rmse: 0.0973 - lr: 0.0010\n",
      "Epoch 24/5000\n",
      "5/5 [==============================] - 0s 10ms/step - loss: 0.0162 - rmse: 0.1272 - val_loss: 0.0128 - val_rmse: 0.1133 - lr: 0.0010\n",
      "Epoch 25/5000\n",
      "5/5 [==============================] - 0s 9ms/step - loss: 0.0165 - rmse: 0.1283 - val_loss: 0.0087 - val_rmse: 0.0933 - lr: 0.0010\n",
      "Epoch 26/5000\n",
      "5/5 [==============================] - 0s 10ms/step - loss: 0.0138 - rmse: 0.1174 - val_loss: 0.0128 - val_rmse: 0.1129 - lr: 0.0010\n",
      "Epoch 27/5000\n",
      "5/5 [==============================] - 0s 10ms/step - loss: 0.0125 - rmse: 0.1116 - val_loss: 0.0071 - val_rmse: 0.0844 - lr: 0.0010\n",
      "Epoch 28/5000\n",
      "5/5 [==============================] - 0s 9ms/step - loss: 0.0178 - rmse: 0.1333 - val_loss: 0.0126 - val_rmse: 0.1120 - lr: 0.0010\n",
      "Epoch 29/5000\n",
      "5/5 [==============================] - 0s 9ms/step - loss: 0.0149 - rmse: 0.1219 - val_loss: 0.0072 - val_rmse: 0.0847 - lr: 0.0010\n",
      "Epoch 30/5000\n",
      "5/5 [==============================] - 0s 9ms/step - loss: 0.0160 - rmse: 0.1264 - val_loss: 0.0114 - val_rmse: 0.1068 - lr: 0.0010\n",
      "Epoch 31/5000\n",
      "5/5 [==============================] - 0s 10ms/step - loss: 0.0159 - rmse: 0.1259 - val_loss: 0.0074 - val_rmse: 0.0863 - lr: 0.0010\n",
      "Epoch 32/5000\n",
      "5/5 [==============================] - 0s 10ms/step - loss: 0.0127 - rmse: 0.1126 - val_loss: 0.0086 - val_rmse: 0.0929 - lr: 0.0010\n",
      "Epoch 33/5000\n",
      "5/5 [==============================] - 0s 10ms/step - loss: 0.0129 - rmse: 0.1135 - val_loss: 0.0076 - val_rmse: 0.0874 - lr: 0.0010\n",
      "Epoch 34/5000\n",
      "5/5 [==============================] - 0s 9ms/step - loss: 0.0154 - rmse: 0.1240 - val_loss: 0.0074 - val_rmse: 0.0862 - lr: 0.0010\n",
      "Epoch 35/5000\n",
      "5/5 [==============================] - 0s 10ms/step - loss: 0.0096 - rmse: 0.0979 - val_loss: 0.0075 - val_rmse: 0.0868 - lr: 0.0010\n",
      "Epoch 36/5000\n",
      "5/5 [==============================] - 0s 9ms/step - loss: 0.0129 - rmse: 0.1134 - val_loss: 0.0065 - val_rmse: 0.0807 - lr: 0.0010\n",
      "Epoch 37/5000\n",
      "5/5 [==============================] - 0s 10ms/step - loss: 0.0120 - rmse: 0.1096 - val_loss: 0.0072 - val_rmse: 0.0846 - lr: 0.0010\n",
      "Epoch 38/5000\n",
      "5/5 [==============================] - 0s 10ms/step - loss: 0.0113 - rmse: 0.1064 - val_loss: 0.0073 - val_rmse: 0.0854 - lr: 0.0010\n",
      "Epoch 39/5000\n",
      "5/5 [==============================] - 0s 9ms/step - loss: 0.0142 - rmse: 0.1190 - val_loss: 0.0075 - val_rmse: 0.0863 - lr: 0.0010\n",
      "Epoch 40/5000\n",
      "5/5 [==============================] - 0s 9ms/step - loss: 0.0105 - rmse: 0.1023 - val_loss: 0.0077 - val_rmse: 0.0876 - lr: 0.0010\n",
      "Epoch 41/5000\n",
      "5/5 [==============================] - 0s 9ms/step - loss: 0.0133 - rmse: 0.1153 - val_loss: 0.0072 - val_rmse: 0.0846 - lr: 0.0010\n",
      "Epoch 42/5000\n",
      "5/5 [==============================] - 0s 10ms/step - loss: 0.0095 - rmse: 0.0972 - val_loss: 0.0060 - val_rmse: 0.0773 - lr: 0.0010\n",
      "Epoch 43/5000\n",
      "5/5 [==============================] - 0s 9ms/step - loss: 0.0118 - rmse: 0.1084 - val_loss: 0.0064 - val_rmse: 0.0801 - lr: 0.0010\n",
      "Epoch 44/5000\n",
      "5/5 [==============================] - 0s 10ms/step - loss: 0.0085 - rmse: 0.0922 - val_loss: 0.0053 - val_rmse: 0.0731 - lr: 0.0010\n",
      "Epoch 45/5000\n",
      "5/5 [==============================] - 0s 9ms/step - loss: 0.0113 - rmse: 0.1061 - val_loss: 0.0063 - val_rmse: 0.0797 - lr: 0.0010\n",
      "Epoch 46/5000\n",
      "5/5 [==============================] - 0s 9ms/step - loss: 0.0115 - rmse: 0.1073 - val_loss: 0.0062 - val_rmse: 0.0788 - lr: 0.0010\n",
      "Epoch 47/5000\n",
      "5/5 [==============================] - 0s 9ms/step - loss: 0.0107 - rmse: 0.1035 - val_loss: 0.0064 - val_rmse: 0.0798 - lr: 0.0010\n",
      "Epoch 48/5000\n",
      "5/5 [==============================] - 0s 9ms/step - loss: 0.0093 - rmse: 0.0965 - val_loss: 0.0042 - val_rmse: 0.0647 - lr: 0.0010\n",
      "Epoch 49/5000\n",
      "5/5 [==============================] - 0s 9ms/step - loss: 0.0096 - rmse: 0.0980 - val_loss: 0.0042 - val_rmse: 0.0651 - lr: 0.0010\n",
      "Epoch 50/5000\n",
      "5/5 [==============================] - 0s 10ms/step - loss: 0.0097 - rmse: 0.0986 - val_loss: 0.0070 - val_rmse: 0.0838 - lr: 0.0010\n",
      "Epoch 51/5000\n",
      "5/5 [==============================] - 0s 10ms/step - loss: 0.0131 - rmse: 0.1145 - val_loss: 0.0087 - val_rmse: 0.0934 - lr: 0.0010\n",
      "Epoch 52/5000\n",
      "5/5 [==============================] - 0s 10ms/step - loss: 0.0106 - rmse: 0.1028 - val_loss: 0.0064 - val_rmse: 0.0799 - lr: 0.0010\n",
      "Epoch 53/5000\n",
      "5/5 [==============================] - 0s 10ms/step - loss: 0.0068 - rmse: 0.0823 - val_loss: 0.0053 - val_rmse: 0.0728 - lr: 0.0010\n",
      "Epoch 54/5000\n",
      "5/5 [==============================] - 0s 10ms/step - loss: 0.0108 - rmse: 0.1038 - val_loss: 0.0048 - val_rmse: 0.0694 - lr: 0.0010\n",
      "Epoch 55/5000\n",
      "5/5 [==============================] - 0s 10ms/step - loss: 0.0128 - rmse: 0.1133 - val_loss: 0.0065 - val_rmse: 0.0803 - lr: 0.0010\n",
      "Epoch 56/5000\n",
      "5/5 [==============================] - 0s 10ms/step - loss: 0.0109 - rmse: 0.1044 - val_loss: 0.0119 - val_rmse: 0.1090 - lr: 0.0010\n"
     ]
    },
    {
     "name": "stdout",
     "output_type": "stream",
     "text": [
      "Epoch 57/5000\n",
      "5/5 [==============================] - 0s 9ms/step - loss: 0.0111 - rmse: 0.1055 - val_loss: 0.0039 - val_rmse: 0.0625 - lr: 0.0010\n",
      "Epoch 58/5000\n",
      "5/5 [==============================] - 0s 10ms/step - loss: 0.0092 - rmse: 0.0961 - val_loss: 0.0066 - val_rmse: 0.0814 - lr: 0.0010\n",
      "Epoch 59/5000\n",
      "5/5 [==============================] - 0s 9ms/step - loss: 0.0083 - rmse: 0.0910 - val_loss: 0.0042 - val_rmse: 0.0647 - lr: 0.0010\n",
      "Epoch 60/5000\n",
      "5/5 [==============================] - 0s 9ms/step - loss: 0.0091 - rmse: 0.0956 - val_loss: 0.0048 - val_rmse: 0.0694 - lr: 0.0010\n",
      "Epoch 61/5000\n",
      "5/5 [==============================] - 0s 10ms/step - loss: 0.0061 - rmse: 0.0781 - val_loss: 0.0047 - val_rmse: 0.0687 - lr: 0.0010\n",
      "Epoch 62/5000\n",
      "5/5 [==============================] - 0s 9ms/step - loss: 0.0093 - rmse: 0.0966 - val_loss: 0.0054 - val_rmse: 0.0737 - lr: 0.0010\n",
      "Epoch 63/5000\n",
      "5/5 [==============================] - 0s 9ms/step - loss: 0.0072 - rmse: 0.0848 - val_loss: 0.0066 - val_rmse: 0.0814 - lr: 0.0010\n",
      "Epoch 64/5000\n",
      "5/5 [==============================] - 0s 9ms/step - loss: 0.0089 - rmse: 0.0946 - val_loss: 0.0060 - val_rmse: 0.0775 - lr: 0.0010\n",
      "Epoch 65/5000\n",
      "5/5 [==============================] - 0s 10ms/step - loss: 0.0062 - rmse: 0.0787 - val_loss: 0.0037 - val_rmse: 0.0605 - lr: 0.0010\n",
      "Epoch 66/5000\n",
      "5/5 [==============================] - 0s 10ms/step - loss: 0.0066 - rmse: 0.0811 - val_loss: 0.0039 - val_rmse: 0.0628 - lr: 0.0010\n",
      "Epoch 67/5000\n",
      "5/5 [==============================] - 0s 11ms/step - loss: 0.0056 - rmse: 0.0751 - val_loss: 0.0063 - val_rmse: 0.0792 - lr: 0.0010\n",
      "Epoch 68/5000\n",
      "5/5 [==============================] - 0s 10ms/step - loss: 0.0078 - rmse: 0.0884 - val_loss: 0.0026 - val_rmse: 0.0513 - lr: 0.0010\n",
      "Epoch 69/5000\n",
      "5/5 [==============================] - 0s 11ms/step - loss: 0.0066 - rmse: 0.0814 - val_loss: 0.0040 - val_rmse: 0.0630 - lr: 0.0010\n",
      "Epoch 70/5000\n",
      "5/5 [==============================] - 0s 11ms/step - loss: 0.0040 - rmse: 0.0631 - val_loss: 0.0029 - val_rmse: 0.0540 - lr: 0.0010\n",
      "Epoch 71/5000\n",
      "5/5 [==============================] - 0s 11ms/step - loss: 0.0044 - rmse: 0.0661 - val_loss: 0.0024 - val_rmse: 0.0494 - lr: 0.0010\n",
      "Epoch 72/5000\n",
      "5/5 [==============================] - 0s 10ms/step - loss: 0.0062 - rmse: 0.0790 - val_loss: 0.0070 - val_rmse: 0.0835 - lr: 0.0010\n",
      "Epoch 73/5000\n",
      "5/5 [==============================] - 0s 10ms/step - loss: 0.0062 - rmse: 0.0790 - val_loss: 0.0055 - val_rmse: 0.0739 - lr: 0.0010\n",
      "Epoch 74/5000\n",
      "5/5 [==============================] - 0s 11ms/step - loss: 0.0077 - rmse: 0.0879 - val_loss: 0.0026 - val_rmse: 0.0511 - lr: 0.0010\n",
      "Epoch 75/5000\n",
      "5/5 [==============================] - 0s 11ms/step - loss: 0.0032 - rmse: 0.0569 - val_loss: 0.0056 - val_rmse: 0.0751 - lr: 0.0010\n",
      "Epoch 76/5000\n",
      "5/5 [==============================] - 0s 11ms/step - loss: 0.0055 - rmse: 0.0742 - val_loss: 0.0039 - val_rmse: 0.0625 - lr: 0.0010\n",
      "Epoch 77/5000\n",
      "5/5 [==============================] - 0s 10ms/step - loss: 0.0051 - rmse: 0.0715 - val_loss: 0.0071 - val_rmse: 0.0840 - lr: 0.0010\n",
      "Epoch 78/5000\n",
      "5/5 [==============================] - 0s 11ms/step - loss: 0.0078 - rmse: 0.0885 - val_loss: 0.0023 - val_rmse: 0.0483 - lr: 0.0010\n",
      "Epoch 79/5000\n",
      "5/5 [==============================] - 0s 10ms/step - loss: 0.0041 - rmse: 0.0638 - val_loss: 0.0040 - val_rmse: 0.0635 - lr: 0.0010\n",
      "Epoch 80/5000\n",
      "5/5 [==============================] - 0s 10ms/step - loss: 0.0042 - rmse: 0.0652 - val_loss: 8.4677e-04 - val_rmse: 0.0291 - lr: 0.0010\n",
      "Epoch 81/5000\n",
      "5/5 [==============================] - 0s 10ms/step - loss: 0.0051 - rmse: 0.0711 - val_loss: 0.0024 - val_rmse: 0.0492 - lr: 0.0010\n",
      "Epoch 82/5000\n",
      "5/5 [==============================] - 0s 10ms/step - loss: 0.0033 - rmse: 0.0578 - val_loss: 0.0023 - val_rmse: 0.0481 - lr: 0.0010\n",
      "Epoch 83/5000\n",
      "5/5 [==============================] - 0s 11ms/step - loss: 0.0036 - rmse: 0.0598 - val_loss: 0.0077 - val_rmse: 0.0876 - lr: 0.0010\n",
      "Epoch 84/5000\n",
      "5/5 [==============================] - 0s 11ms/step - loss: 0.0059 - rmse: 0.0767 - val_loss: 0.0014 - val_rmse: 0.0374 - lr: 0.0010\n",
      "Epoch 85/5000\n",
      "5/5 [==============================] - 0s 11ms/step - loss: 0.0033 - rmse: 0.0576 - val_loss: 0.0027 - val_rmse: 0.0516 - lr: 0.0010\n",
      "Epoch 86/5000\n",
      "5/5 [==============================] - 0s 12ms/step - loss: 0.0029 - rmse: 0.0540 - val_loss: 0.0018 - val_rmse: 0.0425 - lr: 0.0010\n",
      "Epoch 87/5000\n",
      "5/5 [==============================] - 0s 11ms/step - loss: 0.0031 - rmse: 0.0555 - val_loss: 0.0023 - val_rmse: 0.0475 - lr: 0.0010\n",
      "Epoch 88/5000\n",
      "5/5 [==============================] - 0s 12ms/step - loss: 0.0019 - rmse: 0.0437 - val_loss: 0.0021 - val_rmse: 0.0462 - lr: 0.0010\n",
      "Epoch 89/5000\n",
      "5/5 [==============================] - 0s 12ms/step - loss: 0.0027 - rmse: 0.0516 - val_loss: 0.0013 - val_rmse: 0.0354 - lr: 0.0010\n",
      "Epoch 90/5000\n",
      "5/5 [==============================] - 0s 12ms/step - loss: 0.0036 - rmse: 0.0603 - val_loss: 0.0025 - val_rmse: 0.0501 - lr: 0.0010\n",
      "Epoch 91/5000\n",
      "5/5 [==============================] - 0s 12ms/step - loss: 0.0035 - rmse: 0.0592 - val_loss: 0.0024 - val_rmse: 0.0488 - lr: 0.0010\n",
      "Epoch 92/5000\n",
      "5/5 [==============================] - 0s 12ms/step - loss: 0.0032 - rmse: 0.0568 - val_loss: 0.0018 - val_rmse: 0.0425 - lr: 0.0010\n",
      "Epoch 93/5000\n",
      "5/5 [==============================] - 0s 12ms/step - loss: 0.0059 - rmse: 0.0768 - val_loss: 0.0027 - val_rmse: 0.0519 - lr: 0.0010\n",
      "Epoch 94/5000\n",
      "5/5 [==============================] - 0s 12ms/step - loss: 0.0051 - rmse: 0.0714 - val_loss: 0.0014 - val_rmse: 0.0368 - lr: 0.0010\n",
      "Epoch 95/5000\n",
      "5/5 [==============================] - 0s 12ms/step - loss: 0.0048 - rmse: 0.0692 - val_loss: 0.0026 - val_rmse: 0.0506 - lr: 0.0010\n",
      "Epoch 96/5000\n",
      "5/5 [==============================] - 0s 12ms/step - loss: 0.0036 - rmse: 0.0604 - val_loss: 0.0028 - val_rmse: 0.0533 - lr: 0.0010\n",
      "Epoch 97/5000\n",
      "5/5 [==============================] - 0s 12ms/step - loss: 0.0050 - rmse: 0.0707 - val_loss: 0.0047 - val_rmse: 0.0682 - lr: 0.0010\n",
      "Epoch 98/5000\n",
      "5/5 [==============================] - 0s 12ms/step - loss: 0.0032 - rmse: 0.0567 - val_loss: 0.0025 - val_rmse: 0.0497 - lr: 0.0010\n",
      "Epoch 99/5000\n",
      "5/5 [==============================] - 0s 13ms/step - loss: 0.0018 - rmse: 0.0429 - val_loss: 0.0014 - val_rmse: 0.0370 - lr: 0.0010\n",
      "Epoch 100/5000\n",
      "5/5 [==============================] - 0s 12ms/step - loss: 0.0020 - rmse: 0.0443 - val_loss: 0.0012 - val_rmse: 0.0345 - lr: 0.0010\n",
      "Epoch 101/5000\n",
      "5/5 [==============================] - 0s 12ms/step - loss: 0.0019 - rmse: 0.0433 - val_loss: 0.0014 - val_rmse: 0.0379 - lr: 0.0010\n",
      "Epoch 102/5000\n",
      "5/5 [==============================] - 0s 13ms/step - loss: 0.0017 - rmse: 0.0415 - val_loss: 0.0025 - val_rmse: 0.0502 - lr: 0.0010\n",
      "Epoch 103/5000\n",
      "5/5 [==============================] - 0s 13ms/step - loss: 0.0018 - rmse: 0.0420 - val_loss: 0.0021 - val_rmse: 0.0457 - lr: 0.0010\n",
      "Epoch 104/5000\n",
      "5/5 [==============================] - 0s 12ms/step - loss: 0.0022 - rmse: 0.0469 - val_loss: 0.0012 - val_rmse: 0.0349 - lr: 0.0010\n",
      "Epoch 105/5000\n",
      "5/5 [==============================] - 0s 13ms/step - loss: 0.0013 - rmse: 0.0358 - val_loss: 0.0018 - val_rmse: 0.0424 - lr: 0.0010\n",
      "Epoch 106/5000\n",
      "5/5 [==============================] - 0s 13ms/step - loss: 0.0010 - rmse: 0.0323 - val_loss: 0.0017 - val_rmse: 0.0410 - lr: 0.0010\n",
      "Epoch 107/5000\n",
      "5/5 [==============================] - 0s 12ms/step - loss: 0.0020 - rmse: 0.0445 - val_loss: 0.0010 - val_rmse: 0.0323 - lr: 0.0010\n",
      "Epoch 108/5000\n",
      "5/5 [==============================] - 0s 12ms/step - loss: 0.0014 - rmse: 0.0367 - val_loss: 0.0018 - val_rmse: 0.0421 - lr: 0.0010\n",
      "Epoch 109/5000\n",
      "5/5 [==============================] - 0s 12ms/step - loss: 0.0015 - rmse: 0.0387 - val_loss: 8.7097e-04 - val_rmse: 0.0295 - lr: 0.0010\n",
      "Epoch 110/5000\n",
      "5/5 [==============================] - 0s 12ms/step - loss: 0.0021 - rmse: 0.0454 - val_loss: 0.0021 - val_rmse: 0.0454 - lr: 0.0010\n",
      "Epoch 111/5000\n",
      "5/5 [==============================] - 0s 12ms/step - loss: 0.0020 - rmse: 0.0447 - val_loss: 0.0010 - val_rmse: 0.0322 - lr: 0.0010\n",
      "Epoch 112/5000\n",
      "5/5 [==============================] - 0s 13ms/step - loss: 0.0017 - rmse: 0.0409 - val_loss: 9.3369e-04 - val_rmse: 0.0306 - lr: 0.0010\n"
     ]
    },
    {
     "name": "stdout",
     "output_type": "stream",
     "text": [
      "Epoch 113/5000\n",
      "5/5 [==============================] - 0s 13ms/step - loss: 0.0019 - rmse: 0.0439 - val_loss: 9.4159e-04 - val_rmse: 0.0307 - lr: 0.0010\n",
      "Epoch 114/5000\n",
      "5/5 [==============================] - 0s 12ms/step - loss: 0.0011 - rmse: 0.0328 - val_loss: 9.8093e-04 - val_rmse: 0.0313 - lr: 0.0010\n",
      "Epoch 115/5000\n",
      "5/5 [==============================] - 0s 12ms/step - loss: 8.8646e-04 - rmse: 0.0298 - val_loss: 8.6445e-04 - val_rmse: 0.0294 - lr: 0.0010\n",
      "Epoch 116/5000\n",
      "5/5 [==============================] - 0s 12ms/step - loss: 7.0917e-04 - rmse: 0.0266 - val_loss: 9.1078e-04 - val_rmse: 0.0302 - lr: 0.0010\n",
      "Epoch 117/5000\n",
      "5/5 [==============================] - 0s 12ms/step - loss: 7.3787e-04 - rmse: 0.0272 - val_loss: 6.8351e-04 - val_rmse: 0.0261 - lr: 0.0010\n",
      "Epoch 118/5000\n",
      "5/5 [==============================] - 0s 13ms/step - loss: 5.5375e-04 - rmse: 0.0235 - val_loss: 8.2695e-04 - val_rmse: 0.0288 - lr: 0.0010\n",
      "Epoch 119/5000\n",
      "5/5 [==============================] - 0s 12ms/step - loss: 9.9140e-04 - rmse: 0.0315 - val_loss: 6.8643e-04 - val_rmse: 0.0262 - lr: 0.0010\n",
      "Epoch 120/5000\n",
      "5/5 [==============================] - 0s 12ms/step - loss: 0.0010 - rmse: 0.0318 - val_loss: 0.0015 - val_rmse: 0.0387 - lr: 0.0010\n",
      "Epoch 121/5000\n",
      "5/5 [==============================] - 0s 12ms/step - loss: 8.7121e-04 - rmse: 0.0295 - val_loss: 9.6604e-04 - val_rmse: 0.0311 - lr: 0.0010\n",
      "Epoch 122/5000\n",
      "5/5 [==============================] - 0s 13ms/step - loss: 4.5359e-04 - rmse: 0.0213 - val_loss: 5.7906e-04 - val_rmse: 0.0241 - lr: 0.0010\n",
      "Epoch 123/5000\n",
      "5/5 [==============================] - 0s 12ms/step - loss: 9.4400e-04 - rmse: 0.0307 - val_loss: 0.0020 - val_rmse: 0.0447 - lr: 0.0010\n",
      "Epoch 124/5000\n",
      "5/5 [==============================] - 0s 11ms/step - loss: 0.0015 - rmse: 0.0388 - val_loss: 8.3338e-04 - val_rmse: 0.0289 - lr: 0.0010\n",
      "Epoch 125/5000\n",
      "5/5 [==============================] - 0s 12ms/step - loss: 7.9242e-04 - rmse: 0.0281 - val_loss: 7.1082e-04 - val_rmse: 0.0267 - lr: 0.0010\n",
      "Epoch 126/5000\n",
      "5/5 [==============================] - 0s 12ms/step - loss: 8.1286e-04 - rmse: 0.0285 - val_loss: 8.5098e-04 - val_rmse: 0.0292 - lr: 0.0010\n",
      "Epoch 127/5000\n",
      "5/5 [==============================] - 0s 12ms/step - loss: 0.0010 - rmse: 0.0317 - val_loss: 6.8653e-04 - val_rmse: 0.0262 - lr: 0.0010\n",
      "Epoch 128/5000\n",
      "5/5 [==============================] - 0s 12ms/step - loss: 0.0012 - rmse: 0.0345 - val_loss: 0.0015 - val_rmse: 0.0383 - lr: 0.0010\n",
      "Epoch 129/5000\n",
      "5/5 [==============================] - 0s 12ms/step - loss: 0.0014 - rmse: 0.0373 - val_loss: 0.0011 - val_rmse: 0.0328 - lr: 0.0010\n",
      "Epoch 130/5000\n",
      "5/5 [==============================] - 0s 12ms/step - loss: 0.0037 - rmse: 0.0606 - val_loss: 0.0023 - val_rmse: 0.0475 - lr: 0.0010\n",
      "Epoch 131/5000\n",
      "5/5 [==============================] - 0s 12ms/step - loss: 0.0039 - rmse: 0.0625 - val_loss: 0.0030 - val_rmse: 0.0548 - lr: 0.0010\n",
      "Epoch 132/5000\n",
      "5/5 [==============================] - 0s 12ms/step - loss: 0.0038 - rmse: 0.0616 - val_loss: 0.0022 - val_rmse: 0.0468 - lr: 0.0010\n",
      "Epoch 133/5000\n",
      "5/5 [==============================] - 0s 12ms/step - loss: 0.0021 - rmse: 0.0457 - val_loss: 0.0013 - val_rmse: 0.0354 - lr: 0.0010\n",
      "Epoch 134/5000\n",
      "5/5 [==============================] - 0s 12ms/step - loss: 0.0019 - rmse: 0.0432 - val_loss: 6.9100e-04 - val_rmse: 0.0263 - lr: 0.0010\n",
      "Epoch 135/5000\n",
      "5/5 [==============================] - 0s 12ms/step - loss: 6.1042e-04 - rmse: 0.0247 - val_loss: 5.1855e-04 - val_rmse: 0.0228 - lr: 0.0010\n",
      "Epoch 136/5000\n",
      "5/5 [==============================] - 0s 12ms/step - loss: 7.8951e-04 - rmse: 0.0281 - val_loss: 7.5821e-04 - val_rmse: 0.0275 - lr: 0.0010\n",
      "Epoch 137/5000\n",
      "5/5 [==============================] - 0s 12ms/step - loss: 8.9492e-04 - rmse: 0.0299 - val_loss: 0.0015 - val_rmse: 0.0382 - lr: 0.0010\n",
      "Epoch 138/5000\n",
      "5/5 [==============================] - 0s 13ms/step - loss: 6.4297e-04 - rmse: 0.0254 - val_loss: 5.3921e-04 - val_rmse: 0.0232 - lr: 0.0010\n",
      "Epoch 139/5000\n",
      "5/5 [==============================] - 0s 12ms/step - loss: 5.2031e-04 - rmse: 0.0228 - val_loss: 5.9517e-04 - val_rmse: 0.0244 - lr: 0.0010\n",
      "Epoch 140/5000\n",
      "5/5 [==============================] - 0s 13ms/step - loss: 4.1540e-04 - rmse: 0.0204 - val_loss: 5.6621e-04 - val_rmse: 0.0238 - lr: 0.0010\n",
      "Epoch 141/5000\n",
      "5/5 [==============================] - 0s 13ms/step - loss: 4.0256e-04 - rmse: 0.0201 - val_loss: 7.6703e-04 - val_rmse: 0.0277 - lr: 0.0010\n",
      "Epoch 142/5000\n",
      "5/5 [==============================] - 0s 12ms/step - loss: 5.0494e-04 - rmse: 0.0225 - val_loss: 0.0011 - val_rmse: 0.0333 - lr: 0.0010\n",
      "Epoch 143/5000\n",
      "5/5 [==============================] - 0s 12ms/step - loss: 5.5751e-04 - rmse: 0.0236 - val_loss: 6.3112e-04 - val_rmse: 0.0251 - lr: 0.0010\n",
      "Epoch 144/5000\n",
      "5/5 [==============================] - 0s 12ms/step - loss: 5.9787e-04 - rmse: 0.0245 - val_loss: 8.3111e-04 - val_rmse: 0.0288 - lr: 0.0010\n",
      "Epoch 145/5000\n",
      "5/5 [==============================] - 0s 12ms/step - loss: 8.6016e-04 - rmse: 0.0293 - val_loss: 5.0251e-04 - val_rmse: 0.0224 - lr: 0.0010\n",
      "Epoch 146/5000\n",
      "5/5 [==============================] - 0s 13ms/step - loss: 7.8838e-04 - rmse: 0.0281 - val_loss: 9.3762e-04 - val_rmse: 0.0306 - lr: 0.0010\n",
      "Epoch 147/5000\n",
      "5/5 [==============================] - 0s 13ms/step - loss: 6.6396e-04 - rmse: 0.0258 - val_loss: 8.5919e-04 - val_rmse: 0.0293 - lr: 0.0010\n",
      "Epoch 148/5000\n",
      "5/5 [==============================] - 0s 13ms/step - loss: 5.2826e-04 - rmse: 0.0230 - val_loss: 3.9651e-04 - val_rmse: 0.0199 - lr: 0.0010\n",
      "Epoch 149/5000\n",
      "5/5 [==============================] - 0s 12ms/step - loss: 7.4344e-04 - rmse: 0.0273 - val_loss: 0.0010 - val_rmse: 0.0323 - lr: 0.0010\n",
      "Epoch 150/5000\n",
      "5/5 [==============================] - 0s 13ms/step - loss: 6.7792e-04 - rmse: 0.0260 - val_loss: 7.7134e-04 - val_rmse: 0.0278 - lr: 0.0010\n",
      "Epoch 151/5000\n",
      "5/5 [==============================] - 0s 13ms/step - loss: 6.1850e-04 - rmse: 0.0249 - val_loss: 4.7580e-04 - val_rmse: 0.0218 - lr: 0.0010\n",
      "Epoch 152/5000\n",
      "5/5 [==============================] - 0s 12ms/step - loss: 4.7833e-04 - rmse: 0.0219 - val_loss: 7.3324e-04 - val_rmse: 0.0271 - lr: 0.0010\n",
      "Epoch 153/5000\n",
      "5/5 [==============================] - 0s 14ms/step - loss: 3.3545e-04 - rmse: 0.0183 - val_loss: 4.4236e-04 - val_rmse: 0.0210 - lr: 0.0010\n",
      "Epoch 154/5000\n",
      "5/5 [==============================] - 0s 13ms/step - loss: 3.2418e-04 - rmse: 0.0180 - val_loss: 3.6182e-04 - val_rmse: 0.0190 - lr: 0.0010\n",
      "Epoch 155/5000\n",
      "5/5 [==============================] - 0s 13ms/step - loss: 3.1914e-04 - rmse: 0.0179 - val_loss: 4.8322e-04 - val_rmse: 0.0220 - lr: 0.0010\n",
      "Epoch 156/5000\n",
      "5/5 [==============================] - 0s 13ms/step - loss: 3.0784e-04 - rmse: 0.0175 - val_loss: 4.0858e-04 - val_rmse: 0.0202 - lr: 0.0010\n",
      "Epoch 157/5000\n",
      "5/5 [==============================] - 0s 12ms/step - loss: 3.3286e-04 - rmse: 0.0182 - val_loss: 4.8323e-04 - val_rmse: 0.0220 - lr: 0.0010\n",
      "Epoch 158/5000\n",
      "5/5 [==============================] - 0s 13ms/step - loss: 2.8416e-04 - rmse: 0.0169 - val_loss: 5.1254e-04 - val_rmse: 0.0226 - lr: 0.0010\n",
      "Epoch 159/5000\n",
      "5/5 [==============================] - 0s 12ms/step - loss: 2.3026e-04 - rmse: 0.0152 - val_loss: 5.4941e-04 - val_rmse: 0.0234 - lr: 0.0010\n",
      "Epoch 160/5000\n",
      "5/5 [==============================] - 0s 12ms/step - loss: 5.3588e-04 - rmse: 0.0231 - val_loss: 9.4895e-04 - val_rmse: 0.0308 - lr: 0.0010\n",
      "Epoch 161/5000\n",
      "5/5 [==============================] - 0s 13ms/step - loss: 4.5882e-04 - rmse: 0.0214 - val_loss: 6.7794e-04 - val_rmse: 0.0260 - lr: 0.0010\n",
      "Epoch 162/5000\n",
      "5/5 [==============================] - 0s 13ms/step - loss: 3.7454e-04 - rmse: 0.0194 - val_loss: 4.0289e-04 - val_rmse: 0.0201 - lr: 0.0010\n",
      "Epoch 163/5000\n",
      "5/5 [==============================] - 0s 13ms/step - loss: 3.8591e-04 - rmse: 0.0196 - val_loss: 4.6033e-04 - val_rmse: 0.0215 - lr: 0.0010\n",
      "Epoch 164/5000\n",
      "5/5 [==============================] - 0s 12ms/step - loss: 3.2517e-04 - rmse: 0.0180 - val_loss: 6.0522e-04 - val_rmse: 0.0246 - lr: 0.0010\n",
      "Epoch 165/5000\n",
      "5/5 [==============================] - 0s 12ms/step - loss: 3.3633e-04 - rmse: 0.0183 - val_loss: 3.8237e-04 - val_rmse: 0.0196 - lr: 0.0010\n",
      "Epoch 166/5000\n"
     ]
    },
    {
     "name": "stdout",
     "output_type": "stream",
     "text": [
      "5/5 [==============================] - 0s 12ms/step - loss: 3.2655e-04 - rmse: 0.0181 - val_loss: 5.4389e-04 - val_rmse: 0.0233 - lr: 0.0010\n",
      "Epoch 167/5000\n",
      "5/5 [==============================] - 0s 12ms/step - loss: 4.2061e-04 - rmse: 0.0205 - val_loss: 4.4622e-04 - val_rmse: 0.0211 - lr: 0.0010\n",
      "Epoch 168/5000\n",
      "5/5 [==============================] - 0s 12ms/step - loss: 4.0932e-04 - rmse: 0.0202 - val_loss: 3.3609e-04 - val_rmse: 0.0183 - lr: 0.0010\n",
      "Epoch 169/5000\n",
      "5/5 [==============================] - 0s 12ms/step - loss: 3.9665e-04 - rmse: 0.0199 - val_loss: 4.6245e-04 - val_rmse: 0.0215 - lr: 0.0010\n",
      "Epoch 170/5000\n",
      "5/5 [==============================] - 0s 12ms/step - loss: 4.5719e-04 - rmse: 0.0214 - val_loss: 4.2070e-04 - val_rmse: 0.0205 - lr: 0.0010\n",
      "Epoch 171/5000\n",
      "5/5 [==============================] - 0s 13ms/step - loss: 3.0196e-04 - rmse: 0.0174 - val_loss: 4.2943e-04 - val_rmse: 0.0207 - lr: 0.0010\n",
      "Epoch 172/5000\n",
      "5/5 [==============================] - 0s 12ms/step - loss: 3.8516e-04 - rmse: 0.0196 - val_loss: 5.2117e-04 - val_rmse: 0.0228 - lr: 0.0010\n",
      "Epoch 173/5000\n",
      "5/5 [==============================] - 0s 12ms/step - loss: 3.6401e-04 - rmse: 0.0191 - val_loss: 4.2906e-04 - val_rmse: 0.0207 - lr: 0.0010\n",
      "Epoch 174/5000\n",
      "5/5 [==============================] - 0s 12ms/step - loss: 3.3889e-04 - rmse: 0.0184 - val_loss: 3.6950e-04 - val_rmse: 0.0192 - lr: 0.0010\n",
      "Epoch 175/5000\n",
      "5/5 [==============================] - 0s 12ms/step - loss: 3.6914e-04 - rmse: 0.0192 - val_loss: 4.9197e-04 - val_rmse: 0.0222 - lr: 0.0010\n",
      "Epoch 176/5000\n",
      "5/5 [==============================] - 0s 12ms/step - loss: 2.8766e-04 - rmse: 0.0170 - val_loss: 3.0829e-04 - val_rmse: 0.0176 - lr: 0.0010\n",
      "Epoch 177/5000\n",
      "5/5 [==============================] - 0s 12ms/step - loss: 3.4540e-04 - rmse: 0.0186 - val_loss: 5.0620e-04 - val_rmse: 0.0225 - lr: 0.0010\n",
      "Epoch 178/5000\n",
      "5/5 [==============================] - 0s 13ms/step - loss: 1.9025e-04 - rmse: 0.0138 - val_loss: 6.4427e-04 - val_rmse: 0.0254 - lr: 0.0010\n",
      "Epoch 179/5000\n",
      "5/5 [==============================] - 0s 12ms/step - loss: 3.2931e-04 - rmse: 0.0181 - val_loss: 4.9914e-04 - val_rmse: 0.0223 - lr: 0.0010\n",
      "Epoch 180/5000\n",
      "5/5 [==============================] - 0s 12ms/step - loss: 4.2635e-04 - rmse: 0.0206 - val_loss: 5.9869e-04 - val_rmse: 0.0245 - lr: 0.0010\n",
      "Epoch 181/5000\n",
      "5/5 [==============================] - 0s 12ms/step - loss: 3.0819e-04 - rmse: 0.0176 - val_loss: 3.8273e-04 - val_rmse: 0.0196 - lr: 0.0010\n",
      "Epoch 182/5000\n",
      "5/5 [==============================] - 0s 12ms/step - loss: 2.3298e-04 - rmse: 0.0153 - val_loss: 3.1860e-04 - val_rmse: 0.0178 - lr: 0.0010\n",
      "Epoch 183/5000\n",
      "5/5 [==============================] - 0s 13ms/step - loss: 4.0462e-04 - rmse: 0.0201 - val_loss: 5.3914e-04 - val_rmse: 0.0232 - lr: 0.0010\n",
      "Epoch 184/5000\n",
      "5/5 [==============================] - 0s 12ms/step - loss: 3.5986e-04 - rmse: 0.0190 - val_loss: 9.5910e-04 - val_rmse: 0.0310 - lr: 0.0010\n",
      "Epoch 185/5000\n",
      "5/5 [==============================] - 0s 13ms/step - loss: 4.6266e-04 - rmse: 0.0215 - val_loss: 4.4819e-04 - val_rmse: 0.0212 - lr: 0.0010\n",
      "Epoch 186/5000\n",
      "5/5 [==============================] - 0s 12ms/step - loss: 3.1627e-04 - rmse: 0.0178 - val_loss: 0.0011 - val_rmse: 0.0332 - lr: 0.0010\n",
      "Epoch 187/5000\n",
      "5/5 [==============================] - 0s 12ms/step - loss: 5.9038e-04 - rmse: 0.0243 - val_loss: 6.2553e-04 - val_rmse: 0.0250 - lr: 0.0010\n",
      "Epoch 188/5000\n",
      "5/5 [==============================] - 0s 12ms/step - loss: 7.2305e-04 - rmse: 0.0269 - val_loss: 9.1725e-04 - val_rmse: 0.0303 - lr: 0.0010\n",
      "Epoch 189/5000\n",
      "5/5 [==============================] - 0s 12ms/step - loss: 3.7517e-04 - rmse: 0.0194 - val_loss: 4.8495e-04 - val_rmse: 0.0220 - lr: 0.0010\n",
      "Epoch 190/5000\n",
      "5/5 [==============================] - 0s 12ms/step - loss: 4.4111e-04 - rmse: 0.0210 - val_loss: 7.6648e-04 - val_rmse: 0.0277 - lr: 0.0010\n",
      "Epoch 191/5000\n",
      "5/5 [==============================] - 0s 12ms/step - loss: 4.9020e-04 - rmse: 0.0221 - val_loss: 6.5880e-04 - val_rmse: 0.0257 - lr: 0.0010\n",
      "Epoch 192/5000\n",
      "5/5 [==============================] - 0s 13ms/step - loss: 6.7438e-04 - rmse: 0.0260 - val_loss: 6.6466e-04 - val_rmse: 0.0258 - lr: 0.0010\n",
      "Epoch 193/5000\n",
      "5/5 [==============================] - 0s 12ms/step - loss: 2.7833e-04 - rmse: 0.0167 - val_loss: 3.0284e-04 - val_rmse: 0.0174 - lr: 0.0010\n",
      "Epoch 194/5000\n",
      "5/5 [==============================] - 0s 12ms/step - loss: 3.7860e-04 - rmse: 0.0195 - val_loss: 5.2163e-04 - val_rmse: 0.0228 - lr: 0.0010\n",
      "Epoch 195/5000\n",
      "5/5 [==============================] - 0s 12ms/step - loss: 2.6436e-04 - rmse: 0.0163 - val_loss: 2.6873e-04 - val_rmse: 0.0164 - lr: 0.0010\n",
      "Epoch 196/5000\n",
      "5/5 [==============================] - 0s 12ms/step - loss: 2.5916e-04 - rmse: 0.0161 - val_loss: 4.1491e-04 - val_rmse: 0.0204 - lr: 0.0010\n",
      "Epoch 197/5000\n",
      "5/5 [==============================] - 0s 12ms/step - loss: 2.8823e-04 - rmse: 0.0170 - val_loss: 3.2028e-04 - val_rmse: 0.0179 - lr: 0.0010\n",
      "Epoch 198/5000\n",
      "5/5 [==============================] - 0s 13ms/step - loss: 1.8893e-04 - rmse: 0.0137 - val_loss: 3.3679e-04 - val_rmse: 0.0184 - lr: 0.0010\n",
      "Epoch 199/5000\n",
      "5/5 [==============================] - 0s 13ms/step - loss: 1.5804e-04 - rmse: 0.0126 - val_loss: 4.5588e-04 - val_rmse: 0.0214 - lr: 0.0010\n",
      "Epoch 200/5000\n",
      "5/5 [==============================] - 0s 13ms/step - loss: 1.6659e-04 - rmse: 0.0129 - val_loss: 4.0256e-04 - val_rmse: 0.0201 - lr: 0.0010\n",
      "Epoch 201/5000\n",
      "5/5 [==============================] - 0s 12ms/step - loss: 1.7572e-04 - rmse: 0.0133 - val_loss: 3.4651e-04 - val_rmse: 0.0186 - lr: 0.0010\n",
      "Epoch 202/5000\n",
      "5/5 [==============================] - 0s 12ms/step - loss: 1.7957e-04 - rmse: 0.0134 - val_loss: 3.5463e-04 - val_rmse: 0.0188 - lr: 0.0010\n",
      "Epoch 203/5000\n",
      "5/5 [==============================] - 0s 13ms/step - loss: 1.2015e-04 - rmse: 0.0110 - val_loss: 3.8950e-04 - val_rmse: 0.0197 - lr: 0.0010\n",
      "Epoch 204/5000\n",
      "5/5 [==============================] - 0s 12ms/step - loss: 1.9561e-04 - rmse: 0.0140 - val_loss: 4.9107e-04 - val_rmse: 0.0222 - lr: 0.0010\n",
      "Epoch 205/5000\n",
      "5/5 [==============================] - 0s 12ms/step - loss: 1.3633e-04 - rmse: 0.0117 - val_loss: 4.3185e-04 - val_rmse: 0.0208 - lr: 0.0010\n",
      "Epoch 206/5000\n",
      "5/5 [==============================] - 0s 12ms/step - loss: 2.0076e-04 - rmse: 0.0142 - val_loss: 3.0625e-04 - val_rmse: 0.0175 - lr: 0.0010\n",
      "Epoch 207/5000\n",
      "5/5 [==============================] - 0s 13ms/step - loss: 1.1322e-04 - rmse: 0.0106 - val_loss: 4.0503e-04 - val_rmse: 0.0201 - lr: 0.0010\n",
      "Epoch 208/5000\n",
      "5/5 [==============================] - 0s 12ms/step - loss: 1.9276e-04 - rmse: 0.0139 - val_loss: 4.2606e-04 - val_rmse: 0.0206 - lr: 0.0010\n",
      "Epoch 209/5000\n",
      "5/5 [==============================] - 0s 12ms/step - loss: 1.3097e-04 - rmse: 0.0114 - val_loss: 3.4741e-04 - val_rmse: 0.0186 - lr: 0.0010\n",
      "Epoch 210/5000\n",
      "5/5 [==============================] - 0s 12ms/step - loss: 1.5179e-04 - rmse: 0.0123 - val_loss: 4.2904e-04 - val_rmse: 0.0207 - lr: 0.0010\n",
      "Epoch 211/5000\n",
      "5/5 [==============================] - 0s 12ms/step - loss: 1.6302e-04 - rmse: 0.0128 - val_loss: 4.6930e-04 - val_rmse: 0.0217 - lr: 0.0010\n",
      "Epoch 212/5000\n",
      "5/5 [==============================] - 0s 12ms/step - loss: 1.9748e-04 - rmse: 0.0141 - val_loss: 3.4434e-04 - val_rmse: 0.0186 - lr: 0.0010\n",
      "Epoch 213/5000\n",
      "5/5 [==============================] - 0s 12ms/step - loss: 1.6280e-04 - rmse: 0.0128 - val_loss: 2.9104e-04 - val_rmse: 0.0171 - lr: 0.0010\n",
      "Epoch 214/5000\n",
      "5/5 [==============================] - 0s 12ms/step - loss: 1.4365e-04 - rmse: 0.0120 - val_loss: 3.4828e-04 - val_rmse: 0.0187 - lr: 0.0010\n",
      "Epoch 215/5000\n",
      "5/5 [==============================] - 0s 12ms/step - loss: 1.6879e-04 - rmse: 0.0130 - val_loss: 4.8205e-04 - val_rmse: 0.0220 - lr: 0.0010\n",
      "Epoch 216/5000\n",
      "5/5 [==============================] - 0s 12ms/step - loss: 2.0435e-04 - rmse: 0.0143 - val_loss: 3.5979e-04 - val_rmse: 0.0190 - lr: 0.0010\n",
      "Epoch 217/5000\n",
      "5/5 [==============================] - 0s 12ms/step - loss: 3.0123e-04 - rmse: 0.0174 - val_loss: 5.0143e-04 - val_rmse: 0.0224 - lr: 0.0010\n",
      "Epoch 218/5000\n",
      "5/5 [==============================] - 0s 12ms/step - loss: 3.0362e-04 - rmse: 0.0174 - val_loss: 3.2091e-04 - val_rmse: 0.0179 - lr: 0.0010\n"
     ]
    },
    {
     "name": "stdout",
     "output_type": "stream",
     "text": [
      "Epoch 219/5000\n",
      "5/5 [==============================] - 0s 12ms/step - loss: 3.4507e-04 - rmse: 0.0186 - val_loss: 4.8689e-04 - val_rmse: 0.0221 - lr: 0.0010\n",
      "Epoch 220/5000\n",
      "5/5 [==============================] - 0s 12ms/step - loss: 2.5402e-04 - rmse: 0.0159 - val_loss: 4.7219e-04 - val_rmse: 0.0217 - lr: 0.0010\n",
      "Epoch 221/5000\n",
      "5/5 [==============================] - 0s 12ms/step - loss: 1.7577e-04 - rmse: 0.0133 - val_loss: 3.5847e-04 - val_rmse: 0.0189 - lr: 0.0010\n",
      "Epoch 222/5000\n",
      "5/5 [==============================] - 0s 12ms/step - loss: 1.9720e-04 - rmse: 0.0140 - val_loss: 4.3363e-04 - val_rmse: 0.0208 - lr: 0.0010\n",
      "Epoch 223/5000\n",
      "5/5 [==============================] - 0s 12ms/step - loss: 2.2282e-04 - rmse: 0.0149 - val_loss: 6.2195e-04 - val_rmse: 0.0249 - lr: 0.0010\n",
      "Epoch 224/5000\n",
      "5/5 [==============================] - 0s 12ms/step - loss: 3.5220e-04 - rmse: 0.0188 - val_loss: 4.4388e-04 - val_rmse: 0.0211 - lr: 0.0010\n",
      "Epoch 225/5000\n",
      "5/5 [==============================] - 0s 12ms/step - loss: 2.3596e-04 - rmse: 0.0154 - val_loss: 3.9928e-04 - val_rmse: 0.0200 - lr: 0.0010\n",
      "Epoch 226/5000\n",
      "5/5 [==============================] - 0s 13ms/step - loss: 2.2377e-04 - rmse: 0.0150 - val_loss: 4.8981e-04 - val_rmse: 0.0221 - lr: 0.0010\n",
      "Epoch 227/5000\n",
      "5/5 [==============================] - 0s 12ms/step - loss: 1.8787e-04 - rmse: 0.0137 - val_loss: 4.0698e-04 - val_rmse: 0.0202 - lr: 0.0010\n",
      "Epoch 228/5000\n",
      "5/5 [==============================] - 0s 12ms/step - loss: 2.0820e-04 - rmse: 0.0144 - val_loss: 5.9370e-04 - val_rmse: 0.0244 - lr: 0.0010\n",
      "Epoch 229/5000\n",
      "5/5 [==============================] - 0s 12ms/step - loss: 2.2879e-04 - rmse: 0.0151 - val_loss: 2.6344e-04 - val_rmse: 0.0162 - lr: 0.0010\n",
      "Epoch 230/5000\n",
      "5/5 [==============================] - 0s 12ms/step - loss: 2.9903e-04 - rmse: 0.0173 - val_loss: 7.1783e-04 - val_rmse: 0.0268 - lr: 0.0010\n",
      "Epoch 231/5000\n",
      "5/5 [==============================] - 0s 12ms/step - loss: 3.6492e-04 - rmse: 0.0191 - val_loss: 5.7006e-04 - val_rmse: 0.0239 - lr: 0.0010\n",
      "Epoch 232/5000\n",
      "5/5 [==============================] - 0s 12ms/step - loss: 4.1260e-04 - rmse: 0.0203 - val_loss: 5.1622e-04 - val_rmse: 0.0227 - lr: 0.0010\n",
      "Epoch 233/5000\n",
      "5/5 [==============================] - 0s 12ms/step - loss: 5.9480e-04 - rmse: 0.0244 - val_loss: 6.7842e-04 - val_rmse: 0.0260 - lr: 0.0010\n",
      "Epoch 234/5000\n",
      "5/5 [==============================] - 0s 12ms/step - loss: 3.6912e-04 - rmse: 0.0192 - val_loss: 7.3395e-04 - val_rmse: 0.0271 - lr: 0.0010\n",
      "Epoch 235/5000\n",
      "5/5 [==============================] - 0s 12ms/step - loss: 4.3767e-04 - rmse: 0.0209 - val_loss: 9.5568e-04 - val_rmse: 0.0309 - lr: 0.0010\n",
      "Epoch 236/5000\n",
      "5/5 [==============================] - 0s 12ms/step - loss: 4.3983e-04 - rmse: 0.0210 - val_loss: 0.0011 - val_rmse: 0.0339 - lr: 0.0010\n",
      "Epoch 237/5000\n",
      "5/5 [==============================] - 0s 13ms/step - loss: 5.7371e-04 - rmse: 0.0240 - val_loss: 8.9668e-04 - val_rmse: 0.0299 - lr: 0.0010\n",
      "Epoch 238/5000\n",
      "5/5 [==============================] - 0s 12ms/step - loss: 5.0813e-04 - rmse: 0.0225 - val_loss: 8.1637e-04 - val_rmse: 0.0286 - lr: 0.0010\n",
      "Epoch 239/5000\n",
      "5/5 [==============================] - 0s 12ms/step - loss: 4.4590e-04 - rmse: 0.0211 - val_loss: 7.5598e-04 - val_rmse: 0.0275 - lr: 0.0010\n",
      "Epoch 240/5000\n",
      "5/5 [==============================] - 0s 12ms/step - loss: 4.5973e-04 - rmse: 0.0214 - val_loss: 9.6208e-04 - val_rmse: 0.0310 - lr: 0.0010\n",
      "Epoch 241/5000\n",
      "5/5 [==============================] - 0s 12ms/step - loss: 4.9798e-04 - rmse: 0.0223 - val_loss: 7.5735e-04 - val_rmse: 0.0275 - lr: 0.0010\n",
      "Epoch 242/5000\n",
      "5/5 [==============================] - 0s 12ms/step - loss: 2.0314e-04 - rmse: 0.0143 - val_loss: 3.3777e-04 - val_rmse: 0.0184 - lr: 0.0010\n",
      "Epoch 243/5000\n",
      "5/5 [==============================] - 0s 13ms/step - loss: 2.2036e-04 - rmse: 0.0148 - val_loss: 2.3880e-04 - val_rmse: 0.0155 - lr: 0.0010\n",
      "Epoch 244/5000\n",
      "5/5 [==============================] - 0s 13ms/step - loss: 8.2044e-05 - rmse: 0.0091 - val_loss: 3.3067e-04 - val_rmse: 0.0182 - lr: 0.0010\n",
      "Epoch 245/5000\n",
      "5/5 [==============================] - 0s 12ms/step - loss: 1.6213e-04 - rmse: 0.0127 - val_loss: 3.4469e-04 - val_rmse: 0.0186 - lr: 0.0010\n",
      "Epoch 246/5000\n",
      "5/5 [==============================] - 0s 12ms/step - loss: 1.9782e-04 - rmse: 0.0141 - val_loss: 3.8188e-04 - val_rmse: 0.0195 - lr: 0.0010\n",
      "Epoch 247/5000\n",
      "5/5 [==============================] - 0s 13ms/step - loss: 1.5207e-04 - rmse: 0.0123 - val_loss: 5.5467e-04 - val_rmse: 0.0236 - lr: 0.0010\n",
      "Epoch 248/5000\n",
      "5/5 [==============================] - 0s 12ms/step - loss: 2.2036e-04 - rmse: 0.0148 - val_loss: 4.0190e-04 - val_rmse: 0.0200 - lr: 0.0010\n",
      "Epoch 249/5000\n",
      "5/5 [==============================] - 0s 12ms/step - loss: 1.7156e-04 - rmse: 0.0131 - val_loss: 3.4459e-04 - val_rmse: 0.0186 - lr: 0.0010\n",
      "Epoch 250/5000\n",
      "5/5 [==============================] - 0s 12ms/step - loss: 2.5200e-04 - rmse: 0.0159 - val_loss: 3.7176e-04 - val_rmse: 0.0193 - lr: 0.0010\n",
      "Epoch 251/5000\n",
      "5/5 [==============================] - 0s 13ms/step - loss: 1.4325e-04 - rmse: 0.0120 - val_loss: 4.8450e-04 - val_rmse: 0.0220 - lr: 0.0010\n",
      "Epoch 252/5000\n",
      "5/5 [==============================] - 0s 12ms/step - loss: 1.5862e-04 - rmse: 0.0126 - val_loss: 4.4340e-04 - val_rmse: 0.0211 - lr: 0.0010\n",
      "Epoch 253/5000\n",
      "5/5 [==============================] - 0s 13ms/step - loss: 1.0910e-04 - rmse: 0.0104 - val_loss: 2.6859e-04 - val_rmse: 0.0164 - lr: 0.0010\n",
      "Epoch 254/5000\n",
      "5/5 [==============================] - 0s 12ms/step - loss: 1.4650e-04 - rmse: 0.0121 - val_loss: 4.5640e-04 - val_rmse: 0.0214 - lr: 0.0010\n",
      "Epoch 255/5000\n",
      "5/5 [==============================] - 0s 12ms/step - loss: 1.7769e-04 - rmse: 0.0133 - val_loss: 3.8947e-04 - val_rmse: 0.0197 - lr: 0.0010\n",
      "Epoch 256/5000\n",
      "5/5 [==============================] - 0s 12ms/step - loss: 1.8770e-04 - rmse: 0.0137 - val_loss: 3.9931e-04 - val_rmse: 0.0200 - lr: 0.0010\n",
      "Epoch 257/5000\n",
      "5/5 [==============================] - 0s 12ms/step - loss: 1.2211e-04 - rmse: 0.0111 - val_loss: 2.5419e-04 - val_rmse: 0.0159 - lr: 0.0010\n",
      "Epoch 258/5000\n",
      "5/5 [==============================] - 0s 13ms/step - loss: 2.3850e-04 - rmse: 0.0154 - val_loss: 4.1788e-04 - val_rmse: 0.0204 - lr: 0.0010\n",
      "Epoch 259/5000\n",
      "5/5 [==============================] - 0s 12ms/step - loss: 2.4690e-04 - rmse: 0.0157 - val_loss: 5.3402e-04 - val_rmse: 0.0231 - lr: 0.0010\n",
      "Epoch 260/5000\n",
      "5/5 [==============================] - 0s 12ms/step - loss: 2.6860e-04 - rmse: 0.0164 - val_loss: 4.8631e-04 - val_rmse: 0.0221 - lr: 0.0010\n",
      "Epoch 261/5000\n",
      "5/5 [==============================] - 0s 12ms/step - loss: 1.8536e-04 - rmse: 0.0136 - val_loss: 2.8842e-04 - val_rmse: 0.0170 - lr: 0.0010\n",
      "Epoch 262/5000\n",
      "5/5 [==============================] - 0s 12ms/step - loss: 1.9855e-04 - rmse: 0.0141 - val_loss: 4.5139e-04 - val_rmse: 0.0212 - lr: 0.0010\n",
      "Epoch 263/5000\n",
      "5/5 [==============================] - 0s 13ms/step - loss: 2.8089e-04 - rmse: 0.0168 - val_loss: 4.1198e-04 - val_rmse: 0.0203 - lr: 0.0010\n",
      "Epoch 264/5000\n",
      "5/5 [==============================] - 0s 13ms/step - loss: 2.6329e-04 - rmse: 0.0162 - val_loss: 3.5598e-04 - val_rmse: 0.0189 - lr: 0.0010\n",
      "Epoch 265/5000\n",
      "5/5 [==============================] - 0s 12ms/step - loss: 2.0318e-04 - rmse: 0.0143 - val_loss: 3.0021e-04 - val_rmse: 0.0173 - lr: 0.0010\n",
      "Epoch 266/5000\n",
      "5/5 [==============================] - 0s 12ms/step - loss: 1.5954e-04 - rmse: 0.0126 - val_loss: 2.9353e-04 - val_rmse: 0.0171 - lr: 0.0010\n",
      "Epoch 267/5000\n",
      "5/5 [==============================] - 0s 12ms/step - loss: 2.2635e-04 - rmse: 0.0150 - val_loss: 3.0831e-04 - val_rmse: 0.0176 - lr: 0.0010\n",
      "Epoch 268/5000\n",
      "5/5 [==============================] - 0s 12ms/step - loss: 1.1443e-04 - rmse: 0.0107 - val_loss: 3.4791e-04 - val_rmse: 0.0187 - lr: 0.0010\n",
      "Epoch 269/5000\n",
      "5/5 [==============================] - 0s 13ms/step - loss: 1.7520e-04 - rmse: 0.0132 - val_loss: 2.8259e-04 - val_rmse: 0.0168 - lr: 0.0010\n",
      "Epoch 270/5000\n",
      "5/5 [==============================] - 0s 13ms/step - loss: 1.6421e-04 - rmse: 0.0128 - val_loss: 6.8133e-04 - val_rmse: 0.0261 - lr: 0.0010\n",
      "Epoch 271/5000\n"
     ]
    },
    {
     "name": "stdout",
     "output_type": "stream",
     "text": [
      "5/5 [==============================] - 0s 13ms/step - loss: 2.6309e-04 - rmse: 0.0162 - val_loss: 2.2198e-04 - val_rmse: 0.0149 - lr: 0.0010\n",
      "Epoch 272/5000\n",
      "5/5 [==============================] - 0s 13ms/step - loss: 1.8142e-04 - rmse: 0.0135 - val_loss: 3.2412e-04 - val_rmse: 0.0180 - lr: 0.0010\n",
      "Epoch 273/5000\n",
      "5/5 [==============================] - 0s 12ms/step - loss: 3.5884e-04 - rmse: 0.0189 - val_loss: 2.7982e-04 - val_rmse: 0.0167 - lr: 0.0010\n",
      "Epoch 274/5000\n",
      "5/5 [==============================] - 0s 13ms/step - loss: 3.6892e-04 - rmse: 0.0192 - val_loss: 5.0148e-04 - val_rmse: 0.0224 - lr: 0.0010\n",
      "Epoch 275/5000\n",
      "5/5 [==============================] - 0s 12ms/step - loss: 4.1334e-04 - rmse: 0.0203 - val_loss: 6.8294e-04 - val_rmse: 0.0261 - lr: 0.0010\n",
      "Epoch 276/5000\n",
      "5/5 [==============================] - 0s 12ms/step - loss: 4.1805e-04 - rmse: 0.0204 - val_loss: 4.4316e-04 - val_rmse: 0.0211 - lr: 0.0010\n",
      "Epoch 277/5000\n",
      "5/5 [==============================] - 0s 12ms/step - loss: 4.5525e-04 - rmse: 0.0213 - val_loss: 6.1583e-04 - val_rmse: 0.0248 - lr: 0.0010\n",
      "Epoch 278/5000\n",
      "5/5 [==============================] - 0s 12ms/step - loss: 7.0489e-04 - rmse: 0.0265 - val_loss: 0.0011 - val_rmse: 0.0328 - lr: 0.0010\n",
      "Epoch 279/5000\n",
      "5/5 [==============================] - 0s 12ms/step - loss: 5.6377e-04 - rmse: 0.0237 - val_loss: 7.4031e-04 - val_rmse: 0.0272 - lr: 0.0010\n",
      "Epoch 280/5000\n",
      "5/5 [==============================] - 0s 12ms/step - loss: 2.5923e-04 - rmse: 0.0161 - val_loss: 4.8692e-04 - val_rmse: 0.0221 - lr: 0.0010\n",
      "Epoch 281/5000\n",
      "5/5 [==============================] - 0s 12ms/step - loss: 0.0015 - rmse: 0.0390 - val_loss: 0.0040 - val_rmse: 0.0629 - lr: 0.0010\n",
      "Epoch 282/5000\n",
      "5/5 [==============================] - 0s 12ms/step - loss: 0.0028 - rmse: 0.0526 - val_loss: 0.0030 - val_rmse: 0.0548 - lr: 0.0010\n",
      "Epoch 283/5000\n",
      "5/5 [==============================] - 0s 12ms/step - loss: 0.0014 - rmse: 0.0377 - val_loss: 0.0018 - val_rmse: 0.0422 - lr: 0.0010\n",
      "Epoch 284/5000\n",
      "5/5 [==============================] - 0s 12ms/step - loss: 8.9369e-04 - rmse: 0.0299 - val_loss: 7.9394e-04 - val_rmse: 0.0282 - lr: 0.0010\n",
      "Epoch 285/5000\n",
      "5/5 [==============================] - 0s 11ms/step - loss: 0.0012 - rmse: 0.0353 - val_loss: 0.0012 - val_rmse: 0.0348 - lr: 0.0010\n",
      "Epoch 286/5000\n",
      "5/5 [==============================] - 0s 13ms/step - loss: 0.0015 - rmse: 0.0384 - val_loss: 0.0041 - val_rmse: 0.0638 - lr: 0.0010\n",
      "Epoch 287/5000\n",
      "5/5 [==============================] - 0s 12ms/step - loss: 0.0025 - rmse: 0.0497 - val_loss: 8.5967e-04 - val_rmse: 0.0293 - lr: 0.0010\n",
      "Epoch 288/5000\n",
      "5/5 [==============================] - 0s 12ms/step - loss: 0.0073 - rmse: 0.0854 - val_loss: 0.0076 - val_rmse: 0.0869 - lr: 0.0010\n",
      "Epoch 289/5000\n",
      "5/5 [==============================] - 0s 12ms/step - loss: 0.0059 - rmse: 0.0769 - val_loss: 0.0036 - val_rmse: 0.0601 - lr: 0.0010\n",
      "Epoch 290/5000\n",
      "5/5 [==============================] - 0s 12ms/step - loss: 0.0057 - rmse: 0.0754 - val_loss: 0.0017 - val_rmse: 0.0413 - lr: 0.0010\n",
      "Epoch 291/5000\n",
      "5/5 [==============================] - 0s 12ms/step - loss: 0.0027 - rmse: 0.0521 - val_loss: 0.0017 - val_rmse: 0.0409 - lr: 0.0010\n",
      "Epoch 292/5000\n",
      "5/5 [==============================] - 0s 12ms/step - loss: 0.0012 - rmse: 0.0341 - val_loss: 0.0036 - val_rmse: 0.0598 - lr: 0.0010\n",
      "Epoch 293/5000\n",
      "5/5 [==============================] - 0s 12ms/step - loss: 0.0019 - rmse: 0.0435 - val_loss: 0.0015 - val_rmse: 0.0381 - lr: 0.0010\n",
      "Epoch 294/5000\n",
      "5/5 [==============================] - 0s 12ms/step - loss: 0.0024 - rmse: 0.0485 - val_loss: 4.0207e-04 - val_rmse: 0.0201 - lr: 0.0010\n",
      "Epoch 295/5000\n",
      "5/5 [==============================] - 0s 12ms/step - loss: 0.0017 - rmse: 0.0417 - val_loss: 0.0047 - val_rmse: 0.0686 - lr: 0.0010\n",
      "Epoch 296/5000\n",
      "5/5 [==============================] - 0s 12ms/step - loss: 0.0026 - rmse: 0.0505 - val_loss: 6.4596e-04 - val_rmse: 0.0254 - lr: 0.0010\n",
      "Epoch 297/5000\n",
      "5/5 [==============================] - 0s 12ms/step - loss: 0.0018 - rmse: 0.0421 - val_loss: 6.0987e-04 - val_rmse: 0.0247 - lr: 0.0010\n",
      "Epoch 298/5000\n",
      "5/5 [==============================] - 0s 12ms/step - loss: 8.9919e-04 - rmse: 0.0300 - val_loss: 0.0020 - val_rmse: 0.0445 - lr: 0.0010\n",
      "Epoch 299/5000\n",
      "5/5 [==============================] - 0s 12ms/step - loss: 7.3378e-04 - rmse: 0.0271 - val_loss: 4.7825e-04 - val_rmse: 0.0219 - lr: 0.0010\n",
      "Epoch 300/5000\n",
      "5/5 [==============================] - 0s 13ms/step - loss: 6.0888e-04 - rmse: 0.0247 - val_loss: 0.0010 - val_rmse: 0.0317 - lr: 0.0010\n",
      "Epoch 301/5000\n",
      "5/5 [==============================] - 0s 12ms/step - loss: 6.4643e-04 - rmse: 0.0254 - val_loss: 6.3604e-04 - val_rmse: 0.0252 - lr: 0.0010\n",
      "Epoch 302/5000\n",
      "5/5 [==============================] - 0s 12ms/step - loss: 4.3145e-04 - rmse: 0.0208 - val_loss: 5.1213e-04 - val_rmse: 0.0226 - lr: 0.0010\n",
      "Epoch 303/5000\n",
      "5/5 [==============================] - 0s 12ms/step - loss: 2.9538e-04 - rmse: 0.0172 - val_loss: 3.3167e-04 - val_rmse: 0.0182 - lr: 0.0010\n",
      "Epoch 304/5000\n",
      "5/5 [==============================] - 0s 12ms/step - loss: 2.5601e-04 - rmse: 0.0160 - val_loss: 4.9871e-04 - val_rmse: 0.0223 - lr: 0.0010\n",
      "Epoch 305/5000\n",
      "5/5 [==============================] - 0s 12ms/step - loss: 2.1965e-04 - rmse: 0.0148 - val_loss: 3.6470e-04 - val_rmse: 0.0191 - lr: 0.0010\n",
      "Epoch 306/5000\n",
      "5/5 [==============================] - 0s 12ms/step - loss: 2.5018e-04 - rmse: 0.0158 - val_loss: 5.0282e-04 - val_rmse: 0.0224 - lr: 0.0010\n",
      "Epoch 307/5000\n",
      "5/5 [==============================] - 0s 12ms/step - loss: 2.7731e-04 - rmse: 0.0167 - val_loss: 8.8157e-04 - val_rmse: 0.0297 - lr: 0.0010\n",
      "Epoch 308/5000\n",
      "5/5 [==============================] - 0s 12ms/step - loss: 2.3993e-04 - rmse: 0.0155 - val_loss: 4.9908e-04 - val_rmse: 0.0223 - lr: 0.0010\n",
      "Epoch 309/5000\n",
      "5/5 [==============================] - 0s 12ms/step - loss: 3.9279e-04 - rmse: 0.0198 - val_loss: 6.9541e-04 - val_rmse: 0.0264 - lr: 0.0010\n",
      "Epoch 310/5000\n",
      "5/5 [==============================] - 0s 12ms/step - loss: 3.5953e-04 - rmse: 0.0190 - val_loss: 5.7320e-04 - val_rmse: 0.0239 - lr: 0.0010\n",
      "Epoch 311/5000\n",
      "5/5 [==============================] - 0s 13ms/step - loss: 2.9289e-04 - rmse: 0.0171 - val_loss: 3.0143e-04 - val_rmse: 0.0174 - lr: 0.0010\n",
      "Epoch 312/5000\n",
      "5/5 [==============================] - 0s 12ms/step - loss: 2.5476e-04 - rmse: 0.0160 - val_loss: 3.3204e-04 - val_rmse: 0.0182 - lr: 0.0010\n",
      "Epoch 313/5000\n",
      "5/5 [==============================] - 0s 12ms/step - loss: 1.8293e-04 - rmse: 0.0135 - val_loss: 4.8352e-04 - val_rmse: 0.0220 - lr: 0.0010\n",
      "Epoch 314/5000\n",
      "1/5 [=====>........................] - ETA: 0s - loss: 6.8755e-05 - rmse: 0.0083\n",
      "Epoch 314: ReduceLROnPlateau reducing learning rate to 0.0005000000237487257.\n",
      "5/5 [==============================] - 0s 13ms/step - loss: 1.5506e-04 - rmse: 0.0125 - val_loss: 4.4299e-04 - val_rmse: 0.0210 - lr: 0.0010\n",
      "Epoch 315/5000\n",
      "5/5 [==============================] - 0s 12ms/step - loss: 1.2201e-04 - rmse: 0.0110 - val_loss: 3.1203e-04 - val_rmse: 0.0177 - lr: 5.0000e-04\n",
      "Epoch 316/5000\n",
      "5/5 [==============================] - 0s 12ms/step - loss: 1.6786e-04 - rmse: 0.0130 - val_loss: 3.6767e-04 - val_rmse: 0.0192 - lr: 5.0000e-04\n",
      "Epoch 317/5000\n",
      "5/5 [==============================] - 0s 12ms/step - loss: 9.9011e-05 - rmse: 0.0100 - val_loss: 4.7448e-04 - val_rmse: 0.0218 - lr: 5.0000e-04\n",
      "Epoch 318/5000\n",
      "5/5 [==============================] - 0s 12ms/step - loss: 1.4605e-04 - rmse: 0.0121 - val_loss: 3.8126e-04 - val_rmse: 0.0195 - lr: 5.0000e-04\n",
      "Epoch 319/5000\n",
      "5/5 [==============================] - 0s 12ms/step - loss: 1.3564e-04 - rmse: 0.0116 - val_loss: 3.3282e-04 - val_rmse: 0.0182 - lr: 5.0000e-04\n",
      "Epoch 320/5000\n",
      "5/5 [==============================] - 0s 12ms/step - loss: 1.1099e-04 - rmse: 0.0105 - val_loss: 3.0361e-04 - val_rmse: 0.0174 - lr: 5.0000e-04\n",
      "Epoch 321/5000\n",
      "5/5 [==============================] - 0s 13ms/step - loss: 8.9472e-05 - rmse: 0.0095 - val_loss: 3.6241e-04 - val_rmse: 0.0190 - lr: 5.0000e-04\n",
      "Epoch 322/5000\n",
      "5/5 [==============================] - 0s 13ms/step - loss: 6.9276e-05 - rmse: 0.0083 - val_loss: 3.9021e-04 - val_rmse: 0.0198 - lr: 5.0000e-04\n",
      "Epoch 323/5000\n"
     ]
    },
    {
     "name": "stdout",
     "output_type": "stream",
     "text": [
      "5/5 [==============================] - 0s 12ms/step - loss: 1.2593e-04 - rmse: 0.0112 - val_loss: 3.8143e-04 - val_rmse: 0.0195 - lr: 5.0000e-04\n",
      "Epoch 324/5000\n",
      "5/5 [==============================] - 0s 12ms/step - loss: 8.6468e-05 - rmse: 0.0093 - val_loss: 3.6013e-04 - val_rmse: 0.0190 - lr: 5.0000e-04\n",
      "Epoch 325/5000\n",
      "5/5 [==============================] - 0s 12ms/step - loss: 9.4187e-05 - rmse: 0.0097 - val_loss: 3.7228e-04 - val_rmse: 0.0193 - lr: 5.0000e-04\n",
      "Epoch 326/5000\n",
      "5/5 [==============================] - 0s 12ms/step - loss: 1.1351e-04 - rmse: 0.0107 - val_loss: 4.5585e-04 - val_rmse: 0.0214 - lr: 5.0000e-04\n",
      "Epoch 327/5000\n",
      "5/5 [==============================] - 0s 12ms/step - loss: 8.2522e-05 - rmse: 0.0091 - val_loss: 2.9615e-04 - val_rmse: 0.0172 - lr: 5.0000e-04\n",
      "Epoch 328/5000\n",
      "5/5 [==============================] - 0s 11ms/step - loss: 1.1867e-04 - rmse: 0.0109 - val_loss: 3.0457e-04 - val_rmse: 0.0175 - lr: 5.0000e-04\n",
      "Epoch 329/5000\n",
      "5/5 [==============================] - 0s 12ms/step - loss: 1.0695e-04 - rmse: 0.0103 - val_loss: 3.2962e-04 - val_rmse: 0.0182 - lr: 5.0000e-04\n",
      "Epoch 330/5000\n",
      "5/5 [==============================] - 0s 12ms/step - loss: 9.4546e-05 - rmse: 0.0097 - val_loss: 3.6718e-04 - val_rmse: 0.0192 - lr: 5.0000e-04\n",
      "Epoch 331/5000\n",
      "5/5 [==============================] - 0s 12ms/step - loss: 7.0487e-05 - rmse: 0.0084 - val_loss: 3.3614e-04 - val_rmse: 0.0183 - lr: 5.0000e-04\n",
      "Epoch 332/5000\n",
      "5/5 [==============================] - 0s 12ms/step - loss: 1.1503e-04 - rmse: 0.0107 - val_loss: 3.4999e-04 - val_rmse: 0.0187 - lr: 5.0000e-04\n",
      "Epoch 333/5000\n",
      "5/5 [==============================] - 0s 12ms/step - loss: 9.0541e-05 - rmse: 0.0095 - val_loss: 3.6814e-04 - val_rmse: 0.0192 - lr: 5.0000e-04\n",
      "Epoch 334/5000\n",
      "5/5 [==============================] - 0s 12ms/step - loss: 6.6658e-05 - rmse: 0.0082 - val_loss: 3.1628e-04 - val_rmse: 0.0178 - lr: 5.0000e-04\n",
      "Epoch 335/5000\n",
      "5/5 [==============================] - 0s 12ms/step - loss: 7.6127e-05 - rmse: 0.0087 - val_loss: 3.8032e-04 - val_rmse: 0.0195 - lr: 5.0000e-04\n",
      "Epoch 336/5000\n",
      "5/5 [==============================] - 0s 12ms/step - loss: 8.5540e-05 - rmse: 0.0092 - val_loss: 3.5308e-04 - val_rmse: 0.0188 - lr: 5.0000e-04\n",
      "Epoch 337/5000\n",
      "5/5 [==============================] - 0s 12ms/step - loss: 1.1577e-04 - rmse: 0.0108 - val_loss: 3.6381e-04 - val_rmse: 0.0191 - lr: 5.0000e-04\n",
      "Epoch 338/5000\n",
      "5/5 [==============================] - 0s 13ms/step - loss: 6.2137e-05 - rmse: 0.0079 - val_loss: 3.3043e-04 - val_rmse: 0.0182 - lr: 5.0000e-04\n",
      "Epoch 339/5000\n",
      "5/5 [==============================] - 0s 12ms/step - loss: 1.5521e-04 - rmse: 0.0125 - val_loss: 3.2330e-04 - val_rmse: 0.0180 - lr: 5.0000e-04\n",
      "Epoch 340/5000\n",
      "5/5 [==============================] - 0s 12ms/step - loss: 1.0318e-04 - rmse: 0.0102 - val_loss: 4.0162e-04 - val_rmse: 0.0200 - lr: 5.0000e-04\n",
      "Epoch 341/5000\n",
      "5/5 [==============================] - 0s 12ms/step - loss: 6.7388e-05 - rmse: 0.0082 - val_loss: 3.6298e-04 - val_rmse: 0.0191 - lr: 5.0000e-04\n",
      "Epoch 342/5000\n",
      "5/5 [==============================] - 0s 12ms/step - loss: 1.1353e-04 - rmse: 0.0107 - val_loss: 2.9968e-04 - val_rmse: 0.0173 - lr: 5.0000e-04\n",
      "Epoch 343/5000\n",
      "5/5 [==============================] - 0s 13ms/step - loss: 1.1633e-04 - rmse: 0.0108 - val_loss: 3.8200e-04 - val_rmse: 0.0195 - lr: 5.0000e-04\n",
      "Epoch 344/5000\n",
      "5/5 [==============================] - 0s 12ms/step - loss: 1.1653e-04 - rmse: 0.0108 - val_loss: 4.2824e-04 - val_rmse: 0.0207 - lr: 5.0000e-04\n",
      "Epoch 345/5000\n",
      "5/5 [==============================] - 0s 12ms/step - loss: 7.8486e-05 - rmse: 0.0089 - val_loss: 3.6755e-04 - val_rmse: 0.0192 - lr: 5.0000e-04\n",
      "Epoch 346/5000\n",
      "5/5 [==============================] - 0s 12ms/step - loss: 7.9934e-05 - rmse: 0.0089 - val_loss: 2.8767e-04 - val_rmse: 0.0170 - lr: 5.0000e-04\n",
      "Epoch 347/5000\n",
      "5/5 [==============================] - 0s 12ms/step - loss: 8.6607e-05 - rmse: 0.0093 - val_loss: 3.9526e-04 - val_rmse: 0.0199 - lr: 5.0000e-04\n",
      "Epoch 348/5000\n",
      "5/5 [==============================] - 0s 12ms/step - loss: 1.1789e-04 - rmse: 0.0109 - val_loss: 4.3976e-04 - val_rmse: 0.0210 - lr: 5.0000e-04\n",
      "Epoch 349/5000\n",
      "5/5 [==============================] - 0s 12ms/step - loss: 1.1047e-04 - rmse: 0.0105 - val_loss: 3.2115e-04 - val_rmse: 0.0179 - lr: 5.0000e-04\n",
      "Epoch 350/5000\n",
      "5/5 [==============================] - 0s 12ms/step - loss: 8.8707e-05 - rmse: 0.0094 - val_loss: 3.2743e-04 - val_rmse: 0.0181 - lr: 5.0000e-04\n",
      "Epoch 351/5000\n",
      "5/5 [==============================] - 0s 12ms/step - loss: 9.3019e-05 - rmse: 0.0096 - val_loss: 3.5881e-04 - val_rmse: 0.0189 - lr: 5.0000e-04\n",
      "Epoch 352/5000\n",
      "5/5 [==============================] - 0s 12ms/step - loss: 8.0040e-05 - rmse: 0.0089 - val_loss: 3.5081e-04 - val_rmse: 0.0187 - lr: 5.0000e-04\n",
      "Epoch 353/5000\n",
      "5/5 [==============================] - 0s 12ms/step - loss: 1.0450e-04 - rmse: 0.0102 - val_loss: 3.4399e-04 - val_rmse: 0.0185 - lr: 5.0000e-04\n",
      "Epoch 354/5000\n",
      "5/5 [==============================] - 0s 12ms/step - loss: 9.5817e-05 - rmse: 0.0098 - val_loss: 3.2765e-04 - val_rmse: 0.0181 - lr: 5.0000e-04\n",
      "Epoch 355/5000\n",
      "5/5 [==============================] - 0s 12ms/step - loss: 7.3274e-05 - rmse: 0.0086 - val_loss: 2.7571e-04 - val_rmse: 0.0166 - lr: 5.0000e-04\n",
      "Epoch 356/5000\n",
      "5/5 [==============================] - 0s 13ms/step - loss: 5.8719e-05 - rmse: 0.0077 - val_loss: 3.3741e-04 - val_rmse: 0.0184 - lr: 5.0000e-04\n",
      "Epoch 357/5000\n",
      "5/5 [==============================] - 0s 12ms/step - loss: 9.1068e-05 - rmse: 0.0095 - val_loss: 3.8948e-04 - val_rmse: 0.0197 - lr: 5.0000e-04\n",
      "Epoch 358/5000\n",
      "5/5 [==============================] - 0s 13ms/step - loss: 8.2228e-05 - rmse: 0.0091 - val_loss: 2.8252e-04 - val_rmse: 0.0168 - lr: 5.0000e-04\n",
      "Epoch 359/5000\n",
      "5/5 [==============================] - 0s 12ms/step - loss: 9.0635e-05 - rmse: 0.0095 - val_loss: 2.9864e-04 - val_rmse: 0.0173 - lr: 5.0000e-04\n",
      "Epoch 360/5000\n",
      "5/5 [==============================] - 0s 13ms/step - loss: 5.6477e-05 - rmse: 0.0075 - val_loss: 3.8930e-04 - val_rmse: 0.0197 - lr: 5.0000e-04\n",
      "Epoch 361/5000\n",
      "5/5 [==============================] - 0s 12ms/step - loss: 7.4853e-05 - rmse: 0.0087 - val_loss: 2.6989e-04 - val_rmse: 0.0164 - lr: 5.0000e-04\n",
      "Epoch 362/5000\n",
      "5/5 [==============================] - 0s 12ms/step - loss: 8.7350e-05 - rmse: 0.0093 - val_loss: 3.0618e-04 - val_rmse: 0.0175 - lr: 5.0000e-04\n",
      "Epoch 363/5000\n",
      "5/5 [==============================] - 0s 12ms/step - loss: 8.1312e-05 - rmse: 0.0090 - val_loss: 3.8050e-04 - val_rmse: 0.0195 - lr: 5.0000e-04\n",
      "Epoch 364/5000\n",
      "5/5 [==============================] - 0s 12ms/step - loss: 6.0910e-05 - rmse: 0.0078 - val_loss: 2.8775e-04 - val_rmse: 0.0170 - lr: 5.0000e-04\n",
      "Epoch 365/5000\n",
      "5/5 [==============================] - 0s 12ms/step - loss: 6.8068e-05 - rmse: 0.0083 - val_loss: 2.9129e-04 - val_rmse: 0.0171 - lr: 5.0000e-04\n",
      "Epoch 366/5000\n",
      "5/5 [==============================] - 0s 12ms/step - loss: 6.4752e-05 - rmse: 0.0080 - val_loss: 3.2850e-04 - val_rmse: 0.0181 - lr: 5.0000e-04\n",
      "Epoch 367/5000\n",
      "5/5 [==============================] - 0s 12ms/step - loss: 6.4618e-05 - rmse: 0.0080 - val_loss: 3.2465e-04 - val_rmse: 0.0180 - lr: 5.0000e-04\n",
      "Epoch 368/5000\n",
      "5/5 [==============================] - 0s 12ms/step - loss: 6.9209e-05 - rmse: 0.0083 - val_loss: 3.2749e-04 - val_rmse: 0.0181 - lr: 5.0000e-04\n",
      "Epoch 369/5000\n",
      "5/5 [==============================] - 0s 12ms/step - loss: 7.4685e-05 - rmse: 0.0086 - val_loss: 3.1448e-04 - val_rmse: 0.0177 - lr: 5.0000e-04\n",
      "Epoch 370/5000\n",
      "5/5 [==============================] - 0s 12ms/step - loss: 4.7818e-05 - rmse: 0.0069 - val_loss: 3.6990e-04 - val_rmse: 0.0192 - lr: 5.0000e-04\n",
      "Epoch 371/5000\n",
      "5/5 [==============================] - 0s 12ms/step - loss: 6.5372e-05 - rmse: 0.0081 - val_loss: 2.8871e-04 - val_rmse: 0.0170 - lr: 5.0000e-04\n",
      "Epoch 372/5000\n",
      "5/5 [==============================] - 0s 12ms/step - loss: 7.7732e-05 - rmse: 0.0088 - val_loss: 2.7677e-04 - val_rmse: 0.0166 - lr: 5.0000e-04\n",
      "Epoch 373/5000\n",
      "5/5 [==============================] - 0s 12ms/step - loss: 6.8958e-05 - rmse: 0.0083 - val_loss: 3.6644e-04 - val_rmse: 0.0191 - lr: 5.0000e-04\n",
      "Epoch 374/5000\n"
     ]
    },
    {
     "name": "stdout",
     "output_type": "stream",
     "text": [
      "5/5 [==============================] - 0s 13ms/step - loss: 6.1420e-05 - rmse: 0.0078 - val_loss: 2.7949e-04 - val_rmse: 0.0167 - lr: 5.0000e-04\n",
      "Epoch 375/5000\n",
      "5/5 [==============================] - 0s 12ms/step - loss: 8.6460e-05 - rmse: 0.0093 - val_loss: 2.6955e-04 - val_rmse: 0.0164 - lr: 5.0000e-04\n",
      "Epoch 376/5000\n",
      "5/5 [==============================] - 0s 12ms/step - loss: 6.3663e-05 - rmse: 0.0080 - val_loss: 3.1949e-04 - val_rmse: 0.0179 - lr: 5.0000e-04\n",
      "Epoch 377/5000\n",
      "5/5 [==============================] - 0s 12ms/step - loss: 7.1561e-05 - rmse: 0.0085 - val_loss: 4.0820e-04 - val_rmse: 0.0202 - lr: 5.0000e-04\n",
      "Epoch 378/5000\n",
      "5/5 [==============================] - 0s 12ms/step - loss: 1.0849e-04 - rmse: 0.0104 - val_loss: 2.9359e-04 - val_rmse: 0.0171 - lr: 5.0000e-04\n",
      "Epoch 379/5000\n",
      "5/5 [==============================] - 0s 12ms/step - loss: 1.9654e-04 - rmse: 0.0140 - val_loss: 4.5851e-04 - val_rmse: 0.0214 - lr: 5.0000e-04\n",
      "Epoch 380/5000\n",
      "5/5 [==============================] - 0s 13ms/step - loss: 1.6149e-04 - rmse: 0.0127 - val_loss: 3.6634e-04 - val_rmse: 0.0191 - lr: 5.0000e-04\n",
      "Epoch 381/5000\n",
      "5/5 [==============================] - 0s 12ms/step - loss: 1.0947e-04 - rmse: 0.0105 - val_loss: 2.2124e-04 - val_rmse: 0.0149 - lr: 5.0000e-04\n",
      "Epoch 382/5000\n",
      "5/5 [==============================] - 0s 12ms/step - loss: 8.0395e-05 - rmse: 0.0090 - val_loss: 3.7557e-04 - val_rmse: 0.0194 - lr: 5.0000e-04\n",
      "Epoch 383/5000\n",
      "5/5 [==============================] - 0s 12ms/step - loss: 8.0512e-05 - rmse: 0.0090 - val_loss: 2.6312e-04 - val_rmse: 0.0162 - lr: 5.0000e-04\n",
      "Epoch 384/5000\n",
      "5/5 [==============================] - 0s 12ms/step - loss: 6.3457e-05 - rmse: 0.0080 - val_loss: 2.4994e-04 - val_rmse: 0.0158 - lr: 5.0000e-04\n",
      "Epoch 385/5000\n",
      "5/5 [==============================] - 0s 12ms/step - loss: 5.5769e-05 - rmse: 0.0075 - val_loss: 3.4272e-04 - val_rmse: 0.0185 - lr: 5.0000e-04\n",
      "Epoch 386/5000\n",
      "5/5 [==============================] - 0s 12ms/step - loss: 6.2082e-05 - rmse: 0.0079 - val_loss: 2.8220e-04 - val_rmse: 0.0168 - lr: 5.0000e-04\n",
      "Epoch 387/5000\n",
      "5/5 [==============================] - 0s 13ms/step - loss: 4.9646e-05 - rmse: 0.0070 - val_loss: 2.4611e-04 - val_rmse: 0.0157 - lr: 5.0000e-04\n",
      "Epoch 388/5000\n",
      "5/5 [==============================] - 0s 12ms/step - loss: 6.1601e-05 - rmse: 0.0078 - val_loss: 3.0319e-04 - val_rmse: 0.0174 - lr: 5.0000e-04\n",
      "Epoch 389/5000\n",
      "5/5 [==============================] - 0s 13ms/step - loss: 4.1096e-05 - rmse: 0.0064 - val_loss: 2.5909e-04 - val_rmse: 0.0161 - lr: 5.0000e-04\n",
      "Epoch 390/5000\n",
      "5/5 [==============================] - 0s 12ms/step - loss: 6.0640e-05 - rmse: 0.0078 - val_loss: 2.8309e-04 - val_rmse: 0.0168 - lr: 5.0000e-04\n",
      "Epoch 391/5000\n",
      "5/5 [==============================] - 0s 12ms/step - loss: 5.4170e-05 - rmse: 0.0074 - val_loss: 2.7341e-04 - val_rmse: 0.0165 - lr: 5.0000e-04\n",
      "Epoch 392/5000\n",
      "5/5 [==============================] - 0s 11ms/step - loss: 5.7167e-05 - rmse: 0.0076 - val_loss: 2.5322e-04 - val_rmse: 0.0159 - lr: 5.0000e-04\n",
      "Epoch 393/5000\n",
      "5/5 [==============================] - 0s 12ms/step - loss: 5.7232e-05 - rmse: 0.0076 - val_loss: 2.8378e-04 - val_rmse: 0.0168 - lr: 5.0000e-04\n",
      "Epoch 394/5000\n",
      "5/5 [==============================] - 0s 12ms/step - loss: 5.4291e-05 - rmse: 0.0074 - val_loss: 2.9544e-04 - val_rmse: 0.0172 - lr: 5.0000e-04\n",
      "Epoch 395/5000\n",
      "5/5 [==============================] - 0s 12ms/step - loss: 6.2808e-05 - rmse: 0.0079 - val_loss: 2.8607e-04 - val_rmse: 0.0169 - lr: 5.0000e-04\n",
      "Epoch 396/5000\n",
      "5/5 [==============================] - 0s 12ms/step - loss: 6.5941e-05 - rmse: 0.0081 - val_loss: 2.4988e-04 - val_rmse: 0.0158 - lr: 5.0000e-04\n",
      "Epoch 397/5000\n",
      "5/5 [==============================] - 0s 12ms/step - loss: 8.3768e-05 - rmse: 0.0092 - val_loss: 3.5356e-04 - val_rmse: 0.0188 - lr: 5.0000e-04\n",
      "Epoch 398/5000\n",
      "5/5 [==============================] - 0s 12ms/step - loss: 8.5276e-05 - rmse: 0.0092 - val_loss: 2.7960e-04 - val_rmse: 0.0167 - lr: 5.0000e-04\n",
      "Epoch 399/5000\n",
      "5/5 [==============================] - 0s 12ms/step - loss: 6.7274e-05 - rmse: 0.0082 - val_loss: 2.2383e-04 - val_rmse: 0.0150 - lr: 5.0000e-04\n",
      "Epoch 400/5000\n",
      "5/5 [==============================] - 0s 12ms/step - loss: 6.2617e-05 - rmse: 0.0079 - val_loss: 2.9778e-04 - val_rmse: 0.0173 - lr: 5.0000e-04\n",
      "Epoch 401/5000\n",
      "5/5 [==============================] - 0s 12ms/step - loss: 6.8031e-05 - rmse: 0.0082 - val_loss: 2.7095e-04 - val_rmse: 0.0165 - lr: 5.0000e-04\n",
      "Epoch 402/5000\n",
      "5/5 [==============================] - 0s 12ms/step - loss: 5.0326e-05 - rmse: 0.0071 - val_loss: 2.3925e-04 - val_rmse: 0.0155 - lr: 5.0000e-04\n",
      "Epoch 403/5000\n",
      "5/5 [==============================] - 0s 12ms/step - loss: 4.7317e-05 - rmse: 0.0069 - val_loss: 2.7678e-04 - val_rmse: 0.0166 - lr: 5.0000e-04\n",
      "Epoch 404/5000\n",
      "5/5 [==============================] - 0s 12ms/step - loss: 4.1524e-05 - rmse: 0.0064 - val_loss: 3.0130e-04 - val_rmse: 0.0174 - lr: 5.0000e-04\n",
      "Epoch 405/5000\n",
      "5/5 [==============================] - 0s 12ms/step - loss: 4.9768e-05 - rmse: 0.0071 - val_loss: 2.5026e-04 - val_rmse: 0.0158 - lr: 5.0000e-04\n",
      "Epoch 406/5000\n",
      "5/5 [==============================] - 0s 12ms/step - loss: 4.8881e-05 - rmse: 0.0070 - val_loss: 2.4323e-04 - val_rmse: 0.0156 - lr: 5.0000e-04\n",
      "Epoch 407/5000\n",
      "5/5 [==============================] - 0s 12ms/step - loss: 5.6590e-05 - rmse: 0.0075 - val_loss: 2.6162e-04 - val_rmse: 0.0162 - lr: 5.0000e-04\n",
      "Epoch 408/5000\n",
      "5/5 [==============================] - 0s 12ms/step - loss: 4.0967e-05 - rmse: 0.0064 - val_loss: 2.4689e-04 - val_rmse: 0.0157 - lr: 5.0000e-04\n",
      "Epoch 409/5000\n",
      "5/5 [==============================] - 0s 13ms/step - loss: 4.3613e-05 - rmse: 0.0066 - val_loss: 2.4378e-04 - val_rmse: 0.0156 - lr: 5.0000e-04\n",
      "Epoch 410/5000\n",
      "5/5 [==============================] - 0s 13ms/step - loss: 3.8375e-05 - rmse: 0.0062 - val_loss: 2.6781e-04 - val_rmse: 0.0164 - lr: 5.0000e-04\n",
      "Epoch 411/5000\n",
      "5/5 [==============================] - 0s 12ms/step - loss: 4.0538e-05 - rmse: 0.0064 - val_loss: 2.9064e-04 - val_rmse: 0.0170 - lr: 5.0000e-04\n",
      "Epoch 412/5000\n",
      "5/5 [==============================] - 0s 12ms/step - loss: 5.2686e-05 - rmse: 0.0073 - val_loss: 2.0002e-04 - val_rmse: 0.0141 - lr: 5.0000e-04\n",
      "Epoch 413/5000\n",
      "5/5 [==============================] - 0s 12ms/step - loss: 3.4762e-05 - rmse: 0.0059 - val_loss: 3.0275e-04 - val_rmse: 0.0174 - lr: 5.0000e-04\n",
      "Epoch 414/5000\n",
      "5/5 [==============================] - 0s 12ms/step - loss: 5.3298e-05 - rmse: 0.0073 - val_loss: 2.9314e-04 - val_rmse: 0.0171 - lr: 5.0000e-04\n",
      "Epoch 415/5000\n",
      "5/5 [==============================] - 0s 12ms/step - loss: 5.6207e-05 - rmse: 0.0075 - val_loss: 2.4002e-04 - val_rmse: 0.0155 - lr: 5.0000e-04\n",
      "Epoch 416/5000\n",
      "5/5 [==============================] - 0s 12ms/step - loss: 5.0621e-05 - rmse: 0.0071 - val_loss: 2.4900e-04 - val_rmse: 0.0158 - lr: 5.0000e-04\n",
      "Epoch 417/5000\n",
      "5/5 [==============================] - 0s 12ms/step - loss: 5.4316e-05 - rmse: 0.0074 - val_loss: 3.0193e-04 - val_rmse: 0.0174 - lr: 5.0000e-04\n",
      "Epoch 418/5000\n",
      "5/5 [==============================] - 0s 13ms/step - loss: 6.1424e-05 - rmse: 0.0078 - val_loss: 3.0191e-04 - val_rmse: 0.0174 - lr: 5.0000e-04\n",
      "Epoch 419/5000\n",
      "5/5 [==============================] - 0s 12ms/step - loss: 6.0237e-05 - rmse: 0.0078 - val_loss: 2.4926e-04 - val_rmse: 0.0158 - lr: 5.0000e-04\n",
      "Epoch 420/5000\n",
      "5/5 [==============================] - 0s 12ms/step - loss: 6.5077e-05 - rmse: 0.0081 - val_loss: 2.5040e-04 - val_rmse: 0.0158 - lr: 5.0000e-04\n",
      "Epoch 421/5000\n",
      "5/5 [==============================] - 0s 13ms/step - loss: 6.8428e-05 - rmse: 0.0083 - val_loss: 3.4448e-04 - val_rmse: 0.0186 - lr: 5.0000e-04\n",
      "Epoch 422/5000\n",
      "5/5 [==============================] - 0s 12ms/step - loss: 4.6086e-05 - rmse: 0.0068 - val_loss: 2.5043e-04 - val_rmse: 0.0158 - lr: 5.0000e-04\n",
      "Epoch 423/5000\n",
      "5/5 [==============================] - 0s 12ms/step - loss: 5.1060e-05 - rmse: 0.0071 - val_loss: 2.8006e-04 - val_rmse: 0.0167 - lr: 5.0000e-04\n",
      "Epoch 424/5000\n",
      "5/5 [==============================] - 0s 12ms/step - loss: 5.2767e-05 - rmse: 0.0073 - val_loss: 3.0385e-04 - val_rmse: 0.0174 - lr: 5.0000e-04\n",
      "Epoch 425/5000\n"
     ]
    },
    {
     "name": "stdout",
     "output_type": "stream",
     "text": [
      "5/5 [==============================] - 0s 13ms/step - loss: 5.0410e-05 - rmse: 0.0071 - val_loss: 1.8682e-04 - val_rmse: 0.0137 - lr: 5.0000e-04\n",
      "Epoch 426/5000\n",
      "5/5 [==============================] - 0s 12ms/step - loss: 6.5608e-05 - rmse: 0.0081 - val_loss: 2.7203e-04 - val_rmse: 0.0165 - lr: 5.0000e-04\n",
      "Epoch 427/5000\n",
      "5/5 [==============================] - 0s 12ms/step - loss: 8.8955e-05 - rmse: 0.0094 - val_loss: 2.3986e-04 - val_rmse: 0.0155 - lr: 5.0000e-04\n",
      "Epoch 428/5000\n",
      "5/5 [==============================] - 0s 12ms/step - loss: 8.9361e-05 - rmse: 0.0095 - val_loss: 3.5786e-04 - val_rmse: 0.0189 - lr: 5.0000e-04\n",
      "Epoch 429/5000\n",
      "5/5 [==============================] - 0s 12ms/step - loss: 7.4673e-05 - rmse: 0.0086 - val_loss: 2.7616e-04 - val_rmse: 0.0166 - lr: 5.0000e-04\n",
      "Epoch 430/5000\n",
      "5/5 [==============================] - 0s 12ms/step - loss: 5.3427e-05 - rmse: 0.0073 - val_loss: 2.3162e-04 - val_rmse: 0.0152 - lr: 5.0000e-04\n",
      "Epoch 431/5000\n",
      "5/5 [==============================] - 0s 12ms/step - loss: 4.3889e-05 - rmse: 0.0066 - val_loss: 2.2803e-04 - val_rmse: 0.0151 - lr: 5.0000e-04\n",
      "Epoch 432/5000\n",
      "5/5 [==============================] - 0s 13ms/step - loss: 4.1928e-05 - rmse: 0.0065 - val_loss: 2.6392e-04 - val_rmse: 0.0162 - lr: 5.0000e-04\n",
      "Epoch 433/5000\n",
      "5/5 [==============================] - 0s 12ms/step - loss: 4.4973e-05 - rmse: 0.0067 - val_loss: 2.6616e-04 - val_rmse: 0.0163 - lr: 5.0000e-04\n",
      "Epoch 434/5000\n",
      "5/5 [==============================] - 0s 12ms/step - loss: 4.0193e-05 - rmse: 0.0063 - val_loss: 2.3179e-04 - val_rmse: 0.0152 - lr: 5.0000e-04\n",
      "Epoch 435/5000\n",
      "5/5 [==============================] - 0s 12ms/step - loss: 4.5679e-05 - rmse: 0.0068 - val_loss: 2.7723e-04 - val_rmse: 0.0167 - lr: 5.0000e-04\n",
      "Epoch 436/5000\n",
      "5/5 [==============================] - 0s 13ms/step - loss: 5.0861e-05 - rmse: 0.0071 - val_loss: 2.1307e-04 - val_rmse: 0.0146 - lr: 5.0000e-04\n",
      "Epoch 437/5000\n",
      "5/5 [==============================] - 0s 13ms/step - loss: 3.1592e-05 - rmse: 0.0056 - val_loss: 2.7602e-04 - val_rmse: 0.0166 - lr: 5.0000e-04\n",
      "Epoch 438/5000\n",
      "5/5 [==============================] - 0s 12ms/step - loss: 4.4496e-05 - rmse: 0.0067 - val_loss: 2.7137e-04 - val_rmse: 0.0165 - lr: 5.0000e-04\n",
      "Epoch 439/5000\n",
      "5/5 [==============================] - 0s 13ms/step - loss: 3.5459e-05 - rmse: 0.0060 - val_loss: 2.4820e-04 - val_rmse: 0.0158 - lr: 5.0000e-04\n",
      "Epoch 440/5000\n",
      "5/5 [==============================] - 0s 12ms/step - loss: 3.0985e-05 - rmse: 0.0056 - val_loss: 2.6966e-04 - val_rmse: 0.0164 - lr: 5.0000e-04\n",
      "Epoch 441/5000\n",
      "5/5 [==============================] - 0s 12ms/step - loss: 3.3823e-05 - rmse: 0.0058 - val_loss: 2.3389e-04 - val_rmse: 0.0153 - lr: 5.0000e-04\n",
      "Epoch 442/5000\n",
      "5/5 [==============================] - 0s 12ms/step - loss: 3.9614e-05 - rmse: 0.0063 - val_loss: 2.6022e-04 - val_rmse: 0.0161 - lr: 5.0000e-04\n",
      "Epoch 443/5000\n",
      "5/5 [==============================] - 0s 13ms/step - loss: 3.1901e-05 - rmse: 0.0056 - val_loss: 2.3216e-04 - val_rmse: 0.0152 - lr: 5.0000e-04\n",
      "Epoch 444/5000\n",
      "5/5 [==============================] - 0s 12ms/step - loss: 3.4936e-05 - rmse: 0.0059 - val_loss: 2.3515e-04 - val_rmse: 0.0153 - lr: 5.0000e-04\n",
      "Epoch 445/5000\n",
      "5/5 [==============================] - 0s 13ms/step - loss: 2.9962e-05 - rmse: 0.0055 - val_loss: 2.3710e-04 - val_rmse: 0.0154 - lr: 5.0000e-04\n",
      "Epoch 446/5000\n",
      "5/5 [==============================] - 0s 13ms/step - loss: 3.5467e-05 - rmse: 0.0060 - val_loss: 2.1907e-04 - val_rmse: 0.0148 - lr: 5.0000e-04\n",
      "Epoch 447/5000\n",
      "5/5 [==============================] - 0s 13ms/step - loss: 2.3372e-05 - rmse: 0.0048 - val_loss: 2.4210e-04 - val_rmse: 0.0156 - lr: 5.0000e-04\n",
      "Epoch 448/5000\n",
      "5/5 [==============================] - 0s 12ms/step - loss: 3.3959e-05 - rmse: 0.0058 - val_loss: 2.4500e-04 - val_rmse: 0.0157 - lr: 5.0000e-04\n",
      "Epoch 449/5000\n",
      "5/5 [==============================] - 0s 13ms/step - loss: 3.2437e-05 - rmse: 0.0057 - val_loss: 3.0923e-04 - val_rmse: 0.0176 - lr: 5.0000e-04\n",
      "Epoch 450/5000\n",
      "5/5 [==============================] - 0s 12ms/step - loss: 4.4764e-05 - rmse: 0.0067 - val_loss: 2.0167e-04 - val_rmse: 0.0142 - lr: 5.0000e-04\n",
      "Epoch 451/5000\n",
      "5/5 [==============================] - 0s 12ms/step - loss: 5.0220e-05 - rmse: 0.0071 - val_loss: 2.3303e-04 - val_rmse: 0.0153 - lr: 5.0000e-04\n",
      "Epoch 452/5000\n",
      "5/5 [==============================] - 0s 12ms/step - loss: 4.7020e-05 - rmse: 0.0069 - val_loss: 2.4603e-04 - val_rmse: 0.0157 - lr: 5.0000e-04\n",
      "Epoch 453/5000\n",
      "5/5 [==============================] - 0s 12ms/step - loss: 5.2031e-05 - rmse: 0.0072 - val_loss: 2.8323e-04 - val_rmse: 0.0168 - lr: 5.0000e-04\n",
      "Epoch 454/5000\n",
      "5/5 [==============================] - 0s 12ms/step - loss: 5.4634e-05 - rmse: 0.0074 - val_loss: 3.0053e-04 - val_rmse: 0.0173 - lr: 5.0000e-04\n",
      "Epoch 455/5000\n",
      "5/5 [==============================] - 0s 13ms/step - loss: 5.6565e-05 - rmse: 0.0075 - val_loss: 1.9515e-04 - val_rmse: 0.0140 - lr: 5.0000e-04\n",
      "Epoch 456/5000\n",
      "5/5 [==============================] - 0s 12ms/step - loss: 3.8777e-05 - rmse: 0.0062 - val_loss: 2.2203e-04 - val_rmse: 0.0149 - lr: 5.0000e-04\n",
      "Epoch 457/5000\n",
      "5/5 [==============================] - 0s 13ms/step - loss: 4.0297e-05 - rmse: 0.0063 - val_loss: 2.3378e-04 - val_rmse: 0.0153 - lr: 5.0000e-04\n",
      "Epoch 458/5000\n",
      "5/5 [==============================] - 0s 12ms/step - loss: 3.7370e-05 - rmse: 0.0061 - val_loss: 2.5466e-04 - val_rmse: 0.0160 - lr: 5.0000e-04\n",
      "Epoch 459/5000\n",
      "5/5 [==============================] - 0s 13ms/step - loss: 2.3973e-05 - rmse: 0.0049 - val_loss: 2.3183e-04 - val_rmse: 0.0152 - lr: 5.0000e-04\n",
      "Epoch 460/5000\n",
      "5/5 [==============================] - 0s 13ms/step - loss: 3.5912e-05 - rmse: 0.0060 - val_loss: 2.2741e-04 - val_rmse: 0.0151 - lr: 5.0000e-04\n",
      "Epoch 461/5000\n",
      "5/5 [==============================] - 0s 13ms/step - loss: 3.8272e-05 - rmse: 0.0062 - val_loss: 2.9918e-04 - val_rmse: 0.0173 - lr: 5.0000e-04\n",
      "Epoch 462/5000\n",
      "5/5 [==============================] - 0s 12ms/step - loss: 3.9964e-05 - rmse: 0.0063 - val_loss: 2.2777e-04 - val_rmse: 0.0151 - lr: 5.0000e-04\n",
      "Epoch 463/5000\n",
      "5/5 [==============================] - 0s 13ms/step - loss: 2.7630e-05 - rmse: 0.0053 - val_loss: 1.9770e-04 - val_rmse: 0.0141 - lr: 5.0000e-04\n",
      "Epoch 464/5000\n",
      "5/5 [==============================] - 0s 13ms/step - loss: 3.4502e-05 - rmse: 0.0059 - val_loss: 2.4831e-04 - val_rmse: 0.0158 - lr: 5.0000e-04\n",
      "Epoch 465/5000\n",
      "5/5 [==============================] - 0s 13ms/step - loss: 3.1030e-05 - rmse: 0.0056 - val_loss: 2.2166e-04 - val_rmse: 0.0149 - lr: 5.0000e-04\n",
      "Epoch 466/5000\n",
      "5/5 [==============================] - 0s 12ms/step - loss: 3.0323e-05 - rmse: 0.0055 - val_loss: 2.3819e-04 - val_rmse: 0.0154 - lr: 5.0000e-04\n",
      "Epoch 467/5000\n",
      "5/5 [==============================] - 0s 12ms/step - loss: 3.4432e-05 - rmse: 0.0059 - val_loss: 2.3190e-04 - val_rmse: 0.0152 - lr: 5.0000e-04\n",
      "Epoch 468/5000\n",
      "5/5 [==============================] - 0s 12ms/step - loss: 2.7823e-05 - rmse: 0.0053 - val_loss: 2.8342e-04 - val_rmse: 0.0168 - lr: 5.0000e-04\n",
      "Epoch 469/5000\n",
      "5/5 [==============================] - 0s 12ms/step - loss: 3.1685e-05 - rmse: 0.0056 - val_loss: 2.4712e-04 - val_rmse: 0.0157 - lr: 5.0000e-04\n",
      "Epoch 470/5000\n",
      "5/5 [==============================] - 0s 12ms/step - loss: 2.7281e-05 - rmse: 0.0052 - val_loss: 2.1519e-04 - val_rmse: 0.0147 - lr: 5.0000e-04\n",
      "Epoch 471/5000\n",
      "5/5 [==============================] - 0s 12ms/step - loss: 2.3156e-05 - rmse: 0.0048 - val_loss: 1.9634e-04 - val_rmse: 0.0140 - lr: 5.0000e-04\n",
      "Epoch 472/5000\n",
      "5/5 [==============================] - 0s 13ms/step - loss: 3.8372e-05 - rmse: 0.0062 - val_loss: 2.4747e-04 - val_rmse: 0.0157 - lr: 5.0000e-04\n",
      "Epoch 473/5000\n",
      "5/5 [==============================] - 0s 13ms/step - loss: 3.6423e-05 - rmse: 0.0060 - val_loss: 2.5218e-04 - val_rmse: 0.0159 - lr: 5.0000e-04\n",
      "Epoch 474/5000\n",
      "5/5 [==============================] - 0s 12ms/step - loss: 2.5306e-05 - rmse: 0.0050 - val_loss: 2.3709e-04 - val_rmse: 0.0154 - lr: 5.0000e-04\n",
      "Epoch 475/5000\n",
      "5/5 [==============================] - 0s 12ms/step - loss: 3.1064e-05 - rmse: 0.0056 - val_loss: 2.5043e-04 - val_rmse: 0.0158 - lr: 5.0000e-04\n",
      "Epoch 476/5000\n"
     ]
    },
    {
     "name": "stdout",
     "output_type": "stream",
     "text": [
      "5/5 [==============================] - 0s 12ms/step - loss: 3.3375e-05 - rmse: 0.0058 - val_loss: 2.1030e-04 - val_rmse: 0.0145 - lr: 5.0000e-04\n",
      "Epoch 477/5000\n",
      "5/5 [==============================] - 0s 13ms/step - loss: 2.0791e-05 - rmse: 0.0046 - val_loss: 2.2384e-04 - val_rmse: 0.0150 - lr: 5.0000e-04\n",
      "Epoch 478/5000\n",
      "5/5 [==============================] - 0s 12ms/step - loss: 3.2058e-05 - rmse: 0.0057 - val_loss: 2.3508e-04 - val_rmse: 0.0153 - lr: 5.0000e-04\n",
      "Epoch 479/5000\n",
      "5/5 [==============================] - 0s 13ms/step - loss: 1.5984e-05 - rmse: 0.0040 - val_loss: 2.1556e-04 - val_rmse: 0.0147 - lr: 5.0000e-04\n",
      "Epoch 480/5000\n",
      "5/5 [==============================] - 0s 13ms/step - loss: 2.8805e-05 - rmse: 0.0054 - val_loss: 2.4414e-04 - val_rmse: 0.0156 - lr: 5.0000e-04\n",
      "Epoch 481/5000\n",
      "5/5 [==============================] - 0s 12ms/step - loss: 2.3782e-05 - rmse: 0.0049 - val_loss: 2.3912e-04 - val_rmse: 0.0155 - lr: 5.0000e-04\n",
      "Epoch 482/5000\n",
      "5/5 [==============================] - 0s 13ms/step - loss: 2.9848e-05 - rmse: 0.0055 - val_loss: 2.3569e-04 - val_rmse: 0.0154 - lr: 5.0000e-04\n",
      "Epoch 483/5000\n",
      "5/5 [==============================] - 0s 12ms/step - loss: 3.1991e-05 - rmse: 0.0057 - val_loss: 2.6401e-04 - val_rmse: 0.0162 - lr: 5.0000e-04\n",
      "Epoch 484/5000\n",
      "5/5 [==============================] - 0s 13ms/step - loss: 4.0503e-05 - rmse: 0.0064 - val_loss: 2.2394e-04 - val_rmse: 0.0150 - lr: 5.0000e-04\n",
      "Epoch 485/5000\n",
      "5/5 [==============================] - 0s 12ms/step - loss: 2.9102e-05 - rmse: 0.0054 - val_loss: 2.8766e-04 - val_rmse: 0.0170 - lr: 5.0000e-04\n",
      "Epoch 486/5000\n",
      "5/5 [==============================] - 0s 12ms/step - loss: 3.7812e-05 - rmse: 0.0061 - val_loss: 2.2079e-04 - val_rmse: 0.0149 - lr: 5.0000e-04\n",
      "Epoch 487/5000\n",
      "5/5 [==============================] - 0s 12ms/step - loss: 2.9839e-05 - rmse: 0.0055 - val_loss: 2.0888e-04 - val_rmse: 0.0145 - lr: 5.0000e-04\n",
      "Epoch 488/5000\n",
      "5/5 [==============================] - 0s 12ms/step - loss: 2.6636e-05 - rmse: 0.0052 - val_loss: 2.0944e-04 - val_rmse: 0.0145 - lr: 5.0000e-04\n",
      "Epoch 489/5000\n",
      "5/5 [==============================] - 0s 12ms/step - loss: 1.9614e-05 - rmse: 0.0044 - val_loss: 2.2275e-04 - val_rmse: 0.0149 - lr: 5.0000e-04\n",
      "Epoch 490/5000\n",
      "5/5 [==============================] - 0s 12ms/step - loss: 2.0086e-05 - rmse: 0.0045 - val_loss: 2.3582e-04 - val_rmse: 0.0154 - lr: 5.0000e-04\n",
      "Epoch 491/5000\n",
      "5/5 [==============================] - 0s 12ms/step - loss: 2.8408e-05 - rmse: 0.0053 - val_loss: 2.0763e-04 - val_rmse: 0.0144 - lr: 5.0000e-04\n",
      "Epoch 492/5000\n",
      "5/5 [==============================] - 0s 12ms/step - loss: 3.3222e-05 - rmse: 0.0058 - val_loss: 1.7766e-04 - val_rmse: 0.0133 - lr: 5.0000e-04\n",
      "Epoch 493/5000\n",
      "5/5 [==============================] - 0s 12ms/step - loss: 2.8191e-05 - rmse: 0.0053 - val_loss: 2.6319e-04 - val_rmse: 0.0162 - lr: 5.0000e-04\n",
      "Epoch 494/5000\n",
      "5/5 [==============================] - 0s 13ms/step - loss: 3.5203e-05 - rmse: 0.0059 - val_loss: 2.1798e-04 - val_rmse: 0.0148 - lr: 5.0000e-04\n",
      "Epoch 495/5000\n",
      "5/5 [==============================] - 0s 12ms/step - loss: 2.5808e-05 - rmse: 0.0051 - val_loss: 2.7540e-04 - val_rmse: 0.0166 - lr: 5.0000e-04\n",
      "Epoch 496/5000\n",
      "5/5 [==============================] - 0s 12ms/step - loss: 2.2040e-05 - rmse: 0.0047 - val_loss: 2.1623e-04 - val_rmse: 0.0147 - lr: 5.0000e-04\n",
      "Epoch 497/5000\n",
      "5/5 [==============================] - 0s 13ms/step - loss: 2.7873e-05 - rmse: 0.0053 - val_loss: 2.2191e-04 - val_rmse: 0.0149 - lr: 5.0000e-04\n",
      "Epoch 498/5000\n",
      "5/5 [==============================] - 0s 12ms/step - loss: 3.3398e-05 - rmse: 0.0058 - val_loss: 2.1633e-04 - val_rmse: 0.0147 - lr: 5.0000e-04\n",
      "Epoch 499/5000\n",
      "5/5 [==============================] - 0s 12ms/step - loss: 2.2801e-05 - rmse: 0.0048 - val_loss: 2.5279e-04 - val_rmse: 0.0159 - lr: 5.0000e-04\n",
      "Epoch 500/5000\n",
      "5/5 [==============================] - 0s 12ms/step - loss: 1.9459e-05 - rmse: 0.0044 - val_loss: 2.5331e-04 - val_rmse: 0.0159 - lr: 5.0000e-04\n",
      "Epoch 501/5000\n",
      "5/5 [==============================] - 0s 12ms/step - loss: 2.7377e-05 - rmse: 0.0052 - val_loss: 2.0655e-04 - val_rmse: 0.0144 - lr: 5.0000e-04\n",
      "Epoch 502/5000\n",
      "5/5 [==============================] - 0s 12ms/step - loss: 4.3175e-05 - rmse: 0.0066 - val_loss: 2.2616e-04 - val_rmse: 0.0150 - lr: 5.0000e-04\n",
      "Epoch 503/5000\n",
      "5/5 [==============================] - 0s 12ms/step - loss: 3.3761e-05 - rmse: 0.0058 - val_loss: 2.1539e-04 - val_rmse: 0.0147 - lr: 5.0000e-04\n",
      "Epoch 504/5000\n",
      "5/5 [==============================] - 0s 12ms/step - loss: 3.4471e-05 - rmse: 0.0059 - val_loss: 2.1749e-04 - val_rmse: 0.0147 - lr: 5.0000e-04\n",
      "Epoch 505/5000\n",
      "5/5 [==============================] - 0s 12ms/step - loss: 2.5948e-05 - rmse: 0.0051 - val_loss: 2.6031e-04 - val_rmse: 0.0161 - lr: 5.0000e-04\n",
      "Epoch 506/5000\n",
      "5/5 [==============================] - 0s 12ms/step - loss: 2.4577e-05 - rmse: 0.0050 - val_loss: 2.7354e-04 - val_rmse: 0.0165 - lr: 5.0000e-04\n",
      "Epoch 507/5000\n",
      "5/5 [==============================] - 0s 12ms/step - loss: 2.8954e-05 - rmse: 0.0054 - val_loss: 2.5612e-04 - val_rmse: 0.0160 - lr: 5.0000e-04\n",
      "Epoch 508/5000\n",
      "5/5 [==============================] - 0s 13ms/step - loss: 1.6931e-05 - rmse: 0.0041 - val_loss: 2.1250e-04 - val_rmse: 0.0146 - lr: 5.0000e-04\n",
      "Epoch 509/5000\n",
      "5/5 [==============================] - 0s 13ms/step - loss: 2.4730e-05 - rmse: 0.0050 - val_loss: 2.5556e-04 - val_rmse: 0.0160 - lr: 5.0000e-04\n",
      "Epoch 510/5000\n",
      "5/5 [==============================] - 0s 12ms/step - loss: 2.1476e-05 - rmse: 0.0046 - val_loss: 2.2749e-04 - val_rmse: 0.0151 - lr: 5.0000e-04\n",
      "Epoch 511/5000\n",
      "5/5 [==============================] - 0s 12ms/step - loss: 2.5797e-05 - rmse: 0.0051 - val_loss: 2.2337e-04 - val_rmse: 0.0149 - lr: 5.0000e-04\n",
      "Epoch 512/5000\n",
      "5/5 [==============================] - 0s 12ms/step - loss: 2.5946e-05 - rmse: 0.0051 - val_loss: 2.2722e-04 - val_rmse: 0.0151 - lr: 5.0000e-04\n",
      "Epoch 513/5000\n",
      "5/5 [==============================] - 0s 13ms/step - loss: 2.8656e-05 - rmse: 0.0054 - val_loss: 2.0198e-04 - val_rmse: 0.0142 - lr: 5.0000e-04\n",
      "Epoch 514/5000\n",
      "5/5 [==============================] - 0s 12ms/step - loss: 1.8795e-05 - rmse: 0.0043 - val_loss: 2.7804e-04 - val_rmse: 0.0167 - lr: 5.0000e-04\n",
      "Epoch 515/5000\n",
      "5/5 [==============================] - 0s 13ms/step - loss: 3.3622e-05 - rmse: 0.0058 - val_loss: 2.4525e-04 - val_rmse: 0.0157 - lr: 5.0000e-04\n",
      "Epoch 516/5000\n",
      "5/5 [==============================] - 0s 12ms/step - loss: 4.0146e-05 - rmse: 0.0063 - val_loss: 2.9579e-04 - val_rmse: 0.0172 - lr: 5.0000e-04\n",
      "Epoch 517/5000\n",
      "5/5 [==============================] - 0s 12ms/step - loss: 3.7071e-05 - rmse: 0.0061 - val_loss: 1.7664e-04 - val_rmse: 0.0133 - lr: 5.0000e-04\n",
      "Epoch 518/5000\n",
      "5/5 [==============================] - 0s 12ms/step - loss: 1.6814e-05 - rmse: 0.0041 - val_loss: 2.0517e-04 - val_rmse: 0.0143 - lr: 5.0000e-04\n",
      "Epoch 519/5000\n",
      "5/5 [==============================] - 0s 12ms/step - loss: 3.0058e-05 - rmse: 0.0055 - val_loss: 2.8664e-04 - val_rmse: 0.0169 - lr: 5.0000e-04\n",
      "Epoch 520/5000\n",
      "5/5 [==============================] - 0s 12ms/step - loss: 5.3399e-05 - rmse: 0.0073 - val_loss: 2.8494e-04 - val_rmse: 0.0169 - lr: 5.0000e-04\n",
      "Epoch 521/5000\n",
      "5/5 [==============================] - 0s 13ms/step - loss: 7.5503e-05 - rmse: 0.0087 - val_loss: 3.4802e-04 - val_rmse: 0.0187 - lr: 5.0000e-04\n",
      "Epoch 522/5000\n",
      "5/5 [==============================] - 0s 12ms/step - loss: 6.8303e-05 - rmse: 0.0083 - val_loss: 3.3728e-04 - val_rmse: 0.0184 - lr: 5.0000e-04\n",
      "Epoch 523/5000\n",
      "5/5 [==============================] - 0s 13ms/step - loss: 5.2777e-05 - rmse: 0.0073 - val_loss: 2.2394e-04 - val_rmse: 0.0150 - lr: 5.0000e-04\n",
      "Epoch 524/5000\n",
      "5/5 [==============================] - 0s 12ms/step - loss: 4.2139e-05 - rmse: 0.0065 - val_loss: 1.6085e-04 - val_rmse: 0.0127 - lr: 5.0000e-04\n",
      "Epoch 525/5000\n",
      "5/5 [==============================] - 0s 12ms/step - loss: 8.6171e-05 - rmse: 0.0093 - val_loss: 2.3082e-04 - val_rmse: 0.0152 - lr: 5.0000e-04\n",
      "Epoch 526/5000\n",
      "5/5 [==============================] - 0s 12ms/step - loss: 5.7335e-05 - rmse: 0.0076 - val_loss: 2.1903e-04 - val_rmse: 0.0148 - lr: 5.0000e-04\n",
      "Epoch 527/5000\n"
     ]
    },
    {
     "name": "stdout",
     "output_type": "stream",
     "text": [
      "5/5 [==============================] - 0s 13ms/step - loss: 8.8647e-05 - rmse: 0.0094 - val_loss: 2.9756e-04 - val_rmse: 0.0173 - lr: 5.0000e-04\n",
      "Epoch 528/5000\n",
      "5/5 [==============================] - 0s 12ms/step - loss: 5.7816e-05 - rmse: 0.0076 - val_loss: 2.5893e-04 - val_rmse: 0.0161 - lr: 5.0000e-04\n",
      "Epoch 529/5000\n",
      "5/5 [==============================] - 0s 12ms/step - loss: 5.1719e-05 - rmse: 0.0072 - val_loss: 2.7150e-04 - val_rmse: 0.0165 - lr: 5.0000e-04\n",
      "Epoch 530/5000\n",
      "5/5 [==============================] - 0s 12ms/step - loss: 3.8815e-05 - rmse: 0.0062 - val_loss: 3.2552e-04 - val_rmse: 0.0180 - lr: 5.0000e-04\n",
      "Epoch 531/5000\n",
      "5/5 [==============================] - 0s 12ms/step - loss: 3.8499e-05 - rmse: 0.0062 - val_loss: 2.0099e-04 - val_rmse: 0.0142 - lr: 5.0000e-04\n",
      "Epoch 532/5000\n",
      "5/5 [==============================] - 0s 13ms/step - loss: 3.6941e-05 - rmse: 0.0061 - val_loss: 2.3536e-04 - val_rmse: 0.0153 - lr: 5.0000e-04\n",
      "Epoch 533/5000\n",
      "5/5 [==============================] - 0s 13ms/step - loss: 2.5598e-05 - rmse: 0.0051 - val_loss: 2.5254e-04 - val_rmse: 0.0159 - lr: 5.0000e-04\n",
      "Epoch 534/5000\n",
      "5/5 [==============================] - 0s 12ms/step - loss: 3.7677e-05 - rmse: 0.0061 - val_loss: 2.7533e-04 - val_rmse: 0.0166 - lr: 5.0000e-04\n",
      "Epoch 535/5000\n",
      "5/5 [==============================] - 0s 12ms/step - loss: 3.4601e-05 - rmse: 0.0059 - val_loss: 2.6345e-04 - val_rmse: 0.0162 - lr: 5.0000e-04\n",
      "Epoch 536/5000\n",
      "5/5 [==============================] - 0s 12ms/step - loss: 2.0109e-05 - rmse: 0.0045 - val_loss: 2.3079e-04 - val_rmse: 0.0152 - lr: 5.0000e-04\n",
      "Epoch 537/5000\n",
      "5/5 [==============================] - 0s 12ms/step - loss: 4.0806e-05 - rmse: 0.0064 - val_loss: 2.3329e-04 - val_rmse: 0.0153 - lr: 5.0000e-04\n",
      "Epoch 538/5000\n",
      "5/5 [==============================] - 0s 12ms/step - loss: 4.0203e-05 - rmse: 0.0063 - val_loss: 2.0680e-04 - val_rmse: 0.0144 - lr: 5.0000e-04\n",
      "Epoch 539/5000\n",
      "5/5 [==============================] - 0s 12ms/step - loss: 5.9849e-05 - rmse: 0.0077 - val_loss: 2.6805e-04 - val_rmse: 0.0164 - lr: 5.0000e-04\n",
      "Epoch 540/5000\n",
      "5/5 [==============================] - 0s 12ms/step - loss: 1.0606e-04 - rmse: 0.0103 - val_loss: 3.1664e-04 - val_rmse: 0.0178 - lr: 5.0000e-04\n",
      "Epoch 541/5000\n",
      "5/5 [==============================] - 0s 12ms/step - loss: 8.7088e-05 - rmse: 0.0093 - val_loss: 2.3768e-04 - val_rmse: 0.0154 - lr: 5.0000e-04\n",
      "Epoch 542/5000\n",
      "5/5 [==============================] - 0s 12ms/step - loss: 7.4914e-05 - rmse: 0.0087 - val_loss: 2.5465e-04 - val_rmse: 0.0160 - lr: 5.0000e-04\n",
      "Epoch 543/5000\n",
      "5/5 [==============================] - 0s 13ms/step - loss: 6.1157e-05 - rmse: 0.0078 - val_loss: 3.4183e-04 - val_rmse: 0.0185 - lr: 5.0000e-04\n",
      "Epoch 544/5000\n",
      "5/5 [==============================] - 0s 12ms/step - loss: 5.9029e-05 - rmse: 0.0077 - val_loss: 2.1397e-04 - val_rmse: 0.0146 - lr: 5.0000e-04\n",
      "Epoch 545/5000\n",
      "5/5 [==============================] - 0s 12ms/step - loss: 3.5893e-05 - rmse: 0.0060 - val_loss: 2.2636e-04 - val_rmse: 0.0150 - lr: 5.0000e-04\n",
      "Epoch 546/5000\n",
      "5/5 [==============================] - 0s 12ms/step - loss: 2.9962e-05 - rmse: 0.0055 - val_loss: 1.6669e-04 - val_rmse: 0.0129 - lr: 5.0000e-04\n",
      "Epoch 547/5000\n",
      "5/5 [==============================] - 0s 13ms/step - loss: 2.5079e-05 - rmse: 0.0050 - val_loss: 2.6581e-04 - val_rmse: 0.0163 - lr: 5.0000e-04\n",
      "Epoch 548/5000\n",
      "5/5 [==============================] - 0s 13ms/step - loss: 2.1816e-05 - rmse: 0.0047 - val_loss: 1.8448e-04 - val_rmse: 0.0136 - lr: 5.0000e-04\n",
      "Epoch 549/5000\n",
      "1/5 [=====>........................] - ETA: 0s - loss: 3.4196e-05 - rmse: 0.0058\n",
      "Epoch 549: ReduceLROnPlateau reducing learning rate to 0.0002500000118743628.\n",
      "5/5 [==============================] - 0s 13ms/step - loss: 2.1053e-05 - rmse: 0.0046 - val_loss: 2.7392e-04 - val_rmse: 0.0166 - lr: 5.0000e-04\n",
      "Epoch 550/5000\n",
      "5/5 [==============================] - 0s 12ms/step - loss: 1.9101e-05 - rmse: 0.0044 - val_loss: 2.1193e-04 - val_rmse: 0.0146 - lr: 2.5000e-04\n",
      "Epoch 551/5000\n",
      "5/5 [==============================] - 0s 12ms/step - loss: 1.6393e-05 - rmse: 0.0040 - val_loss: 2.5579e-04 - val_rmse: 0.0160 - lr: 2.5000e-04\n",
      "Epoch 552/5000\n",
      "5/5 [==============================] - 0s 12ms/step - loss: 1.8385e-05 - rmse: 0.0043 - val_loss: 2.5912e-04 - val_rmse: 0.0161 - lr: 2.5000e-04\n",
      "Epoch 553/5000\n",
      "5/5 [==============================] - 0s 12ms/step - loss: 1.8814e-05 - rmse: 0.0043 - val_loss: 2.1543e-04 - val_rmse: 0.0147 - lr: 2.5000e-04\n",
      "Epoch 554/5000\n",
      "5/5 [==============================] - 0s 12ms/step - loss: 1.3188e-05 - rmse: 0.0036 - val_loss: 2.3391e-04 - val_rmse: 0.0153 - lr: 2.5000e-04\n",
      "Epoch 555/5000\n",
      "5/5 [==============================] - 0s 12ms/step - loss: 1.9977e-05 - rmse: 0.0045 - val_loss: 2.3357e-04 - val_rmse: 0.0153 - lr: 2.5000e-04\n",
      "Epoch 556/5000\n",
      "5/5 [==============================] - 0s 12ms/step - loss: 1.7510e-05 - rmse: 0.0042 - val_loss: 2.2017e-04 - val_rmse: 0.0148 - lr: 2.5000e-04\n",
      "Epoch 557/5000\n",
      "5/5 [==============================] - 0s 13ms/step - loss: 1.1499e-05 - rmse: 0.0034 - val_loss: 2.2938e-04 - val_rmse: 0.0151 - lr: 2.5000e-04\n",
      "Epoch 558/5000\n",
      "5/5 [==============================] - 0s 12ms/step - loss: 1.6263e-05 - rmse: 0.0040 - val_loss: 2.2754e-04 - val_rmse: 0.0151 - lr: 2.5000e-04\n",
      "Epoch 559/5000\n",
      "5/5 [==============================] - 0s 13ms/step - loss: 1.4619e-05 - rmse: 0.0038 - val_loss: 2.3026e-04 - val_rmse: 0.0152 - lr: 2.5000e-04\n",
      "Epoch 560/5000\n",
      "5/5 [==============================] - 0s 12ms/step - loss: 1.1597e-05 - rmse: 0.0034 - val_loss: 2.4064e-04 - val_rmse: 0.0155 - lr: 2.5000e-04\n",
      "Epoch 561/5000\n",
      "5/5 [==============================] - 0s 12ms/step - loss: 1.2869e-05 - rmse: 0.0036 - val_loss: 2.2862e-04 - val_rmse: 0.0151 - lr: 2.5000e-04\n",
      "Epoch 562/5000\n",
      "5/5 [==============================] - 0s 12ms/step - loss: 1.2709e-05 - rmse: 0.0036 - val_loss: 2.1998e-04 - val_rmse: 0.0148 - lr: 2.5000e-04\n",
      "Epoch 563/5000\n",
      "5/5 [==============================] - 0s 12ms/step - loss: 1.1804e-05 - rmse: 0.0034 - val_loss: 2.5283e-04 - val_rmse: 0.0159 - lr: 2.5000e-04\n",
      "Epoch 564/5000\n",
      "5/5 [==============================] - 0s 13ms/step - loss: 1.4887e-05 - rmse: 0.0039 - val_loss: 2.3343e-04 - val_rmse: 0.0153 - lr: 2.5000e-04\n",
      "Epoch 565/5000\n",
      "5/5 [==============================] - 0s 12ms/step - loss: 1.3056e-05 - rmse: 0.0036 - val_loss: 2.0587e-04 - val_rmse: 0.0143 - lr: 2.5000e-04\n",
      "Epoch 566/5000\n",
      "5/5 [==============================] - 0s 12ms/step - loss: 1.5512e-05 - rmse: 0.0039 - val_loss: 2.4268e-04 - val_rmse: 0.0156 - lr: 2.5000e-04\n",
      "Epoch 567/5000\n",
      "5/5 [==============================] - 0s 12ms/step - loss: 1.6983e-05 - rmse: 0.0041 - val_loss: 2.2879e-04 - val_rmse: 0.0151 - lr: 2.5000e-04\n",
      "Epoch 568/5000\n",
      "5/5 [==============================] - 0s 12ms/step - loss: 1.6123e-05 - rmse: 0.0040 - val_loss: 2.3947e-04 - val_rmse: 0.0155 - lr: 2.5000e-04\n",
      "Epoch 569/5000\n",
      "5/5 [==============================] - 0s 12ms/step - loss: 1.5915e-05 - rmse: 0.0040 - val_loss: 2.4205e-04 - val_rmse: 0.0156 - lr: 2.5000e-04\n",
      "Epoch 570/5000\n",
      "5/5 [==============================] - 0s 13ms/step - loss: 1.2877e-05 - rmse: 0.0036 - val_loss: 2.3224e-04 - val_rmse: 0.0152 - lr: 2.5000e-04\n",
      "Epoch 571/5000\n",
      "5/5 [==============================] - 0s 12ms/step - loss: 1.6125e-05 - rmse: 0.0040 - val_loss: 2.2885e-04 - val_rmse: 0.0151 - lr: 2.5000e-04\n",
      "Epoch 572/5000\n",
      "5/5 [==============================] - 0s 13ms/step - loss: 1.0691e-05 - rmse: 0.0033 - val_loss: 2.2214e-04 - val_rmse: 0.0149 - lr: 2.5000e-04\n",
      "Epoch 573/5000\n",
      "5/5 [==============================] - 0s 12ms/step - loss: 1.4952e-05 - rmse: 0.0039 - val_loss: 2.3335e-04 - val_rmse: 0.0153 - lr: 2.5000e-04\n",
      "Epoch 574/5000\n",
      "5/5 [==============================] - 0s 13ms/step - loss: 1.3356e-05 - rmse: 0.0037 - val_loss: 2.3487e-04 - val_rmse: 0.0153 - lr: 2.5000e-04\n",
      "Epoch 575/5000\n",
      "5/5 [==============================] - 0s 12ms/step - loss: 1.2259e-05 - rmse: 0.0035 - val_loss: 2.1301e-04 - val_rmse: 0.0146 - lr: 2.5000e-04\n",
      "Epoch 576/5000\n",
      "5/5 [==============================] - 0s 12ms/step - loss: 1.2563e-05 - rmse: 0.0035 - val_loss: 2.3160e-04 - val_rmse: 0.0152 - lr: 2.5000e-04\n",
      "Epoch 577/5000\n"
     ]
    },
    {
     "name": "stdout",
     "output_type": "stream",
     "text": [
      "5/5 [==============================] - 0s 12ms/step - loss: 1.3983e-05 - rmse: 0.0037 - val_loss: 2.4095e-04 - val_rmse: 0.0155 - lr: 2.5000e-04\n",
      "Epoch 578/5000\n",
      "5/5 [==============================] - 0s 12ms/step - loss: 1.0543e-05 - rmse: 0.0032 - val_loss: 2.2114e-04 - val_rmse: 0.0149 - lr: 2.5000e-04\n",
      "Epoch 579/5000\n",
      "5/5 [==============================] - 0s 13ms/step - loss: 1.1095e-05 - rmse: 0.0033 - val_loss: 2.4536e-04 - val_rmse: 0.0157 - lr: 2.5000e-04\n",
      "Epoch 580/5000\n",
      "5/5 [==============================] - 0s 12ms/step - loss: 1.0831e-05 - rmse: 0.0033 - val_loss: 2.5789e-04 - val_rmse: 0.0161 - lr: 2.5000e-04\n",
      "Epoch 581/5000\n",
      "5/5 [==============================] - 0s 13ms/step - loss: 1.1990e-05 - rmse: 0.0035 - val_loss: 2.2444e-04 - val_rmse: 0.0150 - lr: 2.5000e-04\n",
      "Epoch 582/5000\n",
      "5/5 [==============================] - 0s 13ms/step - loss: 9.3337e-06 - rmse: 0.0031 - val_loss: 2.4343e-04 - val_rmse: 0.0156 - lr: 2.5000e-04\n",
      "Epoch 583/5000\n",
      "5/5 [==============================] - 0s 12ms/step - loss: 1.6188e-05 - rmse: 0.0040 - val_loss: 2.4918e-04 - val_rmse: 0.0158 - lr: 2.5000e-04\n",
      "Epoch 584/5000\n",
      "5/5 [==============================] - 0s 12ms/step - loss: 1.3604e-05 - rmse: 0.0037 - val_loss: 2.0845e-04 - val_rmse: 0.0144 - lr: 2.5000e-04\n",
      "Epoch 585/5000\n",
      "5/5 [==============================] - 0s 12ms/step - loss: 1.6965e-05 - rmse: 0.0041 - val_loss: 2.7375e-04 - val_rmse: 0.0165 - lr: 2.5000e-04\n",
      "Epoch 586/5000\n",
      "5/5 [==============================] - 0s 12ms/step - loss: 2.1740e-05 - rmse: 0.0047 - val_loss: 2.3293e-04 - val_rmse: 0.0153 - lr: 2.5000e-04\n",
      "Epoch 587/5000\n",
      "5/5 [==============================] - 0s 13ms/step - loss: 1.9356e-05 - rmse: 0.0044 - val_loss: 2.3615e-04 - val_rmse: 0.0154 - lr: 2.5000e-04\n",
      "Epoch 588/5000\n",
      "5/5 [==============================] - 0s 12ms/step - loss: 1.4021e-05 - rmse: 0.0037 - val_loss: 2.6530e-04 - val_rmse: 0.0163 - lr: 2.5000e-04\n",
      "Epoch 589/5000\n",
      "5/5 [==============================] - 0s 12ms/step - loss: 1.0507e-05 - rmse: 0.0032 - val_loss: 2.1807e-04 - val_rmse: 0.0148 - lr: 2.5000e-04\n",
      "Epoch 590/5000\n",
      "5/5 [==============================] - 0s 12ms/step - loss: 1.4168e-05 - rmse: 0.0038 - val_loss: 2.3064e-04 - val_rmse: 0.0152 - lr: 2.5000e-04\n",
      "Epoch 591/5000\n",
      "5/5 [==============================] - 0s 12ms/step - loss: 1.0648e-05 - rmse: 0.0033 - val_loss: 2.3995e-04 - val_rmse: 0.0155 - lr: 2.5000e-04\n",
      "Epoch 592/5000\n",
      "5/5 [==============================] - 0s 12ms/step - loss: 1.0789e-05 - rmse: 0.0033 - val_loss: 2.0293e-04 - val_rmse: 0.0142 - lr: 2.5000e-04\n",
      "Epoch 593/5000\n",
      "5/5 [==============================] - 0s 12ms/step - loss: 1.7738e-05 - rmse: 0.0042 - val_loss: 2.3087e-04 - val_rmse: 0.0152 - lr: 2.5000e-04\n",
      "Epoch 594/5000\n",
      "5/5 [==============================] - 0s 12ms/step - loss: 1.2556e-05 - rmse: 0.0035 - val_loss: 2.2987e-04 - val_rmse: 0.0152 - lr: 2.5000e-04\n",
      "Epoch 595/5000\n",
      "5/5 [==============================] - 0s 12ms/step - loss: 1.1987e-05 - rmse: 0.0035 - val_loss: 2.3167e-04 - val_rmse: 0.0152 - lr: 2.5000e-04\n",
      "Epoch 596/5000\n",
      "5/5 [==============================] - 0s 12ms/step - loss: 1.1387e-05 - rmse: 0.0034 - val_loss: 2.3775e-04 - val_rmse: 0.0154 - lr: 2.5000e-04\n",
      "Epoch 597/5000\n",
      "5/5 [==============================] - 0s 13ms/step - loss: 1.0180e-05 - rmse: 0.0032 - val_loss: 2.2381e-04 - val_rmse: 0.0150 - lr: 2.5000e-04\n",
      "Epoch 598/5000\n",
      "5/5 [==============================] - 0s 12ms/step - loss: 1.3173e-05 - rmse: 0.0036 - val_loss: 2.4918e-04 - val_rmse: 0.0158 - lr: 2.5000e-04\n",
      "Epoch 599/5000\n",
      "5/5 [==============================] - 0s 12ms/step - loss: 1.5278e-05 - rmse: 0.0039 - val_loss: 2.2994e-04 - val_rmse: 0.0152 - lr: 2.5000e-04\n",
      "Epoch 600/5000\n",
      "5/5 [==============================] - 0s 12ms/step - loss: 1.2214e-05 - rmse: 0.0035 - val_loss: 2.2051e-04 - val_rmse: 0.0148 - lr: 2.5000e-04\n",
      "Epoch 601/5000\n",
      "5/5 [==============================] - 0s 13ms/step - loss: 1.2339e-05 - rmse: 0.0035 - val_loss: 2.6732e-04 - val_rmse: 0.0163 - lr: 2.5000e-04\n",
      "Epoch 602/5000\n",
      "5/5 [==============================] - 0s 12ms/step - loss: 1.8481e-05 - rmse: 0.0043 - val_loss: 2.2966e-04 - val_rmse: 0.0152 - lr: 2.5000e-04\n",
      "Epoch 603/5000\n",
      "5/5 [==============================] - 0s 13ms/step - loss: 1.3444e-05 - rmse: 0.0037 - val_loss: 2.3585e-04 - val_rmse: 0.0154 - lr: 2.5000e-04\n",
      "Epoch 604/5000\n",
      "5/5 [==============================] - 0s 12ms/step - loss: 1.3015e-05 - rmse: 0.0036 - val_loss: 2.4104e-04 - val_rmse: 0.0155 - lr: 2.5000e-04\n",
      "Epoch 605/5000\n",
      "5/5 [==============================] - 0s 12ms/step - loss: 1.0566e-05 - rmse: 0.0033 - val_loss: 2.3336e-04 - val_rmse: 0.0153 - lr: 2.5000e-04\n",
      "Epoch 606/5000\n",
      "5/5 [==============================] - 0s 12ms/step - loss: 1.1977e-05 - rmse: 0.0035 - val_loss: 2.3838e-04 - val_rmse: 0.0154 - lr: 2.5000e-04\n",
      "Epoch 607/5000\n",
      "5/5 [==============================] - 0s 12ms/step - loss: 1.0790e-05 - rmse: 0.0033 - val_loss: 2.3458e-04 - val_rmse: 0.0153 - lr: 2.5000e-04\n",
      "Epoch 608/5000\n",
      "5/5 [==============================] - 0s 12ms/step - loss: 1.1218e-05 - rmse: 0.0033 - val_loss: 2.3374e-04 - val_rmse: 0.0153 - lr: 2.5000e-04\n",
      "Epoch 609/5000\n",
      "5/5 [==============================] - 0s 12ms/step - loss: 1.1739e-05 - rmse: 0.0034 - val_loss: 2.3987e-04 - val_rmse: 0.0155 - lr: 2.5000e-04\n",
      "Epoch 610/5000\n",
      "5/5 [==============================] - 0s 13ms/step - loss: 7.6499e-06 - rmse: 0.0028 - val_loss: 2.5794e-04 - val_rmse: 0.0161 - lr: 2.5000e-04\n",
      "Epoch 611/5000\n",
      "5/5 [==============================] - 0s 12ms/step - loss: 1.5166e-05 - rmse: 0.0039 - val_loss: 2.3043e-04 - val_rmse: 0.0152 - lr: 2.5000e-04\n",
      "Epoch 612/5000\n",
      "5/5 [==============================] - 0s 12ms/step - loss: 9.0041e-06 - rmse: 0.0030 - val_loss: 2.3830e-04 - val_rmse: 0.0154 - lr: 2.5000e-04\n",
      "Epoch 613/5000\n",
      "5/5 [==============================] - 0s 13ms/step - loss: 1.1739e-05 - rmse: 0.0034 - val_loss: 2.3271e-04 - val_rmse: 0.0153 - lr: 2.5000e-04\n",
      "Epoch 614/5000\n",
      "5/5 [==============================] - 0s 12ms/step - loss: 1.1575e-05 - rmse: 0.0034 - val_loss: 2.4513e-04 - val_rmse: 0.0157 - lr: 2.5000e-04\n",
      "Epoch 615/5000\n",
      "5/5 [==============================] - 0s 13ms/step - loss: 1.2070e-05 - rmse: 0.0035 - val_loss: 2.5472e-04 - val_rmse: 0.0160 - lr: 2.5000e-04\n",
      "Epoch 616/5000\n",
      "5/5 [==============================] - 0s 13ms/step - loss: 9.6766e-06 - rmse: 0.0031 - val_loss: 2.3622e-04 - val_rmse: 0.0154 - lr: 2.5000e-04\n",
      "Epoch 617/5000\n",
      "5/5 [==============================] - 0s 12ms/step - loss: 1.1475e-05 - rmse: 0.0034 - val_loss: 2.5101e-04 - val_rmse: 0.0158 - lr: 2.5000e-04\n",
      "Epoch 618/5000\n",
      "5/5 [==============================] - 0s 13ms/step - loss: 1.2299e-05 - rmse: 0.0035 - val_loss: 2.4381e-04 - val_rmse: 0.0156 - lr: 2.5000e-04\n",
      "Epoch 619/5000\n",
      "5/5 [==============================] - 0s 12ms/step - loss: 9.7083e-06 - rmse: 0.0031 - val_loss: 2.2325e-04 - val_rmse: 0.0149 - lr: 2.5000e-04\n",
      "Epoch 620/5000\n",
      "5/5 [==============================] - 0s 12ms/step - loss: 1.3790e-05 - rmse: 0.0037 - val_loss: 2.4119e-04 - val_rmse: 0.0155 - lr: 2.5000e-04\n",
      "Epoch 621/5000\n",
      "5/5 [==============================] - 0s 12ms/step - loss: 9.5410e-06 - rmse: 0.0031 - val_loss: 2.3543e-04 - val_rmse: 0.0153 - lr: 2.5000e-04\n",
      "Epoch 622/5000\n",
      "5/5 [==============================] - 0s 12ms/step - loss: 8.6152e-06 - rmse: 0.0029 - val_loss: 2.0794e-04 - val_rmse: 0.0144 - lr: 2.5000e-04\n",
      "Epoch 623/5000\n",
      "5/5 [==============================] - 0s 12ms/step - loss: 1.1512e-05 - rmse: 0.0034 - val_loss: 2.4346e-04 - val_rmse: 0.0156 - lr: 2.5000e-04\n",
      "Epoch 624/5000\n",
      "5/5 [==============================] - 0s 12ms/step - loss: 1.0283e-05 - rmse: 0.0032 - val_loss: 2.1983e-04 - val_rmse: 0.0148 - lr: 2.5000e-04\n",
      "Epoch 625/5000\n",
      "5/5 [==============================] - 0s 12ms/step - loss: 8.7006e-06 - rmse: 0.0029 - val_loss: 2.3398e-04 - val_rmse: 0.0153 - lr: 2.5000e-04\n",
      "Epoch 626/5000\n",
      "5/5 [==============================] - 0s 12ms/step - loss: 1.0352e-05 - rmse: 0.0032 - val_loss: 2.3406e-04 - val_rmse: 0.0153 - lr: 2.5000e-04\n",
      "Epoch 627/5000\n",
      "5/5 [==============================] - 0s 12ms/step - loss: 1.2878e-05 - rmse: 0.0036 - val_loss: 2.4369e-04 - val_rmse: 0.0156 - lr: 2.5000e-04\n",
      "Epoch 628/5000\n"
     ]
    },
    {
     "name": "stdout",
     "output_type": "stream",
     "text": [
      "5/5 [==============================] - 0s 12ms/step - loss: 1.3188e-05 - rmse: 0.0036 - val_loss: 2.2443e-04 - val_rmse: 0.0150 - lr: 2.5000e-04\n",
      "Epoch 629/5000\n",
      "5/5 [==============================] - 0s 12ms/step - loss: 1.0986e-05 - rmse: 0.0033 - val_loss: 2.2633e-04 - val_rmse: 0.0150 - lr: 2.5000e-04\n",
      "Epoch 630/5000\n",
      "5/5 [==============================] - 0s 12ms/step - loss: 1.1774e-05 - rmse: 0.0034 - val_loss: 2.2972e-04 - val_rmse: 0.0152 - lr: 2.5000e-04\n",
      "Epoch 631/5000\n",
      "5/5 [==============================] - 0s 12ms/step - loss: 8.6510e-06 - rmse: 0.0029 - val_loss: 2.1909e-04 - val_rmse: 0.0148 - lr: 2.5000e-04\n",
      "Epoch 632/5000\n",
      "5/5 [==============================] - 0s 12ms/step - loss: 9.9092e-06 - rmse: 0.0031 - val_loss: 2.2653e-04 - val_rmse: 0.0151 - lr: 2.5000e-04\n",
      "Epoch 633/5000\n",
      "5/5 [==============================] - 0s 13ms/step - loss: 7.6967e-06 - rmse: 0.0028 - val_loss: 2.5074e-04 - val_rmse: 0.0158 - lr: 2.5000e-04\n",
      "Epoch 634/5000\n",
      "5/5 [==============================] - 0s 12ms/step - loss: 1.0720e-05 - rmse: 0.0033 - val_loss: 2.1665e-04 - val_rmse: 0.0147 - lr: 2.5000e-04\n",
      "Epoch 635/5000\n",
      "5/5 [==============================] - 0s 12ms/step - loss: 1.1713e-05 - rmse: 0.0034 - val_loss: 2.3321e-04 - val_rmse: 0.0153 - lr: 2.5000e-04\n",
      "Epoch 636/5000\n",
      "5/5 [==============================] - 0s 12ms/step - loss: 9.1669e-06 - rmse: 0.0030 - val_loss: 2.3821e-04 - val_rmse: 0.0154 - lr: 2.5000e-04\n",
      "Epoch 637/5000\n",
      "5/5 [==============================] - 0s 12ms/step - loss: 9.2493e-06 - rmse: 0.0030 - val_loss: 2.2589e-04 - val_rmse: 0.0150 - lr: 2.5000e-04\n",
      "Epoch 638/5000\n",
      "5/5 [==============================] - 0s 12ms/step - loss: 9.6316e-06 - rmse: 0.0031 - val_loss: 2.4292e-04 - val_rmse: 0.0156 - lr: 2.5000e-04\n",
      "Epoch 639/5000\n",
      "5/5 [==============================] - 0s 12ms/step - loss: 9.2173e-06 - rmse: 0.0030 - val_loss: 2.2756e-04 - val_rmse: 0.0151 - lr: 2.5000e-04\n",
      "Epoch 640/5000\n",
      "5/5 [==============================] - 0s 12ms/step - loss: 8.4839e-06 - rmse: 0.0029 - val_loss: 2.3564e-04 - val_rmse: 0.0154 - lr: 2.5000e-04\n",
      "Epoch 641/5000\n",
      "5/5 [==============================] - 0s 12ms/step - loss: 8.8401e-06 - rmse: 0.0030 - val_loss: 2.3274e-04 - val_rmse: 0.0153 - lr: 2.5000e-04\n",
      "Epoch 642/5000\n",
      "5/5 [==============================] - 0s 12ms/step - loss: 8.9490e-06 - rmse: 0.0030 - val_loss: 2.2967e-04 - val_rmse: 0.0152 - lr: 2.5000e-04\n",
      "Epoch 643/5000\n",
      "5/5 [==============================] - 0s 12ms/step - loss: 8.8551e-06 - rmse: 0.0030 - val_loss: 2.3420e-04 - val_rmse: 0.0153 - lr: 2.5000e-04\n",
      "Epoch 644/5000\n",
      "5/5 [==============================] - 0s 12ms/step - loss: 9.6536e-06 - rmse: 0.0031 - val_loss: 2.3961e-04 - val_rmse: 0.0155 - lr: 2.5000e-04\n",
      "Epoch 645/5000\n",
      "5/5 [==============================] - 0s 12ms/step - loss: 1.1800e-05 - rmse: 0.0034 - val_loss: 2.3468e-04 - val_rmse: 0.0153 - lr: 2.5000e-04\n",
      "Epoch 646/5000\n",
      "5/5 [==============================] - 0s 12ms/step - loss: 9.3039e-06 - rmse: 0.0031 - val_loss: 2.3727e-04 - val_rmse: 0.0154 - lr: 2.5000e-04\n",
      "Epoch 647/5000\n",
      "5/5 [==============================] - 0s 12ms/step - loss: 1.1461e-05 - rmse: 0.0034 - val_loss: 2.4586e-04 - val_rmse: 0.0157 - lr: 2.5000e-04\n",
      "Epoch 648/5000\n",
      "5/5 [==============================] - 0s 12ms/step - loss: 8.8659e-06 - rmse: 0.0030 - val_loss: 2.3603e-04 - val_rmse: 0.0154 - lr: 2.5000e-04\n",
      "Epoch 649/5000\n",
      "5/5 [==============================] - 0s 12ms/step - loss: 7.6896e-06 - rmse: 0.0028 - val_loss: 2.3547e-04 - val_rmse: 0.0153 - lr: 2.5000e-04\n",
      "Epoch 650/5000\n",
      "5/5 [==============================] - 0s 13ms/step - loss: 8.1658e-06 - rmse: 0.0029 - val_loss: 2.2593e-04 - val_rmse: 0.0150 - lr: 2.5000e-04\n",
      "Epoch 651/5000\n",
      "5/5 [==============================] - 0s 12ms/step - loss: 9.6818e-06 - rmse: 0.0031 - val_loss: 2.4709e-04 - val_rmse: 0.0157 - lr: 2.5000e-04\n",
      "Epoch 652/5000\n",
      "5/5 [==============================] - 0s 12ms/step - loss: 9.0079e-06 - rmse: 0.0030 - val_loss: 2.2877e-04 - val_rmse: 0.0151 - lr: 2.5000e-04\n",
      "Epoch 653/5000\n",
      "5/5 [==============================] - 0s 12ms/step - loss: 6.5271e-06 - rmse: 0.0026 - val_loss: 2.2747e-04 - val_rmse: 0.0151 - lr: 2.5000e-04\n",
      "Epoch 654/5000\n",
      "5/5 [==============================] - 0s 12ms/step - loss: 1.1020e-05 - rmse: 0.0033 - val_loss: 2.4874e-04 - val_rmse: 0.0158 - lr: 2.5000e-04\n",
      "Epoch 655/5000\n",
      "5/5 [==============================] - 0s 12ms/step - loss: 8.8835e-06 - rmse: 0.0030 - val_loss: 2.2884e-04 - val_rmse: 0.0151 - lr: 2.5000e-04\n",
      "Epoch 656/5000\n",
      "5/5 [==============================] - 0s 12ms/step - loss: 9.3726e-06 - rmse: 0.0031 - val_loss: 2.2862e-04 - val_rmse: 0.0151 - lr: 2.5000e-04\n",
      "Epoch 657/5000\n",
      "5/5 [==============================] - 0s 13ms/step - loss: 8.4752e-06 - rmse: 0.0029 - val_loss: 2.3221e-04 - val_rmse: 0.0152 - lr: 2.5000e-04\n",
      "Epoch 658/5000\n",
      "5/5 [==============================] - 0s 12ms/step - loss: 8.4895e-06 - rmse: 0.0029 - val_loss: 2.4413e-04 - val_rmse: 0.0156 - lr: 2.5000e-04\n",
      "Epoch 659/5000\n",
      "5/5 [==============================] - 0s 12ms/step - loss: 8.8030e-06 - rmse: 0.0030 - val_loss: 2.3039e-04 - val_rmse: 0.0152 - lr: 2.5000e-04\n",
      "Epoch 660/5000\n",
      "5/5 [==============================] - 0s 13ms/step - loss: 1.2830e-05 - rmse: 0.0036 - val_loss: 2.3919e-04 - val_rmse: 0.0155 - lr: 2.5000e-04\n",
      "Epoch 661/5000\n",
      "5/5 [==============================] - 0s 13ms/step - loss: 1.4906e-05 - rmse: 0.0039 - val_loss: 2.4490e-04 - val_rmse: 0.0156 - lr: 2.5000e-04\n",
      "Epoch 662/5000\n",
      "5/5 [==============================] - 0s 12ms/step - loss: 1.2225e-05 - rmse: 0.0035 - val_loss: 2.3518e-04 - val_rmse: 0.0153 - lr: 2.5000e-04\n",
      "Epoch 663/5000\n",
      "5/5 [==============================] - 0s 12ms/step - loss: 9.6502e-06 - rmse: 0.0031 - val_loss: 2.5122e-04 - val_rmse: 0.0159 - lr: 2.5000e-04\n",
      "Epoch 664/5000\n",
      "5/5 [==============================] - 0s 12ms/step - loss: 9.9785e-06 - rmse: 0.0032 - val_loss: 2.3364e-04 - val_rmse: 0.0153 - lr: 2.5000e-04\n",
      "Epoch 665/5000\n",
      "5/5 [==============================] - 0s 12ms/step - loss: 7.4624e-06 - rmse: 0.0027 - val_loss: 2.2930e-04 - val_rmse: 0.0151 - lr: 2.5000e-04\n",
      "Epoch 666/5000\n",
      "5/5 [==============================] - 0s 12ms/step - loss: 8.7629e-06 - rmse: 0.0030 - val_loss: 2.4334e-04 - val_rmse: 0.0156 - lr: 2.5000e-04\n",
      "Epoch 667/5000\n",
      "5/5 [==============================] - 0s 12ms/step - loss: 1.0177e-05 - rmse: 0.0032 - val_loss: 2.2917e-04 - val_rmse: 0.0151 - lr: 2.5000e-04\n",
      "Epoch 668/5000\n",
      "5/5 [==============================] - 0s 12ms/step - loss: 9.9857e-06 - rmse: 0.0032 - val_loss: 2.2741e-04 - val_rmse: 0.0151 - lr: 2.5000e-04\n",
      "Epoch 669/5000\n",
      "5/5 [==============================] - 0s 12ms/step - loss: 7.6364e-06 - rmse: 0.0028 - val_loss: 2.3895e-04 - val_rmse: 0.0155 - lr: 2.5000e-04\n",
      "Epoch 670/5000\n",
      "5/5 [==============================] - 0s 12ms/step - loss: 1.1777e-05 - rmse: 0.0034 - val_loss: 2.2256e-04 - val_rmse: 0.0149 - lr: 2.5000e-04\n",
      "Epoch 671/5000\n",
      "5/5 [==============================] - 0s 12ms/step - loss: 1.2509e-05 - rmse: 0.0035 - val_loss: 2.4635e-04 - val_rmse: 0.0157 - lr: 2.5000e-04\n",
      "Epoch 672/5000\n",
      "5/5 [==============================] - 0s 12ms/step - loss: 1.3156e-05 - rmse: 0.0036 - val_loss: 2.3289e-04 - val_rmse: 0.0153 - lr: 2.5000e-04\n",
      "Epoch 673/5000\n",
      "5/5 [==============================] - 0s 12ms/step - loss: 1.5473e-05 - rmse: 0.0039 - val_loss: 2.2110e-04 - val_rmse: 0.0149 - lr: 2.5000e-04\n",
      "Epoch 674/5000\n",
      "5/5 [==============================] - 0s 12ms/step - loss: 1.4456e-05 - rmse: 0.0038 - val_loss: 2.5887e-04 - val_rmse: 0.0161 - lr: 2.5000e-04\n",
      "Epoch 675/5000\n",
      "5/5 [==============================] - 0s 12ms/step - loss: 1.0800e-05 - rmse: 0.0033 - val_loss: 2.2883e-04 - val_rmse: 0.0151 - lr: 2.5000e-04\n",
      "Epoch 676/5000\n",
      "5/5 [==============================] - 0s 12ms/step - loss: 1.0249e-05 - rmse: 0.0032 - val_loss: 2.2549e-04 - val_rmse: 0.0150 - lr: 2.5000e-04\n",
      "Epoch 677/5000\n",
      "5/5 [==============================] - 0s 12ms/step - loss: 8.0645e-06 - rmse: 0.0028 - val_loss: 2.2764e-04 - val_rmse: 0.0151 - lr: 2.5000e-04\n",
      "Epoch 678/5000\n",
      "5/5 [==============================] - 0s 12ms/step - loss: 7.3774e-06 - rmse: 0.0027 - val_loss: 2.0980e-04 - val_rmse: 0.0145 - lr: 2.5000e-04\n",
      "Epoch 679/5000\n"
     ]
    },
    {
     "name": "stdout",
     "output_type": "stream",
     "text": [
      "5/5 [==============================] - 0s 12ms/step - loss: 9.2279e-06 - rmse: 0.0030 - val_loss: 2.3402e-04 - val_rmse: 0.0153 - lr: 2.5000e-04\n",
      "Epoch 680/5000\n",
      "5/5 [==============================] - 0s 12ms/step - loss: 9.5758e-06 - rmse: 0.0031 - val_loss: 2.3947e-04 - val_rmse: 0.0155 - lr: 2.5000e-04\n",
      "Epoch 681/5000\n",
      "5/5 [==============================] - 0s 12ms/step - loss: 6.8610e-06 - rmse: 0.0026 - val_loss: 2.3210e-04 - val_rmse: 0.0152 - lr: 2.5000e-04\n",
      "Epoch 682/5000\n",
      "5/5 [==============================] - 0s 12ms/step - loss: 7.0919e-06 - rmse: 0.0027 - val_loss: 2.3363e-04 - val_rmse: 0.0153 - lr: 2.5000e-04\n",
      "Epoch 683/5000\n",
      "5/5 [==============================] - 0s 12ms/step - loss: 8.5427e-06 - rmse: 0.0029 - val_loss: 2.4459e-04 - val_rmse: 0.0156 - lr: 2.5000e-04\n",
      "Epoch 684/5000\n",
      "5/5 [==============================] - 0s 12ms/step - loss: 8.6215e-06 - rmse: 0.0029 - val_loss: 2.5144e-04 - val_rmse: 0.0159 - lr: 2.5000e-04\n",
      "Epoch 685/5000\n",
      "5/5 [==============================] - 0s 12ms/step - loss: 8.8728e-06 - rmse: 0.0030 - val_loss: 2.3420e-04 - val_rmse: 0.0153 - lr: 2.5000e-04\n",
      "Epoch 686/5000\n",
      "5/5 [==============================] - 0s 12ms/step - loss: 6.8891e-06 - rmse: 0.0026 - val_loss: 2.3577e-04 - val_rmse: 0.0154 - lr: 2.5000e-04\n",
      "Epoch 687/5000\n",
      "5/5 [==============================] - 0s 12ms/step - loss: 8.9866e-06 - rmse: 0.0030 - val_loss: 2.3898e-04 - val_rmse: 0.0155 - lr: 2.5000e-04\n",
      "Epoch 688/5000\n",
      "5/5 [==============================] - 0s 13ms/step - loss: 7.4521e-06 - rmse: 0.0027 - val_loss: 2.3626e-04 - val_rmse: 0.0154 - lr: 2.5000e-04\n",
      "Epoch 689/5000\n",
      "5/5 [==============================] - 0s 13ms/step - loss: 9.9762e-06 - rmse: 0.0032 - val_loss: 2.2782e-04 - val_rmse: 0.0151 - lr: 2.5000e-04\n",
      "Epoch 690/5000\n",
      "5/5 [==============================] - 0s 12ms/step - loss: 8.3081e-06 - rmse: 0.0029 - val_loss: 2.2039e-04 - val_rmse: 0.0148 - lr: 2.5000e-04\n",
      "Epoch 691/5000\n",
      "5/5 [==============================] - 0s 12ms/step - loss: 7.3753e-06 - rmse: 0.0027 - val_loss: 2.4159e-04 - val_rmse: 0.0155 - lr: 2.5000e-04\n",
      "Epoch 692/5000\n",
      "5/5 [==============================] - 0s 12ms/step - loss: 7.5050e-06 - rmse: 0.0027 - val_loss: 2.2791e-04 - val_rmse: 0.0151 - lr: 2.5000e-04\n",
      "Epoch 693/5000\n",
      "5/5 [==============================] - 0s 12ms/step - loss: 5.1627e-06 - rmse: 0.0023 - val_loss: 2.3714e-04 - val_rmse: 0.0154 - lr: 2.5000e-04\n",
      "Epoch 694/5000\n",
      "5/5 [==============================] - 0s 12ms/step - loss: 9.1830e-06 - rmse: 0.0030 - val_loss: 2.4004e-04 - val_rmse: 0.0155 - lr: 2.5000e-04\n",
      "Epoch 695/5000\n",
      "5/5 [==============================] - 0s 12ms/step - loss: 6.0576e-06 - rmse: 0.0025 - val_loss: 2.3194e-04 - val_rmse: 0.0152 - lr: 2.5000e-04\n",
      "Epoch 696/5000\n",
      "5/5 [==============================] - 0s 13ms/step - loss: 8.5978e-06 - rmse: 0.0029 - val_loss: 2.4360e-04 - val_rmse: 0.0156 - lr: 2.5000e-04\n",
      "Epoch 697/5000\n",
      "5/5 [==============================] - 0s 13ms/step - loss: 7.5974e-06 - rmse: 0.0028 - val_loss: 2.2828e-04 - val_rmse: 0.0151 - lr: 2.5000e-04\n",
      "Epoch 698/5000\n",
      "5/5 [==============================] - 0s 12ms/step - loss: 8.2835e-06 - rmse: 0.0029 - val_loss: 2.2270e-04 - val_rmse: 0.0149 - lr: 2.5000e-04\n",
      "Epoch 699/5000\n",
      "5/5 [==============================] - 0s 12ms/step - loss: 5.6955e-06 - rmse: 0.0024 - val_loss: 2.3169e-04 - val_rmse: 0.0152 - lr: 2.5000e-04\n",
      "Epoch 700/5000\n",
      "5/5 [==============================] - 0s 12ms/step - loss: 6.6448e-06 - rmse: 0.0026 - val_loss: 2.2812e-04 - val_rmse: 0.0151 - lr: 2.5000e-04\n",
      "Epoch 701/5000\n",
      "5/5 [==============================] - 0s 12ms/step - loss: 6.3338e-06 - rmse: 0.0025 - val_loss: 2.2677e-04 - val_rmse: 0.0151 - lr: 2.5000e-04\n",
      "Epoch 702/5000\n",
      "5/5 [==============================] - 0s 12ms/step - loss: 6.8490e-06 - rmse: 0.0026 - val_loss: 2.3191e-04 - val_rmse: 0.0152 - lr: 2.5000e-04\n",
      "Epoch 703/5000\n",
      "5/5 [==============================] - 0s 12ms/step - loss: 7.5856e-06 - rmse: 0.0028 - val_loss: 2.3497e-04 - val_rmse: 0.0153 - lr: 2.5000e-04\n",
      "Epoch 704/5000\n",
      "5/5 [==============================] - 0s 12ms/step - loss: 5.7642e-06 - rmse: 0.0024 - val_loss: 2.4216e-04 - val_rmse: 0.0156 - lr: 2.5000e-04\n",
      "Epoch 705/5000\n",
      "5/5 [==============================] - 0s 12ms/step - loss: 9.4047e-06 - rmse: 0.0031 - val_loss: 2.3660e-04 - val_rmse: 0.0154 - lr: 2.5000e-04\n",
      "Epoch 706/5000\n",
      "5/5 [==============================] - 0s 12ms/step - loss: 6.6021e-06 - rmse: 0.0026 - val_loss: 2.3230e-04 - val_rmse: 0.0152 - lr: 2.5000e-04\n",
      "Epoch 707/5000\n",
      "5/5 [==============================] - 0s 12ms/step - loss: 6.9478e-06 - rmse: 0.0026 - val_loss: 2.3069e-04 - val_rmse: 0.0152 - lr: 2.5000e-04\n",
      "Epoch 708/5000\n",
      "5/5 [==============================] - 0s 11ms/step - loss: 7.6144e-06 - rmse: 0.0028 - val_loss: 2.2227e-04 - val_rmse: 0.0149 - lr: 2.5000e-04\n",
      "Epoch 709/5000\n",
      "5/5 [==============================] - 0s 12ms/step - loss: 1.1076e-05 - rmse: 0.0033 - val_loss: 2.4718e-04 - val_rmse: 0.0157 - lr: 2.5000e-04\n",
      "Epoch 710/5000\n",
      "5/5 [==============================] - 0s 12ms/step - loss: 1.1136e-05 - rmse: 0.0033 - val_loss: 2.3182e-04 - val_rmse: 0.0152 - lr: 2.5000e-04\n",
      "Epoch 711/5000\n",
      "5/5 [==============================] - 0s 13ms/step - loss: 8.1587e-06 - rmse: 0.0029 - val_loss: 2.3772e-04 - val_rmse: 0.0154 - lr: 2.5000e-04\n",
      "Epoch 712/5000\n",
      "5/5 [==============================] - 0s 12ms/step - loss: 5.9207e-06 - rmse: 0.0024 - val_loss: 2.3639e-04 - val_rmse: 0.0154 - lr: 2.5000e-04\n",
      "Epoch 713/5000\n",
      "5/5 [==============================] - 0s 12ms/step - loss: 6.0422e-06 - rmse: 0.0025 - val_loss: 2.1810e-04 - val_rmse: 0.0148 - lr: 2.5000e-04\n",
      "Epoch 714/5000\n",
      "5/5 [==============================] - 0s 12ms/step - loss: 7.9205e-06 - rmse: 0.0028 - val_loss: 2.3544e-04 - val_rmse: 0.0153 - lr: 2.5000e-04\n",
      "Epoch 715/5000\n",
      "5/5 [==============================] - 0s 12ms/step - loss: 7.5257e-06 - rmse: 0.0027 - val_loss: 2.3447e-04 - val_rmse: 0.0153 - lr: 2.5000e-04\n",
      "Epoch 716/5000\n",
      "5/5 [==============================] - 0s 12ms/step - loss: 7.2479e-06 - rmse: 0.0027 - val_loss: 2.3233e-04 - val_rmse: 0.0152 - lr: 2.5000e-04\n",
      "Epoch 717/5000\n",
      "5/5 [==============================] - 0s 12ms/step - loss: 8.8951e-06 - rmse: 0.0030 - val_loss: 2.4769e-04 - val_rmse: 0.0157 - lr: 2.5000e-04\n",
      "Epoch 718/5000\n",
      "5/5 [==============================] - 0s 12ms/step - loss: 9.0330e-06 - rmse: 0.0030 - val_loss: 2.3574e-04 - val_rmse: 0.0154 - lr: 2.5000e-04\n",
      "Epoch 719/5000\n",
      "5/5 [==============================] - 0s 12ms/step - loss: 1.0437e-05 - rmse: 0.0032 - val_loss: 2.2599e-04 - val_rmse: 0.0150 - lr: 2.5000e-04\n",
      "Epoch 720/5000\n",
      "5/5 [==============================] - 0s 12ms/step - loss: 1.1698e-05 - rmse: 0.0034 - val_loss: 2.3188e-04 - val_rmse: 0.0152 - lr: 2.5000e-04\n",
      "Epoch 721/5000\n",
      "5/5 [==============================] - 0s 12ms/step - loss: 1.1400e-05 - rmse: 0.0034 - val_loss: 2.3107e-04 - val_rmse: 0.0152 - lr: 2.5000e-04\n",
      "Epoch 722/5000\n",
      "5/5 [==============================] - 0s 12ms/step - loss: 5.8247e-06 - rmse: 0.0024 - val_loss: 2.3479e-04 - val_rmse: 0.0153 - lr: 2.5000e-04\n",
      "Epoch 723/5000\n",
      "5/5 [==============================] - 0s 12ms/step - loss: 7.3357e-06 - rmse: 0.0027 - val_loss: 2.2078e-04 - val_rmse: 0.0149 - lr: 2.5000e-04\n",
      "Epoch 724/5000\n",
      "5/5 [==============================] - 0s 12ms/step - loss: 7.1569e-06 - rmse: 0.0027 - val_loss: 2.1710e-04 - val_rmse: 0.0147 - lr: 2.5000e-04\n",
      "Epoch 725/5000\n",
      "5/5 [==============================] - 0s 12ms/step - loss: 7.3956e-06 - rmse: 0.0027 - val_loss: 2.3598e-04 - val_rmse: 0.0154 - lr: 2.5000e-04\n",
      "Epoch 726/5000\n",
      "5/5 [==============================] - 0s 12ms/step - loss: 8.0304e-06 - rmse: 0.0028 - val_loss: 2.3836e-04 - val_rmse: 0.0154 - lr: 2.5000e-04\n",
      "Epoch 727/5000\n",
      "5/5 [==============================] - 0s 12ms/step - loss: 6.0911e-06 - rmse: 0.0025 - val_loss: 2.2500e-04 - val_rmse: 0.0150 - lr: 2.5000e-04\n",
      "Epoch 728/5000\n",
      "5/5 [==============================] - 0s 12ms/step - loss: 6.3143e-06 - rmse: 0.0025 - val_loss: 2.3093e-04 - val_rmse: 0.0152 - lr: 2.5000e-04\n",
      "Epoch 729/5000\n",
      "5/5 [==============================] - 0s 12ms/step - loss: 5.3380e-06 - rmse: 0.0023 - val_loss: 2.4216e-04 - val_rmse: 0.0156 - lr: 2.5000e-04\n",
      "Epoch 730/5000\n"
     ]
    },
    {
     "name": "stdout",
     "output_type": "stream",
     "text": [
      "5/5 [==============================] - 0s 12ms/step - loss: 7.9038e-06 - rmse: 0.0028 - val_loss: 2.3714e-04 - val_rmse: 0.0154 - lr: 2.5000e-04\n",
      "Epoch 731/5000\n",
      "5/5 [==============================] - 0s 12ms/step - loss: 7.8462e-06 - rmse: 0.0028 - val_loss: 2.3376e-04 - val_rmse: 0.0153 - lr: 2.5000e-04\n",
      "Epoch 732/5000\n",
      "5/5 [==============================] - 0s 12ms/step - loss: 8.4556e-06 - rmse: 0.0029 - val_loss: 2.1363e-04 - val_rmse: 0.0146 - lr: 2.5000e-04\n",
      "Epoch 733/5000\n",
      "5/5 [==============================] - 0s 12ms/step - loss: 7.3594e-06 - rmse: 0.0027 - val_loss: 2.2479e-04 - val_rmse: 0.0150 - lr: 2.5000e-04\n",
      "Epoch 734/5000\n",
      "5/5 [==============================] - 0s 12ms/step - loss: 7.9853e-06 - rmse: 0.0028 - val_loss: 2.2762e-04 - val_rmse: 0.0151 - lr: 2.5000e-04\n",
      "Epoch 735/5000\n",
      "5/5 [==============================] - 0s 12ms/step - loss: 6.2765e-06 - rmse: 0.0025 - val_loss: 2.4225e-04 - val_rmse: 0.0156 - lr: 2.5000e-04\n",
      "Epoch 736/5000\n",
      "5/5 [==============================] - 0s 13ms/step - loss: 8.4557e-06 - rmse: 0.0029 - val_loss: 2.4937e-04 - val_rmse: 0.0158 - lr: 2.5000e-04\n",
      "Epoch 737/5000\n",
      "5/5 [==============================] - 0s 12ms/step - loss: 7.9509e-06 - rmse: 0.0028 - val_loss: 2.3993e-04 - val_rmse: 0.0155 - lr: 2.5000e-04\n",
      "Epoch 738/5000\n",
      "5/5 [==============================] - 0s 12ms/step - loss: 6.6304e-06 - rmse: 0.0026 - val_loss: 2.4299e-04 - val_rmse: 0.0156 - lr: 2.5000e-04\n",
      "Epoch 739/5000\n",
      "5/5 [==============================] - 0s 12ms/step - loss: 6.7899e-06 - rmse: 0.0026 - val_loss: 2.2252e-04 - val_rmse: 0.0149 - lr: 2.5000e-04\n",
      "Epoch 740/5000\n",
      "5/5 [==============================] - 0s 12ms/step - loss: 8.7356e-06 - rmse: 0.0030 - val_loss: 2.1990e-04 - val_rmse: 0.0148 - lr: 2.5000e-04\n",
      "Epoch 741/5000\n",
      "5/5 [==============================] - 0s 12ms/step - loss: 8.1589e-06 - rmse: 0.0029 - val_loss: 2.3322e-04 - val_rmse: 0.0153 - lr: 2.5000e-04\n",
      "Epoch 742/5000\n",
      "5/5 [==============================] - 0s 12ms/step - loss: 6.9874e-06 - rmse: 0.0026 - val_loss: 2.3913e-04 - val_rmse: 0.0155 - lr: 2.5000e-04\n",
      "Epoch 743/5000\n",
      "5/5 [==============================] - 0s 11ms/step - loss: 8.8877e-06 - rmse: 0.0030 - val_loss: 2.2797e-04 - val_rmse: 0.0151 - lr: 2.5000e-04\n",
      "Epoch 744/5000\n",
      "5/5 [==============================] - 0s 12ms/step - loss: 7.8068e-06 - rmse: 0.0028 - val_loss: 2.2758e-04 - val_rmse: 0.0151 - lr: 2.5000e-04\n",
      "Epoch 745/5000\n",
      "5/5 [==============================] - 0s 12ms/step - loss: 9.9543e-06 - rmse: 0.0032 - val_loss: 2.2962e-04 - val_rmse: 0.0152 - lr: 2.5000e-04\n",
      "Epoch 746/5000\n",
      "5/5 [==============================] - 0s 12ms/step - loss: 1.3267e-05 - rmse: 0.0036 - val_loss: 2.4641e-04 - val_rmse: 0.0157 - lr: 2.5000e-04\n",
      "Epoch 747/5000\n",
      "5/5 [==============================] - 0s 12ms/step - loss: 1.1533e-05 - rmse: 0.0034 - val_loss: 2.5850e-04 - val_rmse: 0.0161 - lr: 2.5000e-04\n",
      "Epoch 748/5000\n",
      "5/5 [==============================] - 0s 12ms/step - loss: 8.6566e-06 - rmse: 0.0029 - val_loss: 2.3416e-04 - val_rmse: 0.0153 - lr: 2.5000e-04\n",
      "Epoch 749/5000\n",
      "5/5 [==============================] - 0s 12ms/step - loss: 6.5920e-06 - rmse: 0.0026 - val_loss: 2.3151e-04 - val_rmse: 0.0152 - lr: 2.5000e-04\n",
      "Epoch 750/5000\n",
      "5/5 [==============================] - 0s 12ms/step - loss: 6.3292e-06 - rmse: 0.0025 - val_loss: 2.2654e-04 - val_rmse: 0.0151 - lr: 2.5000e-04\n",
      "Epoch 751/5000\n",
      "5/5 [==============================] - 0s 12ms/step - loss: 5.9062e-06 - rmse: 0.0024 - val_loss: 2.2453e-04 - val_rmse: 0.0150 - lr: 2.5000e-04\n",
      "Epoch 752/5000\n",
      "5/5 [==============================] - 0s 12ms/step - loss: 5.1084e-06 - rmse: 0.0023 - val_loss: 2.2964e-04 - val_rmse: 0.0152 - lr: 2.5000e-04\n",
      "Epoch 753/5000\n",
      "5/5 [==============================] - 0s 13ms/step - loss: 6.1805e-06 - rmse: 0.0025 - val_loss: 2.2586e-04 - val_rmse: 0.0150 - lr: 2.5000e-04\n",
      "Epoch 754/5000\n",
      "5/5 [==============================] - 0s 12ms/step - loss: 4.7825e-06 - rmse: 0.0022 - val_loss: 2.3255e-04 - val_rmse: 0.0152 - lr: 2.5000e-04\n",
      "Epoch 755/5000\n",
      "5/5 [==============================] - 0s 12ms/step - loss: 5.6672e-06 - rmse: 0.0024 - val_loss: 2.3359e-04 - val_rmse: 0.0153 - lr: 2.5000e-04\n",
      "Epoch 756/5000\n",
      "5/5 [==============================] - 0s 12ms/step - loss: 6.1671e-06 - rmse: 0.0025 - val_loss: 2.3444e-04 - val_rmse: 0.0153 - lr: 2.5000e-04\n",
      "Epoch 757/5000\n",
      "5/5 [==============================] - 0s 12ms/step - loss: 6.0390e-06 - rmse: 0.0025 - val_loss: 2.3960e-04 - val_rmse: 0.0155 - lr: 2.5000e-04\n",
      "Epoch 758/5000\n",
      "5/5 [==============================] - 0s 12ms/step - loss: 6.2891e-06 - rmse: 0.0025 - val_loss: 2.3943e-04 - val_rmse: 0.0155 - lr: 2.5000e-04\n",
      "Epoch 759/5000\n",
      "5/5 [==============================] - 0s 12ms/step - loss: 9.0460e-06 - rmse: 0.0030 - val_loss: 2.1102e-04 - val_rmse: 0.0145 - lr: 2.5000e-04\n",
      "Epoch 760/5000\n",
      "5/5 [==============================] - 0s 12ms/step - loss: 1.1971e-05 - rmse: 0.0035 - val_loss: 2.1469e-04 - val_rmse: 0.0147 - lr: 2.5000e-04\n",
      "Epoch 761/5000\n",
      "5/5 [==============================] - 0s 12ms/step - loss: 9.5550e-06 - rmse: 0.0031 - val_loss: 2.1688e-04 - val_rmse: 0.0147 - lr: 2.5000e-04\n",
      "Epoch 762/5000\n",
      "5/5 [==============================] - 0s 12ms/step - loss: 6.7087e-06 - rmse: 0.0026 - val_loss: 2.2840e-04 - val_rmse: 0.0151 - lr: 2.5000e-04\n",
      "Epoch 763/5000\n",
      "5/5 [==============================] - 0s 12ms/step - loss: 5.6491e-06 - rmse: 0.0024 - val_loss: 2.3665e-04 - val_rmse: 0.0154 - lr: 2.5000e-04\n",
      "Epoch 764/5000\n",
      "5/5 [==============================] - 0s 12ms/step - loss: 7.5372e-06 - rmse: 0.0027 - val_loss: 2.3165e-04 - val_rmse: 0.0152 - lr: 2.5000e-04\n",
      "Epoch 765/5000\n",
      "5/5 [==============================] - 0s 12ms/step - loss: 5.1198e-06 - rmse: 0.0023 - val_loss: 2.2601e-04 - val_rmse: 0.0150 - lr: 2.5000e-04\n",
      "Epoch 766/5000\n",
      "5/5 [==============================] - 0s 13ms/step - loss: 5.1977e-06 - rmse: 0.0023 - val_loss: 2.1561e-04 - val_rmse: 0.0147 - lr: 2.5000e-04\n",
      "Epoch 767/5000\n",
      "5/5 [==============================] - 0s 12ms/step - loss: 5.4107e-06 - rmse: 0.0023 - val_loss: 2.3321e-04 - val_rmse: 0.0153 - lr: 2.5000e-04\n",
      "Epoch 768/5000\n",
      "5/5 [==============================] - 0s 12ms/step - loss: 5.0213e-06 - rmse: 0.0022 - val_loss: 2.2517e-04 - val_rmse: 0.0150 - lr: 2.5000e-04\n",
      "Epoch 769/5000\n",
      "5/5 [==============================] - 0s 12ms/step - loss: 5.5709e-06 - rmse: 0.0024 - val_loss: 2.3323e-04 - val_rmse: 0.0153 - lr: 2.5000e-04\n",
      "Epoch 770/5000\n",
      "5/5 [==============================] - 0s 12ms/step - loss: 5.7500e-06 - rmse: 0.0024 - val_loss: 2.2958e-04 - val_rmse: 0.0152 - lr: 2.5000e-04\n",
      "Epoch 771/5000\n",
      "5/5 [==============================] - 0s 12ms/step - loss: 6.3319e-06 - rmse: 0.0025 - val_loss: 2.0295e-04 - val_rmse: 0.0142 - lr: 2.5000e-04\n",
      "Epoch 772/5000\n",
      "5/5 [==============================] - 0s 12ms/step - loss: 4.9946e-06 - rmse: 0.0022 - val_loss: 2.3271e-04 - val_rmse: 0.0153 - lr: 2.5000e-04\n",
      "Epoch 773/5000\n",
      "5/5 [==============================] - 0s 13ms/step - loss: 5.8068e-06 - rmse: 0.0024 - val_loss: 2.2075e-04 - val_rmse: 0.0149 - lr: 2.5000e-04\n",
      "Epoch 774/5000\n",
      "5/5 [==============================] - 0s 12ms/step - loss: 6.4258e-06 - rmse: 0.0025 - val_loss: 2.2708e-04 - val_rmse: 0.0151 - lr: 2.5000e-04\n",
      "Epoch 775/5000\n",
      "5/5 [==============================] - 0s 12ms/step - loss: 6.0515e-06 - rmse: 0.0025 - val_loss: 2.3238e-04 - val_rmse: 0.0152 - lr: 2.5000e-04\n",
      "Epoch 776/5000\n",
      "5/5 [==============================] - 0s 12ms/step - loss: 5.4961e-06 - rmse: 0.0023 - val_loss: 2.2663e-04 - val_rmse: 0.0151 - lr: 2.5000e-04\n",
      "Epoch 777/5000\n",
      "5/5 [==============================] - 0s 12ms/step - loss: 4.9721e-06 - rmse: 0.0022 - val_loss: 2.4965e-04 - val_rmse: 0.0158 - lr: 2.5000e-04\n",
      "Epoch 778/5000\n",
      "5/5 [==============================] - 0s 12ms/step - loss: 9.0825e-06 - rmse: 0.0030 - val_loss: 2.4018e-04 - val_rmse: 0.0155 - lr: 2.5000e-04\n",
      "Epoch 779/5000\n",
      "5/5 [==============================] - 0s 12ms/step - loss: 5.8942e-06 - rmse: 0.0024 - val_loss: 2.0641e-04 - val_rmse: 0.0144 - lr: 2.5000e-04\n",
      "Epoch 780/5000\n",
      "5/5 [==============================] - 0s 13ms/step - loss: 4.8941e-06 - rmse: 0.0022 - val_loss: 2.5773e-04 - val_rmse: 0.0161 - lr: 2.5000e-04\n",
      "Epoch 781/5000\n"
     ]
    },
    {
     "name": "stdout",
     "output_type": "stream",
     "text": [
      "5/5 [==============================] - 0s 12ms/step - loss: 8.5960e-06 - rmse: 0.0029 - val_loss: 2.1078e-04 - val_rmse: 0.0145 - lr: 2.5000e-04\n",
      "Epoch 782/5000\n",
      "5/5 [==============================] - 0s 12ms/step - loss: 6.2534e-06 - rmse: 0.0025 - val_loss: 2.3153e-04 - val_rmse: 0.0152 - lr: 2.5000e-04\n",
      "Epoch 783/5000\n",
      "5/5 [==============================] - 0s 12ms/step - loss: 7.4220e-06 - rmse: 0.0027 - val_loss: 2.1895e-04 - val_rmse: 0.0148 - lr: 2.5000e-04\n",
      "Epoch 784/5000\n",
      "5/5 [==============================] - 0s 12ms/step - loss: 5.5873e-06 - rmse: 0.0024 - val_loss: 2.4528e-04 - val_rmse: 0.0157 - lr: 2.5000e-04\n",
      "Epoch 785/5000\n",
      "5/5 [==============================] - 0s 13ms/step - loss: 6.8084e-06 - rmse: 0.0026 - val_loss: 2.0908e-04 - val_rmse: 0.0145 - lr: 2.5000e-04\n",
      "Epoch 786/5000\n",
      "5/5 [==============================] - 0s 12ms/step - loss: 6.6839e-06 - rmse: 0.0026 - val_loss: 2.7088e-04 - val_rmse: 0.0165 - lr: 2.5000e-04\n",
      "Epoch 787/5000\n",
      "5/5 [==============================] - 0s 13ms/step - loss: 1.2894e-05 - rmse: 0.0036 - val_loss: 2.0535e-04 - val_rmse: 0.0143 - lr: 2.5000e-04\n",
      "Epoch 788/5000\n",
      "5/5 [==============================] - 0s 12ms/step - loss: 1.5200e-05 - rmse: 0.0039 - val_loss: 2.5117e-04 - val_rmse: 0.0158 - lr: 2.5000e-04\n",
      "Epoch 789/5000\n",
      "5/5 [==============================] - 0s 13ms/step - loss: 1.2407e-05 - rmse: 0.0035 - val_loss: 2.6965e-04 - val_rmse: 0.0164 - lr: 2.5000e-04\n",
      "Epoch 790/5000\n",
      "5/5 [==============================] - 0s 12ms/step - loss: 1.0562e-05 - rmse: 0.0032 - val_loss: 2.1682e-04 - val_rmse: 0.0147 - lr: 2.5000e-04\n",
      "Epoch 791/5000\n",
      "5/5 [==============================] - 0s 13ms/step - loss: 8.4064e-06 - rmse: 0.0029 - val_loss: 2.5277e-04 - val_rmse: 0.0159 - lr: 2.5000e-04\n",
      "Epoch 792/5000\n",
      "5/5 [==============================] - 0s 12ms/step - loss: 8.2023e-06 - rmse: 0.0029 - val_loss: 2.1226e-04 - val_rmse: 0.0146 - lr: 2.5000e-04\n",
      "Epoch 793/5000\n",
      "1/5 [=====>........................] - ETA: 0s - loss: 6.1269e-06 - rmse: 0.0025Restoring model weights from the end of the best epoch: 693.\n",
      "5/5 [==============================] - 0s 14ms/step - loss: 8.2674e-06 - rmse: 0.0029 - val_loss: 2.2458e-04 - val_rmse: 0.0150 - lr: 2.5000e-04\n",
      "Epoch 793: early stopping\n"
     ]
    }
   ],
   "source": [
    "start = datetime.datetime.now()\n",
    "history = model.fit(x_train, y_train, validation_data=[x_val, y_val], batch_size=batch_size,\n",
    "                    steps_per_epoch = STEP_SIZE_TRAIN,\n",
    "                    epochs=5000, shuffle=True, callbacks=[es, rp])\n",
    "end = datetime.datetime.now()"
   ]
  },
  {
   "cell_type": "code",
   "execution_count": 38,
   "id": "79204ff0",
   "metadata": {},
   "outputs": [
    {
     "name": "stdout",
     "output_type": "stream",
     "text": [
      "Training time: 0:00:46.321713\n"
     ]
    }
   ],
   "source": [
    "time = end - start\n",
    "print(\"Training time:\", time)"
   ]
  },
  {
   "cell_type": "code",
   "execution_count": 39,
   "id": "3fbce220",
   "metadata": {},
   "outputs": [],
   "source": [
    "storage_dir = \"D:\\\\VAWT_data\\\\flap_steady\\\\flap_steady\\\\result\\\\\"+\"20221120MLP_revised\\\\val_\"+str(val_rate)+'_'+str(test_rate)\n",
    "if not os.path.exists(storage_dir):\n",
    "    os.makedirs(storage_dir)\n",
    "os.chdir(storage_dir)"
   ]
  },
  {
   "cell_type": "code",
   "execution_count": 46,
   "id": "77cc60d1",
   "metadata": {},
   "outputs": [
    {
     "data": {
      "image/png": "[encoded data removed]",
      "text/plain": [
       "<Figure size 432x288 with 1 Axes>"
      ]
     },
     "metadata": {
      "needs_background": "light"
     },
     "output_type": "display_data"
    }
   ],
   "source": [
    "hist = history.history\n",
    "plt.plot(hist['loss'], lw=2)\n",
    "plt.plot(hist['val_loss'], lw=2)\n",
    "plt.title('Training loss (mean squared error)\\nMLP, validation rate={0}, test rate={1}'.format(val_rate, test_rate), size=15)\n",
    "plt.xlabel('Epoch', size=15)\n",
    "plt.yscale('log')\n",
    "#plt.ylim([5e-5, 1e-1])\n",
    "plt.tick_params(axis='both', which='major', labelsize=15)\n",
    "plt.grid()\n",
    "plt.legend(['Training loss','Validation loss'])\n",
    "saveName = \"TrainingLoss_test\"+str(test_rate) + \".jpg\"\n",
    "plt.savefig(saveName, dpi=300, bbox_inches='tight', pad_inches=0.3)\n",
    "plt.show()"
   ]
  },
  {
   "cell_type": "code",
   "execution_count": 47,
   "id": "2e42b6c2",
   "metadata": {},
   "outputs": [
    {
     "data": {
      "image/png": "[encoded data removed]",
      "text/plain": [
       "<Figure size 432x288 with 1 Axes>"
      ]
     },
     "metadata": {
      "needs_background": "light"
     },
     "output_type": "display_data"
    }
   ],
   "source": [
    "plt.plot(hist['rmse'], lw=2)\n",
    "plt.title('Root Mean Squared Error\\nMLP, validation rate={0}, test rate={1}'.format(val_rate, test_rate), size=15)\n",
    "plt.xlabel('Epoch', size=15)\n",
    "plt.tick_params(axis='both', which='major', labelsize=15)\n",
    "plt.show()"
   ]
  },
  {
   "cell_type": "code",
   "execution_count": 48,
   "id": "983b76cb",
   "metadata": {},
   "outputs": [
    {
     "data": {
      "image/png": "[encoded data removed]",
      "text/plain": [
       "<Figure size 432x288 with 1 Axes>"
      ]
     },
     "metadata": {
      "needs_background": "light"
     },
     "output_type": "display_data"
    }
   ],
   "source": [
    "plt.plot(hist['rmse'], lw=2)\n",
    "plt.plot(hist['val_rmse'], lw=2)\n",
    "plt.title('Root Mean Squared Error\\nMLP, validation rate={0}, test rate={1}'.format(val_rate, test_rate), size=15)\n",
    "plt.xlabel('Epoch', size=15)\n",
    "plt.yscale('log')\n",
    "plt.tick_params(axis='both', which='major', labelsize=15)\n",
    "plt.grid()\n",
    "plt.legend(['Training loss','Validation loss'])\n",
    "saveName = \"RMSE_test\"+str(test_rate) + \".jpg\"\n",
    "plt.savefig(saveName, dpi=300, bbox_inches='tight', pad_inches=0.3)\n",
    "plt.show()"
   ]
  },
  {
   "cell_type": "code",
   "execution_count": 43,
   "id": "bcbd9e68",
   "metadata": {},
   "outputs": [
    {
     "name": "stdout",
     "output_type": "stream",
     "text": [
      "4/4 [==============================] - 0s 3ms/step - loss: 7.4025e-06 - rmse: 0.0027\n"
     ]
    }
   ],
   "source": [
    "train_results = model.evaluate(x_train, y_train)"
   ]
  },
  {
   "cell_type": "code",
   "execution_count": 44,
   "id": "abc70d8b",
   "metadata": {},
   "outputs": [
    {
     "name": "stdout",
     "output_type": "stream",
     "text": [
      "1/1 [==============================] - 0s 19ms/step - loss: 7.0970e-05 - rmse: 0.0084\n"
     ]
    }
   ],
   "source": [
    "test_results = model.evaluate(x_test, y_test)"
   ]
  },
  {
   "cell_type": "code",
   "execution_count": 49,
   "id": "745feda1",
   "metadata": {},
   "outputs": [
    {
     "name": "stdout",
     "output_type": "stream",
     "text": [
      "4/4 [==============================] - 0s 2ms/step\n",
      "1/1 [==============================] - 0s 14ms/step\n",
      "1/1 [==============================] - 0s 14ms/step\n"
     ]
    }
   ],
   "source": [
    "decoded_train = model.predict(x_train)\n",
    "decoded_val = model.predict(x_val)\n",
    "decoded_test = model.predict(x_test)"
   ]
  },
  {
   "cell_type": "code",
   "execution_count": 50,
   "id": "55d01da2",
   "metadata": {},
   "outputs": [],
   "source": [
    "model_directory = \"D:\\\\TrainedModels\\\\20221119\"\n",
    "if not os.path.exists(model_directory):\n",
    "    os.makedirs(model_directory)\n",
    "os.chdir(model_directory)\n",
    "model_name = \"20221119steadyValidation_MLP_val\"+str(val_rate)+\"_test\"+str(test_rate)+ \"_\" + str(n_units) +\"units_normalized.h5\"\n",
    "model.save(model_name, overwrite=True, include_optimizer=True, save_format='h5')"
   ]
  },
  {
   "cell_type": "code",
   "execution_count": 51,
   "id": "c38a34c6",
   "metadata": {},
   "outputs": [],
   "source": [
    "error_train_abs = np.abs(decoded_train - y_train)"
   ]
  },
  {
   "cell_type": "code",
   "execution_count": 53,
   "id": "0ec2b5ff",
   "metadata": {},
   "outputs": [],
   "source": [
    "error_val_abs = np.abs(decoded_val - y_val)"
   ]
  },
  {
   "cell_type": "code",
   "execution_count": 54,
   "id": "4c0dfd6f",
   "metadata": {},
   "outputs": [],
   "source": [
    "error_test_abs = np.abs(decoded_test - y_test)"
   ]
  },
  {
   "cell_type": "code",
   "execution_count": 55,
   "id": "8e21d002",
   "metadata": {},
   "outputs": [],
   "source": [
    "os.chdir(storage_dir)"
   ]
  },
  {
   "cell_type": "code",
   "execution_count": 56,
   "id": "31fb219f",
   "metadata": {},
   "outputs": [
    {
     "name": "stdout",
     "output_type": "stream",
     "text": [
      "0.0031972238114523835\n"
     ]
    }
   ],
   "source": [
    "l2_error_train = np.sqrt(np.sum((decoded_train - y_train)**2) / np.sum(y_train**2))\n",
    "print(l2_error_train)"
   ]
  },
  {
   "cell_type": "code",
   "execution_count": 57,
   "id": "4ad1f099",
   "metadata": {},
   "outputs": [
    {
     "name": "stdout",
     "output_type": "stream",
     "text": [
      "0.01753519342433445\n"
     ]
    }
   ],
   "source": [
    "l2_error_val = np.sqrt(np.sum((decoded_val - y_val)**2) / np.sum(y_val**2))\n",
    "print(l2_error_val)"
   ]
  },
  {
   "cell_type": "code",
   "execution_count": 58,
   "id": "3770434c",
   "metadata": {},
   "outputs": [
    {
     "name": "stdout",
     "output_type": "stream",
     "text": [
      "0.009736465629930545\n"
     ]
    }
   ],
   "source": [
    "l2_error_test = np.sqrt(np.sum((decoded_test - y_test)**2) / np.sum(y_test**2))\n",
    "print(l2_error_test)"
   ]
  },
  {
   "cell_type": "code",
   "execution_count": 59,
   "id": "874ba423",
   "metadata": {},
   "outputs": [
    {
     "name": "stdout",
     "output_type": "stream",
     "text": [
      "0.03341730144580604\n"
     ]
    }
   ],
   "source": [
    "l2_error_Cd_train = np.sqrt(np.sum((decoded_train[:,0] - y_train[:,0])**2) / np.sum(y_train[:,0]**2))\n",
    "print(l2_error_Cd_train)"
   ]
  },
  {
   "cell_type": "code",
   "execution_count": 60,
   "id": "c114a5ff",
   "metadata": {},
   "outputs": [
    {
     "name": "stdout",
     "output_type": "stream",
     "text": [
      "0.0029465351379821558\n"
     ]
    }
   ],
   "source": [
    "l2_error_Cl_train = np.sqrt(np.sum((decoded_train[:,1] - y_train[:,1])**2) / np.sum(y_train[:,1]**2))\n",
    "print(l2_error_Cl_train)"
   ]
  },
  {
   "cell_type": "code",
   "execution_count": 61,
   "id": "1a86b908",
   "metadata": {},
   "outputs": [
    {
     "name": "stdout",
     "output_type": "stream",
     "text": [
      "0.07261089925011897\n"
     ]
    }
   ],
   "source": [
    "l2_error_Cd_val = np.sqrt(np.sum((decoded_val[:,0] - y_val[:,0])**2) / np.sum(y_val[:,0]**2))\n",
    "print(l2_error_Cd_val)"
   ]
  },
  {
   "cell_type": "code",
   "execution_count": 62,
   "id": "da483c57",
   "metadata": {},
   "outputs": [
    {
     "name": "stdout",
     "output_type": "stream",
     "text": [
      "0.017370743746539328\n"
     ]
    }
   ],
   "source": [
    "l2_error_Cl_val = np.sqrt(np.sum((decoded_val[:,1] - y_val[:,1])**2) / np.sum(y_val[:,1]**2))\n",
    "print(l2_error_Cl_val)"
   ]
  },
  {
   "cell_type": "code",
   "execution_count": 63,
   "id": "79a27012",
   "metadata": {},
   "outputs": [
    {
     "name": "stdout",
     "output_type": "stream",
     "text": [
      "0.055028864190276375\n"
     ]
    }
   ],
   "source": [
    "l2_error_Cd_test = np.sqrt(np.sum((decoded_test[:,0] - y_test[:,0])**2) / np.sum(y_test[:,0]**2))\n",
    "print(l2_error_Cd_test)"
   ]
  },
  {
   "cell_type": "code",
   "execution_count": 64,
   "id": "5f134968",
   "metadata": {},
   "outputs": [
    {
     "name": "stdout",
     "output_type": "stream",
     "text": [
      "0.009583304536714748\n"
     ]
    }
   ],
   "source": [
    "l2_error_Cl_test = np.sqrt(np.sum((decoded_test[:,1] - y_test[:,1])**2) / np.sum(y_test[:,1]**2))\n",
    "print(l2_error_Cl_test)"
   ]
  },
  {
   "cell_type": "code",
   "execution_count": 65,
   "id": "d9785cd7",
   "metadata": {
    "scrolled": true
   },
   "outputs": [],
   "source": [
    "l2_error_train_list = []\n",
    "for i in range(0, len(x_train)):\n",
    "    l2_error_train_data = np.sqrt(np.sum((decoded_train[i] - y_train[i])**2) / np.sum(y_train[i]**2))\n",
    "    l2_error_train_list.append(l2_error_train_data)"
   ]
  },
  {
   "cell_type": "code",
   "execution_count": 66,
   "id": "e866653d",
   "metadata": {},
   "outputs": [],
   "source": [
    "l2_error_val_list = []\n",
    "for i in range(0, len(x_val)):\n",
    "    l2_error_val_data = np.sqrt(np.sum((decoded_val[i] - y_val[i])**2) / np.sum(y_val[i]**2))\n",
    "    l2_error_val_list.append(l2_error_val_data)"
   ]
  },
  {
   "cell_type": "code",
   "execution_count": 67,
   "id": "72b6a696",
   "metadata": {
    "scrolled": true
   },
   "outputs": [],
   "source": [
    "l2_error_test_list = []\n",
    "for i in range(0, len(x_test)):\n",
    "    l2_error_test_data = np.sqrt(np.sum((decoded_test[i] - y_test[i])**2) / np.sum(y_test[i]**2))\n",
    "    l2_error_test_list.append(l2_error_test_data)"
   ]
  },
  {
   "cell_type": "code",
   "execution_count": 68,
   "id": "eeff7b3b",
   "metadata": {},
   "outputs": [],
   "source": [
    "l2_error_train_Cd_list = []\n",
    "for i in range(0, len(x_train)):\n",
    "    l2_error_train_Cd_data = np.sqrt(np.sum((decoded_train[i][0] - y_train[i][0])**2) / np.sum(y_train[i][0]**2))\n",
    "    l2_error_train_Cd_list.append(l2_error_train_Cd_data)"
   ]
  },
  {
   "cell_type": "code",
   "execution_count": 69,
   "id": "73ffd0dc",
   "metadata": {},
   "outputs": [],
   "source": [
    "l2_error_train_Cl_list = []\n",
    "for i in range(0, len(x_train)):\n",
    "    l2_error_train_Cl_data = np.sqrt(np.sum((decoded_train[i][1] - y_train[i][1])**2) / np.sum(y_train[i][1]**2))\n",
    "    l2_error_train_Cl_list.append(l2_error_train_Cl_data)"
   ]
  },
  {
   "cell_type": "code",
   "execution_count": 70,
   "id": "3f870d6b",
   "metadata": {},
   "outputs": [],
   "source": [
    "l2_error_val_Cd_list = []\n",
    "for i in range(0, len(x_val)):\n",
    "    l2_error_val_Cd_data = np.sqrt(np.sum((decoded_val[i][0] - y_val[i][0])**2) / np.sum(y_val[i][0]**2))\n",
    "    l2_error_val_Cd_list.append(l2_error_val_Cd_data)"
   ]
  },
  {
   "cell_type": "code",
   "execution_count": 71,
   "id": "c7e16aed",
   "metadata": {},
   "outputs": [],
   "source": [
    "l2_error_val_Cl_list = []\n",
    "for i in range(0, len(x_val)):\n",
    "    l2_error_val_Cl_data = np.sqrt(np.sum((decoded_val[i][1] - y_val[i][1])**2) / np.sum(y_val[i][1]**2))\n",
    "    l2_error_val_Cl_list.append(l2_error_val_Cl_data)"
   ]
  },
  {
   "cell_type": "code",
   "execution_count": 72,
   "id": "2fed79ac",
   "metadata": {},
   "outputs": [],
   "source": [
    "l2_error_test_Cd_list = []\n",
    "for i in range(0, len(x_test)):\n",
    "    l2_error_test_Cd_data = np.sqrt(np.sum((decoded_test[i][0] - y_test[i][0])**2) / np.sum(y_test[i][0]**2))\n",
    "    l2_error_test_Cd_list.append(l2_error_test_Cd_data)"
   ]
  },
  {
   "cell_type": "code",
   "execution_count": 73,
   "id": "b3b81baa",
   "metadata": {},
   "outputs": [],
   "source": [
    "l2_error_test_Cl_list = []\n",
    "for i in range(0, len(x_test)):\n",
    "    l2_error_test_Cl_data = np.sqrt(np.sum((decoded_test[i][1] - y_test[i][1])**2) / np.sum(y_test[i][1]**2))\n",
    "    l2_error_test_Cl_list.append(l2_error_test_Cl_data)"
   ]
  },
  {
   "cell_type": "code",
   "execution_count": 74,
   "id": "cd795141",
   "metadata": {},
   "outputs": [
    {
     "data": {
      "image/png": "[encoded data removed]",
      "text/plain": [
       "<Figure size 432x288 with 1 Axes>"
      ]
     },
     "metadata": {
      "needs_background": "light"
     },
     "output_type": "display_data"
    }
   ],
   "source": [
    "plt.plot(np.linspace(1,x_train.shape[0],x_train.shape[0]),\n",
    "         l2_error_train*np.ones(x_train.shape[0],), 'k', lw=2.5)\n",
    "plt.scatter(np.linspace(1, x_train.shape[0], x_train.shape[0]), l2_error_train_list, c='b')\n",
    "plt.xlabel('Index', fontsize=15)\n",
    "plt.ylabel('$L_2$ error norm', fontsize=15)\n",
    "plt.yscale('log')\n",
    "plt.title('$L_2$ error norm distribution - MLP, training\\nTest rate {0}, validation rate {1}, $\\epsilon$ = {2:0.4f}'.format(test_rate,\n",
    "                                                                                                                            val_rate,\n",
    "                                                                                                                            l2_error_train), fontsize=15)\n",
    "plt.grid()\n",
    "saveName = \"trainingErrorDistribution.jpg\"\n",
    "plt.savefig(saveName, dpi=300, bbox_inches='tight', pad_inches=0.3)\n",
    "plt.show()"
   ]
  },
  {
   "cell_type": "code",
   "execution_count": 75,
   "id": "139711b2",
   "metadata": {},
   "outputs": [
    {
     "data": {
      "image/png": "[encoded data removed]",
      "text/plain": [
       "<Figure size 432x288 with 1 Axes>"
      ]
     },
     "metadata": {
      "needs_background": "light"
     },
     "output_type": "display_data"
    }
   ],
   "source": [
    "plt.plot(np.linspace(1,x_val.shape[0],x_val.shape[0]),\n",
    "         l2_error_val*np.ones(x_val.shape[0],), 'k', lw=2.5)\n",
    "plt.scatter(np.linspace(1, x_val.shape[0], x_val.shape[0]), l2_error_val_list, c='b')\n",
    "plt.xlabel('Index', fontsize=15)\n",
    "plt.ylabel('$L_2$ error norm', fontsize=15)\n",
    "plt.yscale('log')\n",
    "plt.title('$L_2$ error norm distribution - MLP, validation\\nTest rate {0}, validation rate {1}, $\\epsilon$ = {2:0.4f}'.format(test_rate,\n",
    "                                                                                                                              val_rate,\n",
    "                                                                                                                              l2_error_val), fontsize=15)\n",
    "plt.grid()\n",
    "saveName = \"validationErrorDistribution.jpg\"\n",
    "plt.savefig(saveName, dpi=300, bbox_inches='tight', pad_inches=0.3)\n",
    "plt.show()"
   ]
  },
  {
   "cell_type": "code",
   "execution_count": 76,
   "id": "342bbd53",
   "metadata": {},
   "outputs": [
    {
     "data": {
      "image/png": "[encoded data removed]",
      "text/plain": [
       "<Figure size 432x288 with 1 Axes>"
      ]
     },
     "metadata": {
      "needs_background": "light"
     },
     "output_type": "display_data"
    }
   ],
   "source": [
    "plt.plot(np.linspace(1,x_test.shape[0],x_test.shape[0]),\n",
    "         l2_error_test*np.ones(x_test.shape[0],), 'k', lw=2.5)\n",
    "plt.scatter(np.linspace(1, x_test.shape[0], x_test.shape[0]), l2_error_test_list, c='b')\n",
    "plt.xlabel('Index', fontsize=15)\n",
    "plt.ylabel('$L_2$ error norm', fontsize=15)\n",
    "plt.yscale('log')\n",
    "plt.title('$L_2$ error norm distribution - MLP, test\\nTest rate {0}, validation rate {1}, $\\epsilon$ = {2:0.4f}'.format(test_rate,\n",
    "                                                                                                                        val_rate,\n",
    "                                                                                                                        l2_error_test), fontsize=15)\n",
    "plt.grid()\n",
    "saveName = \"testErrorDistribution.jpg\"\n",
    "plt.savefig(saveName, dpi=300, bbox_inches='tight', pad_inches=0.3)\n",
    "plt.show()"
   ]
  },
  {
   "cell_type": "code",
   "execution_count": 77,
   "id": "fbf40346",
   "metadata": {},
   "outputs": [
    {
     "data": {
      "image/png": "[encoded data removed]",
      "text/plain": [
       "<Figure size 432x288 with 1 Axes>"
      ]
     },
     "metadata": {
      "needs_background": "light"
     },
     "output_type": "display_data"
    }
   ],
   "source": [
    "plt.plot(np.linspace(1,x_train.shape[0],x_train.shape[0]),\n",
    "         l2_error_Cd_train*np.ones(x_train.shape[0],), 'k', lw=2.5)\n",
    "plt.scatter(np.linspace(1, x_train.shape[0], x_train.shape[0]), l2_error_train_Cd_list, c='b')\n",
    "plt.xlabel('Index', fontsize=15)\n",
    "plt.ylabel('$L_2$ error norm', fontsize=15)\n",
    "plt.yscale('log')\n",
    "plt.title('$L_2$ error norm distribution - MLP, training\\n$C_d$, test rate {0}, validation rate {1}, $\\epsilon$ = {2:0.4f}'.format(test_rate,\n",
    "                                                                                                                                   val_rate,\n",
    "                                                                                                                                   l2_error_Cd_train), fontsize=15)\n",
    "plt.grid()\n",
    "saveName = \"CdtrainingErrorDistribution.jpg\"\n",
    "plt.savefig(saveName, dpi=300, bbox_inches='tight', pad_inches=0.3)\n",
    "plt.show()"
   ]
  },
  {
   "cell_type": "code",
   "execution_count": 78,
   "id": "01c02929",
   "metadata": {},
   "outputs": [
    {
     "data": {
      "image/png": "[encoded data removed]",
      "text/plain": [
       "<Figure size 432x288 with 1 Axes>"
      ]
     },
     "metadata": {
      "needs_background": "light"
     },
     "output_type": "display_data"
    }
   ],
   "source": [
    "plt.plot(np.linspace(1,x_train.shape[0],x_train.shape[0]),\n",
    "         l2_error_Cl_train*np.ones(x_train.shape[0],), 'k', lw=2.5)\n",
    "plt.scatter(np.linspace(1, x_train.shape[0], x_train.shape[0]), l2_error_train_Cl_list, c='b')\n",
    "plt.xlabel('Index', fontsize=15)\n",
    "plt.ylabel('$L_2$ error norm', fontsize=15)\n",
    "plt.yscale('log')\n",
    "plt.title('$L_2$ error norm distribution - MLP, training\\n$C_l$, test rate {0}, validation rate {1}, $\\epsilon$ = {2:0.4f}'.format(test_rate, \n",
    "                                                                                                                                   val_rate,\n",
    "                                                                                                                                   l2_error_Cl_train), fontsize=15)\n",
    "plt.grid()\n",
    "saveName = \"CltrainingErrorDistribution.jpg\"\n",
    "plt.savefig(saveName, dpi=300, bbox_inches='tight', pad_inches=0.3)\n",
    "plt.show()"
   ]
  },
  {
   "cell_type": "code",
   "execution_count": 79,
   "id": "87cd339c",
   "metadata": {},
   "outputs": [
    {
     "data": {
      "image/png": "[encoded data removed]",
      "text/plain": [
       "<Figure size 432x288 with 1 Axes>"
      ]
     },
     "metadata": {
      "needs_background": "light"
     },
     "output_type": "display_data"
    }
   ],
   "source": [
    "plt.plot(np.linspace(1,x_val.shape[0],x_val.shape[0]),\n",
    "         l2_error_Cd_val*np.ones(x_val.shape[0],), 'k', lw=2.5)\n",
    "plt.scatter(np.linspace(1, x_val.shape[0], x_val.shape[0]), l2_error_val_Cd_list, c='b')\n",
    "plt.xlabel('Index', fontsize=15)\n",
    "plt.ylabel('$L_2$ error norm', fontsize=15)\n",
    "plt.yscale('log')\n",
    "plt.title('$L_2$ error norm distribution - MLP, validation\\n$C_d$, test rate {0}, validation rate {1}, $\\epsilon$ = {2:0.4f}'.format(test_rate,\n",
    "                                                                                                                                     val_rate,\n",
    "                                                                                                                                     l2_error_Cd_val), fontsize=15)\n",
    "plt.grid()\n",
    "saveName = \"CdvalidationErrorDistribution.jpg\"\n",
    "plt.savefig(saveName, dpi=300, bbox_inches='tight', pad_inches=0.3)\n",
    "plt.show()"
   ]
  },
  {
   "cell_type": "code",
   "execution_count": 80,
   "id": "a7bbd0e8",
   "metadata": {},
   "outputs": [
    {
     "data": {
      "image/png": "[encoded data removed]",
      "text/plain": [
       "<Figure size 432x288 with 1 Axes>"
      ]
     },
     "metadata": {
      "needs_background": "light"
     },
     "output_type": "display_data"
    }
   ],
   "source": [
    "plt.plot(np.linspace(1,x_val.shape[0],x_val.shape[0]),\n",
    "         l2_error_Cl_val*np.ones(x_val.shape[0],), 'k', lw=2.5)\n",
    "plt.scatter(np.linspace(1, x_val.shape[0], x_val.shape[0]), l2_error_val_Cl_list, c='b')\n",
    "plt.xlabel('Index', fontsize=15)\n",
    "plt.ylabel('$L_2$ error norm', fontsize=15)\n",
    "plt.yscale('log')\n",
    "plt.title('$L_2$ error norm distribution - MLP, validation\\n$C_l$, test rate {0}, validation rate {1}, $\\epsilon$ = {2:0.4f}'.format(test_rate, \n",
    "                                                                                                                                   val_rate,\n",
    "                                                                                                                                   l2_error_Cl_val), fontsize=15)\n",
    "plt.grid()\n",
    "saveName = \"ClvalidationErrorDistribution.jpg\"\n",
    "plt.savefig(saveName, dpi=300, bbox_inches='tight', pad_inches=0.3)\n",
    "plt.show()"
   ]
  },
  {
   "cell_type": "code",
   "execution_count": 81,
   "id": "9cde0219",
   "metadata": {},
   "outputs": [
    {
     "data": {
      "image/png": "[encoded data removed]",
      "text/plain": [
       "<Figure size 432x288 with 1 Axes>"
      ]
     },
     "metadata": {
      "needs_background": "light"
     },
     "output_type": "display_data"
    }
   ],
   "source": [
    "plt.plot(np.linspace(1,x_test.shape[0],x_test.shape[0]),\n",
    "         l2_error_Cd_test*np.ones(x_test.shape[0],), 'k', lw=2.5)\n",
    "plt.scatter(np.linspace(1, x_test.shape[0], x_test.shape[0]), l2_error_test_Cd_list, c='b')\n",
    "plt.xlabel('Index', fontsize=15)\n",
    "plt.ylabel('$L_2$ error norm', fontsize=15)\n",
    "plt.yscale('log')\n",
    "plt.title('$L_2$ error norm distribution - MLP, test\\n$C_d$, test rate {0}, validation rate {1}, $\\epsilon$ = {2:0.4f}'.format(test_rate,\n",
    "                                                                                                                               val_rate,\n",
    "                                                                                                                               l2_error_Cd_test), fontsize=15)\n",
    "plt.grid()\n",
    "saveName = \"CdtestErrorDistribution.jpg\"\n",
    "plt.savefig(saveName, dpi=300, bbox_inches='tight', pad_inches=0.3)\n",
    "plt.show()"
   ]
  },
  {
   "cell_type": "code",
   "execution_count": 82,
   "id": "9bd064b8",
   "metadata": {},
   "outputs": [
    {
     "data": {
      "image/png": "[encoded data removed]",
      "text/plain": [
       "<Figure size 432x288 with 1 Axes>"
      ]
     },
     "metadata": {
      "needs_background": "light"
     },
     "output_type": "display_data"
    }
   ],
   "source": [
    "plt.plot(np.linspace(1,x_test.shape[0],x_test.shape[0]),\n",
    "         l2_error_Cl_test*np.ones(x_test.shape[0],), 'k', lw=2.5)\n",
    "plt.scatter(np.linspace(1, x_test.shape[0], x_test.shape[0]), l2_error_test_Cl_list, c='b')\n",
    "plt.xlabel('Index', fontsize=15)\n",
    "plt.ylabel('$L_2$ error norm', fontsize=15)\n",
    "plt.yscale('log')\n",
    "plt.title('$L_2$ error norm distribution - MLP, test\\n$C_l$, test rate {0}, validation rate {1}, $\\epsilon$ = {2:0.4f}'.format(test_rate,\n",
    "                                                                                                                               val_rate,\n",
    "                                                                                                                               l2_error_Cl_test), fontsize=15)\n",
    "plt.grid()\n",
    "saveName = \"CltestErrorDistribution.jpg\"\n",
    "plt.savefig(saveName, dpi=300, bbox_inches='tight', pad_inches=0.3)\n",
    "plt.show()"
   ]
  },
  {
   "cell_type": "code",
   "execution_count": null,
   "id": "e8978795",
   "metadata": {},
   "outputs": [],
   "source": []
  }
 ],
 "metadata": {
  "kernelspec": {
   "display_name": "Python 3 (ipykernel)",
   "language": "python",
   "name": "python3"
  },
  "language_info": {
   "codemirror_mode": {
    "name": "ipython",
    "version": 3
   },
   "file_extension": ".py",
   "mimetype": "text/x-python",
   "name": "python",
   "nbconvert_exporter": "python",
   "pygments_lexer": "ipython3",
   "version": "3.9.13"
  }
 },
 "nbformat": 4,
 "nbformat_minor": 5
}
