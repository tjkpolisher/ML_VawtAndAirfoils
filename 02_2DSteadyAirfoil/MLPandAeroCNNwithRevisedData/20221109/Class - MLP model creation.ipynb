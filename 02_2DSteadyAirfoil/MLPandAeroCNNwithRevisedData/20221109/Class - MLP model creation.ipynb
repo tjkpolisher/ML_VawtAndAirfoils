{
 "cells": [
  {
   "cell_type": "code",
   "execution_count": null,
   "id": "6f4503db",
   "metadata": {},
   "outputs": [],
   "source": [
    "# 머신러닝 모델 생성 및 예측, 시각화 스크립트의 클래스화"
   ]
  },
  {
   "cell_type": "code",
   "execution_count": null,
   "id": "14873401",
   "metadata": {},
   "outputs": [],
   "source": [
    "class MLP():\n",
    "    pass"
   ]
  },
  {
   "cell_type": "code",
   "execution_count": null,
   "id": "e82e0ba5",
   "metadata": {},
   "outputs": [],
   "source": []
  },
  {
   "cell_type": "code",
   "execution_count": null,
   "id": "644e6cb2",
   "metadata": {},
   "outputs": [],
   "source": []
  },
  {
   "cell_type": "code",
   "execution_count": null,
   "id": "ddac5edb",
   "metadata": {},
   "outputs": [],
   "source": [
    "from keras import backend as K\n",
    "from keras import layers as L\n",
    "from keras.models import Model\n",
    "from keras.regularizers import l2\n",
    "from keras.callbacks import ModelCheckpoint,ReduceLROnPlateau,EarlyStopping\n",
    "\n",
    "def Make_model(train,val):\n",
    "    K.clear_session()\n",
    "\n",
    "    model_ckpt = ModelCheckpoint('model_ckpt.h5',save_best_only=True)\n",
    "    reduce_lr = ReduceLROnPlateau(patience=8,verbose=1)\n",
    "    early_stop = EarlyStopping(patience=10,verbose=2,monitor='loss')\n",
    "\n",
    "    entry = L.Input(shape=(12, 12, 3))\n",
    "    x = L.SeparableConv2D(256, (3,3), activation='relu')(entry)\n",
    "    x = L.MaxPooling2D((2, 2))(x)\n",
    "    x = L.SeparableConv2D(512, (3, 3), activation='relu', padding='same')(x)\n",
    "    x = L.MaxPooling2D((2, 2))(x)\n",
    "    x = L.SeparableConv2D(1024, (2, 2), activation='relu', padding='same')(x)\n",
    "    x = L.GlobalMaxPooling2D()(x)\n",
    "    x = L.Dense(256)(x)\n",
    "    x = L.ReLU()(x)\n",
    "    x = L.Dense(64, kernel_regularizer=l2(2e-4))(x)\n",
    "    x = L.ReLU()(x)\n",
    "    x = L.Dense(27, activation='softmax')(x)\n",
    "\n",
    "    model = Model(entry,x)\n",
    "    model.summary()\n",
    "    model.compile(loss='categorical_crossentropy',optimizer='adam',metrics=['accuracy'])\n",
    "\n",
    "    history = model.fit_generator(train,validation_data=val,epochs=600,\n",
    "                                  callbacks=[model_ckpt,reduce_lr,early_stop],verbose=2)\n",
    "    \n",
    "    model.save('save_model.h5')\n",
    "    model.save_weights('save_weight.h5')\n",
    "    \n",
    "    model_json = model.to_json()\n",
    "    with open('model_json.json', 'w') as f:\n",
    "        f.write(model_json)\n",
    "\n",
    "    model_yaml=model.to_yaml()\n",
    "    with open('model_json.yaml', 'w') as f:\n",
    "        f.write(model_yaml)\n",
    "\n",
    "    return history"
   ]
  }
 ],
 "metadata": {
  "kernelspec": {
   "display_name": "Python 3 (ipykernel)",
   "language": "python",
   "name": "python3"
  },
  "language_info": {
   "codemirror_mode": {
    "name": "ipython",
    "version": 3
   },
   "file_extension": ".py",
   "mimetype": "text/x-python",
   "name": "python",
   "nbconvert_exporter": "python",
   "pygments_lexer": "ipython3",
   "version": "3.9.13"
  }
 },
 "nbformat": 4,
 "nbformat_minor": 5
}
