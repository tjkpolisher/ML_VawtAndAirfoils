{
 "cells": [
  {
   "cell_type": "code",
   "execution_count": 1,
   "id": "5bc91fac",
   "metadata": {},
   "outputs": [],
   "source": [
    "# Validation of the steady-state simulation - Case 1: MLP\n",
    "import os\n",
    "import sys\n",
    "import numpy as np\n",
    "import pandas as pd\n",
    "import tensorflow as tf\n",
    "import matplotlib.pyplot as plt\n",
    "from sklearn.model_selection import train_test_split\n",
    "\n",
    "import datetime\n",
    "%matplotlib inline"
   ]
  },
  {
   "cell_type": "code",
   "execution_count": 2,
   "id": "d1130c26",
   "metadata": {},
   "outputs": [],
   "source": [
    "### Defining parameters and hyperparameters of the model\n",
    "\n",
    "n_kernels=200 # Number of kernels in convolutional network\n",
    "kernel_size1=3\n",
    "strides=1\n",
    "n_units=128 # Number of units in the hidden layer of the MLP network\n",
    "input_size = 100 # Size of input for the network (100 coefficients and 3 other parameters, AoA, h, beta)\n",
    "lr = 1e-03 # Learning rate of the network\n",
    "val_rate = 0.2\n",
    "test_rate=0.1 # Defines the ratio of training dataset and test dataset\n",
    "n_data = 16 # Number of txt files from which the aerodynamic coefficients are extracted\n",
    "batch_size = 20 # Mini-batch size"
   ]
  },
  {
   "cell_type": "code",
   "execution_count": 3,
   "id": "e6d84b05",
   "metadata": {},
   "outputs": [],
   "source": [
    "# Changing working directory\n",
    "\n",
    "main_directory = 'D:\\\\VAWT_data\\\\flap_steady\\\\flap_steady'\n",
    "os.chdir(main_directory)"
   ]
  },
  {
   "cell_type": "code",
   "execution_count": 4,
   "id": "3eb294db",
   "metadata": {},
   "outputs": [],
   "source": [
    "## Basic parameters\n",
    "\n",
    "c = 1 # Chord length\n",
    "h = np.array([0.01, 0.02, 0.03]) * c # Height of the Gurney flaps\n",
    "t = 0.02 * h # Thickness of the Gurney flaps\n",
    "alpha = np.linspace(0, 16, 9).reshape((9,1)) # Angles of attack\n",
    "beta = np.linspace(30, 90, 5).reshape((5,1))"
   ]
  },
  {
   "cell_type": "code",
   "execution_count": 5,
   "id": "18aaa915",
   "metadata": {},
   "outputs": [],
   "source": [
    "h = h.reshape((-1,1))\n",
    "t = t.reshape((-1,1))"
   ]
  },
  {
   "cell_type": "code",
   "execution_count": 6,
   "id": "d9745480",
   "metadata": {},
   "outputs": [],
   "source": [
    "n_alpha = alpha.shape[0] # Number of the angles of attack\n",
    "n_beta = beta.shape[0] # Number of the Gurney flap inclination\n",
    "n_h = h.shape[0] # Number of the height of the Gurney flaps\n",
    "n_cases = n_data * n_alpha # Total number of cases(Number of geometries * Number of angles of attack)"
   ]
  },
  {
   "cell_type": "code",
   "execution_count": 7,
   "id": "519040fd",
   "metadata": {},
   "outputs": [],
   "source": [
    "## Creating input dataset - mask\n",
    "mask_dir = main_directory + '\\\\aeroCNN2Mask'\n",
    "os.chdir(mask_dir)\n",
    "mask_list = os.listdir(mask_dir)\n",
    "mask_target = [file for file in mask_list if file.endswith('.csv')]"
   ]
  },
  {
   "cell_type": "code",
   "execution_count": 8,
   "id": "ce37035a",
   "metadata": {
    "scrolled": true
   },
   "outputs": [],
   "source": [
    "mask_df = pd.DataFrame()\n",
    "for file in mask_target:\n",
    "    data = pd.read_csv(file, header=None)\n",
    "    mask_df = pd.concat([mask_df, data], axis=0)"
   ]
  },
  {
   "cell_type": "code",
   "execution_count": 9,
   "id": "4e559a1e",
   "metadata": {},
   "outputs": [],
   "source": [
    "x = mask_df.iloc[:,:].values"
   ]
  },
  {
   "cell_type": "code",
   "execution_count": 10,
   "id": "27cc4550",
   "metadata": {},
   "outputs": [],
   "source": [
    "x_alligned = np.zeros((x.shape[0],x.shape[1]))\n",
    "for i in range(0,144*2):\n",
    "    if i%2==0:\n",
    "        x_alligned[i*100:(i+1)*100,:] = x[i*100:(i+1)*100,:]\n",
    "    else:\n",
    "        x_alligned[i*100:(i+1)*100,:] = x[i*100:(i+1)*100,:].T\n"
   ]
  },
  {
   "cell_type": "code",
   "execution_count": 11,
   "id": "4b2d602c",
   "metadata": {},
   "outputs": [],
   "source": [
    "x = x_alligned.reshape((16*9,2,input_size,input_size))"
   ]
  },
  {
   "cell_type": "code",
   "execution_count": 12,
   "id": "5b41130d",
   "metadata": {},
   "outputs": [],
   "source": [
    "## Creating output dataset - Cl and Cd\n",
    "files_orig = os.listdir(main_directory)\n",
    "files_target = [file for file in files_orig if file.endswith('.txt')]\n",
    "os.chdir(main_directory)"
   ]
  },
  {
   "cell_type": "code",
   "execution_count": 13,
   "id": "f4c62765",
   "metadata": {},
   "outputs": [],
   "source": [
    "target_df = pd.DataFrame()\n",
    "for file in files_target:\n",
    "    data = pd.read_table(file, header=None)\n",
    "    target_df = pd.concat([target_df, data], axis=0)"
   ]
  },
  {
   "cell_type": "code",
   "execution_count": 14,
   "id": "ac849035",
   "metadata": {},
   "outputs": [],
   "source": [
    "target_c3 = target_df.iloc[:,3].values # Cd values\n",
    "target_c4 = target_df.iloc[:,4].values# Cl values"
   ]
  },
  {
   "cell_type": "code",
   "execution_count": 15,
   "id": "93bba2d8",
   "metadata": {},
   "outputs": [],
   "source": [
    "y = np.hstack((target_c3.reshape((-1,1)), target_c4.reshape((-1,1))))"
   ]
  },
  {
   "cell_type": "code",
   "execution_count": 16,
   "id": "7444ef68",
   "metadata": {},
   "outputs": [
    {
     "data": {
      "text/plain": [
       "(144, 2)"
      ]
     },
     "execution_count": 16,
     "metadata": {},
     "output_type": "execute_result"
    }
   ],
   "source": [
    "y.shape"
   ]
  },
  {
   "cell_type": "code",
   "execution_count": 17,
   "id": "ec562b02",
   "metadata": {},
   "outputs": [],
   "source": [
    "x_train, x_test, y_train, y_test = train_test_split(x, y, test_size=test_rate, random_state=1)"
   ]
  },
  {
   "cell_type": "code",
   "execution_count": 18,
   "id": "b03d1318",
   "metadata": {},
   "outputs": [],
   "source": [
    "x_train, x_val, y_train, y_val = train_test_split(x_train, y_train, test_size=test_rate, random_state=1)"
   ]
  },
  {
   "cell_type": "code",
   "execution_count": 19,
   "id": "1bbc2f4f",
   "metadata": {},
   "outputs": [
    {
     "data": {
      "text/plain": [
       "(116, 2, 100, 100)"
      ]
     },
     "execution_count": 19,
     "metadata": {},
     "output_type": "execute_result"
    }
   ],
   "source": [
    "x_train.shape"
   ]
  },
  {
   "cell_type": "code",
   "execution_count": 20,
   "id": "e00d21f9",
   "metadata": {},
   "outputs": [
    {
     "data": {
      "text/plain": [
       "(116, 2)"
      ]
     },
     "execution_count": 20,
     "metadata": {},
     "output_type": "execute_result"
    }
   ],
   "source": [
    "y_train.shape"
   ]
  },
  {
   "cell_type": "code",
   "execution_count": 21,
   "id": "82d60c5e",
   "metadata": {},
   "outputs": [],
   "source": [
    "tf.keras.backend.set_image_data_format('channels_first')"
   ]
  },
  {
   "cell_type": "code",
   "execution_count": 22,
   "id": "37290049",
   "metadata": {},
   "outputs": [],
   "source": [
    "input_image = tf.keras.Input(shape=(2, input_size, input_size))\n",
    "\n",
    "x_conv = tf.keras.layers.Conv2D(n_kernels, (kernel_size1, kernel_size1), strides=(strides, strides),\n",
    "                                activation='relu', padding='same'\n",
    "                                )(input_image)\n",
    "x_ = tf.keras.layers.MaxPooling2D((2,2))(x_conv)\n",
    "x_conv = tf.keras.layers.Conv2D(n_kernels, (kernel_size1, kernel_size1), strides=(strides, strides),\n",
    "                                activation='relu', padding='same'\n",
    "                                )(input_image)\n",
    "x_ = tf.keras.layers.MaxPooling2D((2,2))(x_conv)\n",
    "x_conv = tf.keras.layers.Conv2D(n_kernels, (kernel_size1, kernel_size1), strides=(strides, strides),\n",
    "                                activation='relu', padding='same'\n",
    "                                )(input_image)\n",
    "x_ = tf.keras.layers.MaxPooling2D((2,2))(x_conv)\n",
    "x_flat = tf.keras.layers.Flatten()(x_)\n",
    "x_fc1 = tf.keras.layers.Dense(units=n_units, activation='relu', name='fc1')(x_flat)\n",
    "x_fc2 = tf.keras.layers.Dense(units=n_units, activation='relu', name='fc2')(x_fc1)\n",
    "x_fc3 = tf.keras.layers.Dense(units=n_units, activation='relu', name='fc3')(x_fc2)\n",
    "x_fc4 = tf.keras.layers.Dense(units=16, activation='relu', name='fc4')(x_fc3)\n",
    "\n",
    "output_data = tf.keras.layers.Dense(units=2, activation='linear', name='outputLayer')(x_fc4)\n",
    "# AeroCNN-II based\n",
    "model = tf.keras.Model(input_image, output_data)"
   ]
  },
  {
   "cell_type": "code",
   "execution_count": 23,
   "id": "e3c482f9",
   "metadata": {},
   "outputs": [
    {
     "name": "stdout",
     "output_type": "stream",
     "text": [
      "Model: \"model\"\n",
      "_________________________________________________________________\n",
      " Layer (type)                Output Shape              Param #   \n",
      "=================================================================\n",
      " input_1 (InputLayer)        [(None, 2, 100, 100)]     0         \n",
      "                                                                 \n",
      " conv2d_2 (Conv2D)           (None, 200, 100, 100)     3800      \n",
      "                                                                 \n",
      " max_pooling2d_2 (MaxPooling  (None, 200, 50, 50)      0         \n",
      " 2D)                                                             \n",
      "                                                                 \n",
      " flatten (Flatten)           (None, 500000)            0         \n",
      "                                                                 \n",
      " fc1 (Dense)                 (None, 128)               64000128  \n",
      "                                                                 \n",
      " fc2 (Dense)                 (None, 128)               16512     \n",
      "                                                                 \n",
      " fc3 (Dense)                 (None, 128)               16512     \n",
      "                                                                 \n",
      " fc4 (Dense)                 (None, 16)                2064      \n",
      "                                                                 \n",
      " outputLayer (Dense)         (None, 2)                 34        \n",
      "                                                                 \n",
      "=================================================================\n",
      "Total params: 64,039,050\n",
      "Trainable params: 64,039,050\n",
      "Non-trainable params: 0\n",
      "_________________________________________________________________\n"
     ]
    }
   ],
   "source": [
    "model.summary()"
   ]
  },
  {
   "cell_type": "code",
   "execution_count": 24,
   "id": "30f3abdd",
   "metadata": {},
   "outputs": [],
   "source": [
    "model.compile(optimizer=tf.keras.optimizers.Adam(learning_rate=lr),\n",
    "              loss = tf.keras.losses.MeanSquaredError(),\n",
    "              metrics=[tf.keras.metrics.RootMeanSquaredError(name=\"rmse\")])"
   ]
  },
  {
   "cell_type": "code",
   "execution_count": 25,
   "id": "cf477620",
   "metadata": {},
   "outputs": [],
   "source": [
    "es = tf.keras.callbacks.EarlyStopping(monitor='loss', patience=200, min_delta=6e-7,\n",
    "                                      restore_best_weights=True, verbose=1)\n",
    "rp = tf.keras.callbacks.ReduceLROnPlateau(monitor='loss', patience=100, factor=0.5,\n",
    "                                          min_delta = 1e-07, min_lr=1e-06,\n",
    "                                          verbose=1)"
   ]
  },
  {
   "cell_type": "code",
   "execution_count": 26,
   "id": "e4cc904c",
   "metadata": {},
   "outputs": [],
   "source": [
    "STEP_SIZE_TRAIN = len(x_train)//batch_size"
   ]
  },
  {
   "cell_type": "code",
   "execution_count": 27,
   "id": "17d6b26e",
   "metadata": {
    "scrolled": true
   },
   "outputs": [
    {
     "name": "stdout",
     "output_type": "stream",
     "text": [
      "Epoch 1/5000\n",
      "5/5 [==============================] - 19s 431ms/step - loss: 139.6810 - rmse: 11.8187 - val_loss: 140.6013 - val_rmse: 11.8575 - lr: 0.0010\n",
      "Epoch 2/5000\n",
      "5/5 [==============================] - 0s 73ms/step - loss: 58.1236 - rmse: 7.6239 - val_loss: 6.0322 - val_rmse: 2.4561 - lr: 0.0010\n",
      "Epoch 3/5000\n",
      "5/5 [==============================] - 0s 84ms/step - loss: 5.0731 - rmse: 2.2524 - val_loss: 0.9977 - val_rmse: 0.9988 - lr: 0.0010\n",
      "Epoch 4/5000\n",
      "5/5 [==============================] - 0s 63ms/step - loss: 1.6857 - rmse: 1.2983 - val_loss: 0.6966 - val_rmse: 0.8346 - lr: 0.0010\n",
      "Epoch 5/5000\n",
      "5/5 [==============================] - 0s 59ms/step - loss: 0.7123 - rmse: 0.8439 - val_loss: 0.6690 - val_rmse: 0.8179 - lr: 0.0010\n",
      "Epoch 6/5000\n",
      "5/5 [==============================] - 0s 68ms/step - loss: 0.6763 - rmse: 0.8224 - val_loss: 0.6669 - val_rmse: 0.8166 - lr: 0.0010\n",
      "Epoch 7/5000\n",
      "5/5 [==============================] - 0s 67ms/step - loss: 0.6647 - rmse: 0.8153 - val_loss: 0.6673 - val_rmse: 0.8169 - lr: 0.0010\n",
      "Epoch 8/5000\n",
      "5/5 [==============================] - 0s 65ms/step - loss: 0.6096 - rmse: 0.7808 - val_loss: 0.6615 - val_rmse: 0.8133 - lr: 0.0010\n",
      "Epoch 9/5000\n",
      "5/5 [==============================] - 0s 26ms/step - loss: 0.6369 - rmse: 0.7981 - val_loss: 0.6557 - val_rmse: 0.8097 - lr: 0.0010\n",
      "Epoch 10/5000\n",
      "5/5 [==============================] - 0s 26ms/step - loss: 0.7124 - rmse: 0.8441 - val_loss: 0.6642 - val_rmse: 0.8150 - lr: 0.0010\n",
      "Epoch 11/5000\n",
      "5/5 [==============================] - 0s 51ms/step - loss: 0.6041 - rmse: 0.7772 - val_loss: 0.6499 - val_rmse: 0.8062 - lr: 0.0010\n",
      "Epoch 12/5000\n",
      "5/5 [==============================] - 0s 18ms/step - loss: 0.6377 - rmse: 0.7986 - val_loss: 0.6783 - val_rmse: 0.8236 - lr: 0.0010\n",
      "Epoch 13/5000\n",
      "5/5 [==============================] - 0s 19ms/step - loss: 0.6374 - rmse: 0.7984 - val_loss: 0.6486 - val_rmse: 0.8054 - lr: 0.0010\n",
      "Epoch 14/5000\n",
      "5/5 [==============================] - 0s 18ms/step - loss: 0.6623 - rmse: 0.8138 - val_loss: 0.6662 - val_rmse: 0.8162 - lr: 0.0010\n",
      "Epoch 15/5000\n",
      "5/5 [==============================] - 0s 18ms/step - loss: 0.6245 - rmse: 0.7903 - val_loss: 0.6526 - val_rmse: 0.8078 - lr: 0.0010\n",
      "Epoch 16/5000\n",
      "5/5 [==============================] - 0s 54ms/step - loss: 0.5971 - rmse: 0.7727 - val_loss: 0.6486 - val_rmse: 0.8054 - lr: 0.0010\n",
      "Epoch 17/5000\n",
      "5/5 [==============================] - 0s 18ms/step - loss: 0.6120 - rmse: 0.7823 - val_loss: 0.6469 - val_rmse: 0.8043 - lr: 0.0010\n",
      "Epoch 18/5000\n",
      "5/5 [==============================] - 0s 18ms/step - loss: 0.6355 - rmse: 0.7972 - val_loss: 0.6386 - val_rmse: 0.7991 - lr: 0.0010\n",
      "Epoch 19/5000\n",
      "5/5 [==============================] - 0s 18ms/step - loss: 0.6167 - rmse: 0.7853 - val_loss: 0.6490 - val_rmse: 0.8056 - lr: 0.0010\n",
      "Epoch 20/5000\n",
      "5/5 [==============================] - 0s 18ms/step - loss: 0.6164 - rmse: 0.7851 - val_loss: 0.6384 - val_rmse: 0.7990 - lr: 0.0010\n",
      "Epoch 21/5000\n",
      "5/5 [==============================] - 0s 18ms/step - loss: 0.6432 - rmse: 0.8020 - val_loss: 0.6360 - val_rmse: 0.7975 - lr: 0.0010\n",
      "Epoch 22/5000\n",
      "5/5 [==============================] - 0s 18ms/step - loss: 0.6221 - rmse: 0.7888 - val_loss: 0.6364 - val_rmse: 0.7977 - lr: 0.0010\n",
      "Epoch 23/5000\n",
      "5/5 [==============================] - 0s 55ms/step - loss: 0.5430 - rmse: 0.7369 - val_loss: 0.6316 - val_rmse: 0.7947 - lr: 0.0010\n",
      "Epoch 24/5000\n",
      "5/5 [==============================] - 0s 18ms/step - loss: 0.6318 - rmse: 0.7948 - val_loss: 0.6326 - val_rmse: 0.7953 - lr: 0.0010\n",
      "Epoch 25/5000\n",
      "5/5 [==============================] - 0s 19ms/step - loss: 0.6346 - rmse: 0.7966 - val_loss: 0.6270 - val_rmse: 0.7918 - lr: 0.0010\n",
      "Epoch 26/5000\n",
      "5/5 [==============================] - 0s 19ms/step - loss: 0.5772 - rmse: 0.7598 - val_loss: 0.6273 - val_rmse: 0.7920 - lr: 0.0010\n",
      "Epoch 27/5000\n",
      "5/5 [==============================] - 0s 18ms/step - loss: 0.5768 - rmse: 0.7595 - val_loss: 0.6270 - val_rmse: 0.7918 - lr: 0.0010\n",
      "Epoch 28/5000\n",
      "5/5 [==============================] - 0s 18ms/step - loss: 0.6268 - rmse: 0.7917 - val_loss: 0.6220 - val_rmse: 0.7887 - lr: 0.0010\n",
      "Epoch 29/5000\n",
      "5/5 [==============================] - 0s 18ms/step - loss: 0.5922 - rmse: 0.7696 - val_loss: 0.6193 - val_rmse: 0.7869 - lr: 0.0010\n",
      "Epoch 30/5000\n",
      "5/5 [==============================] - 0s 18ms/step - loss: 0.5879 - rmse: 0.7667 - val_loss: 0.6179 - val_rmse: 0.7861 - lr: 0.0010\n",
      "Epoch 31/5000\n",
      "5/5 [==============================] - 0s 18ms/step - loss: 0.6013 - rmse: 0.7754 - val_loss: 0.6187 - val_rmse: 0.7866 - lr: 0.0010\n",
      "Epoch 32/5000\n",
      "5/5 [==============================] - 0s 18ms/step - loss: 0.5898 - rmse: 0.7680 - val_loss: 0.6098 - val_rmse: 0.7809 - lr: 0.0010\n",
      "Epoch 33/5000\n",
      "5/5 [==============================] - 0s 18ms/step - loss: 0.5897 - rmse: 0.7679 - val_loss: 0.6228 - val_rmse: 0.7892 - lr: 0.0010\n",
      "Epoch 34/5000\n",
      "5/5 [==============================] - 0s 18ms/step - loss: 0.6118 - rmse: 0.7822 - val_loss: 0.6033 - val_rmse: 0.7767 - lr: 0.0010\n",
      "Epoch 35/5000\n",
      "5/5 [==============================] - 0s 18ms/step - loss: 0.5666 - rmse: 0.7527 - val_loss: 0.6357 - val_rmse: 0.7973 - lr: 0.0010\n",
      "Epoch 36/5000\n",
      "5/5 [==============================] - 0s 18ms/step - loss: 0.5745 - rmse: 0.7580 - val_loss: 0.5988 - val_rmse: 0.7738 - lr: 0.0010\n",
      "Epoch 37/5000\n",
      "5/5 [==============================] - 0s 19ms/step - loss: 0.5980 - rmse: 0.7733 - val_loss: 0.6336 - val_rmse: 0.7960 - lr: 0.0010\n",
      "Epoch 38/5000\n",
      "5/5 [==============================] - 0s 18ms/step - loss: 0.5826 - rmse: 0.7633 - val_loss: 0.5961 - val_rmse: 0.7721 - lr: 0.0010\n",
      "Epoch 39/5000\n",
      "5/5 [==============================] - 0s 46ms/step - loss: 0.5118 - rmse: 0.7154 - val_loss: 0.6090 - val_rmse: 0.7804 - lr: 0.0010\n",
      "Epoch 40/5000\n",
      "5/5 [==============================] - 0s 18ms/step - loss: 0.6479 - rmse: 0.8049 - val_loss: 0.5955 - val_rmse: 0.7717 - lr: 0.0010\n",
      "Epoch 41/5000\n",
      "5/5 [==============================] - 0s 18ms/step - loss: 0.6006 - rmse: 0.7750 - val_loss: 0.6139 - val_rmse: 0.7835 - lr: 0.0010\n",
      "Epoch 42/5000\n",
      "5/5 [==============================] - 0s 18ms/step - loss: 0.5321 - rmse: 0.7294 - val_loss: 0.5882 - val_rmse: 0.7669 - lr: 0.0010\n",
      "Epoch 43/5000\n",
      "5/5 [==============================] - 0s 19ms/step - loss: 0.5666 - rmse: 0.7527 - val_loss: 0.5967 - val_rmse: 0.7725 - lr: 0.0010\n",
      "Epoch 44/5000\n",
      "5/5 [==============================] - 0s 18ms/step - loss: 0.5747 - rmse: 0.7581 - val_loss: 0.5916 - val_rmse: 0.7692 - lr: 0.0010\n",
      "Epoch 45/5000\n",
      "5/5 [==============================] - 0s 18ms/step - loss: 0.5495 - rmse: 0.7413 - val_loss: 0.5875 - val_rmse: 0.7665 - lr: 0.0010\n",
      "Epoch 46/5000\n",
      "5/5 [==============================] - 0s 18ms/step - loss: 0.5765 - rmse: 0.7593 - val_loss: 0.5849 - val_rmse: 0.7648 - lr: 0.0010\n",
      "Epoch 47/5000\n",
      "5/5 [==============================] - 0s 18ms/step - loss: 0.5552 - rmse: 0.7451 - val_loss: 0.5753 - val_rmse: 0.7585 - lr: 0.0010\n",
      "Epoch 48/5000\n",
      "5/5 [==============================] - 0s 18ms/step - loss: 0.5576 - rmse: 0.7467 - val_loss: 0.6207 - val_rmse: 0.7879 - lr: 0.0010\n",
      "Epoch 49/5000\n",
      "5/5 [==============================] - 0s 19ms/step - loss: 0.5674 - rmse: 0.7533 - val_loss: 0.5703 - val_rmse: 0.7552 - lr: 0.0010\n",
      "Epoch 50/5000\n",
      "5/5 [==============================] - 0s 19ms/step - loss: 0.6051 - rmse: 0.7779 - val_loss: 0.5916 - val_rmse: 0.7691 - lr: 0.0010\n",
      "Epoch 51/5000\n",
      "5/5 [==============================] - 0s 47ms/step - loss: 0.4942 - rmse: 0.7030 - val_loss: 0.5727 - val_rmse: 0.7568 - lr: 0.0010\n",
      "Epoch 52/5000\n",
      "5/5 [==============================] - 0s 18ms/step - loss: 0.5815 - rmse: 0.7625 - val_loss: 0.5662 - val_rmse: 0.7525 - lr: 0.0010\n",
      "Epoch 53/5000\n",
      "5/5 [==============================] - 0s 18ms/step - loss: 0.5568 - rmse: 0.7462 - val_loss: 0.6033 - val_rmse: 0.7767 - lr: 0.0010\n",
      "Epoch 54/5000\n",
      "5/5 [==============================] - 0s 18ms/step - loss: 0.5317 - rmse: 0.7291 - val_loss: 0.5552 - val_rmse: 0.7451 - lr: 0.0010\n",
      "Epoch 55/5000\n",
      "5/5 [==============================] - 0s 18ms/step - loss: 0.5524 - rmse: 0.7432 - val_loss: 0.5584 - val_rmse: 0.7473 - lr: 0.0010\n",
      "Epoch 56/5000\n",
      "5/5 [==============================] - 0s 18ms/step - loss: 0.5452 - rmse: 0.7384 - val_loss: 0.5590 - val_rmse: 0.7476 - lr: 0.0010\n"
     ]
    },
    {
     "name": "stdout",
     "output_type": "stream",
     "text": [
      "Epoch 57/5000\n",
      "5/5 [==============================] - 0s 18ms/step - loss: 0.4983 - rmse: 0.7059 - val_loss: 0.5489 - val_rmse: 0.7409 - lr: 0.0010\n",
      "Epoch 58/5000\n",
      "5/5 [==============================] - 0s 18ms/step - loss: 0.5485 - rmse: 0.7406 - val_loss: 0.5557 - val_rmse: 0.7454 - lr: 0.0010\n",
      "Epoch 59/5000\n",
      "5/5 [==============================] - 0s 18ms/step - loss: 0.5433 - rmse: 0.7371 - val_loss: 0.5472 - val_rmse: 0.7397 - lr: 0.0010\n",
      "Epoch 60/5000\n",
      "5/5 [==============================] - 0s 18ms/step - loss: 0.4994 - rmse: 0.7067 - val_loss: 0.5459 - val_rmse: 0.7388 - lr: 0.0010\n",
      "Epoch 61/5000\n",
      "5/5 [==============================] - 0s 18ms/step - loss: 0.5116 - rmse: 0.7153 - val_loss: 0.5449 - val_rmse: 0.7382 - lr: 0.0010\n",
      "Epoch 62/5000\n",
      "5/5 [==============================] - 0s 19ms/step - loss: 0.5550 - rmse: 0.7450 - val_loss: 0.5381 - val_rmse: 0.7336 - lr: 0.0010\n",
      "Epoch 63/5000\n",
      "5/5 [==============================] - 0s 48ms/step - loss: 0.4857 - rmse: 0.6969 - val_loss: 0.5407 - val_rmse: 0.7353 - lr: 0.0010\n",
      "Epoch 64/5000\n",
      "5/5 [==============================] - 0s 18ms/step - loss: 0.5155 - rmse: 0.7180 - val_loss: 0.5326 - val_rmse: 0.7298 - lr: 0.0010\n",
      "Epoch 65/5000\n",
      "5/5 [==============================] - 0s 18ms/step - loss: 0.5268 - rmse: 0.7258 - val_loss: 0.5330 - val_rmse: 0.7301 - lr: 0.0010\n",
      "Epoch 66/5000\n",
      "5/5 [==============================] - 0s 18ms/step - loss: 0.4982 - rmse: 0.7058 - val_loss: 0.5292 - val_rmse: 0.7275 - lr: 0.0010\n",
      "Epoch 67/5000\n",
      "5/5 [==============================] - 0s 19ms/step - loss: 0.5153 - rmse: 0.7178 - val_loss: 0.5258 - val_rmse: 0.7251 - lr: 0.0010\n",
      "Epoch 68/5000\n",
      "5/5 [==============================] - 0s 19ms/step - loss: 0.5006 - rmse: 0.7076 - val_loss: 0.5256 - val_rmse: 0.7250 - lr: 0.0010\n",
      "Epoch 69/5000\n",
      "5/5 [==============================] - 0s 18ms/step - loss: 0.4986 - rmse: 0.7061 - val_loss: 0.5203 - val_rmse: 0.7213 - lr: 0.0010\n",
      "Epoch 70/5000\n",
      "5/5 [==============================] - 0s 18ms/step - loss: 0.4992 - rmse: 0.7066 - val_loss: 0.5205 - val_rmse: 0.7214 - lr: 0.0010\n",
      "Epoch 71/5000\n",
      "5/5 [==============================] - 0s 18ms/step - loss: 0.5247 - rmse: 0.7244 - val_loss: 0.5159 - val_rmse: 0.7183 - lr: 0.0010\n",
      "Epoch 72/5000\n",
      "5/5 [==============================] - 0s 48ms/step - loss: 0.4642 - rmse: 0.6813 - val_loss: 0.5157 - val_rmse: 0.7181 - lr: 0.0010\n",
      "Epoch 73/5000\n",
      "5/5 [==============================] - 0s 18ms/step - loss: 0.5064 - rmse: 0.7116 - val_loss: 0.5113 - val_rmse: 0.7151 - lr: 0.0010\n",
      "Epoch 74/5000\n",
      "5/5 [==============================] - 0s 56ms/step - loss: 0.4559 - rmse: 0.6752 - val_loss: 0.5100 - val_rmse: 0.7141 - lr: 0.0010\n",
      "Epoch 75/5000\n",
      "5/5 [==============================] - 0s 18ms/step - loss: 0.5034 - rmse: 0.7095 - val_loss: 0.5066 - val_rmse: 0.7118 - lr: 0.0010\n",
      "Epoch 76/5000\n",
      "5/5 [==============================] - 0s 18ms/step - loss: 0.4609 - rmse: 0.6789 - val_loss: 0.5028 - val_rmse: 0.7091 - lr: 0.0010\n",
      "Epoch 77/5000\n",
      "5/5 [==============================] - 0s 19ms/step - loss: 0.5197 - rmse: 0.7209 - val_loss: 0.5045 - val_rmse: 0.7103 - lr: 0.0010\n",
      "Epoch 78/5000\n",
      "5/5 [==============================] - 0s 18ms/step - loss: 0.4660 - rmse: 0.6826 - val_loss: 0.4984 - val_rmse: 0.7060 - lr: 0.0010\n",
      "Epoch 79/5000\n",
      "5/5 [==============================] - 0s 18ms/step - loss: 0.4607 - rmse: 0.6787 - val_loss: 0.4964 - val_rmse: 0.7045 - lr: 0.0010\n",
      "Epoch 80/5000\n",
      "5/5 [==============================] - 0s 18ms/step - loss: 0.5288 - rmse: 0.7272 - val_loss: 0.4973 - val_rmse: 0.7052 - lr: 0.0010\n",
      "Epoch 81/5000\n",
      "5/5 [==============================] - 0s 18ms/step - loss: 0.4636 - rmse: 0.6809 - val_loss: 0.4887 - val_rmse: 0.6990 - lr: 0.0010\n",
      "Epoch 82/5000\n",
      "5/5 [==============================] - 0s 47ms/step - loss: 0.4270 - rmse: 0.6534 - val_loss: 0.4963 - val_rmse: 0.7045 - lr: 0.0010\n",
      "Epoch 83/5000\n",
      "5/5 [==============================] - 0s 18ms/step - loss: 0.4835 - rmse: 0.6953 - val_loss: 0.4828 - val_rmse: 0.6948 - lr: 0.0010\n",
      "Epoch 84/5000\n",
      "5/5 [==============================] - 0s 18ms/step - loss: 0.4648 - rmse: 0.6818 - val_loss: 0.4907 - val_rmse: 0.7005 - lr: 0.0010\n",
      "Epoch 85/5000\n",
      "5/5 [==============================] - 0s 18ms/step - loss: 0.4723 - rmse: 0.6872 - val_loss: 0.4801 - val_rmse: 0.6929 - lr: 0.0010\n",
      "Epoch 86/5000\n",
      "5/5 [==============================] - 0s 19ms/step - loss: 0.4355 - rmse: 0.6599 - val_loss: 0.4770 - val_rmse: 0.6907 - lr: 0.0010\n",
      "Epoch 87/5000\n",
      "5/5 [==============================] - 0s 18ms/step - loss: 0.4880 - rmse: 0.6985 - val_loss: 0.4899 - val_rmse: 0.6999 - lr: 0.0010\n",
      "Epoch 88/5000\n",
      "5/5 [==============================] - 0s 18ms/step - loss: 0.4368 - rmse: 0.6609 - val_loss: 0.4702 - val_rmse: 0.6857 - lr: 0.0010\n",
      "Epoch 89/5000\n",
      "5/5 [==============================] - 0s 18ms/step - loss: 0.4905 - rmse: 0.7004 - val_loss: 0.4809 - val_rmse: 0.6934 - lr: 0.0010\n",
      "Epoch 90/5000\n",
      "5/5 [==============================] - 0s 18ms/step - loss: 0.4285 - rmse: 0.6546 - val_loss: 0.4657 - val_rmse: 0.6824 - lr: 0.0010\n",
      "Epoch 91/5000\n",
      "5/5 [==============================] - 0s 19ms/step - loss: 0.4477 - rmse: 0.6691 - val_loss: 0.4691 - val_rmse: 0.6849 - lr: 0.0010\n",
      "Epoch 92/5000\n",
      "5/5 [==============================] - 0s 18ms/step - loss: 0.4494 - rmse: 0.6704 - val_loss: 0.4679 - val_rmse: 0.6840 - lr: 0.0010\n",
      "Epoch 93/5000\n",
      "5/5 [==============================] - 0s 18ms/step - loss: 0.4568 - rmse: 0.6759 - val_loss: 0.4607 - val_rmse: 0.6787 - lr: 0.0010\n",
      "Epoch 94/5000\n",
      "5/5 [==============================] - 0s 48ms/step - loss: 0.4165 - rmse: 0.6453 - val_loss: 0.4676 - val_rmse: 0.6838 - lr: 0.0010\n",
      "Epoch 95/5000\n",
      "5/5 [==============================] - 0s 18ms/step - loss: 0.4699 - rmse: 0.6855 - val_loss: 0.4550 - val_rmse: 0.6745 - lr: 0.0010\n",
      "Epoch 96/5000\n",
      "5/5 [==============================] - 0s 53ms/step - loss: 0.4155 - rmse: 0.6446 - val_loss: 0.4627 - val_rmse: 0.6802 - lr: 0.0010\n",
      "Epoch 97/5000\n",
      "5/5 [==============================] - 0s 19ms/step - loss: 0.4447 - rmse: 0.6668 - val_loss: 0.4516 - val_rmse: 0.6720 - lr: 0.0010\n",
      "Epoch 98/5000\n",
      "5/5 [==============================] - 0s 19ms/step - loss: 0.4198 - rmse: 0.6479 - val_loss: 0.4495 - val_rmse: 0.6704 - lr: 0.0010\n",
      "Epoch 99/5000\n",
      "5/5 [==============================] - 0s 18ms/step - loss: 0.4579 - rmse: 0.6767 - val_loss: 0.4513 - val_rmse: 0.6718 - lr: 0.0010\n",
      "Epoch 100/5000\n",
      "5/5 [==============================] - 0s 59ms/step - loss: 0.3698 - rmse: 0.6081 - val_loss: 0.4460 - val_rmse: 0.6679 - lr: 0.0010\n",
      "Epoch 101/5000\n",
      "5/5 [==============================] - 0s 18ms/step - loss: 0.4401 - rmse: 0.6634 - val_loss: 0.4490 - val_rmse: 0.6700 - lr: 0.0010\n",
      "Epoch 102/5000\n",
      "5/5 [==============================] - 0s 18ms/step - loss: 0.4339 - rmse: 0.6587 - val_loss: 0.4412 - val_rmse: 0.6642 - lr: 0.0010\n",
      "Epoch 103/5000\n",
      "5/5 [==============================] - 0s 19ms/step - loss: 0.4464 - rmse: 0.6682 - val_loss: 0.4395 - val_rmse: 0.6629 - lr: 0.0010\n",
      "Epoch 104/5000\n",
      "5/5 [==============================] - 0s 19ms/step - loss: 0.3702 - rmse: 0.6084 - val_loss: 0.4367 - val_rmse: 0.6608 - lr: 0.0010\n",
      "Epoch 105/5000\n",
      "5/5 [==============================] - 0s 18ms/step - loss: 0.4527 - rmse: 0.6728 - val_loss: 0.4348 - val_rmse: 0.6594 - lr: 0.0010\n",
      "Epoch 106/5000\n",
      "5/5 [==============================] - 0s 19ms/step - loss: 0.4019 - rmse: 0.6340 - val_loss: 0.4341 - val_rmse: 0.6589 - lr: 0.0010\n",
      "Epoch 107/5000\n",
      "5/5 [==============================] - 0s 18ms/step - loss: 0.3897 - rmse: 0.6243 - val_loss: 0.4295 - val_rmse: 0.6553 - lr: 0.0010\n",
      "Epoch 108/5000\n",
      "5/5 [==============================] - 0s 18ms/step - loss: 0.4196 - rmse: 0.6478 - val_loss: 0.4298 - val_rmse: 0.6556 - lr: 0.0010\n",
      "Epoch 109/5000\n",
      "5/5 [==============================] - 0s 19ms/step - loss: 0.4027 - rmse: 0.6345 - val_loss: 0.4249 - val_rmse: 0.6518 - lr: 0.0010\n",
      "Epoch 110/5000\n",
      "5/5 [==============================] - 0s 18ms/step - loss: 0.4049 - rmse: 0.6363 - val_loss: 0.4245 - val_rmse: 0.6516 - lr: 0.0010\n",
      "Epoch 111/5000\n",
      "5/5 [==============================] - 0s 18ms/step - loss: 0.4089 - rmse: 0.6394 - val_loss: 0.4211 - val_rmse: 0.6489 - lr: 0.0010\n",
      "Epoch 112/5000\n",
      "5/5 [==============================] - 0s 18ms/step - loss: 0.3954 - rmse: 0.6288 - val_loss: 0.4199 - val_rmse: 0.6480 - lr: 0.0010\n"
     ]
    },
    {
     "name": "stdout",
     "output_type": "stream",
     "text": [
      "Epoch 113/5000\n",
      "5/5 [==============================] - 0s 18ms/step - loss: 0.3923 - rmse: 0.6264 - val_loss: 0.4157 - val_rmse: 0.6448 - lr: 0.0010\n",
      "Epoch 114/5000\n",
      "5/5 [==============================] - 0s 18ms/step - loss: 0.3958 - rmse: 0.6291 - val_loss: 0.4142 - val_rmse: 0.6436 - lr: 0.0010\n",
      "Epoch 115/5000\n",
      "5/5 [==============================] - 0s 18ms/step - loss: 0.3950 - rmse: 0.6285 - val_loss: 0.4125 - val_rmse: 0.6423 - lr: 0.0010\n",
      "Epoch 116/5000\n",
      "5/5 [==============================] - 0s 48ms/step - loss: 0.3357 - rmse: 0.5794 - val_loss: 0.4089 - val_rmse: 0.6395 - lr: 0.0010\n",
      "Epoch 117/5000\n",
      "5/5 [==============================] - 0s 18ms/step - loss: 0.4608 - rmse: 0.6788 - val_loss: 0.4084 - val_rmse: 0.6391 - lr: 0.0010\n",
      "Epoch 118/5000\n",
      "5/5 [==============================] - 0s 18ms/step - loss: 0.3492 - rmse: 0.5910 - val_loss: 0.4044 - val_rmse: 0.6359 - lr: 0.0010\n",
      "Epoch 119/5000\n",
      "5/5 [==============================] - 0s 18ms/step - loss: 0.3901 - rmse: 0.6246 - val_loss: 0.4042 - val_rmse: 0.6358 - lr: 0.0010\n",
      "Epoch 120/5000\n",
      "5/5 [==============================] - 0s 18ms/step - loss: 0.3892 - rmse: 0.6239 - val_loss: 0.4004 - val_rmse: 0.6328 - lr: 0.0010\n",
      "Epoch 121/5000\n",
      "5/5 [==============================] - 0s 19ms/step - loss: 0.3686 - rmse: 0.6071 - val_loss: 0.4000 - val_rmse: 0.6325 - lr: 0.0010\n",
      "Epoch 122/5000\n",
      "5/5 [==============================] - 0s 18ms/step - loss: 0.3777 - rmse: 0.6145 - val_loss: 0.3959 - val_rmse: 0.6292 - lr: 0.0010\n",
      "Epoch 123/5000\n",
      "5/5 [==============================] - 0s 18ms/step - loss: 0.4029 - rmse: 0.6348 - val_loss: 0.3953 - val_rmse: 0.6287 - lr: 0.0010\n",
      "Epoch 124/5000\n",
      "5/5 [==============================] - 0s 18ms/step - loss: 0.3942 - rmse: 0.6278 - val_loss: 0.3924 - val_rmse: 0.6264 - lr: 0.0010\n",
      "Epoch 125/5000\n",
      "5/5 [==============================] - 0s 18ms/step - loss: 0.3459 - rmse: 0.5882 - val_loss: 0.3900 - val_rmse: 0.6245 - lr: 0.0010\n",
      "Epoch 126/5000\n",
      "5/5 [==============================] - 0s 18ms/step - loss: 0.3540 - rmse: 0.5950 - val_loss: 0.3883 - val_rmse: 0.6231 - lr: 0.0010\n",
      "Epoch 127/5000\n",
      "5/5 [==============================] - 0s 19ms/step - loss: 0.3684 - rmse: 0.6069 - val_loss: 0.3860 - val_rmse: 0.6213 - lr: 0.0010\n",
      "Epoch 128/5000\n",
      "5/5 [==============================] - 0s 19ms/step - loss: 0.3607 - rmse: 0.6006 - val_loss: 0.3838 - val_rmse: 0.6195 - lr: 0.0010\n",
      "Epoch 129/5000\n",
      "5/5 [==============================] - 0s 18ms/step - loss: 0.3600 - rmse: 0.6000 - val_loss: 0.3821 - val_rmse: 0.6182 - lr: 0.0010\n",
      "Epoch 130/5000\n",
      "5/5 [==============================] - 0s 18ms/step - loss: 0.3607 - rmse: 0.6006 - val_loss: 0.3797 - val_rmse: 0.6162 - lr: 0.0010\n",
      "Epoch 131/5000\n",
      "5/5 [==============================] - 0s 18ms/step - loss: 0.3665 - rmse: 0.6054 - val_loss: 0.3779 - val_rmse: 0.6147 - lr: 0.0010\n",
      "Epoch 132/5000\n",
      "5/5 [==============================] - 0s 18ms/step - loss: 0.3507 - rmse: 0.5922 - val_loss: 0.3754 - val_rmse: 0.6127 - lr: 0.0010\n",
      "Epoch 133/5000\n",
      "5/5 [==============================] - 0s 18ms/step - loss: 0.3665 - rmse: 0.6054 - val_loss: 0.3734 - val_rmse: 0.6111 - lr: 0.0010\n",
      "Epoch 134/5000\n",
      "5/5 [==============================] - 0s 47ms/step - loss: 0.3165 - rmse: 0.5626 - val_loss: 0.3716 - val_rmse: 0.6096 - lr: 0.0010\n",
      "Epoch 135/5000\n",
      "5/5 [==============================] - 0s 18ms/step - loss: 0.3781 - rmse: 0.6149 - val_loss: 0.3696 - val_rmse: 0.6080 - lr: 0.0010\n",
      "Epoch 136/5000\n",
      "5/5 [==============================] - 0s 18ms/step - loss: 0.3270 - rmse: 0.5718 - val_loss: 0.3671 - val_rmse: 0.6059 - lr: 0.0010\n",
      "Epoch 137/5000\n",
      "5/5 [==============================] - 0s 18ms/step - loss: 0.3735 - rmse: 0.6112 - val_loss: 0.3662 - val_rmse: 0.6052 - lr: 0.0010\n",
      "Epoch 138/5000\n",
      "5/5 [==============================] - 0s 18ms/step - loss: 0.3317 - rmse: 0.5759 - val_loss: 0.3628 - val_rmse: 0.6024 - lr: 0.0010\n",
      "Epoch 139/5000\n",
      "5/5 [==============================] - 0s 18ms/step - loss: 0.3233 - rmse: 0.5686 - val_loss: 0.3621 - val_rmse: 0.6018 - lr: 0.0010\n",
      "Epoch 140/5000\n",
      "5/5 [==============================] - 0s 18ms/step - loss: 0.3565 - rmse: 0.5971 - val_loss: 0.3591 - val_rmse: 0.5992 - lr: 0.0010\n",
      "Epoch 141/5000\n",
      "5/5 [==============================] - 0s 18ms/step - loss: 0.3325 - rmse: 0.5766 - val_loss: 0.3580 - val_rmse: 0.5983 - lr: 0.0010\n",
      "Epoch 142/5000\n",
      "5/5 [==============================] - 0s 47ms/step - loss: 0.3143 - rmse: 0.5606 - val_loss: 0.3552 - val_rmse: 0.5960 - lr: 0.0010\n",
      "Epoch 143/5000\n",
      "5/5 [==============================] - 0s 18ms/step - loss: 0.3598 - rmse: 0.5998 - val_loss: 0.3549 - val_rmse: 0.5957 - lr: 0.0010\n",
      "Epoch 144/5000\n",
      "5/5 [==============================] - 0s 18ms/step - loss: 0.3373 - rmse: 0.5807 - val_loss: 0.3513 - val_rmse: 0.5927 - lr: 0.0010\n",
      "Epoch 145/5000\n",
      "5/5 [==============================] - 0s 18ms/step - loss: 0.3245 - rmse: 0.5696 - val_loss: 0.3513 - val_rmse: 0.5927 - lr: 0.0010\n",
      "Epoch 146/5000\n",
      "5/5 [==============================] - 0s 18ms/step - loss: 0.3306 - rmse: 0.5749 - val_loss: 0.3470 - val_rmse: 0.5891 - lr: 0.0010\n",
      "Epoch 147/5000\n",
      "5/5 [==============================] - 0s 18ms/step - loss: 0.3318 - rmse: 0.5760 - val_loss: 0.3468 - val_rmse: 0.5889 - lr: 0.0010\n",
      "Epoch 148/5000\n",
      "5/5 [==============================] - 0s 18ms/step - loss: 0.3399 - rmse: 0.5830 - val_loss: 0.3434 - val_rmse: 0.5860 - lr: 0.0010\n",
      "Epoch 149/5000\n",
      "5/5 [==============================] - 0s 46ms/step - loss: 0.3062 - rmse: 0.5533 - val_loss: 0.3426 - val_rmse: 0.5854 - lr: 0.0010\n",
      "Epoch 150/5000\n",
      "5/5 [==============================] - 0s 18ms/step - loss: 0.3215 - rmse: 0.5670 - val_loss: 0.3414 - val_rmse: 0.5843 - lr: 0.0010\n",
      "Epoch 151/5000\n",
      "5/5 [==============================] - 0s 19ms/step - loss: 0.3206 - rmse: 0.5662 - val_loss: 0.3383 - val_rmse: 0.5816 - lr: 0.0010\n",
      "Epoch 152/5000\n",
      "5/5 [==============================] - 0s 18ms/step - loss: 0.3368 - rmse: 0.5803 - val_loss: 0.3378 - val_rmse: 0.5812 - lr: 0.0010\n",
      "Epoch 153/5000\n",
      "5/5 [==============================] - 0s 57ms/step - loss: 0.2947 - rmse: 0.5428 - val_loss: 0.3338 - val_rmse: 0.5777 - lr: 0.0010\n",
      "Epoch 154/5000\n",
      "5/5 [==============================] - 0s 18ms/step - loss: 0.3251 - rmse: 0.5702 - val_loss: 0.3328 - val_rmse: 0.5769 - lr: 0.0010\n",
      "Epoch 155/5000\n",
      "5/5 [==============================] - 0s 18ms/step - loss: 0.3045 - rmse: 0.5518 - val_loss: 0.3305 - val_rmse: 0.5749 - lr: 0.0010\n",
      "Epoch 156/5000\n",
      "5/5 [==============================] - 0s 18ms/step - loss: 0.3056 - rmse: 0.5528 - val_loss: 0.3299 - val_rmse: 0.5743 - lr: 0.0010\n",
      "Epoch 157/5000\n",
      "5/5 [==============================] - 0s 19ms/step - loss: 0.3242 - rmse: 0.5694 - val_loss: 0.3274 - val_rmse: 0.5722 - lr: 0.0010\n",
      "Epoch 158/5000\n",
      "5/5 [==============================] - 0s 47ms/step - loss: 0.2770 - rmse: 0.5263 - val_loss: 0.3261 - val_rmse: 0.5711 - lr: 0.0010\n",
      "Epoch 159/5000\n",
      "5/5 [==============================] - 0s 18ms/step - loss: 0.3245 - rmse: 0.5697 - val_loss: 0.3239 - val_rmse: 0.5691 - lr: 0.0010\n",
      "Epoch 160/5000\n",
      "5/5 [==============================] - 0s 18ms/step - loss: 0.3151 - rmse: 0.5613 - val_loss: 0.3214 - val_rmse: 0.5669 - lr: 0.0010\n",
      "Epoch 161/5000\n",
      "5/5 [==============================] - 0s 18ms/step - loss: 0.2852 - rmse: 0.5340 - val_loss: 0.3214 - val_rmse: 0.5669 - lr: 0.0010\n",
      "Epoch 162/5000\n",
      "5/5 [==============================] - 0s 18ms/step - loss: 0.2965 - rmse: 0.5445 - val_loss: 0.3182 - val_rmse: 0.5641 - lr: 0.0010\n",
      "Epoch 163/5000\n",
      "5/5 [==============================] - 0s 18ms/step - loss: 0.2793 - rmse: 0.5285 - val_loss: 0.3173 - val_rmse: 0.5633 - lr: 0.0010\n",
      "Epoch 164/5000\n",
      "5/5 [==============================] - 0s 18ms/step - loss: 0.3054 - rmse: 0.5526 - val_loss: 0.3149 - val_rmse: 0.5612 - lr: 0.0010\n",
      "Epoch 165/5000\n",
      "5/5 [==============================] - 0s 18ms/step - loss: 0.3146 - rmse: 0.5609 - val_loss: 0.3147 - val_rmse: 0.5610 - lr: 0.0010\n",
      "Epoch 166/5000\n",
      "5/5 [==============================] - 0s 18ms/step - loss: 0.2979 - rmse: 0.5458 - val_loss: 0.3115 - val_rmse: 0.5581 - lr: 0.0010\n",
      "Epoch 167/5000\n",
      "5/5 [==============================] - 0s 18ms/step - loss: 0.2913 - rmse: 0.5397 - val_loss: 0.3114 - val_rmse: 0.5580 - lr: 0.0010\n",
      "Epoch 168/5000\n"
     ]
    },
    {
     "name": "stdout",
     "output_type": "stream",
     "text": [
      "5/5 [==============================] - 0s 47ms/step - loss: 0.2743 - rmse: 0.5237 - val_loss: 0.3071 - val_rmse: 0.5541 - lr: 0.0010\n",
      "Epoch 169/5000\n",
      "5/5 [==============================] - 0s 18ms/step - loss: 0.2817 - rmse: 0.5307 - val_loss: 0.3076 - val_rmse: 0.5547 - lr: 0.0010\n",
      "Epoch 170/5000\n",
      "5/5 [==============================] - 0s 57ms/step - loss: 0.2706 - rmse: 0.5202 - val_loss: 0.3046 - val_rmse: 0.5519 - lr: 0.0010\n",
      "Epoch 171/5000\n",
      "5/5 [==============================] - 0s 17ms/step - loss: 0.2971 - rmse: 0.5450 - val_loss: 0.3032 - val_rmse: 0.5506 - lr: 0.0010\n",
      "Epoch 172/5000\n",
      "5/5 [==============================] - 0s 18ms/step - loss: 0.3115 - rmse: 0.5581 - val_loss: 0.3007 - val_rmse: 0.5484 - lr: 0.0010\n",
      "Epoch 173/5000\n",
      "5/5 [==============================] - 0s 56ms/step - loss: 0.2679 - rmse: 0.5176 - val_loss: 0.3011 - val_rmse: 0.5488 - lr: 0.0010\n",
      "Epoch 174/5000\n",
      "5/5 [==============================] - 0s 18ms/step - loss: 0.2737 - rmse: 0.5232 - val_loss: 0.2964 - val_rmse: 0.5444 - lr: 0.0010\n",
      "Epoch 175/5000\n",
      "5/5 [==============================] - 0s 18ms/step - loss: 0.2866 - rmse: 0.5353 - val_loss: 0.2974 - val_rmse: 0.5454 - lr: 0.0010\n",
      "Epoch 176/5000\n",
      "5/5 [==============================] - 0s 18ms/step - loss: 0.2687 - rmse: 0.5183 - val_loss: 0.2937 - val_rmse: 0.5419 - lr: 0.0010\n",
      "Epoch 177/5000\n",
      "5/5 [==============================] - 0s 18ms/step - loss: 0.2722 - rmse: 0.5218 - val_loss: 0.2945 - val_rmse: 0.5426 - lr: 0.0010\n",
      "Epoch 178/5000\n",
      "5/5 [==============================] - 0s 47ms/step - loss: 0.2670 - rmse: 0.5167 - val_loss: 0.2913 - val_rmse: 0.5397 - lr: 0.0010\n",
      "Epoch 179/5000\n",
      "5/5 [==============================] - 0s 18ms/step - loss: 0.2738 - rmse: 0.5233 - val_loss: 0.2927 - val_rmse: 0.5410 - lr: 0.0010\n",
      "Epoch 180/5000\n",
      "5/5 [==============================] - 0s 18ms/step - loss: 0.2769 - rmse: 0.5262 - val_loss: 0.2879 - val_rmse: 0.5365 - lr: 0.0010\n",
      "Epoch 181/5000\n",
      "5/5 [==============================] - 0s 19ms/step - loss: 0.2861 - rmse: 0.5348 - val_loss: 0.2892 - val_rmse: 0.5378 - lr: 0.0010\n",
      "Epoch 182/5000\n",
      "5/5 [==============================] - 0s 55ms/step - loss: 0.2378 - rmse: 0.4877 - val_loss: 0.2864 - val_rmse: 0.5352 - lr: 0.0010\n",
      "Epoch 183/5000\n",
      "5/5 [==============================] - 0s 18ms/step - loss: 0.2925 - rmse: 0.5408 - val_loss: 0.2846 - val_rmse: 0.5335 - lr: 0.0010\n",
      "Epoch 184/5000\n",
      "5/5 [==============================] - 0s 18ms/step - loss: 0.2408 - rmse: 0.4907 - val_loss: 0.2841 - val_rmse: 0.5330 - lr: 0.0010\n",
      "Epoch 185/5000\n",
      "5/5 [==============================] - 0s 18ms/step - loss: 0.2784 - rmse: 0.5276 - val_loss: 0.2819 - val_rmse: 0.5310 - lr: 0.0010\n",
      "Epoch 186/5000\n",
      "5/5 [==============================] - 0s 18ms/step - loss: 0.2536 - rmse: 0.5036 - val_loss: 0.2817 - val_rmse: 0.5307 - lr: 0.0010\n",
      "Epoch 187/5000\n",
      "5/5 [==============================] - 0s 18ms/step - loss: 0.2580 - rmse: 0.5079 - val_loss: 0.2784 - val_rmse: 0.5276 - lr: 0.0010\n",
      "Epoch 188/5000\n",
      "5/5 [==============================] - 0s 19ms/step - loss: 0.2485 - rmse: 0.4985 - val_loss: 0.2792 - val_rmse: 0.5284 - lr: 0.0010\n",
      "Epoch 189/5000\n",
      "5/5 [==============================] - 0s 18ms/step - loss: 0.2769 - rmse: 0.5262 - val_loss: 0.2750 - val_rmse: 0.5244 - lr: 0.0010\n",
      "Epoch 190/5000\n",
      "5/5 [==============================] - 0s 18ms/step - loss: 0.2439 - rmse: 0.4939 - val_loss: 0.2757 - val_rmse: 0.5250 - lr: 0.0010\n",
      "Epoch 191/5000\n",
      "5/5 [==============================] - 0s 18ms/step - loss: 0.2461 - rmse: 0.4960 - val_loss: 0.2724 - val_rmse: 0.5220 - lr: 0.0010\n",
      "Epoch 192/5000\n",
      "5/5 [==============================] - 0s 18ms/step - loss: 0.2639 - rmse: 0.5137 - val_loss: 0.2728 - val_rmse: 0.5223 - lr: 0.0010\n",
      "Epoch 193/5000\n",
      "5/5 [==============================] - 0s 19ms/step - loss: 0.2385 - rmse: 0.4884 - val_loss: 0.2704 - val_rmse: 0.5200 - lr: 0.0010\n",
      "Epoch 194/5000\n",
      "5/5 [==============================] - 0s 19ms/step - loss: 0.2612 - rmse: 0.5111 - val_loss: 0.2679 - val_rmse: 0.5176 - lr: 0.0010\n",
      "Epoch 195/5000\n",
      "5/5 [==============================] - 0s 18ms/step - loss: 0.2734 - rmse: 0.5229 - val_loss: 0.2680 - val_rmse: 0.5177 - lr: 0.0010\n",
      "Epoch 196/5000\n",
      "5/5 [==============================] - 0s 18ms/step - loss: 0.2424 - rmse: 0.4923 - val_loss: 0.2701 - val_rmse: 0.5197 - lr: 0.0010\n",
      "Epoch 197/5000\n",
      "5/5 [==============================] - 0s 18ms/step - loss: 0.2473 - rmse: 0.4973 - val_loss: 0.2615 - val_rmse: 0.5114 - lr: 0.0010\n",
      "Epoch 198/5000\n",
      "5/5 [==============================] - 0s 50ms/step - loss: 0.2294 - rmse: 0.4790 - val_loss: 0.2821 - val_rmse: 0.5311 - lr: 0.0010\n",
      "Epoch 199/5000\n",
      "5/5 [==============================] - 0s 18ms/step - loss: 0.2544 - rmse: 0.5044 - val_loss: 0.2565 - val_rmse: 0.5064 - lr: 0.0010\n",
      "Epoch 200/5000\n",
      "5/5 [==============================] - 0s 56ms/step - loss: 0.2236 - rmse: 0.4729 - val_loss: 0.2698 - val_rmse: 0.5194 - lr: 0.0010\n",
      "Epoch 201/5000\n",
      "5/5 [==============================] - 0s 18ms/step - loss: 0.2701 - rmse: 0.5197 - val_loss: 0.2537 - val_rmse: 0.5037 - lr: 0.0010\n",
      "Epoch 202/5000\n",
      "5/5 [==============================] - 0s 48ms/step - loss: 0.2227 - rmse: 0.4719 - val_loss: 0.2799 - val_rmse: 0.5290 - lr: 0.0010\n",
      "Epoch 203/5000\n",
      "5/5 [==============================] - 0s 18ms/step - loss: 0.2600 - rmse: 0.5099 - val_loss: 0.2515 - val_rmse: 0.5015 - lr: 0.0010\n",
      "Epoch 204/5000\n",
      "5/5 [==============================] - 0s 18ms/step - loss: 0.2428 - rmse: 0.4928 - val_loss: 0.2914 - val_rmse: 0.5398 - lr: 0.0010\n",
      "Epoch 205/5000\n",
      "5/5 [==============================] - 0s 18ms/step - loss: 0.2683 - rmse: 0.5180 - val_loss: 0.2567 - val_rmse: 0.5067 - lr: 0.0010\n",
      "Epoch 206/5000\n",
      "5/5 [==============================] - 0s 18ms/step - loss: 0.2245 - rmse: 0.4739 - val_loss: 0.2937 - val_rmse: 0.5419 - lr: 0.0010\n",
      "Epoch 207/5000\n",
      "5/5 [==============================] - 0s 18ms/step - loss: 0.2490 - rmse: 0.4990 - val_loss: 0.2526 - val_rmse: 0.5026 - lr: 0.0010\n",
      "Epoch 208/5000\n",
      "5/5 [==============================] - 0s 18ms/step - loss: 0.2694 - rmse: 0.5190 - val_loss: 0.2610 - val_rmse: 0.5109 - lr: 0.0010\n",
      "Epoch 209/5000\n",
      "5/5 [==============================] - 0s 18ms/step - loss: 0.2484 - rmse: 0.4984 - val_loss: 0.2433 - val_rmse: 0.4933 - lr: 0.0010\n",
      "Epoch 210/5000\n",
      "5/5 [==============================] - 0s 18ms/step - loss: 0.2255 - rmse: 0.4749 - val_loss: 0.2639 - val_rmse: 0.5137 - lr: 0.0010\n",
      "Epoch 211/5000\n",
      "5/5 [==============================] - 0s 19ms/step - loss: 0.2463 - rmse: 0.4963 - val_loss: 0.2425 - val_rmse: 0.4924 - lr: 0.0010\n",
      "Epoch 212/5000\n",
      "5/5 [==============================] - 0s 20ms/step - loss: 0.2383 - rmse: 0.4882 - val_loss: 0.2442 - val_rmse: 0.4942 - lr: 0.0010\n",
      "Epoch 213/5000\n",
      "5/5 [==============================] - 0s 18ms/step - loss: 0.2350 - rmse: 0.4848 - val_loss: 0.2484 - val_rmse: 0.4984 - lr: 0.0010\n",
      "Epoch 214/5000\n",
      "5/5 [==============================] - 0s 18ms/step - loss: 0.2296 - rmse: 0.4792 - val_loss: 0.2407 - val_rmse: 0.4906 - lr: 0.0010\n",
      "Epoch 215/5000\n",
      "5/5 [==============================] - 0s 48ms/step - loss: 0.2019 - rmse: 0.4493 - val_loss: 0.2630 - val_rmse: 0.5128 - lr: 0.0010\n",
      "Epoch 216/5000\n",
      "5/5 [==============================] - 0s 18ms/step - loss: 0.2316 - rmse: 0.4813 - val_loss: 0.2350 - val_rmse: 0.4847 - lr: 0.0010\n",
      "Epoch 217/5000\n",
      "5/5 [==============================] - 0s 18ms/step - loss: 0.2179 - rmse: 0.4668 - val_loss: 0.2458 - val_rmse: 0.4957 - lr: 0.0010\n",
      "Epoch 218/5000\n",
      "5/5 [==============================] - 0s 18ms/step - loss: 0.2315 - rmse: 0.4812 - val_loss: 0.2344 - val_rmse: 0.4842 - lr: 0.0010\n",
      "Epoch 219/5000\n",
      "5/5 [==============================] - 0s 57ms/step - loss: 0.1894 - rmse: 0.4352 - val_loss: 0.2484 - val_rmse: 0.4984 - lr: 0.0010\n",
      "Epoch 220/5000\n",
      "5/5 [==============================] - 0s 18ms/step - loss: 0.2644 - rmse: 0.5142 - val_loss: 0.2418 - val_rmse: 0.4917 - lr: 0.0010\n",
      "Epoch 221/5000\n",
      "5/5 [==============================] - 0s 18ms/step - loss: 0.2062 - rmse: 0.4541 - val_loss: 0.2296 - val_rmse: 0.4792 - lr: 0.0010\n",
      "Epoch 222/5000\n",
      "5/5 [==============================] - 0s 18ms/step - loss: 0.2315 - rmse: 0.4812 - val_loss: 0.2465 - val_rmse: 0.4965 - lr: 0.0010\n",
      "Epoch 223/5000\n"
     ]
    },
    {
     "name": "stdout",
     "output_type": "stream",
     "text": [
      "5/5 [==============================] - 0s 18ms/step - loss: 0.2099 - rmse: 0.4582 - val_loss: 0.2277 - val_rmse: 0.4771 - lr: 0.0010\n",
      "Epoch 224/5000\n",
      "5/5 [==============================] - 0s 18ms/step - loss: 0.2152 - rmse: 0.4639 - val_loss: 0.2312 - val_rmse: 0.4809 - lr: 0.0010\n",
      "Epoch 225/5000\n",
      "5/5 [==============================] - 0s 18ms/step - loss: 0.2192 - rmse: 0.4682 - val_loss: 0.2295 - val_rmse: 0.4791 - lr: 0.0010\n",
      "Epoch 226/5000\n",
      "5/5 [==============================] - 0s 18ms/step - loss: 0.2257 - rmse: 0.4751 - val_loss: 0.2235 - val_rmse: 0.4727 - lr: 0.0010\n",
      "Epoch 227/5000\n",
      "5/5 [==============================] - 0s 18ms/step - loss: 0.2209 - rmse: 0.4700 - val_loss: 0.2391 - val_rmse: 0.4890 - lr: 0.0010\n",
      "Epoch 228/5000\n",
      "5/5 [==============================] - 0s 18ms/step - loss: 0.2071 - rmse: 0.4551 - val_loss: 0.2213 - val_rmse: 0.4704 - lr: 0.0010\n",
      "Epoch 229/5000\n",
      "5/5 [==============================] - 0s 18ms/step - loss: 0.1968 - rmse: 0.4436 - val_loss: 0.2249 - val_rmse: 0.4742 - lr: 0.0010\n",
      "Epoch 230/5000\n",
      "5/5 [==============================] - 0s 18ms/step - loss: 0.2179 - rmse: 0.4668 - val_loss: 0.2233 - val_rmse: 0.4726 - lr: 0.0010\n",
      "Epoch 231/5000\n",
      "5/5 [==============================] - 0s 18ms/step - loss: 0.2134 - rmse: 0.4620 - val_loss: 0.2194 - val_rmse: 0.4684 - lr: 0.0010\n",
      "Epoch 232/5000\n",
      "5/5 [==============================] - 0s 48ms/step - loss: 0.1776 - rmse: 0.4214 - val_loss: 0.2274 - val_rmse: 0.4769 - lr: 0.0010\n",
      "Epoch 233/5000\n",
      "5/5 [==============================] - 0s 18ms/step - loss: 0.2291 - rmse: 0.4786 - val_loss: 0.2177 - val_rmse: 0.4666 - lr: 0.0010\n",
      "Epoch 234/5000\n",
      "5/5 [==============================] - 0s 19ms/step - loss: 0.2004 - rmse: 0.4477 - val_loss: 0.2220 - val_rmse: 0.4712 - lr: 0.0010\n",
      "Epoch 235/5000\n",
      "5/5 [==============================] - 0s 18ms/step - loss: 0.1929 - rmse: 0.4392 - val_loss: 0.2170 - val_rmse: 0.4658 - lr: 0.0010\n",
      "Epoch 236/5000\n",
      "5/5 [==============================] - 0s 18ms/step - loss: 0.2117 - rmse: 0.4601 - val_loss: 0.2176 - val_rmse: 0.4665 - lr: 0.0010\n",
      "Epoch 237/5000\n",
      "5/5 [==============================] - 0s 18ms/step - loss: 0.1867 - rmse: 0.4321 - val_loss: 0.2168 - val_rmse: 0.4656 - lr: 0.0010\n",
      "Epoch 238/5000\n",
      "5/5 [==============================] - 0s 18ms/step - loss: 0.1951 - rmse: 0.4417 - val_loss: 0.2133 - val_rmse: 0.4618 - lr: 0.0010\n",
      "Epoch 239/5000\n",
      "5/5 [==============================] - 0s 18ms/step - loss: 0.2098 - rmse: 0.4581 - val_loss: 0.2143 - val_rmse: 0.4630 - lr: 0.0010\n",
      "Epoch 240/5000\n",
      "5/5 [==============================] - 0s 18ms/step - loss: 0.1947 - rmse: 0.4412 - val_loss: 0.2110 - val_rmse: 0.4593 - lr: 0.0010\n",
      "Epoch 241/5000\n",
      "5/5 [==============================] - 0s 18ms/step - loss: 0.1856 - rmse: 0.4308 - val_loss: 0.2136 - val_rmse: 0.4622 - lr: 0.0010\n",
      "Epoch 242/5000\n",
      "5/5 [==============================] - 0s 19ms/step - loss: 0.2128 - rmse: 0.4613 - val_loss: 0.2090 - val_rmse: 0.4571 - lr: 0.0010\n",
      "Epoch 243/5000\n",
      "5/5 [==============================] - 0s 48ms/step - loss: 0.1703 - rmse: 0.4126 - val_loss: 0.2131 - val_rmse: 0.4616 - lr: 0.0010\n",
      "Epoch 244/5000\n",
      "5/5 [==============================] - 0s 18ms/step - loss: 0.2023 - rmse: 0.4498 - val_loss: 0.2072 - val_rmse: 0.4552 - lr: 0.0010\n",
      "Epoch 245/5000\n",
      "5/5 [==============================] - 0s 18ms/step - loss: 0.2079 - rmse: 0.4560 - val_loss: 0.2072 - val_rmse: 0.4552 - lr: 0.0010\n",
      "Epoch 246/5000\n",
      "5/5 [==============================] - 0s 18ms/step - loss: 0.1772 - rmse: 0.4210 - val_loss: 0.2075 - val_rmse: 0.4555 - lr: 0.0010\n",
      "Epoch 247/5000\n",
      "5/5 [==============================] - 0s 18ms/step - loss: 0.1948 - rmse: 0.4414 - val_loss: 0.2054 - val_rmse: 0.4532 - lr: 0.0010\n",
      "Epoch 248/5000\n",
      "5/5 [==============================] - 0s 18ms/step - loss: 0.1847 - rmse: 0.4298 - val_loss: 0.2050 - val_rmse: 0.4527 - lr: 0.0010\n",
      "Epoch 249/5000\n",
      "5/5 [==============================] - 0s 18ms/step - loss: 0.1738 - rmse: 0.4169 - val_loss: 0.2041 - val_rmse: 0.4518 - lr: 0.0010\n",
      "Epoch 250/5000\n",
      "5/5 [==============================] - 0s 18ms/step - loss: 0.1948 - rmse: 0.4413 - val_loss: 0.2022 - val_rmse: 0.4497 - lr: 0.0010\n",
      "Epoch 251/5000\n",
      "5/5 [==============================] - 0s 18ms/step - loss: 0.1765 - rmse: 0.4202 - val_loss: 0.2025 - val_rmse: 0.4500 - lr: 0.0010\n",
      "Epoch 252/5000\n",
      "5/5 [==============================] - 0s 18ms/step - loss: 0.1953 - rmse: 0.4419 - val_loss: 0.2006 - val_rmse: 0.4479 - lr: 0.0010\n",
      "Epoch 253/5000\n",
      "5/5 [==============================] - 0s 19ms/step - loss: 0.1816 - rmse: 0.4261 - val_loss: 0.2007 - val_rmse: 0.4480 - lr: 0.0010\n",
      "Epoch 254/5000\n",
      "5/5 [==============================] - 0s 47ms/step - loss: 0.1701 - rmse: 0.4125 - val_loss: 0.1995 - val_rmse: 0.4466 - lr: 0.0010\n",
      "Epoch 255/5000\n",
      "5/5 [==============================] - 0s 56ms/step - loss: 0.1681 - rmse: 0.4100 - val_loss: 0.1984 - val_rmse: 0.4454 - lr: 0.0010\n",
      "Epoch 256/5000\n",
      "5/5 [==============================] - 0s 18ms/step - loss: 0.1896 - rmse: 0.4354 - val_loss: 0.1988 - val_rmse: 0.4459 - lr: 0.0010\n",
      "Epoch 257/5000\n",
      "5/5 [==============================] - 0s 18ms/step - loss: 0.1899 - rmse: 0.4358 - val_loss: 0.1959 - val_rmse: 0.4426 - lr: 0.0010\n",
      "Epoch 258/5000\n",
      "5/5 [==============================] - 0s 18ms/step - loss: 0.1894 - rmse: 0.4351 - val_loss: 0.1968 - val_rmse: 0.4436 - lr: 0.0010\n",
      "Epoch 259/5000\n",
      "5/5 [==============================] - 0s 18ms/step - loss: 0.1827 - rmse: 0.4275 - val_loss: 0.1948 - val_rmse: 0.4414 - lr: 0.0010\n",
      "Epoch 260/5000\n",
      "5/5 [==============================] - 0s 54ms/step - loss: 0.1635 - rmse: 0.4044 - val_loss: 0.1944 - val_rmse: 0.4410 - lr: 0.0010\n",
      "Epoch 261/5000\n",
      "5/5 [==============================] - 0s 18ms/step - loss: 0.1872 - rmse: 0.4326 - val_loss: 0.1937 - val_rmse: 0.4401 - lr: 0.0010\n",
      "Epoch 262/5000\n",
      "5/5 [==============================] - 0s 55ms/step - loss: 0.1619 - rmse: 0.4024 - val_loss: 0.1931 - val_rmse: 0.4394 - lr: 0.0010\n",
      "Epoch 263/5000\n",
      "5/5 [==============================] - 0s 18ms/step - loss: 0.1777 - rmse: 0.4215 - val_loss: 0.1933 - val_rmse: 0.4396 - lr: 0.0010\n",
      "Epoch 264/5000\n",
      "5/5 [==============================] - 0s 18ms/step - loss: 0.1854 - rmse: 0.4306 - val_loss: 0.1908 - val_rmse: 0.4368 - lr: 0.0010\n",
      "Epoch 265/5000\n",
      "5/5 [==============================] - 0s 18ms/step - loss: 0.1729 - rmse: 0.4158 - val_loss: 0.1918 - val_rmse: 0.4380 - lr: 0.0010\n",
      "Epoch 266/5000\n",
      "5/5 [==============================] - 0s 18ms/step - loss: 0.1773 - rmse: 0.4210 - val_loss: 0.1901 - val_rmse: 0.4360 - lr: 0.0010\n",
      "Epoch 267/5000\n",
      "5/5 [==============================] - 0s 18ms/step - loss: 0.1867 - rmse: 0.4321 - val_loss: 0.1882 - val_rmse: 0.4338 - lr: 0.0010\n",
      "Epoch 268/5000\n",
      "5/5 [==============================] - 0s 54ms/step - loss: 0.1580 - rmse: 0.3975 - val_loss: 0.1900 - val_rmse: 0.4358 - lr: 0.0010\n",
      "Epoch 269/5000\n",
      "5/5 [==============================] - 0s 17ms/step - loss: 0.1630 - rmse: 0.4037 - val_loss: 0.1872 - val_rmse: 0.4326 - lr: 0.0010\n",
      "Epoch 270/5000\n",
      "5/5 [==============================] - 0s 18ms/step - loss: 0.1728 - rmse: 0.4156 - val_loss: 0.1881 - val_rmse: 0.4337 - lr: 0.0010\n",
      "Epoch 271/5000\n",
      "5/5 [==============================] - 0s 18ms/step - loss: 0.1692 - rmse: 0.4113 - val_loss: 0.1860 - val_rmse: 0.4313 - lr: 0.0010\n",
      "Epoch 272/5000\n",
      "5/5 [==============================] - 0s 18ms/step - loss: 0.1690 - rmse: 0.4111 - val_loss: 0.1861 - val_rmse: 0.4314 - lr: 0.0010\n",
      "Epoch 273/5000\n",
      "5/5 [==============================] - 0s 18ms/step - loss: 0.1842 - rmse: 0.4292 - val_loss: 0.1851 - val_rmse: 0.4303 - lr: 0.0010\n",
      "Epoch 274/5000\n",
      "5/5 [==============================] - 0s 18ms/step - loss: 0.1615 - rmse: 0.4019 - val_loss: 0.1842 - val_rmse: 0.4291 - lr: 0.0010\n",
      "Epoch 275/5000\n",
      "5/5 [==============================] - 0s 18ms/step - loss: 0.1644 - rmse: 0.4054 - val_loss: 0.1841 - val_rmse: 0.4291 - lr: 0.0010\n",
      "Epoch 276/5000\n",
      "5/5 [==============================] - 0s 55ms/step - loss: 0.1552 - rmse: 0.3940 - val_loss: 0.1826 - val_rmse: 0.4274 - lr: 0.0010\n",
      "Epoch 277/5000\n",
      "5/5 [==============================] - 0s 18ms/step - loss: 0.1708 - rmse: 0.4132 - val_loss: 0.1823 - val_rmse: 0.4270 - lr: 0.0010\n",
      "Epoch 278/5000\n"
     ]
    },
    {
     "name": "stdout",
     "output_type": "stream",
     "text": [
      "5/5 [==============================] - 0s 19ms/step - loss: 0.1770 - rmse: 0.4207 - val_loss: 0.1818 - val_rmse: 0.4264 - lr: 0.0010\n",
      "Epoch 279/5000\n",
      "5/5 [==============================] - 0s 46ms/step - loss: 0.1373 - rmse: 0.3705 - val_loss: 0.1808 - val_rmse: 0.4252 - lr: 0.0010\n",
      "Epoch 280/5000\n",
      "5/5 [==============================] - 0s 18ms/step - loss: 0.1540 - rmse: 0.3924 - val_loss: 0.1805 - val_rmse: 0.4249 - lr: 0.0010\n",
      "Epoch 281/5000\n",
      "5/5 [==============================] - 0s 18ms/step - loss: 0.1658 - rmse: 0.4072 - val_loss: 0.1796 - val_rmse: 0.4238 - lr: 0.0010\n",
      "Epoch 282/5000\n",
      "5/5 [==============================] - 0s 18ms/step - loss: 0.1731 - rmse: 0.4160 - val_loss: 0.1790 - val_rmse: 0.4231 - lr: 0.0010\n",
      "Epoch 283/5000\n",
      "5/5 [==============================] - 0s 18ms/step - loss: 0.1599 - rmse: 0.3999 - val_loss: 0.1782 - val_rmse: 0.4222 - lr: 0.0010\n",
      "Epoch 284/5000\n",
      "5/5 [==============================] - 0s 18ms/step - loss: 0.1640 - rmse: 0.4050 - val_loss: 0.1776 - val_rmse: 0.4215 - lr: 0.0010\n",
      "Epoch 285/5000\n",
      "5/5 [==============================] - 0s 17ms/step - loss: 0.1619 - rmse: 0.4024 - val_loss: 0.1771 - val_rmse: 0.4208 - lr: 0.0010\n",
      "Epoch 286/5000\n",
      "5/5 [==============================] - 0s 18ms/step - loss: 0.1420 - rmse: 0.3768 - val_loss: 0.1763 - val_rmse: 0.4198 - lr: 0.0010\n",
      "Epoch 287/5000\n",
      "5/5 [==============================] - 0s 18ms/step - loss: 0.1679 - rmse: 0.4097 - val_loss: 0.1760 - val_rmse: 0.4195 - lr: 0.0010\n",
      "Epoch 288/5000\n",
      "5/5 [==============================] - 0s 18ms/step - loss: 0.1587 - rmse: 0.3984 - val_loss: 0.1753 - val_rmse: 0.4187 - lr: 0.0010\n",
      "Epoch 289/5000\n",
      "5/5 [==============================] - 0s 19ms/step - loss: 0.1697 - rmse: 0.4119 - val_loss: 0.1744 - val_rmse: 0.4176 - lr: 0.0010\n",
      "Epoch 290/5000\n",
      "5/5 [==============================] - 0s 18ms/step - loss: 0.1475 - rmse: 0.3841 - val_loss: 0.1741 - val_rmse: 0.4172 - lr: 0.0010\n",
      "Epoch 291/5000\n",
      "5/5 [==============================] - 0s 18ms/step - loss: 0.1515 - rmse: 0.3893 - val_loss: 0.1732 - val_rmse: 0.4162 - lr: 0.0010\n",
      "Epoch 292/5000\n",
      "5/5 [==============================] - 0s 18ms/step - loss: 0.1605 - rmse: 0.4006 - val_loss: 0.1731 - val_rmse: 0.4160 - lr: 0.0010\n",
      "Epoch 293/5000\n",
      "5/5 [==============================] - 0s 18ms/step - loss: 0.1473 - rmse: 0.3837 - val_loss: 0.1720 - val_rmse: 0.4148 - lr: 0.0010\n",
      "Epoch 294/5000\n",
      "5/5 [==============================] - 0s 18ms/step - loss: 0.1549 - rmse: 0.3936 - val_loss: 0.1720 - val_rmse: 0.4147 - lr: 0.0010\n",
      "Epoch 295/5000\n",
      "5/5 [==============================] - 0s 18ms/step - loss: 0.1516 - rmse: 0.3893 - val_loss: 0.1709 - val_rmse: 0.4134 - lr: 0.0010\n",
      "Epoch 296/5000\n",
      "5/5 [==============================] - 0s 18ms/step - loss: 0.1498 - rmse: 0.3871 - val_loss: 0.1707 - val_rmse: 0.4131 - lr: 0.0010\n",
      "Epoch 297/5000\n",
      "5/5 [==============================] - 0s 18ms/step - loss: 0.1540 - rmse: 0.3924 - val_loss: 0.1699 - val_rmse: 0.4122 - lr: 0.0010\n",
      "Epoch 298/5000\n",
      "5/5 [==============================] - 0s 18ms/step - loss: 0.1490 - rmse: 0.3860 - val_loss: 0.1696 - val_rmse: 0.4119 - lr: 0.0010\n",
      "Epoch 299/5000\n",
      "5/5 [==============================] - 0s 18ms/step - loss: 0.1579 - rmse: 0.3974 - val_loss: 0.1686 - val_rmse: 0.4106 - lr: 0.0010\n",
      "Epoch 300/5000\n",
      "5/5 [==============================] - 0s 18ms/step - loss: 0.1485 - rmse: 0.3854 - val_loss: 0.1685 - val_rmse: 0.4105 - lr: 0.0010\n",
      "Epoch 301/5000\n",
      "5/5 [==============================] - 0s 18ms/step - loss: 0.1448 - rmse: 0.3805 - val_loss: 0.1676 - val_rmse: 0.4094 - lr: 0.0010\n",
      "Epoch 302/5000\n",
      "5/5 [==============================] - 0s 18ms/step - loss: 0.1501 - rmse: 0.3875 - val_loss: 0.1673 - val_rmse: 0.4090 - lr: 0.0010\n",
      "Epoch 303/5000\n",
      "5/5 [==============================] - 0s 18ms/step - loss: 0.1547 - rmse: 0.3933 - val_loss: 0.1667 - val_rmse: 0.4083 - lr: 0.0010\n",
      "Epoch 304/5000\n",
      "5/5 [==============================] - 0s 18ms/step - loss: 0.1443 - rmse: 0.3798 - val_loss: 0.1660 - val_rmse: 0.4074 - lr: 0.0010\n",
      "Epoch 305/5000\n",
      "5/5 [==============================] - 0s 18ms/step - loss: 0.1485 - rmse: 0.3854 - val_loss: 0.1657 - val_rmse: 0.4071 - lr: 0.0010\n",
      "Epoch 306/5000\n",
      "5/5 [==============================] - 0s 18ms/step - loss: 0.1486 - rmse: 0.3855 - val_loss: 0.1646 - val_rmse: 0.4057 - lr: 0.0010\n",
      "Epoch 307/5000\n",
      "5/5 [==============================] - 0s 18ms/step - loss: 0.1462 - rmse: 0.3823 - val_loss: 0.1650 - val_rmse: 0.4062 - lr: 0.0010\n",
      "Epoch 308/5000\n",
      "5/5 [==============================] - 0s 18ms/step - loss: 0.1458 - rmse: 0.3818 - val_loss: 0.1636 - val_rmse: 0.4044 - lr: 0.0010\n",
      "Epoch 309/5000\n",
      "5/5 [==============================] - 0s 18ms/step - loss: 0.1405 - rmse: 0.3749 - val_loss: 0.1639 - val_rmse: 0.4049 - lr: 0.0010\n",
      "Epoch 310/5000\n",
      "5/5 [==============================] - 0s 18ms/step - loss: 0.1615 - rmse: 0.4019 - val_loss: 0.1627 - val_rmse: 0.4034 - lr: 0.0010\n",
      "Epoch 311/5000\n",
      "5/5 [==============================] - 0s 18ms/step - loss: 0.1373 - rmse: 0.3706 - val_loss: 0.1633 - val_rmse: 0.4041 - lr: 0.0010\n",
      "Epoch 312/5000\n",
      "5/5 [==============================] - 0s 18ms/step - loss: 0.1408 - rmse: 0.3753 - val_loss: 0.1614 - val_rmse: 0.4017 - lr: 0.0010\n",
      "Epoch 313/5000\n",
      "5/5 [==============================] - 0s 18ms/step - loss: 0.1475 - rmse: 0.3841 - val_loss: 0.1628 - val_rmse: 0.4035 - lr: 0.0010\n",
      "Epoch 314/5000\n",
      "5/5 [==============================] - 0s 47ms/step - loss: 0.1322 - rmse: 0.3636 - val_loss: 0.1605 - val_rmse: 0.4007 - lr: 0.0010\n",
      "Epoch 315/5000\n",
      "5/5 [==============================] - 0s 18ms/step - loss: 0.1461 - rmse: 0.3823 - val_loss: 0.1599 - val_rmse: 0.3999 - lr: 0.0010\n",
      "Epoch 316/5000\n",
      "5/5 [==============================] - 0s 18ms/step - loss: 0.1552 - rmse: 0.3939 - val_loss: 0.1599 - val_rmse: 0.3999 - lr: 0.0010\n",
      "Epoch 317/5000\n",
      "5/5 [==============================] - 0s 18ms/step - loss: 0.1328 - rmse: 0.3644 - val_loss: 0.1595 - val_rmse: 0.3994 - lr: 0.0010\n",
      "Epoch 318/5000\n",
      "5/5 [==============================] - 0s 18ms/step - loss: 0.1407 - rmse: 0.3751 - val_loss: 0.1599 - val_rmse: 0.3998 - lr: 0.0010\n",
      "Epoch 319/5000\n",
      "5/5 [==============================] - 0s 18ms/step - loss: 0.1495 - rmse: 0.3867 - val_loss: 0.1585 - val_rmse: 0.3981 - lr: 0.0010\n",
      "Epoch 320/5000\n",
      "5/5 [==============================] - 0s 18ms/step - loss: 0.1481 - rmse: 0.3848 - val_loss: 0.1588 - val_rmse: 0.3985 - lr: 0.0010\n",
      "Epoch 321/5000\n",
      "5/5 [==============================] - 0s 53ms/step - loss: 0.1176 - rmse: 0.3429 - val_loss: 0.1582 - val_rmse: 0.3977 - lr: 0.0010\n",
      "Epoch 322/5000\n",
      "5/5 [==============================] - 0s 18ms/step - loss: 0.1556 - rmse: 0.3945 - val_loss: 0.1577 - val_rmse: 0.3971 - lr: 0.0010\n",
      "Epoch 323/5000\n",
      "5/5 [==============================] - 0s 18ms/step - loss: 0.1326 - rmse: 0.3642 - val_loss: 0.1576 - val_rmse: 0.3970 - lr: 0.0010\n",
      "Epoch 324/5000\n",
      "5/5 [==============================] - 0s 18ms/step - loss: 0.1343 - rmse: 0.3665 - val_loss: 0.1568 - val_rmse: 0.3960 - lr: 0.0010\n",
      "Epoch 325/5000\n",
      "5/5 [==============================] - 0s 18ms/step - loss: 0.1411 - rmse: 0.3757 - val_loss: 0.1569 - val_rmse: 0.3961 - lr: 0.0010\n",
      "Epoch 326/5000\n",
      "5/5 [==============================] - 0s 18ms/step - loss: 0.1284 - rmse: 0.3583 - val_loss: 0.1560 - val_rmse: 0.3949 - lr: 0.0010\n",
      "Epoch 327/5000\n",
      "5/5 [==============================] - 0s 18ms/step - loss: 0.1389 - rmse: 0.3726 - val_loss: 0.1561 - val_rmse: 0.3951 - lr: 0.0010\n",
      "Epoch 328/5000\n",
      "5/5 [==============================] - 0s 18ms/step - loss: 0.1299 - rmse: 0.3604 - val_loss: 0.1552 - val_rmse: 0.3940 - lr: 0.0010\n",
      "Epoch 329/5000\n",
      "5/5 [==============================] - 0s 19ms/step - loss: 0.1432 - rmse: 0.3785 - val_loss: 0.1553 - val_rmse: 0.3941 - lr: 0.0010\n",
      "Epoch 330/5000\n",
      "5/5 [==============================] - 0s 18ms/step - loss: 0.1410 - rmse: 0.3755 - val_loss: 0.1545 - val_rmse: 0.3931 - lr: 0.0010\n",
      "Epoch 331/5000\n",
      "5/5 [==============================] - 0s 18ms/step - loss: 0.1316 - rmse: 0.3628 - val_loss: 0.1545 - val_rmse: 0.3930 - lr: 0.0010\n",
      "Epoch 332/5000\n",
      "5/5 [==============================] - 0s 19ms/step - loss: 0.1431 - rmse: 0.3782 - val_loss: 0.1538 - val_rmse: 0.3921 - lr: 0.0010\n",
      "Epoch 333/5000\n"
     ]
    },
    {
     "name": "stdout",
     "output_type": "stream",
     "text": [
      "5/5 [==============================] - 0s 18ms/step - loss: 0.1200 - rmse: 0.3464 - val_loss: 0.1536 - val_rmse: 0.3920 - lr: 0.0010\n",
      "Epoch 334/5000\n",
      "5/5 [==============================] - 0s 18ms/step - loss: 0.1426 - rmse: 0.3777 - val_loss: 0.1533 - val_rmse: 0.3916 - lr: 0.0010\n",
      "Epoch 335/5000\n",
      "5/5 [==============================] - 0s 18ms/step - loss: 0.1371 - rmse: 0.3703 - val_loss: 0.1525 - val_rmse: 0.3906 - lr: 0.0010\n",
      "Epoch 336/5000\n",
      "5/5 [==============================] - 0s 18ms/step - loss: 0.1339 - rmse: 0.3660 - val_loss: 0.1526 - val_rmse: 0.3907 - lr: 0.0010\n",
      "Epoch 337/5000\n",
      "5/5 [==============================] - 0s 18ms/step - loss: 0.1274 - rmse: 0.3569 - val_loss: 0.1520 - val_rmse: 0.3898 - lr: 0.0010\n",
      "Epoch 338/5000\n",
      "5/5 [==============================] - 0s 18ms/step - loss: 0.1336 - rmse: 0.3655 - val_loss: 0.1518 - val_rmse: 0.3896 - lr: 0.0010\n",
      "Epoch 339/5000\n",
      "5/5 [==============================] - 0s 18ms/step - loss: 0.1329 - rmse: 0.3645 - val_loss: 0.1510 - val_rmse: 0.3886 - lr: 0.0010\n",
      "Epoch 340/5000\n",
      "5/5 [==============================] - 0s 18ms/step - loss: 0.1302 - rmse: 0.3608 - val_loss: 0.1512 - val_rmse: 0.3889 - lr: 0.0010\n",
      "Epoch 341/5000\n",
      "5/5 [==============================] - 0s 18ms/step - loss: 0.1382 - rmse: 0.3718 - val_loss: 0.1507 - val_rmse: 0.3881 - lr: 0.0010\n",
      "Epoch 342/5000\n",
      "5/5 [==============================] - 0s 18ms/step - loss: 0.1325 - rmse: 0.3640 - val_loss: 0.1503 - val_rmse: 0.3877 - lr: 0.0010\n",
      "Epoch 343/5000\n",
      "5/5 [==============================] - 0s 18ms/step - loss: 0.1218 - rmse: 0.3490 - val_loss: 0.1498 - val_rmse: 0.3871 - lr: 0.0010\n",
      "Epoch 344/5000\n",
      "5/5 [==============================] - 0s 19ms/step - loss: 0.1429 - rmse: 0.3780 - val_loss: 0.1496 - val_rmse: 0.3867 - lr: 0.0010\n",
      "Epoch 345/5000\n",
      "5/5 [==============================] - 0s 18ms/step - loss: 0.1341 - rmse: 0.3661 - val_loss: 0.1493 - val_rmse: 0.3864 - lr: 0.0010\n",
      "Epoch 346/5000\n",
      "5/5 [==============================] - 0s 18ms/step - loss: 0.1188 - rmse: 0.3447 - val_loss: 0.1490 - val_rmse: 0.3860 - lr: 0.0010\n",
      "Epoch 347/5000\n",
      "5/5 [==============================] - 0s 18ms/step - loss: 0.1321 - rmse: 0.3634 - val_loss: 0.1488 - val_rmse: 0.3857 - lr: 0.0010\n",
      "Epoch 348/5000\n",
      "5/5 [==============================] - 0s 18ms/step - loss: 0.1327 - rmse: 0.3643 - val_loss: 0.1483 - val_rmse: 0.3851 - lr: 0.0010\n",
      "Epoch 349/5000\n",
      "5/5 [==============================] - 0s 19ms/step - loss: 0.1323 - rmse: 0.3637 - val_loss: 0.1479 - val_rmse: 0.3846 - lr: 0.0010\n",
      "Epoch 350/5000\n",
      "5/5 [==============================] - 0s 18ms/step - loss: 0.1295 - rmse: 0.3599 - val_loss: 0.1475 - val_rmse: 0.3841 - lr: 0.0010\n",
      "Epoch 351/5000\n",
      "5/5 [==============================] - 0s 18ms/step - loss: 0.1211 - rmse: 0.3481 - val_loss: 0.1474 - val_rmse: 0.3840 - lr: 0.0010\n",
      "Epoch 352/5000\n",
      "5/5 [==============================] - 0s 18ms/step - loss: 0.1261 - rmse: 0.3550 - val_loss: 0.1471 - val_rmse: 0.3835 - lr: 0.0010\n",
      "Epoch 353/5000\n",
      "5/5 [==============================] - 0s 18ms/step - loss: 0.1363 - rmse: 0.3692 - val_loss: 0.1466 - val_rmse: 0.3829 - lr: 0.0010\n",
      "Epoch 354/5000\n",
      "5/5 [==============================] - 0s 18ms/step - loss: 0.1247 - rmse: 0.3531 - val_loss: 0.1465 - val_rmse: 0.3827 - lr: 0.0010\n",
      "Epoch 355/5000\n",
      "5/5 [==============================] - 0s 19ms/step - loss: 0.1260 - rmse: 0.3549 - val_loss: 0.1461 - val_rmse: 0.3822 - lr: 0.0010\n",
      "Epoch 356/5000\n",
      "5/5 [==============================] - 0s 18ms/step - loss: 0.1250 - rmse: 0.3535 - val_loss: 0.1461 - val_rmse: 0.3822 - lr: 0.0010\n",
      "Epoch 357/5000\n",
      "5/5 [==============================] - 0s 18ms/step - loss: 0.1274 - rmse: 0.3570 - val_loss: 0.1454 - val_rmse: 0.3814 - lr: 0.0010\n",
      "Epoch 358/5000\n",
      "5/5 [==============================] - 0s 47ms/step - loss: 0.1148 - rmse: 0.3388 - val_loss: 0.1457 - val_rmse: 0.3817 - lr: 0.0010\n",
      "Epoch 359/5000\n",
      "5/5 [==============================] - 0s 18ms/step - loss: 0.1386 - rmse: 0.3722 - val_loss: 0.1448 - val_rmse: 0.3806 - lr: 0.0010\n",
      "Epoch 360/5000\n",
      "5/5 [==============================] - 0s 18ms/step - loss: 0.1275 - rmse: 0.3570 - val_loss: 0.1451 - val_rmse: 0.3809 - lr: 0.0010\n",
      "Epoch 361/5000\n",
      "5/5 [==============================] - 0s 18ms/step - loss: 0.1248 - rmse: 0.3533 - val_loss: 0.1443 - val_rmse: 0.3799 - lr: 0.0010\n",
      "Epoch 362/5000\n",
      "5/5 [==============================] - 0s 18ms/step - loss: 0.1169 - rmse: 0.3419 - val_loss: 0.1444 - val_rmse: 0.3800 - lr: 0.0010\n",
      "Epoch 363/5000\n",
      "5/5 [==============================] - 0s 18ms/step - loss: 0.1366 - rmse: 0.3696 - val_loss: 0.1438 - val_rmse: 0.3792 - lr: 0.0010\n",
      "Epoch 364/5000\n",
      "5/5 [==============================] - 0s 18ms/step - loss: 0.1273 - rmse: 0.3568 - val_loss: 0.1438 - val_rmse: 0.3793 - lr: 0.0010\n",
      "Epoch 365/5000\n",
      "5/5 [==============================] - 0s 52ms/step - loss: 0.1118 - rmse: 0.3344 - val_loss: 0.1435 - val_rmse: 0.3788 - lr: 0.0010\n",
      "Epoch 366/5000\n",
      "5/5 [==============================] - 0s 18ms/step - loss: 0.1315 - rmse: 0.3627 - val_loss: 0.1433 - val_rmse: 0.3785 - lr: 0.0010\n",
      "Epoch 367/5000\n",
      "5/5 [==============================] - 0s 18ms/step - loss: 0.1205 - rmse: 0.3471 - val_loss: 0.1430 - val_rmse: 0.3781 - lr: 0.0010\n",
      "Epoch 368/5000\n",
      "5/5 [==============================] - 0s 19ms/step - loss: 0.1132 - rmse: 0.3365 - val_loss: 0.1429 - val_rmse: 0.3780 - lr: 0.0010\n",
      "Epoch 369/5000\n",
      "5/5 [==============================] - 0s 18ms/step - loss: 0.1341 - rmse: 0.3662 - val_loss: 0.1425 - val_rmse: 0.3775 - lr: 0.0010\n",
      "Epoch 370/5000\n",
      "5/5 [==============================] - 0s 18ms/step - loss: 0.1145 - rmse: 0.3384 - val_loss: 0.1426 - val_rmse: 0.3776 - lr: 0.0010\n",
      "Epoch 371/5000\n",
      "5/5 [==============================] - 0s 18ms/step - loss: 0.1401 - rmse: 0.3744 - val_loss: 0.1418 - val_rmse: 0.3766 - lr: 0.0010\n",
      "Epoch 372/5000\n",
      "5/5 [==============================] - 0s 18ms/step - loss: 0.1172 - rmse: 0.3423 - val_loss: 0.1420 - val_rmse: 0.3769 - lr: 0.0010\n",
      "Epoch 373/5000\n",
      "5/5 [==============================] - 0s 18ms/step - loss: 0.1232 - rmse: 0.3510 - val_loss: 0.1412 - val_rmse: 0.3758 - lr: 0.0010\n",
      "Epoch 374/5000\n",
      "5/5 [==============================] - 0s 18ms/step - loss: 0.1145 - rmse: 0.3384 - val_loss: 0.1419 - val_rmse: 0.3768 - lr: 0.0010\n",
      "Epoch 375/5000\n",
      "5/5 [==============================] - 0s 18ms/step - loss: 0.1237 - rmse: 0.3517 - val_loss: 0.1401 - val_rmse: 0.3742 - lr: 0.0010\n",
      "Epoch 376/5000\n",
      "5/5 [==============================] - 0s 18ms/step - loss: 0.1218 - rmse: 0.3490 - val_loss: 0.1419 - val_rmse: 0.3767 - lr: 0.0010\n",
      "Epoch 377/5000\n",
      "5/5 [==============================] - 0s 18ms/step - loss: 0.1187 - rmse: 0.3445 - val_loss: 0.1405 - val_rmse: 0.3748 - lr: 0.0010\n",
      "Epoch 378/5000\n",
      "5/5 [==============================] - 0s 18ms/step - loss: 0.1289 - rmse: 0.3591 - val_loss: 0.1415 - val_rmse: 0.3761 - lr: 0.0010\n",
      "Epoch 379/5000\n",
      "5/5 [==============================] - 0s 18ms/step - loss: 0.1235 - rmse: 0.3515 - val_loss: 0.1396 - val_rmse: 0.3736 - lr: 0.0010\n",
      "Epoch 380/5000\n",
      "5/5 [==============================] - 0s 19ms/step - loss: 0.1205 - rmse: 0.3472 - val_loss: 0.1415 - val_rmse: 0.3762 - lr: 0.0010\n",
      "Epoch 381/5000\n",
      "5/5 [==============================] - 0s 18ms/step - loss: 0.1252 - rmse: 0.3539 - val_loss: 0.1392 - val_rmse: 0.3731 - lr: 0.0010\n",
      "Epoch 382/5000\n",
      "5/5 [==============================] - 0s 48ms/step - loss: 0.1111 - rmse: 0.3333 - val_loss: 0.1416 - val_rmse: 0.3763 - lr: 0.0010\n",
      "Epoch 383/5000\n",
      "5/5 [==============================] - 0s 18ms/step - loss: 0.1303 - rmse: 0.3610 - val_loss: 0.1384 - val_rmse: 0.3721 - lr: 0.0010\n",
      "Epoch 384/5000\n",
      "5/5 [==============================] - 0s 18ms/step - loss: 0.1123 - rmse: 0.3352 - val_loss: 0.1419 - val_rmse: 0.3767 - lr: 0.0010\n",
      "Epoch 385/5000\n",
      "5/5 [==============================] - 0s 19ms/step - loss: 0.1246 - rmse: 0.3529 - val_loss: 0.1378 - val_rmse: 0.3712 - lr: 0.0010\n",
      "Epoch 386/5000\n",
      "5/5 [==============================] - 0s 21ms/step - loss: 0.1162 - rmse: 0.3409 - val_loss: 0.1401 - val_rmse: 0.3743 - lr: 0.0010\n",
      "Epoch 387/5000\n",
      "5/5 [==============================] - 0s 20ms/step - loss: 0.1219 - rmse: 0.3492 - val_loss: 0.1378 - val_rmse: 0.3712 - lr: 0.0010\n",
      "Epoch 388/5000\n"
     ]
    },
    {
     "name": "stdout",
     "output_type": "stream",
     "text": [
      "5/5 [==============================] - 0s 19ms/step - loss: 0.1196 - rmse: 0.3459 - val_loss: 0.1403 - val_rmse: 0.3746 - lr: 0.0010\n",
      "Epoch 389/5000\n",
      "5/5 [==============================] - 0s 18ms/step - loss: 0.1213 - rmse: 0.3483 - val_loss: 0.1366 - val_rmse: 0.3696 - lr: 0.0010\n",
      "Epoch 390/5000\n",
      "5/5 [==============================] - 0s 18ms/step - loss: 0.1126 - rmse: 0.3356 - val_loss: 0.1397 - val_rmse: 0.3738 - lr: 0.0010\n",
      "Epoch 391/5000\n",
      "5/5 [==============================] - 0s 19ms/step - loss: 0.1202 - rmse: 0.3467 - val_loss: 0.1371 - val_rmse: 0.3703 - lr: 0.0010\n",
      "Epoch 392/5000\n",
      "5/5 [==============================] - 0s 50ms/step - loss: 0.1075 - rmse: 0.3279 - val_loss: 0.1386 - val_rmse: 0.3723 - lr: 0.0010\n",
      "Epoch 393/5000\n",
      "5/5 [==============================] - 0s 18ms/step - loss: 0.1256 - rmse: 0.3544 - val_loss: 0.1377 - val_rmse: 0.3711 - lr: 0.0010\n",
      "Epoch 394/5000\n",
      "5/5 [==============================] - 0s 18ms/step - loss: 0.1192 - rmse: 0.3452 - val_loss: 0.1382 - val_rmse: 0.3718 - lr: 0.0010\n",
      "Epoch 395/5000\n",
      "5/5 [==============================] - 0s 18ms/step - loss: 0.1148 - rmse: 0.3388 - val_loss: 0.1371 - val_rmse: 0.3703 - lr: 0.0010\n",
      "Epoch 396/5000\n",
      "5/5 [==============================] - 0s 18ms/step - loss: 0.1218 - rmse: 0.3490 - val_loss: 0.1367 - val_rmse: 0.3697 - lr: 0.0010\n",
      "Epoch 397/5000\n",
      "5/5 [==============================] - 0s 19ms/step - loss: 0.1140 - rmse: 0.3376 - val_loss: 0.1380 - val_rmse: 0.3715 - lr: 0.0010\n",
      "Epoch 398/5000\n",
      "5/5 [==============================] - 0s 18ms/step - loss: 0.1278 - rmse: 0.3575 - val_loss: 0.1368 - val_rmse: 0.3699 - lr: 0.0010\n",
      "Epoch 399/5000\n",
      "5/5 [==============================] - 0s 47ms/step - loss: 0.1017 - rmse: 0.3190 - val_loss: 0.1373 - val_rmse: 0.3706 - lr: 0.0010\n",
      "Epoch 400/5000\n",
      "5/5 [==============================] - 0s 18ms/step - loss: 0.1257 - rmse: 0.3546 - val_loss: 0.1361 - val_rmse: 0.3690 - lr: 0.0010\n",
      "Epoch 401/5000\n",
      "5/5 [==============================] - 0s 18ms/step - loss: 0.1215 - rmse: 0.3485 - val_loss: 0.1362 - val_rmse: 0.3690 - lr: 0.0010\n",
      "Epoch 402/5000\n",
      "5/5 [==============================] - 0s 18ms/step - loss: 0.1120 - rmse: 0.3347 - val_loss: 0.1362 - val_rmse: 0.3690 - lr: 0.0010\n",
      "Epoch 403/5000\n",
      "5/5 [==============================] - 0s 20ms/step - loss: 0.1158 - rmse: 0.3403 - val_loss: 0.1365 - val_rmse: 0.3694 - lr: 0.0010\n",
      "Epoch 404/5000\n",
      "5/5 [==============================] - 0s 18ms/step - loss: 0.1264 - rmse: 0.3556 - val_loss: 0.1359 - val_rmse: 0.3687 - lr: 0.0010\n",
      "Epoch 405/5000\n",
      "5/5 [==============================] - 0s 18ms/step - loss: 0.1118 - rmse: 0.3344 - val_loss: 0.1359 - val_rmse: 0.3687 - lr: 0.0010\n",
      "Epoch 406/5000\n",
      "5/5 [==============================] - 0s 18ms/step - loss: 0.1106 - rmse: 0.3325 - val_loss: 0.1358 - val_rmse: 0.3685 - lr: 0.0010\n",
      "Epoch 407/5000\n",
      "5/5 [==============================] - 0s 18ms/step - loss: 0.1215 - rmse: 0.3485 - val_loss: 0.1355 - val_rmse: 0.3681 - lr: 0.0010\n",
      "Epoch 408/5000\n",
      "5/5 [==============================] - 0s 18ms/step - loss: 0.1109 - rmse: 0.3331 - val_loss: 0.1360 - val_rmse: 0.3688 - lr: 0.0010\n",
      "Epoch 409/5000\n",
      "5/5 [==============================] - 0s 18ms/step - loss: 0.1132 - rmse: 0.3365 - val_loss: 0.1345 - val_rmse: 0.3668 - lr: 0.0010\n",
      "Epoch 410/5000\n",
      "5/5 [==============================] - 0s 18ms/step - loss: 0.1141 - rmse: 0.3378 - val_loss: 0.1365 - val_rmse: 0.3695 - lr: 0.0010\n",
      "Epoch 411/5000\n",
      "5/5 [==============================] - 0s 18ms/step - loss: 0.1242 - rmse: 0.3524 - val_loss: 0.1334 - val_rmse: 0.3652 - lr: 0.0010\n",
      "Epoch 412/5000\n",
      "5/5 [==============================] - 0s 18ms/step - loss: 0.1048 - rmse: 0.3237 - val_loss: 0.1354 - val_rmse: 0.3680 - lr: 0.0010\n",
      "Epoch 413/5000\n",
      "5/5 [==============================] - 0s 18ms/step - loss: 0.1196 - rmse: 0.3458 - val_loss: 0.1336 - val_rmse: 0.3655 - lr: 0.0010\n",
      "Epoch 414/5000\n",
      "5/5 [==============================] - 0s 18ms/step - loss: 0.1174 - rmse: 0.3426 - val_loss: 0.1363 - val_rmse: 0.3692 - lr: 0.0010\n",
      "Epoch 415/5000\n",
      "5/5 [==============================] - 0s 18ms/step - loss: 0.1149 - rmse: 0.3390 - val_loss: 0.1336 - val_rmse: 0.3655 - lr: 0.0010\n",
      "Epoch 416/5000\n",
      "5/5 [==============================] - 0s 18ms/step - loss: 0.1108 - rmse: 0.3328 - val_loss: 0.1369 - val_rmse: 0.3700 - lr: 0.0010\n",
      "Epoch 417/5000\n",
      "5/5 [==============================] - 0s 18ms/step - loss: 0.1170 - rmse: 0.3420 - val_loss: 0.1343 - val_rmse: 0.3665 - lr: 0.0010\n",
      "Epoch 418/5000\n",
      "5/5 [==============================] - 0s 18ms/step - loss: 0.1084 - rmse: 0.3292 - val_loss: 0.1367 - val_rmse: 0.3697 - lr: 0.0010\n",
      "Epoch 419/5000\n",
      "5/5 [==============================] - 0s 18ms/step - loss: 0.1218 - rmse: 0.3490 - val_loss: 0.1335 - val_rmse: 0.3653 - lr: 0.0010\n",
      "Epoch 420/5000\n",
      "5/5 [==============================] - 0s 18ms/step - loss: 0.1141 - rmse: 0.3378 - val_loss: 0.1361 - val_rmse: 0.3690 - lr: 0.0010\n",
      "Epoch 421/5000\n",
      "5/5 [==============================] - 0s 18ms/step - loss: 0.1164 - rmse: 0.3411 - val_loss: 0.1341 - val_rmse: 0.3662 - lr: 0.0010\n",
      "Epoch 422/5000\n",
      "5/5 [==============================] - 0s 19ms/step - loss: 0.1139 - rmse: 0.3374 - val_loss: 0.1352 - val_rmse: 0.3676 - lr: 0.0010\n",
      "Epoch 423/5000\n",
      "5/5 [==============================] - 0s 18ms/step - loss: 0.1106 - rmse: 0.3326 - val_loss: 0.1340 - val_rmse: 0.3661 - lr: 0.0010\n",
      "Epoch 424/5000\n",
      "5/5 [==============================] - 0s 18ms/step - loss: 0.1205 - rmse: 0.3471 - val_loss: 0.1346 - val_rmse: 0.3668 - lr: 0.0010\n",
      "Epoch 425/5000\n",
      "5/5 [==============================] - 0s 18ms/step - loss: 0.1136 - rmse: 0.3371 - val_loss: 0.1341 - val_rmse: 0.3662 - lr: 0.0010\n",
      "Epoch 426/5000\n",
      "5/5 [==============================] - 0s 18ms/step - loss: 0.1071 - rmse: 0.3272 - val_loss: 0.1343 - val_rmse: 0.3664 - lr: 0.0010\n",
      "Epoch 427/5000\n",
      "5/5 [==============================] - 0s 18ms/step - loss: 0.1164 - rmse: 0.3412 - val_loss: 0.1332 - val_rmse: 0.3649 - lr: 0.0010\n",
      "Epoch 428/5000\n",
      "5/5 [==============================] - 0s 18ms/step - loss: 0.1100 - rmse: 0.3317 - val_loss: 0.1355 - val_rmse: 0.3681 - lr: 0.0010\n",
      "Epoch 429/5000\n",
      "5/5 [==============================] - 0s 18ms/step - loss: 0.1106 - rmse: 0.3326 - val_loss: 0.1322 - val_rmse: 0.3636 - lr: 0.0010\n",
      "Epoch 430/5000\n",
      "5/5 [==============================] - 0s 18ms/step - loss: 0.1126 - rmse: 0.3356 - val_loss: 0.1355 - val_rmse: 0.3680 - lr: 0.0010\n",
      "Epoch 431/5000\n",
      "5/5 [==============================] - 0s 18ms/step - loss: 0.1189 - rmse: 0.3448 - val_loss: 0.1315 - val_rmse: 0.3627 - lr: 0.0010\n",
      "Epoch 432/5000\n",
      "5/5 [==============================] - 0s 18ms/step - loss: 0.1100 - rmse: 0.3317 - val_loss: 0.1364 - val_rmse: 0.3694 - lr: 0.0010\n",
      "Epoch 433/5000\n",
      "5/5 [==============================] - 0s 18ms/step - loss: 0.1126 - rmse: 0.3355 - val_loss: 0.1305 - val_rmse: 0.3613 - lr: 0.0010\n",
      "Epoch 434/5000\n",
      "5/5 [==============================] - 0s 19ms/step - loss: 0.1040 - rmse: 0.3225 - val_loss: 0.1388 - val_rmse: 0.3725 - lr: 0.0010\n",
      "Epoch 435/5000\n",
      "5/5 [==============================] - 0s 18ms/step - loss: 0.1226 - rmse: 0.3501 - val_loss: 0.1292 - val_rmse: 0.3595 - lr: 0.0010\n",
      "Epoch 436/5000\n",
      "5/5 [==============================] - 0s 18ms/step - loss: 0.1041 - rmse: 0.3226 - val_loss: 0.1350 - val_rmse: 0.3674 - lr: 0.0010\n",
      "Epoch 437/5000\n",
      "5/5 [==============================] - 0s 18ms/step - loss: 0.1260 - rmse: 0.3549 - val_loss: 0.1288 - val_rmse: 0.3589 - lr: 0.0010\n",
      "Epoch 438/5000\n",
      "5/5 [==============================] - 0s 18ms/step - loss: 0.1106 - rmse: 0.3326 - val_loss: 0.1377 - val_rmse: 0.3711 - lr: 0.0010\n",
      "Epoch 439/5000\n",
      "5/5 [==============================] - 0s 18ms/step - loss: 0.1158 - rmse: 0.3403 - val_loss: 0.1273 - val_rmse: 0.3568 - lr: 0.0010\n",
      "Epoch 440/5000\n",
      "5/5 [==============================] - 0s 18ms/step - loss: 0.1214 - rmse: 0.3484 - val_loss: 0.1406 - val_rmse: 0.3749 - lr: 0.0010\n",
      "Epoch 441/5000\n",
      "5/5 [==============================] - 0s 49ms/step - loss: 0.1009 - rmse: 0.3176 - val_loss: 0.1282 - val_rmse: 0.3580 - lr: 0.0010\n",
      "Epoch 442/5000\n",
      "5/5 [==============================] - 0s 18ms/step - loss: 0.1204 - rmse: 0.3470 - val_loss: 0.1340 - val_rmse: 0.3661 - lr: 0.0010\n",
      "Epoch 443/5000\n"
     ]
    },
    {
     "name": "stdout",
     "output_type": "stream",
     "text": [
      "5/5 [==============================] - 0s 18ms/step - loss: 0.1077 - rmse: 0.3281 - val_loss: 0.1281 - val_rmse: 0.3579 - lr: 0.0010\n",
      "Epoch 444/5000\n",
      "5/5 [==============================] - 0s 18ms/step - loss: 0.1228 - rmse: 0.3504 - val_loss: 0.1332 - val_rmse: 0.3650 - lr: 0.0010\n",
      "Epoch 445/5000\n",
      "5/5 [==============================] - 0s 19ms/step - loss: 0.1169 - rmse: 0.3419 - val_loss: 0.1266 - val_rmse: 0.3558 - lr: 0.0010\n",
      "Epoch 446/5000\n",
      "5/5 [==============================] - 0s 19ms/step - loss: 0.1094 - rmse: 0.3308 - val_loss: 0.1393 - val_rmse: 0.3732 - lr: 0.0010\n",
      "Epoch 447/5000\n",
      "5/5 [==============================] - 0s 18ms/step - loss: 0.1132 - rmse: 0.3364 - val_loss: 0.1288 - val_rmse: 0.3588 - lr: 0.0010\n",
      "Epoch 448/5000\n",
      "5/5 [==============================] - 0s 18ms/step - loss: 0.1286 - rmse: 0.3586 - val_loss: 0.1383 - val_rmse: 0.3719 - lr: 0.0010\n",
      "Epoch 449/5000\n",
      "5/5 [==============================] - 0s 58ms/step - loss: 0.1008 - rmse: 0.3176 - val_loss: 0.1322 - val_rmse: 0.3635 - lr: 0.0010\n",
      "Epoch 450/5000\n",
      "5/5 [==============================] - 0s 18ms/step - loss: 0.1170 - rmse: 0.3421 - val_loss: 0.1329 - val_rmse: 0.3646 - lr: 0.0010\n",
      "Epoch 451/5000\n",
      "5/5 [==============================] - 0s 18ms/step - loss: 0.1135 - rmse: 0.3369 - val_loss: 0.1273 - val_rmse: 0.3569 - lr: 0.0010\n",
      "Epoch 452/5000\n",
      "5/5 [==============================] - 0s 18ms/step - loss: 0.1143 - rmse: 0.3381 - val_loss: 0.1294 - val_rmse: 0.3597 - lr: 0.0010\n",
      "Epoch 453/5000\n",
      "5/5 [==============================] - 0s 19ms/step - loss: 0.1133 - rmse: 0.3366 - val_loss: 0.1337 - val_rmse: 0.3657 - lr: 0.0010\n",
      "Epoch 454/5000\n",
      "5/5 [==============================] - 0s 18ms/step - loss: 0.1109 - rmse: 0.3330 - val_loss: 0.1308 - val_rmse: 0.3617 - lr: 0.0010\n",
      "Epoch 455/5000\n",
      "5/5 [==============================] - 0s 18ms/step - loss: 0.1172 - rmse: 0.3423 - val_loss: 0.1280 - val_rmse: 0.3578 - lr: 0.0010\n",
      "Epoch 456/5000\n",
      "5/5 [==============================] - 0s 19ms/step - loss: 0.1096 - rmse: 0.3311 - val_loss: 0.1332 - val_rmse: 0.3650 - lr: 0.0010\n",
      "Epoch 457/5000\n",
      "5/5 [==============================] - 0s 19ms/step - loss: 0.1106 - rmse: 0.3326 - val_loss: 0.1278 - val_rmse: 0.3575 - lr: 0.0010\n",
      "Epoch 458/5000\n",
      "5/5 [==============================] - 0s 18ms/step - loss: 0.1154 - rmse: 0.3397 - val_loss: 0.1304 - val_rmse: 0.3611 - lr: 0.0010\n",
      "Epoch 459/5000\n",
      "5/5 [==============================] - 0s 18ms/step - loss: 0.1077 - rmse: 0.3282 - val_loss: 0.1280 - val_rmse: 0.3578 - lr: 0.0010\n",
      "Epoch 460/5000\n",
      "5/5 [==============================] - 0s 18ms/step - loss: 0.1113 - rmse: 0.3336 - val_loss: 0.1304 - val_rmse: 0.3612 - lr: 0.0010\n",
      "Epoch 461/5000\n",
      "5/5 [==============================] - 0s 18ms/step - loss: 0.1155 - rmse: 0.3398 - val_loss: 0.1283 - val_rmse: 0.3582 - lr: 0.0010\n",
      "Epoch 462/5000\n",
      "5/5 [==============================] - 0s 18ms/step - loss: 0.1108 - rmse: 0.3329 - val_loss: 0.1331 - val_rmse: 0.3648 - lr: 0.0010\n",
      "Epoch 463/5000\n",
      "5/5 [==============================] - 0s 18ms/step - loss: 0.1139 - rmse: 0.3375 - val_loss: 0.1277 - val_rmse: 0.3573 - lr: 0.0010\n",
      "Epoch 464/5000\n",
      "5/5 [==============================] - 0s 19ms/step - loss: 0.1192 - rmse: 0.3453 - val_loss: 0.1328 - val_rmse: 0.3645 - lr: 0.0010\n",
      "Epoch 465/5000\n",
      "5/5 [==============================] - 0s 18ms/step - loss: 0.1014 - rmse: 0.3184 - val_loss: 0.1315 - val_rmse: 0.3626 - lr: 0.0010\n",
      "Epoch 466/5000\n",
      "5/5 [==============================] - 0s 18ms/step - loss: 0.1166 - rmse: 0.3415 - val_loss: 0.1320 - val_rmse: 0.3634 - lr: 0.0010\n",
      "Epoch 467/5000\n",
      "5/5 [==============================] - 0s 18ms/step - loss: 0.1085 - rmse: 0.3293 - val_loss: 0.1285 - val_rmse: 0.3585 - lr: 0.0010\n",
      "Epoch 468/5000\n",
      "5/5 [==============================] - 0s 18ms/step - loss: 0.1128 - rmse: 0.3359 - val_loss: 0.1313 - val_rmse: 0.3623 - lr: 0.0010\n",
      "Epoch 469/5000\n",
      "5/5 [==============================] - 0s 18ms/step - loss: 0.1214 - rmse: 0.3484 - val_loss: 0.1314 - val_rmse: 0.3625 - lr: 0.0010\n",
      "Epoch 470/5000\n",
      "5/5 [==============================] - 0s 18ms/step - loss: 0.1017 - rmse: 0.3188 - val_loss: 0.1292 - val_rmse: 0.3594 - lr: 0.0010\n",
      "Epoch 471/5000\n",
      "5/5 [==============================] - 0s 18ms/step - loss: 0.1183 - rmse: 0.3439 - val_loss: 0.1335 - val_rmse: 0.3654 - lr: 0.0010\n",
      "Epoch 472/5000\n",
      "5/5 [==============================] - 0s 18ms/step - loss: 0.1078 - rmse: 0.3283 - val_loss: 0.1281 - val_rmse: 0.3579 - lr: 0.0010\n",
      "Epoch 473/5000\n",
      "5/5 [==============================] - 0s 18ms/step - loss: 0.1210 - rmse: 0.3478 - val_loss: 0.1346 - val_rmse: 0.3669 - lr: 0.0010\n",
      "Epoch 474/5000\n",
      "5/5 [==============================] - 0s 18ms/step - loss: 0.1037 - rmse: 0.3220 - val_loss: 0.1280 - val_rmse: 0.3577 - lr: 0.0010\n",
      "Epoch 475/5000\n",
      "5/5 [==============================] - 0s 18ms/step - loss: 0.1165 - rmse: 0.3413 - val_loss: 0.1324 - val_rmse: 0.3638 - lr: 0.0010\n",
      "Epoch 476/5000\n",
      "5/5 [==============================] - 0s 18ms/step - loss: 0.1159 - rmse: 0.3405 - val_loss: 0.1286 - val_rmse: 0.3586 - lr: 0.0010\n",
      "Epoch 477/5000\n",
      "5/5 [==============================] - 0s 50ms/step - loss: 0.0984 - rmse: 0.3137 - val_loss: 0.1334 - val_rmse: 0.3652 - lr: 0.0010\n",
      "Epoch 478/5000\n",
      "5/5 [==============================] - 0s 19ms/step - loss: 0.1129 - rmse: 0.3360 - val_loss: 0.1272 - val_rmse: 0.3566 - lr: 0.0010\n",
      "Epoch 479/5000\n",
      "5/5 [==============================] - 0s 18ms/step - loss: 0.1180 - rmse: 0.3435 - val_loss: 0.1335 - val_rmse: 0.3654 - lr: 0.0010\n",
      "Epoch 480/5000\n",
      "5/5 [==============================] - 0s 18ms/step - loss: 0.1029 - rmse: 0.3208 - val_loss: 0.1256 - val_rmse: 0.3545 - lr: 0.0010\n",
      "Epoch 481/5000\n",
      "5/5 [==============================] - 0s 19ms/step - loss: 0.1116 - rmse: 0.3340 - val_loss: 0.1342 - val_rmse: 0.3664 - lr: 0.0010\n",
      "Epoch 482/5000\n",
      "5/5 [==============================] - 0s 19ms/step - loss: 0.1141 - rmse: 0.3378 - val_loss: 0.1267 - val_rmse: 0.3560 - lr: 0.0010\n",
      "Epoch 483/5000\n",
      "5/5 [==============================] - 0s 18ms/step - loss: 0.1117 - rmse: 0.3342 - val_loss: 0.1324 - val_rmse: 0.3638 - lr: 0.0010\n",
      "Epoch 484/5000\n",
      "5/5 [==============================] - 0s 18ms/step - loss: 0.1017 - rmse: 0.3189 - val_loss: 0.1249 - val_rmse: 0.3535 - lr: 0.0010\n",
      "Epoch 485/5000\n",
      "5/5 [==============================] - 0s 18ms/step - loss: 0.1144 - rmse: 0.3383 - val_loss: 0.1360 - val_rmse: 0.3688 - lr: 0.0010\n",
      "Epoch 486/5000\n",
      "5/5 [==============================] - 0s 18ms/step - loss: 0.1134 - rmse: 0.3367 - val_loss: 0.1248 - val_rmse: 0.3533 - lr: 0.0010\n",
      "Epoch 487/5000\n",
      "5/5 [==============================] - 0s 18ms/step - loss: 0.1045 - rmse: 0.3233 - val_loss: 0.1385 - val_rmse: 0.3721 - lr: 0.0010\n",
      "Epoch 488/5000\n",
      "5/5 [==============================] - 0s 19ms/step - loss: 0.1212 - rmse: 0.3481 - val_loss: 0.1264 - val_rmse: 0.3555 - lr: 0.0010\n",
      "Epoch 489/5000\n",
      "5/5 [==============================] - 0s 18ms/step - loss: 0.1115 - rmse: 0.3339 - val_loss: 0.1384 - val_rmse: 0.3720 - lr: 0.0010\n",
      "Epoch 490/5000\n",
      "5/5 [==============================] - 0s 18ms/step - loss: 0.1175 - rmse: 0.3428 - val_loss: 0.1354 - val_rmse: 0.3680 - lr: 0.0010\n",
      "Epoch 491/5000\n",
      "5/5 [==============================] - 0s 18ms/step - loss: 0.1250 - rmse: 0.3536 - val_loss: 0.1438 - val_rmse: 0.3793 - lr: 0.0010\n",
      "Epoch 492/5000\n",
      "5/5 [==============================] - 0s 18ms/step - loss: 0.1223 - rmse: 0.3497 - val_loss: 0.1437 - val_rmse: 0.3791 - lr: 0.0010\n",
      "Epoch 493/5000\n",
      "5/5 [==============================] - 0s 19ms/step - loss: 0.1307 - rmse: 0.3615 - val_loss: 0.1436 - val_rmse: 0.3790 - lr: 0.0010\n",
      "Epoch 494/5000\n",
      "5/5 [==============================] - 0s 19ms/step - loss: 0.1105 - rmse: 0.3324 - val_loss: 0.1435 - val_rmse: 0.3789 - lr: 0.0010\n",
      "Epoch 495/5000\n",
      "5/5 [==============================] - 0s 18ms/step - loss: 0.1218 - rmse: 0.3490 - val_loss: 0.1434 - val_rmse: 0.3787 - lr: 0.0010\n",
      "Epoch 496/5000\n",
      "5/5 [==============================] - 0s 18ms/step - loss: 0.1299 - rmse: 0.3604 - val_loss: 0.1433 - val_rmse: 0.3786 - lr: 0.0010\n",
      "Epoch 497/5000\n",
      "5/5 [==============================] - 0s 18ms/step - loss: 0.1294 - rmse: 0.3597 - val_loss: 0.1432 - val_rmse: 0.3784 - lr: 0.0010\n",
      "Epoch 498/5000\n"
     ]
    },
    {
     "name": "stdout",
     "output_type": "stream",
     "text": [
      "5/5 [==============================] - 0s 18ms/step - loss: 0.1232 - rmse: 0.3509 - val_loss: 0.1431 - val_rmse: 0.3783 - lr: 0.0010\n",
      "Epoch 499/5000\n",
      "5/5 [==============================] - 0s 19ms/step - loss: 0.1223 - rmse: 0.3497 - val_loss: 0.1430 - val_rmse: 0.3781 - lr: 0.0010\n",
      "Epoch 500/5000\n",
      "5/5 [==============================] - 0s 18ms/step - loss: 0.1277 - rmse: 0.3574 - val_loss: 0.1429 - val_rmse: 0.3780 - lr: 0.0010\n",
      "Epoch 501/5000\n",
      "5/5 [==============================] - 0s 18ms/step - loss: 0.1279 - rmse: 0.3576 - val_loss: 0.1428 - val_rmse: 0.3778 - lr: 0.0010\n",
      "Epoch 502/5000\n",
      "5/5 [==============================] - 0s 18ms/step - loss: 0.1131 - rmse: 0.3363 - val_loss: 0.1427 - val_rmse: 0.3777 - lr: 0.0010\n",
      "Epoch 503/5000\n",
      "5/5 [==============================] - 0s 18ms/step - loss: 0.1218 - rmse: 0.3490 - val_loss: 0.1426 - val_rmse: 0.3776 - lr: 0.0010\n",
      "Epoch 504/5000\n",
      "5/5 [==============================] - 0s 18ms/step - loss: 0.1283 - rmse: 0.3582 - val_loss: 0.1425 - val_rmse: 0.3774 - lr: 0.0010\n",
      "Epoch 505/5000\n",
      "5/5 [==============================] - 0s 18ms/step - loss: 0.1263 - rmse: 0.3554 - val_loss: 0.1424 - val_rmse: 0.3773 - lr: 0.0010\n",
      "Epoch 506/5000\n",
      "5/5 [==============================] - 0s 19ms/step - loss: 0.1216 - rmse: 0.3487 - val_loss: 0.1423 - val_rmse: 0.3772 - lr: 0.0010\n",
      "Epoch 507/5000\n",
      "5/5 [==============================] - 0s 18ms/step - loss: 0.1232 - rmse: 0.3510 - val_loss: 0.1422 - val_rmse: 0.3771 - lr: 0.0010\n",
      "Epoch 508/5000\n",
      "5/5 [==============================] - 0s 18ms/step - loss: 0.1224 - rmse: 0.3498 - val_loss: 0.1421 - val_rmse: 0.3770 - lr: 0.0010\n",
      "Epoch 509/5000\n",
      "5/5 [==============================] - 0s 18ms/step - loss: 0.1168 - rmse: 0.3418 - val_loss: 0.1420 - val_rmse: 0.3769 - lr: 0.0010\n",
      "Epoch 510/5000\n",
      "5/5 [==============================] - 0s 18ms/step - loss: 0.1267 - rmse: 0.3559 - val_loss: 0.1419 - val_rmse: 0.3768 - lr: 0.0010\n",
      "Epoch 511/5000\n",
      "5/5 [==============================] - 0s 18ms/step - loss: 0.1198 - rmse: 0.3461 - val_loss: 0.1419 - val_rmse: 0.3767 - lr: 0.0010\n",
      "Epoch 512/5000\n",
      "5/5 [==============================] - 0s 19ms/step - loss: 0.1320 - rmse: 0.3634 - val_loss: 0.1418 - val_rmse: 0.3765 - lr: 0.0010\n",
      "Epoch 513/5000\n",
      "5/5 [==============================] - 0s 18ms/step - loss: 0.1165 - rmse: 0.3413 - val_loss: 0.1417 - val_rmse: 0.3764 - lr: 0.0010\n",
      "Epoch 514/5000\n",
      "5/5 [==============================] - 0s 18ms/step - loss: 0.1143 - rmse: 0.3381 - val_loss: 0.1416 - val_rmse: 0.3763 - lr: 0.0010\n",
      "Epoch 515/5000\n",
      "5/5 [==============================] - 0s 18ms/step - loss: 0.1267 - rmse: 0.3559 - val_loss: 0.1416 - val_rmse: 0.3762 - lr: 0.0010\n",
      "Epoch 516/5000\n",
      "5/5 [==============================] - 0s 18ms/step - loss: 0.1244 - rmse: 0.3528 - val_loss: 0.1415 - val_rmse: 0.3761 - lr: 0.0010\n",
      "Epoch 517/5000\n",
      "5/5 [==============================] - 0s 19ms/step - loss: 0.1207 - rmse: 0.3474 - val_loss: 0.1414 - val_rmse: 0.3761 - lr: 0.0010\n",
      "Epoch 518/5000\n",
      "5/5 [==============================] - 0s 20ms/step - loss: 0.1262 - rmse: 0.3552 - val_loss: 0.1414 - val_rmse: 0.3760 - lr: 0.0010\n",
      "Epoch 519/5000\n",
      "5/5 [==============================] - 0s 18ms/step - loss: 0.1025 - rmse: 0.3201 - val_loss: 0.1413 - val_rmse: 0.3759 - lr: 0.0010\n",
      "Epoch 520/5000\n",
      "5/5 [==============================] - 0s 18ms/step - loss: 0.1454 - rmse: 0.3814 - val_loss: 0.1412 - val_rmse: 0.3758 - lr: 0.0010\n",
      "Epoch 521/5000\n",
      "5/5 [==============================] - 0s 18ms/step - loss: 0.1188 - rmse: 0.3447 - val_loss: 0.1412 - val_rmse: 0.3757 - lr: 0.0010\n",
      "Epoch 522/5000\n",
      "5/5 [==============================] - 0s 18ms/step - loss: 0.1170 - rmse: 0.3421 - val_loss: 0.1411 - val_rmse: 0.3756 - lr: 0.0010\n",
      "Epoch 523/5000\n",
      "5/5 [==============================] - 0s 18ms/step - loss: 0.1212 - rmse: 0.3481 - val_loss: 0.1411 - val_rmse: 0.3756 - lr: 0.0010\n",
      "Epoch 524/5000\n",
      "5/5 [==============================] - 0s 19ms/step - loss: 0.1144 - rmse: 0.3383 - val_loss: 0.1410 - val_rmse: 0.3755 - lr: 0.0010\n",
      "Epoch 525/5000\n",
      "5/5 [==============================] - 0s 18ms/step - loss: 0.1367 - rmse: 0.3697 - val_loss: 0.1409 - val_rmse: 0.3754 - lr: 0.0010\n",
      "Epoch 526/5000\n",
      "5/5 [==============================] - 0s 18ms/step - loss: 0.1139 - rmse: 0.3374 - val_loss: 0.1409 - val_rmse: 0.3753 - lr: 0.0010\n",
      "Epoch 527/5000\n",
      "5/5 [==============================] - 0s 18ms/step - loss: 0.1270 - rmse: 0.3564 - val_loss: 0.1408 - val_rmse: 0.3753 - lr: 0.0010\n",
      "Epoch 528/5000\n",
      "5/5 [==============================] - 0s 18ms/step - loss: 0.1148 - rmse: 0.3388 - val_loss: 0.1408 - val_rmse: 0.3752 - lr: 0.0010\n",
      "Epoch 529/5000\n",
      "5/5 [==============================] - 0s 19ms/step - loss: 0.1212 - rmse: 0.3482 - val_loss: 0.1407 - val_rmse: 0.3751 - lr: 0.0010\n",
      "Epoch 530/5000\n",
      "5/5 [==============================] - 0s 18ms/step - loss: 0.1239 - rmse: 0.3520 - val_loss: 0.1407 - val_rmse: 0.3751 - lr: 0.0010\n",
      "Epoch 531/5000\n",
      "5/5 [==============================] - 0s 18ms/step - loss: 0.1089 - rmse: 0.3300 - val_loss: 0.1406 - val_rmse: 0.3750 - lr: 0.0010\n",
      "Epoch 532/5000\n",
      "5/5 [==============================] - 0s 18ms/step - loss: 0.1291 - rmse: 0.3593 - val_loss: 0.1406 - val_rmse: 0.3749 - lr: 0.0010\n",
      "Epoch 533/5000\n",
      "5/5 [==============================] - 0s 18ms/step - loss: 0.1220 - rmse: 0.3493 - val_loss: 0.1405 - val_rmse: 0.3749 - lr: 0.0010\n",
      "Epoch 534/5000\n",
      "5/5 [==============================] - 0s 18ms/step - loss: 0.1205 - rmse: 0.3472 - val_loss: 0.1405 - val_rmse: 0.3748 - lr: 0.0010\n",
      "Epoch 535/5000\n",
      "5/5 [==============================] - 0s 18ms/step - loss: 0.1256 - rmse: 0.3544 - val_loss: 0.1405 - val_rmse: 0.3748 - lr: 0.0010\n",
      "Epoch 536/5000\n",
      "5/5 [==============================] - 0s 18ms/step - loss: 0.1103 - rmse: 0.3320 - val_loss: 0.1404 - val_rmse: 0.3747 - lr: 0.0010\n",
      "Epoch 537/5000\n",
      "5/5 [==============================] - 0s 18ms/step - loss: 0.1269 - rmse: 0.3563 - val_loss: 0.1404 - val_rmse: 0.3747 - lr: 0.0010\n",
      "Epoch 538/5000\n",
      "5/5 [==============================] - 0s 18ms/step - loss: 0.1274 - rmse: 0.3569 - val_loss: 0.1404 - val_rmse: 0.3746 - lr: 0.0010\n",
      "Epoch 539/5000\n",
      "5/5 [==============================] - 0s 18ms/step - loss: 0.1113 - rmse: 0.3336 - val_loss: 0.1403 - val_rmse: 0.3746 - lr: 0.0010\n",
      "Epoch 540/5000\n",
      "5/5 [==============================] - 0s 18ms/step - loss: 0.1220 - rmse: 0.3493 - val_loss: 0.1403 - val_rmse: 0.3745 - lr: 0.0010\n",
      "Epoch 541/5000\n",
      "5/5 [==============================] - 0s 19ms/step - loss: 0.1216 - rmse: 0.3487 - val_loss: 0.1402 - val_rmse: 0.3745 - lr: 0.0010\n",
      "Epoch 542/5000\n",
      "5/5 [==============================] - 0s 18ms/step - loss: 0.1211 - rmse: 0.3480 - val_loss: 0.1402 - val_rmse: 0.3744 - lr: 0.0010\n",
      "Epoch 543/5000\n",
      "5/5 [==============================] - 0s 18ms/step - loss: 0.1162 - rmse: 0.3409 - val_loss: 0.1402 - val_rmse: 0.3744 - lr: 0.0010\n",
      "Epoch 544/5000\n",
      "5/5 [==============================] - 0s 18ms/step - loss: 0.1287 - rmse: 0.3588 - val_loss: 0.1401 - val_rmse: 0.3744 - lr: 0.0010\n",
      "Epoch 545/5000\n",
      "5/5 [==============================] - 0s 18ms/step - loss: 0.1131 - rmse: 0.3362 - val_loss: 0.1401 - val_rmse: 0.3743 - lr: 0.0010\n",
      "Epoch 546/5000\n",
      "5/5 [==============================] - 0s 18ms/step - loss: 0.1214 - rmse: 0.3485 - val_loss: 0.1401 - val_rmse: 0.3743 - lr: 0.0010\n",
      "Epoch 547/5000\n",
      "5/5 [==============================] - 0s 18ms/step - loss: 0.1220 - rmse: 0.3493 - val_loss: 0.1401 - val_rmse: 0.3743 - lr: 0.0010\n",
      "Epoch 548/5000\n",
      "5/5 [==============================] - 0s 18ms/step - loss: 0.1194 - rmse: 0.3456 - val_loss: 0.1400 - val_rmse: 0.3742 - lr: 0.0010\n",
      "Epoch 549/5000\n",
      "5/5 [==============================] - 0s 18ms/step - loss: 0.1277 - rmse: 0.3573 - val_loss: 0.1400 - val_rmse: 0.3742 - lr: 0.0010\n",
      "Epoch 550/5000\n",
      "5/5 [==============================] - 0s 18ms/step - loss: 0.1106 - rmse: 0.3326 - val_loss: 0.1400 - val_rmse: 0.3741 - lr: 0.0010\n",
      "Epoch 551/5000\n",
      "5/5 [==============================] - 0s 18ms/step - loss: 0.1126 - rmse: 0.3356 - val_loss: 0.1400 - val_rmse: 0.3741 - lr: 0.0010\n",
      "Epoch 552/5000\n",
      "5/5 [==============================] - 0s 18ms/step - loss: 0.1282 - rmse: 0.3581 - val_loss: 0.1399 - val_rmse: 0.3741 - lr: 0.0010\n",
      "Epoch 553/5000\n"
     ]
    },
    {
     "name": "stdout",
     "output_type": "stream",
     "text": [
      "5/5 [==============================] - 0s 18ms/step - loss: 0.1091 - rmse: 0.3303 - val_loss: 0.1399 - val_rmse: 0.3740 - lr: 0.0010\n",
      "Epoch 554/5000\n",
      "5/5 [==============================] - 0s 18ms/step - loss: 0.1267 - rmse: 0.3560 - val_loss: 0.1399 - val_rmse: 0.3740 - lr: 0.0010\n",
      "Epoch 555/5000\n",
      "5/5 [==============================] - 0s 18ms/step - loss: 0.1182 - rmse: 0.3438 - val_loss: 0.1399 - val_rmse: 0.3740 - lr: 0.0010\n",
      "Epoch 556/5000\n",
      "5/5 [==============================] - 0s 18ms/step - loss: 0.1256 - rmse: 0.3543 - val_loss: 0.1398 - val_rmse: 0.3739 - lr: 0.0010\n",
      "Epoch 557/5000\n",
      "5/5 [==============================] - 0s 18ms/step - loss: 0.1206 - rmse: 0.3472 - val_loss: 0.1398 - val_rmse: 0.3739 - lr: 0.0010\n",
      "Epoch 558/5000\n",
      "5/5 [==============================] - 0s 18ms/step - loss: 0.1198 - rmse: 0.3461 - val_loss: 0.1398 - val_rmse: 0.3739 - lr: 0.0010\n",
      "Epoch 559/5000\n",
      "5/5 [==============================] - 0s 18ms/step - loss: 0.1173 - rmse: 0.3425 - val_loss: 0.1398 - val_rmse: 0.3739 - lr: 0.0010\n",
      "Epoch 560/5000\n",
      "5/5 [==============================] - 0s 19ms/step - loss: 0.1213 - rmse: 0.3483 - val_loss: 0.1398 - val_rmse: 0.3738 - lr: 0.0010\n",
      "Epoch 561/5000\n",
      "5/5 [==============================] - 0s 18ms/step - loss: 0.1177 - rmse: 0.3431 - val_loss: 0.1397 - val_rmse: 0.3738 - lr: 0.0010\n",
      "Epoch 562/5000\n",
      "5/5 [==============================] - 0s 18ms/step - loss: 0.1233 - rmse: 0.3512 - val_loss: 0.1397 - val_rmse: 0.3738 - lr: 0.0010\n",
      "Epoch 563/5000\n",
      "5/5 [==============================] - 0s 18ms/step - loss: 0.1174 - rmse: 0.3427 - val_loss: 0.1397 - val_rmse: 0.3738 - lr: 0.0010\n",
      "Epoch 564/5000\n",
      "5/5 [==============================] - 0s 18ms/step - loss: 0.1214 - rmse: 0.3484 - val_loss: 0.1397 - val_rmse: 0.3737 - lr: 0.0010\n",
      "Epoch 565/5000\n",
      "5/5 [==============================] - 0s 19ms/step - loss: 0.1137 - rmse: 0.3372 - val_loss: 0.1397 - val_rmse: 0.3737 - lr: 0.0010\n",
      "Epoch 566/5000\n",
      "5/5 [==============================] - 0s 19ms/step - loss: 0.1304 - rmse: 0.3611 - val_loss: 0.1397 - val_rmse: 0.3737 - lr: 0.0010\n",
      "Epoch 567/5000\n",
      "5/5 [==============================] - 0s 18ms/step - loss: 0.1112 - rmse: 0.3335 - val_loss: 0.1396 - val_rmse: 0.3737 - lr: 0.0010\n",
      "Epoch 568/5000\n",
      "5/5 [==============================] - 0s 18ms/step - loss: 0.1260 - rmse: 0.3549 - val_loss: 0.1396 - val_rmse: 0.3737 - lr: 0.0010\n",
      "Epoch 569/5000\n",
      "5/5 [==============================] - 0s 18ms/step - loss: 0.1103 - rmse: 0.3322 - val_loss: 0.1396 - val_rmse: 0.3736 - lr: 0.0010\n",
      "Epoch 570/5000\n",
      "5/5 [==============================] - 0s 18ms/step - loss: 0.1261 - rmse: 0.3550 - val_loss: 0.1396 - val_rmse: 0.3736 - lr: 0.0010\n",
      "Epoch 571/5000\n",
      "5/5 [==============================] - 0s 19ms/step - loss: 0.1226 - rmse: 0.3502 - val_loss: 0.1396 - val_rmse: 0.3736 - lr: 0.0010\n",
      "Epoch 572/5000\n",
      "5/5 [==============================] - 0s 19ms/step - loss: 0.1145 - rmse: 0.3383 - val_loss: 0.1396 - val_rmse: 0.3736 - lr: 0.0010\n",
      "Epoch 573/5000\n",
      "5/5 [==============================] - 0s 18ms/step - loss: 0.1159 - rmse: 0.3405 - val_loss: 0.1396 - val_rmse: 0.3736 - lr: 0.0010\n",
      "Epoch 574/5000\n",
      "5/5 [==============================] - 0s 18ms/step - loss: 0.1321 - rmse: 0.3634 - val_loss: 0.1395 - val_rmse: 0.3736 - lr: 0.0010\n",
      "Epoch 575/5000\n",
      "5/5 [==============================] - 0s 18ms/step - loss: 0.1091 - rmse: 0.3303 - val_loss: 0.1395 - val_rmse: 0.3735 - lr: 0.0010\n",
      "Epoch 576/5000\n",
      "5/5 [==============================] - 0s 18ms/step - loss: 0.1223 - rmse: 0.3497 - val_loss: 0.1395 - val_rmse: 0.3735 - lr: 0.0010\n",
      "Epoch 577/5000\n",
      "1/5 [=====>........................] - ETA: 0s - loss: 0.1660 - rmse: 0.4075\n",
      "Epoch 577: ReduceLROnPlateau reducing learning rate to 0.0005000000237487257.\n",
      "5/5 [==============================] - 0s 19ms/step - loss: 0.1168 - rmse: 0.3418 - val_loss: 0.1395 - val_rmse: 0.3735 - lr: 0.0010\n",
      "Epoch 578/5000\n",
      "5/5 [==============================] - 0s 19ms/step - loss: 0.1237 - rmse: 0.3517 - val_loss: 0.1395 - val_rmse: 0.3735 - lr: 5.0000e-04\n",
      "Epoch 579/5000\n",
      "5/5 [==============================] - 0s 18ms/step - loss: 0.1108 - rmse: 0.3328 - val_loss: 0.1395 - val_rmse: 0.3735 - lr: 5.0000e-04\n",
      "Epoch 580/5000\n",
      "5/5 [==============================] - 0s 18ms/step - loss: 0.1259 - rmse: 0.3548 - val_loss: 0.1395 - val_rmse: 0.3735 - lr: 5.0000e-04\n",
      "Epoch 581/5000\n",
      "5/5 [==============================] - 0s 18ms/step - loss: 0.1229 - rmse: 0.3506 - val_loss: 0.1395 - val_rmse: 0.3735 - lr: 5.0000e-04\n",
      "Epoch 582/5000\n",
      "5/5 [==============================] - 0s 18ms/step - loss: 0.1161 - rmse: 0.3407 - val_loss: 0.1395 - val_rmse: 0.3735 - lr: 5.0000e-04\n",
      "Epoch 583/5000\n",
      "5/5 [==============================] - 0s 19ms/step - loss: 0.1229 - rmse: 0.3505 - val_loss: 0.1395 - val_rmse: 0.3735 - lr: 5.0000e-04\n",
      "Epoch 584/5000\n",
      "5/5 [==============================] - 0s 19ms/step - loss: 0.1243 - rmse: 0.3526 - val_loss: 0.1395 - val_rmse: 0.3735 - lr: 5.0000e-04\n",
      "Epoch 585/5000\n",
      "5/5 [==============================] - 0s 18ms/step - loss: 0.1125 - rmse: 0.3354 - val_loss: 0.1395 - val_rmse: 0.3734 - lr: 5.0000e-04\n",
      "Epoch 586/5000\n",
      "5/5 [==============================] - 0s 18ms/step - loss: 0.1162 - rmse: 0.3409 - val_loss: 0.1395 - val_rmse: 0.3734 - lr: 5.0000e-04\n",
      "Epoch 587/5000\n",
      "5/5 [==============================] - 0s 18ms/step - loss: 0.1245 - rmse: 0.3528 - val_loss: 0.1395 - val_rmse: 0.3734 - lr: 5.0000e-04\n",
      "Epoch 588/5000\n",
      "5/5 [==============================] - 0s 19ms/step - loss: 0.1152 - rmse: 0.3394 - val_loss: 0.1395 - val_rmse: 0.3734 - lr: 5.0000e-04\n",
      "Epoch 589/5000\n",
      "5/5 [==============================] - 0s 19ms/step - loss: 0.1231 - rmse: 0.3509 - val_loss: 0.1394 - val_rmse: 0.3734 - lr: 5.0000e-04\n",
      "Epoch 590/5000\n",
      "5/5 [==============================] - 0s 19ms/step - loss: 0.1191 - rmse: 0.3451 - val_loss: 0.1394 - val_rmse: 0.3734 - lr: 5.0000e-04\n",
      "Epoch 591/5000\n",
      "5/5 [==============================] - 0s 18ms/step - loss: 0.1094 - rmse: 0.3308 - val_loss: 0.1394 - val_rmse: 0.3734 - lr: 5.0000e-04\n",
      "Epoch 592/5000\n",
      "5/5 [==============================] - 0s 18ms/step - loss: 0.1219 - rmse: 0.3491 - val_loss: 0.1394 - val_rmse: 0.3734 - lr: 5.0000e-04\n",
      "Epoch 593/5000\n",
      "5/5 [==============================] - 0s 18ms/step - loss: 0.1222 - rmse: 0.3496 - val_loss: 0.1394 - val_rmse: 0.3734 - lr: 5.0000e-04\n",
      "Epoch 594/5000\n",
      "5/5 [==============================] - 0s 18ms/step - loss: 0.1195 - rmse: 0.3457 - val_loss: 0.1394 - val_rmse: 0.3734 - lr: 5.0000e-04\n",
      "Epoch 595/5000\n",
      "5/5 [==============================] - 0s 19ms/step - loss: 0.1192 - rmse: 0.3453 - val_loss: 0.1394 - val_rmse: 0.3734 - lr: 5.0000e-04\n",
      "Epoch 596/5000\n",
      "5/5 [==============================] - 0s 19ms/step - loss: 0.1211 - rmse: 0.3479 - val_loss: 0.1394 - val_rmse: 0.3734 - lr: 5.0000e-04\n",
      "Epoch 597/5000\n",
      "5/5 [==============================] - 0s 18ms/step - loss: 0.1131 - rmse: 0.3362 - val_loss: 0.1394 - val_rmse: 0.3734 - lr: 5.0000e-04\n",
      "Epoch 598/5000\n",
      "5/5 [==============================] - 0s 19ms/step - loss: 0.1367 - rmse: 0.3698 - val_loss: 0.1394 - val_rmse: 0.3734 - lr: 5.0000e-04\n",
      "Epoch 599/5000\n",
      "5/5 [==============================] - 0s 18ms/step - loss: 0.1080 - rmse: 0.3286 - val_loss: 0.1394 - val_rmse: 0.3734 - lr: 5.0000e-04\n",
      "Epoch 600/5000\n",
      "5/5 [==============================] - 0s 18ms/step - loss: 0.1172 - rmse: 0.3423 - val_loss: 0.1394 - val_rmse: 0.3734 - lr: 5.0000e-04\n",
      "Epoch 601/5000\n",
      "5/5 [==============================] - 0s 18ms/step - loss: 0.1226 - rmse: 0.3502 - val_loss: 0.1394 - val_rmse: 0.3734 - lr: 5.0000e-04\n",
      "Epoch 602/5000\n",
      "5/5 [==============================] - 0s 19ms/step - loss: 0.1171 - rmse: 0.3422 - val_loss: 0.1394 - val_rmse: 0.3734 - lr: 5.0000e-04\n",
      "Epoch 603/5000\n",
      "5/5 [==============================] - 0s 19ms/step - loss: 0.1298 - rmse: 0.3602 - val_loss: 0.1394 - val_rmse: 0.3734 - lr: 5.0000e-04\n",
      "Epoch 604/5000\n",
      "5/5 [==============================] - 0s 18ms/step - loss: 0.1085 - rmse: 0.3294 - val_loss: 0.1394 - val_rmse: 0.3734 - lr: 5.0000e-04\n",
      "Epoch 605/5000\n",
      "5/5 [==============================] - 0s 18ms/step - loss: 0.1185 - rmse: 0.3443 - val_loss: 0.1394 - val_rmse: 0.3734 - lr: 5.0000e-04\n",
      "Epoch 606/5000\n",
      "5/5 [==============================] - 0s 18ms/step - loss: 0.1183 - rmse: 0.3440 - val_loss: 0.1394 - val_rmse: 0.3733 - lr: 5.0000e-04\n"
     ]
    },
    {
     "name": "stdout",
     "output_type": "stream",
     "text": [
      "Epoch 607/5000\n",
      "5/5 [==============================] - 0s 19ms/step - loss: 0.1228 - rmse: 0.3505 - val_loss: 0.1394 - val_rmse: 0.3733 - lr: 5.0000e-04\n",
      "Epoch 608/5000\n",
      "5/5 [==============================] - 0s 19ms/step - loss: 0.1187 - rmse: 0.3446 - val_loss: 0.1394 - val_rmse: 0.3733 - lr: 5.0000e-04\n",
      "Epoch 609/5000\n",
      "5/5 [==============================] - 0s 18ms/step - loss: 0.1104 - rmse: 0.3322 - val_loss: 0.1394 - val_rmse: 0.3733 - lr: 5.0000e-04\n",
      "Epoch 610/5000\n",
      "5/5 [==============================] - 0s 18ms/step - loss: 0.1204 - rmse: 0.3470 - val_loss: 0.1394 - val_rmse: 0.3733 - lr: 5.0000e-04\n",
      "Epoch 611/5000\n",
      "5/5 [==============================] - 0s 18ms/step - loss: 0.1214 - rmse: 0.3485 - val_loss: 0.1394 - val_rmse: 0.3733 - lr: 5.0000e-04\n",
      "Epoch 612/5000\n",
      "5/5 [==============================] - 0s 18ms/step - loss: 0.1208 - rmse: 0.3476 - val_loss: 0.1394 - val_rmse: 0.3733 - lr: 5.0000e-04\n",
      "Epoch 613/5000\n",
      "5/5 [==============================] - 0s 19ms/step - loss: 0.1223 - rmse: 0.3497 - val_loss: 0.1394 - val_rmse: 0.3733 - lr: 5.0000e-04\n",
      "Epoch 614/5000\n",
      "5/5 [==============================] - 0s 18ms/step - loss: 0.1118 - rmse: 0.3344 - val_loss: 0.1394 - val_rmse: 0.3733 - lr: 5.0000e-04\n",
      "Epoch 615/5000\n",
      "5/5 [==============================] - 0s 18ms/step - loss: 0.1341 - rmse: 0.3662 - val_loss: 0.1394 - val_rmse: 0.3733 - lr: 5.0000e-04\n",
      "Epoch 616/5000\n",
      "5/5 [==============================] - 0s 18ms/step - loss: 0.1033 - rmse: 0.3214 - val_loss: 0.1394 - val_rmse: 0.3733 - lr: 5.0000e-04\n",
      "Epoch 617/5000\n",
      "5/5 [==============================] - 0s 18ms/step - loss: 0.1314 - rmse: 0.3624 - val_loss: 0.1394 - val_rmse: 0.3733 - lr: 5.0000e-04\n",
      "Epoch 618/5000\n",
      "5/5 [==============================] - 0s 18ms/step - loss: 0.1116 - rmse: 0.3341 - val_loss: 0.1394 - val_rmse: 0.3733 - lr: 5.0000e-04\n",
      "Epoch 619/5000\n",
      "5/5 [==============================] - 0s 19ms/step - loss: 0.1209 - rmse: 0.3476 - val_loss: 0.1394 - val_rmse: 0.3733 - lr: 5.0000e-04\n",
      "Epoch 620/5000\n",
      "5/5 [==============================] - 0s 18ms/step - loss: 0.1196 - rmse: 0.3458 - val_loss: 0.1394 - val_rmse: 0.3733 - lr: 5.0000e-04\n",
      "Epoch 621/5000\n",
      "5/5 [==============================] - 0s 18ms/step - loss: 0.1209 - rmse: 0.3477 - val_loss: 0.1394 - val_rmse: 0.3733 - lr: 5.0000e-04\n",
      "Epoch 622/5000\n",
      "5/5 [==============================] - 0s 18ms/step - loss: 0.1273 - rmse: 0.3567 - val_loss: 0.1393 - val_rmse: 0.3733 - lr: 5.0000e-04\n",
      "Epoch 623/5000\n",
      "5/5 [==============================] - 0s 18ms/step - loss: 0.1022 - rmse: 0.3197 - val_loss: 0.1393 - val_rmse: 0.3733 - lr: 5.0000e-04\n",
      "Epoch 624/5000\n",
      "5/5 [==============================] - 0s 18ms/step - loss: 0.1236 - rmse: 0.3515 - val_loss: 0.1393 - val_rmse: 0.3733 - lr: 5.0000e-04\n",
      "Epoch 625/5000\n",
      "5/5 [==============================] - 0s 18ms/step - loss: 0.1180 - rmse: 0.3435 - val_loss: 0.1393 - val_rmse: 0.3733 - lr: 5.0000e-04\n",
      "Epoch 626/5000\n",
      "5/5 [==============================] - 0s 19ms/step - loss: 0.1234 - rmse: 0.3512 - val_loss: 0.1393 - val_rmse: 0.3733 - lr: 5.0000e-04\n",
      "Epoch 627/5000\n",
      "5/5 [==============================] - 0s 18ms/step - loss: 0.1150 - rmse: 0.3390 - val_loss: 0.1393 - val_rmse: 0.3733 - lr: 5.0000e-04\n",
      "Epoch 628/5000\n",
      "5/5 [==============================] - 0s 18ms/step - loss: 0.1241 - rmse: 0.3522 - val_loss: 0.1393 - val_rmse: 0.3733 - lr: 5.0000e-04\n",
      "Epoch 629/5000\n",
      "5/5 [==============================] - 0s 18ms/step - loss: 0.1151 - rmse: 0.3393 - val_loss: 0.1393 - val_rmse: 0.3733 - lr: 5.0000e-04\n",
      "Epoch 630/5000\n",
      "5/5 [==============================] - 0s 18ms/step - loss: 0.1187 - rmse: 0.3446 - val_loss: 0.1393 - val_rmse: 0.3733 - lr: 5.0000e-04\n",
      "Epoch 631/5000\n",
      "5/5 [==============================] - 0s 19ms/step - loss: 0.1190 - rmse: 0.3449 - val_loss: 0.1393 - val_rmse: 0.3733 - lr: 5.0000e-04\n",
      "Epoch 632/5000\n",
      "5/5 [==============================] - 0s 19ms/step - loss: 0.1251 - rmse: 0.3537 - val_loss: 0.1393 - val_rmse: 0.3733 - lr: 5.0000e-04\n",
      "Epoch 633/5000\n",
      "5/5 [==============================] - 0s 18ms/step - loss: 0.1209 - rmse: 0.3477 - val_loss: 0.1393 - val_rmse: 0.3733 - lr: 5.0000e-04\n",
      "Epoch 634/5000\n",
      "5/5 [==============================] - 0s 18ms/step - loss: 0.1146 - rmse: 0.3385 - val_loss: 0.1393 - val_rmse: 0.3733 - lr: 5.0000e-04\n",
      "Epoch 635/5000\n",
      "5/5 [==============================] - 0s 18ms/step - loss: 0.1077 - rmse: 0.3282 - val_loss: 0.1393 - val_rmse: 0.3733 - lr: 5.0000e-04\n",
      "Epoch 636/5000\n",
      "5/5 [==============================] - 0s 18ms/step - loss: 0.1267 - rmse: 0.3560 - val_loss: 0.1393 - val_rmse: 0.3733 - lr: 5.0000e-04\n",
      "Epoch 637/5000\n",
      "5/5 [==============================] - 0s 18ms/step - loss: 0.1114 - rmse: 0.3337 - val_loss: 0.1393 - val_rmse: 0.3733 - lr: 5.0000e-04\n",
      "Epoch 638/5000\n",
      "5/5 [==============================] - 0s 19ms/step - loss: 0.1340 - rmse: 0.3660 - val_loss: 0.1393 - val_rmse: 0.3733 - lr: 5.0000e-04\n",
      "Epoch 639/5000\n",
      "5/5 [==============================] - 0s 18ms/step - loss: 0.1188 - rmse: 0.3446 - val_loss: 0.1393 - val_rmse: 0.3733 - lr: 5.0000e-04\n",
      "Epoch 640/5000\n",
      "5/5 [==============================] - 0s 18ms/step - loss: 0.1070 - rmse: 0.3272 - val_loss: 0.1393 - val_rmse: 0.3733 - lr: 5.0000e-04\n",
      "Epoch 641/5000\n",
      "5/5 [==============================] - 0s 18ms/step - loss: 0.1259 - rmse: 0.3549 - val_loss: 0.1393 - val_rmse: 0.3733 - lr: 5.0000e-04\n",
      "Epoch 642/5000\n",
      "5/5 [==============================] - 0s 18ms/step - loss: 0.1171 - rmse: 0.3422 - val_loss: 0.1393 - val_rmse: 0.3732 - lr: 5.0000e-04\n",
      "Epoch 643/5000\n",
      "5/5 [==============================] - 0s 19ms/step - loss: 0.1245 - rmse: 0.3528 - val_loss: 0.1393 - val_rmse: 0.3732 - lr: 5.0000e-04\n",
      "Epoch 644/5000\n",
      "5/5 [==============================] - 0s 18ms/step - loss: 0.1183 - rmse: 0.3440 - val_loss: 0.1393 - val_rmse: 0.3732 - lr: 5.0000e-04\n",
      "Epoch 645/5000\n",
      "5/5 [==============================] - 0s 18ms/step - loss: 0.1166 - rmse: 0.3414 - val_loss: 0.1393 - val_rmse: 0.3732 - lr: 5.0000e-04\n",
      "Epoch 646/5000\n",
      "5/5 [==============================] - 0s 18ms/step - loss: 0.1128 - rmse: 0.3358 - val_loss: 0.1393 - val_rmse: 0.3732 - lr: 5.0000e-04\n",
      "Epoch 647/5000\n",
      "5/5 [==============================] - 0s 18ms/step - loss: 0.1214 - rmse: 0.3484 - val_loss: 0.1393 - val_rmse: 0.3732 - lr: 5.0000e-04\n",
      "Epoch 648/5000\n",
      "5/5 [==============================] - 0s 18ms/step - loss: 0.1200 - rmse: 0.3464 - val_loss: 0.1393 - val_rmse: 0.3732 - lr: 5.0000e-04\n",
      "Epoch 649/5000\n",
      "5/5 [==============================] - 0s 18ms/step - loss: 0.1184 - rmse: 0.3442 - val_loss: 0.1393 - val_rmse: 0.3732 - lr: 5.0000e-04\n",
      "Epoch 650/5000\n",
      "5/5 [==============================] - 0s 18ms/step - loss: 0.1175 - rmse: 0.3428 - val_loss: 0.1393 - val_rmse: 0.3732 - lr: 5.0000e-04\n",
      "Epoch 651/5000\n",
      "5/5 [==============================] - 0s 18ms/step - loss: 0.1284 - rmse: 0.3583 - val_loss: 0.1393 - val_rmse: 0.3732 - lr: 5.0000e-04\n",
      "Epoch 652/5000\n",
      "5/5 [==============================] - 0s 18ms/step - loss: 0.1098 - rmse: 0.3314 - val_loss: 0.1393 - val_rmse: 0.3732 - lr: 5.0000e-04\n",
      "Epoch 653/5000\n",
      "5/5 [==============================] - 0s 18ms/step - loss: 0.1150 - rmse: 0.3391 - val_loss: 0.1393 - val_rmse: 0.3732 - lr: 5.0000e-04\n",
      "Epoch 654/5000\n",
      "5/5 [==============================] - 0s 18ms/step - loss: 0.1245 - rmse: 0.3528 - val_loss: 0.1393 - val_rmse: 0.3732 - lr: 5.0000e-04\n",
      "Epoch 655/5000\n",
      "5/5 [==============================] - 0s 18ms/step - loss: 0.1167 - rmse: 0.3416 - val_loss: 0.1393 - val_rmse: 0.3732 - lr: 5.0000e-04\n",
      "Epoch 656/5000\n",
      "5/5 [==============================] - 0s 18ms/step - loss: 0.1218 - rmse: 0.3490 - val_loss: 0.1393 - val_rmse: 0.3732 - lr: 5.0000e-04\n",
      "Epoch 657/5000\n",
      "5/5 [==============================] - 0s 18ms/step - loss: 0.1236 - rmse: 0.3515 - val_loss: 0.1393 - val_rmse: 0.3732 - lr: 5.0000e-04\n",
      "Epoch 658/5000\n",
      "5/5 [==============================] - 0s 18ms/step - loss: 0.1184 - rmse: 0.3441 - val_loss: 0.1393 - val_rmse: 0.3732 - lr: 5.0000e-04\n",
      "Epoch 659/5000\n",
      "5/5 [==============================] - 0s 18ms/step - loss: 0.1194 - rmse: 0.3456 - val_loss: 0.1393 - val_rmse: 0.3732 - lr: 5.0000e-04\n",
      "Epoch 660/5000\n",
      "5/5 [==============================] - 0s 18ms/step - loss: 0.1137 - rmse: 0.3371 - val_loss: 0.1393 - val_rmse: 0.3732 - lr: 5.0000e-04\n"
     ]
    },
    {
     "name": "stdout",
     "output_type": "stream",
     "text": [
      "Epoch 661/5000\n",
      "5/5 [==============================] - 0s 18ms/step - loss: 0.1240 - rmse: 0.3522 - val_loss: 0.1393 - val_rmse: 0.3732 - lr: 5.0000e-04\n",
      "Epoch 662/5000\n",
      "5/5 [==============================] - 0s 18ms/step - loss: 0.1208 - rmse: 0.3475 - val_loss: 0.1393 - val_rmse: 0.3732 - lr: 5.0000e-04\n",
      "Epoch 663/5000\n",
      "5/5 [==============================] - 0s 18ms/step - loss: 0.1075 - rmse: 0.3279 - val_loss: 0.1393 - val_rmse: 0.3732 - lr: 5.0000e-04\n",
      "Epoch 664/5000\n",
      "5/5 [==============================] - 0s 18ms/step - loss: 0.1231 - rmse: 0.3508 - val_loss: 0.1393 - val_rmse: 0.3732 - lr: 5.0000e-04\n",
      "Epoch 665/5000\n",
      "5/5 [==============================] - 0s 18ms/step - loss: 0.1139 - rmse: 0.3375 - val_loss: 0.1393 - val_rmse: 0.3732 - lr: 5.0000e-04\n",
      "Epoch 666/5000\n",
      "5/5 [==============================] - 0s 18ms/step - loss: 0.1239 - rmse: 0.3520 - val_loss: 0.1393 - val_rmse: 0.3732 - lr: 5.0000e-04\n",
      "Epoch 667/5000\n",
      "5/5 [==============================] - 0s 18ms/step - loss: 0.1197 - rmse: 0.3460 - val_loss: 0.1393 - val_rmse: 0.3732 - lr: 5.0000e-04\n",
      "Epoch 668/5000\n",
      "5/5 [==============================] - 0s 18ms/step - loss: 0.1179 - rmse: 0.3434 - val_loss: 0.1393 - val_rmse: 0.3732 - lr: 5.0000e-04\n",
      "Epoch 669/5000\n",
      "5/5 [==============================] - 0s 18ms/step - loss: 0.1186 - rmse: 0.3444 - val_loss: 0.1393 - val_rmse: 0.3732 - lr: 5.0000e-04\n",
      "Epoch 670/5000\n",
      "5/5 [==============================] - 0s 18ms/step - loss: 0.1279 - rmse: 0.3576 - val_loss: 0.1393 - val_rmse: 0.3732 - lr: 5.0000e-04\n",
      "Epoch 671/5000\n",
      "5/5 [==============================] - 0s 18ms/step - loss: 0.1076 - rmse: 0.3280 - val_loss: 0.1393 - val_rmse: 0.3732 - lr: 5.0000e-04\n",
      "Epoch 672/5000\n",
      "5/5 [==============================] - 0s 18ms/step - loss: 0.1217 - rmse: 0.3488 - val_loss: 0.1393 - val_rmse: 0.3732 - lr: 5.0000e-04\n",
      "Epoch 673/5000\n",
      "5/5 [==============================] - 0s 18ms/step - loss: 0.1143 - rmse: 0.3381 - val_loss: 0.1393 - val_rmse: 0.3732 - lr: 5.0000e-04\n",
      "Epoch 674/5000\n",
      "5/5 [==============================] - 0s 19ms/step - loss: 0.1235 - rmse: 0.3515 - val_loss: 0.1393 - val_rmse: 0.3732 - lr: 5.0000e-04\n",
      "Epoch 675/5000\n",
      "5/5 [==============================] - 0s 18ms/step - loss: 0.1230 - rmse: 0.3507 - val_loss: 0.1393 - val_rmse: 0.3732 - lr: 5.0000e-04\n",
      "Epoch 676/5000\n",
      "5/5 [==============================] - 0s 18ms/step - loss: 0.1133 - rmse: 0.3366 - val_loss: 0.1393 - val_rmse: 0.3732 - lr: 5.0000e-04\n",
      "Epoch 677/5000\n",
      "1/5 [=====>........................] - ETA: 0s - loss: 0.0821 - rmse: 0.2865Restoring model weights from the end of the best epoch: 477.\n",
      "\n",
      "Epoch 677: ReduceLROnPlateau reducing learning rate to 0.0002500000118743628.\n",
      "5/5 [==============================] - 0s 26ms/step - loss: 0.1250 - rmse: 0.3535 - val_loss: 0.1393 - val_rmse: 0.3732 - lr: 5.0000e-04\n",
      "Epoch 677: early stopping\n"
     ]
    }
   ],
   "source": [
    "start = datetime.datetime.now()\n",
    "history = model.fit(x_train, y_train, validation_data=[x_val, y_val], batch_size=batch_size,\n",
    "                    steps_per_epoch = STEP_SIZE_TRAIN,\n",
    "                    epochs=5000, shuffle=True, callbacks=[es, rp])\n",
    "end = datetime.datetime.now()"
   ]
  },
  {
   "cell_type": "code",
   "execution_count": 28,
   "id": "79204ff0",
   "metadata": {},
   "outputs": [
    {
     "name": "stdout",
     "output_type": "stream",
     "text": [
      "Training time: 0:01:25.120410\n"
     ]
    }
   ],
   "source": [
    "time = end - start\n",
    "print(\"Training time:\", time)"
   ]
  },
  {
   "cell_type": "code",
   "execution_count": 29,
   "id": "3fbce220",
   "metadata": {},
   "outputs": [],
   "source": [
    "storage_dir = \"D:\\\\VAWT_data\\\\flap_steady\\\\flap_steady\\\\result\\\\\"+\"20221120AeroCNN_II_revised\\\\test\"+str(test_rate)\n",
    "if not os.path.exists(storage_dir):\n",
    "    os.makedirs(storage_dir)\n",
    "os.chdir(storage_dir)"
   ]
  },
  {
   "cell_type": "code",
   "execution_count": 30,
   "id": "77cc60d1",
   "metadata": {},
   "outputs": [
    {
     "data": {
      "image/png": "[encoded data removed]",
      "text/plain": [
       "<Figure size 432x288 with 1 Axes>"
      ]
     },
     "metadata": {
      "needs_background": "light"
     },
     "output_type": "display_data"
    }
   ],
   "source": [
    "hist = history.history\n",
    "plt.plot(hist['loss'], lw=2)\n",
    "plt.plot(hist['val_loss'], lw=2)\n",
    "plt.title('Training loss (mean squared error), AeroCNN-II\\nValidation rate={0}, test rate={1}'.format(val_rate, test_rate), size=15)\n",
    "plt.xlabel('Epoch', size=15)\n",
    "plt.yscale('log')\n",
    "#plt.ylim([5e-5, 1e-1])\n",
    "plt.tick_params(axis='both', which='major', labelsize=15)\n",
    "plt.grid()\n",
    "plt.legend(['Training loss','Validation loss'])\n",
    "saveName = \"TrainingLoss_test\"+str(test_rate) + \".jpg\"\n",
    "plt.savefig(saveName, dpi=300, bbox_inches='tight', pad_inches=0.3)\n",
    "plt.show()"
   ]
  },
  {
   "cell_type": "code",
   "execution_count": 31,
   "id": "2e42b6c2",
   "metadata": {},
   "outputs": [
    {
     "data": {
      "image/png": "[encoded data removed]",
      "text/plain": [
       "<Figure size 432x288 with 1 Axes>"
      ]
     },
     "metadata": {
      "needs_background": "light"
     },
     "output_type": "display_data"
    }
   ],
   "source": [
    "plt.plot(hist['rmse'], lw=2)\n",
    "plt.title('Root Mean Squared Error, AeroCNN-II\\nValidation rate={0}, test rate={1}'.format(val_rate, test_rate), size=15)\n",
    "plt.xlabel('Epoch', size=15)\n",
    "plt.tick_params(axis='both', which='major', labelsize=15)\n",
    "plt.show()"
   ]
  },
  {
   "cell_type": "code",
   "execution_count": 32,
   "id": "983b76cb",
   "metadata": {},
   "outputs": [
    {
     "data": {
      "image/png": "[encoded data removed]",
      "text/plain": [
       "<Figure size 432x288 with 1 Axes>"
      ]
     },
     "metadata": {
      "needs_background": "light"
     },
     "output_type": "display_data"
    }
   ],
   "source": [
    "plt.plot(hist['rmse'], lw=2)\n",
    "plt.plot(hist['val_rmse'], lw=2)\n",
    "plt.title('Root Mean Squared Error, AeroCNN-II\\nValidation rate={0}, test rate={1}'.format(val_rate, test_rate), size=15)\n",
    "plt.xlabel('Epoch', size=15)\n",
    "plt.yscale('log')\n",
    "plt.tick_params(axis='both', which='major', labelsize=15)\n",
    "plt.grid()\n",
    "plt.legend(['Training loss','Validation loss'])\n",
    "saveName = \"RMSE_test\"+str(test_rate) + \".jpg\"\n",
    "plt.savefig(saveName, dpi=300, bbox_inches='tight', pad_inches=0.3)\n",
    "plt.show()"
   ]
  },
  {
   "cell_type": "code",
   "execution_count": 33,
   "id": "0c76ae92",
   "metadata": {},
   "outputs": [
    {
     "name": "stdout",
     "output_type": "stream",
     "text": [
      "4/4 [==============================] - 0s 6ms/step - loss: 0.1110 - rmse: 0.3332\n"
     ]
    }
   ],
   "source": [
    "train_results = model.evaluate(x_train, y_train)"
   ]
  },
  {
   "cell_type": "code",
   "execution_count": 34,
   "id": "abc70d8b",
   "metadata": {},
   "outputs": [
    {
     "name": "stdout",
     "output_type": "stream",
     "text": [
      "1/1 [==============================] - 0s 39ms/step - loss: 0.0497 - rmse: 0.2229\n"
     ]
    }
   ],
   "source": [
    "test_results = model.evaluate(x_test, y_test)"
   ]
  },
  {
   "cell_type": "code",
   "execution_count": 35,
   "id": "745feda1",
   "metadata": {},
   "outputs": [
    {
     "name": "stdout",
     "output_type": "stream",
     "text": [
      "4/4 [==============================] - 0s 4ms/step\n",
      "1/1 [==============================] - 0s 15ms/step\n",
      "1/1 [==============================] - 0s 16ms/step\n"
     ]
    }
   ],
   "source": [
    "decoded_train = model.predict(x_train)\n",
    "decoded_val = model.predict(x_val)\n",
    "decoded_test = model.predict(x_test)"
   ]
  },
  {
   "cell_type": "code",
   "execution_count": 36,
   "id": "55d01da2",
   "metadata": {},
   "outputs": [],
   "source": [
    "model_directory = \"D:\\\\TrainedModels\\\\20221119\"\n",
    "if not os.path.exists(model_directory):\n",
    "    os.makedirs(model_directory)\n",
    "os.chdir(model_directory)\n",
    "model_name = \"20221119steadyValidation_AeroCNN_II_val\"+str(val_rate)+\"_test\"+str(test_rate)+ \"_\" + str(n_units) +\"units_normalized.h5\"\n",
    "model.save(model_name, overwrite=True, include_optimizer=True, save_format='h5')"
   ]
  },
  {
   "cell_type": "code",
   "execution_count": 37,
   "id": "c38a34c6",
   "metadata": {},
   "outputs": [],
   "source": [
    "error_train_abs = np.abs(decoded_train - y_train)"
   ]
  },
  {
   "cell_type": "code",
   "execution_count": 38,
   "id": "66ffa410",
   "metadata": {},
   "outputs": [],
   "source": [
    "error_val_abs = np.abs(decoded_val - y_val)"
   ]
  },
  {
   "cell_type": "code",
   "execution_count": 39,
   "id": "4c0dfd6f",
   "metadata": {},
   "outputs": [],
   "source": [
    "error_test_abs = np.abs(decoded_test - y_test)"
   ]
  },
  {
   "cell_type": "code",
   "execution_count": 40,
   "id": "8e21d002",
   "metadata": {},
   "outputs": [],
   "source": [
    "os.chdir(storage_dir)"
   ]
  },
  {
   "cell_type": "code",
   "execution_count": 41,
   "id": "31fb219f",
   "metadata": {},
   "outputs": [
    {
     "name": "stdout",
     "output_type": "stream",
     "text": [
      "0.3901775410141268\n"
     ]
    }
   ],
   "source": [
    "l2_error_train = np.sqrt(np.sum((decoded_train - y_train)**2) / np.sum(y_train**2))\n",
    "print(l2_error_train)"
   ]
  },
  {
   "cell_type": "code",
   "execution_count": 42,
   "id": "3f4f2dbe",
   "metadata": {},
   "outputs": [
    {
     "name": "stdout",
     "output_type": "stream",
     "text": [
      "0.4264194521113362\n"
     ]
    }
   ],
   "source": [
    "l2_error_val = np.sqrt(np.sum((decoded_val - y_val)**2) / np.sum(y_val**2))\n",
    "print(l2_error_val)"
   ]
  },
  {
   "cell_type": "code",
   "execution_count": 43,
   "id": "3770434c",
   "metadata": {},
   "outputs": [
    {
     "name": "stdout",
     "output_type": "stream",
     "text": [
      "0.25767190638718246\n"
     ]
    }
   ],
   "source": [
    "l2_error_test = np.sqrt(np.sum((decoded_test - y_test)**2) / np.sum(y_test**2))\n",
    "print(l2_error_test)"
   ]
  },
  {
   "cell_type": "code",
   "execution_count": 44,
   "id": "874ba423",
   "metadata": {},
   "outputs": [
    {
     "name": "stdout",
     "output_type": "stream",
     "text": [
      "1.1892071357407399\n"
     ]
    }
   ],
   "source": [
    "l2_error_Cd_train = np.sqrt(np.sum((decoded_train[:,0] - y_train[:,0])**2) / np.sum(y_train[:,0]**2))\n",
    "print(l2_error_Cd_train)"
   ]
  },
  {
   "cell_type": "code",
   "execution_count": 45,
   "id": "c114a5ff",
   "metadata": {},
   "outputs": [
    {
     "name": "stdout",
     "output_type": "stream",
     "text": [
      "0.3879444005028891\n"
     ]
    }
   ],
   "source": [
    "l2_error_Cl_train = np.sqrt(np.sum((decoded_train[:,1] - y_train[:,1])**2) / np.sum(y_train[:,1]**2))\n",
    "print(l2_error_Cl_train)"
   ]
  },
  {
   "cell_type": "code",
   "execution_count": 46,
   "id": "7c2b06d2",
   "metadata": {},
   "outputs": [
    {
     "name": "stdout",
     "output_type": "stream",
     "text": [
      "0.849848427555373\n"
     ]
    }
   ],
   "source": [
    "l2_error_Cd_val = np.sqrt(np.sum((decoded_val[:,0] - y_val[:,0])**2) / np.sum(y_val[:,0]**2))\n",
    "print(l2_error_Cd_val)"
   ]
  },
  {
   "cell_type": "code",
   "execution_count": 47,
   "id": "ea2a337d",
   "metadata": {},
   "outputs": [
    {
     "name": "stdout",
     "output_type": "stream",
     "text": [
      "0.42563362625249884\n"
     ]
    }
   ],
   "source": [
    "l2_error_Cl_val = np.sqrt(np.sum((decoded_val[:,1] - y_val[:,1])**2) / np.sum(y_val[:,1]**2))\n",
    "print(l2_error_Cl_val)"
   ]
  },
  {
   "cell_type": "code",
   "execution_count": 48,
   "id": "79a27012",
   "metadata": {},
   "outputs": [
    {
     "name": "stdout",
     "output_type": "stream",
     "text": [
      "1.2573511969095608\n"
     ]
    }
   ],
   "source": [
    "l2_error_Cd_test = np.sqrt(np.sum((decoded_test[:,0] - y_test[:,0])**2) / np.sum(y_test[:,0]**2))\n",
    "print(l2_error_Cd_test)"
   ]
  },
  {
   "cell_type": "code",
   "execution_count": 49,
   "id": "f54f0ade",
   "metadata": {},
   "outputs": [
    {
     "name": "stdout",
     "output_type": "stream",
     "text": [
      "0.254690057845771\n"
     ]
    }
   ],
   "source": [
    "l2_error_Cl_test = np.sqrt(np.sum((decoded_test[:,1] - y_test[:,1])**2) / np.sum(y_test[:,1]**2))\n",
    "print(l2_error_Cl_test)"
   ]
  },
  {
   "cell_type": "code",
   "execution_count": 50,
   "id": "d9785cd7",
   "metadata": {
    "scrolled": true
   },
   "outputs": [],
   "source": [
    "l2_error_train_list = []\n",
    "for i in range(0, len(x_train)):\n",
    "    l2_error_train_data = np.sqrt(np.sum((decoded_train[i] - y_train[i])**2) / np.sum(y_train[i]**2))\n",
    "    l2_error_train_list.append(l2_error_train_data)"
   ]
  },
  {
   "cell_type": "code",
   "execution_count": 51,
   "id": "01cd7279",
   "metadata": {},
   "outputs": [],
   "source": [
    "l2_error_val_list = []\n",
    "for i in range(0, len(x_val)):\n",
    "    l2_error_val_data = np.sqrt(np.sum((decoded_val[i] - y_val[i])**2) / np.sum(y_val[i]**2))\n",
    "    l2_error_val_list.append(l2_error_val_data)"
   ]
  },
  {
   "cell_type": "code",
   "execution_count": 52,
   "id": "72b6a696",
   "metadata": {
    "scrolled": true
   },
   "outputs": [],
   "source": [
    "l2_error_test_list = []\n",
    "for i in range(0, len(x_test)):\n",
    "    l2_error_test_data = np.sqrt(np.sum((decoded_test[i] - y_test[i])**2) / np.sum(y_test[i]**2))\n",
    "    l2_error_test_list.append(l2_error_test_data)"
   ]
  },
  {
   "cell_type": "code",
   "execution_count": 53,
   "id": "eeff7b3b",
   "metadata": {},
   "outputs": [],
   "source": [
    "l2_error_train_Cd_list = []\n",
    "for i in range(0, len(x_train)):\n",
    "    l2_error_train_Cd_data = np.sqrt(np.sum((decoded_train[i][0] - y_train[i][0])**2) / np.sum(y_train[i][0]**2))\n",
    "    l2_error_train_Cd_list.append(l2_error_train_Cd_data)"
   ]
  },
  {
   "cell_type": "code",
   "execution_count": 54,
   "id": "73ffd0dc",
   "metadata": {},
   "outputs": [],
   "source": [
    "l2_error_train_Cl_list = []\n",
    "for i in range(0, len(x_train)):\n",
    "    l2_error_train_Cl_data = np.sqrt(np.sum((decoded_train[i][1] - y_train[i][1])**2) / np.sum(y_train[i][1]**2))\n",
    "    l2_error_train_Cl_list.append(l2_error_train_Cl_data)"
   ]
  },
  {
   "cell_type": "code",
   "execution_count": 55,
   "id": "d4c8826d",
   "metadata": {},
   "outputs": [],
   "source": [
    "l2_error_val_Cd_list = []\n",
    "for i in range(0, len(x_val)):\n",
    "    l2_error_val_Cd_data = np.sqrt(np.sum((decoded_val[i][0] - y_val[i][0])**2) / np.sum(y_val[i][0]**2))\n",
    "    l2_error_val_Cd_list.append(l2_error_val_Cd_data)"
   ]
  },
  {
   "cell_type": "code",
   "execution_count": 56,
   "id": "3ea3b4a2",
   "metadata": {},
   "outputs": [],
   "source": [
    "l2_error_val_Cl_list = []\n",
    "for i in range(0, len(x_val)):\n",
    "    l2_error_val_Cl_data = np.sqrt(np.sum((decoded_val[i][1] - y_val[i][1])**2) / np.sum(y_val[i][1]**2))\n",
    "    l2_error_val_Cl_list.append(l2_error_val_Cl_data)"
   ]
  },
  {
   "cell_type": "code",
   "execution_count": 57,
   "id": "2fed79ac",
   "metadata": {},
   "outputs": [],
   "source": [
    "l2_error_test_Cd_list = []\n",
    "for i in range(0, len(x_test)):\n",
    "    l2_error_test_Cd_data = np.sqrt(np.sum((decoded_test[i][0] - y_test[i][0])**2) / np.sum(y_test[i][0]**2))\n",
    "    l2_error_test_Cd_list.append(l2_error_test_Cd_data)"
   ]
  },
  {
   "cell_type": "code",
   "execution_count": 58,
   "id": "b3b81baa",
   "metadata": {},
   "outputs": [],
   "source": [
    "l2_error_test_Cl_list = []\n",
    "for i in range(0, len(x_test)):\n",
    "    l2_error_test_Cl_data = np.sqrt(np.sum((decoded_test[i][1] - y_test[i][1])**2) / np.sum(y_test[i][1]**2))\n",
    "    l2_error_test_Cl_list.append(l2_error_test_Cl_data)"
   ]
  },
  {
   "cell_type": "code",
   "execution_count": 59,
   "id": "cd795141",
   "metadata": {},
   "outputs": [
    {
     "data": {
      "image/png": "[encoded data removed]",
      "text/plain": [
       "<Figure size 432x288 with 1 Axes>"
      ]
     },
     "metadata": {
      "needs_background": "light"
     },
     "output_type": "display_data"
    }
   ],
   "source": [
    "plt.plot(np.linspace(1,x_train.shape[0],x_train.shape[0]),\n",
    "         l2_error_train*np.ones(x_train.shape[0],), 'k', lw=2.5)\n",
    "plt.scatter(np.linspace(1, x_train.shape[0], x_train.shape[0]), l2_error_train_list, c='b')\n",
    "plt.xlabel('Index', fontsize=15)\n",
    "plt.ylabel('$L_2$ error norm', fontsize=15)\n",
    "plt.yscale('log')\n",
    "plt.title('$L_2$ error norm distribution - AeroCNN-II, training\\nTest rate {0}, {1} units, $\\epsilon$ = {2:0.4f}'.format(test_rate,\n",
    "                                                                                                                         n_units,\n",
    "                                                                                                                         l2_error_train), fontsize=15)\n",
    "plt.grid()\n",
    "saveName = \"trainingErrorDistribution.jpg\"\n",
    "plt.savefig(saveName, dpi=300, bbox_inches='tight', pad_inches=0.3)\n",
    "plt.show()"
   ]
  },
  {
   "cell_type": "code",
   "execution_count": 60,
   "id": "5fe786a6",
   "metadata": {},
   "outputs": [
    {
     "data": {
      "image/png": "[encoded data removed]",
      "text/plain": [
       "<Figure size 432x288 with 1 Axes>"
      ]
     },
     "metadata": {
      "needs_background": "light"
     },
     "output_type": "display_data"
    }
   ],
   "source": [
    "plt.plot(np.linspace(1,x_val.shape[0],x_val.shape[0]),\n",
    "         l2_error_val*np.ones(x_val.shape[0],), 'k', lw=2.5)\n",
    "plt.scatter(np.linspace(1, x_val.shape[0], x_val.shape[0]), l2_error_val_list, c='b')\n",
    "plt.xlabel('Index', fontsize=15)\n",
    "plt.ylabel('$L_2$ error norm', fontsize=15)\n",
    "plt.yscale('log')\n",
    "plt.title('$L_2$ error norm distribution - AeroCNN-II, training\\nTest rate {0}, {1} units, $\\epsilon$ = {2:0.4f}'.format(test_rate,\n",
    "                                                                                                                         n_units,\n",
    "                                                                                                                         l2_error_val), fontsize=15)\n",
    "plt.grid()\n",
    "saveName = \"validationErrorDistribution.jpg\"\n",
    "plt.savefig(saveName, dpi=300, bbox_inches='tight', pad_inches=0.3)\n",
    "plt.show()"
   ]
  },
  {
   "cell_type": "code",
   "execution_count": 61,
   "id": "342bbd53",
   "metadata": {},
   "outputs": [
    {
     "data": {
      "image/png": "[encoded data removed]",
      "text/plain": [
       "<Figure size 432x288 with 1 Axes>"
      ]
     },
     "metadata": {
      "needs_background": "light"
     },
     "output_type": "display_data"
    }
   ],
   "source": [
    "plt.plot(np.linspace(1,x_test.shape[0],x_test.shape[0]),\n",
    "         l2_error_test*np.ones(x_test.shape[0],), 'k', lw=2.5)\n",
    "plt.scatter(np.linspace(1, x_test.shape[0], x_test.shape[0]), l2_error_test_list, c='b')\n",
    "plt.xlabel('Index', fontsize=15)\n",
    "plt.ylabel('$L_2$ error norm', fontsize=15)\n",
    "plt.yscale('log')\n",
    "plt.title('$L_2$ error norm distribution - AeroCNN-II, training\\nTest rate {0}, {1} units, $\\epsilon$ = {2:0.4f}'.format(test_rate,\n",
    "                                                                                                                         n_units,\n",
    "                                                                                                                         l2_error_test), fontsize=15)\n",
    "plt.grid()\n",
    "saveName = \"testErrorDistribution.jpg\"\n",
    "plt.savefig(saveName, dpi=300, bbox_inches='tight', pad_inches=0.3)\n",
    "plt.show()"
   ]
  },
  {
   "cell_type": "code",
   "execution_count": 62,
   "id": "fbf40346",
   "metadata": {},
   "outputs": [
    {
     "data": {
      "image/png": "[encoded data removed]",
      "text/plain": [
       "<Figure size 432x288 with 1 Axes>"
      ]
     },
     "metadata": {
      "needs_background": "light"
     },
     "output_type": "display_data"
    }
   ],
   "source": [
    "plt.plot(np.linspace(1,x_train.shape[0],x_train.shape[0]),\n",
    "         l2_error_Cd_train*np.ones(x_train.shape[0],), 'k', lw=2.5)\n",
    "plt.scatter(np.linspace(1, x_train.shape[0], x_train.shape[0]), l2_error_train_Cd_list, c='b')\n",
    "plt.xlabel('Index', fontsize=15)\n",
    "plt.ylabel('$L_2$ error norm', fontsize=15)\n",
    "plt.yscale('log')\n",
    "plt.title('$L_2$ error norm distribution - AeroCNN-II, training\\n$C_d$ Test rate {0}, {1} units, $\\epsilon$ = {2:0.4f}'.format(test_rate,\n",
    "                                                                                                                         n_units,\n",
    "                                                                                                                         l2_error_Cd_train), fontsize=15)\n",
    "plt.grid()\n",
    "saveName = \"CdtrainingErrorDistribution.jpg\"\n",
    "plt.savefig(saveName, dpi=300, bbox_inches='tight', pad_inches=0.3)\n",
    "plt.show()"
   ]
  },
  {
   "cell_type": "code",
   "execution_count": 63,
   "id": "01c02929",
   "metadata": {},
   "outputs": [
    {
     "data": {
      "image/png": "[encoded data removed]",
      "text/plain": [
       "<Figure size 432x288 with 1 Axes>"
      ]
     },
     "metadata": {
      "needs_background": "light"
     },
     "output_type": "display_data"
    }
   ],
   "source": [
    "plt.plot(np.linspace(1,x_train.shape[0],x_train.shape[0]),\n",
    "         l2_error_Cl_train*np.ones(x_train.shape[0],), 'k', lw=2.5)\n",
    "plt.scatter(np.linspace(1, x_train.shape[0], x_train.shape[0]), l2_error_train_Cl_list, c='b')\n",
    "plt.xlabel('Index', fontsize=15)\n",
    "plt.ylabel('$L_2$ error norm', fontsize=15)\n",
    "plt.yscale('log')\n",
    "plt.title('$L_2$ error norm distribution - AeroCNN-II, training\\n$C_l$ Test rate {0}, {1} units, $\\epsilon$ = {2:0.4f}'.format(test_rate,\n",
    "                                                                                                                         n_units,\n",
    "                                                                                                                         l2_error_Cl_train), fontsize=15)\n",
    "plt.grid()\n",
    "saveName = \"CltrainingErrorDistribution.jpg\"\n",
    "plt.savefig(saveName, dpi=300, bbox_inches='tight', pad_inches=0.3)\n",
    "plt.show()"
   ]
  },
  {
   "cell_type": "code",
   "execution_count": 64,
   "id": "809fe992",
   "metadata": {},
   "outputs": [
    {
     "data": {
      "image/png": "[encoded data removed]",
      "text/plain": [
       "<Figure size 432x288 with 1 Axes>"
      ]
     },
     "metadata": {
      "needs_background": "light"
     },
     "output_type": "display_data"
    }
   ],
   "source": [
    "plt.plot(np.linspace(1,x_val.shape[0],x_val.shape[0]),\n",
    "         l2_error_Cd_val*np.ones(x_val.shape[0],), 'k', lw=2.5)\n",
    "plt.scatter(np.linspace(1, x_val.shape[0], x_val.shape[0]), l2_error_val_Cd_list, c='b')\n",
    "plt.xlabel('Index', fontsize=15)\n",
    "plt.ylabel('$L_2$ error norm', fontsize=15)\n",
    "plt.yscale('log')\n",
    "plt.title('$L_2$ error norm distribution - AeroCNN-II, validation\\n$C_d$, test rate {0}, validation rate {1}, $\\epsilon$ = {2:0.4f}'.format(test_rate,\n",
    "                                                                                                                                            val_rate,\n",
    "                                                                                                                                            l2_error_Cd_val), fontsize=15)\n",
    "plt.grid()\n",
    "saveName = \"CdvalidationErrorDistribution.jpg\"\n",
    "plt.savefig(saveName, dpi=300, bbox_inches='tight', pad_inches=0.3)\n",
    "plt.show()"
   ]
  },
  {
   "cell_type": "code",
   "execution_count": 65,
   "id": "5df69df2",
   "metadata": {},
   "outputs": [
    {
     "data": {
      "image/png": "[encoded data removed]",
      "text/plain": [
       "<Figure size 432x288 with 1 Axes>"
      ]
     },
     "metadata": {
      "needs_background": "light"
     },
     "output_type": "display_data"
    }
   ],
   "source": [
    "plt.plot(np.linspace(1,x_val.shape[0],x_val.shape[0]),\n",
    "         l2_error_Cl_val*np.ones(x_val.shape[0],), 'k', lw=2.5)\n",
    "plt.scatter(np.linspace(1, x_val.shape[0], x_val.shape[0]), l2_error_val_Cl_list, c='b')\n",
    "plt.xlabel('Index', fontsize=15)\n",
    "plt.ylabel('$L_2$ error norm', fontsize=15)\n",
    "plt.yscale('log')\n",
    "plt.title('$L_2$ error norm distribution - AeroCNN-II, validation\\n$C_l$, test rate {0}, validation rate {1}, $\\epsilon$ = {2:0.4f}'.format(test_rate, \n",
    "                                                                                                                                            val_rate,\n",
    "                                                                                                                                            l2_error_Cl_val), fontsize=15)\n",
    "plt.grid()\n",
    "saveName = \"ClvalidationErrorDistribution.jpg\"\n",
    "plt.savefig(saveName, dpi=300, bbox_inches='tight', pad_inches=0.3)\n",
    "plt.show()"
   ]
  },
  {
   "cell_type": "code",
   "execution_count": 66,
   "id": "9cde0219",
   "metadata": {},
   "outputs": [
    {
     "data": {
      "image/png": "[encoded data removed]",
      "text/plain": [
       "<Figure size 432x288 with 1 Axes>"
      ]
     },
     "metadata": {
      "needs_background": "light"
     },
     "output_type": "display_data"
    }
   ],
   "source": [
    "plt.plot(np.linspace(1,x_test.shape[0],x_test.shape[0]),\n",
    "         l2_error_Cd_test*np.ones(x_test.shape[0],), 'k', lw=2.5)\n",
    "plt.scatter(np.linspace(1, x_test.shape[0], x_test.shape[0]), l2_error_test_Cd_list, c='b')\n",
    "plt.xlabel('Index', fontsize=15)\n",
    "plt.ylabel('$L_2$ error norm', fontsize=15)\n",
    "plt.yscale('log')\n",
    "plt.title('$L_2$ error norm distribution - AeroCNN-II, test\\n$C_d$ Test rate {0}, {1} units, $\\epsilon$ = {2:0.4f}'.format(test_rate,\n",
    "                                                                                                                           n_units,\n",
    "                                                                                                                           l2_error_Cd_test), fontsize=15)\n",
    "plt.grid()\n",
    "saveName = \"CdtestErrorDistribution.jpg\"\n",
    "plt.savefig(saveName, dpi=300, bbox_inches='tight', pad_inches=0.3)\n",
    "plt.show()"
   ]
  },
  {
   "cell_type": "code",
   "execution_count": 67,
   "id": "9bd064b8",
   "metadata": {},
   "outputs": [
    {
     "data": {
      "image/png": "[encoded data removed]",
      "text/plain": [
       "<Figure size 432x288 with 1 Axes>"
      ]
     },
     "metadata": {
      "needs_background": "light"
     },
     "output_type": "display_data"
    }
   ],
   "source": [
    "plt.plot(np.linspace(1,x_test.shape[0],x_test.shape[0]),\n",
    "         l2_error_Cl_test*np.ones(x_test.shape[0],), 'k', lw=2.5)\n",
    "plt.scatter(np.linspace(1, x_test.shape[0], x_test.shape[0]), l2_error_test_Cl_list, c='b')\n",
    "plt.xlabel('Index', fontsize=15)\n",
    "plt.ylabel('$L_2$ error norm', fontsize=15)\n",
    "plt.yscale('log')\n",
    "plt.title('$L_2$ error norm distribution - AeroCNN-II, test\\n$C_l$ Test rate {0}, {1} units, $\\epsilon$ = {2:0.4f}'.format(test_rate,\n",
    "                                                                                                                           n_units,\n",
    "                                                                                                                           l2_error_Cl_test), fontsize=15)\n",
    "plt.grid()\n",
    "saveName = \"CltestErrorDistribution.jpg\"\n",
    "plt.savefig(saveName, dpi=300, bbox_inches='tight', pad_inches=0.3)\n",
    "plt.show()"
   ]
  },
  {
   "cell_type": "code",
   "execution_count": null,
   "id": "e8978795",
   "metadata": {},
   "outputs": [],
   "source": []
  }
 ],
 "metadata": {
  "kernelspec": {
   "display_name": "Python 3 (ipykernel)",
   "language": "python",
   "name": "python3"
  },
  "language_info": {
   "codemirror_mode": {
    "name": "ipython",
    "version": 3
   },
   "file_extension": ".py",
   "mimetype": "text/x-python",
   "name": "python",
   "nbconvert_exporter": "python",
   "pygments_lexer": "ipython3",
   "version": "3.9.13"
  }
 },
 "nbformat": 4,
 "nbformat_minor": 5
}
