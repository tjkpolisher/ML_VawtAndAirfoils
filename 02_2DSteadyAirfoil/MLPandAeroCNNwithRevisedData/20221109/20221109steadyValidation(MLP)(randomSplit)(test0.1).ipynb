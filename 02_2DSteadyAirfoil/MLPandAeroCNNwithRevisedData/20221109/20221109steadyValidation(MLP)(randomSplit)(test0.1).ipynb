{
 "cells": [
  {
   "cell_type": "code",
   "execution_count": 1,
   "id": "5bc91fac",
   "metadata": {},
   "outputs": [],
   "source": [
    "# Validation of the steady-state simulation - Case 1: MLP\n",
    "import os\n",
    "import sys\n",
    "import numpy as np\n",
    "import pandas as pd\n",
    "import tensorflow as tf\n",
    "import matplotlib.pyplot as plt\n",
    "from sklearn.model_selection import train_test_split\n",
    "\n",
    "import datetime\n",
    "%matplotlib inline"
   ]
  },
  {
   "cell_type": "code",
   "execution_count": 2,
   "id": "d1130c26",
   "metadata": {},
   "outputs": [],
   "source": [
    "### Defining parameters and hyperparameters of the model\n",
    "\n",
    "n_units=128 # Number of units in the hidden layer of the MLP network\n",
    "input_size = 100 + 3 # Size of input for the network (100 coefficients and 3 other parameters, AoA, h, beta)\n",
    "lr = 1e-03 # Learning rate of the network\n",
    "test_rate=0.1 # Defines the ratio of training dataset and test dataset\n",
    "n_data = 16 # Number of txt files from which the aerodynamic coefficients are extracted\n",
    "batch_size = 20 # Mini-batch size"
   ]
  },
  {
   "cell_type": "code",
   "execution_count": 3,
   "id": "e6d84b05",
   "metadata": {},
   "outputs": [],
   "source": [
    "# Changing working directory\n",
    "\n",
    "main_directory = 'D:\\\\VAWT_data\\\\flap_steady\\\\flap_steady'\n",
    "os.chdir(main_directory)"
   ]
  },
  {
   "cell_type": "code",
   "execution_count": 4,
   "id": "5f011af0",
   "metadata": {},
   "outputs": [],
   "source": [
    "## Basic parameters\n",
    "\n",
    "c = 1 # Chord length\n",
    "h = np.array([0.01, 0.02, 0.03]) * c # Height of the Gurney flaps\n",
    "t = 0.02 * h # Thickness of the Gurney flaps\n",
    "alpha = np.linspace(0, 16, 9).reshape((9,1)) # Angles of attack\n",
    "beta = np.linspace(30, 90, 5).reshape((5,1))"
   ]
  },
  {
   "cell_type": "code",
   "execution_count": 5,
   "id": "753649ba",
   "metadata": {},
   "outputs": [],
   "source": [
    "h = h.reshape((-1,1))\n",
    "t = t.reshape((-1,1))"
   ]
  },
  {
   "cell_type": "code",
   "execution_count": 6,
   "id": "179966fc",
   "metadata": {},
   "outputs": [],
   "source": [
    "n_alpha = alpha.shape[0] # Number of the angles of attack\n",
    "n_beta = beta.shape[0] # Number of the Gurney flap inclination\n",
    "n_h = h.shape[0] # Number of the height of the Gurney flaps\n",
    "n_cases = n_data * n_alpha # Total number of cases(Number of geometries * Number of angles of attack)"
   ]
  },
  {
   "cell_type": "code",
   "execution_count": 7,
   "id": "62d7f718",
   "metadata": {},
   "outputs": [],
   "source": [
    "## Creating Input dataset\n",
    "# Defining the angles of attack\n",
    "\n",
    "aa = np.zeros((n_cases,1))\n",
    "for i in range(0, n_data):\n",
    "    aa[n_alpha*i:n_alpha*(i+1),:] = alpha[:,:]"
   ]
  },
  {
   "cell_type": "code",
   "execution_count": 8,
   "id": "935dd936",
   "metadata": {},
   "outputs": [
    {
     "data": {
      "text/plain": [
       "(144, 1)"
      ]
     },
     "execution_count": 8,
     "metadata": {},
     "output_type": "execute_result"
    }
   ],
   "source": [
    "aa.shape"
   ]
  },
  {
   "cell_type": "code",
   "execution_count": 9,
   "id": "c7c6b454",
   "metadata": {},
   "outputs": [
    {
     "name": "stdout",
     "output_type": "stream",
     "text": [
      "(144, 1)\n"
     ]
    }
   ],
   "source": [
    "# Defining the Gurney flap inclination\n",
    "# In case of mere NACA0018, the bb in those indexes are considered as zero.\n",
    "beta_0 = np.zeros((n_alpha,1)) # Values for sheer NACA0018\n",
    "b_ = np.ones((n_alpha,1)) # Template for the inclination for a single h and single beta\n",
    "bb_imp = np.zeros((n_alpha*n_beta,1))\n",
    "\n",
    "for j in range(n_beta):\n",
    "    b_imp = b_ * beta[j]\n",
    "    bb_imp[n_alpha*j:n_alpha*(j+1),:] = b_imp[:,:]\n",
    "    \n",
    "bb_imp = bb_imp.reshape((-1,1))\n",
    "\n",
    "bb = np.vstack((beta_0, bb_imp, bb_imp, bb_imp))\n",
    "    \n",
    "print(bb.shape)"
   ]
  },
  {
   "cell_type": "code",
   "execution_count": 10,
   "id": "2a9b10be",
   "metadata": {},
   "outputs": [],
   "source": [
    "# Defining the Gurney flap height\n",
    "# In case of mere NACA0018, the hh in those indexes are considered as zero.\n",
    "\n",
    "hh = np.concatenate((np.zeros(n_alpha), h[0]*np.ones(n_beta*n_alpha), h[1]*np.ones(n_beta*n_alpha), h[2]*np.ones(n_beta*n_alpha)))\n",
    "hh = hh.reshape((-1,1))"
   ]
  },
  {
   "cell_type": "code",
   "execution_count": 11,
   "id": "6a5737c2",
   "metadata": {},
   "outputs": [],
   "source": [
    "# Importing the coordinates of NACA0018 (airfoil15)\n",
    "origin_coord = \"D:\\\\AirfoilClCdCoordinates_out\\\\AirfoilClCdCoordinates_out\\\\airfoil15\"\n",
    "\n",
    "csv_file_name = origin_coord + '\\\\airfoilOut15.txt'\n",
    "data = pd.read_csv(csv_file_name, header=None)"
   ]
  },
  {
   "cell_type": "code",
   "execution_count": 12,
   "id": "1633c2ae",
   "metadata": {},
   "outputs": [],
   "source": [
    "baseline_coord = data.iloc[:,:].values"
   ]
  },
  {
   "cell_type": "code",
   "execution_count": 13,
   "id": "e138380e",
   "metadata": {},
   "outputs": [],
   "source": [
    "standard_coord = baseline_coord.reshape((1, -1))"
   ]
  },
  {
   "cell_type": "code",
   "execution_count": 14,
   "id": "32b80892",
   "metadata": {},
   "outputs": [
    {
     "name": "stdout",
     "output_type": "stream",
     "text": [
      "(144, 100)\n"
     ]
    }
   ],
   "source": [
    "airfoil_coord = np.repeat(standard_coord, n_cases, axis=0)\n",
    "print(airfoil_coord.shape)"
   ]
  },
  {
   "cell_type": "code",
   "execution_count": 15,
   "id": "d2bd028f",
   "metadata": {},
   "outputs": [],
   "source": [
    "# The rows mean the number of points at the Gurney flap\n",
    "# and the columns mean the number of the cases\n",
    "flap_left = np.zeros((15,5))\n",
    "flap_right = np.zeros((15,5))\n",
    "\n",
    "for i in range(n_h):\n",
    "    # Defining coordinates of the flaps with respect to beta=90 degree.\n",
    "    yLeft = np.linspace(-h[i]/5, -h[i], 5).reshape((-1,1))\n",
    "    yRight = np.linspace(-h[i]/5, -h[i], 5).reshape((-1,1))\n",
    "    xLeft = np.ones((5,1)) - 0.02*h[i]\n",
    "    xRight = np.ones((5,1))\n",
    "    \n",
    "    for j in range(n_beta):\n",
    "        betaValue = beta[j]\n",
    "        \n",
    "        # Rotating transformation\n",
    "        rotateTransf = np.array([[np.cos(90-betaValue), -np.sin(90-betaValue)],\n",
    "                                 [np.sin(90-betaValue), np.cos(90-betaValue)]])\n",
    "        rotateTransf = rotateTransf.reshape((2,2))\n",
    "        \n",
    "        LeftImp = np.hstack((xLeft-1, yLeft))\n",
    "        RightImp = np.hstack((xRight-1, yRight))\n",
    "        \n",
    "        rotatedFlapLeft = rotateTransf @ LeftImp.T # shape: 2*5 (x-coordinates on first row, y-coordinates on second row)\n",
    "        rotatedFlapRight = rotateTransf @ RightImp.T\n",
    "        \n",
    "        # All we need is the y-coordinates of the flaps\n",
    "        flap_left[5*i+j,:] = rotatedFlapLeft[1,:]\n",
    "        flap_right[5*i+j,:] = rotatedFlapRight[1,:]"
   ]
  },
  {
   "cell_type": "code",
   "execution_count": 16,
   "id": "9fc25e8b",
   "metadata": {},
   "outputs": [
    {
     "name": "stdout",
     "output_type": "stream",
     "text": [
      "(15, 10)\n"
     ]
    }
   ],
   "source": [
    "# Combining y-coordinates from the left and the right side of the flaps\n",
    "flap_coords = np.hstack((flap_left, np.flip(flap_right, axis=1)))\n",
    "print(flap_coords.shape)"
   ]
  },
  {
   "cell_type": "code",
   "execution_count": 17,
   "id": "d6c466be",
   "metadata": {},
   "outputs": [
    {
     "name": "stdout",
     "output_type": "stream",
     "text": [
      "(144, 10)\n"
     ]
    }
   ],
   "source": [
    "# Placing the flap_coords into total coordinate variable\n",
    "# Total coordinate = Airfoil coordinates + flap coordinates\n",
    "flap_coords2 = np.zeros((n_cases, 10))\n",
    "for i in range(n_alpha, n_cases):\n",
    "    flap_coords2[i,:] = flap_coords[i%15,:]\n",
    "    \n",
    "print(flap_coords2.shape)"
   ]
  },
  {
   "cell_type": "code",
   "execution_count": 18,
   "id": "ce5d1f6d",
   "metadata": {},
   "outputs": [
    {
     "name": "stdout",
     "output_type": "stream",
     "text": [
      "(144, 110)\n"
     ]
    }
   ],
   "source": [
    "total_coords = np.hstack((airfoil_coord, flap_coords2))\n",
    "print(total_coords.shape)"
   ]
  },
  {
   "cell_type": "code",
   "execution_count": 19,
   "id": "8afdc11f",
   "metadata": {},
   "outputs": [],
   "source": [
    "x = np.hstack((aa, hh, bb, total_coords))"
   ]
  },
  {
   "cell_type": "code",
   "execution_count": 20,
   "id": "40a2628d",
   "metadata": {},
   "outputs": [],
   "source": [
    "## Creating output dataset - Cl and Cd\n",
    "files_orig = os.listdir(main_directory)\n",
    "files_target = [file for file in files_orig if file.endswith('.txt')]"
   ]
  },
  {
   "cell_type": "code",
   "execution_count": 21,
   "id": "d760f117",
   "metadata": {},
   "outputs": [],
   "source": [
    "target_df = pd.DataFrame()\n",
    "for file in files_target:\n",
    "    data = pd.read_table(file, header=None)\n",
    "    target_df = pd.concat([target_df, data], axis=0)"
   ]
  },
  {
   "cell_type": "code",
   "execution_count": 22,
   "id": "f672b66e",
   "metadata": {},
   "outputs": [],
   "source": [
    "target_c3 = target_df.iloc[:,3].values # Cd values\n",
    "target_c4 = target_df.iloc[:,4].values# Cl values"
   ]
  },
  {
   "cell_type": "code",
   "execution_count": 23,
   "id": "063a56ba",
   "metadata": {},
   "outputs": [],
   "source": [
    "y = np.hstack((target_c3.reshape((-1,1)), target_c4.reshape((-1,1))))"
   ]
  },
  {
   "cell_type": "code",
   "execution_count": 24,
   "id": "630e4e31",
   "metadata": {},
   "outputs": [
    {
     "data": {
      "text/plain": [
       "(144, 2)"
      ]
     },
     "execution_count": 24,
     "metadata": {},
     "output_type": "execute_result"
    }
   ],
   "source": [
    "y.shape"
   ]
  },
  {
   "cell_type": "code",
   "execution_count": 25,
   "id": "ec562b02",
   "metadata": {},
   "outputs": [],
   "source": [
    "x_train, x_test, y_train, y_test = train_test_split(x, y, test_size=test_rate, random_state=1)"
   ]
  },
  {
   "cell_type": "code",
   "execution_count": 26,
   "id": "b8336cde",
   "metadata": {},
   "outputs": [
    {
     "data": {
      "text/plain": [
       "(129, 113)"
      ]
     },
     "execution_count": 26,
     "metadata": {},
     "output_type": "execute_result"
    }
   ],
   "source": [
    "x_train.shape"
   ]
  },
  {
   "cell_type": "code",
   "execution_count": 27,
   "id": "d483076f",
   "metadata": {},
   "outputs": [
    {
     "data": {
      "text/plain": [
       "(129, 2)"
      ]
     },
     "execution_count": 27,
     "metadata": {},
     "output_type": "execute_result"
    }
   ],
   "source": [
    "y_train.shape"
   ]
  },
  {
   "cell_type": "code",
   "execution_count": 28,
   "id": "82d60c5e",
   "metadata": {},
   "outputs": [],
   "source": [
    "tf.keras.backend.set_image_data_format('channels_last')"
   ]
  },
  {
   "cell_type": "code",
   "execution_count": 29,
   "id": "8806580e",
   "metadata": {},
   "outputs": [
    {
     "data": {
      "text/plain": [
       "128"
      ]
     },
     "execution_count": 29,
     "metadata": {},
     "output_type": "execute_result"
    }
   ],
   "source": [
    "n_units"
   ]
  },
  {
   "cell_type": "code",
   "execution_count": 30,
   "id": "37290049",
   "metadata": {},
   "outputs": [],
   "source": [
    "input_data = tf.keras.Input(shape=(3+total_coords.shape[1]))\n",
    "\n",
    "x_fc1 = tf.keras.layers.Dense(units=n_units, activation='relu', name='fc1')(input_data)\n",
    "x_fc2 = tf.keras.layers.Dense(units=n_units, activation='relu', name='fc2')(x_fc1)\n",
    "x_fc3 = tf.keras.layers.Dense(units=n_units, activation='relu', name='fc3')(x_fc2)\n",
    "x_fc4 = tf.keras.layers.Dense(units=n_units, activation='relu', name='fc4')(x_fc3)\n",
    "x_fc5 = tf.keras.layers.Dense(units=16, activation='relu', name='fc5')(x_fc4)\n",
    "\n",
    "output_data = tf.keras.layers.Dense(units=2, activation='linear', name='outputLayer')(x_fc5)\n",
    "# CNN autoencoder\n",
    "model = tf.keras.Model(input_data, output_data)"
   ]
  },
  {
   "cell_type": "code",
   "execution_count": 31,
   "id": "e3c482f9",
   "metadata": {},
   "outputs": [
    {
     "name": "stdout",
     "output_type": "stream",
     "text": [
      "Model: \"model\"\n",
      "_________________________________________________________________\n",
      " Layer (type)                Output Shape              Param #   \n",
      "=================================================================\n",
      " input_1 (InputLayer)        [(None, 113)]             0         \n",
      "                                                                 \n",
      " fc1 (Dense)                 (None, 128)               14592     \n",
      "                                                                 \n",
      " fc2 (Dense)                 (None, 128)               16512     \n",
      "                                                                 \n",
      " fc3 (Dense)                 (None, 128)               16512     \n",
      "                                                                 \n",
      " fc4 (Dense)                 (None, 128)               16512     \n",
      "                                                                 \n",
      " fc5 (Dense)                 (None, 16)                2064      \n",
      "                                                                 \n",
      " outputLayer (Dense)         (None, 2)                 34        \n",
      "                                                                 \n",
      "=================================================================\n",
      "Total params: 66,226\n",
      "Trainable params: 66,226\n",
      "Non-trainable params: 0\n",
      "_________________________________________________________________\n"
     ]
    }
   ],
   "source": [
    "model.summary()"
   ]
  },
  {
   "cell_type": "code",
   "execution_count": 32,
   "id": "30f3abdd",
   "metadata": {},
   "outputs": [],
   "source": [
    "model.compile(optimizer=tf.keras.optimizers.Adam(learning_rate=lr),\n",
    "              loss = tf.keras.losses.MeanSquaredError(),\n",
    "              metrics=[tf.keras.metrics.RootMeanSquaredError(name=\"rmse\")])"
   ]
  },
  {
   "cell_type": "code",
   "execution_count": 33,
   "id": "cf477620",
   "metadata": {},
   "outputs": [],
   "source": [
    "es = tf.keras.callbacks.EarlyStopping(monitor='loss', patience=100, min_delta=6e-7,\n",
    "                                      restore_best_weights=True, verbose=1)\n",
    "rp = tf.keras.callbacks.ReduceLROnPlateau(monitor='loss', patience=70, factor=0.5,\n",
    "                                          min_delta = 1e-07, min_lr=1e-06,\n",
    "                                          verbose=1)"
   ]
  },
  {
   "cell_type": "code",
   "execution_count": 34,
   "id": "e6e289a2",
   "metadata": {},
   "outputs": [],
   "source": [
    "STEP_SIZE_TRAIN = len(x_train)//batch_size\n",
    "STEP_SIZE_TEST = len(x_test)//batch_size"
   ]
  },
  {
   "cell_type": "code",
   "execution_count": 35,
   "id": "17d6b26e",
   "metadata": {
    "scrolled": true
   },
   "outputs": [
    {
     "name": "stdout",
     "output_type": "stream",
     "text": [
      "Epoch 1/5000\n",
      "6/6 [==============================] - 1s 5ms/step - loss: 1.3359 - rmse: 1.1558 - lr: 0.0010\n",
      "Epoch 2/5000\n",
      "6/6 [==============================] - 0s 4ms/step - loss: 0.2182 - rmse: 0.4671 - lr: 0.0010\n",
      "Epoch 3/5000\n",
      "6/6 [==============================] - 0s 4ms/step - loss: 0.1556 - rmse: 0.3944 - lr: 0.0010\n",
      "Epoch 4/5000\n",
      "6/6 [==============================] - 0s 4ms/step - loss: 0.1378 - rmse: 0.3712 - lr: 0.0010\n",
      "Epoch 5/5000\n",
      "6/6 [==============================] - 0s 4ms/step - loss: 0.0882 - rmse: 0.2969 - lr: 0.0010\n",
      "Epoch 6/5000\n",
      "6/6 [==============================] - 0s 4ms/step - loss: 0.0745 - rmse: 0.2729 - lr: 0.0010\n",
      "Epoch 7/5000\n",
      "6/6 [==============================] - 0s 4ms/step - loss: 0.0745 - rmse: 0.2729 - lr: 0.0010\n",
      "Epoch 8/5000\n",
      "6/6 [==============================] - 0s 4ms/step - loss: 0.0511 - rmse: 0.2262 - lr: 0.0010\n",
      "Epoch 9/5000\n",
      "6/6 [==============================] - 0s 4ms/step - loss: 0.0609 - rmse: 0.2468 - lr: 0.0010\n",
      "Epoch 10/5000\n",
      "6/6 [==============================] - 0s 4ms/step - loss: 0.0616 - rmse: 0.2482 - lr: 0.0010\n",
      "Epoch 11/5000\n",
      "6/6 [==============================] - 0s 4ms/step - loss: 0.0535 - rmse: 0.2314 - lr: 0.0010\n",
      "Epoch 12/5000\n",
      "6/6 [==============================] - 0s 4ms/step - loss: 0.0406 - rmse: 0.2015 - lr: 0.0010\n",
      "Epoch 13/5000\n",
      "6/6 [==============================] - 0s 4ms/step - loss: 0.0279 - rmse: 0.1671 - lr: 0.0010\n",
      "Epoch 14/5000\n",
      "6/6 [==============================] - 0s 4ms/step - loss: 0.0280 - rmse: 0.1673 - lr: 0.0010\n",
      "Epoch 15/5000\n",
      "6/6 [==============================] - 0s 4ms/step - loss: 0.0290 - rmse: 0.1703 - lr: 0.0010\n",
      "Epoch 16/5000\n",
      "6/6 [==============================] - 0s 4ms/step - loss: 0.0290 - rmse: 0.1703 - lr: 0.0010\n",
      "Epoch 17/5000\n",
      "6/6 [==============================] - 0s 4ms/step - loss: 0.0256 - rmse: 0.1600 - lr: 0.0010\n",
      "Epoch 18/5000\n",
      "6/6 [==============================] - 0s 4ms/step - loss: 0.0261 - rmse: 0.1617 - lr: 0.0010\n",
      "Epoch 19/5000\n",
      "6/6 [==============================] - 0s 4ms/step - loss: 0.0335 - rmse: 0.1829 - lr: 0.0010\n",
      "Epoch 20/5000\n",
      "6/6 [==============================] - 0s 5ms/step - loss: 0.0228 - rmse: 0.1509 - lr: 0.0010\n",
      "Epoch 21/5000\n",
      "6/6 [==============================] - 0s 4ms/step - loss: 0.0224 - rmse: 0.1497 - lr: 0.0010\n",
      "Epoch 22/5000\n",
      "6/6 [==============================] - 0s 4ms/step - loss: 0.0250 - rmse: 0.1581 - lr: 0.0010\n",
      "Epoch 23/5000\n",
      "6/6 [==============================] - 0s 4ms/step - loss: 0.0290 - rmse: 0.1703 - lr: 0.0010\n",
      "Epoch 24/5000\n",
      "6/6 [==============================] - 0s 4ms/step - loss: 0.0208 - rmse: 0.1442 - lr: 0.0010\n",
      "Epoch 25/5000\n",
      "6/6 [==============================] - 0s 4ms/step - loss: 0.0213 - rmse: 0.1461 - lr: 0.0010\n",
      "Epoch 26/5000\n",
      "6/6 [==============================] - 0s 4ms/step - loss: 0.0305 - rmse: 0.1746 - lr: 0.0010\n",
      "Epoch 27/5000\n",
      "6/6 [==============================] - 0s 4ms/step - loss: 0.0236 - rmse: 0.1536 - lr: 0.0010\n",
      "Epoch 28/5000\n",
      "6/6 [==============================] - 0s 4ms/step - loss: 0.0257 - rmse: 0.1602 - lr: 0.0010\n",
      "Epoch 29/5000\n",
      "6/6 [==============================] - 0s 4ms/step - loss: 0.0264 - rmse: 0.1624 - lr: 0.0010\n",
      "Epoch 30/5000\n",
      "6/6 [==============================] - 0s 4ms/step - loss: 0.0262 - rmse: 0.1620 - lr: 0.0010\n",
      "Epoch 31/5000\n",
      "6/6 [==============================] - 0s 4ms/step - loss: 0.0280 - rmse: 0.1674 - lr: 0.0010\n",
      "Epoch 32/5000\n",
      "6/6 [==============================] - 0s 4ms/step - loss: 0.0354 - rmse: 0.1882 - lr: 0.0010\n",
      "Epoch 33/5000\n",
      "6/6 [==============================] - 0s 4ms/step - loss: 0.0328 - rmse: 0.1810 - lr: 0.0010\n",
      "Epoch 34/5000\n",
      "6/6 [==============================] - 0s 4ms/step - loss: 0.0264 - rmse: 0.1625 - lr: 0.0010\n",
      "Epoch 35/5000\n",
      "6/6 [==============================] - 0s 4ms/step - loss: 0.0253 - rmse: 0.1590 - lr: 0.0010\n",
      "Epoch 36/5000\n",
      "6/6 [==============================] - 0s 4ms/step - loss: 0.0323 - rmse: 0.1796 - lr: 0.0010\n",
      "Epoch 37/5000\n",
      "6/6 [==============================] - 0s 4ms/step - loss: 0.0244 - rmse: 0.1562 - lr: 0.0010\n",
      "Epoch 38/5000\n",
      "6/6 [==============================] - 0s 4ms/step - loss: 0.0246 - rmse: 0.1567 - lr: 0.0010\n",
      "Epoch 39/5000\n",
      "6/6 [==============================] - 0s 4ms/step - loss: 0.0186 - rmse: 0.1365 - lr: 0.0010\n",
      "Epoch 40/5000\n",
      "6/6 [==============================] - 0s 4ms/step - loss: 0.0251 - rmse: 0.1585 - lr: 0.0010\n",
      "Epoch 41/5000\n",
      "6/6 [==============================] - 0s 4ms/step - loss: 0.0290 - rmse: 0.1702 - lr: 0.0010\n",
      "Epoch 42/5000\n",
      "6/6 [==============================] - 0s 4ms/step - loss: 0.0257 - rmse: 0.1604 - lr: 0.0010\n",
      "Epoch 43/5000\n",
      "6/6 [==============================] - 0s 4ms/step - loss: 0.0275 - rmse: 0.1658 - lr: 0.0010\n",
      "Epoch 44/5000\n",
      "6/6 [==============================] - 0s 4ms/step - loss: 0.0240 - rmse: 0.1550 - lr: 0.0010\n",
      "Epoch 45/5000\n",
      "6/6 [==============================] - 0s 4ms/step - loss: 0.0257 - rmse: 0.1605 - lr: 0.0010\n",
      "Epoch 46/5000\n",
      "6/6 [==============================] - 0s 4ms/step - loss: 0.0235 - rmse: 0.1532 - lr: 0.0010\n",
      "Epoch 47/5000\n",
      "6/6 [==============================] - 0s 4ms/step - loss: 0.0232 - rmse: 0.1524 - lr: 0.0010\n",
      "Epoch 48/5000\n",
      "6/6 [==============================] - 0s 4ms/step - loss: 0.0277 - rmse: 0.1665 - lr: 0.0010\n",
      "Epoch 49/5000\n",
      "6/6 [==============================] - 0s 4ms/step - loss: 0.0357 - rmse: 0.1888 - lr: 0.0010\n",
      "Epoch 50/5000\n",
      "6/6 [==============================] - 0s 4ms/step - loss: 0.0361 - rmse: 0.1899 - lr: 0.0010\n",
      "Epoch 51/5000\n",
      "6/6 [==============================] - 0s 4ms/step - loss: 0.0207 - rmse: 0.1440 - lr: 0.0010\n",
      "Epoch 52/5000\n",
      "6/6 [==============================] - 0s 4ms/step - loss: 0.0275 - rmse: 0.1658 - lr: 0.0010\n",
      "Epoch 53/5000\n",
      "6/6 [==============================] - 0s 4ms/step - loss: 0.0273 - rmse: 0.1653 - lr: 0.0010\n",
      "Epoch 54/5000\n",
      "6/6 [==============================] - 0s 4ms/step - loss: 0.0175 - rmse: 0.1324 - lr: 0.0010\n",
      "Epoch 55/5000\n",
      "6/6 [==============================] - 0s 4ms/step - loss: 0.0195 - rmse: 0.1398 - lr: 0.0010\n",
      "Epoch 56/5000\n",
      "6/6 [==============================] - 0s 4ms/step - loss: 0.0213 - rmse: 0.1458 - lr: 0.0010\n",
      "Epoch 57/5000\n",
      "6/6 [==============================] - 0s 4ms/step - loss: 0.0368 - rmse: 0.1917 - lr: 0.0010\n",
      "Epoch 58/5000\n",
      "6/6 [==============================] - 0s 4ms/step - loss: 0.0387 - rmse: 0.1966 - lr: 0.0010\n",
      "Epoch 59/5000\n",
      "6/6 [==============================] - 0s 4ms/step - loss: 0.0284 - rmse: 0.1684 - lr: 0.0010\n",
      "Epoch 60/5000\n",
      "6/6 [==============================] - 0s 4ms/step - loss: 0.0287 - rmse: 0.1695 - lr: 0.0010\n",
      "Epoch 61/5000\n",
      "6/6 [==============================] - 0s 4ms/step - loss: 0.0229 - rmse: 0.1515 - lr: 0.0010\n",
      "Epoch 62/5000\n",
      "6/6 [==============================] - 0s 4ms/step - loss: 0.0183 - rmse: 0.1352 - lr: 0.0010\n",
      "Epoch 63/5000\n",
      "6/6 [==============================] - 0s 4ms/step - loss: 0.0226 - rmse: 0.1503 - lr: 0.0010\n",
      "Epoch 64/5000\n",
      "6/6 [==============================] - 0s 4ms/step - loss: 0.0208 - rmse: 0.1441 - lr: 0.0010\n",
      "Epoch 65/5000\n",
      "6/6 [==============================] - 0s 4ms/step - loss: 0.0185 - rmse: 0.1361 - lr: 0.0010\n",
      "Epoch 66/5000\n",
      "6/6 [==============================] - 0s 4ms/step - loss: 0.0224 - rmse: 0.1497 - lr: 0.0010\n",
      "Epoch 67/5000\n",
      "6/6 [==============================] - 0s 4ms/step - loss: 0.0202 - rmse: 0.1422 - lr: 0.0010\n",
      "Epoch 68/5000\n",
      "6/6 [==============================] - 0s 4ms/step - loss: 0.0205 - rmse: 0.1430 - lr: 0.0010\n",
      "Epoch 69/5000\n",
      "6/6 [==============================] - 0s 4ms/step - loss: 0.0203 - rmse: 0.1425 - lr: 0.0010\n",
      "Epoch 70/5000\n",
      "6/6 [==============================] - 0s 4ms/step - loss: 0.0230 - rmse: 0.1516 - lr: 0.0010\n",
      "Epoch 71/5000\n",
      "6/6 [==============================] - 0s 4ms/step - loss: 0.0241 - rmse: 0.1552 - lr: 0.0010\n",
      "Epoch 72/5000\n",
      "6/6 [==============================] - 0s 4ms/step - loss: 0.0193 - rmse: 0.1391 - lr: 0.0010\n",
      "Epoch 73/5000\n",
      "6/6 [==============================] - 0s 4ms/step - loss: 0.0210 - rmse: 0.1449 - lr: 0.0010\n",
      "Epoch 74/5000\n",
      "6/6 [==============================] - 0s 4ms/step - loss: 0.0265 - rmse: 0.1628 - lr: 0.0010\n",
      "Epoch 75/5000\n",
      "6/6 [==============================] - 0s 4ms/step - loss: 0.0245 - rmse: 0.1565 - lr: 0.0010\n",
      "Epoch 76/5000\n",
      "6/6 [==============================] - 0s 4ms/step - loss: 0.0401 - rmse: 0.2003 - lr: 0.0010\n"
     ]
    },
    {
     "name": "stdout",
     "output_type": "stream",
     "text": [
      "Epoch 77/5000\n",
      "6/6 [==============================] - 0s 4ms/step - loss: 0.0282 - rmse: 0.1679 - lr: 0.0010\n",
      "Epoch 78/5000\n",
      "6/6 [==============================] - 0s 4ms/step - loss: 0.0235 - rmse: 0.1532 - lr: 0.0010\n",
      "Epoch 79/5000\n",
      "6/6 [==============================] - 0s 4ms/step - loss: 0.0220 - rmse: 0.1482 - lr: 0.0010\n",
      "Epoch 80/5000\n",
      "6/6 [==============================] - 0s 4ms/step - loss: 0.0197 - rmse: 0.1404 - lr: 0.0010\n",
      "Epoch 81/5000\n",
      "6/6 [==============================] - 0s 4ms/step - loss: 0.0196 - rmse: 0.1400 - lr: 0.0010\n",
      "Epoch 82/5000\n",
      "6/6 [==============================] - 0s 4ms/step - loss: 0.0176 - rmse: 0.1325 - lr: 0.0010\n",
      "Epoch 83/5000\n",
      "6/6 [==============================] - 0s 4ms/step - loss: 0.0205 - rmse: 0.1433 - lr: 0.0010\n",
      "Epoch 84/5000\n",
      "6/6 [==============================] - 0s 4ms/step - loss: 0.0187 - rmse: 0.1368 - lr: 0.0010\n",
      "Epoch 85/5000\n",
      "6/6 [==============================] - 0s 4ms/step - loss: 0.0267 - rmse: 0.1635 - lr: 0.0010\n",
      "Epoch 86/5000\n",
      "6/6 [==============================] - 0s 4ms/step - loss: 0.0247 - rmse: 0.1572 - lr: 0.0010\n",
      "Epoch 87/5000\n",
      "6/6 [==============================] - 0s 4ms/step - loss: 0.0173 - rmse: 0.1316 - lr: 0.0010\n",
      "Epoch 88/5000\n",
      "6/6 [==============================] - 0s 4ms/step - loss: 0.0274 - rmse: 0.1655 - lr: 0.0010\n",
      "Epoch 89/5000\n",
      "6/6 [==============================] - 0s 4ms/step - loss: 0.0189 - rmse: 0.1376 - lr: 0.0010\n",
      "Epoch 90/5000\n",
      "6/6 [==============================] - 0s 4ms/step - loss: 0.0227 - rmse: 0.1508 - lr: 0.0010\n",
      "Epoch 91/5000\n",
      "6/6 [==============================] - 0s 4ms/step - loss: 0.0173 - rmse: 0.1314 - lr: 0.0010\n",
      "Epoch 92/5000\n",
      "6/6 [==============================] - 0s 4ms/step - loss: 0.0195 - rmse: 0.1397 - lr: 0.0010\n",
      "Epoch 93/5000\n",
      "6/6 [==============================] - 0s 4ms/step - loss: 0.0216 - rmse: 0.1471 - lr: 0.0010\n",
      "Epoch 94/5000\n",
      "6/6 [==============================] - 0s 4ms/step - loss: 0.0262 - rmse: 0.1618 - lr: 0.0010\n",
      "Epoch 95/5000\n",
      "6/6 [==============================] - 0s 4ms/step - loss: 0.0204 - rmse: 0.1427 - lr: 0.0010\n",
      "Epoch 96/5000\n",
      "6/6 [==============================] - 0s 4ms/step - loss: 0.0203 - rmse: 0.1425 - lr: 0.0010\n",
      "Epoch 97/5000\n",
      "6/6 [==============================] - 0s 4ms/step - loss: 0.0238 - rmse: 0.1542 - lr: 0.0010\n",
      "Epoch 98/5000\n",
      "6/6 [==============================] - 0s 4ms/step - loss: 0.0301 - rmse: 0.1736 - lr: 0.0010\n",
      "Epoch 99/5000\n",
      "6/6 [==============================] - 0s 4ms/step - loss: 0.0231 - rmse: 0.1518 - lr: 0.0010\n",
      "Epoch 100/5000\n",
      "6/6 [==============================] - 0s 4ms/step - loss: 0.0247 - rmse: 0.1572 - lr: 0.0010\n",
      "Epoch 101/5000\n",
      "6/6 [==============================] - 0s 4ms/step - loss: 0.0169 - rmse: 0.1299 - lr: 0.0010\n",
      "Epoch 102/5000\n",
      "6/6 [==============================] - 0s 4ms/step - loss: 0.0188 - rmse: 0.1373 - lr: 0.0010\n",
      "Epoch 103/5000\n",
      "6/6 [==============================] - 0s 4ms/step - loss: 0.0200 - rmse: 0.1416 - lr: 0.0010\n",
      "Epoch 104/5000\n",
      "6/6 [==============================] - 0s 4ms/step - loss: 0.0195 - rmse: 0.1396 - lr: 0.0010\n",
      "Epoch 105/5000\n",
      "6/6 [==============================] - 0s 4ms/step - loss: 0.0204 - rmse: 0.1430 - lr: 0.0010\n",
      "Epoch 106/5000\n",
      "6/6 [==============================] - 0s 4ms/step - loss: 0.0187 - rmse: 0.1366 - lr: 0.0010\n",
      "Epoch 107/5000\n",
      "6/6 [==============================] - 0s 4ms/step - loss: 0.0196 - rmse: 0.1400 - lr: 0.0010\n",
      "Epoch 108/5000\n",
      "6/6 [==============================] - 0s 4ms/step - loss: 0.0202 - rmse: 0.1422 - lr: 0.0010\n",
      "Epoch 109/5000\n",
      "6/6 [==============================] - 0s 4ms/step - loss: 0.0161 - rmse: 0.1271 - lr: 0.0010\n",
      "Epoch 110/5000\n",
      "6/6 [==============================] - 0s 4ms/step - loss: 0.0297 - rmse: 0.1723 - lr: 0.0010\n",
      "Epoch 111/5000\n",
      "6/6 [==============================] - 0s 4ms/step - loss: 0.0213 - rmse: 0.1460 - lr: 0.0010\n",
      "Epoch 112/5000\n",
      "6/6 [==============================] - 0s 4ms/step - loss: 0.0218 - rmse: 0.1478 - lr: 0.0010\n",
      "Epoch 113/5000\n",
      "6/6 [==============================] - 0s 4ms/step - loss: 0.0183 - rmse: 0.1353 - lr: 0.0010\n",
      "Epoch 114/5000\n",
      "6/6 [==============================] - 0s 4ms/step - loss: 0.0217 - rmse: 0.1475 - lr: 0.0010\n",
      "Epoch 115/5000\n",
      "6/6 [==============================] - 0s 4ms/step - loss: 0.0156 - rmse: 0.1248 - lr: 0.0010\n",
      "Epoch 116/5000\n",
      "6/6 [==============================] - 0s 4ms/step - loss: 0.0187 - rmse: 0.1366 - lr: 0.0010\n",
      "Epoch 117/5000\n",
      "6/6 [==============================] - 0s 4ms/step - loss: 0.0245 - rmse: 0.1565 - lr: 0.0010\n",
      "Epoch 118/5000\n",
      "6/6 [==============================] - 0s 4ms/step - loss: 0.0154 - rmse: 0.1241 - lr: 0.0010\n",
      "Epoch 119/5000\n",
      "6/6 [==============================] - 0s 4ms/step - loss: 0.0229 - rmse: 0.1512 - lr: 0.0010\n",
      "Epoch 120/5000\n",
      "6/6 [==============================] - 0s 4ms/step - loss: 0.0218 - rmse: 0.1476 - lr: 0.0010\n",
      "Epoch 121/5000\n",
      "6/6 [==============================] - 0s 4ms/step - loss: 0.0183 - rmse: 0.1351 - lr: 0.0010\n",
      "Epoch 122/5000\n",
      "6/6 [==============================] - 0s 4ms/step - loss: 0.0221 - rmse: 0.1487 - lr: 0.0010\n",
      "Epoch 123/5000\n",
      "6/6 [==============================] - 0s 4ms/step - loss: 0.0191 - rmse: 0.1383 - lr: 0.0010\n",
      "Epoch 124/5000\n",
      "6/6 [==============================] - 0s 4ms/step - loss: 0.0263 - rmse: 0.1621 - lr: 0.0010\n",
      "Epoch 125/5000\n",
      "6/6 [==============================] - 0s 4ms/step - loss: 0.0249 - rmse: 0.1579 - lr: 0.0010\n",
      "Epoch 126/5000\n",
      "6/6 [==============================] - 0s 4ms/step - loss: 0.0198 - rmse: 0.1407 - lr: 0.0010\n",
      "Epoch 127/5000\n",
      "6/6 [==============================] - 0s 4ms/step - loss: 0.0187 - rmse: 0.1368 - lr: 0.0010\n",
      "Epoch 128/5000\n",
      "6/6 [==============================] - 0s 4ms/step - loss: 0.0172 - rmse: 0.1311 - lr: 0.0010\n",
      "Epoch 129/5000\n",
      "6/6 [==============================] - 0s 4ms/step - loss: 0.0226 - rmse: 0.1504 - lr: 0.0010\n",
      "Epoch 130/5000\n",
      "6/6 [==============================] - 0s 4ms/step - loss: 0.0186 - rmse: 0.1365 - lr: 0.0010\n",
      "Epoch 131/5000\n",
      "6/6 [==============================] - 0s 4ms/step - loss: 0.0188 - rmse: 0.1372 - lr: 0.0010\n",
      "Epoch 132/5000\n",
      "6/6 [==============================] - 0s 4ms/step - loss: 0.0268 - rmse: 0.1637 - lr: 0.0010\n",
      "Epoch 133/5000\n",
      "6/6 [==============================] - 0s 4ms/step - loss: 0.0246 - rmse: 0.1568 - lr: 0.0010\n",
      "Epoch 134/5000\n",
      "6/6 [==============================] - 0s 4ms/step - loss: 0.0223 - rmse: 0.1492 - lr: 0.0010\n",
      "Epoch 135/5000\n",
      "6/6 [==============================] - 0s 4ms/step - loss: 0.0184 - rmse: 0.1355 - lr: 0.0010\n",
      "Epoch 136/5000\n",
      "6/6 [==============================] - 0s 4ms/step - loss: 0.0205 - rmse: 0.1433 - lr: 0.0010\n",
      "Epoch 137/5000\n",
      "6/6 [==============================] - 0s 4ms/step - loss: 0.0154 - rmse: 0.1242 - lr: 0.0010\n",
      "Epoch 138/5000\n",
      "6/6 [==============================] - 0s 4ms/step - loss: 0.0280 - rmse: 0.1674 - lr: 0.0010\n",
      "Epoch 139/5000\n",
      "6/6 [==============================] - 0s 4ms/step - loss: 0.0179 - rmse: 0.1340 - lr: 0.0010\n",
      "Epoch 140/5000\n",
      "6/6 [==============================] - 0s 4ms/step - loss: 0.0210 - rmse: 0.1448 - lr: 0.0010\n",
      "Epoch 141/5000\n",
      "6/6 [==============================] - 0s 4ms/step - loss: 0.0184 - rmse: 0.1356 - lr: 0.0010\n",
      "Epoch 142/5000\n",
      "6/6 [==============================] - 0s 4ms/step - loss: 0.0217 - rmse: 0.1472 - lr: 0.0010\n",
      "Epoch 143/5000\n",
      "6/6 [==============================] - 0s 4ms/step - loss: 0.0161 - rmse: 0.1267 - lr: 0.0010\n",
      "Epoch 144/5000\n",
      "6/6 [==============================] - 0s 4ms/step - loss: 0.0178 - rmse: 0.1336 - lr: 0.0010\n",
      "Epoch 145/5000\n",
      "6/6 [==============================] - 0s 4ms/step - loss: 0.0184 - rmse: 0.1357 - lr: 0.0010\n",
      "Epoch 146/5000\n",
      "6/6 [==============================] - 0s 4ms/step - loss: 0.0238 - rmse: 0.1542 - lr: 0.0010\n",
      "Epoch 147/5000\n",
      "6/6 [==============================] - 0s 4ms/step - loss: 0.0237 - rmse: 0.1539 - lr: 0.0010\n",
      "Epoch 148/5000\n",
      "6/6 [==============================] - 0s 4ms/step - loss: 0.0201 - rmse: 0.1417 - lr: 0.0010\n",
      "Epoch 149/5000\n",
      "6/6 [==============================] - 0s 4ms/step - loss: 0.0300 - rmse: 0.1733 - lr: 0.0010\n",
      "Epoch 150/5000\n",
      "6/6 [==============================] - 0s 5ms/step - loss: 0.0222 - rmse: 0.1490 - lr: 0.0010\n",
      "Epoch 151/5000\n",
      "6/6 [==============================] - 0s 5ms/step - loss: 0.0262 - rmse: 0.1620 - lr: 0.0010\n",
      "Epoch 152/5000\n"
     ]
    },
    {
     "name": "stdout",
     "output_type": "stream",
     "text": [
      "6/6 [==============================] - 0s 4ms/step - loss: 0.0212 - rmse: 0.1456 - lr: 0.0010\n",
      "Epoch 153/5000\n",
      "6/6 [==============================] - 0s 4ms/step - loss: 0.0252 - rmse: 0.1587 - lr: 0.0010\n",
      "Epoch 154/5000\n",
      "6/6 [==============================] - 0s 4ms/step - loss: 0.0225 - rmse: 0.1500 - lr: 0.0010\n",
      "Epoch 155/5000\n",
      "6/6 [==============================] - 0s 4ms/step - loss: 0.0253 - rmse: 0.1590 - lr: 0.0010\n",
      "Epoch 156/5000\n",
      "6/6 [==============================] - 0s 5ms/step - loss: 0.0345 - rmse: 0.1857 - lr: 0.0010\n",
      "Epoch 157/5000\n",
      "6/6 [==============================] - 0s 5ms/step - loss: 0.0366 - rmse: 0.1913 - lr: 0.0010\n",
      "Epoch 158/5000\n",
      "6/6 [==============================] - 0s 4ms/step - loss: 0.0252 - rmse: 0.1589 - lr: 0.0010\n",
      "Epoch 159/5000\n",
      "6/6 [==============================] - 0s 4ms/step - loss: 0.0195 - rmse: 0.1398 - lr: 0.0010\n",
      "Epoch 160/5000\n",
      "6/6 [==============================] - 0s 4ms/step - loss: 0.0208 - rmse: 0.1441 - lr: 0.0010\n",
      "Epoch 161/5000\n",
      "6/6 [==============================] - 0s 5ms/step - loss: 0.0206 - rmse: 0.1434 - lr: 0.0010\n",
      "Epoch 162/5000\n",
      "6/6 [==============================] - 0s 5ms/step - loss: 0.0190 - rmse: 0.1379 - lr: 0.0010\n",
      "Epoch 163/5000\n",
      "6/6 [==============================] - 0s 4ms/step - loss: 0.0231 - rmse: 0.1520 - lr: 0.0010\n",
      "Epoch 164/5000\n",
      "6/6 [==============================] - 0s 4ms/step - loss: 0.0197 - rmse: 0.1402 - lr: 0.0010\n",
      "Epoch 165/5000\n",
      "6/6 [==============================] - 0s 5ms/step - loss: 0.0130 - rmse: 0.1141 - lr: 0.0010\n",
      "Epoch 166/5000\n",
      "6/6 [==============================] - 0s 5ms/step - loss: 0.0230 - rmse: 0.1516 - lr: 0.0010\n",
      "Epoch 167/5000\n",
      "6/6 [==============================] - 0s 4ms/step - loss: 0.0223 - rmse: 0.1495 - lr: 0.0010\n",
      "Epoch 168/5000\n",
      "6/6 [==============================] - 0s 5ms/step - loss: 0.0196 - rmse: 0.1401 - lr: 0.0010\n",
      "Epoch 169/5000\n",
      "6/6 [==============================] - 0s 4ms/step - loss: 0.0205 - rmse: 0.1433 - lr: 0.0010\n",
      "Epoch 170/5000\n",
      "6/6 [==============================] - 0s 5ms/step - loss: 0.0177 - rmse: 0.1332 - lr: 0.0010\n",
      "Epoch 171/5000\n",
      "6/6 [==============================] - 0s 4ms/step - loss: 0.0212 - rmse: 0.1455 - lr: 0.0010\n",
      "Epoch 172/5000\n",
      "6/6 [==============================] - 0s 5ms/step - loss: 0.0161 - rmse: 0.1270 - lr: 0.0010\n",
      "Epoch 173/5000\n",
      "6/6 [==============================] - 0s 5ms/step - loss: 0.0178 - rmse: 0.1333 - lr: 0.0010\n",
      "Epoch 174/5000\n",
      "6/6 [==============================] - 0s 5ms/step - loss: 0.0202 - rmse: 0.1422 - lr: 0.0010\n",
      "Epoch 175/5000\n",
      "6/6 [==============================] - 0s 4ms/step - loss: 0.0196 - rmse: 0.1401 - lr: 0.0010\n",
      "Epoch 176/5000\n",
      "6/6 [==============================] - 0s 5ms/step - loss: 0.0182 - rmse: 0.1348 - lr: 0.0010\n",
      "Epoch 177/5000\n",
      "6/6 [==============================] - 0s 5ms/step - loss: 0.0167 - rmse: 0.1293 - lr: 0.0010\n",
      "Epoch 178/5000\n",
      "6/6 [==============================] - 0s 5ms/step - loss: 0.0201 - rmse: 0.1417 - lr: 0.0010\n",
      "Epoch 179/5000\n",
      "6/6 [==============================] - 0s 5ms/step - loss: 0.0162 - rmse: 0.1273 - lr: 0.0010\n",
      "Epoch 180/5000\n",
      "6/6 [==============================] - 0s 4ms/step - loss: 0.0216 - rmse: 0.1469 - lr: 0.0010\n",
      "Epoch 181/5000\n",
      "6/6 [==============================] - 0s 5ms/step - loss: 0.0178 - rmse: 0.1335 - lr: 0.0010\n",
      "Epoch 182/5000\n",
      "6/6 [==============================] - 0s 5ms/step - loss: 0.0189 - rmse: 0.1376 - lr: 0.0010\n",
      "Epoch 183/5000\n",
      "6/6 [==============================] - 0s 5ms/step - loss: 0.0185 - rmse: 0.1361 - lr: 0.0010\n",
      "Epoch 184/5000\n",
      "6/6 [==============================] - 0s 5ms/step - loss: 0.0156 - rmse: 0.1248 - lr: 0.0010\n",
      "Epoch 185/5000\n",
      "6/6 [==============================] - 0s 5ms/step - loss: 0.0206 - rmse: 0.1436 - lr: 0.0010\n",
      "Epoch 186/5000\n",
      "6/6 [==============================] - 0s 5ms/step - loss: 0.0189 - rmse: 0.1373 - lr: 0.0010\n",
      "Epoch 187/5000\n",
      "6/6 [==============================] - 0s 5ms/step - loss: 0.0202 - rmse: 0.1421 - lr: 0.0010\n",
      "Epoch 188/5000\n",
      "6/6 [==============================] - 0s 5ms/step - loss: 0.0169 - rmse: 0.1299 - lr: 0.0010\n",
      "Epoch 189/5000\n",
      "6/6 [==============================] - 0s 5ms/step - loss: 0.0194 - rmse: 0.1394 - lr: 0.0010\n",
      "Epoch 190/5000\n",
      "6/6 [==============================] - 0s 5ms/step - loss: 0.0174 - rmse: 0.1321 - lr: 0.0010\n",
      "Epoch 191/5000\n",
      "6/6 [==============================] - 0s 5ms/step - loss: 0.0181 - rmse: 0.1344 - lr: 0.0010\n",
      "Epoch 192/5000\n",
      "6/6 [==============================] - 0s 5ms/step - loss: 0.0163 - rmse: 0.1275 - lr: 0.0010\n",
      "Epoch 193/5000\n",
      "6/6 [==============================] - 0s 5ms/step - loss: 0.0187 - rmse: 0.1367 - lr: 0.0010\n",
      "Epoch 194/5000\n",
      "6/6 [==============================] - 0s 5ms/step - loss: 0.0219 - rmse: 0.1478 - lr: 0.0010\n",
      "Epoch 195/5000\n",
      "6/6 [==============================] - 0s 5ms/step - loss: 0.0175 - rmse: 0.1323 - lr: 0.0010\n",
      "Epoch 196/5000\n",
      "6/6 [==============================] - 0s 5ms/step - loss: 0.0196 - rmse: 0.1402 - lr: 0.0010\n",
      "Epoch 197/5000\n",
      "6/6 [==============================] - 0s 5ms/step - loss: 0.0237 - rmse: 0.1541 - lr: 0.0010\n",
      "Epoch 198/5000\n",
      "6/6 [==============================] - 0s 5ms/step - loss: 0.0301 - rmse: 0.1736 - lr: 0.0010\n",
      "Epoch 199/5000\n",
      "6/6 [==============================] - 0s 6ms/step - loss: 0.0195 - rmse: 0.1395 - lr: 0.0010\n",
      "Epoch 200/5000\n",
      "6/6 [==============================] - 0s 5ms/step - loss: 0.0200 - rmse: 0.1413 - lr: 0.0010\n",
      "Epoch 201/5000\n",
      "6/6 [==============================] - 0s 5ms/step - loss: 0.0186 - rmse: 0.1364 - lr: 0.0010\n",
      "Epoch 202/5000\n",
      "6/6 [==============================] - 0s 5ms/step - loss: 0.0159 - rmse: 0.1263 - lr: 0.0010\n",
      "Epoch 203/5000\n",
      "6/6 [==============================] - 0s 5ms/step - loss: 0.0260 - rmse: 0.1612 - lr: 0.0010\n",
      "Epoch 204/5000\n",
      "6/6 [==============================] - 0s 5ms/step - loss: 0.0203 - rmse: 0.1426 - lr: 0.0010\n",
      "Epoch 205/5000\n",
      "6/6 [==============================] - 0s 5ms/step - loss: 0.0191 - rmse: 0.1382 - lr: 0.0010\n",
      "Epoch 206/5000\n",
      "6/6 [==============================] - 0s 5ms/step - loss: 0.0204 - rmse: 0.1430 - lr: 0.0010\n",
      "Epoch 207/5000\n",
      "6/6 [==============================] - 0s 5ms/step - loss: 0.0149 - rmse: 0.1221 - lr: 0.0010\n",
      "Epoch 208/5000\n",
      "6/6 [==============================] - 0s 5ms/step - loss: 0.0215 - rmse: 0.1465 - lr: 0.0010\n",
      "Epoch 209/5000\n",
      "6/6 [==============================] - 0s 5ms/step - loss: 0.0214 - rmse: 0.1462 - lr: 0.0010\n",
      "Epoch 210/5000\n",
      "6/6 [==============================] - 0s 5ms/step - loss: 0.0201 - rmse: 0.1420 - lr: 0.0010\n",
      "Epoch 211/5000\n",
      "6/6 [==============================] - 0s 5ms/step - loss: 0.0181 - rmse: 0.1347 - lr: 0.0010\n",
      "Epoch 212/5000\n",
      "6/6 [==============================] - 0s 5ms/step - loss: 0.0162 - rmse: 0.1272 - lr: 0.0010\n",
      "Epoch 213/5000\n",
      "6/6 [==============================] - 0s 5ms/step - loss: 0.0160 - rmse: 0.1266 - lr: 0.0010\n",
      "Epoch 214/5000\n",
      "6/6 [==============================] - 0s 5ms/step - loss: 0.0213 - rmse: 0.1460 - lr: 0.0010\n",
      "Epoch 215/5000\n",
      "6/6 [==============================] - 0s 5ms/step - loss: 0.0159 - rmse: 0.1263 - lr: 0.0010\n",
      "Epoch 216/5000\n",
      "6/6 [==============================] - 0s 5ms/step - loss: 0.0195 - rmse: 0.1397 - lr: 0.0010\n",
      "Epoch 217/5000\n",
      "6/6 [==============================] - 0s 5ms/step - loss: 0.0183 - rmse: 0.1353 - lr: 0.0010\n",
      "Epoch 218/5000\n",
      "6/6 [==============================] - 0s 6ms/step - loss: 0.0190 - rmse: 0.1380 - lr: 0.0010\n",
      "Epoch 219/5000\n",
      "6/6 [==============================] - 0s 5ms/step - loss: 0.0183 - rmse: 0.1352 - lr: 0.0010\n",
      "Epoch 220/5000\n",
      "6/6 [==============================] - 0s 5ms/step - loss: 0.0173 - rmse: 0.1316 - lr: 0.0010\n",
      "Epoch 221/5000\n",
      "6/6 [==============================] - 0s 5ms/step - loss: 0.0204 - rmse: 0.1430 - lr: 0.0010\n",
      "Epoch 222/5000\n",
      "6/6 [==============================] - 0s 5ms/step - loss: 0.0172 - rmse: 0.1313 - lr: 0.0010\n",
      "Epoch 223/5000\n",
      "6/6 [==============================] - 0s 5ms/step - loss: 0.0170 - rmse: 0.1302 - lr: 0.0010\n",
      "Epoch 224/5000\n",
      "6/6 [==============================] - 0s 5ms/step - loss: 0.0205 - rmse: 0.1433 - lr: 0.0010\n",
      "Epoch 225/5000\n",
      "6/6 [==============================] - 0s 5ms/step - loss: 0.0172 - rmse: 0.1310 - lr: 0.0010\n",
      "Epoch 226/5000\n",
      "6/6 [==============================] - 0s 6ms/step - loss: 0.0165 - rmse: 0.1285 - lr: 0.0010\n",
      "Epoch 227/5000\n"
     ]
    },
    {
     "name": "stdout",
     "output_type": "stream",
     "text": [
      "6/6 [==============================] - 0s 5ms/step - loss: 0.0176 - rmse: 0.1328 - lr: 0.0010\n",
      "Epoch 228/5000\n",
      "6/6 [==============================] - 0s 5ms/step - loss: 0.0213 - rmse: 0.1459 - lr: 0.0010\n",
      "Epoch 229/5000\n",
      "6/6 [==============================] - 0s 5ms/step - loss: 0.0154 - rmse: 0.1240 - lr: 0.0010\n",
      "Epoch 230/5000\n",
      "6/6 [==============================] - 0s 6ms/step - loss: 0.0215 - rmse: 0.1467 - lr: 0.0010\n",
      "Epoch 231/5000\n",
      "6/6 [==============================] - 0s 5ms/step - loss: 0.0138 - rmse: 0.1173 - lr: 0.0010\n",
      "Epoch 232/5000\n",
      "6/6 [==============================] - 0s 5ms/step - loss: 0.0176 - rmse: 0.1328 - lr: 0.0010\n",
      "Epoch 233/5000\n",
      "6/6 [==============================] - 0s 5ms/step - loss: 0.0153 - rmse: 0.1237 - lr: 0.0010\n",
      "Epoch 234/5000\n",
      "6/6 [==============================] - 0s 5ms/step - loss: 0.0173 - rmse: 0.1317 - lr: 0.0010\n",
      "Epoch 235/5000\n",
      "1/6 [====>.........................] - ETA: 0s - loss: 0.0123 - rmse: 0.1110\n",
      "Epoch 235: ReduceLROnPlateau reducing learning rate to 0.0005000000237487257.\n",
      "6/6 [==============================] - 0s 6ms/step - loss: 0.0192 - rmse: 0.1387 - lr: 0.0010\n",
      "Epoch 236/5000\n",
      "6/6 [==============================] - 0s 5ms/step - loss: 0.0185 - rmse: 0.1360 - lr: 5.0000e-04\n",
      "Epoch 237/5000\n",
      "6/6 [==============================] - 0s 5ms/step - loss: 0.0185 - rmse: 0.1359 - lr: 5.0000e-04\n",
      "Epoch 238/5000\n",
      "6/6 [==============================] - 0s 5ms/step - loss: 0.0157 - rmse: 0.1254 - lr: 5.0000e-04\n",
      "Epoch 239/5000\n",
      "6/6 [==============================] - 0s 5ms/step - loss: 0.0167 - rmse: 0.1293 - lr: 5.0000e-04\n",
      "Epoch 240/5000\n",
      "6/6 [==============================] - 0s 5ms/step - loss: 0.0142 - rmse: 0.1194 - lr: 5.0000e-04\n",
      "Epoch 241/5000\n",
      "6/6 [==============================] - 0s 5ms/step - loss: 0.0199 - rmse: 0.1410 - lr: 5.0000e-04\n",
      "Epoch 242/5000\n",
      "6/6 [==============================] - 0s 5ms/step - loss: 0.0139 - rmse: 0.1179 - lr: 5.0000e-04\n",
      "Epoch 243/5000\n",
      "6/6 [==============================] - 0s 5ms/step - loss: 0.0172 - rmse: 0.1312 - lr: 5.0000e-04\n",
      "Epoch 244/5000\n",
      "6/6 [==============================] - 0s 5ms/step - loss: 0.0151 - rmse: 0.1228 - lr: 5.0000e-04\n",
      "Epoch 245/5000\n",
      "6/6 [==============================] - 0s 5ms/step - loss: 0.0175 - rmse: 0.1321 - lr: 5.0000e-04\n",
      "Epoch 246/5000\n",
      "6/6 [==============================] - 0s 5ms/step - loss: 0.0168 - rmse: 0.1295 - lr: 5.0000e-04\n",
      "Epoch 247/5000\n",
      "6/6 [==============================] - 0s 6ms/step - loss: 0.0149 - rmse: 0.1220 - lr: 5.0000e-04\n",
      "Epoch 248/5000\n",
      "6/6 [==============================] - 0s 5ms/step - loss: 0.0183 - rmse: 0.1354 - lr: 5.0000e-04\n",
      "Epoch 249/5000\n",
      "6/6 [==============================] - 0s 5ms/step - loss: 0.0208 - rmse: 0.1442 - lr: 5.0000e-04\n",
      "Epoch 250/5000\n",
      "6/6 [==============================] - 0s 6ms/step - loss: 0.0128 - rmse: 0.1130 - lr: 5.0000e-04\n",
      "Epoch 251/5000\n",
      "6/6 [==============================] - 0s 5ms/step - loss: 0.0167 - rmse: 0.1292 - lr: 5.0000e-04\n",
      "Epoch 252/5000\n",
      "6/6 [==============================] - 0s 5ms/step - loss: 0.0198 - rmse: 0.1408 - lr: 5.0000e-04\n",
      "Epoch 253/5000\n",
      "6/6 [==============================] - 0s 5ms/step - loss: 0.0177 - rmse: 0.1329 - lr: 5.0000e-04\n",
      "Epoch 254/5000\n",
      "6/6 [==============================] - 0s 5ms/step - loss: 0.0162 - rmse: 0.1273 - lr: 5.0000e-04\n",
      "Epoch 255/5000\n",
      "6/6 [==============================] - 0s 5ms/step - loss: 0.0153 - rmse: 0.1236 - lr: 5.0000e-04\n",
      "Epoch 256/5000\n",
      "6/6 [==============================] - 0s 5ms/step - loss: 0.0171 - rmse: 0.1309 - lr: 5.0000e-04\n",
      "Epoch 257/5000\n",
      "6/6 [==============================] - 0s 5ms/step - loss: 0.0157 - rmse: 0.1254 - lr: 5.0000e-04\n",
      "Epoch 258/5000\n",
      "6/6 [==============================] - 0s 5ms/step - loss: 0.0139 - rmse: 0.1180 - lr: 5.0000e-04\n",
      "Epoch 259/5000\n",
      "6/6 [==============================] - 0s 5ms/step - loss: 0.0157 - rmse: 0.1255 - lr: 5.0000e-04\n",
      "Epoch 260/5000\n",
      "6/6 [==============================] - 0s 5ms/step - loss: 0.0163 - rmse: 0.1278 - lr: 5.0000e-04\n",
      "Epoch 261/5000\n",
      "6/6 [==============================] - 0s 5ms/step - loss: 0.0167 - rmse: 0.1294 - lr: 5.0000e-04\n",
      "Epoch 262/5000\n",
      "6/6 [==============================] - 0s 5ms/step - loss: 0.0133 - rmse: 0.1154 - lr: 5.0000e-04\n",
      "Epoch 263/5000\n",
      "6/6 [==============================] - 0s 5ms/step - loss: 0.0165 - rmse: 0.1285 - lr: 5.0000e-04\n",
      "Epoch 264/5000\n",
      "6/6 [==============================] - 0s 5ms/step - loss: 0.0222 - rmse: 0.1490 - lr: 5.0000e-04\n",
      "Epoch 265/5000\n",
      "6/6 [==============================] - 0s 5ms/step - loss: 0.0257 - rmse: 0.1603 - lr: 5.0000e-04\n",
      "Epoch 266/5000\n",
      "6/6 [==============================] - 0s 5ms/step - loss: 0.0179 - rmse: 0.1337 - lr: 5.0000e-04\n",
      "Epoch 267/5000\n",
      "6/6 [==============================] - 0s 5ms/step - loss: 0.0152 - rmse: 0.1232 - lr: 5.0000e-04\n",
      "Epoch 268/5000\n",
      "6/6 [==============================] - 0s 5ms/step - loss: 0.0186 - rmse: 0.1364 - lr: 5.0000e-04\n",
      "Epoch 269/5000\n",
      "6/6 [==============================] - 0s 6ms/step - loss: 0.0194 - rmse: 0.1392 - lr: 5.0000e-04\n",
      "Epoch 270/5000\n",
      "6/6 [==============================] - 0s 6ms/step - loss: 0.0147 - rmse: 0.1213 - lr: 5.0000e-04\n",
      "Epoch 271/5000\n",
      "6/6 [==============================] - 0s 6ms/step - loss: 0.0181 - rmse: 0.1347 - lr: 5.0000e-04\n",
      "Epoch 272/5000\n",
      "6/6 [==============================] - 0s 5ms/step - loss: 0.0128 - rmse: 0.1131 - lr: 5.0000e-04\n",
      "Epoch 273/5000\n",
      "6/6 [==============================] - 0s 6ms/step - loss: 0.0185 - rmse: 0.1360 - lr: 5.0000e-04\n",
      "Epoch 274/5000\n",
      "6/6 [==============================] - 0s 5ms/step - loss: 0.0167 - rmse: 0.1293 - lr: 5.0000e-04\n",
      "Epoch 275/5000\n",
      "6/6 [==============================] - 0s 6ms/step - loss: 0.0176 - rmse: 0.1328 - lr: 5.0000e-04\n",
      "Epoch 276/5000\n",
      "6/6 [==============================] - 0s 6ms/step - loss: 0.0135 - rmse: 0.1161 - lr: 5.0000e-04\n",
      "Epoch 277/5000\n",
      "6/6 [==============================] - 0s 5ms/step - loss: 0.0176 - rmse: 0.1326 - lr: 5.0000e-04\n",
      "Epoch 278/5000\n",
      "6/6 [==============================] - 0s 6ms/step - loss: 0.0174 - rmse: 0.1319 - lr: 5.0000e-04\n",
      "Epoch 279/5000\n",
      "6/6 [==============================] - 0s 5ms/step - loss: 0.0152 - rmse: 0.1235 - lr: 5.0000e-04\n",
      "Epoch 280/5000\n",
      "6/6 [==============================] - 0s 6ms/step - loss: 0.0179 - rmse: 0.1339 - lr: 5.0000e-04\n",
      "Epoch 281/5000\n",
      "6/6 [==============================] - 0s 5ms/step - loss: 0.0160 - rmse: 0.1264 - lr: 5.0000e-04\n",
      "Epoch 282/5000\n",
      "6/6 [==============================] - 0s 6ms/step - loss: 0.0173 - rmse: 0.1316 - lr: 5.0000e-04\n",
      "Epoch 283/5000\n",
      "6/6 [==============================] - 0s 5ms/step - loss: 0.0158 - rmse: 0.1258 - lr: 5.0000e-04\n",
      "Epoch 284/5000\n",
      "6/6 [==============================] - 0s 5ms/step - loss: 0.0149 - rmse: 0.1220 - lr: 5.0000e-04\n",
      "Epoch 285/5000\n",
      "6/6 [==============================] - 0s 5ms/step - loss: 0.0142 - rmse: 0.1193 - lr: 5.0000e-04\n",
      "Epoch 286/5000\n",
      "6/6 [==============================] - 0s 5ms/step - loss: 0.0158 - rmse: 0.1256 - lr: 5.0000e-04\n",
      "Epoch 287/5000\n",
      "6/6 [==============================] - 0s 6ms/step - loss: 0.0166 - rmse: 0.1290 - lr: 5.0000e-04\n",
      "Epoch 288/5000\n",
      "6/6 [==============================] - 0s 6ms/step - loss: 0.0156 - rmse: 0.1250 - lr: 5.0000e-04\n",
      "Epoch 289/5000\n",
      "6/6 [==============================] - 0s 6ms/step - loss: 0.0146 - rmse: 0.1207 - lr: 5.0000e-04\n",
      "Epoch 290/5000\n",
      "6/6 [==============================] - 0s 6ms/step - loss: 0.0145 - rmse: 0.1205 - lr: 5.0000e-04\n",
      "Epoch 291/5000\n",
      "6/6 [==============================] - 0s 5ms/step - loss: 0.0170 - rmse: 0.1304 - lr: 5.0000e-04\n",
      "Epoch 292/5000\n",
      "6/6 [==============================] - 0s 6ms/step - loss: 0.0177 - rmse: 0.1332 - lr: 5.0000e-04\n",
      "Epoch 293/5000\n",
      "6/6 [==============================] - 0s 6ms/step - loss: 0.0121 - rmse: 0.1098 - lr: 5.0000e-04\n",
      "Epoch 294/5000\n",
      "6/6 [==============================] - 0s 5ms/step - loss: 0.0171 - rmse: 0.1309 - lr: 5.0000e-04\n",
      "Epoch 295/5000\n",
      "6/6 [==============================] - 0s 6ms/step - loss: 0.0138 - rmse: 0.1174 - lr: 5.0000e-04\n",
      "Epoch 296/5000\n",
      "6/6 [==============================] - 0s 5ms/step - loss: 0.0171 - rmse: 0.1309 - lr: 5.0000e-04\n",
      "Epoch 297/5000\n",
      "6/6 [==============================] - 0s 6ms/step - loss: 0.0172 - rmse: 0.1311 - lr: 5.0000e-04\n",
      "Epoch 298/5000\n"
     ]
    },
    {
     "name": "stdout",
     "output_type": "stream",
     "text": [
      "6/6 [==============================] - 0s 5ms/step - loss: 0.0201 - rmse: 0.1416 - lr: 5.0000e-04\n",
      "Epoch 299/5000\n",
      "6/6 [==============================] - 0s 6ms/step - loss: 0.0164 - rmse: 0.1280 - lr: 5.0000e-04\n",
      "Epoch 300/5000\n",
      "6/6 [==============================] - 0s 6ms/step - loss: 0.0160 - rmse: 0.1263 - lr: 5.0000e-04\n",
      "Epoch 301/5000\n",
      "6/6 [==============================] - 0s 5ms/step - loss: 0.0143 - rmse: 0.1197 - lr: 5.0000e-04\n",
      "Epoch 302/5000\n",
      "6/6 [==============================] - 0s 5ms/step - loss: 0.0160 - rmse: 0.1263 - lr: 5.0000e-04\n",
      "Epoch 303/5000\n",
      "6/6 [==============================] - 0s 6ms/step - loss: 0.0161 - rmse: 0.1270 - lr: 5.0000e-04\n",
      "Epoch 304/5000\n",
      "6/6 [==============================] - 0s 5ms/step - loss: 0.0164 - rmse: 0.1279 - lr: 5.0000e-04\n",
      "Epoch 305/5000\n",
      "6/6 [==============================] - 0s 6ms/step - loss: 0.0175 - rmse: 0.1322 - lr: 5.0000e-04\n",
      "Epoch 306/5000\n",
      "6/6 [==============================] - 0s 6ms/step - loss: 0.0162 - rmse: 0.1274 - lr: 5.0000e-04\n",
      "Epoch 307/5000\n",
      "6/6 [==============================] - 0s 5ms/step - loss: 0.0155 - rmse: 0.1244 - lr: 5.0000e-04\n",
      "Epoch 308/5000\n",
      "6/6 [==============================] - 0s 5ms/step - loss: 0.0172 - rmse: 0.1311 - lr: 5.0000e-04\n",
      "Epoch 309/5000\n",
      "6/6 [==============================] - 0s 5ms/step - loss: 0.0158 - rmse: 0.1257 - lr: 5.0000e-04\n",
      "Epoch 310/5000\n",
      "6/6 [==============================] - 0s 5ms/step - loss: 0.0169 - rmse: 0.1299 - lr: 5.0000e-04\n",
      "Epoch 311/5000\n",
      "6/6 [==============================] - 0s 5ms/step - loss: 0.0154 - rmse: 0.1241 - lr: 5.0000e-04\n",
      "Epoch 312/5000\n",
      "6/6 [==============================] - 0s 6ms/step - loss: 0.0138 - rmse: 0.1174 - lr: 5.0000e-04\n",
      "Epoch 313/5000\n",
      "6/6 [==============================] - 0s 6ms/step - loss: 0.0173 - rmse: 0.1314 - lr: 5.0000e-04\n",
      "Epoch 314/5000\n",
      "6/6 [==============================] - 0s 6ms/step - loss: 0.0204 - rmse: 0.1428 - lr: 5.0000e-04\n",
      "Epoch 315/5000\n",
      "6/6 [==============================] - 0s 5ms/step - loss: 0.0146 - rmse: 0.1208 - lr: 5.0000e-04\n",
      "Epoch 316/5000\n",
      "6/6 [==============================] - 0s 5ms/step - loss: 0.0162 - rmse: 0.1274 - lr: 5.0000e-04\n",
      "Epoch 317/5000\n",
      "6/6 [==============================] - 0s 5ms/step - loss: 0.0178 - rmse: 0.1334 - lr: 5.0000e-04\n",
      "Epoch 318/5000\n",
      "6/6 [==============================] - 0s 5ms/step - loss: 0.0198 - rmse: 0.1407 - lr: 5.0000e-04\n",
      "Epoch 319/5000\n",
      "6/6 [==============================] - 0s 6ms/step - loss: 0.0148 - rmse: 0.1215 - lr: 5.0000e-04\n",
      "Epoch 320/5000\n",
      "6/6 [==============================] - 0s 6ms/step - loss: 0.0129 - rmse: 0.1137 - lr: 5.0000e-04\n",
      "Epoch 321/5000\n",
      "6/6 [==============================] - 0s 6ms/step - loss: 0.0165 - rmse: 0.1286 - lr: 5.0000e-04\n",
      "Epoch 322/5000\n",
      "6/6 [==============================] - 0s 6ms/step - loss: 0.0149 - rmse: 0.1220 - lr: 5.0000e-04\n",
      "Epoch 323/5000\n",
      "6/6 [==============================] - 0s 6ms/step - loss: 0.0155 - rmse: 0.1244 - lr: 5.0000e-04\n",
      "Epoch 324/5000\n",
      "6/6 [==============================] - 0s 6ms/step - loss: 0.0155 - rmse: 0.1246 - lr: 5.0000e-04\n",
      "Epoch 325/5000\n",
      "6/6 [==============================] - 0s 5ms/step - loss: 0.0132 - rmse: 0.1151 - lr: 5.0000e-04\n",
      "Epoch 326/5000\n",
      "6/6 [==============================] - 0s 6ms/step - loss: 0.0148 - rmse: 0.1216 - lr: 5.0000e-04\n",
      "Epoch 327/5000\n",
      "6/6 [==============================] - 0s 6ms/step - loss: 0.0135 - rmse: 0.1160 - lr: 5.0000e-04\n",
      "Epoch 328/5000\n",
      "6/6 [==============================] - 0s 6ms/step - loss: 0.0175 - rmse: 0.1323 - lr: 5.0000e-04\n",
      "Epoch 329/5000\n",
      "6/6 [==============================] - 0s 5ms/step - loss: 0.0152 - rmse: 0.1232 - lr: 5.0000e-04\n",
      "Epoch 330/5000\n",
      "6/6 [==============================] - 0s 6ms/step - loss: 0.0157 - rmse: 0.1253 - lr: 5.0000e-04\n",
      "Epoch 331/5000\n",
      "6/6 [==============================] - 0s 6ms/step - loss: 0.0155 - rmse: 0.1246 - lr: 5.0000e-04\n",
      "Epoch 332/5000\n",
      "6/6 [==============================] - 0s 6ms/step - loss: 0.0136 - rmse: 0.1165 - lr: 5.0000e-04\n",
      "Epoch 333/5000\n",
      "6/6 [==============================] - 0s 6ms/step - loss: 0.0145 - rmse: 0.1205 - lr: 5.0000e-04\n",
      "Epoch 334/5000\n",
      "6/6 [==============================] - 0s 6ms/step - loss: 0.0138 - rmse: 0.1173 - lr: 5.0000e-04\n",
      "Epoch 335/5000\n",
      "6/6 [==============================] - 0s 6ms/step - loss: 0.0167 - rmse: 0.1291 - lr: 5.0000e-04\n",
      "Epoch 336/5000\n",
      "6/6 [==============================] - 0s 6ms/step - loss: 0.0163 - rmse: 0.1276 - lr: 5.0000e-04\n",
      "Epoch 337/5000\n",
      "6/6 [==============================] - 0s 6ms/step - loss: 0.0153 - rmse: 0.1238 - lr: 5.0000e-04\n",
      "Epoch 338/5000\n",
      "6/6 [==============================] - 0s 6ms/step - loss: 0.0132 - rmse: 0.1149 - lr: 5.0000e-04\n",
      "Epoch 339/5000\n",
      "6/6 [==============================] - 0s 6ms/step - loss: 0.0141 - rmse: 0.1186 - lr: 5.0000e-04\n",
      "Epoch 340/5000\n",
      "6/6 [==============================] - 0s 6ms/step - loss: 0.0152 - rmse: 0.1234 - lr: 5.0000e-04\n",
      "Epoch 341/5000\n",
      "6/6 [==============================] - 0s 6ms/step - loss: 0.0149 - rmse: 0.1222 - lr: 5.0000e-04\n",
      "Epoch 342/5000\n",
      "6/6 [==============================] - 0s 6ms/step - loss: 0.0135 - rmse: 0.1163 - lr: 5.0000e-04\n",
      "Epoch 343/5000\n",
      "6/6 [==============================] - 0s 6ms/step - loss: 0.0153 - rmse: 0.1238 - lr: 5.0000e-04\n",
      "Epoch 344/5000\n",
      "6/6 [==============================] - 0s 6ms/step - loss: 0.0153 - rmse: 0.1239 - lr: 5.0000e-04\n",
      "Epoch 345/5000\n",
      "6/6 [==============================] - 0s 6ms/step - loss: 0.0123 - rmse: 0.1110 - lr: 5.0000e-04\n",
      "Epoch 346/5000\n",
      "6/6 [==============================] - 0s 5ms/step - loss: 0.0145 - rmse: 0.1205 - lr: 5.0000e-04\n",
      "Epoch 347/5000\n",
      "6/6 [==============================] - 0s 6ms/step - loss: 0.0148 - rmse: 0.1216 - lr: 5.0000e-04\n",
      "Epoch 348/5000\n",
      "6/6 [==============================] - 0s 6ms/step - loss: 0.0189 - rmse: 0.1376 - lr: 5.0000e-04\n",
      "Epoch 349/5000\n",
      "6/6 [==============================] - 0s 6ms/step - loss: 0.0118 - rmse: 0.1085 - lr: 5.0000e-04\n",
      "Epoch 350/5000\n",
      "6/6 [==============================] - 0s 6ms/step - loss: 0.0150 - rmse: 0.1224 - lr: 5.0000e-04\n",
      "Epoch 351/5000\n",
      "6/6 [==============================] - 0s 5ms/step - loss: 0.0149 - rmse: 0.1221 - lr: 5.0000e-04\n",
      "Epoch 352/5000\n",
      "6/6 [==============================] - 0s 6ms/step - loss: 0.0187 - rmse: 0.1366 - lr: 5.0000e-04\n",
      "Epoch 353/5000\n",
      "6/6 [==============================] - 0s 6ms/step - loss: 0.0199 - rmse: 0.1410 - lr: 5.0000e-04\n",
      "Epoch 354/5000\n",
      "6/6 [==============================] - 0s 6ms/step - loss: 0.0193 - rmse: 0.1389 - lr: 5.0000e-04\n",
      "Epoch 355/5000\n",
      "6/6 [==============================] - 0s 6ms/step - loss: 0.0189 - rmse: 0.1373 - lr: 5.0000e-04\n",
      "Epoch 356/5000\n",
      "6/6 [==============================] - 0s 5ms/step - loss: 0.0142 - rmse: 0.1193 - lr: 5.0000e-04\n",
      "Epoch 357/5000\n",
      "6/6 [==============================] - 0s 5ms/step - loss: 0.0161 - rmse: 0.1270 - lr: 5.0000e-04\n",
      "Epoch 358/5000\n",
      "6/6 [==============================] - 0s 6ms/step - loss: 0.0146 - rmse: 0.1206 - lr: 5.0000e-04\n",
      "Epoch 359/5000\n",
      "6/6 [==============================] - 0s 6ms/step - loss: 0.0125 - rmse: 0.1118 - lr: 5.0000e-04\n",
      "Epoch 360/5000\n",
      "6/6 [==============================] - 0s 6ms/step - loss: 0.0168 - rmse: 0.1294 - lr: 5.0000e-04\n",
      "Epoch 361/5000\n",
      "6/6 [==============================] - 0s 6ms/step - loss: 0.0124 - rmse: 0.1113 - lr: 5.0000e-04\n",
      "Epoch 362/5000\n",
      "6/6 [==============================] - 0s 6ms/step - loss: 0.0156 - rmse: 0.1250 - lr: 5.0000e-04\n",
      "Epoch 363/5000\n",
      "6/6 [==============================] - 0s 6ms/step - loss: 0.0165 - rmse: 0.1284 - lr: 5.0000e-04\n",
      "Epoch 364/5000\n",
      "6/6 [==============================] - 0s 6ms/step - loss: 0.0152 - rmse: 0.1232 - lr: 5.0000e-04\n",
      "Epoch 365/5000\n",
      "6/6 [==============================] - 0s 6ms/step - loss: 0.0143 - rmse: 0.1195 - lr: 5.0000e-04\n",
      "Epoch 366/5000\n",
      "6/6 [==============================] - 0s 6ms/step - loss: 0.0147 - rmse: 0.1212 - lr: 5.0000e-04\n",
      "Epoch 367/5000\n",
      "6/6 [==============================] - 0s 6ms/step - loss: 0.0148 - rmse: 0.1217 - lr: 5.0000e-04\n",
      "Epoch 368/5000\n",
      "6/6 [==============================] - 0s 6ms/step - loss: 0.0107 - rmse: 0.1033 - lr: 5.0000e-04\n",
      "Epoch 369/5000\n",
      "6/6 [==============================] - 0s 6ms/step - loss: 0.0173 - rmse: 0.1316 - lr: 5.0000e-04\n",
      "Epoch 370/5000\n"
     ]
    },
    {
     "name": "stdout",
     "output_type": "stream",
     "text": [
      "6/6 [==============================] - 0s 6ms/step - loss: 0.0144 - rmse: 0.1201 - lr: 5.0000e-04\n",
      "Epoch 371/5000\n",
      "6/6 [==============================] - 0s 5ms/step - loss: 0.0192 - rmse: 0.1384 - lr: 5.0000e-04\n",
      "Epoch 372/5000\n",
      "6/6 [==============================] - 0s 6ms/step - loss: 0.0169 - rmse: 0.1299 - lr: 5.0000e-04\n",
      "Epoch 373/5000\n",
      "6/6 [==============================] - 0s 6ms/step - loss: 0.0148 - rmse: 0.1215 - lr: 5.0000e-04\n",
      "Epoch 374/5000\n",
      "6/6 [==============================] - 0s 6ms/step - loss: 0.0153 - rmse: 0.1235 - lr: 5.0000e-04\n",
      "Epoch 375/5000\n",
      "6/6 [==============================] - 0s 6ms/step - loss: 0.0146 - rmse: 0.1210 - lr: 5.0000e-04\n",
      "Epoch 376/5000\n",
      "6/6 [==============================] - 0s 6ms/step - loss: 0.0162 - rmse: 0.1272 - lr: 5.0000e-04\n",
      "Epoch 377/5000\n",
      "6/6 [==============================] - 0s 6ms/step - loss: 0.0146 - rmse: 0.1209 - lr: 5.0000e-04\n",
      "Epoch 378/5000\n",
      "6/6 [==============================] - 0s 6ms/step - loss: 0.0172 - rmse: 0.1310 - lr: 5.0000e-04\n",
      "Epoch 379/5000\n",
      "6/6 [==============================] - 0s 6ms/step - loss: 0.0151 - rmse: 0.1229 - lr: 5.0000e-04\n",
      "Epoch 380/5000\n",
      "6/6 [==============================] - 0s 5ms/step - loss: 0.0132 - rmse: 0.1147 - lr: 5.0000e-04\n",
      "Epoch 381/5000\n",
      "6/6 [==============================] - 0s 6ms/step - loss: 0.0178 - rmse: 0.1334 - lr: 5.0000e-04\n",
      "Epoch 382/5000\n",
      "6/6 [==============================] - 0s 6ms/step - loss: 0.0191 - rmse: 0.1384 - lr: 5.0000e-04\n",
      "Epoch 383/5000\n",
      "6/6 [==============================] - 0s 6ms/step - loss: 0.0162 - rmse: 0.1274 - lr: 5.0000e-04\n",
      "Epoch 384/5000\n",
      "6/6 [==============================] - 0s 6ms/step - loss: 0.0181 - rmse: 0.1345 - lr: 5.0000e-04\n",
      "Epoch 385/5000\n",
      "6/6 [==============================] - 0s 6ms/step - loss: 0.0153 - rmse: 0.1239 - lr: 5.0000e-04\n",
      "Epoch 386/5000\n",
      "6/6 [==============================] - 0s 6ms/step - loss: 0.0137 - rmse: 0.1169 - lr: 5.0000e-04\n",
      "Epoch 387/5000\n",
      "6/6 [==============================] - 0s 6ms/step - loss: 0.0180 - rmse: 0.1343 - lr: 5.0000e-04\n",
      "Epoch 388/5000\n",
      "6/6 [==============================] - 0s 6ms/step - loss: 0.0146 - rmse: 0.1209 - lr: 5.0000e-04\n",
      "Epoch 389/5000\n",
      "6/6 [==============================] - 0s 5ms/step - loss: 0.0137 - rmse: 0.1171 - lr: 5.0000e-04\n",
      "Epoch 390/5000\n",
      "6/6 [==============================] - 0s 6ms/step - loss: 0.0106 - rmse: 0.1027 - lr: 5.0000e-04\n",
      "Epoch 391/5000\n",
      "6/6 [==============================] - 0s 5ms/step - loss: 0.0148 - rmse: 0.1218 - lr: 5.0000e-04\n",
      "Epoch 392/5000\n",
      "6/6 [==============================] - 0s 5ms/step - loss: 0.0130 - rmse: 0.1142 - lr: 5.0000e-04\n",
      "Epoch 393/5000\n",
      "6/6 [==============================] - 0s 6ms/step - loss: 0.0139 - rmse: 0.1179 - lr: 5.0000e-04\n",
      "Epoch 394/5000\n",
      "6/6 [==============================] - 0s 6ms/step - loss: 0.0133 - rmse: 0.1152 - lr: 5.0000e-04\n",
      "Epoch 395/5000\n",
      "6/6 [==============================] - 0s 6ms/step - loss: 0.0153 - rmse: 0.1235 - lr: 5.0000e-04\n",
      "Epoch 396/5000\n",
      "6/6 [==============================] - 0s 6ms/step - loss: 0.0186 - rmse: 0.1365 - lr: 5.0000e-04\n",
      "Epoch 397/5000\n",
      "6/6 [==============================] - 0s 6ms/step - loss: 0.0175 - rmse: 0.1324 - lr: 5.0000e-04\n",
      "Epoch 398/5000\n",
      "6/6 [==============================] - 0s 6ms/step - loss: 0.0148 - rmse: 0.1215 - lr: 5.0000e-04\n",
      "Epoch 399/5000\n",
      "6/6 [==============================] - 0s 6ms/step - loss: 0.0144 - rmse: 0.1201 - lr: 5.0000e-04\n",
      "Epoch 400/5000\n",
      "6/6 [==============================] - 0s 6ms/step - loss: 0.0151 - rmse: 0.1231 - lr: 5.0000e-04\n",
      "Epoch 401/5000\n",
      "6/6 [==============================] - 0s 6ms/step - loss: 0.0168 - rmse: 0.1297 - lr: 5.0000e-04\n",
      "Epoch 402/5000\n",
      "6/6 [==============================] - 0s 6ms/step - loss: 0.0164 - rmse: 0.1279 - lr: 5.0000e-04\n",
      "Epoch 403/5000\n",
      "6/6 [==============================] - 0s 6ms/step - loss: 0.0148 - rmse: 0.1216 - lr: 5.0000e-04\n",
      "Epoch 404/5000\n",
      "6/6 [==============================] - 0s 5ms/step - loss: 0.0140 - rmse: 0.1182 - lr: 5.0000e-04\n",
      "Epoch 405/5000\n",
      "6/6 [==============================] - 0s 6ms/step - loss: 0.0128 - rmse: 0.1131 - lr: 5.0000e-04\n",
      "Epoch 406/5000\n",
      "6/6 [==============================] - 0s 5ms/step - loss: 0.0134 - rmse: 0.1160 - lr: 5.0000e-04\n",
      "Epoch 407/5000\n",
      "6/6 [==============================] - 0s 6ms/step - loss: 0.0143 - rmse: 0.1195 - lr: 5.0000e-04\n",
      "Epoch 408/5000\n",
      "6/6 [==============================] - 0s 6ms/step - loss: 0.0146 - rmse: 0.1208 - lr: 5.0000e-04\n",
      "Epoch 409/5000\n",
      "6/6 [==============================] - 0s 6ms/step - loss: 0.0140 - rmse: 0.1181 - lr: 5.0000e-04\n",
      "Epoch 410/5000\n",
      "6/6 [==============================] - 0s 6ms/step - loss: 0.0157 - rmse: 0.1254 - lr: 5.0000e-04\n",
      "Epoch 411/5000\n",
      "6/6 [==============================] - 0s 5ms/step - loss: 0.0155 - rmse: 0.1244 - lr: 5.0000e-04\n",
      "Epoch 412/5000\n",
      "6/6 [==============================] - 0s 6ms/step - loss: 0.0180 - rmse: 0.1342 - lr: 5.0000e-04\n",
      "Epoch 413/5000\n",
      "6/6 [==============================] - 0s 6ms/step - loss: 0.0201 - rmse: 0.1418 - lr: 5.0000e-04\n",
      "Epoch 414/5000\n",
      "6/6 [==============================] - 0s 6ms/step - loss: 0.0159 - rmse: 0.1260 - lr: 5.0000e-04\n",
      "Epoch 415/5000\n",
      "6/6 [==============================] - 0s 6ms/step - loss: 0.0121 - rmse: 0.1101 - lr: 5.0000e-04\n",
      "Epoch 416/5000\n",
      "6/6 [==============================] - 0s 6ms/step - loss: 0.0166 - rmse: 0.1289 - lr: 5.0000e-04\n",
      "Epoch 417/5000\n",
      "6/6 [==============================] - 0s 6ms/step - loss: 0.0153 - rmse: 0.1237 - lr: 5.0000e-04\n",
      "Epoch 418/5000\n",
      "6/6 [==============================] - 0s 6ms/step - loss: 0.0150 - rmse: 0.1224 - lr: 5.0000e-04\n",
      "Epoch 419/5000\n",
      "6/6 [==============================] - 0s 6ms/step - loss: 0.0121 - rmse: 0.1098 - lr: 5.0000e-04\n",
      "Epoch 420/5000\n",
      "6/6 [==============================] - 0s 5ms/step - loss: 0.0192 - rmse: 0.1387 - lr: 5.0000e-04\n",
      "Epoch 421/5000\n",
      "6/6 [==============================] - 0s 5ms/step - loss: 0.0140 - rmse: 0.1184 - lr: 5.0000e-04\n",
      "Epoch 422/5000\n",
      "6/6 [==============================] - 0s 6ms/step - loss: 0.0120 - rmse: 0.1094 - lr: 5.0000e-04\n",
      "Epoch 423/5000\n",
      "6/6 [==============================] - 0s 6ms/step - loss: 0.0159 - rmse: 0.1261 - lr: 5.0000e-04\n",
      "Epoch 424/5000\n",
      "6/6 [==============================] - 0s 6ms/step - loss: 0.0123 - rmse: 0.1111 - lr: 5.0000e-04\n",
      "Epoch 425/5000\n",
      "6/6 [==============================] - 0s 6ms/step - loss: 0.0135 - rmse: 0.1162 - lr: 5.0000e-04\n",
      "Epoch 426/5000\n",
      "6/6 [==============================] - 0s 5ms/step - loss: 0.0135 - rmse: 0.1161 - lr: 5.0000e-04\n",
      "Epoch 427/5000\n",
      "6/6 [==============================] - 0s 6ms/step - loss: 0.0135 - rmse: 0.1161 - lr: 5.0000e-04\n",
      "Epoch 428/5000\n",
      "6/6 [==============================] - 0s 6ms/step - loss: 0.0144 - rmse: 0.1199 - lr: 5.0000e-04\n",
      "Epoch 429/5000\n",
      "6/6 [==============================] - 0s 6ms/step - loss: 0.0134 - rmse: 0.1158 - lr: 5.0000e-04\n",
      "Epoch 430/5000\n",
      "6/6 [==============================] - 0s 6ms/step - loss: 0.0143 - rmse: 0.1195 - lr: 5.0000e-04\n",
      "Epoch 431/5000\n",
      "6/6 [==============================] - 0s 6ms/step - loss: 0.0131 - rmse: 0.1143 - lr: 5.0000e-04\n",
      "Epoch 432/5000\n",
      "6/6 [==============================] - 0s 6ms/step - loss: 0.0136 - rmse: 0.1166 - lr: 5.0000e-04\n",
      "Epoch 433/5000\n",
      "6/6 [==============================] - 0s 5ms/step - loss: 0.0142 - rmse: 0.1190 - lr: 5.0000e-04\n",
      "Epoch 434/5000\n",
      "6/6 [==============================] - 0s 5ms/step - loss: 0.0120 - rmse: 0.1094 - lr: 5.0000e-04\n",
      "Epoch 435/5000\n",
      "6/6 [==============================] - 0s 6ms/step - loss: 0.0134 - rmse: 0.1157 - lr: 5.0000e-04\n",
      "Epoch 436/5000\n",
      "6/6 [==============================] - 0s 6ms/step - loss: 0.0135 - rmse: 0.1161 - lr: 5.0000e-04\n",
      "Epoch 437/5000\n",
      "6/6 [==============================] - 0s 6ms/step - loss: 0.0158 - rmse: 0.1257 - lr: 5.0000e-04\n",
      "Epoch 438/5000\n",
      "6/6 [==============================] - 0s 6ms/step - loss: 0.0141 - rmse: 0.1187 - lr: 5.0000e-04\n",
      "Epoch 439/5000\n",
      "6/6 [==============================] - 0s 6ms/step - loss: 0.0227 - rmse: 0.1506 - lr: 5.0000e-04\n",
      "Epoch 440/5000\n",
      "6/6 [==============================] - 0s 6ms/step - loss: 0.0134 - rmse: 0.1159 - lr: 5.0000e-04\n",
      "Epoch 441/5000\n",
      "6/6 [==============================] - 0s 6ms/step - loss: 0.0162 - rmse: 0.1275 - lr: 5.0000e-04\n",
      "Epoch 442/5000\n"
     ]
    },
    {
     "name": "stdout",
     "output_type": "stream",
     "text": [
      "6/6 [==============================] - 0s 6ms/step - loss: 0.0132 - rmse: 0.1149 - lr: 5.0000e-04\n",
      "Epoch 443/5000\n",
      "6/6 [==============================] - 0s 6ms/step - loss: 0.0154 - rmse: 0.1240 - lr: 5.0000e-04\n",
      "Epoch 444/5000\n",
      "6/6 [==============================] - 0s 6ms/step - loss: 0.0136 - rmse: 0.1166 - lr: 5.0000e-04\n",
      "Epoch 445/5000\n",
      "6/6 [==============================] - 0s 6ms/step - loss: 0.0155 - rmse: 0.1244 - lr: 5.0000e-04\n",
      "Epoch 446/5000\n",
      "6/6 [==============================] - 0s 6ms/step - loss: 0.0133 - rmse: 0.1152 - lr: 5.0000e-04\n",
      "Epoch 447/5000\n",
      "6/6 [==============================] - 0s 6ms/step - loss: 0.0141 - rmse: 0.1188 - lr: 5.0000e-04\n",
      "Epoch 448/5000\n",
      "6/6 [==============================] - 0s 6ms/step - loss: 0.0133 - rmse: 0.1154 - lr: 5.0000e-04\n",
      "Epoch 449/5000\n",
      "6/6 [==============================] - 0s 6ms/step - loss: 0.0134 - rmse: 0.1160 - lr: 5.0000e-04\n",
      "Epoch 450/5000\n",
      "6/6 [==============================] - 0s 6ms/step - loss: 0.0152 - rmse: 0.1234 - lr: 5.0000e-04\n",
      "Epoch 451/5000\n",
      "6/6 [==============================] - 0s 5ms/step - loss: 0.0125 - rmse: 0.1118 - lr: 5.0000e-04\n",
      "Epoch 452/5000\n",
      "6/6 [==============================] - 0s 6ms/step - loss: 0.0151 - rmse: 0.1230 - lr: 5.0000e-04\n",
      "Epoch 453/5000\n",
      "6/6 [==============================] - 0s 6ms/step - loss: 0.0131 - rmse: 0.1144 - lr: 5.0000e-04\n",
      "Epoch 454/5000\n",
      "6/6 [==============================] - 0s 6ms/step - loss: 0.0114 - rmse: 0.1069 - lr: 5.0000e-04\n",
      "Epoch 455/5000\n",
      "6/6 [==============================] - 0s 6ms/step - loss: 0.0134 - rmse: 0.1159 - lr: 5.0000e-04\n",
      "Epoch 456/5000\n",
      "6/6 [==============================] - 0s 6ms/step - loss: 0.0129 - rmse: 0.1137 - lr: 5.0000e-04\n",
      "Epoch 457/5000\n",
      "6/6 [==============================] - 0s 5ms/step - loss: 0.0133 - rmse: 0.1152 - lr: 5.0000e-04\n",
      "Epoch 458/5000\n",
      "6/6 [==============================] - 0s 6ms/step - loss: 0.0137 - rmse: 0.1171 - lr: 5.0000e-04\n",
      "Epoch 459/5000\n",
      "6/6 [==============================] - 0s 6ms/step - loss: 0.0147 - rmse: 0.1214 - lr: 5.0000e-04\n",
      "Epoch 460/5000\n",
      "1/6 [====>.........................] - ETA: 0s - loss: 0.0213 - rmse: 0.1458\n",
      "Epoch 460: ReduceLROnPlateau reducing learning rate to 0.0002500000118743628.\n",
      "6/6 [==============================] - 0s 6ms/step - loss: 0.0193 - rmse: 0.1389 - lr: 5.0000e-04\n",
      "Epoch 461/5000\n",
      "6/6 [==============================] - 0s 6ms/step - loss: 0.0134 - rmse: 0.1159 - lr: 2.5000e-04\n",
      "Epoch 462/5000\n",
      "6/6 [==============================] - 0s 6ms/step - loss: 0.0121 - rmse: 0.1098 - lr: 2.5000e-04\n",
      "Epoch 463/5000\n",
      "6/6 [==============================] - 0s 6ms/step - loss: 0.0110 - rmse: 0.1047 - lr: 2.5000e-04\n",
      "Epoch 464/5000\n",
      "6/6 [==============================] - 0s 6ms/step - loss: 0.0139 - rmse: 0.1181 - lr: 2.5000e-04\n",
      "Epoch 465/5000\n",
      "6/6 [==============================] - 0s 6ms/step - loss: 0.0133 - rmse: 0.1153 - lr: 2.5000e-04\n",
      "Epoch 466/5000\n",
      "6/6 [==============================] - 0s 6ms/step - loss: 0.0102 - rmse: 0.1009 - lr: 2.5000e-04\n",
      "Epoch 467/5000\n",
      "6/6 [==============================] - 0s 6ms/step - loss: 0.0136 - rmse: 0.1166 - lr: 2.5000e-04\n",
      "Epoch 468/5000\n",
      "6/6 [==============================] - 0s 6ms/step - loss: 0.0109 - rmse: 0.1043 - lr: 2.5000e-04\n",
      "Epoch 469/5000\n",
      "6/6 [==============================] - 0s 6ms/step - loss: 0.0143 - rmse: 0.1198 - lr: 2.5000e-04\n",
      "Epoch 470/5000\n",
      "6/6 [==============================] - 0s 6ms/step - loss: 0.0148 - rmse: 0.1216 - lr: 2.5000e-04\n",
      "Epoch 471/5000\n",
      "6/6 [==============================] - 0s 6ms/step - loss: 0.0115 - rmse: 0.1075 - lr: 2.5000e-04\n",
      "Epoch 472/5000\n",
      "6/6 [==============================] - 0s 6ms/step - loss: 0.0097 - rmse: 0.0983 - lr: 2.5000e-04\n",
      "Epoch 473/5000\n",
      "6/6 [==============================] - 0s 5ms/step - loss: 0.0153 - rmse: 0.1238 - lr: 2.5000e-04\n",
      "Epoch 474/5000\n",
      "6/6 [==============================] - 0s 6ms/step - loss: 0.0127 - rmse: 0.1126 - lr: 2.5000e-04\n",
      "Epoch 475/5000\n",
      "6/6 [==============================] - 0s 6ms/step - loss: 0.0128 - rmse: 0.1131 - lr: 2.5000e-04\n",
      "Epoch 476/5000\n",
      "6/6 [==============================] - 0s 6ms/step - loss: 0.0120 - rmse: 0.1096 - lr: 2.5000e-04\n",
      "Epoch 477/5000\n",
      "6/6 [==============================] - 0s 6ms/step - loss: 0.0130 - rmse: 0.1138 - lr: 2.5000e-04\n",
      "Epoch 478/5000\n",
      "6/6 [==============================] - 0s 6ms/step - loss: 0.0137 - rmse: 0.1171 - lr: 2.5000e-04\n",
      "Epoch 479/5000\n",
      "6/6 [==============================] - 0s 6ms/step - loss: 0.0125 - rmse: 0.1119 - lr: 2.5000e-04\n",
      "Epoch 480/5000\n",
      "6/6 [==============================] - 0s 6ms/step - loss: 0.0128 - rmse: 0.1132 - lr: 2.5000e-04\n",
      "Epoch 481/5000\n",
      "6/6 [==============================] - 0s 6ms/step - loss: 0.0134 - rmse: 0.1156 - lr: 2.5000e-04\n",
      "Epoch 482/5000\n",
      "6/6 [==============================] - 0s 6ms/step - loss: 0.0118 - rmse: 0.1088 - lr: 2.5000e-04\n",
      "Epoch 483/5000\n",
      "6/6 [==============================] - 0s 5ms/step - loss: 0.0126 - rmse: 0.1123 - lr: 2.5000e-04\n",
      "Epoch 484/5000\n",
      "6/6 [==============================] - 0s 6ms/step - loss: 0.0132 - rmse: 0.1149 - lr: 2.5000e-04\n",
      "Epoch 485/5000\n",
      "6/6 [==============================] - 0s 6ms/step - loss: 0.0125 - rmse: 0.1119 - lr: 2.5000e-04\n",
      "Epoch 486/5000\n",
      "6/6 [==============================] - 0s 6ms/step - loss: 0.0114 - rmse: 0.1069 - lr: 2.5000e-04\n",
      "Epoch 487/5000\n",
      "6/6 [==============================] - 0s 6ms/step - loss: 0.0116 - rmse: 0.1078 - lr: 2.5000e-04\n",
      "Epoch 488/5000\n",
      "6/6 [==============================] - 0s 6ms/step - loss: 0.0159 - rmse: 0.1263 - lr: 2.5000e-04\n",
      "Epoch 489/5000\n",
      "6/6 [==============================] - 0s 6ms/step - loss: 0.0116 - rmse: 0.1076 - lr: 2.5000e-04\n",
      "Epoch 490/5000\n",
      "6/6 [==============================] - 0s 6ms/step - loss: 0.0124 - rmse: 0.1113 - lr: 2.5000e-04\n",
      "Epoch 491/5000\n",
      "6/6 [==============================] - 0s 6ms/step - loss: 0.0123 - rmse: 0.1111 - lr: 2.5000e-04\n",
      "Epoch 492/5000\n",
      "6/6 [==============================] - 0s 6ms/step - loss: 0.0109 - rmse: 0.1044 - lr: 2.5000e-04\n",
      "Epoch 493/5000\n",
      "6/6 [==============================] - 0s 6ms/step - loss: 0.0128 - rmse: 0.1130 - lr: 2.5000e-04\n",
      "Epoch 494/5000\n",
      "6/6 [==============================] - 0s 6ms/step - loss: 0.0115 - rmse: 0.1072 - lr: 2.5000e-04\n",
      "Epoch 495/5000\n",
      "6/6 [==============================] - 0s 6ms/step - loss: 0.0131 - rmse: 0.1145 - lr: 2.5000e-04\n",
      "Epoch 496/5000\n",
      "6/6 [==============================] - 0s 6ms/step - loss: 0.0130 - rmse: 0.1140 - lr: 2.5000e-04\n",
      "Epoch 497/5000\n",
      "6/6 [==============================] - 0s 6ms/step - loss: 0.0107 - rmse: 0.1036 - lr: 2.5000e-04\n",
      "Epoch 498/5000\n",
      "6/6 [==============================] - 0s 6ms/step - loss: 0.0135 - rmse: 0.1162 - lr: 2.5000e-04\n",
      "Epoch 499/5000\n",
      "6/6 [==============================] - 0s 6ms/step - loss: 0.0134 - rmse: 0.1157 - lr: 2.5000e-04\n",
      "Epoch 500/5000\n",
      "6/6 [==============================] - 0s 6ms/step - loss: 0.0127 - rmse: 0.1125 - lr: 2.5000e-04\n",
      "Epoch 501/5000\n",
      "6/6 [==============================] - 0s 6ms/step - loss: 0.0106 - rmse: 0.1031 - lr: 2.5000e-04\n",
      "Epoch 502/5000\n",
      "6/6 [==============================] - 0s 6ms/step - loss: 0.0136 - rmse: 0.1164 - lr: 2.5000e-04\n",
      "Epoch 503/5000\n",
      "6/6 [==============================] - 0s 6ms/step - loss: 0.0112 - rmse: 0.1057 - lr: 2.5000e-04\n",
      "Epoch 504/5000\n",
      "6/6 [==============================] - 0s 6ms/step - loss: 0.0128 - rmse: 0.1131 - lr: 2.5000e-04\n",
      "Epoch 505/5000\n",
      "6/6 [==============================] - 0s 6ms/step - loss: 0.0122 - rmse: 0.1104 - lr: 2.5000e-04\n",
      "Epoch 506/5000\n",
      "6/6 [==============================] - 0s 6ms/step - loss: 0.0113 - rmse: 0.1061 - lr: 2.5000e-04\n",
      "Epoch 507/5000\n",
      "6/6 [==============================] - 0s 6ms/step - loss: 0.0108 - rmse: 0.1040 - lr: 2.5000e-04\n",
      "Epoch 508/5000\n",
      "6/6 [==============================] - 0s 6ms/step - loss: 0.0123 - rmse: 0.1107 - lr: 2.5000e-04\n",
      "Epoch 509/5000\n",
      "6/6 [==============================] - 0s 6ms/step - loss: 0.0114 - rmse: 0.1069 - lr: 2.5000e-04\n",
      "Epoch 510/5000\n",
      "6/6 [==============================] - 0s 6ms/step - loss: 0.0163 - rmse: 0.1275 - lr: 2.5000e-04\n",
      "Epoch 511/5000\n",
      "6/6 [==============================] - 0s 6ms/step - loss: 0.0198 - rmse: 0.1406 - lr: 2.5000e-04\n",
      "Epoch 512/5000\n",
      "6/6 [==============================] - 0s 6ms/step - loss: 0.0137 - rmse: 0.1172 - lr: 2.5000e-04\n",
      "Epoch 513/5000\n"
     ]
    },
    {
     "name": "stdout",
     "output_type": "stream",
     "text": [
      "6/6 [==============================] - 0s 6ms/step - loss: 0.0142 - rmse: 0.1190 - lr: 2.5000e-04\n",
      "Epoch 514/5000\n",
      "6/6 [==============================] - 0s 6ms/step - loss: 0.0121 - rmse: 0.1101 - lr: 2.5000e-04\n",
      "Epoch 515/5000\n",
      "6/6 [==============================] - 0s 6ms/step - loss: 0.0108 - rmse: 0.1039 - lr: 2.5000e-04\n",
      "Epoch 516/5000\n",
      "6/6 [==============================] - 0s 5ms/step - loss: 0.0142 - rmse: 0.1193 - lr: 2.5000e-04\n",
      "Epoch 517/5000\n",
      "6/6 [==============================] - 0s 6ms/step - loss: 0.0122 - rmse: 0.1106 - lr: 2.5000e-04\n",
      "Epoch 518/5000\n",
      "6/6 [==============================] - 0s 6ms/step - loss: 0.0117 - rmse: 0.1083 - lr: 2.5000e-04\n",
      "Epoch 519/5000\n",
      "6/6 [==============================] - 0s 6ms/step - loss: 0.0125 - rmse: 0.1116 - lr: 2.5000e-04\n",
      "Epoch 520/5000\n",
      "6/6 [==============================] - 0s 6ms/step - loss: 0.0135 - rmse: 0.1162 - lr: 2.5000e-04\n",
      "Epoch 521/5000\n",
      "6/6 [==============================] - 0s 6ms/step - loss: 0.0133 - rmse: 0.1153 - lr: 2.5000e-04\n",
      "Epoch 522/5000\n",
      "6/6 [==============================] - 0s 6ms/step - loss: 0.0087 - rmse: 0.0931 - lr: 2.5000e-04\n",
      "Epoch 523/5000\n",
      "6/6 [==============================] - 0s 6ms/step - loss: 0.0144 - rmse: 0.1199 - lr: 2.5000e-04\n",
      "Epoch 524/5000\n",
      "6/6 [==============================] - 0s 6ms/step - loss: 0.0129 - rmse: 0.1135 - lr: 2.5000e-04\n",
      "Epoch 525/5000\n",
      "6/6 [==============================] - 0s 6ms/step - loss: 0.0105 - rmse: 0.1023 - lr: 2.5000e-04\n",
      "Epoch 526/5000\n",
      "6/6 [==============================] - 0s 6ms/step - loss: 0.0125 - rmse: 0.1116 - lr: 2.5000e-04\n",
      "Epoch 527/5000\n",
      "6/6 [==============================] - 0s 6ms/step - loss: 0.0129 - rmse: 0.1135 - lr: 2.5000e-04\n",
      "Epoch 528/5000\n",
      "6/6 [==============================] - 0s 6ms/step - loss: 0.0126 - rmse: 0.1120 - lr: 2.5000e-04\n",
      "Epoch 529/5000\n",
      "6/6 [==============================] - 0s 6ms/step - loss: 0.0112 - rmse: 0.1057 - lr: 2.5000e-04\n",
      "Epoch 530/5000\n",
      "6/6 [==============================] - 0s 6ms/step - loss: 0.0133 - rmse: 0.1154 - lr: 2.5000e-04\n",
      "Epoch 531/5000\n",
      "6/6 [==============================] - 0s 6ms/step - loss: 0.0118 - rmse: 0.1085 - lr: 2.5000e-04\n",
      "Epoch 532/5000\n",
      "6/6 [==============================] - 0s 6ms/step - loss: 0.0128 - rmse: 0.1129 - lr: 2.5000e-04\n",
      "Epoch 533/5000\n",
      "6/6 [==============================] - 0s 6ms/step - loss: 0.0118 - rmse: 0.1085 - lr: 2.5000e-04\n",
      "Epoch 534/5000\n",
      "6/6 [==============================] - 0s 6ms/step - loss: 0.0125 - rmse: 0.1116 - lr: 2.5000e-04\n",
      "Epoch 535/5000\n",
      "6/6 [==============================] - 0s 6ms/step - loss: 0.0111 - rmse: 0.1053 - lr: 2.5000e-04\n",
      "Epoch 536/5000\n",
      "6/6 [==============================] - 0s 6ms/step - loss: 0.0119 - rmse: 0.1093 - lr: 2.5000e-04\n",
      "Epoch 537/5000\n",
      "6/6 [==============================] - 0s 6ms/step - loss: 0.0106 - rmse: 0.1028 - lr: 2.5000e-04\n",
      "Epoch 538/5000\n",
      "6/6 [==============================] - 0s 6ms/step - loss: 0.0136 - rmse: 0.1166 - lr: 2.5000e-04\n",
      "Epoch 539/5000\n",
      "6/6 [==============================] - 0s 6ms/step - loss: 0.0120 - rmse: 0.1096 - lr: 2.5000e-04\n",
      "Epoch 540/5000\n",
      "6/6 [==============================] - 0s 6ms/step - loss: 0.0120 - rmse: 0.1097 - lr: 2.5000e-04\n",
      "Epoch 541/5000\n",
      "6/6 [==============================] - 0s 6ms/step - loss: 0.0099 - rmse: 0.0993 - lr: 2.5000e-04\n",
      "Epoch 542/5000\n",
      "6/6 [==============================] - 0s 6ms/step - loss: 0.0135 - rmse: 0.1160 - lr: 2.5000e-04\n",
      "Epoch 543/5000\n",
      "6/6 [==============================] - 0s 6ms/step - loss: 0.0128 - rmse: 0.1131 - lr: 2.5000e-04\n",
      "Epoch 544/5000\n",
      "6/6 [==============================] - 0s 6ms/step - loss: 0.0112 - rmse: 0.1058 - lr: 2.5000e-04\n",
      "Epoch 545/5000\n",
      "6/6 [==============================] - 0s 6ms/step - loss: 0.0129 - rmse: 0.1134 - lr: 2.5000e-04\n",
      "Epoch 546/5000\n",
      "6/6 [==============================] - 0s 6ms/step - loss: 0.0133 - rmse: 0.1152 - lr: 2.5000e-04\n",
      "Epoch 547/5000\n",
      "6/6 [==============================] - 0s 6ms/step - loss: 0.0138 - rmse: 0.1176 - lr: 2.5000e-04\n",
      "Epoch 548/5000\n",
      "6/6 [==============================] - 0s 6ms/step - loss: 0.0136 - rmse: 0.1167 - lr: 2.5000e-04\n",
      "Epoch 549/5000\n",
      "6/6 [==============================] - 0s 6ms/step - loss: 0.0101 - rmse: 0.1007 - lr: 2.5000e-04\n",
      "Epoch 550/5000\n",
      "6/6 [==============================] - 0s 5ms/step - loss: 0.0130 - rmse: 0.1141 - lr: 2.5000e-04\n",
      "Epoch 551/5000\n",
      "6/6 [==============================] - 0s 6ms/step - loss: 0.0110 - rmse: 0.1047 - lr: 2.5000e-04\n",
      "Epoch 552/5000\n",
      "6/6 [==============================] - 0s 6ms/step - loss: 0.0125 - rmse: 0.1118 - lr: 2.5000e-04\n",
      "Epoch 553/5000\n",
      "6/6 [==============================] - 0s 6ms/step - loss: 0.0133 - rmse: 0.1154 - lr: 2.5000e-04\n",
      "Epoch 554/5000\n",
      "6/6 [==============================] - 0s 6ms/step - loss: 0.0134 - rmse: 0.1156 - lr: 2.5000e-04\n",
      "Epoch 555/5000\n",
      "6/6 [==============================] - 0s 6ms/step - loss: 0.0140 - rmse: 0.1185 - lr: 2.5000e-04\n",
      "Epoch 556/5000\n",
      "6/6 [==============================] - 0s 6ms/step - loss: 0.0112 - rmse: 0.1056 - lr: 2.5000e-04\n",
      "Epoch 557/5000\n",
      "6/6 [==============================] - 0s 6ms/step - loss: 0.0138 - rmse: 0.1174 - lr: 2.5000e-04\n",
      "Epoch 558/5000\n",
      "6/6 [==============================] - 0s 6ms/step - loss: 0.0091 - rmse: 0.0955 - lr: 2.5000e-04\n",
      "Epoch 559/5000\n",
      "6/6 [==============================] - 0s 6ms/step - loss: 0.0135 - rmse: 0.1163 - lr: 2.5000e-04\n",
      "Epoch 560/5000\n",
      "6/6 [==============================] - 0s 6ms/step - loss: 0.0111 - rmse: 0.1052 - lr: 2.5000e-04\n",
      "Epoch 561/5000\n",
      "6/6 [==============================] - 0s 6ms/step - loss: 0.0131 - rmse: 0.1143 - lr: 2.5000e-04\n",
      "Epoch 562/5000\n",
      "6/6 [==============================] - 0s 6ms/step - loss: 0.0128 - rmse: 0.1132 - lr: 2.5000e-04\n",
      "Epoch 563/5000\n",
      "6/6 [==============================] - 0s 6ms/step - loss: 0.0124 - rmse: 0.1115 - lr: 2.5000e-04\n",
      "Epoch 564/5000\n",
      "6/6 [==============================] - 0s 6ms/step - loss: 0.0128 - rmse: 0.1132 - lr: 2.5000e-04\n",
      "Epoch 565/5000\n",
      "6/6 [==============================] - 0s 6ms/step - loss: 0.0105 - rmse: 0.1027 - lr: 2.5000e-04\n",
      "Epoch 566/5000\n",
      "6/6 [==============================] - 0s 6ms/step - loss: 0.0126 - rmse: 0.1125 - lr: 2.5000e-04\n",
      "Epoch 567/5000\n",
      "6/6 [==============================] - 0s 6ms/step - loss: 0.0119 - rmse: 0.1090 - lr: 2.5000e-04\n",
      "Epoch 568/5000\n",
      "6/6 [==============================] - 0s 6ms/step - loss: 0.0126 - rmse: 0.1124 - lr: 2.5000e-04\n",
      "Epoch 569/5000\n",
      "6/6 [==============================] - 0s 6ms/step - loss: 0.0156 - rmse: 0.1249 - lr: 2.5000e-04\n",
      "Epoch 570/5000\n",
      "6/6 [==============================] - 0s 6ms/step - loss: 0.0125 - rmse: 0.1118 - lr: 2.5000e-04\n",
      "Epoch 571/5000\n",
      "6/6 [==============================] - 0s 5ms/step - loss: 0.0122 - rmse: 0.1104 - lr: 2.5000e-04\n",
      "Epoch 572/5000\n",
      "6/6 [==============================] - 0s 6ms/step - loss: 0.0140 - rmse: 0.1182 - lr: 2.5000e-04\n",
      "Epoch 573/5000\n",
      "6/6 [==============================] - 0s 5ms/step - loss: 0.0111 - rmse: 0.1053 - lr: 2.5000e-04\n",
      "Epoch 574/5000\n",
      "6/6 [==============================] - 0s 6ms/step - loss: 0.0117 - rmse: 0.1080 - lr: 2.5000e-04\n",
      "Epoch 575/5000\n",
      "6/6 [==============================] - 0s 6ms/step - loss: 0.0117 - rmse: 0.1082 - lr: 2.5000e-04\n",
      "Epoch 576/5000\n",
      "6/6 [==============================] - 0s 6ms/step - loss: 0.0122 - rmse: 0.1103 - lr: 2.5000e-04\n",
      "Epoch 577/5000\n",
      "6/6 [==============================] - 0s 6ms/step - loss: 0.0109 - rmse: 0.1043 - lr: 2.5000e-04\n",
      "Epoch 578/5000\n",
      "6/6 [==============================] - 0s 6ms/step - loss: 0.0115 - rmse: 0.1073 - lr: 2.5000e-04\n",
      "Epoch 579/5000\n",
      "6/6 [==============================] - 0s 5ms/step - loss: 0.0127 - rmse: 0.1128 - lr: 2.5000e-04\n",
      "Epoch 580/5000\n",
      "6/6 [==============================] - 0s 6ms/step - loss: 0.0108 - rmse: 0.1041 - lr: 2.5000e-04\n",
      "Epoch 581/5000\n",
      "6/6 [==============================] - 0s 6ms/step - loss: 0.0122 - rmse: 0.1105 - lr: 2.5000e-04\n",
      "Epoch 582/5000\n",
      "6/6 [==============================] - 0s 6ms/step - loss: 0.0115 - rmse: 0.1071 - lr: 2.5000e-04\n",
      "Epoch 583/5000\n",
      "6/6 [==============================] - 0s 6ms/step - loss: 0.0119 - rmse: 0.1090 - lr: 2.5000e-04\n",
      "Epoch 584/5000\n",
      "6/6 [==============================] - 0s 7ms/step - loss: 0.0141 - rmse: 0.1186 - lr: 2.5000e-04\n",
      "Epoch 585/5000\n"
     ]
    },
    {
     "name": "stdout",
     "output_type": "stream",
     "text": [
      "6/6 [==============================] - 0s 6ms/step - loss: 0.0114 - rmse: 0.1070 - lr: 2.5000e-04\n",
      "Epoch 586/5000\n",
      "6/6 [==============================] - 0s 6ms/step - loss: 0.0111 - rmse: 0.1052 - lr: 2.5000e-04\n",
      "Epoch 587/5000\n",
      "6/6 [==============================] - 0s 6ms/step - loss: 0.0116 - rmse: 0.1079 - lr: 2.5000e-04\n",
      "Epoch 588/5000\n",
      "6/6 [==============================] - 0s 6ms/step - loss: 0.0142 - rmse: 0.1193 - lr: 2.5000e-04\n",
      "Epoch 589/5000\n",
      "6/6 [==============================] - 0s 6ms/step - loss: 0.0122 - rmse: 0.1104 - lr: 2.5000e-04\n",
      "Epoch 590/5000\n",
      "6/6 [==============================] - 0s 6ms/step - loss: 0.0130 - rmse: 0.1140 - lr: 2.5000e-04\n",
      "Epoch 591/5000\n",
      "6/6 [==============================] - 0s 6ms/step - loss: 0.0115 - rmse: 0.1074 - lr: 2.5000e-04\n",
      "Epoch 592/5000\n",
      "1/6 [====>.........................] - ETA: 0s - loss: 0.0104 - rmse: 0.1018\n",
      "Epoch 592: ReduceLROnPlateau reducing learning rate to 0.0001250000059371814.\n",
      "6/6 [==============================] - 0s 6ms/step - loss: 0.0102 - rmse: 0.1009 - lr: 2.5000e-04\n",
      "Epoch 593/5000\n",
      "6/6 [==============================] - 0s 6ms/step - loss: 0.0118 - rmse: 0.1088 - lr: 1.2500e-04\n",
      "Epoch 594/5000\n",
      "6/6 [==============================] - 0s 6ms/step - loss: 0.0138 - rmse: 0.1176 - lr: 1.2500e-04\n",
      "Epoch 595/5000\n",
      "6/6 [==============================] - 0s 6ms/step - loss: 0.0102 - rmse: 0.1009 - lr: 1.2500e-04\n",
      "Epoch 596/5000\n",
      "6/6 [==============================] - 0s 6ms/step - loss: 0.0113 - rmse: 0.1064 - lr: 1.2500e-04\n",
      "Epoch 597/5000\n",
      "6/6 [==============================] - 0s 6ms/step - loss: 0.0107 - rmse: 0.1035 - lr: 1.2500e-04\n",
      "Epoch 598/5000\n",
      "6/6 [==============================] - 0s 6ms/step - loss: 0.0113 - rmse: 0.1062 - lr: 1.2500e-04\n",
      "Epoch 599/5000\n",
      "6/6 [==============================] - 0s 6ms/step - loss: 0.0122 - rmse: 0.1106 - lr: 1.2500e-04\n",
      "Epoch 600/5000\n",
      "6/6 [==============================] - 0s 6ms/step - loss: 0.0106 - rmse: 0.1028 - lr: 1.2500e-04\n",
      "Epoch 601/5000\n",
      "6/6 [==============================] - 0s 6ms/step - loss: 0.0114 - rmse: 0.1068 - lr: 1.2500e-04\n",
      "Epoch 602/5000\n",
      "6/6 [==============================] - 0s 6ms/step - loss: 0.0121 - rmse: 0.1102 - lr: 1.2500e-04\n",
      "Epoch 603/5000\n",
      "6/6 [==============================] - 0s 6ms/step - loss: 0.0109 - rmse: 0.1046 - lr: 1.2500e-04\n",
      "Epoch 604/5000\n",
      "6/6 [==============================] - 0s 6ms/step - loss: 0.0112 - rmse: 0.1059 - lr: 1.2500e-04\n",
      "Epoch 605/5000\n",
      "6/6 [==============================] - 0s 6ms/step - loss: 0.0108 - rmse: 0.1041 - lr: 1.2500e-04\n",
      "Epoch 606/5000\n",
      "6/6 [==============================] - 0s 6ms/step - loss: 0.0129 - rmse: 0.1137 - lr: 1.2500e-04\n",
      "Epoch 607/5000\n",
      "6/6 [==============================] - 0s 5ms/step - loss: 0.0103 - rmse: 0.1015 - lr: 1.2500e-04\n",
      "Epoch 608/5000\n",
      "6/6 [==============================] - 0s 6ms/step - loss: 0.0117 - rmse: 0.1080 - lr: 1.2500e-04\n",
      "Epoch 609/5000\n",
      "6/6 [==============================] - 0s 6ms/step - loss: 0.0117 - rmse: 0.1082 - lr: 1.2500e-04\n",
      "Epoch 610/5000\n",
      "6/6 [==============================] - 0s 6ms/step - loss: 0.0118 - rmse: 0.1088 - lr: 1.2500e-04\n",
      "Epoch 611/5000\n",
      "6/6 [==============================] - 0s 6ms/step - loss: 0.0110 - rmse: 0.1047 - lr: 1.2500e-04\n",
      "Epoch 612/5000\n",
      "6/6 [==============================] - 0s 6ms/step - loss: 0.0113 - rmse: 0.1062 - lr: 1.2500e-04\n",
      "Epoch 613/5000\n",
      "6/6 [==============================] - 0s 6ms/step - loss: 0.0110 - rmse: 0.1049 - lr: 1.2500e-04\n",
      "Epoch 614/5000\n",
      "6/6 [==============================] - 0s 6ms/step - loss: 0.0111 - rmse: 0.1053 - lr: 1.2500e-04\n",
      "Epoch 615/5000\n",
      "6/6 [==============================] - 0s 6ms/step - loss: 0.0131 - rmse: 0.1147 - lr: 1.2500e-04\n",
      "Epoch 616/5000\n",
      "6/6 [==============================] - 0s 6ms/step - loss: 0.0112 - rmse: 0.1060 - lr: 1.2500e-04\n",
      "Epoch 617/5000\n",
      "6/6 [==============================] - 0s 6ms/step - loss: 0.0116 - rmse: 0.1076 - lr: 1.2500e-04\n",
      "Epoch 618/5000\n",
      "6/6 [==============================] - 0s 6ms/step - loss: 0.0108 - rmse: 0.1037 - lr: 1.2500e-04\n",
      "Epoch 619/5000\n",
      "6/6 [==============================] - 0s 5ms/step - loss: 0.0118 - rmse: 0.1087 - lr: 1.2500e-04\n",
      "Epoch 620/5000\n",
      "6/6 [==============================] - 0s 6ms/step - loss: 0.0121 - rmse: 0.1100 - lr: 1.2500e-04\n",
      "Epoch 621/5000\n",
      "6/6 [==============================] - 0s 6ms/step - loss: 0.0108 - rmse: 0.1041 - lr: 1.2500e-04\n",
      "Epoch 622/5000\n",
      "1/6 [====>.........................] - ETA: 0s - loss: 0.0088 - rmse: 0.0941Restoring model weights from the end of the best epoch: 522.\n",
      "6/6 [==============================] - 0s 7ms/step - loss: 0.0101 - rmse: 0.1004 - lr: 1.2500e-04\n",
      "Epoch 622: early stopping\n"
     ]
    }
   ],
   "source": [
    "start = datetime.datetime.now()\n",
    "history = model.fit(x_train, y_train, batch_size=batch_size,\n",
    "                    steps_per_epoch = STEP_SIZE_TRAIN,\n",
    "                    epochs=5000, shuffle=True, callbacks=[es, rp])\n",
    "end = datetime.datetime.now()"
   ]
  },
  {
   "cell_type": "code",
   "execution_count": 36,
   "id": "79204ff0",
   "metadata": {},
   "outputs": [
    {
     "name": "stdout",
     "output_type": "stream",
     "text": [
      "Training time: 0:00:21.781881\n"
     ]
    }
   ],
   "source": [
    "time = end - start\n",
    "print(\"Training time:\", time)"
   ]
  },
  {
   "cell_type": "code",
   "execution_count": 37,
   "id": "eed3d80c",
   "metadata": {},
   "outputs": [],
   "source": [
    "os.chdir(\"D:\\\\VAWT_data\\\\flap_steady\\\\flap_steady\\\\result\\\\MLP\")"
   ]
  },
  {
   "cell_type": "code",
   "execution_count": 38,
   "id": "77cc60d1",
   "metadata": {},
   "outputs": [
    {
     "data": {
      "image/png": "[encoded data removed]",
      "text/plain": [
       "<Figure size 432x288 with 1 Axes>"
      ]
     },
     "metadata": {
      "needs_background": "light"
     },
     "output_type": "display_data"
    }
   ],
   "source": [
    "hist = history.history\n",
    "plt.plot(hist['loss'], lw=2)\n",
    "plt.title('Training loss (mean squared error)\\nMLP', size=15)\n",
    "plt.xlabel('Epoch', size=15)\n",
    "plt.yscale('log')\n",
    "#plt.ylim([5e-5, 1e-1])\n",
    "plt.tick_params(axis='both', which='major', labelsize=15)\n",
    "plt.grid()\n",
    "saveName = \"TrainingLoss_test\"+str(test_rate) + \".jpg\"\n",
    "plt.savefig(saveName, dpi=300, bbox_inches='tight', pad_inches=0.3)\n",
    "plt.show()"
   ]
  },
  {
   "cell_type": "code",
   "execution_count": 39,
   "id": "2e42b6c2",
   "metadata": {},
   "outputs": [
    {
     "data": {
      "image/png": "[encoded data removed]",
      "text/plain": [
       "<Figure size 432x288 with 1 Axes>"
      ]
     },
     "metadata": {
      "needs_background": "light"
     },
     "output_type": "display_data"
    }
   ],
   "source": [
    "plt.plot(hist['rmse'], lw=2)\n",
    "plt.title('Root Mean Squared Error', size=15)\n",
    "plt.xlabel('Epoch', size=15)\n",
    "plt.tick_params(axis='both', which='major', labelsize=15)\n",
    "plt.show()"
   ]
  },
  {
   "cell_type": "code",
   "execution_count": 40,
   "id": "983b76cb",
   "metadata": {},
   "outputs": [
    {
     "data": {
      "image/png": "[encoded data removed]",
      "text/plain": [
       "<Figure size 432x288 with 1 Axes>"
      ]
     },
     "metadata": {
      "needs_background": "light"
     },
     "output_type": "display_data"
    }
   ],
   "source": [
    "plt.plot(hist['rmse'], lw=2)\n",
    "plt.title('Root Mean Squared Error\\nMLP', size=15)\n",
    "plt.xlabel('Epoch', size=15)\n",
    "plt.yscale('log')\n",
    "plt.tick_params(axis='both', which='major', labelsize=15)\n",
    "plt.grid()\n",
    "saveName = \"RMSE_test\"+str(test_rate) + \".jpg\"\n",
    "plt.savefig(saveName, dpi=300, bbox_inches='tight', pad_inches=0.3)\n",
    "plt.show()"
   ]
  },
  {
   "cell_type": "code",
   "execution_count": 41,
   "id": "abc70d8b",
   "metadata": {},
   "outputs": [
    {
     "name": "stdout",
     "output_type": "stream",
     "text": [
      "1/1 [==============================] - 0s 123ms/step - loss: 0.0103 - rmse: 0.1013\n"
     ]
    }
   ],
   "source": [
    "test_results = model.evaluate(x_test, y_test)"
   ]
  },
  {
   "cell_type": "code",
   "execution_count": 42,
   "id": "745feda1",
   "metadata": {},
   "outputs": [
    {
     "name": "stdout",
     "output_type": "stream",
     "text": [
      "5/5 [==============================] - 0s 2ms/step\n",
      "1/1 [==============================] - 0s 14ms/step\n"
     ]
    }
   ],
   "source": [
    "decoded_train = model.predict(x_train)\n",
    "decoded_test = model.predict(x_test)"
   ]
  },
  {
   "cell_type": "code",
   "execution_count": 43,
   "id": "55d01da2",
   "metadata": {},
   "outputs": [],
   "source": [
    "model_directory = \"D:\\\\TrainedModels\\\\20221112\"\n",
    "if not os.path.exists(model_directory):\n",
    "    os.makedirs(model_directory)\n",
    "os.chdir(model_directory)\n",
    "model_name = \"20221112steadyValidation_MLP_test\"+str(test_rate)+ \"_\" + str(n_units) +\"units.h5\"\n",
    "model.save(model_name, overwrite=True, include_optimizer=True, save_format='h5')"
   ]
  },
  {
   "cell_type": "code",
   "execution_count": 44,
   "id": "c38a34c6",
   "metadata": {},
   "outputs": [],
   "source": [
    "error_train_abs = np.abs(decoded_train - y_train)"
   ]
  },
  {
   "cell_type": "code",
   "execution_count": 45,
   "id": "4c0dfd6f",
   "metadata": {},
   "outputs": [],
   "source": [
    "error_test_abs = np.abs(decoded_test - y_test)"
   ]
  },
  {
   "cell_type": "code",
   "execution_count": 46,
   "id": "09e4b617",
   "metadata": {},
   "outputs": [],
   "source": [
    "os.chdir(\"D:\\\\VAWT_data\\\\flap_steady\\\\flap_steady\\\\result\\\\MLP\")"
   ]
  },
  {
   "cell_type": "code",
   "execution_count": 47,
   "id": "31fb219f",
   "metadata": {},
   "outputs": [
    {
     "name": "stdout",
     "output_type": "stream",
     "text": [
      "0.12706055880998365\n"
     ]
    }
   ],
   "source": [
    "l2_error_train = np.sqrt(np.sum((decoded_train - y_train)**2) / np.sum(y_train**2))\n",
    "print(l2_error_train)"
   ]
  },
  {
   "cell_type": "code",
   "execution_count": 48,
   "id": "3770434c",
   "metadata": {},
   "outputs": [
    {
     "name": "stdout",
     "output_type": "stream",
     "text": [
      "0.11709798003890157\n"
     ]
    }
   ],
   "source": [
    "l2_error_test = np.sqrt(np.sum((decoded_test - y_test)**2) / np.sum(y_test**2))\n",
    "print(l2_error_test)"
   ]
  },
  {
   "cell_type": "code",
   "execution_count": 49,
   "id": "bbd08ec2",
   "metadata": {},
   "outputs": [
    {
     "name": "stdout",
     "output_type": "stream",
     "text": [
      "0.20198091125689308\n"
     ]
    }
   ],
   "source": [
    "l2_error_Cd_train = np.sqrt(np.sum((decoded_train[0] - y_train[0])**2) / np.sum(y_train[0]**2))\n",
    "print(l2_error_Cd_train)"
   ]
  },
  {
   "cell_type": "code",
   "execution_count": 50,
   "id": "d7b85068",
   "metadata": {},
   "outputs": [
    {
     "name": "stdout",
     "output_type": "stream",
     "text": [
      "0.010167914434767191\n"
     ]
    }
   ],
   "source": [
    "l2_error_Cl_train = np.sqrt(np.sum((decoded_train[1] - y_train[1])**2) / np.sum(y_train[1]**2))\n",
    "print(l2_error_Cl_train)"
   ]
  },
  {
   "cell_type": "code",
   "execution_count": 51,
   "id": "ca16dd1b",
   "metadata": {},
   "outputs": [
    {
     "name": "stdout",
     "output_type": "stream",
     "text": [
      "0.14641754498629567\n"
     ]
    }
   ],
   "source": [
    "l2_error_Cd_test = np.sqrt(np.sum((decoded_test[0] - y_test[0])**2) / np.sum(y_test[0]**2))\n",
    "print(l2_error_Cd_test)"
   ]
  },
  {
   "cell_type": "code",
   "execution_count": 52,
   "id": "d7287bab",
   "metadata": {},
   "outputs": [
    {
     "name": "stdout",
     "output_type": "stream",
     "text": [
      "0.2732663614115825\n"
     ]
    }
   ],
   "source": [
    "l2_error_Cl_test = np.sqrt(np.sum((decoded_test[1] - y_test[1])**2) / np.sum(y_test[1]**2))\n",
    "print(l2_error_Cl_test)"
   ]
  },
  {
   "cell_type": "code",
   "execution_count": 53,
   "id": "e422de2d",
   "metadata": {},
   "outputs": [
    {
     "data": {
      "text/plain": [
       "'D:\\\\VAWT_data\\\\flap_steady\\\\flap_steady\\\\result\\\\MLP'"
      ]
     },
     "execution_count": 53,
     "metadata": {},
     "output_type": "execute_result"
    }
   ],
   "source": [
    "os.getcwd()"
   ]
  },
  {
   "cell_type": "code",
   "execution_count": 54,
   "id": "d9785cd7",
   "metadata": {
    "scrolled": true
   },
   "outputs": [],
   "source": [
    "l2_error_train_list = []\n",
    "for i in range(0, len(x_train)):\n",
    "    l2_error_train_data = np.sqrt(np.sum((decoded_train[i] - y_train[i])**2) / np.sum(y_train[i]**2))\n",
    "    l2_error_train_list.append(l2_error_train_data)"
   ]
  },
  {
   "cell_type": "code",
   "execution_count": 55,
   "id": "72b6a696",
   "metadata": {
    "scrolled": true
   },
   "outputs": [],
   "source": [
    "l2_error_test_list = []\n",
    "for i in range(0, len(x_test)):\n",
    "    l2_error_test_data = np.sqrt(np.sum((decoded_test[i] - y_test[i])**2) / np.sum(y_test[i]**2))\n",
    "    l2_error_test_list.append(l2_error_test_data)"
   ]
  },
  {
   "cell_type": "code",
   "execution_count": 56,
   "id": "ffb991a3",
   "metadata": {},
   "outputs": [],
   "source": [
    "l2_error_train_Cd_list = []\n",
    "for i in range(0, len(x_train)):\n",
    "    l2_error_train_Cd_data = np.sqrt(np.sum((decoded_train[i][0] - y_train[i][0])**2) / np.sum(y_train[i][0]**2))\n",
    "    l2_error_train_Cd_list.append(l2_error_train_Cd_data)"
   ]
  },
  {
   "cell_type": "code",
   "execution_count": 57,
   "id": "a673e7c1",
   "metadata": {},
   "outputs": [],
   "source": [
    "l2_error_train_Cl_list = []\n",
    "for i in range(0, len(x_train)):\n",
    "    l2_error_train_Cl_data = np.sqrt(np.sum((decoded_train[i][1] - y_train[i][1])**2) / np.sum(y_train[i][1]**2))\n",
    "    l2_error_train_Cl_list.append(l2_error_train_Cl_data)"
   ]
  },
  {
   "cell_type": "code",
   "execution_count": 58,
   "id": "89a4ef68",
   "metadata": {},
   "outputs": [],
   "source": [
    "l2_error_test_Cd_list = []\n",
    "for i in range(0, len(x_test)):\n",
    "    l2_error_test_Cd_data = np.sqrt(np.sum((decoded_test[i][0] - y_test[i][0])**2) / np.sum(y_test[i][0]**2))\n",
    "    l2_error_test_Cd_list.append(l2_error_test_Cd_data)"
   ]
  },
  {
   "cell_type": "code",
   "execution_count": 59,
   "id": "1d7ebe0d",
   "metadata": {},
   "outputs": [],
   "source": [
    "l2_error_test_Cl_list = []\n",
    "for i in range(0, len(x_test)):\n",
    "    l2_error_test_Cl_data = np.sqrt(np.sum((decoded_test[i][1] - y_test[i][1])**2) / np.sum(y_test[i][1]**2))\n",
    "    l2_error_test_Cl_list.append(l2_error_test_Cl_data)"
   ]
  },
  {
   "cell_type": "code",
   "execution_count": 60,
   "id": "cd795141",
   "metadata": {},
   "outputs": [
    {
     "data": {
      "image/png": "[encoded data removed]",
      "text/plain": [
       "<Figure size 432x288 with 1 Axes>"
      ]
     },
     "metadata": {
      "needs_background": "light"
     },
     "output_type": "display_data"
    }
   ],
   "source": [
    "plt.plot(np.linspace(1,x_train.shape[0],x_train.shape[0]),\n",
    "         l2_error_train*np.ones(x_train.shape[0],), 'k', lw=2.5)\n",
    "plt.scatter(np.linspace(1, x_train.shape[0], x_train.shape[0]), l2_error_train_list, c='b')\n",
    "plt.xlabel('Index', fontsize=15)\n",
    "plt.ylabel('$L_2$ error norm', fontsize=15)\n",
    "plt.yscale('log')\n",
    "plt.title('$L_2$ error norm distribution - MLP, training\\nTest {}'.format(test_rate), fontsize=15)\n",
    "plt.grid()\n",
    "saveName = \"trainingErrorDistribution.jpg\"\n",
    "plt.savefig(saveName, dpi=300, bbox_inches='tight', pad_inches=0.3)\n",
    "plt.show()"
   ]
  },
  {
   "cell_type": "code",
   "execution_count": 61,
   "id": "342bbd53",
   "metadata": {},
   "outputs": [
    {
     "data": {
      "image/png": "[encoded data removed]",
      "text/plain": [
       "<Figure size 432x288 with 1 Axes>"
      ]
     },
     "metadata": {
      "needs_background": "light"
     },
     "output_type": "display_data"
    }
   ],
   "source": [
    "plt.plot(np.linspace(1,x_test.shape[0],x_test.shape[0]),\n",
    "         l2_error_test*np.ones(x_test.shape[0],), 'k', lw=2.5)\n",
    "plt.scatter(np.linspace(1, x_test.shape[0], x_test.shape[0]), l2_error_test_list, c='b')\n",
    "plt.xlabel('Index', fontsize=15)\n",
    "plt.ylabel('$L_2$ error norm', fontsize=15)\n",
    "plt.yscale('log')\n",
    "plt.title('$L_2$ error norm distribution - MLP\\nTest {}'.format(test_rate), fontsize=15)\n",
    "plt.grid()\n",
    "saveName = \"testErrorDistribution.jpg\"\n",
    "plt.savefig(saveName, dpi=300, bbox_inches='tight', pad_inches=0.3)\n",
    "plt.show()"
   ]
  },
  {
   "cell_type": "code",
   "execution_count": 62,
   "id": "1f7c8edf",
   "metadata": {},
   "outputs": [
    {
     "data": {
      "image/png": "[encoded data removed]",
      "text/plain": [
       "<Figure size 432x288 with 1 Axes>"
      ]
     },
     "metadata": {
      "needs_background": "light"
     },
     "output_type": "display_data"
    }
   ],
   "source": [
    "plt.plot(np.linspace(1,x_train.shape[0],x_train.shape[0]),\n",
    "         l2_error_Cd_train*np.ones(x_train.shape[0],), 'k', lw=2.5)\n",
    "plt.scatter(np.linspace(1, x_train.shape[0], x_train.shape[0]), l2_error_train_Cd_list, c='b')\n",
    "plt.xlabel('Index', fontsize=15)\n",
    "plt.ylabel('$L_2$ error norm', fontsize=15)\n",
    "plt.yscale('log')\n",
    "plt.title('$L_2$ error norm distribution - MLP, training\\n$C_d$ Test {}'.format(test_rate), fontsize=15)\n",
    "plt.grid()\n",
    "saveName = \"CdtrainingErrorDistribution.jpg\"\n",
    "plt.savefig(saveName, dpi=300, bbox_inches='tight', pad_inches=0.3)\n",
    "plt.show()"
   ]
  },
  {
   "cell_type": "code",
   "execution_count": 63,
   "id": "43b71e48",
   "metadata": {},
   "outputs": [
    {
     "data": {
      "image/png": "[encoded data removed]",
      "text/plain": [
       "<Figure size 432x288 with 1 Axes>"
      ]
     },
     "metadata": {
      "needs_background": "light"
     },
     "output_type": "display_data"
    }
   ],
   "source": [
    "plt.plot(np.linspace(1,x_train.shape[0],x_train.shape[0]),\n",
    "         l2_error_Cl_train*np.ones(x_train.shape[0],), 'k', lw=2.5)\n",
    "plt.scatter(np.linspace(1, x_train.shape[0], x_train.shape[0]), l2_error_train_Cl_list, c='b')\n",
    "plt.xlabel('Index', fontsize=15)\n",
    "plt.ylabel('$L_2$ error norm', fontsize=15)\n",
    "plt.yscale('log')\n",
    "plt.title('$L_2$ error norm distribution - MLP, training\\n$C_l$ Test {}'.format(test_rate), fontsize=15)\n",
    "plt.grid()\n",
    "saveName = \"CltrainingErrorDistribution.jpg\"\n",
    "plt.savefig(saveName, dpi=300, bbox_inches='tight', pad_inches=0.3)\n",
    "plt.show()"
   ]
  },
  {
   "cell_type": "code",
   "execution_count": 64,
   "id": "998557e3",
   "metadata": {},
   "outputs": [
    {
     "data": {
      "image/png": "[encoded data removed]",
      "text/plain": [
       "<Figure size 432x288 with 1 Axes>"
      ]
     },
     "metadata": {
      "needs_background": "light"
     },
     "output_type": "display_data"
    }
   ],
   "source": [
    "plt.plot(np.linspace(1,x_test.shape[0],x_test.shape[0]),\n",
    "         l2_error_Cd_test*np.ones(x_test.shape[0],), 'k', lw=2.5)\n",
    "plt.scatter(np.linspace(1, x_test.shape[0], x_test.shape[0]), l2_error_test_Cd_list, c='b')\n",
    "plt.xlabel('Index', fontsize=15)\n",
    "plt.ylabel('$L_2$ error norm', fontsize=15)\n",
    "plt.yscale('log')\n",
    "plt.title('$L_2$ error norm distribution - MLP, test\\n$C_d$ Test {}'.format(test_rate), fontsize=15)\n",
    "plt.grid()\n",
    "saveName = \"CdtestErrorDistribution.jpg\"\n",
    "plt.savefig(saveName, dpi=300, bbox_inches='tight', pad_inches=0.3)\n",
    "plt.show()"
   ]
  },
  {
   "cell_type": "code",
   "execution_count": 65,
   "id": "fe711b7c",
   "metadata": {},
   "outputs": [
    {
     "data": {
      "image/png": "[encoded data removed]",
      "text/plain": [
       "<Figure size 432x288 with 1 Axes>"
      ]
     },
     "metadata": {
      "needs_background": "light"
     },
     "output_type": "display_data"
    }
   ],
   "source": [
    "plt.plot(np.linspace(1,x_test.shape[0],x_test.shape[0]),\n",
    "         l2_error_Cl_test*np.ones(x_test.shape[0],), 'k', lw=2.5)\n",
    "plt.scatter(np.linspace(1, x_test.shape[0], x_test.shape[0]), l2_error_test_Cl_list, c='b')\n",
    "plt.xlabel('Index', fontsize=15)\n",
    "plt.ylabel('$L_2$ error norm', fontsize=15)\n",
    "plt.yscale('log')\n",
    "plt.title('$L_2$ error norm distribution - MLP, test\\n$C_l$ Test {}'.format(test_rate), fontsize=15)\n",
    "plt.grid()\n",
    "saveName = \"CltestErrorDistribution.jpg\"\n",
    "plt.savefig(saveName, dpi=300, bbox_inches='tight', pad_inches=0.3)\n",
    "plt.show()"
   ]
  },
  {
   "cell_type": "code",
   "execution_count": null,
   "id": "64115aec",
   "metadata": {},
   "outputs": [],
   "source": []
  }
 ],
 "metadata": {
  "kernelspec": {
   "display_name": "Python 3 (ipykernel)",
   "language": "python",
   "name": "python3"
  },
  "language_info": {
   "codemirror_mode": {
    "name": "ipython",
    "version": 3
   },
   "file_extension": ".py",
   "mimetype": "text/x-python",
   "name": "python",
   "nbconvert_exporter": "python",
   "pygments_lexer": "ipython3",
   "version": "3.9.13"
  }
 },
 "nbformat": 4,
 "nbformat_minor": 5
}
