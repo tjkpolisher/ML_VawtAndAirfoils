{
 "cells": [
  {
   "cell_type": "code",
   "execution_count": 1,
   "id": "5bc91fac",
   "metadata": {},
   "outputs": [],
   "source": [
    "# Validation of the steady-state simulation - Case 1: MLP\n",
    "import os\n",
    "import sys\n",
    "import numpy as np\n",
    "import pandas as pd\n",
    "import tensorflow as tf\n",
    "import matplotlib.pyplot as plt\n",
    "from sklearn.model_selection import train_test_split\n",
    "\n",
    "import datetime\n",
    "%matplotlib inline"
   ]
  },
  {
   "cell_type": "code",
   "execution_count": 2,
   "id": "d1130c26",
   "metadata": {},
   "outputs": [],
   "source": [
    "### Defining parameters and hyperparameters of the model\n",
    "\n",
    "n_units=128 # Number of units in the hidden layer of the MLP network\n",
    "input_size = 100 + 3 # Size of input for the network (100 coefficients and 3 other parameters, AoA, h, beta)\n",
    "lr = 1e-03 # Learning rate of the network\n",
    "test_rate=0.1 # Defines the ratio of training dataset and test dataset\n",
    "n_data = 16 # Number of txt files from which the aerodynamic coefficients are extracted\n",
    "batch_size = 20 # Mini-batch size"
   ]
  },
  {
   "cell_type": "code",
   "execution_count": 3,
   "id": "e6d84b05",
   "metadata": {},
   "outputs": [],
   "source": [
    "# Changing working directory\n",
    "\n",
    "main_directory = 'D:\\\\VAWT_data\\\\flap_steady\\\\flap_steady'\n",
    "os.chdir(main_directory)"
   ]
  },
  {
   "cell_type": "code",
   "execution_count": 4,
   "id": "3eb294db",
   "metadata": {},
   "outputs": [],
   "source": [
    "## Basic parameters\n",
    "\n",
    "c = 1 # Chord length\n",
    "h = np.array([0.01, 0.02, 0.03]) * c # Height of the Gurney flaps\n",
    "t = 0.02 * h # Thickness of the Gurney flaps\n",
    "alpha = np.linspace(0, 16, 9).reshape((9,1)) # Angles of attack\n",
    "beta = np.linspace(30, 90, 5).reshape((5,1))"
   ]
  },
  {
   "cell_type": "code",
   "execution_count": 5,
   "id": "18aaa915",
   "metadata": {},
   "outputs": [],
   "source": [
    "h = h.reshape((-1,1))\n",
    "t = t.reshape((-1,1))"
   ]
  },
  {
   "cell_type": "code",
   "execution_count": 6,
   "id": "d9745480",
   "metadata": {},
   "outputs": [],
   "source": [
    "n_alpha = alpha.shape[0] # Number of the angles of attack\n",
    "n_beta = beta.shape[0] # Number of the Gurney flap inclination\n",
    "n_h = h.shape[0] # Number of the height of the Gurney flaps\n",
    "n_cases = n_data * n_alpha # Total number of cases(Number of geometries * Number of angles of attack)"
   ]
  },
  {
   "cell_type": "code",
   "execution_count": 7,
   "id": "62d7f718",
   "metadata": {},
   "outputs": [],
   "source": [
    "## Creating Input dataset\n",
    "# Defining the angles of attack\n",
    "\n",
    "aa = np.zeros((n_cases,1))\n",
    "for i in range(0, n_data):\n",
    "    aa[n_alpha*i:n_alpha*(i+1),:] = alpha[:,:]"
   ]
  },
  {
   "cell_type": "code",
   "execution_count": 8,
   "id": "c5014fe8",
   "metadata": {},
   "outputs": [],
   "source": [
    "aa = aa / np.max(alpha)"
   ]
  },
  {
   "cell_type": "code",
   "execution_count": 9,
   "id": "2aa96208",
   "metadata": {},
   "outputs": [
    {
     "data": {
      "text/plain": [
       "(144, 1)"
      ]
     },
     "execution_count": 9,
     "metadata": {},
     "output_type": "execute_result"
    }
   ],
   "source": [
    "aa.shape"
   ]
  },
  {
   "cell_type": "code",
   "execution_count": 10,
   "id": "937cc8a8",
   "metadata": {},
   "outputs": [
    {
     "name": "stdout",
     "output_type": "stream",
     "text": [
      "(144, 1)\n"
     ]
    }
   ],
   "source": [
    "# Defining beta, the Gurney flap inclination\n",
    "# In case of mere NACA0018, the bb in those indexes are considered as zero.\n",
    "beta_0 = np.zeros((n_alpha,1)) # Values for sheer NACA0018\n",
    "b_ = np.ones((n_alpha,1)) # Template for the inclination for a single h and single beta\n",
    "bb_imp = np.zeros((n_alpha*n_beta,1))\n",
    "\n",
    "for j in range(n_beta):\n",
    "    b_imp = b_ * beta[j]\n",
    "    bb_imp[n_alpha*j:n_alpha*(j+1),:] = b_imp[:,:]\n",
    "    \n",
    "bb_imp = bb_imp.reshape((-1,1))\n",
    "\n",
    "bb = np.vstack((beta_0, bb_imp, bb_imp, bb_imp))\n",
    "bb = bb / np.max(beta)\n",
    "    \n",
    "print(bb.shape)"
   ]
  },
  {
   "cell_type": "code",
   "execution_count": 11,
   "id": "6302058e",
   "metadata": {},
   "outputs": [],
   "source": [
    "# Defining the Gurney flap height\n",
    "# In case of mere NACA0018, the hh in those indexes are considered as zero.\n",
    "\n",
    "hh = np.concatenate((np.zeros(n_alpha), h[0]*np.ones(n_beta*n_alpha), h[1]*np.ones(n_beta*n_alpha), h[2]*np.ones(n_beta*n_alpha)))\n",
    "hh = hh.reshape((-1,1))"
   ]
  },
  {
   "cell_type": "code",
   "execution_count": 12,
   "id": "174336d4",
   "metadata": {},
   "outputs": [],
   "source": [
    "hh = hh / np.max(h)"
   ]
  },
  {
   "cell_type": "code",
   "execution_count": 13,
   "id": "6a5737c2",
   "metadata": {},
   "outputs": [],
   "source": [
    "# Importing the coordinates of NACA0018 (airfoil15)\n",
    "origin_coord = \"D:\\\\AirfoilClCdCoordinates_out\\\\AirfoilClCdCoordinates_out\\\\airfoil15\"\n",
    "\n",
    "csv_file_name = origin_coord + '\\\\airfoilOut15.txt'\n",
    "data = pd.read_csv(csv_file_name, header=None)"
   ]
  },
  {
   "cell_type": "code",
   "execution_count": 14,
   "id": "41daf0e7",
   "metadata": {},
   "outputs": [],
   "source": [
    "baseline_coord = data.iloc[:,:].values"
   ]
  },
  {
   "cell_type": "code",
   "execution_count": 15,
   "id": "1cd4c984",
   "metadata": {},
   "outputs": [],
   "source": [
    "standard_coord = baseline_coord.reshape((1, -1))"
   ]
  },
  {
   "cell_type": "code",
   "execution_count": 16,
   "id": "6ba48669",
   "metadata": {},
   "outputs": [
    {
     "name": "stdout",
     "output_type": "stream",
     "text": [
      "(144, 100)\n"
     ]
    }
   ],
   "source": [
    "airfoil_coord = np.repeat(standard_coord, n_cases, axis=0)\n",
    "print(airfoil_coord.shape)"
   ]
  },
  {
   "cell_type": "code",
   "execution_count": 17,
   "id": "492ab857",
   "metadata": {},
   "outputs": [],
   "source": [
    "# The rows mean the number of points at the Gurney flap\n",
    "# and the columns mean the number of the cases\n",
    "flap_left = np.zeros((15,5))\n",
    "flap_right = np.zeros((15,5))\n",
    "\n",
    "for i in range(n_h):\n",
    "    # Defining coordinates of the flaps with respect to beta=90 degree.\n",
    "    yLeft = np.linspace(-h[i]/5, -h[i], 5).reshape((-1,1))\n",
    "    yRight = np.linspace(-h[i]/5, -h[i], 5).reshape((-1,1))\n",
    "    xLeft = 0.5*np.ones((5,1)) - 0.02*h[i]\n",
    "    xRight = 0.5*np.ones((5,1))\n",
    "    \n",
    "    for j in range(n_beta):\n",
    "        betaValue = beta[j]\n",
    "        \n",
    "        # Rotating transformation\n",
    "        rotateTransf = np.array([[np.cos(90-betaValue), -np.sin(90-betaValue)],\n",
    "                                 [np.sin(90-betaValue), np.cos(90-betaValue)]])\n",
    "        rotateTransf = rotateTransf.reshape((2,2))\n",
    "        \n",
    "        LeftImp = np.hstack((xLeft-0.5, yLeft))\n",
    "        RightImp = np.hstack((xRight-0.5, yRight))\n",
    "        \n",
    "        rotatedFlapLeft = rotateTransf @ LeftImp.T # shape: 2*5 (x-coordinates on first row, y-coordinates on second row)\n",
    "        rotatedFlapRight = rotateTransf @ RightImp.T\n",
    "        \n",
    "        # All we need is the y-coordinates of the flaps\n",
    "        flap_left[5*i+j,:] = rotatedFlapLeft[1,:]\n",
    "        flap_right[5*i+j,:] = rotatedFlapRight[1,:]"
   ]
  },
  {
   "cell_type": "code",
   "execution_count": 18,
   "id": "790fb777",
   "metadata": {},
   "outputs": [
    {
     "name": "stdout",
     "output_type": "stream",
     "text": [
      "(15, 10)\n"
     ]
    }
   ],
   "source": [
    "# Combining y-coordinates from the left and the right side of the flaps\n",
    "flap_coords = np.hstack((flap_left, np.flip(flap_right, axis=1)))\n",
    "print(flap_coords.shape)"
   ]
  },
  {
   "cell_type": "code",
   "execution_count": 19,
   "id": "66f6855a",
   "metadata": {},
   "outputs": [
    {
     "name": "stdout",
     "output_type": "stream",
     "text": [
      "(144, 10)\n"
     ]
    }
   ],
   "source": [
    "# Placing the flap_coords into total coordinate variable\n",
    "# Total coordinate = Airfoil coordinates + flap coordinates\n",
    "flap_coords2 = np.zeros((n_cases, 10))\n",
    "for i in range(n_alpha, n_cases):\n",
    "    flap_coords2[i,:] = flap_coords[i%15,:]\n",
    "    \n",
    "print(flap_coords2.shape)"
   ]
  },
  {
   "cell_type": "code",
   "execution_count": 20,
   "id": "8323888f",
   "metadata": {},
   "outputs": [
    {
     "name": "stdout",
     "output_type": "stream",
     "text": [
      "(144, 110)\n"
     ]
    }
   ],
   "source": [
    "total_coords = np.hstack((airfoil_coord, flap_coords2))\n",
    "print(total_coords.shape)"
   ]
  },
  {
   "cell_type": "code",
   "execution_count": 21,
   "id": "9d72e8a1",
   "metadata": {},
   "outputs": [],
   "source": [
    "x = np.hstack((aa, hh, bb, total_coords))"
   ]
  },
  {
   "cell_type": "code",
   "execution_count": 22,
   "id": "5b41130d",
   "metadata": {},
   "outputs": [],
   "source": [
    "## Creating output dataset - Cl and Cd\n",
    "files_orig = os.listdir(main_directory)\n",
    "files_target = [file for file in files_orig if file.endswith('.txt')]"
   ]
  },
  {
   "cell_type": "code",
   "execution_count": 23,
   "id": "f4c62765",
   "metadata": {},
   "outputs": [],
   "source": [
    "target_df = pd.DataFrame()\n",
    "for file in files_target:\n",
    "    data = pd.read_table(file, header=None)\n",
    "    target_df = pd.concat([target_df, data], axis=0)"
   ]
  },
  {
   "cell_type": "code",
   "execution_count": 24,
   "id": "ac849035",
   "metadata": {},
   "outputs": [],
   "source": [
    "target_c3 = target_df.iloc[:,3].values # Cd values\n",
    "target_c4 = target_df.iloc[:,4].values# Cl values"
   ]
  },
  {
   "cell_type": "code",
   "execution_count": 25,
   "id": "93bba2d8",
   "metadata": {},
   "outputs": [],
   "source": [
    "y = np.hstack((target_c3.reshape((-1,1)), target_c4.reshape((-1,1))))"
   ]
  },
  {
   "cell_type": "code",
   "execution_count": 26,
   "id": "7444ef68",
   "metadata": {},
   "outputs": [
    {
     "data": {
      "text/plain": [
       "(144, 2)"
      ]
     },
     "execution_count": 26,
     "metadata": {},
     "output_type": "execute_result"
    }
   ],
   "source": [
    "y.shape"
   ]
  },
  {
   "cell_type": "code",
   "execution_count": 27,
   "id": "ec562b02",
   "metadata": {},
   "outputs": [],
   "source": [
    "x_train, x_test, y_train, y_test = train_test_split(x, y, test_size=test_rate, random_state=1)"
   ]
  },
  {
   "cell_type": "code",
   "execution_count": 28,
   "id": "1bbc2f4f",
   "metadata": {},
   "outputs": [
    {
     "data": {
      "text/plain": [
       "(129, 113)"
      ]
     },
     "execution_count": 28,
     "metadata": {},
     "output_type": "execute_result"
    }
   ],
   "source": [
    "x_train.shape"
   ]
  },
  {
   "cell_type": "code",
   "execution_count": 29,
   "id": "e00d21f9",
   "metadata": {},
   "outputs": [
    {
     "data": {
      "text/plain": [
       "(129, 2)"
      ]
     },
     "execution_count": 29,
     "metadata": {},
     "output_type": "execute_result"
    }
   ],
   "source": [
    "y_train.shape"
   ]
  },
  {
   "cell_type": "code",
   "execution_count": 30,
   "id": "82d60c5e",
   "metadata": {},
   "outputs": [],
   "source": [
    "tf.keras.backend.set_image_data_format('channels_last')"
   ]
  },
  {
   "cell_type": "code",
   "execution_count": 31,
   "id": "37290049",
   "metadata": {},
   "outputs": [],
   "source": [
    "input_data = tf.keras.Input(shape=(3+total_coords.shape[1]))\n",
    "\n",
    "x_fc1 = tf.keras.layers.Dense(units=n_units, activation='relu', name='fc1')(input_data)\n",
    "x_fc2 = tf.keras.layers.Dense(units=n_units, activation='relu', name='fc2')(x_fc1)\n",
    "x_fc3 = tf.keras.layers.Dense(units=n_units, activation='relu', name='fc3')(x_fc2)\n",
    "x_fc4 = tf.keras.layers.Dense(units=n_units, activation='relu', name='fc4')(x_fc3)\n",
    "x_fc5 = tf.keras.layers.Dense(units=16, activation='relu', name='fc5')(x_fc4)\n",
    "\n",
    "output_data = tf.keras.layers.Dense(units=2, activation='linear', name='outputLayer')(x_fc5)\n",
    "# MLP(FC layer)-based\n",
    "model = tf.keras.Model(input_data, output_data)"
   ]
  },
  {
   "cell_type": "code",
   "execution_count": 32,
   "id": "e3c482f9",
   "metadata": {},
   "outputs": [
    {
     "name": "stdout",
     "output_type": "stream",
     "text": [
      "Model: \"model\"\n",
      "_________________________________________________________________\n",
      " Layer (type)                Output Shape              Param #   \n",
      "=================================================================\n",
      " input_1 (InputLayer)        [(None, 113)]             0         \n",
      "                                                                 \n",
      " fc1 (Dense)                 (None, 128)               14592     \n",
      "                                                                 \n",
      " fc2 (Dense)                 (None, 128)               16512     \n",
      "                                                                 \n",
      " fc3 (Dense)                 (None, 128)               16512     \n",
      "                                                                 \n",
      " fc4 (Dense)                 (None, 128)               16512     \n",
      "                                                                 \n",
      " fc5 (Dense)                 (None, 16)                2064      \n",
      "                                                                 \n",
      " outputLayer (Dense)         (None, 2)                 34        \n",
      "                                                                 \n",
      "=================================================================\n",
      "Total params: 66,226\n",
      "Trainable params: 66,226\n",
      "Non-trainable params: 0\n",
      "_________________________________________________________________\n"
     ]
    }
   ],
   "source": [
    "model.summary()"
   ]
  },
  {
   "cell_type": "code",
   "execution_count": 33,
   "id": "30f3abdd",
   "metadata": {},
   "outputs": [],
   "source": [
    "model.compile(optimizer=tf.keras.optimizers.Adam(learning_rate=lr),\n",
    "              loss = tf.keras.losses.MeanSquaredError(),\n",
    "              metrics=[tf.keras.metrics.RootMeanSquaredError(name=\"rmse\")])"
   ]
  },
  {
   "cell_type": "code",
   "execution_count": 34,
   "id": "cf477620",
   "metadata": {},
   "outputs": [],
   "source": [
    "es = tf.keras.callbacks.EarlyStopping(monitor='loss', patience=100, min_delta=6e-7,\n",
    "                                      restore_best_weights=True, verbose=1)\n",
    "rp = tf.keras.callbacks.ReduceLROnPlateau(monitor='loss', patience=70, factor=0.5,\n",
    "                                          min_delta = 1e-07, min_lr=1e-06,\n",
    "                                          verbose=1)"
   ]
  },
  {
   "cell_type": "code",
   "execution_count": 35,
   "id": "e4cc904c",
   "metadata": {},
   "outputs": [],
   "source": [
    "STEP_SIZE_TRAIN = len(x_train)//batch_size\n",
    "STEP_SIZE_TEST = len(x_test)//batch_size"
   ]
  },
  {
   "cell_type": "code",
   "execution_count": 36,
   "id": "17d6b26e",
   "metadata": {
    "scrolled": true
   },
   "outputs": [
    {
     "name": "stdout",
     "output_type": "stream",
     "text": [
      "Epoch 1/5000\n",
      "6/6 [==============================] - 1s 4ms/step - loss: 0.5295 - rmse: 0.7276 - lr: 0.0010\n",
      "Epoch 2/5000\n",
      "6/6 [==============================] - 0s 4ms/step - loss: 0.2304 - rmse: 0.4800 - lr: 0.0010\n",
      "Epoch 3/5000\n",
      "6/6 [==============================] - 0s 4ms/step - loss: 0.1011 - rmse: 0.3180 - lr: 0.0010\n",
      "Epoch 4/5000\n",
      "6/6 [==============================] - 0s 4ms/step - loss: 0.0698 - rmse: 0.2643 - lr: 0.0010\n",
      "Epoch 5/5000\n",
      "6/6 [==============================] - 0s 4ms/step - loss: 0.0411 - rmse: 0.2027 - lr: 0.0010\n",
      "Epoch 6/5000\n",
      "6/6 [==============================] - 0s 4ms/step - loss: 0.0243 - rmse: 0.1558 - lr: 0.0010\n",
      "Epoch 7/5000\n",
      "6/6 [==============================] - 0s 4ms/step - loss: 0.0233 - rmse: 0.1525 - lr: 0.0010\n",
      "Epoch 8/5000\n",
      "6/6 [==============================] - 0s 4ms/step - loss: 0.0173 - rmse: 0.1315 - lr: 0.0010\n",
      "Epoch 9/5000\n",
      "6/6 [==============================] - 0s 4ms/step - loss: 0.0184 - rmse: 0.1358 - lr: 0.0010\n",
      "Epoch 10/5000\n",
      "6/6 [==============================] - 0s 4ms/step - loss: 0.0156 - rmse: 0.1248 - lr: 0.0010\n",
      "Epoch 11/5000\n",
      "6/6 [==============================] - 0s 4ms/step - loss: 0.0126 - rmse: 0.1121 - lr: 0.0010\n",
      "Epoch 12/5000\n",
      "6/6 [==============================] - 0s 3ms/step - loss: 0.0159 - rmse: 0.1260 - lr: 0.0010\n",
      "Epoch 13/5000\n",
      "6/6 [==============================] - 0s 4ms/step - loss: 0.0175 - rmse: 0.1321 - lr: 0.0010\n",
      "Epoch 14/5000\n",
      "6/6 [==============================] - 0s 4ms/step - loss: 0.0143 - rmse: 0.1197 - lr: 0.0010\n",
      "Epoch 15/5000\n",
      "6/6 [==============================] - 0s 3ms/step - loss: 0.0128 - rmse: 0.1132 - lr: 0.0010\n",
      "Epoch 16/5000\n",
      "6/6 [==============================] - 0s 4ms/step - loss: 0.0138 - rmse: 0.1175 - lr: 0.0010\n",
      "Epoch 17/5000\n",
      "6/6 [==============================] - 0s 3ms/step - loss: 0.0134 - rmse: 0.1158 - lr: 0.0010\n",
      "Epoch 18/5000\n",
      "6/6 [==============================] - 0s 4ms/step - loss: 0.0105 - rmse: 0.1024 - lr: 0.0010\n",
      "Epoch 19/5000\n",
      "6/6 [==============================] - 0s 4ms/step - loss: 0.0152 - rmse: 0.1234 - lr: 0.0010\n",
      "Epoch 20/5000\n",
      "6/6 [==============================] - 0s 4ms/step - loss: 0.0106 - rmse: 0.1031 - lr: 0.0010\n",
      "Epoch 21/5000\n",
      "6/6 [==============================] - 0s 3ms/step - loss: 0.0156 - rmse: 0.1247 - lr: 0.0010\n",
      "Epoch 22/5000\n",
      "6/6 [==============================] - 0s 3ms/step - loss: 0.0150 - rmse: 0.1226 - lr: 0.0010\n",
      "Epoch 23/5000\n",
      "6/6 [==============================] - 0s 4ms/step - loss: 0.0116 - rmse: 0.1078 - lr: 0.0010\n",
      "Epoch 24/5000\n",
      "6/6 [==============================] - 0s 3ms/step - loss: 0.0156 - rmse: 0.1250 - lr: 0.0010\n",
      "Epoch 25/5000\n",
      "6/6 [==============================] - 0s 4ms/step - loss: 0.0110 - rmse: 0.1051 - lr: 0.0010\n",
      "Epoch 26/5000\n",
      "6/6 [==============================] - 0s 4ms/step - loss: 0.0105 - rmse: 0.1026 - lr: 0.0010\n",
      "Epoch 27/5000\n",
      "6/6 [==============================] - 0s 4ms/step - loss: 0.0113 - rmse: 0.1063 - lr: 0.0010\n",
      "Epoch 28/5000\n",
      "6/6 [==============================] - 0s 4ms/step - loss: 0.0085 - rmse: 0.0920 - lr: 0.0010\n",
      "Epoch 29/5000\n",
      "6/6 [==============================] - 0s 3ms/step - loss: 0.0115 - rmse: 0.1070 - lr: 0.0010\n",
      "Epoch 30/5000\n",
      "6/6 [==============================] - 0s 4ms/step - loss: 0.0093 - rmse: 0.0962 - lr: 0.0010\n",
      "Epoch 31/5000\n",
      "6/6 [==============================] - 0s 3ms/step - loss: 0.0124 - rmse: 0.1113 - lr: 0.0010\n",
      "Epoch 32/5000\n",
      "6/6 [==============================] - 0s 3ms/step - loss: 0.0088 - rmse: 0.0941 - lr: 0.0010\n",
      "Epoch 33/5000\n",
      "6/6 [==============================] - 0s 3ms/step - loss: 0.0140 - rmse: 0.1185 - lr: 0.0010\n",
      "Epoch 34/5000\n",
      "6/6 [==============================] - 0s 3ms/step - loss: 0.0089 - rmse: 0.0941 - lr: 0.0010\n",
      "Epoch 35/5000\n",
      "6/6 [==============================] - 0s 3ms/step - loss: 0.0106 - rmse: 0.1031 - lr: 0.0010\n",
      "Epoch 36/5000\n",
      "6/6 [==============================] - 0s 4ms/step - loss: 0.0119 - rmse: 0.1091 - lr: 0.0010\n",
      "Epoch 37/5000\n",
      "6/6 [==============================] - 0s 4ms/step - loss: 0.0082 - rmse: 0.0906 - lr: 0.0010\n",
      "Epoch 38/5000\n",
      "6/6 [==============================] - 0s 4ms/step - loss: 0.0139 - rmse: 0.1181 - lr: 0.0010\n",
      "Epoch 39/5000\n",
      "6/6 [==============================] - 0s 4ms/step - loss: 0.0122 - rmse: 0.1103 - lr: 0.0010\n",
      "Epoch 40/5000\n",
      "6/6 [==============================] - 0s 4ms/step - loss: 0.0133 - rmse: 0.1154 - lr: 0.0010\n",
      "Epoch 41/5000\n",
      "6/6 [==============================] - 0s 4ms/step - loss: 0.0135 - rmse: 0.1161 - lr: 0.0010\n",
      "Epoch 42/5000\n",
      "6/6 [==============================] - 0s 4ms/step - loss: 0.0118 - rmse: 0.1088 - lr: 0.0010\n",
      "Epoch 43/5000\n",
      "6/6 [==============================] - 0s 4ms/step - loss: 0.0115 - rmse: 0.1073 - lr: 0.0010\n",
      "Epoch 44/5000\n",
      "6/6 [==============================] - 0s 3ms/step - loss: 0.0092 - rmse: 0.0959 - lr: 0.0010\n",
      "Epoch 45/5000\n",
      "6/6 [==============================] - 0s 4ms/step - loss: 0.0091 - rmse: 0.0953 - lr: 0.0010\n",
      "Epoch 46/5000\n",
      "6/6 [==============================] - 0s 4ms/step - loss: 0.0057 - rmse: 0.0753 - lr: 0.0010\n",
      "Epoch 47/5000\n",
      "6/6 [==============================] - 0s 4ms/step - loss: 0.0103 - rmse: 0.1016 - lr: 0.0010\n",
      "Epoch 48/5000\n",
      "6/6 [==============================] - 0s 4ms/step - loss: 0.0098 - rmse: 0.0990 - lr: 0.0010\n",
      "Epoch 49/5000\n",
      "6/6 [==============================] - 0s 4ms/step - loss: 0.0055 - rmse: 0.0739 - lr: 0.0010\n",
      "Epoch 50/5000\n",
      "6/6 [==============================] - 0s 3ms/step - loss: 0.0071 - rmse: 0.0845 - lr: 0.0010\n",
      "Epoch 51/5000\n",
      "6/6 [==============================] - 0s 3ms/step - loss: 0.0113 - rmse: 0.1061 - lr: 0.0010\n",
      "Epoch 52/5000\n",
      "6/6 [==============================] - 0s 4ms/step - loss: 0.0089 - rmse: 0.0944 - lr: 0.0010\n",
      "Epoch 53/5000\n",
      "6/6 [==============================] - 0s 4ms/step - loss: 0.0057 - rmse: 0.0758 - lr: 0.0010\n",
      "Epoch 54/5000\n",
      "6/6 [==============================] - 0s 3ms/step - loss: 0.0106 - rmse: 0.1027 - lr: 0.0010\n",
      "Epoch 55/5000\n",
      "6/6 [==============================] - 0s 3ms/step - loss: 0.0070 - rmse: 0.0838 - lr: 0.0010\n",
      "Epoch 56/5000\n",
      "6/6 [==============================] - 0s 4ms/step - loss: 0.0118 - rmse: 0.1088 - lr: 0.0010\n",
      "Epoch 57/5000\n",
      "6/6 [==============================] - 0s 4ms/step - loss: 0.0082 - rmse: 0.0906 - lr: 0.0010\n",
      "Epoch 58/5000\n",
      "6/6 [==============================] - 0s 4ms/step - loss: 0.0088 - rmse: 0.0939 - lr: 0.0010\n",
      "Epoch 59/5000\n",
      "6/6 [==============================] - 0s 3ms/step - loss: 0.0078 - rmse: 0.0882 - lr: 0.0010\n",
      "Epoch 60/5000\n",
      "6/6 [==============================] - 0s 3ms/step - loss: 0.0071 - rmse: 0.0843 - lr: 0.0010\n",
      "Epoch 61/5000\n",
      "6/6 [==============================] - 0s 4ms/step - loss: 0.0066 - rmse: 0.0812 - lr: 0.0010\n",
      "Epoch 62/5000\n",
      "6/6 [==============================] - 0s 3ms/step - loss: 0.0077 - rmse: 0.0879 - lr: 0.0010\n",
      "Epoch 63/5000\n",
      "6/6 [==============================] - 0s 3ms/step - loss: 0.0067 - rmse: 0.0817 - lr: 0.0010\n",
      "Epoch 64/5000\n",
      "6/6 [==============================] - 0s 4ms/step - loss: 0.0066 - rmse: 0.0810 - lr: 0.0010\n",
      "Epoch 65/5000\n",
      "6/6 [==============================] - 0s 3ms/step - loss: 0.0141 - rmse: 0.1188 - lr: 0.0010\n",
      "Epoch 66/5000\n",
      "6/6 [==============================] - 0s 3ms/step - loss: 0.0100 - rmse: 0.0998 - lr: 0.0010\n",
      "Epoch 67/5000\n",
      "6/6 [==============================] - 0s 3ms/step - loss: 0.0097 - rmse: 0.0985 - lr: 0.0010\n",
      "Epoch 68/5000\n",
      "6/6 [==============================] - 0s 3ms/step - loss: 0.0090 - rmse: 0.0949 - lr: 0.0010\n",
      "Epoch 69/5000\n",
      "6/6 [==============================] - 0s 4ms/step - loss: 0.0070 - rmse: 0.0839 - lr: 0.0010\n",
      "Epoch 70/5000\n",
      "6/6 [==============================] - 0s 3ms/step - loss: 0.0067 - rmse: 0.0816 - lr: 0.0010\n",
      "Epoch 71/5000\n",
      "6/6 [==============================] - 0s 4ms/step - loss: 0.0072 - rmse: 0.0847 - lr: 0.0010\n",
      "Epoch 72/5000\n",
      "6/6 [==============================] - 0s 3ms/step - loss: 0.0060 - rmse: 0.0774 - lr: 0.0010\n",
      "Epoch 73/5000\n",
      "6/6 [==============================] - 0s 4ms/step - loss: 0.0054 - rmse: 0.0738 - lr: 0.0010\n",
      "Epoch 74/5000\n",
      "6/6 [==============================] - 0s 4ms/step - loss: 0.0044 - rmse: 0.0662 - lr: 0.0010\n",
      "Epoch 75/5000\n",
      "6/6 [==============================] - 0s 3ms/step - loss: 0.0046 - rmse: 0.0679 - lr: 0.0010\n",
      "Epoch 76/5000\n",
      "6/6 [==============================] - 0s 4ms/step - loss: 0.0032 - rmse: 0.0565 - lr: 0.0010\n"
     ]
    },
    {
     "name": "stdout",
     "output_type": "stream",
     "text": [
      "Epoch 77/5000\n",
      "6/6 [==============================] - 0s 3ms/step - loss: 0.0046 - rmse: 0.0675 - lr: 0.0010\n",
      "Epoch 78/5000\n",
      "6/6 [==============================] - 0s 3ms/step - loss: 0.0041 - rmse: 0.0640 - lr: 0.0010\n",
      "Epoch 79/5000\n",
      "6/6 [==============================] - 0s 4ms/step - loss: 0.0027 - rmse: 0.0520 - lr: 0.0010\n",
      "Epoch 80/5000\n",
      "6/6 [==============================] - 0s 3ms/step - loss: 0.0050 - rmse: 0.0706 - lr: 0.0010\n",
      "Epoch 81/5000\n",
      "6/6 [==============================] - 0s 4ms/step - loss: 0.0043 - rmse: 0.0653 - lr: 0.0010\n",
      "Epoch 82/5000\n",
      "6/6 [==============================] - 0s 4ms/step - loss: 0.0034 - rmse: 0.0587 - lr: 0.0010\n",
      "Epoch 83/5000\n",
      "6/6 [==============================] - 0s 3ms/step - loss: 0.0031 - rmse: 0.0560 - lr: 0.0010\n",
      "Epoch 84/5000\n",
      "6/6 [==============================] - 0s 4ms/step - loss: 0.0045 - rmse: 0.0667 - lr: 0.0010\n",
      "Epoch 85/5000\n",
      "6/6 [==============================] - 0s 3ms/step - loss: 0.0047 - rmse: 0.0685 - lr: 0.0010\n",
      "Epoch 86/5000\n",
      "6/6 [==============================] - 0s 4ms/step - loss: 0.0028 - rmse: 0.0528 - lr: 0.0010\n",
      "Epoch 87/5000\n",
      "6/6 [==============================] - 0s 4ms/step - loss: 0.0024 - rmse: 0.0494 - lr: 0.0010\n",
      "Epoch 88/5000\n",
      "6/6 [==============================] - 0s 4ms/step - loss: 0.0015 - rmse: 0.0391 - lr: 0.0010\n",
      "Epoch 89/5000\n",
      "6/6 [==============================] - 0s 4ms/step - loss: 0.0027 - rmse: 0.0520 - lr: 0.0010\n",
      "Epoch 90/5000\n",
      "6/6 [==============================] - 0s 4ms/step - loss: 0.0016 - rmse: 0.0405 - lr: 0.0010\n",
      "Epoch 91/5000\n",
      "6/6 [==============================] - 0s 3ms/step - loss: 0.0029 - rmse: 0.0538 - lr: 0.0010\n",
      "Epoch 92/5000\n",
      "6/6 [==============================] - 0s 3ms/step - loss: 0.0035 - rmse: 0.0589 - lr: 0.0010\n",
      "Epoch 93/5000\n",
      "6/6 [==============================] - 0s 3ms/step - loss: 0.0023 - rmse: 0.0478 - lr: 0.0010\n",
      "Epoch 94/5000\n",
      "6/6 [==============================] - 0s 3ms/step - loss: 0.0024 - rmse: 0.0486 - lr: 0.0010\n",
      "Epoch 95/5000\n",
      "6/6 [==============================] - 0s 3ms/step - loss: 0.0027 - rmse: 0.0515 - lr: 0.0010\n",
      "Epoch 96/5000\n",
      "6/6 [==============================] - 0s 3ms/step - loss: 0.0042 - rmse: 0.0651 - lr: 0.0010\n",
      "Epoch 97/5000\n",
      "6/6 [==============================] - 0s 4ms/step - loss: 0.0033 - rmse: 0.0572 - lr: 0.0010\n",
      "Epoch 98/5000\n",
      "6/6 [==============================] - 0s 3ms/step - loss: 0.0035 - rmse: 0.0592 - lr: 0.0010\n",
      "Epoch 99/5000\n",
      "6/6 [==============================] - 0s 3ms/step - loss: 0.0030 - rmse: 0.0547 - lr: 0.0010\n",
      "Epoch 100/5000\n",
      "6/6 [==============================] - 0s 4ms/step - loss: 0.0030 - rmse: 0.0545 - lr: 0.0010\n",
      "Epoch 101/5000\n",
      "6/6 [==============================] - 0s 3ms/step - loss: 0.0016 - rmse: 0.0400 - lr: 0.0010\n",
      "Epoch 102/5000\n",
      "6/6 [==============================] - 0s 3ms/step - loss: 0.0019 - rmse: 0.0436 - lr: 0.0010\n",
      "Epoch 103/5000\n",
      "6/6 [==============================] - 0s 3ms/step - loss: 0.0018 - rmse: 0.0420 - lr: 0.0010\n",
      "Epoch 104/5000\n",
      "6/6 [==============================] - 0s 4ms/step - loss: 9.6832e-04 - rmse: 0.0311 - lr: 0.0010\n",
      "Epoch 105/5000\n",
      "6/6 [==============================] - 0s 4ms/step - loss: 8.4120e-04 - rmse: 0.0290 - lr: 0.0010\n",
      "Epoch 106/5000\n",
      "6/6 [==============================] - 0s 4ms/step - loss: 8.2576e-04 - rmse: 0.0287 - lr: 0.0010\n",
      "Epoch 107/5000\n",
      "6/6 [==============================] - 0s 4ms/step - loss: 7.1686e-04 - rmse: 0.0268 - lr: 0.0010\n",
      "Epoch 108/5000\n",
      "6/6 [==============================] - 0s 4ms/step - loss: 7.5079e-04 - rmse: 0.0274 - lr: 0.0010\n",
      "Epoch 109/5000\n",
      "6/6 [==============================] - 0s 4ms/step - loss: 6.7943e-04 - rmse: 0.0261 - lr: 0.0010\n",
      "Epoch 110/5000\n",
      "6/6 [==============================] - 0s 4ms/step - loss: 6.3602e-04 - rmse: 0.0252 - lr: 0.0010\n",
      "Epoch 111/5000\n",
      "6/6 [==============================] - 0s 4ms/step - loss: 4.5451e-04 - rmse: 0.0213 - lr: 0.0010\n",
      "Epoch 112/5000\n",
      "6/6 [==============================] - 0s 4ms/step - loss: 4.1561e-04 - rmse: 0.0204 - lr: 0.0010\n",
      "Epoch 113/5000\n",
      "6/6 [==============================] - 0s 4ms/step - loss: 3.0565e-04 - rmse: 0.0175 - lr: 0.0010\n",
      "Epoch 114/5000\n",
      "6/6 [==============================] - 0s 4ms/step - loss: 2.9898e-04 - rmse: 0.0173 - lr: 0.0010\n",
      "Epoch 115/5000\n",
      "6/6 [==============================] - 0s 3ms/step - loss: 3.5520e-04 - rmse: 0.0188 - lr: 0.0010\n",
      "Epoch 116/5000\n",
      "6/6 [==============================] - 0s 3ms/step - loss: 3.6778e-04 - rmse: 0.0192 - lr: 0.0010\n",
      "Epoch 117/5000\n",
      "6/6 [==============================] - 0s 4ms/step - loss: 3.6311e-04 - rmse: 0.0191 - lr: 0.0010\n",
      "Epoch 118/5000\n",
      "6/6 [==============================] - 0s 3ms/step - loss: 6.6131e-04 - rmse: 0.0257 - lr: 0.0010\n",
      "Epoch 119/5000\n",
      "6/6 [==============================] - 0s 3ms/step - loss: 0.0011 - rmse: 0.0337 - lr: 0.0010\n",
      "Epoch 120/5000\n",
      "6/6 [==============================] - 0s 4ms/step - loss: 0.0010 - rmse: 0.0323 - lr: 0.0010\n",
      "Epoch 121/5000\n",
      "6/6 [==============================] - 0s 3ms/step - loss: 5.2317e-04 - rmse: 0.0229 - lr: 0.0010\n",
      "Epoch 122/5000\n",
      "6/6 [==============================] - 0s 3ms/step - loss: 4.2269e-04 - rmse: 0.0206 - lr: 0.0010\n",
      "Epoch 123/5000\n",
      "6/6 [==============================] - 0s 3ms/step - loss: 5.8059e-04 - rmse: 0.0241 - lr: 0.0010\n",
      "Epoch 124/5000\n",
      "6/6 [==============================] - 0s 3ms/step - loss: 4.9207e-04 - rmse: 0.0222 - lr: 0.0010\n",
      "Epoch 125/5000\n",
      "6/6 [==============================] - 0s 3ms/step - loss: 9.0245e-04 - rmse: 0.0300 - lr: 0.0010\n",
      "Epoch 126/5000\n",
      "6/6 [==============================] - 0s 4ms/step - loss: 0.0015 - rmse: 0.0388 - lr: 0.0010\n",
      "Epoch 127/5000\n",
      "6/6 [==============================] - 0s 3ms/step - loss: 0.0016 - rmse: 0.0402 - lr: 0.0010\n",
      "Epoch 128/5000\n",
      "6/6 [==============================] - 0s 3ms/step - loss: 0.0015 - rmse: 0.0390 - lr: 0.0010\n",
      "Epoch 129/5000\n",
      "6/6 [==============================] - 0s 3ms/step - loss: 0.0015 - rmse: 0.0385 - lr: 0.0010\n",
      "Epoch 130/5000\n",
      "6/6 [==============================] - 0s 4ms/step - loss: 8.9411e-04 - rmse: 0.0299 - lr: 0.0010\n",
      "Epoch 131/5000\n",
      "6/6 [==============================] - 0s 3ms/step - loss: 0.0013 - rmse: 0.0367 - lr: 0.0010\n",
      "Epoch 132/5000\n",
      "6/6 [==============================] - 0s 4ms/step - loss: 8.5054e-04 - rmse: 0.0292 - lr: 0.0010\n",
      "Epoch 133/5000\n",
      "6/6 [==============================] - 0s 4ms/step - loss: 5.8774e-04 - rmse: 0.0242 - lr: 0.0010\n",
      "Epoch 134/5000\n",
      "6/6 [==============================] - 0s 4ms/step - loss: 2.6418e-04 - rmse: 0.0163 - lr: 0.0010\n",
      "Epoch 135/5000\n",
      "6/6 [==============================] - 0s 4ms/step - loss: 2.4368e-04 - rmse: 0.0156 - lr: 0.0010\n",
      "Epoch 136/5000\n",
      "6/6 [==============================] - 0s 4ms/step - loss: 2.3119e-04 - rmse: 0.0152 - lr: 0.0010\n",
      "Epoch 137/5000\n",
      "6/6 [==============================] - 0s 4ms/step - loss: 1.4689e-04 - rmse: 0.0121 - lr: 0.0010\n",
      "Epoch 138/5000\n",
      "6/6 [==============================] - 0s 3ms/step - loss: 3.1097e-04 - rmse: 0.0176 - lr: 0.0010\n",
      "Epoch 139/5000\n",
      "6/6 [==============================] - 0s 3ms/step - loss: 2.0724e-04 - rmse: 0.0144 - lr: 0.0010\n",
      "Epoch 140/5000\n",
      "6/6 [==============================] - 0s 3ms/step - loss: 1.9143e-04 - rmse: 0.0138 - lr: 0.0010\n",
      "Epoch 141/5000\n",
      "6/6 [==============================] - 0s 3ms/step - loss: 1.7338e-04 - rmse: 0.0132 - lr: 0.0010\n",
      "Epoch 142/5000\n",
      "6/6 [==============================] - 0s 3ms/step - loss: 2.7178e-04 - rmse: 0.0165 - lr: 0.0010\n",
      "Epoch 143/5000\n",
      "6/6 [==============================] - 0s 3ms/step - loss: 2.2283e-04 - rmse: 0.0149 - lr: 0.0010\n",
      "Epoch 144/5000\n",
      "6/6 [==============================] - 0s 3ms/step - loss: 1.5736e-04 - rmse: 0.0125 - lr: 0.0010\n",
      "Epoch 145/5000\n",
      "6/6 [==============================] - 0s 3ms/step - loss: 1.8224e-04 - rmse: 0.0135 - lr: 0.0010\n",
      "Epoch 146/5000\n",
      "6/6 [==============================] - 0s 5ms/step - loss: 1.4209e-04 - rmse: 0.0119 - lr: 0.0010\n",
      "Epoch 147/5000\n",
      "6/6 [==============================] - 0s 4ms/step - loss: 1.7132e-04 - rmse: 0.0131 - lr: 0.0010\n",
      "Epoch 148/5000\n",
      "6/6 [==============================] - 0s 4ms/step - loss: 2.1741e-04 - rmse: 0.0147 - lr: 0.0010\n",
      "Epoch 149/5000\n",
      "6/6 [==============================] - 0s 5ms/step - loss: 1.6965e-04 - rmse: 0.0130 - lr: 0.0010\n",
      "Epoch 150/5000\n",
      "6/6 [==============================] - 0s 4ms/step - loss: 2.0931e-04 - rmse: 0.0145 - lr: 0.0010\n"
     ]
    },
    {
     "name": "stdout",
     "output_type": "stream",
     "text": [
      "Epoch 151/5000\n",
      "6/6 [==============================] - 0s 4ms/step - loss: 2.7115e-04 - rmse: 0.0165 - lr: 0.0010\n",
      "Epoch 152/5000\n",
      "6/6 [==============================] - 0s 4ms/step - loss: 1.4925e-04 - rmse: 0.0122 - lr: 0.0010\n",
      "Epoch 153/5000\n",
      "6/6 [==============================] - 0s 4ms/step - loss: 1.4741e-04 - rmse: 0.0121 - lr: 0.0010\n",
      "Epoch 154/5000\n",
      "6/6 [==============================] - 0s 5ms/step - loss: 1.1366e-04 - rmse: 0.0107 - lr: 0.0010\n",
      "Epoch 155/5000\n",
      "6/6 [==============================] - 0s 5ms/step - loss: 9.5013e-05 - rmse: 0.0097 - lr: 0.0010\n",
      "Epoch 156/5000\n",
      "6/6 [==============================] - 0s 4ms/step - loss: 1.4174e-04 - rmse: 0.0119 - lr: 0.0010\n",
      "Epoch 157/5000\n",
      "6/6 [==============================] - 0s 4ms/step - loss: 1.3100e-04 - rmse: 0.0114 - lr: 0.0010\n",
      "Epoch 158/5000\n",
      "6/6 [==============================] - 0s 4ms/step - loss: 2.4107e-04 - rmse: 0.0155 - lr: 0.0010\n",
      "Epoch 159/5000\n",
      "6/6 [==============================] - 0s 4ms/step - loss: 1.9781e-04 - rmse: 0.0141 - lr: 0.0010\n",
      "Epoch 160/5000\n",
      "6/6 [==============================] - 0s 4ms/step - loss: 1.3670e-04 - rmse: 0.0117 - lr: 0.0010\n",
      "Epoch 161/5000\n",
      "6/6 [==============================] - 0s 4ms/step - loss: 1.1897e-04 - rmse: 0.0109 - lr: 0.0010\n",
      "Epoch 162/5000\n",
      "6/6 [==============================] - 0s 4ms/step - loss: 1.1517e-04 - rmse: 0.0107 - lr: 0.0010\n",
      "Epoch 163/5000\n",
      "6/6 [==============================] - 0s 4ms/step - loss: 9.9267e-05 - rmse: 0.0100 - lr: 0.0010\n",
      "Epoch 164/5000\n",
      "6/6 [==============================] - 0s 5ms/step - loss: 8.3872e-05 - rmse: 0.0092 - lr: 0.0010\n",
      "Epoch 165/5000\n",
      "6/6 [==============================] - 0s 4ms/step - loss: 9.7261e-05 - rmse: 0.0099 - lr: 0.0010\n",
      "Epoch 166/5000\n",
      "6/6 [==============================] - 0s 4ms/step - loss: 2.0031e-04 - rmse: 0.0142 - lr: 0.0010\n",
      "Epoch 167/5000\n",
      "6/6 [==============================] - 0s 4ms/step - loss: 1.2434e-04 - rmse: 0.0112 - lr: 0.0010\n",
      "Epoch 168/5000\n",
      "6/6 [==============================] - 0s 5ms/step - loss: 8.0624e-05 - rmse: 0.0090 - lr: 0.0010\n",
      "Epoch 169/5000\n",
      "6/6 [==============================] - 0s 4ms/step - loss: 9.2200e-05 - rmse: 0.0096 - lr: 0.0010\n",
      "Epoch 170/5000\n",
      "6/6 [==============================] - 0s 4ms/step - loss: 9.3606e-05 - rmse: 0.0097 - lr: 0.0010\n",
      "Epoch 171/5000\n",
      "6/6 [==============================] - 0s 4ms/step - loss: 1.6277e-04 - rmse: 0.0128 - lr: 0.0010\n",
      "Epoch 172/5000\n",
      "6/6 [==============================] - 0s 4ms/step - loss: 4.1056e-04 - rmse: 0.0203 - lr: 0.0010\n",
      "Epoch 173/5000\n",
      "6/6 [==============================] - 0s 4ms/step - loss: 2.8712e-04 - rmse: 0.0169 - lr: 0.0010\n",
      "Epoch 174/5000\n",
      "6/6 [==============================] - 0s 4ms/step - loss: 1.8907e-04 - rmse: 0.0138 - lr: 0.0010\n",
      "Epoch 175/5000\n",
      "6/6 [==============================] - 0s 4ms/step - loss: 2.1681e-04 - rmse: 0.0147 - lr: 0.0010\n",
      "Epoch 176/5000\n",
      "6/6 [==============================] - 0s 4ms/step - loss: 2.6356e-04 - rmse: 0.0162 - lr: 0.0010\n",
      "Epoch 177/5000\n",
      "6/6 [==============================] - 0s 4ms/step - loss: 3.8973e-04 - rmse: 0.0197 - lr: 0.0010\n",
      "Epoch 178/5000\n",
      "6/6 [==============================] - 0s 4ms/step - loss: 4.2196e-04 - rmse: 0.0205 - lr: 0.0010\n",
      "Epoch 179/5000\n",
      "6/6 [==============================] - 0s 4ms/step - loss: 4.6963e-04 - rmse: 0.0217 - lr: 0.0010\n",
      "Epoch 180/5000\n",
      "6/6 [==============================] - 0s 4ms/step - loss: 4.5165e-04 - rmse: 0.0213 - lr: 0.0010\n",
      "Epoch 181/5000\n",
      "6/6 [==============================] - 0s 4ms/step - loss: 3.2027e-04 - rmse: 0.0179 - lr: 0.0010\n",
      "Epoch 182/5000\n",
      "6/6 [==============================] - 0s 4ms/step - loss: 2.7272e-04 - rmse: 0.0165 - lr: 0.0010\n",
      "Epoch 183/5000\n",
      "6/6 [==============================] - 0s 4ms/step - loss: 2.0349e-04 - rmse: 0.0143 - lr: 0.0010\n",
      "Epoch 184/5000\n",
      "6/6 [==============================] - 0s 4ms/step - loss: 1.5463e-04 - rmse: 0.0124 - lr: 0.0010\n",
      "Epoch 185/5000\n",
      "6/6 [==============================] - 0s 4ms/step - loss: 2.3144e-04 - rmse: 0.0152 - lr: 0.0010\n",
      "Epoch 186/5000\n",
      "6/6 [==============================] - 0s 5ms/step - loss: 1.6783e-04 - rmse: 0.0130 - lr: 0.0010\n",
      "Epoch 187/5000\n",
      "6/6 [==============================] - 0s 5ms/step - loss: 1.0994e-04 - rmse: 0.0105 - lr: 0.0010\n",
      "Epoch 188/5000\n",
      "6/6 [==============================] - 0s 5ms/step - loss: 7.6192e-05 - rmse: 0.0087 - lr: 0.0010\n",
      "Epoch 189/5000\n",
      "6/6 [==============================] - 0s 5ms/step - loss: 8.7561e-05 - rmse: 0.0094 - lr: 0.0010\n",
      "Epoch 190/5000\n",
      "6/6 [==============================] - 0s 5ms/step - loss: 7.1349e-05 - rmse: 0.0084 - lr: 0.0010\n",
      "Epoch 191/5000\n",
      "6/6 [==============================] - 0s 5ms/step - loss: 8.0812e-05 - rmse: 0.0090 - lr: 0.0010\n",
      "Epoch 192/5000\n",
      "6/6 [==============================] - 0s 6ms/step - loss: 5.3431e-05 - rmse: 0.0073 - lr: 0.0010\n",
      "Epoch 193/5000\n",
      "6/6 [==============================] - 0s 5ms/step - loss: 4.3877e-05 - rmse: 0.0066 - lr: 0.0010\n",
      "Epoch 194/5000\n",
      "6/6 [==============================] - 0s 5ms/step - loss: 5.8437e-05 - rmse: 0.0076 - lr: 0.0010\n",
      "Epoch 195/5000\n",
      "6/6 [==============================] - 0s 5ms/step - loss: 5.1513e-05 - rmse: 0.0072 - lr: 0.0010\n",
      "Epoch 196/5000\n",
      "6/6 [==============================] - 0s 5ms/step - loss: 5.8924e-05 - rmse: 0.0077 - lr: 0.0010\n",
      "Epoch 197/5000\n",
      "6/6 [==============================] - 0s 5ms/step - loss: 7.0650e-05 - rmse: 0.0084 - lr: 0.0010\n",
      "Epoch 198/5000\n",
      "6/6 [==============================] - 0s 5ms/step - loss: 7.2648e-05 - rmse: 0.0085 - lr: 0.0010\n",
      "Epoch 199/5000\n",
      "6/6 [==============================] - 0s 5ms/step - loss: 4.2586e-05 - rmse: 0.0065 - lr: 0.0010\n",
      "Epoch 200/5000\n",
      "6/6 [==============================] - 0s 5ms/step - loss: 4.5138e-05 - rmse: 0.0067 - lr: 0.0010\n",
      "Epoch 201/5000\n",
      "6/6 [==============================] - 0s 5ms/step - loss: 5.1709e-05 - rmse: 0.0072 - lr: 0.0010\n",
      "Epoch 202/5000\n",
      "6/6 [==============================] - 0s 5ms/step - loss: 4.4269e-05 - rmse: 0.0067 - lr: 0.0010\n",
      "Epoch 203/5000\n",
      "6/6 [==============================] - 0s 5ms/step - loss: 5.8020e-05 - rmse: 0.0076 - lr: 0.0010\n",
      "Epoch 204/5000\n",
      "6/6 [==============================] - 0s 5ms/step - loss: 3.9508e-05 - rmse: 0.0063 - lr: 0.0010\n",
      "Epoch 205/5000\n",
      "6/6 [==============================] - 0s 5ms/step - loss: 3.1129e-05 - rmse: 0.0056 - lr: 0.0010\n",
      "Epoch 206/5000\n",
      "6/6 [==============================] - 0s 5ms/step - loss: 4.4019e-05 - rmse: 0.0066 - lr: 0.0010\n",
      "Epoch 207/5000\n",
      "6/6 [==============================] - 0s 5ms/step - loss: 3.1153e-05 - rmse: 0.0056 - lr: 0.0010\n",
      "Epoch 208/5000\n",
      "6/6 [==============================] - 0s 5ms/step - loss: 6.7272e-05 - rmse: 0.0082 - lr: 0.0010\n",
      "Epoch 209/5000\n",
      "6/6 [==============================] - 0s 5ms/step - loss: 9.8141e-05 - rmse: 0.0099 - lr: 0.0010\n",
      "Epoch 210/5000\n",
      "6/6 [==============================] - 0s 5ms/step - loss: 1.2377e-04 - rmse: 0.0111 - lr: 0.0010\n",
      "Epoch 211/5000\n",
      "6/6 [==============================] - 0s 5ms/step - loss: 3.6422e-04 - rmse: 0.0191 - lr: 0.0010\n",
      "Epoch 212/5000\n",
      "6/6 [==============================] - 0s 5ms/step - loss: 3.2044e-04 - rmse: 0.0179 - lr: 0.0010\n",
      "Epoch 213/5000\n",
      "6/6 [==============================] - 0s 5ms/step - loss: 1.4412e-04 - rmse: 0.0120 - lr: 0.0010\n",
      "Epoch 214/5000\n",
      "6/6 [==============================] - 0s 5ms/step - loss: 1.2347e-04 - rmse: 0.0111 - lr: 0.0010\n",
      "Epoch 215/5000\n",
      "6/6 [==============================] - 0s 5ms/step - loss: 1.8278e-04 - rmse: 0.0135 - lr: 0.0010\n",
      "Epoch 216/5000\n",
      "6/6 [==============================] - 0s 5ms/step - loss: 1.5768e-04 - rmse: 0.0126 - lr: 0.0010\n",
      "Epoch 217/5000\n",
      "6/6 [==============================] - 0s 5ms/step - loss: 1.1314e-04 - rmse: 0.0106 - lr: 0.0010\n",
      "Epoch 218/5000\n",
      "6/6 [==============================] - 0s 5ms/step - loss: 9.8077e-05 - rmse: 0.0099 - lr: 0.0010\n",
      "Epoch 219/5000\n",
      "6/6 [==============================] - 0s 5ms/step - loss: 8.8253e-05 - rmse: 0.0094 - lr: 0.0010\n",
      "Epoch 220/5000\n",
      "6/6 [==============================] - 0s 5ms/step - loss: 9.1570e-05 - rmse: 0.0096 - lr: 0.0010\n",
      "Epoch 221/5000\n",
      "6/6 [==============================] - 0s 5ms/step - loss: 8.3360e-05 - rmse: 0.0091 - lr: 0.0010\n",
      "Epoch 222/5000\n",
      "6/6 [==============================] - 0s 5ms/step - loss: 1.2291e-04 - rmse: 0.0111 - lr: 0.0010\n",
      "Epoch 223/5000\n"
     ]
    },
    {
     "name": "stdout",
     "output_type": "stream",
     "text": [
      "6/6 [==============================] - 0s 5ms/step - loss: 1.1316e-04 - rmse: 0.0106 - lr: 0.0010\n",
      "Epoch 224/5000\n",
      "6/6 [==============================] - 0s 5ms/step - loss: 1.2683e-04 - rmse: 0.0113 - lr: 0.0010\n",
      "Epoch 225/5000\n",
      "6/6 [==============================] - 0s 5ms/step - loss: 3.1788e-04 - rmse: 0.0178 - lr: 0.0010\n",
      "Epoch 226/5000\n",
      "6/6 [==============================] - 0s 5ms/step - loss: 2.7124e-04 - rmse: 0.0165 - lr: 0.0010\n",
      "Epoch 227/5000\n",
      "6/6 [==============================] - 0s 5ms/step - loss: 4.2025e-04 - rmse: 0.0205 - lr: 0.0010\n",
      "Epoch 228/5000\n",
      "6/6 [==============================] - 0s 5ms/step - loss: 2.7960e-04 - rmse: 0.0167 - lr: 0.0010\n",
      "Epoch 229/5000\n",
      "6/6 [==============================] - 0s 5ms/step - loss: 2.9163e-04 - rmse: 0.0171 - lr: 0.0010\n",
      "Epoch 230/5000\n",
      "6/6 [==============================] - 0s 5ms/step - loss: 2.5614e-04 - rmse: 0.0160 - lr: 0.0010\n",
      "Epoch 231/5000\n",
      "6/6 [==============================] - 0s 5ms/step - loss: 1.5379e-04 - rmse: 0.0124 - lr: 0.0010\n",
      "Epoch 232/5000\n",
      "6/6 [==============================] - 0s 5ms/step - loss: 1.0180e-04 - rmse: 0.0101 - lr: 0.0010\n",
      "Epoch 233/5000\n",
      "6/6 [==============================] - 0s 5ms/step - loss: 6.1384e-05 - rmse: 0.0078 - lr: 0.0010\n",
      "Epoch 234/5000\n",
      "6/6 [==============================] - 0s 5ms/step - loss: 7.3986e-05 - rmse: 0.0086 - lr: 0.0010\n",
      "Epoch 235/5000\n",
      "6/6 [==============================] - 0s 5ms/step - loss: 3.9468e-05 - rmse: 0.0063 - lr: 0.0010\n",
      "Epoch 236/5000\n",
      "6/6 [==============================] - 0s 5ms/step - loss: 5.2407e-05 - rmse: 0.0072 - lr: 0.0010\n",
      "Epoch 237/5000\n",
      "6/6 [==============================] - 0s 5ms/step - loss: 4.7908e-05 - rmse: 0.0069 - lr: 0.0010\n",
      "Epoch 238/5000\n",
      "6/6 [==============================] - 0s 5ms/step - loss: 6.6000e-05 - rmse: 0.0081 - lr: 0.0010\n",
      "Epoch 239/5000\n",
      "6/6 [==============================] - 0s 5ms/step - loss: 7.5675e-05 - rmse: 0.0087 - lr: 0.0010\n",
      "Epoch 240/5000\n",
      "6/6 [==============================] - 0s 5ms/step - loss: 9.0281e-05 - rmse: 0.0095 - lr: 0.0010\n",
      "Epoch 241/5000\n",
      "6/6 [==============================] - 0s 5ms/step - loss: 1.0063e-04 - rmse: 0.0100 - lr: 0.0010\n",
      "Epoch 242/5000\n",
      "6/6 [==============================] - 0s 5ms/step - loss: 3.6627e-05 - rmse: 0.0061 - lr: 0.0010\n",
      "Epoch 243/5000\n",
      "6/6 [==============================] - 0s 5ms/step - loss: 4.3848e-05 - rmse: 0.0066 - lr: 0.0010\n",
      "Epoch 244/5000\n",
      "6/6 [==============================] - 0s 5ms/step - loss: 4.0087e-05 - rmse: 0.0063 - lr: 0.0010\n",
      "Epoch 245/5000\n",
      "6/6 [==============================] - 0s 5ms/step - loss: 3.7427e-05 - rmse: 0.0061 - lr: 0.0010\n",
      "Epoch 246/5000\n",
      "6/6 [==============================] - 0s 5ms/step - loss: 6.8290e-05 - rmse: 0.0083 - lr: 0.0010\n",
      "Epoch 247/5000\n",
      "6/6 [==============================] - 0s 5ms/step - loss: 3.4762e-05 - rmse: 0.0059 - lr: 0.0010\n",
      "Epoch 248/5000\n",
      "6/6 [==============================] - 0s 5ms/step - loss: 7.0225e-05 - rmse: 0.0084 - lr: 0.0010\n",
      "Epoch 249/5000\n",
      "6/6 [==============================] - 0s 5ms/step - loss: 3.2468e-05 - rmse: 0.0057 - lr: 0.0010\n",
      "Epoch 250/5000\n",
      "6/6 [==============================] - 0s 5ms/step - loss: 3.3985e-05 - rmse: 0.0058 - lr: 0.0010\n",
      "Epoch 251/5000\n",
      "6/6 [==============================] - 0s 5ms/step - loss: 5.4022e-05 - rmse: 0.0073 - lr: 0.0010\n",
      "Epoch 252/5000\n",
      "6/6 [==============================] - 0s 5ms/step - loss: 4.0533e-05 - rmse: 0.0064 - lr: 0.0010\n",
      "Epoch 253/5000\n",
      "6/6 [==============================] - 0s 5ms/step - loss: 3.5824e-05 - rmse: 0.0060 - lr: 0.0010\n",
      "Epoch 254/5000\n",
      "6/6 [==============================] - 0s 5ms/step - loss: 5.4037e-05 - rmse: 0.0074 - lr: 0.0010\n",
      "Epoch 255/5000\n",
      "6/6 [==============================] - 0s 5ms/step - loss: 1.0808e-04 - rmse: 0.0104 - lr: 0.0010\n",
      "Epoch 256/5000\n",
      "6/6 [==============================] - 0s 5ms/step - loss: 8.7405e-05 - rmse: 0.0093 - lr: 0.0010\n",
      "Epoch 257/5000\n",
      "6/6 [==============================] - 0s 5ms/step - loss: 1.0957e-04 - rmse: 0.0105 - lr: 0.0010\n",
      "Epoch 258/5000\n",
      "6/6 [==============================] - 0s 5ms/step - loss: 6.9449e-05 - rmse: 0.0083 - lr: 0.0010\n",
      "Epoch 259/5000\n",
      "6/6 [==============================] - 0s 5ms/step - loss: 5.2668e-05 - rmse: 0.0073 - lr: 0.0010\n",
      "Epoch 260/5000\n",
      "6/6 [==============================] - 0s 5ms/step - loss: 8.5980e-05 - rmse: 0.0093 - lr: 0.0010\n",
      "Epoch 261/5000\n",
      "6/6 [==============================] - 0s 5ms/step - loss: 6.4917e-05 - rmse: 0.0081 - lr: 0.0010\n",
      "Epoch 262/5000\n",
      "6/6 [==============================] - 0s 5ms/step - loss: 3.7515e-05 - rmse: 0.0061 - lr: 0.0010\n",
      "Epoch 263/5000\n",
      "6/6 [==============================] - 0s 5ms/step - loss: 7.7048e-05 - rmse: 0.0088 - lr: 0.0010\n",
      "Epoch 264/5000\n",
      "6/6 [==============================] - 0s 5ms/step - loss: 6.7110e-05 - rmse: 0.0082 - lr: 0.0010\n",
      "Epoch 265/5000\n",
      "6/6 [==============================] - 0s 5ms/step - loss: 8.4175e-05 - rmse: 0.0092 - lr: 0.0010\n",
      "Epoch 266/5000\n",
      "6/6 [==============================] - 0s 5ms/step - loss: 1.0178e-04 - rmse: 0.0101 - lr: 0.0010\n",
      "Epoch 267/5000\n",
      "6/6 [==============================] - 0s 5ms/step - loss: 1.4469e-04 - rmse: 0.0120 - lr: 0.0010\n",
      "Epoch 268/5000\n",
      "6/6 [==============================] - 0s 5ms/step - loss: 2.1360e-04 - rmse: 0.0146 - lr: 0.0010\n",
      "Epoch 269/5000\n",
      "6/6 [==============================] - 0s 5ms/step - loss: 1.6314e-04 - rmse: 0.0128 - lr: 0.0010\n",
      "Epoch 270/5000\n",
      "6/6 [==============================] - 0s 5ms/step - loss: 9.9986e-05 - rmse: 0.0100 - lr: 0.0010\n",
      "Epoch 271/5000\n",
      "6/6 [==============================] - 0s 5ms/step - loss: 1.5107e-04 - rmse: 0.0123 - lr: 0.0010\n",
      "Epoch 272/5000\n",
      "6/6 [==============================] - 0s 5ms/step - loss: 1.1005e-04 - rmse: 0.0105 - lr: 0.0010\n",
      "Epoch 273/5000\n",
      "6/6 [==============================] - 0s 5ms/step - loss: 5.5229e-05 - rmse: 0.0074 - lr: 0.0010\n",
      "Epoch 274/5000\n",
      "6/6 [==============================] - 0s 5ms/step - loss: 1.1366e-04 - rmse: 0.0107 - lr: 0.0010\n",
      "Epoch 275/5000\n",
      "1/6 [====>.........................] - ETA: 0s - loss: 5.5536e-05 - rmse: 0.0075\n",
      "Epoch 275: ReduceLROnPlateau reducing learning rate to 0.0005000000237487257.\n",
      "6/6 [==============================] - 0s 5ms/step - loss: 9.0707e-05 - rmse: 0.0095 - lr: 0.0010\n",
      "Epoch 276/5000\n",
      "6/6 [==============================] - 0s 5ms/step - loss: 7.7563e-05 - rmse: 0.0088 - lr: 5.0000e-04\n",
      "Epoch 277/5000\n",
      "6/6 [==============================] - 0s 5ms/step - loss: 6.0509e-05 - rmse: 0.0078 - lr: 5.0000e-04\n",
      "Epoch 278/5000\n",
      "6/6 [==============================] - 0s 5ms/step - loss: 4.9791e-05 - rmse: 0.0071 - lr: 5.0000e-04\n",
      "Epoch 279/5000\n",
      "6/6 [==============================] - 0s 5ms/step - loss: 4.6532e-05 - rmse: 0.0068 - lr: 5.0000e-04\n",
      "Epoch 280/5000\n",
      "6/6 [==============================] - 0s 5ms/step - loss: 3.3071e-05 - rmse: 0.0058 - lr: 5.0000e-04\n",
      "Epoch 281/5000\n",
      "6/6 [==============================] - 0s 5ms/step - loss: 3.4966e-05 - rmse: 0.0059 - lr: 5.0000e-04\n",
      "Epoch 282/5000\n",
      "6/6 [==============================] - 0s 5ms/step - loss: 3.9384e-05 - rmse: 0.0063 - lr: 5.0000e-04\n",
      "Epoch 283/5000\n",
      "6/6 [==============================] - 0s 5ms/step - loss: 4.0384e-05 - rmse: 0.0064 - lr: 5.0000e-04\n",
      "Epoch 284/5000\n",
      "6/6 [==============================] - 0s 5ms/step - loss: 2.8387e-05 - rmse: 0.0053 - lr: 5.0000e-04\n",
      "Epoch 285/5000\n",
      "6/6 [==============================] - 0s 5ms/step - loss: 2.0596e-05 - rmse: 0.0045 - lr: 5.0000e-04\n",
      "Epoch 286/5000\n",
      "6/6 [==============================] - 0s 5ms/step - loss: 1.6791e-05 - rmse: 0.0041 - lr: 5.0000e-04\n",
      "Epoch 287/5000\n",
      "6/6 [==============================] - 0s 5ms/step - loss: 2.3893e-05 - rmse: 0.0049 - lr: 5.0000e-04\n",
      "Epoch 288/5000\n",
      "6/6 [==============================] - 0s 5ms/step - loss: 1.8503e-05 - rmse: 0.0043 - lr: 5.0000e-04\n",
      "Epoch 289/5000\n",
      "6/6 [==============================] - 0s 5ms/step - loss: 1.6731e-05 - rmse: 0.0041 - lr: 5.0000e-04\n",
      "Epoch 290/5000\n",
      "6/6 [==============================] - 0s 5ms/step - loss: 1.5985e-05 - rmse: 0.0040 - lr: 5.0000e-04\n",
      "Epoch 291/5000\n",
      "6/6 [==============================] - 0s 5ms/step - loss: 1.5469e-05 - rmse: 0.0039 - lr: 5.0000e-04\n",
      "Epoch 292/5000\n",
      "6/6 [==============================] - 0s 5ms/step - loss: 1.7933e-05 - rmse: 0.0042 - lr: 5.0000e-04\n",
      "Epoch 293/5000\n"
     ]
    },
    {
     "name": "stdout",
     "output_type": "stream",
     "text": [
      "6/6 [==============================] - 0s 5ms/step - loss: 1.2107e-05 - rmse: 0.0035 - lr: 5.0000e-04\n",
      "Epoch 294/5000\n",
      "6/6 [==============================] - 0s 5ms/step - loss: 1.5207e-05 - rmse: 0.0039 - lr: 5.0000e-04\n",
      "Epoch 295/5000\n",
      "6/6 [==============================] - 0s 5ms/step - loss: 1.2198e-05 - rmse: 0.0035 - lr: 5.0000e-04\n",
      "Epoch 296/5000\n",
      "6/6 [==============================] - 0s 5ms/step - loss: 1.5776e-05 - rmse: 0.0040 - lr: 5.0000e-04\n",
      "Epoch 297/5000\n",
      "6/6 [==============================] - 0s 6ms/step - loss: 1.1365e-05 - rmse: 0.0034 - lr: 5.0000e-04\n",
      "Epoch 298/5000\n",
      "6/6 [==============================] - 0s 5ms/step - loss: 1.3863e-05 - rmse: 0.0037 - lr: 5.0000e-04\n",
      "Epoch 299/5000\n",
      "6/6 [==============================] - 0s 5ms/step - loss: 1.3902e-05 - rmse: 0.0037 - lr: 5.0000e-04\n",
      "Epoch 300/5000\n",
      "6/6 [==============================] - 0s 5ms/step - loss: 1.0553e-05 - rmse: 0.0032 - lr: 5.0000e-04\n",
      "Epoch 301/5000\n",
      "6/6 [==============================] - 0s 5ms/step - loss: 1.2583e-05 - rmse: 0.0035 - lr: 5.0000e-04\n",
      "Epoch 302/5000\n",
      "6/6 [==============================] - 0s 5ms/step - loss: 1.5038e-05 - rmse: 0.0039 - lr: 5.0000e-04\n",
      "Epoch 303/5000\n",
      "6/6 [==============================] - 0s 5ms/step - loss: 1.8598e-05 - rmse: 0.0043 - lr: 5.0000e-04\n",
      "Epoch 304/5000\n",
      "6/6 [==============================] - 0s 5ms/step - loss: 1.9116e-05 - rmse: 0.0044 - lr: 5.0000e-04\n",
      "Epoch 305/5000\n",
      "6/6 [==============================] - 0s 5ms/step - loss: 1.0165e-05 - rmse: 0.0032 - lr: 5.0000e-04\n",
      "Epoch 306/5000\n",
      "6/6 [==============================] - 0s 5ms/step - loss: 1.3469e-05 - rmse: 0.0037 - lr: 5.0000e-04\n",
      "Epoch 307/5000\n",
      "6/6 [==============================] - 0s 5ms/step - loss: 1.2186e-05 - rmse: 0.0035 - lr: 5.0000e-04\n",
      "Epoch 308/5000\n",
      "6/6 [==============================] - 0s 5ms/step - loss: 1.2249e-05 - rmse: 0.0035 - lr: 5.0000e-04\n",
      "Epoch 309/5000\n",
      "6/6 [==============================] - 0s 5ms/step - loss: 1.3183e-05 - rmse: 0.0036 - lr: 5.0000e-04\n",
      "Epoch 310/5000\n",
      "6/6 [==============================] - 0s 5ms/step - loss: 1.4337e-05 - rmse: 0.0038 - lr: 5.0000e-04\n",
      "Epoch 311/5000\n",
      "6/6 [==============================] - 0s 5ms/step - loss: 1.2157e-05 - rmse: 0.0035 - lr: 5.0000e-04\n",
      "Epoch 312/5000\n",
      "6/6 [==============================] - 0s 5ms/step - loss: 1.0790e-05 - rmse: 0.0033 - lr: 5.0000e-04\n",
      "Epoch 313/5000\n",
      "6/6 [==============================] - 0s 5ms/step - loss: 1.7068e-05 - rmse: 0.0041 - lr: 5.0000e-04\n",
      "Epoch 314/5000\n",
      "6/6 [==============================] - 0s 5ms/step - loss: 2.1280e-05 - rmse: 0.0046 - lr: 5.0000e-04\n",
      "Epoch 315/5000\n",
      "6/6 [==============================] - 0s 5ms/step - loss: 2.4576e-05 - rmse: 0.0050 - lr: 5.0000e-04\n",
      "Epoch 316/5000\n",
      "6/6 [==============================] - 0s 5ms/step - loss: 2.6732e-05 - rmse: 0.0052 - lr: 5.0000e-04\n",
      "Epoch 317/5000\n",
      "6/6 [==============================] - 0s 5ms/step - loss: 1.5417e-05 - rmse: 0.0039 - lr: 5.0000e-04\n",
      "Epoch 318/5000\n",
      "6/6 [==============================] - 0s 5ms/step - loss: 1.4109e-05 - rmse: 0.0038 - lr: 5.0000e-04\n",
      "Epoch 319/5000\n",
      "6/6 [==============================] - 0s 5ms/step - loss: 1.7123e-05 - rmse: 0.0041 - lr: 5.0000e-04\n",
      "Epoch 320/5000\n",
      "6/6 [==============================] - 0s 5ms/step - loss: 1.6454e-05 - rmse: 0.0041 - lr: 5.0000e-04\n",
      "Epoch 321/5000\n",
      "6/6 [==============================] - 0s 5ms/step - loss: 1.7001e-05 - rmse: 0.0041 - lr: 5.0000e-04\n",
      "Epoch 322/5000\n",
      "6/6 [==============================] - 0s 5ms/step - loss: 1.2866e-05 - rmse: 0.0036 - lr: 5.0000e-04\n",
      "Epoch 323/5000\n",
      "6/6 [==============================] - 0s 5ms/step - loss: 9.8130e-06 - rmse: 0.0031 - lr: 5.0000e-04\n",
      "Epoch 324/5000\n",
      "6/6 [==============================] - 0s 5ms/step - loss: 1.3091e-05 - rmse: 0.0036 - lr: 5.0000e-04\n",
      "Epoch 325/5000\n",
      "6/6 [==============================] - 0s 5ms/step - loss: 1.0026e-05 - rmse: 0.0032 - lr: 5.0000e-04\n",
      "Epoch 326/5000\n",
      "6/6 [==============================] - 0s 5ms/step - loss: 1.4188e-05 - rmse: 0.0038 - lr: 5.0000e-04\n",
      "Epoch 327/5000\n",
      "6/6 [==============================] - 0s 5ms/step - loss: 1.3975e-05 - rmse: 0.0037 - lr: 5.0000e-04\n",
      "Epoch 328/5000\n",
      "6/6 [==============================] - 0s 5ms/step - loss: 1.4324e-05 - rmse: 0.0038 - lr: 5.0000e-04\n",
      "Epoch 329/5000\n",
      "6/6 [==============================] - 0s 5ms/step - loss: 1.0987e-05 - rmse: 0.0033 - lr: 5.0000e-04\n",
      "Epoch 330/5000\n",
      "6/6 [==============================] - 0s 5ms/step - loss: 1.8178e-05 - rmse: 0.0043 - lr: 5.0000e-04\n",
      "Epoch 331/5000\n",
      "6/6 [==============================] - 0s 5ms/step - loss: 2.0984e-05 - rmse: 0.0046 - lr: 5.0000e-04\n",
      "Epoch 332/5000\n",
      "6/6 [==============================] - 0s 5ms/step - loss: 1.9280e-05 - rmse: 0.0044 - lr: 5.0000e-04\n",
      "Epoch 333/5000\n",
      "6/6 [==============================] - 0s 5ms/step - loss: 1.8276e-05 - rmse: 0.0043 - lr: 5.0000e-04\n",
      "Epoch 334/5000\n",
      "6/6 [==============================] - 0s 5ms/step - loss: 1.7568e-05 - rmse: 0.0042 - lr: 5.0000e-04\n",
      "Epoch 335/5000\n",
      "6/6 [==============================] - 0s 5ms/step - loss: 1.5530e-05 - rmse: 0.0039 - lr: 5.0000e-04\n",
      "Epoch 336/5000\n",
      "6/6 [==============================] - 0s 5ms/step - loss: 3.0060e-05 - rmse: 0.0055 - lr: 5.0000e-04\n",
      "Epoch 337/5000\n",
      "6/6 [==============================] - 0s 5ms/step - loss: 4.0853e-05 - rmse: 0.0064 - lr: 5.0000e-04\n",
      "Epoch 338/5000\n",
      "6/6 [==============================] - 0s 5ms/step - loss: 5.0868e-05 - rmse: 0.0071 - lr: 5.0000e-04\n",
      "Epoch 339/5000\n",
      "6/6 [==============================] - 0s 5ms/step - loss: 3.9161e-05 - rmse: 0.0063 - lr: 5.0000e-04\n",
      "Epoch 340/5000\n",
      "6/6 [==============================] - 0s 5ms/step - loss: 4.9054e-05 - rmse: 0.0070 - lr: 5.0000e-04\n",
      "Epoch 341/5000\n",
      "6/6 [==============================] - 0s 5ms/step - loss: 3.6460e-05 - rmse: 0.0060 - lr: 5.0000e-04\n",
      "Epoch 342/5000\n",
      "6/6 [==============================] - 0s 5ms/step - loss: 4.1540e-05 - rmse: 0.0064 - lr: 5.0000e-04\n",
      "Epoch 343/5000\n",
      "6/6 [==============================] - 0s 5ms/step - loss: 6.6437e-05 - rmse: 0.0082 - lr: 5.0000e-04\n",
      "Epoch 344/5000\n",
      "6/6 [==============================] - 0s 5ms/step - loss: 4.3543e-05 - rmse: 0.0066 - lr: 5.0000e-04\n",
      "Epoch 345/5000\n",
      "6/6 [==============================] - 0s 5ms/step - loss: 5.7503e-05 - rmse: 0.0076 - lr: 5.0000e-04\n",
      "Epoch 346/5000\n",
      "6/6 [==============================] - 0s 5ms/step - loss: 6.7738e-05 - rmse: 0.0082 - lr: 5.0000e-04\n",
      "Epoch 347/5000\n",
      "6/6 [==============================] - 0s 5ms/step - loss: 5.4619e-05 - rmse: 0.0074 - lr: 5.0000e-04\n",
      "Epoch 348/5000\n",
      "6/6 [==============================] - 0s 5ms/step - loss: 1.1917e-04 - rmse: 0.0109 - lr: 5.0000e-04\n",
      "Epoch 349/5000\n",
      "6/6 [==============================] - 0s 5ms/step - loss: 1.4385e-04 - rmse: 0.0120 - lr: 5.0000e-04\n",
      "Epoch 350/5000\n",
      "6/6 [==============================] - 0s 5ms/step - loss: 2.1527e-04 - rmse: 0.0147 - lr: 5.0000e-04\n",
      "Epoch 351/5000\n",
      "6/6 [==============================] - 0s 5ms/step - loss: 2.2066e-04 - rmse: 0.0149 - lr: 5.0000e-04\n",
      "Epoch 352/5000\n",
      "6/6 [==============================] - 0s 5ms/step - loss: 1.9812e-04 - rmse: 0.0141 - lr: 5.0000e-04\n",
      "Epoch 353/5000\n",
      "6/6 [==============================] - 0s 5ms/step - loss: 2.8600e-04 - rmse: 0.0169 - lr: 5.0000e-04\n",
      "Epoch 354/5000\n",
      "6/6 [==============================] - 0s 5ms/step - loss: 1.9046e-04 - rmse: 0.0138 - lr: 5.0000e-04\n",
      "Epoch 355/5000\n",
      "6/6 [==============================] - 0s 5ms/step - loss: 1.2130e-04 - rmse: 0.0110 - lr: 5.0000e-04\n",
      "Epoch 356/5000\n",
      "6/6 [==============================] - 0s 5ms/step - loss: 8.1245e-05 - rmse: 0.0090 - lr: 5.0000e-04\n",
      "Epoch 357/5000\n",
      "6/6 [==============================] - 0s 5ms/step - loss: 1.0068e-04 - rmse: 0.0100 - lr: 5.0000e-04\n",
      "Epoch 358/5000\n",
      "6/6 [==============================] - 0s 5ms/step - loss: 1.0557e-04 - rmse: 0.0103 - lr: 5.0000e-04\n",
      "Epoch 359/5000\n",
      "6/6 [==============================] - 0s 5ms/step - loss: 1.0034e-04 - rmse: 0.0100 - lr: 5.0000e-04\n",
      "Epoch 360/5000\n",
      "6/6 [==============================] - 0s 5ms/step - loss: 6.1710e-05 - rmse: 0.0079 - lr: 5.0000e-04\n",
      "Epoch 361/5000\n",
      "6/6 [==============================] - 0s 5ms/step - loss: 6.1537e-05 - rmse: 0.0078 - lr: 5.0000e-04\n",
      "Epoch 362/5000\n",
      "6/6 [==============================] - 0s 5ms/step - loss: 5.3380e-05 - rmse: 0.0073 - lr: 5.0000e-04\n",
      "Epoch 363/5000\n"
     ]
    },
    {
     "name": "stdout",
     "output_type": "stream",
     "text": [
      "6/6 [==============================] - 0s 5ms/step - loss: 6.7755e-05 - rmse: 0.0082 - lr: 5.0000e-04\n",
      "Epoch 364/5000\n",
      "6/6 [==============================] - 0s 5ms/step - loss: 4.7110e-05 - rmse: 0.0069 - lr: 5.0000e-04\n",
      "Epoch 365/5000\n",
      "6/6 [==============================] - 0s 5ms/step - loss: 3.2306e-05 - rmse: 0.0057 - lr: 5.0000e-04\n",
      "Epoch 366/5000\n",
      "6/6 [==============================] - 0s 5ms/step - loss: 3.5794e-05 - rmse: 0.0060 - lr: 5.0000e-04\n",
      "Epoch 367/5000\n",
      "6/6 [==============================] - 0s 5ms/step - loss: 3.8394e-05 - rmse: 0.0062 - lr: 5.0000e-04\n",
      "Epoch 368/5000\n",
      "6/6 [==============================] - 0s 5ms/step - loss: 3.5919e-05 - rmse: 0.0060 - lr: 5.0000e-04\n",
      "Epoch 369/5000\n",
      "6/6 [==============================] - 0s 5ms/step - loss: 3.4444e-05 - rmse: 0.0059 - lr: 5.0000e-04\n",
      "Epoch 370/5000\n",
      "6/6 [==============================] - 0s 5ms/step - loss: 4.2333e-05 - rmse: 0.0065 - lr: 5.0000e-04\n",
      "Epoch 371/5000\n",
      "6/6 [==============================] - 0s 5ms/step - loss: 3.1579e-05 - rmse: 0.0056 - lr: 5.0000e-04\n",
      "Epoch 372/5000\n",
      "6/6 [==============================] - 0s 5ms/step - loss: 1.2567e-05 - rmse: 0.0035 - lr: 5.0000e-04\n",
      "Epoch 373/5000\n",
      "6/6 [==============================] - 0s 5ms/step - loss: 1.1539e-05 - rmse: 0.0034 - lr: 5.0000e-04\n",
      "Epoch 374/5000\n",
      "6/6 [==============================] - 0s 5ms/step - loss: 1.4866e-05 - rmse: 0.0039 - lr: 5.0000e-04\n",
      "Epoch 375/5000\n",
      "6/6 [==============================] - 0s 6ms/step - loss: 1.6534e-05 - rmse: 0.0041 - lr: 5.0000e-04\n",
      "Epoch 376/5000\n",
      "6/6 [==============================] - 0s 5ms/step - loss: 1.6342e-05 - rmse: 0.0040 - lr: 5.0000e-04\n",
      "Epoch 377/5000\n",
      "6/6 [==============================] - 0s 5ms/step - loss: 1.8555e-05 - rmse: 0.0043 - lr: 5.0000e-04\n",
      "Epoch 378/5000\n",
      "6/6 [==============================] - 0s 6ms/step - loss: 1.7064e-05 - rmse: 0.0041 - lr: 5.0000e-04\n",
      "Epoch 379/5000\n",
      "6/6 [==============================] - 0s 6ms/step - loss: 2.4201e-05 - rmse: 0.0049 - lr: 5.0000e-04\n",
      "Epoch 380/5000\n",
      "6/6 [==============================] - 0s 5ms/step - loss: 1.6971e-05 - rmse: 0.0041 - lr: 5.0000e-04\n",
      "Epoch 381/5000\n",
      "6/6 [==============================] - 0s 5ms/step - loss: 1.5142e-05 - rmse: 0.0039 - lr: 5.0000e-04\n",
      "Epoch 382/5000\n",
      "6/6 [==============================] - 0s 6ms/step - loss: 7.9343e-06 - rmse: 0.0028 - lr: 5.0000e-04\n",
      "Epoch 383/5000\n",
      "6/6 [==============================] - 0s 5ms/step - loss: 1.0475e-05 - rmse: 0.0032 - lr: 5.0000e-04\n",
      "Epoch 384/5000\n",
      "6/6 [==============================] - 0s 5ms/step - loss: 1.3114e-05 - rmse: 0.0036 - lr: 5.0000e-04\n",
      "Epoch 385/5000\n",
      "6/6 [==============================] - 0s 5ms/step - loss: 2.0433e-05 - rmse: 0.0045 - lr: 5.0000e-04\n",
      "Epoch 386/5000\n",
      "6/6 [==============================] - 0s 5ms/step - loss: 2.4358e-05 - rmse: 0.0049 - lr: 5.0000e-04\n",
      "Epoch 387/5000\n",
      "6/6 [==============================] - 0s 5ms/step - loss: 1.6253e-05 - rmse: 0.0040 - lr: 5.0000e-04\n",
      "Epoch 388/5000\n",
      "6/6 [==============================] - 0s 5ms/step - loss: 1.4830e-05 - rmse: 0.0039 - lr: 5.0000e-04\n",
      "Epoch 389/5000\n",
      "6/6 [==============================] - 0s 5ms/step - loss: 1.2146e-05 - rmse: 0.0035 - lr: 5.0000e-04\n",
      "Epoch 390/5000\n",
      "6/6 [==============================] - 0s 5ms/step - loss: 1.1349e-05 - rmse: 0.0034 - lr: 5.0000e-04\n",
      "Epoch 391/5000\n",
      "6/6 [==============================] - 0s 5ms/step - loss: 1.1161e-05 - rmse: 0.0033 - lr: 5.0000e-04\n",
      "Epoch 392/5000\n",
      "6/6 [==============================] - 0s 5ms/step - loss: 8.6938e-06 - rmse: 0.0029 - lr: 5.0000e-04\n",
      "Epoch 393/5000\n",
      "6/6 [==============================] - 0s 5ms/step - loss: 1.1224e-05 - rmse: 0.0034 - lr: 5.0000e-04\n",
      "Epoch 394/5000\n",
      "6/6 [==============================] - 0s 5ms/step - loss: 1.0095e-05 - rmse: 0.0032 - lr: 5.0000e-04\n",
      "Epoch 395/5000\n",
      "6/6 [==============================] - 0s 5ms/step - loss: 1.3525e-05 - rmse: 0.0037 - lr: 5.0000e-04\n",
      "Epoch 396/5000\n",
      "6/6 [==============================] - 0s 5ms/step - loss: 1.0510e-05 - rmse: 0.0032 - lr: 5.0000e-04\n",
      "Epoch 397/5000\n",
      "6/6 [==============================] - 0s 5ms/step - loss: 1.0473e-05 - rmse: 0.0032 - lr: 5.0000e-04\n",
      "Epoch 398/5000\n",
      "6/6 [==============================] - 0s 5ms/step - loss: 1.4715e-05 - rmse: 0.0038 - lr: 5.0000e-04\n",
      "Epoch 399/5000\n",
      "6/6 [==============================] - 0s 5ms/step - loss: 2.4909e-05 - rmse: 0.0050 - lr: 5.0000e-04\n",
      "Epoch 400/5000\n",
      "6/6 [==============================] - 0s 5ms/step - loss: 9.4882e-05 - rmse: 0.0097 - lr: 5.0000e-04\n",
      "Epoch 401/5000\n",
      "6/6 [==============================] - 0s 5ms/step - loss: 1.0566e-04 - rmse: 0.0103 - lr: 5.0000e-04\n",
      "Epoch 402/5000\n",
      "6/6 [==============================] - 0s 5ms/step - loss: 3.7855e-05 - rmse: 0.0062 - lr: 5.0000e-04\n",
      "Epoch 403/5000\n",
      "6/6 [==============================] - 0s 5ms/step - loss: 3.6821e-05 - rmse: 0.0061 - lr: 5.0000e-04\n",
      "Epoch 404/5000\n",
      "6/6 [==============================] - 0s 5ms/step - loss: 3.0979e-05 - rmse: 0.0056 - lr: 5.0000e-04\n",
      "Epoch 405/5000\n",
      "6/6 [==============================] - 0s 5ms/step - loss: 2.2117e-05 - rmse: 0.0047 - lr: 5.0000e-04\n",
      "Epoch 406/5000\n",
      "6/6 [==============================] - 0s 6ms/step - loss: 1.8992e-05 - rmse: 0.0044 - lr: 5.0000e-04\n",
      "Epoch 407/5000\n",
      "6/6 [==============================] - 0s 5ms/step - loss: 1.2427e-05 - rmse: 0.0035 - lr: 5.0000e-04\n",
      "Epoch 408/5000\n",
      "6/6 [==============================] - 0s 6ms/step - loss: 1.2626e-05 - rmse: 0.0036 - lr: 5.0000e-04\n",
      "Epoch 409/5000\n",
      "6/6 [==============================] - 0s 5ms/step - loss: 8.5236e-06 - rmse: 0.0029 - lr: 5.0000e-04\n",
      "Epoch 410/5000\n",
      "6/6 [==============================] - 0s 6ms/step - loss: 1.1990e-05 - rmse: 0.0035 - lr: 5.0000e-04\n",
      "Epoch 411/5000\n",
      "6/6 [==============================] - 0s 6ms/step - loss: 8.2798e-06 - rmse: 0.0029 - lr: 5.0000e-04\n",
      "Epoch 412/5000\n",
      "6/6 [==============================] - 0s 6ms/step - loss: 1.3660e-05 - rmse: 0.0037 - lr: 5.0000e-04\n",
      "Epoch 413/5000\n",
      "6/6 [==============================] - 0s 5ms/step - loss: 1.1366e-05 - rmse: 0.0034 - lr: 5.0000e-04\n",
      "Epoch 414/5000\n",
      "6/6 [==============================] - 0s 5ms/step - loss: 1.1513e-05 - rmse: 0.0034 - lr: 5.0000e-04\n",
      "Epoch 415/5000\n",
      "6/6 [==============================] - 0s 6ms/step - loss: 1.0150e-05 - rmse: 0.0032 - lr: 5.0000e-04\n",
      "Epoch 416/5000\n",
      "6/6 [==============================] - 0s 5ms/step - loss: 1.6422e-05 - rmse: 0.0041 - lr: 5.0000e-04\n",
      "Epoch 417/5000\n",
      "6/6 [==============================] - 0s 6ms/step - loss: 1.8164e-05 - rmse: 0.0043 - lr: 5.0000e-04\n",
      "Epoch 418/5000\n",
      "6/6 [==============================] - 0s 5ms/step - loss: 1.7059e-05 - rmse: 0.0041 - lr: 5.0000e-04\n",
      "Epoch 419/5000\n",
      "6/6 [==============================] - 0s 5ms/step - loss: 1.3826e-05 - rmse: 0.0037 - lr: 5.0000e-04\n",
      "Epoch 420/5000\n",
      "6/6 [==============================] - 0s 5ms/step - loss: 9.5153e-06 - rmse: 0.0031 - lr: 5.0000e-04\n",
      "Epoch 421/5000\n",
      "6/6 [==============================] - 0s 5ms/step - loss: 4.5308e-05 - rmse: 0.0067 - lr: 5.0000e-04\n",
      "Epoch 422/5000\n",
      "6/6 [==============================] - 0s 5ms/step - loss: 2.5336e-05 - rmse: 0.0050 - lr: 5.0000e-04\n",
      "Epoch 423/5000\n",
      "6/6 [==============================] - 0s 6ms/step - loss: 1.5552e-05 - rmse: 0.0039 - lr: 5.0000e-04\n",
      "Epoch 424/5000\n",
      "6/6 [==============================] - 0s 5ms/step - loss: 1.6108e-05 - rmse: 0.0040 - lr: 5.0000e-04\n",
      "Epoch 425/5000\n",
      "6/6 [==============================] - 0s 5ms/step - loss: 1.5890e-05 - rmse: 0.0040 - lr: 5.0000e-04\n",
      "Epoch 426/5000\n",
      "6/6 [==============================] - 0s 5ms/step - loss: 1.4863e-05 - rmse: 0.0039 - lr: 5.0000e-04\n",
      "Epoch 427/5000\n",
      "6/6 [==============================] - 0s 5ms/step - loss: 1.6452e-05 - rmse: 0.0041 - lr: 5.0000e-04\n",
      "Epoch 428/5000\n",
      "6/6 [==============================] - 0s 5ms/step - loss: 1.4957e-05 - rmse: 0.0039 - lr: 5.0000e-04\n",
      "Epoch 429/5000\n",
      "6/6 [==============================] - 0s 5ms/step - loss: 1.3167e-05 - rmse: 0.0036 - lr: 5.0000e-04\n",
      "Epoch 430/5000\n",
      "6/6 [==============================] - 0s 5ms/step - loss: 1.1532e-05 - rmse: 0.0034 - lr: 5.0000e-04\n",
      "Epoch 431/5000\n",
      "6/6 [==============================] - 0s 5ms/step - loss: 9.9309e-06 - rmse: 0.0032 - lr: 5.0000e-04\n",
      "Epoch 432/5000\n",
      "6/6 [==============================] - 0s 5ms/step - loss: 1.4894e-05 - rmse: 0.0039 - lr: 5.0000e-04\n",
      "Epoch 433/5000\n"
     ]
    },
    {
     "name": "stdout",
     "output_type": "stream",
     "text": [
      "6/6 [==============================] - 0s 5ms/step - loss: 1.1128e-05 - rmse: 0.0033 - lr: 5.0000e-04\n",
      "Epoch 434/5000\n",
      "6/6 [==============================] - 0s 6ms/step - loss: 8.9981e-06 - rmse: 0.0030 - lr: 5.0000e-04\n",
      "Epoch 435/5000\n",
      "6/6 [==============================] - 0s 5ms/step - loss: 1.0959e-05 - rmse: 0.0033 - lr: 5.0000e-04\n",
      "Epoch 436/5000\n",
      "6/6 [==============================] - 0s 5ms/step - loss: 1.5565e-05 - rmse: 0.0039 - lr: 5.0000e-04\n",
      "Epoch 437/5000\n",
      "6/6 [==============================] - 0s 6ms/step - loss: 1.1158e-05 - rmse: 0.0033 - lr: 5.0000e-04\n",
      "Epoch 438/5000\n",
      "6/6 [==============================] - 0s 5ms/step - loss: 1.4577e-05 - rmse: 0.0038 - lr: 5.0000e-04\n",
      "Epoch 439/5000\n",
      "6/6 [==============================] - 0s 6ms/step - loss: 9.7905e-06 - rmse: 0.0031 - lr: 5.0000e-04\n",
      "Epoch 440/5000\n",
      "6/6 [==============================] - 0s 5ms/step - loss: 9.4975e-06 - rmse: 0.0031 - lr: 5.0000e-04\n",
      "Epoch 441/5000\n",
      "6/6 [==============================] - 0s 6ms/step - loss: 1.2380e-05 - rmse: 0.0035 - lr: 5.0000e-04\n",
      "Epoch 442/5000\n",
      "6/6 [==============================] - 0s 6ms/step - loss: 8.7202e-06 - rmse: 0.0030 - lr: 5.0000e-04\n",
      "Epoch 443/5000\n",
      "6/6 [==============================] - 0s 6ms/step - loss: 9.0438e-06 - rmse: 0.0030 - lr: 5.0000e-04\n",
      "Epoch 444/5000\n",
      "6/6 [==============================] - 0s 5ms/step - loss: 9.6791e-06 - rmse: 0.0031 - lr: 5.0000e-04\n",
      "Epoch 445/5000\n",
      "6/6 [==============================] - 0s 5ms/step - loss: 1.2753e-05 - rmse: 0.0036 - lr: 5.0000e-04\n",
      "Epoch 446/5000\n",
      "6/6 [==============================] - 0s 5ms/step - loss: 1.7711e-05 - rmse: 0.0042 - lr: 5.0000e-04\n",
      "Epoch 447/5000\n",
      "6/6 [==============================] - 0s 5ms/step - loss: 2.2122e-05 - rmse: 0.0047 - lr: 5.0000e-04\n",
      "Epoch 448/5000\n",
      "6/6 [==============================] - 0s 6ms/step - loss: 3.4605e-05 - rmse: 0.0059 - lr: 5.0000e-04\n",
      "Epoch 449/5000\n",
      "6/6 [==============================] - 0s 6ms/step - loss: 5.2596e-05 - rmse: 0.0073 - lr: 5.0000e-04\n",
      "Epoch 450/5000\n",
      "6/6 [==============================] - 0s 6ms/step - loss: 4.7748e-05 - rmse: 0.0069 - lr: 5.0000e-04\n",
      "Epoch 451/5000\n",
      "6/6 [==============================] - 0s 5ms/step - loss: 3.5887e-05 - rmse: 0.0060 - lr: 5.0000e-04\n",
      "Epoch 452/5000\n",
      "1/6 [====>.........................] - ETA: 0s - loss: 4.7991e-05 - rmse: 0.0069\n",
      "Epoch 452: ReduceLROnPlateau reducing learning rate to 0.0002500000118743628.\n",
      "6/6 [==============================] - 0s 6ms/step - loss: 2.2231e-05 - rmse: 0.0047 - lr: 5.0000e-04\n",
      "Epoch 453/5000\n",
      "6/6 [==============================] - 0s 5ms/step - loss: 1.1909e-05 - rmse: 0.0035 - lr: 2.5000e-04\n",
      "Epoch 454/5000\n",
      "6/6 [==============================] - 0s 5ms/step - loss: 1.3431e-05 - rmse: 0.0037 - lr: 2.5000e-04\n",
      "Epoch 455/5000\n",
      "6/6 [==============================] - 0s 6ms/step - loss: 1.0217e-05 - rmse: 0.0032 - lr: 2.5000e-04\n",
      "Epoch 456/5000\n",
      "6/6 [==============================] - 0s 5ms/step - loss: 1.4089e-05 - rmse: 0.0038 - lr: 2.5000e-04\n",
      "Epoch 457/5000\n",
      "6/6 [==============================] - 0s 5ms/step - loss: 1.1153e-05 - rmse: 0.0033 - lr: 2.5000e-04\n",
      "Epoch 458/5000\n",
      "6/6 [==============================] - 0s 5ms/step - loss: 7.8520e-06 - rmse: 0.0028 - lr: 2.5000e-04\n",
      "Epoch 459/5000\n",
      "6/6 [==============================] - 0s 5ms/step - loss: 1.1716e-05 - rmse: 0.0034 - lr: 2.5000e-04\n",
      "Epoch 460/5000\n",
      "6/6 [==============================] - 0s 5ms/step - loss: 9.6257e-06 - rmse: 0.0031 - lr: 2.5000e-04\n",
      "Epoch 461/5000\n",
      "6/6 [==============================] - 0s 5ms/step - loss: 8.6108e-06 - rmse: 0.0029 - lr: 2.5000e-04\n",
      "Epoch 462/5000\n",
      "6/6 [==============================] - 0s 6ms/step - loss: 7.2948e-06 - rmse: 0.0027 - lr: 2.5000e-04\n",
      "Epoch 463/5000\n",
      "6/6 [==============================] - 0s 5ms/step - loss: 7.7012e-06 - rmse: 0.0028 - lr: 2.5000e-04\n",
      "Epoch 464/5000\n",
      "6/6 [==============================] - 0s 6ms/step - loss: 5.9338e-06 - rmse: 0.0024 - lr: 2.5000e-04\n",
      "Epoch 465/5000\n",
      "6/6 [==============================] - 0s 5ms/step - loss: 5.7222e-06 - rmse: 0.0024 - lr: 2.5000e-04\n",
      "Epoch 466/5000\n",
      "6/6 [==============================] - 0s 5ms/step - loss: 7.7817e-06 - rmse: 0.0028 - lr: 2.5000e-04\n",
      "Epoch 467/5000\n",
      "6/6 [==============================] - 0s 6ms/step - loss: 5.4277e-06 - rmse: 0.0023 - lr: 2.5000e-04\n",
      "Epoch 468/5000\n",
      "6/6 [==============================] - 0s 5ms/step - loss: 6.7800e-06 - rmse: 0.0026 - lr: 2.5000e-04\n",
      "Epoch 469/5000\n",
      "6/6 [==============================] - 0s 6ms/step - loss: 4.8840e-06 - rmse: 0.0022 - lr: 2.5000e-04\n",
      "Epoch 470/5000\n",
      "6/6 [==============================] - 0s 5ms/step - loss: 4.3967e-06 - rmse: 0.0021 - lr: 2.5000e-04\n",
      "Epoch 471/5000\n",
      "6/6 [==============================] - 0s 6ms/step - loss: 5.6019e-06 - rmse: 0.0024 - lr: 2.5000e-04\n",
      "Epoch 472/5000\n",
      "6/6 [==============================] - 0s 5ms/step - loss: 5.2581e-06 - rmse: 0.0023 - lr: 2.5000e-04\n",
      "Epoch 473/5000\n",
      "6/6 [==============================] - 0s 6ms/step - loss: 5.2000e-06 - rmse: 0.0023 - lr: 2.5000e-04\n",
      "Epoch 474/5000\n",
      "6/6 [==============================] - 0s 6ms/step - loss: 4.6775e-06 - rmse: 0.0022 - lr: 2.5000e-04\n",
      "Epoch 475/5000\n",
      "6/6 [==============================] - 0s 5ms/step - loss: 4.5538e-06 - rmse: 0.0021 - lr: 2.5000e-04\n",
      "Epoch 476/5000\n",
      "6/6 [==============================] - 0s 5ms/step - loss: 6.3060e-06 - rmse: 0.0025 - lr: 2.5000e-04\n",
      "Epoch 477/5000\n",
      "6/6 [==============================] - 0s 6ms/step - loss: 5.0459e-06 - rmse: 0.0022 - lr: 2.5000e-04\n",
      "Epoch 478/5000\n",
      "6/6 [==============================] - 0s 6ms/step - loss: 5.4629e-06 - rmse: 0.0023 - lr: 2.5000e-04\n",
      "Epoch 479/5000\n",
      "6/6 [==============================] - 0s 6ms/step - loss: 5.2131e-06 - rmse: 0.0023 - lr: 2.5000e-04\n",
      "Epoch 480/5000\n",
      "6/6 [==============================] - 0s 6ms/step - loss: 5.2638e-06 - rmse: 0.0023 - lr: 2.5000e-04\n",
      "Epoch 481/5000\n",
      "6/6 [==============================] - 0s 6ms/step - loss: 4.8145e-06 - rmse: 0.0022 - lr: 2.5000e-04\n",
      "Epoch 482/5000\n",
      "6/6 [==============================] - 0s 5ms/step - loss: 4.3873e-06 - rmse: 0.0021 - lr: 2.5000e-04\n",
      "Epoch 483/5000\n",
      "6/6 [==============================] - 0s 5ms/step - loss: 5.0316e-06 - rmse: 0.0022 - lr: 2.5000e-04\n",
      "Epoch 484/5000\n",
      "6/6 [==============================] - 0s 6ms/step - loss: 5.6488e-06 - rmse: 0.0024 - lr: 2.5000e-04\n",
      "Epoch 485/5000\n",
      "6/6 [==============================] - 0s 5ms/step - loss: 5.9829e-06 - rmse: 0.0024 - lr: 2.5000e-04\n",
      "Epoch 486/5000\n",
      "6/6 [==============================] - 0s 6ms/step - loss: 6.3390e-06 - rmse: 0.0025 - lr: 2.5000e-04\n",
      "Epoch 487/5000\n",
      "6/6 [==============================] - 0s 6ms/step - loss: 4.3264e-06 - rmse: 0.0021 - lr: 2.5000e-04\n",
      "Epoch 488/5000\n",
      "6/6 [==============================] - 0s 6ms/step - loss: 5.0741e-06 - rmse: 0.0023 - lr: 2.5000e-04\n",
      "Epoch 489/5000\n",
      "6/6 [==============================] - 0s 6ms/step - loss: 5.1071e-06 - rmse: 0.0023 - lr: 2.5000e-04\n",
      "Epoch 490/5000\n",
      "6/6 [==============================] - 0s 6ms/step - loss: 5.2464e-06 - rmse: 0.0023 - lr: 2.5000e-04\n",
      "Epoch 491/5000\n",
      "6/6 [==============================] - 0s 6ms/step - loss: 4.7473e-06 - rmse: 0.0022 - lr: 2.5000e-04\n",
      "Epoch 492/5000\n",
      "6/6 [==============================] - 0s 6ms/step - loss: 4.2194e-06 - rmse: 0.0021 - lr: 2.5000e-04\n",
      "Epoch 493/5000\n",
      "6/6 [==============================] - 0s 6ms/step - loss: 5.3116e-06 - rmse: 0.0023 - lr: 2.5000e-04\n",
      "Epoch 494/5000\n",
      "6/6 [==============================] - 0s 6ms/step - loss: 5.1743e-06 - rmse: 0.0023 - lr: 2.5000e-04\n",
      "Epoch 495/5000\n",
      "6/6 [==============================] - 0s 6ms/step - loss: 6.0026e-06 - rmse: 0.0025 - lr: 2.5000e-04\n",
      "Epoch 496/5000\n",
      "6/6 [==============================] - 0s 6ms/step - loss: 5.0099e-06 - rmse: 0.0022 - lr: 2.5000e-04\n",
      "Epoch 497/5000\n",
      "6/6 [==============================] - 0s 5ms/step - loss: 6.6756e-06 - rmse: 0.0026 - lr: 2.5000e-04\n",
      "Epoch 498/5000\n",
      "6/6 [==============================] - 0s 5ms/step - loss: 4.5815e-06 - rmse: 0.0021 - lr: 2.5000e-04\n",
      "Epoch 499/5000\n",
      "6/6 [==============================] - 0s 5ms/step - loss: 4.8924e-06 - rmse: 0.0022 - lr: 2.5000e-04\n",
      "Epoch 500/5000\n",
      "6/6 [==============================] - 0s 5ms/step - loss: 4.8142e-06 - rmse: 0.0022 - lr: 2.5000e-04\n",
      "Epoch 501/5000\n"
     ]
    },
    {
     "name": "stdout",
     "output_type": "stream",
     "text": [
      "6/6 [==============================] - 0s 5ms/step - loss: 4.5518e-06 - rmse: 0.0021 - lr: 2.5000e-04\n",
      "Epoch 502/5000\n",
      "6/6 [==============================] - 0s 6ms/step - loss: 3.7513e-06 - rmse: 0.0019 - lr: 2.5000e-04\n",
      "Epoch 503/5000\n",
      "6/6 [==============================] - 0s 6ms/step - loss: 5.6564e-06 - rmse: 0.0024 - lr: 2.5000e-04\n",
      "Epoch 504/5000\n",
      "6/6 [==============================] - 0s 6ms/step - loss: 5.6384e-06 - rmse: 0.0024 - lr: 2.5000e-04\n",
      "Epoch 505/5000\n",
      "6/6 [==============================] - 0s 6ms/step - loss: 7.1978e-06 - rmse: 0.0027 - lr: 2.5000e-04\n",
      "Epoch 506/5000\n",
      "6/6 [==============================] - 0s 6ms/step - loss: 6.8262e-06 - rmse: 0.0026 - lr: 2.5000e-04\n",
      "Epoch 507/5000\n",
      "6/6 [==============================] - 0s 6ms/step - loss: 5.3331e-06 - rmse: 0.0023 - lr: 2.5000e-04\n",
      "Epoch 508/5000\n",
      "6/6 [==============================] - 0s 6ms/step - loss: 6.1660e-06 - rmse: 0.0025 - lr: 2.5000e-04\n",
      "Epoch 509/5000\n",
      "6/6 [==============================] - 0s 6ms/step - loss: 4.4552e-06 - rmse: 0.0021 - lr: 2.5000e-04\n",
      "Epoch 510/5000\n",
      "6/6 [==============================] - 0s 6ms/step - loss: 5.1607e-06 - rmse: 0.0023 - lr: 2.5000e-04\n",
      "Epoch 511/5000\n",
      "6/6 [==============================] - 0s 6ms/step - loss: 8.6125e-06 - rmse: 0.0029 - lr: 2.5000e-04\n",
      "Epoch 512/5000\n",
      "6/6 [==============================] - 0s 6ms/step - loss: 8.4456e-06 - rmse: 0.0029 - lr: 2.5000e-04\n",
      "Epoch 513/5000\n",
      "6/6 [==============================] - 0s 6ms/step - loss: 7.1261e-06 - rmse: 0.0027 - lr: 2.5000e-04\n",
      "Epoch 514/5000\n",
      "6/6 [==============================] - 0s 5ms/step - loss: 4.9876e-06 - rmse: 0.0022 - lr: 2.5000e-04\n",
      "Epoch 515/5000\n",
      "6/6 [==============================] - 0s 6ms/step - loss: 6.9742e-06 - rmse: 0.0026 - lr: 2.5000e-04\n",
      "Epoch 516/5000\n",
      "6/6 [==============================] - 0s 5ms/step - loss: 4.0498e-06 - rmse: 0.0020 - lr: 2.5000e-04\n",
      "Epoch 517/5000\n",
      "6/6 [==============================] - 0s 5ms/step - loss: 5.4296e-06 - rmse: 0.0023 - lr: 2.5000e-04\n",
      "Epoch 518/5000\n",
      "6/6 [==============================] - 0s 6ms/step - loss: 5.7233e-06 - rmse: 0.0024 - lr: 2.5000e-04\n",
      "Epoch 519/5000\n",
      "6/6 [==============================] - 0s 6ms/step - loss: 6.0212e-06 - rmse: 0.0025 - lr: 2.5000e-04\n",
      "Epoch 520/5000\n",
      "6/6 [==============================] - 0s 6ms/step - loss: 5.3442e-06 - rmse: 0.0023 - lr: 2.5000e-04\n",
      "Epoch 521/5000\n",
      "6/6 [==============================] - 0s 6ms/step - loss: 5.1534e-06 - rmse: 0.0023 - lr: 2.5000e-04\n",
      "Epoch 522/5000\n",
      "6/6 [==============================] - 0s 6ms/step - loss: 5.6035e-06 - rmse: 0.0024 - lr: 2.5000e-04\n",
      "Epoch 523/5000\n",
      "6/6 [==============================] - 0s 5ms/step - loss: 5.3359e-06 - rmse: 0.0023 - lr: 2.5000e-04\n",
      "Epoch 524/5000\n",
      "6/6 [==============================] - 0s 6ms/step - loss: 5.9529e-06 - rmse: 0.0024 - lr: 2.5000e-04\n",
      "Epoch 525/5000\n",
      "6/6 [==============================] - 0s 5ms/step - loss: 4.7993e-06 - rmse: 0.0022 - lr: 2.5000e-04\n",
      "Epoch 526/5000\n",
      "6/6 [==============================] - 0s 6ms/step - loss: 3.7945e-06 - rmse: 0.0019 - lr: 2.5000e-04\n",
      "Epoch 527/5000\n",
      "6/6 [==============================] - 0s 6ms/step - loss: 5.7734e-06 - rmse: 0.0024 - lr: 2.5000e-04\n",
      "Epoch 528/5000\n",
      "6/6 [==============================] - 0s 6ms/step - loss: 4.9011e-06 - rmse: 0.0022 - lr: 2.5000e-04\n",
      "Epoch 529/5000\n",
      "6/6 [==============================] - 0s 6ms/step - loss: 5.5603e-06 - rmse: 0.0024 - lr: 2.5000e-04\n",
      "Epoch 530/5000\n",
      "6/6 [==============================] - 0s 6ms/step - loss: 5.2627e-06 - rmse: 0.0023 - lr: 2.5000e-04\n",
      "Epoch 531/5000\n",
      "6/6 [==============================] - 0s 5ms/step - loss: 6.0520e-06 - rmse: 0.0025 - lr: 2.5000e-04\n",
      "Epoch 532/5000\n",
      "6/6 [==============================] - 0s 6ms/step - loss: 4.7899e-06 - rmse: 0.0022 - lr: 2.5000e-04\n",
      "Epoch 533/5000\n",
      "6/6 [==============================] - 0s 5ms/step - loss: 4.9417e-06 - rmse: 0.0022 - lr: 2.5000e-04\n",
      "Epoch 534/5000\n",
      "6/6 [==============================] - 0s 5ms/step - loss: 6.8632e-06 - rmse: 0.0026 - lr: 2.5000e-04\n",
      "Epoch 535/5000\n",
      "6/6 [==============================] - 0s 5ms/step - loss: 4.3974e-06 - rmse: 0.0021 - lr: 2.5000e-04\n",
      "Epoch 536/5000\n",
      "6/6 [==============================] - 0s 5ms/step - loss: 4.1451e-06 - rmse: 0.0020 - lr: 2.5000e-04\n",
      "Epoch 537/5000\n",
      "6/6 [==============================] - 0s 5ms/step - loss: 4.2726e-06 - rmse: 0.0021 - lr: 2.5000e-04\n",
      "Epoch 538/5000\n",
      "6/6 [==============================] - 0s 5ms/step - loss: 3.9864e-06 - rmse: 0.0020 - lr: 2.5000e-04\n",
      "Epoch 539/5000\n",
      "6/6 [==============================] - 0s 5ms/step - loss: 4.3692e-06 - rmse: 0.0021 - lr: 2.5000e-04\n",
      "Epoch 540/5000\n",
      "6/6 [==============================] - 0s 5ms/step - loss: 3.9676e-06 - rmse: 0.0020 - lr: 2.5000e-04\n",
      "Epoch 541/5000\n",
      "6/6 [==============================] - 0s 5ms/step - loss: 4.0748e-06 - rmse: 0.0020 - lr: 2.5000e-04\n",
      "Epoch 542/5000\n",
      "6/6 [==============================] - 0s 5ms/step - loss: 4.7265e-06 - rmse: 0.0022 - lr: 2.5000e-04\n",
      "Epoch 543/5000\n",
      "6/6 [==============================] - 0s 6ms/step - loss: 5.4936e-06 - rmse: 0.0023 - lr: 2.5000e-04\n",
      "Epoch 544/5000\n",
      "6/6 [==============================] - 0s 5ms/step - loss: 5.6092e-06 - rmse: 0.0024 - lr: 2.5000e-04\n",
      "Epoch 545/5000\n",
      "6/6 [==============================] - 0s 5ms/step - loss: 7.1678e-06 - rmse: 0.0027 - lr: 2.5000e-04\n",
      "Epoch 546/5000\n",
      "6/6 [==============================] - 0s 5ms/step - loss: 5.5903e-06 - rmse: 0.0024 - lr: 2.5000e-04\n",
      "Epoch 547/5000\n",
      "6/6 [==============================] - 0s 5ms/step - loss: 6.6178e-06 - rmse: 0.0026 - lr: 2.5000e-04\n",
      "Epoch 548/5000\n",
      "6/6 [==============================] - 0s 5ms/step - loss: 6.5909e-06 - rmse: 0.0026 - lr: 2.5000e-04\n",
      "Epoch 549/5000\n",
      "6/6 [==============================] - 0s 5ms/step - loss: 6.1343e-06 - rmse: 0.0025 - lr: 2.5000e-04\n",
      "Epoch 550/5000\n",
      "6/6 [==============================] - 0s 5ms/step - loss: 5.4775e-06 - rmse: 0.0023 - lr: 2.5000e-04\n",
      "Epoch 551/5000\n",
      "6/6 [==============================] - 0s 6ms/step - loss: 6.0328e-06 - rmse: 0.0025 - lr: 2.5000e-04\n",
      "Epoch 552/5000\n",
      "6/6 [==============================] - 0s 5ms/step - loss: 4.6942e-06 - rmse: 0.0022 - lr: 2.5000e-04\n",
      "Epoch 553/5000\n",
      "6/6 [==============================] - 0s 5ms/step - loss: 4.7797e-06 - rmse: 0.0022 - lr: 2.5000e-04\n",
      "Epoch 554/5000\n",
      "6/6 [==============================] - 0s 5ms/step - loss: 5.1989e-06 - rmse: 0.0023 - lr: 2.5000e-04\n",
      "Epoch 555/5000\n",
      "6/6 [==============================] - 0s 5ms/step - loss: 5.8097e-06 - rmse: 0.0024 - lr: 2.5000e-04\n",
      "Epoch 556/5000\n",
      "6/6 [==============================] - 0s 5ms/step - loss: 5.9990e-06 - rmse: 0.0024 - lr: 2.5000e-04\n",
      "Epoch 557/5000\n",
      "6/6 [==============================] - 0s 5ms/step - loss: 4.4939e-06 - rmse: 0.0021 - lr: 2.5000e-04\n",
      "Epoch 558/5000\n",
      "6/6 [==============================] - 0s 5ms/step - loss: 4.7310e-06 - rmse: 0.0022 - lr: 2.5000e-04\n",
      "Epoch 559/5000\n",
      "6/6 [==============================] - 0s 5ms/step - loss: 3.9745e-06 - rmse: 0.0020 - lr: 2.5000e-04\n",
      "Epoch 560/5000\n",
      "6/6 [==============================] - 0s 6ms/step - loss: 4.8769e-06 - rmse: 0.0022 - lr: 2.5000e-04\n",
      "Epoch 561/5000\n",
      "6/6 [==============================] - 0s 5ms/step - loss: 4.2627e-06 - rmse: 0.0021 - lr: 2.5000e-04\n",
      "Epoch 562/5000\n",
      "6/6 [==============================] - 0s 5ms/step - loss: 4.3832e-06 - rmse: 0.0021 - lr: 2.5000e-04\n",
      "Epoch 563/5000\n",
      "6/6 [==============================] - 0s 5ms/step - loss: 4.7043e-06 - rmse: 0.0022 - lr: 2.5000e-04\n",
      "Epoch 564/5000\n",
      "6/6 [==============================] - 0s 6ms/step - loss: 3.7521e-06 - rmse: 0.0019 - lr: 2.5000e-04\n",
      "Epoch 565/5000\n",
      "6/6 [==============================] - 0s 5ms/step - loss: 4.5328e-06 - rmse: 0.0021 - lr: 2.5000e-04\n",
      "Epoch 566/5000\n",
      "6/6 [==============================] - 0s 5ms/step - loss: 4.3306e-06 - rmse: 0.0021 - lr: 2.5000e-04\n",
      "Epoch 567/5000\n",
      "6/6 [==============================] - 0s 5ms/step - loss: 4.4634e-06 - rmse: 0.0021 - lr: 2.5000e-04\n",
      "Epoch 568/5000\n",
      "6/6 [==============================] - 0s 5ms/step - loss: 3.8565e-06 - rmse: 0.0020 - lr: 2.5000e-04\n",
      "Epoch 569/5000\n",
      "6/6 [==============================] - 0s 6ms/step - loss: 3.5834e-06 - rmse: 0.0019 - lr: 2.5000e-04\n",
      "Epoch 570/5000\n",
      "6/6 [==============================] - 0s 5ms/step - loss: 3.9664e-06 - rmse: 0.0020 - lr: 2.5000e-04\n",
      "Epoch 571/5000\n"
     ]
    },
    {
     "name": "stdout",
     "output_type": "stream",
     "text": [
      "6/6 [==============================] - 0s 5ms/step - loss: 5.3316e-06 - rmse: 0.0023 - lr: 2.5000e-04\n",
      "Epoch 572/5000\n",
      "6/6 [==============================] - 0s 6ms/step - loss: 7.3229e-06 - rmse: 0.0027 - lr: 2.5000e-04\n",
      "Epoch 573/5000\n",
      "6/6 [==============================] - 0s 6ms/step - loss: 8.0350e-06 - rmse: 0.0028 - lr: 2.5000e-04\n",
      "Epoch 574/5000\n",
      "6/6 [==============================] - 0s 6ms/step - loss: 1.0078e-05 - rmse: 0.0032 - lr: 2.5000e-04\n",
      "Epoch 575/5000\n",
      "6/6 [==============================] - 0s 6ms/step - loss: 1.1808e-05 - rmse: 0.0034 - lr: 2.5000e-04\n",
      "Epoch 576/5000\n",
      "6/6 [==============================] - 0s 6ms/step - loss: 1.2694e-05 - rmse: 0.0036 - lr: 2.5000e-04\n",
      "Epoch 577/5000\n",
      "6/6 [==============================] - 0s 6ms/step - loss: 1.4730e-05 - rmse: 0.0038 - lr: 2.5000e-04\n",
      "Epoch 578/5000\n",
      "6/6 [==============================] - 0s 7ms/step - loss: 6.5252e-06 - rmse: 0.0026 - lr: 2.5000e-04\n",
      "Epoch 579/5000\n",
      "6/6 [==============================] - 0s 7ms/step - loss: 1.0653e-05 - rmse: 0.0033 - lr: 2.5000e-04\n",
      "Epoch 580/5000\n",
      "6/6 [==============================] - 0s 6ms/step - loss: 7.9057e-06 - rmse: 0.0028 - lr: 2.5000e-04\n",
      "Epoch 581/5000\n",
      "6/6 [==============================] - 0s 6ms/step - loss: 8.7017e-06 - rmse: 0.0029 - lr: 2.5000e-04\n",
      "Epoch 582/5000\n",
      "6/6 [==============================] - 0s 5ms/step - loss: 8.4908e-06 - rmse: 0.0029 - lr: 2.5000e-04\n",
      "Epoch 583/5000\n",
      "6/6 [==============================] - 0s 5ms/step - loss: 5.8296e-06 - rmse: 0.0024 - lr: 2.5000e-04\n",
      "Epoch 584/5000\n",
      "6/6 [==============================] - 0s 5ms/step - loss: 4.9100e-06 - rmse: 0.0022 - lr: 2.5000e-04\n",
      "Epoch 585/5000\n",
      "6/6 [==============================] - 0s 5ms/step - loss: 3.2678e-06 - rmse: 0.0018 - lr: 2.5000e-04\n",
      "Epoch 586/5000\n",
      "6/6 [==============================] - 0s 5ms/step - loss: 4.9192e-06 - rmse: 0.0022 - lr: 2.5000e-04\n",
      "Epoch 587/5000\n",
      "6/6 [==============================] - 0s 5ms/step - loss: 3.7349e-06 - rmse: 0.0019 - lr: 2.5000e-04\n",
      "Epoch 588/5000\n",
      "6/6 [==============================] - 0s 6ms/step - loss: 3.9903e-06 - rmse: 0.0020 - lr: 2.5000e-04\n",
      "Epoch 589/5000\n",
      "6/6 [==============================] - 0s 5ms/step - loss: 4.5410e-06 - rmse: 0.0021 - lr: 2.5000e-04\n",
      "Epoch 590/5000\n",
      "6/6 [==============================] - 0s 5ms/step - loss: 7.8135e-06 - rmse: 0.0028 - lr: 2.5000e-04\n",
      "Epoch 591/5000\n",
      "6/6 [==============================] - 0s 5ms/step - loss: 4.3191e-06 - rmse: 0.0021 - lr: 2.5000e-04\n",
      "Epoch 592/5000\n",
      "6/6 [==============================] - 0s 5ms/step - loss: 6.0477e-06 - rmse: 0.0025 - lr: 2.5000e-04\n",
      "Epoch 593/5000\n",
      "6/6 [==============================] - 0s 5ms/step - loss: 1.0536e-05 - rmse: 0.0032 - lr: 2.5000e-04\n",
      "Epoch 594/5000\n",
      "6/6 [==============================] - 0s 5ms/step - loss: 6.7981e-06 - rmse: 0.0026 - lr: 2.5000e-04\n",
      "Epoch 595/5000\n",
      "6/6 [==============================] - 0s 5ms/step - loss: 4.3654e-06 - rmse: 0.0021 - lr: 2.5000e-04\n",
      "Epoch 596/5000\n",
      "6/6 [==============================] - 0s 5ms/step - loss: 4.6440e-06 - rmse: 0.0022 - lr: 2.5000e-04\n",
      "Epoch 597/5000\n",
      "6/6 [==============================] - 0s 5ms/step - loss: 6.3055e-06 - rmse: 0.0025 - lr: 2.5000e-04\n",
      "Epoch 598/5000\n",
      "6/6 [==============================] - 0s 5ms/step - loss: 7.5195e-06 - rmse: 0.0027 - lr: 2.5000e-04\n",
      "Epoch 599/5000\n",
      "6/6 [==============================] - 0s 5ms/step - loss: 7.0058e-06 - rmse: 0.0026 - lr: 2.5000e-04\n",
      "Epoch 600/5000\n",
      "6/6 [==============================] - 0s 5ms/step - loss: 5.7379e-06 - rmse: 0.0024 - lr: 2.5000e-04\n",
      "Epoch 601/5000\n",
      "6/6 [==============================] - 0s 5ms/step - loss: 4.2240e-06 - rmse: 0.0021 - lr: 2.5000e-04\n",
      "Epoch 602/5000\n",
      "6/6 [==============================] - 0s 5ms/step - loss: 3.6498e-06 - rmse: 0.0019 - lr: 2.5000e-04\n",
      "Epoch 603/5000\n",
      "6/6 [==============================] - 0s 5ms/step - loss: 4.6101e-06 - rmse: 0.0021 - lr: 2.5000e-04\n",
      "Epoch 604/5000\n",
      "6/6 [==============================] - 0s 5ms/step - loss: 5.1602e-06 - rmse: 0.0023 - lr: 2.5000e-04\n",
      "Epoch 605/5000\n",
      "6/6 [==============================] - 0s 5ms/step - loss: 7.2541e-06 - rmse: 0.0027 - lr: 2.5000e-04\n",
      "Epoch 606/5000\n",
      "6/6 [==============================] - 0s 5ms/step - loss: 1.0888e-05 - rmse: 0.0033 - lr: 2.5000e-04\n",
      "Epoch 607/5000\n",
      "6/6 [==============================] - 0s 5ms/step - loss: 7.7299e-06 - rmse: 0.0028 - lr: 2.5000e-04\n",
      "Epoch 608/5000\n",
      "6/6 [==============================] - 0s 5ms/step - loss: 4.4394e-06 - rmse: 0.0021 - lr: 2.5000e-04\n",
      "Epoch 609/5000\n",
      "6/6 [==============================] - 0s 5ms/step - loss: 5.2142e-06 - rmse: 0.0023 - lr: 2.5000e-04\n",
      "Epoch 610/5000\n",
      "6/6 [==============================] - 0s 5ms/step - loss: 4.7841e-06 - rmse: 0.0022 - lr: 2.5000e-04\n",
      "Epoch 611/5000\n",
      "6/6 [==============================] - 0s 5ms/step - loss: 3.4317e-06 - rmse: 0.0019 - lr: 2.5000e-04\n",
      "Epoch 612/5000\n",
      "6/6 [==============================] - 0s 5ms/step - loss: 4.2898e-06 - rmse: 0.0021 - lr: 2.5000e-04\n",
      "Epoch 613/5000\n",
      "6/6 [==============================] - 0s 5ms/step - loss: 3.5277e-06 - rmse: 0.0019 - lr: 2.5000e-04\n",
      "Epoch 614/5000\n",
      "6/6 [==============================] - 0s 5ms/step - loss: 3.7166e-06 - rmse: 0.0019 - lr: 2.5000e-04\n",
      "Epoch 615/5000\n",
      "6/6 [==============================] - 0s 5ms/step - loss: 4.1073e-06 - rmse: 0.0020 - lr: 2.5000e-04\n",
      "Epoch 616/5000\n",
      "6/6 [==============================] - 0s 5ms/step - loss: 5.2533e-06 - rmse: 0.0023 - lr: 2.5000e-04\n",
      "Epoch 617/5000\n",
      "6/6 [==============================] - 0s 5ms/step - loss: 6.1778e-06 - rmse: 0.0025 - lr: 2.5000e-04\n",
      "Epoch 618/5000\n",
      "6/6 [==============================] - 0s 5ms/step - loss: 4.6795e-06 - rmse: 0.0022 - lr: 2.5000e-04\n",
      "Epoch 619/5000\n",
      "6/6 [==============================] - 0s 5ms/step - loss: 5.1611e-06 - rmse: 0.0023 - lr: 2.5000e-04\n",
      "Epoch 620/5000\n",
      "6/6 [==============================] - 0s 5ms/step - loss: 5.1832e-06 - rmse: 0.0023 - lr: 2.5000e-04\n",
      "Epoch 621/5000\n",
      "6/6 [==============================] - 0s 5ms/step - loss: 5.0412e-06 - rmse: 0.0022 - lr: 2.5000e-04\n",
      "Epoch 622/5000\n",
      "6/6 [==============================] - 0s 5ms/step - loss: 4.8216e-06 - rmse: 0.0022 - lr: 2.5000e-04\n",
      "Epoch 623/5000\n",
      "6/6 [==============================] - 0s 5ms/step - loss: 5.4123e-06 - rmse: 0.0023 - lr: 2.5000e-04\n",
      "Epoch 624/5000\n",
      "6/6 [==============================] - 0s 6ms/step - loss: 8.4823e-06 - rmse: 0.0029 - lr: 2.5000e-04\n",
      "Epoch 625/5000\n",
      "6/6 [==============================] - 0s 5ms/step - loss: 1.0021e-05 - rmse: 0.0032 - lr: 2.5000e-04\n",
      "Epoch 626/5000\n",
      "6/6 [==============================] - 0s 5ms/step - loss: 4.7167e-06 - rmse: 0.0022 - lr: 2.5000e-04\n",
      "Epoch 627/5000\n",
      "6/6 [==============================] - 0s 5ms/step - loss: 3.8462e-06 - rmse: 0.0020 - lr: 2.5000e-04\n",
      "Epoch 628/5000\n",
      "6/6 [==============================] - 0s 5ms/step - loss: 6.0030e-06 - rmse: 0.0025 - lr: 2.5000e-04\n",
      "Epoch 629/5000\n",
      "6/6 [==============================] - 0s 5ms/step - loss: 4.4253e-06 - rmse: 0.0021 - lr: 2.5000e-04\n",
      "Epoch 630/5000\n",
      "6/6 [==============================] - 0s 5ms/step - loss: 4.3956e-06 - rmse: 0.0021 - lr: 2.5000e-04\n",
      "Epoch 631/5000\n",
      "6/6 [==============================] - 0s 5ms/step - loss: 5.7758e-06 - rmse: 0.0024 - lr: 2.5000e-04\n",
      "Epoch 632/5000\n",
      "6/6 [==============================] - 0s 5ms/step - loss: 8.9715e-06 - rmse: 0.0030 - lr: 2.5000e-04\n",
      "Epoch 633/5000\n",
      "6/6 [==============================] - 0s 6ms/step - loss: 1.8200e-05 - rmse: 0.0043 - lr: 2.5000e-04\n",
      "Epoch 634/5000\n",
      "6/6 [==============================] - 0s 5ms/step - loss: 4.3321e-05 - rmse: 0.0066 - lr: 2.5000e-04\n",
      "Epoch 635/5000\n",
      "6/6 [==============================] - 0s 5ms/step - loss: 4.6880e-05 - rmse: 0.0068 - lr: 2.5000e-04\n",
      "Epoch 636/5000\n",
      "6/6 [==============================] - 0s 5ms/step - loss: 3.4804e-05 - rmse: 0.0059 - lr: 2.5000e-04\n",
      "Epoch 637/5000\n",
      "6/6 [==============================] - 0s 5ms/step - loss: 3.4914e-05 - rmse: 0.0059 - lr: 2.5000e-04\n",
      "Epoch 638/5000\n",
      "6/6 [==============================] - 0s 5ms/step - loss: 3.0482e-05 - rmse: 0.0055 - lr: 2.5000e-04\n",
      "Epoch 639/5000\n",
      "6/6 [==============================] - 0s 5ms/step - loss: 2.8512e-05 - rmse: 0.0053 - lr: 2.5000e-04\n",
      "Epoch 640/5000\n",
      "6/6 [==============================] - 0s 5ms/step - loss: 3.6825e-05 - rmse: 0.0061 - lr: 2.5000e-04\n",
      "Epoch 641/5000\n"
     ]
    },
    {
     "name": "stdout",
     "output_type": "stream",
     "text": [
      "6/6 [==============================] - 0s 5ms/step - loss: 3.0668e-05 - rmse: 0.0055 - lr: 2.5000e-04\n",
      "Epoch 642/5000\n",
      "6/6 [==============================] - 0s 5ms/step - loss: 1.8320e-05 - rmse: 0.0043 - lr: 2.5000e-04\n",
      "Epoch 643/5000\n",
      "6/6 [==============================] - 0s 5ms/step - loss: 1.9036e-05 - rmse: 0.0044 - lr: 2.5000e-04\n",
      "Epoch 644/5000\n",
      "6/6 [==============================] - 0s 6ms/step - loss: 1.5842e-05 - rmse: 0.0040 - lr: 2.5000e-04\n",
      "Epoch 645/5000\n",
      "6/6 [==============================] - 0s 5ms/step - loss: 1.4806e-05 - rmse: 0.0038 - lr: 2.5000e-04\n",
      "Epoch 646/5000\n",
      "6/6 [==============================] - 0s 5ms/step - loss: 2.0603e-05 - rmse: 0.0045 - lr: 2.5000e-04\n",
      "Epoch 647/5000\n",
      "6/6 [==============================] - 0s 5ms/step - loss: 2.3466e-05 - rmse: 0.0048 - lr: 2.5000e-04\n",
      "Epoch 648/5000\n",
      "6/6 [==============================] - 0s 5ms/step - loss: 4.8430e-05 - rmse: 0.0070 - lr: 2.5000e-04\n",
      "Epoch 649/5000\n",
      "6/6 [==============================] - 0s 5ms/step - loss: 4.0094e-05 - rmse: 0.0063 - lr: 2.5000e-04\n",
      "Epoch 650/5000\n",
      "6/6 [==============================] - 0s 5ms/step - loss: 2.7600e-05 - rmse: 0.0053 - lr: 2.5000e-04\n",
      "Epoch 651/5000\n",
      "6/6 [==============================] - 0s 5ms/step - loss: 2.4405e-05 - rmse: 0.0049 - lr: 2.5000e-04\n",
      "Epoch 652/5000\n",
      "6/6 [==============================] - 0s 5ms/step - loss: 2.7669e-05 - rmse: 0.0053 - lr: 2.5000e-04\n",
      "Epoch 653/5000\n",
      "6/6 [==============================] - 0s 5ms/step - loss: 4.1689e-05 - rmse: 0.0065 - lr: 2.5000e-04\n",
      "Epoch 654/5000\n",
      "6/6 [==============================] - 0s 6ms/step - loss: 2.5461e-05 - rmse: 0.0050 - lr: 2.5000e-04\n",
      "Epoch 655/5000\n",
      "1/6 [====>.........................] - ETA: 0s - loss: 5.2464e-06 - rmse: 0.0023\n",
      "Epoch 655: ReduceLROnPlateau reducing learning rate to 0.0001250000059371814.\n",
      "6/6 [==============================] - 0s 5ms/step - loss: 2.7415e-05 - rmse: 0.0052 - lr: 2.5000e-04\n",
      "Epoch 656/5000\n",
      "6/6 [==============================] - 0s 5ms/step - loss: 1.9788e-05 - rmse: 0.0044 - lr: 1.2500e-04\n",
      "Epoch 657/5000\n",
      "6/6 [==============================] - 0s 5ms/step - loss: 1.2383e-05 - rmse: 0.0035 - lr: 1.2500e-04\n",
      "Epoch 658/5000\n",
      "6/6 [==============================] - 0s 5ms/step - loss: 7.1906e-06 - rmse: 0.0027 - lr: 1.2500e-04\n",
      "Epoch 659/5000\n",
      "6/6 [==============================] - 0s 5ms/step - loss: 4.4307e-06 - rmse: 0.0021 - lr: 1.2500e-04\n",
      "Epoch 660/5000\n",
      "6/6 [==============================] - 0s 5ms/step - loss: 3.6624e-06 - rmse: 0.0019 - lr: 1.2500e-04\n",
      "Epoch 661/5000\n",
      "6/6 [==============================] - 0s 5ms/step - loss: 3.7089e-06 - rmse: 0.0019 - lr: 1.2500e-04\n",
      "Epoch 662/5000\n",
      "6/6 [==============================] - 0s 5ms/step - loss: 3.4949e-06 - rmse: 0.0019 - lr: 1.2500e-04\n",
      "Epoch 663/5000\n",
      "6/6 [==============================] - 0s 5ms/step - loss: 3.7855e-06 - rmse: 0.0019 - lr: 1.2500e-04\n",
      "Epoch 664/5000\n",
      "6/6 [==============================] - 0s 5ms/step - loss: 4.5947e-06 - rmse: 0.0021 - lr: 1.2500e-04\n",
      "Epoch 665/5000\n",
      "6/6 [==============================] - 0s 5ms/step - loss: 3.8305e-06 - rmse: 0.0020 - lr: 1.2500e-04\n",
      "Epoch 666/5000\n",
      "6/6 [==============================] - 0s 5ms/step - loss: 3.5450e-06 - rmse: 0.0019 - lr: 1.2500e-04\n",
      "Epoch 667/5000\n",
      "6/6 [==============================] - 0s 5ms/step - loss: 3.2769e-06 - rmse: 0.0018 - lr: 1.2500e-04\n",
      "Epoch 668/5000\n",
      "6/6 [==============================] - 0s 6ms/step - loss: 3.2318e-06 - rmse: 0.0018 - lr: 1.2500e-04\n",
      "Epoch 669/5000\n",
      "1/6 [====>.........................] - ETA: 0s - loss: 4.2755e-06 - rmse: 0.0021Restoring model weights from the end of the best epoch: 569.\n",
      "6/6 [==============================] - 0s 6ms/step - loss: 3.5900e-06 - rmse: 0.0019 - lr: 1.2500e-04\n",
      "Epoch 669: early stopping\n"
     ]
    }
   ],
   "source": [
    "start = datetime.datetime.now()\n",
    "history = model.fit(x_train, y_train, batch_size=batch_size,\n",
    "                    steps_per_epoch = STEP_SIZE_TRAIN,\n",
    "                    epochs=5000, shuffle=True, callbacks=[es, rp])\n",
    "end = datetime.datetime.now()"
   ]
  },
  {
   "cell_type": "code",
   "execution_count": 37,
   "id": "79204ff0",
   "metadata": {},
   "outputs": [
    {
     "name": "stdout",
     "output_type": "stream",
     "text": [
      "Training time: 0:00:22.150322\n"
     ]
    }
   ],
   "source": [
    "time = end - start\n",
    "print(\"Training time:\", time)"
   ]
  },
  {
   "cell_type": "code",
   "execution_count": 38,
   "id": "3fbce220",
   "metadata": {},
   "outputs": [],
   "source": [
    "storage_dir = \"D:\\\\VAWT_data\\\\flap_steady\\\\flap_steady\\\\result\\\\\"+\"20221120MLP_revised\\\\test\"+str(test_rate)\n",
    "if not os.path.exists(storage_dir):\n",
    "    os.makedirs(storage_dir)\n",
    "os.chdir(storage_dir)"
   ]
  },
  {
   "cell_type": "code",
   "execution_count": 39,
   "id": "77cc60d1",
   "metadata": {},
   "outputs": [
    {
     "data": {
      "image/png": "[encoded data removed]",
      "text/plain": [
       "<Figure size 432x288 with 1 Axes>"
      ]
     },
     "metadata": {
      "needs_background": "light"
     },
     "output_type": "display_data"
    }
   ],
   "source": [
    "hist = history.history\n",
    "plt.plot(hist['loss'], lw=2)\n",
    "plt.title('Training loss (mean squared error)\\nMLP, test rate={0:0.4f}'.format(test_rate), size=15)\n",
    "plt.xlabel('Epoch', size=15)\n",
    "plt.yscale('log')\n",
    "#plt.ylim([5e-5, 1e-1])\n",
    "plt.tick_params(axis='both', which='major', labelsize=15)\n",
    "plt.grid()\n",
    "saveName = \"TrainingLoss_test\"+str(test_rate) + \".jpg\"\n",
    "plt.savefig(saveName, dpi=300, bbox_inches='tight', pad_inches=0.3)\n",
    "plt.show()"
   ]
  },
  {
   "cell_type": "code",
   "execution_count": 40,
   "id": "2e42b6c2",
   "metadata": {},
   "outputs": [
    {
     "data": {
      "image/png": "[encoded data removed]",
      "text/plain": [
       "<Figure size 432x288 with 1 Axes>"
      ]
     },
     "metadata": {
      "needs_background": "light"
     },
     "output_type": "display_data"
    }
   ],
   "source": [
    "plt.plot(hist['rmse'], lw=2)\n",
    "plt.title('Root Mean Squared Error, test rate={0:0.4f}'.format(test_rate), size=15)\n",
    "plt.xlabel('Epoch', size=15)\n",
    "plt.tick_params(axis='both', which='major', labelsize=15)\n",
    "plt.show()"
   ]
  },
  {
   "cell_type": "code",
   "execution_count": 41,
   "id": "983b76cb",
   "metadata": {},
   "outputs": [
    {
     "data": {
      "image/png": "[encoded data removed]",
      "text/plain": [
       "<Figure size 432x288 with 1 Axes>"
      ]
     },
     "metadata": {
      "needs_background": "light"
     },
     "output_type": "display_data"
    }
   ],
   "source": [
    "plt.plot(hist['rmse'], lw=2)\n",
    "plt.title('Root Mean Squared Error\\nMLP, test rate={0:0.4f}'.format(test_rate), size=15)\n",
    "plt.xlabel('Epoch', size=15)\n",
    "plt.yscale('log')\n",
    "plt.tick_params(axis='both', which='major', labelsize=15)\n",
    "plt.grid()\n",
    "saveName = \"RMSE_test\"+str(test_rate) + \".jpg\"\n",
    "plt.savefig(saveName, dpi=300, bbox_inches='tight', pad_inches=0.3)\n",
    "plt.show()"
   ]
  },
  {
   "cell_type": "code",
   "execution_count": 42,
   "id": "bcbd9e68",
   "metadata": {},
   "outputs": [
    {
     "name": "stdout",
     "output_type": "stream",
     "text": [
      "5/5 [==============================] - 0s 3ms/step - loss: 3.2017e-06 - rmse: 0.0018\n"
     ]
    }
   ],
   "source": [
    "train_results = model.evaluate(x_train, y_train)"
   ]
  },
  {
   "cell_type": "code",
   "execution_count": 43,
   "id": "abc70d8b",
   "metadata": {},
   "outputs": [
    {
     "name": "stdout",
     "output_type": "stream",
     "text": [
      "1/1 [==============================] - 0s 21ms/step - loss: 4.3650e-05 - rmse: 0.0066\n"
     ]
    }
   ],
   "source": [
    "test_results = model.evaluate(x_test, y_test)"
   ]
  },
  {
   "cell_type": "code",
   "execution_count": 44,
   "id": "745feda1",
   "metadata": {},
   "outputs": [
    {
     "name": "stdout",
     "output_type": "stream",
     "text": [
      "5/5 [==============================] - 0s 2ms/step\n",
      "1/1 [==============================] - 0s 14ms/step\n"
     ]
    }
   ],
   "source": [
    "decoded_train = model.predict(x_train)\n",
    "decoded_test = model.predict(x_test)"
   ]
  },
  {
   "cell_type": "code",
   "execution_count": 45,
   "id": "55d01da2",
   "metadata": {},
   "outputs": [],
   "source": [
    "model_directory = \"D:\\\\TrainedModels\\\\20221119\"\n",
    "if not os.path.exists(model_directory):\n",
    "    os.makedirs(model_directory)\n",
    "os.chdir(model_directory)\n",
    "model_name = \"20221119steadyValidation_MLP_test\"+str(test_rate)+ \"_\" + str(n_units) +\"units_normalized.h5\"\n",
    "model.save(model_name, overwrite=True, include_optimizer=True, save_format='h5')"
   ]
  },
  {
   "cell_type": "code",
   "execution_count": 46,
   "id": "c38a34c6",
   "metadata": {},
   "outputs": [],
   "source": [
    "error_train_abs = np.abs(decoded_train - y_train)"
   ]
  },
  {
   "cell_type": "code",
   "execution_count": 47,
   "id": "4c0dfd6f",
   "metadata": {},
   "outputs": [],
   "source": [
    "error_test_abs = np.abs(decoded_test - y_test)"
   ]
  },
  {
   "cell_type": "code",
   "execution_count": 48,
   "id": "8e21d002",
   "metadata": {},
   "outputs": [],
   "source": [
    "os.chdir(storage_dir)"
   ]
  },
  {
   "cell_type": "code",
   "execution_count": 49,
   "id": "31fb219f",
   "metadata": {},
   "outputs": [
    {
     "name": "stdout",
     "output_type": "stream",
     "text": [
      "0.0020948025141642886\n"
     ]
    }
   ],
   "source": [
    "l2_error_train = np.sqrt(np.sum((decoded_train - y_train)**2) / np.sum(y_train**2))\n",
    "print(l2_error_train)"
   ]
  },
  {
   "cell_type": "code",
   "execution_count": 50,
   "id": "3770434c",
   "metadata": {},
   "outputs": [
    {
     "name": "stdout",
     "output_type": "stream",
     "text": [
      "0.007635840683665654\n"
     ]
    }
   ],
   "source": [
    "l2_error_test = np.sqrt(np.sum((decoded_test - y_test)**2) / np.sum(y_test**2))\n",
    "print(l2_error_test)"
   ]
  },
  {
   "cell_type": "code",
   "execution_count": 51,
   "id": "874ba423",
   "metadata": {},
   "outputs": [
    {
     "name": "stdout",
     "output_type": "stream",
     "text": [
      "0.031089771772894362\n"
     ]
    }
   ],
   "source": [
    "l2_error_Cd_train = np.sqrt(np.sum((decoded_train[:,0] - y_train[:,0])**2) / np.sum(y_train[:,0]**2))\n",
    "print(l2_error_Cd_train)"
   ]
  },
  {
   "cell_type": "code",
   "execution_count": 52,
   "id": "c114a5ff",
   "metadata": {},
   "outputs": [
    {
     "name": "stdout",
     "output_type": "stream",
     "text": [
      "0.0017540757500982393\n"
     ]
    }
   ],
   "source": [
    "l2_error_Cl_train = np.sqrt(np.sum((decoded_train[:,1] - y_train[:,1])**2) / np.sum(y_train[:,1]**2))\n",
    "print(l2_error_Cl_train)"
   ]
  },
  {
   "cell_type": "code",
   "execution_count": 53,
   "id": "79a27012",
   "metadata": {},
   "outputs": [
    {
     "name": "stdout",
     "output_type": "stream",
     "text": [
      "0.03583134450729641\n"
     ]
    }
   ],
   "source": [
    "l2_error_Cd_test = np.sqrt(np.sum((decoded_test[:,0] - y_test[:,0])**2) / np.sum(y_test[:,0]**2))\n",
    "print(l2_error_Cd_test)"
   ]
  },
  {
   "cell_type": "code",
   "execution_count": 54,
   "id": "5f134968",
   "metadata": {},
   "outputs": [
    {
     "name": "stdout",
     "output_type": "stream",
     "text": [
      "0.007554453182895661\n"
     ]
    }
   ],
   "source": [
    "l2_error_Cl_test = np.sqrt(np.sum((decoded_test[:,1] - y_test[:,1])**2) / np.sum(y_test[:,1]**2))\n",
    "print(l2_error_Cl_test)"
   ]
  },
  {
   "cell_type": "code",
   "execution_count": 55,
   "id": "d9785cd7",
   "metadata": {
    "scrolled": true
   },
   "outputs": [],
   "source": [
    "l2_error_train_list = []\n",
    "for i in range(0, len(x_train)):\n",
    "    l2_error_train_data = np.sqrt(np.sum((decoded_train[i] - y_train[i])**2) / np.sum(y_train[i]**2))\n",
    "    l2_error_train_list.append(l2_error_train_data)"
   ]
  },
  {
   "cell_type": "code",
   "execution_count": 56,
   "id": "72b6a696",
   "metadata": {
    "scrolled": true
   },
   "outputs": [],
   "source": [
    "l2_error_test_list = []\n",
    "for i in range(0, len(x_test)):\n",
    "    l2_error_test_data = np.sqrt(np.sum((decoded_test[i] - y_test[i])**2) / np.sum(y_test[i]**2))\n",
    "    l2_error_test_list.append(l2_error_test_data)"
   ]
  },
  {
   "cell_type": "code",
   "execution_count": 57,
   "id": "eeff7b3b",
   "metadata": {},
   "outputs": [],
   "source": [
    "l2_error_train_Cd_list = []\n",
    "for i in range(0, len(x_train)):\n",
    "    l2_error_train_Cd_data = np.sqrt(np.sum((decoded_train[i][0] - y_train[i][0])**2) / np.sum(y_train[i][0]**2))\n",
    "    l2_error_train_Cd_list.append(l2_error_train_Cd_data)"
   ]
  },
  {
   "cell_type": "code",
   "execution_count": 58,
   "id": "73ffd0dc",
   "metadata": {},
   "outputs": [],
   "source": [
    "l2_error_train_Cl_list = []\n",
    "for i in range(0, len(x_train)):\n",
    "    l2_error_train_Cl_data = np.sqrt(np.sum((decoded_train[i][1] - y_train[i][1])**2) / np.sum(y_train[i][1]**2))\n",
    "    l2_error_train_Cl_list.append(l2_error_train_Cl_data)"
   ]
  },
  {
   "cell_type": "code",
   "execution_count": 59,
   "id": "2fed79ac",
   "metadata": {},
   "outputs": [],
   "source": [
    "l2_error_test_Cd_list = []\n",
    "for i in range(0, len(x_test)):\n",
    "    l2_error_test_Cd_data = np.sqrt(np.sum((decoded_test[i][0] - y_test[i][0])**2) / np.sum(y_test[i][0]**2))\n",
    "    l2_error_test_Cd_list.append(l2_error_test_Cd_data)"
   ]
  },
  {
   "cell_type": "code",
   "execution_count": 60,
   "id": "b3b81baa",
   "metadata": {},
   "outputs": [],
   "source": [
    "l2_error_test_Cl_list = []\n",
    "for i in range(0, len(x_test)):\n",
    "    l2_error_test_Cl_data = np.sqrt(np.sum((decoded_test[i][1] - y_test[i][1])**2) / np.sum(y_test[i][1]**2))\n",
    "    l2_error_test_Cl_list.append(l2_error_test_Cl_data)"
   ]
  },
  {
   "cell_type": "code",
   "execution_count": 61,
   "id": "cd795141",
   "metadata": {},
   "outputs": [
    {
     "data": {
      "image/png": "[encoded data removed]",
      "text/plain": [
       "<Figure size 432x288 with 1 Axes>"
      ]
     },
     "metadata": {
      "needs_background": "light"
     },
     "output_type": "display_data"
    }
   ],
   "source": [
    "plt.plot(np.linspace(1,x_train.shape[0],x_train.shape[0]),\n",
    "         l2_error_train*np.ones(x_train.shape[0],), 'k', lw=2.5)\n",
    "plt.scatter(np.linspace(1, x_train.shape[0], x_train.shape[0]), l2_error_train_list, c='b')\n",
    "plt.xlabel('Index', fontsize=15)\n",
    "plt.ylabel('$L_2$ error norm', fontsize=15)\n",
    "plt.yscale('log')\n",
    "plt.title('$L_2$ error norm distribution - MLP, training\\nTest rate {0}, $\\epsilon$ = {1:0.4f}'.format(test_rate, l2_error_train), fontsize=15)\n",
    "plt.grid()\n",
    "saveName = \"trainingErrorDistribution.jpg\"\n",
    "plt.savefig(saveName, dpi=300, bbox_inches='tight', pad_inches=0.3)\n",
    "plt.show()"
   ]
  },
  {
   "cell_type": "code",
   "execution_count": 62,
   "id": "342bbd53",
   "metadata": {},
   "outputs": [
    {
     "data": {
      "image/png": "[encoded data removed]",
      "text/plain": [
       "<Figure size 432x288 with 1 Axes>"
      ]
     },
     "metadata": {
      "needs_background": "light"
     },
     "output_type": "display_data"
    }
   ],
   "source": [
    "plt.plot(np.linspace(1,x_test.shape[0],x_test.shape[0]),\n",
    "         l2_error_test*np.ones(x_test.shape[0],), 'k', lw=2.5)\n",
    "plt.scatter(np.linspace(1, x_test.shape[0], x_test.shape[0]), l2_error_test_list, c='b')\n",
    "plt.xlabel('Index', fontsize=15)\n",
    "plt.ylabel('$L_2$ error norm', fontsize=15)\n",
    "plt.yscale('log')\n",
    "plt.title('$L_2$ error norm distribution - MLP, test\\nTest rate {0}, $\\epsilon$ = {1:0.4f}'.format(test_rate, l2_error_test), fontsize=15)\n",
    "plt.grid()\n",
    "saveName = \"testErrorDistribution.jpg\"\n",
    "plt.savefig(saveName, dpi=300, bbox_inches='tight', pad_inches=0.3)\n",
    "plt.show()"
   ]
  },
  {
   "cell_type": "code",
   "execution_count": 63,
   "id": "fbf40346",
   "metadata": {},
   "outputs": [
    {
     "data": {
      "image/png": "[encoded data removed]",
      "text/plain": [
       "<Figure size 432x288 with 1 Axes>"
      ]
     },
     "metadata": {
      "needs_background": "light"
     },
     "output_type": "display_data"
    }
   ],
   "source": [
    "plt.plot(np.linspace(1,x_train.shape[0],x_train.shape[0]),\n",
    "         l2_error_Cd_train*np.ones(x_train.shape[0],), 'k', lw=2.5)\n",
    "plt.scatter(np.linspace(1, x_train.shape[0], x_train.shape[0]), l2_error_train_Cd_list, c='b')\n",
    "plt.xlabel('Index', fontsize=15)\n",
    "plt.ylabel('$L_2$ error norm', fontsize=15)\n",
    "plt.yscale('log')\n",
    "plt.title('$L_2$ error norm distribution - MLP, training\\n$C_d$, test rate {0}, $\\epsilon$ = {1:0.4f}'.format(test_rate, l2_error_Cd_train), fontsize=15)\n",
    "plt.grid()\n",
    "saveName = \"CdtrainingErrorDistribution.jpg\"\n",
    "plt.savefig(saveName, dpi=300, bbox_inches='tight', pad_inches=0.3)\n",
    "plt.show()"
   ]
  },
  {
   "cell_type": "code",
   "execution_count": 64,
   "id": "01c02929",
   "metadata": {},
   "outputs": [
    {
     "data": {
      "image/png": "[encoded data removed]",
      "text/plain": [
       "<Figure size 432x288 with 1 Axes>"
      ]
     },
     "metadata": {
      "needs_background": "light"
     },
     "output_type": "display_data"
    }
   ],
   "source": [
    "plt.plot(np.linspace(1,x_train.shape[0],x_train.shape[0]),\n",
    "         l2_error_Cl_train*np.ones(x_train.shape[0],), 'k', lw=2.5)\n",
    "plt.scatter(np.linspace(1, x_train.shape[0], x_train.shape[0]), l2_error_train_Cl_list, c='b')\n",
    "plt.xlabel('Index', fontsize=15)\n",
    "plt.ylabel('$L_2$ error norm', fontsize=15)\n",
    "plt.yscale('log')\n",
    "plt.title('$L_2$ error norm distribution - MLP, training\\n$C_l$, test rate {0}, $\\epsilon$ = {1:0.4f}'.format(test_rate, l2_error_Cl_train), fontsize=15)\n",
    "plt.grid()\n",
    "saveName = \"CltrainingErrorDistribution.jpg\"\n",
    "plt.savefig(saveName, dpi=300, bbox_inches='tight', pad_inches=0.3)\n",
    "plt.show()"
   ]
  },
  {
   "cell_type": "code",
   "execution_count": 65,
   "id": "9cde0219",
   "metadata": {},
   "outputs": [
    {
     "data": {
      "image/png": "[encoded data removed]",
      "text/plain": [
       "<Figure size 432x288 with 1 Axes>"
      ]
     },
     "metadata": {
      "needs_background": "light"
     },
     "output_type": "display_data"
    }
   ],
   "source": [
    "plt.plot(np.linspace(1,x_test.shape[0],x_test.shape[0]),\n",
    "         l2_error_Cd_test*np.ones(x_test.shape[0],), 'k', lw=2.5)\n",
    "plt.scatter(np.linspace(1, x_test.shape[0], x_test.shape[0]), l2_error_test_Cd_list, c='b')\n",
    "plt.xlabel('Index', fontsize=15)\n",
    "plt.ylabel('$L_2$ error norm', fontsize=15)\n",
    "plt.yscale('log')\n",
    "plt.title('$L_2$ error norm distribution - MLP, test\\n$C_d$, test rate {0}, $\\epsilon$ = {1:0.4f}'.format(test_rate, l2_error_Cd_test), fontsize=15)\n",
    "plt.grid()\n",
    "saveName = \"CdtestErrorDistribution.jpg\"\n",
    "plt.savefig(saveName, dpi=300, bbox_inches='tight', pad_inches=0.3)\n",
    "plt.show()"
   ]
  },
  {
   "cell_type": "code",
   "execution_count": 66,
   "id": "9bd064b8",
   "metadata": {},
   "outputs": [
    {
     "data": {
      "image/png": "[encoded data removed]",
      "text/plain": [
       "<Figure size 432x288 with 1 Axes>"
      ]
     },
     "metadata": {
      "needs_background": "light"
     },
     "output_type": "display_data"
    }
   ],
   "source": [
    "plt.plot(np.linspace(1,x_test.shape[0],x_test.shape[0]),\n",
    "         l2_error_Cl_test*np.ones(x_test.shape[0],), 'k', lw=2.5)\n",
    "plt.scatter(np.linspace(1, x_test.shape[0], x_test.shape[0]), l2_error_test_Cl_list, c='b')\n",
    "plt.xlabel('Index', fontsize=15)\n",
    "plt.ylabel('$L_2$ error norm', fontsize=15)\n",
    "plt.yscale('log')\n",
    "plt.title('$L_2$ error norm distribution - MLP, test\\n$C_l$, test rate {0}, $\\epsilon$ = {1:0.4f}'.format(test_rate, l2_error_Cl_test), fontsize=15)\n",
    "plt.grid()\n",
    "saveName = \"CltestErrorDistribution.jpg\"\n",
    "plt.savefig(saveName, dpi=300, bbox_inches='tight', pad_inches=0.3)\n",
    "plt.show()"
   ]
  },
  {
   "cell_type": "code",
   "execution_count": null,
   "id": "e8978795",
   "metadata": {},
   "outputs": [],
   "source": []
  }
 ],
 "metadata": {
  "kernelspec": {
   "display_name": "Python 3 (ipykernel)",
   "language": "python",
   "name": "python3"
  },
  "language_info": {
   "codemirror_mode": {
    "name": "ipython",
    "version": 3
   },
   "file_extension": ".py",
   "mimetype": "text/x-python",
   "name": "python",
   "nbconvert_exporter": "python",
   "pygments_lexer": "ipython3",
   "version": "3.9.13"
  }
 },
 "nbformat": 4,
 "nbformat_minor": 5
}
