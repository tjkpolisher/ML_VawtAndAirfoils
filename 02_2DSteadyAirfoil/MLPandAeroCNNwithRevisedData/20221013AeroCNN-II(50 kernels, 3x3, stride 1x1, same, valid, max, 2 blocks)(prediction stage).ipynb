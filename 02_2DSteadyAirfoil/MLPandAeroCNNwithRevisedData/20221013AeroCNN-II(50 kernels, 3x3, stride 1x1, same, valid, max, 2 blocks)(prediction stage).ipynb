{
 "cells": [
  {
   "cell_type": "code",
   "execution_count": null,
   "id": "3a3c4dbb",
   "metadata": {},
   "outputs": [],
   "source": [
    "# AeroCNN-II\n",
    "import os\n",
    "import sys\n",
    "import numpy as np\n",
    "import pandas as pd\n",
    "import tensorflow as tf\n",
    "import matplotlib.pyplot as plt\n",
    "from sklearn.model_selection import train_test_split\n",
    "from sklearn.preprocessing import MinMaxScaler\n",
    "\n",
    "import datetime"
   ]
  },
  {
   "cell_type": "code",
   "execution_count": null,
   "id": "d7496dd6",
   "metadata": {},
   "outputs": [],
   "source": [
    "n_kernel=50\n",
    "l2Regularizer=1e-09\n",
    "kernel_size1 = 3\n",
    "kernel_size2 = 2\n",
    "#kernel_size3 = 5\n",
    "n_grid = 101\n",
    "strides = 1\n",
    "input_size = 100"
   ]
  },
  {
   "cell_type": "code",
   "execution_count": null,
   "id": "cd4efdca",
   "metadata": {},
   "outputs": [],
   "source": [
    "alpha = np.linspace(-10,20,16).reshape((16,1))"
   ]
  },
  {
   "cell_type": "code",
   "execution_count": null,
   "id": "eb2c7388",
   "metadata": {},
   "outputs": [],
   "source": [
    "aa = np.zeros((16*133,1))\n",
    "for i in range(0, 133):\n",
    "    aa[16*i:16*(i+1), :] = alpha[:,:]\n"
   ]
  },
  {
   "cell_type": "code",
   "execution_count": null,
   "id": "71667626",
   "metadata": {},
   "outputs": [],
   "source": [
    "aa = aa.reshape((133, 16, 1, 1))"
   ]
  },
  {
   "cell_type": "code",
   "execution_count": null,
   "id": "20319889",
   "metadata": {},
   "outputs": [],
   "source": [
    "os.chdir('D:\\\\AeroCNN2Inputs')"
   ]
  },
  {
   "cell_type": "code",
   "execution_count": null,
   "id": "4958f7b1",
   "metadata": {},
   "outputs": [],
   "source": [
    "origin = \"D:\\\\AeroCNN2Inputs\"\n",
    "origin_data = \"D:\\\\AirfoilClCdCoordinates_out\\\\AirfoilClCdCoordinates_out\"\n",
    "origin_coord = \"D:\\\\AirfoilClCdCoordinates_out\\\\AirfoilClCdCoordinates_out\""
   ]
  },
  {
   "cell_type": "code",
   "execution_count": null,
   "id": "ead9ff0b",
   "metadata": {},
   "outputs": [],
   "source": [
    "folders_orig = os.listdir(origin)\n",
    "folders = [file for file in folders_orig if file.endswith('.csv')]"
   ]
  },
  {
   "cell_type": "code",
   "execution_count": null,
   "id": "453f0e1f",
   "metadata": {},
   "outputs": [],
   "source": [
    "image_df = pd.DataFrame()\n",
    "for i in range(1, 134):\n",
    "    for j in range(0, alpha.shape[0]):\n",
    "        csv_file_name = origin + '\\\\airfoil' + str(i) + \"_alpha\"+ str(int(alpha[j])) + \".csv\"\n",
    "        data = pd.read_csv(csv_file_name, header=None)\n",
    "        image_df = pd.concat([image_df, data], axis=0)"
   ]
  },
  {
   "cell_type": "code",
   "execution_count": null,
   "id": "7ea4f1d9",
   "metadata": {},
   "outputs": [],
   "source": [
    "image_np = image_df.iloc[:, :].values"
   ]
  },
  {
   "cell_type": "code",
   "execution_count": null,
   "id": "f95c259c",
   "metadata": {},
   "outputs": [],
   "source": [
    "image = image_np.reshape((133, 16, 100, 100))"
   ]
  },
  {
   "cell_type": "code",
   "execution_count": null,
   "id": "326d096a",
   "metadata": {},
   "outputs": [],
   "source": [
    "image = 1-image/100"
   ]
  },
  {
   "cell_type": "code",
   "execution_count": null,
   "id": "7f46d750",
   "metadata": {},
   "outputs": [],
   "source": [
    "path = 'D:\\\\airfoilFlowField'\n",
    "file_list = os.listdir(path)\n",
    "file_list_py = [file for file in file_list if file.endswith('.csv')]"
   ]
  },
  {
   "cell_type": "code",
   "execution_count": null,
   "id": "913a1d3b",
   "metadata": {},
   "outputs": [],
   "source": [
    "file_name = origin_data + \"\\\\AirfoilIndexList.xlsx\"\n",
    "airfoilName_df = pd.read_excel(file_name)\n",
    "geometry_orig = airfoilName_df.iloc[:, 0].values"
   ]
  },
  {
   "cell_type": "code",
   "execution_count": null,
   "id": "ed3927d2",
   "metadata": {},
   "outputs": [],
   "source": [
    "data_name = path + '\\\\' + str(geometry_orig[0]) + \"alpha\"+ str(int(alpha[1])) + \"_interpolated.csv\"\n",
    "print(data_name)"
   ]
  },
  {
   "cell_type": "code",
   "execution_count": null,
   "id": "166eee61",
   "metadata": {},
   "outputs": [],
   "source": [
    "Vmag_df = pd.DataFrame()\n",
    "for i in range(1, 134):\n",
    "    for j in range(0, alpha.shape[0]):\n",
    "        data_name = path + '\\\\' + str(geometry_orig[i-1]) + \"alpha\"+ str(int(alpha[j])) + \"_interpolated.csv\"\n",
    "        data = pd.read_csv(data_name, header=None)\n",
    "        Vmag_df = pd.concat([Vmag_df, data], axis=0)"
   ]
  },
  {
   "cell_type": "code",
   "execution_count": null,
   "id": "0f5074e0",
   "metadata": {},
   "outputs": [],
   "source": [
    "geometry_orig = airfoilName_df.iloc[:, 1].values"
   ]
  },
  {
   "cell_type": "code",
   "execution_count": null,
   "id": "d0bc68b5",
   "metadata": {},
   "outputs": [],
   "source": [
    "y_imp = Vmag_df.iloc[:, :].values"
   ]
  },
  {
   "cell_type": "code",
   "execution_count": null,
   "id": "69afcf2f",
   "metadata": {},
   "outputs": [],
   "source": [
    "y = y_imp.reshape((133, 16, n_grid, n_grid))"
   ]
  },
  {
   "cell_type": "code",
   "execution_count": null,
   "id": "a5bf5f4d",
   "metadata": {},
   "outputs": [],
   "source": [
    "geometry = np.zeros((133*16,1))\n",
    "geometry = geometry.astype(np.string_)\n",
    "for i in geometry_orig:\n",
    "    index_ = np.where(geometry_orig==i)\n",
    "    for j in range(0,16):\n",
    "        geometry[16*index_[0]+j,:] = np.asarray(i)"
   ]
  },
  {
   "cell_type": "code",
   "execution_count": null,
   "id": "3206f779",
   "metadata": {},
   "outputs": [],
   "source": [
    "geometry.shape"
   ]
  },
  {
   "cell_type": "code",
   "execution_count": null,
   "id": "834288bc",
   "metadata": {},
   "outputs": [],
   "source": [
    "geometry = geometry.reshape((133, 16, 1))"
   ]
  },
  {
   "cell_type": "code",
   "execution_count": null,
   "id": "ea217ff9",
   "metadata": {},
   "outputs": [],
   "source": [
    "x_train, x_test, aa_train, aa_test, geo_train, geo_test, y_train, y_test = train_test_split(image, aa, geometry, y, test_size=0.05, random_state=1)"
   ]
  },
  {
   "cell_type": "code",
   "execution_count": 1,
   "id": "95e1edcc",
   "metadata": {},
   "outputs": [
    {
     "name": "stdout",
     "output_type": "stream",
     "text": [
      "D:\\airfoilFlowField\\airfoil1alpha-8_interpolated.csv\n"
     ]
    }
   ],
   "source": [
    "x_train = x_train.reshape((x_train.shape[0]*x_train.shape[1], x_train.shape[2], x_train.shape[3], 1))\n",
    "x_test = x_test.reshape((x_test.shape[0]*x_test.shape[1], x_test.shape[2], x_test.shape[3], 1))\n",
    "aa_train = aa_train.reshape((aa_train.shape[0]*aa_train.shape[1], aa_train.shape[2], aa_train.shape[3]))\n",
    "aa_test = aa_test.reshape((aa_test.shape[0]*aa_test.shape[1], aa_test.shape[2], aa_test.shape[3]))\n",
    "geo_train = geo_train.reshape((geo_train.shape[0]*geo_train.shape[1], geo_train.shape[2]))\n",
    "geo_test = geo_test.reshape((geo_test.shape[0]*geo_test.shape[1], geo_test.shape[2]))\n",
    "y_train = y_train.reshape((y_train.shape[0]*y_train.shape[1], y_train.shape[2], y_train.shape[3]))\n",
    "y_test = y_test.reshape((y_test.shape[0]*y_test.shape[1], y_test.shape[2], y_test.shape[3]))"
   ]
  },
  {
   "cell_type": "code",
   "execution_count": 2,
   "id": "43311917",
   "metadata": {},
   "outputs": [],
   "source": [
    "os.chdir('D:\\\\TrainedModels\\\\20221012')"
   ]
  },
  {
   "cell_type": "code",
   "execution_count": null,
   "id": "730f29a8",
   "metadata": {},
   "outputs": [],
   "source": [
    "sd = tf.keras.models.load_model('AeroCNN-II_with_U-net_FlowFieldPrediction_50kernel_2by2MaxPooling_2CNNlayer_2blocks_testSize0.05.h5')\n",
    "\n",
    "test_results = sd.evaluate(x_test)\n",
    "decoded_train = sd.predict(x_train)\n",
    "decoded_test = sd.predict(x_test)\n",
    "error_train_abs = np.abs(decoded_train - y_train)\n",
    "error_test_abs = np.abs(decoded_test - y_test)"
   ]
  },
  {
   "cell_type": "code",
   "execution_count": null,
   "id": "4fd6b7da",
   "metadata": {},
   "outputs": [],
   "source": [
    "decoded_train = decoded_train.reshape((int(y_train.shape[0]),int(n_grid),int(n_grid)))\n",
    "decoded_test = decoded_test.reshape((int(y_test.shape[0]),int(n_grid),int(n_grid)))"
   ]
  },
  {
   "cell_type": "code",
   "execution_count": null,
   "id": "5b6e7cd7",
   "metadata": {},
   "outputs": [],
   "source": [
    "l2_error_train = np.sqrt(np.sum((decoded_train - y_train)**2) / np.sum(y_train**2))\n",
    "print(l2_error_train)"
   ]
  },
  {
   "cell_type": "code",
   "execution_count": null,
   "id": "ab844266",
   "metadata": {},
   "outputs": [],
   "source": [
    "l2_error_test = np.sqrt(np.sum((decoded_test - y_test)**2) / np.sum(y_test**2))\n",
    "print(l2_error_test)"
   ]
  },
  {
   "cell_type": "code",
   "execution_count": null,
   "id": "99ffac7d",
   "metadata": {},
   "outputs": [],
   "source": [
    "l2_error_train_list = []\n",
    "for i in range(0, len(aa_train)):\n",
    "    l2_error_train_data = np.sqrt(np.sum((decoded_train[i] - y_train[i])**2) / np.sum(y_train[i]**2))\n",
    "    l2_error_train_list.append(l2_error_train_data)\n",
    "print(l2_error_train_list)"
   ]
  },
  {
   "cell_type": "code",
   "execution_count": null,
   "id": "97e3a65a",
   "metadata": {
    "scrolled": true
   },
   "outputs": [],
   "source": [
    "l2_error_test_list = []\n",
    "for i in range(0, len(aa_test)):\n",
    "    l2_error_test_data = np.sqrt(np.sum((decoded_test[i] - y_test[i])**2) / np.sum(y_test[i]**2))\n",
    "    l2_error_test_list.append(l2_error_test_data)\n",
    "print(l2_error_test_list)\n",
    "\n",
    "#saver = tf.train.Saver()"
   ]
  },
  {
   "cell_type": "code",
   "execution_count": null,
   "id": "23ffd1e7",
   "metadata": {},
   "outputs": [],
   "source": [
    "os.chdir(\"D:\\\\AeroCNNII_Images\\\\20221012\")"
   ]
  },
  {
   "cell_type": "code",
   "execution_count": null,
   "id": "da30fa78",
   "metadata": {},
   "outputs": [],
   "source": [
    "plt.plot(np.linspace(1, aa_train.shape[0], aa_train.shape[0]),\n",
    "         l2_error_train*np.ones(aa_train.shape[0],), 'k', lw=2.5)\n",
    "plt.scatter(np.linspace(1, aa_train.shape[0], aa_train.shape[0]), l2_error_train_list, c='b')\n",
    "plt.xlabel('Index', fontsize=15)\n",
    "plt.ylabel('$L_2$ error norm', fontsize=15)\n",
    "plt.yscale('log')\n",
    "plt.title('$L_2$ error norm variance - AeroCNN-II with U-Net, training\\nFlow field prediction, 2 blocks, 2 CNN layer, 50 kernels', fontsize=15)\n",
    "plt.grid()\n",
    "plt.tight_layout()\n",
    "plt.savefig(\"D:\\\\AeroCNNII_Images\\\\20221012AeroCNNIIwithUnet(2CNNlayer_2blocks)(trainingeErrorDistribution).png\",dpi=300)\n",
    "plt.show()"
   ]
  },
  {
   "cell_type": "code",
   "execution_count": null,
   "id": "db6f306e",
   "metadata": {
    "scrolled": true
   },
   "outputs": [],
   "source": [
    "plt.plot(np.linspace(1, aa_test.shape[0], aa_test.shape[0]),\n",
    "         l2_error_test*np.ones(aa_test.shape[0],), 'k', lw=2.5)\n",
    "plt.scatter(np.linspace(1, aa_test.shape[0], aa_test.shape[0]), l2_error_test_list, c='b')\n",
    "plt.xlabel('Index', fontsize=15)\n",
    "plt.ylabel('$L_2$ error norm', fontsize=15)\n",
    "plt.yscale('log')\n",
    "plt.title('$L_2$ error norm variance - AeroCNN-II with U-Net, test\\nFlow field prediction, 2 blocks, 2 CNN layer, 50 kernels', fontsize=15)\n",
    "plt.grid()\n",
    "plt.tight_layout()\n",
    "plt.savefig(\"D:\\\\AeroCNNII_Images\\\\20221012AeroCNNIIwithUnet(2CNNlayer_2blocks)(testErrorDistribution).png\",dpi=300)\n",
    "plt.show()"
   ]
  },
  {
   "cell_type": "code",
   "execution_count": null,
   "id": "6e9441ea",
   "metadata": {},
   "outputs": [],
   "source": [
    "for c in range(0,16):\n",
    "    plt.figure(figsize=(16, 8))\n",
    "    y_test2_rotate = y_test[2*16+c].reshape(n_grid,n_grid)\n",
    "    decoded_rotate = decoded_test[2*16+c].reshape(n_grid,n_grid)\n",
    "\n",
    "    xrange = np.linspace(-2, 2, n_grid)\n",
    "    yrange = np.linspace(-2, 2, n_grid)\n",
    "    xmesh, ymesh = np.meshgrid(xrange, yrange)\n",
    "\n",
    "    ax = plt.subplot(1, 2, 1)\n",
    "    a1 = plt.contourf(xmesh, ymesh, y_test2_rotate, vmin=0, vmax=11, levels=128, cmap='seismic')\n",
    "    ax.set_xlabel('$x$', fontsize=15)\n",
    "    ax.set_ylabel('$y$', fontsize=15)\n",
    "    ax.set_title('Original test image', fontsize=15)\n",
    "\n",
    "    # Display reconstruction\n",
    "    ax = plt.subplot(1, 2, 2)\n",
    "    a2 = plt.contourf(xmesh, ymesh, decoded_rotate, vmin=0, vmax=11, levels=128, cmap='seismic')\n",
    "    ax.set_xlabel('$x$', fontsize=15)\n",
    "    ax.set_ylabel('$y$', fontsize=15)\n",
    "    ax.set_title('Reconstructed image', fontsize=15)\n",
    "    cax = plt.axes([0.12, 0.005, 0.78, 0.05])\n",
    "    cbar = plt.colorbar(a1, cax=cax, orientation=\"horizontal\")\n",
    "    cbar.set_label('Velocity Magnitude', fontsize=15)\n",
    "    #cbar.set_ticks([-0.5, -0.4, -0.3, -0.2, -0.1, 0, 0.1, 0.2, 0.3, 0.4, 0.5, 0.6, 0.7, 0.8, 0.9])\n",
    "\n",
    "    plt.suptitle(r'Test dataset (%s, $\\alpha$ = %d)' %(np.array2string(geo_test[2*16+c])[3:-2], aa_test[2*16+c]),fontsize=20)\n",
    "    save_fig_name = \"20221012AeroCNNIIwithUnet(2blocks_2CNNlayer)(training)\" + str(np.array2string(geo_test[2*16+c])[3:-2])+str(aa_test[2*16+c])+\".jpg\"\n",
    "    plt.savefig(save_fig_name)\n",
    "    plt.show()"
   ]
  },
  {
   "cell_type": "code",
   "execution_count": null,
   "id": "c0f54628",
   "metadata": {
    "scrolled": true
   },
   "outputs": [],
   "source": [
    "for c in range(0,16):\n",
    "    plt.figure(figsize=(16, 8))\n",
    "    y_test0_rotate = y_test[c].reshape(n_grid,n_grid)\n",
    "    decoded_rotate = decoded_test[c].reshape(n_grid,n_grid)\n",
    "\n",
    "    xrange = np.linspace(-2, 2, n_grid)\n",
    "    yrange = np.linspace(-2, 2, n_grid)\n",
    "    xmesh, ymesh = np.meshgrid(xrange, yrange)\n",
    "\n",
    "    ax = plt.subplot(1, 2, 1)\n",
    "    a1 = plt.contourf(xmesh, ymesh, y_test0_rotate, vmin=0, vmax=11, levels=128, cmap='seismic')\n",
    "    ax.set_xlabel('$x$', fontsize=15)\n",
    "    ax.set_ylabel('$y$', fontsize=15)\n",
    "    ax.set_title('Original test image', fontsize=15)\n",
    "\n",
    "    # Display reconstruction\n",
    "    ax = plt.subplot(1, 2, 2)\n",
    "    a2 = plt.contourf(xmesh, ymesh, decoded_rotate, vmin=0, vmax=11, levels=128, cmap='seismic')\n",
    "    ax.set_xlabel('$x$', fontsize=15)\n",
    "    ax.set_ylabel('$y$', fontsize=15)\n",
    "    ax.set_title('Reconstructed image', fontsize=15)\n",
    "    cax = plt.axes([0.12, 0.005, 0.78, 0.05])\n",
    "    cbar = plt.colorbar(a1, cax=cax, orientation=\"horizontal\")\n",
    "    cbar.set_label('Velocity Magnitude', fontsize=15)\n",
    "    #cbar.set_ticks([-0.5, -0.4, -0.3, -0.2, -0.1, 0, 0.1, 0.2, 0.3, 0.4, 0.5, 0.6, 0.7, 0.8, 0.9])\n",
    "\n",
    "    plt.suptitle(r'Test dataset (%s, $\\alpha$ = %d)' %(np.array2string(geo_test[c])[3:-2], aa_test[c]),fontsize=20)\n",
    "    save_fig_name = \"20221012AeroCNNIIwithUnet(2blocks_2CNNlayer)\" + str(np.array2string(geo_test[c])[3:-2])+str(aa_test[c])+\".jpg\"\n",
    "    plt.savefig(save_fig_name)\n",
    "    plt.show()"
   ]
  },
  {
   "cell_type": "code",
   "execution_count": null,
   "id": "333caa66",
   "metadata": {},
   "outputs": [],
   "source": [
    "for c in range(0,16):\n",
    "    plt.figure(figsize=(16, 8))\n",
    "    y_train0_rotate = y_train[c].reshape(n_grid,n_grid)\n",
    "    decoded_rotate = decoded_train[c].reshape(n_grid,n_grid)\n",
    "\n",
    "    xrange = np.linspace(-2, 2, n_grid)\n",
    "    yrange = np.linspace(-2, 2, n_grid)\n",
    "    xmesh, ymesh = np.meshgrid(xrange, yrange)\n",
    "\n",
    "    ax = plt.subplot(1, 2, 1)\n",
    "    a1 = plt.contourf(xmesh, ymesh, y_train0_rotate, vmin=0, vmax=11, levels=128, cmap='seismic')\n",
    "    ax.set_xlabel('$x$', fontsize=15)\n",
    "    ax.set_ylabel('$y$', fontsize=15)\n",
    "    ax.set_title('Original test image', fontsize=15)\n",
    "\n",
    "    # Display reconstruction\n",
    "    ax = plt.subplot(1, 2, 2)\n",
    "    a2 = plt.contourf(xmesh, ymesh, decoded_rotate, vmin=0, vmax=11, levels=128, cmap='seismic')\n",
    "    ax.set_xlabel('$x$', fontsize=15)\n",
    "    ax.set_ylabel('$y$', fontsize=15)\n",
    "    ax.set_title('Reconstructed image', fontsize=15)\n",
    "    cax = plt.axes([0.12, 0.005, 0.78, 0.05])\n",
    "    cbar = plt.colorbar(a1, cax=cax, orientation=\"horizontal\")\n",
    "    cbar.set_label('Velocity Magnitude', fontsize=15)\n",
    "    #cbar.set_ticks([-0.5, -0.4, -0.3, -0.2, -0.1, 0, 0.1, 0.2, 0.3, 0.4, 0.5, 0.6, 0.7, 0.8, 0.9])\n",
    "\n",
    "    plt.suptitle(r'Training dataset (%s, $\\alpha$ = %d)' %(np.array2string(geo_train[c])[3:-2], aa_train[c]),fontsize=20)\n",
    "    save_fig_name = \"20221012AeroCNNIIwithUnet(2blocks_2CNNlayer)(training)\" + str(np.array2string(geo_train[c])[3:-2])+str(aa_train[c])+\".jpg\"\n",
    "    plt.savefig(save_fig_name)\n",
    "    plt.show()"
   ]
  },
  {
   "cell_type": "code",
   "execution_count": null,
   "id": "90e8b661",
   "metadata": {},
   "outputs": [],
   "source": [
    "for c in range(0,16):\n",
    "    plt.figure(figsize=(16, 8))\n",
    "    y_train20_rotate = y_train[20*16+c].reshape(n_grid,n_grid)\n",
    "    decoded_rotate = decoded_train[20*16+c].reshape(n_grid,n_grid)\n",
    "\n",
    "    xrange = np.linspace(-2, 2, n_grid)\n",
    "    yrange = np.linspace(-2, 2, n_grid)\n",
    "    xmesh, ymesh = np.meshgrid(xrange, yrange)\n",
    "\n",
    "    ax = plt.subplot(1, 2, 1)\n",
    "    a1 = plt.contourf(xmesh, ymesh, y_train20_rotate, vmin=0, vmax=11, levels=128, cmap='seismic')\n",
    "    ax.set_xlabel('$x$', fontsize=15)\n",
    "    ax.set_ylabel('$y$', fontsize=15)\n",
    "    ax.set_title('Original test image', fontsize=15)\n",
    "\n",
    "    # Display reconstruction\n",
    "    ax = plt.subplot(1, 2, 2)\n",
    "    a2 = plt.contourf(xmesh, ymesh, decoded_rotate, vmin=0, vmax=11, levels=128, cmap='seismic')\n",
    "    ax.set_xlabel('$x$', fontsize=15)\n",
    "    ax.set_ylabel('$y$', fontsize=15)\n",
    "    ax.set_title('Reconstructed image', fontsize=15)\n",
    "    cax = plt.axes([0.12, 0.005, 0.78, 0.05])\n",
    "    cbar = plt.colorbar(a1, cax=cax, orientation=\"horizontal\")\n",
    "    cbar.set_label('Velocity Magnitude', fontsize=15)\n",
    "    #cbar.set_ticks([-0.5, -0.4, -0.3, -0.2, -0.1, 0, 0.1, 0.2, 0.3, 0.4, 0.5, 0.6, 0.7, 0.8, 0.9])\n",
    "\n",
    "    plt.suptitle(r'Training dataset (%s, $\\alpha$ = %d)' %(np.array2string(geo_train[20*16+c])[3:-2], aa_train[20*16+c]),fontsize=20)\n",
    "    save_fig_name = \"20221012AeroCNNIIwithUnet(2blocks_2CNNlayer)(training)\" + str(np.array2string(geo_train[20*16+c])[3:-2])+str(aa_train[20*16+c])+\".jpg\"\n",
    "    plt.savefig(save_fig_name)\n",
    "    plt.show()"
   ]
  },
  {
   "cell_type": "code",
   "execution_count": null,
   "id": "f8954341",
   "metadata": {},
   "outputs": [],
   "source": [
    "for c in range(0,16):\n",
    "    error_test_abs2_rotate = error_test_abs[2*16+c].reshape(n_grid,n_grid)\n",
    "\n",
    "    fig5 = plt.figure(figsize = (8, 8))\n",
    "    ax5 = fig5.add_subplot(111)\n",
    "    mappable = ax5.contourf(xmesh, ymesh, error_test_abs2_rotate, levels=128, cmap='seismic')\n",
    "    ax5.set_title(r'Absolute error (%s, $\\alpha$ = %d, $\\epsilon$ = %.4f)' %(np.array2string(geo_test[2*16+c])[3:-2],\n",
    "                                                                       aa_test[2*16+c], l2_error_test_list[2*16+c]), fontsize=16)\n",
    "    ax5.set_xlabel('$y$', fontsize=15)\n",
    "    ax5.set_ylabel('$z$', fontsize=15)\n",
    "\n",
    "    cax = plt.axes([0.12, 0.005, 0.78, 0.05])\n",
    "    cbar = plt.colorbar(mappable, cax=cax, orientation=\"horizontal\")\n",
    "    cbar.set_label('Error', fontsize=15)\n",
    "    save_fig_name = \"20221012AeroCNNIIwithUnet(2blocks_2CNNlayer)_absoluteError_\" + str(np.array2string(geo_test[2*16+c])[3:-2])+str(aa_test[2*16+c])+\".jpg\"\n",
    "    plt.savefig(save_fig_name)\n",
    "    plt.show()"
   ]
  },
  {
   "cell_type": "code",
   "execution_count": null,
   "id": "45431887",
   "metadata": {},
   "outputs": [],
   "source": [
    "for c in range(0,16):\n",
    "    error_test_abs2_rotate = error_test_abs[c].reshape(n_grid,n_grid)\n",
    "\n",
    "    fig5 = plt.figure(figsize = (8, 8))\n",
    "    ax5 = fig5.add_subplot(111)\n",
    "    mappable = ax5.contourf(xmesh, ymesh, error_test_abs2_rotate, levels=128, cmap='seismic')\n",
    "    ax5.set_title(r'Absolute error (%s, $\\alpha$ = %d, $\\epsilon$ = %.4f)' %(np.array2string(geo_test[c])[3:-2],\n",
    "                                                                       aa_test[c], l2_error_test_list[c]), fontsize=16)\n",
    "    ax5.set_xlabel('$y$', fontsize=15)\n",
    "    ax5.set_ylabel('$z$', fontsize=15)\n",
    "\n",
    "    cax = plt.axes([0.12, 0.005, 0.78, 0.05])\n",
    "    cbar = plt.colorbar(mappable, cax=cax, orientation=\"horizontal\")\n",
    "    cbar.set_label('Error', fontsize=15)\n",
    "    save_fig_name = \"20221012AeroCNNIIwithUnet(2blocks_2CNNlayer)_absoluteError_\" + str(np.array2string(geo_test[c])[3:-2])+str(aa_test[c])+\".jpg\"\n",
    "    plt.savefig(save_fig_name)\n",
    "    plt.show()"
   ]
  },
  {
   "cell_type": "code",
   "execution_count": null,
   "id": "d882926a",
   "metadata": {},
   "outputs": [],
   "source": [
    "for c in range(0,16):\n",
    "    error_train_abs2_rotate = error_train_abs[c].reshape(n_grid,n_grid)\n",
    "\n",
    "    fig5 = plt.figure(figsize = (8, 8))\n",
    "    ax5 = fig5.add_subplot(111)\n",
    "    mappable = ax5.contourf(xmesh, ymesh, error_train_abs2_rotate, levels=128, cmap='seismic')\n",
    "    ax5.set_title(r'Absolute error (%s, $\\alpha$ = %d, $\\epsilon$ = %.4f)' %(np.array2string(geo_train[c])[3:-2],\n",
    "                                                                             aa_train[c], l2_error_train_list[c]), fontsize=16)\n",
    "    ax5.set_xlabel('$y$', fontsize=15)\n",
    "    ax5.set_ylabel('$z$', fontsize=15)\n",
    "\n",
    "    cax = plt.axes([0.12, 0.005, 0.78, 0.05])\n",
    "    cbar = plt.colorbar(mappable, cax=cax, orientation=\"horizontal\")\n",
    "    cbar.set_label('Error', fontsize=15)\n",
    "    save_fig_name = \"20221012AeroCNNIIwithUnet(2blocks_2CNNlayer)_absoluteError_\" + str(np.array2string(geo_train[c])[3:-2])+str(aa_train[c])+\".jpg\"\n",
    "    plt.savefig(save_fig_name)\n",
    "    plt.show()"
   ]
  },
  {
   "cell_type": "code",
   "execution_count": null,
   "id": "6c0e6d58",
   "metadata": {},
   "outputs": [],
   "source": [
    "for c in range(0,16):\n",
    "    error_train_abs2_rotate = error_train_abs[16*20+c].reshape(n_grid,n_grid)\n",
    "\n",
    "    fig5 = plt.figure(figsize = (8, 8))\n",
    "    ax5 = fig5.add_subplot(111)\n",
    "    mappable = ax5.contourf(xmesh, ymesh, error_train_abs2_rotate, levels=128, cmap='seismic')\n",
    "    ax5.set_title(r'Absolute error (%s, $\\alpha$ = %d, $\\epsilon$ = %.4f)' %(np.array2string(geo_train[16*20+c])[3:-2],\n",
    "                                                                             aa_train[16*20+c], l2_error_train_list[16*20+c]),fontsize=16)\n",
    "    ax5.set_xlabel('$y$', fontsize=15)\n",
    "    ax5.set_ylabel('$z$', fontsize=15)\n",
    "\n",
    "    cax = plt.axes([0.12, 0.005, 0.78, 0.05])\n",
    "    cbar = plt.colorbar(mappable, cax=cax, orientation=\"horizontal\")\n",
    "    cbar.set_label('Error', fontsize=15)\n",
    "    save_fig_name = \"20221012AeroCNNIIwithUnet(2blocks_2CNNlayer)_absoluteError_\" + str(np.array2string(geo_train[16*20+c])[3:-2])+str(aa_train[16*20+c])+\".jpg\"\n",
    "    plt.savefig(save_fig_name)\n",
    "    plt.show()"
   ]
  },
  {
   "cell_type": "code",
   "execution_count": null,
   "id": "9d34884a",
   "metadata": {},
   "outputs": [],
   "source": []
  },
  {
   "cell_type": "code",
   "execution_count": null,
   "id": "4825d4e4",
   "metadata": {
    "scrolled": true
   },
   "outputs": [],
   "source": [
    "a=[]\n",
    "aaa=[]\n",
    "for i in range(0,len(alpha_)):\n",
    "    b=np.where(aa_train==alpha_[i])[0]\n",
    "    for j in range(0, len(b)):\n",
    "        a.append(l2_error_train_list[b[j]])\n",
    "    aaa.append(np.mean(a))\n",
    "    bb.append(np.mean(a))\n",
    "    a=[]\n",
    "plt.bar(np.linspace(-10, 20, len(alpha_)), aaa)\n",
    "    \n",
    "plt.xlabel('Angle of attack', fontsize=15)\n",
    "plt.ylabel('$L_2$ error norm', fontsize=15)\n",
    "plt.xticks(alpha_)\n",
    "plt.title('Distribution of $L_2$ error norm - training', fontsize=15)\n",
    "plt.grid()\n",
    "plt.tight_layout()\n",
    "plt.show()\n",
    "\n",
    "#cax = plt.axes([0.95, 0.15, 0.05, 0.73])\n",
    "#cbar = plt.colorbar(ax, cax=cax)\n",
    "#cbar.set_label('Dimensionless vorticity', fontsize=15)\n",
    "#cbar.set_ticks([3, 4, 5, 6, 7, 8, 9, 10])\n",
    "\n",
    "#plt.suptitle('Original images (TSR = 1.5)',fontsize=60)\n",
    "plt.show()"
   ]
  },
  {
   "cell_type": "code",
   "execution_count": null,
   "id": "fe3d7489",
   "metadata": {},
   "outputs": [],
   "source": [
    "aaa=[]\n",
    "for i in range(0,x_train.shape[0]):\n",
    "    b=np.mean(decoded_test[i])/(10**5)\n",
    "    aaa.append(b)\n",
    "xx = np.linspace(0, 24, 25)\n",
    "plt.figure(figsize=(8, 8))\n",
    "plt.bar(xx, aaa)\n",
    "plt.figure(figsize=(8,8))    \n",
    "plt.bar(np.linspace(-10, 20, len(alpha)), aaa)\n",
    "    \n",
    "plt.xlabel('Angle of attack', fontsize=15)\n",
    "plt.ylabel('$L_2$ error norm', fontsize=15)\n",
    "plt.xticks(alpha_)\n",
    "plt.title('Distribution of $L_2$ error norm - training', fontsize=15)\n",
    "plt.grid()\n",
    "plt.tight_layout()\n",
    "plt.show()"
   ]
  },
  {
   "cell_type": "code",
   "execution_count": null,
   "id": "1c19a6f8",
   "metadata": {},
   "outputs": [],
   "source": [
    "a=[]\n",
    "aaa=[]\n",
    "for i in range(0,len(alpha_)):\n",
    "    b=np.where(aa_test==alpha_[i])[0]\n",
    "    for j in range(0, len(b)):\n",
    "        a.append(l2_error_test_list[b[j]])\n",
    "    aaa.append(np.mean(a))\n",
    "    bb.append(np.mean(a))\n",
    "    a=[]\n",
    "plt.bar(np.linspace(-10, 20, len(alpha_)), aaa)\n",
    "    \n",
    "plt.xlabel('Angle of attack', fontsize=15)\n",
    "plt.ylabel('$L_2$ error norm', fontsize=15)\n",
    "plt.xticks(alpha_)\n",
    "plt.title('Distribution of $L_2$ error norm - test', fontsize=15)\n",
    "plt.grid()\n",
    "plt.tight_layout()\n",
    "plt.show()\n",
    "\n",
    "#cax = plt.axes([0.95, 0.15, 0.05, 0.73])\n",
    "#cbar = plt.colorbar(ax, cax=cax)\n",
    "#cbar.set_label('Dimensionless vorticity', fontsize=15)\n",
    "#cbar.set_ticks([3, 4, 5, 6, 7, 8, 9, 10])\n",
    "\n",
    "#plt.suptitle('Original images (TSR = 1.5)',fontsize=60)\n",
    "plt.show()"
   ]
  },
  {
   "cell_type": "code",
   "execution_count": null,
   "id": "7ebd98bc",
   "metadata": {},
   "outputs": [],
   "source": []
  }
 ],
 "metadata": {
  "kernelspec": {
   "display_name": "Python 3 (ipykernel)",
   "language": "python",
   "name": "python3"
  },
  "language_info": {
   "codemirror_mode": {
    "name": "ipython",
    "version": 3
   },
   "file_extension": ".py",
   "mimetype": "text/x-python",
   "name": "python",
   "nbconvert_exporter": "python",
   "pygments_lexer": "ipython3",
   "version": "3.9.13"
  }
 },
 "nbformat": 4,
 "nbformat_minor": 5
}
