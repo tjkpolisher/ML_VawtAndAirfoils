{
 "cells": [
  {
   "cell_type": "code",
   "execution_count": 3,
   "id": "b50cb0bb",
   "metadata": {},
   "outputs": [],
   "source": [
    "import os, sys\n",
    "from os import path\n",
    "import numpy as np\n",
    "import shutil\n",
    "from distutils.dir_util import copy_tree"
   ]
  },
  {
   "cell_type": "code",
   "execution_count": 7,
   "id": "d7ff9c3e",
   "metadata": {},
   "outputs": [],
   "source": [
    "import os, sys\n",
    "from os import path\n",
    "import numpy as np\n",
    "import shutil\n",
    "from distutils.dir_util import copy_tree"
   ]
  },
  {
   "cell_type": "markdown",
   "id": "d9e09e99",
   "metadata": {},
   "source": [
    "### 파일 복사하기\n",
    "```Python\n",
    "shutil.copyfile(\"./test1/test1.txt\", \"./test2.txt\")\n",
    "shutil.copy(\"./test1/test1.txt\", \"./test3.txt\")\n",
    "shutil.copy2(\"./test1/test1.txt\", \"./test4.txt\")\n",
    "```\n",
    "1. copyfile과 copy는 메타정보는 복사되지 않습니다.  \n",
    "2. copy2는 메타정보도 복사합니다. 즉, copy2를 사용하면 파일을 작성한 날짜도 복사되지만 copyfile과 copy는 파일을 작성한 날짜가 복사한 날짜로 변경됩니다.  \n",
    "3. 사용 방법\n",
    "```Python\n",
    "shutil.copy(\"원래 파일 경로\", \"복사할 폴더 경로\")\n",
    "```"
   ]
  },
  {
   "cell_type": "markdown",
   "id": "a9a38c2b",
   "metadata": {},
   "source": [
    "### 폴더 복사하기\n",
    "1. 폴더를 새로 생성하면서 복사할 경우\n",
    "```Python\n",
    "import shutil\n",
    "shutil.copytree(\"./test1\", \"./test2\")\n",
    "```\n",
    "\n",
    "2. 이미 존재하는 폴더에 복사를 하고 싶은 경우  \n",
    "```Python\n",
    "from distutils.dir_util import copy_tree\n",
    "copy_tree(\"./test1\", \"./test2\")\n",
    "```"
   ]
  },
  {
   "cell_type": "code",
   "execution_count": null,
   "id": "59aad053",
   "metadata": {},
   "outputs": [],
   "source": [
    "os.chdir(\"C:\\\\\")"
   ]
  },
  {
   "cell_type": "code",
   "execution_count": 9,
   "id": "9ef7e0ca",
   "metadata": {},
   "outputs": [
    {
     "data": {
      "text/plain": [
       "'naca0018'"
      ]
     },
     "execution_count": 9,
     "metadata": {},
     "output_type": "execute_result"
    }
   ],
   "source": [
    "name_ = \"NACA0018\"\n",
    "name_.lower()"
   ]
  },
  {
   "cell_type": "code",
   "execution_count": null,
   "id": "64f8382e",
   "metadata": {},
   "outputs": [],
   "source": [
    "#os.chdir()\n",
    "if not path.isdir(\"CopiedFiles\"):\n",
    "    os.makedirs(\"CopiedFiles\")\n",
    "\n",
    "origin = \"C:\\\\Users\\\\User\\\\FluentSimulation\"\n",
    "origin_data = \"C:\\\\Users\\\\User\\\\FluentSimulation\\\\Airfoils\"\n",
    "origin_coord = \"C:\\\\Users\\\\User\\\\Documents\\\\airfoilCoordinates\"\n",
    "copy = \"C:\\\\CopiedFiles\"\n",
    "\n",
    "folders = os.listdir(origin)\n",
    "del folders.(folders.index('ogrid'))\n",
    "del folders.(folders.index('NACA0018_2'))\n",
    "\n",
    "airfoil_lists = np.zeros((len(folders), 2))\n",
    "\n",
    "\n",
    "counter = 1 # Numbering of the airfoils (initial value)\n",
    "\n",
    "for i in folders:\n",
    "    os.chdir(copy)\n",
    "    copy_folderAirfoilName = copy + \"\\\\airfoil\" + str(counter) # the name of the airfoil in current iteration\n",
    "    \n",
    "    if not path.isdir(copy_folderAirfoilName): # Making folder for each airfoils\n",
    "        os.makedirs(copy_folderAirfoilName)\n",
    "    \n",
    "    # Copying coordinate files of each airfoils\n",
    "    os.chdir(copy_folderAirfoilName)\n",
    "    if not path.exists(copy_ + \"\\\\\" + string.lower(str(i)) + \"coordinates.txt\"):\n",
    "        shutil.copy2(origin_coord + \"\\\\\" + string.lower(str(i)) + \"coordinates.txt\",\n",
    "                     copy_folderAirfoilName + \"\\\\\" + string.lower(str(i)) + \"coordinates.txt\")\n",
    "    \n",
    "    # Making folders for each angle of attack (total 16ea.)\n",
    "    for j in range(0, 16):\n",
    "        alpha = -10 + 2*j\n",
    "        os.makedirs(str(alpha))\n",
    "        \n",
    "        # Copying aerodynamic coefficients(Cl and Cd) of each airfoils\n",
    "        if j==0:\n",
    "            os.chdir(origin_data+\"\\\\\"+str(i)+\"\\\\\"+str(i)+\"_files\\\\dp0\\\\FFF\\\\Fluent\")\n",
    "        else:\n",
    "            os.chdir(origin_data+\"\\\\\"+str(i)+\"\\\\\"+str(i)+\"_files\\\\dp0\\\\FFF-\"+j+\"\\\\Fluent\")\n",
    "        \n",
    "        ## List of .out files in the current folder\n",
    "        file_list = os.listdir()\n",
    "        file_out_list = [file for file in file_list if file.endswith('.out')]\n",
    "        \n",
    "        Cd_file_name = copy_folderAirfoilName + \"\\\\\" + str(alpha) +\"Cd_\"+str(counter)+str(-10 + 2*j)+\".txt\"\n",
    "        Cl_file_name = copy_folderAirfoilName + \"\\\\\" + str(alpha) +\"Cl_\"+str(counter)+str(-10 + 2*j)+\".txt\"\n",
    "        \n",
    "        if len(file_out_list) > 2:\n",
    "            with open('report-def-0-rfile_1_1.out','r') as f1:\n",
    "                Cd = f1.readlines()[-1]\n",
    "            with open('report-def-1-rfile_1_1.out','r') as f2:\n",
    "                Cl = f2.readlines()[-1]\n",
    "            \n",
    "            Cd = Cd[4:].rstrip()\n",
    "            Cl = Cl[4:].rstrip()\n",
    "            f_Cd = open(Cd_file_name,\"w\")\n",
    "            \n",
    "            f_Cd.write(Cd)\n",
    "            f_Cd.close()\n",
    "            \n",
    "            f_Cl = open(Cl_file_name,\"w\")\n",
    "            f_Cl.write(Cl)\n",
    "            f_Cl.close()\n",
    "            \n",
    "        else:\n",
    "            with open('report-def-0-rfile.out','r') as f1:\n",
    "                Cd = f1.readlines()[-1]\n",
    "            with open('report-def-1-rfile.out','r') as f2:\n",
    "                Cl = f2.readlines()[-1]\n",
    "            \n",
    "            Cd = Cd[4:].rstrip()\n",
    "            Cl = Cl[4:].rstrip()\n",
    "            f_Cd = open(Cd_file_name,\"w\")\n",
    "            #일반적으로 쓰는 write\n",
    "            f_Cd.write(Cd)\n",
    "            f_Cd.close()\n",
    "            \n",
    "            f_Cl = open(Cl_file_name,\"w\")\n",
    "            f_Cl.write(Cl)\n",
    "            f_Cl.close()\n",
    "    \n",
    "    # Write in airfoil list\n",
    "    airfoil_lists(counter,0) = \"\\\\airfoil\" + str(counter) # airfoil numbering\n",
    "    airfoil_lists(counter,1) = str(i) # the name of the airfoil\n",
    "\n",
    "    counter += 1 "
   ]
  },
  {
   "cell_type": "code",
   "execution_count": null,
   "id": "ce90459a",
   "metadata": {},
   "outputs": [],
   "source": [
    "os.chdir(copy)\n",
    "np.savetxt('airfoilNumbering_1.csv', airfoil_lists, delimiter=\",\")"
   ]
  }
 ],
 "metadata": {
  "kernelspec": {
   "display_name": "Python 3 (ipykernel)",
   "language": "python",
   "name": "python3"
  },
  "language_info": {
   "codemirror_mode": {
    "name": "ipython",
    "version": 3
   },
   "file_extension": ".py",
   "mimetype": "text/x-python",
   "name": "python",
   "nbconvert_exporter": "python",
   "pygments_lexer": "ipython3",
   "version": "3.9.13"
  }
 },
 "nbformat": 4,
 "nbformat_minor": 5
}
