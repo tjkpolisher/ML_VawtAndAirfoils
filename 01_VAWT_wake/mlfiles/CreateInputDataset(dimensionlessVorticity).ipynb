{
 "cells": [
  {
   "cell_type": "code",
   "execution_count": 1,
   "id": "9675a9e8",
   "metadata": {},
   "outputs": [],
   "source": [
    "import os\n",
    "import sys\n",
    "import numpy as np\n",
    "import pandas as pd\n",
    "import tensorflow as tf\n",
    "import matplotlib.pyplot as plt\n",
    "from sklearn.model_selection import train_test_split\n",
    "%matplotlib inline"
   ]
  },
  {
   "cell_type": "code",
   "execution_count": 2,
   "id": "89e575e9",
   "metadata": {},
   "outputs": [],
   "source": [
    "#n_sensors = 3\n",
    "#n_sensors = 5\n",
    "#n_sensors = 10\n",
    "n_sensors = 15"
   ]
  },
  {
   "cell_type": "code",
   "execution_count": 3,
   "id": "944ac2e5",
   "metadata": {},
   "outputs": [],
   "source": [
    "os.chdir('C:\\\\Users\\\\User\\\\Downloads\\\\csv_modified\\\\csv_modified\\\\1.5')"
   ]
  },
  {
   "cell_type": "code",
   "execution_count": 4,
   "id": "da8177b8",
   "metadata": {},
   "outputs": [],
   "source": [
    "TSR15_3D_probe1 = pd.read_csv('probe1.csv')\n",
    "TSR15_3D_probe2 = pd.read_csv('probe2.csv', header=None)\n",
    "TSR15_3D_probe3 = pd.read_csv('probe3.csv', header=None)\n",
    "TSR15_3D_probe4 = pd.read_csv('probe4.csv', header=None)\n",
    "TSR15_3D_probe5 = pd.read_csv('probe5.csv', header=None)"
   ]
  },
  {
   "cell_type": "code",
   "execution_count": 5,
   "id": "f2148284",
   "metadata": {},
   "outputs": [],
   "source": [
    "os.chdir('C:\\\\Users\\\\User\\\\Downloads\\\\csv_modified\\\\csv_modified\\\\1.6')"
   ]
  },
  {
   "cell_type": "code",
   "execution_count": 6,
   "id": "9c0411e9",
   "metadata": {},
   "outputs": [],
   "source": [
    "TSR16_3D_probe1 = pd.read_csv('probe1.csv', header=None)\n",
    "TSR16_3D_probe2 = pd.read_csv('probe2.csv', header=None)\n",
    "TSR16_3D_probe3 = pd.read_csv('probe3.csv', header=None)\n",
    "TSR16_3D_probe4 = pd.read_csv('probe4.csv', header=None)\n",
    "TSR16_3D_probe5 = pd.read_csv('probe5.csv', header=None)"
   ]
  },
  {
   "cell_type": "code",
   "execution_count": 7,
   "id": "020e107e",
   "metadata": {},
   "outputs": [],
   "source": [
    "os.chdir('C:\\\\Users\\\\User\\\\Downloads\\\\csv_modified\\\\csv_modified\\\\1.7')"
   ]
  },
  {
   "cell_type": "code",
   "execution_count": 8,
   "id": "42d313f6",
   "metadata": {},
   "outputs": [],
   "source": [
    "TSR17_3D_probe1 = pd.read_csv('probe1.csv', header=None)\n",
    "TSR17_3D_probe2 = pd.read_csv('probe2.csv', header=None)\n",
    "TSR17_3D_probe3 = pd.read_csv('probe3.csv', header=None)\n",
    "TSR17_3D_probe4 = pd.read_csv('probe4.csv', header=None)\n",
    "TSR17_3D_probe5 = pd.read_csv('probe5.csv', header=None)"
   ]
  },
  {
   "cell_type": "code",
   "execution_count": 9,
   "id": "097fafa0",
   "metadata": {},
   "outputs": [],
   "source": [
    "os.chdir('C:\\\\Users\\\\User\\\\Downloads\\\\csv_modified\\\\csv_modified\\\\1.8')"
   ]
  },
  {
   "cell_type": "code",
   "execution_count": 10,
   "id": "e1ccc0b7",
   "metadata": {},
   "outputs": [],
   "source": [
    "TSR18_3D_probe1 = pd.read_csv('probe1.csv', header=None)\n",
    "TSR18_3D_probe2 = pd.read_csv('probe2.csv', header=None)\n",
    "TSR18_3D_probe3 = pd.read_csv('probe3.csv', header=None)\n",
    "TSR18_3D_probe4 = pd.read_csv('probe4.csv', header=None)\n",
    "TSR18_3D_probe5 = pd.read_csv('probe5.csv', header=None)"
   ]
  },
  {
   "cell_type": "code",
   "execution_count": 11,
   "id": "22dcfbf6",
   "metadata": {},
   "outputs": [],
   "source": [
    "os.chdir('C:\\\\Users\\\\User\\\\Downloads\\\\csv_modified\\\\csv_modified\\\\1.9')"
   ]
  },
  {
   "cell_type": "code",
   "execution_count": 12,
   "id": "15ab6481",
   "metadata": {},
   "outputs": [],
   "source": [
    "TSR19_3D_probe1 = pd.read_csv('probe1.csv', header=None)\n",
    "TSR19_3D_probe2 = pd.read_csv('probe2.csv', header=None)\n",
    "TSR19_3D_probe3 = pd.read_csv('probe3.csv', header=None)\n",
    "TSR19_3D_probe4 = pd.read_csv('probe4.csv', header=None)\n",
    "TSR19_3D_probe5 = pd.read_csv('probe5.csv', header=None)"
   ]
  },
  {
   "cell_type": "code",
   "execution_count": 13,
   "id": "ee944fb2",
   "metadata": {},
   "outputs": [],
   "source": [
    "os.chdir('C:\\\\Users\\\\User\\\\Downloads\\\\csv_modified\\\\csv_modified\\\\2')"
   ]
  },
  {
   "cell_type": "code",
   "execution_count": 14,
   "id": "48ba9359",
   "metadata": {},
   "outputs": [],
   "source": [
    "TSR20_3D_probe1 = pd.read_csv('probe1.csv', header=None)\n",
    "TSR20_3D_probe2 = pd.read_csv('probe2.csv', header=None)\n",
    "TSR20_3D_probe3 = pd.read_csv('probe3.csv', header=None)\n",
    "TSR20_3D_probe4 = pd.read_csv('probe4.csv', header=None)\n",
    "TSR20_3D_probe5 = pd.read_csv('probe5.csv', header=None)"
   ]
  },
  {
   "cell_type": "code",
   "execution_count": 15,
   "id": "7d34d81e",
   "metadata": {},
   "outputs": [],
   "source": [
    "os.chdir('C:\\\\Users\\\\User\\\\Downloads\\\\probe_2D\\\\probe_2D\\\\TSR1.5')"
   ]
  },
  {
   "cell_type": "code",
   "execution_count": 16,
   "id": "8c79e99a",
   "metadata": {},
   "outputs": [],
   "source": [
    "TSR15_2D_probe1 = pd.read_csv('probe1.csv', header=None)\n",
    "TSR15_2D_probe2 = pd.read_csv('probe2.csv', header=None)\n",
    "TSR15_2D_probe3 = pd.read_csv('probe3.csv', header=None)\n",
    "TSR15_2D_probe4 = pd.read_csv('probe4.csv', header=None)\n",
    "TSR15_2D_probe5 = pd.read_csv('probe5.csv', header=None)"
   ]
  },
  {
   "cell_type": "code",
   "execution_count": 17,
   "id": "1c427d18",
   "metadata": {},
   "outputs": [],
   "source": [
    "os.chdir('C:\\\\Users\\\\User\\\\Downloads\\\\probe_2D\\\\probe_2D\\\\TSR1.6')"
   ]
  },
  {
   "cell_type": "code",
   "execution_count": 18,
   "id": "018596c0",
   "metadata": {},
   "outputs": [],
   "source": [
    "TSR16_2D_probe1 = pd.read_csv('probe1.csv', header=None)\n",
    "TSR16_2D_probe2 = pd.read_csv('probe2.csv', header=None)\n",
    "TSR16_2D_probe3 = pd.read_csv('probe3.csv', header=None)\n",
    "TSR16_2D_probe4 = pd.read_csv('probe4.csv', header=None)\n",
    "TSR16_2D_probe5 = pd.read_csv('probe5.csv', header=None)"
   ]
  },
  {
   "cell_type": "code",
   "execution_count": 19,
   "id": "1a957dd6",
   "metadata": {},
   "outputs": [],
   "source": [
    "os.chdir('C:\\\\Users\\\\User\\\\Downloads\\\\probe_2D\\\\probe_2D\\\\TSR1.7')"
   ]
  },
  {
   "cell_type": "code",
   "execution_count": 20,
   "id": "8ec9e71b",
   "metadata": {},
   "outputs": [],
   "source": [
    "TSR17_2D_probe1 = pd.read_csv('probe1.csv', header=None)\n",
    "TSR17_2D_probe2 = pd.read_csv('probe2.csv', header=None)\n",
    "TSR17_2D_probe3 = pd.read_csv('probe3.csv', header=None)\n",
    "TSR17_2D_probe4 = pd.read_csv('probe4.csv', header=None)\n",
    "TSR17_2D_probe5 = pd.read_csv('probe5.csv', header=None)"
   ]
  },
  {
   "cell_type": "code",
   "execution_count": 21,
   "id": "c1412346",
   "metadata": {},
   "outputs": [],
   "source": [
    "os.chdir('C:\\\\Users\\\\User\\\\Downloads\\\\probe_2D\\\\probe_2D\\\\TSR1.8')"
   ]
  },
  {
   "cell_type": "code",
   "execution_count": 22,
   "id": "ff4d77df",
   "metadata": {},
   "outputs": [],
   "source": [
    "TSR18_2D_probe1 = pd.read_csv('probe1.csv', header=None)\n",
    "TSR18_2D_probe2 = pd.read_csv('probe2.csv', header=None)\n",
    "TSR18_2D_probe3 = pd.read_csv('probe3.csv', header=None)\n",
    "TSR18_2D_probe4 = pd.read_csv('probe4.csv', header=None)\n",
    "TSR18_2D_probe5 = pd.read_csv('probe5.csv', header=None)"
   ]
  },
  {
   "cell_type": "code",
   "execution_count": 23,
   "id": "b7dced7e",
   "metadata": {},
   "outputs": [],
   "source": [
    "os.chdir('C:\\\\Users\\\\User\\\\Downloads\\\\probe_2D\\\\probe_2D\\\\TSR1.9')"
   ]
  },
  {
   "cell_type": "code",
   "execution_count": 24,
   "id": "eca7ba5e",
   "metadata": {},
   "outputs": [],
   "source": [
    "TSR19_2D_probe1 = pd.read_csv('probe1.csv', header=None)\n",
    "TSR19_2D_probe2 = pd.read_csv('probe2.csv', header=None)\n",
    "TSR19_2D_probe3 = pd.read_csv('probe3.csv', header=None)\n",
    "TSR19_2D_probe4 = pd.read_csv('probe4.csv', header=None)\n",
    "TSR19_2D_probe5 = pd.read_csv('probe5.csv', header=None)"
   ]
  },
  {
   "cell_type": "code",
   "execution_count": 25,
   "id": "22a66fca",
   "metadata": {},
   "outputs": [],
   "source": [
    "os.chdir('C:\\\\Users\\\\User\\\\Downloads\\\\probe_2D\\\\probe_2D\\\\TSR2.0')"
   ]
  },
  {
   "cell_type": "code",
   "execution_count": 26,
   "id": "59133e62",
   "metadata": {},
   "outputs": [],
   "source": [
    "TSR20_2D_probe1 = pd.read_csv('probe1.csv', header=None)\n",
    "TSR20_2D_probe2 = pd.read_csv('probe2.csv', header=None)\n",
    "TSR20_2D_probe3 = pd.read_csv('probe3.csv', header=None)\n",
    "TSR20_2D_probe4 = pd.read_csv('probe4.csv', header=None)\n",
    "TSR20_2D_probe5 = pd.read_csv('probe5.csv', header=None)"
   ]
  },
  {
   "cell_type": "code",
   "execution_count": 27,
   "id": "d007bbd1",
   "metadata": {},
   "outputs": [],
   "source": [
    "os.chdir('C:\\\\Users\\\\User\\\\Downloads\\\\probe_2.5D\\\\probe_2.5D\\\\TSR1.5')"
   ]
  },
  {
   "cell_type": "code",
   "execution_count": 28,
   "id": "be39bb61",
   "metadata": {},
   "outputs": [],
   "source": [
    "TSR15_2_5D_probe1 = pd.read_csv('probe1.csv', header=None)\n",
    "TSR15_2_5D_probe2 = pd.read_csv('probe2.csv', header=None)\n",
    "TSR15_2_5D_probe3 = pd.read_csv('probe3.csv', header=None)\n",
    "TSR15_2_5D_probe4 = pd.read_csv('probe4.csv', header=None)\n",
    "TSR15_2_5D_probe5 = pd.read_csv('probe5.csv', header=None)"
   ]
  },
  {
   "cell_type": "code",
   "execution_count": 29,
   "id": "c5695b5f",
   "metadata": {},
   "outputs": [],
   "source": [
    "os.chdir('C:\\\\Users\\\\User\\\\Downloads\\\\probe_2.5D\\\\probe_2.5D\\\\TSR1.6')"
   ]
  },
  {
   "cell_type": "code",
   "execution_count": 30,
   "id": "2a6cdd3b",
   "metadata": {},
   "outputs": [],
   "source": [
    "TSR16_2_5D_probe1 = pd.read_csv('probe1.csv', header=None)\n",
    "TSR16_2_5D_probe2 = pd.read_csv('probe2.csv', header=None)\n",
    "TSR16_2_5D_probe3 = pd.read_csv('probe3.csv', header=None)\n",
    "TSR16_2_5D_probe4 = pd.read_csv('probe4.csv', header=None)\n",
    "TSR16_2_5D_probe5 = pd.read_csv('probe5.csv', header=None)"
   ]
  },
  {
   "cell_type": "code",
   "execution_count": 31,
   "id": "28fd1bf5",
   "metadata": {},
   "outputs": [],
   "source": [
    "os.chdir('C:\\\\Users\\\\User\\\\Downloads\\\\probe_2.5D\\\\probe_2.5D\\\\TSR1.7')"
   ]
  },
  {
   "cell_type": "code",
   "execution_count": 32,
   "id": "f771ef07",
   "metadata": {},
   "outputs": [],
   "source": [
    "TSR17_2_5D_probe1 = pd.read_csv('probe1.csv', header=None)\n",
    "TSR17_2_5D_probe2 = pd.read_csv('probe2.csv', header=None)\n",
    "TSR17_2_5D_probe3 = pd.read_csv('probe3.csv', header=None)\n",
    "TSR17_2_5D_probe4 = pd.read_csv('probe4.csv', header=None)\n",
    "TSR17_2_5D_probe5 = pd.read_csv('probe5.csv', header=None)"
   ]
  },
  {
   "cell_type": "code",
   "execution_count": 33,
   "id": "a58cc871",
   "metadata": {},
   "outputs": [],
   "source": [
    "os.chdir('C:\\\\Users\\\\User\\\\Downloads\\\\probe_2.5D\\\\probe_2.5D\\\\TSR1.8')"
   ]
  },
  {
   "cell_type": "code",
   "execution_count": 34,
   "id": "5593c17f",
   "metadata": {},
   "outputs": [],
   "source": [
    "TSR18_2_5D_probe1 = pd.read_csv('probe1.csv', header=None)\n",
    "TSR18_2_5D_probe2 = pd.read_csv('probe2.csv', header=None)\n",
    "TSR18_2_5D_probe3 = pd.read_csv('probe3.csv', header=None)\n",
    "TSR18_2_5D_probe4 = pd.read_csv('probe4.csv', header=None)\n",
    "TSR18_2_5D_probe5 = pd.read_csv('probe5.csv', header=None)"
   ]
  },
  {
   "cell_type": "code",
   "execution_count": 35,
   "id": "b3935979",
   "metadata": {},
   "outputs": [],
   "source": [
    "os.chdir('C:\\\\Users\\\\User\\\\Downloads\\\\probe_2.5D\\\\probe_2.5D\\\\TSR1.9')"
   ]
  },
  {
   "cell_type": "code",
   "execution_count": 36,
   "id": "54499bf4",
   "metadata": {},
   "outputs": [],
   "source": [
    "TSR19_2_5D_probe1 = pd.read_csv('probe1.csv', header=None)\n",
    "TSR19_2_5D_probe2 = pd.read_csv('probe2.csv', header=None)\n",
    "TSR19_2_5D_probe3 = pd.read_csv('probe3.csv', header=None)\n",
    "TSR19_2_5D_probe4 = pd.read_csv('probe4.csv', header=None)\n",
    "TSR19_2_5D_probe5 = pd.read_csv('probe5.csv', header=None)"
   ]
  },
  {
   "cell_type": "code",
   "execution_count": 37,
   "id": "6793ad09",
   "metadata": {},
   "outputs": [],
   "source": [
    "os.chdir('C:\\\\Users\\\\User\\\\Downloads\\\\probe_2.5D\\\\probe_2.5D\\\\TSR2')"
   ]
  },
  {
   "cell_type": "code",
   "execution_count": 38,
   "id": "ad9a45ee",
   "metadata": {},
   "outputs": [],
   "source": [
    "TSR20_2_5D_probe1 = pd.read_csv('probe1.csv', header=None)\n",
    "TSR20_2_5D_probe2 = pd.read_csv('probe2.csv', header=None)\n",
    "TSR20_2_5D_probe3 = pd.read_csv('probe3.csv', header=None)\n",
    "TSR20_2_5D_probe4 = pd.read_csv('probe4.csv', header=None)\n",
    "TSR20_2_5D_probe5 = pd.read_csv('probe5.csv', header=None)"
   ]
  },
  {
   "cell_type": "code",
   "execution_count": 39,
   "id": "cc96a1b5",
   "metadata": {},
   "outputs": [],
   "source": [
    "os.chdir('C:\\\\Users\\\\User')"
   ]
  },
  {
   "cell_type": "code",
   "execution_count": 40,
   "id": "d20b5722",
   "metadata": {},
   "outputs": [],
   "source": [
    "TSR15_2D_probe1 = TSR15_2D_probe1.to_numpy(dtype='float32')\n",
    "TSR15_2D_probe2 = TSR15_2D_probe2.to_numpy(dtype='float32')\n",
    "TSR15_2D_probe3 = TSR15_2D_probe3.to_numpy(dtype='float32')\n",
    "TSR15_2D_probe4 = TSR15_2D_probe4.to_numpy(dtype='float32')\n",
    "TSR15_2D_probe5 = TSR15_2D_probe5.to_numpy(dtype='float32')\n",
    "TSR16_2D_probe1 = TSR16_2D_probe1.to_numpy(dtype='float32')\n",
    "TSR16_2D_probe2 = TSR16_2D_probe2.to_numpy(dtype='float32')\n",
    "TSR16_2D_probe3 = TSR16_2D_probe3.to_numpy(dtype='float32')\n",
    "TSR16_2D_probe4 = TSR16_2D_probe4.to_numpy(dtype='float32')\n",
    "TSR16_2D_probe5 = TSR16_2D_probe5.to_numpy(dtype='float32')\n",
    "TSR17_2D_probe1 = TSR17_2D_probe1.to_numpy(dtype='float32')\n",
    "TSR17_2D_probe2 = TSR17_2D_probe2.to_numpy(dtype='float32')\n",
    "TSR17_2D_probe3 = TSR17_2D_probe3.to_numpy(dtype='float32')\n",
    "TSR17_2D_probe4 = TSR17_2D_probe4.to_numpy(dtype='float32')\n",
    "TSR17_2D_probe5 = TSR17_2D_probe5.to_numpy(dtype='float32')\n",
    "TSR18_2D_probe1 = TSR18_2D_probe1.to_numpy(dtype='float32')\n",
    "TSR18_2D_probe2 = TSR18_2D_probe2.to_numpy(dtype='float32')\n",
    "TSR18_2D_probe3 = TSR18_2D_probe3.to_numpy(dtype='float32')\n",
    "TSR18_2D_probe4 = TSR18_2D_probe4.to_numpy(dtype='float32')\n",
    "TSR18_2D_probe5 = TSR18_2D_probe5.to_numpy(dtype='float32')\n",
    "TSR19_2D_probe1 = TSR19_2D_probe1.to_numpy(dtype='float32')\n",
    "TSR19_2D_probe2 = TSR19_2D_probe2.to_numpy(dtype='float32')\n",
    "TSR19_2D_probe3 = TSR19_2D_probe3.to_numpy(dtype='float32')\n",
    "TSR19_2D_probe4 = TSR19_2D_probe4.to_numpy(dtype='float32')\n",
    "TSR19_2D_probe5 = TSR19_2D_probe5.to_numpy(dtype='float32')\n",
    "TSR20_2D_probe1 = TSR20_2D_probe1.to_numpy(dtype='float32')\n",
    "TSR20_2D_probe2 = TSR20_2D_probe2.to_numpy(dtype='float32')\n",
    "TSR20_2D_probe3 = TSR20_2D_probe3.to_numpy(dtype='float32')\n",
    "TSR20_2D_probe4 = TSR20_2D_probe4.to_numpy(dtype='float32')\n",
    "TSR20_2D_probe5 = TSR20_2D_probe5.to_numpy(dtype='float32')"
   ]
  },
  {
   "cell_type": "code",
   "execution_count": 41,
   "id": "293fdb97",
   "metadata": {},
   "outputs": [],
   "source": [
    "TSR15_2_5D_probe1 = TSR15_2_5D_probe1.to_numpy(dtype='float32')\n",
    "TSR15_2_5D_probe2 = TSR15_2_5D_probe2.to_numpy(dtype='float32')\n",
    "TSR15_2_5D_probe3 = TSR15_2_5D_probe3.to_numpy(dtype='float32')\n",
    "TSR15_2_5D_probe4 = TSR15_2_5D_probe4.to_numpy(dtype='float32')\n",
    "TSR15_2_5D_probe5 = TSR15_2_5D_probe5.to_numpy(dtype='float32')\n",
    "TSR16_2_5D_probe1 = TSR16_2_5D_probe1.to_numpy(dtype='float32')\n",
    "TSR16_2_5D_probe2 = TSR16_2_5D_probe2.to_numpy(dtype='float32')\n",
    "TSR16_2_5D_probe3 = TSR16_2_5D_probe3.to_numpy(dtype='float32')\n",
    "TSR16_2_5D_probe4 = TSR16_2_5D_probe4.to_numpy(dtype='float32')\n",
    "TSR16_2_5D_probe5 = TSR16_2_5D_probe5.to_numpy(dtype='float32')\n",
    "TSR17_2_5D_probe1 = TSR17_2_5D_probe1.to_numpy(dtype='float32')\n",
    "TSR17_2_5D_probe2 = TSR17_2_5D_probe2.to_numpy(dtype='float32')\n",
    "TSR17_2_5D_probe3 = TSR17_2_5D_probe3.to_numpy(dtype='float32')\n",
    "TSR17_2_5D_probe4 = TSR17_2_5D_probe4.to_numpy(dtype='float32')\n",
    "TSR17_2_5D_probe5 = TSR17_2_5D_probe5.to_numpy(dtype='float32')\n",
    "TSR18_2_5D_probe1 = TSR18_2_5D_probe1.to_numpy(dtype='float32')\n",
    "TSR18_2_5D_probe2 = TSR18_2_5D_probe2.to_numpy(dtype='float32')\n",
    "TSR18_2_5D_probe3 = TSR18_2_5D_probe3.to_numpy(dtype='float32')\n",
    "TSR18_2_5D_probe4 = TSR18_2_5D_probe4.to_numpy(dtype='float32')\n",
    "TSR18_2_5D_probe5 = TSR18_2_5D_probe5.to_numpy(dtype='float32')\n",
    "TSR19_2_5D_probe1 = TSR19_2_5D_probe1.to_numpy(dtype='float32')\n",
    "TSR19_2_5D_probe2 = TSR19_2_5D_probe2.to_numpy(dtype='float32')\n",
    "TSR19_2_5D_probe3 = TSR19_2_5D_probe3.to_numpy(dtype='float32')\n",
    "TSR19_2_5D_probe4 = TSR19_2_5D_probe4.to_numpy(dtype='float32')\n",
    "TSR19_2_5D_probe5 = TSR19_2_5D_probe5.to_numpy(dtype='float32')\n",
    "TSR20_2_5D_probe1 = TSR20_2_5D_probe1.to_numpy(dtype='float32')\n",
    "TSR20_2_5D_probe2 = TSR20_2_5D_probe2.to_numpy(dtype='float32')\n",
    "TSR20_2_5D_probe3 = TSR20_2_5D_probe3.to_numpy(dtype='float32')\n",
    "TSR20_2_5D_probe4 = TSR20_2_5D_probe4.to_numpy(dtype='float32')\n",
    "TSR20_2_5D_probe5 = TSR20_2_5D_probe5.to_numpy(dtype='float32')"
   ]
  },
  {
   "cell_type": "code",
   "execution_count": 42,
   "id": "6eb61c12",
   "metadata": {},
   "outputs": [],
   "source": [
    "TSR15_3D_probe1 = TSR15_3D_probe1.to_numpy(dtype='float32')\n",
    "TSR15_3D_probe2 = TSR15_3D_probe2.to_numpy(dtype='float32')\n",
    "TSR15_3D_probe3 = TSR15_3D_probe3.to_numpy(dtype='float32')\n",
    "TSR15_3D_probe4 = TSR15_3D_probe4.to_numpy(dtype='float32')\n",
    "TSR15_3D_probe5 = TSR15_3D_probe5.to_numpy(dtype='float32')\n",
    "TSR16_3D_probe1 = TSR16_3D_probe1.to_numpy(dtype='float32')\n",
    "TSR16_3D_probe2 = TSR16_3D_probe2.to_numpy(dtype='float32')\n",
    "TSR16_3D_probe3 = TSR16_3D_probe3.to_numpy(dtype='float32')\n",
    "TSR16_3D_probe4 = TSR16_3D_probe4.to_numpy(dtype='float32')\n",
    "TSR16_3D_probe5 = TSR16_3D_probe5.to_numpy(dtype='float32')\n",
    "TSR17_3D_probe1 = TSR17_3D_probe1.to_numpy(dtype='float32')\n",
    "TSR17_3D_probe2 = TSR17_3D_probe2.to_numpy(dtype='float32')\n",
    "TSR17_3D_probe3 = TSR17_3D_probe3.to_numpy(dtype='float32')\n",
    "TSR17_3D_probe4 = TSR17_3D_probe4.to_numpy(dtype='float32')\n",
    "TSR17_3D_probe5 = TSR17_3D_probe5.to_numpy(dtype='float32')\n",
    "TSR18_3D_probe1 = TSR18_3D_probe1.to_numpy(dtype='float32')\n",
    "TSR18_3D_probe2 = TSR18_3D_probe2.to_numpy(dtype='float32')\n",
    "TSR18_3D_probe3 = TSR18_3D_probe3.to_numpy(dtype='float32')\n",
    "TSR18_3D_probe4 = TSR18_3D_probe4.to_numpy(dtype='float32')\n",
    "TSR18_3D_probe5 = TSR18_3D_probe5.to_numpy(dtype='float32')\n",
    "TSR19_3D_probe1 = TSR19_3D_probe1.to_numpy(dtype='float32')\n",
    "TSR19_3D_probe2 = TSR19_3D_probe2.to_numpy(dtype='float32')\n",
    "TSR19_3D_probe3 = TSR19_3D_probe3.to_numpy(dtype='float32')\n",
    "TSR19_3D_probe4 = TSR19_3D_probe4.to_numpy(dtype='float32')\n",
    "TSR19_3D_probe5 = TSR19_3D_probe5.to_numpy(dtype='float32')\n",
    "TSR20_3D_probe1 = TSR20_3D_probe1.to_numpy(dtype='float32')\n",
    "TSR20_3D_probe2 = TSR20_3D_probe2.to_numpy(dtype='float32')\n",
    "TSR20_3D_probe3 = TSR20_3D_probe3.to_numpy(dtype='float32')\n",
    "TSR20_3D_probe4 = TSR20_3D_probe4.to_numpy(dtype='float32')\n",
    "TSR20_3D_probe5 = TSR20_3D_probe5.to_numpy(dtype='float32')"
   ]
  },
  {
   "cell_type": "code",
   "execution_count": 43,
   "id": "176cf50b",
   "metadata": {},
   "outputs": [],
   "source": [
    "x15_2D_probe1 = TSR15_2D_probe1[:, 4]\n",
    "x15_2D_probe2 = TSR15_2D_probe2[:, 4]\n",
    "x15_2D_probe3 = TSR15_2D_probe3[:, 4]\n",
    "x15_2D_probe4 = TSR15_2D_probe4[:, 4]\n",
    "x15_2D_probe5 = TSR15_2D_probe5[:, 4]\n",
    "x16_2D_probe1 = TSR16_2D_probe1[:, 4]\n",
    "x16_2D_probe2 = TSR16_2D_probe2[:, 4]\n",
    "x16_2D_probe3 = TSR16_2D_probe3[:, 4]\n",
    "x16_2D_probe4 = TSR16_2D_probe4[:, 4]\n",
    "x16_2D_probe5 = TSR16_2D_probe5[:, 4]\n",
    "x17_2D_probe1 = TSR17_2D_probe1[:, 4]\n",
    "x17_2D_probe2 = TSR17_2D_probe2[:, 4]\n",
    "x17_2D_probe3 = TSR17_2D_probe3[:, 4]\n",
    "x17_2D_probe4 = TSR17_2D_probe4[:, 4]\n",
    "x17_2D_probe5 = TSR17_2D_probe5[:, 4]\n",
    "x18_2D_probe1 = TSR18_2D_probe1[:, 4]\n",
    "x18_2D_probe2 = TSR18_2D_probe2[:, 4]\n",
    "x18_2D_probe3 = TSR18_2D_probe3[:, 4]\n",
    "x18_2D_probe4 = TSR18_2D_probe4[:, 4]\n",
    "x18_2D_probe5 = TSR18_2D_probe5[:, 4]\n",
    "x19_2D_probe1 = TSR19_2D_probe1[:, 4]\n",
    "x19_2D_probe2 = TSR19_2D_probe2[:, 4]\n",
    "x19_2D_probe3 = TSR19_2D_probe3[:, 4]\n",
    "x19_2D_probe4 = TSR19_2D_probe4[:, 4]\n",
    "x19_2D_probe5 = TSR19_2D_probe5[:, 4]\n",
    "x20_2D_probe1 = TSR20_2D_probe1[:, 4]\n",
    "x20_2D_probe2 = TSR20_2D_probe2[:, 4]\n",
    "x20_2D_probe3 = TSR20_2D_probe3[:, 4]\n",
    "x20_2D_probe4 = TSR20_2D_probe4[:, 4]\n",
    "x20_2D_probe5 = TSR20_2D_probe5[:, 4]"
   ]
  },
  {
   "cell_type": "code",
   "execution_count": 44,
   "id": "2fc150b4",
   "metadata": {},
   "outputs": [],
   "source": [
    "x15_2_5D_probe1 = TSR15_2_5D_probe1[:, 4]\n",
    "x15_2_5D_probe2 = TSR15_2_5D_probe2[:, 4]\n",
    "x15_2_5D_probe3 = TSR15_2_5D_probe3[:, 4]\n",
    "x15_2_5D_probe4 = TSR15_2_5D_probe4[:, 4]\n",
    "x15_2_5D_probe5 = TSR15_2_5D_probe5[:, 4]\n",
    "x16_2_5D_probe1 = TSR16_2_5D_probe1[:, 4]\n",
    "x16_2_5D_probe2 = TSR16_2_5D_probe2[:, 4]\n",
    "x16_2_5D_probe3 = TSR16_2_5D_probe3[:, 4]\n",
    "x16_2_5D_probe4 = TSR16_2_5D_probe4[:, 4]\n",
    "x16_2_5D_probe5 = TSR16_2_5D_probe5[:, 4]\n",
    "x17_2_5D_probe1 = TSR17_2_5D_probe1[:, 4]\n",
    "x17_2_5D_probe2 = TSR17_2_5D_probe2[:, 4]\n",
    "x17_2_5D_probe3 = TSR17_2_5D_probe3[:, 4]\n",
    "x17_2_5D_probe4 = TSR17_2_5D_probe4[:, 4]\n",
    "x17_2_5D_probe5 = TSR17_2_5D_probe5[:, 4]\n",
    "x18_2_5D_probe1 = TSR18_2_5D_probe1[:, 4]\n",
    "x18_2_5D_probe2 = TSR18_2_5D_probe2[:, 4]\n",
    "x18_2_5D_probe3 = TSR18_2_5D_probe3[:, 4]\n",
    "x18_2_5D_probe4 = TSR18_2_5D_probe4[:, 4]\n",
    "x18_2_5D_probe5 = TSR18_2_5D_probe5[:, 4]\n",
    "x19_2_5D_probe1 = TSR19_2_5D_probe1[:, 4]\n",
    "x19_2_5D_probe2 = TSR19_2_5D_probe2[:, 4]\n",
    "x19_2_5D_probe3 = TSR19_2_5D_probe3[:, 4]\n",
    "x19_2_5D_probe4 = TSR19_2_5D_probe4[:, 4]\n",
    "x19_2_5D_probe5 = TSR19_2_5D_probe5[:, 4]\n",
    "x20_2_5D_probe1 = TSR20_2_5D_probe1[:, 4]\n",
    "x20_2_5D_probe2 = TSR20_2_5D_probe2[:, 4]\n",
    "x20_2_5D_probe3 = TSR20_2_5D_probe3[:, 4]\n",
    "x20_2_5D_probe4 = TSR20_2_5D_probe4[:, 4]\n",
    "x20_2_5D_probe5 = TSR20_2_5D_probe5[:, 4]"
   ]
  },
  {
   "cell_type": "code",
   "execution_count": 45,
   "id": "229bc65c",
   "metadata": {},
   "outputs": [],
   "source": [
    "x15_3D_probe1 = TSR15_3D_probe1[:, 4]\n",
    "x15_3D_probe2 = TSR15_3D_probe2[:, 4]\n",
    "x15_3D_probe3 = TSR15_3D_probe3[:, 4]\n",
    "x15_3D_probe4 = TSR15_3D_probe4[:, 4]\n",
    "x15_3D_probe5 = TSR15_3D_probe5[:, 4]\n",
    "x16_3D_probe1 = TSR16_3D_probe1[:, 4]\n",
    "x16_3D_probe2 = TSR16_3D_probe2[:, 4]\n",
    "x16_3D_probe3 = TSR16_3D_probe3[:, 4]\n",
    "x16_3D_probe4 = TSR16_3D_probe4[:, 4]\n",
    "x16_3D_probe5 = TSR16_3D_probe5[:, 4]\n",
    "x17_3D_probe1 = TSR17_3D_probe1[:, 4]\n",
    "x17_3D_probe2 = TSR17_3D_probe2[:, 4]\n",
    "x17_3D_probe3 = TSR17_3D_probe3[:, 4]\n",
    "x17_3D_probe4 = TSR17_3D_probe4[:, 4]\n",
    "x17_3D_probe5 = TSR17_3D_probe5[:, 4]\n",
    "x18_3D_probe1 = TSR18_3D_probe1[:, 4]\n",
    "x18_3D_probe2 = TSR18_3D_probe2[:, 4]\n",
    "x18_3D_probe3 = TSR18_3D_probe3[:, 4]\n",
    "x18_3D_probe4 = TSR18_3D_probe4[:, 4]\n",
    "x18_3D_probe5 = TSR18_3D_probe5[:, 4]\n",
    "x19_3D_probe1 = TSR19_3D_probe1[:, 4]\n",
    "x19_3D_probe2 = TSR19_3D_probe2[:, 4]\n",
    "x19_3D_probe3 = TSR19_3D_probe3[:, 4]\n",
    "x19_3D_probe4 = TSR19_3D_probe4[:, 4]\n",
    "x19_3D_probe5 = TSR19_3D_probe5[:, 4]\n",
    "x20_3D_probe1 = TSR20_3D_probe1[:, 4]\n",
    "x20_3D_probe2 = TSR20_3D_probe2[:, 4]\n",
    "x20_3D_probe3 = TSR20_3D_probe3[:, 4]\n",
    "x20_3D_probe4 = TSR20_3D_probe4[:, 4]\n",
    "x20_3D_probe5 = TSR20_3D_probe5[:, 4]"
   ]
  },
  {
   "cell_type": "code",
   "execution_count": 46,
   "id": "268fdfd3",
   "metadata": {},
   "outputs": [],
   "source": [
    "x15_2D_probe1 = x15_2D_probe1.reshape((37, 1))\n",
    "x15_2D_probe2 = x15_2D_probe2.reshape((37, 1))\n",
    "x15_2D_probe3 = x15_2D_probe3.reshape((37, 1))\n",
    "x15_2D_probe4 = x15_2D_probe4.reshape((37, 1))\n",
    "x15_2D_probe5 = x15_2D_probe5.reshape((37, 1))\n",
    "x16_2D_probe1 = x16_2D_probe1.reshape((37, 1))\n",
    "x16_2D_probe2 = x16_2D_probe2.reshape((37, 1))\n",
    "x16_2D_probe3 = x16_2D_probe3.reshape((37, 1))\n",
    "x16_2D_probe4 = x16_2D_probe4.reshape((37, 1))\n",
    "x16_2D_probe5 = x16_2D_probe5.reshape((37, 1))\n",
    "x17_2D_probe1 = x17_2D_probe1.reshape((37, 1))\n",
    "x17_2D_probe2 = x17_2D_probe2.reshape((37, 1))\n",
    "x17_2D_probe3 = x17_2D_probe3.reshape((37, 1))\n",
    "x17_2D_probe4 = x17_2D_probe4.reshape((37, 1))\n",
    "x17_2D_probe5 = x17_2D_probe5.reshape((37, 1))\n",
    "x18_2D_probe1 = x18_2D_probe1.reshape((37, 1))\n",
    "x18_2D_probe2 = x18_2D_probe2.reshape((37, 1))\n",
    "x18_2D_probe3 = x18_2D_probe3.reshape((37, 1))\n",
    "x18_2D_probe4 = x18_2D_probe4.reshape((37, 1))\n",
    "x18_2D_probe5 = x18_2D_probe5.reshape((37, 1))\n",
    "x19_2D_probe1 = x19_2D_probe1.reshape((37, 1))\n",
    "x19_2D_probe2 = x19_2D_probe2.reshape((37, 1))\n",
    "x19_2D_probe3 = x19_2D_probe3.reshape((37, 1))\n",
    "x19_2D_probe4 = x19_2D_probe4.reshape((37, 1))\n",
    "x19_2D_probe5 = x19_2D_probe5.reshape((37, 1))\n",
    "x20_2D_probe1 = x20_2D_probe1.reshape((37, 1))\n",
    "x20_2D_probe2 = x20_2D_probe2.reshape((37, 1))\n",
    "x20_2D_probe3 = x20_2D_probe3.reshape((37, 1))\n",
    "x20_2D_probe4 = x20_2D_probe4.reshape((37, 1))\n",
    "x20_2D_probe5 = x20_2D_probe5.reshape((37, 1))"
   ]
  },
  {
   "cell_type": "code",
   "execution_count": 47,
   "id": "41aab3b0",
   "metadata": {},
   "outputs": [],
   "source": [
    "x15_2_5D_probe1 = x15_2_5D_probe1.reshape((37, 1))\n",
    "x15_2_5D_probe2 = x15_2_5D_probe2.reshape((37, 1))\n",
    "x15_2_5D_probe3 = x15_2_5D_probe3.reshape((37, 1))\n",
    "x15_2_5D_probe4 = x15_2_5D_probe4.reshape((37, 1))\n",
    "x15_2_5D_probe5 = x15_2_5D_probe5.reshape((37, 1))\n",
    "x16_2_5D_probe1 = x16_2_5D_probe1.reshape((37, 1))\n",
    "x16_2_5D_probe2 = x16_2_5D_probe2.reshape((37, 1))\n",
    "x16_2_5D_probe3 = x16_2_5D_probe3.reshape((37, 1))\n",
    "x16_2_5D_probe4 = x16_2_5D_probe4.reshape((37, 1))\n",
    "x16_2_5D_probe5 = x16_2_5D_probe5.reshape((37, 1))\n",
    "x17_2_5D_probe1 = x17_2_5D_probe1.reshape((37, 1))\n",
    "x17_2_5D_probe2 = x17_2_5D_probe2.reshape((37, 1))\n",
    "x17_2_5D_probe3 = x17_2_5D_probe3.reshape((37, 1))\n",
    "x17_2_5D_probe4 = x17_2_5D_probe4.reshape((37, 1))\n",
    "x17_2_5D_probe5 = x17_2_5D_probe5.reshape((37, 1))\n",
    "x18_2_5D_probe1 = x18_2_5D_probe1.reshape((37, 1))\n",
    "x18_2_5D_probe2 = x18_2_5D_probe2.reshape((37, 1))\n",
    "x18_2_5D_probe3 = x18_2_5D_probe3.reshape((37, 1))\n",
    "x18_2_5D_probe4 = x18_2_5D_probe4.reshape((37, 1))\n",
    "x18_2_5D_probe5 = x18_2_5D_probe5.reshape((37, 1))\n",
    "x19_2_5D_probe1 = x19_2_5D_probe1.reshape((37, 1))\n",
    "x19_2_5D_probe2 = x19_2_5D_probe2.reshape((37, 1))\n",
    "x19_2_5D_probe3 = x19_2_5D_probe3.reshape((37, 1))\n",
    "x19_2_5D_probe4 = x19_2_5D_probe4.reshape((37, 1))\n",
    "x19_2_5D_probe5 = x19_2_5D_probe5.reshape((37, 1))\n",
    "x20_2_5D_probe1 = x20_2_5D_probe1.reshape((37, 1))\n",
    "x20_2_5D_probe2 = x20_2_5D_probe2.reshape((37, 1))\n",
    "x20_2_5D_probe3 = x20_2_5D_probe3.reshape((37, 1))\n",
    "x20_2_5D_probe4 = x20_2_5D_probe4.reshape((37, 1))\n",
    "x20_2_5D_probe5 = x20_2_5D_probe5.reshape((37, 1))"
   ]
  },
  {
   "cell_type": "code",
   "execution_count": 48,
   "id": "cddfe4d5",
   "metadata": {},
   "outputs": [],
   "source": [
    "x15_3D_probe1 = x15_3D_probe1.reshape((37, 1))\n",
    "x15_3D_probe2 = x15_3D_probe2.reshape((37, 1))\n",
    "x15_3D_probe3 = x15_3D_probe3.reshape((37, 1))\n",
    "x15_3D_probe4 = x15_3D_probe4.reshape((37, 1))\n",
    "x15_3D_probe5 = x15_3D_probe5.reshape((37, 1))\n",
    "x16_3D_probe1 = x16_3D_probe1.reshape((37, 1))\n",
    "x16_3D_probe2 = x16_3D_probe2.reshape((37, 1))\n",
    "x16_3D_probe3 = x16_3D_probe3.reshape((37, 1))\n",
    "x16_3D_probe4 = x16_3D_probe4.reshape((37, 1))\n",
    "x16_3D_probe5 = x16_3D_probe5.reshape((37, 1))\n",
    "x17_3D_probe1 = x17_3D_probe1.reshape((37, 1))\n",
    "x17_3D_probe2 = x17_3D_probe2.reshape((37, 1))\n",
    "x17_3D_probe3 = x17_3D_probe3.reshape((37, 1))\n",
    "x17_3D_probe4 = x17_3D_probe4.reshape((37, 1))\n",
    "x17_3D_probe5 = x17_3D_probe5.reshape((37, 1))\n",
    "x18_3D_probe1 = x18_3D_probe1.reshape((37, 1))\n",
    "x18_3D_probe2 = x18_3D_probe2.reshape((37, 1))\n",
    "x18_3D_probe3 = x18_3D_probe3.reshape((37, 1))\n",
    "x18_3D_probe4 = x18_3D_probe4.reshape((37, 1))\n",
    "x18_3D_probe5 = x18_3D_probe5.reshape((37, 1))\n",
    "x19_3D_probe1 = x19_3D_probe1.reshape((37, 1))\n",
    "x19_3D_probe2 = x19_3D_probe2.reshape((37, 1))\n",
    "x19_3D_probe3 = x19_3D_probe3.reshape((37, 1))\n",
    "x19_3D_probe4 = x19_3D_probe4.reshape((37, 1))\n",
    "x19_3D_probe5 = x19_3D_probe5.reshape((37, 1))\n",
    "x20_3D_probe1 = x20_3D_probe1.reshape((37, 1))\n",
    "x20_3D_probe2 = x20_3D_probe2.reshape((37, 1))\n",
    "x20_3D_probe3 = x20_3D_probe3.reshape((37, 1))\n",
    "x20_3D_probe4 = x20_3D_probe4.reshape((37, 1))\n",
    "x20_3D_probe5 = x20_3D_probe5.reshape((37, 1))"
   ]
  },
  {
   "cell_type": "code",
   "execution_count": 49,
   "id": "4ccfe461",
   "metadata": {},
   "outputs": [
    {
     "name": "stdout",
     "output_type": "stream",
     "text": [
      "(37, 1)\n"
     ]
    }
   ],
   "source": [
    "print(x20_3D_probe5.shape)"
   ]
  },
  {
   "cell_type": "code",
   "execution_count": 50,
   "id": "9435ccd8",
   "metadata": {},
   "outputs": [],
   "source": [
    "x_train15 = np.hstack((x15_2D_probe1, x15_2D_probe2, x15_2D_probe3, x15_2D_probe4, x15_2D_probe5,\n",
    "                       x15_2_5D_probe1, x15_2_5D_probe2, x15_2_5D_probe3, x15_2_5D_probe4, x15_2_5D_probe5,\n",
    "                       x15_3D_probe1, x15_3D_probe2, x15_3D_probe3, x15_3D_probe4, x15_3D_probe5))\n",
    "x_train16 = np.hstack((x16_2D_probe1, x16_2D_probe2, x16_2D_probe3, x16_2D_probe4, x16_2D_probe5,\n",
    "                       x16_2_5D_probe1, x16_2_5D_probe2, x16_2_5D_probe3, x16_2_5D_probe4, x16_2_5D_probe5,\n",
    "                       x16_3D_probe1, x16_3D_probe2, x16_3D_probe3, x16_3D_probe4, x16_3D_probe5))\n",
    "x_train17 = np.hstack((x17_2D_probe1, x17_2D_probe2, x17_2D_probe3, x17_2D_probe4, x17_2D_probe5,\n",
    "                       x17_2_5D_probe1, x17_2_5D_probe2, x17_2_5D_probe3, x17_2_5D_probe4, x17_2_5D_probe5,\n",
    "                       x17_3D_probe1, x17_3D_probe2, x17_3D_probe3, x17_3D_probe4, x17_3D_probe5))\n",
    "x_train18 = np.hstack((x18_2D_probe1, x18_2D_probe2, x18_2D_probe3, x18_2D_probe4, x18_2D_probe5,\n",
    "                       x18_2_5D_probe1, x18_2_5D_probe2, x18_2_5D_probe3, x18_2_5D_probe4, x18_2_5D_probe5,\n",
    "                       x18_3D_probe1, x18_3D_probe2, x18_3D_probe3, x18_3D_probe4, x18_3D_probe5))\n",
    "x_train19 = np.hstack((x19_2D_probe1, x19_2D_probe2, x19_2D_probe3, x19_2D_probe4, x19_2D_probe5,\n",
    "                       x19_2_5D_probe1, x19_2_5D_probe2, x19_2_5D_probe3, x19_2_5D_probe4, x19_2_5D_probe5,\n",
    "                       x19_3D_probe1, x19_3D_probe2, x19_3D_probe3, x19_3D_probe4, x19_3D_probe5))\n",
    "x_train20 = np.hstack((x20_2D_probe1, x20_2D_probe2, x20_2D_probe3, x20_2D_probe4, x20_2D_probe5,\n",
    "                       x20_2_5D_probe1, x20_2_5D_probe2, x20_2_5D_probe3, x20_2_5D_probe4, x20_2_5D_probe5,\n",
    "                       x20_3D_probe1, x20_3D_probe2, x20_3D_probe3, x20_3D_probe4, x20_3D_probe5))"
   ]
  },
  {
   "cell_type": "code",
   "execution_count": 51,
   "id": "c70eb095",
   "metadata": {},
   "outputs": [],
   "source": [
    "x = np.vstack((x_train15, x_train16, x_train17, x_train18, x_train19, x_train20))"
   ]
  },
  {
   "cell_type": "code",
   "execution_count": 52,
   "id": "9754d1e9",
   "metadata": {},
   "outputs": [
    {
     "name": "stdout",
     "output_type": "stream",
     "text": [
      "(222, 15)\n"
     ]
    }
   ],
   "source": [
    "print(x.shape)"
   ]
  },
  {
   "cell_type": "code",
   "execution_count": 54,
   "id": "5095022a",
   "metadata": {},
   "outputs": [],
   "source": [
    "tsr = np.vstack((1.5*np.ones((37,1)), 1.6*np.ones((37,1)), 1.7*np.ones((37,1)), 1.8*np.ones((37,1)),\n",
    "                1.9*np.ones((37,1)), 2.0*np.ones((37,1))))\n",
    "theta_ = np.linspace(0, 360, 37)"
   ]
  },
  {
   "cell_type": "code",
   "execution_count": 55,
   "id": "5ceb7a72",
   "metadata": {},
   "outputs": [
    {
     "data": {
      "text/plain": [
       "array([  0.,  10.,  20.,  30.,  40.,  50.,  60.,  70.,  80.,  90., 100.,\n",
       "       110., 120., 130., 140., 150., 160., 170., 180., 190., 200., 210.,\n",
       "       220., 230., 240., 250., 260., 270., 280., 290., 300., 310., 320.,\n",
       "       330., 340., 350., 360.])"
      ]
     },
     "execution_count": 55,
     "metadata": {},
     "output_type": "execute_result"
    }
   ],
   "source": [
    "theta_"
   ]
  },
  {
   "cell_type": "code",
   "execution_count": 57,
   "id": "53310c17",
   "metadata": {},
   "outputs": [
    {
     "name": "stdout",
     "output_type": "stream",
     "text": [
      "(37,)\n"
     ]
    }
   ],
   "source": [
    "print(theta_.shape)"
   ]
  },
  {
   "cell_type": "code",
   "execution_count": 58,
   "id": "1f23caf7",
   "metadata": {},
   "outputs": [],
   "source": [
    "theta_ = theta_.reshape(37,1)"
   ]
  },
  {
   "cell_type": "code",
   "execution_count": 59,
   "id": "c86da2c2",
   "metadata": {},
   "outputs": [],
   "source": [
    "theta = np.vstack((theta_, theta_, theta_, theta_, theta_, theta_))"
   ]
  },
  {
   "cell_type": "code",
   "execution_count": 60,
   "id": "7b26f2a9",
   "metadata": {},
   "outputs": [
    {
     "data": {
      "text/plain": [
       "(222, 1)"
      ]
     },
     "execution_count": 60,
     "metadata": {},
     "output_type": "execute_result"
    }
   ],
   "source": [
    "theta.shape"
   ]
  },
  {
   "cell_type": "code",
   "execution_count": 63,
   "id": "a742d3e1",
   "metadata": {},
   "outputs": [],
   "source": [
    "x_vorticity = np.hstack((x, tsr, theta))"
   ]
  },
  {
   "cell_type": "code",
   "execution_count": 65,
   "id": "6ed6521e",
   "metadata": {},
   "outputs": [
    {
     "data": {
      "text/plain": [
       "(222, 17)"
      ]
     },
     "execution_count": 65,
     "metadata": {},
     "output_type": "execute_result"
    }
   ],
   "source": [
    "x_vorticity.shape"
   ]
  },
  {
   "cell_type": "code",
   "execution_count": 66,
   "id": "a332dcd6",
   "metadata": {},
   "outputs": [
    {
     "data": {
      "text/plain": [
       "array([[ 7.34954029e-02, -2.73848996e-02, -7.84026012e-02, ...,\n",
       "         1.30445004e-01,  1.50000000e+00,  0.00000000e+00],\n",
       "       [ 7.64622018e-02, -2.37041004e-02, -6.74424991e-02, ...,\n",
       "         1.77752003e-01,  1.50000000e+00,  1.00000000e+01],\n",
       "       [ 7.08499029e-02, -2.13527009e-02, -6.25433028e-02, ...,\n",
       "         1.99883997e-01,  1.50000000e+00,  2.00000000e+01],\n",
       "       ...,\n",
       "       [ 2.65753001e-01,  1.01126000e-01, -1.47718996e-01, ...,\n",
       "         1.49729997e-01,  2.00000000e+00,  3.40000000e+02],\n",
       "       [ 1.81556001e-01,  8.62653032e-02, -1.48622006e-01, ...,\n",
       "         1.61111996e-01,  2.00000000e+00,  3.50000000e+02],\n",
       "       [ 1.14137001e-01,  5.80408014e-02, -1.46559998e-01, ...,\n",
       "         1.67079002e-01,  2.00000000e+00,  3.60000000e+02]])"
      ]
     },
     "execution_count": 66,
     "metadata": {},
     "output_type": "execute_result"
    }
   ],
   "source": [
    "x_vorticity"
   ]
  },
  {
   "cell_type": "code",
   "execution_count": 67,
   "id": "12673e17",
   "metadata": {},
   "outputs": [],
   "source": [
    "np.savetxt('x_input(15_sensors).csv', x_vorticity, delimiter=\",\")"
   ]
  },
  {
   "cell_type": "code",
   "execution_count": null,
   "id": "72dcd308",
   "metadata": {},
   "outputs": [],
   "source": []
  }
 ],
 "metadata": {
  "kernelspec": {
   "display_name": "Python 3 (ipykernel)",
   "language": "python",
   "name": "python3"
  },
  "language_info": {
   "codemirror_mode": {
    "name": "ipython",
    "version": 3
   },
   "file_extension": ".py",
   "mimetype": "text/x-python",
   "name": "python",
   "nbconvert_exporter": "python",
   "pygments_lexer": "ipython3",
   "version": "3.9.13"
  }
 },
 "nbformat": 4,
 "nbformat_minor": 5
}
