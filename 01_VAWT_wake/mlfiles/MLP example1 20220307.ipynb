{
 "cells": [
  {
   "cell_type": "code",
   "execution_count": 12,
   "id": "8ef9ff6a",
   "metadata": {},
   "outputs": [],
   "source": [
    "import os\n",
    "import sys\n",
    "import numpy as np\n",
    "import pandas as pd\n",
    "import tensorflow as tf\n",
    "import matplotlib.pyplot as plt\n",
    "%matplotlib inline"
   ]
  },
  {
   "cell_type": "code",
   "execution_count": 35,
   "id": "edabd7a5",
   "metadata": {},
   "outputs": [],
   "source": [
    "n_sensors = 3\n",
    "#n_sensors = 5\n",
    "#n_sensors = 10\n",
    "#n_sensors = 15"
   ]
  },
  {
   "cell_type": "code",
   "execution_count": 7,
   "id": "5ecc9012",
   "metadata": {},
   "outputs": [],
   "source": [
    "from matplotlib.colors import LinearSegmentedColormap\n",
    "\n",
    "cm_data = [[0.2081, 0.1663, 0.5292], [0.2116238095, 0.1897809524, 0.5776761905], \n",
    " [0.212252381, 0.2137714286, 0.6269714286], [0.2081, 0.2386, 0.6770857143], \n",
    " [0.1959047619, 0.2644571429, 0.7279], [0.1707285714, 0.2919380952, \n",
    "  0.779247619], [0.1252714286, 0.3242428571, 0.8302714286], \n",
    " [0.0591333333, 0.3598333333, 0.8683333333], [0.0116952381, 0.3875095238, \n",
    "  0.8819571429], [0.0059571429, 0.4086142857, 0.8828428571], \n",
    " [0.0165142857, 0.4266, 0.8786333333], [0.032852381, 0.4430428571, \n",
    "  0.8719571429], [0.0498142857, 0.4585714286, 0.8640571429], \n",
    " [0.0629333333, 0.4736904762, 0.8554380952], [0.0722666667, 0.4886666667, \n",
    "  0.8467], [0.0779428571, 0.5039857143, 0.8383714286], \n",
    " [0.079347619, 0.5200238095, 0.8311809524], [0.0749428571, 0.5375428571, \n",
    "  0.8262714286], [0.0640571429, 0.5569857143, 0.8239571429], \n",
    " [0.0487714286, 0.5772238095, 0.8228285714], [0.0343428571, 0.5965809524, \n",
    "  0.819852381], [0.0265, 0.6137, 0.8135], [0.0238904762, 0.6286619048, \n",
    "  0.8037619048], [0.0230904762, 0.6417857143, 0.7912666667], \n",
    " [0.0227714286, 0.6534857143, 0.7767571429], [0.0266619048, 0.6641952381, \n",
    "  0.7607190476], [0.0383714286, 0.6742714286, 0.743552381], \n",
    " [0.0589714286, 0.6837571429, 0.7253857143], \n",
    " [0.0843, 0.6928333333, 0.7061666667], [0.1132952381, 0.7015, 0.6858571429], \n",
    " [0.1452714286, 0.7097571429, 0.6646285714], [0.1801333333, 0.7176571429, \n",
    "  0.6424333333], [0.2178285714, 0.7250428571, 0.6192619048], \n",
    " [0.2586428571, 0.7317142857, 0.5954285714], [0.3021714286, 0.7376047619, \n",
    "  0.5711857143], [0.3481666667, 0.7424333333, 0.5472666667], \n",
    " [0.3952571429, 0.7459, 0.5244428571], [0.4420095238, 0.7480809524, \n",
    "  0.5033142857], [0.4871238095, 0.7490619048, 0.4839761905], \n",
    " [0.5300285714, 0.7491142857, 0.4661142857], [0.5708571429, 0.7485190476, \n",
    "  0.4493904762], [0.609852381, 0.7473142857, 0.4336857143], \n",
    " [0.6473, 0.7456, 0.4188], [0.6834190476, 0.7434761905, 0.4044333333], \n",
    " [0.7184095238, 0.7411333333, 0.3904761905], \n",
    " [0.7524857143, 0.7384, 0.3768142857], [0.7858428571, 0.7355666667, \n",
    "  0.3632714286], [0.8185047619, 0.7327333333, 0.3497904762], \n",
    " [0.8506571429, 0.7299, 0.3360285714], [0.8824333333, 0.7274333333, 0.3217], \n",
    " [0.9139333333, 0.7257857143, 0.3062761905], [0.9449571429, 0.7261142857, \n",
    "  0.2886428571], [0.9738952381, 0.7313952381, 0.266647619], \n",
    " [0.9937714286, 0.7454571429, 0.240347619], [0.9990428571, 0.7653142857, \n",
    "  0.2164142857], [0.9955333333, 0.7860571429, 0.196652381], \n",
    " [0.988, 0.8066, 0.1793666667], [0.9788571429, 0.8271428571, 0.1633142857], \n",
    " [0.9697, 0.8481380952, 0.147452381], [0.9625857143, 0.8705142857, 0.1309], \n",
    " [0.9588714286, 0.8949, 0.1132428571], [0.9598238095, 0.9218333333, \n",
    "  0.0948380952], [0.9661, 0.9514428571, 0.0755333333], \n",
    " [0.9763, 0.9831, 0.0538]]\n",
    "\n",
    "parula_map = LinearSegmentedColormap.from_list('parula', cm_data)"
   ]
  },
  {
   "cell_type": "code",
   "execution_count": 44,
   "id": "22836b10",
   "metadata": {},
   "outputs": [
    {
     "data": {
      "text/plain": [
       "'C:\\\\Users\\\\User'"
      ]
     },
     "execution_count": 44,
     "metadata": {},
     "output_type": "execute_result"
    }
   ],
   "source": [
    "os.getcwd()"
   ]
  },
  {
   "cell_type": "code",
   "execution_count": 110,
   "id": "a9360130",
   "metadata": {},
   "outputs": [],
   "source": [
    "os.chdir('E:\\\\ANN_tsr')"
   ]
  },
  {
   "cell_type": "code",
   "execution_count": 111,
   "id": "dd367492",
   "metadata": {},
   "outputs": [
    {
     "data": {
      "text/plain": [
       "'E:\\\\ANN_tsr'"
      ]
     },
     "execution_count": 111,
     "metadata": {},
     "output_type": "execute_result"
    }
   ],
   "source": [
    "os.getcwd()"
   ]
  },
  {
   "cell_type": "code",
   "execution_count": 112,
   "id": "7aed58f4",
   "metadata": {},
   "outputs": [],
   "source": [
    "TSR15_probe1 = pd.read_csv('TSR1.5_probe1.csv')\n",
    "TSR15_probe3 = pd.read_csv('TSR1.5_probe3.csv')\n",
    "TSR15_probe5 = pd.read_csv('TSR1.5_probe5.csv')\n",
    "TSR16_probe1 = pd.read_csv('TSR1.6_probe1.csv')\n",
    "TSR16_probe3 = pd.read_csv('TSR1.6_probe3.csv')\n",
    "TSR16_probe5 = pd.read_csv('TSR1.6_probe5.csv')\n",
    "TSR17_probe1 = pd.read_csv('TSR1.7_probe1.csv')\n",
    "TSR17_probe3 = pd.read_csv('TSR1.7_probe3.csv')\n",
    "TSR17_probe5 = pd.read_csv('TSR1.7_probe5.csv')\n",
    "TSR18_probe1 = pd.read_csv('TSR1.8_probe1.csv')\n",
    "TSR18_probe3 = pd.read_csv('TSR1.8_probe3.csv')\n",
    "TSR18_probe5 = pd.read_csv('TSR1.8_probe5.csv')\n",
    "TSR19_probe1 = pd.read_csv('TSR1.9_probe1.csv')\n",
    "TSR19_probe3 = pd.read_csv('TSR1.9_probe3.csv')\n",
    "TSR19_probe5 = pd.read_csv('TSR1.9_probe5.csv')\n",
    "TSR20_probe1 = pd.read_csv('TSR2.0_probe1.csv')\n",
    "TSR20_probe3 = pd.read_csv('TSR2.0_probe3.csv')\n",
    "TSR20_probe5 = pd.read_csv('TSR2.0_probe5.csv')"
   ]
  },
  {
   "cell_type": "code",
   "execution_count": 113,
   "id": "7407c5f2",
   "metadata": {},
   "outputs": [],
   "source": [
    "TSR15_probe1 = TSR15_probe1.to_numpy(dtype='float32')\n",
    "TSR15_probe3 = TSR15_probe3.to_numpy(dtype='float32')\n",
    "TSR15_probe5 = TSR15_probe5.to_numpy(dtype='float32')\n",
    "TSR16_probe1 = TSR16_probe1.to_numpy(dtype='float32')\n",
    "TSR16_probe3 = TSR16_probe3.to_numpy(dtype='float32')\n",
    "TSR16_probe5 = TSR16_probe5.to_numpy(dtype='float32')\n",
    "TSR17_probe1 = TSR17_probe1.to_numpy(dtype='float32')\n",
    "TSR17_probe3 = TSR17_probe3.to_numpy(dtype='float32')\n",
    "TSR17_probe5 = TSR17_probe5.to_numpy(dtype='float32')\n",
    "TSR18_probe1 = TSR18_probe1.to_numpy(dtype='float32')\n",
    "TSR18_probe3 = TSR18_probe3.to_numpy(dtype='float32')\n",
    "TSR18_probe5 = TSR18_probe5.to_numpy(dtype='float32')\n",
    "TSR19_probe1 = TSR19_probe1.to_numpy(dtype='float32')\n",
    "TSR19_probe3 = TSR19_probe3.to_numpy(dtype='float32')\n",
    "TSR19_probe5 = TSR19_probe5.to_numpy(dtype='float32')\n",
    "TSR20_probe1 = TSR20_probe1.to_numpy(dtype='float32')\n",
    "TSR20_probe3 = TSR20_probe3.to_numpy(dtype='float32')\n",
    "TSR20_probe5 = TSR20_probe5.to_numpy(dtype='float32')"
   ]
  },
  {
   "cell_type": "code",
   "execution_count": 114,
   "id": "89c25dd6",
   "metadata": {
    "scrolled": true
   },
   "outputs": [
    {
     "data": {
      "text/plain": [
       "array([[ 0.00000e+00,  4.28136e+00,  2.81082e-01,  5.73969e-21,\n",
       "        -7.89064e+00,  1.33924e-01,  3.29577e-18, -5.97894e-18,\n",
       "         1.40480e+01,  1.00000e+00,  3.09000e+00,  0.00000e+00,\n",
       "         5.00000e-04],\n",
       "       [ 1.00000e+01,  4.20461e+00, -3.68360e-02,  5.82928e-21,\n",
       "        -7.19086e+00,  1.58080e-01,  3.68614e-18, -8.47447e-18,\n",
       "         1.65818e+01,  1.00000e+00,  3.09000e+00,  0.00000e+00,\n",
       "         5.00000e-04],\n",
       "       [ 2.00000e+01,  4.14535e+00, -4.15750e-01,  4.93501e-21,\n",
       "        -7.75499e+00,  1.86182e-01,  3.83724e-18, -1.04371e-17,\n",
       "         1.95295e+01,  1.00000e+00,  3.09000e+00,  0.00000e+00,\n",
       "         5.00000e-04],\n",
       "       [ 3.00000e+01,  4.09339e+00, -8.36639e-01,  4.79060e-21,\n",
       "        -6.85557e+00,  2.10739e-01,  3.58096e-18, -1.11491e-17,\n",
       "         2.21055e+01,  1.00000e+00,  3.09000e+00,  0.00000e+00,\n",
       "         5.00000e-04],\n",
       "       [ 4.00000e+01,  4.03812e+00, -1.26985e+00,  6.99479e-21,\n",
       "        -7.03229e+00,  2.23106e-01,  2.78443e-18, -1.06025e-17,\n",
       "         2.34027e+01,  1.00000e+00,  3.09000e+00,  0.00000e+00,\n",
       "         5.00000e-04],\n",
       "       [ 5.00000e+01,  3.97740e+00, -1.67216e+00,  4.32380e-21,\n",
       "        -5.55917e+00,  2.17064e-01,  1.51381e-18, -9.37487e-18,\n",
       "         2.27690e+01,  1.00000e+00,  3.09000e+00,  0.00000e+00,\n",
       "         5.00000e-04],\n",
       "       [ 6.00000e+01,  3.92263e+00, -1.99999e+00,  2.92841e-21,\n",
       "        -5.67366e+00,  1.91064e-01,  8.98658e-20, -7.85210e-18,\n",
       "         2.00417e+01,  1.00000e+00,  3.09000e+00,  0.00000e+00,\n",
       "         5.00000e-04],\n",
       "       [ 7.00000e+01,  3.88664e+00, -2.21362e+00,  3.40416e-21,\n",
       "        -4.84357e+00,  1.49954e-01, -1.16117e-18, -6.43474e-18,\n",
       "         1.57295e+01,  1.00000e+00,  3.09000e+00,  0.00000e+00,\n",
       "         5.00000e-04],\n",
       "       [ 8.00000e+01,  3.88243e+00, -2.29268e+00,  2.17734e-21,\n",
       "        -3.64891e+00,  1.00260e-01, -2.21428e-18, -5.29865e-18,\n",
       "         1.05168e+01,  1.00000e+00,  3.09000e+00,  0.00000e+00,\n",
       "         5.00000e-04],\n",
       "       [ 9.00000e+01,  3.91569e+00, -2.23658e+00,  1.53036e-21,\n",
       "        -2.85933e+00,  4.99114e-02, -3.06036e-18, -4.41645e-18,\n",
       "         5.23546e+00,  1.00000e+00,  3.09000e+00,  0.00000e+00,\n",
       "         5.00000e-04],\n",
       "       [ 1.00000e+02,  4.65213e+00,  1.03090e+00,  3.91692e-21,\n",
       "        -4.20928e+00,  2.91663e-01, -1.87449e-18, -2.54367e-17,\n",
       "         3.05940e+01,  1.00000e+00,  3.09000e+00,  0.00000e+00,\n",
       "         5.00000e-04],\n",
       "       [ 1.10000e+02,  3.98454e+00, -2.05497e+00,  1.04418e-21,\n",
       "        -2.13316e+00,  3.02901e-03, -3.65939e-18, -3.64594e-18,\n",
       "         3.17728e-01,  1.00000e+00,  3.09000e+00,  0.00000e+00,\n",
       "         5.00000e-04],\n",
       "       [ 1.20000e+02,  4.08437e+00, -1.76524e+00,  6.23746e-22,\n",
       "        -1.53569e+00, -3.81808e-02, -3.93055e-18, -2.79059e-18,\n",
       "        -4.00498e+00,  1.00000e+00,  3.09000e+00,  0.00000e+00,\n",
       "         5.00000e-04],\n",
       "       [ 1.30000e+02,  4.20970e+00, -1.38277e+00,  6.83116e-22,\n",
       "        -1.59348e+00, -7.39984e-02, -3.74032e-18, -1.76683e-18,\n",
       "        -7.76207e+00,  1.00000e+00,  3.09000e+00,  0.00000e+00,\n",
       "         5.00000e-04],\n",
       "       [ 1.40000e+02,  4.35037e+00, -9.21593e-01, -3.78731e-22,\n",
       "        -8.24461e-02, -1.03158e-01, -3.14426e-18, -6.99636e-19,\n",
       "        -1.08208e+01,  1.00000e+00,  3.09000e+00,  0.00000e+00,\n",
       "         5.00000e-04],\n",
       "       [ 1.50000e+02,  4.49408e+00, -4.06880e-01, -4.87247e-22,\n",
       "         3.04285e-01, -1.23899e-01, -2.36556e-18,  2.83110e-19,\n",
       "        -1.29964e+01,  1.00000e+00,  3.09000e+00,  0.00000e+00,\n",
       "         5.00000e-04],\n",
       "       [ 1.60000e+02,  4.62177e+00,  1.24280e-01, -7.47930e-22,\n",
       "         6.71207e-01, -1.32591e-01, -1.63266e-18,  8.54020e-19,\n",
       "        -1.39081e+01,  1.00000e+00,  3.09000e+00,  0.00000e+00,\n",
       "         5.00000e-04],\n",
       "       [ 1.70000e+02,  4.71865e+00,  6.27245e-01, -1.20165e-21,\n",
       "         9.07107e-01, -1.27429e-01, -1.06901e-18,  8.60282e-19,\n",
       "        -1.33666e+01,  1.00000e+00,  3.09000e+00,  0.00000e+00,\n",
       "         5.00000e-04],\n",
       "       [ 1.80000e+02,  4.78173e+00,  1.05860e+00,  4.71833e-23,\n",
       "        -1.51920e-01, -1.07961e-01, -6.91140e-19,  2.31932e-19,\n",
       "        -1.13246e+01,  1.00000e+00,  3.09000e+00,  0.00000e+00,\n",
       "         5.00000e-04],\n",
       "       [ 1.90000e+02,  4.81581e+00,  1.38633e+00, -8.37956e-23,\n",
       "         1.15598e-01, -7.63064e-02, -5.73543e-19, -7.62670e-19,\n",
       "        -8.00417e+00,  1.00000e+00,  3.09000e+00,  0.00000e+00,\n",
       "         5.00000e-04],\n",
       "       [ 2.00000e+02,  4.83518e+00,  1.59537e+00,  1.24605e-22,\n",
       "         5.37832e-02, -3.59638e-02, -5.28736e-19, -2.04385e-18,\n",
       "        -3.77242e+00,  1.00000e+00,  3.09000e+00,  0.00000e+00,\n",
       "         5.00000e-04],\n",
       "       [ 2.10000e+02,  4.81533e+00,  9.96388e-01,  5.96139e-21,\n",
       "        -4.73790e+00,  2.69536e-01,  3.23548e-19, -2.07093e-17,\n",
       "         2.82730e+01,  1.00000e+00,  3.09000e+00,  0.00000e+00,\n",
       "         5.00000e-04],\n",
       "       [ 2.20000e+02,  4.84997e+00,  1.69055e+00,  6.02679e-22,\n",
       "        -3.42052e-01,  8.04306e-03, -4.30319e-19, -3.55401e-18,\n",
       "         8.43677e-01,  1.00000e+00,  3.09000e+00,  0.00000e+00,\n",
       "         5.00000e-04],\n",
       "       [ 2.30000e+02,  4.86667e+00,  1.68675e+00,  6.72533e-22,\n",
       "        -3.05348e-01,  4.98709e-02, -2.08239e-19, -4.83718e-18,\n",
       "         5.23122e+00,  1.00000e+00,  3.09000e+00,  0.00000e+00,\n",
       "         5.00000e-04],\n",
       "       [ 2.40000e+02,  4.88662e+00,  1.60333e+00,  9.49954e-22,\n",
       "        -6.17231e-01,  8.46251e-02,  3.20646e-19, -5.70420e-18,\n",
       "         8.87676e+00,  1.00000e+00,  3.09000e+00,  0.00000e+00,\n",
       "         5.00000e-04],\n",
       "       [ 2.50000e+02,  4.89907e+00,  1.46228e+00,  1.27173e-21,\n",
       "        -1.19495e+00,  1.08666e-01,  1.15451e-18, -5.87582e-18,\n",
       "         1.13986e+01,  1.00000e+00,  3.09000e+00,  0.00000e+00,\n",
       "         5.00000e-04],\n",
       "       [ 2.60000e+02,  4.89060e+00,  1.27910e+00,  1.76811e-21,\n",
       "        -1.91512e+00,  1.22049e-01,  2.14239e-18, -5.53744e-18,\n",
       "         1.28024e+01,  1.00000e+00,  3.09000e+00,  0.00000e+00,\n",
       "         5.00000e-04],\n",
       "       [ 2.70000e+02,  4.84819e+00,  1.06356e+00,  1.09672e-21,\n",
       "        -1.16963e+00,  1.27648e-01,  3.06540e-18, -5.12349e-18,\n",
       "         1.33897e+01,  1.00000e+00,  3.09000e+00,  0.00000e+00,\n",
       "         5.00000e-04],\n",
       "       [ 2.80000e+02,  4.77009e+00,  8.19084e-01,  1.34731e-21,\n",
       "        -1.67182e+00,  1.29616e-01,  3.76696e-18, -4.93707e-18,\n",
       "         1.35960e+01,  1.00000e+00,  3.09000e+00,  0.00000e+00,\n",
       "         5.00000e-04],\n",
       "       [ 2.90000e+02,  4.68489e+00,  5.98357e-01,  1.42704e-21,\n",
       "        -1.40903e+00,  1.30385e-01,  4.20573e-18, -5.06786e-18,\n",
       "         1.36768e+01,  1.00000e+00,  3.09000e+00,  0.00000e+00,\n",
       "         5.00000e-04],\n",
       "       [ 3.00000e+02,  4.90923e+00,  9.74679e-01,  6.15132e-21,\n",
       "        -5.11300e+00,  2.38622e-01,  2.03484e-18, -1.60603e-17,\n",
       "         2.50303e+01,  1.00000e+00,  3.09000e+00,  0.00000e+00,\n",
       "         5.00000e-04],\n",
       "       [ 3.10000e+02,  4.92973e+00,  9.61865e-01,  4.91628e-21,\n",
       "        -5.86299e+00,  2.04170e-01,  3.06992e-18, -1.18118e-17,\n",
       "         2.14164e+01,  1.00000e+00,  3.09000e+00,  0.00000e+00,\n",
       "         5.00000e-04],\n",
       "       [ 3.20000e+02,  4.88143e+00,  9.44513e-01,  5.52663e-21,\n",
       "        -6.31760e+00,  1.70741e-01,  3.37776e-18, -8.05450e-18,\n",
       "         1.79099e+01,  1.00000e+00,  3.09000e+00,  0.00000e+00,\n",
       "         5.00000e-04],\n",
       "       [ 3.30000e+02,  4.78015e+00,  9.07115e-01,  6.43423e-21,\n",
       "        -6.79222e+00,  1.42570e-01,  3.21365e-18, -5.04180e-18,\n",
       "         1.49549e+01,  1.00000e+00,  3.09000e+00,  0.00000e+00,\n",
       "         5.00000e-04],\n",
       "       [ 3.40000e+02,  4.64749e+00,  8.35220e-01,  5.97959e-21,\n",
       "        -6.97721e+00,  1.23167e-01,  2.89251e-18, -3.21155e-18,\n",
       "         1.29196e+01,  1.00000e+00,  3.09000e+00,  0.00000e+00,\n",
       "         5.00000e-04],\n",
       "       [ 3.50000e+02,  4.50874e+00,  7.13742e-01,  6.41490e-21,\n",
       "        -7.44826e+00,  1.14819e-01,  2.77694e-18, -2.81677e-18,\n",
       "         1.20440e+01,  1.00000e+00,  3.09000e+00,  0.00000e+00,\n",
       "         5.00000e-04],\n",
       "       [ 3.60000e+02,  4.38331e+00,  5.31098e-01,  6.16104e-21,\n",
       "        -7.75320e+00,  1.18695e-01,  2.95488e-18, -3.88309e-18,\n",
       "         1.24505e+01,  1.00000e+00,  3.09000e+00,  0.00000e+00,\n",
       "         5.00000e-04]], dtype=float32)"
      ]
     },
     "execution_count": 114,
     "metadata": {},
     "output_type": "execute_result"
    }
   ],
   "source": [
    "TSR17_probe1"
   ]
  },
  {
   "cell_type": "code",
   "execution_count": 115,
   "id": "846b8b14",
   "metadata": {},
   "outputs": [],
   "source": [
    "x15_probe1 = TSR15_probe1[:, 5]\n",
    "x15_probe3 = TSR15_probe3[:, 5]\n",
    "x15_probe5 = TSR15_probe5[:, 5]\n",
    "x16_probe1 = TSR16_probe1[:, 5]\n",
    "x16_probe3 = TSR16_probe3[:, 5]\n",
    "x16_probe5 = TSR16_probe5[:, 5]\n",
    "x17_probe1 = TSR17_probe1[:, 5]\n",
    "x17_probe3 = TSR17_probe3[:, 5]\n",
    "x17_probe5 = TSR17_probe5[:, 5]\n",
    "x18_probe1 = TSR18_probe1[:, 5]\n",
    "x18_probe3 = TSR18_probe3[:, 5]\n",
    "x18_probe5 = TSR18_probe5[:, 5]\n",
    "x19_probe1 = TSR19_probe1[:, 5]\n",
    "x19_probe3 = TSR19_probe3[:, 5]\n",
    "x19_probe5 = TSR19_probe5[:, 5]\n",
    "x20_probe1 = TSR20_probe1[:, 5]\n",
    "x20_probe3 = TSR20_probe3[:, 5]\n",
    "x20_probe5 = TSR20_probe5[:, 5]"
   ]
  },
  {
   "cell_type": "code",
   "execution_count": 117,
   "id": "663ec108",
   "metadata": {},
   "outputs": [],
   "source": [
    "x15_probe1 = x15_probe1.reshape((37, 1))\n",
    "x15_probe3 = x15_probe3.reshape((37, 1))\n",
    "x15_probe5 = x15_probe5.reshape((37, 1))\n",
    "x16_probe1 = x16_probe1.reshape((37, 1))\n",
    "x16_probe3 = x16_probe3.reshape((37, 1))\n",
    "x16_probe5 = x16_probe5.reshape((37, 1))\n",
    "x17_probe1 = x17_probe1.reshape((37, 1))\n",
    "x17_probe3 = x17_probe3.reshape((37, 1))\n",
    "x17_probe5 = x17_probe5.reshape((37, 1))\n",
    "x18_probe1 = x18_probe1.reshape((37, 1))\n",
    "x18_probe3 = x18_probe3.reshape((37, 1))\n",
    "x18_probe5 = x18_probe5.reshape((37, 1))\n",
    "x19_probe1 = x19_probe1.reshape((37, 1))\n",
    "x19_probe3 = x19_probe3.reshape((37, 1))\n",
    "x19_probe5 = x19_probe5.reshape((37, 1))\n",
    "x20_probe1 = x20_probe1.reshape((37, 1))\n",
    "x20_probe3 = x20_probe3.reshape((37, 1))\n",
    "x20_probe5 = x20_probe5.reshape((37, 1))"
   ]
  },
  {
   "cell_type": "code",
   "execution_count": 118,
   "id": "66732d7a",
   "metadata": {},
   "outputs": [
    {
     "name": "stdout",
     "output_type": "stream",
     "text": [
      "(37, 1)\n"
     ]
    }
   ],
   "source": [
    "print(x20_probe3.shape)"
   ]
  },
  {
   "cell_type": "code",
   "execution_count": 119,
   "id": "07a81eb4",
   "metadata": {},
   "outputs": [],
   "source": [
    "x_train15 = np.hstack((x15_probe1, x15_probe3, x15_probe5))\n",
    "x_train16 = np.hstack((x16_probe1, x16_probe3, x16_probe5))\n",
    "x_train17 = np.hstack((x17_probe1, x17_probe3, x17_probe5))\n",
    "x_train18 = np.hstack((x18_probe1, x18_probe3, x18_probe5))\n",
    "x_train19 = np.hstack((x19_probe1, x19_probe3, x19_probe5))\n",
    "x_train20 = np.hstack((x20_probe1, x20_probe3, x20_probe5))"
   ]
  },
  {
   "cell_type": "code",
   "execution_count": 120,
   "id": "d0bbade1",
   "metadata": {},
   "outputs": [],
   "source": [
    "x_train = np.vstack((x_train15, x_train16, x_train17, x_train18, x_train19, x_train20))"
   ]
  },
  {
   "cell_type": "code",
   "execution_count": 121,
   "id": "85c5be80",
   "metadata": {
    "scrolled": true
   },
   "outputs": [
    {
     "name": "stdout",
     "output_type": "stream",
     "text": [
      "(222, 3)\n"
     ]
    }
   ],
   "source": [
    "print(x_train.shape)"
   ]
  },
  {
   "cell_type": "code",
   "execution_count": 123,
   "id": "83467959",
   "metadata": {},
   "outputs": [],
   "source": [
    "x_train = x_train.reshape(222, 3, 1)"
   ]
  },
  {
   "cell_type": "code",
   "execution_count": 129,
   "id": "b2335679",
   "metadata": {},
   "outputs": [
    {
     "name": "stdout",
     "output_type": "stream",
     "text": [
      "(222, 3, 1)\n"
     ]
    }
   ],
   "source": [
    "print(x_train.shape)"
   ]
  },
  {
   "cell_type": "code",
   "execution_count": 125,
   "id": "6b3fc4b0",
   "metadata": {},
   "outputs": [],
   "source": [
    "os.chdir('C:\\\\Users\\\\User')"
   ]
  },
  {
   "cell_type": "code",
   "execution_count": 130,
   "id": "a0c859ab",
   "metadata": {},
   "outputs": [],
   "source": [
    "'''model = tf.keras.models.Sequential([tf.keras.layers.Dense(input_shape=(n_sensors,), units=5, activation='relu', name='inputLayer'),\n",
    "                                    tf.keras.layers.Dense(units=35, activation='relu', name='firstHiddenLayer'),\n",
    "                                    tf.keras.layers.BatchNormalization(),\n",
    "                                    tf.keras.layers.Dense(units=40, activation='relu', name='secondHiddenLayer'),\n",
    "                                    tf.keras.layers.BatchNormalization(),\n",
    "                                    tf.keras.layers.Dense(units=10000, activation=None, name='outputLayer')\n",
    "])\n",
    "'''\n",
    "# Noise가 첨가되지 않은 데이터이므로 dropout 층은 생략\n",
    "input_data = tf.keras.Input(shape=(n_sensors, 1))\n",
    "reshape = tf.keras.layers.Reshape((n_sensors,))(input_data)\n",
    "\n",
    "x = tf.keras.layers.Dense(units=35, activation='relu', name='firstHiddenLayer')(reshape)\n",
    "x = tf.keras.layers.BatchNormalization()(x)\n",
    "x = tf.keras.layers.Dense(units=40, activation='relu', name='secondHiddenLayer')(x)\n",
    "x = tf.keras.layers.BatchNormalization()(x)\n",
    "output_data = tf.keras.layers.Dense(units=10000, activation=None, name='outputLayer')(x)\n",
    "output_img = tf.keras.layers.Reshape((100,100))(output_data)\n",
    "# Shallow Decoder (SD)\n",
    "sd = tf.keras.Model(input_data, output_img)"
   ]
  },
  {
   "cell_type": "code",
   "execution_count": 131,
   "id": "6061294b",
   "metadata": {
    "scrolled": false
   },
   "outputs": [
    {
     "name": "stdout",
     "output_type": "stream",
     "text": [
      "Model: \"model_6\"\n",
      "_________________________________________________________________\n",
      " Layer (type)                Output Shape              Param #   \n",
      "=================================================================\n",
      " input_9 (InputLayer)        [(None, 3, 1)]            0         \n",
      "                                                                 \n",
      " reshape_2 (Reshape)         (None, 3)                 0         \n",
      "                                                                 \n",
      " firstHiddenLayer (Dense)    (None, 35)                140       \n",
      "                                                                 \n",
      " batch_normalization_12 (Bat  (None, 35)               140       \n",
      " chNormalization)                                                \n",
      "                                                                 \n",
      " secondHiddenLayer (Dense)   (None, 40)                1440      \n",
      "                                                                 \n",
      " batch_normalization_13 (Bat  (None, 40)               160       \n",
      " chNormalization)                                                \n",
      "                                                                 \n",
      " outputLayer (Dense)         (None, 10000)             410000    \n",
      "                                                                 \n",
      " reshape_3 (Reshape)         (None, 100, 100)          0         \n",
      "                                                                 \n",
      "=================================================================\n",
      "Total params: 411,880\n",
      "Trainable params: 411,730\n",
      "Non-trainable params: 150\n",
      "_________________________________________________________________\n"
     ]
    }
   ],
   "source": [
    "sd.summary()"
   ]
  },
  {
   "cell_type": "code",
   "execution_count": 128,
   "id": "16986b7a",
   "metadata": {},
   "outputs": [],
   "source": [
    "sd.compile(optimizer=tf.keras.optimizers.Adam(learning_rate=1e-07),\n",
    "              loss = tf.keras.losses.MeanSquaredError(),\n",
    "              metrics=[tf.keras.metrics.RootMeanSquaredError(name=\"rmse\")])"
   ]
  },
  {
   "cell_type": "code",
   "execution_count": 6,
   "id": "a75d0d82",
   "metadata": {},
   "outputs": [],
   "source": [
    "#history = autoencoder.fit(x_train, y_train, epochs=10000, shuffle=True)"
   ]
  },
  {
   "cell_type": "code",
   "execution_count": null,
   "id": "c08d08f2",
   "metadata": {},
   "outputs": [],
   "source": [
    "hist = history.history\n",
    "plt.plot(hist['loss'], lw=2)\n",
    "plt.title('Training loss (mean squared error)', size=15)\n",
    "plt.xlabel('Epoch', size=15)\n",
    "plt.tick_params(axis='both', which='major', labelsize=15)\n",
    "plt.show()"
   ]
  },
  {
   "cell_type": "code",
   "execution_count": null,
   "id": "5549e79b",
   "metadata": {},
   "outputs": [],
   "source": [
    "plt.plot(hist['rmse'], lw=2)\n",
    "plt.title('Root Mean Squared Error', size=15)\n",
    "plt.xlabel('Epoch', size=15)\n",
    "plt.tick_params(axis='both', which='major', labelsize=15)\n",
    "plt.show()"
   ]
  },
  {
   "cell_type": "code",
   "execution_count": null,
   "id": "7d54933c",
   "metadata": {},
   "outputs": [],
   "source": [
    "test_results = autoencoder.evaluate(x_test)"
   ]
  },
  {
   "cell_type": "code",
   "execution_count": null,
   "id": "eb8933c6",
   "metadata": {},
   "outputs": [],
   "source": [
    "error_test = np.abs(decoded_imgs - x_test) / x_test * 100\n",
    "print(error_test)"
   ]
  },
  {
   "cell_type": "code",
   "execution_count": null,
   "id": "0a173c7d",
   "metadata": {},
   "outputs": [],
   "source": [
    "plt.figure(figsize=(8, 16))\n",
    "xtest_rotate = x_test.T.reshape(100, 100)\n",
    "decoded_rotate = decoded_imgs.T.reshape(100, 100)\n",
    "\n",
    "cmap = plt.get_cmap(parula_map, 11)\n",
    "xrange = np.linspace(-1, 1., 100)\n",
    "yrange = np.linspace(2, 4, 100)\n",
    "ymesh, xmesh = np.meshgrid(xrange, yrange)\n",
    "\n",
    "ax = plt.subplot(2, 1, 1)\n",
    "#plt.contourf(xtest_rotate2, vmin=3, vmax=10, levels=11, cmap=parula_map)\n",
    "#plt.contourf(xtest_rotate2, levels=11, cmap=parula_map)\n",
    "a1 = plt.contourf(xmesh, ymesh, xtest_rotate.T, vmin=3, vmax=10, levels=11, cmap=cmap)\n",
    "ax.set_xlabel('x/D', fontsize=15)\n",
    "ax.set_ylabel('y/D', fontsize=15)\n",
    "#ax.get_xaxis().set_visible(False)\n",
    "#ax.get_yaxis().set_visible(False)\n",
    "ax.set_title('Original test image', fontsize=15)\n",
    "\n",
    "# Display reconstruction\n",
    "ax = plt.subplot(2, 1, 2)\n",
    "#plt.contourf(decoded_rotate2, vmin=3, vmax=10, levels=11, cmap=parula_map)\n",
    "#plt.contourf(decoded_rotate2, levels=11, cmap=parula_map)\n",
    "a2 = plt.contourf(xmesh, ymesh, decoded_rotate.T, vmin=3, vmax=10, levels=11, cmap=cmap)\n",
    "ax.set_xlabel('x/D', fontsize=15)\n",
    "ax.set_ylabel('y/D', fontsize=15)\n",
    "#ax.get_xaxis().set_visible(False)\n",
    "#ax.get_yaxis().set_visible(False)\n",
    "ax.set_title('Reconstructed image', fontsize=15)\n",
    "\n",
    "cax = plt.axes([0.95, 0.15, 0.075, 0.73])\n",
    "cbar = plt.colorbar(a2, cax=cax)\n",
    "cbar.set_label('Vorticity', fontsize=15)\n",
    "cbar.set_ticks([3, 4, 5, 6, 7, 8, 9, 10])\n",
    "\n",
    "plt.suptitle('Test dataset (TSR = 2.0)',fontsize=20)\n",
    "plt.show()"
   ]
  },
  {
   "cell_type": "code",
   "execution_count": null,
   "id": "7761f4a0",
   "metadata": {},
   "outputs": [],
   "source": [
    "error_test_rotate = error_test.T.reshape(100, 100)\n",
    "\n",
    "cmap = plt.get_cmap(parula_map, 11)\n",
    "\n",
    "fig5 = plt.figure(figsize = (8, 8))\n",
    "ax5 = fig5.add_subplot(111)\n",
    "mappable = ax5.contourf(xmesh, ymesh, error_test_rotate.T, levels=11, cmap=parula_map)\n",
    "ax5.set_title('Error between the original and the reconstructed image (TSR = 2.0)', fontsize=14)\n",
    "ax5.set_xlabel('x/D', fontsize=15)\n",
    "ax5.set_ylabel('y/D', fontsize=15)\n",
    "\n",
    "cax = plt.axes([0.95, 0.1, 0.075, 0.8])\n",
    "cbar = plt.colorbar(mappable, cax=cax)\n",
    "cbar.set_label('error [%]', fontsize=15)\n",
    "\n",
    "plt.show()"
   ]
  },
  {
   "cell_type": "code",
   "execution_count": null,
   "id": "98e0b040",
   "metadata": {},
   "outputs": [],
   "source": [
    "plt.figure(figsize=(16, 8))\n",
    "xtest_rotate2 = x_test.T.reshape(100, 100)\n",
    "decoded_rotate2 = decoded_imgs.T.reshape(100, 100)\n",
    "\n",
    "cmap = plt.get_cmap(parula_map, 11)\n",
    "xrange = np.linspace(-1, 1., 100)\n",
    "yrange = np.linspace(2, 4, 100)\n",
    "ymesh, xmesh = np.meshgrid(xrange, yrange)\n",
    "\n",
    "ax = plt.subplot(1, 2, 1)\n",
    "#plt.contourf(xtest_rotate2, vmin=3, vmax=10, levels=11, cmap=parula_map)\n",
    "#plt.contourf(xtest_rotate2, levels=11, cmap=parula_map)\n",
    "plt.contourf(xmesh, ymesh, xtest_rotate2.T, levels=11, cmap=cmap)\n",
    "ax.set_xlabel('x/D', fontsize=15)\n",
    "ax.set_ylabel('y/D', fontsize=15)\n",
    "#ax.get_xaxis().set_visible(False)\n",
    "#ax.get_yaxis().set_visible(False)\n",
    "ax.set_title('Original test image', fontsize=15)\n",
    "\n",
    "# Display reconstruction\n",
    "ax = plt.subplot(1, 2, 2)\n",
    "#plt.contourf(decoded_rotate2, vmin=3, vmax=10, levels=11, cmap=parula_map)\n",
    "#plt.contourf(decoded_rotate2, levels=11, cmap=parula_map)\n",
    "plt.contourf(xmesh, ymesh, decoded_rotate2.T, levels=11, cmap=cmap)\n",
    "ax.set_xlabel('x/D', fontsize=15)\n",
    "ax.set_ylabel('y/D', fontsize=15)\n",
    "#ax.get_xaxis().set_visible(False)\n",
    "#ax.get_yaxis().set_visible(False)\n",
    "ax.set_title('Reconstructed image', fontsize=15)\n",
    "\n",
    "cax = plt.axes([0.95, 0.15, 0.05, 0.73])\n",
    "cbar = plt.colorbar(cax=cax)\n",
    "cbar.set_label('Vorticity', fontsize=15)\n",
    "\n",
    "plt.suptitle('Test dataset (TSR = 2.0)',fontsize=20)\n",
    "plt.show()"
   ]
  },
  {
   "cell_type": "code",
   "execution_count": null,
   "id": "2efee7a1",
   "metadata": {},
   "outputs": [],
   "source": []
  }
 ],
 "metadata": {
  "kernelspec": {
   "display_name": "Python 3 (ipykernel)",
   "language": "python",
   "name": "python3"
  },
  "language_info": {
   "codemirror_mode": {
    "name": "ipython",
    "version": 3
   },
   "file_extension": ".py",
   "mimetype": "text/x-python",
   "name": "python",
   "nbconvert_exporter": "python",
   "pygments_lexer": "ipython3",
   "version": "3.9.7"
  }
 },
 "nbformat": 4,
 "nbformat_minor": 5
}
