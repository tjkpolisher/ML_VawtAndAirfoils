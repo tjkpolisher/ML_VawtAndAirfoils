{
 "cells": [
  {
   "cell_type": "code",
   "execution_count": 12,
   "id": "8ef9ff6a",
   "metadata": {},
   "outputs": [],
   "source": [
    "import os\n",
    "import sys\n",
    "import numpy as np\n",
    "import pandas as pd\n",
    "import tensorflow as tf\n",
    "import matplotlib.pyplot as plt\n",
    "%matplotlib inline"
   ]
  },
  {
   "cell_type": "code",
   "execution_count": 35,
   "id": "edabd7a5",
   "metadata": {},
   "outputs": [],
   "source": [
    "n_sensors = 3\n",
    "#n_sensors = 5\n",
    "#n_sensors = 10\n",
    "#n_sensors = 15"
   ]
  },
  {
   "cell_type": "code",
   "execution_count": 7,
   "id": "f7eeffd1",
   "metadata": {},
   "outputs": [],
   "source": [
    "from matplotlib.colors import LinearSegmentedColormap\n",
    "\n",
    "cm_data = [[0.2081, 0.1663, 0.5292], [0.2116238095, 0.1897809524, 0.5776761905], \n",
    " [0.212252381, 0.2137714286, 0.6269714286], [0.2081, 0.2386, 0.6770857143], \n",
    " [0.1959047619, 0.2644571429, 0.7279], [0.1707285714, 0.2919380952, \n",
    "  0.779247619], [0.1252714286, 0.3242428571, 0.8302714286], \n",
    " [0.0591333333, 0.3598333333, 0.8683333333], [0.0116952381, 0.3875095238, \n",
    "  0.8819571429], [0.0059571429, 0.4086142857, 0.8828428571], \n",
    " [0.0165142857, 0.4266, 0.8786333333], [0.032852381, 0.4430428571, \n",
    "  0.8719571429], [0.0498142857, 0.4585714286, 0.8640571429], \n",
    " [0.0629333333, 0.4736904762, 0.8554380952], [0.0722666667, 0.4886666667, \n",
    "  0.8467], [0.0779428571, 0.5039857143, 0.8383714286], \n",
    " [0.079347619, 0.5200238095, 0.8311809524], [0.0749428571, 0.5375428571, \n",
    "  0.8262714286], [0.0640571429, 0.5569857143, 0.8239571429], \n",
    " [0.0487714286, 0.5772238095, 0.8228285714], [0.0343428571, 0.5965809524, \n",
    "  0.819852381], [0.0265, 0.6137, 0.8135], [0.0238904762, 0.6286619048, \n",
    "  0.8037619048], [0.0230904762, 0.6417857143, 0.7912666667], \n",
    " [0.0227714286, 0.6534857143, 0.7767571429], [0.0266619048, 0.6641952381, \n",
    "  0.7607190476], [0.0383714286, 0.6742714286, 0.743552381], \n",
    " [0.0589714286, 0.6837571429, 0.7253857143], \n",
    " [0.0843, 0.6928333333, 0.7061666667], [0.1132952381, 0.7015, 0.6858571429], \n",
    " [0.1452714286, 0.7097571429, 0.6646285714], [0.1801333333, 0.7176571429, \n",
    "  0.6424333333], [0.2178285714, 0.7250428571, 0.6192619048], \n",
    " [0.2586428571, 0.7317142857, 0.5954285714], [0.3021714286, 0.7376047619, \n",
    "  0.5711857143], [0.3481666667, 0.7424333333, 0.5472666667], \n",
    " [0.3952571429, 0.7459, 0.5244428571], [0.4420095238, 0.7480809524, \n",
    "  0.5033142857], [0.4871238095, 0.7490619048, 0.4839761905], \n",
    " [0.5300285714, 0.7491142857, 0.4661142857], [0.5708571429, 0.7485190476, \n",
    "  0.4493904762], [0.609852381, 0.7473142857, 0.4336857143], \n",
    " [0.6473, 0.7456, 0.4188], [0.6834190476, 0.7434761905, 0.4044333333], \n",
    " [0.7184095238, 0.7411333333, 0.3904761905], \n",
    " [0.7524857143, 0.7384, 0.3768142857], [0.7858428571, 0.7355666667, \n",
    "  0.3632714286], [0.8185047619, 0.7327333333, 0.3497904762], \n",
    " [0.8506571429, 0.7299, 0.3360285714], [0.8824333333, 0.7274333333, 0.3217], \n",
    " [0.9139333333, 0.7257857143, 0.3062761905], [0.9449571429, 0.7261142857, \n",
    "  0.2886428571], [0.9738952381, 0.7313952381, 0.266647619], \n",
    " [0.9937714286, 0.7454571429, 0.240347619], [0.9990428571, 0.7653142857, \n",
    "  0.2164142857], [0.9955333333, 0.7860571429, 0.196652381], \n",
    " [0.988, 0.8066, 0.1793666667], [0.9788571429, 0.8271428571, 0.1633142857], \n",
    " [0.9697, 0.8481380952, 0.147452381], [0.9625857143, 0.8705142857, 0.1309], \n",
    " [0.9588714286, 0.8949, 0.1132428571], [0.9598238095, 0.9218333333, \n",
    "  0.0948380952], [0.9661, 0.9514428571, 0.0755333333], \n",
    " [0.9763, 0.9831, 0.0538]]\n",
    "\n",
    "parula_map = LinearSegmentedColormap.from_list('parula', cm_data)"
   ]
  },
  {
   "cell_type": "code",
   "execution_count": 44,
   "id": "0b54a093",
   "metadata": {},
   "outputs": [
    {
     "data": {
      "text/plain": [
       "'C:\\\\Users\\\\User'"
      ]
     },
     "execution_count": 44,
     "metadata": {},
     "output_type": "execute_result"
    }
   ],
   "source": [
    "os.getcwd()"
   ]
  },
  {
   "cell_type": "code",
   "execution_count": 110,
   "id": "156e7f1c",
   "metadata": {},
   "outputs": [],
   "source": [
    "os.chdir('E:\\\\ANN_tsr\\\\120degree')"
   ]
  },
  {
   "cell_type": "code",
   "execution_count": 111,
   "id": "c69061d7",
   "metadata": {},
   "outputs": [
    {
     "data": {
      "text/plain": [
       "'E:\\\\ANN_tsr'"
      ]
     },
     "execution_count": 111,
     "metadata": {},
     "output_type": "execute_result"
    }
   ],
   "source": [
    "os.getcwd()"
   ]
  },
  {
   "cell_type": "code",
   "execution_count": 112,
   "id": "2ea4a569",
   "metadata": {},
   "outputs": [],
   "source": [
    "TSR15_probe1 = pd.read_csv('TSR1.5_probe1.csv')\n",
    "TSR15_probe3 = pd.read_csv('TSR1.5_probe3.csv')\n",
    "TSR15_probe5 = pd.read_csv('TSR1.5_probe5.csv')\n",
    "TSR16_probe1 = pd.read_csv('TSR1.6_probe1.csv')\n",
    "TSR16_probe3 = pd.read_csv('TSR1.6_probe3.csv')\n",
    "TSR16_probe5 = pd.read_csv('TSR1.6_probe5.csv')\n",
    "TSR17_probe1 = pd.read_csv('TSR1.7_probe1.csv')\n",
    "TSR17_probe3 = pd.read_csv('TSR1.7_probe3.csv')\n",
    "TSR17_probe5 = pd.read_csv('TSR1.7_probe5.csv')\n",
    "TSR18_probe1 = pd.read_csv('TSR1.8_probe1.csv')\n",
    "TSR18_probe3 = pd.read_csv('TSR1.8_probe3.csv')\n",
    "TSR18_probe5 = pd.read_csv('TSR1.8_probe5.csv')\n",
    "TSR19_probe1 = pd.read_csv('TSR1.9_probe1.csv')\n",
    "TSR19_probe3 = pd.read_csv('TSR1.9_probe3.csv')\n",
    "TSR19_probe5 = pd.read_csv('TSR1.9_probe5.csv')\n",
    "TSR20_probe1 = pd.read_csv('TSR2.0_probe1.csv')\n",
    "TSR20_probe3 = pd.read_csv('TSR2.0_probe3.csv')\n",
    "TSR20_probe5 = pd.read_csv('TSR2.0_probe5.csv')"
   ]
  },
  {
   "cell_type": "code",
   "execution_count": 113,
   "id": "82e21761",
   "metadata": {},
   "outputs": [],
   "source": [
    "TSR15_probe1 = TSR15_probe1.to_numpy(dtype='float32')\n",
    "TSR15_probe3 = TSR15_probe3.to_numpy(dtype='float32')\n",
    "TSR15_probe5 = TSR15_probe5.to_numpy(dtype='float32')\n",
    "TSR16_probe1 = TSR16_probe1.to_numpy(dtype='float32')\n",
    "TSR16_probe3 = TSR16_probe3.to_numpy(dtype='float32')\n",
    "TSR16_probe5 = TSR16_probe5.to_numpy(dtype='float32')\n",
    "TSR17_probe1 = TSR17_probe1.to_numpy(dtype='float32')\n",
    "TSR17_probe3 = TSR17_probe3.to_numpy(dtype='float32')\n",
    "TSR17_probe5 = TSR17_probe5.to_numpy(dtype='float32')\n",
    "TSR18_probe1 = TSR18_probe1.to_numpy(dtype='float32')\n",
    "TSR18_probe3 = TSR18_probe3.to_numpy(dtype='float32')\n",
    "TSR18_probe5 = TSR18_probe5.to_numpy(dtype='float32')\n",
    "TSR19_probe1 = TSR19_probe1.to_numpy(dtype='float32')\n",
    "TSR19_probe3 = TSR19_probe3.to_numpy(dtype='float32')\n",
    "TSR19_probe5 = TSR19_probe5.to_numpy(dtype='float32')\n",
    "TSR20_probe1 = TSR20_probe1.to_numpy(dtype='float32')\n",
    "TSR20_probe3 = TSR20_probe3.to_numpy(dtype='float32')\n",
    "TSR20_probe5 = TSR20_probe5.to_numpy(dtype='float32')"
   ]
  },
  {
   "cell_type": "code",
   "execution_count": 115,
   "id": "913c386c",
   "metadata": {},
   "outputs": [],
   "source": [
    "x15_probe1 = TSR15_probe1[:, 5]\n",
    "x15_probe3 = TSR15_probe3[:, 5]\n",
    "x15_probe5 = TSR15_probe5[:, 5]\n",
    "x16_probe1 = TSR16_probe1[:, 5]\n",
    "x16_probe3 = TSR16_probe3[:, 5]\n",
    "x16_probe5 = TSR16_probe5[:, 5]\n",
    "x17_probe1 = TSR17_probe1[:, 5]\n",
    "x17_probe3 = TSR17_probe3[:, 5]\n",
    "x17_probe5 = TSR17_probe5[:, 5]\n",
    "x18_probe1 = TSR18_probe1[:, 5]\n",
    "x18_probe3 = TSR18_probe3[:, 5]\n",
    "x18_probe5 = TSR18_probe5[:, 5]\n",
    "x19_probe1 = TSR19_probe1[:, 5]\n",
    "x19_probe3 = TSR19_probe3[:, 5]\n",
    "x19_probe5 = TSR19_probe5[:, 5]\n",
    "x20_probe1 = TSR20_probe1[:, 5]\n",
    "x20_probe3 = TSR20_probe3[:, 5]\n",
    "x20_probe5 = TSR20_probe5[:, 5]"
   ]
  },
  {
   "cell_type": "code",
   "execution_count": 117,
   "id": "8cb8152c",
   "metadata": {},
   "outputs": [],
   "source": [
    "x15_probe1 = x15_probe1.reshape((13, 1))\n",
    "x15_probe3 = x15_probe3.reshape((13, 1))\n",
    "x15_probe5 = x15_probe5.reshape((13, 1))\n",
    "x16_probe1 = x16_probe1.reshape((13, 1))\n",
    "x16_probe3 = x16_probe3.reshape((13, 1))\n",
    "x16_probe5 = x16_probe5.reshape((13, 1))\n",
    "x17_probe1 = x17_probe1.reshape((13, 1))\n",
    "x17_probe3 = x17_probe3.reshape((13, 1))\n",
    "x17_probe5 = x17_probe5.reshape((13, 1))\n",
    "x18_probe1 = x18_probe1.reshape((13, 1))\n",
    "x18_probe3 = x18_probe3.reshape((13, 1))\n",
    "x18_probe5 = x18_probe5.reshape((13, 1))\n",
    "x19_probe1 = x19_probe1.reshape((13, 1))\n",
    "x19_probe3 = x19_probe3.reshape((13, 1))\n",
    "x19_probe5 = x19_probe5.reshape((13, 1))\n",
    "x20_probe1 = x20_probe1.reshape((13, 1))\n",
    "x20_probe3 = x20_probe3.reshape((13, 1))\n",
    "x20_probe5 = x20_probe5.reshape((13, 1))"
   ]
  },
  {
   "cell_type": "code",
   "execution_count": 118,
   "id": "872a65d2",
   "metadata": {},
   "outputs": [
    {
     "name": "stdout",
     "output_type": "stream",
     "text": [
      "(37, 1)\n"
     ]
    }
   ],
   "source": [
    "print(x20_probe3.shape)"
   ]
  },
  {
   "cell_type": "code",
   "execution_count": 119,
   "id": "3c4a119d",
   "metadata": {},
   "outputs": [],
   "source": [
    "x_train15 = np.hstack((x15_probe1, x15_probe3, x15_probe5))\n",
    "x_train16 = np.hstack((x16_probe1, x16_probe3, x16_probe5))\n",
    "x_train17 = np.hstack((x17_probe1, x17_probe3, x17_probe5))\n",
    "x_train18 = np.hstack((x18_probe1, x18_probe3, x18_probe5))\n",
    "x_train19 = np.hstack((x19_probe1, x19_probe3, x19_probe5))\n",
    "x_train20 = np.hstack((x20_probe1, x20_probe3, x20_probe5))"
   ]
  },
  {
   "cell_type": "code",
   "execution_count": 120,
   "id": "ac5683fc",
   "metadata": {},
   "outputs": [],
   "source": [
    "x_train = np.vstack((x_train15, x_train16, x_train17, x_train18, x_train19, x_train20))"
   ]
  },
  {
   "cell_type": "code",
   "execution_count": 121,
   "id": "c1353974",
   "metadata": {
    "scrolled": true
   },
   "outputs": [
    {
     "name": "stdout",
     "output_type": "stream",
     "text": [
      "(222, 3)\n"
     ]
    }
   ],
   "source": [
    "print(x_train.shape)"
   ]
  },
  {
   "cell_type": "code",
   "execution_count": 123,
   "id": "3a256bd6",
   "metadata": {},
   "outputs": [],
   "source": [
    "x_train = x_train.reshape(78, 3, 1)"
   ]
  },
  {
   "cell_type": "code",
   "execution_count": 129,
   "id": "98b8e2a6",
   "metadata": {},
   "outputs": [
    {
     "name": "stdout",
     "output_type": "stream",
     "text": [
      "(222, 3, 1)\n"
     ]
    }
   ],
   "source": [
    "print(x_train.shape)"
   ]
  },
  {
   "cell_type": "code",
   "execution_count": 125,
   "id": "15b60b82",
   "metadata": {},
   "outputs": [],
   "source": [
    "os.chdir('C:\\\\Users\\\\User')"
   ]
  },
  {
   "cell_type": "code",
   "execution_count": 130,
   "id": "a0c859ab",
   "metadata": {},
   "outputs": [],
   "source": [
    "'''model = tf.keras.models.Sequential([tf.keras.layers.Dense(input_shape=(n_sensors,), units=5, activation='relu', name='inputLayer'),\n",
    "                                    tf.keras.layers.Dense(units=35, activation='relu', name='firstHiddenLayer'),\n",
    "                                    tf.keras.layers.BatchNormalization(),\n",
    "                                    tf.keras.layers.Dense(units=40, activation='relu', name='secondHiddenLayer'),\n",
    "                                    tf.keras.layers.BatchNormalization(),\n",
    "                                    tf.keras.layers.Dense(units=10000, activation=None, name='outputLayer')\n",
    "])\n",
    "'''\n",
    "# Noise가 첨가되지 않은 데이터이므로 dropout 층은 생략\n",
    "input_data = tf.keras.Input(shape=(n_sensors, 1))\n",
    "reshape = tf.keras.layers.Reshape((n_sensors,))(input_data)\n",
    "\n",
    "x = tf.keras.layers.Dense(units=35, activation='relu', name='firstHiddenLayer')(reshape)\n",
    "x = tf.keras.layers.BatchNormalization()(x)\n",
    "x = tf.keras.layers.Dense(units=40, activation='relu', name='secondHiddenLayer')(x)\n",
    "x = tf.keras.layers.BatchNormalization()(x)\n",
    "output_data = tf.keras.layers.Dense(units=10000, activation=None, name='outputLayer')(x)\n",
    "output_img = tf.keras.layers.Reshape((100,100))(output_data)\n",
    "# Shallow Decoder (SD)\n",
    "sd = tf.keras.Model(input_data, output_img)"
   ]
  },
  {
   "cell_type": "code",
   "execution_count": 131,
   "id": "6061294b",
   "metadata": {
    "scrolled": false
   },
   "outputs": [
    {
     "name": "stdout",
     "output_type": "stream",
     "text": [
      "Model: \"model_6\"\n",
      "_________________________________________________________________\n",
      " Layer (type)                Output Shape              Param #   \n",
      "=================================================================\n",
      " input_9 (InputLayer)        [(None, 3, 1)]            0         \n",
      "                                                                 \n",
      " reshape_2 (Reshape)         (None, 3)                 0         \n",
      "                                                                 \n",
      " firstHiddenLayer (Dense)    (None, 35)                140       \n",
      "                                                                 \n",
      " batch_normalization_12 (Bat  (None, 35)               140       \n",
      " chNormalization)                                                \n",
      "                                                                 \n",
      " secondHiddenLayer (Dense)   (None, 40)                1440      \n",
      "                                                                 \n",
      " batch_normalization_13 (Bat  (None, 40)               160       \n",
      " chNormalization)                                                \n",
      "                                                                 \n",
      " outputLayer (Dense)         (None, 10000)             410000    \n",
      "                                                                 \n",
      " reshape_3 (Reshape)         (None, 100, 100)          0         \n",
      "                                                                 \n",
      "=================================================================\n",
      "Total params: 411,880\n",
      "Trainable params: 411,730\n",
      "Non-trainable params: 150\n",
      "_________________________________________________________________\n"
     ]
    }
   ],
   "source": [
    "sd.summary()"
   ]
  },
  {
   "cell_type": "code",
   "execution_count": 128,
   "id": "16986b7a",
   "metadata": {},
   "outputs": [],
   "source": [
    "sd.compile(optimizer=tf.keras.optimizers.Adam(learning_rate=1e-07),\n",
    "              loss = tf.keras.losses.MeanSquaredError(),\n",
    "              metrics=[tf.keras.metrics.RootMeanSquaredError(name=\"rmse\")])"
   ]
  },
  {
   "cell_type": "code",
   "execution_count": 6,
   "id": "a75d0d82",
   "metadata": {},
   "outputs": [],
   "source": [
    "#history = autoencoder.fit(x_train, y_train, epochs=10000, shuffle=True)"
   ]
  },
  {
   "cell_type": "code",
   "execution_count": null,
   "id": "fb1788c5",
   "metadata": {},
   "outputs": [],
   "source": [
    "hist = history.history\n",
    "plt.plot(hist['loss'], lw=2)\n",
    "plt.title('Training loss (mean squared error)', size=15)\n",
    "plt.xlabel('Epoch', size=15)\n",
    "plt.tick_params(axis='both', which='major', labelsize=15)\n",
    "plt.show()"
   ]
  },
  {
   "cell_type": "code",
   "execution_count": null,
   "id": "4cb2d834",
   "metadata": {},
   "outputs": [],
   "source": [
    "plt.plot(hist['rmse'], lw=2)\n",
    "plt.title('Root Mean Squared Error', size=15)\n",
    "plt.xlabel('Epoch', size=15)\n",
    "plt.tick_params(axis='both', which='major', labelsize=15)\n",
    "plt.show()"
   ]
  },
  {
   "cell_type": "code",
   "execution_count": null,
   "id": "40f36ac2",
   "metadata": {},
   "outputs": [],
   "source": [
    "test_results = autoencoder.evaluate(x_test)"
   ]
  },
  {
   "cell_type": "code",
   "execution_count": null,
   "id": "6eeaca27",
   "metadata": {},
   "outputs": [],
   "source": [
    "decoded_imgs = autoencoder.predict(x_test)"
   ]
  },
  {
   "cell_type": "code",
   "execution_count": null,
   "id": "7ce0eb48",
   "metadata": {},
   "outputs": [],
   "source": [
    "error_test = np.abs(decoded_imgs - x_test) / x_test * 100\n",
    "print(error_test)"
   ]
  },
  {
   "cell_type": "code",
   "execution_count": null,
   "id": "b3f588a7",
   "metadata": {},
   "outputs": [],
   "source": [
    "plt.figure(figsize=(8, 16))\n",
    "xtest_rotate = x_test.T.reshape(100, 100)\n",
    "decoded_rotate = decoded_imgs.T.reshape(100, 100)\n",
    "\n",
    "cmap = plt.get_cmap(parula_map, 11)\n",
    "xrange = np.linspace(-1, 1., 100)\n",
    "yrange = np.linspace(2, 4, 100)\n",
    "ymesh, xmesh = np.meshgrid(xrange, yrange)\n",
    "\n",
    "ax = plt.subplot(2, 1, 1)\n",
    "#plt.contourf(xtest_rotate2, vmin=3, vmax=10, levels=11, cmap=parula_map)\n",
    "#plt.contourf(xtest_rotate2, levels=11, cmap=parula_map)\n",
    "a1 = plt.contourf(xmesh, ymesh, xtest_rotate.T, vmin=3, vmax=10, levels=11, cmap=cmap)\n",
    "ax.set_xlabel('x/D', fontsize=15)\n",
    "ax.set_ylabel('y/D', fontsize=15)\n",
    "#ax.get_xaxis().set_visible(False)\n",
    "#ax.get_yaxis().set_visible(False)\n",
    "ax.set_title('Original test image', fontsize=15)\n",
    "\n",
    "# Display reconstruction\n",
    "ax = plt.subplot(2, 1, 2)\n",
    "#plt.contourf(decoded_rotate2, vmin=3, vmax=10, levels=11, cmap=parula_map)\n",
    "#plt.contourf(decoded_rotate2, levels=11, cmap=parula_map)\n",
    "a2 = plt.contourf(xmesh, ymesh, decoded_rotate.T, vmin=3, vmax=10, levels=11, cmap=cmap)\n",
    "ax.set_xlabel('x/D', fontsize=15)\n",
    "ax.set_ylabel('y/D', fontsize=15)\n",
    "#ax.get_xaxis().set_visible(False)\n",
    "#ax.get_yaxis().set_visible(False)\n",
    "ax.set_title('Reconstructed image', fontsize=15)\n",
    "\n",
    "cax = plt.axes([0.95, 0.15, 0.075, 0.73])\n",
    "cbar = plt.colorbar(a2, cax=cax)\n",
    "cbar.set_label('Vorticity', fontsize=15)\n",
    "cbar.set_ticks([3, 4, 5, 6, 7, 8, 9, 10])\n",
    "\n",
    "plt.suptitle('Test dataset (TSR = 2.0)',fontsize=20)\n",
    "plt.show()"
   ]
  },
  {
   "cell_type": "code",
   "execution_count": null,
   "id": "17dfd62f",
   "metadata": {},
   "outputs": [],
   "source": [
    "error_test_rotate = error_test.T.reshape(100, 100)\n",
    "\n",
    "cmap = plt.get_cmap(parula_map, 11)\n",
    "\n",
    "fig5 = plt.figure(figsize = (8, 8))\n",
    "ax5 = fig5.add_subplot(111)\n",
    "mappable = ax5.contourf(xmesh, ymesh, error_test_rotate.T, levels=11, cmap=parula_map)\n",
    "ax5.set_title('Error between the original and the reconstructed image (TSR = 2.0)', fontsize=14)\n",
    "ax5.set_xlabel('x/D', fontsize=15)\n",
    "ax5.set_ylabel('y/D', fontsize=15)\n",
    "\n",
    "cax = plt.axes([0.95, 0.1, 0.075, 0.8])\n",
    "cbar = plt.colorbar(mappable, cax=cax)\n",
    "cbar.set_label('error [%]', fontsize=15)\n",
    "\n",
    "plt.show()"
   ]
  },
  {
   "cell_type": "code",
   "execution_count": null,
   "id": "a87f640e",
   "metadata": {},
   "outputs": [],
   "source": [
    "plt.figure(figsize=(16, 8))\n",
    "xtest_rotate2 = x_test.T.reshape(100, 100)\n",
    "decoded_rotate2 = decoded_imgs.T.reshape(100, 100)\n",
    "\n",
    "cmap = plt.get_cmap(parula_map, 11)\n",
    "xrange = np.linspace(-1, 1., 100)\n",
    "yrange = np.linspace(2, 4, 100)\n",
    "ymesh, xmesh = np.meshgrid(xrange, yrange)\n",
    "\n",
    "ax = plt.subplot(1, 2, 1)\n",
    "#plt.contourf(xtest_rotate2, vmin=3, vmax=10, levels=11, cmap=parula_map)\n",
    "#plt.contourf(xtest_rotate2, levels=11, cmap=parula_map)\n",
    "plt.contourf(xmesh, ymesh, xtest_rotate2.T, levels=11, cmap=cmap)\n",
    "ax.set_xlabel('x/D', fontsize=15)\n",
    "ax.set_ylabel('y/D', fontsize=15)\n",
    "#ax.get_xaxis().set_visible(False)\n",
    "#ax.get_yaxis().set_visible(False)\n",
    "ax.set_title('Original test image', fontsize=15)\n",
    "\n",
    "# Display reconstruction\n",
    "ax = plt.subplot(1, 2, 2)\n",
    "#plt.contourf(decoded_rotate2, vmin=3, vmax=10, levels=11, cmap=parula_map)\n",
    "#plt.contourf(decoded_rotate2, levels=11, cmap=parula_map)\n",
    "plt.contourf(xmesh, ymesh, decoded_rotate2.T, levels=11, cmap=cmap)\n",
    "ax.set_xlabel('x/D', fontsize=15)\n",
    "ax.set_ylabel('y/D', fontsize=15)\n",
    "#ax.get_xaxis().set_visible(False)\n",
    "#ax.get_yaxis().set_visible(False)\n",
    "ax.set_title('Reconstructed image', fontsize=15)\n",
    "\n",
    "cax = plt.axes([0.95, 0.15, 0.05, 0.73])\n",
    "cbar = plt.colorbar(cax=cax)\n",
    "cbar.set_label('Vorticity', fontsize=15)\n",
    "\n",
    "plt.suptitle('Test dataset (TSR = 2.0)',fontsize=20)\n",
    "plt.show()"
   ]
  },
  {
   "cell_type": "code",
   "execution_count": null,
   "id": "7a8b7b61",
   "metadata": {},
   "outputs": [],
   "source": []
  }
 ],
 "metadata": {
  "kernelspec": {
   "display_name": "Python 3 (ipykernel)",
   "language": "python",
   "name": "python3"
  },
  "language_info": {
   "codemirror_mode": {
    "name": "ipython",
    "version": 3
   },
   "file_extension": ".py",
   "mimetype": "text/x-python",
   "name": "python",
   "nbconvert_exporter": "python",
   "pygments_lexer": "ipython3",
   "version": "3.9.7"
  }
 },
 "nbformat": 4,
 "nbformat_minor": 5
}
