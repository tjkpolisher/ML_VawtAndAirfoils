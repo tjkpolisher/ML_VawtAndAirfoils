{
 "cells": [
  {
   "cell_type": "code",
   "execution_count": 12,
   "id": "8ef9ff6a",
   "metadata": {},
   "outputs": [],
   "source": [
    "import os\n",
    "import sys\n",
    "import numpy as np\n",
    "import pandas as pd\n",
    "import tensorflow as tf\n",
    "import matplotlib.pyplot as plt\n",
    "%matplotlib inline"
   ]
  },
  {
   "cell_type": "code",
   "execution_count": 35,
   "id": "edabd7a5",
   "metadata": {},
   "outputs": [],
   "source": [
    "n_sensors = 3\n",
    "#n_sensors = 5\n",
    "#n_sensors = 10\n",
    "#n_sensors = 15"
   ]
  },
  {
   "cell_type": "code",
   "execution_count": 7,
   "id": "f7eeffd1",
   "metadata": {},
   "outputs": [],
   "source": [
    "from matplotlib.colors import LinearSegmentedColormap\n",
    "\n",
    "cm_data = [[0.2081, 0.1663, 0.5292], [0.2116238095, 0.1897809524, 0.5776761905], \n",
    " [0.212252381, 0.2137714286, 0.6269714286], [0.2081, 0.2386, 0.6770857143], \n",
    " [0.1959047619, 0.2644571429, 0.7279], [0.1707285714, 0.2919380952, \n",
    "  0.779247619], [0.1252714286, 0.3242428571, 0.8302714286], \n",
    " [0.0591333333, 0.3598333333, 0.8683333333], [0.0116952381, 0.3875095238, \n",
    "  0.8819571429], [0.0059571429, 0.4086142857, 0.8828428571], \n",
    " [0.0165142857, 0.4266, 0.8786333333], [0.032852381, 0.4430428571, \n",
    "  0.8719571429], [0.0498142857, 0.4585714286, 0.8640571429], \n",
    " [0.0629333333, 0.4736904762, 0.8554380952], [0.0722666667, 0.4886666667, \n",
    "  0.8467], [0.0779428571, 0.5039857143, 0.8383714286], \n",
    " [0.079347619, 0.5200238095, 0.8311809524], [0.0749428571, 0.5375428571, \n",
    "  0.8262714286], [0.0640571429, 0.5569857143, 0.8239571429], \n",
    " [0.0487714286, 0.5772238095, 0.8228285714], [0.0343428571, 0.5965809524, \n",
    "  0.819852381], [0.0265, 0.6137, 0.8135], [0.0238904762, 0.6286619048, \n",
    "  0.8037619048], [0.0230904762, 0.6417857143, 0.7912666667], \n",
    " [0.0227714286, 0.6534857143, 0.7767571429], [0.0266619048, 0.6641952381, \n",
    "  0.7607190476], [0.0383714286, 0.6742714286, 0.743552381], \n",
    " [0.0589714286, 0.6837571429, 0.7253857143], \n",
    " [0.0843, 0.6928333333, 0.7061666667], [0.1132952381, 0.7015, 0.6858571429], \n",
    " [0.1452714286, 0.7097571429, 0.6646285714], [0.1801333333, 0.7176571429, \n",
    "  0.6424333333], [0.2178285714, 0.7250428571, 0.6192619048], \n",
    " [0.2586428571, 0.7317142857, 0.5954285714], [0.3021714286, 0.7376047619, \n",
    "  0.5711857143], [0.3481666667, 0.7424333333, 0.5472666667], \n",
    " [0.3952571429, 0.7459, 0.5244428571], [0.4420095238, 0.7480809524, \n",
    "  0.5033142857], [0.4871238095, 0.7490619048, 0.4839761905], \n",
    " [0.5300285714, 0.7491142857, 0.4661142857], [0.5708571429, 0.7485190476, \n",
    "  0.4493904762], [0.609852381, 0.7473142857, 0.4336857143], \n",
    " [0.6473, 0.7456, 0.4188], [0.6834190476, 0.7434761905, 0.4044333333], \n",
    " [0.7184095238, 0.7411333333, 0.3904761905], \n",
    " [0.7524857143, 0.7384, 0.3768142857], [0.7858428571, 0.7355666667, \n",
    "  0.3632714286], [0.8185047619, 0.7327333333, 0.3497904762], \n",
    " [0.8506571429, 0.7299, 0.3360285714], [0.8824333333, 0.7274333333, 0.3217], \n",
    " [0.9139333333, 0.7257857143, 0.3062761905], [0.9449571429, 0.7261142857, \n",
    "  0.2886428571], [0.9738952381, 0.7313952381, 0.266647619], \n",
    " [0.9937714286, 0.7454571429, 0.240347619], [0.9990428571, 0.7653142857, \n",
    "  0.2164142857], [0.9955333333, 0.7860571429, 0.196652381], \n",
    " [0.988, 0.8066, 0.1793666667], [0.9788571429, 0.8271428571, 0.1633142857], \n",
    " [0.9697, 0.8481380952, 0.147452381], [0.9625857143, 0.8705142857, 0.1309], \n",
    " [0.9588714286, 0.8949, 0.1132428571], [0.9598238095, 0.9218333333, \n",
    "  0.0948380952], [0.9661, 0.9514428571, 0.0755333333], \n",
    " [0.9763, 0.9831, 0.0538]]\n",
    "\n",
    "parula_map = LinearSegmentedColormap.from_list('parula', cm_data)"
   ]
  },
  {
   "cell_type": "code",
   "execution_count": 44,
   "id": "0b54a093",
   "metadata": {},
   "outputs": [
    {
     "data": {
      "text/plain": [
       "'C:\\\\Users\\\\User'"
      ]
     },
     "execution_count": 44,
     "metadata": {},
     "output_type": "execute_result"
    }
   ],
   "source": [
    "os.getcwd()"
   ]
  },
  {
   "cell_type": "code",
   "execution_count": 110,
   "id": "156e7f1c",
   "metadata": {},
   "outputs": [],
   "source": [
    "os.chdir('E:\\\\ANN_tsr\\\\120degree')"
   ]
  },
  {
   "cell_type": "code",
   "execution_count": 111,
   "id": "c69061d7",
   "metadata": {},
   "outputs": [
    {
     "data": {
      "text/plain": [
       "'E:\\\\ANN_tsr'"
      ]
     },
     "execution_count": 111,
     "metadata": {},
     "output_type": "execute_result"
    }
   ],
   "source": [
    "os.getcwd()"
   ]
  },
  {
   "cell_type": "code",
   "execution_count": 112,
   "id": "2ea4a569",
   "metadata": {},
   "outputs": [],
   "source": [
    "TSR15_probe1 = pd.read_csv('TSR1.5_probe1.csv')\n",
    "TSR15_probe3 = pd.read_csv('TSR1.5_probe3.csv')\n",
    "TSR15_probe5 = pd.read_csv('TSR1.5_probe5.csv')\n",
    "TSR16_probe1 = pd.read_csv('TSR1.6_probe1.csv')\n",
    "TSR16_probe3 = pd.read_csv('TSR1.6_probe3.csv')\n",
    "TSR16_probe5 = pd.read_csv('TSR1.6_probe5.csv')\n",
    "TSR17_probe1 = pd.read_csv('TSR1.7_probe1.csv')\n",
    "TSR17_probe3 = pd.read_csv('TSR1.7_probe3.csv')\n",
    "TSR17_probe5 = pd.read_csv('TSR1.7_probe5.csv')\n",
    "TSR18_probe1 = pd.read_csv('TSR1.8_probe1.csv')\n",
    "TSR18_probe3 = pd.read_csv('TSR1.8_probe3.csv')\n",
    "TSR18_probe5 = pd.read_csv('TSR1.8_probe5.csv')\n",
    "TSR19_probe1 = pd.read_csv('TSR1.9_probe1.csv')\n",
    "TSR19_probe3 = pd.read_csv('TSR1.9_probe3.csv')\n",
    "TSR19_probe5 = pd.read_csv('TSR1.9_probe5.csv')\n",
    "TSR20_probe1 = pd.read_csv('TSR2.0_probe1.csv')\n",
    "TSR20_probe3 = pd.read_csv('TSR2.0_probe3.csv')\n",
    "TSR20_probe5 = pd.read_csv('TSR2.0_probe5.csv')"
   ]
  },
  {
   "cell_type": "code",
   "execution_count": 113,
   "id": "82e21761",
   "metadata": {},
   "outputs": [],
   "source": [
    "TSR15_probe1 = TSR15_probe1.to_numpy(dtype='float32')\n",
    "TSR15_probe3 = TSR15_probe3.to_numpy(dtype='float32')\n",
    "TSR15_probe5 = TSR15_probe5.to_numpy(dtype='float32')\n",
    "TSR16_probe1 = TSR16_probe1.to_numpy(dtype='float32')\n",
    "TSR16_probe3 = TSR16_probe3.to_numpy(dtype='float32')\n",
    "TSR16_probe5 = TSR16_probe5.to_numpy(dtype='float32')\n",
    "TSR17_probe1 = TSR17_probe1.to_numpy(dtype='float32')\n",
    "TSR17_probe3 = TSR17_probe3.to_numpy(dtype='float32')\n",
    "TSR17_probe5 = TSR17_probe5.to_numpy(dtype='float32')\n",
    "TSR18_probe1 = TSR18_probe1.to_numpy(dtype='float32')\n",
    "TSR18_probe3 = TSR18_probe3.to_numpy(dtype='float32')\n",
    "TSR18_probe5 = TSR18_probe5.to_numpy(dtype='float32')\n",
    "TSR19_probe1 = TSR19_probe1.to_numpy(dtype='float32')\n",
    "TSR19_probe3 = TSR19_probe3.to_numpy(dtype='float32')\n",
    "TSR19_probe5 = TSR19_probe5.to_numpy(dtype='float32')\n",
    "TSR20_probe1 = TSR20_probe1.to_numpy(dtype='float32')\n",
    "TSR20_probe3 = TSR20_probe3.to_numpy(dtype='float32')\n",
    "TSR20_probe5 = TSR20_probe5.to_numpy(dtype='float32')"
   ]
  },
  {
   "cell_type": "code",
   "execution_count": 115,
   "id": "913c386c",
   "metadata": {},
   "outputs": [],
   "source": [
    "x15_probe1 = TSR15_probe1[:, 5]\n",
    "x15_probe3 = TSR15_probe3[:, 5]\n",
    "x15_probe5 = TSR15_probe5[:, 5]\n",
    "x16_probe1 = TSR16_probe1[:, 5]\n",
    "x16_probe3 = TSR16_probe3[:, 5]\n",
    "x16_probe5 = TSR16_probe5[:, 5]\n",
    "x17_probe1 = TSR17_probe1[:, 5]\n",
    "x17_probe3 = TSR17_probe3[:, 5]\n",
    "x17_probe5 = TSR17_probe5[:, 5]\n",
    "x18_probe1 = TSR18_probe1[:, 5]\n",
    "x18_probe3 = TSR18_probe3[:, 5]\n",
    "x18_probe5 = TSR18_probe5[:, 5]\n",
    "x19_probe1 = TSR19_probe1[:, 5]\n",
    "x19_probe3 = TSR19_probe3[:, 5]\n",
    "x19_probe5 = TSR19_probe5[:, 5]\n",
    "x20_probe1 = TSR20_probe1[:, 5]\n",
    "x20_probe3 = TSR20_probe3[:, 5]\n",
    "x20_probe5 = TSR20_probe5[:, 5]"
   ]
  },
  {
   "cell_type": "code",
   "execution_count": 117,
   "id": "8cb8152c",
   "metadata": {},
   "outputs": [],
   "source": [
    "x15_probe1 = x15_probe1.reshape((37, 1))\n",
    "x15_probe3 = x15_probe3.reshape((37, 1))\n",
    "x15_probe5 = x15_probe5.reshape((37, 1))\n",
    "x16_probe1 = x16_probe1.reshape((37, 1))\n",
    "x16_probe3 = x16_probe3.reshape((37, 1))\n",
    "x16_probe5 = x16_probe5.reshape((37, 1))\n",
    "x17_probe1 = x17_probe1.reshape((37, 1))\n",
    "x17_probe3 = x17_probe3.reshape((37, 1))\n",
    "x17_probe5 = x17_probe5.reshape((37, 1))\n",
    "x18_probe1 = x18_probe1.reshape((37, 1))\n",
    "x18_probe3 = x18_probe3.reshape((37, 1))\n",
    "x18_probe5 = x18_probe5.reshape((37, 1))\n",
    "x19_probe1 = x19_probe1.reshape((37, 1))\n",
    "x19_probe3 = x19_probe3.reshape((37, 1))\n",
    "x19_probe5 = x19_probe5.reshape((37, 1))\n",
    "x20_probe1 = x20_probe1.reshape((37, 1))\n",
    "x20_probe3 = x20_probe3.reshape((37, 1))\n",
    "x20_probe5 = x20_probe5.reshape((37, 1))"
   ]
  },
  {
   "cell_type": "code",
   "execution_count": 118,
   "id": "872a65d2",
   "metadata": {},
   "outputs": [
    {
     "name": "stdout",
     "output_type": "stream",
     "text": [
      "(37, 1)\n"
     ]
    }
   ],
   "source": [
    "print(x20_probe3.shape)"
   ]
  },
  {
   "cell_type": "code",
   "execution_count": 119,
   "id": "3c4a119d",
   "metadata": {},
   "outputs": [],
   "source": [
    "x_train15 = np.hstack((x15_probe1, x15_probe3, x15_probe5))\n",
    "x_train16 = np.hstack((x16_probe1, x16_probe3, x16_probe5))\n",
    "x_train17 = np.hstack((x17_probe1, x17_probe3, x17_probe5))\n",
    "x_train18 = np.hstack((x18_probe1, x18_probe3, x18_probe5))\n",
    "x_train19 = np.hstack((x19_probe1, x19_probe3, x19_probe5))\n",
    "x_train20 = np.hstack((x20_probe1, x20_probe3, x20_probe5))"
   ]
  },
  {
   "cell_type": "code",
   "execution_count": 120,
   "id": "ac5683fc",
   "metadata": {},
   "outputs": [],
   "source": [
    "x_train = np.vstack((x_train15, x_train16, x_train17, x_train18, x_train19, x_train20))"
   ]
  },
  {
   "cell_type": "code",
   "execution_count": 121,
   "id": "c1353974",
   "metadata": {
    "scrolled": true
   },
   "outputs": [
    {
     "name": "stdout",
     "output_type": "stream",
     "text": [
      "(222, 3)\n"
     ]
    }
   ],
   "source": [
    "print(x_train.shape)"
   ]
  },
  {
   "cell_type": "code",
   "execution_count": 123,
   "id": "3a256bd6",
   "metadata": {},
   "outputs": [],
   "source": [
    "x_train = x_train.reshape(222, 3, 1)"
   ]
  },
  {
   "cell_type": "code",
   "execution_count": 129,
   "id": "98b8e2a6",
   "metadata": {},
   "outputs": [
    {
     "name": "stdout",
     "output_type": "stream",
     "text": [
      "(222, 3, 1)\n"
     ]
    }
   ],
   "source": [
    "print(x_train.shape)"
   ]
  },
  {
   "cell_type": "code",
   "execution_count": null,
   "id": "888e8e4b",
   "metadata": {},
   "outputs": [],
   "source": [
    "os.chdir('E:\\\\ANN_tsr\\\\vorResults\\\\vorResults')"
   ]
  },
  {
   "cell_type": "code",
   "execution_count": null,
   "id": "9e1dbabf",
   "metadata": {},
   "outputs": [],
   "source": [
    "TSR15_000field = genfromtxt('1.5_dimlessVor.csv', delimiter=',')\n",
    "TSR15_010field = genfromtxt('1.5_dimlessVor.csv', delimiter=',')\n",
    "TSR15_020field = genfromtxt('1.5_dimlessVor.csv', delimiter=',')\n",
    "TSR15_030field = genfromtxt('1.5_dimlessVor.csv', delimiter=',')\n",
    "TSR15_040field = genfromtxt('1.5_dimlessVor.csv', delimiter=',')\n",
    "TSR15_050field = genfromtxt('1.5_dimlessVor.csv', delimiter=',')\n",
    "TSR15_060field = genfromtxt('1.5_dimlessVor.csv', delimiter=',')\n",
    "TSR15_070field = genfromtxt('1.5_dimlessVor.csv', delimiter=',')\n",
    "TSR15_080field = genfromtxt('1.5_dimlessVor.csv', delimiter=',')\n",
    "TSR15_090field = genfromtxt('1.5_dimlessVor.csv', delimiter=',')\n",
    "TSR15_100field = genfromtxt('1.5_dimlessVor.csv', delimiter=',')\n",
    "TSR15_110field = genfromtxt('1.5_dimlessVor.csv', delimiter=',')\n",
    "TSR15_120field = genfromtxt('1.5_dimlessVor.csv', delimiter=',')\n",
    "TSR15_130field = genfromtxt('1.5_dimlessVor.csv', delimiter=',')\n",
    "TSR15_140field = genfromtxt('1.5_dimlessVor.csv', delimiter=',')\n",
    "TSR15_150field = genfromtxt('1.5_dimlessVor.csv', delimiter=',')\n",
    "TSR15_160field = genfromtxt('1.5_dimlessVor.csv', delimiter=',')\n",
    "TSR15_170field = genfromtxt('1.5_dimlessVor.csv', delimiter=',')\n",
    "TSR15_180field = genfromtxt('1.5_dimlessVor.csv', delimiter=',')\n",
    "TSR15_190field = genfromtxt('1.5_dimlessVor.csv', delimiter=',')\n",
    "TSR15_200field = genfromtxt('1.5_dimlessVor.csv', delimiter=',')\n",
    "TSR15_210field = genfromtxt('1.5_dimlessVor.csv', delimiter=',')\n",
    "TSR15_220field = genfromtxt('1.5_dimlessVor.csv', delimiter=',')\n",
    "TSR15_230field = genfromtxt('1.5_dimlessVor.csv', delimiter=',')\n",
    "TSR15_240field = genfromtxt('1.5_dimlessVor.csv', delimiter=',')\n",
    "TSR15_250field = genfromtxt('1.5_dimlessVor.csv', delimiter=',')\n",
    "TSR15_260field = genfromtxt('1.5_dimlessVor.csv', delimiter=',')\n",
    "TSR15_270field = genfromtxt('1.5_dimlessVor.csv', delimiter=',')\n",
    "TSR15_280field = genfromtxt('1.5_dimlessVor.csv', delimiter=',')\n",
    "TSR15_290field = genfromtxt('1.5_dimlessVor.csv', delimiter=',')\n",
    "TSR15_300field = genfromtxt('1.5_dimlessVor.csv', delimiter=',')\n",
    "TSR15_310field = genfromtxt('1.5_dimlessVor.csv', delimiter=',')\n",
    "TSR15_320field = genfromtxt('1.5_dimlessVor.csv', delimiter=',')\n",
    "TSR15_330field = genfromtxt('1.5_dimlessVor.csv', delimiter=',')\n",
    "TSR15_340field = genfromtxt('1.5_dimlessVor.csv', delimiter=',')\n",
    "TSR15_350field = genfromtxt('1.5_dimlessVor.csv', delimiter=',')\n",
    "TSR15_360field = genfromtxt('1.5_dimlessVor.csv', delimiter=',')"
   ]
  },
  {
   "cell_type": "code",
   "execution_count": null,
   "id": "b1f8a7f0",
   "metadata": {},
   "outputs": [],
   "source": [
    "TSR16_000field = genfromtxt('1.6_dimlessVor.csv', delimiter=',')\n",
    "TSR16_010field = genfromtxt('1.6_dimlessVor.csv', delimiter=',')\n",
    "TSR16_020field = genfromtxt('1.6_dimlessVor.csv', delimiter=',')\n",
    "TSR16_030field = genfromtxt('1.6_dimlessVor.csv', delimiter=',')\n",
    "TSR16_040field = genfromtxt('1.6_dimlessVor.csv', delimiter=',')\n",
    "TSR16_050field = genfromtxt('1.6_dimlessVor.csv', delimiter=',')\n",
    "TSR16_060field = genfromtxt('1.6_dimlessVor.csv', delimiter=',')\n",
    "TSR16_070field = genfromtxt('1.6_dimlessVor.csv', delimiter=',')\n",
    "TSR16_080field = genfromtxt('1.6_dimlessVor.csv', delimiter=',')\n",
    "TSR16_090field = genfromtxt('1.6_dimlessVor.csv', delimiter=',')\n",
    "TSR16_100field = genfromtxt('1.6_dimlessVor.csv', delimiter=',')\n",
    "TSR16_110field = genfromtxt('1.6_dimlessVor.csv', delimiter=',')\n",
    "TSR16_120field = genfromtxt('1.6_dimlessVor.csv', delimiter=',')\n",
    "TSR16_130field = genfromtxt('1.6_dimlessVor.csv', delimiter=',')\n",
    "TSR16_140field = genfromtxt('1.6_dimlessVor.csv', delimiter=',')\n",
    "TSR16_150field = genfromtxt('1.6_dimlessVor.csv', delimiter=',')\n",
    "TSR16_160field = genfromtxt('1.6_dimlessVor.csv', delimiter=',')\n",
    "TSR16_170field = genfromtxt('1.6_dimlessVor.csv', delimiter=',')\n",
    "TSR16_180field = genfromtxt('1.6_dimlessVor.csv', delimiter=',')\n",
    "TSR16_190field = genfromtxt('1.6_dimlessVor.csv', delimiter=',')\n",
    "TSR16_200field = genfromtxt('1.6_dimlessVor.csv', delimiter=',')\n",
    "TSR16_210field = genfromtxt('1.6_dimlessVor.csv', delimiter=',')\n",
    "TSR16_220field = genfromtxt('1.6_dimlessVor.csv', delimiter=',')\n",
    "TSR16_230field = genfromtxt('1.6_dimlessVor.csv', delimiter=',')\n",
    "TSR16_240field = genfromtxt('1.6_dimlessVor.csv', delimiter=',')\n",
    "TSR16_250field = genfromtxt('1.6_dimlessVor.csv', delimiter=',')\n",
    "TSR16_260field = genfromtxt('1.6_dimlessVor.csv', delimiter=',')\n",
    "TSR16_270field = genfromtxt('1.6_dimlessVor.csv', delimiter=',')\n",
    "TSR16_280field = genfromtxt('1.6_dimlessVor.csv', delimiter=',')\n",
    "TSR16_290field = genfromtxt('1.6_dimlessVor.csv', delimiter=',')\n",
    "TSR16_300field = genfromtxt('1.6_dimlessVor.csv', delimiter=',')\n",
    "TSR16_310field = genfromtxt('1.6_dimlessVor.csv', delimiter=',')\n",
    "TSR16_320field = genfromtxt('1.6_dimlessVor.csv', delimiter=',')\n",
    "TSR16_330field = genfromtxt('1.6_dimlessVor.csv', delimiter=',')\n",
    "TSR16_340field = genfromtxt('1.6_dimlessVor.csv', delimiter=',')\n",
    "TSR16_350field = genfromtxt('1.6_dimlessVor.csv', delimiter=',')\n",
    "TSR16_360field = genfromtxt('1.6_dimlessVor.csv', delimiter=',')"
   ]
  },
  {
   "cell_type": "code",
   "execution_count": null,
   "id": "548b0dd9",
   "metadata": {},
   "outputs": [],
   "source": [
    "TSR17_000field = genfromtxt('1.7_dimlessVor.csv', delimiter=',')\n",
    "TSR17_010field = genfromtxt('1.7_dimlessVor.csv', delimiter=',')\n",
    "TSR17_020field = genfromtxt('1.7_dimlessVor.csv', delimiter=',')\n",
    "TSR17_030field = genfromtxt('1.7_dimlessVor.csv', delimiter=',')\n",
    "TSR17_040field = genfromtxt('1.7_dimlessVor.csv', delimiter=',')\n",
    "TSR17_050field = genfromtxt('1.7_dimlessVor.csv', delimiter=',')\n",
    "TSR17_060field = genfromtxt('1.7_dimlessVor.csv', delimiter=',')\n",
    "TSR17_070field = genfromtxt('1.7_dimlessVor.csv', delimiter=',')\n",
    "TSR17_080field = genfromtxt('1.7_dimlessVor.csv', delimiter=',')\n",
    "TSR17_090field = genfromtxt('1.7_dimlessVor.csv', delimiter=',')\n",
    "TSR17_100field = genfromtxt('1.7_dimlessVor.csv', delimiter=',')\n",
    "TSR17_110field = genfromtxt('1.7_dimlessVor.csv', delimiter=',')\n",
    "TSR17_120field = genfromtxt('1.7_dimlessVor.csv', delimiter=',')\n",
    "TSR17_130field = genfromtxt('1.7_dimlessVor.csv', delimiter=',')\n",
    "TSR17_140field = genfromtxt('1.7_dimlessVor.csv', delimiter=',')\n",
    "TSR17_150field = genfromtxt('1.7_dimlessVor.csv', delimiter=',')\n",
    "TSR17_160field = genfromtxt('1.7_dimlessVor.csv', delimiter=',')\n",
    "TSR17_170field = genfromtxt('1.7_dimlessVor.csv', delimiter=',')\n",
    "TSR17_180field = genfromtxt('1.7_dimlessVor.csv', delimiter=',')\n",
    "TSR17_190field = genfromtxt('1.7_dimlessVor.csv', delimiter=',')\n",
    "TSR17_200field = genfromtxt('1.7_dimlessVor.csv', delimiter=',')\n",
    "TSR17_210field = genfromtxt('1.7_dimlessVor.csv', delimiter=',')\n",
    "TSR17_220field = genfromtxt('1.7_dimlessVor.csv', delimiter=',')\n",
    "TSR17_230field = genfromtxt('1.7_dimlessVor.csv', delimiter=',')\n",
    "TSR17_240field = genfromtxt('1.7_dimlessVor.csv', delimiter=',')\n",
    "TSR17_250field = genfromtxt('1.7_dimlessVor.csv', delimiter=',')\n",
    "TSR17_260field = genfromtxt('1.7_dimlessVor.csv', delimiter=',')\n",
    "TSR17_270field = genfromtxt('1.7_dimlessVor.csv', delimiter=',')\n",
    "TSR17_280field = genfromtxt('1.7_dimlessVor.csv', delimiter=',')\n",
    "TSR17_290field = genfromtxt('1.7_dimlessVor.csv', delimiter=',')\n",
    "TSR17_300field = genfromtxt('1.7_dimlessVor.csv', delimiter=',')\n",
    "TSR17_310field = genfromtxt('1.7_dimlessVor.csv', delimiter=',')\n",
    "TSR17_320field = genfromtxt('1.7_dimlessVor.csv', delimiter=',')\n",
    "TSR17_330field = genfromtxt('1.7_dimlessVor.csv', delimiter=',')\n",
    "TSR17_340field = genfromtxt('1.7_dimlessVor.csv', delimiter=',')\n",
    "TSR17_350field = genfromtxt('1.7_dimlessVor.csv', delimiter=',')\n",
    "TSR17_360field = genfromtxt('1.7_dimlessVor.csv', delimiter=',')"
   ]
  },
  {
   "cell_type": "code",
   "execution_count": null,
   "id": "1a847488",
   "metadata": {},
   "outputs": [],
   "source": [
    "TSR18_000field = genfromtxt('1.8_dimlessVor.csv', delimiter=',')\n",
    "TSR18_010field = genfromtxt('1.8_dimlessVor.csv', delimiter=',')\n",
    "TSR18_020field = genfromtxt('1.8_dimlessVor.csv', delimiter=',')\n",
    "TSR18_030field = genfromtxt('1.8_dimlessVor.csv', delimiter=',')\n",
    "TSR18_040field = genfromtxt('1.8_dimlessVor.csv', delimiter=',')\n",
    "TSR18_050field = genfromtxt('1.8_dimlessVor.csv', delimiter=',')\n",
    "TSR18_060field = genfromtxt('1.8_dimlessVor.csv', delimiter=',')\n",
    "TSR18_070field = genfromtxt('1.8_dimlessVor.csv', delimiter=',')\n",
    "TSR18_080field = genfromtxt('1.8_dimlessVor.csv', delimiter=',')\n",
    "TSR18_090field = genfromtxt('1.8_dimlessVor.csv', delimiter=',')\n",
    "TSR18_100field = genfromtxt('1.8_dimlessVor.csv', delimiter=',')\n",
    "TSR18_110field = genfromtxt('1.8_dimlessVor.csv', delimiter=',')\n",
    "TSR18_120field = genfromtxt('1.8_dimlessVor.csv', delimiter=',')\n",
    "TSR18_130field = genfromtxt('1.8_dimlessVor.csv', delimiter=',')\n",
    "TSR18_140field = genfromtxt('1.8_dimlessVor.csv', delimiter=',')\n",
    "TSR18_150field = genfromtxt('1.8_dimlessVor.csv', delimiter=',')\n",
    "TSR18_160field = genfromtxt('1.8_dimlessVor.csv', delimiter=',')\n",
    "TSR18_170field = genfromtxt('1.8_dimlessVor.csv', delimiter=',')\n",
    "TSR18_180field = genfromtxt('1.8_dimlessVor.csv', delimiter=',')\n",
    "TSR18_190field = genfromtxt('1.8_dimlessVor.csv', delimiter=',')\n",
    "TSR18_200field = genfromtxt('1.8_dimlessVor.csv', delimiter=',')\n",
    "TSR18_210field = genfromtxt('1.8_dimlessVor.csv', delimiter=',')\n",
    "TSR18_220field = genfromtxt('1.8_dimlessVor.csv', delimiter=',')\n",
    "TSR18_230field = genfromtxt('1.8_dimlessVor.csv', delimiter=',')\n",
    "TSR18_240field = genfromtxt('1.8_dimlessVor.csv', delimiter=',')\n",
    "TSR18_250field = genfromtxt('1.8_dimlessVor.csv', delimiter=',')\n",
    "TSR18_260field = genfromtxt('1.8_dimlessVor.csv', delimiter=',')\n",
    "TSR18_270field = genfromtxt('1.8_dimlessVor.csv', delimiter=',')\n",
    "TSR18_280field = genfromtxt('1.8_dimlessVor.csv', delimiter=',')\n",
    "TSR18_290field = genfromtxt('1.8_dimlessVor.csv', delimiter=',')\n",
    "TSR18_300field = genfromtxt('1.8_dimlessVor.csv', delimiter=',')\n",
    "TSR18_310field = genfromtxt('1.8_dimlessVor.csv', delimiter=',')\n",
    "TSR18_320field = genfromtxt('1.8_dimlessVor.csv', delimiter=',')\n",
    "TSR18_330field = genfromtxt('1.8_dimlessVor.csv', delimiter=',')\n",
    "TSR18_340field = genfromtxt('1.8_dimlessVor.csv', delimiter=',')\n",
    "TSR18_350field = genfromtxt('1.8_dimlessVor.csv', delimiter=',')\n",
    "TSR18_360field = genfromtxt('1.8_dimlessVor.csv', delimiter=',')"
   ]
  },
  {
   "cell_type": "code",
   "execution_count": null,
   "id": "c549c207",
   "metadata": {},
   "outputs": [],
   "source": [
    "TSR19_000field = genfromtxt('1.9_dimlessVor.csv', delimiter=',')\n",
    "TSR19_010field = genfromtxt('1.9_dimlessVor.csv', delimiter=',')\n",
    "TSR19_020field = genfromtxt('1.9_dimlessVor.csv', delimiter=',')\n",
    "TSR19_030field = genfromtxt('1.9_dimlessVor.csv', delimiter=',')\n",
    "TSR19_040field = genfromtxt('1.9_dimlessVor.csv', delimiter=',')\n",
    "TSR19_050field = genfromtxt('1.9_dimlessVor.csv', delimiter=',')\n",
    "TSR19_060field = genfromtxt('1.9_dimlessVor.csv', delimiter=',')\n",
    "TSR19_070field = genfromtxt('1.9_dimlessVor.csv', delimiter=',')\n",
    "TSR19_080field = genfromtxt('1.9_dimlessVor.csv', delimiter=',')\n",
    "TSR19_090field = genfromtxt('1.9_dimlessVor.csv', delimiter=',')\n",
    "TSR19_100field = genfromtxt('1.9_dimlessVor.csv', delimiter=',')\n",
    "TSR19_110field = genfromtxt('1.9_dimlessVor.csv', delimiter=',')\n",
    "TSR19_120field = genfromtxt('1.9_dimlessVor.csv', delimiter=',')\n",
    "TSR19_130field = genfromtxt('1.9_dimlessVor.csv', delimiter=',')\n",
    "TSR19_140field = genfromtxt('1.9_dimlessVor.csv', delimiter=',')\n",
    "TSR19_150field = genfromtxt('1.9_dimlessVor.csv', delimiter=',')\n",
    "TSR19_160field = genfromtxt('1.9_dimlessVor.csv', delimiter=',')\n",
    "TSR19_170field = genfromtxt('1.9_dimlessVor.csv', delimiter=',')\n",
    "TSR19_180field = genfromtxt('1.9_dimlessVor.csv', delimiter=',')\n",
    "TSR19_190field = genfromtxt('1.9_dimlessVor.csv', delimiter=',')\n",
    "TSR19_200field = genfromtxt('1.9_dimlessVor.csv', delimiter=',')\n",
    "TSR19_210field = genfromtxt('1.9_dimlessVor.csv', delimiter=',')\n",
    "TSR19_220field = genfromtxt('1.9_dimlessVor.csv', delimiter=',')\n",
    "TSR19_230field = genfromtxt('1.9_dimlessVor.csv', delimiter=',')\n",
    "TSR19_240field = genfromtxt('1.9_dimlessVor.csv', delimiter=',')\n",
    "TSR19_250field = genfromtxt('1.9_dimlessVor.csv', delimiter=',')\n",
    "TSR19_260field = genfromtxt('1.9_dimlessVor.csv', delimiter=',')\n",
    "TSR19_270field = genfromtxt('1.9_dimlessVor.csv', delimiter=',')\n",
    "TSR19_280field = genfromtxt('1.9_dimlessVor.csv', delimiter=',')\n",
    "TSR19_290field = genfromtxt('1.9_dimlessVor.csv', delimiter=',')\n",
    "TSR19_300field = genfromtxt('1.9_dimlessVor.csv', delimiter=',')\n",
    "TSR19_310field = genfromtxt('1.9_dimlessVor.csv', delimiter=',')\n",
    "TSR19_320field = genfromtxt('1.9_dimlessVor.csv', delimiter=',')\n",
    "TSR19_330field = genfromtxt('1.9_dimlessVor.csv', delimiter=',')\n",
    "TSR19_340field = genfromtxt('1.9_dimlessVor.csv', delimiter=',')\n",
    "TSR19_350field = genfromtxt('1.9_dimlessVor.csv', delimiter=',')\n",
    "TSR19_360field = genfromtxt('1.9_dimlessVor.csv', delimiter=',')"
   ]
  },
  {
   "cell_type": "code",
   "execution_count": null,
   "id": "0d3d7668",
   "metadata": {},
   "outputs": [],
   "source": [
    "TSR20_000field = genfromtxt('2_dimlessVor.csv', delimiter=',')\n",
    "TSR20_010field = genfromtxt('2_dimlessVor.csv', delimiter=',')\n",
    "TSR20_020field = genfromtxt('2_dimlessVor.csv', delimiter=',')\n",
    "TSR20_030field = genfromtxt('2_dimlessVor.csv', delimiter=',')\n",
    "TSR20_040field = genfromtxt('2_dimlessVor.csv', delimiter=',')\n",
    "TSR20_050field = genfromtxt('2_dimlessVor.csv', delimiter=',')\n",
    "TSR20_060field = genfromtxt('2_dimlessVor.csv', delimiter=',')\n",
    "TSR20_070field = genfromtxt('2_dimlessVor.csv', delimiter=',')\n",
    "TSR20_080field = genfromtxt('2_dimlessVor.csv', delimiter=',')\n",
    "TSR20_090field = genfromtxt('2_dimlessVor.csv', delimiter=',')\n",
    "TSR20_100field = genfromtxt('2_dimlessVor.csv', delimiter=',')\n",
    "TSR20_110field = genfromtxt('2_dimlessVor.csv', delimiter=',')\n",
    "TSR20_120field = genfromtxt('2_dimlessVor.csv', delimiter=',')\n",
    "TSR20_130field = genfromtxt('2_dimlessVor.csv', delimiter=',')\n",
    "TSR20_140field = genfromtxt('2_dimlessVor.csv', delimiter=',')\n",
    "TSR20_150field = genfromtxt('2_dimlessVor.csv', delimiter=',')\n",
    "TSR20_160field = genfromtxt('2_dimlessVor.csv', delimiter=',')\n",
    "TSR20_170field = genfromtxt('2_dimlessVor.csv', delimiter=',')\n",
    "TSR20_180field = genfromtxt('2_dimlessVor.csv', delimiter=',')\n",
    "TSR20_190field = genfromtxt('2_dimlessVor.csv', delimiter=',')\n",
    "TSR20_200field = genfromtxt('2_dimlessVor.csv', delimiter=',')\n",
    "TSR20_210field = genfromtxt('2_dimlessVor.csv', delimiter=',')\n",
    "TSR20_220field = genfromtxt('2_dimlessVor.csv', delimiter=',')\n",
    "TSR20_230field = genfromtxt('2_dimlessVor.csv', delimiter=',')\n",
    "TSR20_240field = genfromtxt('2_dimlessVor.csv', delimiter=',')\n",
    "TSR20_250field = genfromtxt('2_dimlessVor.csv', delimiter=',')\n",
    "TSR20_260field = genfromtxt('2_dimlessVor.csv', delimiter=',')\n",
    "TSR20_270field = genfromtxt('2_dimlessVor.csv', delimiter=',')\n",
    "TSR20_280field = genfromtxt('2_dimlessVor.csv', delimiter=',')\n",
    "TSR20_290field = genfromtxt('2_dimlessVor.csv', delimiter=',')\n",
    "TSR20_300field = genfromtxt('2_dimlessVor.csv', delimiter=',')\n",
    "TSR20_310field = genfromtxt('2_dimlessVor.csv', delimiter=',')\n",
    "TSR20_320field = genfromtxt('2_dimlessVor.csv', delimiter=',')\n",
    "TSR20_330field = genfromtxt('2_dimlessVor.csv', delimiter=',')\n",
    "TSR20_340field = genfromtxt('2_dimlessVor.csv', delimiter=',')\n",
    "TSR20_350field = genfromtxt('2_dimlessVor.csv', delimiter=',')\n",
    "TSR20_360field = genfromtxt('2_dimlessVor.csv', delimiter=',')"
   ]
  },
  {
   "cell_type": "code",
   "execution_count": null,
   "id": "3c7ef1ba",
   "metadata": {},
   "outputs": [],
   "source": [
    "TSR15_field = np.vstack((TSR15_000field, TSR15_010field, TSR15_020field, TSR15_030field, TSR15_040field, TSR15_050field,\n",
    "                         TSR15_060field, TSR15_070field, TSR15_080field, TSR15_090field, TSR15_100field, TSR15_110field,\n",
    "                         TSR15_120field, TSR15_130field, TSR15_140field, TSR15_150field, TSR15_160field, TSR15_170field,\n",
    "                         TSR15_180field, TSR15_190field, TSR15_200field, TSR15_210field, TSR15_220field, TSR15_230field,\n",
    "                         TSR15_240field, TSR15_250field, TSR15_260field, TSR15_270field, TSR15_280field, TSR15_290field,\n",
    "                         TSR15_300field, TSR15_310field, TSR15_320field, TSR15_330field, TSR15_340field, TSR15_350field,\n",
    "                         TSR15_360field))\n",
    "TSR16_field = np.vstack((TSR16_000field, TSR16_010field, TSR16_020field, TSR16_030field, TSR16_040field, TSR16_050field,\n",
    "                         TSR16_060field, TSR16_070field, TSR16_080field, TSR16_090field, TSR16_100field, TSR16_110field,\n",
    "                         TSR16_120field, TSR16_130field, TSR16_140field, TSR16_150field, TSR16_160field, TSR16_170field,\n",
    "                         TSR16_180field, TSR16_190field, TSR16_200field, TSR16_210field, TSR16_220field, TSR16_230field,\n",
    "                         TSR16_240field, TSR16_250field, TSR16_260field, TSR16_270field, TSR16_280field, TSR16_290field,\n",
    "                         TSR16_300field, TSR16_310field, TSR16_320field, TSR16_330field, TSR16_340field, TSR16_350field,\n",
    "                         TSR16_360field))\n",
    "TSR17_field = np.vstack((TSR17_000field, TSR17_010field, TSR17_020field, TSR17_030field, TSR17_040field, TSR17_050field,\n",
    "                         TSR17_060field, TSR17_070field, TSR17_080field, TSR17_090field, TSR17_100field, TSR17_110field,\n",
    "                         TSR17_120field, TSR17_130field, TSR17_140field, TSR17_150field, TSR17_160field, TSR17_170field,\n",
    "                         TSR17_180field, TSR17_190field, TSR17_200field, TSR17_210field, TSR17_220field, TSR17_230field,\n",
    "                         TSR17_240field, TSR17_250field, TSR17_260field, TSR17_270field, TSR17_280field, TSR17_290field,\n",
    "                         TSR17_300field, TSR17_310field, TSR17_320field, TSR17_330field, TSR17_340field, TSR17_350field,\n",
    "                         TSR17_360field))\n",
    "TSR18_field = np.vstack((TSR18_000field, TSR18_010field, TSR18_020field, TSR18_030field, TSR18_040field, TSR18_050field,\n",
    "                         TSR18_060field, TSR18_070field, TSR18_080field, TSR18_090field, TSR18_100field, TSR18_110field,\n",
    "                         TSR18_120field, TSR18_130field, TSR18_140field, TSR18_150field, TSR18_160field, TSR18_170field,\n",
    "                         TSR18_180field, TSR18_190field, TSR18_200field, TSR18_210field, TSR18_220field, TSR18_230field,\n",
    "                         TSR18_240field, TSR18_250field, TSR18_260field, TSR18_270field, TSR18_280field, TSR18_290field,\n",
    "                         TSR18_300field, TSR18_310field, TSR18_320field, TSR18_330field, TSR18_340field, TSR18_350field,\n",
    "                         TSR18_360field))\n",
    "TSR19_field = np.vstack((TSR19_000field, TSR19_010field, TSR19_020field, TSR19_030field, TSR19_040field, TSR19_050field,\n",
    "                         TSR19_060field, TSR19_070field, TSR19_080field, TSR19_090field, TSR19_100field, TSR19_110field,\n",
    "                         TSR19_120field, TSR19_130field, TSR19_140field, TSR19_150field, TSR19_160field, TSR19_170field,\n",
    "                         TSR19_180field, TSR19_190field, TSR19_200field, TSR19_210field, TSR19_220field, TSR19_230field,\n",
    "                         TSR19_240field, TSR19_250field, TSR19_260field, TSR19_270field, TSR19_280field, TSR19_290field,\n",
    "                         TSR19_300field, TSR19_310field, TSR19_320field, TSR19_330field, TSR19_340field, TSR19_350field,\n",
    "                         TSR19_360field))\n",
    "TSR20_field = np.vstack((TSR20_000field, TSR20_010field, TSR20_020field, TSR20_030field, TSR20_040field, TSR20_050field,\n",
    "                         TSR20_060field, TSR20_070field, TSR20_080field, TSR20_090field, TSR20_100field, TSR20_110field,\n",
    "                         TSR20_120field, TSR20_130field, TSR20_140field, TSR20_150field, TSR20_160field, TSR20_170field,\n",
    "                         TSR20_180field, TSR20_190field, TSR20_200field, TSR20_210field, TSR20_220field, TSR20_230field,\n",
    "                         TSR20_240field, TSR20_250field, TSR20_260field, TSR20_270field, TSR20_280field, TSR20_290field,\n",
    "                         TSR20_300field, TSR20_310field, TSR20_320field, TSR20_330field, TSR20_340field, TSR20_350field,\n",
    "                         TSR20_360field))"
   ]
  },
  {
   "cell_type": "code",
   "execution_count": null,
   "id": "cae93c4a",
   "metadata": {},
   "outputs": [],
   "source": [
    "y_train = np.vstack((TSR15_field, TSR16_field, TSR17_field, TSR18_field, TSR19_field, TSR20_field))"
   ]
  },
  {
   "cell_type": "code",
   "execution_count": null,
   "id": "3790e487",
   "metadata": {},
   "outputs": [],
   "source": [
    "y_train = np.reshape(y_train, (222, 100, 100))"
   ]
  },
  {
   "cell_type": "code",
   "execution_count": null,
   "id": "fce449f1",
   "metadata": {},
   "outputs": [],
   "source": [
    "print(y_train.shape)"
   ]
  },
  {
   "cell_type": "code",
   "execution_count": 125,
   "id": "15b60b82",
   "metadata": {},
   "outputs": [],
   "source": [
    "os.chdir('C:\\\\Users\\\\User')"
   ]
  },
  {
   "cell_type": "code",
   "execution_count": 130,
   "id": "a0c859ab",
   "metadata": {},
   "outputs": [],
   "source": [
    "'''model = tf.keras.models.Sequential([tf.keras.layers.Dense(input_shape=(n_sensors,), units=5, activation='relu', name='inputLayer'),\n",
    "                                    tf.keras.layers.Dense(units=35, activation='relu', name='firstHiddenLayer'),\n",
    "                                    tf.keras.layers.BatchNormalization(),\n",
    "                                    tf.keras.layers.Dense(units=40, activation='relu', name='secondHiddenLayer'),\n",
    "                                    tf.keras.layers.BatchNormalization(),\n",
    "                                    tf.keras.layers.Dense(units=10000, activation=None, name='outputLayer')\n",
    "])\n",
    "'''\n",
    "# Noise가 첨가되지 않은 데이터이므로 dropout 층은 생략\n",
    "input_data = tf.keras.Input(shape=(n_sensors, 1))\n",
    "reshape = tf.keras.layers.Reshape((n_sensors,))(input_data)\n",
    "\n",
    "x = tf.keras.layers.Dense(units=35, activation='relu', name='firstHiddenLayer')(reshape)\n",
    "x = tf.keras.layers.BatchNormalization()(x)\n",
    "x = tf.keras.layers.Dense(units=40, activation='relu', name='secondHiddenLayer')(x)\n",
    "x = tf.keras.layers.BatchNormalization()(x)\n",
    "output_data = tf.keras.layers.Dense(units=10000, activation=None, name='outputLayer')(x)\n",
    "output_img = tf.keras.layers.Reshape((100,100))(output_data)\n",
    "# Shallow Decoder (SD)\n",
    "sd = tf.keras.Model(input_data, output_img)"
   ]
  },
  {
   "cell_type": "code",
   "execution_count": 131,
   "id": "6061294b",
   "metadata": {
    "scrolled": false
   },
   "outputs": [
    {
     "name": "stdout",
     "output_type": "stream",
     "text": [
      "Model: \"model_6\"\n",
      "_________________________________________________________________\n",
      " Layer (type)                Output Shape              Param #   \n",
      "=================================================================\n",
      " input_9 (InputLayer)        [(None, 3, 1)]            0         \n",
      "                                                                 \n",
      " reshape_2 (Reshape)         (None, 3)                 0         \n",
      "                                                                 \n",
      " firstHiddenLayer (Dense)    (None, 35)                140       \n",
      "                                                                 \n",
      " batch_normalization_12 (Bat  (None, 35)               140       \n",
      " chNormalization)                                                \n",
      "                                                                 \n",
      " secondHiddenLayer (Dense)   (None, 40)                1440      \n",
      "                                                                 \n",
      " batch_normalization_13 (Bat  (None, 40)               160       \n",
      " chNormalization)                                                \n",
      "                                                                 \n",
      " outputLayer (Dense)         (None, 10000)             410000    \n",
      "                                                                 \n",
      " reshape_3 (Reshape)         (None, 100, 100)          0         \n",
      "                                                                 \n",
      "=================================================================\n",
      "Total params: 411,880\n",
      "Trainable params: 411,730\n",
      "Non-trainable params: 150\n",
      "_________________________________________________________________\n"
     ]
    }
   ],
   "source": [
    "sd.summary()"
   ]
  },
  {
   "cell_type": "code",
   "execution_count": 128,
   "id": "16986b7a",
   "metadata": {},
   "outputs": [],
   "source": [
    "sd.compile(optimizer=tf.keras.optimizers.Adam(learning_rate=1e-04),\n",
    "              loss = tf.keras.losses.MeanSquaredError(),\n",
    "              metrics=[tf.keras.metrics.RootMeanSquaredError(name=\"rmse\")])"
   ]
  },
  {
   "cell_type": "code",
   "execution_count": 6,
   "id": "a75d0d82",
   "metadata": {},
   "outputs": [],
   "source": [
    "history = autoencoder.fit(x_train, y_train, epochs=10000, shuffle=True)"
   ]
  },
  {
   "cell_type": "code",
   "execution_count": null,
   "id": "fb1788c5",
   "metadata": {},
   "outputs": [],
   "source": [
    "hist = history.history\n",
    "plt.plot(hist['loss'], lw=2)\n",
    "plt.title('Training loss (mean squared error)', size=15)\n",
    "plt.xlabel('Epoch', size=15)\n",
    "plt.tick_params(axis='both', which='major', labelsize=15)\n",
    "plt.show()"
   ]
  },
  {
   "cell_type": "code",
   "execution_count": null,
   "id": "4cb2d834",
   "metadata": {},
   "outputs": [],
   "source": [
    "plt.plot(hist['rmse'], lw=2)\n",
    "plt.title('Root Mean Squared Error', size=15)\n",
    "plt.xlabel('Epoch', size=15)\n",
    "plt.tick_params(axis='both', which='major', labelsize=15)\n",
    "plt.show()"
   ]
  },
  {
   "cell_type": "code",
   "execution_count": null,
   "id": "2bfc3f46",
   "metadata": {},
   "outputs": [],
   "source": [
    "train0 = x_train[0].reshape(1,3,1)"
   ]
  },
  {
   "cell_type": "code",
   "execution_count": null,
   "id": "40f36ac2",
   "metadata": {},
   "outputs": [],
   "source": [
    "test_results = sd.evaluate(train0)"
   ]
  },
  {
   "cell_type": "code",
   "execution_count": null,
   "id": "6eeaca27",
   "metadata": {},
   "outputs": [],
   "source": [
    "decoded_imgs = sd.predict(train0)"
   ]
  },
  {
   "cell_type": "code",
   "execution_count": null,
   "id": "a073cdd1",
   "metadata": {},
   "outputs": [],
   "source": [
    "y_train0 = y_train[0].reshape(1, 100, 100)"
   ]
  },
  {
   "cell_type": "code",
   "execution_count": null,
   "id": "7ce0eb48",
   "metadata": {},
   "outputs": [],
   "source": [
    "error_train = np.abs(decoded_imgs - y_train0) / y_train0 * 100\n",
    "print(error_train)"
   ]
  },
  {
   "cell_type": "code",
   "execution_count": null,
   "id": "b3f588a7",
   "metadata": {},
   "outputs": [],
   "source": [
    "plt.figure(figsize=(8, 16))\n",
    "y_train0_rotate = y_train0.T.reshape(100, 100)\n",
    "decoded_rotate = decoded_imgs.T.reshape(100, 100)\n",
    "\n",
    "cmap = plt.get_cmap(parula_map, 11)\n",
    "xrange = np.linspace(-1, 1., 100)\n",
    "yrange = np.linspace(2, 4, 100)\n",
    "ymesh, xmesh = np.meshgrid(xrange, yrange)\n",
    "\n",
    "ax = plt.subplot(2, 1, 1)\n",
    "#plt.contourf(xtest_rotate2, vmin=3, vmax=10, levels=11, cmap=parula_map)\n",
    "#plt.contourf(xtest_rotate2, levels=11, cmap=parula_map)\n",
    "a1 = plt.contourf(xmesh, ymesh, y_train0_rotate.T, vmin=-0.5, vmax=0.5, levels=11, cmap=cmap)\n",
    "ax.set_xlabel('x/D', fontsize=15)\n",
    "ax.set_ylabel('y/D', fontsize=15)\n",
    "#ax.get_xaxis().set_visible(False)\n",
    "#ax.get_yaxis().set_visible(False)\n",
    "ax.set_title('Original test image', fontsize=15)\n",
    "\n",
    "# Display reconstruction\n",
    "ax = plt.subplot(2, 1, 2)\n",
    "#plt.contourf(decoded_rotate2, vmin=3, vmax=10, levels=11, cmap=parula_map)\n",
    "#plt.contourf(decoded_rotate2, levels=11, cmap=parula_map)\n",
    "a2 = plt.contourf(xmesh, ymesh, decoded_rotate.T, vmin=-0.5, vmax=0.5, levels=11, cmap=cmap)\n",
    "ax.set_xlabel('x/D', fontsize=15)\n",
    "ax.set_ylabel('y/D', fontsize=15)\n",
    "#ax.get_xaxis().set_visible(False)\n",
    "#ax.get_yaxis().set_visible(False)\n",
    "ax.set_title('Reconstructed image', fontsize=15)\n",
    "\n",
    "cax = plt.axes([0.95, 0.15, 0.075, 0.73])\n",
    "cbar = plt.colorbar(a2, cax=cax)\n",
    "cbar.set_label('Dimensionless vorticity', fontsize=15)\n",
    "#cbar.set_ticks([3, 4, 5, 6, 7, 8, 9, 10])\n",
    "\n",
    "plt.suptitle('Train dataset (TSR = 1.5, 0 degree)',fontsize=20)\n",
    "plt.show()"
   ]
  },
  {
   "cell_type": "code",
   "execution_count": null,
   "id": "17dfd62f",
   "metadata": {},
   "outputs": [],
   "source": [
    "error_train_rotate = error_train.T.reshape(100, 100)\n",
    "\n",
    "cmap = plt.get_cmap(parula_map, 11)\n",
    "\n",
    "fig5 = plt.figure(figsize = (8, 8))\n",
    "ax5 = fig5.add_subplot(111)\n",
    "mappable = ax5.contourf(xmesh, ymesh, error_train_rotate.T, levels=11, cmap=parula_map)\n",
    "ax5.set_title('Error between the original and the reconstructed image (TSR = 1.5)', fontsize=14)\n",
    "ax5.set_xlabel('x/D', fontsize=15)\n",
    "ax5.set_ylabel('y/D', fontsize=15)\n",
    "\n",
    "cax = plt.axes([0.95, 0.1, 0.075, 0.8])\n",
    "cbar = plt.colorbar(mappable, cax=cax)\n",
    "cbar.set_label('error [%]', fontsize=15)\n",
    "\n",
    "plt.show()"
   ]
  },
  {
   "cell_type": "code",
   "execution_count": null,
   "id": "a87f640e",
   "metadata": {},
   "outputs": [],
   "source": [
    "plt.figure(figsize=(16, 8))\n",
    "y_train0_rotate2 = y_train0.T.reshape(100, 100)\n",
    "decoded_rotate2 = decoded_imgs.T.reshape(100, 100)\n",
    "\n",
    "cmap = plt.get_cmap(parula_map, 11)\n",
    "xrange = np.linspace(-1, 1., 100)\n",
    "yrange = np.linspace(2, 4, 100)\n",
    "ymesh, xmesh = np.meshgrid(xrange, yrange)\n",
    "\n",
    "ax = plt.subplot(1, 2, 1)\n",
    "#plt.contourf(xtest_rotate2, vmin=3, vmax=10, levels=11, cmap=parula_map)\n",
    "#plt.contourf(xtest_rotate2, levels=11, cmap=parula_map)\n",
    "plt.contourf(xmesh, ymesh, y_train0_rotate2.T, vmin=-0.5, vmax=0.5, levels=11, cmap=cmap)\n",
    "ax.set_xlabel('x/D', fontsize=15)\n",
    "ax.set_ylabel('y/D', fontsize=15)\n",
    "#ax.get_xaxis().set_visible(False)\n",
    "#ax.get_yaxis().set_visible(False)\n",
    "ax.set_title('Original test image', fontsize=15)\n",
    "\n",
    "# Display reconstruction\n",
    "ax = plt.subplot(1, 2, 2)\n",
    "#plt.contourf(decoded_rotate2, vmin=3, vmax=10, levels=11, cmap=parula_map)\n",
    "#plt.contourf(decoded_rotate2, levels=11, cmap=parula_map)\n",
    "plt.contourf(xmesh, ymesh, decoded_rotate2.T, vmin=-0.5, vmax=0.5, levels=11, cmap=cmap)\n",
    "ax.set_xlabel('x/D', fontsize=15)\n",
    "ax.set_ylabel('y/D', fontsize=15)\n",
    "#ax.get_xaxis().set_visible(False)\n",
    "#ax.get_yaxis().set_visible(False)\n",
    "ax.set_title('Reconstructed image', fontsize=15)\n",
    "\n",
    "cax = plt.axes([0.95, 0.15, 0.05, 0.73])\n",
    "cbar = plt.colorbar(cax=cax)\n",
    "cbar.set_label('Dimensionless Vorticity', fontsize=15)\n",
    "\n",
    "plt.suptitle('Train dataset (TSR = 1.5, 0 degree)',fontsize=20)\n",
    "plt.show()"
   ]
  },
  {
   "cell_type": "code",
   "execution_count": null,
   "id": "7a8b7b61",
   "metadata": {},
   "outputs": [],
   "source": [
    "print(np.mean(error_train))"
   ]
  },
  {
   "cell_type": "code",
   "execution_count": null,
   "id": "5b2a9a88",
   "metadata": {},
   "outputs": [],
   "source": [
    "print(np.max(error_train))"
   ]
  },
  {
   "cell_type": "code",
   "execution_count": null,
   "id": "52e9d8a7",
   "metadata": {},
   "outputs": [],
   "source": [
    "test_results = sd.evaluate(x_test)"
   ]
  },
  {
   "cell_type": "code",
   "execution_count": null,
   "id": "233b0b9a",
   "metadata": {},
   "outputs": [],
   "source": [
    "decoded_test = sd.predict(x_test)"
   ]
  },
  {
   "cell_type": "code",
   "execution_count": null,
   "id": "3cda3788",
   "metadata": {},
   "outputs": [],
   "source": [
    "error_test = np.abs(decoded_test - x_test) / x_test * 100\n",
    "print(error_test)"
   ]
  },
  {
   "cell_type": "code",
   "execution_count": null,
   "id": "4b8ca918",
   "metadata": {},
   "outputs": [],
   "source": [
    "y_test = y_test[2].reshape(1, 100, 100)"
   ]
  },
  {
   "cell_type": "code",
   "execution_count": null,
   "id": "d7612a6c",
   "metadata": {},
   "outputs": [],
   "source": [
    "plt.figure(figsize=(16, 8))\n",
    "y_test2_rotate2 = y_test2.T.reshape(100, 100)\n",
    "decoded_rotate2 = decoded_test.T.reshape(100, 100)\n",
    "\n",
    "cmap = plt.get_cmap(parula_map, 11)\n",
    "xrange = np.linspace(-1, 1., 100)\n",
    "yrange = np.linspace(2, 4, 100)\n",
    "ymesh, xmesh = np.meshgrid(xrange, yrange)\n",
    "\n",
    "ax = plt.subplot(1, 2, 1)\n",
    "#plt.contourf(xtest_rotate2, vmin=3, vmax=10, levels=11, cmap=parula_map)\n",
    "#plt.contourf(xtest_rotate2, levels=11, cmap=parula_map)\n",
    "plt.contourf(xmesh, ymesh, y_test2_rotate2.T, vmin=-0.5, vmax=0.5, levels=11, cmap=cmap)\n",
    "ax.set_xlabel('x/D', fontsize=15)\n",
    "ax.set_ylabel('y/D', fontsize=15)\n",
    "#ax.get_xaxis().set_visible(False)\n",
    "#ax.get_yaxis().set_visible(False)\n",
    "ax.set_title('Original test image', fontsize=15)\n",
    "\n",
    "# Display reconstruction\n",
    "ax = plt.subplot(1, 2, 2)\n",
    "#plt.contourf(decoded_rotate2, vmin=3, vmax=10, levels=11, cmap=parula_map)\n",
    "#plt.contourf(decoded_rotate2, levels=11, cmap=parula_map)\n",
    "plt.contourf(xmesh, ymesh, decoded_rotate2.T, vmin=-0.5, vmax=0.5, levels=11, cmap=cmap)\n",
    "ax.set_xlabel('x/D', fontsize=15)\n",
    "ax.set_ylabel('y/D', fontsize=15)\n",
    "#ax.get_xaxis().set_visible(False)\n",
    "#ax.get_yaxis().set_visible(False)\n",
    "ax.set_title('Reconstructed image', fontsize=15)\n",
    "\n",
    "cax = plt.axes([0.95, 0.15, 0.05, 0.73])\n",
    "cbar = plt.colorbar(cax=cax)\n",
    "cbar.set_label('Dimensionless Vorticity', fontsize=15)\n",
    "\n",
    "plt.suptitle('Train dataset (TSR = 1.8, 0 degree)',fontsize=20)\n",
    "plt.show()"
   ]
  }
 ],
 "metadata": {
  "kernelspec": {
   "display_name": "Python 3 (ipykernel)",
   "language": "python",
   "name": "python3"
  },
  "language_info": {
   "codemirror_mode": {
    "name": "ipython",
    "version": 3
   },
   "file_extension": ".py",
   "mimetype": "text/x-python",
   "name": "python",
   "nbconvert_exporter": "python",
   "pygments_lexer": "ipython3",
   "version": "3.9.7"
  }
 },
 "nbformat": 4,
 "nbformat_minor": 5
}
