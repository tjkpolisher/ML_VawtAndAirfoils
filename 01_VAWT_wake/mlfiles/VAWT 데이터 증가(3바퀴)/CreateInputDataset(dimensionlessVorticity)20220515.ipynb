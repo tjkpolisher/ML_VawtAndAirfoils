{
 "cells": [
  {
   "cell_type": "code",
   "execution_count": 1,
   "id": "9675a9e8",
   "metadata": {},
   "outputs": [],
   "source": [
    "import os\n",
    "import numpy as np\n",
    "import pandas as pd\n",
    "import matplotlib.pyplot as plt\n",
    "%matplotlib inline"
   ]
  },
  {
   "cell_type": "code",
   "execution_count": 2,
   "id": "89e575e9",
   "metadata": {},
   "outputs": [],
   "source": [
    "#n_sensors = 3\n",
    "#n_sensors = 5\n",
    "#n_sensors = 10\n",
    "n_sensors = 15"
   ]
  },
  {
   "cell_type": "code",
   "execution_count": 3,
   "id": "4ccfe461",
   "metadata": {
    "scrolled": true
   },
   "outputs": [],
   "source": [
    "os.chdir('E:\\\\MLdataset\\\\vorticity_interpolation\\\\TSR1.5')"
   ]
  },
  {
   "cell_type": "code",
   "execution_count": 4,
   "id": "2464a908",
   "metadata": {},
   "outputs": [],
   "source": [
    "path = 'E:\\\\MLdataset\\\\TSR1.5_csv\\\\TSR1.5_csv\\\\'\n",
    "file_list15 = os.listdir('E:\\\\MLdataset\\\\TSR1.5_csv\\\\TSR1.5_csv')\n",
    "file_list_py15 = [file for file in file_list15 if file.endswith('.csv')]\n",
    "df15 = pd.DataFrame()\n",
    "for i in file_list_py15:\n",
    "    data = pd.read_csv(path + i, header=None)\n",
    "    df15 = pd.concat([df15, data], axis=0)"
   ]
  },
  {
   "cell_type": "code",
   "execution_count": 5,
   "id": "5fde56f6",
   "metadata": {},
   "outputs": [],
   "source": [
    "os.chdir('E:\\\\MLdataset\\\\TSR1.6_csv\\\\TSR1.6_csv')"
   ]
  },
  {
   "cell_type": "code",
   "execution_count": 6,
   "id": "6f0a3195",
   "metadata": {},
   "outputs": [],
   "source": [
    "path = 'E:\\\\MLdataset\\\\TSR1.6_csv\\\\TSR1.6_csv\\\\'\n",
    "file_list16 = os.listdir('E:\\\\MLdataset\\\\TSR1.6_csv\\\\TSR1.6_csv')\n",
    "file_list_py16 = [file for file in file_list16 if file.endswith('.csv')]\n",
    "df16 = pd.DataFrame()\n",
    "for i in file_list_py16:\n",
    "    data = pd.read_csv(path + i, header=None)\n",
    "    df16 = pd.concat([df16, data], axis=0)"
   ]
  },
  {
   "cell_type": "code",
   "execution_count": 7,
   "id": "2f87712b",
   "metadata": {},
   "outputs": [],
   "source": [
    "os.chdir('E:\\\\MLdataset\\\\TSR1.7_3rev_5deg\\\\TSR1.7_3rev_5deg')"
   ]
  },
  {
   "cell_type": "code",
   "execution_count": 8,
   "id": "93382bd3",
   "metadata": {},
   "outputs": [],
   "source": [
    "path = 'E:\\\\MLdataset\\\\TSR1.7_3rev_5deg\\\\TSR1.7_3rev_5deg\\\\'\n",
    "file_list17 = os.listdir('E:\\\\MLdataset\\\\TSR1.7_3rev_5deg\\\\TSR1.7_3rev_5deg')\n",
    "file_list_py17 = [file for file in file_list17 if file.endswith('.csv')]\n",
    "df17 = pd.DataFrame()\n",
    "for i in file_list_py17:\n",
    "    data = pd.read_csv(path + i, header=None)\n",
    "    df17 = pd.concat([df17, data], axis=0)"
   ]
  },
  {
   "cell_type": "code",
   "execution_count": 9,
   "id": "829e36a7",
   "metadata": {},
   "outputs": [],
   "source": [
    "os.chdir('E:\\\\MLdataset\\\\TSR1.8_csv\\\\TSR1.8_csv')"
   ]
  },
  {
   "cell_type": "code",
   "execution_count": 10,
   "id": "eb6bee53",
   "metadata": {},
   "outputs": [],
   "source": [
    "path = 'E:\\\\MLdataset\\\\TSR1.8_csv\\\\TSR1.8_csv\\\\'\n",
    "file_list18 = os.listdir('E:\\\\MLdataset\\\\TSR1.8_csv\\\\TSR1.8_csv')\n",
    "file_list_py18 = [file for file in file_list18 if file.endswith('.csv')]\n",
    "df18 = pd.DataFrame()\n",
    "for i in file_list_py18:\n",
    "    data = pd.read_csv(path + i, header=None)\n",
    "    df18 = pd.concat([df18, data], axis=0)"
   ]
  },
  {
   "cell_type": "code",
   "execution_count": 11,
   "id": "2e0ba56e",
   "metadata": {},
   "outputs": [],
   "source": [
    "os.chdir('E:\\\\MLdataset\\\\TSR1.9_csv\\\\TSR1.9_csv')"
   ]
  },
  {
   "cell_type": "code",
   "execution_count": 12,
   "id": "f97fcee0",
   "metadata": {},
   "outputs": [],
   "source": [
    "path = 'E:\\\\MLdataset\\\\TSR1.9_csv\\\\TSR1.9_csv\\\\'\n",
    "file_list19 = os.listdir('E:\\\\MLdataset\\\\TSR1.9_csv\\\\TSR1.9_csv')\n",
    "file_list_py19 = [file for file in file_list19 if file.endswith('.csv')]\n",
    "df19 = pd.DataFrame()\n",
    "for i in file_list_py19:\n",
    "    data = pd.read_csv(path + i, header=None)\n",
    "    df19 = pd.concat([df19, data], axis=0)"
   ]
  },
  {
   "cell_type": "code",
   "execution_count": 13,
   "id": "50e5a095",
   "metadata": {},
   "outputs": [],
   "source": [
    "os.chdir('E:\\\\MLdataset\\\\TSR2_csv\\\\TSR2_csv')"
   ]
  },
  {
   "cell_type": "code",
   "execution_count": 14,
   "id": "963a233b",
   "metadata": {},
   "outputs": [],
   "source": [
    "path = 'E:\\\\MLdataset\\\\TSR2_csv\\\\TSR2_csv\\\\'\n",
    "file_list20 = os.listdir('E:\\\\MLdataset\\\\TSR2_csv\\\\TSR2_csv')\n",
    "file_list_py20 = [file for file in file_list20 if file.endswith('.csv')]\n",
    "df20 = pd.DataFrame()\n",
    "for i in file_list_py20:\n",
    "    data = pd.read_csv(path + i, header=None)\n",
    "    df20 = pd.concat([df20, data], axis=0)"
   ]
  },
  {
   "cell_type": "code",
   "execution_count": 15,
   "id": "4e9a241b",
   "metadata": {},
   "outputs": [],
   "source": [
    "os.chdir('E:\\\\MLdataset')"
   ]
  },
  {
   "cell_type": "code",
   "execution_count": 16,
   "id": "73de9d32",
   "metadata": {},
   "outputs": [],
   "source": [
    "vor15 = df15.to_numpy(dtype='float32')\n",
    "vor16 = df16.to_numpy(dtype='float32')\n",
    "vor17 = df17.to_numpy(dtype='float32')\n",
    "vor18 = df18.to_numpy(dtype='float32')\n",
    "vor19 = df19.to_numpy(dtype='float32')\n",
    "vor20 = df20.to_numpy(dtype='float32')"
   ]
  },
  {
   "cell_type": "code",
   "execution_count": 17,
   "id": "c532e0fa",
   "metadata": {},
   "outputs": [],
   "source": [
    "v15 = vor15.reshape((217, 100, 100))\n",
    "v16 = vor16.reshape((217, 100, 100))\n",
    "v17 = vor17.reshape((217, 100, 100))\n",
    "v18 = vor18.reshape((217, 100, 100))\n",
    "v19 = vor19.reshape((217, 100, 100))\n",
    "v20 = vor20.reshape((217, 100, 100))"
   ]
  },
  {
   "cell_type": "code",
   "execution_count": 18,
   "id": "2df5c434",
   "metadata": {},
   "outputs": [],
   "source": [
    "x_train15 = np.zeros((217, 3, 5))\n",
    "for i in range(0, 217):\n",
    "    for j in range(0, 3):\n",
    "        for k in range(0, 5):\n",
    "            x_train15[i, j, k] = v15[i, 25*j, 13*k+23]\n",
    "x_train16 = np.zeros((217, 3, 5))\n",
    "for i in range(0, 217):\n",
    "    for j in range(0, 3):\n",
    "        for k in range(0, 5):\n",
    "            x_train16[i, j, k] = v16[i, 25*j, 13*k+23]\n",
    "x_train17 = np.zeros((217, 3, 5))\n",
    "for i in range(0, 217):\n",
    "    for j in range(0, 3):\n",
    "        for k in range(0, 5):\n",
    "            x_train17[i, j, k] = v17[i, 25*j, 13*k+23]\n",
    "x_train18 = np.zeros((217, 3, 5))\n",
    "for i in range(0, 217):\n",
    "    for j in range(0, 3):\n",
    "        for k in range(0, 5):\n",
    "            x_train18[i, j, k] = v18[i, 25*j, 13*k+23]\n",
    "x_train19 = np.zeros((217, 3, 5))\n",
    "for i in range(0, 217):\n",
    "    for j in range(0, 3):\n",
    "        for k in range(0, 5):\n",
    "            x_train19[i, j, k] = v19[i, 25*j, 13*k+23]\n",
    "x_train20 = np.zeros((217, 3, 5))\n",
    "for i in range(0, 217):\n",
    "    for j in range(0, 3):\n",
    "        for k in range(0, 5):\n",
    "            x_train20[i, j, k] = v20[i, 25*j, 13*k+23]"
   ]
  },
  {
   "cell_type": "code",
   "execution_count": 19,
   "id": "c8e10974",
   "metadata": {
    "scrolled": true
   },
   "outputs": [
    {
     "data": {
      "text/plain": [
       "array([[[-0.011075  ,  0.61225998,  0.022469  , -0.041157  ,\n",
       "         -0.065419  ],\n",
       "        [ 0.029312  ,  0.16134   ,  0.073005  , -0.001264  ,\n",
       "         -0.067523  ],\n",
       "        [ 0.15064   ,  0.070647  ,  0.0051201 , -0.027652  ,\n",
       "         -0.10223   ]],\n",
       "\n",
       "       [[-0.0058821 ,  0.62121999, -0.0050366 , -0.044391  ,\n",
       "         -0.064274  ],\n",
       "        [ 0.043147  ,  0.15734001,  0.065417  ,  0.0029061 ,\n",
       "         -0.076842  ],\n",
       "        [ 0.1159    ,  0.068597  ,  0.0076461 , -0.035891  ,\n",
       "         -0.10579   ]],\n",
       "\n",
       "       [[-0.0072923 ,  0.60508001, -0.032551  , -0.047902  ,\n",
       "         -0.066807  ],\n",
       "        [ 0.056707  ,  0.1516    ,  0.056716  ,  0.0063621 ,\n",
       "         -0.087979  ],\n",
       "        [ 0.081174  ,  0.067934  ,  0.0096331 , -0.044973  ,\n",
       "         -0.10951   ]],\n",
       "\n",
       "       ...,\n",
       "\n",
       "       [[-0.048306  ,  0.57712001,  0.059417  , -0.039639  ,\n",
       "         -0.078188  ],\n",
       "        [ 0.0070455 ,  0.17659999,  0.17563   , -0.012009  ,\n",
       "         -0.05859   ],\n",
       "        [ 0.14617001,  0.068849  ,  0.023338  , -0.027481  ,\n",
       "         -0.091588  ]],\n",
       "\n",
       "       [[-0.02998   ,  0.61556   ,  0.039146  , -0.040124  ,\n",
       "         -0.070467  ],\n",
       "        [ 0.015101  ,  0.17281   ,  0.16753   , -0.0062026 ,\n",
       "         -0.061017  ],\n",
       "        [ 0.12991001,  0.063386  ,  0.024526  , -0.034421  ,\n",
       "         -0.09488   ]],\n",
       "\n",
       "       [[-0.014869  ,  0.62851   ,  0.01267   , -0.042234  ,\n",
       "         -0.065917  ],\n",
       "        [ 0.025996  ,  0.16606   ,  0.15518001, -0.0010115 ,\n",
       "         -0.06697   ],\n",
       "        [ 0.10466   ,  0.05867   ,  0.025167  , -0.042572  ,\n",
       "         -0.097864  ]]])"
      ]
     },
     "execution_count": 19,
     "metadata": {},
     "output_type": "execute_result"
    }
   ],
   "source": [
    "x_train15"
   ]
  },
  {
   "cell_type": "code",
   "execution_count": 20,
   "id": "9c7b49b1",
   "metadata": {},
   "outputs": [
    {
     "data": {
      "text/plain": [
       "array([[-0.011075  ,  0.61225998,  0.022469  , ...,  0.0051201 ,\n",
       "        -0.027652  , -0.10223   ],\n",
       "       [-0.0058821 ,  0.62121999, -0.0050366 , ...,  0.0076461 ,\n",
       "        -0.035891  , -0.10579   ],\n",
       "       [-0.0072923 ,  0.60508001, -0.032551  , ...,  0.0096331 ,\n",
       "        -0.044973  , -0.10951   ],\n",
       "       ...,\n",
       "       [-0.048306  ,  0.57712001,  0.059417  , ...,  0.023338  ,\n",
       "        -0.027481  , -0.091588  ],\n",
       "       [-0.02998   ,  0.61556   ,  0.039146  , ...,  0.024526  ,\n",
       "        -0.034421  , -0.09488   ],\n",
       "       [-0.014869  ,  0.62851   ,  0.01267   , ...,  0.025167  ,\n",
       "        -0.042572  , -0.097864  ]])"
      ]
     },
     "execution_count": 20,
     "metadata": {},
     "output_type": "execute_result"
    }
   ],
   "source": [
    "x_train15.reshape((217, 15))"
   ]
  },
  {
   "cell_type": "code",
   "execution_count": 21,
   "id": "c70eb095",
   "metadata": {},
   "outputs": [],
   "source": [
    "x_5deg = np.vstack((x_train15.reshape((217, 15)), x_train16.reshape((217, 15)), x_train17.reshape((217, 15)),\n",
    "                    x_train18.reshape((217, 15)), x_train19.reshape((217, 15)), x_train20.reshape((217, 15))))"
   ]
  },
  {
   "cell_type": "code",
   "execution_count": 22,
   "id": "ecb5ccc8",
   "metadata": {},
   "outputs": [],
   "source": [
    "x_case2 = np.vstack((x_train15[:73,:].reshape((73, 15)), x_train16[:73,:].reshape((73, 15)), x_train17[:73,:].reshape((73, 15)),\n",
    "                    x_train18[:73,:].reshape((73, 15)), x_train19[:73,:].reshape((73, 15)), x_train20[:73,:].reshape((73, 15))))"
   ]
  },
  {
   "cell_type": "code",
   "execution_count": 23,
   "id": "9754d1e9",
   "metadata": {},
   "outputs": [
    {
     "name": "stdout",
     "output_type": "stream",
     "text": [
      "(1302, 15)\n"
     ]
    }
   ],
   "source": [
    "print(x_5deg.shape)"
   ]
  },
  {
   "cell_type": "code",
   "execution_count": 24,
   "id": "7dc33794",
   "metadata": {},
   "outputs": [],
   "source": [
    "x_train15_10deg = x_train15[::2].reshape(((36*3+1), 15))\n",
    "x_train16_10deg = x_train16[::2].reshape(((36*3+1), 15))\n",
    "x_train17_10deg = x_train17[::2].reshape(((36*3+1), 15))\n",
    "x_train18_10deg = x_train18[::2].reshape(((36*3+1), 15))\n",
    "x_train19_10deg = x_train19[::2].reshape(((36*3+1), 15))\n",
    "x_train20_10deg = x_train20[::2].reshape(((36*3+1), 15))"
   ]
  },
  {
   "cell_type": "code",
   "execution_count": 25,
   "id": "30a56b42",
   "metadata": {},
   "outputs": [],
   "source": [
    "x_10deg = np.vstack((x_train15_10deg, x_train16_10deg, x_train17_10deg, x_train18_10deg, x_train19_10deg, x_train20_10deg))"
   ]
  },
  {
   "cell_type": "code",
   "execution_count": 13,
   "id": "5095022a",
   "metadata": {},
   "outputs": [],
   "source": [
    "tsr_10deg = np.vstack((1.5*np.ones((36*3+1,1)), 1.6*np.ones((36*3+1,1)), 1.7*np.ones((36*3+1,1)), 1.8*np.ones((36*3+1,1)),\n",
    "                       1.9*np.ones((36*3+1,1)), 2.0*np.ones((36*3+1,1))))\n",
    "tsr_5deg = np.vstack((1.5*np.ones((72*3+1,1)), 1.6*np.ones((72*3+1,1)), 1.7*np.ones((72*3+1,1)), 1.8*np.ones((72*3+1,1)),\n",
    "                      1.9*np.ones((72*3+1,1)), 2.0*np.ones((72*3+1,1))))\n",
    "theta_10 = np.linspace(0, 1080, 36*3+1)\n",
    "theta_5 = np.linspace(0, 1080, 72*3+1)"
   ]
  },
  {
   "cell_type": "code",
   "execution_count": 27,
   "id": "5ceb7a72",
   "metadata": {
    "scrolled": true
   },
   "outputs": [
    {
     "data": {
      "text/plain": [
       "array([   0.,    5.,   10.,   15.,   20.,   25.,   30.,   35.,   40.,\n",
       "         45.,   50.,   55.,   60.,   65.,   70.,   75.,   80.,   85.,\n",
       "         90.,   95.,  100.,  105.,  110.,  115.,  120.,  125.,  130.,\n",
       "        135.,  140.,  145.,  150.,  155.,  160.,  165.,  170.,  175.,\n",
       "        180.,  185.,  190.,  195.,  200.,  205.,  210.,  215.,  220.,\n",
       "        225.,  230.,  235.,  240.,  245.,  250.,  255.,  260.,  265.,\n",
       "        270.,  275.,  280.,  285.,  290.,  295.,  300.,  305.,  310.,\n",
       "        315.,  320.,  325.,  330.,  335.,  340.,  345.,  350.,  355.,\n",
       "        360.,  365.,  370.,  375.,  380.,  385.,  390.,  395.,  400.,\n",
       "        405.,  410.,  415.,  420.,  425.,  430.,  435.,  440.,  445.,\n",
       "        450.,  455.,  460.,  465.,  470.,  475.,  480.,  485.,  490.,\n",
       "        495.,  500.,  505.,  510.,  515.,  520.,  525.,  530.,  535.,\n",
       "        540.,  545.,  550.,  555.,  560.,  565.,  570.,  575.,  580.,\n",
       "        585.,  590.,  595.,  600.,  605.,  610.,  615.,  620.,  625.,\n",
       "        630.,  635.,  640.,  645.,  650.,  655.,  660.,  665.,  670.,\n",
       "        675.,  680.,  685.,  690.,  695.,  700.,  705.,  710.,  715.,\n",
       "        720.,  725.,  730.,  735.,  740.,  745.,  750.,  755.,  760.,\n",
       "        765.,  770.,  775.,  780.,  785.,  790.,  795.,  800.,  805.,\n",
       "        810.,  815.,  820.,  825.,  830.,  835.,  840.,  845.,  850.,\n",
       "        855.,  860.,  865.,  870.,  875.,  880.,  885.,  890.,  895.,\n",
       "        900.,  905.,  910.,  915.,  920.,  925.,  930.,  935.,  940.,\n",
       "        945.,  950.,  955.,  960.,  965.,  970.,  975.,  980.,  985.,\n",
       "        990.,  995., 1000., 1005., 1010., 1015., 1020., 1025., 1030.,\n",
       "       1035., 1040., 1045., 1050., 1055., 1060., 1065., 1070., 1075.,\n",
       "       1080.])"
      ]
     },
     "execution_count": 27,
     "metadata": {},
     "output_type": "execute_result"
    }
   ],
   "source": [
    "theta_5"
   ]
  },
  {
   "cell_type": "code",
   "execution_count": 28,
   "id": "53310c17",
   "metadata": {},
   "outputs": [
    {
     "name": "stdout",
     "output_type": "stream",
     "text": [
      "(217,)\n"
     ]
    }
   ],
   "source": [
    "print(theta_5.shape)"
   ]
  },
  {
   "cell_type": "code",
   "execution_count": 29,
   "id": "1f23caf7",
   "metadata": {},
   "outputs": [],
   "source": [
    "theta_10 = theta_10.reshape(36*3+1,1)\n",
    "theta_5 = theta_5.reshape(72*3+1,1)"
   ]
  },
  {
   "cell_type": "code",
   "execution_count": 30,
   "id": "c86da2c2",
   "metadata": {},
   "outputs": [],
   "source": [
    "theta_10deg = np.vstack((theta_10, theta_10, theta_10, theta_10, theta_10, theta_10))"
   ]
  },
  {
   "cell_type": "code",
   "execution_count": 31,
   "id": "fbf21215",
   "metadata": {},
   "outputs": [],
   "source": [
    "theta_5deg = np.vstack((theta_5, theta_5, theta_5, theta_5, theta_5, theta_5))"
   ]
  },
  {
   "cell_type": "code",
   "execution_count": 32,
   "id": "d8c1bc3f",
   "metadata": {},
   "outputs": [],
   "source": [
    "theta_case2 = np.linspace(0, 360, 73).reshape((73, 1))\n",
    "theta_case2 = np.vstack((theta_case2, theta_case2, theta_case2, theta_case2, theta_case2, theta_case2))\n",
    "tsr_case2 = np.vstack((1.5*np.ones((73,1)), 1.6*np.ones((73,1)), 1.7*np.ones((73,1)), 1.8*np.ones((73,1)),\n",
    "                       1.9*np.ones((73,1)), 2.0*np.ones((73,1))))"
   ]
  },
  {
   "cell_type": "code",
   "execution_count": 33,
   "id": "a742d3e1",
   "metadata": {},
   "outputs": [],
   "source": [
    "x_sensor_10deg = np.hstack((x_10deg, tsr_10deg, theta_10deg))"
   ]
  },
  {
   "cell_type": "code",
   "execution_count": 34,
   "id": "b2ba4e8b",
   "metadata": {},
   "outputs": [],
   "source": [
    "x_sensor_5deg = np.hstack((x_5deg, tsr_5deg, theta_5deg))"
   ]
  },
  {
   "cell_type": "code",
   "execution_count": 35,
   "id": "6ed6521e",
   "metadata": {},
   "outputs": [
    {
     "data": {
      "text/plain": [
       "(654, 17)"
      ]
     },
     "execution_count": 35,
     "metadata": {},
     "output_type": "execute_result"
    }
   ],
   "source": [
    "x_sensor_10deg.shape"
   ]
  },
  {
   "cell_type": "code",
   "execution_count": 36,
   "id": "89921bc1",
   "metadata": {},
   "outputs": [],
   "source": [
    "x_case2 = np.hstack((x_case2, tsr_case2, theta_case2))"
   ]
  },
  {
   "cell_type": "code",
   "execution_count": 37,
   "id": "a332dcd6",
   "metadata": {
    "scrolled": true
   },
   "outputs": [
    {
     "data": {
      "text/plain": [
       "array([[-1.10750003e-02,  6.12259984e-01,  2.24690009e-02, ...,\n",
       "        -1.02229998e-01,  1.50000000e+00,  0.00000000e+00],\n",
       "       [-7.29230000e-03,  6.05080009e-01, -3.25510018e-02, ...,\n",
       "        -1.09509997e-01,  1.50000000e+00,  1.00000000e+01],\n",
       "       [-2.86799995e-03,  5.11039972e-01, -7.64190033e-02, ...,\n",
       "        -1.15850002e-01,  1.50000000e+00,  2.00000000e+01],\n",
       "       ...,\n",
       "       [ 5.32869995e-02,  4.82179999e-01, -4.90689993e-01, ...,\n",
       "        -1.11910000e-01,  2.00000000e+00,  1.06000000e+03],\n",
       "       [ 1.37449997e-02,  3.05990010e-01, -5.78679979e-01, ...,\n",
       "        -1.15209997e-01,  2.00000000e+00,  1.07000000e+03],\n",
       "       [-1.17450003e-02,  1.62009999e-01, -5.00389993e-01, ...,\n",
       "        -1.20030001e-01,  2.00000000e+00,  1.08000000e+03]])"
      ]
     },
     "execution_count": 37,
     "metadata": {},
     "output_type": "execute_result"
    }
   ],
   "source": [
    "x_sensor_10deg"
   ]
  },
  {
   "cell_type": "code",
   "execution_count": 38,
   "id": "23565074",
   "metadata": {},
   "outputs": [
    {
     "data": {
      "text/plain": [
       "array([[-1.10750003e-02,  6.12259984e-01,  2.24690009e-02, ...,\n",
       "        -1.02229998e-01,  1.50000000e+00,  0.00000000e+00],\n",
       "       [-5.88210020e-03,  6.21219993e-01, -5.03659993e-03, ...,\n",
       "        -1.05789997e-01,  1.50000000e+00,  5.00000000e+00],\n",
       "       [-7.29230000e-03,  6.05080009e-01, -3.25510018e-02, ...,\n",
       "        -1.09509997e-01,  1.50000000e+00,  1.00000000e+01],\n",
       "       ...,\n",
       "       [ 1.68319996e-02,  2.93419987e-01, -6.97849989e-01, ...,\n",
       "        -1.08609997e-01,  2.00000000e+00,  3.50000000e+02],\n",
       "       [ 1.65009999e-03,  2.18219995e-01, -7.20130026e-01, ...,\n",
       "        -1.09660000e-01,  2.00000000e+00,  3.55000000e+02],\n",
       "       [-9.91849974e-03,  1.50189996e-01, -6.85940027e-01, ...,\n",
       "        -1.11019999e-01,  2.00000000e+00,  3.60000000e+02]])"
      ]
     },
     "execution_count": 38,
     "metadata": {},
     "output_type": "execute_result"
    }
   ],
   "source": [
    "x_case2"
   ]
  },
  {
   "cell_type": "code",
   "execution_count": 39,
   "id": "12673e17",
   "metadata": {},
   "outputs": [],
   "source": [
    "np.savetxt('x_10degree_new.csv', x_sensor_10deg, delimiter=\",\")\n",
    "np.savetxt('x_5degree_new.csv', x_sensor_5deg, delimiter=\",\")"
   ]
  },
  {
   "cell_type": "code",
   "execution_count": 40,
   "id": "72dcd308",
   "metadata": {},
   "outputs": [],
   "source": [
    "np.savetxt('x_5degree_1rev_new.csv', x_case2, delimiter=\",\")"
   ]
  },
  {
   "cell_type": "code",
   "execution_count": 41,
   "id": "a068ab63",
   "metadata": {},
   "outputs": [],
   "source": [
    "x_case1 = np.vstack((x_train15[:37,:].reshape((37, 15)), x_train16[:37,:].reshape((37, 15)), x_train17[:37,:].reshape((37, 15)),\n",
    "                    x_train18[:37,:].reshape((37, 15)), x_train19[:37,:].reshape((37, 15)), x_train20[:37,:].reshape((37, 15))))"
   ]
  },
  {
   "cell_type": "code",
   "execution_count": 42,
   "id": "097571ed",
   "metadata": {},
   "outputs": [],
   "source": [
    "theta_case1 = np.linspace(0, 360, 37).reshape((37, 1))\n",
    "theta_case1 = np.vstack((theta_case1, theta_case1, theta_case1, theta_case1, theta_case1, theta_case1))\n",
    "tsr_case1 = np.vstack((1.5*np.ones((37,1)), 1.6*np.ones((37,1)), 1.7*np.ones((37,1)), 1.8*np.ones((37,1)),\n",
    "                       1.9*np.ones((37,1)), 2.0*np.ones((37,1))))"
   ]
  },
  {
   "cell_type": "code",
   "execution_count": 43,
   "id": "bbcae4a0",
   "metadata": {},
   "outputs": [],
   "source": [
    "x_case1 = np.hstack((x_case1, tsr_case1, theta_case1))"
   ]
  },
  {
   "cell_type": "code",
   "execution_count": 44,
   "id": "7ac20b38",
   "metadata": {},
   "outputs": [
    {
     "data": {
      "text/plain": [
       "array([[-1.10750003e-02,  6.12259984e-01,  2.24690009e-02, ...,\n",
       "        -1.02229998e-01,  1.50000000e+00,  0.00000000e+00],\n",
       "       [-5.88210020e-03,  6.21219993e-01, -5.03659993e-03, ...,\n",
       "        -1.05789997e-01,  1.50000000e+00,  1.00000000e+01],\n",
       "       [-7.29230000e-03,  6.05080009e-01, -3.25510018e-02, ...,\n",
       "        -1.09509997e-01,  1.50000000e+00,  2.00000000e+01],\n",
       "       ...,\n",
       "       [ 1.95960000e-01, -2.25380003e-01,  2.02680007e-01, ...,\n",
       "        -1.70790002e-01,  2.00000000e+00,  3.40000000e+02],\n",
       "       [ 2.19569996e-01, -3.31039995e-01,  2.51690000e-01, ...,\n",
       "        -1.68290004e-01,  2.00000000e+00,  3.50000000e+02],\n",
       "       [ 2.25930005e-01, -4.18150008e-01,  2.88159996e-01, ...,\n",
       "        -1.65580004e-01,  2.00000000e+00,  3.60000000e+02]])"
      ]
     },
     "execution_count": 44,
     "metadata": {},
     "output_type": "execute_result"
    }
   ],
   "source": [
    "x_case1"
   ]
  },
  {
   "cell_type": "code",
   "execution_count": 45,
   "id": "97ae1a69",
   "metadata": {},
   "outputs": [],
   "source": [
    "np.savetxt('x_10degree_1rev_new.csv', x_case1, delimiter=\",\")"
   ]
  },
  {
   "cell_type": "code",
   "execution_count": 46,
   "id": "587ec06b",
   "metadata": {},
   "outputs": [],
   "source": [
    "theta_120_5degree = np.linspace(0, 120, 25).reshape((25, 1))\n",
    "theta_120_10degree = np.linspace(0, 120, 13).reshape((13, 1))\n",
    "theta_120_5degree = np.vstack((theta_120_5degree, theta_120_5degree, theta_120_5degree,\n",
    "                               theta_120_5degree, theta_120_5degree, theta_120_5degree))\n",
    "theta_120_10degree = np.vstack((theta_120_10degree, theta_120_10degree, theta_120_10degree,\n",
    "                                theta_120_10degree, theta_120_10degree, theta_120_10degree))\n",
    "tsr_120_5degree = np.vstack((1.5*np.ones((25,1)), 1.6*np.ones((25,1)), 1.7*np.ones((25,1)), 1.8*np.ones((25,1)),\n",
    "                             1.9*np.ones((25,1)), 2.0*np.ones((25,1))))\n",
    "tsr_120_10degree = np.vstack((1.5*np.ones((13,1)), 1.6*np.ones((13,1)), 1.7*np.ones((13,1)), 1.8*np.ones((13,1)),\n",
    "                              1.9*np.ones((13,1)), 2.0*np.ones((13,1))))"
   ]
  },
  {
   "cell_type": "code",
   "execution_count": 47,
   "id": "2cfd4340",
   "metadata": {},
   "outputs": [],
   "source": [
    "x_120_5 = np.vstack((x_train15[:25,:].reshape((25, 15)), x_train16[:25,:].reshape((25, 15)),\n",
    "                     x_train17[:25,:].reshape((25, 15)), x_train18[:25,:].reshape((25, 15)),\n",
    "                     x_train19[:25,:].reshape((25, 15)), x_train20[:25,:].reshape((25, 15))))\n",
    "x_120_10 = np.vstack((x_train15_10deg[:13,:].reshape((13, 15)), x_train16_10deg[:13,:].reshape((13, 15)),\n",
    "                      x_train17_10deg[:13,:].reshape((13, 15)), x_train18_10deg[:13,:].reshape((13, 15)),\n",
    "                      x_train19_10deg[:13,:].reshape((13, 15)), x_train20_10deg[:13,:].reshape((13, 15))))"
   ]
  },
  {
   "cell_type": "code",
   "execution_count": 48,
   "id": "008869f9",
   "metadata": {},
   "outputs": [],
   "source": [
    "x_120_5degree = np.hstack((x_120_5, tsr_120_5degree, theta_120_5degree))\n",
    "x_120_10degree = np.hstack((x_120_10, tsr_120_10degree, theta_120_10degree))"
   ]
  },
  {
   "cell_type": "code",
   "execution_count": 49,
   "id": "fd06d139",
   "metadata": {},
   "outputs": [],
   "source": [
    "np.savetxt('x_120_5degree.csv', x_120_5degree, delimiter=\",\")\n",
    "np.savetxt('x_120_10degree.csv', x_120_10degree, delimiter=\",\")"
   ]
  },
  {
   "cell_type": "code",
   "execution_count": 53,
   "id": "22ed1f1f",
   "metadata": {},
   "outputs": [],
   "source": [
    "x_120_10degree_15train = x_train15_10deg[:13,:][::2].reshape((7, 15))\n",
    "x_120_10degree_16train = x_train16_10deg[:13,:][::2].reshape((7, 15))\n",
    "x_120_10degree_17train = x_train17_10deg[:13,:][::2].reshape((7, 15))\n",
    "x_120_10degree_18train = x_train18_10deg[:13,:][::2].reshape((7, 15))\n",
    "x_120_10degree_19train = x_train19_10deg[:13,:][::2].reshape((7, 15))\n",
    "x_120_10degree_20train = x_train20_10deg[:13,:][::2].reshape((7, 15))"
   ]
  },
  {
   "cell_type": "code",
   "execution_count": 65,
   "id": "b5a2145c",
   "metadata": {},
   "outputs": [],
   "source": [
    "x_120_10degree_15test = x_train15_10deg[:13,:][1::2].reshape((6, 15))\n",
    "x_120_10degree_16test = x_train16_10deg[:13,:][1::2].reshape((6, 15))\n",
    "x_120_10degree_17test = x_train17_10deg[:13,:][1::2].reshape((6, 15))\n",
    "x_120_10degree_18test = x_train18_10deg[:13,:][1::2].reshape((6, 15))\n",
    "x_120_10degree_19test = x_train19_10deg[:13,:][1::2].reshape((6, 15))\n",
    "x_120_10degree_20test = x_train20_10deg[:13,:][1::2].reshape((6, 15))"
   ]
  },
  {
   "cell_type": "code",
   "execution_count": 66,
   "id": "441f47fe",
   "metadata": {},
   "outputs": [],
   "source": [
    "x_120_case5_train = np.vstack((x_120_10degree_15train, x_120_10degree_16train,\n",
    "                               x_120_10degree_17train, x_120_10degree_18train,\n",
    "                               x_120_10degree_19train, x_120_10degree_20train))\n",
    "x_120_case5_test = np.vstack((x_120_10degree_15test, x_120_10degree_16test,\n",
    "                              x_120_10degree_17test, x_120_10degree_18test,\n",
    "                              x_120_10degree_19test, x_120_10degree_20test))"
   ]
  },
  {
   "cell_type": "code",
   "execution_count": 67,
   "id": "a360ab37",
   "metadata": {},
   "outputs": [],
   "source": [
    "tsr_120_case5_train = np.vstack((1.5*np.ones((7,1)), 1.6*np.ones((7,1)), 1.7*np.ones((7,1)), 1.8*np.ones((7,1)),\n",
    "                                 1.9*np.ones((7,1)), 2.0*np.ones((7,1))))\n",
    "tsr_120_case5_test = np.vstack((1.5*np.ones((6,1)), 1.6*np.ones((6,1)), 1.7*np.ones((6,1)), 1.8*np.ones((6,1)),\n",
    "                                1.9*np.ones((6,1)), 2.0*np.ones((6,1))))\n",
    "theta_120_case5_train = np.linspace(0, 120, 7).reshape((7, 1))\n",
    "theta_120_case5_test = np.linspace(10, 110, 6).reshape((6, 1))\n",
    "theta_120_case5_train = np.vstack((theta_120_case5_train, theta_120_case5_train, theta_120_case5_train,\n",
    "                                   theta_120_case5_train, theta_120_case5_train, theta_120_case5_train))\n",
    "theta_120_case5_test = np.vstack((theta_120_case5_test, theta_120_case5_test, theta_120_case5_test,\n",
    "                                  theta_120_case5_test, theta_120_case5_test, theta_120_case5_test))"
   ]
  },
  {
   "cell_type": "code",
   "execution_count": 69,
   "id": "05df4296",
   "metadata": {},
   "outputs": [],
   "source": [
    "x_case5_train = np.hstack((x_120_case5_train, tsr_120_case5_train, theta_120_case5_train))\n",
    "x_case5_test = np.hstack((x_120_case5_test, tsr_120_case5_test, theta_120_case5_test))"
   ]
  },
  {
   "cell_type": "code",
   "execution_count": 74,
   "id": "d897fd7c",
   "metadata": {},
   "outputs": [],
   "source": [
    "np.savetxt('x_case5_train.csv', x_case5_train, delimiter=\",\")\n",
    "np.savetxt('x_case5_test.csv', x_case5_test, delimiter=\",\")"
   ]
  },
  {
   "cell_type": "code",
   "execution_count": 76,
   "id": "3ea149f7",
   "metadata": {},
   "outputs": [],
   "source": [
    "x_120_5degree_15train = x_train15[:25,:][::2].reshape((13, 15))\n",
    "x_120_5degree_16train = x_train16[:25,:][::2].reshape((13, 15))\n",
    "x_120_5degree_17train = x_train17[:25,:][::2].reshape((13, 15))\n",
    "x_120_5degree_18train = x_train18[:25,:][::2].reshape((13, 15))\n",
    "x_120_5degree_19train = x_train19[:25,:][::2].reshape((13, 15))\n",
    "x_120_5degree_20train = x_train20[:25,:][::2].reshape((13, 15))"
   ]
  },
  {
   "cell_type": "code",
   "execution_count": 77,
   "id": "e07cd0f4",
   "metadata": {},
   "outputs": [],
   "source": [
    "x_120_5degree_15test = x_train15[:25,:][1::2].reshape((12, 15))\n",
    "x_120_5degree_16test = x_train16[:25,:][1::2].reshape((12, 15))\n",
    "x_120_5degree_17test = x_train17[:25,:][1::2].reshape((12, 15))\n",
    "x_120_5degree_18test = x_train18[:25,:][1::2].reshape((12, 15))\n",
    "x_120_5degree_19test = x_train19[:25,:][1::2].reshape((12, 15))\n",
    "x_120_5degree_20test = x_train20[:25,:][1::2].reshape((12, 15))"
   ]
  },
  {
   "cell_type": "code",
   "execution_count": 78,
   "id": "ed28a0cd",
   "metadata": {},
   "outputs": [],
   "source": [
    "x_120_case6_train = np.vstack((x_120_5degree_15train, x_120_5degree_16train,\n",
    "                               x_120_5degree_17train, x_120_5degree_18train,\n",
    "                               x_120_5degree_19train, x_120_5degree_20train))\n",
    "x_120_case6_test = np.vstack((x_120_5degree_15test, x_120_5degree_16test,\n",
    "                              x_120_5degree_17test, x_120_5degree_18test,\n",
    "                              x_120_5degree_19test, x_120_5degree_20test))"
   ]
  },
  {
   "cell_type": "code",
   "execution_count": 79,
   "id": "7896f805",
   "metadata": {},
   "outputs": [],
   "source": [
    "tsr_120_case6_train = np.vstack((1.5*np.ones((13,1)), 1.6*np.ones((13,1)), 1.7*np.ones((13,1)), 1.8*np.ones((13,1)),\n",
    "                                 1.9*np.ones((13,1)), 2.0*np.ones((13,1))))\n",
    "tsr_120_case6_test = np.vstack((1.5*np.ones((12,1)), 1.6*np.ones((12,1)), 1.7*np.ones((12,1)), 1.8*np.ones((12,1)),\n",
    "                                1.9*np.ones((12,1)), 2.0*np.ones((12,1))))\n",
    "theta_120_case6_train = np.linspace(0, 120, 13).reshape((13, 1))\n",
    "theta_120_case6_test = np.linspace(5, 115, 12).reshape((12, 1))\n",
    "theta_120_case6_train = np.vstack((theta_120_case6_train, theta_120_case6_train, theta_120_case6_train,\n",
    "                                   theta_120_case6_train, theta_120_case6_train, theta_120_case6_train))\n",
    "theta_120_case6_test = np.vstack((theta_120_case6_test, theta_120_case6_test, theta_120_case6_test,\n",
    "                                  theta_120_case6_test, theta_120_case6_test, theta_120_case6_test))"
   ]
  },
  {
   "cell_type": "code",
   "execution_count": 80,
   "id": "0bc2a681",
   "metadata": {},
   "outputs": [],
   "source": [
    "x_case6_train = np.hstack((x_120_case6_train, tsr_120_case6_train, theta_120_case6_train))\n",
    "x_case6_test = np.hstack((x_120_case6_test, tsr_120_case6_test, theta_120_case6_test))"
   ]
  },
  {
   "cell_type": "code",
   "execution_count": 81,
   "id": "c635b64b",
   "metadata": {},
   "outputs": [],
   "source": [
    "np.savetxt('x_case6_train.csv', x_case6_train, delimiter=\",\")\n",
    "np.savetxt('x_case6_test.csv', x_case6_test, delimiter=\",\")"
   ]
  },
  {
   "cell_type": "code",
   "execution_count": 3,
   "id": "f6c07c33",
   "metadata": {},
   "outputs": [],
   "source": [
    "os.chdir('E:\\\\MLdataset\\\\TSR1.75_vorticity\\\\TSR1.75_vorticity')"
   ]
  },
  {
   "cell_type": "code",
   "execution_count": 4,
   "id": "0dc70c4f",
   "metadata": {},
   "outputs": [],
   "source": [
    "path = 'E:\\\\MLdataset\\\\TSR1.75_vorticity\\\\TSR1.75_vorticity\\\\'\n",
    "file_list175 = os.listdir('E:\\\\MLdataset\\\\TSR1.75_vorticity\\\\TSR1.75_vorticity')\n",
    "file_list_py175 = [file for file in file_list175 if file.endswith('.csv')]\n",
    "df175 = pd.DataFrame()\n",
    "for i in file_list_py175:\n",
    "    data = pd.read_csv(path + i, header=None)\n",
    "    df175 = pd.concat([df175, data], axis=0)"
   ]
  },
  {
   "cell_type": "code",
   "execution_count": 5,
   "id": "524c750e",
   "metadata": {},
   "outputs": [],
   "source": [
    "os.chdir('E:\\\\MLdataset')"
   ]
  },
  {
   "cell_type": "code",
   "execution_count": 6,
   "id": "a04a1b6a",
   "metadata": {},
   "outputs": [],
   "source": [
    "vor175 = df175.to_numpy(dtype='float32')"
   ]
  },
  {
   "cell_type": "code",
   "execution_count": 7,
   "id": "cbed4681",
   "metadata": {},
   "outputs": [],
   "source": [
    "vor175_10deg = vor175.reshape((217, 100, 100))[::2].reshape(((36*3+1)*100, 100))"
   ]
  },
  {
   "cell_type": "code",
   "execution_count": 8,
   "id": "5db5636d",
   "metadata": {},
   "outputs": [],
   "source": [
    "y_175_5deg =vor175.reshape((72*3+1, 100, 100))"
   ]
  },
  {
   "cell_type": "code",
   "execution_count": 9,
   "id": "ab91e055",
   "metadata": {},
   "outputs": [],
   "source": [
    "v175 = vor175.reshape((217, 100, 100))"
   ]
  },
  {
   "cell_type": "code",
   "execution_count": 10,
   "id": "501fddf1",
   "metadata": {},
   "outputs": [],
   "source": [
    "x_train175 = np.zeros((217, 3, 5))\n",
    "for i in range(0, 217):\n",
    "    for j in range(0, 3):\n",
    "        for k in range(0, 5):\n",
    "            x_train175[i, j, k] = v175[i, 25*j, 13*k+23]"
   ]
  },
  {
   "cell_type": "code",
   "execution_count": 11,
   "id": "57497b8f",
   "metadata": {},
   "outputs": [],
   "source": [
    "x_train175_10deg = x_train175[::2].reshape(((36*3+1), 15))"
   ]
  },
  {
   "cell_type": "code",
   "execution_count": 15,
   "id": "7612ac18",
   "metadata": {},
   "outputs": [],
   "source": [
    "x_case175 = np.hstack((x_train175_10deg, 1.75*np.ones((36*3+1,1)).reshape((36*3+1, 1)), theta_10.reshape((-1,1))))"
   ]
  },
  {
   "cell_type": "code",
   "execution_count": 16,
   "id": "4daec0cf",
   "metadata": {},
   "outputs": [],
   "source": [
    "np.savetxt('x_175(10degree).csv', x_case175, delimiter=\",\")"
   ]
  },
  {
   "cell_type": "code",
   "execution_count": null,
   "id": "a7a1522f",
   "metadata": {},
   "outputs": [],
   "source": []
  }
 ],
 "metadata": {
  "kernelspec": {
   "display_name": "Python 3 (ipykernel)",
   "language": "python",
   "name": "python3"
  },
  "language_info": {
   "codemirror_mode": {
    "name": "ipython",
    "version": 3
   },
   "file_extension": ".py",
   "mimetype": "text/x-python",
   "name": "python",
   "nbconvert_exporter": "python",
   "pygments_lexer": "ipython3",
   "version": "3.9.13"
  }
 },
 "nbformat": 4,
 "nbformat_minor": 5
}
